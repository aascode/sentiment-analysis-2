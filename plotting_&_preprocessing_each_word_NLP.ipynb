{
  "nbformat": 4,
  "nbformat_minor": 0,
  "metadata": {
    "colab": {
      "name": "plotting & preprocessing each word NLP.ipynb",
      "provenance": [],
      "collapsed_sections": [],
      "machine_shape": "hm"
    },
    "kernelspec": {
      "name": "python3",
      "display_name": "Python 3"
    },
    "accelerator": "TPU"
  },
  "cells": [
    {
      "cell_type": "markdown",
      "metadata": {
        "id": "MvKwORjrfciW",
        "colab_type": "text"
      },
      "source": [
        "---\n",
        "# **1. Installation**\n",
        "---"
      ]
    },
    {
      "cell_type": "code",
      "metadata": {
        "id": "ziQyamb7gKSt",
        "colab_type": "code",
        "colab": {
          "base_uri": "https://localhost:8080/",
          "height": 1000
        },
        "outputId": "0a936750-63ea-4824-ac03-ac561c31d58a"
      },
      "source": [
        "!pip install nltk\n",
        "!pip install --upgrade git+https://github.com/flairNLP/flair.git\n",
        "!pip install textblob\n",
        "\n",
        "!pip install stanza\n",
        "!pip install spacy"
      ],
      "execution_count": 1,
      "outputs": [
        {
          "output_type": "stream",
          "text": [
            "Requirement already satisfied: nltk in /usr/local/lib/python3.6/dist-packages (3.2.5)\n",
            "Requirement already satisfied: six in /usr/local/lib/python3.6/dist-packages (from nltk) (1.15.0)\n",
            "Collecting git+https://github.com/flairNLP/flair.git\n",
            "  Cloning https://github.com/flairNLP/flair.git to /tmp/pip-req-build-oc2y2_e5\n",
            "  Running command git clone -q https://github.com/flairNLP/flair.git /tmp/pip-req-build-oc2y2_e5\n",
            "  Installing build dependencies ... \u001b[?25l\u001b[?25hdone\n",
            "  Getting requirements to build wheel ... \u001b[?25l\u001b[?25hdone\n",
            "    Preparing wheel metadata ... \u001b[?25l\u001b[?25hdone\n",
            "Requirement already satisfied, skipping upgrade: python-dateutil>=2.6.1 in /usr/local/lib/python3.6/dist-packages (from flair==0.6.0.post1) (2.8.1)\n",
            "Requirement already satisfied, skipping upgrade: sqlitedict>=1.6.0 in /usr/local/lib/python3.6/dist-packages (from flair==0.6.0.post1) (1.6.0)\n",
            "Requirement already satisfied, skipping upgrade: matplotlib>=2.2.3 in /usr/local/lib/python3.6/dist-packages (from flair==0.6.0.post1) (3.2.2)\n",
            "Requirement already satisfied, skipping upgrade: pytest>=5.3.2 in /usr/local/lib/python3.6/dist-packages (from flair==0.6.0.post1) (6.0.1)\n",
            "Requirement already satisfied, skipping upgrade: segtok>=1.5.7 in /usr/local/lib/python3.6/dist-packages (from flair==0.6.0.post1) (1.5.10)\n",
            "Requirement already satisfied, skipping upgrade: mpld3==0.3 in /usr/local/lib/python3.6/dist-packages (from flair==0.6.0.post1) (0.3)\n",
            "Requirement already satisfied, skipping upgrade: tqdm>=4.26.0 in /usr/local/lib/python3.6/dist-packages (from flair==0.6.0.post1) (4.41.1)\n",
            "Requirement already satisfied, skipping upgrade: scikit-learn>=0.21.3 in /usr/local/lib/python3.6/dist-packages (from flair==0.6.0.post1) (0.22.2.post1)\n",
            "Requirement already satisfied, skipping upgrade: lxml in /usr/local/lib/python3.6/dist-packages (from flair==0.6.0.post1) (4.2.6)\n",
            "Requirement already satisfied, skipping upgrade: transformers>=3.0.0 in /usr/local/lib/python3.6/dist-packages (from flair==0.6.0.post1) (3.1.0)\n",
            "Requirement already satisfied, skipping upgrade: hyperopt>=0.1.1 in /usr/local/lib/python3.6/dist-packages (from flair==0.6.0.post1) (0.1.2)\n",
            "Requirement already satisfied, skipping upgrade: langdetect in /usr/local/lib/python3.6/dist-packages (from flair==0.6.0.post1) (1.0.8)\n",
            "Requirement already satisfied, skipping upgrade: deprecated>=1.2.4 in /usr/local/lib/python3.6/dist-packages (from flair==0.6.0.post1) (1.2.10)\n",
            "Requirement already satisfied, skipping upgrade: ftfy in /usr/local/lib/python3.6/dist-packages (from flair==0.6.0.post1) (5.8)\n",
            "Requirement already satisfied, skipping upgrade: tabulate in /usr/local/lib/python3.6/dist-packages (from flair==0.6.0.post1) (0.8.7)\n",
            "Requirement already satisfied, skipping upgrade: torch>=1.1.0 in /usr/local/lib/python3.6/dist-packages (from flair==0.6.0.post1) (1.6.0+cu101)\n",
            "Requirement already satisfied, skipping upgrade: gensim>=3.4.0 in /usr/local/lib/python3.6/dist-packages (from flair==0.6.0.post1) (3.6.0)\n",
            "Requirement already satisfied, skipping upgrade: sentencepiece!=0.1.92 in /usr/local/lib/python3.6/dist-packages (from flair==0.6.0.post1) (0.1.91)\n",
            "Requirement already satisfied, skipping upgrade: bpemb>=0.3.2 in /usr/local/lib/python3.6/dist-packages (from flair==0.6.0.post1) (0.3.2)\n",
            "Requirement already satisfied, skipping upgrade: janome in /usr/local/lib/python3.6/dist-packages (from flair==0.6.0.post1) (0.4.0)\n",
            "Requirement already satisfied, skipping upgrade: regex in /usr/local/lib/python3.6/dist-packages (from flair==0.6.0.post1) (2019.12.20)\n",
            "Requirement already satisfied, skipping upgrade: konoha<5.0.0,>=4.0.0 in /usr/local/lib/python3.6/dist-packages (from flair==0.6.0.post1) (4.6.1)\n",
            "Requirement already satisfied, skipping upgrade: six>=1.5 in /usr/local/lib/python3.6/dist-packages (from python-dateutil>=2.6.1->flair==0.6.0.post1) (1.15.0)\n",
            "Requirement already satisfied, skipping upgrade: kiwisolver>=1.0.1 in /usr/local/lib/python3.6/dist-packages (from matplotlib>=2.2.3->flair==0.6.0.post1) (1.2.0)\n",
            "Requirement already satisfied, skipping upgrade: numpy>=1.11 in /usr/local/lib/python3.6/dist-packages (from matplotlib>=2.2.3->flair==0.6.0.post1) (1.18.5)\n",
            "Requirement already satisfied, skipping upgrade: pyparsing!=2.0.4,!=2.1.2,!=2.1.6,>=2.0.1 in /usr/local/lib/python3.6/dist-packages (from matplotlib>=2.2.3->flair==0.6.0.post1) (2.4.7)\n",
            "Requirement already satisfied, skipping upgrade: cycler>=0.10 in /usr/local/lib/python3.6/dist-packages (from matplotlib>=2.2.3->flair==0.6.0.post1) (0.10.0)\n",
            "Requirement already satisfied, skipping upgrade: packaging in /usr/local/lib/python3.6/dist-packages (from pytest>=5.3.2->flair==0.6.0.post1) (20.4)\n",
            "Requirement already satisfied, skipping upgrade: py>=1.8.2 in /usr/local/lib/python3.6/dist-packages (from pytest>=5.3.2->flair==0.6.0.post1) (1.9.0)\n",
            "Requirement already satisfied, skipping upgrade: iniconfig in /usr/local/lib/python3.6/dist-packages (from pytest>=5.3.2->flair==0.6.0.post1) (1.0.1)\n",
            "Requirement already satisfied, skipping upgrade: more-itertools>=4.0.0 in /usr/local/lib/python3.6/dist-packages (from pytest>=5.3.2->flair==0.6.0.post1) (8.4.0)\n",
            "Requirement already satisfied, skipping upgrade: pluggy<1.0,>=0.12 in /usr/local/lib/python3.6/dist-packages (from pytest>=5.3.2->flair==0.6.0.post1) (0.13.1)\n",
            "Requirement already satisfied, skipping upgrade: toml in /usr/local/lib/python3.6/dist-packages (from pytest>=5.3.2->flair==0.6.0.post1) (0.10.1)\n",
            "Requirement already satisfied, skipping upgrade: importlib-metadata>=0.12; python_version < \"3.8\" in /usr/local/lib/python3.6/dist-packages (from pytest>=5.3.2->flair==0.6.0.post1) (1.7.0)\n",
            "Requirement already satisfied, skipping upgrade: attrs>=17.4.0 in /usr/local/lib/python3.6/dist-packages (from pytest>=5.3.2->flair==0.6.0.post1) (20.1.0)\n",
            "Requirement already satisfied, skipping upgrade: scipy>=0.17.0 in /usr/local/lib/python3.6/dist-packages (from scikit-learn>=0.21.3->flair==0.6.0.post1) (1.4.1)\n",
            "Requirement already satisfied, skipping upgrade: joblib>=0.11 in /usr/local/lib/python3.6/dist-packages (from scikit-learn>=0.21.3->flair==0.6.0.post1) (0.16.0)\n",
            "Requirement already satisfied, skipping upgrade: dataclasses; python_version < \"3.7\" in /usr/local/lib/python3.6/dist-packages (from transformers>=3.0.0->flair==0.6.0.post1) (0.7)\n",
            "Requirement already satisfied, skipping upgrade: filelock in /usr/local/lib/python3.6/dist-packages (from transformers>=3.0.0->flair==0.6.0.post1) (3.0.12)\n",
            "Requirement already satisfied, skipping upgrade: sacremoses in /usr/local/lib/python3.6/dist-packages (from transformers>=3.0.0->flair==0.6.0.post1) (0.0.43)\n",
            "Requirement already satisfied, skipping upgrade: tokenizers==0.8.1.rc2 in /usr/local/lib/python3.6/dist-packages (from transformers>=3.0.0->flair==0.6.0.post1) (0.8.1rc2)\n",
            "Requirement already satisfied, skipping upgrade: requests in /usr/local/lib/python3.6/dist-packages (from transformers>=3.0.0->flair==0.6.0.post1) (2.23.0)\n",
            "Requirement already satisfied, skipping upgrade: future in /usr/local/lib/python3.6/dist-packages (from hyperopt>=0.1.1->flair==0.6.0.post1) (0.16.0)\n",
            "Requirement already satisfied, skipping upgrade: pymongo in /usr/local/lib/python3.6/dist-packages (from hyperopt>=0.1.1->flair==0.6.0.post1) (3.11.0)\n",
            "Requirement already satisfied, skipping upgrade: networkx in /usr/local/lib/python3.6/dist-packages (from hyperopt>=0.1.1->flair==0.6.0.post1) (2.5)\n",
            "Requirement already satisfied, skipping upgrade: wrapt<2,>=1.10 in /usr/local/lib/python3.6/dist-packages (from deprecated>=1.2.4->flair==0.6.0.post1) (1.12.1)\n",
            "Requirement already satisfied, skipping upgrade: wcwidth in /usr/local/lib/python3.6/dist-packages (from ftfy->flair==0.6.0.post1) (0.2.5)\n",
            "Requirement already satisfied, skipping upgrade: smart-open>=1.2.1 in /usr/local/lib/python3.6/dist-packages (from gensim>=3.4.0->flair==0.6.0.post1) (2.1.0)\n",
            "Requirement already satisfied, skipping upgrade: overrides==3.0.0 in /usr/local/lib/python3.6/dist-packages (from konoha<5.0.0,>=4.0.0->flair==0.6.0.post1) (3.0.0)\n",
            "Requirement already satisfied, skipping upgrade: zipp>=0.5 in /usr/local/lib/python3.6/dist-packages (from importlib-metadata>=0.12; python_version < \"3.8\"->pytest>=5.3.2->flair==0.6.0.post1) (3.1.0)\n",
            "Requirement already satisfied, skipping upgrade: click in /usr/local/lib/python3.6/dist-packages (from sacremoses->transformers>=3.0.0->flair==0.6.0.post1) (7.1.2)\n",
            "Requirement already satisfied, skipping upgrade: urllib3!=1.25.0,!=1.25.1,<1.26,>=1.21.1 in /usr/local/lib/python3.6/dist-packages (from requests->transformers>=3.0.0->flair==0.6.0.post1) (1.24.3)\n",
            "Requirement already satisfied, skipping upgrade: idna<3,>=2.5 in /usr/local/lib/python3.6/dist-packages (from requests->transformers>=3.0.0->flair==0.6.0.post1) (2.10)\n",
            "Requirement already satisfied, skipping upgrade: certifi>=2017.4.17 in /usr/local/lib/python3.6/dist-packages (from requests->transformers>=3.0.0->flair==0.6.0.post1) (2020.6.20)\n",
            "Requirement already satisfied, skipping upgrade: chardet<4,>=3.0.2 in /usr/local/lib/python3.6/dist-packages (from requests->transformers>=3.0.0->flair==0.6.0.post1) (3.0.4)\n",
            "Requirement already satisfied, skipping upgrade: decorator>=4.3.0 in /usr/local/lib/python3.6/dist-packages (from networkx->hyperopt>=0.1.1->flair==0.6.0.post1) (4.4.2)\n",
            "Requirement already satisfied, skipping upgrade: boto3 in /usr/local/lib/python3.6/dist-packages (from smart-open>=1.2.1->gensim>=3.4.0->flair==0.6.0.post1) (1.14.48)\n",
            "Requirement already satisfied, skipping upgrade: boto in /usr/local/lib/python3.6/dist-packages (from smart-open>=1.2.1->gensim>=3.4.0->flair==0.6.0.post1) (2.49.0)\n",
            "Requirement already satisfied, skipping upgrade: jmespath<1.0.0,>=0.7.1 in /usr/local/lib/python3.6/dist-packages (from boto3->smart-open>=1.2.1->gensim>=3.4.0->flair==0.6.0.post1) (0.10.0)\n",
            "Requirement already satisfied, skipping upgrade: botocore<1.18.0,>=1.17.48 in /usr/local/lib/python3.6/dist-packages (from boto3->smart-open>=1.2.1->gensim>=3.4.0->flair==0.6.0.post1) (1.17.48)\n",
            "Requirement already satisfied, skipping upgrade: s3transfer<0.4.0,>=0.3.0 in /usr/local/lib/python3.6/dist-packages (from boto3->smart-open>=1.2.1->gensim>=3.4.0->flair==0.6.0.post1) (0.3.3)\n",
            "Requirement already satisfied, skipping upgrade: docutils<0.16,>=0.10 in /usr/local/lib/python3.6/dist-packages (from botocore<1.18.0,>=1.17.48->boto3->smart-open>=1.2.1->gensim>=3.4.0->flair==0.6.0.post1) (0.15.2)\n",
            "Building wheels for collected packages: flair\n",
            "  Building wheel for flair (PEP 517) ... \u001b[?25l\u001b[?25hdone\n",
            "  Created wheel for flair: filename=flair-0.6.0.post1-cp36-none-any.whl size=187822 sha256=6ef03001e7b479919490e2307cc085e822cc24b406ac08080d4b28007ff8d18f\n",
            "  Stored in directory: /tmp/pip-ephem-wheel-cache-42ordv6_/wheels/84/82/73/d2b3b59b7be74ea05f2c6d64132efe27df52daffb47d1dc7bb\n",
            "Successfully built flair\n",
            "Installing collected packages: flair\n",
            "  Found existing installation: flair 0.6.0.post1\n",
            "    Uninstalling flair-0.6.0.post1:\n",
            "      Successfully uninstalled flair-0.6.0.post1\n",
            "Successfully installed flair-0.6.0.post1\n",
            "Requirement already satisfied: textblob in /usr/local/lib/python3.6/dist-packages (0.15.3)\n",
            "Requirement already satisfied: nltk>=3.1 in /usr/local/lib/python3.6/dist-packages (from textblob) (3.2.5)\n",
            "Requirement already satisfied: six in /usr/local/lib/python3.6/dist-packages (from nltk>=3.1->textblob) (1.15.0)\n",
            "Requirement already satisfied: stanza in /usr/local/lib/python3.6/dist-packages (1.1.1)\n",
            "Requirement already satisfied: numpy in /usr/local/lib/python3.6/dist-packages (from stanza) (1.18.5)\n",
            "Requirement already satisfied: requests in /usr/local/lib/python3.6/dist-packages (from stanza) (2.23.0)\n",
            "Requirement already satisfied: protobuf in /usr/local/lib/python3.6/dist-packages (from stanza) (3.12.4)\n",
            "Requirement already satisfied: tqdm in /usr/local/lib/python3.6/dist-packages (from stanza) (4.41.1)\n",
            "Requirement already satisfied: torch>=1.3.0 in /usr/local/lib/python3.6/dist-packages (from stanza) (1.6.0+cu101)\n",
            "Requirement already satisfied: certifi>=2017.4.17 in /usr/local/lib/python3.6/dist-packages (from requests->stanza) (2020.6.20)\n",
            "Requirement already satisfied: idna<3,>=2.5 in /usr/local/lib/python3.6/dist-packages (from requests->stanza) (2.10)\n",
            "Requirement already satisfied: chardet<4,>=3.0.2 in /usr/local/lib/python3.6/dist-packages (from requests->stanza) (3.0.4)\n",
            "Requirement already satisfied: urllib3!=1.25.0,!=1.25.1,<1.26,>=1.21.1 in /usr/local/lib/python3.6/dist-packages (from requests->stanza) (1.24.3)\n",
            "Requirement already satisfied: setuptools in /usr/local/lib/python3.6/dist-packages (from protobuf->stanza) (49.6.0)\n",
            "Requirement already satisfied: six>=1.9 in /usr/local/lib/python3.6/dist-packages (from protobuf->stanza) (1.15.0)\n",
            "Requirement already satisfied: future in /usr/local/lib/python3.6/dist-packages (from torch>=1.3.0->stanza) (0.16.0)\n",
            "Requirement already satisfied: spacy in /usr/local/lib/python3.6/dist-packages (2.2.4)\n",
            "Requirement already satisfied: wasabi<1.1.0,>=0.4.0 in /usr/local/lib/python3.6/dist-packages (from spacy) (0.7.1)\n",
            "Requirement already satisfied: numpy>=1.15.0 in /usr/local/lib/python3.6/dist-packages (from spacy) (1.18.5)\n",
            "Requirement already satisfied: thinc==7.4.0 in /usr/local/lib/python3.6/dist-packages (from spacy) (7.4.0)\n",
            "Requirement already satisfied: preshed<3.1.0,>=3.0.2 in /usr/local/lib/python3.6/dist-packages (from spacy) (3.0.2)\n",
            "Requirement already satisfied: tqdm<5.0.0,>=4.38.0 in /usr/local/lib/python3.6/dist-packages (from spacy) (4.41.1)\n",
            "Requirement already satisfied: requests<3.0.0,>=2.13.0 in /usr/local/lib/python3.6/dist-packages (from spacy) (2.23.0)\n",
            "Requirement already satisfied: cymem<2.1.0,>=2.0.2 in /usr/local/lib/python3.6/dist-packages (from spacy) (2.0.3)\n",
            "Requirement already satisfied: setuptools in /usr/local/lib/python3.6/dist-packages (from spacy) (49.6.0)\n",
            "Requirement already satisfied: blis<0.5.0,>=0.4.0 in /usr/local/lib/python3.6/dist-packages (from spacy) (0.4.1)\n",
            "Requirement already satisfied: murmurhash<1.1.0,>=0.28.0 in /usr/local/lib/python3.6/dist-packages (from spacy) (1.0.2)\n",
            "Requirement already satisfied: srsly<1.1.0,>=1.0.2 in /usr/local/lib/python3.6/dist-packages (from spacy) (1.0.2)\n",
            "Requirement already satisfied: plac<1.2.0,>=0.9.6 in /usr/local/lib/python3.6/dist-packages (from spacy) (1.1.3)\n",
            "Requirement already satisfied: catalogue<1.1.0,>=0.0.7 in /usr/local/lib/python3.6/dist-packages (from spacy) (1.0.0)\n",
            "Requirement already satisfied: idna<3,>=2.5 in /usr/local/lib/python3.6/dist-packages (from requests<3.0.0,>=2.13.0->spacy) (2.10)\n",
            "Requirement already satisfied: urllib3!=1.25.0,!=1.25.1,<1.26,>=1.21.1 in /usr/local/lib/python3.6/dist-packages (from requests<3.0.0,>=2.13.0->spacy) (1.24.3)\n",
            "Requirement already satisfied: certifi>=2017.4.17 in /usr/local/lib/python3.6/dist-packages (from requests<3.0.0,>=2.13.0->spacy) (2020.6.20)\n",
            "Requirement already satisfied: chardet<4,>=3.0.2 in /usr/local/lib/python3.6/dist-packages (from requests<3.0.0,>=2.13.0->spacy) (3.0.4)\n",
            "Requirement already satisfied: importlib-metadata>=0.20; python_version < \"3.8\" in /usr/local/lib/python3.6/dist-packages (from catalogue<1.1.0,>=0.0.7->spacy) (1.7.0)\n",
            "Requirement already satisfied: zipp>=0.5 in /usr/local/lib/python3.6/dist-packages (from importlib-metadata>=0.20; python_version < \"3.8\"->catalogue<1.1.0,>=0.0.7->spacy) (3.1.0)\n"
          ],
          "name": "stdout"
        }
      ]
    },
    {
      "cell_type": "markdown",
      "metadata": {
        "id": "PkUNmwjYfj8n",
        "colab_type": "text"
      },
      "source": [
        "---\n",
        "# **2. Imports**\n",
        "---"
      ]
    },
    {
      "cell_type": "markdown",
      "metadata": {
        "id": "2UcFnP3qfssO",
        "colab_type": "text"
      },
      "source": [
        "### i. core"
      ]
    },
    {
      "cell_type": "code",
      "metadata": {
        "id": "HTS6dvWgjTRK",
        "colab_type": "code",
        "colab": {}
      },
      "source": [
        "import re\n",
        "import numpy as np\n",
        "import pandas as pd\n",
        "import matplotlib.pyplot as plt"
      ],
      "execution_count": 2,
      "outputs": []
    },
    {
      "cell_type": "markdown",
      "metadata": {
        "id": "bAjiaWM-fr7F",
        "colab_type": "text"
      },
      "source": [
        "### ii. NLTK Vader Sentiment Intensity Analyzer"
      ]
    },
    {
      "cell_type": "code",
      "metadata": {
        "id": "jK5w_s6Kge2W",
        "colab_type": "code",
        "colab": {
          "base_uri": "https://localhost:8080/",
          "height": 104
        },
        "outputId": "30c9a4e6-5f0f-40f0-f30b-a1128d2234ce"
      },
      "source": [
        "import nltk\n",
        "from nltk.sentiment.vader import SentimentIntensityAnalyzer\n",
        "nltk.download('vader_lexicon')\n",
        "SIA = SentimentIntensityAnalyzer()"
      ],
      "execution_count": 3,
      "outputs": [
        {
          "output_type": "stream",
          "text": [
            "[nltk_data] Downloading package vader_lexicon to /root/nltk_data...\n",
            "[nltk_data]   Package vader_lexicon is already up-to-date!\n"
          ],
          "name": "stdout"
        },
        {
          "output_type": "stream",
          "text": [
            "/usr/local/lib/python3.6/dist-packages/nltk/twitter/__init__.py:20: UserWarning: The twython library has not been installed. Some functionality from the twitter package will not be available.\n",
            "  warnings.warn(\"The twython library has not been installed. \"\n"
          ],
          "name": "stderr"
        }
      ]
    },
    {
      "cell_type": "markdown",
      "metadata": {
        "id": "zftnZsPZf0iN",
        "colab_type": "text"
      },
      "source": [
        "### iii. Stanza"
      ]
    },
    {
      "cell_type": "code",
      "metadata": {
        "id": "plBOpEiwpmNp",
        "colab_type": "code",
        "colab": {
          "base_uri": "https://localhost:8080/",
          "height": 638
        },
        "outputId": "dff6790a-c015-4867-b4e2-8f365337169b"
      },
      "source": [
        "import stanza\n",
        "stanza.download('en', package='ewt', processors='tokenize,sentiment', verbose=True)\n",
        "stanza.download('en', package='default', processors='tokenize,sentiment', verbose=True)\n",
        "stNLP = stanza.Pipeline(processors='tokenize,sentiment', lang='en', use_gpu=True)"
      ],
      "execution_count": 4,
      "outputs": [
        {
          "output_type": "stream",
          "text": [
            "Downloading https://raw.githubusercontent.com/stanfordnlp/stanza-resources/master/resources_1.1.0.json: 122kB [00:00, 13.5MB/s]                    \n",
            "2020-09-04 08:04:58 WARNING: Can not find sentiment: ewt from official model list. Ignoring it.\n",
            "2020-09-04 08:04:58 INFO: Downloading these customized packages for language: en (English)...\n",
            "=======================\n",
            "| Processor | Package |\n",
            "-----------------------\n",
            "| tokenize  | ewt     |\n",
            "=======================\n",
            "\n",
            "2020-09-04 08:04:58 INFO: File exists: /root/stanza_resources/en/tokenize/ewt.pt.\n",
            "2020-09-04 08:04:58 INFO: Finished downloading models and saved to /root/stanza_resources.\n",
            "Downloading https://raw.githubusercontent.com/stanfordnlp/stanza-resources/master/resources_1.1.0.json: 122kB [00:00, 12.1MB/s]                    \n",
            "2020-09-04 08:04:58 INFO: Downloading these customized packages for language: en (English)...\n",
            "=======================\n",
            "| Processor | Package |\n",
            "-----------------------\n",
            "| tokenize  | ewt     |\n",
            "| sentiment | sstplus |\n",
            "| pretrain  | ewt     |\n",
            "=======================\n",
            "\n",
            "2020-09-04 08:04:58 INFO: File exists: /root/stanza_resources/en/tokenize/ewt.pt.\n",
            "2020-09-04 08:04:58 INFO: File exists: /root/stanza_resources/en/sentiment/sstplus.pt.\n",
            "2020-09-04 08:04:59 INFO: File exists: /root/stanza_resources/en/pretrain/ewt.pt.\n",
            "2020-09-04 08:04:59 INFO: Finished downloading models and saved to /root/stanza_resources.\n",
            "2020-09-04 08:04:59 INFO: Loading these models for language: en (English):\n",
            "=======================\n",
            "| Processor | Package |\n",
            "-----------------------\n",
            "| tokenize  | ewt     |\n",
            "| sentiment | sstplus |\n",
            "=======================\n",
            "\n",
            "2020-09-04 08:04:59 INFO: Use device: cpu\n",
            "2020-09-04 08:04:59 INFO: Loading: tokenize\n",
            "2020-09-04 08:04:59 INFO: Loading: sentiment\n",
            "2020-09-04 08:05:00 INFO: Done loading processors!\n"
          ],
          "name": "stderr"
        }
      ]
    },
    {
      "cell_type": "markdown",
      "metadata": {
        "id": "68fKZ5sHf8_v",
        "colab_type": "text"
      },
      "source": [
        "### iv. Spacy Text Categorizer"
      ]
    },
    {
      "cell_type": "code",
      "metadata": {
        "id": "bXKsPUNj5ovs",
        "colab_type": "code",
        "colab": {
          "base_uri": "https://localhost:8080/",
          "height": 1000
        },
        "outputId": "d258d9e6-0541-4c6f-bfdb-f2b77228d8dd"
      },
      "source": [
        "import random\n",
        "import spacy\n",
        "from spacy.util import minibatch\n",
        "from spacy.pipeline import TextCategorizer\n",
        "spacy.prefer_gpu()\n",
        "\n",
        "TRAIN_DATA = [\n",
        "    [\"My little kitty is so special\", {\"Cat\": True}],\n",
        "    [\"Dude, Totally, Yeah, Video Games\", {\"Cat\": False}],\n",
        "    [\"Should I pay $1,000 for the iPhone X?\", {\"Cat\": False}],\n",
        "    [\"The iPhone 8 reviews are here\", {\"Cat\": False}],\n",
        "    [\"Noa is a great cat name.\", {\"Cat\": True}],\n",
        "    [\"We got a new kitten!\", {\"Cat\": True}]\n",
        "]\n",
        "\n",
        "nlp = spacy.load(\"en_core_web_sm\")\n",
        "category = nlp.create_pipe(\"textcat\", config={\"exclusive_classes\": True})\n",
        "nlp.add_pipe(category)\n",
        "\n",
        "# add label to text classifier\n",
        "category.add_label(\"Cat\")\n",
        "category.add_label('False')\n",
        "\n",
        "optimizer = nlp.begin_training()\n",
        "losses = {}\n",
        "\n",
        "for i in range(100):\n",
        "    random.shuffle(TRAIN_DATA)\n",
        "\n",
        "    for batch in minibatch(TRAIN_DATA, size=8):\n",
        "        texts = [nlp(text) for text, entities in batch]\n",
        "        annotations = [{\"cats\": entities} for text, entities in batch]\n",
        "        nlp.update(texts, annotations, sgd=optimizer, losses=losses)\n",
        "    print(i, losses)"
      ],
      "execution_count": 5,
      "outputs": [
        {
          "output_type": "stream",
          "text": [
            "0 {'textcat': 0.0069444444961845875, 'tagger': 0.4249240756034851, 'ner': 0.0, 'parser': 0.0}\n",
            "1 {'textcat': 0.01387358084321022, 'tagger': 0.4284002559725195, 'ner': 0.0, 'parser': 0.0}\n",
            "2 {'textcat': 0.020685458555817604, 'tagger': 0.42847897308820393, 'ner': 0.0, 'parser': 0.0}\n",
            "3 {'textcat': 0.027260545175522566, 'tagger': 0.42848583052818867, 'ner': 0.0, 'parser': 0.0}\n",
            "4 {'textcat': 0.03351231385022402, 'tagger': 0.428489104227765, 'ner': 0.0, 'parser': 0.0}\n",
            "5 {'textcat': 0.0393836023285985, 'tagger': 0.4284920968461847, 'ner': 0.0, 'parser': 0.0}\n",
            "6 {'textcat': 0.044829546473920345, 'tagger': 0.42849479381948186, 'ner': 0.0, 'parser': 0.0}\n",
            "7 {'textcat': 0.04981672344729304, 'tagger': 0.4284967602072811, 'ner': 0.0, 'parser': 0.0}\n",
            "8 {'textcat': 0.054330268409103155, 'tagger': 0.42849795541110325, 'ner': 0.0, 'parser': 0.0}\n",
            "9 {'textcat': 0.05835468275472522, 'tagger': 0.428498616220395, 'ner': 0.0, 'parser': 0.0}\n",
            "10 {'textcat': 0.06189156393520534, 'tagger': 0.428498974859707, 'ner': 0.0, 'parser': 0.0}\n",
            "11 {'textcat': 0.06494878185912967, 'tagger': 0.4284991721287952, 'ner': 0.0, 'parser': 0.0}\n",
            "12 {'textcat': 0.06754520116373897, 'tagger': 0.42849928496539746, 'ner': 0.0, 'parser': 0.0}\n",
            "13 {'textcat': 0.06971354247070849, 'tagger': 0.4284993531212109, 'ner': 0.0, 'parser': 0.0}\n",
            "14 {'textcat': 0.07149030768778175, 'tagger': 0.42849939711675944, 'ner': 0.0, 'parser': 0.0}\n",
            "15 {'textcat': 0.0729208926204592, 'tagger': 0.4284994272287008, 'ner': 0.0, 'parser': 0.0}\n",
            "16 {'textcat': 0.07404970203060657, 'tagger': 0.42849944877401924, 'ner': 0.0, 'parser': 0.0}\n",
            "17 {'textcat': 0.07492117740912363, 'tagger': 0.42849946482837353, 'ner': 0.0, 'parser': 0.0}\n",
            "18 {'textcat': 0.07557771517895162, 'tagger': 0.42849947717373205, 'ner': 0.0, 'parser': 0.0}\n",
            "19 {'textcat': 0.07606162037700415, 'tagger': 0.42849948692107276, 'ner': 0.0, 'parser': 0.0}\n",
            "20 {'textcat': 0.07641056049033068, 'tagger': 0.4284994947614571, 'ner': 0.0, 'parser': 0.0}\n",
            "21 {'textcat': 0.07665616140002385, 'tagger': 0.42849950119502456, 'ner': 0.0, 'parser': 0.0}\n",
            "22 {'textcat': 0.07682497198402416, 'tagger': 0.4284995065468866, 'ner': 0.0, 'parser': 0.0}\n",
            "23 {'textcat': 0.07693876935081789, 'tagger': 0.4284995110411307, 'ner': 0.0, 'parser': 0.0}\n",
            "24 {'textcat': 0.0770141430257354, 'tagger': 0.4284995148522954, 'ner': 0.0, 'parser': 0.0}\n",
            "25 {'textcat': 0.0770632921885408, 'tagger': 0.4284995181125184, 'ner': 0.0, 'parser': 0.0}\n",
            "26 {'textcat': 0.07709490214620018, 'tagger': 0.42849952093318033, 'ner': 0.0, 'parser': 0.0}\n",
            "27 {'textcat': 0.07711499395372812, 'tagger': 0.42849952337605823, 'ner': 0.0, 'parser': 0.0}\n",
            "28 {'textcat': 0.07712762834853493, 'tagger': 0.42849952550816295, 'ner': 0.0, 'parser': 0.0}\n",
            "29 {'textcat': 0.07713551530196128, 'tagger': 0.428499527391077, 'ner': 0.0, 'parser': 0.0}\n",
            "30 {'textcat': 0.07714041771896518, 'tagger': 0.42849952904899613, 'ner': 0.0, 'parser': 0.0}\n",
            "31 {'textcat': 0.0771434478062929, 'tagger': 0.428499530529741, 'ner': 0.0, 'parser': 0.0}\n",
            "32 {'textcat': 0.07714531484145937, 'tagger': 0.42849953185372947, 'ner': 0.0, 'parser': 0.0}\n",
            "33 {'textcat': 0.0771464660087986, 'tagger': 0.4284995330414416, 'ner': 0.0, 'parser': 0.0}\n",
            "34 {'textcat': 0.0771471801062944, 'tagger': 0.4284995341131632, 'ner': 0.0, 'parser': 0.0}\n",
            "35 {'textcat': 0.07714762802876862, 'tagger': 0.4284995350876971, 'ner': 0.0, 'parser': 0.0}\n",
            "36 {'textcat': 0.07714791315984826, 'tagger': 0.42849953597737506, 'ner': 0.0, 'parser': 0.0}\n",
            "37 {'textcat': 0.07714809787022148, 'tagger': 0.42849953678709524, 'ner': 0.0, 'parser': 0.0}\n",
            "38 {'textcat': 0.0771482197151272, 'tagger': 0.4284995375361928, 'ner': 0.0, 'parser': 0.0}\n",
            "39 {'textcat': 0.07714830171374132, 'tagger': 0.428499538227745, 'ner': 0.0, 'parser': 0.0}\n",
            "40 {'textcat': 0.07714835808315357, 'tagger': 0.42849953886522507, 'ner': 0.0, 'parser': 0.0}\n",
            "41 {'textcat': 0.07714839764835801, 'tagger': 0.42849953946310815, 'ner': 0.0, 'parser': 0.0}\n",
            "42 {'textcat': 0.07714842598104177, 'tagger': 0.42849954002176305, 'ner': 0.0, 'parser': 0.0}\n",
            "43 {'textcat': 0.07714844668462995, 'tagger': 0.4284995405432525, 'ner': 0.0, 'parser': 0.0}\n",
            "44 {'textcat': 0.07714846211152171, 'tagger': 0.4284995410323414, 'ner': 0.0, 'parser': 0.0}\n",
            "45 {'textcat': 0.07714847382681178, 'tagger': 0.4284995414919595, 'ner': 0.0, 'parser': 0.0}\n",
            "46 {'textcat': 0.07714848288623788, 'tagger': 0.42849954192679673, 'ner': 0.0, 'parser': 0.0}\n",
            "47 {'textcat': 0.07714849001282653, 'tagger': 0.42849954233818643, 'ner': 0.0, 'parser': 0.0}\n",
            "48 {'textcat': 0.07714849571052529, 'tagger': 0.42849954272942814, 'ner': 0.0, 'parser': 0.0}\n",
            "49 {'textcat': 0.07714850033653464, 'tagger': 0.4284995431008728, 'ner': 0.0, 'parser': 0.0}\n",
            "50 {'textcat': 0.07714850414824959, 'tagger': 0.4284995434533248, 'ner': 0.0, 'parser': 0.0}\n",
            "51 {'textcat': 0.07714850733198375, 'tagger': 0.428499543791878, 'ner': 0.0, 'parser': 0.0}\n",
            "52 {'textcat': 0.0771485100241629, 'tagger': 0.4284995441163012, 'ner': 0.0, 'parser': 0.0}\n",
            "53 {'textcat': 0.07714851232907893, 'tagger': 0.4284995444236519, 'ner': 0.0, 'parser': 0.0}\n",
            "54 {'textcat': 0.07714851432447545, 'tagger': 0.4284995447202924, 'ner': 0.0, 'parser': 0.0}\n",
            "55 {'textcat': 0.07714851606977802, 'tagger': 0.42849954500243986, 'ner': 0.0, 'parser': 0.0}\n",
            "56 {'textcat': 0.07714851761096175, 'tagger': 0.4284995452769917, 'ner': 0.0, 'parser': 0.0}\n",
            "57 {'textcat': 0.07714851898399366, 'tagger': 0.42849954554185715, 'ner': 0.0, 'parser': 0.0}\n",
            "58 {'textcat': 0.0771485202171931, 'tagger': 0.4284995457961652, 'ner': 0.0, 'parser': 0.0}\n",
            "59 {'textcat': 0.0771485213331965, 'tagger': 0.42849954604184654, 'ner': 0.0, 'parser': 0.0}\n",
            "60 {'textcat': 0.07714852235009495, 'tagger': 0.42849954627765596, 'ner': 0.0, 'parser': 0.0}\n",
            "61 {'textcat': 0.07714852328231825, 'tagger': 0.42849954650734595, 'ner': 0.0, 'parser': 0.0}\n",
            "62 {'textcat': 0.07714852414235235, 'tagger': 0.4284995467305303, 'ner': 0.0, 'parser': 0.0}\n",
            "63 {'textcat': 0.07714852494008329, 'tagger': 0.4284995469454016, 'ner': 0.0, 'parser': 0.0}\n",
            "64 {'textcat': 0.07714852568356612, 'tagger': 0.42849954715461425, 'ner': 0.0, 'parser': 0.0}\n",
            "65 {'textcat': 0.07714852638020614, 'tagger': 0.428499547359589, 'ner': 0.0, 'parser': 0.0}\n",
            "66 {'textcat': 0.07714852703543401, 'tagger': 0.4284995475570619, 'ner': 0.0, 'parser': 0.0}\n",
            "67 {'textcat': 0.07714852765426317, 'tagger': 0.428499547747737, 'ner': 0.0, 'parser': 0.0}\n",
            "68 {'textcat': 0.07714852824082902, 'tagger': 0.42849954793464007, 'ner': 0.0, 'parser': 0.0}\n",
            "69 {'textcat': 0.07714852879864809, 'tagger': 0.42849954811732194, 'ner': 0.0, 'parser': 0.0}\n",
            "70 {'textcat': 0.07714852933080668, 'tagger': 0.42849954829489934, 'ner': 0.0, 'parser': 0.0}\n",
            "71 {'textcat': 0.07714852983971954, 'tagger': 0.4284995484661562, 'ner': 0.0, 'parser': 0.0}\n",
            "72 {'textcat': 0.07714853032798036, 'tagger': 0.4284995486352725, 'ner': 0.0, 'parser': 0.0}\n",
            "73 {'textcat': 0.07714853079750583, 'tagger': 0.42849954879924457, 'ner': 0.0, 'parser': 0.0}\n",
            "74 {'textcat': 0.07714853124990731, 'tagger': 0.4284995489593577, 'ner': 0.0, 'parser': 0.0}\n",
            "75 {'textcat': 0.077148531686756, 'tagger': 0.42849954911524313, 'ner': 0.0, 'parser': 0.0}\n",
            "76 {'textcat': 0.0771485321093556, 'tagger': 0.42849954926731004, 'ner': 0.0, 'parser': 0.0}\n",
            "77 {'textcat': 0.07714853251902345, 'tagger': 0.4284995494163048, 'ner': 0.0, 'parser': 0.0}\n",
            "78 {'textcat': 0.07714853291658244, 'tagger': 0.4284995495615775, 'ner': 0.0, 'parser': 0.0}\n",
            "79 {'textcat': 0.077148533303007, 'tagger': 0.42849954970499127, 'ner': 0.0, 'parser': 0.0}\n",
            "80 {'textcat': 0.07714853367911573, 'tagger': 0.42849954984681476, 'ner': 0.0, 'parser': 0.0}\n",
            "81 {'textcat': 0.07714853404564931, 'tagger': 0.42849954998479817, 'ner': 0.0, 'parser': 0.0}\n",
            "82 {'textcat': 0.07714853440316768, 'tagger': 0.42849955011907714, 'ner': 0.0, 'parser': 0.0}\n",
            "83 {'textcat': 0.07714853475228456, 'tagger': 0.4284995502483361, 'ner': 0.0, 'parser': 0.0}\n",
            "84 {'textcat': 0.07714853509355549, 'tagger': 0.4284995503758757, 'ner': 0.0, 'parser': 0.0}\n",
            "85 {'textcat': 0.07714853542739081, 'tagger': 0.42849955050151434, 'ner': 0.0, 'parser': 0.0}\n",
            "86 {'textcat': 0.0771485357540678, 'tagger': 0.4284995506248398, 'ner': 0.0, 'parser': 0.0}\n",
            "87 {'textcat': 0.077148536073946, 'tagger': 0.428499550746193, 'ner': 0.0, 'parser': 0.0}\n",
            "88 {'textcat': 0.07714853638746591, 'tagger': 0.42849955086518776, 'ner': 0.0, 'parser': 0.0}\n",
            "89 {'textcat': 0.07714853669494956, 'tagger': 0.4284995509817207, 'ner': 0.0, 'parser': 0.0}\n",
            "90 {'textcat': 0.07714853699650298, 'tagger': 0.4284995510963837, 'ner': 0.0, 'parser': 0.0}\n",
            "91 {'textcat': 0.07714853729261512, 'tagger': 0.4284995512093132, 'ner': 0.0, 'parser': 0.0}\n",
            "92 {'textcat': 0.07714853758344903, 'tagger': 0.42849955132050216, 'ner': 0.0, 'parser': 0.0}\n",
            "93 {'textcat': 0.07714853786915546, 'tagger': 0.4284995514298856, 'ner': 0.0, 'parser': 0.0}\n",
            "94 {'textcat': 0.07714853814997172, 'tagger': 0.4284995515357777, 'ner': 0.0, 'parser': 0.0}\n",
            "95 {'textcat': 0.07714853842603098, 'tagger': 0.4284995516377421, 'ner': 0.0, 'parser': 0.0}\n",
            "96 {'textcat': 0.07714853869745178, 'tagger': 0.42849955173871096, 'ner': 0.0, 'parser': 0.0}\n",
            "97 {'textcat': 0.07714853896452867, 'tagger': 0.42849955183794847, 'ner': 0.0, 'parser': 0.0}\n",
            "98 {'textcat': 0.0771485392273735, 'tagger': 0.42849955193541395, 'ner': 0.0, 'parser': 0.0}\n",
            "99 {'textcat': 0.07714853948598874, 'tagger': 0.4284995520312799, 'ner': 0.0, 'parser': 0.0}\n"
          ],
          "name": "stdout"
        }
      ]
    },
    {
      "cell_type": "code",
      "metadata": {
        "id": "FD_B7ebv96TN",
        "colab_type": "code",
        "colab": {
          "base_uri": "https://localhost:8080/",
          "height": 34
        },
        "outputId": "f9714dda-d09b-4c74-eb0a-68820e7f5fe7"
      },
      "source": [
        "doc = nlp(u'This is my cat called kittens the kitty')\n",
        "print(doc.cats)"
      ],
      "execution_count": 6,
      "outputs": [
        {
          "output_type": "stream",
          "text": [
            "{'Cat': 0.9985589385032654, 'False': 0.0014411000302061439}\n"
          ],
          "name": "stdout"
        }
      ]
    },
    {
      "cell_type": "code",
      "metadata": {
        "id": "mzdvGfbG-Ydh",
        "colab_type": "code",
        "colab": {}
      },
      "source": [
        "TRAIN_DATA = [\n",
        "    (\"beef\", {\"cats\": {\"POSITIVE\": 1.0, \"NEGATIVE\": 0.0}}),\n",
        "    (\"apple\", {\"cats\": {\"POSITIVE\": 0, \"NEGATIVE\": 1}})\n",
        "]"
      ],
      "execution_count": 7,
      "outputs": []
    },
    {
      "cell_type": "code",
      "metadata": {
        "id": "9nI8VZO49i9V",
        "colab_type": "code",
        "colab": {
          "base_uri": "https://localhost:8080/",
          "height": 34
        },
        "outputId": "310fdb55-9584-4a77-bfeb-c085d7e44442"
      },
      "source": [
        "otro = nlp(u\"Dude, Totally, Yeah, Video Games\")\n",
        "print(otro.cats)"
      ],
      "execution_count": 8,
      "outputs": [
        {
          "output_type": "stream",
          "text": [
            "{'Cat': 0.00011029288725694641, 'False': 0.9998897314071655}\n"
          ],
          "name": "stdout"
        }
      ]
    },
    {
      "cell_type": "markdown",
      "metadata": {
        "id": "wEBX9L0XgBv9",
        "colab_type": "text"
      },
      "source": [
        "### v. TextBlob"
      ]
    },
    {
      "cell_type": "code",
      "metadata": {
        "id": "ZIeEIxpagqkJ",
        "colab_type": "code",
        "colab": {}
      },
      "source": [
        "from textblob import TextBlob"
      ],
      "execution_count": 9,
      "outputs": []
    },
    {
      "cell_type": "markdown",
      "metadata": {
        "id": "Bi8mvbAAgFhg",
        "colab_type": "text"
      },
      "source": [
        "### vi. Flair"
      ]
    },
    {
      "cell_type": "code",
      "metadata": {
        "id": "G3bdliRrg2kw",
        "colab_type": "code",
        "colab": {
          "base_uri": "https://localhost:8080/",
          "height": 34
        },
        "outputId": "90969856-8bb3-40c2-852f-47b2707bcb29"
      },
      "source": [
        "import flair\n",
        "flair_sent = flair.models.TextClassifier.load('en-sentiment')"
      ],
      "execution_count": 10,
      "outputs": [
        {
          "output_type": "stream",
          "text": [
            "2020-09-04 08:05:22,431 loading file /root/.flair/models/sentiment-en-mix-distillbert_3.1.pt\n"
          ],
          "name": "stdout"
        }
      ]
    },
    {
      "cell_type": "markdown",
      "metadata": {
        "id": "IvieUPUdgIs1",
        "colab_type": "text"
      },
      "source": [
        "---\n",
        "# **3. Defining functions**\n",
        "---"
      ]
    },
    {
      "cell_type": "code",
      "metadata": {
        "id": "K-nxqDRugBpy",
        "colab_type": "code",
        "colab": {}
      },
      "source": [
        "def siaVader_compound(text):\n",
        "    scores = SIA.polarity_scores(text)\n",
        "    \n",
        "    comp_score = scores['compound']\n",
        "    if comp_score >= 0.05:\n",
        "        str_comp = 'pos'\n",
        "    elif comp_score <= -0.05:\n",
        "        str_comp = 'neg'\n",
        "    else: # (compound score > -0.05) and (compound score < 0.05)\n",
        "        str_comp = 'neu'\n",
        "    return str_comp\n",
        "\n",
        "def siaVader_maxScore(text):\n",
        "    scores = SIA.polarity_scores(text)\n",
        "    \n",
        "    del scores['compound']\n",
        "    index = np.argmax(list(scores.values()))\n",
        "    vader_MaxScore = list(scores.values())[index]\n",
        "    vader_label = list(scores)[index]\n",
        "    \n",
        "    return vader_label\n",
        "\n",
        "###\n",
        "def siaVader_byWord(text):\n",
        "    c = 0\n",
        "    for n, y in enumerate(text):\n",
        "        x = SIA.polarity_scores(y)\n",
        "        if x['compound'] != 0.0:\n",
        "            c += 1\n",
        "            # print('{}. {} {}'.format(c, x, y))\n",
        "            return 'pos' if x > 0.05 else 'neg'"
      ],
      "execution_count": 11,
      "outputs": []
    },
    {
      "cell_type": "code",
      "metadata": {
        "id": "Vfl3Mns-gtfK",
        "colab_type": "code",
        "colab": {}
      },
      "source": [
        "def text_blob_subjective(text):\n",
        "    return TextBlob(text).sentiment"
      ],
      "execution_count": 12,
      "outputs": []
    },
    {
      "cell_type": "code",
      "metadata": {
        "id": "gOyTlhydgI4k",
        "colab_type": "code",
        "colab": {}
      },
      "source": [
        "def flair_lstm(text):\n",
        "    x = flair.data.Sentence(text)\n",
        "    flair_sent.predict(sentences=x)\n",
        "    return x.labels"
      ],
      "execution_count": 13,
      "outputs": []
    },
    {
      "cell_type": "code",
      "metadata": {
        "id": "-fH81bgqHLEh",
        "colab_type": "code",
        "colab": {}
      },
      "source": [
        "def stanza_funct(text):\n",
        "    try:\n",
        "        data = stNLP(text)\n",
        "        for sentence in data.sentences:\n",
        "            return sentence.sentiment\n",
        "    except:\n",
        "        print('...')"
      ],
      "execution_count": 14,
      "outputs": []
    },
    {
      "cell_type": "markdown",
      "metadata": {
        "id": "CShr2gm0iDS3",
        "colab_type": "text"
      },
      "source": [
        "---\n",
        "\n",
        "# **4. Comparing Sentiment Analyzers**\n",
        "\n",
        "---"
      ]
    },
    {
      "cell_type": "markdown",
      "metadata": {
        "id": "3swCgi6KijqN",
        "colab_type": "text"
      },
      "source": [
        "### **data (text)**"
      ]
    },
    {
      "cell_type": "code",
      "metadata": {
        "id": "2pT9-wk3T3lH",
        "colab_type": "code",
        "colab": {}
      },
      "source": [
        "data = [\n",
        "        'not confident',\n",
        "        'unsure',\n",
        "        'does not handles pressure',\n",
        "        'disordered',\n",
        "        'talks too much',\n",
        "        'uninsterested',\n",
        "        'sad',\n",
        "        'unfriendly',\n",
        "        \n",
        "        'confident',\n",
        "        'certain',\n",
        "        'handles pressure',\n",
        "        'organized',\n",
        "        'concise',\n",
        "        'interested',\n",
        "        'happy',\n",
        "        'friendly'\n",
        "        ]     "
      ],
      "execution_count": 15,
      "outputs": []
    },
    {
      "cell_type": "code",
      "metadata": {
        "id": "RKqOe6UOhb-Y",
        "colab_type": "code",
        "colab": {}
      },
      "source": [
        "#data = \"I'm confident of myself but sometimes I'm unsure and unfriendly however I'm concise when I'm interested in being someone organizated who handles pressure\"\n",
        "#data = data.split()"
      ],
      "execution_count": 16,
      "outputs": []
    },
    {
      "cell_type": "markdown",
      "metadata": {
        "id": "0s4rbwMraWhc",
        "colab_type": "text"
      },
      "source": [
        "### **NLTK Vader**\n",
        "* VADER, has different ratings depending on the form of the word and therefore the input should not be stemmed or lemmatized.\n",
        "\n",
        "* disadvantage of this approach is that Out of Vocab (OOV) words that the sentiment analysis tool has not seen before will not be classified as positive/negative (e.g. typos)."
      ]
    },
    {
      "cell_type": "code",
      "metadata": {
        "id": "PM_KBvUoiUPQ",
        "colab_type": "code",
        "colab": {
          "base_uri": "https://localhost:8080/",
          "height": 34
        },
        "outputId": "c2677a87-71dc-4e13-8b62-9afffd52c199"
      },
      "source": [
        "SIA.polarity_scores(' '.join(data))"
      ],
      "execution_count": 17,
      "outputs": [
        {
          "output_type": "execute_result",
          "data": {
            "text/plain": [
              "{'compound': 0.6553, 'neg': 0.271, 'neu': 0.299, 'pos': 0.43}"
            ]
          },
          "metadata": {
            "tags": []
          },
          "execution_count": 17
        }
      ]
    },
    {
      "cell_type": "code",
      "metadata": {
        "id": "RX554uoq2ywa",
        "colab_type": "code",
        "colab": {
          "base_uri": "https://localhost:8080/",
          "height": 70
        },
        "outputId": "ad08dbc3-0ad7-4a9e-82f6-cf1d2dbd5498"
      },
      "source": [
        "print(data)\n",
        "print([(lambda x: SIA.polarity_scores(x)['compound'])(x) for x in data])"
      ],
      "execution_count": 18,
      "outputs": [
        {
          "output_type": "stream",
          "text": [
            "['not confident', 'unsure', 'does not handles pressure', 'disordered', 'talks too much', 'uninsterested', 'sad', 'unfriendly', 'confident', 'certain', 'handles pressure', 'organized', 'concise', 'interested', 'happy', 'friendly']\n",
            "[-0.3875, -0.25, 0.2235, 0.0, 0.0, 0.0, -0.4767, -0.3612, 0.4939, 0.2732, -0.296, 0.0, 0.0, 0.4019, 0.5719, 0.4939]\n"
          ],
          "name": "stdout"
        }
      ]
    },
    {
      "cell_type": "code",
      "metadata": {
        "id": "aXWDJN1uiZD1",
        "colab_type": "code",
        "colab": {
          "base_uri": "https://localhost:8080/",
          "height": 35
        },
        "outputId": "91bd9c6d-a949-4eb7-b6a2-f76654564e38"
      },
      "source": [
        "siaVader_compound(' '.join(data))"
      ],
      "execution_count": 19,
      "outputs": [
        {
          "output_type": "execute_result",
          "data": {
            "application/vnd.google.colaboratory.intrinsic+json": {
              "type": "string"
            },
            "text/plain": [
              "'pos'"
            ]
          },
          "metadata": {
            "tags": []
          },
          "execution_count": 19
        }
      ]
    },
    {
      "cell_type": "code",
      "metadata": {
        "id": "5N_AoPwl21Ge",
        "colab_type": "code",
        "colab": {
          "base_uri": "https://localhost:8080/",
          "height": 70
        },
        "outputId": "c10b1c13-5b97-49a6-b335-d0003263e58c"
      },
      "source": [
        "print(data)\n",
        "print([(lambda x: siaVader_compound(x))(x) for x in data])"
      ],
      "execution_count": 20,
      "outputs": [
        {
          "output_type": "stream",
          "text": [
            "['not confident', 'unsure', 'does not handles pressure', 'disordered', 'talks too much', 'uninsterested', 'sad', 'unfriendly', 'confident', 'certain', 'handles pressure', 'organized', 'concise', 'interested', 'happy', 'friendly']\n",
            "['neg', 'neg', 'pos', 'neu', 'neu', 'neu', 'neg', 'neg', 'pos', 'pos', 'neg', 'neu', 'neu', 'pos', 'pos', 'pos']\n"
          ],
          "name": "stdout"
        }
      ]
    },
    {
      "cell_type": "code",
      "metadata": {
        "id": "FE7Pctquifyg",
        "colab_type": "code",
        "colab": {
          "base_uri": "https://localhost:8080/",
          "height": 35
        },
        "outputId": "8e61c48e-0c85-423b-906e-5b74d1743731"
      },
      "source": [
        "siaVader_maxScore(' '.join(data))"
      ],
      "execution_count": 21,
      "outputs": [
        {
          "output_type": "execute_result",
          "data": {
            "application/vnd.google.colaboratory.intrinsic+json": {
              "type": "string"
            },
            "text/plain": [
              "'pos'"
            ]
          },
          "metadata": {
            "tags": []
          },
          "execution_count": 21
        }
      ]
    },
    {
      "cell_type": "code",
      "metadata": {
        "id": "xG7sYB5A3BT4",
        "colab_type": "code",
        "colab": {
          "base_uri": "https://localhost:8080/",
          "height": 70
        },
        "outputId": "5c498ed3-74bc-42da-9500-248a14a53556"
      },
      "source": [
        "print(data)\n",
        "print([(lambda x: siaVader_maxScore(x))(x) for x in data])"
      ],
      "execution_count": 22,
      "outputs": [
        {
          "output_type": "stream",
          "text": [
            "['not confident', 'unsure', 'does not handles pressure', 'disordered', 'talks too much', 'uninsterested', 'sad', 'unfriendly', 'confident', 'certain', 'handles pressure', 'organized', 'concise', 'interested', 'happy', 'friendly']\n",
            "['neg', 'neg', 'neu', 'neu', 'neu', 'neu', 'neg', 'neg', 'pos', 'pos', 'neg', 'neu', 'neu', 'pos', 'pos', 'pos']\n"
          ],
          "name": "stdout"
        }
      ]
    },
    {
      "cell_type": "markdown",
      "metadata": {
        "id": "ytOKtne0ixoN",
        "colab_type": "text"
      },
      "source": [
        "## **TextBlob**\n",
        "* use a bag of words classifier, but the advantage is that it includes subjetivity analysis (factual/opinated)\n",
        "* it doesn't contain the heuristics that nltk has, it won't intensify or negate a sentence's sentiment\n",
        "\n",
        "* will return the subjectivity of the text"
      ]
    },
    {
      "cell_type": "code",
      "metadata": {
        "id": "yYHpCDQuiw6T",
        "colab_type": "code",
        "colab": {
          "base_uri": "https://localhost:8080/",
          "height": 34
        },
        "outputId": "d7ce39bb-49ce-43b0-af03-8510bb589a43"
      },
      "source": [
        "text_blob_subjective(' '.join(data))"
      ],
      "execution_count": 23,
      "outputs": [
        {
          "output_type": "execute_result",
          "data": {
            "text/plain": [
              "Sentiment(polarity=0.1876984126984127, subjectivity=0.6708994708994709)"
            ]
          },
          "metadata": {
            "tags": []
          },
          "execution_count": 23
        }
      ]
    },
    {
      "cell_type": "code",
      "metadata": {
        "id": "wUeSbMr_3KfD",
        "colab_type": "code",
        "colab": {
          "base_uri": "https://localhost:8080/",
          "height": 286
        },
        "outputId": "49040307-d9de-423f-d9cc-6cca91f4537b"
      },
      "source": [
        "[(lambda x: text_blob_subjective(x))(x) for x in data]"
      ],
      "execution_count": 24,
      "outputs": [
        {
          "output_type": "execute_result",
          "data": {
            "text/plain": [
              "[Sentiment(polarity=-0.25, subjectivity=0.8333333333333334),\n",
              " Sentiment(polarity=0.0, subjectivity=0.0),\n",
              " Sentiment(polarity=0.0, subjectivity=0.0),\n",
              " Sentiment(polarity=0.0, subjectivity=0.0),\n",
              " Sentiment(polarity=0.2, subjectivity=0.2),\n",
              " Sentiment(polarity=0.0, subjectivity=0.0),\n",
              " Sentiment(polarity=-0.5, subjectivity=1.0),\n",
              " Sentiment(polarity=0.0, subjectivity=0.0),\n",
              " Sentiment(polarity=0.5, subjectivity=0.8333333333333334),\n",
              " Sentiment(polarity=0.21428571428571427, subjectivity=0.5714285714285714),\n",
              " Sentiment(polarity=0.0, subjectivity=0.0),\n",
              " Sentiment(polarity=0.0, subjectivity=0.0),\n",
              " Sentiment(polarity=0.1, subjectivity=0.6),\n",
              " Sentiment(polarity=0.25, subjectivity=0.5),\n",
              " Sentiment(polarity=0.8, subjectivity=1.0),\n",
              " Sentiment(polarity=0.375, subjectivity=0.5)]"
            ]
          },
          "metadata": {
            "tags": []
          },
          "execution_count": 24
        }
      ]
    },
    {
      "cell_type": "markdown",
      "metadata": {
        "id": "lRwuAr8Ji4uV",
        "colab_type": "text"
      },
      "source": [
        "## **Flair LSTM**\n",
        "* classifier based on a character-leval LSTM. Takes a sequences of letters and words into account when predicting\n",
        "\n",
        "* one of its biggest advantages is that it can predict a sentiment for OOV words that it has never seen before too (such as typos)"
      ]
    },
    {
      "cell_type": "code",
      "metadata": {
        "id": "H-P28QfCiXJ2",
        "colab_type": "code",
        "colab": {
          "base_uri": "https://localhost:8080/",
          "height": 34
        },
        "outputId": "7b6b00f4-0528-4bc3-f32d-2b2ab7cb2493"
      },
      "source": [
        "flair_lstm(' '.join(data))"
      ],
      "execution_count": 25,
      "outputs": [
        {
          "output_type": "execute_result",
          "data": {
            "text/plain": [
              "[NEGATIVE (0.9971)]"
            ]
          },
          "metadata": {
            "tags": []
          },
          "execution_count": 25
        }
      ]
    },
    {
      "cell_type": "code",
      "metadata": {
        "id": "bHGmli2_3Vlw",
        "colab_type": "code",
        "colab": {
          "base_uri": "https://localhost:8080/",
          "height": 322
        },
        "outputId": "b0053275-83d9-40d0-e00b-5d264ac0b0bf"
      },
      "source": [
        "print(data)\n",
        "[(lambda x: flair_lstm(x))(x) for x in data]"
      ],
      "execution_count": 26,
      "outputs": [
        {
          "output_type": "stream",
          "text": [
            "['not confident', 'unsure', 'does not handles pressure', 'disordered', 'talks too much', 'uninsterested', 'sad', 'unfriendly', 'confident', 'certain', 'handles pressure', 'organized', 'concise', 'interested', 'happy', 'friendly']\n"
          ],
          "name": "stdout"
        },
        {
          "output_type": "execute_result",
          "data": {
            "text/plain": [
              "[[NEGATIVE (0.9999)],\n",
              " [NEGATIVE (0.9923)],\n",
              " [NEGATIVE (0.9999)],\n",
              " [NEGATIVE (0.9998)],\n",
              " [NEGATIVE (0.9933)],\n",
              " [NEGATIVE (0.9997)],\n",
              " [NEGATIVE (0.9987)],\n",
              " [NEGATIVE (0.9985)],\n",
              " [POSITIVE (0.9971)],\n",
              " [POSITIVE (0.9888)],\n",
              " [POSITIVE (0.9928)],\n",
              " [POSITIVE (0.996)],\n",
              " [POSITIVE (0.9949)],\n",
              " [POSITIVE (0.9967)],\n",
              " [POSITIVE (0.9839)],\n",
              " [POSITIVE (0.9793)]]"
            ]
          },
          "metadata": {
            "tags": []
          },
          "execution_count": 26
        }
      ]
    },
    {
      "cell_type": "markdown",
      "metadata": {
        "id": "DF5Mt-wrR-Lj",
        "colab_type": "text"
      },
      "source": [
        "## **Stanza**\n",
        "* stanza pipeline by using a CNN classifier.\n",
        "* training this model on 2 class data using higher dimension word vectors achieves the 87 score reported in the original CNN classifier paper. On a three class projection of the SST test data, the model trained on multiple datasets gets 70.0%."
      ]
    },
    {
      "cell_type": "code",
      "metadata": {
        "id": "sgz86Y3FSFrY",
        "colab_type": "code",
        "colab": {
          "base_uri": "https://localhost:8080/",
          "height": 70
        },
        "outputId": "b81fe9e2-2fbc-47c7-c48a-6a41a1dc7519"
      },
      "source": [
        "# 0 : neutral\n",
        "# 1 : negative\n",
        "# 2 : positive\n",
        "print(data)\n",
        "[(lambda x: stanza_funct(x))(x) for x in data]"
      ],
      "execution_count": 27,
      "outputs": [
        {
          "output_type": "stream",
          "text": [
            "['not confident', 'unsure', 'does not handles pressure', 'disordered', 'talks too much', 'uninsterested', 'sad', 'unfriendly', 'confident', 'certain', 'handles pressure', 'organized', 'concise', 'interested', 'happy', 'friendly']\n"
          ],
          "name": "stdout"
        },
        {
          "output_type": "execute_result",
          "data": {
            "text/plain": [
              "[0, 1, 0, 1, 0, 1, 0, 0, 2, 2, 1, 1, 1, 2, 2, 2]"
            ]
          },
          "metadata": {
            "tags": []
          },
          "execution_count": 27
        }
      ]
    },
    {
      "cell_type": "markdown",
      "metadata": {
        "id": "zzN_nUW_5zrF",
        "colab_type": "text"
      },
      "source": [
        "---\n",
        "# **5. Graphs**\n",
        "---"
      ]
    },
    {
      "cell_type": "markdown",
      "metadata": {
        "id": "vRcaz7LAdYbq",
        "colab_type": "text"
      },
      "source": [
        "### **X, Y**"
      ]
    },
    {
      "cell_type": "code",
      "metadata": {
        "id": "0N7dy2V-I1b7",
        "colab_type": "code",
        "colab": {}
      },
      "source": [
        "x_plots = data"
      ],
      "execution_count": 28,
      "outputs": []
    },
    {
      "cell_type": "code",
      "metadata": {
        "id": "4LfEOT_17r6s",
        "colab_type": "code",
        "colab": {}
      },
      "source": [
        "y_flair_scores = np.array([x for b in [list(map(lambda x: x.score, score)) for score in [(lambda x: flair_lstm(x))(x) for x in data]] for x in b])"
      ],
      "execution_count": 29,
      "outputs": []
    },
    {
      "cell_type": "code",
      "metadata": {
        "id": "2M62lkw-PXzt",
        "colab_type": "code",
        "colab": {}
      },
      "source": [
        "y_flair_values_aux = [x for b in [list(map(lambda x: x.value, value)) for value in [(lambda x: flair_lstm(x))(x) for x in data]] for x in b]\n",
        "y_flair_values = []\n",
        "for i in y_flair_values_aux:\n",
        "    if i == 'POSITIVE':\n",
        "        y_flair_values.append(1)\n",
        "    else:\n",
        "        y_flair_values.append(-1)\n",
        "y_flair_values = np.array(y_flair_values)"
      ],
      "execution_count": 30,
      "outputs": []
    },
    {
      "cell_type": "code",
      "metadata": {
        "id": "AggCuEG8Ftlp",
        "colab_type": "code",
        "colab": {}
      },
      "source": [
        "y_textblob_sentiment = np.array([(lambda x: text_blob_subjective(x)[0])(x) for x in data])\n",
        "y_textblob_subjectivity = np.array([(lambda x: text_blob_subjective(x)[1])(x) for x in data])"
      ],
      "execution_count": 31,
      "outputs": []
    },
    {
      "cell_type": "code",
      "metadata": {
        "id": "GzKPkYguIx_Y",
        "colab_type": "code",
        "colab": {}
      },
      "source": [
        "y_vader = [(lambda x: SIA.polarity_scores(x)['compound'])(x) for x in data]\n",
        "y_vader = np.array(y_vader)"
      ],
      "execution_count": 32,
      "outputs": []
    },
    {
      "cell_type": "code",
      "metadata": {
        "id": "uNKxjeo1S_9w",
        "colab_type": "code",
        "colab": {}
      },
      "source": [
        "y_stanza_1 = [(lambda x: stanza_funct(x))(x) for x in data]\n",
        "y_stanza = []\n",
        "for i in y_stanza_1:\n",
        "    if i == 2:\n",
        "        y_stanza.append(1)\n",
        "    elif i == 1:\n",
        "        y_stanza.append(0)\n",
        "    else:\n",
        "        y_stanza.append(-1)\n",
        "y_stanza = np.array(y_stanza)"
      ],
      "execution_count": 33,
      "outputs": []
    },
    {
      "cell_type": "markdown",
      "metadata": {
        "id": "TvSDx-PMccBh",
        "colab_type": "text"
      },
      "source": [
        "### **Numpy Array Results**"
      ]
    },
    {
      "cell_type": "code",
      "metadata": {
        "id": "zLOZRMWucl5S",
        "colab_type": "code",
        "colab": {
          "base_uri": "https://localhost:8080/",
          "height": 34
        },
        "outputId": "49bf650d-8b2a-440f-bc78-7ac700f654e0"
      },
      "source": [
        "y_flair_values"
      ],
      "execution_count": 34,
      "outputs": [
        {
          "output_type": "execute_result",
          "data": {
            "text/plain": [
              "array([-1, -1, -1, -1, -1, -1, -1, -1,  1,  1,  1,  1,  1,  1,  1,  1])"
            ]
          },
          "metadata": {
            "tags": []
          },
          "execution_count": 34
        }
      ]
    },
    {
      "cell_type": "code",
      "metadata": {
        "id": "3G74wv0BVuW2",
        "colab_type": "code",
        "colab": {
          "base_uri": "https://localhost:8080/",
          "height": 84
        },
        "outputId": "a15853e9-1096-4576-879e-fe580132e2d0"
      },
      "source": [
        "y_flair_scores"
      ],
      "execution_count": 35,
      "outputs": [
        {
          "output_type": "execute_result",
          "data": {
            "text/plain": [
              "array([0.99985647, 0.99227095, 0.99994195, 0.99975961, 0.99328858,\n",
              "       0.9997341 , 0.99871314, 0.99850661, 0.99709618, 0.98880416,\n",
              "       0.99275267, 0.99604756, 0.99489647, 0.9967128 , 0.98393667,\n",
              "       0.97929859])"
            ]
          },
          "metadata": {
            "tags": []
          },
          "execution_count": 35
        }
      ]
    },
    {
      "cell_type": "code",
      "metadata": {
        "id": "Qt7fQ1JjcjAP",
        "colab_type": "code",
        "colab": {
          "base_uri": "https://localhost:8080/",
          "height": 84
        },
        "outputId": "3c1bf98b-863f-4cf4-b338-c25cce172206"
      },
      "source": [
        "y_textblob_sentiment"
      ],
      "execution_count": 36,
      "outputs": [
        {
          "output_type": "execute_result",
          "data": {
            "text/plain": [
              "array([-0.25      ,  0.        ,  0.        ,  0.        ,  0.2       ,\n",
              "        0.        , -0.5       ,  0.        ,  0.5       ,  0.21428571,\n",
              "        0.        ,  0.        ,  0.1       ,  0.25      ,  0.8       ,\n",
              "        0.375     ])"
            ]
          },
          "metadata": {
            "tags": []
          },
          "execution_count": 36
        }
      ]
    },
    {
      "cell_type": "code",
      "metadata": {
        "id": "AyzffYWucggu",
        "colab_type": "code",
        "colab": {
          "base_uri": "https://localhost:8080/",
          "height": 84
        },
        "outputId": "06663b6e-01d6-4106-fc0c-cc538faba820"
      },
      "source": [
        "y_textblob_subjectivity"
      ],
      "execution_count": 37,
      "outputs": [
        {
          "output_type": "execute_result",
          "data": {
            "text/plain": [
              "array([0.83333333, 0.        , 0.        , 0.        , 0.2       ,\n",
              "       0.        , 1.        , 0.        , 0.83333333, 0.57142857,\n",
              "       0.        , 0.        , 0.6       , 0.5       , 1.        ,\n",
              "       0.5       ])"
            ]
          },
          "metadata": {
            "tags": []
          },
          "execution_count": 37
        }
      ]
    },
    {
      "cell_type": "code",
      "metadata": {
        "id": "tkXXaJuCcnXV",
        "colab_type": "code",
        "colab": {
          "base_uri": "https://localhost:8080/",
          "height": 34
        },
        "outputId": "bd3e2a14-a6b5-4447-e22d-85accb83c1b3"
      },
      "source": [
        "y_stanza"
      ],
      "execution_count": 38,
      "outputs": [
        {
          "output_type": "execute_result",
          "data": {
            "text/plain": [
              "array([-1,  0, -1,  0, -1,  0, -1, -1,  1,  1,  0,  0,  0,  1,  1,  1])"
            ]
          },
          "metadata": {
            "tags": []
          },
          "execution_count": 38
        }
      ]
    },
    {
      "cell_type": "markdown",
      "metadata": {
        "id": "-3OGWkqMCypV",
        "colab_type": "text"
      },
      "source": [
        "## **Plotting bars**"
      ]
    },
    {
      "cell_type": "code",
      "metadata": {
        "id": "QW48_H7-_v1H",
        "colab_type": "code",
        "colab": {}
      },
      "source": [
        "def plot_bar(p1y, p2y, p3y, p4y, p5y, x, size):\n",
        "    plt.figure(figsize=size)\n",
        "    plt.bar(x, p1y, label='Flair', color='red')\n",
        "    plt.bar(x, p2y, label='TextBlob', color='blue')\n",
        "    plt.bar(x, p3y, label='Subjectivity', color='purple')\n",
        "    plt.bar(x, p4y, label='Vader', color='green')\n",
        "    plt.bar(x, p5y, label='Stanza', color='grey')\n",
        "    plt.title('NLP SCORES PREDICTION vs WORDS')\n",
        "    plt.xlabel('SENTENCE')\n",
        "    plt.ylabel('SCORES')\n",
        "    plt.legend(loc='upper left')\n",
        "    plt.xticks(rotation='vertical')\n",
        "    plt.tight_layout()\n",
        "    plt.grid(True)\n",
        "\n",
        "    plt.show()"
      ],
      "execution_count": 39,
      "outputs": []
    },
    {
      "cell_type": "code",
      "metadata": {
        "id": "ZQGZL70JCxnD",
        "colab_type": "code",
        "colab": {
          "base_uri": "https://localhost:8080/",
          "height": 585
        },
        "outputId": "89394546-2514-4239-b369-534b8740102e"
      },
      "source": [
        "plot_bar(\n",
        "    p1y=y_flair_values,\n",
        "    p2y=y_textblob_sentiment,\n",
        "    p3y=y_textblob_subjectivity,\n",
        "    p4y=y_vader,\n",
        "    p5y=y_stanza,\n",
        "    x=x_plots,\n",
        "    size=(16,  8)\n",
        ")"
      ],
      "execution_count": 40,
      "outputs": [
        {
          "output_type": "display_data",
          "data": {
            "image/png": "[encoded data removed]",
            "text/plain": [
              "<Figure size 1152x576 with 1 Axes>"
            ]
          },
          "metadata": {
            "tags": [],
            "needs_background": "light"
          }
        }
      ]
    },
    {
      "cell_type": "markdown",
      "metadata": {
        "id": "xIJE1JOgC4HR",
        "colab_type": "text"
      },
      "source": [
        "## **Plotting lines**"
      ]
    },
    {
      "cell_type": "code",
      "metadata": {
        "id": "YSQ9W6c6A-Fp",
        "colab_type": "code",
        "colab": {}
      },
      "source": [
        "def plot_lines(p1y, p2y, p3y, p4y, p5y, x, size):\n",
        "    plt.figure(figsize=size)\n",
        "    plt.plot(x, p1y, linestyle='solid', color='red', label='Flair')\n",
        "    plt.plot(x, p2y, linestyle='solid', color='blue', label='TextBlob')\n",
        "    plt.plot(x, p3y, linestyle='dashed', color='purple', label='Subjectivity')\n",
        "    plt.plot(x, p4y, linestyle='solid', color='green', label='Vader')\n",
        "    plt.plot(x, p5y, linestyle='solid', color='black', label='Stanza')\n",
        "    plt.title('NLP SCORES PREDICTION vs WORDS')\n",
        "    plt.xlabel('SENTENCE')\n",
        "    plt.ylabel('SCORES')\n",
        "    plt.legend()\n",
        "    plt.xticks(size=10, rotation='vertical')\n",
        "    plt.yticks(size=10)\n",
        "    plt.grid(True)\n",
        "    \n",
        "    plt.show()"
      ],
      "execution_count": 41,
      "outputs": []
    },
    {
      "cell_type": "code",
      "metadata": {
        "id": "rzZBWMa8CPga",
        "colab_type": "code",
        "colab": {
          "base_uri": "https://localhost:8080/",
          "height": 744
        },
        "outputId": "81ce32cc-15fb-4f3c-9714-2092627baf55"
      },
      "source": [
        "plot_lines(\n",
        "    p1y=y_flair_values,\n",
        "    p2y=y_textblob_sentiment,\n",
        "    p3y=y_textblob_subjectivity,\n",
        "    p4y=y_vader,\n",
        "    p5y=y_stanza,\n",
        "    x=x_plots,\n",
        "    size=(20,  10)\n",
        ")"
      ],
      "execution_count": 42,
      "outputs": [
        {
          "output_type": "display_data",
          "data": {
            "image/png": "[encoded data removed]",
            "text/plain": [
              "<Figure size 1440x720 with 1 Axes>"
            ]
          },
          "metadata": {
            "tags": [],
            "needs_background": "light"
          }
        }
      ]
    },
    {
      "cell_type": "code",
      "metadata": {
        "id": "4QcrDh0gN8My",
        "colab_type": "code",
        "colab": {}
      },
      "source": [
        "def plot_flair(x, y):\n",
        "    plt.figure(figsize=(10, 8))\n",
        "    plt.plot(x, y, linestyle='solid', color='red', label='Flair')\n",
        "    plt.title('Flair LSTM accuracy')\n",
        "    plt.xlabel('SENTENCE')\n",
        "    plt.ylabel('ACCURACY')\n",
        "    plt.legend()\n",
        "    plt.xticks(size=10, rotation='vertical')\n",
        "    plt.yticks(size=10)\n",
        "    plt.grid(True)\n",
        "    \n",
        "    plt.show()"
      ],
      "execution_count": 43,
      "outputs": []
    },
    {
      "cell_type": "code",
      "metadata": {
        "id": "ep93M8Y6OLTc",
        "colab_type": "code",
        "colab": {
          "base_uri": "https://localhost:8080/",
          "height": 635
        },
        "outputId": "a17c25ba-29f0-4fca-d56b-b03cf6c59427"
      },
      "source": [
        "plot_flair(x_plots, y_flair_scores)"
      ],
      "execution_count": 44,
      "outputs": [
        {
          "output_type": "display_data",
          "data": {
            "image/png": "[encoded data removed]",
            "text/plain": [
              "<Figure size 720x576 with 1 Axes>"
            ]
          },
          "metadata": {
            "tags": [],
            "needs_background": "light"
          }
        }
      ]
    },
    {
      "cell_type": "markdown",
      "metadata": {
        "id": "PJ2Vnc03caRH",
        "colab_type": "text"
      },
      "source": [
        "---\n",
        "# **6. Brief positive conclusion**\n",
        "---\n",
        "\n",
        "1. **Flair** is great because the properties of the LSTM model: takes into account sequences of letters and words when predicting\n",
        "2. **TextBlob** subjectivity works great\n",
        "3. **Vader** & **Stanza (CNN)** are great to detect particular and intense positive or negative words\n",
        "\n",
        "---\n",
        "\n",
        "## To-do:\n",
        "* SpaCy categorization\n",
        "---"
      ]
    },
    {
      "cell_type": "markdown",
      "metadata": {
        "id": "KzioWbR7AUpS",
        "colab_type": "text"
      },
      "source": [
        "---\n",
        "# **7. Preprocessing with each word**\n",
        "---"
      ]
    },
    {
      "cell_type": "markdown",
      "metadata": {
        "id": "0NHiufg9du6z",
        "colab_type": "text"
      },
      "source": [
        "Words play a central role in language and thought. Several influential factor analysis studies have shown that\n",
        "the primary dimensions of word meaning are valence, arousal, and dominance (VAD).\n",
        "- valence is the positive--negative or pleasure--displeasure dimension; \n",
        "- arousal is the excited--calm or active--passive dimension; \n",
        "- dominance is the powerful--weak or 'have control'--'have no control' dimension."
      ]
    },
    {
      "cell_type": "markdown",
      "metadata": {
        "id": "3X5G5k2KCtG5",
        "colab_type": "text"
      },
      "source": [
        "\n",
        "\n",
        "```\n",
        "Each line has the following format:\n",
        "<AffectCategory><tab><term><tab><score>\n",
        "<AffectCategory> is one of eight emotions (anger, fear, anticipation, trust, surprise, sadness, joy, or disgust).\n",
        "<term> is a word for which emotion associations are provided.\n",
        "<score> is a value that indicates the strength of association between the <term> and the <AffectCategory>.\n",
        "The higher the value, the stronger is the association. Refer to the publications below for details on how the score is calculated.\n",
        "```\n",
        "\n"
      ]
    },
    {
      "cell_type": "markdown",
      "metadata": {
        "id": "6d6AwXxqC2my",
        "colab_type": "text"
      },
      "source": [
        "## Loading datasets lexicon"
      ]
    },
    {
      "cell_type": "code",
      "metadata": {
        "id": "9GEAyOd5AbQ5",
        "colab_type": "code",
        "colab": {}
      },
      "source": [
        "df_NRC_Hashtag = pd.read_csv('./datasets/NRC-Hashtag-Emotion-Lexicon-v0.2.csv', sep='\\t')"
      ],
      "execution_count": 45,
      "outputs": []
    },
    {
      "cell_type": "code",
      "metadata": {
        "id": "cXF0GuaRD6Ze",
        "colab_type": "code",
        "colab": {}
      },
      "source": [
        "df_NRC_Emotion_Intensity = pd.read_csv('./datasets/NRC-Emotion-Intensity-Lexicon-v1.csv', sep='\\t')"
      ],
      "execution_count": 46,
      "outputs": []
    },
    {
      "cell_type": "code",
      "metadata": {
        "id": "35Gnwnh0FcsW",
        "colab_type": "code",
        "colab": {}
      },
      "source": [
        "df_NRC_Emotion_Wordlevel = pd.read_csv('./datasets/NRC-Emotion-Lexicon-Wordlevel-v0.92.csv', sep='\\t')"
      ],
      "execution_count": 47,
      "outputs": []
    },
    {
      "cell_type": "code",
      "metadata": {
        "id": "Wyx1mLNZIonH",
        "colab_type": "code",
        "colab": {}
      },
      "source": [
        "# by sentece\n",
        "df_isear = pd.read_csv('./datasets/isear.csv', sep='|', error_bad_lines=False, usecols=['SIT', 'Field1'])"
      ],
      "execution_count": 48,
      "outputs": []
    },
    {
      "cell_type": "markdown",
      "metadata": {
        "id": "q41VXRC7jajt",
        "colab_type": "text"
      },
      "source": [
        "### Column names and merge (concatenate)"
      ]
    },
    {
      "cell_type": "code",
      "metadata": {
        "id": "xGysG-wPjHJA",
        "colab_type": "code",
        "colab": {}
      },
      "source": [
        "df_NRC_Hashtag.columns = ['category', 'word', 'score']\n",
        "df_NRC_Emotion_Intensity.columns = ['word', 'category', 'score']\n",
        "df_NRC_Emotion_Wordlevel.columns = ['word', 'category', 'score']\n",
        "df_isear.columns = ['category', 'sentence']"
      ],
      "execution_count": 49,
      "outputs": []
    },
    {
      "cell_type": "code",
      "metadata": {
        "id": "4md9q6gEjZp-",
        "colab_type": "code",
        "colab": {}
      },
      "source": [
        "df_concat = pd.concat(objs=[df_NRC_Hashtag, df_NRC_Emotion_Intensity, df_NRC_Emotion_Wordlevel], ignore_index=True)"
      ],
      "execution_count": 50,
      "outputs": []
    },
    {
      "cell_type": "markdown",
      "metadata": {
        "id": "PR3KvHPdldR8",
        "colab_type": "text"
      },
      "source": [
        "### Sorting concatenated dataset"
      ]
    },
    {
      "cell_type": "code",
      "metadata": {
        "id": "42KQW7b0mZwy",
        "colab_type": "code",
        "colab": {}
      },
      "source": [
        "df_concat = df_concat.sort_values(by=['category'], ascending=True, ignore_index=True)"
      ],
      "execution_count": 51,
      "outputs": []
    },
    {
      "cell_type": "markdown",
      "metadata": {
        "id": "Z43w3eZ8DYm_",
        "colab_type": "text"
      },
      "source": [
        "### Labels lexicon"
      ]
    },
    {
      "cell_type": "code",
      "metadata": {
        "id": "c-qfYSfEj-Uf",
        "colab_type": "code",
        "colab": {}
      },
      "source": [
        "df_concat_labels = list(set(df_concat.category))"
      ],
      "execution_count": 52,
      "outputs": []
    },
    {
      "cell_type": "code",
      "metadata": {
        "id": "H8d9G0WbDCOB",
        "colab_type": "code",
        "colab": {
          "base_uri": "https://localhost:8080/",
          "height": 151
        },
        "outputId": "d57030a2-08e3-4822-a2d4-eaf871e91570"
      },
      "source": [
        "lexicon_labels = list(set(df_NRC_Hashtag.category))\n",
        "lexicon_labels"
      ],
      "execution_count": 53,
      "outputs": [
        {
          "output_type": "execute_result",
          "data": {
            "text/plain": [
              "['anticipation',\n",
              " 'disgust',\n",
              " 'surprise',\n",
              " 'trust',\n",
              " 'joy',\n",
              " 'anger',\n",
              " 'fear',\n",
              " 'sadness']"
            ]
          },
          "metadata": {
            "tags": []
          },
          "execution_count": 53
        }
      ]
    },
    {
      "cell_type": "code",
      "metadata": {
        "id": "VG76CucbLbAc",
        "colab_type": "code",
        "colab": {
          "base_uri": "https://localhost:8080/",
          "height": 34
        },
        "outputId": "a1e2b87a-2262-4cda-ea5b-d4d77654d99f"
      },
      "source": [
        "lexicon_labels_isear = list(set(df_isear.category))\n",
        "lexicon_labels_isear"
      ],
      "execution_count": 54,
      "outputs": [
        {
          "output_type": "execute_result",
          "data": {
            "text/plain": [
              "['disgust', 'joy', 'shame', 'guilt', 'anger', 'fear', 'sadness']"
            ]
          },
          "metadata": {
            "tags": []
          },
          "execution_count": 54
        }
      ]
    },
    {
      "cell_type": "markdown",
      "metadata": {
        "id": "Xplz0LgYGXAw",
        "colab_type": "text"
      },
      "source": [
        "## Loading datasets Valence Arousal Dominance"
      ]
    },
    {
      "cell_type": "code",
      "metadata": {
        "id": "mAiy7liZGV87",
        "colab_type": "code",
        "colab": {}
      },
      "source": [
        "# by word\n",
        "df_NRC_VAD_Lexicon = pd.read_csv('./datasets/NRC-VAD-Lexicon.csv', sep='\\t')"
      ],
      "execution_count": 55,
      "outputs": []
    },
    {
      "cell_type": "code",
      "metadata": {
        "id": "6t3zPaWaMN2c",
        "colab_type": "code",
        "colab": {}
      },
      "source": [
        "# by sentence\n",
        "df_emobank = pd.read_csv('./datasets/emobank.csv', sep=',', usecols=['split', 'text', 'V', 'A', 'D'])"
      ],
      "execution_count": 56,
      "outputs": []
    },
    {
      "cell_type": "markdown",
      "metadata": {
        "id": "UPoSp8f6nsJu",
        "colab_type": "text"
      },
      "source": [
        "### Column names"
      ]
    },
    {
      "cell_type": "code",
      "metadata": {
        "id": "4BcHH38Gnb0c",
        "colab_type": "code",
        "colab": {}
      },
      "source": [
        "df_NRC_VAD_Lexicon.columns = ['word', 'Valence', 'Arousal', 'Dominance']\n",
        "df_emobank.columns = ['split', 'Valence', 'Arousal', 'Dominance', 'sentece']"
      ],
      "execution_count": 57,
      "outputs": []
    },
    {
      "cell_type": "markdown",
      "metadata": {
        "id": "9xCKFAquoPo5",
        "colab_type": "text"
      },
      "source": [
        "## Graphs about categories"
      ]
    },
    {
      "cell_type": "code",
      "metadata": {
        "id": "-378GqCBVXSU",
        "colab_type": "code",
        "colab": {}
      },
      "source": [
        "x = ['not confident',\n",
        " 'unsure',\n",
        " 'does not handle pressure',\n",
        " 'disordered',\n",
        " 'talks to much',\n",
        " 'uninsterested',\n",
        " 'sad',\n",
        " 'unfriendly',\n",
        " 'confident',\n",
        " 'certain',\n",
        " 'handles pressure',\n",
        " 'organized',\n",
        " 'concise',\n",
        " 'interested',\n",
        " 'happy',\n",
        " 'friendly']\n",
        "xlst = [(lambda i: SIA.polarity_scores(i)['compound'])(i) for i in x]"
      ],
      "execution_count": 58,
      "outputs": []
    },
    {
      "cell_type": "code",
      "metadata": {
        "id": "IzY-Zn-lVkkM",
        "colab_type": "code",
        "colab": {}
      },
      "source": [
        "def simple_plot(x, y):\n",
        "    plt.figure(figsize=(16, 8))\n",
        "    plt.plot(x, y, linestyle='solid', color='red')\n",
        "    plt.xlabel('labels')\n",
        "    plt.ylabel('scores')\n",
        "    plt.legend(loc='upper left')\n",
        "    plt.xticks(size=10, rotation='vertical')\n",
        "    plt.yticks(size=10)\n",
        "    plt.grid(b=True)\n",
        "\n",
        "    plt.show()"
      ],
      "execution_count": 59,
      "outputs": []
    },
    {
      "cell_type": "code",
      "metadata": {
        "id": "SZTgGQerKtiL",
        "colab_type": "code",
        "colab": {
          "base_uri": "https://localhost:8080/",
          "height": 631
        },
        "outputId": "63fc0f58-cf9c-4631-bc63-ee9d32fa8132"
      },
      "source": [
        "simple_plot(x, xlst)"
      ],
      "execution_count": 60,
      "outputs": [
        {
          "output_type": "stream",
          "text": [
            "No handles with labels found to put in legend.\n"
          ],
          "name": "stderr"
        },
        {
          "output_type": "display_data",
          "data": {
            "image/png": "[encoded data removed]",
            "text/plain": [
              "<Figure size 1152x576 with 1 Axes>"
            ]
          },
          "metadata": {
            "tags": [],
            "needs_background": "light"
          }
        }
      ]
    },
    {
      "cell_type": "code",
      "metadata": {
        "id": "imYzewAkW37a",
        "colab_type": "code",
        "colab": {
          "base_uri": "https://localhost:8080/",
          "height": 34
        },
        "outputId": "21022b3b-9362-4094-a2af-f1c5237b422e"
      },
      "source": [
        "print(xlst, end=', ')"
      ],
      "execution_count": 61,
      "outputs": [
        {
          "output_type": "stream",
          "text": [
            "[-0.3875, -0.25, 0.2235, 0.0, 0.0, 0.0, -0.4767, -0.3612, 0.4939, 0.2732, -0.296, 0.0, 0.0, 0.4019, 0.5719, 0.4939], "
          ],
          "name": "stdout"
        }
      ]
    },
    {
      "cell_type": "markdown",
      "metadata": {
        "id": "Z0V0kPjDGcoI",
        "colab_type": "text"
      },
      "source": [
        "---\n",
        "# **8. Preprocessing dataframe concatenated**\n",
        "---"
      ]
    },
    {
      "cell_type": "code",
      "metadata": {
        "id": "qJ0DzxU5FlxX",
        "colab_type": "code",
        "colab": {}
      },
      "source": [
        "def preprocessing(df, c):\n",
        "    df[c] = df[c].apply(lambda x: re.sub(\"[^a-zA-Z]\", \" \", str(x)))\n",
        "    df[c] = df[c].str.lower()\n",
        "    df[c] = df[c].apply(lambda x: re.sub(r'(@[A-Za-z0-9]+)|([^0-9A-Za-zÁ-Úá-ú \\t])|(\\w+:\\/\\/\\S+)|^rt|http.+?%', '', x))\n",
        "\n",
        "    return df"
      ],
      "execution_count": 62,
      "outputs": []
    },
    {
      "cell_type": "code",
      "metadata": {
        "id": "HaC2Ywz8GOQx",
        "colab_type": "code",
        "colab": {}
      },
      "source": [
        "df = preprocessing(df_concat, 'word')"
      ],
      "execution_count": 63,
      "outputs": []
    },
    {
      "cell_type": "markdown",
      "metadata": {
        "id": "hUYTYffBGYW5",
        "colab_type": "text"
      },
      "source": [
        "## **NLP applying**"
      ]
    },
    {
      "cell_type": "code",
      "metadata": {
        "id": "_0T3Rq7dGba2",
        "colab_type": "code",
        "colab": {}
      },
      "source": [
        "def nlp_apply(df, c):\n",
        "    print('Vader')\n",
        "    df['Compound'] = df[c].apply(lambda x: SIA.polarity_scores(text=x)['compound'])\n",
        "    \n",
        "    print('TextBlob')\n",
        "    df['Subjectivity'] = df[c].apply(lambda x: text_blob_subjective(text=x))\n",
        "    \n",
        "    print('Stanza')\n",
        "    df['Stanza'] = df[c].apply(lambda x: stanza_funct(text=x))\n",
        "    \n",
        "    print('Flair')\n",
        "    df['Flair'] = df[c].apply(lambda x: ''.join([i.value for i in flair_lstm(text=x)]))\n",
        "\n",
        "    return df"
      ],
      "execution_count": 64,
      "outputs": []
    },
    {
      "cell_type": "code",
      "metadata": {
        "id": "GoyFPvyhHJgl",
        "colab_type": "code",
        "colab": {
          "base_uri": "https://localhost:8080/",
          "height": 50
        },
        "outputId": "44759ad4-2dc4-4390-b957-38f16e6a960f"
      },
      "source": [
        "df = nlp_apply(df, 'word')"
      ],
      "execution_count": null,
      "outputs": [
        {
          "output_type": "stream",
          "text": [
            "Vader\n",
            "TextBlob\n"
          ],
          "name": "stdout"
        }
      ]
    },
    {
      "cell_type": "markdown",
      "metadata": {
        "id": "iAUfjak5Gmwk",
        "colab_type": "text"
      },
      "source": [
        "## **Group by column value**"
      ]
    },
    {
      "cell_type": "code",
      "metadata": {
        "id": "WZx9rniMHTBw",
        "colab_type": "code",
        "colab": {}
      },
      "source": [
        "group = df.groupby(df.category)"
      ],
      "execution_count": null,
      "outputs": []
    },
    {
      "cell_type": "code",
      "metadata": {
        "id": "G4ClxcEGHhyA",
        "colab_type": "code",
        "colab": {}
      },
      "source": [
        "sadness = group.get_group(lexicon_labels[0])\n",
        "joy = group.get_group(lexicon_labels[1])\n",
        "trust = group.get_group(lexicon_labels[2])\n",
        "anticipation = group.get_group(lexicon_labels[3])\n",
        "anger = group.get_group(lexicon_labels[4])\n",
        "surprise = group.get_group(lexicon_labels[5])\n",
        "fear = group.get_group(lexicon_labels[6])\n",
        "disgust = group.get_group(lexicon_labels[7])"
      ],
      "execution_count": null,
      "outputs": []
    },
    {
      "cell_type": "markdown",
      "metadata": {
        "id": "3CN1CDYzE2Ly",
        "colab_type": "text"
      },
      "source": [
        "## **Dropping unnecessary scores**"
      ]
    },
    {
      "cell_type": "code",
      "metadata": {
        "id": "XL7tBcsFEjPH",
        "colab_type": "code",
        "colab": {}
      },
      "source": [
        "sadness.drop(sadness[sadness.score == 0.000000]. index, inplace=True)\n",
        "joy.drop(joy[joy.score == 0.000000]. index, inplace=True)\n",
        "trust.drop(trust[trust.score == 0.000000]. index, inplace=True)\n",
        "anticipation.drop(anticipation[anticipation.score == 0.000000]. index, inplace=True)\n",
        "anger.drop(anger[anger.score == 0.000000]. index, inplace=True)\n",
        "surprise.drop(surprise[surprise.score == 0.000000]. index, inplace=True)\n",
        "fear.drop(fear[fear.score == 0.000000]. index, inplace=True)\n",
        "disgust.drop(disgust[disgust.score == 0.000000]. index, inplace=True)"
      ],
      "execution_count": null,
      "outputs": []
    },
    {
      "cell_type": "code",
      "metadata": {
        "id": "SB7JVJnmI8Hc",
        "colab_type": "code",
        "colab": {}
      },
      "source": [
        "version = '2'\n",
        "df.to_csv('result.' + version + '.csv', encoding='utf-8', index=False)"
      ],
      "execution_count": null,
      "outputs": []
    }
  ]
}