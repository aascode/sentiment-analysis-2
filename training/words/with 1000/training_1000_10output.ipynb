{
  "nbformat": 4,
  "nbformat_minor": 0,
  "metadata": {
    "colab": {
      "name": "training_1000_10output.ipynb",
      "provenance": [],
      "collapsed_sections": [],
      "toc_visible": true,
      "machine_shape": "hm"
    },
    "kernelspec": {
      "name": "python3",
      "display_name": "Python 3"
    },
    "accelerator": "GPU"
  },
  "cells": [
    {
      "cell_type": "markdown",
      "metadata": {
        "id": "3hCJ7VTq1r-B"
      },
      "source": [
        "---\n",
        "# **Sentiment Analysis**\n",
        "---"
      ]
    },
    {
      "cell_type": "markdown",
      "metadata": {
        "id": "RrfoCSVi1uU_"
      },
      "source": [
        "---\n",
        "\n",
        "# **1. Installation**\n",
        "\n",
        "---"
      ]
    },
    {
      "cell_type": "markdown",
      "metadata": {
        "id": "jfMMl1bb1x_2"
      },
      "source": [
        "## i. Generating a reponse\n"
      ]
    },
    {
      "cell_type": "code",
      "metadata": {
        "id": "soQns5KH0mNV"
      },
      "source": [
        "import sys\n",
        "import logging\n",
        "from psutil import virtual_memory"
      ],
      "execution_count": 1,
      "outputs": []
    },
    {
      "cell_type": "code",
      "metadata": {
        "id": "WwXk46ge1zYO"
      },
      "source": [
        "gpu_info = !nvidia-smi\n",
        "gpu_info = '\\n'.join(gpu_info)\n",
        "ram_gb = virtual_memory().total / 1e9"
      ],
      "execution_count": 2,
      "outputs": []
    },
    {
      "cell_type": "code",
      "metadata": {
        "id": "AqYgi67z1zgZ"
      },
      "source": [
        "tf_response = {\n",
        "    'error': None,\n",
        "    'TF version': '',\n",
        "    'COLAB': None,\n",
        "    'GPU': False,\n",
        "    'ram_gb': ''\n",
        "}"
      ],
      "execution_count": 3,
      "outputs": []
    },
    {
      "cell_type": "code",
      "metadata": {
        "id": "CvNt2AJ51znJ",
        "outputId": "cfb1f907-875b-473f-d991-f958e52baea0",
        "colab": {
          "base_uri": "https://localhost:8080/",
          "height": 1000
        }
      },
      "source": [
        "try:\n",
        "    # drive\n",
        "    from google.colab import drive\n",
        "    IN_COLAB = 'google.colab' in sys.modules\n",
        "\n",
        "    # updating tensorflow version\n",
        "    %tensorflow_version 2.x\n",
        "\n",
        "    # tensorflow-gpu & tensorflowjs\n",
        "    !pip install tensorflow-gpu # !pip install tensorflow_text # I could use BERT\n",
        "    !pip install tensorflowjs\n",
        "\n",
        "    # NLP (nltk, stanza, spacy)\n",
        "    !pip install nltk \n",
        "    !pip install stanza\n",
        "    !pip install spacy\n",
        "    !spacy download en_core_web_sm # sm md lg\n",
        "    !python -m spacy download en\n",
        "except OSError as error:\n",
        "    # debugging error\n",
        "    response['error'] = logging.debug('You are not using your specify version of TensorFlow')\n",
        "    IN_COLAB = False\n",
        "\n",
        "    # install requirements\n",
        "    !pip install -r '../requirements.txt'\n",
        "finally:\n",
        "    tf_response['COLAB'] = IN_COLAB\n",
        "    \n",
        "    # Importing tensroflow core\n",
        "    import tensorflow as tf\n",
        "    import tensorflowjs as tfjs\n",
        "    from tensorflow import keras\n",
        "    from keras.callbacks import TensorBoard\n",
        "    from keras.utils import to_categorical\n",
        "\n",
        "    from tensorflow.keras.preprocessing.text import Tokenizer\n",
        "    from tensorflow.keras.preprocessing.sequence import pad_sequences\n",
        "\n",
        "    from tensorflow.keras.models import Sequential\n",
        "    from tensorflow.keras.layers import Dense, Flatten, LSTM, Dropout, Activation, Embedding, Bidirectional, GlobalMaxPool1D\n",
        "\n",
        "    from sklearn.model_selection import train_test_split\n",
        "    \n",
        "    # GPU and RAM response\n",
        "    if tf.config.list_physical_devices('GPU'):\n",
        "        GPU = True\n",
        "        tf_response['GPU'] = GPU\n",
        "        tf_response['TF_version'] = tf.__version__\n",
        "        \n",
        "        if tf_response['COLAB'] == True:\n",
        "            if gpu_info.find('failed') >= 0:\n",
        "                print('Select the Runtime > \"Change runtime type\" menu to enable a GPU accelerator')\n",
        "                print('Re-execute this cell.')\n",
        "            else:\n",
        "                print(gpu_info)\n",
        "            \n",
        "            if ram_gb < 20:\n",
        "                print('To enable a high-RAM runtime, select the Runtime > \"Change runtime type menu\"')\n",
        "                print('Select high-RAM in the runtime shape dropdown')\n",
        "                print('Re-execute this cell')\n",
        "                tf_response['ram_gb'] = 'low-RAM runtime'\n",
        "            else:\n",
        "                tf_response['ram_gb'] = 'high-RAM runtime'\n",
        "            print('\\nRuntime {:.2f} GB of available RAM\\n'.format(ram_gb))"
      ],
      "execution_count": 4,
      "outputs": [
        {
          "output_type": "stream",
          "text": [
            "Collecting tensorflow-gpu\n",
            "\u001b[?25l  Downloading https://files.pythonhosted.org/packages/18/99/ac32fd13d56e40d4c3e6150030132519997c0bb1f06f448d970e81b177e5/tensorflow_gpu-2.3.1-cp36-cp36m-manylinux2010_x86_64.whl (320.4MB)\n",
            "\u001b[K     |████████████████████████████████| 320.4MB 34kB/s \n",
            "\u001b[?25hRequirement already satisfied: google-pasta>=0.1.8 in /usr/local/lib/python3.6/dist-packages (from tensorflow-gpu) (0.2.0)\n",
            "Requirement already satisfied: grpcio>=1.8.6 in /usr/local/lib/python3.6/dist-packages (from tensorflow-gpu) (1.32.0)\n",
            "Requirement already satisfied: tensorflow-estimator<2.4.0,>=2.3.0 in /usr/local/lib/python3.6/dist-packages (from tensorflow-gpu) (2.3.0)\n",
            "Requirement already satisfied: protobuf>=3.9.2 in /usr/local/lib/python3.6/dist-packages (from tensorflow-gpu) (3.12.4)\n",
            "Requirement already satisfied: numpy<1.19.0,>=1.16.0 in /usr/local/lib/python3.6/dist-packages (from tensorflow-gpu) (1.18.5)\n",
            "Requirement already satisfied: astunparse==1.6.3 in /usr/local/lib/python3.6/dist-packages (from tensorflow-gpu) (1.6.3)\n",
            "Requirement already satisfied: h5py<2.11.0,>=2.10.0 in /usr/local/lib/python3.6/dist-packages (from tensorflow-gpu) (2.10.0)\n",
            "Requirement already satisfied: six>=1.12.0 in /usr/local/lib/python3.6/dist-packages (from tensorflow-gpu) (1.15.0)\n",
            "Requirement already satisfied: gast==0.3.3 in /usr/local/lib/python3.6/dist-packages (from tensorflow-gpu) (0.3.3)\n",
            "Requirement already satisfied: wheel>=0.26 in /usr/local/lib/python3.6/dist-packages (from tensorflow-gpu) (0.35.1)\n",
            "Requirement already satisfied: keras-preprocessing<1.2,>=1.1.1 in /usr/local/lib/python3.6/dist-packages (from tensorflow-gpu) (1.1.2)\n",
            "Requirement already satisfied: opt-einsum>=2.3.2 in /usr/local/lib/python3.6/dist-packages (from tensorflow-gpu) (3.3.0)\n",
            "Requirement already satisfied: tensorboard<3,>=2.3.0 in /usr/local/lib/python3.6/dist-packages (from tensorflow-gpu) (2.3.0)\n",
            "Requirement already satisfied: wrapt>=1.11.1 in /usr/local/lib/python3.6/dist-packages (from tensorflow-gpu) (1.12.1)\n",
            "Requirement already satisfied: absl-py>=0.7.0 in /usr/local/lib/python3.6/dist-packages (from tensorflow-gpu) (0.10.0)\n",
            "Requirement already satisfied: termcolor>=1.1.0 in /usr/local/lib/python3.6/dist-packages (from tensorflow-gpu) (1.1.0)\n",
            "Requirement already satisfied: setuptools in /usr/local/lib/python3.6/dist-packages (from protobuf>=3.9.2->tensorflow-gpu) (50.3.0)\n",
            "Requirement already satisfied: google-auth<2,>=1.6.3 in /usr/local/lib/python3.6/dist-packages (from tensorboard<3,>=2.3.0->tensorflow-gpu) (1.17.2)\n",
            "Requirement already satisfied: requests<3,>=2.21.0 in /usr/local/lib/python3.6/dist-packages (from tensorboard<3,>=2.3.0->tensorflow-gpu) (2.23.0)\n",
            "Requirement already satisfied: werkzeug>=0.11.15 in /usr/local/lib/python3.6/dist-packages (from tensorboard<3,>=2.3.0->tensorflow-gpu) (1.0.1)\n",
            "Requirement already satisfied: google-auth-oauthlib<0.5,>=0.4.1 in /usr/local/lib/python3.6/dist-packages (from tensorboard<3,>=2.3.0->tensorflow-gpu) (0.4.1)\n",
            "Requirement already satisfied: markdown>=2.6.8 in /usr/local/lib/python3.6/dist-packages (from tensorboard<3,>=2.3.0->tensorflow-gpu) (3.2.2)\n",
            "Requirement already satisfied: tensorboard-plugin-wit>=1.6.0 in /usr/local/lib/python3.6/dist-packages (from tensorboard<3,>=2.3.0->tensorflow-gpu) (1.7.0)\n",
            "Requirement already satisfied: pyasn1-modules>=0.2.1 in /usr/local/lib/python3.6/dist-packages (from google-auth<2,>=1.6.3->tensorboard<3,>=2.3.0->tensorflow-gpu) (0.2.8)\n",
            "Requirement already satisfied: rsa<5,>=3.1.4; python_version >= \"3\" in /usr/local/lib/python3.6/dist-packages (from google-auth<2,>=1.6.3->tensorboard<3,>=2.3.0->tensorflow-gpu) (4.6)\n",
            "Requirement already satisfied: cachetools<5.0,>=2.0.0 in /usr/local/lib/python3.6/dist-packages (from google-auth<2,>=1.6.3->tensorboard<3,>=2.3.0->tensorflow-gpu) (4.1.1)\n",
            "Requirement already satisfied: certifi>=2017.4.17 in /usr/local/lib/python3.6/dist-packages (from requests<3,>=2.21.0->tensorboard<3,>=2.3.0->tensorflow-gpu) (2020.6.20)\n",
            "Requirement already satisfied: idna<3,>=2.5 in /usr/local/lib/python3.6/dist-packages (from requests<3,>=2.21.0->tensorboard<3,>=2.3.0->tensorflow-gpu) (2.10)\n",
            "Requirement already satisfied: urllib3!=1.25.0,!=1.25.1,<1.26,>=1.21.1 in /usr/local/lib/python3.6/dist-packages (from requests<3,>=2.21.0->tensorboard<3,>=2.3.0->tensorflow-gpu) (1.24.3)\n",
            "Requirement already satisfied: chardet<4,>=3.0.2 in /usr/local/lib/python3.6/dist-packages (from requests<3,>=2.21.0->tensorboard<3,>=2.3.0->tensorflow-gpu) (3.0.4)\n",
            "Requirement already satisfied: requests-oauthlib>=0.7.0 in /usr/local/lib/python3.6/dist-packages (from google-auth-oauthlib<0.5,>=0.4.1->tensorboard<3,>=2.3.0->tensorflow-gpu) (1.3.0)\n",
            "Requirement already satisfied: importlib-metadata; python_version < \"3.8\" in /usr/local/lib/python3.6/dist-packages (from markdown>=2.6.8->tensorboard<3,>=2.3.0->tensorflow-gpu) (2.0.0)\n",
            "Requirement already satisfied: pyasn1<0.5.0,>=0.4.6 in /usr/local/lib/python3.6/dist-packages (from pyasn1-modules>=0.2.1->google-auth<2,>=1.6.3->tensorboard<3,>=2.3.0->tensorflow-gpu) (0.4.8)\n",
            "Requirement already satisfied: oauthlib>=3.0.0 in /usr/local/lib/python3.6/dist-packages (from requests-oauthlib>=0.7.0->google-auth-oauthlib<0.5,>=0.4.1->tensorboard<3,>=2.3.0->tensorflow-gpu) (3.1.0)\n",
            "Requirement already satisfied: zipp>=0.5 in /usr/local/lib/python3.6/dist-packages (from importlib-metadata; python_version < \"3.8\"->markdown>=2.6.8->tensorboard<3,>=2.3.0->tensorflow-gpu) (3.2.0)\n",
            "Installing collected packages: tensorflow-gpu\n",
            "Successfully installed tensorflow-gpu-2.3.1\n",
            "Collecting tensorflowjs\n",
            "\u001b[?25l  Downloading https://files.pythonhosted.org/packages/75/e9/50b7608357b23f24eec4bc2271eda8b9afe7a06788e0346bb153fdc309ab/tensorflowjs-2.6.0-py3-none-any.whl (61kB)\n",
            "\u001b[K     |████████████████████████████████| 71kB 4.8MB/s \n",
            "\u001b[?25hRequirement already satisfied: h5py<3,>=2.8.0 in /usr/local/lib/python3.6/dist-packages (from tensorflowjs) (2.10.0)\n",
            "Requirement already satisfied: six<2,>=1.12.0 in /usr/local/lib/python3.6/dist-packages (from tensorflowjs) (1.15.0)\n",
            "Requirement already satisfied: tensorflow<3,>=2.1.0 in /usr/local/lib/python3.6/dist-packages (from tensorflowjs) (2.3.0)\n",
            "Requirement already satisfied: tensorflow-hub<0.10,>=0.7.0 in /usr/local/lib/python3.6/dist-packages (from tensorflowjs) (0.9.0)\n",
            "Requirement already satisfied: numpy>=1.7 in /usr/local/lib/python3.6/dist-packages (from h5py<3,>=2.8.0->tensorflowjs) (1.18.5)\n",
            "Requirement already satisfied: termcolor>=1.1.0 in /usr/local/lib/python3.6/dist-packages (from tensorflow<3,>=2.1.0->tensorflowjs) (1.1.0)\n",
            "Requirement already satisfied: absl-py>=0.7.0 in /usr/local/lib/python3.6/dist-packages (from tensorflow<3,>=2.1.0->tensorflowjs) (0.10.0)\n",
            "Requirement already satisfied: grpcio>=1.8.6 in /usr/local/lib/python3.6/dist-packages (from tensorflow<3,>=2.1.0->tensorflowjs) (1.32.0)\n",
            "Requirement already satisfied: google-pasta>=0.1.8 in /usr/local/lib/python3.6/dist-packages (from tensorflow<3,>=2.1.0->tensorflowjs) (0.2.0)\n",
            "Requirement already satisfied: astunparse==1.6.3 in /usr/local/lib/python3.6/dist-packages (from tensorflow<3,>=2.1.0->tensorflowjs) (1.6.3)\n",
            "Requirement already satisfied: keras-preprocessing<1.2,>=1.1.1 in /usr/local/lib/python3.6/dist-packages (from tensorflow<3,>=2.1.0->tensorflowjs) (1.1.2)\n",
            "Requirement already satisfied: gast==0.3.3 in /usr/local/lib/python3.6/dist-packages (from tensorflow<3,>=2.1.0->tensorflowjs) (0.3.3)\n",
            "Requirement already satisfied: protobuf>=3.9.2 in /usr/local/lib/python3.6/dist-packages (from tensorflow<3,>=2.1.0->tensorflowjs) (3.12.4)\n",
            "Requirement already satisfied: opt-einsum>=2.3.2 in /usr/local/lib/python3.6/dist-packages (from tensorflow<3,>=2.1.0->tensorflowjs) (3.3.0)\n",
            "Requirement already satisfied: scipy==1.4.1 in /usr/local/lib/python3.6/dist-packages (from tensorflow<3,>=2.1.0->tensorflowjs) (1.4.1)\n",
            "Requirement already satisfied: tensorboard<3,>=2.3.0 in /usr/local/lib/python3.6/dist-packages (from tensorflow<3,>=2.1.0->tensorflowjs) (2.3.0)\n",
            "Requirement already satisfied: tensorflow-estimator<2.4.0,>=2.3.0 in /usr/local/lib/python3.6/dist-packages (from tensorflow<3,>=2.1.0->tensorflowjs) (2.3.0)\n",
            "Requirement already satisfied: wheel>=0.26 in /usr/local/lib/python3.6/dist-packages (from tensorflow<3,>=2.1.0->tensorflowjs) (0.35.1)\n",
            "Requirement already satisfied: wrapt>=1.11.1 in /usr/local/lib/python3.6/dist-packages (from tensorflow<3,>=2.1.0->tensorflowjs) (1.12.1)\n",
            "Requirement already satisfied: setuptools in /usr/local/lib/python3.6/dist-packages (from protobuf>=3.9.2->tensorflow<3,>=2.1.0->tensorflowjs) (50.3.0)\n",
            "Requirement already satisfied: werkzeug>=0.11.15 in /usr/local/lib/python3.6/dist-packages (from tensorboard<3,>=2.3.0->tensorflow<3,>=2.1.0->tensorflowjs) (1.0.1)\n",
            "Requirement already satisfied: tensorboard-plugin-wit>=1.6.0 in /usr/local/lib/python3.6/dist-packages (from tensorboard<3,>=2.3.0->tensorflow<3,>=2.1.0->tensorflowjs) (1.7.0)\n",
            "Requirement already satisfied: markdown>=2.6.8 in /usr/local/lib/python3.6/dist-packages (from tensorboard<3,>=2.3.0->tensorflow<3,>=2.1.0->tensorflowjs) (3.2.2)\n",
            "Requirement already satisfied: requests<3,>=2.21.0 in /usr/local/lib/python3.6/dist-packages (from tensorboard<3,>=2.3.0->tensorflow<3,>=2.1.0->tensorflowjs) (2.23.0)\n",
            "Requirement already satisfied: google-auth<2,>=1.6.3 in /usr/local/lib/python3.6/dist-packages (from tensorboard<3,>=2.3.0->tensorflow<3,>=2.1.0->tensorflowjs) (1.17.2)\n",
            "Requirement already satisfied: google-auth-oauthlib<0.5,>=0.4.1 in /usr/local/lib/python3.6/dist-packages (from tensorboard<3,>=2.3.0->tensorflow<3,>=2.1.0->tensorflowjs) (0.4.1)\n",
            "Requirement already satisfied: importlib-metadata; python_version < \"3.8\" in /usr/local/lib/python3.6/dist-packages (from markdown>=2.6.8->tensorboard<3,>=2.3.0->tensorflow<3,>=2.1.0->tensorflowjs) (2.0.0)\n",
            "Requirement already satisfied: certifi>=2017.4.17 in /usr/local/lib/python3.6/dist-packages (from requests<3,>=2.21.0->tensorboard<3,>=2.3.0->tensorflow<3,>=2.1.0->tensorflowjs) (2020.6.20)\n",
            "Requirement already satisfied: urllib3!=1.25.0,!=1.25.1,<1.26,>=1.21.1 in /usr/local/lib/python3.6/dist-packages (from requests<3,>=2.21.0->tensorboard<3,>=2.3.0->tensorflow<3,>=2.1.0->tensorflowjs) (1.24.3)\n",
            "Requirement already satisfied: idna<3,>=2.5 in /usr/local/lib/python3.6/dist-packages (from requests<3,>=2.21.0->tensorboard<3,>=2.3.0->tensorflow<3,>=2.1.0->tensorflowjs) (2.10)\n",
            "Requirement already satisfied: chardet<4,>=3.0.2 in /usr/local/lib/python3.6/dist-packages (from requests<3,>=2.21.0->tensorboard<3,>=2.3.0->tensorflow<3,>=2.1.0->tensorflowjs) (3.0.4)\n",
            "Requirement already satisfied: pyasn1-modules>=0.2.1 in /usr/local/lib/python3.6/dist-packages (from google-auth<2,>=1.6.3->tensorboard<3,>=2.3.0->tensorflow<3,>=2.1.0->tensorflowjs) (0.2.8)\n",
            "Requirement already satisfied: rsa<5,>=3.1.4; python_version >= \"3\" in /usr/local/lib/python3.6/dist-packages (from google-auth<2,>=1.6.3->tensorboard<3,>=2.3.0->tensorflow<3,>=2.1.0->tensorflowjs) (4.6)\n",
            "Requirement already satisfied: cachetools<5.0,>=2.0.0 in /usr/local/lib/python3.6/dist-packages (from google-auth<2,>=1.6.3->tensorboard<3,>=2.3.0->tensorflow<3,>=2.1.0->tensorflowjs) (4.1.1)\n",
            "Requirement already satisfied: requests-oauthlib>=0.7.0 in /usr/local/lib/python3.6/dist-packages (from google-auth-oauthlib<0.5,>=0.4.1->tensorboard<3,>=2.3.0->tensorflow<3,>=2.1.0->tensorflowjs) (1.3.0)\n",
            "Requirement already satisfied: zipp>=0.5 in /usr/local/lib/python3.6/dist-packages (from importlib-metadata; python_version < \"3.8\"->markdown>=2.6.8->tensorboard<3,>=2.3.0->tensorflow<3,>=2.1.0->tensorflowjs) (3.2.0)\n",
            "Requirement already satisfied: pyasn1<0.5.0,>=0.4.6 in /usr/local/lib/python3.6/dist-packages (from pyasn1-modules>=0.2.1->google-auth<2,>=1.6.3->tensorboard<3,>=2.3.0->tensorflow<3,>=2.1.0->tensorflowjs) (0.4.8)\n",
            "Requirement already satisfied: oauthlib>=3.0.0 in /usr/local/lib/python3.6/dist-packages (from requests-oauthlib>=0.7.0->google-auth-oauthlib<0.5,>=0.4.1->tensorboard<3,>=2.3.0->tensorflow<3,>=2.1.0->tensorflowjs) (3.1.0)\n",
            "Installing collected packages: tensorflowjs\n",
            "Successfully installed tensorflowjs-2.6.0\n",
            "Requirement already satisfied: nltk in /usr/local/lib/python3.6/dist-packages (3.2.5)\n",
            "Requirement already satisfied: six in /usr/local/lib/python3.6/dist-packages (from nltk) (1.15.0)\n",
            "Collecting stanza\n",
            "\u001b[?25l  Downloading https://files.pythonhosted.org/packages/e7/8b/3a9e7a8d8cb14ad6afffc3983b7a7322a3a24d94ebc978a70746fcffc085/stanza-1.1.1-py3-none-any.whl (227kB)\n",
            "\u001b[K     |████████████████████████████████| 235kB 5.4MB/s \n",
            "\u001b[?25hRequirement already satisfied: numpy in /usr/local/lib/python3.6/dist-packages (from stanza) (1.18.5)\n",
            "Requirement already satisfied: tqdm in /usr/local/lib/python3.6/dist-packages (from stanza) (4.41.1)\n",
            "Requirement already satisfied: torch>=1.3.0 in /usr/local/lib/python3.6/dist-packages (from stanza) (1.6.0+cu101)\n",
            "Requirement already satisfied: requests in /usr/local/lib/python3.6/dist-packages (from stanza) (2.23.0)\n",
            "Requirement already satisfied: protobuf in /usr/local/lib/python3.6/dist-packages (from stanza) (3.12.4)\n",
            "Requirement already satisfied: future in /usr/local/lib/python3.6/dist-packages (from torch>=1.3.0->stanza) (0.16.0)\n",
            "Requirement already satisfied: certifi>=2017.4.17 in /usr/local/lib/python3.6/dist-packages (from requests->stanza) (2020.6.20)\n",
            "Requirement already satisfied: idna<3,>=2.5 in /usr/local/lib/python3.6/dist-packages (from requests->stanza) (2.10)\n",
            "Requirement already satisfied: chardet<4,>=3.0.2 in /usr/local/lib/python3.6/dist-packages (from requests->stanza) (3.0.4)\n",
            "Requirement already satisfied: urllib3!=1.25.0,!=1.25.1,<1.26,>=1.21.1 in /usr/local/lib/python3.6/dist-packages (from requests->stanza) (1.24.3)\n",
            "Requirement already satisfied: six>=1.9 in /usr/local/lib/python3.6/dist-packages (from protobuf->stanza) (1.15.0)\n",
            "Requirement already satisfied: setuptools in /usr/local/lib/python3.6/dist-packages (from protobuf->stanza) (50.3.0)\n",
            "Installing collected packages: stanza\n",
            "Successfully installed stanza-1.1.1\n",
            "Requirement already satisfied: spacy in /usr/local/lib/python3.6/dist-packages (2.2.4)\n",
            "Requirement already satisfied: plac<1.2.0,>=0.9.6 in /usr/local/lib/python3.6/dist-packages (from spacy) (1.1.3)\n",
            "Requirement already satisfied: blis<0.5.0,>=0.4.0 in /usr/local/lib/python3.6/dist-packages (from spacy) (0.4.1)\n",
            "Requirement already satisfied: requests<3.0.0,>=2.13.0 in /usr/local/lib/python3.6/dist-packages (from spacy) (2.23.0)\n",
            "Requirement already satisfied: thinc==7.4.0 in /usr/local/lib/python3.6/dist-packages (from spacy) (7.4.0)\n",
            "Requirement already satisfied: wasabi<1.1.0,>=0.4.0 in /usr/local/lib/python3.6/dist-packages (from spacy) (0.8.0)\n",
            "Requirement already satisfied: srsly<1.1.0,>=1.0.2 in /usr/local/lib/python3.6/dist-packages (from spacy) (1.0.2)\n",
            "Requirement already satisfied: setuptools in /usr/local/lib/python3.6/dist-packages (from spacy) (50.3.0)\n",
            "Requirement already satisfied: preshed<3.1.0,>=3.0.2 in /usr/local/lib/python3.6/dist-packages (from spacy) (3.0.2)\n",
            "Requirement already satisfied: murmurhash<1.1.0,>=0.28.0 in /usr/local/lib/python3.6/dist-packages (from spacy) (1.0.2)\n",
            "Requirement already satisfied: tqdm<5.0.0,>=4.38.0 in /usr/local/lib/python3.6/dist-packages (from spacy) (4.41.1)\n",
            "Requirement already satisfied: numpy>=1.15.0 in /usr/local/lib/python3.6/dist-packages (from spacy) (1.18.5)\n",
            "Requirement already satisfied: catalogue<1.1.0,>=0.0.7 in /usr/local/lib/python3.6/dist-packages (from spacy) (1.0.0)\n",
            "Requirement already satisfied: cymem<2.1.0,>=2.0.2 in /usr/local/lib/python3.6/dist-packages (from spacy) (2.0.3)\n",
            "Requirement already satisfied: chardet<4,>=3.0.2 in /usr/local/lib/python3.6/dist-packages (from requests<3.0.0,>=2.13.0->spacy) (3.0.4)\n",
            "Requirement already satisfied: idna<3,>=2.5 in /usr/local/lib/python3.6/dist-packages (from requests<3.0.0,>=2.13.0->spacy) (2.10)\n",
            "Requirement already satisfied: certifi>=2017.4.17 in /usr/local/lib/python3.6/dist-packages (from requests<3.0.0,>=2.13.0->spacy) (2020.6.20)\n",
            "Requirement already satisfied: urllib3!=1.25.0,!=1.25.1,<1.26,>=1.21.1 in /usr/local/lib/python3.6/dist-packages (from requests<3.0.0,>=2.13.0->spacy) (1.24.3)\n",
            "Requirement already satisfied: importlib-metadata>=0.20; python_version < \"3.8\" in /usr/local/lib/python3.6/dist-packages (from catalogue<1.1.0,>=0.0.7->spacy) (2.0.0)\n",
            "Requirement already satisfied: zipp>=0.5 in /usr/local/lib/python3.6/dist-packages (from importlib-metadata>=0.20; python_version < \"3.8\"->catalogue<1.1.0,>=0.0.7->spacy) (3.2.0)\n",
            "Requirement already satisfied: en_core_web_sm==2.2.5 from https://github.com/explosion/spacy-models/releases/download/en_core_web_sm-2.2.5/en_core_web_sm-2.2.5.tar.gz#egg=en_core_web_sm==2.2.5 in /usr/local/lib/python3.6/dist-packages (2.2.5)\n",
            "Requirement already satisfied: spacy>=2.2.2 in /usr/local/lib/python3.6/dist-packages (from en_core_web_sm==2.2.5) (2.2.4)\n",
            "Requirement already satisfied: plac<1.2.0,>=0.9.6 in /usr/local/lib/python3.6/dist-packages (from spacy>=2.2.2->en_core_web_sm==2.2.5) (1.1.3)\n",
            "Requirement already satisfied: setuptools in /usr/local/lib/python3.6/dist-packages (from spacy>=2.2.2->en_core_web_sm==2.2.5) (50.3.0)\n",
            "Requirement already satisfied: catalogue<1.1.0,>=0.0.7 in /usr/local/lib/python3.6/dist-packages (from spacy>=2.2.2->en_core_web_sm==2.2.5) (1.0.0)\n",
            "Requirement already satisfied: requests<3.0.0,>=2.13.0 in /usr/local/lib/python3.6/dist-packages (from spacy>=2.2.2->en_core_web_sm==2.2.5) (2.23.0)\n",
            "Requirement already satisfied: murmurhash<1.1.0,>=0.28.0 in /usr/local/lib/python3.6/dist-packages (from spacy>=2.2.2->en_core_web_sm==2.2.5) (1.0.2)\n",
            "Requirement already satisfied: blis<0.5.0,>=0.4.0 in /usr/local/lib/python3.6/dist-packages (from spacy>=2.2.2->en_core_web_sm==2.2.5) (0.4.1)\n",
            "Requirement already satisfied: cymem<2.1.0,>=2.0.2 in /usr/local/lib/python3.6/dist-packages (from spacy>=2.2.2->en_core_web_sm==2.2.5) (2.0.3)\n",
            "Requirement already satisfied: wasabi<1.1.0,>=0.4.0 in /usr/local/lib/python3.6/dist-packages (from spacy>=2.2.2->en_core_web_sm==2.2.5) (0.8.0)\n",
            "Requirement already satisfied: srsly<1.1.0,>=1.0.2 in /usr/local/lib/python3.6/dist-packages (from spacy>=2.2.2->en_core_web_sm==2.2.5) (1.0.2)\n",
            "Requirement already satisfied: tqdm<5.0.0,>=4.38.0 in /usr/local/lib/python3.6/dist-packages (from spacy>=2.2.2->en_core_web_sm==2.2.5) (4.41.1)\n",
            "Requirement already satisfied: thinc==7.4.0 in /usr/local/lib/python3.6/dist-packages (from spacy>=2.2.2->en_core_web_sm==2.2.5) (7.4.0)\n",
            "Requirement already satisfied: preshed<3.1.0,>=3.0.2 in /usr/local/lib/python3.6/dist-packages (from spacy>=2.2.2->en_core_web_sm==2.2.5) (3.0.2)\n",
            "Requirement already satisfied: numpy>=1.15.0 in /usr/local/lib/python3.6/dist-packages (from spacy>=2.2.2->en_core_web_sm==2.2.5) (1.18.5)\n",
            "Requirement already satisfied: importlib-metadata>=0.20; python_version < \"3.8\" in /usr/local/lib/python3.6/dist-packages (from catalogue<1.1.0,>=0.0.7->spacy>=2.2.2->en_core_web_sm==2.2.5) (2.0.0)\n",
            "Requirement already satisfied: urllib3!=1.25.0,!=1.25.1,<1.26,>=1.21.1 in /usr/local/lib/python3.6/dist-packages (from requests<3.0.0,>=2.13.0->spacy>=2.2.2->en_core_web_sm==2.2.5) (1.24.3)\n",
            "Requirement already satisfied: chardet<4,>=3.0.2 in /usr/local/lib/python3.6/dist-packages (from requests<3.0.0,>=2.13.0->spacy>=2.2.2->en_core_web_sm==2.2.5) (3.0.4)\n",
            "Requirement already satisfied: certifi>=2017.4.17 in /usr/local/lib/python3.6/dist-packages (from requests<3.0.0,>=2.13.0->spacy>=2.2.2->en_core_web_sm==2.2.5) (2020.6.20)\n",
            "Requirement already satisfied: idna<3,>=2.5 in /usr/local/lib/python3.6/dist-packages (from requests<3.0.0,>=2.13.0->spacy>=2.2.2->en_core_web_sm==2.2.5) (2.10)\n",
            "Requirement already satisfied: zipp>=0.5 in /usr/local/lib/python3.6/dist-packages (from importlib-metadata>=0.20; python_version < \"3.8\"->catalogue<1.1.0,>=0.0.7->spacy>=2.2.2->en_core_web_sm==2.2.5) (3.2.0)\n",
            "\u001b[38;5;2m✔ Download and installation successful\u001b[0m\n",
            "You can now load the model via spacy.load('en_core_web_sm')\n",
            "Requirement already satisfied: en_core_web_sm==2.2.5 from https://github.com/explosion/spacy-models/releases/download/en_core_web_sm-2.2.5/en_core_web_sm-2.2.5.tar.gz#egg=en_core_web_sm==2.2.5 in /usr/local/lib/python3.6/dist-packages (2.2.5)\n",
            "Requirement already satisfied: spacy>=2.2.2 in /usr/local/lib/python3.6/dist-packages (from en_core_web_sm==2.2.5) (2.2.4)\n",
            "Requirement already satisfied: srsly<1.1.0,>=1.0.2 in /usr/local/lib/python3.6/dist-packages (from spacy>=2.2.2->en_core_web_sm==2.2.5) (1.0.2)\n",
            "Requirement already satisfied: wasabi<1.1.0,>=0.4.0 in /usr/local/lib/python3.6/dist-packages (from spacy>=2.2.2->en_core_web_sm==2.2.5) (0.8.0)\n",
            "Requirement already satisfied: cymem<2.1.0,>=2.0.2 in /usr/local/lib/python3.6/dist-packages (from spacy>=2.2.2->en_core_web_sm==2.2.5) (2.0.3)\n",
            "Requirement already satisfied: thinc==7.4.0 in /usr/local/lib/python3.6/dist-packages (from spacy>=2.2.2->en_core_web_sm==2.2.5) (7.4.0)\n",
            "Requirement already satisfied: numpy>=1.15.0 in /usr/local/lib/python3.6/dist-packages (from spacy>=2.2.2->en_core_web_sm==2.2.5) (1.18.5)\n",
            "Requirement already satisfied: preshed<3.1.0,>=3.0.2 in /usr/local/lib/python3.6/dist-packages (from spacy>=2.2.2->en_core_web_sm==2.2.5) (3.0.2)\n",
            "Requirement already satisfied: requests<3.0.0,>=2.13.0 in /usr/local/lib/python3.6/dist-packages (from spacy>=2.2.2->en_core_web_sm==2.2.5) (2.23.0)\n",
            "Requirement already satisfied: tqdm<5.0.0,>=4.38.0 in /usr/local/lib/python3.6/dist-packages (from spacy>=2.2.2->en_core_web_sm==2.2.5) (4.41.1)\n",
            "Requirement already satisfied: catalogue<1.1.0,>=0.0.7 in /usr/local/lib/python3.6/dist-packages (from spacy>=2.2.2->en_core_web_sm==2.2.5) (1.0.0)\n",
            "Requirement already satisfied: setuptools in /usr/local/lib/python3.6/dist-packages (from spacy>=2.2.2->en_core_web_sm==2.2.5) (50.3.0)\n",
            "Requirement already satisfied: murmurhash<1.1.0,>=0.28.0 in /usr/local/lib/python3.6/dist-packages (from spacy>=2.2.2->en_core_web_sm==2.2.5) (1.0.2)\n",
            "Requirement already satisfied: plac<1.2.0,>=0.9.6 in /usr/local/lib/python3.6/dist-packages (from spacy>=2.2.2->en_core_web_sm==2.2.5) (1.1.3)\n",
            "Requirement already satisfied: blis<0.5.0,>=0.4.0 in /usr/local/lib/python3.6/dist-packages (from spacy>=2.2.2->en_core_web_sm==2.2.5) (0.4.1)\n",
            "Requirement already satisfied: idna<3,>=2.5 in /usr/local/lib/python3.6/dist-packages (from requests<3.0.0,>=2.13.0->spacy>=2.2.2->en_core_web_sm==2.2.5) (2.10)\n",
            "Requirement already satisfied: chardet<4,>=3.0.2 in /usr/local/lib/python3.6/dist-packages (from requests<3.0.0,>=2.13.0->spacy>=2.2.2->en_core_web_sm==2.2.5) (3.0.4)\n",
            "Requirement already satisfied: certifi>=2017.4.17 in /usr/local/lib/python3.6/dist-packages (from requests<3.0.0,>=2.13.0->spacy>=2.2.2->en_core_web_sm==2.2.5) (2020.6.20)\n",
            "Requirement already satisfied: urllib3!=1.25.0,!=1.25.1,<1.26,>=1.21.1 in /usr/local/lib/python3.6/dist-packages (from requests<3.0.0,>=2.13.0->spacy>=2.2.2->en_core_web_sm==2.2.5) (1.24.3)\n",
            "Requirement already satisfied: importlib-metadata>=0.20; python_version < \"3.8\" in /usr/local/lib/python3.6/dist-packages (from catalogue<1.1.0,>=0.0.7->spacy>=2.2.2->en_core_web_sm==2.2.5) (2.0.0)\n",
            "Requirement already satisfied: zipp>=0.5 in /usr/local/lib/python3.6/dist-packages (from importlib-metadata>=0.20; python_version < \"3.8\"->catalogue<1.1.0,>=0.0.7->spacy>=2.2.2->en_core_web_sm==2.2.5) (3.2.0)\n",
            "\u001b[38;5;2m✔ Download and installation successful\u001b[0m\n",
            "You can now load the model via spacy.load('en_core_web_sm')\n",
            "\u001b[38;5;2m✔ Linking successful\u001b[0m\n",
            "/usr/local/lib/python3.6/dist-packages/en_core_web_sm -->\n",
            "/usr/local/lib/python3.6/dist-packages/spacy/data/en\n",
            "You can now load the model via spacy.load('en')\n",
            "Fri Oct 23 23:37:06 2020       \n",
            "+-----------------------------------------------------------------------------+\n",
            "| NVIDIA-SMI 455.23.05    Driver Version: 418.67       CUDA Version: 10.1     |\n",
            "|-------------------------------+----------------------+----------------------+\n",
            "| GPU  Name        Persistence-M| Bus-Id        Disp.A | Volatile Uncorr. ECC |\n",
            "| Fan  Temp  Perf  Pwr:Usage/Cap|         Memory-Usage | GPU-Util  Compute M. |\n",
            "|                               |                      |               MIG M. |\n",
            "|===============================+======================+======================|\n",
            "|   0  Tesla V100-SXM2...  Off  | 00000000:00:04.0 Off |                    0 |\n",
            "| N/A   32C    P0    24W / 300W |      0MiB / 16130MiB |      0%      Default |\n",
            "|                               |                      |                 ERR! |\n",
            "+-------------------------------+----------------------+----------------------+\n",
            "                                                                               \n",
            "+-----------------------------------------------------------------------------+\n",
            "| Processes:                                                                  |\n",
            "|  GPU   GI   CI        PID   Type   Process name                  GPU Memory |\n",
            "|        ID   ID                                                   Usage      |\n",
            "|=============================================================================|\n",
            "|  No running processes found                                                 |\n",
            "+-----------------------------------------------------------------------------+\n",
            "\n",
            "Runtime 27.39 GB of available RAM\n",
            "\n"
          ],
          "name": "stdout"
        }
      ]
    },
    {
      "cell_type": "code",
      "metadata": {
        "id": "ye99iKv617qQ",
        "outputId": "068360a8-5604-48ab-8893-a17cfd91f654",
        "colab": {
          "base_uri": "https://localhost:8080/",
          "height": 119
        }
      },
      "source": [
        "tf_response"
      ],
      "execution_count": 5,
      "outputs": [
        {
          "output_type": "execute_result",
          "data": {
            "text/plain": [
              "{'COLAB': True,\n",
              " 'GPU': True,\n",
              " 'TF version': '',\n",
              " 'TF_version': '2.3.1',\n",
              " 'error': None,\n",
              " 'ram_gb': 'high-RAM runtime'}"
            ]
          },
          "metadata": {
            "tags": []
          },
          "execution_count": 5
        }
      ]
    },
    {
      "cell_type": "code",
      "metadata": {
        "id": "htKWGEPB0cna"
      },
      "source": [
        "# tensorboard folder\n",
        "!rm -rf logs\n",
        "!mkdir logs"
      ],
      "execution_count": 6,
      "outputs": []
    },
    {
      "cell_type": "markdown",
      "metadata": {
        "id": "IFNjTuvU1_C_"
      },
      "source": [
        "## ii. Importing modules\n"
      ]
    },
    {
      "cell_type": "code",
      "metadata": {
        "id": "OIh873U819qU"
      },
      "source": [
        "# Data analysis\n",
        "from collections import Counter\n",
        "import matplotlib.pyplot as plt\n",
        "import pandas as pd\n",
        "import numpy as np\n",
        "import sys\n",
        "import re\n",
        "\n",
        "%matplotlib inline\n",
        "\n",
        "# Image\n",
        "from wordcloud import WordCloud, STOPWORDS, ImageColorGenerator # to create a Word Cloud\n",
        "from PIL import Image # Pillow with WordCloud to image manipulation"
      ],
      "execution_count": 7,
      "outputs": []
    },
    {
      "cell_type": "code",
      "metadata": {
        "id": "6lhfhNt72CLr",
        "outputId": "dd1aa39f-ba92-4b7d-bb9c-badb4b493124",
        "colab": {
          "base_uri": "https://localhost:8080/",
          "height": 85
        }
      },
      "source": [
        "# nltk\n",
        "import nltk\n",
        "from nltk.corpus import stopwords\n",
        "from nltk.stem import WordNetLemmatizer\n",
        "\n",
        "nltk.download('stopwords')\n",
        "nltk.download('wordnet')\n",
        "\n",
        "STOPWORDS = set(stopwords.words('english'))"
      ],
      "execution_count": 8,
      "outputs": [
        {
          "output_type": "stream",
          "text": [
            "[nltk_data] Downloading package stopwords to /root/nltk_data...\n",
            "[nltk_data]   Unzipping corpora/stopwords.zip.\n",
            "[nltk_data] Downloading package wordnet to /root/nltk_data...\n",
            "[nltk_data]   Unzipping corpora/wordnet.zip.\n"
          ],
          "name": "stdout"
        }
      ]
    },
    {
      "cell_type": "code",
      "metadata": {
        "id": "T82WGVnN2EwF",
        "outputId": "d89610a9-fc5e-4ccf-cfa7-db9b738a947e",
        "colab": {
          "base_uri": "https://localhost:8080/",
          "height": 561
        }
      },
      "source": [
        "# Stanza NLP\n",
        "import stanza\n",
        "\n",
        "stanza.download('en', package='ewt', processors='tokenize,mwt,pos,lemma', verbose=True)\n",
        "stNLP = stanza.Pipeline(processors='tokenize,mwt,pos,lemma',\n",
        "                      lang='en',\n",
        "                      use_gpu=True)"
      ],
      "execution_count": 9,
      "outputs": [
        {
          "output_type": "stream",
          "text": [
            "Downloading https://raw.githubusercontent.com/stanfordnlp/stanza-resources/master/resources_1.1.0.json: 122kB [00:00, 34.6MB/s]                    \n",
            "2020-10-23 23:38:15 WARNING: Can not find mwt: ewt from official model list. Ignoring it.\n",
            "2020-10-23 23:38:15 INFO: Downloading these customized packages for language: en (English)...\n",
            "=======================\n",
            "| Processor | Package |\n",
            "-----------------------\n",
            "| tokenize  | ewt     |\n",
            "| pos       | ewt     |\n",
            "| lemma     | ewt     |\n",
            "| pretrain  | ewt     |\n",
            "=======================\n",
            "\n",
            "Downloading http://nlp.stanford.edu/software/stanza/1.1.0/en/tokenize/ewt.pt: 100%|██████████| 631k/631k [00:01<00:00, 381kB/s]\n",
            "Downloading http://nlp.stanford.edu/software/stanza/1.1.0/en/pos/ewt.pt: 100%|██████████| 22.1M/22.1M [00:10<00:00, 2.14MB/s]\n",
            "Downloading http://nlp.stanford.edu/software/stanza/1.1.0/en/lemma/ewt.pt: 100%|██████████| 3.36M/3.36M [00:04<00:00, 829kB/s] \n",
            "Downloading http://nlp.stanford.edu/software/stanza/1.1.0/en/pretrain/ewt.pt: 100%|██████████| 156M/156M [02:44<00:00, 948kB/s]\n",
            "2020-10-23 23:41:23 INFO: Finished downloading models and saved to /root/stanza_resources.\n",
            "2020-10-23 23:41:23 WARNING: Can not find mwt: default from official model list. Ignoring it.\n",
            "2020-10-23 23:41:23 INFO: Loading these models for language: en (English):\n",
            "=======================\n",
            "| Processor | Package |\n",
            "-----------------------\n",
            "| tokenize  | ewt     |\n",
            "| pos       | ewt     |\n",
            "| lemma     | ewt     |\n",
            "=======================\n",
            "\n",
            "2020-10-23 23:41:23 INFO: Use device: gpu\n",
            "2020-10-23 23:41:23 INFO: Loading: tokenize\n",
            "2020-10-23 23:41:33 INFO: Loading: pos\n",
            "2020-10-23 23:41:34 INFO: Loading: lemma\n",
            "2020-10-23 23:41:34 INFO: Done loading processors!\n"
          ],
          "name": "stderr"
        }
      ]
    },
    {
      "cell_type": "code",
      "metadata": {
        "id": "9236VgMj2Gwg",
        "outputId": "947a1fcf-51a8-401f-d0c2-c9dde80f64e2",
        "colab": {
          "base_uri": "https://localhost:8080/",
          "height": 136
        }
      },
      "source": [
        "# testing stanza\n",
        "doc = stNLP('Barack Obama was born in Hawai.')\n",
        "print(*[f'word: {word.text+\" \"}\\tlemma: {word.lemma}' for sent in doc.sentences for word in sent.words], sep='\\n')"
      ],
      "execution_count": 10,
      "outputs": [
        {
          "output_type": "stream",
          "text": [
            "word: Barack \tlemma: Barack\n",
            "word: Obama \tlemma: Obama\n",
            "word: was \tlemma: be\n",
            "word: born \tlemma: bear\n",
            "word: in \tlemma: in\n",
            "word: Hawai \tlemma: Hawai\n",
            "word: . \tlemma: .\n"
          ],
          "name": "stdout"
        }
      ]
    },
    {
      "cell_type": "code",
      "metadata": {
        "id": "-4QpRgR02IDL"
      },
      "source": [
        "# Spacy NLP\n",
        "import spacy\n",
        "spNLP = spacy.load('en_core_web_sm')\n",
        "spNLP.max_length = 103950039 # or higher\n",
        "# spacy.prefer_gpu() #will not work with stanza"
      ],
      "execution_count": 11,
      "outputs": []
    },
    {
      "cell_type": "markdown",
      "metadata": {
        "id": "x6iiQVT42Jo3"
      },
      "source": [
        "\n",
        "---\n",
        "\n",
        "# **2. Hyperparameters**\n",
        "\n",
        "---"
      ]
    },
    {
      "cell_type": "code",
      "metadata": {
        "id": "hIpxO61l0gcD"
      },
      "source": [
        "FILE = 'datasets/categories_dataset.csv'\n",
        "MODEL_PATH = './models/model.h5'"
      ],
      "execution_count": 12,
      "outputs": []
    },
    {
      "cell_type": "code",
      "metadata": {
        "id": "KUv__06r2LOQ"
      },
      "source": [
        "EPOCHS = 200\n",
        "BATCH_SIZE = 8 # 8, 16, 32, 64, 128\n",
        "vocab_size = 5000\n",
        "padding_shape = 30\n",
        "#validation_split = 0.2"
      ],
      "execution_count": 13,
      "outputs": []
    },
    {
      "cell_type": "code",
      "metadata": {
        "id": "YBKrSlNb0fIs"
      },
      "source": [
        "main_labels = ['confident', 'unconfident',\n",
        "               'pos_hp', 'neg_hp',\n",
        "               'interested', 'uninterested',\n",
        "               'happy', 'unhappy',\n",
        "               'friendly', 'unfriendly']\n",
        "\n",
        "label_dict = dict(zip(main_labels, range(1, len(main_labels) + 1)))"
      ],
      "execution_count": 14,
      "outputs": []
    },
    {
      "cell_type": "code",
      "metadata": {
        "id": "OyVrjQ46nEMd",
        "outputId": "899987cf-0862-4e90-cea9-b88846fa9dce",
        "colab": {
          "base_uri": "https://localhost:8080/",
          "height": 187
        }
      },
      "source": [
        "label_dict"
      ],
      "execution_count": 15,
      "outputs": [
        {
          "output_type": "execute_result",
          "data": {
            "text/plain": [
              "{'confident': 1,\n",
              " 'friendly': 9,\n",
              " 'happy': 7,\n",
              " 'interested': 5,\n",
              " 'neg_hp': 4,\n",
              " 'pos_hp': 3,\n",
              " 'unconfident': 2,\n",
              " 'unfriendly': 10,\n",
              " 'unhappy': 8,\n",
              " 'uninterested': 6}"
            ]
          },
          "metadata": {
            "tags": []
          },
          "execution_count": 15
        }
      ]
    },
    {
      "cell_type": "markdown",
      "metadata": {
        "id": "lO32c_pD2NzO"
      },
      "source": [
        "---\n",
        "\n",
        "# **3. Lemmatization**\n",
        "\n",
        "---"
      ]
    },
    {
      "cell_type": "code",
      "metadata": {
        "id": "Lb6Wbv0U2OeH"
      },
      "source": [
        "# lemmatizion\n",
        "# stanza\n",
        "def stanza_lemma(text):\n",
        "    doc = stNLP(text)\n",
        "    return ' '.join([word.lemma for sent in doc.sentences for word in sent.words])"
      ],
      "execution_count": 16,
      "outputs": []
    },
    {
      "cell_type": "code",
      "metadata": {
        "id": "RdtBcgKB2PaB"
      },
      "source": [
        "def nltk_lemma(text):\n",
        "    lemmatizer = WordNetLemmatizer()\n",
        "    lemmatizer.lemmatize(text)"
      ],
      "execution_count": 17,
      "outputs": []
    },
    {
      "cell_type": "markdown",
      "metadata": {
        "id": "1yfg8TVR2SL_"
      },
      "source": [
        "---\n",
        "# **4. Load dataset**\n",
        "---"
      ]
    },
    {
      "cell_type": "code",
      "metadata": {
        "id": "gUCh3RCa2VS8"
      },
      "source": [
        "def load_clean_dataset():\n",
        "    !mkdir -p datasets\n",
        "    !wget -nc https://raw.githubusercontent.com/Y4rd13/sentiment-analysis/master/datasets/results/categories_dataset_1000.csv -P datasets\n",
        "    df = pd.read_csv('./datasets/categories_dataset_1000.csv', encoding='utf-8', index_col=0)\n",
        "    \n",
        "    print(df.head())\n",
        "    x, y = df['word'], df['category']\n",
        "\n",
        "    return x, y"
      ],
      "execution_count": 18,
      "outputs": []
    },
    {
      "cell_type": "markdown",
      "metadata": {
        "id": "kleN4LtF2-bg"
      },
      "source": [
        "---\n",
        "# **5. Prepare dataset**\n",
        "---"
      ]
    },
    {
      "cell_type": "code",
      "metadata": {
        "id": "uDdZHwMcolpC"
      },
      "source": [
        "def preprocess(x, padding_shape=30):\n",
        "    return np.array([ord(i.lower()) - ord('a')+1 if not i.isdigit() and i != ' ' else 0 for i in list(x)] + ([0] * (padding_shape - len(x))), dtype=int)"
      ],
      "execution_count": 19,
      "outputs": []
    },
    {
      "cell_type": "code",
      "metadata": {
        "id": "-y-Y8HxI3E7B"
      },
      "source": [
        "def prepare_dataset(labeldict : dict, test_size=.3, validation_size=.1): \n",
        "    print('preparing the dataset...\\n')\n",
        "    \n",
        "    from sklearn import preprocessing\n",
        "\n",
        "    # load dataset\n",
        "    # split dataset (as string into panda.core.series.Serie object)\n",
        "    x, y = load_clean_dataset()\n",
        "\n",
        "    x = np.array(list(map(preprocess, x)))\n",
        "    y = np.array(list(map(lambda x: labeldict[x.replace(' ', '_')], y)))\n",
        "    print(('\\n\\ny array: \\n{}').format(y))\n",
        "\n",
        "    # create/split train, validation and test and shuffle the data\n",
        "    x_train, x_test, y_train, y_test = train_test_split(x, y, test_size=test_size, shuffle=True)\n",
        "    print(x.max(), x.min())\n",
        "\n",
        "    x_train_val, x_validation, y_train_val, y_validation = train_test_split(x_train, y_train, test_size=test_size, shuffle=True)\n",
        "\n",
        "    # pandas.core.series.Series to numpy array\n",
        "    x_train, y_train = np.array(x_train), np.array(y_train)\n",
        "    x_validation, y_validation =  np.array(x_validation), np.array(y_validation)\n",
        "    x_test, y_test = np.array(x_test), np.array(y_test)\n",
        "    \n",
        "    x_train_val, y_train_val = np.array(x_train_val), np.array(y_train_val)\n",
        "\n",
        "    # to categorical : y\n",
        "    y_train = to_categorical(y_train-1)\n",
        "    y_validation = to_categorical(y_validation-1)\n",
        "    y_test = to_categorical(y_test-1)\n",
        "    y_train_val = to_categorical(y_train_val-1)    \n",
        "    print(('\\nx_train: \\n{}\\n\\ny_train: \\n{}').format(x_train_val, y_train_val))\n",
        "\n",
        "    return (x_train, y_train), (x_validation, y_validation), (x_test, y_test), (x_train_val, y_train_val)"
      ],
      "execution_count": 20,
      "outputs": []
    },
    {
      "cell_type": "markdown",
      "metadata": {
        "id": "LQEwk09b4PD_"
      },
      "source": [
        "---\n",
        "# **4. Build model**\n",
        "---"
      ]
    },
    {
      "cell_type": "code",
      "metadata": {
        "id": "tD18U_yE4SOA"
      },
      "source": [
        "def build_model(vocab_size, embedding_dim=64, input_length=30):\n",
        "    print('\\nbuilding the model...\\n')\n",
        "\n",
        "    model = tf.keras.Sequential([\n",
        "        tf.keras.layers.Embedding(input_dim=(vocab_size + 1), output_dim=embedding_dim, input_length=input_length),\n",
        "        tf.keras.layers.Bidirectional(tf.keras.layers.LSTM(32, return_sequences=True, dropout=0.1)),\n",
        "        tf.keras.layers.Bidirectional(tf.keras.layers.LSTM(32, return_sequences=True, dropout=0.1)),\n",
        "        tf.keras.layers.GlobalMaxPool1D(),\n",
        "        tf.keras.layers.Dropout(0.1),\n",
        "        tf.keras.layers.Dense(32, activation='tanh', kernel_regularizer=tf.keras.regularizers.L2(l2=0.00001)),\n",
        "        \n",
        "        # softmax output layer\n",
        "        tf.keras.layers.Dense(10, activation='softmax')\n",
        "    ])\n",
        "\n",
        "    # optimizer & loss\n",
        "    opt = tf.optimizers.RMSprop(learning_rate=0.01)\n",
        "    loss = 'categorical_crossentropy'\n",
        "\n",
        "    # Metrics\n",
        "    # AUC: Computes the approximate AUC (Area Under the Curve) via a Riemann sum.\n",
        "    # Precision: Computes the precision of the predictions with respect to the labels.\n",
        "    # Recall: Computes the recall of the predictions with respect to the labels.\n",
        "    metrics = ['accuracy', 'AUC','Precision', 'Recall']\n",
        "\n",
        "    # compile model\n",
        "    model.compile(optimizer=opt, \n",
        "                  loss=loss,\n",
        "                  metrics=metrics)\n",
        "    \n",
        "    model.summary()\n",
        "\n",
        "    return model"
      ],
      "execution_count": 21,
      "outputs": []
    },
    {
      "cell_type": "markdown",
      "metadata": {
        "id": "Zf048l554Uug"
      },
      "source": [
        "---\n",
        "# **6. Train model** \n",
        "---"
      ]
    },
    {
      "cell_type": "code",
      "metadata": {
        "id": "c-pVOZYb4T3T"
      },
      "source": [
        "def train(model, x_train, y_train, x_validation, y_validation,\n",
        "          epochs, batch_size, patience=5, \n",
        "          verbose=2, monitor_es='accuracy', mode_es='auto', restore=True,\n",
        "          monitor_mc='val_accuracy', mode_mc='max'):\n",
        "    \n",
        "    print('\\ntraining...\\n')\n",
        "    print(x_train.shape, y_train.shape)\n",
        "    # callback\n",
        "    early_stopping = tf.keras.callbacks.EarlyStopping(monitor=monitor_es,\n",
        "                                                      verbose=1, mode=mode_es, restore_best_weights=restore,\n",
        "                                                      min_delta=1e-3, patience=patience)\n",
        "    \n",
        "    model_checkpoint = tf.keras.callbacks.ModelCheckpoint('tfjsmode.h5', monitor=monitor_mc, mode=mode_mc,      \n",
        "                                                          verbose=1, save_best_only=True)\n",
        "\n",
        "    # Define Tensorboard as a Keras callback\n",
        "    #tensorboard = TensorBoard(log_dir='./logs', histogram_freq=1, write_images=True)\n",
        "\n",
        "    keras_callbacks = [early_stopping, model_checkpoint]\n",
        "\n",
        "    # train model\n",
        "    history = model.fit(x_train, y_train,\n",
        "                        batch_size=batch_size, epochs=epochs, verbose=verbose,\n",
        "                        validation_data=(x_validation, y_validation),\n",
        "                        callbacks=keras_callbacks)\n",
        "    return history"
      ],
      "execution_count": 22,
      "outputs": []
    },
    {
      "cell_type": "markdown",
      "metadata": {
        "id": "gy3DyM-b4XPg"
      },
      "source": [
        "---\n",
        "# **7. Plotting history**\n",
        "---"
      ]
    },
    {
      "cell_type": "code",
      "metadata": {
        "id": "ssFJ3CIe4YPn"
      },
      "source": [
        "def plot_history(history, string):\n",
        "    fitModel_dict = history.history\n",
        "\n",
        "    plt.figure(figsize=(10, 6))\n",
        "    plt.plot(fitModel_dict[string])\n",
        "    plt.plot(fitModel_dict['val_' + string])\n",
        "    plt.xlabel('Epochs')\n",
        "    plt.ylabel(string)\n",
        "    plt.legend([string, 'val_' + string])\n",
        "    plt.show()"
      ],
      "execution_count": 23,
      "outputs": []
    },
    {
      "cell_type": "markdown",
      "metadata": {
        "id": "oScqNNBXsL7Y"
      },
      "source": [
        "---\n",
        "# **8. Prediction**\n",
        "---"
      ]
    },
    {
      "cell_type": "code",
      "metadata": {
        "id": "ekhWVsv7sK7z"
      },
      "source": [
        "def predict(d : dict, s : str, model):\n",
        "    token = preprocess(s)\n",
        "    output = model.predict(np.array([token]))\n",
        "    id = int(tf.keras.backend.argmax(output))\n",
        "    print(output)\n",
        "\n",
        "    for k, v in d.items():\n",
        "        if v == id:\n",
        "            return k, id\n",
        "\n",
        "    return 'unclassified'"
      ],
      "execution_count": 24,
      "outputs": []
    },
    {
      "cell_type": "markdown",
      "metadata": {
        "id": "02Lry1jA4b4w"
      },
      "source": [
        "---\n",
        "# **9. Main**\n",
        "---"
      ]
    },
    {
      "cell_type": "markdown",
      "metadata": {
        "id": "dOSAppBqHQTJ"
      },
      "source": [
        "## Preparing dataset & building the model"
      ]
    },
    {
      "cell_type": "code",
      "metadata": {
        "id": "j1BALgvxi3_U",
        "outputId": "772f5fa5-4a50-415c-a136-97dddfbc9b1d",
        "colab": {
          "base_uri": "https://localhost:8080/",
          "height": 1000
        }
      },
      "source": [
        "# prepare the dataset\n",
        "(x_train, y_train), (x_validation, y_validation), (x_test, y_test), (x_test_val, y_test_val) = prepare_dataset(label_dict, test_size=.2)\n",
        "\n",
        "print('\\n\\nX shapes\\n')\n",
        "print(x_train.shape, x_validation.shape, x_test.shape)\n",
        "\n",
        "print('\\n\\nY shapes\\n')\n",
        "print(y_train.shape, y_validation.shape, y_test.shape)\n",
        "\n",
        "print('\\n\\nY train')\n",
        "print(y_train)\n",
        "\n",
        "\n",
        "# build the model\n",
        "model = build_model(vocab_size)"
      ],
      "execution_count": 25,
      "outputs": [
        {
          "output_type": "stream",
          "text": [
            "preparing the dataset...\n",
            "\n",
            "--2020-10-23 23:41:36--  https://raw.githubusercontent.com/Y4rd13/sentiment-analysis/master/datasets/results/categories_dataset_1000.csv\n",
            "Resolving raw.githubusercontent.com (raw.githubusercontent.com)... 151.101.0.133, 151.101.64.133, 151.101.128.133, ...\n",
            "Connecting to raw.githubusercontent.com (raw.githubusercontent.com)|151.101.0.133|:443... connected.\n",
            "HTTP request sent, awaiting response... 200 OK\n",
            "Length: 74784 (73K) [text/plain]\n",
            "Saving to: ‘datasets/categories_dataset_1000.csv’\n",
            "\n",
            "categories_dataset_ 100%[===================>]  73.03K  --.-KB/s    in 0.008s  \n",
            "\n",
            "2020-10-23 23:41:37 (8.60 MB/s) - ‘datasets/categories_dataset_1000.csv’ saved [74784/74784]\n",
            "\n",
            "   Arousal  Compound  Dominance  ... Valence   category          word\n",
            "0     0.55      0.30       0.74  ...    0.89  confident     tolerance\n",
            "1     0.55      0.00       0.74  ...    0.89  confident         carry\n",
            "2     0.55      0.42       0.74  ...    0.89  confident   tranquility\n",
            "3     0.55      0.00       0.74  ...    0.89  confident  socontagious\n",
            "4     0.55      0.00       0.74  ...    0.89  confident          zeal\n",
            "\n",
            "[5 rows x 12 columns]\n",
            "\n",
            "\n",
            "y array: \n",
            "[ 1  1  1  1  1  1  1  1  1  1  1  1  1  1  1  1  1  1  1  1  1  1  1  1\n",
            "  1  1  1  1  1  1  1  1  1  1  1  1  1  1  1  1  1  1  1  1  1  1  1  1\n",
            "  1  1  1  1  1  1  1  1  1  1  1  1  1  1  1  1  1  1  1  1  1  1  1  1\n",
            "  1  1  1  1  1  1  1  1  1  1  1  1  1  1  1  1  1  1  1  1  1  1  1  1\n",
            "  1  1  1  1  9  9  9  9  9  9  9  9  9  9  9  9  9  9  9  9  9  9  9  9\n",
            "  9  9  9  9  9  9  9  9  9  9  9  9  9  9  9  9  9  9  9  9  9  9  9  9\n",
            "  9  9  9  9  9  9  9  9  9  9  9  9  9  9  9  9  9  9  9  9  9  9  9  9\n",
            "  9  9  9  9  9  9  9  9  9  9  9  9  9  9  9  9  9  9  9  9  9  9  9  9\n",
            "  9  9  9  9  9  9  9  9  7  7  7  7  7  7  7  7  7  7  7  7  7  7  7  7\n",
            "  7  7  7  7  7  7  7  7  7  7  7  7  7  7  7  7  7  7  7  7  7  7  7  7\n",
            "  7  7  7  7  7  7  7  7  7  7  7  7  7  7  7  7  7  7  7  7  7  7  7  7\n",
            "  7  7  7  7  7  7  7  7  7  7  7  7  7  7  7  7  7  7  7  7  7  7  7  7\n",
            "  7  7  7  7  7  7  7  7  7  7  7  7  5  5  5  5  5  5  5  5  5  5  5  5\n",
            "  5  5  5  5  5  5  5  5  5  5  5  5  5  5  5  5  5  5  5  5  5  5  5  5\n",
            "  5  5  5  5  5  5  5  5  5  5  5  5  5  5  5  5  5  5  5  5  5  5  5  5\n",
            "  5  5  5  5  5  5  5  5  5  5  5  5  5  5  5  5  5  5  5  5  5  5  5  5\n",
            "  5  5  5  5  5  5  5  5  5  5  5  5  5  5  5  5  4  4  4  4  4  4  4  4\n",
            "  4  4  4  4  4  4  4  4  4  4  4  4  4  4  4  4  4  4  4  4  4  4  4  4\n",
            "  4  4  4  4  4  4  4  4  4  4  4  4  4  4  4  4  4  4  4  4  4  4  4  4\n",
            "  4  4  4  4  4  4  4  4  4  4  4  4  4  4  4  4  4  4  4  4  4  4  4  4\n",
            "  4  4  4  4  4  4  4  4  4  4  4  4  4  4  4  4  4  4  4  4  3  3  3  3\n",
            "  3  3  3  3  3  3  3  3  3  3  3  3  3  3  3  3  3  3  3  3  3  3  3  3\n",
            "  3  3  3  3  3  3  3  3  3  3  3  3  3  3  3  3  3  3  3  3  3  3  3  3\n",
            "  3  3  3  3  3  3  3  3  3  3  3  3  3  3  3  3  3  3  3  3  3  3  3  3\n",
            "  3  3  3  3  3  3  3  3  3  3  3  3  3  3  3  3  3  3  3  3  3  3  3  3\n",
            "  2  2  2  2  2  2  2  2  2  2  2  2  2  2  2  2  2  2  2  2  2  2  2  2\n",
            "  2  2  2  2  2  2  2  2  2  2  2  2  2  2  2  2  2  2  2  2  2  2  2  2\n",
            "  2  2  2  2  2  2  2  2  2  2  2  2  2  2  2  2  2  2  2  2  2  2  2  2\n",
            "  2  2  2  2  2  2  2  2  2  2  2  2  2  2  2  2  2  2  2  2  2  2  2  2\n",
            "  2  2  2  2 10 10 10 10 10 10 10 10 10 10 10 10 10 10 10 10 10 10 10 10\n",
            " 10 10 10 10 10 10 10 10 10 10 10 10 10 10 10 10 10 10 10 10 10 10 10 10\n",
            " 10 10 10 10 10 10 10 10 10 10 10 10 10 10 10 10 10 10 10 10 10 10 10 10\n",
            " 10 10 10 10 10 10 10 10 10 10 10 10 10 10 10 10 10 10 10 10 10 10 10 10\n",
            " 10 10 10 10 10 10 10 10  8  8  8  8  8  8  8  8  8  8  8  8  8  8  8  8\n",
            "  8  8  8  8  8  8  8  8  8  8  8  8  8  8  8  8  8  8  8  8  8  8  8  8\n",
            "  8  8  8  8  8  8  8  8  8  8  8  8  8  8  8  8  8  8  8  8  8  8  8  8\n",
            "  8  8  8  8  8  8  8  8  8  8  8  8  8  8  8  8  8  8  8  8  8  8  8  8\n",
            "  8  8  8  8  8  8  8  8  8  8  8  8  6  6  6  6  6  6  6  6  6  6  6  6\n",
            "  6  6  6  6  6  6  6  6  6  6  6  6  6  6  6  6  6  6  6  6  6  6  6  6\n",
            "  6  6  6  6  6  6  6  6  6  6  6  6  6  6  6  6  6  6  6  6  6  6  6  6\n",
            "  6  6  6  6  6  6  6  6  6  6  6  6  6  6  6  6  6  6  6  6  6  6  6  6\n",
            "  6  6  6  6  6  6  6  6  6  6  6  6  6  6  6  6]\n",
            "26 0\n",
            "\n",
            "x_train: \n",
            "[[21 14  5 ...  0  0  0]\n",
            " [18  5 16 ...  0  0  0]\n",
            " [ 2  5  8 ...  0  0  0]\n",
            " ...\n",
            " [ 6 18 15 ...  0  0  0]\n",
            " [13 21 18 ...  0  0  0]\n",
            " [21 14  7 ...  0  0  0]]\n",
            "\n",
            "y_train: \n",
            "[[0. 0. 0. ... 0. 0. 1.]\n",
            " [0. 0. 0. ... 0. 0. 0.]\n",
            " [1. 0. 0. ... 0. 0. 0.]\n",
            " ...\n",
            " [0. 0. 0. ... 0. 1. 0.]\n",
            " [0. 1. 0. ... 0. 0. 0.]\n",
            " [0. 0. 0. ... 0. 0. 1.]]\n",
            "\n",
            "\n",
            "X shapes\n",
            "\n",
            "(800, 30) (160, 30) (200, 30)\n",
            "\n",
            "\n",
            "Y shapes\n",
            "\n",
            "(800, 10) (160, 10) (200, 10)\n",
            "\n",
            "\n",
            "Y train\n",
            "[[0. 1. 0. ... 0. 0. 0.]\n",
            " [0. 0. 0. ... 0. 0. 0.]\n",
            " [0. 0. 0. ... 0. 0. 1.]\n",
            " ...\n",
            " [0. 0. 0. ... 0. 0. 0.]\n",
            " [0. 0. 0. ... 0. 1. 0.]\n",
            " [0. 1. 0. ... 0. 0. 0.]]\n",
            "\n",
            "building the model...\n",
            "\n",
            "Model: \"sequential\"\n",
            "_________________________________________________________________\n",
            "Layer (type)                 Output Shape              Param #   \n",
            "=================================================================\n",
            "embedding (Embedding)        (None, 30, 64)            320064    \n",
            "_________________________________________________________________\n",
            "bidirectional (Bidirectional (None, 30, 64)            24832     \n",
            "_________________________________________________________________\n",
            "bidirectional_1 (Bidirection (None, 30, 64)            24832     \n",
            "_________________________________________________________________\n",
            "global_max_pooling1d (Global (None, 64)                0         \n",
            "_________________________________________________________________\n",
            "dropout (Dropout)            (None, 64)                0         \n",
            "_________________________________________________________________\n",
            "dense (Dense)                (None, 32)                2080      \n",
            "_________________________________________________________________\n",
            "dense_1 (Dense)              (None, 10)                330       \n",
            "=================================================================\n",
            "Total params: 372,138\n",
            "Trainable params: 372,138\n",
            "Non-trainable params: 0\n",
            "_________________________________________________________________\n"
          ],
          "name": "stdout"
        }
      ]
    },
    {
      "cell_type": "markdown",
      "metadata": {
        "id": "UOio7LRHHTMl"
      },
      "source": [
        "## Training"
      ]
    },
    {
      "cell_type": "code",
      "metadata": {
        "id": "XS_cMXislcAr",
        "outputId": "28209bc5-911a-42f7-a79b-29f4458451ca",
        "colab": {
          "base_uri": "https://localhost:8080/",
          "height": 1000
        }
      },
      "source": [
        "# train the model\n",
        "history = train(model=model, x_train=x_train, y_train=y_train, batch_size=BATCH_SIZE,\n",
        "                x_validation=x_validation, y_validation=y_validation,\n",
        "                epochs=EPOCHS, verbose=1, monitor_es='val_loss', mode_es='min', restore=False)"
      ],
      "execution_count": 26,
      "outputs": [
        {
          "output_type": "stream",
          "text": [
            "\n",
            "training...\n",
            "\n",
            "(800, 30) (800, 10)\n",
            "Epoch 1/200\n",
            " 97/100 [============================>.] - ETA: 0s - loss: 2.1661 - accuracy: 0.1675 - auc: 0.6505 - precision: 0.4255 - recall: 0.0258\n",
            "Epoch 00001: val_accuracy improved from -inf to 0.26250, saving model to tfjsmode.h5\n",
            "100/100 [==============================] - 3s 32ms/step - loss: 2.1510 - accuracy: 0.1700 - auc: 0.6575 - precision: 0.4259 - recall: 0.0288 - val_loss: 1.8482 - val_accuracy: 0.2625 - val_auc: 0.7898 - val_precision: 0.4545 - val_recall: 0.0625\n",
            "Epoch 2/200\n",
            " 97/100 [============================>.] - ETA: 0s - loss: 1.7659 - accuracy: 0.2745 - auc: 0.8116 - precision: 0.3972 - recall: 0.0722\n",
            "Epoch 00002: val_accuracy improved from 0.26250 to 0.34375, saving model to tfjsmode.h5\n",
            "100/100 [==============================] - 2s 16ms/step - loss: 1.7655 - accuracy: 0.2738 - auc: 0.8118 - precision: 0.3986 - recall: 0.0712 - val_loss: 1.5680 - val_accuracy: 0.3438 - val_auc: 0.8614 - val_precision: 0.6000 - val_recall: 0.0188\n",
            "Epoch 3/200\n",
            " 97/100 [============================>.] - ETA: 0s - loss: 1.6595 - accuracy: 0.3170 - auc: 0.8384 - precision: 0.4634 - recall: 0.0979\n",
            "Epoch 00003: val_accuracy improved from 0.34375 to 0.37500, saving model to tfjsmode.h5\n",
            "100/100 [==============================] - 2s 17ms/step - loss: 1.6657 - accuracy: 0.3162 - auc: 0.8368 - precision: 0.4643 - recall: 0.0975 - val_loss: 1.5002 - val_accuracy: 0.3750 - val_auc: 0.8716 - val_precision: 0.5909 - val_recall: 0.0812\n",
            "Epoch 4/200\n",
            " 97/100 [============================>.] - ETA: 0s - loss: 1.5297 - accuracy: 0.3737 - auc: 0.8653 - precision: 0.5185 - recall: 0.1624\n",
            "Epoch 00004: val_accuracy improved from 0.37500 to 0.41250, saving model to tfjsmode.h5\n",
            "100/100 [==============================] - 2s 16ms/step - loss: 1.5363 - accuracy: 0.3725 - auc: 0.8640 - precision: 0.5119 - recall: 0.1612 - val_loss: 1.4014 - val_accuracy: 0.4125 - val_auc: 0.8904 - val_precision: 0.7143 - val_recall: 0.1562\n",
            "Epoch 5/200\n",
            " 97/100 [============================>.] - ETA: 0s - loss: 1.4242 - accuracy: 0.4137 - auc: 0.8857 - precision: 0.5338 - recall: 0.2139\n",
            "Epoch 00005: val_accuracy improved from 0.41250 to 0.50000, saving model to tfjsmode.h5\n",
            "100/100 [==============================] - 2s 16ms/step - loss: 1.4230 - accuracy: 0.4137 - auc: 0.8859 - precision: 0.5363 - recall: 0.2125 - val_loss: 1.2689 - val_accuracy: 0.5000 - val_auc: 0.9122 - val_precision: 0.6418 - val_recall: 0.2688\n",
            "Epoch 6/200\n",
            "100/100 [==============================] - ETA: 0s - loss: 1.2973 - accuracy: 0.4712 - auc: 0.9056 - precision: 0.5681 - recall: 0.2713\n",
            "Epoch 00006: val_accuracy improved from 0.50000 to 0.51875, saving model to tfjsmode.h5\n",
            "100/100 [==============================] - 2s 17ms/step - loss: 1.2973 - accuracy: 0.4712 - auc: 0.9056 - precision: 0.5681 - recall: 0.2713 - val_loss: 1.1752 - val_accuracy: 0.5188 - val_auc: 0.9245 - val_precision: 0.7042 - val_recall: 0.3125\n",
            "Epoch 7/200\n",
            " 97/100 [============================>.] - ETA: 0s - loss: 1.2585 - accuracy: 0.4768 - auc: 0.9116 - precision: 0.6025 - recall: 0.3067\n",
            "Epoch 00007: val_accuracy improved from 0.51875 to 0.59375, saving model to tfjsmode.h5\n",
            "100/100 [==============================] - 2s 16ms/step - loss: 1.2563 - accuracy: 0.4762 - auc: 0.9118 - precision: 0.5971 - recall: 0.3038 - val_loss: 1.0683 - val_accuracy: 0.5938 - val_auc: 0.9366 - val_precision: 0.7564 - val_recall: 0.3688\n",
            "Epoch 8/200\n",
            " 97/100 [============================>.] - ETA: 0s - loss: 1.1620 - accuracy: 0.5052 - auc: 0.9237 - precision: 0.6022 - recall: 0.3492\n",
            "Epoch 00008: val_accuracy did not improve from 0.59375\n",
            "100/100 [==============================] - 2s 16ms/step - loss: 1.1612 - accuracy: 0.5038 - auc: 0.9239 - precision: 0.6039 - recall: 0.3487 - val_loss: 0.9965 - val_accuracy: 0.5938 - val_auc: 0.9465 - val_precision: 0.7349 - val_recall: 0.3812\n",
            "Epoch 9/200\n",
            " 97/100 [============================>.] - ETA: 0s - loss: 1.1094 - accuracy: 0.5412 - auc: 0.9311 - precision: 0.6108 - recall: 0.3943\n",
            "Epoch 00009: val_accuracy improved from 0.59375 to 0.61250, saving model to tfjsmode.h5\n",
            "100/100 [==============================] - 2s 16ms/step - loss: 1.0971 - accuracy: 0.5462 - auc: 0.9326 - precision: 0.6149 - recall: 0.4013 - val_loss: 0.8596 - val_accuracy: 0.6125 - val_auc: 0.9573 - val_precision: 0.7130 - val_recall: 0.5125\n",
            "Epoch 10/200\n",
            " 97/100 [============================>.] - ETA: 0s - loss: 1.0119 - accuracy: 0.5773 - auc: 0.9432 - precision: 0.6548 - recall: 0.4742\n",
            "Epoch 00010: val_accuracy improved from 0.61250 to 0.65000, saving model to tfjsmode.h5\n",
            "100/100 [==============================] - 2s 16ms/step - loss: 1.0104 - accuracy: 0.5800 - auc: 0.9433 - precision: 0.6569 - recall: 0.4762 - val_loss: 0.8256 - val_accuracy: 0.6500 - val_auc: 0.9621 - val_precision: 0.6791 - val_recall: 0.5688\n",
            "Epoch 11/200\n",
            "100/100 [==============================] - ETA: 0s - loss: 0.9661 - accuracy: 0.5813 - auc: 0.9458 - precision: 0.6270 - recall: 0.4875\n",
            "Epoch 00011: val_accuracy improved from 0.65000 to 0.68125, saving model to tfjsmode.h5\n",
            "100/100 [==============================] - 2s 16ms/step - loss: 0.9661 - accuracy: 0.5813 - auc: 0.9458 - precision: 0.6270 - recall: 0.4875 - val_loss: 0.7355 - val_accuracy: 0.6812 - val_auc: 0.9704 - val_precision: 0.7563 - val_recall: 0.5625\n",
            "Epoch 12/200\n",
            " 97/100 [============================>.] - ETA: 0s - loss: 0.8721 - accuracy: 0.6340 - auc: 0.9553 - precision: 0.6682 - recall: 0.5554\n",
            "Epoch 00012: val_accuracy improved from 0.68125 to 0.72500, saving model to tfjsmode.h5\n",
            "100/100 [==============================] - 2s 17ms/step - loss: 0.8751 - accuracy: 0.6313 - auc: 0.9551 - precision: 0.6672 - recall: 0.5537 - val_loss: 0.6724 - val_accuracy: 0.7250 - val_auc: 0.9739 - val_precision: 0.7754 - val_recall: 0.6687\n",
            "Epoch 13/200\n",
            "100/100 [==============================] - ETA: 0s - loss: 0.8203 - accuracy: 0.6388 - auc: 0.9601 - precision: 0.6913 - recall: 0.5738\n",
            "Epoch 00013: val_accuracy did not improve from 0.72500\n",
            "100/100 [==============================] - 2s 16ms/step - loss: 0.8203 - accuracy: 0.6388 - auc: 0.9601 - precision: 0.6913 - recall: 0.5738 - val_loss: 0.6802 - val_accuracy: 0.7063 - val_auc: 0.9738 - val_precision: 0.7552 - val_recall: 0.6750\n",
            "Epoch 14/200\n",
            " 97/100 [============================>.] - ETA: 0s - loss: 0.7457 - accuracy: 0.6843 - auc: 0.9671 - precision: 0.7075 - recall: 0.6327\n",
            "Epoch 00014: val_accuracy did not improve from 0.72500\n",
            "100/100 [==============================] - 2s 16ms/step - loss: 0.7533 - accuracy: 0.6825 - auc: 0.9666 - precision: 0.7053 - recall: 0.6313 - val_loss: 0.6059 - val_accuracy: 0.7000 - val_auc: 0.9777 - val_precision: 0.7219 - val_recall: 0.6812\n",
            "Epoch 15/200\n",
            " 97/100 [============================>.] - ETA: 0s - loss: 0.7208 - accuracy: 0.6727 - auc: 0.9693 - precision: 0.7055 - recall: 0.6327\n",
            "Epoch 00015: val_accuracy did not improve from 0.72500\n",
            "100/100 [==============================] - 2s 16ms/step - loss: 0.7225 - accuracy: 0.6700 - auc: 0.9692 - precision: 0.7024 - recall: 0.6313 - val_loss: 0.7552 - val_accuracy: 0.6687 - val_auc: 0.9686 - val_precision: 0.7192 - val_recall: 0.6562\n",
            "Epoch 16/200\n",
            " 97/100 [============================>.] - ETA: 0s - loss: 0.7253 - accuracy: 0.6778 - auc: 0.9697 - precision: 0.7145 - recall: 0.6418\n",
            "Epoch 00016: val_accuracy improved from 0.72500 to 0.75000, saving model to tfjsmode.h5\n",
            "100/100 [==============================] - 2s 16ms/step - loss: 0.7249 - accuracy: 0.6787 - auc: 0.9693 - precision: 0.7149 - recall: 0.6425 - val_loss: 0.5196 - val_accuracy: 0.7500 - val_auc: 0.9840 - val_precision: 0.7733 - val_recall: 0.7250\n",
            "Epoch 17/200\n",
            " 97/100 [============================>.] - ETA: 0s - loss: 0.6478 - accuracy: 0.7204 - auc: 0.9752 - precision: 0.7422 - recall: 0.6714\n",
            "Epoch 00017: val_accuracy improved from 0.75000 to 0.75625, saving model to tfjsmode.h5\n",
            "100/100 [==============================] - 2s 16ms/step - loss: 0.6492 - accuracy: 0.7225 - auc: 0.9753 - precision: 0.7448 - recall: 0.6750 - val_loss: 0.5924 - val_accuracy: 0.7563 - val_auc: 0.9800 - val_precision: 0.7881 - val_recall: 0.7437\n",
            "Epoch 18/200\n",
            " 97/100 [============================>.] - ETA: 0s - loss: 0.6292 - accuracy: 0.7320 - auc: 0.9753 - precision: 0.7521 - recall: 0.6959\n",
            "Epoch 00018: val_accuracy did not improve from 0.75625\n",
            "100/100 [==============================] - 2s 16ms/step - loss: 0.6246 - accuracy: 0.7312 - auc: 0.9756 - precision: 0.7527 - recall: 0.6963 - val_loss: 0.4448 - val_accuracy: 0.7500 - val_auc: 0.9871 - val_precision: 0.7662 - val_recall: 0.7375\n",
            "Epoch 19/200\n",
            " 97/100 [============================>.] - ETA: 0s - loss: 0.6157 - accuracy: 0.7358 - auc: 0.9773 - precision: 0.7594 - recall: 0.7036\n",
            "Epoch 00019: val_accuracy improved from 0.75625 to 0.81250, saving model to tfjsmode.h5\n",
            "100/100 [==============================] - 2s 16ms/step - loss: 0.6145 - accuracy: 0.7387 - auc: 0.9775 - precision: 0.7611 - recall: 0.7050 - val_loss: 0.3959 - val_accuracy: 0.8125 - val_auc: 0.9908 - val_precision: 0.8280 - val_recall: 0.8125\n",
            "Epoch 20/200\n",
            " 97/100 [============================>.] - ETA: 0s - loss: 0.5512 - accuracy: 0.7616 - auc: 0.9803 - precision: 0.7880 - recall: 0.7281\n",
            "Epoch 00020: val_accuracy improved from 0.81250 to 0.83750, saving model to tfjsmode.h5\n",
            "100/100 [==============================] - 2s 16ms/step - loss: 0.5663 - accuracy: 0.7538 - auc: 0.9796 - precision: 0.7829 - recall: 0.7212 - val_loss: 0.3710 - val_accuracy: 0.8375 - val_auc: 0.9922 - val_precision: 0.8431 - val_recall: 0.8062\n",
            "Epoch 21/200\n",
            " 97/100 [============================>.] - ETA: 0s - loss: 0.5335 - accuracy: 0.7526 - auc: 0.9828 - precision: 0.7840 - recall: 0.7345\n",
            "Epoch 00021: val_accuracy did not improve from 0.83750\n",
            "100/100 [==============================] - 2s 16ms/step - loss: 0.5276 - accuracy: 0.7538 - auc: 0.9832 - precision: 0.7864 - recall: 0.7362 - val_loss: 0.3453 - val_accuracy: 0.8313 - val_auc: 0.9922 - val_precision: 0.8526 - val_recall: 0.8313\n",
            "Epoch 22/200\n",
            " 97/100 [============================>.] - ETA: 0s - loss: 0.5601 - accuracy: 0.7461 - auc: 0.9816 - precision: 0.7653 - recall: 0.7397\n",
            "Epoch 00022: val_accuracy did not improve from 0.83750\n",
            "100/100 [==============================] - 2s 16ms/step - loss: 0.5566 - accuracy: 0.7475 - auc: 0.9819 - precision: 0.7661 - recall: 0.7412 - val_loss: 0.3961 - val_accuracy: 0.7812 - val_auc: 0.9899 - val_precision: 0.8039 - val_recall: 0.7688\n",
            "Epoch 23/200\n",
            " 97/100 [============================>.] - ETA: 0s - loss: 0.5722 - accuracy: 0.7281 - auc: 0.9792 - precision: 0.7510 - recall: 0.7113\n",
            "Epoch 00023: val_accuracy improved from 0.83750 to 0.85625, saving model to tfjsmode.h5\n",
            "100/100 [==============================] - 2s 16ms/step - loss: 0.5706 - accuracy: 0.7300 - auc: 0.9794 - precision: 0.7526 - recall: 0.7113 - val_loss: 0.3047 - val_accuracy: 0.8562 - val_auc: 0.9944 - val_precision: 0.8616 - val_recall: 0.8562\n",
            "Epoch 24/200\n",
            " 97/100 [============================>.] - ETA: 0s - loss: 0.4882 - accuracy: 0.7809 - auc: 0.9842 - precision: 0.7938 - recall: 0.7590\n",
            "Epoch 00024: val_accuracy did not improve from 0.85625\n",
            "100/100 [==============================] - 2s 16ms/step - loss: 0.5018 - accuracy: 0.7775 - auc: 0.9837 - precision: 0.7895 - recall: 0.7550 - val_loss: 0.3688 - val_accuracy: 0.8250 - val_auc: 0.9913 - val_precision: 0.8301 - val_recall: 0.7937\n",
            "Epoch 25/200\n",
            " 97/100 [============================>.] - ETA: 0s - loss: 0.5408 - accuracy: 0.7616 - auc: 0.9800 - precision: 0.7743 - recall: 0.7294\n",
            "Epoch 00025: val_accuracy did not improve from 0.85625\n",
            "100/100 [==============================] - 2s 16ms/step - loss: 0.5343 - accuracy: 0.7650 - auc: 0.9804 - precision: 0.7775 - recall: 0.7337 - val_loss: 0.3347 - val_accuracy: 0.8188 - val_auc: 0.9927 - val_precision: 0.8269 - val_recall: 0.8062\n",
            "Epoch 26/200\n",
            " 97/100 [============================>.] - ETA: 0s - loss: 0.5041 - accuracy: 0.7655 - auc: 0.9834 - precision: 0.7824 - recall: 0.7461\n",
            "Epoch 00026: val_accuracy did not improve from 0.85625\n",
            "100/100 [==============================] - 2s 16ms/step - loss: 0.5015 - accuracy: 0.7638 - auc: 0.9835 - precision: 0.7801 - recall: 0.7450 - val_loss: 0.3141 - val_accuracy: 0.8250 - val_auc: 0.9929 - val_precision: 0.8387 - val_recall: 0.8125\n",
            "Epoch 27/200\n",
            "100/100 [==============================] - ETA: 0s - loss: 0.4738 - accuracy: 0.7800 - auc: 0.9853 - precision: 0.8053 - recall: 0.7650\n",
            "Epoch 00027: val_accuracy improved from 0.85625 to 0.86250, saving model to tfjsmode.h5\n",
            "100/100 [==============================] - 2s 16ms/step - loss: 0.4738 - accuracy: 0.7800 - auc: 0.9853 - precision: 0.8053 - recall: 0.7650 - val_loss: 0.3165 - val_accuracy: 0.8625 - val_auc: 0.9936 - val_precision: 0.8774 - val_recall: 0.8500\n",
            "Epoch 28/200\n",
            " 97/100 [============================>.] - ETA: 0s - loss: 0.5078 - accuracy: 0.7758 - auc: 0.9829 - precision: 0.7912 - recall: 0.7616\n",
            "Epoch 00028: val_accuracy did not improve from 0.86250\n",
            "100/100 [==============================] - 2s 16ms/step - loss: 0.5073 - accuracy: 0.7738 - auc: 0.9829 - precision: 0.7906 - recall: 0.7600 - val_loss: 0.2633 - val_accuracy: 0.8625 - val_auc: 0.9950 - val_precision: 0.8608 - val_recall: 0.8500\n",
            "Epoch 29/200\n",
            " 97/100 [============================>.] - ETA: 0s - loss: 0.4688 - accuracy: 0.7835 - auc: 0.9852 - precision: 0.7973 - recall: 0.7706\n",
            "Epoch 00029: val_accuracy did not improve from 0.86250\n",
            "100/100 [==============================] - 2s 16ms/step - loss: 0.4670 - accuracy: 0.7850 - auc: 0.9854 - precision: 0.7982 - recall: 0.7713 - val_loss: 0.3485 - val_accuracy: 0.8313 - val_auc: 0.9928 - val_precision: 0.8354 - val_recall: 0.8250\n",
            "Epoch 30/200\n",
            " 97/100 [============================>.] - ETA: 0s - loss: 0.5007 - accuracy: 0.7603 - auc: 0.9840 - precision: 0.7755 - recall: 0.7436\n",
            "Epoch 00030: val_accuracy did not improve from 0.86250\n",
            "100/100 [==============================] - 2s 16ms/step - loss: 0.4985 - accuracy: 0.7613 - auc: 0.9840 - precision: 0.7757 - recall: 0.7437 - val_loss: 0.2800 - val_accuracy: 0.8500 - val_auc: 0.9950 - val_precision: 0.8654 - val_recall: 0.8438\n",
            "Epoch 31/200\n",
            " 97/100 [============================>.] - ETA: 0s - loss: 0.4712 - accuracy: 0.7912 - auc: 0.9855 - precision: 0.7963 - recall: 0.7758\n",
            "Epoch 00031: val_accuracy improved from 0.86250 to 0.86875, saving model to tfjsmode.h5\n",
            "100/100 [==============================] - 2s 17ms/step - loss: 0.4707 - accuracy: 0.7925 - auc: 0.9851 - precision: 0.7974 - recall: 0.7775 - val_loss: 0.2816 - val_accuracy: 0.8687 - val_auc: 0.9948 - val_precision: 0.8718 - val_recall: 0.8500\n",
            "Epoch 32/200\n",
            " 97/100 [============================>.] - ETA: 0s - loss: 0.4569 - accuracy: 0.7719 - auc: 0.9861 - precision: 0.7871 - recall: 0.7577\n",
            "Epoch 00032: val_accuracy did not improve from 0.86875\n",
            "100/100 [==============================] - 2s 16ms/step - loss: 0.4574 - accuracy: 0.7713 - auc: 0.9861 - precision: 0.7860 - recall: 0.7575 - val_loss: 0.3680 - val_accuracy: 0.8500 - val_auc: 0.9876 - val_precision: 0.8535 - val_recall: 0.8375\n",
            "Epoch 33/200\n",
            " 97/100 [============================>.] - ETA: 0s - loss: 0.4699 - accuracy: 0.7861 - auc: 0.9848 - precision: 0.8013 - recall: 0.7745\n",
            "Epoch 00033: val_accuracy did not improve from 0.86875\n",
            "100/100 [==============================] - 2s 16ms/step - loss: 0.4704 - accuracy: 0.7850 - auc: 0.9849 - precision: 0.8008 - recall: 0.7738 - val_loss: 0.3593 - val_accuracy: 0.8062 - val_auc: 0.9927 - val_precision: 0.8165 - val_recall: 0.8062\n",
            "Epoch 00033: early stopping\n"
          ],
          "name": "stdout"
        }
      ]
    },
    {
      "cell_type": "code",
      "metadata": {
        "id": "PrrZbYi-jNXa",
        "outputId": "315152b4-ce40-40f0-827c-21ff032cdece",
        "colab": {
          "base_uri": "https://localhost:8080/",
          "height": 761
        }
      },
      "source": [
        "plot_history(history, 'accuracy')\n",
        "plot_history(history, 'loss')"
      ],
      "execution_count": 27,
      "outputs": [
        {
          "output_type": "display_data",
          "data": {
            "image/png": "[encoded data removed]",
            "text/plain": [
              "<Figure size 720x432 with 1 Axes>"
            ]
          },
          "metadata": {
            "tags": [],
            "needs_background": "light"
          }
        },
        {
          "output_type": "display_data",
          "data": {
            "image/png": "[encoded data removed]",
            "text/plain": [
              "<Figure size 720x432 with 1 Axes>"
            ]
          },
          "metadata": {
            "tags": [],
            "needs_background": "light"
          }
        }
      ]
    },
    {
      "cell_type": "code",
      "metadata": {
        "id": "HSWyLroRu55z",
        "outputId": "1e83dd9e-3fd4-45fb-a325-d1f96ec52159",
        "colab": {
          "base_uri": "https://localhost:8080/",
          "height": 1000
        }
      },
      "source": [
        "plot_history(history, 'precision')\n",
        "plot_history(history, 'recall')\n",
        "plot_history(history, 'auc')"
      ],
      "execution_count": 28,
      "outputs": [
        {
          "output_type": "display_data",
          "data": {
            "image/png": "[encoded data removed]",
            "text/plain": [
              "<Figure size 720x432 with 1 Axes>"
            ]
          },
          "metadata": {
            "tags": [],
            "needs_background": "light"
          }
        },
        {
          "output_type": "display_data",
          "data": {
            "image/png": "[encoded data removed]",
            "text/plain": [
              "<Figure size 720x432 with 1 Axes>"
            ]
          },
          "metadata": {
            "tags": [],
            "needs_background": "light"
          }
        },
        {
          "output_type": "display_data",
          "data": {
            "image/png": "[encoded data removed]",
            "text/plain": [
              "<Figure size 720x432 with 1 Axes>"
            ]
          },
          "metadata": {
            "tags": [],
            "needs_background": "light"
          }
        }
      ]
    },
    {
      "cell_type": "code",
      "metadata": {
        "id": "jeKj4l4jlg36"
      },
      "source": [
        "# tensorboard\n",
        "#%load_ext tensorboard\n",
        "#%tensorboard --logdir logs"
      ],
      "execution_count": 29,
      "outputs": []
    },
    {
      "cell_type": "markdown",
      "metadata": {
        "id": "1Liz9B-dD_VP"
      },
      "source": [
        "## Evaluate the model"
      ]
    },
    {
      "cell_type": "code",
      "metadata": {
        "id": "ASc2rTOkjLKY"
      },
      "source": [
        "def evaluate_model(x_test_val, y_test_val):\n",
        "    # evaluate the model\n",
        "    test_loss, test_accuracy, test_auc, test_precision, test_recall = model.evaluate(x_test_val, y_test_val)\n",
        "\n",
        "    # to list, zip and dict\n",
        "    test_names = ['loss', 'accuracy', 'auc', 'precision', 'recall']\n",
        "    evaluate_lst = list(map(lambda x: x * 100, [test_loss, test_accuracy, test_auc, test_precision, test_recall]))\n",
        "    evaluate_dict = dict(zip(test_names, evaluate_lst))\n",
        "\n",
        "    for test_names, test_value in evaluate_dict.items():\n",
        "        print(('Test {}: {:.2f} %').format(test_names, test_value))"
      ],
      "execution_count": 30,
      "outputs": []
    },
    {
      "cell_type": "code",
      "metadata": {
        "id": "GsOUiHXhEEax",
        "outputId": "4d7d7f75-e263-4aba-ed5b-a2db6495035a",
        "colab": {
          "base_uri": "https://localhost:8080/",
          "height": 119
        }
      },
      "source": [
        "evaluate_model(x_test_val, y_test_val)"
      ],
      "execution_count": 31,
      "outputs": [
        {
          "output_type": "stream",
          "text": [
            "20/20 [==============================] - 0s 8ms/step - loss: 0.3125 - accuracy: 0.8516 - auc: 0.9934 - precision: 0.8524 - recall: 0.8484\n",
            "Test loss: 31.25 %\n",
            "Test accuracy: 85.16 %\n",
            "Test auc: 99.34 %\n",
            "Test precision: 85.24 %\n",
            "Test recall: 84.84 %\n"
          ],
          "name": "stdout"
        }
      ]
    },
    {
      "cell_type": "markdown",
      "metadata": {
        "id": "lIz71YkuG3zJ"
      },
      "source": [
        "## Predict"
      ]
    },
    {
      "cell_type": "code",
      "metadata": {
        "id": "Ol2Q8hOXjKfr",
        "outputId": "040b0958-6bcb-4ddd-c066-de4eae467ff8",
        "colab": {
          "base_uri": "https://localhost:8080/",
          "height": 119
        }
      },
      "source": [
        "s = 'happy'\n",
        "pred, pred_argmax = predict(label_dict, s, model)\n",
        "\n",
        "print('\\nArgmax prediction: {}'.format(pred_argmax))\n",
        "print('Word: {}'.format(s))\n",
        "print('Prediction: {}'.format(pred))"
      ],
      "execution_count": 40,
      "outputs": [
        {
          "output_type": "stream",
          "text": [
            "[[1.0301921e-02 9.9194738e-05 1.0909626e-05 1.7039725e-05 8.7904179e-04\n",
            "  9.7959661e-01 5.6737208e-05 8.8714613e-03 4.3335880e-05 1.2367539e-04]]\n",
            "\n",
            "Argmax prediction: 5\n",
            "Word: happy\n",
            "Prediction: interested\n"
          ],
          "name": "stdout"
        }
      ]
    },
    {
      "cell_type": "code",
      "metadata": {
        "id": "Nd04sZe1PPuA",
        "outputId": "84a5cf52-b909-4649-dac0-56ef06f179b9",
        "colab": {
          "base_uri": "https://localhost:8080/",
          "height": 34
        }
      },
      "source": [
        "print(label_dict)"
      ],
      "execution_count": 33,
      "outputs": [
        {
          "output_type": "stream",
          "text": [
            "{'confident': 1, 'unconfident': 2, 'pos_hp': 3, 'neg_hp': 4, 'interested': 5, 'uninterested': 6, 'happy': 7, 'unhappy': 8, 'friendly': 9, 'unfriendly': 10}\n"
          ],
          "name": "stdout"
        }
      ]
    },
    {
      "cell_type": "code",
      "metadata": {
        "id": "71oYT64vMn_A"
      },
      "source": [
        "def predict_softmax(d: dict, s : str, model):\n",
        "    token = preprocess(s)\n",
        "    output = model.predict(np.array([token]))\n",
        "\n",
        "    for i in output:\n",
        "        output_lst = list(i)\n",
        "    print(output)\n",
        "    return dict(zip(d, output_lst))    "
      ],
      "execution_count": 34,
      "outputs": []
    },
    {
      "cell_type": "code",
      "metadata": {
        "id": "fky_lFnfMoin",
        "outputId": "27767564-2846-4f87-a510-7e57e8dd71e4",
        "colab": {
          "base_uri": "https://localhost:8080/",
          "height": 51
        }
      },
      "source": [
        "s = 'smile'\n",
        "pred_soft = predict_softmax(label_dict, s, model)"
      ],
      "execution_count": 35,
      "outputs": [
        {
          "output_type": "stream",
          "text": [
            "[[2.4624474e-05 2.2278281e-04 2.4308249e-05 2.4596627e-06 1.8878844e-04\n",
            "  7.6503953e-04 2.2676845e-01 2.6868671e-05 7.7196002e-01 1.6650982e-05]]\n"
          ],
          "name": "stdout"
        }
      ]
    },
    {
      "cell_type": "code",
      "metadata": {
        "id": "4QBa24wNNidn",
        "outputId": "c90c2902-8373-45f4-f432-f075ccf05c61",
        "colab": {
          "base_uri": "https://localhost:8080/",
          "height": 187
        }
      },
      "source": [
        "for k, v in pred_soft.items():\n",
        "    print('{}:{}'.format(k, v))"
      ],
      "execution_count": 42,
      "outputs": [
        {
          "output_type": "stream",
          "text": [
            "confident:2.4624474463053048e-05\n",
            "unconfident:0.00022278280812315643\n",
            "pos_hp:2.430824861221481e-05\n",
            "neg_hp:2.4596627099526813e-06\n",
            "interested:0.00018878844275604934\n",
            "uninterested:0.000765039527323097\n",
            "happy:0.22676844894886017\n",
            "unhappy:2.6868670829571784e-05\n",
            "friendly:0.7719600200653076\n",
            "unfriendly:1.6650981706334278e-05\n"
          ],
          "name": "stdout"
        }
      ]
    },
    {
      "cell_type": "markdown",
      "metadata": {
        "id": "K4uGWsLAHfHc"
      },
      "source": [
        "## Saving & converting the model"
      ]
    },
    {
      "cell_type": "code",
      "metadata": {
        "id": "7TlxepYljOxE"
      },
      "source": [
        "# save the model\n",
        "!mkdir models\n",
        "model.save(MODEL_PATH)"
      ],
      "execution_count": 37,
      "outputs": []
    },
    {
      "cell_type": "code",
      "metadata": {
        "id": "Hp7RGZe-jPDB",
        "outputId": "325292c2-e0e4-4f6a-cc95-1f6ee0955e15",
        "colab": {
          "base_uri": "https://localhost:8080/",
          "height": 71
        }
      },
      "source": [
        "# convert to modeljs\n",
        "tfjs.converters.save_keras_model(model, 'tfjsmodel')"
      ],
      "execution_count": 38,
      "outputs": [
        {
          "output_type": "stream",
          "text": [
            "/usr/local/lib/python3.6/dist-packages/tensorflowjs/converters/keras_h5_conversion.py:123: H5pyDeprecationWarning: The default file mode will change to 'r' (read-only) in h5py 3.0. To suppress this warning, pass the mode you need to h5py.File(), or set the global default h5.get_config().default_file_mode, or set the environment variable H5PY_DEFAULT_READONLY=1. Available modes are: 'r', 'r+', 'w', 'w-'/'x', 'a'. See the docs for details.\n",
            "  return h5py.File(h5file)\n"
          ],
          "name": "stderr"
        }
      ]
    }
  ]
}