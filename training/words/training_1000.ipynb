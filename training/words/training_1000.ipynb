{
  "nbformat": 4,
  "nbformat_minor": 0,
  "metadata": {
    "colab": {
      "name": "training_1000.ipynb",
      "provenance": [],
      "collapsed_sections": [],
      "toc_visible": true,
      "machine_shape": "hm"
    },
    "kernelspec": {
      "name": "python3",
      "display_name": "Python 3"
    },
    "accelerator": "GPU"
  },
  "cells": [
    {
      "cell_type": "markdown",
      "metadata": {
        "id": "3hCJ7VTq1r-B"
      },
      "source": [
        "---\n",
        "# **Sentiment Analysis**\n",
        "---"
      ]
    },
    {
      "cell_type": "markdown",
      "metadata": {
        "id": "RrfoCSVi1uU_"
      },
      "source": [
        "---\n",
        "\n",
        "# **1. Installation**\n",
        "\n",
        "---"
      ]
    },
    {
      "cell_type": "markdown",
      "metadata": {
        "id": "jfMMl1bb1x_2"
      },
      "source": [
        "## i. Generating a reponse\n"
      ]
    },
    {
      "cell_type": "code",
      "metadata": {
        "id": "soQns5KH0mNV"
      },
      "source": [
        "import sys\n",
        "import logging\n",
        "from psutil import virtual_memory"
      ],
      "execution_count": 1,
      "outputs": []
    },
    {
      "cell_type": "code",
      "metadata": {
        "id": "WwXk46ge1zYO"
      },
      "source": [
        "gpu_info = !nvidia-smi\n",
        "gpu_info = '\\n'.join(gpu_info)\n",
        "ram_gb = virtual_memory().total / 1e9"
      ],
      "execution_count": 2,
      "outputs": []
    },
    {
      "cell_type": "code",
      "metadata": {
        "id": "AqYgi67z1zgZ"
      },
      "source": [
        "tf_response = {\n",
        "    'error': None,\n",
        "    'TF version': '',\n",
        "    'COLAB': None,\n",
        "    'GPU': False,\n",
        "    'ram_gb': ''\n",
        "}"
      ],
      "execution_count": 3,
      "outputs": []
    },
    {
      "cell_type": "code",
      "metadata": {
        "id": "CvNt2AJ51znJ",
        "outputId": "b4acfcb7-5913-44a1-e5b0-2a17c62eb3a8",
        "colab": {
          "base_uri": "https://localhost:8080/"
        }
      },
      "source": [
        "try:\n",
        "    # drive\n",
        "    from google.colab import drive\n",
        "    IN_COLAB = 'google.colab' in sys.modules\n",
        "\n",
        "    # updating tensorflow version\n",
        "    %tensorflow_version 2.x\n",
        "\n",
        "    # tensorflow-gpu & tensorflowjs\n",
        "    !pip install tensorflow-gpu # !pip install tensorflow_text # I could use BERT\n",
        "    !pip install tensorflowjs\n",
        "\n",
        "    # NLP (nltk, stanza, spacy)\n",
        "    !pip install nltk \n",
        "    !pip install stanza\n",
        "    !pip install spacy\n",
        "    !spacy download en_core_web_sm # sm md lg\n",
        "    !python -m spacy download en\n",
        "except OSError as error:\n",
        "    # debugging error\n",
        "    response['error'] = logging.debug('You are not using your specify version of TensorFlow')\n",
        "    IN_COLAB = False\n",
        "\n",
        "    # install requirements\n",
        "    !pip install -r '../requirements.txt'\n",
        "finally:\n",
        "    tf_response['COLAB'] = IN_COLAB\n",
        "    \n",
        "    # Importing tensroflow core\n",
        "    import tensorflow as tf\n",
        "    import tensorflowjs as tfjs\n",
        "    from tensorflow import keras\n",
        "    from keras.utils import to_categorical\n",
        "\n",
        "    from tensorflow.keras.preprocessing.text import Tokenizer\n",
        "    from tensorflow.keras.preprocessing.sequence import pad_sequences\n",
        "\n",
        "    from tensorflow.keras.models import Sequential\n",
        "    from tensorflow.keras.layers import Dense, Flatten, LSTM, Dropout, Activation, Embedding, Bidirectional, GlobalMaxPool1D\n",
        "\n",
        "    from sklearn.model_selection import train_test_split\n",
        "    \n",
        "    # GPU and RAM response\n",
        "    if tf.config.list_physical_devices('GPU'):\n",
        "        GPU = True\n",
        "        tf_response['GPU'] = GPU\n",
        "        tf_response['TF_version'] = tf.__version__\n",
        "        \n",
        "        if tf_response['COLAB'] == True:\n",
        "            if gpu_info.find('failed') >= 0:\n",
        "                print('Select the Runtime > \"Change runtime type\" menu to enable a GPU accelerator')\n",
        "                print('Re-execute this cell.')\n",
        "            else:\n",
        "                print(gpu_info)\n",
        "            \n",
        "            if ram_gb < 20:\n",
        "                print('To enable a high-RAM runtime, select the Runtime > \"Change runtime type menu\"')\n",
        "                print('Select high-RAM in the runtime shape dropdown')\n",
        "                print('Re-execute this cell')\n",
        "                tf_response['ram_gb'] = 'low-RAM runtime'\n",
        "            else:\n",
        "                tf_response['ram_gb'] = 'high-RAM runtime'\n",
        "            print('\\nRuntime {:.2f} GB of available RAM\\n'.format(ram_gb))"
      ],
      "execution_count": 4,
      "outputs": [
        {
          "output_type": "stream",
          "text": [
            "Requirement already satisfied: tensorflow-gpu in /usr/local/lib/python3.6/dist-packages (2.3.1)\n",
            "Requirement already satisfied: absl-py>=0.7.0 in /usr/local/lib/python3.6/dist-packages (from tensorflow-gpu) (0.10.0)\n",
            "Requirement already satisfied: wheel>=0.26 in /usr/local/lib/python3.6/dist-packages (from tensorflow-gpu) (0.35.1)\n",
            "Requirement already satisfied: grpcio>=1.8.6 in /usr/local/lib/python3.6/dist-packages (from tensorflow-gpu) (1.32.0)\n",
            "Requirement already satisfied: h5py<2.11.0,>=2.10.0 in /usr/local/lib/python3.6/dist-packages (from tensorflow-gpu) (2.10.0)\n",
            "Requirement already satisfied: astunparse==1.6.3 in /usr/local/lib/python3.6/dist-packages (from tensorflow-gpu) (1.6.3)\n",
            "Requirement already satisfied: numpy<1.19.0,>=1.16.0 in /usr/local/lib/python3.6/dist-packages (from tensorflow-gpu) (1.18.5)\n",
            "Requirement already satisfied: google-pasta>=0.1.8 in /usr/local/lib/python3.6/dist-packages (from tensorflow-gpu) (0.2.0)\n",
            "Requirement already satisfied: gast==0.3.3 in /usr/local/lib/python3.6/dist-packages (from tensorflow-gpu) (0.3.3)\n",
            "Requirement already satisfied: wrapt>=1.11.1 in /usr/local/lib/python3.6/dist-packages (from tensorflow-gpu) (1.12.1)\n",
            "Requirement already satisfied: opt-einsum>=2.3.2 in /usr/local/lib/python3.6/dist-packages (from tensorflow-gpu) (3.3.0)\n",
            "Requirement already satisfied: six>=1.12.0 in /usr/local/lib/python3.6/dist-packages (from tensorflow-gpu) (1.15.0)\n",
            "Requirement already satisfied: termcolor>=1.1.0 in /usr/local/lib/python3.6/dist-packages (from tensorflow-gpu) (1.1.0)\n",
            "Requirement already satisfied: protobuf>=3.9.2 in /usr/local/lib/python3.6/dist-packages (from tensorflow-gpu) (3.12.4)\n",
            "Requirement already satisfied: tensorboard<3,>=2.3.0 in /usr/local/lib/python3.6/dist-packages (from tensorflow-gpu) (2.3.0)\n",
            "Requirement already satisfied: tensorflow-estimator<2.4.0,>=2.3.0 in /usr/local/lib/python3.6/dist-packages (from tensorflow-gpu) (2.3.0)\n",
            "Requirement already satisfied: keras-preprocessing<1.2,>=1.1.1 in /usr/local/lib/python3.6/dist-packages (from tensorflow-gpu) (1.1.2)\n",
            "Requirement already satisfied: setuptools in /usr/local/lib/python3.6/dist-packages (from protobuf>=3.9.2->tensorflow-gpu) (50.3.0)\n",
            "Requirement already satisfied: requests<3,>=2.21.0 in /usr/local/lib/python3.6/dist-packages (from tensorboard<3,>=2.3.0->tensorflow-gpu) (2.23.0)\n",
            "Requirement already satisfied: google-auth-oauthlib<0.5,>=0.4.1 in /usr/local/lib/python3.6/dist-packages (from tensorboard<3,>=2.3.0->tensorflow-gpu) (0.4.1)\n",
            "Requirement already satisfied: tensorboard-plugin-wit>=1.6.0 in /usr/local/lib/python3.6/dist-packages (from tensorboard<3,>=2.3.0->tensorflow-gpu) (1.7.0)\n",
            "Requirement already satisfied: werkzeug>=0.11.15 in /usr/local/lib/python3.6/dist-packages (from tensorboard<3,>=2.3.0->tensorflow-gpu) (1.0.1)\n",
            "Requirement already satisfied: google-auth<2,>=1.6.3 in /usr/local/lib/python3.6/dist-packages (from tensorboard<3,>=2.3.0->tensorflow-gpu) (1.17.2)\n",
            "Requirement already satisfied: markdown>=2.6.8 in /usr/local/lib/python3.6/dist-packages (from tensorboard<3,>=2.3.0->tensorflow-gpu) (3.2.2)\n",
            "Requirement already satisfied: chardet<4,>=3.0.2 in /usr/local/lib/python3.6/dist-packages (from requests<3,>=2.21.0->tensorboard<3,>=2.3.0->tensorflow-gpu) (3.0.4)\n",
            "Requirement already satisfied: idna<3,>=2.5 in /usr/local/lib/python3.6/dist-packages (from requests<3,>=2.21.0->tensorboard<3,>=2.3.0->tensorflow-gpu) (2.10)\n",
            "Requirement already satisfied: certifi>=2017.4.17 in /usr/local/lib/python3.6/dist-packages (from requests<3,>=2.21.0->tensorboard<3,>=2.3.0->tensorflow-gpu) (2020.6.20)\n",
            "Requirement already satisfied: urllib3!=1.25.0,!=1.25.1,<1.26,>=1.21.1 in /usr/local/lib/python3.6/dist-packages (from requests<3,>=2.21.0->tensorboard<3,>=2.3.0->tensorflow-gpu) (1.24.3)\n",
            "Requirement already satisfied: requests-oauthlib>=0.7.0 in /usr/local/lib/python3.6/dist-packages (from google-auth-oauthlib<0.5,>=0.4.1->tensorboard<3,>=2.3.0->tensorflow-gpu) (1.3.0)\n",
            "Requirement already satisfied: cachetools<5.0,>=2.0.0 in /usr/local/lib/python3.6/dist-packages (from google-auth<2,>=1.6.3->tensorboard<3,>=2.3.0->tensorflow-gpu) (4.1.1)\n",
            "Requirement already satisfied: rsa<5,>=3.1.4; python_version >= \"3\" in /usr/local/lib/python3.6/dist-packages (from google-auth<2,>=1.6.3->tensorboard<3,>=2.3.0->tensorflow-gpu) (4.6)\n",
            "Requirement already satisfied: pyasn1-modules>=0.2.1 in /usr/local/lib/python3.6/dist-packages (from google-auth<2,>=1.6.3->tensorboard<3,>=2.3.0->tensorflow-gpu) (0.2.8)\n",
            "Requirement already satisfied: importlib-metadata; python_version < \"3.8\" in /usr/local/lib/python3.6/dist-packages (from markdown>=2.6.8->tensorboard<3,>=2.3.0->tensorflow-gpu) (2.0.0)\n",
            "Requirement already satisfied: oauthlib>=3.0.0 in /usr/local/lib/python3.6/dist-packages (from requests-oauthlib>=0.7.0->google-auth-oauthlib<0.5,>=0.4.1->tensorboard<3,>=2.3.0->tensorflow-gpu) (3.1.0)\n",
            "Requirement already satisfied: pyasn1>=0.1.3 in /usr/local/lib/python3.6/dist-packages (from rsa<5,>=3.1.4; python_version >= \"3\"->google-auth<2,>=1.6.3->tensorboard<3,>=2.3.0->tensorflow-gpu) (0.4.8)\n",
            "Requirement already satisfied: zipp>=0.5 in /usr/local/lib/python3.6/dist-packages (from importlib-metadata; python_version < \"3.8\"->markdown>=2.6.8->tensorboard<3,>=2.3.0->tensorflow-gpu) (3.2.0)\n",
            "Requirement already satisfied: tensorflowjs in /usr/local/lib/python3.6/dist-packages (2.5.0)\n",
            "Requirement already satisfied: six<2,>=1.12.0 in /usr/local/lib/python3.6/dist-packages (from tensorflowjs) (1.15.0)\n",
            "Requirement already satisfied: h5py<3,>=2.8.0 in /usr/local/lib/python3.6/dist-packages (from tensorflowjs) (2.10.0)\n",
            "Requirement already satisfied: tensorflow-hub<0.10,>=0.7.0 in /usr/local/lib/python3.6/dist-packages (from tensorflowjs) (0.9.0)\n",
            "Requirement already satisfied: tensorflow<3,>=2.1.0 in /usr/local/lib/python3.6/dist-packages (from tensorflowjs) (2.3.0)\n",
            "Requirement already satisfied: numpy>=1.7 in /usr/local/lib/python3.6/dist-packages (from h5py<3,>=2.8.0->tensorflowjs) (1.18.5)\n",
            "Requirement already satisfied: protobuf>=3.8.0 in /usr/local/lib/python3.6/dist-packages (from tensorflow-hub<0.10,>=0.7.0->tensorflowjs) (3.12.4)\n",
            "Requirement already satisfied: absl-py>=0.7.0 in /usr/local/lib/python3.6/dist-packages (from tensorflow<3,>=2.1.0->tensorflowjs) (0.10.0)\n",
            "Requirement already satisfied: keras-preprocessing<1.2,>=1.1.1 in /usr/local/lib/python3.6/dist-packages (from tensorflow<3,>=2.1.0->tensorflowjs) (1.1.2)\n",
            "Requirement already satisfied: tensorboard<3,>=2.3.0 in /usr/local/lib/python3.6/dist-packages (from tensorflow<3,>=2.1.0->tensorflowjs) (2.3.0)\n",
            "Requirement already satisfied: wheel>=0.26 in /usr/local/lib/python3.6/dist-packages (from tensorflow<3,>=2.1.0->tensorflowjs) (0.35.1)\n",
            "Requirement already satisfied: gast==0.3.3 in /usr/local/lib/python3.6/dist-packages (from tensorflow<3,>=2.1.0->tensorflowjs) (0.3.3)\n",
            "Requirement already satisfied: termcolor>=1.1.0 in /usr/local/lib/python3.6/dist-packages (from tensorflow<3,>=2.1.0->tensorflowjs) (1.1.0)\n",
            "Requirement already satisfied: tensorflow-estimator<2.4.0,>=2.3.0 in /usr/local/lib/python3.6/dist-packages (from tensorflow<3,>=2.1.0->tensorflowjs) (2.3.0)\n",
            "Requirement already satisfied: astunparse==1.6.3 in /usr/local/lib/python3.6/dist-packages (from tensorflow<3,>=2.1.0->tensorflowjs) (1.6.3)\n",
            "Requirement already satisfied: wrapt>=1.11.1 in /usr/local/lib/python3.6/dist-packages (from tensorflow<3,>=2.1.0->tensorflowjs) (1.12.1)\n",
            "Requirement already satisfied: scipy==1.4.1 in /usr/local/lib/python3.6/dist-packages (from tensorflow<3,>=2.1.0->tensorflowjs) (1.4.1)\n",
            "Requirement already satisfied: opt-einsum>=2.3.2 in /usr/local/lib/python3.6/dist-packages (from tensorflow<3,>=2.1.0->tensorflowjs) (3.3.0)\n",
            "Requirement already satisfied: grpcio>=1.8.6 in /usr/local/lib/python3.6/dist-packages (from tensorflow<3,>=2.1.0->tensorflowjs) (1.32.0)\n",
            "Requirement already satisfied: google-pasta>=0.1.8 in /usr/local/lib/python3.6/dist-packages (from tensorflow<3,>=2.1.0->tensorflowjs) (0.2.0)\n",
            "Requirement already satisfied: setuptools in /usr/local/lib/python3.6/dist-packages (from protobuf>=3.8.0->tensorflow-hub<0.10,>=0.7.0->tensorflowjs) (50.3.0)\n",
            "Requirement already satisfied: werkzeug>=0.11.15 in /usr/local/lib/python3.6/dist-packages (from tensorboard<3,>=2.3.0->tensorflow<3,>=2.1.0->tensorflowjs) (1.0.1)\n",
            "Requirement already satisfied: requests<3,>=2.21.0 in /usr/local/lib/python3.6/dist-packages (from tensorboard<3,>=2.3.0->tensorflow<3,>=2.1.0->tensorflowjs) (2.23.0)\n",
            "Requirement already satisfied: google-auth-oauthlib<0.5,>=0.4.1 in /usr/local/lib/python3.6/dist-packages (from tensorboard<3,>=2.3.0->tensorflow<3,>=2.1.0->tensorflowjs) (0.4.1)\n",
            "Requirement already satisfied: markdown>=2.6.8 in /usr/local/lib/python3.6/dist-packages (from tensorboard<3,>=2.3.0->tensorflow<3,>=2.1.0->tensorflowjs) (3.2.2)\n",
            "Requirement already satisfied: google-auth<2,>=1.6.3 in /usr/local/lib/python3.6/dist-packages (from tensorboard<3,>=2.3.0->tensorflow<3,>=2.1.0->tensorflowjs) (1.17.2)\n",
            "Requirement already satisfied: tensorboard-plugin-wit>=1.6.0 in /usr/local/lib/python3.6/dist-packages (from tensorboard<3,>=2.3.0->tensorflow<3,>=2.1.0->tensorflowjs) (1.7.0)\n",
            "Requirement already satisfied: chardet<4,>=3.0.2 in /usr/local/lib/python3.6/dist-packages (from requests<3,>=2.21.0->tensorboard<3,>=2.3.0->tensorflow<3,>=2.1.0->tensorflowjs) (3.0.4)\n",
            "Requirement already satisfied: urllib3!=1.25.0,!=1.25.1,<1.26,>=1.21.1 in /usr/local/lib/python3.6/dist-packages (from requests<3,>=2.21.0->tensorboard<3,>=2.3.0->tensorflow<3,>=2.1.0->tensorflowjs) (1.24.3)\n",
            "Requirement already satisfied: idna<3,>=2.5 in /usr/local/lib/python3.6/dist-packages (from requests<3,>=2.21.0->tensorboard<3,>=2.3.0->tensorflow<3,>=2.1.0->tensorflowjs) (2.10)\n",
            "Requirement already satisfied: certifi>=2017.4.17 in /usr/local/lib/python3.6/dist-packages (from requests<3,>=2.21.0->tensorboard<3,>=2.3.0->tensorflow<3,>=2.1.0->tensorflowjs) (2020.6.20)\n",
            "Requirement already satisfied: requests-oauthlib>=0.7.0 in /usr/local/lib/python3.6/dist-packages (from google-auth-oauthlib<0.5,>=0.4.1->tensorboard<3,>=2.3.0->tensorflow<3,>=2.1.0->tensorflowjs) (1.3.0)\n",
            "Requirement already satisfied: importlib-metadata; python_version < \"3.8\" in /usr/local/lib/python3.6/dist-packages (from markdown>=2.6.8->tensorboard<3,>=2.3.0->tensorflow<3,>=2.1.0->tensorflowjs) (2.0.0)\n",
            "Requirement already satisfied: cachetools<5.0,>=2.0.0 in /usr/local/lib/python3.6/dist-packages (from google-auth<2,>=1.6.3->tensorboard<3,>=2.3.0->tensorflow<3,>=2.1.0->tensorflowjs) (4.1.1)\n",
            "Requirement already satisfied: rsa<5,>=3.1.4; python_version >= \"3\" in /usr/local/lib/python3.6/dist-packages (from google-auth<2,>=1.6.3->tensorboard<3,>=2.3.0->tensorflow<3,>=2.1.0->tensorflowjs) (4.6)\n",
            "Requirement already satisfied: pyasn1-modules>=0.2.1 in /usr/local/lib/python3.6/dist-packages (from google-auth<2,>=1.6.3->tensorboard<3,>=2.3.0->tensorflow<3,>=2.1.0->tensorflowjs) (0.2.8)\n",
            "Requirement already satisfied: oauthlib>=3.0.0 in /usr/local/lib/python3.6/dist-packages (from requests-oauthlib>=0.7.0->google-auth-oauthlib<0.5,>=0.4.1->tensorboard<3,>=2.3.0->tensorflow<3,>=2.1.0->tensorflowjs) (3.1.0)\n",
            "Requirement already satisfied: zipp>=0.5 in /usr/local/lib/python3.6/dist-packages (from importlib-metadata; python_version < \"3.8\"->markdown>=2.6.8->tensorboard<3,>=2.3.0->tensorflow<3,>=2.1.0->tensorflowjs) (3.2.0)\n",
            "Requirement already satisfied: pyasn1>=0.1.3 in /usr/local/lib/python3.6/dist-packages (from rsa<5,>=3.1.4; python_version >= \"3\"->google-auth<2,>=1.6.3->tensorboard<3,>=2.3.0->tensorflow<3,>=2.1.0->tensorflowjs) (0.4.8)\n",
            "Requirement already satisfied: nltk in /usr/local/lib/python3.6/dist-packages (3.2.5)\n",
            "Requirement already satisfied: six in /usr/local/lib/python3.6/dist-packages (from nltk) (1.15.0)\n",
            "Requirement already satisfied: stanza in /usr/local/lib/python3.6/dist-packages (1.1.1)\n",
            "Requirement already satisfied: numpy in /usr/local/lib/python3.6/dist-packages (from stanza) (1.18.5)\n",
            "Requirement already satisfied: protobuf in /usr/local/lib/python3.6/dist-packages (from stanza) (3.12.4)\n",
            "Requirement already satisfied: torch>=1.3.0 in /usr/local/lib/python3.6/dist-packages (from stanza) (1.6.0+cu101)\n",
            "Requirement already satisfied: requests in /usr/local/lib/python3.6/dist-packages (from stanza) (2.23.0)\n",
            "Requirement already satisfied: tqdm in /usr/local/lib/python3.6/dist-packages (from stanza) (4.41.1)\n",
            "Requirement already satisfied: six>=1.9 in /usr/local/lib/python3.6/dist-packages (from protobuf->stanza) (1.15.0)\n",
            "Requirement already satisfied: setuptools in /usr/local/lib/python3.6/dist-packages (from protobuf->stanza) (50.3.0)\n",
            "Requirement already satisfied: future in /usr/local/lib/python3.6/dist-packages (from torch>=1.3.0->stanza) (0.16.0)\n",
            "Requirement already satisfied: urllib3!=1.25.0,!=1.25.1,<1.26,>=1.21.1 in /usr/local/lib/python3.6/dist-packages (from requests->stanza) (1.24.3)\n",
            "Requirement already satisfied: chardet<4,>=3.0.2 in /usr/local/lib/python3.6/dist-packages (from requests->stanza) (3.0.4)\n",
            "Requirement already satisfied: idna<3,>=2.5 in /usr/local/lib/python3.6/dist-packages (from requests->stanza) (2.10)\n",
            "Requirement already satisfied: certifi>=2017.4.17 in /usr/local/lib/python3.6/dist-packages (from requests->stanza) (2020.6.20)\n",
            "Requirement already satisfied: spacy in /usr/local/lib/python3.6/dist-packages (2.2.4)\n",
            "Requirement already satisfied: murmurhash<1.1.0,>=0.28.0 in /usr/local/lib/python3.6/dist-packages (from spacy) (1.0.2)\n",
            "Requirement already satisfied: srsly<1.1.0,>=1.0.2 in /usr/local/lib/python3.6/dist-packages (from spacy) (1.0.2)\n",
            "Requirement already satisfied: cymem<2.1.0,>=2.0.2 in /usr/local/lib/python3.6/dist-packages (from spacy) (2.0.3)\n",
            "Requirement already satisfied: numpy>=1.15.0 in /usr/local/lib/python3.6/dist-packages (from spacy) (1.18.5)\n",
            "Requirement already satisfied: setuptools in /usr/local/lib/python3.6/dist-packages (from spacy) (50.3.0)\n",
            "Requirement already satisfied: plac<1.2.0,>=0.9.6 in /usr/local/lib/python3.6/dist-packages (from spacy) (1.1.3)\n",
            "Requirement already satisfied: requests<3.0.0,>=2.13.0 in /usr/local/lib/python3.6/dist-packages (from spacy) (2.23.0)\n",
            "Requirement already satisfied: blis<0.5.0,>=0.4.0 in /usr/local/lib/python3.6/dist-packages (from spacy) (0.4.1)\n",
            "Requirement already satisfied: catalogue<1.1.0,>=0.0.7 in /usr/local/lib/python3.6/dist-packages (from spacy) (1.0.0)\n",
            "Requirement already satisfied: tqdm<5.0.0,>=4.38.0 in /usr/local/lib/python3.6/dist-packages (from spacy) (4.41.1)\n",
            "Requirement already satisfied: thinc==7.4.0 in /usr/local/lib/python3.6/dist-packages (from spacy) (7.4.0)\n",
            "Requirement already satisfied: wasabi<1.1.0,>=0.4.0 in /usr/local/lib/python3.6/dist-packages (from spacy) (0.8.0)\n",
            "Requirement already satisfied: preshed<3.1.0,>=3.0.2 in /usr/local/lib/python3.6/dist-packages (from spacy) (3.0.2)\n",
            "Requirement already satisfied: urllib3!=1.25.0,!=1.25.1,<1.26,>=1.21.1 in /usr/local/lib/python3.6/dist-packages (from requests<3.0.0,>=2.13.0->spacy) (1.24.3)\n",
            "Requirement already satisfied: chardet<4,>=3.0.2 in /usr/local/lib/python3.6/dist-packages (from requests<3.0.0,>=2.13.0->spacy) (3.0.4)\n",
            "Requirement already satisfied: idna<3,>=2.5 in /usr/local/lib/python3.6/dist-packages (from requests<3.0.0,>=2.13.0->spacy) (2.10)\n",
            "Requirement already satisfied: certifi>=2017.4.17 in /usr/local/lib/python3.6/dist-packages (from requests<3.0.0,>=2.13.0->spacy) (2020.6.20)\n",
            "Requirement already satisfied: importlib-metadata>=0.20; python_version < \"3.8\" in /usr/local/lib/python3.6/dist-packages (from catalogue<1.1.0,>=0.0.7->spacy) (2.0.0)\n",
            "Requirement already satisfied: zipp>=0.5 in /usr/local/lib/python3.6/dist-packages (from importlib-metadata>=0.20; python_version < \"3.8\"->catalogue<1.1.0,>=0.0.7->spacy) (3.2.0)\n",
            "Requirement already satisfied: en_core_web_sm==2.2.5 from https://github.com/explosion/spacy-models/releases/download/en_core_web_sm-2.2.5/en_core_web_sm-2.2.5.tar.gz#egg=en_core_web_sm==2.2.5 in /usr/local/lib/python3.6/dist-packages (2.2.5)\n",
            "Requirement already satisfied: spacy>=2.2.2 in /usr/local/lib/python3.6/dist-packages (from en_core_web_sm==2.2.5) (2.2.4)\n",
            "Requirement already satisfied: preshed<3.1.0,>=3.0.2 in /usr/local/lib/python3.6/dist-packages (from spacy>=2.2.2->en_core_web_sm==2.2.5) (3.0.2)\n",
            "Requirement already satisfied: blis<0.5.0,>=0.4.0 in /usr/local/lib/python3.6/dist-packages (from spacy>=2.2.2->en_core_web_sm==2.2.5) (0.4.1)\n",
            "Requirement already satisfied: numpy>=1.15.0 in /usr/local/lib/python3.6/dist-packages (from spacy>=2.2.2->en_core_web_sm==2.2.5) (1.18.5)\n",
            "Requirement already satisfied: tqdm<5.0.0,>=4.38.0 in /usr/local/lib/python3.6/dist-packages (from spacy>=2.2.2->en_core_web_sm==2.2.5) (4.41.1)\n",
            "Requirement already satisfied: thinc==7.4.0 in /usr/local/lib/python3.6/dist-packages (from spacy>=2.2.2->en_core_web_sm==2.2.5) (7.4.0)\n",
            "Requirement already satisfied: wasabi<1.1.0,>=0.4.0 in /usr/local/lib/python3.6/dist-packages (from spacy>=2.2.2->en_core_web_sm==2.2.5) (0.8.0)\n",
            "Requirement already satisfied: catalogue<1.1.0,>=0.0.7 in /usr/local/lib/python3.6/dist-packages (from spacy>=2.2.2->en_core_web_sm==2.2.5) (1.0.0)\n",
            "Requirement already satisfied: setuptools in /usr/local/lib/python3.6/dist-packages (from spacy>=2.2.2->en_core_web_sm==2.2.5) (50.3.0)\n",
            "Requirement already satisfied: murmurhash<1.1.0,>=0.28.0 in /usr/local/lib/python3.6/dist-packages (from spacy>=2.2.2->en_core_web_sm==2.2.5) (1.0.2)\n",
            "Requirement already satisfied: srsly<1.1.0,>=1.0.2 in /usr/local/lib/python3.6/dist-packages (from spacy>=2.2.2->en_core_web_sm==2.2.5) (1.0.2)\n",
            "Requirement already satisfied: requests<3.0.0,>=2.13.0 in /usr/local/lib/python3.6/dist-packages (from spacy>=2.2.2->en_core_web_sm==2.2.5) (2.23.0)\n",
            "Requirement already satisfied: cymem<2.1.0,>=2.0.2 in /usr/local/lib/python3.6/dist-packages (from spacy>=2.2.2->en_core_web_sm==2.2.5) (2.0.3)\n",
            "Requirement already satisfied: plac<1.2.0,>=0.9.6 in /usr/local/lib/python3.6/dist-packages (from spacy>=2.2.2->en_core_web_sm==2.2.5) (1.1.3)\n",
            "Requirement already satisfied: importlib-metadata>=0.20; python_version < \"3.8\" in /usr/local/lib/python3.6/dist-packages (from catalogue<1.1.0,>=0.0.7->spacy>=2.2.2->en_core_web_sm==2.2.5) (2.0.0)\n",
            "Requirement already satisfied: idna<3,>=2.5 in /usr/local/lib/python3.6/dist-packages (from requests<3.0.0,>=2.13.0->spacy>=2.2.2->en_core_web_sm==2.2.5) (2.10)\n",
            "Requirement already satisfied: urllib3!=1.25.0,!=1.25.1,<1.26,>=1.21.1 in /usr/local/lib/python3.6/dist-packages (from requests<3.0.0,>=2.13.0->spacy>=2.2.2->en_core_web_sm==2.2.5) (1.24.3)\n",
            "Requirement already satisfied: certifi>=2017.4.17 in /usr/local/lib/python3.6/dist-packages (from requests<3.0.0,>=2.13.0->spacy>=2.2.2->en_core_web_sm==2.2.5) (2020.6.20)\n",
            "Requirement already satisfied: chardet<4,>=3.0.2 in /usr/local/lib/python3.6/dist-packages (from requests<3.0.0,>=2.13.0->spacy>=2.2.2->en_core_web_sm==2.2.5) (3.0.4)\n",
            "Requirement already satisfied: zipp>=0.5 in /usr/local/lib/python3.6/dist-packages (from importlib-metadata>=0.20; python_version < \"3.8\"->catalogue<1.1.0,>=0.0.7->spacy>=2.2.2->en_core_web_sm==2.2.5) (3.2.0)\n",
            "\u001b[38;5;2m✔ Download and installation successful\u001b[0m\n",
            "You can now load the model via spacy.load('en_core_web_sm')\n",
            "Requirement already satisfied: en_core_web_sm==2.2.5 from https://github.com/explosion/spacy-models/releases/download/en_core_web_sm-2.2.5/en_core_web_sm-2.2.5.tar.gz#egg=en_core_web_sm==2.2.5 in /usr/local/lib/python3.6/dist-packages (2.2.5)\n",
            "Requirement already satisfied: spacy>=2.2.2 in /usr/local/lib/python3.6/dist-packages (from en_core_web_sm==2.2.5) (2.2.4)\n",
            "Requirement already satisfied: setuptools in /usr/local/lib/python3.6/dist-packages (from spacy>=2.2.2->en_core_web_sm==2.2.5) (50.3.0)\n",
            "Requirement already satisfied: requests<3.0.0,>=2.13.0 in /usr/local/lib/python3.6/dist-packages (from spacy>=2.2.2->en_core_web_sm==2.2.5) (2.23.0)\n",
            "Requirement already satisfied: blis<0.5.0,>=0.4.0 in /usr/local/lib/python3.6/dist-packages (from spacy>=2.2.2->en_core_web_sm==2.2.5) (0.4.1)\n",
            "Requirement already satisfied: numpy>=1.15.0 in /usr/local/lib/python3.6/dist-packages (from spacy>=2.2.2->en_core_web_sm==2.2.5) (1.18.5)\n",
            "Requirement already satisfied: murmurhash<1.1.0,>=0.28.0 in /usr/local/lib/python3.6/dist-packages (from spacy>=2.2.2->en_core_web_sm==2.2.5) (1.0.2)\n",
            "Requirement already satisfied: thinc==7.4.0 in /usr/local/lib/python3.6/dist-packages (from spacy>=2.2.2->en_core_web_sm==2.2.5) (7.4.0)\n",
            "Requirement already satisfied: preshed<3.1.0,>=3.0.2 in /usr/local/lib/python3.6/dist-packages (from spacy>=2.2.2->en_core_web_sm==2.2.5) (3.0.2)\n",
            "Requirement already satisfied: wasabi<1.1.0,>=0.4.0 in /usr/local/lib/python3.6/dist-packages (from spacy>=2.2.2->en_core_web_sm==2.2.5) (0.8.0)\n",
            "Requirement already satisfied: plac<1.2.0,>=0.9.6 in /usr/local/lib/python3.6/dist-packages (from spacy>=2.2.2->en_core_web_sm==2.2.5) (1.1.3)\n",
            "Requirement already satisfied: catalogue<1.1.0,>=0.0.7 in /usr/local/lib/python3.6/dist-packages (from spacy>=2.2.2->en_core_web_sm==2.2.5) (1.0.0)\n",
            "Requirement already satisfied: cymem<2.1.0,>=2.0.2 in /usr/local/lib/python3.6/dist-packages (from spacy>=2.2.2->en_core_web_sm==2.2.5) (2.0.3)\n",
            "Requirement already satisfied: tqdm<5.0.0,>=4.38.0 in /usr/local/lib/python3.6/dist-packages (from spacy>=2.2.2->en_core_web_sm==2.2.5) (4.41.1)\n",
            "Requirement already satisfied: srsly<1.1.0,>=1.0.2 in /usr/local/lib/python3.6/dist-packages (from spacy>=2.2.2->en_core_web_sm==2.2.5) (1.0.2)\n",
            "Requirement already satisfied: idna<3,>=2.5 in /usr/local/lib/python3.6/dist-packages (from requests<3.0.0,>=2.13.0->spacy>=2.2.2->en_core_web_sm==2.2.5) (2.10)\n",
            "Requirement already satisfied: chardet<4,>=3.0.2 in /usr/local/lib/python3.6/dist-packages (from requests<3.0.0,>=2.13.0->spacy>=2.2.2->en_core_web_sm==2.2.5) (3.0.4)\n",
            "Requirement already satisfied: urllib3!=1.25.0,!=1.25.1,<1.26,>=1.21.1 in /usr/local/lib/python3.6/dist-packages (from requests<3.0.0,>=2.13.0->spacy>=2.2.2->en_core_web_sm==2.2.5) (1.24.3)\n",
            "Requirement already satisfied: certifi>=2017.4.17 in /usr/local/lib/python3.6/dist-packages (from requests<3.0.0,>=2.13.0->spacy>=2.2.2->en_core_web_sm==2.2.5) (2020.6.20)\n",
            "Requirement already satisfied: importlib-metadata>=0.20; python_version < \"3.8\" in /usr/local/lib/python3.6/dist-packages (from catalogue<1.1.0,>=0.0.7->spacy>=2.2.2->en_core_web_sm==2.2.5) (2.0.0)\n",
            "Requirement already satisfied: zipp>=0.5 in /usr/local/lib/python3.6/dist-packages (from importlib-metadata>=0.20; python_version < \"3.8\"->catalogue<1.1.0,>=0.0.7->spacy>=2.2.2->en_core_web_sm==2.2.5) (3.2.0)\n",
            "\u001b[38;5;2m✔ Download and installation successful\u001b[0m\n",
            "You can now load the model via spacy.load('en_core_web_sm')\n",
            "\u001b[38;5;2m✔ Linking successful\u001b[0m\n",
            "/usr/local/lib/python3.6/dist-packages/en_core_web_sm -->\n",
            "/usr/local/lib/python3.6/dist-packages/spacy/data/en\n",
            "You can now load the model via spacy.load('en')\n",
            "Wed Oct  7 19:48:35 2020       \n",
            "+-----------------------------------------------------------------------------+\n",
            "| NVIDIA-SMI 455.23.05    Driver Version: 418.67       CUDA Version: 10.1     |\n",
            "|-------------------------------+----------------------+----------------------+\n",
            "| GPU  Name        Persistence-M| Bus-Id        Disp.A | Volatile Uncorr. ECC |\n",
            "| Fan  Temp  Perf  Pwr:Usage/Cap|         Memory-Usage | GPU-Util  Compute M. |\n",
            "|                               |                      |               MIG M. |\n",
            "|===============================+======================+======================|\n",
            "|   0  Tesla P100-PCIE...  Off  | 00000000:00:04.0 Off |                    0 |\n",
            "| N/A   38C    P0    27W / 250W |      0MiB / 16280MiB |      0%      Default |\n",
            "|                               |                      |                 ERR! |\n",
            "+-------------------------------+----------------------+----------------------+\n",
            "                                                                               \n",
            "+-----------------------------------------------------------------------------+\n",
            "| Processes:                                                                  |\n",
            "|  GPU   GI   CI        PID   Type   Process name                  GPU Memory |\n",
            "|        ID   ID                                                   Usage      |\n",
            "|=============================================================================|\n",
            "|  No running processes found                                                 |\n",
            "+-----------------------------------------------------------------------------+\n",
            "\n",
            "Runtime 27.39 GB of available RAM\n",
            "\n"
          ],
          "name": "stdout"
        }
      ]
    },
    {
      "cell_type": "code",
      "metadata": {
        "id": "ye99iKv617qQ",
        "outputId": "54cad152-12ce-4158-9075-09384a606bf2",
        "colab": {
          "base_uri": "https://localhost:8080/"
        }
      },
      "source": [
        "tf_response"
      ],
      "execution_count": 5,
      "outputs": [
        {
          "output_type": "execute_result",
          "data": {
            "text/plain": [
              "{'COLAB': True,\n",
              " 'GPU': True,\n",
              " 'TF version': '',\n",
              " 'TF_version': '2.3.1',\n",
              " 'error': None,\n",
              " 'ram_gb': 'high-RAM runtime'}"
            ]
          },
          "metadata": {
            "tags": []
          },
          "execution_count": 5
        }
      ]
    },
    {
      "cell_type": "markdown",
      "metadata": {
        "id": "IFNjTuvU1_C_"
      },
      "source": [
        "## ii. Importing modules\n"
      ]
    },
    {
      "cell_type": "code",
      "metadata": {
        "id": "OIh873U819qU"
      },
      "source": [
        "# Data analysis\n",
        "from collections import Counter\n",
        "import matplotlib.pyplot as plt\n",
        "import pandas as pd\n",
        "import numpy as np\n",
        "import sys\n",
        "import re\n",
        "\n",
        "%matplotlib inline\n",
        "\n",
        "# Image\n",
        "from wordcloud import WordCloud, STOPWORDS, ImageColorGenerator # to create a Word Cloud\n",
        "from PIL import Image # Pillow with WordCloud to image manipulation"
      ],
      "execution_count": 6,
      "outputs": []
    },
    {
      "cell_type": "code",
      "metadata": {
        "id": "6lhfhNt72CLr",
        "outputId": "d8bc9914-7d1a-4cc3-b044-882a3b1b1d64",
        "colab": {
          "base_uri": "https://localhost:8080/"
        }
      },
      "source": [
        "# nltk\n",
        "import nltk\n",
        "from nltk.corpus import stopwords\n",
        "from nltk.stem import WordNetLemmatizer\n",
        "\n",
        "nltk.download('stopwords')\n",
        "nltk.download('wordnet')\n",
        "\n",
        "STOPWORDS = set(stopwords.words('english'))"
      ],
      "execution_count": 7,
      "outputs": [
        {
          "output_type": "stream",
          "text": [
            "[nltk_data] Downloading package stopwords to /root/nltk_data...\n",
            "[nltk_data]   Package stopwords is already up-to-date!\n",
            "[nltk_data] Downloading package wordnet to /root/nltk_data...\n",
            "[nltk_data]   Package wordnet is already up-to-date!\n"
          ],
          "name": "stdout"
        }
      ]
    },
    {
      "cell_type": "code",
      "metadata": {
        "id": "T82WGVnN2EwF",
        "outputId": "514720ea-bc59-42df-cd75-155632ca2924",
        "colab": {
          "base_uri": "https://localhost:8080/"
        }
      },
      "source": [
        "# Stanza NLP\n",
        "import stanza\n",
        "\n",
        "stanza.download('en', package='ewt', processors='tokenize,mwt,pos,lemma', verbose=True)\n",
        "stNLP = stanza.Pipeline(processors='tokenize,mwt,pos,lemma',\n",
        "                      lang='en',\n",
        "                      use_gpu=True)"
      ],
      "execution_count": 8,
      "outputs": [
        {
          "output_type": "stream",
          "text": [
            "Downloading https://raw.githubusercontent.com/stanfordnlp/stanza-resources/master/resources_1.1.0.json: 122kB [00:00, 32.5MB/s]                    \n",
            "2020-10-07 19:48:53 WARNING: Can not find mwt: ewt from official model list. Ignoring it.\n",
            "2020-10-07 19:48:53 INFO: Downloading these customized packages for language: en (English)...\n",
            "=======================\n",
            "| Processor | Package |\n",
            "-----------------------\n",
            "| tokenize  | ewt     |\n",
            "| pos       | ewt     |\n",
            "| lemma     | ewt     |\n",
            "| pretrain  | ewt     |\n",
            "=======================\n",
            "\n",
            "2020-10-07 19:48:53 INFO: File exists: /root/stanza_resources/en/tokenize/ewt.pt.\n",
            "2020-10-07 19:48:53 INFO: File exists: /root/stanza_resources/en/pos/ewt.pt.\n",
            "2020-10-07 19:48:53 INFO: File exists: /root/stanza_resources/en/lemma/ewt.pt.\n",
            "2020-10-07 19:48:54 INFO: File exists: /root/stanza_resources/en/pretrain/ewt.pt.\n",
            "2020-10-07 19:48:54 INFO: Finished downloading models and saved to /root/stanza_resources.\n",
            "2020-10-07 19:48:54 WARNING: Can not find mwt: default from official model list. Ignoring it.\n",
            "2020-10-07 19:48:54 INFO: Loading these models for language: en (English):\n",
            "=======================\n",
            "| Processor | Package |\n",
            "-----------------------\n",
            "| tokenize  | ewt     |\n",
            "| pos       | ewt     |\n",
            "| lemma     | ewt     |\n",
            "=======================\n",
            "\n",
            "2020-10-07 19:48:54 INFO: Use device: gpu\n",
            "2020-10-07 19:48:54 INFO: Loading: tokenize\n",
            "2020-10-07 19:48:57 INFO: Loading: pos\n",
            "2020-10-07 19:48:58 INFO: Loading: lemma\n",
            "2020-10-07 19:48:58 INFO: Done loading processors!\n"
          ],
          "name": "stderr"
        }
      ]
    },
    {
      "cell_type": "code",
      "metadata": {
        "id": "9236VgMj2Gwg",
        "outputId": "24e04812-0589-442d-927a-e4e559de9e1a",
        "colab": {
          "base_uri": "https://localhost:8080/"
        }
      },
      "source": [
        "# testing stanza\n",
        "doc = stNLP('Barack Obama was born in Hawai.')\n",
        "print(*[f'word: {word.text+\" \"}\\tlemma: {word.lemma}' for sent in doc.sentences for word in sent.words], sep='\\n')"
      ],
      "execution_count": 9,
      "outputs": [
        {
          "output_type": "stream",
          "text": [
            "word: Barack \tlemma: Barack\n",
            "word: Obama \tlemma: Obama\n",
            "word: was \tlemma: be\n",
            "word: born \tlemma: bear\n",
            "word: in \tlemma: in\n",
            "word: Hawai \tlemma: Hawai\n",
            "word: . \tlemma: .\n"
          ],
          "name": "stdout"
        }
      ]
    },
    {
      "cell_type": "code",
      "metadata": {
        "id": "-4QpRgR02IDL"
      },
      "source": [
        "# Spacy NLP\n",
        "import spacy\n",
        "spNLP = spacy.load('en_core_web_sm')\n",
        "spNLP.max_length = 103950039 # or higher\n",
        "# spacy.prefer_gpu() #will not work with stanza"
      ],
      "execution_count": 10,
      "outputs": []
    },
    {
      "cell_type": "markdown",
      "metadata": {
        "id": "x6iiQVT42Jo3"
      },
      "source": [
        "\n",
        "---\n",
        "\n",
        "# **2. Hyperparameters**\n",
        "\n",
        "---"
      ]
    },
    {
      "cell_type": "code",
      "metadata": {
        "id": "hIpxO61l0gcD"
      },
      "source": [
        "FILE = 'datasets/categories_dataset.csv'\n",
        "MODEL_PATH = './models/model.h5'"
      ],
      "execution_count": 11,
      "outputs": []
    },
    {
      "cell_type": "code",
      "metadata": {
        "id": "KUv__06r2LOQ"
      },
      "source": [
        "EPOCHS = 100\n",
        "BATCH_SIZE = 32\n",
        "\n",
        "training_portion = 0.8\n",
        "rnn_units = 64\n",
        "\n",
        "# embedding_dim : len(words) + 1\n",
        "# vocab_size : len(words.index) + 1\n",
        "vocab_size = 5000\n",
        "\n",
        "max_length = 30 # 200 # for padding_shape on preprocess function\n",
        "\n",
        "trunc_type = 'post'\n",
        "padding_type = 'post'\n",
        "padding_shape = 30\n",
        "oov_tok = '<OOV>'"
      ],
      "execution_count": 12,
      "outputs": []
    },
    {
      "cell_type": "code",
      "metadata": {
        "id": "YBKrSlNb0fIs"
      },
      "source": [
        "main_labels = ['confident', 'unconfident', \n",
        "               'pos_hp', 'neg_hp', \n",
        "               'interested', 'uninterested', \n",
        "               'happy', 'unhappy', \n",
        "               'friendly', 'unfriendly']\n",
        "               \n",
        "label_dict = dict(zip(main_labels, range(1, len(main_labels) + 1)))"
      ],
      "execution_count": 13,
      "outputs": []
    },
    {
      "cell_type": "code",
      "metadata": {
        "id": "OyVrjQ46nEMd",
        "outputId": "c828d765-e393-4339-8565-2d6d05c37e87",
        "colab": {
          "base_uri": "https://localhost:8080/"
        }
      },
      "source": [
        "label_dict"
      ],
      "execution_count": 14,
      "outputs": [
        {
          "output_type": "execute_result",
          "data": {
            "text/plain": [
              "{'confident': 1,\n",
              " 'friendly': 9,\n",
              " 'happy': 7,\n",
              " 'interested': 5,\n",
              " 'neg_hp': 4,\n",
              " 'pos_hp': 3,\n",
              " 'unconfident': 2,\n",
              " 'unfriendly': 10,\n",
              " 'unhappy': 8,\n",
              " 'uninterested': 6}"
            ]
          },
          "metadata": {
            "tags": []
          },
          "execution_count": 14
        }
      ]
    },
    {
      "cell_type": "markdown",
      "metadata": {
        "id": "lO32c_pD2NzO"
      },
      "source": [
        "---\n",
        "\n",
        "# **3. Lemmatization**\n",
        "\n",
        "---"
      ]
    },
    {
      "cell_type": "code",
      "metadata": {
        "id": "Lb6Wbv0U2OeH"
      },
      "source": [
        "# lemmatizion\n",
        "# stanza\n",
        "def stanza_lemma(text):\n",
        "    doc = stNLP(text)\n",
        "    return ' '.join([word.lemma for sent in doc.sentences for word in sent.words])"
      ],
      "execution_count": 15,
      "outputs": []
    },
    {
      "cell_type": "code",
      "metadata": {
        "id": "RdtBcgKB2PaB"
      },
      "source": [
        "def nltk_lemma(text):\n",
        "    lemmatizer = WordNetLemmatizer()\n",
        "    lemmatizer.lemmatize(text)"
      ],
      "execution_count": 16,
      "outputs": []
    },
    {
      "cell_type": "markdown",
      "metadata": {
        "id": "1yfg8TVR2SL_"
      },
      "source": [
        "---\n",
        "# **4. Load dataset**\n",
        "---"
      ]
    },
    {
      "cell_type": "code",
      "metadata": {
        "id": "gUCh3RCa2VS8"
      },
      "source": [
        "def load_clean_dataset():\n",
        "    !mkdir -p datasets\n",
        "    !wget -nc https://raw.githubusercontent.com/Y4rd13/sentiment-analysis/master/datasets/results/categories_dataset_1000.csv -P datasets\n",
        "    df = pd.read_csv('./datasets/categories_dataset_1000.csv', encoding='utf-8', index_col=0)\n",
        "\n",
        "    print(df.head())\n",
        "    x, y = df['word'], df['category'] # 'POS stza'\n",
        "\n",
        "    return x, y"
      ],
      "execution_count": 17,
      "outputs": []
    },
    {
      "cell_type": "markdown",
      "metadata": {
        "id": "kleN4LtF2-bg"
      },
      "source": [
        "---\n",
        "# **5. Prepare dataset**\n",
        "---"
      ]
    },
    {
      "cell_type": "code",
      "metadata": {
        "id": "uDdZHwMcolpC"
      },
      "source": [
        "def preprocess(x, padding_shape=30):\n",
        "    return np.array([ord(i.lower()) - ord('a')+1 if not i.isdigit() and i != ' ' else 0 for i in list(x)] + ([0] * (padding_shape - len(x))), dtype=int)"
      ],
      "execution_count": 18,
      "outputs": []
    },
    {
      "cell_type": "code",
      "metadata": {
        "id": "-y-Y8HxI3E7B"
      },
      "source": [
        "def prepare_dataset(labeldict : dict, test_size=.3, validation_size=.1): \n",
        "    print('preparing the dataset...\\n')\n",
        "    \n",
        "    from sklearn import preprocessing\n",
        "\n",
        "    # load dataset\n",
        "    # split dataset (as string into panda.core.series.Serie object)\n",
        "    x, y = load_clean_dataset()\n",
        "\n",
        "    x = np.array(list(map(preprocess, x)))\n",
        "    y = np.array(list(map(lambda x: labeldict[x.replace(' ', '_')], y)))\n",
        "    print(('y: {}').format(y))\n",
        "\n",
        "    # create/split train, validation and test and shuffle the data\n",
        "    x_train, x_test, y_train, y_test = train_test_split(x, y, test_size=test_size, shuffle=True)\n",
        "    print(x.max(), x.min())\n",
        "\n",
        "    x_train_val, x_validation, y_train_val, y_validation = train_test_split(x_train, y_train, test_size=test_size, shuffle=True)\n",
        "\n",
        "    # pandas.core.series.Series to numpy array\n",
        "    x_train, y_train = np.array(x_train), np.array(y_train)\n",
        "    x_validation, y_validation =  np.array(x_validation), np.array(y_validation)\n",
        "    x_test, y_test = np.array(x_test), np.array(y_test)\n",
        "    \n",
        "    x_train_val, y_train_val = np.array(x_train_val), np.array(y_train_val)\n",
        "\n",
        "    print(('\\nx_train: \\n{}\\n\\ny_train: \\n{}').format(x_train_val, y_train_val))\n",
        "\n",
        "    return (x_train, y_train), (x_validation, y_validation), (x_test, y_test), (x_train_val, y_train_val)"
      ],
      "execution_count": 19,
      "outputs": []
    },
    {
      "cell_type": "code",
      "metadata": {
        "id": "gpHOyVkIwY4r",
        "outputId": "dbf9e973-8329-480a-a516-ce831e016837",
        "colab": {
          "base_uri": "https://localhost:8080/"
        }
      },
      "source": [
        "(x_train, y_train), (x_validation, y_validation), (x_test, y_test), (x_train_val, y_train_val) = prepare_dataset(label_dict)"
      ],
      "execution_count": 20,
      "outputs": [
        {
          "output_type": "stream",
          "text": [
            "preparing the dataset...\n",
            "\n",
            "File ‘datasets/categories_dataset_1000.csv’ already there; not retrieving.\n",
            "\n",
            "   Arousal  Compound  Dominance  ... Valence   category          word\n",
            "0     0.55      0.30       0.74  ...    0.89  confident     tolerance\n",
            "1     0.55      0.00       0.74  ...    0.89  confident         carry\n",
            "2     0.55      0.42       0.74  ...    0.89  confident   tranquility\n",
            "3     0.55      0.00       0.74  ...    0.89  confident  socontagious\n",
            "4     0.55      0.00       0.74  ...    0.89  confident          zeal\n",
            "\n",
            "[5 rows x 12 columns]\n",
            "y: [ 1  1  1  1  1  1  1  1  1  1  1  1  1  1  1  1  1  1  1  1  1  1  1  1\n",
            "  1  1  1  1  1  1  1  1  1  1  1  1  1  1  1  1  1  1  1  1  1  1  1  1\n",
            "  1  1  1  1  1  1  1  1  1  1  1  1  1  1  1  1  1  1  1  1  1  1  1  1\n",
            "  1  1  1  1  1  1  1  1  1  1  1  1  1  1  1  1  1  1  1  1  1  1  1  1\n",
            "  1  1  1  1  9  9  9  9  9  9  9  9  9  9  9  9  9  9  9  9  9  9  9  9\n",
            "  9  9  9  9  9  9  9  9  9  9  9  9  9  9  9  9  9  9  9  9  9  9  9  9\n",
            "  9  9  9  9  9  9  9  9  9  9  9  9  9  9  9  9  9  9  9  9  9  9  9  9\n",
            "  9  9  9  9  9  9  9  9  9  9  9  9  9  9  9  9  9  9  9  9  9  9  9  9\n",
            "  9  9  9  9  9  9  9  9  7  7  7  7  7  7  7  7  7  7  7  7  7  7  7  7\n",
            "  7  7  7  7  7  7  7  7  7  7  7  7  7  7  7  7  7  7  7  7  7  7  7  7\n",
            "  7  7  7  7  7  7  7  7  7  7  7  7  7  7  7  7  7  7  7  7  7  7  7  7\n",
            "  7  7  7  7  7  7  7  7  7  7  7  7  7  7  7  7  7  7  7  7  7  7  7  7\n",
            "  7  7  7  7  7  7  7  7  7  7  7  7  5  5  5  5  5  5  5  5  5  5  5  5\n",
            "  5  5  5  5  5  5  5  5  5  5  5  5  5  5  5  5  5  5  5  5  5  5  5  5\n",
            "  5  5  5  5  5  5  5  5  5  5  5  5  5  5  5  5  5  5  5  5  5  5  5  5\n",
            "  5  5  5  5  5  5  5  5  5  5  5  5  5  5  5  5  5  5  5  5  5  5  5  5\n",
            "  5  5  5  5  5  5  5  5  5  5  5  5  5  5  5  5  4  4  4  4  4  4  4  4\n",
            "  4  4  4  4  4  4  4  4  4  4  4  4  4  4  4  4  4  4  4  4  4  4  4  4\n",
            "  4  4  4  4  4  4  4  4  4  4  4  4  4  4  4  4  4  4  4  4  4  4  4  4\n",
            "  4  4  4  4  4  4  4  4  4  4  4  4  4  4  4  4  4  4  4  4  4  4  4  4\n",
            "  4  4  4  4  4  4  4  4  4  4  4  4  4  4  4  4  4  4  4  4  3  3  3  3\n",
            "  3  3  3  3  3  3  3  3  3  3  3  3  3  3  3  3  3  3  3  3  3  3  3  3\n",
            "  3  3  3  3  3  3  3  3  3  3  3  3  3  3  3  3  3  3  3  3  3  3  3  3\n",
            "  3  3  3  3  3  3  3  3  3  3  3  3  3  3  3  3  3  3  3  3  3  3  3  3\n",
            "  3  3  3  3  3  3  3  3  3  3  3  3  3  3  3  3  3  3  3  3  3  3  3  3\n",
            "  2  2  2  2  2  2  2  2  2  2  2  2  2  2  2  2  2  2  2  2  2  2  2  2\n",
            "  2  2  2  2  2  2  2  2  2  2  2  2  2  2  2  2  2  2  2  2  2  2  2  2\n",
            "  2  2  2  2  2  2  2  2  2  2  2  2  2  2  2  2  2  2  2  2  2  2  2  2\n",
            "  2  2  2  2  2  2  2  2  2  2  2  2  2  2  2  2  2  2  2  2  2  2  2  2\n",
            "  2  2  2  2 10 10 10 10 10 10 10 10 10 10 10 10 10 10 10 10 10 10 10 10\n",
            " 10 10 10 10 10 10 10 10 10 10 10 10 10 10 10 10 10 10 10 10 10 10 10 10\n",
            " 10 10 10 10 10 10 10 10 10 10 10 10 10 10 10 10 10 10 10 10 10 10 10 10\n",
            " 10 10 10 10 10 10 10 10 10 10 10 10 10 10 10 10 10 10 10 10 10 10 10 10\n",
            " 10 10 10 10 10 10 10 10  8  8  8  8  8  8  8  8  8  8  8  8  8  8  8  8\n",
            "  8  8  8  8  8  8  8  8  8  8  8  8  8  8  8  8  8  8  8  8  8  8  8  8\n",
            "  8  8  8  8  8  8  8  8  8  8  8  8  8  8  8  8  8  8  8  8  8  8  8  8\n",
            "  8  8  8  8  8  8  8  8  8  8  8  8  8  8  8  8  8  8  8  8  8  8  8  8\n",
            "  8  8  8  8  8  8  8  8  8  8  8  8  6  6  6  6  6  6  6  6  6  6  6  6\n",
            "  6  6  6  6  6  6  6  6  6  6  6  6  6  6  6  6  6  6  6  6  6  6  6  6\n",
            "  6  6  6  6  6  6  6  6  6  6  6  6  6  6  6  6  6  6  6  6  6  6  6  6\n",
            "  6  6  6  6  6  6  6  6  6  6  6  6  6  6  6  6  6  6  6  6  6  6  6  6\n",
            "  6  6  6  6  6  6  6  6  6  6  6  6  6  6  6  6]\n",
            "26 0\n",
            "\n",
            "x_train: \n",
            "[[ 6  1 11 ...  0  0  0]\n",
            " [20 18 15 ...  0  0  0]\n",
            " [ 1  4 13 ...  0  0  0]\n",
            " ...\n",
            " [ 1 14  7 ...  0  0  0]\n",
            " [22 15 23 ...  0  0  0]\n",
            " [16  5  5 ...  0  0  0]]\n",
            "\n",
            "y_train: \n",
            "[ 1 10  3  6  8  9 10  2  3  5  6  2 10 10  6  8  8  5  9  1  7  1  5  4\n",
            "  5  7  2 10  5  2  6  1  3  3  7  4  6  7  5  6  2  2  4 10  1  7  3  5\n",
            "  1  8  5  9  2  9  8  1  5  2  3  9  2  7  6  4  8  2  4  7  5  3  3  8\n",
            "  9  7 10  4  8  3  7  2  2  2  9  7  5  9  8  1  6  3  1  5  2  6  3  9\n",
            " 10 10  4  1  4  7  5  5  1  1 10  4  1  8  2  1 10  9  2  8  7  3  7  4\n",
            "  5  2  4  1  3  9  6 10  5  4  9 10  3  8  9  9 10  7  5  9  1  7  9  3\n",
            "  3 10  6  4  5  8  1 10 10  6  1  5  9  8  2  4  7  1  9  8  4  5  9 10\n",
            "  1  2  7  4  7  7  1  6  3  9  3  6  6  1  5  6  6  9  5  4  9  1  7  5\n",
            "  5  3  9  9  6  2  3  1 10  2  7  9  7  2  3  6  6  3  2  1  7  8  9  9\n",
            "  5  3  3  4  2  1  4  5  2  7  7  9  1  2  6  3  7  5  1 10  7  5  8  2\n",
            "  5  7  8  3  2  9  4  8  8  9  8  9  4  9 10  7  2  2  5  1  9  7  7  8\n",
            "  8 10  3  8  4  4  2  7  6  9  1  9  5  3  4  8 10  4  5  7 10  1  6  2\n",
            "  4  6  5 10  1  3  4  6  9  4  2  1  5  6  1  7  6  6  1  8  8  8 10  7\n",
            "  6  1 10  2  4  9  6  3  4 10  9  9  1  6  6  4  8 10 10  7 10  8  3  6\n",
            "  8 10  7 10 10  1  3 10  3  1  2  8 10  9  6  7  4  6  4  1  6  3  7  4\n",
            "  3  7  2  5  5  3  9  6  7  9  4  3 10  2  1  6  2  9  1  9  6  2  2  7\n",
            "  9  5  6  9 10  4  6  5  2  4  4  7  4  9  3  9  1  2  7  6  1  2 10  4\n",
            "  2  3  5  2  1  1  6  8  5  3  4  9  7  9  6  6  9  5  5  3 10  1  9  6\n",
            "  1  1  4  9  3  4  5  7  7  8  3  1  7  7  6  4 10  1 10  6  1  8  1  7\n",
            "  1  3  6  5  2  4  5  2  4  7  3  6  1  1  7  2  8  4  8  2  9  4  5  4\n",
            "  5  6  3  1  9  5  8  4  7  1]\n"
          ],
          "name": "stdout"
        }
      ]
    },
    {
      "cell_type": "markdown",
      "metadata": {
        "id": "LQEwk09b4PD_"
      },
      "source": [
        "---\n",
        "# **4. Build model**\n",
        "---"
      ]
    },
    {
      "cell_type": "code",
      "metadata": {
        "id": "tD18U_yE4SOA"
      },
      "source": [
        "def build_model(vocab_size, embedding_dim=64, input_length=30):\n",
        "    print('\\nbuilding the model...\\n')\n",
        "\n",
        "    model = tf.keras.Sequential([\n",
        "        tf.keras.layers.Embedding(input_dim=(vocab_size + 1), output_dim=embedding_dim, input_length=input_length),\n",
        "        \n",
        "        tf.keras.layers.Bidirectional(tf.keras.layers.LSTM(rnn_units,return_sequences=True, dropout=0.2)),\n",
        "        tf.keras.layers.Bidirectional(tf.keras.layers.LSTM(rnn_units,return_sequences=True, dropout=0.2)),\n",
        "        tf.keras.layers.GlobalMaxPool1D(),\n",
        "        tf.keras.layers.Dropout(0.1),\n",
        "        tf.keras.layers.Dense(64, activation='tanh'),\n",
        "        \n",
        "        # softmax output layer\n",
        "        tf.keras.layers.Dense(11, activation='softmax')\n",
        "    ])\n",
        "\n",
        "    # optimizer & loss\n",
        "    opt = 'RMSprop' #tf.optimizers.Adam(learning_rate=1e-4)\n",
        "    loss = 'categorical_crossentropy'\n",
        "\n",
        "    # Metrics\n",
        "    # AUC: Computes the approximate AUC (Area Under the Curve) via a Riemann sum.\n",
        "    # Precision: Computes the precision of the predictions with respect to the labels.\n",
        "    # Recall: Computes the recall of the predictions with respect to the labels.\n",
        "    metrics = ['accuracy', 'AUC','Precision', 'Recall']\n",
        "\n",
        "    # compile model\n",
        "    model.compile(optimizer=opt,\n",
        "                  loss=loss,\n",
        "                  metrics=metrics)\n",
        "    \n",
        "    model.summary()\n",
        "\n",
        "    return model"
      ],
      "execution_count": 21,
      "outputs": []
    },
    {
      "cell_type": "markdown",
      "metadata": {
        "id": "Zf048l554Uug"
      },
      "source": [
        "---\n",
        "# **6. Train model** \n",
        "---"
      ]
    },
    {
      "cell_type": "code",
      "metadata": {
        "id": "c-pVOZYb4T3T"
      },
      "source": [
        "def train(model, x_train, y_train, x_validation, y_validation,\n",
        "          epochs, batch_size=32, patience=5, \n",
        "          verbose=2, monitor_es='accuracy', mode_es='auto', restore=True,\n",
        "          monitor_mc='val_accuracy', mode_mc='max'):\n",
        "    \n",
        "    print('\\ntraining...\\n')\n",
        "\n",
        "    # callback\n",
        "    early_stopping = tf.keras.callbacks.EarlyStopping(monitor=monitor_es,\n",
        "                                                      verbose=1, mode=mode_es, restore_best_weights=restore,\n",
        "                                                      min_delta=1e-3, patience=patience)\n",
        "    \n",
        "    model_checkpoint = tf.keras.callbacks.ModelCheckpoint('tfjsmode.h5', monitor=monitor_mc, mode=mode_mc,      \n",
        "                                                          verbose=1, save_best_only=True)\n",
        "\n",
        "    # train model\n",
        "    history = model.fit(x_train, y_train,\n",
        "                        batch_size=batch_size, epochs=epochs, verbose=verbose,\n",
        "                        validation_data=(x_validation, y_validation),\n",
        "                        callbacks=[early_stopping, model_checkpoint])\n",
        "    return history"
      ],
      "execution_count": 22,
      "outputs": []
    },
    {
      "cell_type": "markdown",
      "metadata": {
        "id": "gy3DyM-b4XPg"
      },
      "source": [
        "---\n",
        "# **7. Plotting history**\n",
        "---"
      ]
    },
    {
      "cell_type": "code",
      "metadata": {
        "id": "ssFJ3CIe4YPn"
      },
      "source": [
        "def plot_history_(history):\n",
        "    fitModel_dict = history.history\n",
        "    acc = fitModel_dict['accuracy']\n",
        "    val_acc = fitModel_dict['val_accuracy']\n",
        "    epochs = range(1, len(acc) + 1)\n",
        "    \n",
        "    plt.figure(figsize=(10, 6))\n",
        "    plt.plot(epochs, acc, 'bo', label = 'Training acc')\n",
        "    plt.plot(epochs, val_acc, 'b', label = 'Validation acc')\n",
        "    plt.title('Training and validation accuracy')\n",
        "    plt.xlabel('Epochs')\n",
        "    plt.ylabel('Accuracy')\n",
        "    plt.legend(loc = 'lower right')\n",
        "    plt.ylim((0.5, 1))\n",
        "\n",
        "    plt.show()\n",
        "\n",
        "def plot_history(history, string):\n",
        "    fitModel_dict = history.history\n",
        "\n",
        "    plt.figure(figsize=(10, 6))\n",
        "    plt.plot(fitModel_dict[string])\n",
        "    plt.plot(fitModel_dict['val_' + string])\n",
        "    plt.xlabel('Epochs')\n",
        "    plt.ylabel(string)\n",
        "    plt.legend([string, 'val_' + string])\n",
        "    plt.show()"
      ],
      "execution_count": 23,
      "outputs": []
    },
    {
      "cell_type": "markdown",
      "metadata": {
        "id": "oScqNNBXsL7Y"
      },
      "source": [
        "---\n",
        "# **8. Prediction**\n",
        "---"
      ]
    },
    {
      "cell_type": "code",
      "metadata": {
        "id": "ekhWVsv7sK7z"
      },
      "source": [
        "def predict(d : dict, s : str, model):\n",
        "    token = preprocess(s)\n",
        "    output = model.predict(np.array([token]))\n",
        "    id = int(tf.keras.backend.argmax(output))\n",
        "    print(output)\n",
        "\n",
        "    for k, v in d.items():\n",
        "        if v == id:\n",
        "            return k\n",
        "            \n",
        "    return 'unclassified'"
      ],
      "execution_count": 24,
      "outputs": []
    },
    {
      "cell_type": "markdown",
      "metadata": {
        "id": "9FN5osTo4aC4"
      },
      "source": [
        "---\n",
        "# **9. Main**\n",
        "---"
      ]
    },
    {
      "cell_type": "code",
      "metadata": {
        "id": "DAb369Lh4ajo"
      },
      "source": [
        "def main():\n",
        "    # prepare the dataset\n",
        "    (x_train, y_train), (x_validation, y_validation), (x_test, y_test) = prepare_dataset(label_dict)\n",
        "    print(x_train.shape, x_validation.shape, x_test.shape)\n",
        "    print(y_train.shape, y_validation.shape, x_test.shape)\n",
        "    print(y_train)\n",
        "\n",
        "    # build the model\n",
        "    model = build_model()\n",
        "\n",
        "    # train the model\n",
        "    history = train(model=model, x_train=x_train, y_train=to_categorical(y_train),\n",
        "                    x_validation=x_validation, y_validation=to_categorical(y_validation),\n",
        "                    epochs=EPOCHS, verbose=1, monitor='accuracy')\n",
        "\n",
        "    # plot the training\n",
        "    plot_history_(history)\n",
        "\n",
        "    plot_history(history, 'accuracy')\n",
        "\n",
        "    # evaluate the model\n",
        "    test_loss, test_accuracy = model.evaluate(x_test, y_test)\n",
        "    evaluate_lst = list(map(lambda x: x * 100, [test_loss, test_accuracy]))\n",
        "    print('\\nTest:\\nLoss: {}\\nAccuracy: {}').format(evaluate_lst[0], evaluate_lst[1])\n",
        "\n",
        "    # predict\n",
        "    s = 'happy'\n",
        "    pred = predict(label_dict, s, model)\n",
        "    print('Word: {}'.format(s))\n",
        "    print('Prediction: {}'.format(pred))\n",
        "\n",
        "    # save the model\n",
        "    !mkdir models\n",
        "    model.save(MODEL_PATH)\n",
        "\n",
        "    # convert modeljs\n",
        "    tfjs.converters.save_keras_model(model, 'tfjsmodel') "
      ],
      "execution_count": 25,
      "outputs": []
    },
    {
      "cell_type": "markdown",
      "metadata": {
        "id": "02Lry1jA4b4w"
      },
      "source": [
        "---\n",
        "# **10. testing**\n",
        "---"
      ]
    },
    {
      "cell_type": "code",
      "metadata": {
        "id": "j1BALgvxi3_U",
        "outputId": "0c944d4f-1800-4965-d0f4-471b6cdf3624",
        "colab": {
          "base_uri": "https://localhost:8080/"
        }
      },
      "source": [
        "# prepare the dataset\n",
        "(x_train, y_train), (x_validation, y_validation), (x_test, y_test), (x_test_val, y_test_val) = prepare_dataset(label_dict)\n",
        "print(x_train.shape, x_validation.shape, x_test.shape)\n",
        "print(y_train.shape, y_validation.shape, x_test.shape)\n",
        "print(y_train)\n",
        "\n",
        "# build the model\n",
        "model = build_model(vocab_size)"
      ],
      "execution_count": 26,
      "outputs": [
        {
          "output_type": "stream",
          "text": [
            "preparing the dataset...\n",
            "\n",
            "File ‘datasets/categories_dataset_1000.csv’ already there; not retrieving.\n",
            "\n",
            "   Arousal  Compound  Dominance  ... Valence   category          word\n",
            "0     0.55      0.30       0.74  ...    0.89  confident     tolerance\n",
            "1     0.55      0.00       0.74  ...    0.89  confident         carry\n",
            "2     0.55      0.42       0.74  ...    0.89  confident   tranquility\n",
            "3     0.55      0.00       0.74  ...    0.89  confident  socontagious\n",
            "4     0.55      0.00       0.74  ...    0.89  confident          zeal\n",
            "\n",
            "[5 rows x 12 columns]\n",
            "y: [ 1  1  1  1  1  1  1  1  1  1  1  1  1  1  1  1  1  1  1  1  1  1  1  1\n",
            "  1  1  1  1  1  1  1  1  1  1  1  1  1  1  1  1  1  1  1  1  1  1  1  1\n",
            "  1  1  1  1  1  1  1  1  1  1  1  1  1  1  1  1  1  1  1  1  1  1  1  1\n",
            "  1  1  1  1  1  1  1  1  1  1  1  1  1  1  1  1  1  1  1  1  1  1  1  1\n",
            "  1  1  1  1  9  9  9  9  9  9  9  9  9  9  9  9  9  9  9  9  9  9  9  9\n",
            "  9  9  9  9  9  9  9  9  9  9  9  9  9  9  9  9  9  9  9  9  9  9  9  9\n",
            "  9  9  9  9  9  9  9  9  9  9  9  9  9  9  9  9  9  9  9  9  9  9  9  9\n",
            "  9  9  9  9  9  9  9  9  9  9  9  9  9  9  9  9  9  9  9  9  9  9  9  9\n",
            "  9  9  9  9  9  9  9  9  7  7  7  7  7  7  7  7  7  7  7  7  7  7  7  7\n",
            "  7  7  7  7  7  7  7  7  7  7  7  7  7  7  7  7  7  7  7  7  7  7  7  7\n",
            "  7  7  7  7  7  7  7  7  7  7  7  7  7  7  7  7  7  7  7  7  7  7  7  7\n",
            "  7  7  7  7  7  7  7  7  7  7  7  7  7  7  7  7  7  7  7  7  7  7  7  7\n",
            "  7  7  7  7  7  7  7  7  7  7  7  7  5  5  5  5  5  5  5  5  5  5  5  5\n",
            "  5  5  5  5  5  5  5  5  5  5  5  5  5  5  5  5  5  5  5  5  5  5  5  5\n",
            "  5  5  5  5  5  5  5  5  5  5  5  5  5  5  5  5  5  5  5  5  5  5  5  5\n",
            "  5  5  5  5  5  5  5  5  5  5  5  5  5  5  5  5  5  5  5  5  5  5  5  5\n",
            "  5  5  5  5  5  5  5  5  5  5  5  5  5  5  5  5  4  4  4  4  4  4  4  4\n",
            "  4  4  4  4  4  4  4  4  4  4  4  4  4  4  4  4  4  4  4  4  4  4  4  4\n",
            "  4  4  4  4  4  4  4  4  4  4  4  4  4  4  4  4  4  4  4  4  4  4  4  4\n",
            "  4  4  4  4  4  4  4  4  4  4  4  4  4  4  4  4  4  4  4  4  4  4  4  4\n",
            "  4  4  4  4  4  4  4  4  4  4  4  4  4  4  4  4  4  4  4  4  3  3  3  3\n",
            "  3  3  3  3  3  3  3  3  3  3  3  3  3  3  3  3  3  3  3  3  3  3  3  3\n",
            "  3  3  3  3  3  3  3  3  3  3  3  3  3  3  3  3  3  3  3  3  3  3  3  3\n",
            "  3  3  3  3  3  3  3  3  3  3  3  3  3  3  3  3  3  3  3  3  3  3  3  3\n",
            "  3  3  3  3  3  3  3  3  3  3  3  3  3  3  3  3  3  3  3  3  3  3  3  3\n",
            "  2  2  2  2  2  2  2  2  2  2  2  2  2  2  2  2  2  2  2  2  2  2  2  2\n",
            "  2  2  2  2  2  2  2  2  2  2  2  2  2  2  2  2  2  2  2  2  2  2  2  2\n",
            "  2  2  2  2  2  2  2  2  2  2  2  2  2  2  2  2  2  2  2  2  2  2  2  2\n",
            "  2  2  2  2  2  2  2  2  2  2  2  2  2  2  2  2  2  2  2  2  2  2  2  2\n",
            "  2  2  2  2 10 10 10 10 10 10 10 10 10 10 10 10 10 10 10 10 10 10 10 10\n",
            " 10 10 10 10 10 10 10 10 10 10 10 10 10 10 10 10 10 10 10 10 10 10 10 10\n",
            " 10 10 10 10 10 10 10 10 10 10 10 10 10 10 10 10 10 10 10 10 10 10 10 10\n",
            " 10 10 10 10 10 10 10 10 10 10 10 10 10 10 10 10 10 10 10 10 10 10 10 10\n",
            " 10 10 10 10 10 10 10 10  8  8  8  8  8  8  8  8  8  8  8  8  8  8  8  8\n",
            "  8  8  8  8  8  8  8  8  8  8  8  8  8  8  8  8  8  8  8  8  8  8  8  8\n",
            "  8  8  8  8  8  8  8  8  8  8  8  8  8  8  8  8  8  8  8  8  8  8  8  8\n",
            "  8  8  8  8  8  8  8  8  8  8  8  8  8  8  8  8  8  8  8  8  8  8  8  8\n",
            "  8  8  8  8  8  8  8  8  8  8  8  8  6  6  6  6  6  6  6  6  6  6  6  6\n",
            "  6  6  6  6  6  6  6  6  6  6  6  6  6  6  6  6  6  6  6  6  6  6  6  6\n",
            "  6  6  6  6  6  6  6  6  6  6  6  6  6  6  6  6  6  6  6  6  6  6  6  6\n",
            "  6  6  6  6  6  6  6  6  6  6  6  6  6  6  6  6  6  6  6  6  6  6  6  6\n",
            "  6  6  6  6  6  6  6  6  6  6  6  6  6  6  6  6]\n",
            "26 0\n",
            "\n",
            "x_train: \n",
            "[[12  9 11 ...  0  0  0]\n",
            " [19 21  3 ...  0  0  0]\n",
            " [21 14 20 ...  0  0  0]\n",
            " ...\n",
            " [ 1  4 21 ...  0  0  0]\n",
            " [ 1 22  1 ...  0  0  0]\n",
            " [ 1  2  5 ...  0  0  0]]\n",
            "\n",
            "y_train: \n",
            "[ 9  9  1  9  7  1  1  1  4  1  8  6  9  4  2  1  7 10  3 10 10  8  5  5\n",
            "  5  1  7  3  4  3  9  4  3  8  3  4  4 10 10  4  8  7  3  1  8  7  7  4\n",
            " 10  8  9 10  2  7  5 10  4 10  8  3  5  7  4  8  7  5  7  6  3  3  2  7\n",
            "  5 10  9  1  7  3  5 10  4  2  8  1  4  2  9  1  3  5  4  7  7  3  4  7\n",
            "  9  2 10  7  1  2  9  4  8  6  2  9  8 10  3 10  1  3  4  6  4  3  5  3\n",
            "  6  4  1  1 10 10  8  1  9  4  6  3 10  1  1  4  2  6  9  8  7  2  6  5\n",
            "  6  4  7  4  9  3 10  1  2  9  2  5  4  5  9  8 10  6  4  1  7  9  2  7\n",
            "  1  8  9  3  3  9 10 10  4  3 10  2  6  8  3  4  1  3 10  8  4  8  6  6\n",
            "  3  6 10  2  7  2  4  4  5  7  6  6  4  7 10  7  7 10  9 10  7  6 10  1\n",
            "  3  3  3  8  3  4  4  1  5  3  4 10  5  3  1  4  2  7  2  1  9  4  8  6\n",
            "  5  2  8  7  7 10  8  6  1  1  5  8  4  4  4  7  8  7  8  5  2  9 10  1\n",
            "  9  3  4 10  4  8  6  2  8  1  7  3  7  9  9  3  9  1  7  8  6  3 10 10\n",
            "  8  3  2  3  5 10  2  1  8  5  3  8 10  6 10  4  2  1  1  9  2  6  2  7\n",
            "  6  3  2  6  7  5  4  9 10  6  4  8  6  4  2  2  7  8  1  1  7  9  9  8\n",
            " 10  5 10  9  7  1  5  7  5  9  7  4  1 10  5  9  7  5  3  1 10  4  5  8\n",
            "  7  8  6  4  6  5  8  6  2  6  5  4  5  1  3  3  6  1  5  8  6  1  8  1\n",
            "  6  9 10  9  7  9  2  4  8  4  8  2  4  5  6  3  6  7  5  7  2  6  1  4\n",
            "  6  7  2  8  1  7  2  6 10  3  2  6  9 10  8  6  2  3  6  8  9  8  2  2\n",
            "  3  9 10  9  8  9  8  3  9  8  5  4  2  1  2 10 10  5  4  6  4  3  1  6\n",
            "  6  5  2  5  8  9  9  4  2  3  7  3  6  5  6  2  2  5  3  2  7  4  1  5\n",
            "  2  1  7  6  3  6  1  4  2  4]\n",
            "(700, 30) (210, 30) (300, 30)\n",
            "(700,) (210,) (300, 30)\n",
            "[ 3  6  4  8 10  8  5  5  8  7  5  8 10  7 10  2  1  6  1  2  4  4  8  2\n",
            "  5  3  8  7  9  6  8 10  6  4  9  1  1  1  3  1  9  9  4  6  6  3  6 10\n",
            "  6  6  9  2  2  9  3  9  8  6  3  4  3  7  1  1  3  5  1  7  9 10  7  9\n",
            "  1  5  5  2  8 10  7  3  6 10  6  9  7  7  8  8  8  1  8  2  2  8  3  3\n",
            "  9  9 10  2  4  1  4  1  9 10 10  7  2  7  2  9 10 10 10  6  2  2  4  8\n",
            "  7 10  5  2  5  9  1  8  5  2  2 10  8  9  7  6  3  5  6  2  7  9  3  6\n",
            "  2  7  4  1  7  9  2  6  8  7  9  7  9  9  9 10  9  8  8  2  3  8  4  8\n",
            " 10  6  9  8  9  6  1  3  4  5  9  3  9  4  4 10  4  8  3  4  4  8  2  3\n",
            "  5  6  1  7  3 10  7  9  2  4  5 10  7  3  2  2  5  2  9  4  6  2 10 10\n",
            "  5  2  5  4  6  9  8 10  9  2  4  7  6  2  1  2  7  5  3  2  2  4  1  5\n",
            "  5  1  3  6  7  6  4  1  3  4  3  2 10  5  4  5  9  2  3  6  6  7  7  2\n",
            "  6  7  8  9  9  3  5  8  2 10  6  1  4  3 10  8  1  4  2  4  9  9  2  2\n",
            "  5  4  7  1  3  8  7  2  4  7  3  4  9  7  5  8  3  9  7  9  9  7 10  3\n",
            "  7  6  4  5  5  9  1  1  3  5  6  3  8  2 10  2  8  1  6  7  4  4  8  1\n",
            "  8  3  1  2  7  8  4  1  4 10  1  4  8  5  6  1  1  1  9  4  6  8  1  3\n",
            "  7  6  8  4  2  3  8 10  3  8  4  5  5  4 10  3  7  6  4  4  8  4  9  3\n",
            "  3  1  6  9  1  6  9  7 10  5  4  2  8  1  9  7  8  2  5  9  1  7  3  8\n",
            "  1  8  3  7  2  7  7  7  7  3  9  7  9  2  1  7  7  2  1  1  7  7  9  5\n",
            "  6 10  7  8  3  1  6  7  8 10  8  3 10  4  2  5  2  8 10  7  1  1  6 10\n",
            "  8 10  2  8  5  2  6  1  8  3  5  3  8  9  6  8  2  3 10  3  4  9  8  3\n",
            "  4  5  5 10  8  2 10  5  3  7  5  9  6  9  6  9 10  1  4  7  6  1  7 10\n",
            "  4  4  5  3  7  9  2  4 10  1  9  3  7  5  3  9  4  7 10  9  4  4  6  7\n",
            "  2  3  1  8  3  2  5 10 10  5  7 10  5  5  4  4  1  8  1  5  4  4  6  3\n",
            "  5  2  6 10  8  4  9  6  9  1  7  4  3  9  3  7  2  6  6  6  1  9  7  6\n",
            " 10  4  5 10  1  9  1  9  1  6  4  9  9  8  7  3  5  4  8  8  3  1  7  4\n",
            "  3  2  3  4  9  4 10  3  9  8  6  9  6  2  2  8  1  5 10  9  6  5  4 10\n",
            "  5  6  9  3  4  5  7  8  6  5  5  1  4  5  6  3  5  6  6  4  2  1  5  7\n",
            "  2  1  3  7  5 10  6 10  8  6  6  3  1  3  1 10  7  8  5  8  3  7  1  2\n",
            "  2  4  9  7 10  5  4  8 10  7  9  5  5  6  6  7  4  5  4  4  9 10  2  3\n",
            "  7  7  4  1]\n",
            "\n",
            "building the model...\n",
            "\n",
            "Model: \"sequential\"\n",
            "_________________________________________________________________\n",
            "Layer (type)                 Output Shape              Param #   \n",
            "=================================================================\n",
            "embedding (Embedding)        (None, 30, 64)            320064    \n",
            "_________________________________________________________________\n",
            "bidirectional (Bidirectional (None, 30, 128)           66048     \n",
            "_________________________________________________________________\n",
            "bidirectional_1 (Bidirection (None, 30, 128)           98816     \n",
            "_________________________________________________________________\n",
            "global_max_pooling1d (Global (None, 128)               0         \n",
            "_________________________________________________________________\n",
            "dropout (Dropout)            (None, 128)               0         \n",
            "_________________________________________________________________\n",
            "dense (Dense)                (None, 64)                8256      \n",
            "_________________________________________________________________\n",
            "dense_1 (Dense)              (None, 11)                715       \n",
            "=================================================================\n",
            "Total params: 493,899\n",
            "Trainable params: 493,899\n",
            "Non-trainable params: 0\n",
            "_________________________________________________________________\n"
          ],
          "name": "stdout"
        }
      ]
    },
    {
      "cell_type": "code",
      "metadata": {
        "id": "XS_cMXislcAr",
        "outputId": "221012d1-2104-49ca-8137-034beaff91f1",
        "colab": {
          "base_uri": "https://localhost:8080/"
        }
      },
      "source": [
        "# train the model\n",
        "history = train(model=model, x_train=x_train, y_train=to_categorical(y_train), batch_size=BATCH_SIZE,\n",
        "                x_validation=x_validation, y_validation=to_categorical(y_validation),\n",
        "                epochs=EPOCHS, verbose=1, monitor_es='val_loss', mode_es='min', restore=False)"
      ],
      "execution_count": 27,
      "outputs": [
        {
          "output_type": "stream",
          "text": [
            "\n",
            "training...\n",
            "\n",
            "Epoch 1/100\n",
            "21/22 [===========================>..] - ETA: 0s - loss: 2.3560 - accuracy: 0.0982 - auc: 0.5333 - precision: 0.0000e+00 - recall: 0.0000e+00\n",
            "Epoch 00001: val_accuracy improved from -inf to 0.08095, saving model to tfjsmode.h5\n",
            "22/22 [==============================] - 2s 76ms/step - loss: 2.3548 - accuracy: 0.1000 - auc: 0.5337 - precision: 0.0000e+00 - recall: 0.0000e+00 - val_loss: 2.3242 - val_accuracy: 0.0810 - val_auc: 0.5374 - val_precision: 0.0000e+00 - val_recall: 0.0000e+00\n",
            "Epoch 2/100\n",
            "21/22 [===========================>..] - ETA: 0s - loss: 2.3271 - accuracy: 0.1131 - auc: 0.5381 - precision: 0.0000e+00 - recall: 0.0000e+00\n",
            "Epoch 00002: val_accuracy improved from 0.08095 to 0.08571, saving model to tfjsmode.h5\n",
            "22/22 [==============================] - 0s 17ms/step - loss: 2.3275 - accuracy: 0.1100 - auc: 0.5375 - precision: 0.0000e+00 - recall: 0.0000e+00 - val_loss: 2.2999 - val_accuracy: 0.0857 - val_auc: 0.6363 - val_precision: 0.0000e+00 - val_recall: 0.0000e+00\n",
            "Epoch 3/100\n",
            "21/22 [===========================>..] - ETA: 0s - loss: 2.2537 - accuracy: 0.1488 - auc: 0.6403 - precision: 0.5000 - recall: 0.0015\n",
            "Epoch 00003: val_accuracy improved from 0.08571 to 0.19048, saving model to tfjsmode.h5\n",
            "22/22 [==============================] - 0s 17ms/step - loss: 2.2574 - accuracy: 0.1457 - auc: 0.6400 - precision: 0.5000 - recall: 0.0014 - val_loss: 2.1228 - val_accuracy: 0.1905 - val_auc: 0.7217 - val_precision: 0.0000e+00 - val_recall: 0.0000e+00\n",
            "Epoch 4/100\n",
            "21/22 [===========================>..] - ETA: 0s - loss: 2.0862 - accuracy: 0.1786 - auc: 0.7298 - precision: 0.0000e+00 - recall: 0.0000e+00\n",
            "Epoch 00004: val_accuracy improved from 0.19048 to 0.27143, saving model to tfjsmode.h5\n",
            "22/22 [==============================] - 0s 17ms/step - loss: 2.0756 - accuracy: 0.1771 - auc: 0.7339 - precision: 0.0000e+00 - recall: 0.0000e+00 - val_loss: 2.0549 - val_accuracy: 0.2714 - val_auc: 0.7494 - val_precision: 0.0000e+00 - val_recall: 0.0000e+00\n",
            "Epoch 5/100\n",
            "21/22 [===========================>..] - ETA: 0s - loss: 2.0206 - accuracy: 0.1994 - auc: 0.7493 - precision: 0.2500 - recall: 0.0045\n",
            "Epoch 00005: val_accuracy did not improve from 0.27143\n",
            "22/22 [==============================] - 0s 15ms/step - loss: 2.0373 - accuracy: 0.1986 - auc: 0.7445 - precision: 0.2500 - recall: 0.0043 - val_loss: 2.0047 - val_accuracy: 0.2000 - val_auc: 0.7633 - val_precision: 0.0000e+00 - val_recall: 0.0000e+00\n",
            "Epoch 6/100\n",
            "21/22 [===========================>..] - ETA: 0s - loss: 1.9737 - accuracy: 0.2113 - auc: 0.7640 - precision: 0.6667 - recall: 0.0030\n",
            "Epoch 00006: val_accuracy did not improve from 0.27143\n",
            "22/22 [==============================] - 0s 16ms/step - loss: 1.9833 - accuracy: 0.2086 - auc: 0.7596 - precision: 0.6667 - recall: 0.0029 - val_loss: 1.9756 - val_accuracy: 0.2476 - val_auc: 0.7703 - val_precision: 0.0000e+00 - val_recall: 0.0000e+00\n",
            "Epoch 7/100\n",
            "21/22 [===========================>..] - ETA: 0s - loss: 1.9815 - accuracy: 0.2307 - auc: 0.7628 - precision: 0.2727 - recall: 0.0045\n",
            "Epoch 00007: val_accuracy did not improve from 0.27143\n",
            "22/22 [==============================] - 0s 16ms/step - loss: 1.9788 - accuracy: 0.2257 - auc: 0.7639 - precision: 0.2727 - recall: 0.0043 - val_loss: 1.9528 - val_accuracy: 0.2381 - val_auc: 0.7755 - val_precision: 0.0000e+00 - val_recall: 0.0000e+00\n",
            "Epoch 8/100\n",
            "21/22 [===========================>..] - ETA: 0s - loss: 1.9479 - accuracy: 0.2455 - auc: 0.7768 - precision: 0.3333 - recall: 0.0089\n",
            "Epoch 00008: val_accuracy did not improve from 0.27143\n",
            "22/22 [==============================] - 0s 15ms/step - loss: 1.9408 - accuracy: 0.2471 - auc: 0.7795 - precision: 0.3333 - recall: 0.0100 - val_loss: 1.9830 - val_accuracy: 0.1905 - val_auc: 0.7654 - val_precision: 0.0000e+00 - val_recall: 0.0000e+00\n",
            "Epoch 9/100\n",
            "21/22 [===========================>..] - ETA: 0s - loss: 1.9160 - accuracy: 0.2366 - auc: 0.7875 - precision: 0.3939 - recall: 0.0193\n",
            "Epoch 00009: val_accuracy did not improve from 0.27143\n",
            "22/22 [==============================] - 0s 16ms/step - loss: 1.9135 - accuracy: 0.2429 - auc: 0.7884 - precision: 0.3939 - recall: 0.0186 - val_loss: 1.8669 - val_accuracy: 0.2571 - val_auc: 0.8090 - val_precision: 0.0000e+00 - val_recall: 0.0000e+00\n",
            "Epoch 10/100\n",
            "21/22 [===========================>..] - ETA: 0s - loss: 1.8508 - accuracy: 0.2738 - auc: 0.8067 - precision: 0.5000 - recall: 0.0283\n",
            "Epoch 00010: val_accuracy did not improve from 0.27143\n",
            "22/22 [==============================] - 0s 15ms/step - loss: 1.8449 - accuracy: 0.2729 - auc: 0.8083 - precision: 0.5000 - recall: 0.0329 - val_loss: 1.7842 - val_accuracy: 0.2571 - val_auc: 0.8275 - val_precision: 0.5000 - val_recall: 0.0095\n",
            "Epoch 11/100\n",
            "21/22 [===========================>..] - ETA: 0s - loss: 1.7962 - accuracy: 0.2812 - auc: 0.8231 - precision: 0.5714 - recall: 0.0179\n",
            "Epoch 00011: val_accuracy improved from 0.27143 to 0.27619, saving model to tfjsmode.h5\n",
            "22/22 [==============================] - 0s 17ms/step - loss: 1.7846 - accuracy: 0.2857 - auc: 0.8265 - precision: 0.5000 - recall: 0.0171 - val_loss: 1.7431 - val_accuracy: 0.2762 - val_auc: 0.8342 - val_precision: 0.8462 - val_recall: 0.0524\n",
            "Epoch 12/100\n",
            "21/22 [===========================>..] - ETA: 0s - loss: 1.7249 - accuracy: 0.2812 - auc: 0.8394 - precision: 0.4783 - recall: 0.0164\n",
            "Epoch 00012: val_accuracy improved from 0.27619 to 0.29524, saving model to tfjsmode.h5\n",
            "22/22 [==============================] - 0s 17ms/step - loss: 1.7255 - accuracy: 0.2829 - auc: 0.8392 - precision: 0.5000 - recall: 0.0171 - val_loss: 1.7107 - val_accuracy: 0.2952 - val_auc: 0.8406 - val_precision: 0.0000e+00 - val_recall: 0.0000e+00\n",
            "Epoch 13/100\n",
            "21/22 [===========================>..] - ETA: 0s - loss: 1.6799 - accuracy: 0.3289 - auc: 0.8499 - precision: 0.4889 - recall: 0.0327\n",
            "Epoch 00013: val_accuracy improved from 0.29524 to 0.35714, saving model to tfjsmode.h5\n",
            "22/22 [==============================] - 0s 17ms/step - loss: 1.6845 - accuracy: 0.3286 - auc: 0.8486 - precision: 0.4815 - recall: 0.0371 - val_loss: 1.6057 - val_accuracy: 0.3571 - val_auc: 0.8644 - val_precision: 1.0000 - val_recall: 0.0286\n",
            "Epoch 14/100\n",
            "21/22 [===========================>..] - ETA: 0s - loss: 1.6565 - accuracy: 0.3125 - auc: 0.8535 - precision: 0.4918 - recall: 0.0446\n",
            "Epoch 00014: val_accuracy improved from 0.35714 to 0.38571, saving model to tfjsmode.h5\n",
            "22/22 [==============================] - 0s 17ms/step - loss: 1.6544 - accuracy: 0.3114 - auc: 0.8538 - precision: 0.4762 - recall: 0.0429 - val_loss: 1.5661 - val_accuracy: 0.3857 - val_auc: 0.8708 - val_precision: 1.0000 - val_recall: 0.0048\n",
            "Epoch 15/100\n",
            "21/22 [===========================>..] - ETA: 0s - loss: 1.6358 - accuracy: 0.3140 - auc: 0.8575 - precision: 0.5000 - recall: 0.0580\n",
            "Epoch 00015: val_accuracy did not improve from 0.38571\n",
            "22/22 [==============================] - 0s 15ms/step - loss: 1.6350 - accuracy: 0.3100 - auc: 0.8574 - precision: 0.5122 - recall: 0.0600 - val_loss: 1.5484 - val_accuracy: 0.3381 - val_auc: 0.8733 - val_precision: 0.7368 - val_recall: 0.0667\n",
            "Epoch 16/100\n",
            "21/22 [===========================>..] - ETA: 0s - loss: 1.6372 - accuracy: 0.3125 - auc: 0.8565 - precision: 0.4203 - recall: 0.0432\n",
            "Epoch 00016: val_accuracy did not improve from 0.38571\n",
            "22/22 [==============================] - 0s 15ms/step - loss: 1.6329 - accuracy: 0.3157 - auc: 0.8575 - precision: 0.4306 - recall: 0.0443 - val_loss: 1.5403 - val_accuracy: 0.3429 - val_auc: 0.8766 - val_precision: 0.6667 - val_recall: 0.0762\n",
            "Epoch 17/100\n",
            "21/22 [===========================>..] - ETA: 0s - loss: 1.6060 - accuracy: 0.3378 - auc: 0.8627 - precision: 0.4559 - recall: 0.0461\n",
            "Epoch 00017: val_accuracy did not improve from 0.38571\n",
            "22/22 [==============================] - 0s 16ms/step - loss: 1.6103 - accuracy: 0.3357 - auc: 0.8619 - precision: 0.4429 - recall: 0.0443 - val_loss: 1.5108 - val_accuracy: 0.3714 - val_auc: 0.8811 - val_precision: 0.7500 - val_recall: 0.0714\n",
            "Epoch 18/100\n",
            "21/22 [===========================>..] - ETA: 0s - loss: 1.5723 - accuracy: 0.3393 - auc: 0.8700 - precision: 0.4444 - recall: 0.0536\n",
            "Epoch 00018: val_accuracy did not improve from 0.38571\n",
            "22/22 [==============================] - 0s 16ms/step - loss: 1.5839 - accuracy: 0.3371 - auc: 0.8675 - precision: 0.4524 - recall: 0.0543 - val_loss: 1.5384 - val_accuracy: 0.3762 - val_auc: 0.8738 - val_precision: 0.8462 - val_recall: 0.0524\n",
            "Epoch 19/100\n",
            "21/22 [===========================>..] - ETA: 0s - loss: 1.5618 - accuracy: 0.3378 - auc: 0.8710 - precision: 0.5000 - recall: 0.0610\n",
            "Epoch 00019: val_accuracy did not improve from 0.38571\n",
            "22/22 [==============================] - 0s 15ms/step - loss: 1.5604 - accuracy: 0.3400 - auc: 0.8713 - precision: 0.5000 - recall: 0.0600 - val_loss: 1.5129 - val_accuracy: 0.3286 - val_auc: 0.8784 - val_precision: 0.5610 - val_recall: 0.1095\n",
            "Epoch 20/100\n",
            "21/22 [===========================>..] - ETA: 0s - loss: 1.5384 - accuracy: 0.3497 - auc: 0.8739 - precision: 0.5682 - recall: 0.1116\n",
            "Epoch 00020: val_accuracy did not improve from 0.38571\n",
            "22/22 [==============================] - 0s 16ms/step - loss: 1.5433 - accuracy: 0.3471 - auc: 0.8732 - precision: 0.5429 - recall: 0.1086 - val_loss: 1.4897 - val_accuracy: 0.3810 - val_auc: 0.8850 - val_precision: 0.7667 - val_recall: 0.1095\n",
            "Epoch 21/100\n",
            "21/22 [===========================>..] - ETA: 0s - loss: 1.5447 - accuracy: 0.3438 - auc: 0.8728 - precision: 0.5968 - recall: 0.1101\n",
            "Epoch 00021: val_accuracy did not improve from 0.38571\n",
            "22/22 [==============================] - 0s 16ms/step - loss: 1.5434 - accuracy: 0.3443 - auc: 0.8729 - precision: 0.6090 - recall: 0.1157 - val_loss: 1.4835 - val_accuracy: 0.3810 - val_auc: 0.8853 - val_precision: 0.7368 - val_recall: 0.0667\n",
            "Epoch 22/100\n",
            "21/22 [===========================>..] - ETA: 0s - loss: 1.5200 - accuracy: 0.3616 - auc: 0.8782 - precision: 0.5597 - recall: 0.1116\n",
            "Epoch 00022: val_accuracy did not improve from 0.38571\n",
            "22/22 [==============================] - 0s 15ms/step - loss: 1.5135 - accuracy: 0.3643 - auc: 0.8793 - precision: 0.5714 - recall: 0.1143 - val_loss: 1.4462 - val_accuracy: 0.3857 - val_auc: 0.8897 - val_precision: 0.7941 - val_recall: 0.1286\n",
            "Epoch 23/100\n",
            "21/22 [===========================>..] - ETA: 0s - loss: 1.4963 - accuracy: 0.3705 - auc: 0.8815 - precision: 0.6056 - recall: 0.1280\n",
            "Epoch 00023: val_accuracy improved from 0.38571 to 0.40476, saving model to tfjsmode.h5\n",
            "22/22 [==============================] - 0s 17ms/step - loss: 1.4967 - accuracy: 0.3686 - auc: 0.8813 - precision: 0.6027 - recall: 0.1257 - val_loss: 1.4370 - val_accuracy: 0.4048 - val_auc: 0.8919 - val_precision: 0.8235 - val_recall: 0.1333\n",
            "Epoch 24/100\n",
            "21/22 [===========================>..] - ETA: 0s - loss: 1.5181 - accuracy: 0.3720 - auc: 0.8790 - precision: 0.5578 - recall: 0.1220\n",
            "Epoch 00024: val_accuracy did not improve from 0.40476\n",
            "22/22 [==============================] - 0s 15ms/step - loss: 1.5130 - accuracy: 0.3757 - auc: 0.8799 - precision: 0.5563 - recall: 0.1200 - val_loss: 1.4555 - val_accuracy: 0.3524 - val_auc: 0.8897 - val_precision: 0.6170 - val_recall: 0.1381\n",
            "Epoch 25/100\n",
            "21/22 [===========================>..] - ETA: 0s - loss: 1.4871 - accuracy: 0.3884 - auc: 0.8830 - precision: 0.5973 - recall: 0.1324\n",
            "Epoch 00025: val_accuracy did not improve from 0.40476\n",
            "22/22 [==============================] - 0s 16ms/step - loss: 1.4910 - accuracy: 0.3900 - auc: 0.8823 - precision: 0.5974 - recall: 0.1314 - val_loss: 1.4399 - val_accuracy: 0.3857 - val_auc: 0.8938 - val_precision: 0.6486 - val_recall: 0.1143\n",
            "Epoch 26/100\n",
            "21/22 [===========================>..] - ETA: 0s - loss: 1.4805 - accuracy: 0.3765 - auc: 0.8847 - precision: 0.6136 - recall: 0.1205\n",
            "Epoch 00026: val_accuracy improved from 0.40476 to 0.42857, saving model to tfjsmode.h5\n",
            "22/22 [==============================] - 0s 17ms/step - loss: 1.4855 - accuracy: 0.3714 - auc: 0.8839 - precision: 0.6014 - recall: 0.1186 - val_loss: 1.3883 - val_accuracy: 0.4286 - val_auc: 0.9016 - val_precision: 0.8000 - val_recall: 0.1714\n",
            "Epoch 27/100\n",
            "21/22 [===========================>..] - ETA: 0s - loss: 1.4757 - accuracy: 0.3914 - auc: 0.8859 - precision: 0.6133 - recall: 0.1369\n",
            "Epoch 00027: val_accuracy did not improve from 0.42857\n",
            "22/22 [==============================] - 0s 16ms/step - loss: 1.4760 - accuracy: 0.3929 - auc: 0.8857 - precision: 0.6115 - recall: 0.1371 - val_loss: 1.4852 - val_accuracy: 0.4095 - val_auc: 0.8825 - val_precision: 0.6939 - val_recall: 0.1619\n",
            "Epoch 28/100\n",
            "21/22 [===========================>..] - ETA: 0s - loss: 1.4784 - accuracy: 0.4092 - auc: 0.8847 - precision: 0.6225 - recall: 0.1399\n",
            "Epoch 00028: val_accuracy did not improve from 0.42857\n",
            "22/22 [==============================] - 0s 15ms/step - loss: 1.4719 - accuracy: 0.4129 - auc: 0.8857 - precision: 0.6352 - recall: 0.1443 - val_loss: 1.3888 - val_accuracy: 0.4286 - val_auc: 0.9004 - val_precision: 0.7143 - val_recall: 0.1429\n",
            "Epoch 29/100\n",
            "21/22 [===========================>..] - ETA: 0s - loss: 1.4544 - accuracy: 0.3824 - auc: 0.8888 - precision: 0.6707 - recall: 0.1667\n",
            "Epoch 00029: val_accuracy improved from 0.42857 to 0.43810, saving model to tfjsmode.h5\n",
            "22/22 [==============================] - 0s 17ms/step - loss: 1.4540 - accuracy: 0.3857 - auc: 0.8889 - precision: 0.6705 - recall: 0.1686 - val_loss: 1.3520 - val_accuracy: 0.4381 - val_auc: 0.9085 - val_precision: 0.8000 - val_recall: 0.1714\n",
            "Epoch 30/100\n",
            "21/22 [===========================>..] - ETA: 0s - loss: 1.4323 - accuracy: 0.4226 - auc: 0.8932 - precision: 0.6412 - recall: 0.1622\n",
            "Epoch 00030: val_accuracy improved from 0.43810 to 0.45238, saving model to tfjsmode.h5\n",
            "22/22 [==============================] - 0s 17ms/step - loss: 1.4287 - accuracy: 0.4186 - auc: 0.8939 - precision: 0.6384 - recall: 0.1614 - val_loss: 1.3345 - val_accuracy: 0.4524 - val_auc: 0.9092 - val_precision: 0.7455 - val_recall: 0.1952\n",
            "Epoch 31/100\n",
            "21/22 [===========================>..] - ETA: 0s - loss: 1.4191 - accuracy: 0.3958 - auc: 0.8943 - precision: 0.6429 - recall: 0.1741\n",
            "Epoch 00031: val_accuracy did not improve from 0.45238\n",
            "22/22 [==============================] - 0s 15ms/step - loss: 1.4278 - accuracy: 0.3957 - auc: 0.8931 - precision: 0.6436 - recall: 0.1729 - val_loss: 1.3685 - val_accuracy: 0.4333 - val_auc: 0.9045 - val_precision: 0.6222 - val_recall: 0.1333\n",
            "Epoch 32/100\n",
            "21/22 [===========================>..] - ETA: 0s - loss: 1.4274 - accuracy: 0.3973 - auc: 0.8930 - precision: 0.6648 - recall: 0.1741\n",
            "Epoch 00032: val_accuracy improved from 0.45238 to 0.47143, saving model to tfjsmode.h5\n",
            "22/22 [==============================] - 0s 17ms/step - loss: 1.4213 - accuracy: 0.3986 - auc: 0.8941 - precision: 0.6630 - recall: 0.1743 - val_loss: 1.3072 - val_accuracy: 0.4714 - val_auc: 0.9143 - val_precision: 0.7500 - val_recall: 0.1857\n",
            "Epoch 33/100\n",
            "21/22 [===========================>..] - ETA: 0s - loss: 1.4157 - accuracy: 0.4405 - auc: 0.8956 - precision: 0.6941 - recall: 0.1756\n",
            "Epoch 00033: val_accuracy did not improve from 0.47143\n",
            "22/22 [==============================] - 0s 16ms/step - loss: 1.4051 - accuracy: 0.4429 - auc: 0.8973 - precision: 0.7022 - recall: 0.1786 - val_loss: 1.3115 - val_accuracy: 0.4524 - val_auc: 0.9110 - val_precision: 0.7455 - val_recall: 0.1952\n",
            "Epoch 34/100\n",
            "21/22 [===========================>..] - ETA: 0s - loss: 1.3794 - accuracy: 0.4464 - auc: 0.9017 - precision: 0.6562 - recall: 0.1875\n",
            "Epoch 00034: val_accuracy did not improve from 0.47143\n",
            "22/22 [==============================] - 0s 16ms/step - loss: 1.3881 - accuracy: 0.4414 - auc: 0.9003 - precision: 0.6550 - recall: 0.1871 - val_loss: 1.3653 - val_accuracy: 0.4381 - val_auc: 0.9031 - val_precision: 0.7407 - val_recall: 0.1905\n",
            "Epoch 35/100\n",
            "21/22 [===========================>..] - ETA: 0s - loss: 1.3949 - accuracy: 0.4062 - auc: 0.8992 - precision: 0.6495 - recall: 0.1875\n",
            "Epoch 00035: val_accuracy did not improve from 0.47143\n",
            "22/22 [==============================] - 0s 15ms/step - loss: 1.3937 - accuracy: 0.4057 - auc: 0.8994 - precision: 0.6488 - recall: 0.1900 - val_loss: 1.3353 - val_accuracy: 0.4381 - val_auc: 0.9095 - val_precision: 0.7059 - val_recall: 0.1714\n",
            "Epoch 36/100\n",
            "21/22 [===========================>..] - ETA: 0s - loss: 1.3567 - accuracy: 0.4375 - auc: 0.9052 - precision: 0.6538 - recall: 0.2024\n",
            "Epoch 00036: val_accuracy improved from 0.47143 to 0.49524, saving model to tfjsmode.h5\n",
            "22/22 [==============================] - 0s 17ms/step - loss: 1.3610 - accuracy: 0.4371 - auc: 0.9044 - precision: 0.6620 - recall: 0.2043 - val_loss: 1.2725 - val_accuracy: 0.4952 - val_auc: 0.9189 - val_precision: 0.7500 - val_recall: 0.1857\n",
            "Epoch 37/100\n",
            "21/22 [===========================>..] - ETA: 0s - loss: 1.3667 - accuracy: 0.4539 - auc: 0.9028 - precision: 0.6950 - recall: 0.2068\n",
            "Epoch 00037: val_accuracy did not improve from 0.49524\n",
            "22/22 [==============================] - 0s 16ms/step - loss: 1.3648 - accuracy: 0.4529 - auc: 0.9033 - precision: 0.6875 - recall: 0.2043 - val_loss: 1.2389 - val_accuracy: 0.4905 - val_auc: 0.9238 - val_precision: 0.7414 - val_recall: 0.2048\n",
            "Epoch 38/100\n",
            "21/22 [===========================>..] - ETA: 0s - loss: 1.3322 - accuracy: 0.4420 - auc: 0.9089 - precision: 0.6452 - recall: 0.2083\n",
            "Epoch 00038: val_accuracy did not improve from 0.49524\n",
            "22/22 [==============================] - 0s 16ms/step - loss: 1.3318 - accuracy: 0.4400 - auc: 0.9089 - precision: 0.6444 - recall: 0.2071 - val_loss: 1.2911 - val_accuracy: 0.4667 - val_auc: 0.9164 - val_precision: 0.8222 - val_recall: 0.1762\n",
            "Epoch 39/100\n",
            "21/22 [===========================>..] - ETA: 0s - loss: 1.3267 - accuracy: 0.4479 - auc: 0.9099 - precision: 0.6459 - recall: 0.2009\n",
            "Epoch 00039: val_accuracy did not improve from 0.49524\n",
            "22/22 [==============================] - 0s 15ms/step - loss: 1.3231 - accuracy: 0.4486 - auc: 0.9104 - precision: 0.6471 - recall: 0.2043 - val_loss: 1.2582 - val_accuracy: 0.4524 - val_auc: 0.9196 - val_precision: 0.7377 - val_recall: 0.2143\n",
            "Epoch 40/100\n",
            "21/22 [===========================>..] - ETA: 0s - loss: 1.3365 - accuracy: 0.4702 - auc: 0.9083 - precision: 0.6727 - recall: 0.2202\n",
            "Epoch 00040: val_accuracy improved from 0.49524 to 0.51905, saving model to tfjsmode.h5\n",
            "22/22 [==============================] - 0s 17ms/step - loss: 1.3256 - accuracy: 0.4743 - auc: 0.9100 - precision: 0.6767 - recall: 0.2243 - val_loss: 1.2129 - val_accuracy: 0.5190 - val_auc: 0.9269 - val_precision: 0.8036 - val_recall: 0.2143\n",
            "Epoch 41/100\n",
            "21/22 [===========================>..] - ETA: 0s - loss: 1.3193 - accuracy: 0.4554 - auc: 0.9111 - precision: 0.6239 - recall: 0.2173\n",
            "Epoch 00041: val_accuracy did not improve from 0.51905\n",
            "22/22 [==============================] - 0s 16ms/step - loss: 1.3264 - accuracy: 0.4557 - auc: 0.9100 - precision: 0.6261 - recall: 0.2129 - val_loss: 1.2352 - val_accuracy: 0.4571 - val_auc: 0.9230 - val_precision: 0.7049 - val_recall: 0.2048\n",
            "Epoch 42/100\n",
            "21/22 [===========================>..] - ETA: 0s - loss: 1.3220 - accuracy: 0.4598 - auc: 0.9104 - precision: 0.6512 - recall: 0.2083\n",
            "Epoch 00042: val_accuracy did not improve from 0.51905\n",
            "22/22 [==============================] - 0s 15ms/step - loss: 1.3220 - accuracy: 0.4614 - auc: 0.9105 - precision: 0.6502 - recall: 0.2071 - val_loss: 1.1939 - val_accuracy: 0.4857 - val_auc: 0.9291 - val_precision: 0.7692 - val_recall: 0.2381\n",
            "Epoch 43/100\n",
            "21/22 [===========================>..] - ETA: 0s - loss: 1.2811 - accuracy: 0.4747 - auc: 0.9164 - precision: 0.6507 - recall: 0.2217\n",
            "Epoch 00043: val_accuracy did not improve from 0.51905\n",
            "22/22 [==============================] - 0s 15ms/step - loss: 1.2843 - accuracy: 0.4743 - auc: 0.9159 - precision: 0.6525 - recall: 0.2200 - val_loss: 1.1774 - val_accuracy: 0.5190 - val_auc: 0.9320 - val_precision: 0.7667 - val_recall: 0.2190\n",
            "Epoch 44/100\n",
            "21/22 [===========================>..] - ETA: 0s - loss: 1.3070 - accuracy: 0.4628 - auc: 0.9121 - precision: 0.6708 - recall: 0.2426\n",
            "Epoch 00044: val_accuracy did not improve from 0.51905\n",
            "22/22 [==============================] - 0s 15ms/step - loss: 1.3119 - accuracy: 0.4600 - auc: 0.9115 - precision: 0.6667 - recall: 0.2400 - val_loss: 1.2136 - val_accuracy: 0.5048 - val_auc: 0.9259 - val_precision: 0.7049 - val_recall: 0.2048\n",
            "Epoch 45/100\n",
            "21/22 [===========================>..] - ETA: 0s - loss: 1.2738 - accuracy: 0.4911 - auc: 0.9174 - precision: 0.6795 - recall: 0.2366\n",
            "Epoch 00045: val_accuracy did not improve from 0.51905\n",
            "22/22 [==============================] - 0s 16ms/step - loss: 1.2816 - accuracy: 0.4843 - auc: 0.9163 - precision: 0.6708 - recall: 0.2329 - val_loss: 1.1874 - val_accuracy: 0.5048 - val_auc: 0.9297 - val_precision: 0.7541 - val_recall: 0.2190\n",
            "Epoch 46/100\n",
            "21/22 [===========================>..] - ETA: 0s - loss: 1.2901 - accuracy: 0.4762 - auc: 0.9151 - precision: 0.6543 - recall: 0.2366\n",
            "Epoch 00046: val_accuracy improved from 0.51905 to 0.54286, saving model to tfjsmode.h5\n",
            "22/22 [==============================] - 0s 17ms/step - loss: 1.2970 - accuracy: 0.4729 - auc: 0.9140 - precision: 0.6561 - recall: 0.2371 - val_loss: 1.1501 - val_accuracy: 0.5429 - val_auc: 0.9366 - val_precision: 0.8254 - val_recall: 0.2476\n",
            "Epoch 47/100\n",
            "21/22 [===========================>..] - ETA: 0s - loss: 1.2603 - accuracy: 0.4717 - auc: 0.9193 - precision: 0.6471 - recall: 0.2292\n",
            "Epoch 00047: val_accuracy did not improve from 0.54286\n",
            "22/22 [==============================] - 0s 16ms/step - loss: 1.2586 - accuracy: 0.4743 - auc: 0.9194 - precision: 0.6494 - recall: 0.2329 - val_loss: 1.1487 - val_accuracy: 0.5381 - val_auc: 0.9360 - val_precision: 0.7761 - val_recall: 0.2476\n",
            "Epoch 48/100\n",
            "21/22 [===========================>..] - ETA: 0s - loss: 1.2794 - accuracy: 0.4539 - auc: 0.9161 - precision: 0.6461 - recall: 0.2336\n",
            "Epoch 00048: val_accuracy did not improve from 0.54286\n",
            "22/22 [==============================] - 0s 17ms/step - loss: 1.2774 - accuracy: 0.4543 - auc: 0.9163 - precision: 0.6574 - recall: 0.2357 - val_loss: 1.1447 - val_accuracy: 0.5429 - val_auc: 0.9351 - val_precision: 0.7879 - val_recall: 0.2476\n",
            "Epoch 49/100\n",
            "21/22 [===========================>..] - ETA: 0s - loss: 1.2405 - accuracy: 0.4896 - auc: 0.9219 - precision: 0.6955 - recall: 0.2753\n",
            "Epoch 00049: val_accuracy improved from 0.54286 to 0.56190, saving model to tfjsmode.h5\n",
            "22/22 [==============================] - 0s 17ms/step - loss: 1.2469 - accuracy: 0.4829 - auc: 0.9209 - precision: 0.6996 - recall: 0.2729 - val_loss: 1.1347 - val_accuracy: 0.5619 - val_auc: 0.9364 - val_precision: 0.8060 - val_recall: 0.2571\n",
            "Epoch 50/100\n",
            "21/22 [===========================>..] - ETA: 0s - loss: 1.2205 - accuracy: 0.5015 - auc: 0.9244 - precision: 0.6679 - recall: 0.2604\n",
            "Epoch 00050: val_accuracy did not improve from 0.56190\n",
            "22/22 [==============================] - 0s 15ms/step - loss: 1.2250 - accuracy: 0.5014 - auc: 0.9238 - precision: 0.6691 - recall: 0.2600 - val_loss: 1.1423 - val_accuracy: 0.5286 - val_auc: 0.9346 - val_precision: 0.7612 - val_recall: 0.2429\n",
            "Epoch 51/100\n",
            "21/22 [===========================>..] - ETA: 0s - loss: 1.2211 - accuracy: 0.5074 - auc: 0.9241 - precision: 0.6846 - recall: 0.2649\n",
            "Epoch 00051: val_accuracy did not improve from 0.56190\n",
            "22/22 [==============================] - 0s 16ms/step - loss: 1.2315 - accuracy: 0.5043 - auc: 0.9227 - precision: 0.6815 - recall: 0.2629 - val_loss: 1.1102 - val_accuracy: 0.5143 - val_auc: 0.9395 - val_precision: 0.7391 - val_recall: 0.3238\n",
            "Epoch 52/100\n",
            "21/22 [===========================>..] - ETA: 0s - loss: 1.1832 - accuracy: 0.5060 - auc: 0.9298 - precision: 0.7083 - recall: 0.2783\n",
            "Epoch 00052: val_accuracy did not improve from 0.56190\n",
            "22/22 [==============================] - 0s 15ms/step - loss: 1.1888 - accuracy: 0.5100 - auc: 0.9291 - precision: 0.7000 - recall: 0.2800 - val_loss: 1.1069 - val_accuracy: 0.5571 - val_auc: 0.9389 - val_precision: 0.6545 - val_recall: 0.3429\n",
            "Epoch 53/100\n",
            "21/22 [===========================>..] - ETA: 0s - loss: 1.2029 - accuracy: 0.4836 - auc: 0.9266 - precision: 0.6408 - recall: 0.2708\n",
            "Epoch 00053: val_accuracy improved from 0.56190 to 0.57143, saving model to tfjsmode.h5\n",
            "22/22 [==============================] - 0s 17ms/step - loss: 1.2135 - accuracy: 0.4829 - auc: 0.9253 - precision: 0.6373 - recall: 0.2686 - val_loss: 1.0614 - val_accuracy: 0.5714 - val_auc: 0.9454 - val_precision: 0.8171 - val_recall: 0.3190\n",
            "Epoch 54/100\n",
            "21/22 [===========================>..] - ETA: 0s - loss: 1.1949 - accuracy: 0.5060 - auc: 0.9278 - precision: 0.6716 - recall: 0.2708\n",
            "Epoch 00054: val_accuracy did not improve from 0.57143\n",
            "22/22 [==============================] - 0s 16ms/step - loss: 1.2018 - accuracy: 0.5029 - auc: 0.9269 - precision: 0.6632 - recall: 0.2729 - val_loss: 1.0612 - val_accuracy: 0.5429 - val_auc: 0.9448 - val_precision: 0.8267 - val_recall: 0.2952\n",
            "Epoch 55/100\n",
            "21/22 [===========================>..] - ETA: 0s - loss: 1.1651 - accuracy: 0.5417 - auc: 0.9315 - precision: 0.6905 - recall: 0.3021\n",
            "Epoch 00055: val_accuracy did not improve from 0.57143\n",
            "22/22 [==============================] - 0s 16ms/step - loss: 1.1703 - accuracy: 0.5386 - auc: 0.9309 - precision: 0.6948 - recall: 0.3057 - val_loss: 1.1013 - val_accuracy: 0.5714 - val_auc: 0.9404 - val_precision: 0.8143 - val_recall: 0.2714\n",
            "Epoch 56/100\n",
            "21/22 [===========================>..] - ETA: 0s - loss: 1.2022 - accuracy: 0.5312 - auc: 0.9267 - precision: 0.6746 - recall: 0.2961\n",
            "Epoch 00056: val_accuracy did not improve from 0.57143\n",
            "22/22 [==============================] - 0s 16ms/step - loss: 1.1901 - accuracy: 0.5371 - auc: 0.9282 - precision: 0.6786 - recall: 0.2986 - val_loss: 1.0805 - val_accuracy: 0.5476 - val_auc: 0.9416 - val_precision: 0.6696 - val_recall: 0.3571\n",
            "Epoch 57/100\n",
            "21/22 [===========================>..] - ETA: 0s - loss: 1.1798 - accuracy: 0.5149 - auc: 0.9298 - precision: 0.6417 - recall: 0.2932\n",
            "Epoch 00057: val_accuracy did not improve from 0.57143\n",
            "22/22 [==============================] - 0s 15ms/step - loss: 1.1801 - accuracy: 0.5171 - auc: 0.9298 - precision: 0.6424 - recall: 0.2900 - val_loss: 1.0455 - val_accuracy: 0.5619 - val_auc: 0.9471 - val_precision: 0.7802 - val_recall: 0.3381\n",
            "Epoch 58/100\n",
            "21/22 [===========================>..] - ETA: 0s - loss: 1.1697 - accuracy: 0.5074 - auc: 0.9307 - precision: 0.6890 - recall: 0.3065\n",
            "Epoch 00058: val_accuracy did not improve from 0.57143\n",
            "22/22 [==============================] - 0s 16ms/step - loss: 1.1776 - accuracy: 0.5071 - auc: 0.9298 - precision: 0.6913 - recall: 0.3071 - val_loss: 1.0463 - val_accuracy: 0.5714 - val_auc: 0.9469 - val_precision: 0.7640 - val_recall: 0.3238\n",
            "Epoch 59/100\n",
            "21/22 [===========================>..] - ETA: 0s - loss: 1.1309 - accuracy: 0.5610 - auc: 0.9360 - precision: 0.6909 - recall: 0.3259\n",
            "Epoch 00059: val_accuracy improved from 0.57143 to 0.61905, saving model to tfjsmode.h5\n",
            "22/22 [==============================] - 0s 18ms/step - loss: 1.1298 - accuracy: 0.5514 - auc: 0.9360 - precision: 0.6758 - recall: 0.3186 - val_loss: 1.0084 - val_accuracy: 0.6190 - val_auc: 0.9501 - val_precision: 0.7778 - val_recall: 0.4000\n",
            "Epoch 60/100\n",
            "21/22 [===========================>..] - ETA: 0s - loss: 1.1484 - accuracy: 0.5327 - auc: 0.9332 - precision: 0.6786 - recall: 0.3393\n",
            "Epoch 00060: val_accuracy did not improve from 0.61905\n",
            "22/22 [==============================] - 0s 16ms/step - loss: 1.1557 - accuracy: 0.5314 - auc: 0.9322 - precision: 0.6810 - recall: 0.3386 - val_loss: 0.9843 - val_accuracy: 0.5952 - val_auc: 0.9535 - val_precision: 0.8049 - val_recall: 0.3143\n",
            "Epoch 61/100\n",
            "21/22 [===========================>..] - ETA: 0s - loss: 1.1216 - accuracy: 0.5461 - auc: 0.9367 - precision: 0.6903 - recall: 0.3185\n",
            "Epoch 00061: val_accuracy did not improve from 0.61905\n",
            "22/22 [==============================] - 0s 15ms/step - loss: 1.1293 - accuracy: 0.5414 - auc: 0.9357 - precision: 0.6897 - recall: 0.3143 - val_loss: 0.9657 - val_accuracy: 0.6000 - val_auc: 0.9546 - val_precision: 0.8125 - val_recall: 0.3714\n",
            "Epoch 62/100\n",
            "21/22 [===========================>..] - ETA: 0s - loss: 1.1114 - accuracy: 0.5521 - auc: 0.9379 - precision: 0.6879 - recall: 0.3378\n",
            "Epoch 00062: val_accuracy did not improve from 0.61905\n",
            "22/22 [==============================] - 0s 16ms/step - loss: 1.0963 - accuracy: 0.5614 - auc: 0.9398 - precision: 0.6954 - recall: 0.3457 - val_loss: 0.9957 - val_accuracy: 0.6143 - val_auc: 0.9502 - val_precision: 0.7167 - val_recall: 0.4095\n",
            "Epoch 63/100\n",
            "21/22 [===========================>..] - ETA: 0s - loss: 1.0728 - accuracy: 0.5610 - auc: 0.9421 - precision: 0.7038 - recall: 0.3854\n",
            "Epoch 00063: val_accuracy did not improve from 0.61905\n",
            "22/22 [==============================] - 0s 16ms/step - loss: 1.0816 - accuracy: 0.5529 - auc: 0.9411 - precision: 0.6955 - recall: 0.3786 - val_loss: 0.9353 - val_accuracy: 0.6000 - val_auc: 0.9589 - val_precision: 0.8367 - val_recall: 0.3905\n",
            "Epoch 64/100\n",
            "21/22 [===========================>..] - ETA: 0s - loss: 1.0645 - accuracy: 0.5774 - auc: 0.9437 - precision: 0.7117 - recall: 0.3452\n",
            "Epoch 00064: val_accuracy did not improve from 0.61905\n",
            "22/22 [==============================] - 0s 16ms/step - loss: 1.0708 - accuracy: 0.5700 - auc: 0.9428 - precision: 0.7038 - recall: 0.3429 - val_loss: 0.9586 - val_accuracy: 0.6143 - val_auc: 0.9556 - val_precision: 0.7843 - val_recall: 0.3810\n",
            "Epoch 65/100\n",
            "21/22 [===========================>..] - ETA: 0s - loss: 1.0438 - accuracy: 0.5759 - auc: 0.9452 - precision: 0.7061 - recall: 0.3646\n",
            "Epoch 00065: val_accuracy improved from 0.61905 to 0.65238, saving model to tfjsmode.h5\n",
            "22/22 [==============================] - 0s 17ms/step - loss: 1.0606 - accuracy: 0.5700 - auc: 0.9432 - precision: 0.6915 - recall: 0.3586 - val_loss: 0.9217 - val_accuracy: 0.6524 - val_auc: 0.9613 - val_precision: 0.8404 - val_recall: 0.3762\n",
            "Epoch 66/100\n",
            "21/22 [===========================>..] - ETA: 0s - loss: 1.0360 - accuracy: 0.5714 - auc: 0.9471 - precision: 0.7155 - recall: 0.3705\n",
            "Epoch 00066: val_accuracy did not improve from 0.65238\n",
            "22/22 [==============================] - 0s 16ms/step - loss: 1.0421 - accuracy: 0.5700 - auc: 0.9463 - precision: 0.7222 - recall: 0.3714 - val_loss: 0.9520 - val_accuracy: 0.5905 - val_auc: 0.9564 - val_precision: 0.7872 - val_recall: 0.3524\n",
            "Epoch 67/100\n",
            "21/22 [===========================>..] - ETA: 0s - loss: 1.0183 - accuracy: 0.5699 - auc: 0.9477 - precision: 0.7288 - recall: 0.3839\n",
            "Epoch 00067: val_accuracy did not improve from 0.65238\n",
            "22/22 [==============================] - 0s 16ms/step - loss: 1.0179 - accuracy: 0.5700 - auc: 0.9478 - precision: 0.7337 - recall: 0.3857 - val_loss: 0.8996 - val_accuracy: 0.6238 - val_auc: 0.9610 - val_precision: 0.7788 - val_recall: 0.4190\n",
            "Epoch 68/100\n",
            "21/22 [===========================>..] - ETA: 0s - loss: 1.0154 - accuracy: 0.5848 - auc: 0.9482 - precision: 0.7074 - recall: 0.3958\n",
            "Epoch 00068: val_accuracy did not improve from 0.65238\n",
            "22/22 [==============================] - 0s 15ms/step - loss: 1.0235 - accuracy: 0.5843 - auc: 0.9473 - precision: 0.7030 - recall: 0.3957 - val_loss: 0.9202 - val_accuracy: 0.6048 - val_auc: 0.9599 - val_precision: 0.7458 - val_recall: 0.4190\n",
            "Epoch 69/100\n",
            "21/22 [===========================>..] - ETA: 0s - loss: 1.0116 - accuracy: 0.5774 - auc: 0.9486 - precision: 0.7053 - recall: 0.3988\n",
            "Epoch 00069: val_accuracy improved from 0.65238 to 0.66190, saving model to tfjsmode.h5\n",
            "22/22 [==============================] - 0s 18ms/step - loss: 1.0061 - accuracy: 0.5843 - auc: 0.9493 - precision: 0.7128 - recall: 0.4043 - val_loss: 0.8445 - val_accuracy: 0.6619 - val_auc: 0.9672 - val_precision: 0.8091 - val_recall: 0.4238\n",
            "Epoch 70/100\n",
            "21/22 [===========================>..] - ETA: 0s - loss: 0.9878 - accuracy: 0.5878 - auc: 0.9510 - precision: 0.7068 - recall: 0.4018\n",
            "Epoch 00070: val_accuracy did not improve from 0.66190\n",
            "22/22 [==============================] - 0s 15ms/step - loss: 0.9811 - accuracy: 0.5914 - auc: 0.9518 - precision: 0.7100 - recall: 0.4057 - val_loss: 0.8497 - val_accuracy: 0.6429 - val_auc: 0.9646 - val_precision: 0.7323 - val_recall: 0.4429\n",
            "Epoch 71/100\n",
            "21/22 [===========================>..] - ETA: 0s - loss: 0.9924 - accuracy: 0.5938 - auc: 0.9507 - precision: 0.6757 - recall: 0.4062\n",
            "Epoch 00071: val_accuracy improved from 0.66190 to 0.66667, saving model to tfjsmode.h5\n",
            "22/22 [==============================] - 0s 17ms/step - loss: 0.9991 - accuracy: 0.5900 - auc: 0.9500 - precision: 0.6746 - recall: 0.4057 - val_loss: 0.8221 - val_accuracy: 0.6667 - val_auc: 0.9694 - val_precision: 0.8031 - val_recall: 0.4857\n",
            "Epoch 72/100\n",
            "21/22 [===========================>..] - ETA: 0s - loss: 0.9905 - accuracy: 0.6101 - auc: 0.9511 - precision: 0.7191 - recall: 0.4152\n",
            "Epoch 00072: val_accuracy improved from 0.66667 to 0.67143, saving model to tfjsmode.h5\n",
            "22/22 [==============================] - 0s 17ms/step - loss: 0.9858 - accuracy: 0.6086 - auc: 0.9516 - precision: 0.7217 - recall: 0.4186 - val_loss: 0.8251 - val_accuracy: 0.6714 - val_auc: 0.9677 - val_precision: 0.7903 - val_recall: 0.4667\n",
            "Epoch 73/100\n",
            "21/22 [===========================>..] - ETA: 0s - loss: 0.9566 - accuracy: 0.6220 - auc: 0.9547 - precision: 0.7210 - recall: 0.4345\n",
            "Epoch 00073: val_accuracy improved from 0.67143 to 0.67619, saving model to tfjsmode.h5\n",
            "22/22 [==============================] - 0s 18ms/step - loss: 0.9550 - accuracy: 0.6229 - auc: 0.9549 - precision: 0.7266 - recall: 0.4329 - val_loss: 0.8004 - val_accuracy: 0.6762 - val_auc: 0.9694 - val_precision: 0.7681 - val_recall: 0.5048\n",
            "Epoch 74/100\n",
            "21/22 [===========================>..] - ETA: 0s - loss: 0.9655 - accuracy: 0.5908 - auc: 0.9534 - precision: 0.7100 - recall: 0.4226\n",
            "Epoch 00074: val_accuracy improved from 0.67619 to 0.68571, saving model to tfjsmode.h5\n",
            "22/22 [==============================] - 0s 17ms/step - loss: 0.9602 - accuracy: 0.5943 - auc: 0.9540 - precision: 0.7081 - recall: 0.4229 - val_loss: 0.7781 - val_accuracy: 0.6857 - val_auc: 0.9724 - val_precision: 0.7868 - val_recall: 0.5095\n",
            "Epoch 75/100\n",
            "21/22 [===========================>..] - ETA: 0s - loss: 0.9304 - accuracy: 0.6146 - auc: 0.9564 - precision: 0.7302 - recall: 0.4390\n",
            "Epoch 00075: val_accuracy improved from 0.68571 to 0.69524, saving model to tfjsmode.h5\n",
            "22/22 [==============================] - 0s 18ms/step - loss: 0.9316 - accuracy: 0.6086 - auc: 0.9563 - precision: 0.7286 - recall: 0.4371 - val_loss: 0.7750 - val_accuracy: 0.6952 - val_auc: 0.9718 - val_precision: 0.7778 - val_recall: 0.5333\n",
            "Epoch 76/100\n",
            "21/22 [===========================>..] - ETA: 0s - loss: 0.9108 - accuracy: 0.6101 - auc: 0.9588 - precision: 0.7383 - recall: 0.4449\n",
            "Epoch 00076: val_accuracy improved from 0.69524 to 0.70476, saving model to tfjsmode.h5\n",
            "22/22 [==============================] - 0s 17ms/step - loss: 0.9261 - accuracy: 0.6043 - auc: 0.9572 - precision: 0.7357 - recall: 0.4414 - val_loss: 0.7534 - val_accuracy: 0.7048 - val_auc: 0.9745 - val_precision: 0.8583 - val_recall: 0.5190\n",
            "Epoch 77/100\n",
            "21/22 [===========================>..] - ETA: 0s - loss: 0.9010 - accuracy: 0.6190 - auc: 0.9599 - precision: 0.7376 - recall: 0.4643\n",
            "Epoch 00077: val_accuracy did not improve from 0.70476\n",
            "22/22 [==============================] - 0s 16ms/step - loss: 0.8986 - accuracy: 0.6186 - auc: 0.9601 - precision: 0.7330 - recall: 0.4629 - val_loss: 0.7404 - val_accuracy: 0.7000 - val_auc: 0.9743 - val_precision: 0.7986 - val_recall: 0.5476\n",
            "Epoch 78/100\n",
            "21/22 [===========================>..] - ETA: 0s - loss: 0.8706 - accuracy: 0.6295 - auc: 0.9630 - precision: 0.7644 - recall: 0.4926\n",
            "Epoch 00078: val_accuracy did not improve from 0.70476\n",
            "22/22 [==============================] - 0s 16ms/step - loss: 0.8662 - accuracy: 0.6271 - auc: 0.9633 - precision: 0.7643 - recall: 0.4957 - val_loss: 0.7378 - val_accuracy: 0.6905 - val_auc: 0.9744 - val_precision: 0.7704 - val_recall: 0.4952\n",
            "Epoch 79/100\n",
            "21/22 [===========================>..] - ETA: 0s - loss: 0.8890 - accuracy: 0.6324 - auc: 0.9608 - precision: 0.7343 - recall: 0.4688\n",
            "Epoch 00079: val_accuracy improved from 0.70476 to 0.73810, saving model to tfjsmode.h5\n",
            "22/22 [==============================] - 0s 17ms/step - loss: 0.8898 - accuracy: 0.6343 - auc: 0.9608 - precision: 0.7338 - recall: 0.4686 - val_loss: 0.6781 - val_accuracy: 0.7381 - val_auc: 0.9793 - val_precision: 0.8125 - val_recall: 0.5571\n",
            "Epoch 80/100\n",
            "21/22 [===========================>..] - ETA: 0s - loss: 0.8582 - accuracy: 0.6488 - auc: 0.9633 - precision: 0.7460 - recall: 0.4851\n",
            "Epoch 00080: val_accuracy did not improve from 0.73810\n",
            "22/22 [==============================] - 0s 16ms/step - loss: 0.8612 - accuracy: 0.6471 - auc: 0.9631 - precision: 0.7489 - recall: 0.4857 - val_loss: 0.6861 - val_accuracy: 0.7143 - val_auc: 0.9779 - val_precision: 0.8027 - val_recall: 0.5619\n",
            "Epoch 81/100\n",
            "21/22 [===========================>..] - ETA: 0s - loss: 0.8629 - accuracy: 0.6548 - auc: 0.9627 - precision: 0.7612 - recall: 0.5074\n",
            "Epoch 00081: val_accuracy did not improve from 0.73810\n",
            "22/22 [==============================] - 0s 15ms/step - loss: 0.8517 - accuracy: 0.6614 - auc: 0.9638 - precision: 0.7671 - recall: 0.5129 - val_loss: 0.7108 - val_accuracy: 0.6905 - val_auc: 0.9750 - val_precision: 0.7733 - val_recall: 0.5524\n",
            "Epoch 82/100\n",
            "21/22 [===========================>..] - ETA: 0s - loss: 0.8374 - accuracy: 0.6324 - auc: 0.9645 - precision: 0.7434 - recall: 0.5000\n",
            "Epoch 00082: val_accuracy did not improve from 0.73810\n",
            "22/22 [==============================] - 0s 15ms/step - loss: 0.8502 - accuracy: 0.6300 - auc: 0.9635 - precision: 0.7415 - recall: 0.5000 - val_loss: 0.6882 - val_accuracy: 0.7048 - val_auc: 0.9779 - val_precision: 0.8151 - val_recall: 0.5667\n",
            "Epoch 83/100\n",
            "21/22 [===========================>..] - ETA: 0s - loss: 0.8056 - accuracy: 0.6696 - auc: 0.9683 - precision: 0.7691 - recall: 0.5551\n",
            "Epoch 00083: val_accuracy did not improve from 0.73810\n",
            "22/22 [==============================] - 0s 16ms/step - loss: 0.7947 - accuracy: 0.6743 - auc: 0.9693 - precision: 0.7692 - recall: 0.5571 - val_loss: 0.6479 - val_accuracy: 0.7286 - val_auc: 0.9805 - val_precision: 0.8280 - val_recall: 0.6190\n",
            "Epoch 84/100\n",
            "21/22 [===========================>..] - ETA: 0s - loss: 0.8055 - accuracy: 0.6548 - auc: 0.9674 - precision: 0.7370 - recall: 0.5045\n",
            "Epoch 00084: val_accuracy did not improve from 0.73810\n",
            "22/22 [==============================] - 0s 16ms/step - loss: 0.8089 - accuracy: 0.6529 - auc: 0.9671 - precision: 0.7343 - recall: 0.5014 - val_loss: 0.6257 - val_accuracy: 0.7286 - val_auc: 0.9816 - val_precision: 0.8012 - val_recall: 0.6333\n",
            "Epoch 85/100\n",
            "21/22 [===========================>..] - ETA: 0s - loss: 0.7851 - accuracy: 0.6726 - auc: 0.9693 - precision: 0.7626 - recall: 0.5402\n",
            "Epoch 00085: val_accuracy did not improve from 0.73810\n",
            "22/22 [==============================] - 0s 16ms/step - loss: 0.7853 - accuracy: 0.6700 - auc: 0.9692 - precision: 0.7601 - recall: 0.5386 - val_loss: 0.7206 - val_accuracy: 0.6810 - val_auc: 0.9742 - val_precision: 0.7436 - val_recall: 0.5524\n",
            "Epoch 86/100\n",
            "21/22 [===========================>..] - ETA: 0s - loss: 0.8433 - accuracy: 0.6324 - auc: 0.9640 - precision: 0.7391 - recall: 0.5060\n",
            "Epoch 00086: val_accuracy did not improve from 0.73810\n",
            "22/22 [==============================] - 0s 16ms/step - loss: 0.8535 - accuracy: 0.6243 - auc: 0.9630 - precision: 0.7280 - recall: 0.4971 - val_loss: 0.6816 - val_accuracy: 0.6857 - val_auc: 0.9763 - val_precision: 0.7427 - val_recall: 0.6048\n",
            "Epoch 87/100\n",
            "21/22 [===========================>..] - ETA: 0s - loss: 0.7602 - accuracy: 0.6905 - auc: 0.9714 - precision: 0.7622 - recall: 0.5580\n",
            "Epoch 00087: val_accuracy improved from 0.73810 to 0.75238, saving model to tfjsmode.h5\n",
            "22/22 [==============================] - 0s 17ms/step - loss: 0.7594 - accuracy: 0.6929 - auc: 0.9715 - precision: 0.7671 - recall: 0.5600 - val_loss: 0.6058 - val_accuracy: 0.7524 - val_auc: 0.9836 - val_precision: 0.8133 - val_recall: 0.6429\n",
            "Epoch 88/100\n",
            "21/22 [===========================>..] - ETA: 0s - loss: 0.7556 - accuracy: 0.6756 - auc: 0.9716 - precision: 0.7666 - recall: 0.5670\n",
            "Epoch 00088: val_accuracy did not improve from 0.75238\n",
            "22/22 [==============================] - 0s 16ms/step - loss: 0.7593 - accuracy: 0.6714 - auc: 0.9712 - precision: 0.7625 - recall: 0.5643 - val_loss: 0.6395 - val_accuracy: 0.7333 - val_auc: 0.9808 - val_precision: 0.8137 - val_recall: 0.6238\n",
            "Epoch 89/100\n",
            "21/22 [===========================>..] - ETA: 0s - loss: 0.7510 - accuracy: 0.6696 - auc: 0.9710 - precision: 0.7570 - recall: 0.5610\n",
            "Epoch 00089: val_accuracy did not improve from 0.75238\n",
            "22/22 [==============================] - 0s 16ms/step - loss: 0.7541 - accuracy: 0.6671 - auc: 0.9708 - precision: 0.7543 - recall: 0.5614 - val_loss: 0.5748 - val_accuracy: 0.7476 - val_auc: 0.9855 - val_precision: 0.8150 - val_recall: 0.6714\n",
            "Epoch 90/100\n",
            "21/22 [===========================>..] - ETA: 0s - loss: 0.7570 - accuracy: 0.6756 - auc: 0.9712 - precision: 0.7622 - recall: 0.5580\n",
            "Epoch 00090: val_accuracy improved from 0.75238 to 0.76667, saving model to tfjsmode.h5\n",
            "22/22 [==============================] - 0s 17ms/step - loss: 0.7644 - accuracy: 0.6729 - auc: 0.9706 - precision: 0.7583 - recall: 0.5514 - val_loss: 0.5505 - val_accuracy: 0.7667 - val_auc: 0.9870 - val_precision: 0.8284 - val_recall: 0.6667\n",
            "Epoch 91/100\n",
            "21/22 [===========================>..] - ETA: 0s - loss: 0.7496 - accuracy: 0.6756 - auc: 0.9719 - precision: 0.7697 - recall: 0.5670\n",
            "Epoch 00091: val_accuracy did not improve from 0.76667\n",
            "22/22 [==============================] - 0s 16ms/step - loss: 0.7572 - accuracy: 0.6757 - auc: 0.9714 - precision: 0.7695 - recall: 0.5629 - val_loss: 0.5564 - val_accuracy: 0.7571 - val_auc: 0.9860 - val_precision: 0.8150 - val_recall: 0.6714\n",
            "Epoch 92/100\n",
            "21/22 [===========================>..] - ETA: 0s - loss: 0.7041 - accuracy: 0.7068 - auc: 0.9748 - precision: 0.7718 - recall: 0.6190\n",
            "Epoch 00092: val_accuracy improved from 0.76667 to 0.77619, saving model to tfjsmode.h5\n",
            "22/22 [==============================] - 0s 17ms/step - loss: 0.7069 - accuracy: 0.7086 - auc: 0.9747 - precision: 0.7709 - recall: 0.6200 - val_loss: 0.5488 - val_accuracy: 0.7762 - val_auc: 0.9871 - val_precision: 0.8553 - val_recall: 0.6476\n",
            "Epoch 93/100\n",
            "21/22 [===========================>..] - ETA: 0s - loss: 0.7277 - accuracy: 0.6860 - auc: 0.9732 - precision: 0.7769 - recall: 0.5804\n",
            "Epoch 00093: val_accuracy did not improve from 0.77619\n",
            "22/22 [==============================] - 0s 15ms/step - loss: 0.7371 - accuracy: 0.6829 - auc: 0.9725 - precision: 0.7744 - recall: 0.5786 - val_loss: 0.5371 - val_accuracy: 0.7714 - val_auc: 0.9876 - val_precision: 0.8588 - val_recall: 0.6952\n",
            "Epoch 94/100\n",
            "21/22 [===========================>..] - ETA: 0s - loss: 0.6636 - accuracy: 0.7054 - auc: 0.9782 - precision: 0.7812 - recall: 0.6057\n",
            "Epoch 00094: val_accuracy improved from 0.77619 to 0.78095, saving model to tfjsmode.h5\n",
            "22/22 [==============================] - 0s 18ms/step - loss: 0.6672 - accuracy: 0.7043 - auc: 0.9780 - precision: 0.7819 - recall: 0.6043 - val_loss: 0.5213 - val_accuracy: 0.7810 - val_auc: 0.9878 - val_precision: 0.8421 - val_recall: 0.6857\n",
            "Epoch 95/100\n",
            "21/22 [===========================>..] - ETA: 0s - loss: 0.6895 - accuracy: 0.7068 - auc: 0.9756 - precision: 0.7678 - recall: 0.5952\n",
            "Epoch 00095: val_accuracy improved from 0.78095 to 0.80000, saving model to tfjsmode.h5\n",
            "22/22 [==============================] - 0s 17ms/step - loss: 0.6905 - accuracy: 0.7043 - auc: 0.9755 - precision: 0.7699 - recall: 0.5929 - val_loss: 0.4972 - val_accuracy: 0.8000 - val_auc: 0.9897 - val_precision: 0.8706 - val_recall: 0.7048\n",
            "Epoch 96/100\n",
            "21/22 [===========================>..] - ETA: 0s - loss: 0.6515 - accuracy: 0.7202 - auc: 0.9790 - precision: 0.7873 - recall: 0.6280\n",
            "Epoch 00096: val_accuracy did not improve from 0.80000\n",
            "22/22 [==============================] - 0s 16ms/step - loss: 0.6610 - accuracy: 0.7186 - auc: 0.9783 - precision: 0.7835 - recall: 0.6257 - val_loss: 0.5440 - val_accuracy: 0.7667 - val_auc: 0.9856 - val_precision: 0.8256 - val_recall: 0.6762\n",
            "Epoch 97/100\n",
            "21/22 [===========================>..] - ETA: 0s - loss: 0.6437 - accuracy: 0.7217 - auc: 0.9792 - precision: 0.7750 - recall: 0.6101\n",
            "Epoch 00097: val_accuracy did not improve from 0.80000\n",
            "22/22 [==============================] - 0s 16ms/step - loss: 0.6421 - accuracy: 0.7229 - auc: 0.9793 - precision: 0.7750 - recall: 0.6100 - val_loss: 0.5111 - val_accuracy: 0.7857 - val_auc: 0.9878 - val_precision: 0.8251 - val_recall: 0.7190\n",
            "Epoch 98/100\n",
            "21/22 [===========================>..] - ETA: 0s - loss: 0.6541 - accuracy: 0.7054 - auc: 0.9776 - precision: 0.7665 - recall: 0.6205\n",
            "Epoch 00098: val_accuracy did not improve from 0.80000\n",
            "22/22 [==============================] - 0s 16ms/step - loss: 0.6575 - accuracy: 0.7043 - auc: 0.9774 - precision: 0.7646 - recall: 0.6171 - val_loss: 0.5237 - val_accuracy: 0.7714 - val_auc: 0.9868 - val_precision: 0.8480 - val_recall: 0.6905\n",
            "Epoch 99/100\n",
            "21/22 [===========================>..] - ETA: 0s - loss: 0.6476 - accuracy: 0.7321 - auc: 0.9791 - precision: 0.7857 - recall: 0.6384\n",
            "Epoch 00099: val_accuracy improved from 0.80000 to 0.80476, saving model to tfjsmode.h5\n",
            "22/22 [==============================] - 0s 17ms/step - loss: 0.6543 - accuracy: 0.7314 - auc: 0.9787 - precision: 0.7876 - recall: 0.6357 - val_loss: 0.4738 - val_accuracy: 0.8048 - val_auc: 0.9900 - val_precision: 0.8427 - val_recall: 0.7143\n",
            "Epoch 100/100\n",
            "21/22 [===========================>..] - ETA: 0s - loss: 0.6543 - accuracy: 0.7202 - auc: 0.9778 - precision: 0.7790 - recall: 0.6503\n",
            "Epoch 00100: val_accuracy improved from 0.80476 to 0.81905, saving model to tfjsmode.h5\n",
            "22/22 [==============================] - 0s 17ms/step - loss: 0.6545 - accuracy: 0.7186 - auc: 0.9778 - precision: 0.7810 - recall: 0.6471 - val_loss: 0.4506 - val_accuracy: 0.8190 - val_auc: 0.9914 - val_precision: 0.8696 - val_recall: 0.7619\n"
          ],
          "name": "stdout"
        }
      ]
    },
    {
      "cell_type": "code",
      "metadata": {
        "id": "PrrZbYi-jNXa",
        "outputId": "21391003-c4a4-40d4-e3bc-0aa810646e68",
        "colab": {
          "base_uri": "https://localhost:8080/",
          "height": 388
        }
      },
      "source": [
        "plot_history(history, 'accuracy')"
      ],
      "execution_count": 28,
      "outputs": [
        {
          "output_type": "display_data",
          "data": {
            "image/png": "[encoded data removed]",
            "text/plain": [
              "<Figure size 720x432 with 1 Axes>"
            ]
          },
          "metadata": {
            "tags": [],
            "needs_background": "light"
          }
        }
      ]
    },
    {
      "cell_type": "code",
      "metadata": {
        "id": "HSWyLroRu55z",
        "outputId": "14c179ff-0b1d-41dc-c72c-9e21d2f79e5e",
        "colab": {
          "base_uri": "https://localhost:8080/",
          "height": 1000
        }
      },
      "source": [
        "plot_history(history, 'precision')\n",
        "plot_history(history, 'recall')\n",
        "plot_history(history, 'auc')"
      ],
      "execution_count": 29,
      "outputs": [
        {
          "output_type": "display_data",
          "data": {
            "image/png": "[encoded data removed]",
            "text/plain": [
              "<Figure size 720x432 with 1 Axes>"
            ]
          },
          "metadata": {
            "tags": [],
            "needs_background": "light"
          }
        },
        {
          "output_type": "display_data",
          "data": {
            "image/png": "[encoded data removed]",
            "text/plain": [
              "<Figure size 720x432 with 1 Axes>"
            ]
          },
          "metadata": {
            "tags": [],
            "needs_background": "light"
          }
        },
        {
          "output_type": "display_data",
          "data": {
            "image/png": "[encoded data removed]",
            "text/plain": [
              "<Figure size 720x432 with 1 Axes>"
            ]
          },
          "metadata": {
            "tags": [],
            "needs_background": "light"
          }
        }
      ]
    },
    {
      "cell_type": "code",
      "metadata": {
        "id": "ASc2rTOkjLKY",
        "outputId": "ac6601cc-a218-4215-d191-d29821c7e596",
        "colab": {
          "base_uri": "https://localhost:8080/",
          "height": 918
        }
      },
      "source": [
        "# evaluate the model\n",
        "test_loss, test_accuracy = model.evaluate(x_test_val, y_test_val)\n",
        "evaluate_lst = list(map(lambda x: x * 100, [test_loss, test_accuracy]))\n",
        "print('\\nTest:\\nLoss: {}\\nAccuracy: {}').format(evaluate_lst[0], evaluate_lst[1])"
      ],
      "execution_count": 30,
      "outputs": [
        {
          "output_type": "error",
          "ename": "ValueError",
          "evalue": "ignored",
          "traceback": [
            "\u001b[0;31m---------------------------------------------------------------------------\u001b[0m",
            "\u001b[0;31mValueError\u001b[0m                                Traceback (most recent call last)",
            "\u001b[0;32m<ipython-input-30-d1b0d5113c89>\u001b[0m in \u001b[0;36m<module>\u001b[0;34m()\u001b[0m\n\u001b[1;32m      1\u001b[0m \u001b[0;31m# evaluate the model\u001b[0m\u001b[0;34m\u001b[0m\u001b[0;34m\u001b[0m\u001b[0;34m\u001b[0m\u001b[0m\n\u001b[0;32m----> 2\u001b[0;31m \u001b[0mtest_loss\u001b[0m\u001b[0;34m,\u001b[0m \u001b[0mtest_accuracy\u001b[0m \u001b[0;34m=\u001b[0m \u001b[0mmodel\u001b[0m\u001b[0;34m.\u001b[0m\u001b[0mevaluate\u001b[0m\u001b[0;34m(\u001b[0m\u001b[0mx_test_val\u001b[0m\u001b[0;34m,\u001b[0m \u001b[0my_test_val\u001b[0m\u001b[0;34m)\u001b[0m\u001b[0;34m\u001b[0m\u001b[0;34m\u001b[0m\u001b[0m\n\u001b[0m\u001b[1;32m      3\u001b[0m \u001b[0mevaluate_lst\u001b[0m \u001b[0;34m=\u001b[0m \u001b[0mlist\u001b[0m\u001b[0;34m(\u001b[0m\u001b[0mmap\u001b[0m\u001b[0;34m(\u001b[0m\u001b[0;32mlambda\u001b[0m \u001b[0mx\u001b[0m\u001b[0;34m:\u001b[0m \u001b[0mx\u001b[0m \u001b[0;34m*\u001b[0m \u001b[0;36m100\u001b[0m\u001b[0;34m,\u001b[0m \u001b[0;34m[\u001b[0m\u001b[0mtest_loss\u001b[0m\u001b[0;34m,\u001b[0m \u001b[0mtest_accuracy\u001b[0m\u001b[0;34m]\u001b[0m\u001b[0;34m)\u001b[0m\u001b[0;34m)\u001b[0m\u001b[0;34m\u001b[0m\u001b[0;34m\u001b[0m\u001b[0m\n\u001b[1;32m      4\u001b[0m \u001b[0mprint\u001b[0m\u001b[0;34m(\u001b[0m\u001b[0;34m'\\nTest:\\nLoss: {}\\nAccuracy: {}'\u001b[0m\u001b[0;34m)\u001b[0m\u001b[0;34m.\u001b[0m\u001b[0mformat\u001b[0m\u001b[0;34m(\u001b[0m\u001b[0mevaluate_lst\u001b[0m\u001b[0;34m[\u001b[0m\u001b[0;36m0\u001b[0m\u001b[0;34m]\u001b[0m\u001b[0;34m,\u001b[0m \u001b[0mevaluate_lst\u001b[0m\u001b[0;34m[\u001b[0m\u001b[0;36m1\u001b[0m\u001b[0;34m]\u001b[0m\u001b[0;34m)\u001b[0m\u001b[0;34m\u001b[0m\u001b[0;34m\u001b[0m\u001b[0m\n",
            "\u001b[0;32m/usr/local/lib/python3.6/dist-packages/tensorflow/python/keras/engine/training.py\u001b[0m in \u001b[0;36m_method_wrapper\u001b[0;34m(self, *args, **kwargs)\u001b[0m\n\u001b[1;32m    106\u001b[0m   \u001b[0;32mdef\u001b[0m \u001b[0m_method_wrapper\u001b[0m\u001b[0;34m(\u001b[0m\u001b[0mself\u001b[0m\u001b[0;34m,\u001b[0m \u001b[0;34m*\u001b[0m\u001b[0margs\u001b[0m\u001b[0;34m,\u001b[0m \u001b[0;34m**\u001b[0m\u001b[0mkwargs\u001b[0m\u001b[0;34m)\u001b[0m\u001b[0;34m:\u001b[0m\u001b[0;34m\u001b[0m\u001b[0;34m\u001b[0m\u001b[0m\n\u001b[1;32m    107\u001b[0m     \u001b[0;32mif\u001b[0m \u001b[0;32mnot\u001b[0m \u001b[0mself\u001b[0m\u001b[0;34m.\u001b[0m\u001b[0m_in_multi_worker_mode\u001b[0m\u001b[0;34m(\u001b[0m\u001b[0;34m)\u001b[0m\u001b[0;34m:\u001b[0m  \u001b[0;31m# pylint: disable=protected-access\u001b[0m\u001b[0;34m\u001b[0m\u001b[0;34m\u001b[0m\u001b[0m\n\u001b[0;32m--> 108\u001b[0;31m       \u001b[0;32mreturn\u001b[0m \u001b[0mmethod\u001b[0m\u001b[0;34m(\u001b[0m\u001b[0mself\u001b[0m\u001b[0;34m,\u001b[0m \u001b[0;34m*\u001b[0m\u001b[0margs\u001b[0m\u001b[0;34m,\u001b[0m \u001b[0;34m**\u001b[0m\u001b[0mkwargs\u001b[0m\u001b[0;34m)\u001b[0m\u001b[0;34m\u001b[0m\u001b[0;34m\u001b[0m\u001b[0m\n\u001b[0m\u001b[1;32m    109\u001b[0m \u001b[0;34m\u001b[0m\u001b[0m\n\u001b[1;32m    110\u001b[0m     \u001b[0;31m# Running inside `run_distribute_coordinator` already.\u001b[0m\u001b[0;34m\u001b[0m\u001b[0;34m\u001b[0m\u001b[0;34m\u001b[0m\u001b[0m\n",
            "\u001b[0;32m/usr/local/lib/python3.6/dist-packages/tensorflow/python/keras/engine/training.py\u001b[0m in \u001b[0;36mevaluate\u001b[0;34m(self, x, y, batch_size, verbose, sample_weight, steps, callbacks, max_queue_size, workers, use_multiprocessing, return_dict)\u001b[0m\n\u001b[1;32m   1377\u001b[0m             \u001b[0;32mwith\u001b[0m \u001b[0mtrace\u001b[0m\u001b[0;34m.\u001b[0m\u001b[0mTrace\u001b[0m\u001b[0;34m(\u001b[0m\u001b[0;34m'TraceContext'\u001b[0m\u001b[0;34m,\u001b[0m \u001b[0mgraph_type\u001b[0m\u001b[0;34m=\u001b[0m\u001b[0;34m'test'\u001b[0m\u001b[0;34m,\u001b[0m \u001b[0mstep_num\u001b[0m\u001b[0;34m=\u001b[0m\u001b[0mstep\u001b[0m\u001b[0;34m)\u001b[0m\u001b[0;34m:\u001b[0m\u001b[0;34m\u001b[0m\u001b[0;34m\u001b[0m\u001b[0m\n\u001b[1;32m   1378\u001b[0m               \u001b[0mcallbacks\u001b[0m\u001b[0;34m.\u001b[0m\u001b[0mon_test_batch_begin\u001b[0m\u001b[0;34m(\u001b[0m\u001b[0mstep\u001b[0m\u001b[0;34m)\u001b[0m\u001b[0;34m\u001b[0m\u001b[0;34m\u001b[0m\u001b[0m\n\u001b[0;32m-> 1379\u001b[0;31m               \u001b[0mtmp_logs\u001b[0m \u001b[0;34m=\u001b[0m \u001b[0mtest_function\u001b[0m\u001b[0;34m(\u001b[0m\u001b[0miterator\u001b[0m\u001b[0;34m)\u001b[0m\u001b[0;34m\u001b[0m\u001b[0;34m\u001b[0m\u001b[0m\n\u001b[0m\u001b[1;32m   1380\u001b[0m               \u001b[0;32mif\u001b[0m \u001b[0mdata_handler\u001b[0m\u001b[0;34m.\u001b[0m\u001b[0mshould_sync\u001b[0m\u001b[0;34m:\u001b[0m\u001b[0;34m\u001b[0m\u001b[0;34m\u001b[0m\u001b[0m\n\u001b[1;32m   1381\u001b[0m                 \u001b[0mcontext\u001b[0m\u001b[0;34m.\u001b[0m\u001b[0masync_wait\u001b[0m\u001b[0;34m(\u001b[0m\u001b[0;34m)\u001b[0m\u001b[0;34m\u001b[0m\u001b[0;34m\u001b[0m\u001b[0m\n",
            "\u001b[0;32m/usr/local/lib/python3.6/dist-packages/tensorflow/python/eager/def_function.py\u001b[0m in \u001b[0;36m__call__\u001b[0;34m(self, *args, **kwds)\u001b[0m\n\u001b[1;32m    778\u001b[0m       \u001b[0;32melse\u001b[0m\u001b[0;34m:\u001b[0m\u001b[0;34m\u001b[0m\u001b[0;34m\u001b[0m\u001b[0m\n\u001b[1;32m    779\u001b[0m         \u001b[0mcompiler\u001b[0m \u001b[0;34m=\u001b[0m \u001b[0;34m\"nonXla\"\u001b[0m\u001b[0;34m\u001b[0m\u001b[0;34m\u001b[0m\u001b[0m\n\u001b[0;32m--> 780\u001b[0;31m         \u001b[0mresult\u001b[0m \u001b[0;34m=\u001b[0m \u001b[0mself\u001b[0m\u001b[0;34m.\u001b[0m\u001b[0m_call\u001b[0m\u001b[0;34m(\u001b[0m\u001b[0;34m*\u001b[0m\u001b[0margs\u001b[0m\u001b[0;34m,\u001b[0m \u001b[0;34m**\u001b[0m\u001b[0mkwds\u001b[0m\u001b[0;34m)\u001b[0m\u001b[0;34m\u001b[0m\u001b[0;34m\u001b[0m\u001b[0m\n\u001b[0m\u001b[1;32m    781\u001b[0m \u001b[0;34m\u001b[0m\u001b[0m\n\u001b[1;32m    782\u001b[0m       \u001b[0mnew_tracing_count\u001b[0m \u001b[0;34m=\u001b[0m \u001b[0mself\u001b[0m\u001b[0;34m.\u001b[0m\u001b[0m_get_tracing_count\u001b[0m\u001b[0;34m(\u001b[0m\u001b[0;34m)\u001b[0m\u001b[0;34m\u001b[0m\u001b[0;34m\u001b[0m\u001b[0m\n",
            "\u001b[0;32m/usr/local/lib/python3.6/dist-packages/tensorflow/python/eager/def_function.py\u001b[0m in \u001b[0;36m_call\u001b[0;34m(self, *args, **kwds)\u001b[0m\n\u001b[1;32m    812\u001b[0m       \u001b[0;31m# In this case we have not created variables on the first call. So we can\u001b[0m\u001b[0;34m\u001b[0m\u001b[0;34m\u001b[0m\u001b[0;34m\u001b[0m\u001b[0m\n\u001b[1;32m    813\u001b[0m       \u001b[0;31m# run the first trace but we should fail if variables are created.\u001b[0m\u001b[0;34m\u001b[0m\u001b[0;34m\u001b[0m\u001b[0;34m\u001b[0m\u001b[0m\n\u001b[0;32m--> 814\u001b[0;31m       \u001b[0mresults\u001b[0m \u001b[0;34m=\u001b[0m \u001b[0mself\u001b[0m\u001b[0;34m.\u001b[0m\u001b[0m_stateful_fn\u001b[0m\u001b[0;34m(\u001b[0m\u001b[0;34m*\u001b[0m\u001b[0margs\u001b[0m\u001b[0;34m,\u001b[0m \u001b[0;34m**\u001b[0m\u001b[0mkwds\u001b[0m\u001b[0;34m)\u001b[0m\u001b[0;34m\u001b[0m\u001b[0;34m\u001b[0m\u001b[0m\n\u001b[0m\u001b[1;32m    815\u001b[0m       \u001b[0;32mif\u001b[0m \u001b[0mself\u001b[0m\u001b[0;34m.\u001b[0m\u001b[0m_created_variables\u001b[0m\u001b[0;34m:\u001b[0m\u001b[0;34m\u001b[0m\u001b[0;34m\u001b[0m\u001b[0m\n\u001b[1;32m    816\u001b[0m         raise ValueError(\"Creating variables on a non-first call to a function\"\n",
            "\u001b[0;32m/usr/local/lib/python3.6/dist-packages/tensorflow/python/eager/function.py\u001b[0m in \u001b[0;36m__call__\u001b[0;34m(self, *args, **kwargs)\u001b[0m\n\u001b[1;32m   2826\u001b[0m     \u001b[0;34m\"\"\"Calls a graph function specialized to the inputs.\"\"\"\u001b[0m\u001b[0;34m\u001b[0m\u001b[0;34m\u001b[0m\u001b[0m\n\u001b[1;32m   2827\u001b[0m     \u001b[0;32mwith\u001b[0m \u001b[0mself\u001b[0m\u001b[0;34m.\u001b[0m\u001b[0m_lock\u001b[0m\u001b[0;34m:\u001b[0m\u001b[0;34m\u001b[0m\u001b[0;34m\u001b[0m\u001b[0m\n\u001b[0;32m-> 2828\u001b[0;31m       \u001b[0mgraph_function\u001b[0m\u001b[0;34m,\u001b[0m \u001b[0margs\u001b[0m\u001b[0;34m,\u001b[0m \u001b[0mkwargs\u001b[0m \u001b[0;34m=\u001b[0m \u001b[0mself\u001b[0m\u001b[0;34m.\u001b[0m\u001b[0m_maybe_define_function\u001b[0m\u001b[0;34m(\u001b[0m\u001b[0margs\u001b[0m\u001b[0;34m,\u001b[0m \u001b[0mkwargs\u001b[0m\u001b[0;34m)\u001b[0m\u001b[0;34m\u001b[0m\u001b[0;34m\u001b[0m\u001b[0m\n\u001b[0m\u001b[1;32m   2829\u001b[0m     \u001b[0;32mreturn\u001b[0m \u001b[0mgraph_function\u001b[0m\u001b[0;34m.\u001b[0m\u001b[0m_filtered_call\u001b[0m\u001b[0;34m(\u001b[0m\u001b[0margs\u001b[0m\u001b[0;34m,\u001b[0m \u001b[0mkwargs\u001b[0m\u001b[0;34m)\u001b[0m  \u001b[0;31m# pylint: disable=protected-access\u001b[0m\u001b[0;34m\u001b[0m\u001b[0;34m\u001b[0m\u001b[0m\n\u001b[1;32m   2830\u001b[0m \u001b[0;34m\u001b[0m\u001b[0m\n",
            "\u001b[0;32m/usr/local/lib/python3.6/dist-packages/tensorflow/python/eager/function.py\u001b[0m in \u001b[0;36m_maybe_define_function\u001b[0;34m(self, args, kwargs)\u001b[0m\n\u001b[1;32m   3208\u001b[0m           \u001b[0;32mand\u001b[0m \u001b[0mself\u001b[0m\u001b[0;34m.\u001b[0m\u001b[0minput_signature\u001b[0m \u001b[0;32mis\u001b[0m \u001b[0;32mNone\u001b[0m\u001b[0;34m\u001b[0m\u001b[0;34m\u001b[0m\u001b[0m\n\u001b[1;32m   3209\u001b[0m           and call_context_key in self._function_cache.missed):\n\u001b[0;32m-> 3210\u001b[0;31m         \u001b[0;32mreturn\u001b[0m \u001b[0mself\u001b[0m\u001b[0;34m.\u001b[0m\u001b[0m_define_function_with_shape_relaxation\u001b[0m\u001b[0;34m(\u001b[0m\u001b[0margs\u001b[0m\u001b[0;34m,\u001b[0m \u001b[0mkwargs\u001b[0m\u001b[0;34m)\u001b[0m\u001b[0;34m\u001b[0m\u001b[0;34m\u001b[0m\u001b[0m\n\u001b[0m\u001b[1;32m   3211\u001b[0m \u001b[0;34m\u001b[0m\u001b[0m\n\u001b[1;32m   3212\u001b[0m       \u001b[0mself\u001b[0m\u001b[0;34m.\u001b[0m\u001b[0m_function_cache\u001b[0m\u001b[0;34m.\u001b[0m\u001b[0mmissed\u001b[0m\u001b[0;34m.\u001b[0m\u001b[0madd\u001b[0m\u001b[0;34m(\u001b[0m\u001b[0mcall_context_key\u001b[0m\u001b[0;34m)\u001b[0m\u001b[0;34m\u001b[0m\u001b[0;34m\u001b[0m\u001b[0m\n",
            "\u001b[0;32m/usr/local/lib/python3.6/dist-packages/tensorflow/python/eager/function.py\u001b[0m in \u001b[0;36m_define_function_with_shape_relaxation\u001b[0;34m(self, args, kwargs)\u001b[0m\n\u001b[1;32m   3140\u001b[0m \u001b[0;34m\u001b[0m\u001b[0m\n\u001b[1;32m   3141\u001b[0m     graph_function = self._create_graph_function(\n\u001b[0;32m-> 3142\u001b[0;31m         args, kwargs, override_flat_arg_shapes=relaxed_arg_shapes)\n\u001b[0m\u001b[1;32m   3143\u001b[0m     \u001b[0mself\u001b[0m\u001b[0;34m.\u001b[0m\u001b[0m_function_cache\u001b[0m\u001b[0;34m.\u001b[0m\u001b[0marg_relaxed\u001b[0m\u001b[0;34m[\u001b[0m\u001b[0mrank_only_cache_key\u001b[0m\u001b[0;34m]\u001b[0m \u001b[0;34m=\u001b[0m \u001b[0mgraph_function\u001b[0m\u001b[0;34m\u001b[0m\u001b[0;34m\u001b[0m\u001b[0m\n\u001b[1;32m   3144\u001b[0m \u001b[0;34m\u001b[0m\u001b[0m\n",
            "\u001b[0;32m/usr/local/lib/python3.6/dist-packages/tensorflow/python/eager/function.py\u001b[0m in \u001b[0;36m_create_graph_function\u001b[0;34m(self, args, kwargs, override_flat_arg_shapes)\u001b[0m\n\u001b[1;32m   3073\u001b[0m             \u001b[0marg_names\u001b[0m\u001b[0;34m=\u001b[0m\u001b[0marg_names\u001b[0m\u001b[0;34m,\u001b[0m\u001b[0;34m\u001b[0m\u001b[0;34m\u001b[0m\u001b[0m\n\u001b[1;32m   3074\u001b[0m             \u001b[0moverride_flat_arg_shapes\u001b[0m\u001b[0;34m=\u001b[0m\u001b[0moverride_flat_arg_shapes\u001b[0m\u001b[0;34m,\u001b[0m\u001b[0;34m\u001b[0m\u001b[0;34m\u001b[0m\u001b[0m\n\u001b[0;32m-> 3075\u001b[0;31m             capture_by_value=self._capture_by_value),\n\u001b[0m\u001b[1;32m   3076\u001b[0m         \u001b[0mself\u001b[0m\u001b[0;34m.\u001b[0m\u001b[0m_function_attributes\u001b[0m\u001b[0;34m,\u001b[0m\u001b[0;34m\u001b[0m\u001b[0;34m\u001b[0m\u001b[0m\n\u001b[1;32m   3077\u001b[0m         \u001b[0mfunction_spec\u001b[0m\u001b[0;34m=\u001b[0m\u001b[0mself\u001b[0m\u001b[0;34m.\u001b[0m\u001b[0mfunction_spec\u001b[0m\u001b[0;34m,\u001b[0m\u001b[0;34m\u001b[0m\u001b[0;34m\u001b[0m\u001b[0m\n",
            "\u001b[0;32m/usr/local/lib/python3.6/dist-packages/tensorflow/python/framework/func_graph.py\u001b[0m in \u001b[0;36mfunc_graph_from_py_func\u001b[0;34m(name, python_func, args, kwargs, signature, func_graph, autograph, autograph_options, add_control_dependencies, arg_names, op_return_value, collections, capture_by_value, override_flat_arg_shapes)\u001b[0m\n\u001b[1;32m    984\u001b[0m         \u001b[0m_\u001b[0m\u001b[0;34m,\u001b[0m \u001b[0moriginal_func\u001b[0m \u001b[0;34m=\u001b[0m \u001b[0mtf_decorator\u001b[0m\u001b[0;34m.\u001b[0m\u001b[0munwrap\u001b[0m\u001b[0;34m(\u001b[0m\u001b[0mpython_func\u001b[0m\u001b[0;34m)\u001b[0m\u001b[0;34m\u001b[0m\u001b[0;34m\u001b[0m\u001b[0m\n\u001b[1;32m    985\u001b[0m \u001b[0;34m\u001b[0m\u001b[0m\n\u001b[0;32m--> 986\u001b[0;31m       \u001b[0mfunc_outputs\u001b[0m \u001b[0;34m=\u001b[0m \u001b[0mpython_func\u001b[0m\u001b[0;34m(\u001b[0m\u001b[0;34m*\u001b[0m\u001b[0mfunc_args\u001b[0m\u001b[0;34m,\u001b[0m \u001b[0;34m**\u001b[0m\u001b[0mfunc_kwargs\u001b[0m\u001b[0;34m)\u001b[0m\u001b[0;34m\u001b[0m\u001b[0;34m\u001b[0m\u001b[0m\n\u001b[0m\u001b[1;32m    987\u001b[0m \u001b[0;34m\u001b[0m\u001b[0m\n\u001b[1;32m    988\u001b[0m       \u001b[0;31m# invariant: `func_outputs` contains only Tensors, CompositeTensors,\u001b[0m\u001b[0;34m\u001b[0m\u001b[0;34m\u001b[0m\u001b[0;34m\u001b[0m\u001b[0m\n",
            "\u001b[0;32m/usr/local/lib/python3.6/dist-packages/tensorflow/python/eager/def_function.py\u001b[0m in \u001b[0;36mwrapped_fn\u001b[0;34m(*args, **kwds)\u001b[0m\n\u001b[1;32m    598\u001b[0m         \u001b[0;31m# __wrapped__ allows AutoGraph to swap in a converted function. We give\u001b[0m\u001b[0;34m\u001b[0m\u001b[0;34m\u001b[0m\u001b[0;34m\u001b[0m\u001b[0m\n\u001b[1;32m    599\u001b[0m         \u001b[0;31m# the function a weak reference to itself to avoid a reference cycle.\u001b[0m\u001b[0;34m\u001b[0m\u001b[0;34m\u001b[0m\u001b[0;34m\u001b[0m\u001b[0m\n\u001b[0;32m--> 600\u001b[0;31m         \u001b[0;32mreturn\u001b[0m \u001b[0mweak_wrapped_fn\u001b[0m\u001b[0;34m(\u001b[0m\u001b[0;34m)\u001b[0m\u001b[0;34m.\u001b[0m\u001b[0m__wrapped__\u001b[0m\u001b[0;34m(\u001b[0m\u001b[0;34m*\u001b[0m\u001b[0margs\u001b[0m\u001b[0;34m,\u001b[0m \u001b[0;34m**\u001b[0m\u001b[0mkwds\u001b[0m\u001b[0;34m)\u001b[0m\u001b[0;34m\u001b[0m\u001b[0;34m\u001b[0m\u001b[0m\n\u001b[0m\u001b[1;32m    601\u001b[0m     \u001b[0mweak_wrapped_fn\u001b[0m \u001b[0;34m=\u001b[0m \u001b[0mweakref\u001b[0m\u001b[0;34m.\u001b[0m\u001b[0mref\u001b[0m\u001b[0;34m(\u001b[0m\u001b[0mwrapped_fn\u001b[0m\u001b[0;34m)\u001b[0m\u001b[0;34m\u001b[0m\u001b[0;34m\u001b[0m\u001b[0m\n\u001b[1;32m    602\u001b[0m \u001b[0;34m\u001b[0m\u001b[0m\n",
            "\u001b[0;32m/usr/local/lib/python3.6/dist-packages/tensorflow/python/framework/func_graph.py\u001b[0m in \u001b[0;36mwrapper\u001b[0;34m(*args, **kwargs)\u001b[0m\n\u001b[1;32m    971\u001b[0m           \u001b[0;32mexcept\u001b[0m \u001b[0mException\u001b[0m \u001b[0;32mas\u001b[0m \u001b[0me\u001b[0m\u001b[0;34m:\u001b[0m  \u001b[0;31m# pylint:disable=broad-except\u001b[0m\u001b[0;34m\u001b[0m\u001b[0;34m\u001b[0m\u001b[0m\n\u001b[1;32m    972\u001b[0m             \u001b[0;32mif\u001b[0m \u001b[0mhasattr\u001b[0m\u001b[0;34m(\u001b[0m\u001b[0me\u001b[0m\u001b[0;34m,\u001b[0m \u001b[0;34m\"ag_error_metadata\"\u001b[0m\u001b[0;34m)\u001b[0m\u001b[0;34m:\u001b[0m\u001b[0;34m\u001b[0m\u001b[0;34m\u001b[0m\u001b[0m\n\u001b[0;32m--> 973\u001b[0;31m               \u001b[0;32mraise\u001b[0m \u001b[0me\u001b[0m\u001b[0;34m.\u001b[0m\u001b[0mag_error_metadata\u001b[0m\u001b[0;34m.\u001b[0m\u001b[0mto_exception\u001b[0m\u001b[0;34m(\u001b[0m\u001b[0me\u001b[0m\u001b[0;34m)\u001b[0m\u001b[0;34m\u001b[0m\u001b[0;34m\u001b[0m\u001b[0m\n\u001b[0m\u001b[1;32m    974\u001b[0m             \u001b[0;32melse\u001b[0m\u001b[0;34m:\u001b[0m\u001b[0;34m\u001b[0m\u001b[0;34m\u001b[0m\u001b[0m\n\u001b[1;32m    975\u001b[0m               \u001b[0;32mraise\u001b[0m\u001b[0;34m\u001b[0m\u001b[0;34m\u001b[0m\u001b[0m\n",
            "\u001b[0;31mValueError\u001b[0m: in user code:\n\n    /usr/local/lib/python3.6/dist-packages/tensorflow/python/keras/engine/training.py:1224 test_function  *\n        return step_function(self, iterator)\n    /usr/local/lib/python3.6/dist-packages/tensorflow/python/keras/engine/training.py:1215 step_function  **\n        outputs = model.distribute_strategy.run(run_step, args=(data,))\n    /usr/local/lib/python3.6/dist-packages/tensorflow/python/distribute/distribute_lib.py:1211 run\n        return self._extended.call_for_each_replica(fn, args=args, kwargs=kwargs)\n    /usr/local/lib/python3.6/dist-packages/tensorflow/python/distribute/distribute_lib.py:2585 call_for_each_replica\n        return self._call_for_each_replica(fn, args, kwargs)\n    /usr/local/lib/python3.6/dist-packages/tensorflow/python/distribute/distribute_lib.py:2945 _call_for_each_replica\n        return fn(*args, **kwargs)\n    /usr/local/lib/python3.6/dist-packages/tensorflow/python/keras/engine/training.py:1208 run_step  **\n        outputs = model.test_step(data)\n    /usr/local/lib/python3.6/dist-packages/tensorflow/python/keras/engine/training.py:1177 test_step\n        y, y_pred, sample_weight, regularization_losses=self.losses)\n    /usr/local/lib/python3.6/dist-packages/tensorflow/python/keras/engine/compile_utils.py:204 __call__\n        loss_value = loss_obj(y_t, y_p, sample_weight=sw)\n    /usr/local/lib/python3.6/dist-packages/tensorflow/python/keras/losses.py:149 __call__\n        losses = ag_call(y_true, y_pred)\n    /usr/local/lib/python3.6/dist-packages/tensorflow/python/keras/losses.py:253 call  **\n        return ag_fn(y_true, y_pred, **self._fn_kwargs)\n    /usr/local/lib/python3.6/dist-packages/tensorflow/python/util/dispatch.py:201 wrapper\n        return target(*args, **kwargs)\n    /usr/local/lib/python3.6/dist-packages/tensorflow/python/keras/losses.py:1535 categorical_crossentropy\n        return K.categorical_crossentropy(y_true, y_pred, from_logits=from_logits)\n    /usr/local/lib/python3.6/dist-packages/tensorflow/python/util/dispatch.py:201 wrapper\n        return target(*args, **kwargs)\n    /usr/local/lib/python3.6/dist-packages/tensorflow/python/keras/backend.py:4687 categorical_crossentropy\n        target.shape.assert_is_compatible_with(output.shape)\n    /usr/local/lib/python3.6/dist-packages/tensorflow/python/framework/tensor_shape.py:1134 assert_is_compatible_with\n        raise ValueError(\"Shapes %s and %s are incompatible\" % (self, other))\n\n    ValueError: Shapes (None, 1) and (None, 11) are incompatible\n"
          ]
        }
      ]
    },
    {
      "cell_type": "code",
      "metadata": {
        "id": "Ol2Q8hOXjKfr"
      },
      "source": [
        "# predict\n",
        "s = 'happy'\n",
        "pred = predict(label_dict, s, model)\n",
        "print('Word: {}'.format(s))\n",
        "print('Prediction: {}'.format(pred))"
      ],
      "execution_count": null,
      "outputs": []
    },
    {
      "cell_type": "code",
      "metadata": {
        "id": "Rbh8T-mrx20u"
      },
      "source": [
        "# evaluation confusion matrix\n",
        "tf.math.confusion_matrix(labels=y_validation, predictions=x_validation) # what X prediction should I use here? "
      ],
      "execution_count": null,
      "outputs": []
    },
    {
      "cell_type": "code",
      "metadata": {
        "id": "7TlxepYljOxE"
      },
      "source": [
        "# save the model\n",
        "!mkdir models\n",
        "model.save(MODEL_PATH)"
      ],
      "execution_count": null,
      "outputs": []
    },
    {
      "cell_type": "code",
      "metadata": {
        "id": "Hp7RGZe-jPDB"
      },
      "source": [
        "# convert to modeljs\n",
        "tfjs.converters.save_keras_model(model, 'tfjsmodel')"
      ],
      "execution_count": null,
      "outputs": []
    }
  ]
}