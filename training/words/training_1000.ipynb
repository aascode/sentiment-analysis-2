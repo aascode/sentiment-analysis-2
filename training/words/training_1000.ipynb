{
  "nbformat": 4,
  "nbformat_minor": 0,
  "metadata": {
    "colab": {
      "name": "training_1000.ipynb",
      "provenance": [],
      "collapsed_sections": [],
      "toc_visible": true,
      "machine_shape": "hm"
    },
    "kernelspec": {
      "name": "python3",
      "display_name": "Python 3"
    },
    "accelerator": "GPU"
  },
  "cells": [
    {
      "cell_type": "markdown",
      "metadata": {
        "id": "3hCJ7VTq1r-B"
      },
      "source": [
        "---\n",
        "# **Sentiment Analysis**\n",
        "---"
      ]
    },
    {
      "cell_type": "markdown",
      "metadata": {
        "id": "RrfoCSVi1uU_"
      },
      "source": [
        "---\n",
        "\n",
        "# **1. Installation**\n",
        "\n",
        "---"
      ]
    },
    {
      "cell_type": "markdown",
      "metadata": {
        "id": "jfMMl1bb1x_2"
      },
      "source": [
        "## i. Generating a reponse\n"
      ]
    },
    {
      "cell_type": "code",
      "metadata": {
        "id": "soQns5KH0mNV"
      },
      "source": [
        "import sys\n",
        "import logging\n",
        "from psutil import virtual_memory"
      ],
      "execution_count": 1,
      "outputs": []
    },
    {
      "cell_type": "code",
      "metadata": {
        "id": "WwXk46ge1zYO"
      },
      "source": [
        "gpu_info = !nvidia-smi\n",
        "gpu_info = '\\n'.join(gpu_info)\n",
        "ram_gb = virtual_memory().total / 1e9"
      ],
      "execution_count": 2,
      "outputs": []
    },
    {
      "cell_type": "code",
      "metadata": {
        "id": "AqYgi67z1zgZ"
      },
      "source": [
        "tf_response = {\n",
        "    'error': None,\n",
        "    'TF version': '',\n",
        "    'COLAB': None,\n",
        "    'GPU': False,\n",
        "    'ram_gb': ''\n",
        "}"
      ],
      "execution_count": 3,
      "outputs": []
    },
    {
      "cell_type": "code",
      "metadata": {
        "id": "CvNt2AJ51znJ",
        "outputId": "7ba14da5-a732-4e86-dda7-5232a669e54c",
        "colab": {
          "base_uri": "https://localhost:8080/"
        }
      },
      "source": [
        "try:\n",
        "    # drive\n",
        "    from google.colab import drive\n",
        "    IN_COLAB = 'google.colab' in sys.modules\n",
        "\n",
        "    # updating tensorflow version\n",
        "    %tensorflow_version 2.x\n",
        "\n",
        "    # tensorflow-gpu & tensorflowjs\n",
        "    !pip install tensorflow-gpu # !pip install tensorflow_text # I could use BERT\n",
        "    !pip install tensorflowjs\n",
        "\n",
        "    # NLP (nltk, stanza, spacy)\n",
        "    !pip install nltk \n",
        "    !pip install stanza\n",
        "    !pip install spacy\n",
        "    !spacy download en_core_web_sm # sm md lg\n",
        "    !python -m spacy download en\n",
        "except OSError as error:\n",
        "    # debugging error\n",
        "    response['error'] = logging.debug('You are not using your specify version of TensorFlow')\n",
        "    IN_COLAB = False\n",
        "\n",
        "    # install requirements\n",
        "    !pip install -r '../requirements.txt'\n",
        "finally:\n",
        "    tf_response['COLAB'] = IN_COLAB\n",
        "    \n",
        "    # Importing tensroflow core\n",
        "    import tensorflow as tf\n",
        "    import tensorflowjs as tfjs\n",
        "    from tensorflow import keras\n",
        "    from keras.utils import to_categorical\n",
        "\n",
        "    from tensorflow.keras.preprocessing.text import Tokenizer\n",
        "    from tensorflow.keras.preprocessing.sequence import pad_sequences\n",
        "\n",
        "    from tensorflow.keras.models import Sequential\n",
        "    from tensorflow.keras.layers import Dense, Flatten, LSTM, Dropout, Activation, Embedding, Bidirectional, GlobalMaxPool1D\n",
        "\n",
        "    from sklearn.model_selection import train_test_split\n",
        "    \n",
        "    # GPU and RAM response\n",
        "    if tf.config.list_physical_devices('GPU'):\n",
        "        GPU = True\n",
        "        tf_response['GPU'] = GPU\n",
        "        tf_response['TF_version'] = tf.__version__\n",
        "        \n",
        "        if tf_response['COLAB'] == True:\n",
        "            if gpu_info.find('failed') >= 0:\n",
        "                print('Select the Runtime > \"Change runtime type\" menu to enable a GPU accelerator')\n",
        "                print('Re-execute this cell.')\n",
        "            else:\n",
        "                print(gpu_info)\n",
        "            \n",
        "            if ram_gb < 20:\n",
        "                print('To enable a high-RAM runtime, select the Runtime > \"Change runtime type menu\"')\n",
        "                print('Select high-RAM in the runtime shape dropdown')\n",
        "                print('Re-execute this cell')\n",
        "                tf_response['ram_gb'] = 'low-RAM runtime'\n",
        "            else:\n",
        "                tf_response['ram_gb'] = 'high-RAM runtime'\n",
        "            print('\\nRuntime {:.2f} GB of available RAM\\n'.format(ram_gb))"
      ],
      "execution_count": 4,
      "outputs": [
        {
          "output_type": "stream",
          "text": [
            "Requirement already satisfied: tensorflow-gpu in /usr/local/lib/python3.6/dist-packages (2.3.1)\n",
            "Requirement already satisfied: opt-einsum>=2.3.2 in /usr/local/lib/python3.6/dist-packages (from tensorflow-gpu) (3.3.0)\n",
            "Requirement already satisfied: tensorflow-estimator<2.4.0,>=2.3.0 in /usr/local/lib/python3.6/dist-packages (from tensorflow-gpu) (2.3.0)\n",
            "Requirement already satisfied: gast==0.3.3 in /usr/local/lib/python3.6/dist-packages (from tensorflow-gpu) (0.3.3)\n",
            "Requirement already satisfied: astunparse==1.6.3 in /usr/local/lib/python3.6/dist-packages (from tensorflow-gpu) (1.6.3)\n",
            "Requirement already satisfied: tensorboard<3,>=2.3.0 in /usr/local/lib/python3.6/dist-packages (from tensorflow-gpu) (2.3.0)\n",
            "Requirement already satisfied: wheel>=0.26 in /usr/local/lib/python3.6/dist-packages (from tensorflow-gpu) (0.35.1)\n",
            "Requirement already satisfied: numpy<1.19.0,>=1.16.0 in /usr/local/lib/python3.6/dist-packages (from tensorflow-gpu) (1.18.5)\n",
            "Requirement already satisfied: protobuf>=3.9.2 in /usr/local/lib/python3.6/dist-packages (from tensorflow-gpu) (3.12.4)\n",
            "Requirement already satisfied: termcolor>=1.1.0 in /usr/local/lib/python3.6/dist-packages (from tensorflow-gpu) (1.1.0)\n",
            "Requirement already satisfied: six>=1.12.0 in /usr/local/lib/python3.6/dist-packages (from tensorflow-gpu) (1.15.0)\n",
            "Requirement already satisfied: wrapt>=1.11.1 in /usr/local/lib/python3.6/dist-packages (from tensorflow-gpu) (1.12.1)\n",
            "Requirement already satisfied: grpcio>=1.8.6 in /usr/local/lib/python3.6/dist-packages (from tensorflow-gpu) (1.32.0)\n",
            "Requirement already satisfied: keras-preprocessing<1.2,>=1.1.1 in /usr/local/lib/python3.6/dist-packages (from tensorflow-gpu) (1.1.2)\n",
            "Requirement already satisfied: h5py<2.11.0,>=2.10.0 in /usr/local/lib/python3.6/dist-packages (from tensorflow-gpu) (2.10.0)\n",
            "Requirement already satisfied: google-pasta>=0.1.8 in /usr/local/lib/python3.6/dist-packages (from tensorflow-gpu) (0.2.0)\n",
            "Requirement already satisfied: absl-py>=0.7.0 in /usr/local/lib/python3.6/dist-packages (from tensorflow-gpu) (0.10.0)\n",
            "Requirement already satisfied: requests<3,>=2.21.0 in /usr/local/lib/python3.6/dist-packages (from tensorboard<3,>=2.3.0->tensorflow-gpu) (2.23.0)\n",
            "Requirement already satisfied: google-auth<2,>=1.6.3 in /usr/local/lib/python3.6/dist-packages (from tensorboard<3,>=2.3.0->tensorflow-gpu) (1.17.2)\n",
            "Requirement already satisfied: google-auth-oauthlib<0.5,>=0.4.1 in /usr/local/lib/python3.6/dist-packages (from tensorboard<3,>=2.3.0->tensorflow-gpu) (0.4.1)\n",
            "Requirement already satisfied: tensorboard-plugin-wit>=1.6.0 in /usr/local/lib/python3.6/dist-packages (from tensorboard<3,>=2.3.0->tensorflow-gpu) (1.7.0)\n",
            "Requirement already satisfied: markdown>=2.6.8 in /usr/local/lib/python3.6/dist-packages (from tensorboard<3,>=2.3.0->tensorflow-gpu) (3.2.2)\n",
            "Requirement already satisfied: setuptools>=41.0.0 in /usr/local/lib/python3.6/dist-packages (from tensorboard<3,>=2.3.0->tensorflow-gpu) (50.3.0)\n",
            "Requirement already satisfied: werkzeug>=0.11.15 in /usr/local/lib/python3.6/dist-packages (from tensorboard<3,>=2.3.0->tensorflow-gpu) (1.0.1)\n",
            "Requirement already satisfied: certifi>=2017.4.17 in /usr/local/lib/python3.6/dist-packages (from requests<3,>=2.21.0->tensorboard<3,>=2.3.0->tensorflow-gpu) (2020.6.20)\n",
            "Requirement already satisfied: urllib3!=1.25.0,!=1.25.1,<1.26,>=1.21.1 in /usr/local/lib/python3.6/dist-packages (from requests<3,>=2.21.0->tensorboard<3,>=2.3.0->tensorflow-gpu) (1.24.3)\n",
            "Requirement already satisfied: idna<3,>=2.5 in /usr/local/lib/python3.6/dist-packages (from requests<3,>=2.21.0->tensorboard<3,>=2.3.0->tensorflow-gpu) (2.10)\n",
            "Requirement already satisfied: chardet<4,>=3.0.2 in /usr/local/lib/python3.6/dist-packages (from requests<3,>=2.21.0->tensorboard<3,>=2.3.0->tensorflow-gpu) (3.0.4)\n",
            "Requirement already satisfied: pyasn1-modules>=0.2.1 in /usr/local/lib/python3.6/dist-packages (from google-auth<2,>=1.6.3->tensorboard<3,>=2.3.0->tensorflow-gpu) (0.2.8)\n",
            "Requirement already satisfied: cachetools<5.0,>=2.0.0 in /usr/local/lib/python3.6/dist-packages (from google-auth<2,>=1.6.3->tensorboard<3,>=2.3.0->tensorflow-gpu) (4.1.1)\n",
            "Requirement already satisfied: rsa<5,>=3.1.4; python_version >= \"3\" in /usr/local/lib/python3.6/dist-packages (from google-auth<2,>=1.6.3->tensorboard<3,>=2.3.0->tensorflow-gpu) (4.6)\n",
            "Requirement already satisfied: requests-oauthlib>=0.7.0 in /usr/local/lib/python3.6/dist-packages (from google-auth-oauthlib<0.5,>=0.4.1->tensorboard<3,>=2.3.0->tensorflow-gpu) (1.3.0)\n",
            "Requirement already satisfied: importlib-metadata; python_version < \"3.8\" in /usr/local/lib/python3.6/dist-packages (from markdown>=2.6.8->tensorboard<3,>=2.3.0->tensorflow-gpu) (2.0.0)\n",
            "Requirement already satisfied: pyasn1<0.5.0,>=0.4.6 in /usr/local/lib/python3.6/dist-packages (from pyasn1-modules>=0.2.1->google-auth<2,>=1.6.3->tensorboard<3,>=2.3.0->tensorflow-gpu) (0.4.8)\n",
            "Requirement already satisfied: oauthlib>=3.0.0 in /usr/local/lib/python3.6/dist-packages (from requests-oauthlib>=0.7.0->google-auth-oauthlib<0.5,>=0.4.1->tensorboard<3,>=2.3.0->tensorflow-gpu) (3.1.0)\n",
            "Requirement already satisfied: zipp>=0.5 in /usr/local/lib/python3.6/dist-packages (from importlib-metadata; python_version < \"3.8\"->markdown>=2.6.8->tensorboard<3,>=2.3.0->tensorflow-gpu) (3.2.0)\n",
            "Requirement already satisfied: tensorflowjs in /usr/local/lib/python3.6/dist-packages (2.5.0)\n",
            "Requirement already satisfied: tensorflow<3,>=2.1.0 in /usr/local/lib/python3.6/dist-packages (from tensorflowjs) (2.3.0)\n",
            "Requirement already satisfied: six<2,>=1.12.0 in /usr/local/lib/python3.6/dist-packages (from tensorflowjs) (1.15.0)\n",
            "Requirement already satisfied: tensorflow-hub<0.10,>=0.7.0 in /usr/local/lib/python3.6/dist-packages (from tensorflowjs) (0.9.0)\n",
            "Requirement already satisfied: h5py<3,>=2.8.0 in /usr/local/lib/python3.6/dist-packages (from tensorflowjs) (2.10.0)\n",
            "Requirement already satisfied: keras-preprocessing<1.2,>=1.1.1 in /usr/local/lib/python3.6/dist-packages (from tensorflow<3,>=2.1.0->tensorflowjs) (1.1.2)\n",
            "Requirement already satisfied: tensorflow-estimator<2.4.0,>=2.3.0 in /usr/local/lib/python3.6/dist-packages (from tensorflow<3,>=2.1.0->tensorflowjs) (2.3.0)\n",
            "Requirement already satisfied: numpy<1.19.0,>=1.16.0 in /usr/local/lib/python3.6/dist-packages (from tensorflow<3,>=2.1.0->tensorflowjs) (1.18.5)\n",
            "Requirement already satisfied: opt-einsum>=2.3.2 in /usr/local/lib/python3.6/dist-packages (from tensorflow<3,>=2.1.0->tensorflowjs) (3.3.0)\n",
            "Requirement already satisfied: protobuf>=3.9.2 in /usr/local/lib/python3.6/dist-packages (from tensorflow<3,>=2.1.0->tensorflowjs) (3.12.4)\n",
            "Requirement already satisfied: scipy==1.4.1 in /usr/local/lib/python3.6/dist-packages (from tensorflow<3,>=2.1.0->tensorflowjs) (1.4.1)\n",
            "Requirement already satisfied: wheel>=0.26 in /usr/local/lib/python3.6/dist-packages (from tensorflow<3,>=2.1.0->tensorflowjs) (0.35.1)\n",
            "Requirement already satisfied: absl-py>=0.7.0 in /usr/local/lib/python3.6/dist-packages (from tensorflow<3,>=2.1.0->tensorflowjs) (0.10.0)\n",
            "Requirement already satisfied: tensorboard<3,>=2.3.0 in /usr/local/lib/python3.6/dist-packages (from tensorflow<3,>=2.1.0->tensorflowjs) (2.3.0)\n",
            "Requirement already satisfied: wrapt>=1.11.1 in /usr/local/lib/python3.6/dist-packages (from tensorflow<3,>=2.1.0->tensorflowjs) (1.12.1)\n",
            "Requirement already satisfied: gast==0.3.3 in /usr/local/lib/python3.6/dist-packages (from tensorflow<3,>=2.1.0->tensorflowjs) (0.3.3)\n",
            "Requirement already satisfied: termcolor>=1.1.0 in /usr/local/lib/python3.6/dist-packages (from tensorflow<3,>=2.1.0->tensorflowjs) (1.1.0)\n",
            "Requirement already satisfied: grpcio>=1.8.6 in /usr/local/lib/python3.6/dist-packages (from tensorflow<3,>=2.1.0->tensorflowjs) (1.32.0)\n",
            "Requirement already satisfied: astunparse==1.6.3 in /usr/local/lib/python3.6/dist-packages (from tensorflow<3,>=2.1.0->tensorflowjs) (1.6.3)\n",
            "Requirement already satisfied: google-pasta>=0.1.8 in /usr/local/lib/python3.6/dist-packages (from tensorflow<3,>=2.1.0->tensorflowjs) (0.2.0)\n",
            "Requirement already satisfied: setuptools in /usr/local/lib/python3.6/dist-packages (from protobuf>=3.9.2->tensorflow<3,>=2.1.0->tensorflowjs) (50.3.0)\n",
            "Requirement already satisfied: werkzeug>=0.11.15 in /usr/local/lib/python3.6/dist-packages (from tensorboard<3,>=2.3.0->tensorflow<3,>=2.1.0->tensorflowjs) (1.0.1)\n",
            "Requirement already satisfied: tensorboard-plugin-wit>=1.6.0 in /usr/local/lib/python3.6/dist-packages (from tensorboard<3,>=2.3.0->tensorflow<3,>=2.1.0->tensorflowjs) (1.7.0)\n",
            "Requirement already satisfied: markdown>=2.6.8 in /usr/local/lib/python3.6/dist-packages (from tensorboard<3,>=2.3.0->tensorflow<3,>=2.1.0->tensorflowjs) (3.2.2)\n",
            "Requirement already satisfied: google-auth-oauthlib<0.5,>=0.4.1 in /usr/local/lib/python3.6/dist-packages (from tensorboard<3,>=2.3.0->tensorflow<3,>=2.1.0->tensorflowjs) (0.4.1)\n",
            "Requirement already satisfied: requests<3,>=2.21.0 in /usr/local/lib/python3.6/dist-packages (from tensorboard<3,>=2.3.0->tensorflow<3,>=2.1.0->tensorflowjs) (2.23.0)\n",
            "Requirement already satisfied: google-auth<2,>=1.6.3 in /usr/local/lib/python3.6/dist-packages (from tensorboard<3,>=2.3.0->tensorflow<3,>=2.1.0->tensorflowjs) (1.17.2)\n",
            "Requirement already satisfied: importlib-metadata; python_version < \"3.8\" in /usr/local/lib/python3.6/dist-packages (from markdown>=2.6.8->tensorboard<3,>=2.3.0->tensorflow<3,>=2.1.0->tensorflowjs) (2.0.0)\n",
            "Requirement already satisfied: requests-oauthlib>=0.7.0 in /usr/local/lib/python3.6/dist-packages (from google-auth-oauthlib<0.5,>=0.4.1->tensorboard<3,>=2.3.0->tensorflow<3,>=2.1.0->tensorflowjs) (1.3.0)\n",
            "Requirement already satisfied: urllib3!=1.25.0,!=1.25.1,<1.26,>=1.21.1 in /usr/local/lib/python3.6/dist-packages (from requests<3,>=2.21.0->tensorboard<3,>=2.3.0->tensorflow<3,>=2.1.0->tensorflowjs) (1.24.3)\n",
            "Requirement already satisfied: idna<3,>=2.5 in /usr/local/lib/python3.6/dist-packages (from requests<3,>=2.21.0->tensorboard<3,>=2.3.0->tensorflow<3,>=2.1.0->tensorflowjs) (2.10)\n",
            "Requirement already satisfied: certifi>=2017.4.17 in /usr/local/lib/python3.6/dist-packages (from requests<3,>=2.21.0->tensorboard<3,>=2.3.0->tensorflow<3,>=2.1.0->tensorflowjs) (2020.6.20)\n",
            "Requirement already satisfied: chardet<4,>=3.0.2 in /usr/local/lib/python3.6/dist-packages (from requests<3,>=2.21.0->tensorboard<3,>=2.3.0->tensorflow<3,>=2.1.0->tensorflowjs) (3.0.4)\n",
            "Requirement already satisfied: pyasn1-modules>=0.2.1 in /usr/local/lib/python3.6/dist-packages (from google-auth<2,>=1.6.3->tensorboard<3,>=2.3.0->tensorflow<3,>=2.1.0->tensorflowjs) (0.2.8)\n",
            "Requirement already satisfied: rsa<5,>=3.1.4; python_version >= \"3\" in /usr/local/lib/python3.6/dist-packages (from google-auth<2,>=1.6.3->tensorboard<3,>=2.3.0->tensorflow<3,>=2.1.0->tensorflowjs) (4.6)\n",
            "Requirement already satisfied: cachetools<5.0,>=2.0.0 in /usr/local/lib/python3.6/dist-packages (from google-auth<2,>=1.6.3->tensorboard<3,>=2.3.0->tensorflow<3,>=2.1.0->tensorflowjs) (4.1.1)\n",
            "Requirement already satisfied: zipp>=0.5 in /usr/local/lib/python3.6/dist-packages (from importlib-metadata; python_version < \"3.8\"->markdown>=2.6.8->tensorboard<3,>=2.3.0->tensorflow<3,>=2.1.0->tensorflowjs) (3.2.0)\n",
            "Requirement already satisfied: oauthlib>=3.0.0 in /usr/local/lib/python3.6/dist-packages (from requests-oauthlib>=0.7.0->google-auth-oauthlib<0.5,>=0.4.1->tensorboard<3,>=2.3.0->tensorflow<3,>=2.1.0->tensorflowjs) (3.1.0)\n",
            "Requirement already satisfied: pyasn1<0.5.0,>=0.4.6 in /usr/local/lib/python3.6/dist-packages (from pyasn1-modules>=0.2.1->google-auth<2,>=1.6.3->tensorboard<3,>=2.3.0->tensorflow<3,>=2.1.0->tensorflowjs) (0.4.8)\n",
            "Requirement already satisfied: nltk in /usr/local/lib/python3.6/dist-packages (3.2.5)\n",
            "Requirement already satisfied: six in /usr/local/lib/python3.6/dist-packages (from nltk) (1.15.0)\n",
            "Requirement already satisfied: stanza in /usr/local/lib/python3.6/dist-packages (1.1.1)\n",
            "Requirement already satisfied: protobuf in /usr/local/lib/python3.6/dist-packages (from stanza) (3.12.4)\n",
            "Requirement already satisfied: torch>=1.3.0 in /usr/local/lib/python3.6/dist-packages (from stanza) (1.6.0+cu101)\n",
            "Requirement already satisfied: numpy in /usr/local/lib/python3.6/dist-packages (from stanza) (1.18.5)\n",
            "Requirement already satisfied: requests in /usr/local/lib/python3.6/dist-packages (from stanza) (2.23.0)\n",
            "Requirement already satisfied: tqdm in /usr/local/lib/python3.6/dist-packages (from stanza) (4.41.1)\n",
            "Requirement already satisfied: setuptools in /usr/local/lib/python3.6/dist-packages (from protobuf->stanza) (50.3.0)\n",
            "Requirement already satisfied: six>=1.9 in /usr/local/lib/python3.6/dist-packages (from protobuf->stanza) (1.15.0)\n",
            "Requirement already satisfied: future in /usr/local/lib/python3.6/dist-packages (from torch>=1.3.0->stanza) (0.16.0)\n",
            "Requirement already satisfied: certifi>=2017.4.17 in /usr/local/lib/python3.6/dist-packages (from requests->stanza) (2020.6.20)\n",
            "Requirement already satisfied: urllib3!=1.25.0,!=1.25.1,<1.26,>=1.21.1 in /usr/local/lib/python3.6/dist-packages (from requests->stanza) (1.24.3)\n",
            "Requirement already satisfied: chardet<4,>=3.0.2 in /usr/local/lib/python3.6/dist-packages (from requests->stanza) (3.0.4)\n",
            "Requirement already satisfied: idna<3,>=2.5 in /usr/local/lib/python3.6/dist-packages (from requests->stanza) (2.10)\n",
            "Requirement already satisfied: spacy in /usr/local/lib/python3.6/dist-packages (2.2.4)\n",
            "Requirement already satisfied: wasabi<1.1.0,>=0.4.0 in /usr/local/lib/python3.6/dist-packages (from spacy) (0.8.0)\n",
            "Requirement already satisfied: cymem<2.1.0,>=2.0.2 in /usr/local/lib/python3.6/dist-packages (from spacy) (2.0.3)\n",
            "Requirement already satisfied: thinc==7.4.0 in /usr/local/lib/python3.6/dist-packages (from spacy) (7.4.0)\n",
            "Requirement already satisfied: preshed<3.1.0,>=3.0.2 in /usr/local/lib/python3.6/dist-packages (from spacy) (3.0.2)\n",
            "Requirement already satisfied: numpy>=1.15.0 in /usr/local/lib/python3.6/dist-packages (from spacy) (1.18.5)\n",
            "Requirement already satisfied: blis<0.5.0,>=0.4.0 in /usr/local/lib/python3.6/dist-packages (from spacy) (0.4.1)\n",
            "Requirement already satisfied: plac<1.2.0,>=0.9.6 in /usr/local/lib/python3.6/dist-packages (from spacy) (1.1.3)\n",
            "Requirement already satisfied: srsly<1.1.0,>=1.0.2 in /usr/local/lib/python3.6/dist-packages (from spacy) (1.0.2)\n",
            "Requirement already satisfied: setuptools in /usr/local/lib/python3.6/dist-packages (from spacy) (50.3.0)\n",
            "Requirement already satisfied: requests<3.0.0,>=2.13.0 in /usr/local/lib/python3.6/dist-packages (from spacy) (2.23.0)\n",
            "Requirement already satisfied: murmurhash<1.1.0,>=0.28.0 in /usr/local/lib/python3.6/dist-packages (from spacy) (1.0.2)\n",
            "Requirement already satisfied: tqdm<5.0.0,>=4.38.0 in /usr/local/lib/python3.6/dist-packages (from spacy) (4.41.1)\n",
            "Requirement already satisfied: catalogue<1.1.0,>=0.0.7 in /usr/local/lib/python3.6/dist-packages (from spacy) (1.0.0)\n",
            "Requirement already satisfied: idna<3,>=2.5 in /usr/local/lib/python3.6/dist-packages (from requests<3.0.0,>=2.13.0->spacy) (2.10)\n",
            "Requirement already satisfied: chardet<4,>=3.0.2 in /usr/local/lib/python3.6/dist-packages (from requests<3.0.0,>=2.13.0->spacy) (3.0.4)\n",
            "Requirement already satisfied: certifi>=2017.4.17 in /usr/local/lib/python3.6/dist-packages (from requests<3.0.0,>=2.13.0->spacy) (2020.6.20)\n",
            "Requirement already satisfied: urllib3!=1.25.0,!=1.25.1,<1.26,>=1.21.1 in /usr/local/lib/python3.6/dist-packages (from requests<3.0.0,>=2.13.0->spacy) (1.24.3)\n",
            "Requirement already satisfied: importlib-metadata>=0.20; python_version < \"3.8\" in /usr/local/lib/python3.6/dist-packages (from catalogue<1.1.0,>=0.0.7->spacy) (2.0.0)\n",
            "Requirement already satisfied: zipp>=0.5 in /usr/local/lib/python3.6/dist-packages (from importlib-metadata>=0.20; python_version < \"3.8\"->catalogue<1.1.0,>=0.0.7->spacy) (3.2.0)\n",
            "Requirement already satisfied: en_core_web_sm==2.2.5 from https://github.com/explosion/spacy-models/releases/download/en_core_web_sm-2.2.5/en_core_web_sm-2.2.5.tar.gz#egg=en_core_web_sm==2.2.5 in /usr/local/lib/python3.6/dist-packages (2.2.5)\n",
            "Requirement already satisfied: spacy>=2.2.2 in /usr/local/lib/python3.6/dist-packages (from en_core_web_sm==2.2.5) (2.2.4)\n",
            "Requirement already satisfied: cymem<2.1.0,>=2.0.2 in /usr/local/lib/python3.6/dist-packages (from spacy>=2.2.2->en_core_web_sm==2.2.5) (2.0.3)\n",
            "Requirement already satisfied: catalogue<1.1.0,>=0.0.7 in /usr/local/lib/python3.6/dist-packages (from spacy>=2.2.2->en_core_web_sm==2.2.5) (1.0.0)\n",
            "Requirement already satisfied: wasabi<1.1.0,>=0.4.0 in /usr/local/lib/python3.6/dist-packages (from spacy>=2.2.2->en_core_web_sm==2.2.5) (0.8.0)\n",
            "Requirement already satisfied: setuptools in /usr/local/lib/python3.6/dist-packages (from spacy>=2.2.2->en_core_web_sm==2.2.5) (50.3.0)\n",
            "Requirement already satisfied: numpy>=1.15.0 in /usr/local/lib/python3.6/dist-packages (from spacy>=2.2.2->en_core_web_sm==2.2.5) (1.18.5)\n",
            "Requirement already satisfied: murmurhash<1.1.0,>=0.28.0 in /usr/local/lib/python3.6/dist-packages (from spacy>=2.2.2->en_core_web_sm==2.2.5) (1.0.2)\n",
            "Requirement already satisfied: blis<0.5.0,>=0.4.0 in /usr/local/lib/python3.6/dist-packages (from spacy>=2.2.2->en_core_web_sm==2.2.5) (0.4.1)\n",
            "Requirement already satisfied: requests<3.0.0,>=2.13.0 in /usr/local/lib/python3.6/dist-packages (from spacy>=2.2.2->en_core_web_sm==2.2.5) (2.23.0)\n",
            "Requirement already satisfied: preshed<3.1.0,>=3.0.2 in /usr/local/lib/python3.6/dist-packages (from spacy>=2.2.2->en_core_web_sm==2.2.5) (3.0.2)\n",
            "Requirement already satisfied: thinc==7.4.0 in /usr/local/lib/python3.6/dist-packages (from spacy>=2.2.2->en_core_web_sm==2.2.5) (7.4.0)\n",
            "Requirement already satisfied: plac<1.2.0,>=0.9.6 in /usr/local/lib/python3.6/dist-packages (from spacy>=2.2.2->en_core_web_sm==2.2.5) (1.1.3)\n",
            "Requirement already satisfied: srsly<1.1.0,>=1.0.2 in /usr/local/lib/python3.6/dist-packages (from spacy>=2.2.2->en_core_web_sm==2.2.5) (1.0.2)\n",
            "Requirement already satisfied: tqdm<5.0.0,>=4.38.0 in /usr/local/lib/python3.6/dist-packages (from spacy>=2.2.2->en_core_web_sm==2.2.5) (4.41.1)\n",
            "Requirement already satisfied: importlib-metadata>=0.20; python_version < \"3.8\" in /usr/local/lib/python3.6/dist-packages (from catalogue<1.1.0,>=0.0.7->spacy>=2.2.2->en_core_web_sm==2.2.5) (2.0.0)\n",
            "Requirement already satisfied: chardet<4,>=3.0.2 in /usr/local/lib/python3.6/dist-packages (from requests<3.0.0,>=2.13.0->spacy>=2.2.2->en_core_web_sm==2.2.5) (3.0.4)\n",
            "Requirement already satisfied: urllib3!=1.25.0,!=1.25.1,<1.26,>=1.21.1 in /usr/local/lib/python3.6/dist-packages (from requests<3.0.0,>=2.13.0->spacy>=2.2.2->en_core_web_sm==2.2.5) (1.24.3)\n",
            "Requirement already satisfied: certifi>=2017.4.17 in /usr/local/lib/python3.6/dist-packages (from requests<3.0.0,>=2.13.0->spacy>=2.2.2->en_core_web_sm==2.2.5) (2020.6.20)\n",
            "Requirement already satisfied: idna<3,>=2.5 in /usr/local/lib/python3.6/dist-packages (from requests<3.0.0,>=2.13.0->spacy>=2.2.2->en_core_web_sm==2.2.5) (2.10)\n",
            "Requirement already satisfied: zipp>=0.5 in /usr/local/lib/python3.6/dist-packages (from importlib-metadata>=0.20; python_version < \"3.8\"->catalogue<1.1.0,>=0.0.7->spacy>=2.2.2->en_core_web_sm==2.2.5) (3.2.0)\n",
            "\u001b[38;5;2m✔ Download and installation successful\u001b[0m\n",
            "You can now load the model via spacy.load('en_core_web_sm')\n",
            "Requirement already satisfied: en_core_web_sm==2.2.5 from https://github.com/explosion/spacy-models/releases/download/en_core_web_sm-2.2.5/en_core_web_sm-2.2.5.tar.gz#egg=en_core_web_sm==2.2.5 in /usr/local/lib/python3.6/dist-packages (2.2.5)\n",
            "Requirement already satisfied: spacy>=2.2.2 in /usr/local/lib/python3.6/dist-packages (from en_core_web_sm==2.2.5) (2.2.4)\n",
            "Requirement already satisfied: catalogue<1.1.0,>=0.0.7 in /usr/local/lib/python3.6/dist-packages (from spacy>=2.2.2->en_core_web_sm==2.2.5) (1.0.0)\n",
            "Requirement already satisfied: plac<1.2.0,>=0.9.6 in /usr/local/lib/python3.6/dist-packages (from spacy>=2.2.2->en_core_web_sm==2.2.5) (1.1.3)\n",
            "Requirement already satisfied: cymem<2.1.0,>=2.0.2 in /usr/local/lib/python3.6/dist-packages (from spacy>=2.2.2->en_core_web_sm==2.2.5) (2.0.3)\n",
            "Requirement already satisfied: murmurhash<1.1.0,>=0.28.0 in /usr/local/lib/python3.6/dist-packages (from spacy>=2.2.2->en_core_web_sm==2.2.5) (1.0.2)\n",
            "Requirement already satisfied: numpy>=1.15.0 in /usr/local/lib/python3.6/dist-packages (from spacy>=2.2.2->en_core_web_sm==2.2.5) (1.18.5)\n",
            "Requirement already satisfied: thinc==7.4.0 in /usr/local/lib/python3.6/dist-packages (from spacy>=2.2.2->en_core_web_sm==2.2.5) (7.4.0)\n",
            "Requirement already satisfied: setuptools in /usr/local/lib/python3.6/dist-packages (from spacy>=2.2.2->en_core_web_sm==2.2.5) (50.3.0)\n",
            "Requirement already satisfied: preshed<3.1.0,>=3.0.2 in /usr/local/lib/python3.6/dist-packages (from spacy>=2.2.2->en_core_web_sm==2.2.5) (3.0.2)\n",
            "Requirement already satisfied: requests<3.0.0,>=2.13.0 in /usr/local/lib/python3.6/dist-packages (from spacy>=2.2.2->en_core_web_sm==2.2.5) (2.23.0)\n",
            "Requirement already satisfied: srsly<1.1.0,>=1.0.2 in /usr/local/lib/python3.6/dist-packages (from spacy>=2.2.2->en_core_web_sm==2.2.5) (1.0.2)\n",
            "Requirement already satisfied: wasabi<1.1.0,>=0.4.0 in /usr/local/lib/python3.6/dist-packages (from spacy>=2.2.2->en_core_web_sm==2.2.5) (0.8.0)\n",
            "Requirement already satisfied: blis<0.5.0,>=0.4.0 in /usr/local/lib/python3.6/dist-packages (from spacy>=2.2.2->en_core_web_sm==2.2.5) (0.4.1)\n",
            "Requirement already satisfied: tqdm<5.0.0,>=4.38.0 in /usr/local/lib/python3.6/dist-packages (from spacy>=2.2.2->en_core_web_sm==2.2.5) (4.41.1)\n",
            "Requirement already satisfied: importlib-metadata>=0.20; python_version < \"3.8\" in /usr/local/lib/python3.6/dist-packages (from catalogue<1.1.0,>=0.0.7->spacy>=2.2.2->en_core_web_sm==2.2.5) (2.0.0)\n",
            "Requirement already satisfied: urllib3!=1.25.0,!=1.25.1,<1.26,>=1.21.1 in /usr/local/lib/python3.6/dist-packages (from requests<3.0.0,>=2.13.0->spacy>=2.2.2->en_core_web_sm==2.2.5) (1.24.3)\n",
            "Requirement already satisfied: idna<3,>=2.5 in /usr/local/lib/python3.6/dist-packages (from requests<3.0.0,>=2.13.0->spacy>=2.2.2->en_core_web_sm==2.2.5) (2.10)\n",
            "Requirement already satisfied: chardet<4,>=3.0.2 in /usr/local/lib/python3.6/dist-packages (from requests<3.0.0,>=2.13.0->spacy>=2.2.2->en_core_web_sm==2.2.5) (3.0.4)\n",
            "Requirement already satisfied: certifi>=2017.4.17 in /usr/local/lib/python3.6/dist-packages (from requests<3.0.0,>=2.13.0->spacy>=2.2.2->en_core_web_sm==2.2.5) (2020.6.20)\n",
            "Requirement already satisfied: zipp>=0.5 in /usr/local/lib/python3.6/dist-packages (from importlib-metadata>=0.20; python_version < \"3.8\"->catalogue<1.1.0,>=0.0.7->spacy>=2.2.2->en_core_web_sm==2.2.5) (3.2.0)\n",
            "\u001b[38;5;2m✔ Download and installation successful\u001b[0m\n",
            "You can now load the model via spacy.load('en_core_web_sm')\n",
            "\u001b[38;5;2m✔ Linking successful\u001b[0m\n",
            "/usr/local/lib/python3.6/dist-packages/en_core_web_sm -->\n",
            "/usr/local/lib/python3.6/dist-packages/spacy/data/en\n",
            "You can now load the model via spacy.load('en')\n",
            "Wed Oct  7 04:24:31 2020       \n",
            "+-----------------------------------------------------------------------------+\n",
            "| NVIDIA-SMI 455.23.05    Driver Version: 418.67       CUDA Version: 10.1     |\n",
            "|-------------------------------+----------------------+----------------------+\n",
            "| GPU  Name        Persistence-M| Bus-Id        Disp.A | Volatile Uncorr. ECC |\n",
            "| Fan  Temp  Perf  Pwr:Usage/Cap|         Memory-Usage | GPU-Util  Compute M. |\n",
            "|                               |                      |               MIG M. |\n",
            "|===============================+======================+======================|\n",
            "|   0  Tesla V100-SXM2...  Off  | 00000000:00:04.0 Off |                    0 |\n",
            "| N/A   36C    P0    27W / 300W |      0MiB / 16130MiB |      0%      Default |\n",
            "|                               |                      |                 ERR! |\n",
            "+-------------------------------+----------------------+----------------------+\n",
            "                                                                               \n",
            "+-----------------------------------------------------------------------------+\n",
            "| Processes:                                                                  |\n",
            "|  GPU   GI   CI        PID   Type   Process name                  GPU Memory |\n",
            "|        ID   ID                                                   Usage      |\n",
            "|=============================================================================|\n",
            "|  No running processes found                                                 |\n",
            "+-----------------------------------------------------------------------------+\n",
            "\n",
            "Runtime 27.39 GB of available RAM\n",
            "\n"
          ],
          "name": "stdout"
        }
      ]
    },
    {
      "cell_type": "code",
      "metadata": {
        "id": "ye99iKv617qQ",
        "outputId": "fe28d085-6167-4402-94ba-5006305e8c50",
        "colab": {
          "base_uri": "https://localhost:8080/"
        }
      },
      "source": [
        "tf_response"
      ],
      "execution_count": 5,
      "outputs": [
        {
          "output_type": "execute_result",
          "data": {
            "text/plain": [
              "{'COLAB': True,\n",
              " 'GPU': True,\n",
              " 'TF version': '',\n",
              " 'TF_version': '2.3.1',\n",
              " 'error': None,\n",
              " 'ram_gb': 'high-RAM runtime'}"
            ]
          },
          "metadata": {
            "tags": []
          },
          "execution_count": 5
        }
      ]
    },
    {
      "cell_type": "markdown",
      "metadata": {
        "id": "IFNjTuvU1_C_"
      },
      "source": [
        "## ii. Importing modules\n"
      ]
    },
    {
      "cell_type": "code",
      "metadata": {
        "id": "OIh873U819qU"
      },
      "source": [
        "# Data analysis\n",
        "from collections import Counter\n",
        "import matplotlib.pyplot as plt\n",
        "import pandas as pd\n",
        "import numpy as np\n",
        "import sys\n",
        "import re\n",
        "\n",
        "%matplotlib inline\n",
        "\n",
        "# Image\n",
        "from wordcloud import WordCloud, STOPWORDS, ImageColorGenerator # to create a Word Cloud\n",
        "from PIL import Image # Pillow with WordCloud to image manipulation"
      ],
      "execution_count": 6,
      "outputs": []
    },
    {
      "cell_type": "code",
      "metadata": {
        "id": "6lhfhNt72CLr",
        "outputId": "1f17bbef-aae5-49cf-fc86-afaee5e28d92",
        "colab": {
          "base_uri": "https://localhost:8080/"
        }
      },
      "source": [
        "# nltk\n",
        "import nltk\n",
        "from nltk.corpus import stopwords\n",
        "from nltk.stem import WordNetLemmatizer\n",
        "\n",
        "nltk.download('stopwords')\n",
        "nltk.download('wordnet')\n",
        "\n",
        "STOPWORDS = set(stopwords.words('english'))"
      ],
      "execution_count": 7,
      "outputs": [
        {
          "output_type": "stream",
          "text": [
            "[nltk_data] Downloading package stopwords to /root/nltk_data...\n",
            "[nltk_data]   Package stopwords is already up-to-date!\n",
            "[nltk_data] Downloading package wordnet to /root/nltk_data...\n",
            "[nltk_data]   Package wordnet is already up-to-date!\n"
          ],
          "name": "stdout"
        }
      ]
    },
    {
      "cell_type": "code",
      "metadata": {
        "id": "T82WGVnN2EwF",
        "outputId": "90faacbb-e1ac-4c4f-8a37-2cf120176fcc",
        "colab": {
          "base_uri": "https://localhost:8080/"
        }
      },
      "source": [
        "# Stanza NLP\n",
        "import stanza\n",
        "\n",
        "stanza.download('en', package='ewt', processors='tokenize,mwt,pos,lemma', verbose=True)\n",
        "stNLP = stanza.Pipeline(processors='tokenize,mwt,pos,lemma',\n",
        "                      lang='en',\n",
        "                      use_gpu=True)"
      ],
      "execution_count": 8,
      "outputs": [
        {
          "output_type": "stream",
          "text": [
            "Downloading https://raw.githubusercontent.com/stanfordnlp/stanza-resources/master/resources_1.1.0.json: 122kB [00:00, 31.6MB/s]                    \n",
            "2020-10-07 04:24:51 WARNING: Can not find mwt: ewt from official model list. Ignoring it.\n",
            "2020-10-07 04:24:51 INFO: Downloading these customized packages for language: en (English)...\n",
            "=======================\n",
            "| Processor | Package |\n",
            "-----------------------\n",
            "| tokenize  | ewt     |\n",
            "| pos       | ewt     |\n",
            "| lemma     | ewt     |\n",
            "| pretrain  | ewt     |\n",
            "=======================\n",
            "\n",
            "2020-10-07 04:24:51 INFO: File exists: /root/stanza_resources/en/tokenize/ewt.pt.\n",
            "2020-10-07 04:24:51 INFO: File exists: /root/stanza_resources/en/pos/ewt.pt.\n",
            "2020-10-07 04:24:51 INFO: File exists: /root/stanza_resources/en/lemma/ewt.pt.\n",
            "2020-10-07 04:24:51 INFO: File exists: /root/stanza_resources/en/pretrain/ewt.pt.\n",
            "2020-10-07 04:24:51 INFO: Finished downloading models and saved to /root/stanza_resources.\n",
            "2020-10-07 04:24:51 WARNING: Can not find mwt: default from official model list. Ignoring it.\n",
            "2020-10-07 04:24:51 INFO: Loading these models for language: en (English):\n",
            "=======================\n",
            "| Processor | Package |\n",
            "-----------------------\n",
            "| tokenize  | ewt     |\n",
            "| pos       | ewt     |\n",
            "| lemma     | ewt     |\n",
            "=======================\n",
            "\n",
            "2020-10-07 04:24:51 INFO: Use device: gpu\n",
            "2020-10-07 04:24:51 INFO: Loading: tokenize\n",
            "2020-10-07 04:24:56 INFO: Loading: pos\n",
            "2020-10-07 04:24:57 INFO: Loading: lemma\n",
            "2020-10-07 04:24:57 INFO: Done loading processors!\n"
          ],
          "name": "stderr"
        }
      ]
    },
    {
      "cell_type": "code",
      "metadata": {
        "id": "9236VgMj2Gwg",
        "outputId": "81d0d5a4-ec86-4db7-959d-a20506594be5",
        "colab": {
          "base_uri": "https://localhost:8080/"
        }
      },
      "source": [
        "# testing stanza\n",
        "doc = stNLP('Barack Obama was born in Hawai.')\n",
        "print(*[f'word: {word.text+\" \"}\\tlemma: {word.lemma}' for sent in doc.sentences for word in sent.words], sep='\\n')"
      ],
      "execution_count": 9,
      "outputs": [
        {
          "output_type": "stream",
          "text": [
            "word: Barack \tlemma: Barack\n",
            "word: Obama \tlemma: Obama\n",
            "word: was \tlemma: be\n",
            "word: born \tlemma: bear\n",
            "word: in \tlemma: in\n",
            "word: Hawai \tlemma: Hawai\n",
            "word: . \tlemma: .\n"
          ],
          "name": "stdout"
        }
      ]
    },
    {
      "cell_type": "code",
      "metadata": {
        "id": "-4QpRgR02IDL"
      },
      "source": [
        "# Spacy NLP\n",
        "import spacy\n",
        "spNLP = spacy.load('en_core_web_sm')\n",
        "spNLP.max_length = 103950039 # or higher\n",
        "# spacy.prefer_gpu() #will not work with stanza"
      ],
      "execution_count": 10,
      "outputs": []
    },
    {
      "cell_type": "markdown",
      "metadata": {
        "id": "x6iiQVT42Jo3"
      },
      "source": [
        "\n",
        "---\n",
        "\n",
        "# **2. Hyperparameters**\n",
        "\n",
        "---"
      ]
    },
    {
      "cell_type": "code",
      "metadata": {
        "id": "hIpxO61l0gcD"
      },
      "source": [
        "FILE = 'datasets/categories_dataset.csv'\n",
        "MODEL_PATH = './models/model.h5'"
      ],
      "execution_count": 11,
      "outputs": []
    },
    {
      "cell_type": "code",
      "metadata": {
        "id": "KUv__06r2LOQ"
      },
      "source": [
        "EPOCHS = 100\n",
        "BATCH_SIZE = 32\n",
        "\n",
        "training_portion = 0.8\n",
        "rnn_units = 64\n",
        "\n",
        "# embedding_dim : len(words) + 1\n",
        "# vocab_size : len(words.index) + 1\n",
        "vocab_size = 5000\n",
        "\n",
        "max_length = 30 # 200 # for padding_shape on preprocess function\n",
        "\n",
        "trunc_type = 'post'\n",
        "padding_type = 'post'\n",
        "padding_shape = 30\n",
        "oov_tok = '<OOV>'"
      ],
      "execution_count": 12,
      "outputs": []
    },
    {
      "cell_type": "code",
      "metadata": {
        "id": "YBKrSlNb0fIs"
      },
      "source": [
        "main_labels = ['confident', 'unconfident', \n",
        "               'pos_hp', 'neg_hp', \n",
        "               'interested', 'uninterested', \n",
        "               'happy', 'unhappy', \n",
        "               'friendly', 'unfriendly', \n",
        "               'POS']\n",
        "               \n",
        "label_dict = dict(zip(main_labels, range(1, len(main_labels) + 1)))"
      ],
      "execution_count": 13,
      "outputs": []
    },
    {
      "cell_type": "code",
      "metadata": {
        "id": "OyVrjQ46nEMd",
        "outputId": "43c8bf3d-1d25-4ff1-c25d-2d341b71b2c6",
        "colab": {
          "base_uri": "https://localhost:8080/"
        }
      },
      "source": [
        "label_dict"
      ],
      "execution_count": 14,
      "outputs": [
        {
          "output_type": "execute_result",
          "data": {
            "text/plain": [
              "{'POS': 11,\n",
              " 'confident': 1,\n",
              " 'friendly': 9,\n",
              " 'happy': 7,\n",
              " 'interested': 5,\n",
              " 'neg_hp': 4,\n",
              " 'pos_hp': 3,\n",
              " 'unconfident': 2,\n",
              " 'unfriendly': 10,\n",
              " 'unhappy': 8,\n",
              " 'uninterested': 6}"
            ]
          },
          "metadata": {
            "tags": []
          },
          "execution_count": 14
        }
      ]
    },
    {
      "cell_type": "markdown",
      "metadata": {
        "id": "lO32c_pD2NzO"
      },
      "source": [
        "---\n",
        "\n",
        "# **3. Lemmatization**\n",
        "\n",
        "---"
      ]
    },
    {
      "cell_type": "code",
      "metadata": {
        "id": "Lb6Wbv0U2OeH"
      },
      "source": [
        "# lemmatizion\n",
        "# stanza\n",
        "def stanza_lemma(text):\n",
        "    doc = stNLP(text)\n",
        "    return ' '.join([word.lemma for sent in doc.sentences for word in sent.words])"
      ],
      "execution_count": 15,
      "outputs": []
    },
    {
      "cell_type": "code",
      "metadata": {
        "id": "RdtBcgKB2PaB"
      },
      "source": [
        "def nltk_lemma(text):\n",
        "    lemmatizer = WordNetLemmatizer()\n",
        "    lemmatizer.lemmatize(text)"
      ],
      "execution_count": 16,
      "outputs": []
    },
    {
      "cell_type": "markdown",
      "metadata": {
        "id": "1yfg8TVR2SL_"
      },
      "source": [
        "---\n",
        "# **4. Load dataset**\n",
        "---"
      ]
    },
    {
      "cell_type": "code",
      "metadata": {
        "id": "gUCh3RCa2VS8"
      },
      "source": [
        "def load_clean_dataset():\n",
        "    !mkdir -p datasets\n",
        "    !wget -nc https://raw.githubusercontent.com/Y4rd13/sentiment-analysis/master/datasets/results/categories_dataset_1000.csv -P datasets\n",
        "    df = pd.read_csv('./datasets/categories_dataset_1000.csv', encoding='utf-8', index_col=0)\n",
        "\n",
        "    print(df.head())\n",
        "    x, y = df['word'], df[['category', 'POS stza']] # or POS nltk\n",
        "\n",
        "    return x, y"
      ],
      "execution_count": 17,
      "outputs": []
    },
    {
      "cell_type": "markdown",
      "metadata": {
        "id": "kleN4LtF2-bg"
      },
      "source": [
        "---\n",
        "# **5. Prepare dataset**\n",
        "---"
      ]
    },
    {
      "cell_type": "code",
      "metadata": {
        "id": "uDdZHwMcolpC"
      },
      "source": [
        "def preprocess(x, padding_shape=30):\n",
        "    return np.array([ord(i.lower()) - ord('a')+1 if not i.isdigit() and i != ' ' else 0 for i in list(x)] + ([0] * (padding_shape - len(x))), dtype=int)"
      ],
      "execution_count": 18,
      "outputs": []
    },
    {
      "cell_type": "code",
      "metadata": {
        "id": "-y-Y8HxI3E7B"
      },
      "source": [
        "def prepare_dataset(labeldict : dict, test_size=.3, validation_size=.1): \n",
        "    print('preparing the dataset...\\n')\n",
        "    \n",
        "    from sklearn import preprocessing\n",
        "\n",
        "    # load dataset\n",
        "    # split dataset (as string into panda.core.series.Serie object)\n",
        "    x, y = load_clean_dataset()\n",
        "\n",
        "    x = np.array(list(map(preprocess, x)))\n",
        "    y = np.array(list(map(lambda x: labeldict[x.replace(' ', '_')], y['category'])))\n",
        "    print(('y: {}').format(y))\n",
        "\n",
        "    # create/split train, validation and test and shuffle the data\n",
        "    x_train, x_test, y_train, y_test = train_test_split(x, y, test_size=test_size, shuffle=True)\n",
        "    print(x.max(), x.min())\n",
        "\n",
        "    x_train_val, x_validation, y_train_val, y_validation = train_test_split(x_train, y_train, test_size=test_size, shuffle=True)\n",
        "\n",
        "    # pandas.core.series.Series to numpy array\n",
        "    x_train, y_train = np.array(x_train), np.array(y_train)\n",
        "    x_validation, y_validation =  np.array(x_validation), np.array(y_validation)\n",
        "    x_test, y_test = np.array(x_test), np.array(y_test)\n",
        "    \n",
        "    x_train_val, y_train_val = np.array(x_train_val), np.array(y_train_val)\n",
        "\n",
        "    print(('\\nx_train: \\n{}\\n\\ny_train: \\n{}').format(x_train_val, y_train_val))\n",
        "\n",
        "    return (x_train, y_train), (x_validation, y_validation), (x_test, y_test), (x_train_val, y_train_val)"
      ],
      "execution_count": 19,
      "outputs": []
    },
    {
      "cell_type": "code",
      "metadata": {
        "id": "gpHOyVkIwY4r",
        "outputId": "6c2be7ca-7968-4fdf-97ec-1f434ad67945",
        "colab": {
          "base_uri": "https://localhost:8080/"
        }
      },
      "source": [
        "(x_train, y_train), (x_validation, y_validation), (x_test, y_test), (x_train_val, y_train_val) = prepare_dataset(label_dict)"
      ],
      "execution_count": 20,
      "outputs": [
        {
          "output_type": "stream",
          "text": [
            "preparing the dataset...\n",
            "\n",
            "File ‘datasets/categories_dataset_1000.csv’ already there; not retrieving.\n",
            "\n",
            "   Arousal  Compound  Dominance  ... Valence   category          word\n",
            "0     0.55      0.30       0.74  ...    0.89  confident     tolerance\n",
            "1     0.55      0.00       0.74  ...    0.89  confident         carry\n",
            "2     0.55      0.42       0.74  ...    0.89  confident   tranquility\n",
            "3     0.55      0.00       0.74  ...    0.89  confident  socontagious\n",
            "4     0.55      0.00       0.74  ...    0.89  confident          zeal\n",
            "\n",
            "[5 rows x 12 columns]\n",
            "y: [ 1  1  1  1  1  1  1  1  1  1  1  1  1  1  1  1  1  1  1  1  1  1  1  1\n",
            "  1  1  1  1  1  1  1  1  1  1  1  1  1  1  1  1  1  1  1  1  1  1  1  1\n",
            "  1  1  1  1  1  1  1  1  1  1  1  1  1  1  1  1  1  1  1  1  1  1  1  1\n",
            "  1  1  1  1  1  1  1  1  1  1  1  1  1  1  1  1  1  1  1  1  1  1  1  1\n",
            "  1  1  1  1  9  9  9  9  9  9  9  9  9  9  9  9  9  9  9  9  9  9  9  9\n",
            "  9  9  9  9  9  9  9  9  9  9  9  9  9  9  9  9  9  9  9  9  9  9  9  9\n",
            "  9  9  9  9  9  9  9  9  9  9  9  9  9  9  9  9  9  9  9  9  9  9  9  9\n",
            "  9  9  9  9  9  9  9  9  9  9  9  9  9  9  9  9  9  9  9  9  9  9  9  9\n",
            "  9  9  9  9  9  9  9  9  7  7  7  7  7  7  7  7  7  7  7  7  7  7  7  7\n",
            "  7  7  7  7  7  7  7  7  7  7  7  7  7  7  7  7  7  7  7  7  7  7  7  7\n",
            "  7  7  7  7  7  7  7  7  7  7  7  7  7  7  7  7  7  7  7  7  7  7  7  7\n",
            "  7  7  7  7  7  7  7  7  7  7  7  7  7  7  7  7  7  7  7  7  7  7  7  7\n",
            "  7  7  7  7  7  7  7  7  7  7  7  7  5  5  5  5  5  5  5  5  5  5  5  5\n",
            "  5  5  5  5  5  5  5  5  5  5  5  5  5  5  5  5  5  5  5  5  5  5  5  5\n",
            "  5  5  5  5  5  5  5  5  5  5  5  5  5  5  5  5  5  5  5  5  5  5  5  5\n",
            "  5  5  5  5  5  5  5  5  5  5  5  5  5  5  5  5  5  5  5  5  5  5  5  5\n",
            "  5  5  5  5  5  5  5  5  5  5  5  5  5  5  5  5  4  4  4  4  4  4  4  4\n",
            "  4  4  4  4  4  4  4  4  4  4  4  4  4  4  4  4  4  4  4  4  4  4  4  4\n",
            "  4  4  4  4  4  4  4  4  4  4  4  4  4  4  4  4  4  4  4  4  4  4  4  4\n",
            "  4  4  4  4  4  4  4  4  4  4  4  4  4  4  4  4  4  4  4  4  4  4  4  4\n",
            "  4  4  4  4  4  4  4  4  4  4  4  4  4  4  4  4  4  4  4  4  3  3  3  3\n",
            "  3  3  3  3  3  3  3  3  3  3  3  3  3  3  3  3  3  3  3  3  3  3  3  3\n",
            "  3  3  3  3  3  3  3  3  3  3  3  3  3  3  3  3  3  3  3  3  3  3  3  3\n",
            "  3  3  3  3  3  3  3  3  3  3  3  3  3  3  3  3  3  3  3  3  3  3  3  3\n",
            "  3  3  3  3  3  3  3  3  3  3  3  3  3  3  3  3  3  3  3  3  3  3  3  3\n",
            "  2  2  2  2  2  2  2  2  2  2  2  2  2  2  2  2  2  2  2  2  2  2  2  2\n",
            "  2  2  2  2  2  2  2  2  2  2  2  2  2  2  2  2  2  2  2  2  2  2  2  2\n",
            "  2  2  2  2  2  2  2  2  2  2  2  2  2  2  2  2  2  2  2  2  2  2  2  2\n",
            "  2  2  2  2  2  2  2  2  2  2  2  2  2  2  2  2  2  2  2  2  2  2  2  2\n",
            "  2  2  2  2 10 10 10 10 10 10 10 10 10 10 10 10 10 10 10 10 10 10 10 10\n",
            " 10 10 10 10 10 10 10 10 10 10 10 10 10 10 10 10 10 10 10 10 10 10 10 10\n",
            " 10 10 10 10 10 10 10 10 10 10 10 10 10 10 10 10 10 10 10 10 10 10 10 10\n",
            " 10 10 10 10 10 10 10 10 10 10 10 10 10 10 10 10 10 10 10 10 10 10 10 10\n",
            " 10 10 10 10 10 10 10 10  8  8  8  8  8  8  8  8  8  8  8  8  8  8  8  8\n",
            "  8  8  8  8  8  8  8  8  8  8  8  8  8  8  8  8  8  8  8  8  8  8  8  8\n",
            "  8  8  8  8  8  8  8  8  8  8  8  8  8  8  8  8  8  8  8  8  8  8  8  8\n",
            "  8  8  8  8  8  8  8  8  8  8  8  8  8  8  8  8  8  8  8  8  8  8  8  8\n",
            "  8  8  8  8  8  8  8  8  8  8  8  8  6  6  6  6  6  6  6  6  6  6  6  6\n",
            "  6  6  6  6  6  6  6  6  6  6  6  6  6  6  6  6  6  6  6  6  6  6  6  6\n",
            "  6  6  6  6  6  6  6  6  6  6  6  6  6  6  6  6  6  6  6  6  6  6  6  6\n",
            "  6  6  6  6  6  6  6  6  6  6  6  6  6  6  6  6  6  6  6  6  6  6  6  6\n",
            "  6  6  6  6  6  6  6  6  6  6  6  6  6  6  6  6]\n",
            "26 0\n",
            "\n",
            "x_train: \n",
            "[[18  5 22 ...  0  0  0]\n",
            " [ 1 14 20 ...  0  0  0]\n",
            " [21  7 12 ...  0  0  0]\n",
            " ...\n",
            " [16 18 15 ...  0  0  0]\n",
            " [16 12 21 ...  0  0  0]\n",
            " [ 4  5 18 ...  0  0  0]]\n",
            "\n",
            "y_train: \n",
            "[ 8  5  8  9  9  6  9  7  3  5  1  2  8  8  5 10  8  4  5  1  2  3  8  5\n",
            "  5  4  6  7  5  9  7  3  6  3  5  9  8 10  2  7  2  6  7  3  2  3  3  9\n",
            "  8 10 10  8  1  4  3  5  4  3  8  2  7  4 10  5  9  1  8 10  2 10  3  7\n",
            "  9 10  6  2  6  5  8  8  8  3  4  4  2  7 10  8  8  3  3  5  3  9  6  9\n",
            "  8  2  1  6 10  1  1  8  8  3  4  1  1  2  4 10  2  1  2  6  5 10  9  4\n",
            "  4 10  1  8  3  7  9 10  1  4  2  1  3  5  2  1  4  2  9  2  8  6  9  3\n",
            "  3  4 10  4 10  5  2  1  4  6  8 10  1  6  2  9  9 10  3  8  4  6  4 10\n",
            "  5  5  7  9  3  2  8  2  6  6  9  4  5  3  5  5  1  6  3  4  8  6  6  5\n",
            "  8  1  3  1  4  5  8  2  3  4  5  2  9  3  2  4  4 10  2  2  7  1  7  6\n",
            "  8  2  9  6  7  1  8  3  8 10 10 10  2  2  6  8  9  7  5  3  2  8  6  6\n",
            "  4  3  6 10  1  7  5  8  6  1  8  8  4  5  2  7 10  7  1 10 10  8  6  7\n",
            "  1  3  8  7  5 10  1  3  7  6  4  2  6  4  9 10  2  4  6  4  5  7 10 10\n",
            "  4  3  4  7  3  1  1 10 10  7  1  1  1  9  3  2  9 10 10  4  6  1  4  8\n",
            "  9  1  4  5  7  5  1 10 10  2  6  1  3  1  2  5  6  7  4  2  9  3  8  5\n",
            " 10  4  3  4  4  8  8  5  2  6  9  7  9  9  7  8  3  6  7  6  4  6  7  6\n",
            "  5  7 10  9  9  7  8  6  9  7  1  6  7  7 10  9  5  4  8  6  1  1  6  2\n",
            " 10 10  5  5  9  8  9  4  2  6  7  1  5  5  4  1  7  8  2  9  5  1  8  1\n",
            "  2  5  3  3  6  9  9 10  6  9  6  9  3  1  3  3  6  4  9  8  6  3  5  5\n",
            "  9  5  8  6  6  9  2  7  4  7  3  2  6  2  3  4  7  8  3  3  7  7 10 10\n",
            "  6  7  7  1  9  2  1  6 10  9  5  9  9  1  1  5  2  7  1 10  3 10  5  2\n",
            "  8  7  5  8  1  1  9  5  2  8]\n"
          ],
          "name": "stdout"
        }
      ]
    },
    {
      "cell_type": "markdown",
      "metadata": {
        "id": "LQEwk09b4PD_"
      },
      "source": [
        "---\n",
        "# **4. Build model**\n",
        "---"
      ]
    },
    {
      "cell_type": "code",
      "metadata": {
        "id": "tD18U_yE4SOA"
      },
      "source": [
        "def build_model(vocab_size, embedding_dim=64, input_length=30):\n",
        "    print('\\nbuilding the model...\\n')\n",
        "\n",
        "    model = tf.keras.Sequential([\n",
        "        tf.keras.layers.Embedding(input_dim=(vocab_size + 1), output_dim=embedding_dim, input_length=input_length),\n",
        "        \n",
        "        tf.keras.layers.Bidirectional(tf.keras.layers.LSTM(rnn_units,return_sequences=True, dropout=0.2)),\n",
        "        tf.keras.layers.Bidirectional(tf.keras.layers.LSTM(rnn_units,return_sequences=True, dropout=0.2)),\n",
        "        tf.keras.layers.GlobalMaxPool1D(),\n",
        "        tf.keras.layers.Dropout(0.1),\n",
        "        tf.keras.layers.Dense(64, activation='tanh'),\n",
        "        \n",
        "        # softmax output layer\n",
        "        tf.keras.layers.Dense(11, activation='softmax')\n",
        "    ])\n",
        "\n",
        "    # optimizer & loss\n",
        "    opt = 'RMSprop' #tf.optimizers.Adam(learning_rate=1e-4)\n",
        "    loss = 'categorical_crossentropy'\n",
        "\n",
        "    # Metrics\n",
        "    # AUC: Computes the approximate AUC (Area Under the Curve) via a Riemann sum.\n",
        "    # Precision: Computes the precision of the predictions with respect to the labels.\n",
        "    # Recall: Computes the recall of the predictions with respect to the labels.\n",
        "    metrics = ['accuracy', 'AUC','Precision', 'Recall']\n",
        "\n",
        "    # compile model\n",
        "    model.compile(optimizer=opt,\n",
        "                  loss=loss,\n",
        "                  metrics=metrics)\n",
        "    \n",
        "    model.summary()\n",
        "\n",
        "    return model"
      ],
      "execution_count": 21,
      "outputs": []
    },
    {
      "cell_type": "markdown",
      "metadata": {
        "id": "Zf048l554Uug"
      },
      "source": [
        "---\n",
        "# **6. Train model** \n",
        "---"
      ]
    },
    {
      "cell_type": "code",
      "metadata": {
        "id": "c-pVOZYb4T3T"
      },
      "source": [
        "def train(model, x_train, y_train, x_validation, y_validation,\n",
        "          epochs, batch_size=32, patience=5, \n",
        "          verbose=2, monitor_es='accuracy', mode_es='auto', restore=True,\n",
        "          monitor_mc='val_accuracy', mode_mc='max'):\n",
        "    \n",
        "    print('\\ntraining...\\n')\n",
        "\n",
        "    # callback\n",
        "    early_stopping = tf.keras.callbacks.EarlyStopping(monitor=monitor_es,\n",
        "                                                      verbose=1, mode=mode_es, restore_best_weights=restore,\n",
        "                                                      min_delta=1e-3, patience=patience)\n",
        "    \n",
        "    model_checkpoint = tf.keras.callbacks.ModelCheckpoint('tfjsmode.h5', monitor=monitor_mc, mode=mode_mc,      \n",
        "                                                          verbose=1, save_best_only=True)\n",
        "\n",
        "    # train model\n",
        "    history = model.fit(x_train, y_train,\n",
        "                        batch_size=batch_size, epochs=epochs, verbose=verbose,\n",
        "                        validation_data=(x_validation, y_validation),\n",
        "                        callbacks=[early_stopping, model_checkpoint])\n",
        "    return history"
      ],
      "execution_count": 22,
      "outputs": []
    },
    {
      "cell_type": "markdown",
      "metadata": {
        "id": "gy3DyM-b4XPg"
      },
      "source": [
        "---\n",
        "# **7. Plotting history**\n",
        "---"
      ]
    },
    {
      "cell_type": "code",
      "metadata": {
        "id": "ssFJ3CIe4YPn"
      },
      "source": [
        "def plot_history_(history):\n",
        "    fitModel_dict = history.history\n",
        "    acc = fitModel_dict['accuracy']\n",
        "    val_acc = fitModel_dict['val_accuracy']\n",
        "    epochs = range(1, len(acc) + 1)\n",
        "    \n",
        "    plt.figure(figsize=(10, 6))\n",
        "    plt.plot(epochs, acc, 'bo', label = 'Training acc')\n",
        "    plt.plot(epochs, val_acc, 'b', label = 'Validation acc')\n",
        "    plt.title('Training and validation accuracy')\n",
        "    plt.xlabel('Epochs')\n",
        "    plt.ylabel('Accuracy')\n",
        "    plt.legend(loc = 'lower right')\n",
        "    plt.ylim((0.5, 1))\n",
        "\n",
        "    plt.show()\n",
        "\n",
        "def plot_history(history, string):\n",
        "    fitModel_dict = history.history\n",
        "\n",
        "    plt.figure(figsize=(10, 6))\n",
        "    plt.plot(fitModel_dict[string])\n",
        "    plt.plot(fitModel_dict['val_' + string])\n",
        "    plt.xlabel('Epochs')\n",
        "    plt.ylabel(string)\n",
        "    plt.legend([string, 'val_' + string])\n",
        "    plt.show()"
      ],
      "execution_count": 23,
      "outputs": []
    },
    {
      "cell_type": "markdown",
      "metadata": {
        "id": "oScqNNBXsL7Y"
      },
      "source": [
        "---\n",
        "# **8. Prediction**\n",
        "---"
      ]
    },
    {
      "cell_type": "code",
      "metadata": {
        "id": "ekhWVsv7sK7z"
      },
      "source": [
        "def predict(d : dict, s : str, model):\n",
        "    token = preprocess(s)\n",
        "    output = model.predict(np.array([token]))\n",
        "    id = int(tf.keras.backend.argmax(output))\n",
        "    print(output)\n",
        "\n",
        "    for k, v in d.items():\n",
        "        if v == id:\n",
        "            return k\n",
        "            \n",
        "    return 'unclassified'"
      ],
      "execution_count": 24,
      "outputs": []
    },
    {
      "cell_type": "markdown",
      "metadata": {
        "id": "9FN5osTo4aC4"
      },
      "source": [
        "---\n",
        "# **9. Main**\n",
        "---"
      ]
    },
    {
      "cell_type": "code",
      "metadata": {
        "id": "DAb369Lh4ajo"
      },
      "source": [
        "def main():\n",
        "    # prepare the dataset\n",
        "    (x_train, y_train), (x_validation, y_validation), (x_test, y_test) = prepare_dataset(label_dict)\n",
        "    print(x_train.shape, x_validation.shape, x_test.shape)\n",
        "    print(y_train.shape, y_validation.shape, x_test.shape)\n",
        "    print(y_train)\n",
        "\n",
        "    # build the model\n",
        "    model = build_model()\n",
        "\n",
        "    # train the model\n",
        "    history = train(model=model, x_train=x_train, y_train=to_categorical(y_train),\n",
        "                    x_validation=x_validation, y_validation=to_categorical(y_validation),\n",
        "                    epochs=EPOCHS, verbose=1, monitor='accuracy')\n",
        "\n",
        "    # plot the training\n",
        "    plot_history_(history)\n",
        "\n",
        "    plot_history(history, 'accuracy')\n",
        "\n",
        "    # evaluate the model\n",
        "    test_loss, test_accuracy = model.evaluate(x_test, y_test)\n",
        "    evaluate_lst = list(map(lambda x: x * 100, [test_loss, test_accuracy]))\n",
        "    print('\\nTest:\\nLoss: {}\\nAccuracy: {}').format(evaluate_lst[0], evaluate_lst[1])\n",
        "\n",
        "    # predict\n",
        "    s = 'happy'\n",
        "    pred = predict(label_dict, s, model)\n",
        "    print('Word: {}'.format(s))\n",
        "    print('Prediction: {}'.format(pred))\n",
        "\n",
        "    # save the model\n",
        "    !mkdir models\n",
        "    model.save(MODEL_PATH)\n",
        "\n",
        "    # convert modeljs\n",
        "    tfjs.converters.save_keras_model(model, 'tfjsmodel') "
      ],
      "execution_count": 25,
      "outputs": []
    },
    {
      "cell_type": "markdown",
      "metadata": {
        "id": "02Lry1jA4b4w"
      },
      "source": [
        "---\n",
        "# **10. testing**\n",
        "---"
      ]
    },
    {
      "cell_type": "code",
      "metadata": {
        "id": "j1BALgvxi3_U",
        "outputId": "9ef0869a-f441-4f9c-a07b-1e907737fd80",
        "colab": {
          "base_uri": "https://localhost:8080/"
        }
      },
      "source": [
        "# prepare the dataset\n",
        "(x_train, y_train), (x_validation, y_validation), (x_test, y_test), (x_test_val, y_test_val) = prepare_dataset(label_dict)\n",
        "print(x_train.shape, x_validation.shape, x_test.shape)\n",
        "print(y_train.shape, y_validation.shape, x_test.shape)\n",
        "print(y_train)\n",
        "\n",
        "# build the model\n",
        "model = build_model(vocab_size)"
      ],
      "execution_count": 26,
      "outputs": [
        {
          "output_type": "stream",
          "text": [
            "preparing the dataset...\n",
            "\n",
            "File ‘datasets/categories_dataset_1000.csv’ already there; not retrieving.\n",
            "\n",
            "   Arousal  Compound  Dominance  ... Valence   category          word\n",
            "0     0.55      0.30       0.74  ...    0.89  confident     tolerance\n",
            "1     0.55      0.00       0.74  ...    0.89  confident         carry\n",
            "2     0.55      0.42       0.74  ...    0.89  confident   tranquility\n",
            "3     0.55      0.00       0.74  ...    0.89  confident  socontagious\n",
            "4     0.55      0.00       0.74  ...    0.89  confident          zeal\n",
            "\n",
            "[5 rows x 12 columns]\n",
            "y: [ 1  1  1  1  1  1  1  1  1  1  1  1  1  1  1  1  1  1  1  1  1  1  1  1\n",
            "  1  1  1  1  1  1  1  1  1  1  1  1  1  1  1  1  1  1  1  1  1  1  1  1\n",
            "  1  1  1  1  1  1  1  1  1  1  1  1  1  1  1  1  1  1  1  1  1  1  1  1\n",
            "  1  1  1  1  1  1  1  1  1  1  1  1  1  1  1  1  1  1  1  1  1  1  1  1\n",
            "  1  1  1  1  9  9  9  9  9  9  9  9  9  9  9  9  9  9  9  9  9  9  9  9\n",
            "  9  9  9  9  9  9  9  9  9  9  9  9  9  9  9  9  9  9  9  9  9  9  9  9\n",
            "  9  9  9  9  9  9  9  9  9  9  9  9  9  9  9  9  9  9  9  9  9  9  9  9\n",
            "  9  9  9  9  9  9  9  9  9  9  9  9  9  9  9  9  9  9  9  9  9  9  9  9\n",
            "  9  9  9  9  9  9  9  9  7  7  7  7  7  7  7  7  7  7  7  7  7  7  7  7\n",
            "  7  7  7  7  7  7  7  7  7  7  7  7  7  7  7  7  7  7  7  7  7  7  7  7\n",
            "  7  7  7  7  7  7  7  7  7  7  7  7  7  7  7  7  7  7  7  7  7  7  7  7\n",
            "  7  7  7  7  7  7  7  7  7  7  7  7  7  7  7  7  7  7  7  7  7  7  7  7\n",
            "  7  7  7  7  7  7  7  7  7  7  7  7  5  5  5  5  5  5  5  5  5  5  5  5\n",
            "  5  5  5  5  5  5  5  5  5  5  5  5  5  5  5  5  5  5  5  5  5  5  5  5\n",
            "  5  5  5  5  5  5  5  5  5  5  5  5  5  5  5  5  5  5  5  5  5  5  5  5\n",
            "  5  5  5  5  5  5  5  5  5  5  5  5  5  5  5  5  5  5  5  5  5  5  5  5\n",
            "  5  5  5  5  5  5  5  5  5  5  5  5  5  5  5  5  4  4  4  4  4  4  4  4\n",
            "  4  4  4  4  4  4  4  4  4  4  4  4  4  4  4  4  4  4  4  4  4  4  4  4\n",
            "  4  4  4  4  4  4  4  4  4  4  4  4  4  4  4  4  4  4  4  4  4  4  4  4\n",
            "  4  4  4  4  4  4  4  4  4  4  4  4  4  4  4  4  4  4  4  4  4  4  4  4\n",
            "  4  4  4  4  4  4  4  4  4  4  4  4  4  4  4  4  4  4  4  4  3  3  3  3\n",
            "  3  3  3  3  3  3  3  3  3  3  3  3  3  3  3  3  3  3  3  3  3  3  3  3\n",
            "  3  3  3  3  3  3  3  3  3  3  3  3  3  3  3  3  3  3  3  3  3  3  3  3\n",
            "  3  3  3  3  3  3  3  3  3  3  3  3  3  3  3  3  3  3  3  3  3  3  3  3\n",
            "  3  3  3  3  3  3  3  3  3  3  3  3  3  3  3  3  3  3  3  3  3  3  3  3\n",
            "  2  2  2  2  2  2  2  2  2  2  2  2  2  2  2  2  2  2  2  2  2  2  2  2\n",
            "  2  2  2  2  2  2  2  2  2  2  2  2  2  2  2  2  2  2  2  2  2  2  2  2\n",
            "  2  2  2  2  2  2  2  2  2  2  2  2  2  2  2  2  2  2  2  2  2  2  2  2\n",
            "  2  2  2  2  2  2  2  2  2  2  2  2  2  2  2  2  2  2  2  2  2  2  2  2\n",
            "  2  2  2  2 10 10 10 10 10 10 10 10 10 10 10 10 10 10 10 10 10 10 10 10\n",
            " 10 10 10 10 10 10 10 10 10 10 10 10 10 10 10 10 10 10 10 10 10 10 10 10\n",
            " 10 10 10 10 10 10 10 10 10 10 10 10 10 10 10 10 10 10 10 10 10 10 10 10\n",
            " 10 10 10 10 10 10 10 10 10 10 10 10 10 10 10 10 10 10 10 10 10 10 10 10\n",
            " 10 10 10 10 10 10 10 10  8  8  8  8  8  8  8  8  8  8  8  8  8  8  8  8\n",
            "  8  8  8  8  8  8  8  8  8  8  8  8  8  8  8  8  8  8  8  8  8  8  8  8\n",
            "  8  8  8  8  8  8  8  8  8  8  8  8  8  8  8  8  8  8  8  8  8  8  8  8\n",
            "  8  8  8  8  8  8  8  8  8  8  8  8  8  8  8  8  8  8  8  8  8  8  8  8\n",
            "  8  8  8  8  8  8  8  8  8  8  8  8  6  6  6  6  6  6  6  6  6  6  6  6\n",
            "  6  6  6  6  6  6  6  6  6  6  6  6  6  6  6  6  6  6  6  6  6  6  6  6\n",
            "  6  6  6  6  6  6  6  6  6  6  6  6  6  6  6  6  6  6  6  6  6  6  6  6\n",
            "  6  6  6  6  6  6  6  6  6  6  6  6  6  6  6  6  6  6  6  6  6  6  6  6\n",
            "  6  6  6  6  6  6  6  6  6  6  6  6  6  6  6  6]\n",
            "26 0\n",
            "\n",
            "x_train: \n",
            "[[ 2 12  9 ...  0  0  0]\n",
            " [11 14 15 ...  0  0  0]\n",
            " [18  9  2 ...  0  0  0]\n",
            " ...\n",
            " [ 1 12 20 ...  0  0  0]\n",
            " [ 3  8  1 ...  0  0  0]\n",
            " [12  5  9 ...  0  0  0]]\n",
            "\n",
            "y_train: \n",
            "[ 8  1  1  7  1  9  4  3  8  4  6  6  5  6  8  8  5  6  4  1  9  9  3  3\n",
            "  9  3  9  7  2  7  6  2  8  9  3  5  9  2  2  9  3  9  4  7  3  6 10  9\n",
            " 10  6  2  8  3  1  9  2  4  9  1  4  4  3  3  3  9 10  3 10 10  6  5  1\n",
            "  9  3  9  7  2  9  6 10  7  1  6  9  5  3  1  1  6  5  7  7  6  4  2  4\n",
            "  4  5 10  9  8  1  8  9 10  1  3  2  7  3  6  2 10  5  4  7  6  1  3  9\n",
            "  6 10  1  4  9  9  4 10  9  8  9  7  7  2  2  9  2  2  1  3  7  3  6 10\n",
            "  7  1  7 10  3  6  1  8  3  4  6 10  8  2  4 10  6 10 10  9  2  5  5  6\n",
            "  9  6  5  9  8  8  3 10  9  6 10  5 10  4  9  6  4  3  2  4  3  4  3  2\n",
            "  5  1 10  5  2  7  9  7  6  3  4  1  2  2  8  1  8 10  1  7  8  4  5  8\n",
            "  6  3  2  6  6  2  3  7  3  9  1 10  3  7  6  9  3  6  9  5  9  3  4  4\n",
            "  1  7  1  7  4  3  4  5  7  4  8  5  5  7  7 10  4  4  4  4  6  5  5 10\n",
            "  5  1  4  6  4  7  4  8  4  2  5  3  1 10  5  6  2  2  4  1  2  5  2  4\n",
            " 10  7  2  3 10  9  9 10  7  1  8  7  8  8  8  8  7  5  8  9  3  4  9  9\n",
            "  4  9  1 10  5  1  3  2  3  6  8  4  1 10 10  4 10  1  9  1 10  9  6  9\n",
            "  1  6  1  3 10  5  1  2  3  6  2  5  8  1 10  7  3  5  6  2  7  8  3  2\n",
            "  6  4  8  7  1  2  2  4  6  2  9  1  4  8  7  1  5  8 10  3  5  6 10  4\n",
            "  7  8  7 10  2  1  8  4  3  9  2  1  2  7 10  4  4  2  6  9  6  2  7  4\n",
            "  8  5  1  5  1  5  9  3  8  4  5  6  5  3  4  5  1  7  4 10  8  4  5  1\n",
            "  8  1  1  8 10  4  6 10  7  4  8  3  8  5  3  6  4  4  8  9  7  1  2  5\n",
            " 10  8  1  7  7  1  2  2 10  6  7 10  8  4  6  5  8  9  9  5 10  9  9  6\n",
            "  4  8  6  9 10  6  3  4 10  7]\n",
            "(700, 30) (210, 30) (300, 30)\n",
            "(700,) (210,) (300, 30)\n",
            "[ 9  2  4 10  9  5 10  3  9  1  4  2 10  2  9  2  8  8  9  9  9  9  6  3\n",
            "  6  4  7  3  2  1  9  3  4 10  1  1  9  4  8  2  9 10 10  6  2  1  2  1\n",
            "  1  6  5  6  9  4  4  8  4  9  8  4  7  3  6  2 10  7  1  3  7  8  1  8\n",
            " 10  3  4  3  5 10  1  7  5  7  5  2  9 10  5  5  6  9  1  7  6  6  6  3\n",
            "  4  8  5  4  9  5  3  6  3  8  6  6  7  8  5  4  1  4  8  9  4  2  6  4\n",
            "  7  6  1  1  7  4  8  3 10 10  1  3  9  5  4  7  3  5  5  2  2  3 10  8\n",
            "  7  5 10  8  2  8  7  2  8  6  1  9  7  1 10  7  5  1 10  2  1  3  2  4\n",
            "  3  4  3  6  4  7  8  6  6  5  4  5  9  6  3 10  2 10  8  9  1  5  1  9\n",
            "  5  8  3  6  6  2  2  2  4  2  6  4  5  6  1 10  4  3  4  4  1  6  6  2\n",
            "  8  1  1  6 10  4  5  8  1  6  6  4  9  4  5  4  6  4  8  7  2  9  5  9\n",
            "  7  1  8  6  7 10  9  5  2  9  4  6  1  2  6  5  2  6  7  1  2  9  3  4\n",
            "  1 10  3  8  3  9  2 10 10 10  1 10  7  1  7  7  5  6 10  4  8  1  4  3\n",
            " 10 10  6  9  4  8  7  3  4 10  7  8  6  4  5  1  3  1  9  5 10  5 10  6\n",
            "  4  1  7  3  6  9  1  2  7  5  2  6 10  9  9  9  4 10  4 10  8  2  1  9\n",
            "  8  4  6  5 10  2  1  8  7  7  8  7  2  4 10  4  7  2  9  5  6  5  3  9\n",
            "  4  4  9  2  3  7  9  2  5  4  6  9  1  1  4  9  7  6  5  9  4  3  8 10\n",
            "  9  6  8  8  1  5  3  4  8  4  6  4  4  8  1  1  5  9  6  5  8  2  9  7\n",
            "  9  6  8 10  4  5  5  3  3  8 10  7  8  7  9  4 10  2  9  4  4  8  3  6\n",
            "  3 10  5  9  7  3  3  9 10  3  5 10  6  2  7  8  5  3 10  9  1  5  7  5\n",
            " 10  5  7  3 10  1  1  8  6  7  3  9 10  7 10  7  5  4  6  8  7 10  9  2\n",
            "  7  3  9  6  2  6  3 10  9  3  9  8  7  4  1  7 10  7  7  6  3  6  5  5\n",
            "  8  9  5  9  2  2  4  6  5  1  5  2  4  3  6 10  2  3 10  3  6  9  6  7\n",
            "  7  8  1  6  1  7  7  4  7  1  3  1  2  7  4  1  1  8  4  6  5  9  6  3\n",
            "  2  9  8  9  4  6  4  3  8 10 10  2  8  6  6  3  7  3  9  3  5  4  3  7\n",
            " 10 10  2  8  8  3  9  1  7  4  8  2  4  4  4  8  5 10  9 10 10  6  8  6\n",
            "  1 10  8  5  6 10  4  9  3  8  1  7  6 10  7 10  5  2  1 10  8  2  8  6\n",
            "  5  6  2  8 10 10  7  9  9  8  8  4  1  9  7  5  4  2  4  3  1  4  2 10\n",
            " 10  1  1  3 10  7  6  2  8  1  4 10  1  5  9  6  1  6  5  5  6  1  8  2\n",
            " 10  7  2  9 10 10  5  1  2  6  6  8  9  8  2  8  2  6  2  7  1  7  2  7\n",
            "  4  8  7  6]\n",
            "\n",
            "building the model...\n",
            "\n",
            "Model: \"sequential\"\n",
            "_________________________________________________________________\n",
            "Layer (type)                 Output Shape              Param #   \n",
            "=================================================================\n",
            "embedding (Embedding)        (None, 30, 64)            320064    \n",
            "_________________________________________________________________\n",
            "bidirectional (Bidirectional (None, 30, 128)           66048     \n",
            "_________________________________________________________________\n",
            "bidirectional_1 (Bidirection (None, 30, 128)           98816     \n",
            "_________________________________________________________________\n",
            "global_max_pooling1d (Global (None, 128)               0         \n",
            "_________________________________________________________________\n",
            "dropout (Dropout)            (None, 128)               0         \n",
            "_________________________________________________________________\n",
            "dense (Dense)                (None, 64)                8256      \n",
            "_________________________________________________________________\n",
            "dense_1 (Dense)              (None, 11)                715       \n",
            "=================================================================\n",
            "Total params: 493,899\n",
            "Trainable params: 493,899\n",
            "Non-trainable params: 0\n",
            "_________________________________________________________________\n"
          ],
          "name": "stdout"
        }
      ]
    },
    {
      "cell_type": "code",
      "metadata": {
        "id": "XS_cMXislcAr",
        "outputId": "e49b823d-b60f-48a0-9936-e4ecda05a738",
        "colab": {
          "base_uri": "https://localhost:8080/"
        }
      },
      "source": [
        "# train the model\n",
        "history = train(model=model, x_train=x_train, y_train=to_categorical(y_train), batch_size=BATCH_SIZE,\n",
        "                x_validation=x_validation, y_validation=to_categorical(y_validation),\n",
        "                epochs=EPOCHS, verbose=1, monitor_es='val_loss', mode_es='min', restore=False)"
      ],
      "execution_count": 27,
      "outputs": [
        {
          "output_type": "stream",
          "text": [
            "\n",
            "training...\n",
            "\n",
            "Epoch 1/100\n",
            "21/22 [===========================>..] - ETA: 0s - loss: 2.3617 - accuracy: 0.0938 - auc: 0.5464 - precision: 0.0000e+00 - recall: 0.0000e+00\n",
            "Epoch 00001: val_accuracy improved from -inf to 0.09524, saving model to tfjsmode.h5\n",
            "22/22 [==============================] - 2s 84ms/step - loss: 2.3603 - accuracy: 0.0971 - auc: 0.5467 - precision: 0.0000e+00 - recall: 0.0000e+00 - val_loss: 2.3120 - val_accuracy: 0.0952 - val_auc: 0.5963 - val_precision: 0.0000e+00 - val_recall: 0.0000e+00\n",
            "Epoch 2/100\n",
            "19/22 [========================>.....] - ETA: 0s - loss: 2.3208 - accuracy: 0.1118 - auc: 0.5681 - precision: 0.0000e+00 - recall: 0.0000e+00\n",
            "Epoch 00002: val_accuracy did not improve from 0.09524\n",
            "22/22 [==============================] - 0s 18ms/step - loss: 2.3119 - accuracy: 0.1200 - auc: 0.5766 - precision: 0.0000e+00 - recall: 0.0000e+00 - val_loss: 2.2972 - val_accuracy: 0.0952 - val_auc: 0.6299 - val_precision: 0.0000e+00 - val_recall: 0.0000e+00\n",
            "Epoch 3/100\n",
            "19/22 [========================>.....] - ETA: 0s - loss: 2.1955 - accuracy: 0.1678 - auc: 0.6717 - precision: 0.0000e+00 - recall: 0.0000e+00\n",
            "Epoch 00003: val_accuracy improved from 0.09524 to 0.21905, saving model to tfjsmode.h5\n",
            "22/22 [==============================] - 0s 20ms/step - loss: 2.1928 - accuracy: 0.1714 - auc: 0.6740 - precision: 0.0000e+00 - recall: 0.0000e+00 - val_loss: 2.0970 - val_accuracy: 0.2190 - val_auc: 0.7169 - val_precision: 0.0000e+00 - val_recall: 0.0000e+00\n",
            "Epoch 4/100\n",
            "20/22 [==========================>...] - ETA: 0s - loss: 2.0899 - accuracy: 0.1828 - auc: 0.7165 - precision: 0.0000e+00 - recall: 0.0000e+00\n",
            "Epoch 00004: val_accuracy did not improve from 0.21905\n",
            "22/22 [==============================] - 0s 18ms/step - loss: 2.0819 - accuracy: 0.1829 - auc: 0.7207 - precision: 0.0000e+00 - recall: 0.0000e+00 - val_loss: 2.0485 - val_accuracy: 0.1810 - val_auc: 0.7319 - val_precision: 0.0000e+00 - val_recall: 0.0000e+00\n",
            "Epoch 5/100\n",
            "20/22 [==========================>...] - ETA: 0s - loss: 2.0268 - accuracy: 0.2031 - auc: 0.7381 - precision: 0.0000e+00 - recall: 0.0000e+00\n",
            "Epoch 00005: val_accuracy improved from 0.21905 to 0.24762, saving model to tfjsmode.h5\n",
            "22/22 [==============================] - 0s 20ms/step - loss: 2.0337 - accuracy: 0.2014 - auc: 0.7369 - precision: 0.0000e+00 - recall: 0.0000e+00 - val_loss: 2.0213 - val_accuracy: 0.2476 - val_auc: 0.7426 - val_precision: 0.0000e+00 - val_recall: 0.0000e+00\n",
            "Epoch 6/100\n",
            "22/22 [==============================] - ETA: 0s - loss: 1.9945 - accuracy: 0.2171 - auc: 0.7492 - precision: 0.2727 - recall: 0.0086\n",
            "Epoch 00006: val_accuracy did not improve from 0.24762\n",
            "22/22 [==============================] - 0s 19ms/step - loss: 1.9945 - accuracy: 0.2171 - auc: 0.7492 - precision: 0.2727 - recall: 0.0086 - val_loss: 2.0080 - val_accuracy: 0.1905 - val_auc: 0.7483 - val_precision: 0.0000e+00 - val_recall: 0.0000e+00\n",
            "Epoch 7/100\n",
            "20/22 [==========================>...] - ETA: 0s - loss: 1.9574 - accuracy: 0.2188 - auc: 0.7649 - precision: 0.4000 - recall: 0.0094\n",
            "Epoch 00007: val_accuracy improved from 0.24762 to 0.27143, saving model to tfjsmode.h5\n",
            "22/22 [==============================] - 0s 19ms/step - loss: 1.9583 - accuracy: 0.2114 - auc: 0.7648 - precision: 0.3158 - recall: 0.0086 - val_loss: 1.9421 - val_accuracy: 0.2714 - val_auc: 0.7806 - val_precision: 0.0000e+00 - val_recall: 0.0000e+00\n",
            "Epoch 8/100\n",
            "20/22 [==========================>...] - ETA: 0s - loss: 1.9335 - accuracy: 0.2172 - auc: 0.7706 - precision: 0.5556 - recall: 0.0078\n",
            "Epoch 00008: val_accuracy did not improve from 0.27143\n",
            "22/22 [==============================] - 0s 19ms/step - loss: 1.9284 - accuracy: 0.2157 - auc: 0.7737 - precision: 0.6000 - recall: 0.0086 - val_loss: 1.9283 - val_accuracy: 0.2286 - val_auc: 0.7836 - val_precision: 1.0000 - val_recall: 0.0048\n",
            "Epoch 9/100\n",
            "20/22 [==========================>...] - ETA: 0s - loss: 1.9085 - accuracy: 0.2516 - auc: 0.7866 - precision: 0.3200 - recall: 0.0125\n",
            "Epoch 00009: val_accuracy did not improve from 0.27143\n",
            "22/22 [==============================] - 0s 18ms/step - loss: 1.9043 - accuracy: 0.2586 - auc: 0.7877 - precision: 0.3200 - recall: 0.0114 - val_loss: 1.9338 - val_accuracy: 0.2524 - val_auc: 0.7867 - val_precision: 0.5714 - val_recall: 0.0190\n",
            "Epoch 10/100\n",
            "21/22 [===========================>..] - ETA: 0s - loss: 1.8709 - accuracy: 0.2560 - auc: 0.7995 - precision: 0.3636 - recall: 0.0119\n",
            "Epoch 00010: val_accuracy improved from 0.27143 to 0.30000, saving model to tfjsmode.h5\n",
            "22/22 [==============================] - 0s 19ms/step - loss: 1.8762 - accuracy: 0.2529 - auc: 0.7981 - precision: 0.3077 - recall: 0.0114 - val_loss: 1.8466 - val_accuracy: 0.3000 - val_auc: 0.8082 - val_precision: 0.0000e+00 - val_recall: 0.0000e+00\n",
            "Epoch 11/100\n",
            "21/22 [===========================>..] - ETA: 0s - loss: 1.8594 - accuracy: 0.2649 - auc: 0.8031 - precision: 0.3793 - recall: 0.0164\n",
            "Epoch 00011: val_accuracy did not improve from 0.30000\n",
            "22/22 [==============================] - 0s 18ms/step - loss: 1.8622 - accuracy: 0.2614 - auc: 0.8022 - precision: 0.3611 - recall: 0.0186 - val_loss: 1.8206 - val_accuracy: 0.2810 - val_auc: 0.8136 - val_precision: 0.0000e+00 - val_recall: 0.0000e+00\n",
            "Epoch 12/100\n",
            "21/22 [===========================>..] - ETA: 0s - loss: 1.8068 - accuracy: 0.2917 - auc: 0.8172 - precision: 0.5500 - recall: 0.0164\n",
            "Epoch 00012: val_accuracy improved from 0.30000 to 0.31905, saving model to tfjsmode.h5\n",
            "22/22 [==============================] - 0s 19ms/step - loss: 1.8099 - accuracy: 0.2943 - auc: 0.8163 - precision: 0.5500 - recall: 0.0157 - val_loss: 1.7354 - val_accuracy: 0.3190 - val_auc: 0.8405 - val_precision: 0.0000e+00 - val_recall: 0.0000e+00\n",
            "Epoch 13/100\n",
            "20/22 [==========================>...] - ETA: 0s - loss: 1.7903 - accuracy: 0.2703 - auc: 0.8204 - precision: 0.5000 - recall: 0.0359\n",
            "Epoch 00013: val_accuracy did not improve from 0.31905\n",
            "22/22 [==============================] - 0s 18ms/step - loss: 1.7850 - accuracy: 0.2786 - auc: 0.8216 - precision: 0.5098 - recall: 0.0371 - val_loss: 1.7154 - val_accuracy: 0.3095 - val_auc: 0.8421 - val_precision: 0.5294 - val_recall: 0.0857\n",
            "Epoch 14/100\n",
            "22/22 [==============================] - ETA: 0s - loss: 1.7209 - accuracy: 0.3186 - auc: 0.8393 - precision: 0.4500 - recall: 0.0257\n",
            "Epoch 00014: val_accuracy did not improve from 0.31905\n",
            "22/22 [==============================] - 0s 19ms/step - loss: 1.7209 - accuracy: 0.3186 - auc: 0.8393 - precision: 0.4500 - recall: 0.0257 - val_loss: 1.6556 - val_accuracy: 0.3190 - val_auc: 0.8547 - val_precision: 0.7333 - val_recall: 0.0524\n",
            "Epoch 15/100\n",
            "20/22 [==========================>...] - ETA: 0s - loss: 1.7150 - accuracy: 0.3031 - auc: 0.8395 - precision: 0.3750 - recall: 0.0141\n",
            "Epoch 00015: val_accuracy did not improve from 0.31905\n",
            "22/22 [==============================] - 0s 18ms/step - loss: 1.7041 - accuracy: 0.3000 - auc: 0.8424 - precision: 0.3929 - recall: 0.0157 - val_loss: 1.6728 - val_accuracy: 0.3143 - val_auc: 0.8482 - val_precision: 0.7500 - val_recall: 0.0286\n",
            "Epoch 16/100\n",
            "20/22 [==========================>...] - ETA: 0s - loss: 1.7053 - accuracy: 0.3203 - auc: 0.8411 - precision: 0.3200 - recall: 0.0125\n",
            "Epoch 00016: val_accuracy improved from 0.31905 to 0.35238, saving model to tfjsmode.h5\n",
            "22/22 [==============================] - 0s 20ms/step - loss: 1.6879 - accuracy: 0.3257 - auc: 0.8449 - precision: 0.4474 - recall: 0.0243 - val_loss: 1.6977 - val_accuracy: 0.3524 - val_auc: 0.8440 - val_precision: 0.5000 - val_recall: 0.0619\n",
            "Epoch 17/100\n",
            "21/22 [===========================>..] - ETA: 0s - loss: 1.6754 - accuracy: 0.3199 - auc: 0.8471 - precision: 0.5231 - recall: 0.0506\n",
            "Epoch 00017: val_accuracy did not improve from 0.35238\n",
            "22/22 [==============================] - 0s 17ms/step - loss: 1.6727 - accuracy: 0.3200 - auc: 0.8478 - precision: 0.5231 - recall: 0.0486 - val_loss: 1.6245 - val_accuracy: 0.3429 - val_auc: 0.8583 - val_precision: 0.5000 - val_recall: 0.0048\n",
            "Epoch 18/100\n",
            "21/22 [===========================>..] - ETA: 0s - loss: 1.6420 - accuracy: 0.3333 - auc: 0.8554 - precision: 0.5075 - recall: 0.0506\n",
            "Epoch 00018: val_accuracy did not improve from 0.35238\n",
            "22/22 [==============================] - 0s 18ms/step - loss: 1.6413 - accuracy: 0.3300 - auc: 0.8555 - precision: 0.5070 - recall: 0.0514 - val_loss: 1.6437 - val_accuracy: 0.3524 - val_auc: 0.8503 - val_precision: 0.5000 - val_recall: 0.0762\n",
            "Epoch 19/100\n",
            "21/22 [===========================>..] - ETA: 0s - loss: 1.6275 - accuracy: 0.3452 - auc: 0.8568 - precision: 0.5632 - recall: 0.0729\n",
            "Epoch 00019: val_accuracy improved from 0.35238 to 0.35714, saving model to tfjsmode.h5\n",
            "22/22 [==============================] - 0s 20ms/step - loss: 1.6329 - accuracy: 0.3443 - auc: 0.8562 - precision: 0.5543 - recall: 0.0729 - val_loss: 1.6066 - val_accuracy: 0.3571 - val_auc: 0.8627 - val_precision: 0.5833 - val_recall: 0.0667\n",
            "Epoch 20/100\n",
            "20/22 [==========================>...] - ETA: 0s - loss: 1.6257 - accuracy: 0.3172 - auc: 0.8578 - precision: 0.4681 - recall: 0.0688\n",
            "Epoch 00020: val_accuracy did not improve from 0.35714\n",
            "22/22 [==============================] - 0s 19ms/step - loss: 1.6132 - accuracy: 0.3186 - auc: 0.8602 - precision: 0.5000 - recall: 0.0729 - val_loss: 1.6075 - val_accuracy: 0.3524 - val_auc: 0.8602 - val_precision: 0.5400 - val_recall: 0.1286\n",
            "Epoch 21/100\n",
            "19/22 [========================>.....] - ETA: 0s - loss: 1.6295 - accuracy: 0.3372 - auc: 0.8552 - precision: 0.5321 - recall: 0.0954\n",
            "Epoch 00021: val_accuracy did not improve from 0.35714\n",
            "22/22 [==============================] - 0s 19ms/step - loss: 1.6264 - accuracy: 0.3371 - auc: 0.8559 - precision: 0.5118 - recall: 0.0929 - val_loss: 1.6225 - val_accuracy: 0.3524 - val_auc: 0.8592 - val_precision: 0.3684 - val_recall: 0.0333\n",
            "Epoch 22/100\n",
            "21/22 [===========================>..] - ETA: 0s - loss: 1.6221 - accuracy: 0.3408 - auc: 0.8588 - precision: 0.4953 - recall: 0.0789\n",
            "Epoch 00022: val_accuracy improved from 0.35714 to 0.37143, saving model to tfjsmode.h5\n",
            "22/22 [==============================] - 0s 20ms/step - loss: 1.6176 - accuracy: 0.3414 - auc: 0.8598 - precision: 0.4865 - recall: 0.0771 - val_loss: 1.5620 - val_accuracy: 0.3714 - val_auc: 0.8712 - val_precision: 0.6250 - val_recall: 0.0714\n",
            "Epoch 23/100\n",
            "20/22 [==========================>...] - ETA: 0s - loss: 1.6010 - accuracy: 0.3578 - auc: 0.8618 - precision: 0.5253 - recall: 0.0812\n",
            "Epoch 00023: val_accuracy improved from 0.37143 to 0.38095, saving model to tfjsmode.h5\n",
            "22/22 [==============================] - 0s 20ms/step - loss: 1.6013 - accuracy: 0.3529 - auc: 0.8622 - precision: 0.5045 - recall: 0.0800 - val_loss: 1.5820 - val_accuracy: 0.3810 - val_auc: 0.8665 - val_precision: 0.5000 - val_recall: 0.1286\n",
            "Epoch 24/100\n",
            "22/22 [==============================] - ETA: 0s - loss: 1.5799 - accuracy: 0.3529 - auc: 0.8671 - precision: 0.5547 - recall: 0.1086\n",
            "Epoch 00024: val_accuracy did not improve from 0.38095\n",
            "22/22 [==============================] - 0s 19ms/step - loss: 1.5799 - accuracy: 0.3529 - auc: 0.8671 - precision: 0.5547 - recall: 0.1086 - val_loss: 1.5941 - val_accuracy: 0.3524 - val_auc: 0.8655 - val_precision: 0.5128 - val_recall: 0.0952\n",
            "Epoch 25/100\n",
            "21/22 [===========================>..] - ETA: 0s - loss: 1.5932 - accuracy: 0.3482 - auc: 0.8646 - precision: 0.5034 - recall: 0.1116\n",
            "Epoch 00025: val_accuracy did not improve from 0.38095\n",
            "22/22 [==============================] - 0s 19ms/step - loss: 1.6081 - accuracy: 0.3471 - auc: 0.8616 - precision: 0.5032 - recall: 0.1114 - val_loss: 1.5658 - val_accuracy: 0.3571 - val_auc: 0.8721 - val_precision: 0.6129 - val_recall: 0.0905\n",
            "Epoch 26/100\n",
            "21/22 [===========================>..] - ETA: 0s - loss: 1.5732 - accuracy: 0.3631 - auc: 0.8681 - precision: 0.5868 - recall: 0.1057\n",
            "Epoch 00026: val_accuracy did not improve from 0.38095\n",
            "22/22 [==============================] - 0s 19ms/step - loss: 1.5720 - accuracy: 0.3629 - auc: 0.8686 - precision: 0.5748 - recall: 0.1043 - val_loss: 1.5889 - val_accuracy: 0.3762 - val_auc: 0.8656 - val_precision: 0.5172 - val_recall: 0.0714\n",
            "Epoch 27/100\n",
            "19/22 [========================>.....] - ETA: 0s - loss: 1.5724 - accuracy: 0.3602 - auc: 0.8679 - precision: 0.5631 - recall: 0.0954\n",
            "Epoch 00027: val_accuracy improved from 0.38095 to 0.39048, saving model to tfjsmode.h5\n",
            "22/22 [==============================] - 0s 20ms/step - loss: 1.5658 - accuracy: 0.3571 - auc: 0.8696 - precision: 0.5385 - recall: 0.1000 - val_loss: 1.5247 - val_accuracy: 0.3905 - val_auc: 0.8782 - val_precision: 0.6333 - val_recall: 0.0905\n",
            "Epoch 28/100\n",
            "21/22 [===========================>..] - ETA: 0s - loss: 1.5683 - accuracy: 0.3765 - auc: 0.8699 - precision: 0.5748 - recall: 0.1086\n",
            "Epoch 00028: val_accuracy did not improve from 0.39048\n",
            "22/22 [==============================] - 0s 18ms/step - loss: 1.5681 - accuracy: 0.3757 - auc: 0.8699 - precision: 0.5746 - recall: 0.1100 - val_loss: 1.5494 - val_accuracy: 0.3810 - val_auc: 0.8729 - val_precision: 0.5000 - val_recall: 0.1143\n",
            "Epoch 29/100\n",
            "20/22 [==========================>...] - ETA: 0s - loss: 1.5335 - accuracy: 0.3703 - auc: 0.8763 - precision: 0.5638 - recall: 0.1312\n",
            "Epoch 00029: val_accuracy improved from 0.39048 to 0.39524, saving model to tfjsmode.h5\n",
            "22/22 [==============================] - 0s 21ms/step - loss: 1.5278 - accuracy: 0.3743 - auc: 0.8771 - precision: 0.5636 - recall: 0.1329 - val_loss: 1.5554 - val_accuracy: 0.3952 - val_auc: 0.8721 - val_precision: 0.5366 - val_recall: 0.1048\n",
            "Epoch 30/100\n",
            "19/22 [========================>.....] - ETA: 0s - loss: 1.5637 - accuracy: 0.3569 - auc: 0.8701 - precision: 0.5676 - recall: 0.1382\n",
            "Epoch 00030: val_accuracy did not improve from 0.39524\n",
            "22/22 [==============================] - 0s 18ms/step - loss: 1.5734 - accuracy: 0.3500 - auc: 0.8681 - precision: 0.5576 - recall: 0.1314 - val_loss: 1.5622 - val_accuracy: 0.3714 - val_auc: 0.8706 - val_precision: 0.6000 - val_recall: 0.1286\n",
            "Epoch 31/100\n",
            "21/22 [===========================>..] - ETA: 0s - loss: 1.5261 - accuracy: 0.3571 - auc: 0.8764 - precision: 0.6067 - recall: 0.1354\n",
            "Epoch 00031: val_accuracy did not improve from 0.39524\n",
            "22/22 [==============================] - 0s 18ms/step - loss: 1.5181 - accuracy: 0.3643 - auc: 0.8780 - precision: 0.6154 - recall: 0.1371 - val_loss: 1.5243 - val_accuracy: 0.3905 - val_auc: 0.8782 - val_precision: 0.5763 - val_recall: 0.1619\n",
            "Epoch 32/100\n",
            "21/22 [===========================>..] - ETA: 0s - loss: 1.5162 - accuracy: 0.3810 - auc: 0.8790 - precision: 0.5635 - recall: 0.1518\n",
            "Epoch 00032: val_accuracy improved from 0.39524 to 0.41429, saving model to tfjsmode.h5\n",
            "22/22 [==============================] - 0s 19ms/step - loss: 1.5209 - accuracy: 0.3814 - auc: 0.8782 - precision: 0.5628 - recall: 0.1471 - val_loss: 1.5046 - val_accuracy: 0.4143 - val_auc: 0.8813 - val_precision: 0.5926 - val_recall: 0.1524\n",
            "Epoch 33/100\n",
            "21/22 [===========================>..] - ETA: 0s - loss: 1.5308 - accuracy: 0.3914 - auc: 0.8764 - precision: 0.6193 - recall: 0.1622\n",
            "Epoch 00033: val_accuracy did not improve from 0.41429\n",
            "22/22 [==============================] - 0s 17ms/step - loss: 1.5395 - accuracy: 0.3886 - auc: 0.8749 - precision: 0.6087 - recall: 0.1600 - val_loss: 1.5267 - val_accuracy: 0.3810 - val_auc: 0.8764 - val_precision: 0.6154 - val_recall: 0.1143\n",
            "Epoch 34/100\n",
            "20/22 [==========================>...] - ETA: 0s - loss: 1.4790 - accuracy: 0.4328 - auc: 0.8852 - precision: 0.6585 - recall: 0.1688\n",
            "Epoch 00034: val_accuracy did not improve from 0.41429\n",
            "22/22 [==============================] - 0s 18ms/step - loss: 1.4892 - accuracy: 0.4243 - auc: 0.8835 - precision: 0.6328 - recall: 0.1600 - val_loss: 1.5547 - val_accuracy: 0.3952 - val_auc: 0.8706 - val_precision: 0.5574 - val_recall: 0.1619\n",
            "Epoch 35/100\n",
            "20/22 [==========================>...] - ETA: 0s - loss: 1.5040 - accuracy: 0.3766 - auc: 0.8805 - precision: 0.5460 - recall: 0.1484\n",
            "Epoch 00035: val_accuracy did not improve from 0.41429\n",
            "22/22 [==============================] - 0s 20ms/step - loss: 1.5039 - accuracy: 0.3714 - auc: 0.8804 - precision: 0.5450 - recall: 0.1471 - val_loss: 1.5202 - val_accuracy: 0.3524 - val_auc: 0.8779 - val_precision: 0.6667 - val_recall: 0.0952\n",
            "Epoch 36/100\n",
            "20/22 [==========================>...] - ETA: 0s - loss: 1.4743 - accuracy: 0.3891 - auc: 0.8875 - precision: 0.5986 - recall: 0.1375\n",
            "Epoch 00036: val_accuracy did not improve from 0.41429\n",
            "22/22 [==============================] - 0s 19ms/step - loss: 1.4798 - accuracy: 0.3871 - auc: 0.8864 - precision: 0.5868 - recall: 0.1400 - val_loss: 1.4670 - val_accuracy: 0.4143 - val_auc: 0.8885 - val_precision: 0.6471 - val_recall: 0.1571\n",
            "Epoch 37/100\n",
            "20/22 [==========================>...] - ETA: 0s - loss: 1.4509 - accuracy: 0.4031 - auc: 0.8905 - precision: 0.6000 - recall: 0.1594\n",
            "Epoch 00037: val_accuracy did not improve from 0.41429\n",
            "22/22 [==============================] - 0s 19ms/step - loss: 1.4653 - accuracy: 0.3943 - auc: 0.8879 - precision: 0.5924 - recall: 0.1557 - val_loss: 1.4357 - val_accuracy: 0.3905 - val_auc: 0.8936 - val_precision: 0.7000 - val_recall: 0.1333\n",
            "Epoch 38/100\n",
            "22/22 [==============================] - ETA: 0s - loss: 1.4331 - accuracy: 0.3943 - auc: 0.8935 - precision: 0.5897 - recall: 0.1643\n",
            "Epoch 00038: val_accuracy did not improve from 0.41429\n",
            "22/22 [==============================] - 0s 19ms/step - loss: 1.4331 - accuracy: 0.3943 - auc: 0.8935 - precision: 0.5897 - recall: 0.1643 - val_loss: 1.4865 - val_accuracy: 0.3762 - val_auc: 0.8849 - val_precision: 0.6154 - val_recall: 0.1143\n",
            "Epoch 39/100\n",
            "19/22 [========================>.....] - ETA: 0s - loss: 1.4627 - accuracy: 0.4145 - auc: 0.8877 - precision: 0.6410 - recall: 0.1645\n",
            "Epoch 00039: val_accuracy improved from 0.41429 to 0.41905, saving model to tfjsmode.h5\n",
            "22/22 [==============================] - 0s 20ms/step - loss: 1.4549 - accuracy: 0.4129 - auc: 0.8893 - precision: 0.6343 - recall: 0.1586 - val_loss: 1.4304 - val_accuracy: 0.4190 - val_auc: 0.8937 - val_precision: 0.6333 - val_recall: 0.1810\n",
            "Epoch 40/100\n",
            "21/22 [===========================>..] - ETA: 0s - loss: 1.4495 - accuracy: 0.4137 - auc: 0.8913 - precision: 0.5729 - recall: 0.1696\n",
            "Epoch 00040: val_accuracy did not improve from 0.41905\n",
            "22/22 [==============================] - 0s 18ms/step - loss: 1.4432 - accuracy: 0.4114 - auc: 0.8924 - precision: 0.5777 - recall: 0.1700 - val_loss: 1.4593 - val_accuracy: 0.4048 - val_auc: 0.8901 - val_precision: 0.6364 - val_recall: 0.1667\n",
            "Epoch 41/100\n",
            "22/22 [==============================] - ETA: 0s - loss: 1.4384 - accuracy: 0.4286 - auc: 0.8925 - precision: 0.6029 - recall: 0.1757\n",
            "Epoch 00041: val_accuracy improved from 0.41905 to 0.44762, saving model to tfjsmode.h5\n",
            "22/22 [==============================] - 0s 21ms/step - loss: 1.4384 - accuracy: 0.4286 - auc: 0.8925 - precision: 0.6029 - recall: 0.1757 - val_loss: 1.4125 - val_accuracy: 0.4476 - val_auc: 0.8974 - val_precision: 0.6133 - val_recall: 0.2190\n",
            "Epoch 42/100\n",
            "20/22 [==========================>...] - ETA: 0s - loss: 1.4134 - accuracy: 0.4156 - auc: 0.8970 - precision: 0.5932 - recall: 0.1641\n",
            "Epoch 00042: val_accuracy did not improve from 0.44762\n",
            "22/22 [==============================] - 0s 19ms/step - loss: 1.4053 - accuracy: 0.4143 - auc: 0.8981 - precision: 0.5980 - recall: 0.1700 - val_loss: 1.4188 - val_accuracy: 0.4286 - val_auc: 0.8977 - val_precision: 0.5714 - val_recall: 0.2095\n",
            "Epoch 43/100\n",
            "19/22 [========================>.....] - ETA: 0s - loss: 1.3983 - accuracy: 0.4375 - auc: 0.8997 - precision: 0.5920 - recall: 0.1694\n",
            "Epoch 00043: val_accuracy did not improve from 0.44762\n",
            "22/22 [==============================] - 0s 18ms/step - loss: 1.3908 - accuracy: 0.4329 - auc: 0.9006 - precision: 0.6030 - recall: 0.1714 - val_loss: 1.4027 - val_accuracy: 0.4286 - val_auc: 0.8991 - val_precision: 0.6000 - val_recall: 0.2000\n",
            "Epoch 44/100\n",
            "21/22 [===========================>..] - ETA: 0s - loss: 1.3779 - accuracy: 0.4435 - auc: 0.9022 - precision: 0.6267 - recall: 0.2098\n",
            "Epoch 00044: val_accuracy did not improve from 0.44762\n",
            "22/22 [==============================] - 0s 18ms/step - loss: 1.3902 - accuracy: 0.4400 - auc: 0.9002 - precision: 0.6170 - recall: 0.2071 - val_loss: 1.3682 - val_accuracy: 0.4333 - val_auc: 0.9035 - val_precision: 0.6780 - val_recall: 0.1905\n",
            "Epoch 45/100\n",
            "19/22 [========================>.....] - ETA: 0s - loss: 1.3852 - accuracy: 0.4342 - auc: 0.9008 - precision: 0.6471 - recall: 0.2171\n",
            "Epoch 00045: val_accuracy did not improve from 0.44762\n",
            "22/22 [==============================] - 0s 18ms/step - loss: 1.3882 - accuracy: 0.4400 - auc: 0.9007 - precision: 0.6463 - recall: 0.2114 - val_loss: 1.3484 - val_accuracy: 0.4381 - val_auc: 0.9081 - val_precision: 0.7727 - val_recall: 0.1619\n",
            "Epoch 46/100\n",
            "20/22 [==========================>...] - ETA: 0s - loss: 1.3572 - accuracy: 0.4547 - auc: 0.9062 - precision: 0.6489 - recall: 0.1906\n",
            "Epoch 00046: val_accuracy did not improve from 0.44762\n",
            "22/22 [==============================] - 0s 19ms/step - loss: 1.3528 - accuracy: 0.4586 - auc: 0.9067 - precision: 0.6512 - recall: 0.2000 - val_loss: 1.3637 - val_accuracy: 0.4286 - val_auc: 0.9040 - val_precision: 0.6184 - val_recall: 0.2238\n",
            "Epoch 47/100\n",
            "20/22 [==========================>...] - ETA: 0s - loss: 1.3617 - accuracy: 0.4437 - auc: 0.9049 - precision: 0.6303 - recall: 0.2078\n",
            "Epoch 00047: val_accuracy did not improve from 0.44762\n",
            "22/22 [==============================] - 0s 20ms/step - loss: 1.3544 - accuracy: 0.4486 - auc: 0.9063 - precision: 0.6360 - recall: 0.2071 - val_loss: 1.3336 - val_accuracy: 0.4429 - val_auc: 0.9093 - val_precision: 0.5921 - val_recall: 0.2143\n",
            "Epoch 48/100\n",
            "21/22 [===========================>..] - ETA: 0s - loss: 1.3193 - accuracy: 0.4777 - auc: 0.9111 - precision: 0.6559 - recall: 0.2411\n",
            "Epoch 00048: val_accuracy improved from 0.44762 to 0.45714, saving model to tfjsmode.h5\n",
            "22/22 [==============================] - 0s 20ms/step - loss: 1.3172 - accuracy: 0.4771 - auc: 0.9115 - precision: 0.6500 - recall: 0.2414 - val_loss: 1.3378 - val_accuracy: 0.4571 - val_auc: 0.9091 - val_precision: 0.7593 - val_recall: 0.1952\n",
            "Epoch 49/100\n",
            "21/22 [===========================>..] - ETA: 0s - loss: 1.3151 - accuracy: 0.4747 - auc: 0.9117 - precision: 0.7105 - recall: 0.2411\n",
            "Epoch 00049: val_accuracy improved from 0.45714 to 0.47143, saving model to tfjsmode.h5\n",
            "22/22 [==============================] - 0s 19ms/step - loss: 1.3206 - accuracy: 0.4714 - auc: 0.9109 - precision: 0.6987 - recall: 0.2386 - val_loss: 1.2899 - val_accuracy: 0.4714 - val_auc: 0.9163 - val_precision: 0.6486 - val_recall: 0.2286\n",
            "Epoch 50/100\n",
            "22/22 [==============================] - ETA: 0s - loss: 1.3249 - accuracy: 0.4586 - auc: 0.9101 - precision: 0.6169 - recall: 0.2300\n",
            "Epoch 00050: val_accuracy improved from 0.47143 to 0.47619, saving model to tfjsmode.h5\n",
            "22/22 [==============================] - 0s 21ms/step - loss: 1.3249 - accuracy: 0.4586 - auc: 0.9101 - precision: 0.6169 - recall: 0.2300 - val_loss: 1.2653 - val_accuracy: 0.4762 - val_auc: 0.9206 - val_precision: 0.7500 - val_recall: 0.2286\n",
            "Epoch 51/100\n",
            "22/22 [==============================] - ETA: 0s - loss: 1.3309 - accuracy: 0.4643 - auc: 0.9086 - precision: 0.6574 - recall: 0.2357\n",
            "Epoch 00051: val_accuracy improved from 0.47619 to 0.50952, saving model to tfjsmode.h5\n",
            "22/22 [==============================] - 0s 21ms/step - loss: 1.3309 - accuracy: 0.4643 - auc: 0.9086 - precision: 0.6574 - recall: 0.2357 - val_loss: 1.2478 - val_accuracy: 0.5095 - val_auc: 0.9225 - val_precision: 0.6782 - val_recall: 0.2810\n",
            "Epoch 52/100\n",
            "21/22 [===========================>..] - ETA: 0s - loss: 1.2804 - accuracy: 0.4777 - auc: 0.9162 - precision: 0.6704 - recall: 0.2664\n",
            "Epoch 00052: val_accuracy improved from 0.50952 to 0.51905, saving model to tfjsmode.h5\n",
            "22/22 [==============================] - 0s 21ms/step - loss: 1.2907 - accuracy: 0.4743 - auc: 0.9148 - precision: 0.6691 - recall: 0.2629 - val_loss: 1.2371 - val_accuracy: 0.5190 - val_auc: 0.9250 - val_precision: 0.7403 - val_recall: 0.2714\n",
            "Epoch 53/100\n",
            "20/22 [==========================>...] - ETA: 0s - loss: 1.2681 - accuracy: 0.4781 - auc: 0.9180 - precision: 0.6738 - recall: 0.2453\n",
            "Epoch 00053: val_accuracy did not improve from 0.51905\n",
            "22/22 [==============================] - 0s 18ms/step - loss: 1.2778 - accuracy: 0.4714 - auc: 0.9166 - precision: 0.6786 - recall: 0.2443 - val_loss: 1.2462 - val_accuracy: 0.4952 - val_auc: 0.9217 - val_precision: 0.6778 - val_recall: 0.2905\n",
            "Epoch 54/100\n",
            "20/22 [==========================>...] - ETA: 0s - loss: 1.2817 - accuracy: 0.4781 - auc: 0.9155 - precision: 0.6356 - recall: 0.2453\n",
            "Epoch 00054: val_accuracy did not improve from 0.51905\n",
            "22/22 [==============================] - 0s 18ms/step - loss: 1.2878 - accuracy: 0.4786 - auc: 0.9147 - precision: 0.6400 - recall: 0.2514 - val_loss: 1.2471 - val_accuracy: 0.4810 - val_auc: 0.9218 - val_precision: 0.6235 - val_recall: 0.2524\n",
            "Epoch 55/100\n",
            "21/22 [===========================>..] - ETA: 0s - loss: 1.3078 - accuracy: 0.4628 - auc: 0.9124 - precision: 0.6564 - recall: 0.2530\n",
            "Epoch 00055: val_accuracy did not improve from 0.51905\n",
            "22/22 [==============================] - 0s 18ms/step - loss: 1.2989 - accuracy: 0.4629 - auc: 0.9137 - precision: 0.6642 - recall: 0.2543 - val_loss: 1.2102 - val_accuracy: 0.4905 - val_auc: 0.9257 - val_precision: 0.7033 - val_recall: 0.3048\n",
            "Epoch 56/100\n",
            "22/22 [==============================] - ETA: 0s - loss: 1.2624 - accuracy: 0.4986 - auc: 0.9186 - precision: 0.6893 - recall: 0.2757\n",
            "Epoch 00056: val_accuracy did not improve from 0.51905\n",
            "22/22 [==============================] - 0s 19ms/step - loss: 1.2624 - accuracy: 0.4986 - auc: 0.9186 - precision: 0.6893 - recall: 0.2757 - val_loss: 1.2081 - val_accuracy: 0.4905 - val_auc: 0.9269 - val_precision: 0.7027 - val_recall: 0.2476\n",
            "Epoch 57/100\n",
            "21/22 [===========================>..] - ETA: 0s - loss: 1.2382 - accuracy: 0.4955 - auc: 0.9223 - precision: 0.6631 - recall: 0.2753\n",
            "Epoch 00057: val_accuracy did not improve from 0.51905\n",
            "22/22 [==============================] - 0s 18ms/step - loss: 1.2314 - accuracy: 0.4943 - auc: 0.9232 - precision: 0.6667 - recall: 0.2743 - val_loss: 1.2073 - val_accuracy: 0.4905 - val_auc: 0.9248 - val_precision: 0.6706 - val_recall: 0.2714\n",
            "Epoch 58/100\n",
            "19/22 [========================>.....] - ETA: 0s - loss: 1.2165 - accuracy: 0.5115 - auc: 0.9253 - precision: 0.6791 - recall: 0.2993\n",
            "Epoch 00058: val_accuracy improved from 0.51905 to 0.52381, saving model to tfjsmode.h5\n",
            "22/22 [==============================] - 0s 20ms/step - loss: 1.2346 - accuracy: 0.5014 - auc: 0.9225 - precision: 0.6699 - recall: 0.2957 - val_loss: 1.1627 - val_accuracy: 0.5238 - val_auc: 0.9334 - val_precision: 0.7179 - val_recall: 0.2667\n",
            "Epoch 59/100\n",
            "21/22 [===========================>..] - ETA: 0s - loss: 1.2033 - accuracy: 0.5060 - auc: 0.9272 - precision: 0.6761 - recall: 0.2857\n",
            "Epoch 00059: val_accuracy did not improve from 0.52381\n",
            "22/22 [==============================] - 0s 18ms/step - loss: 1.2027 - accuracy: 0.5043 - auc: 0.9272 - precision: 0.6768 - recall: 0.2871 - val_loss: 1.2475 - val_accuracy: 0.4952 - val_auc: 0.9215 - val_precision: 0.6596 - val_recall: 0.2952\n",
            "Epoch 60/100\n",
            "19/22 [========================>.....] - ETA: 0s - loss: 1.2247 - accuracy: 0.5033 - auc: 0.9237 - precision: 0.6972 - recall: 0.2878\n",
            "Epoch 00060: val_accuracy did not improve from 0.52381\n",
            "22/22 [==============================] - 0s 20ms/step - loss: 1.2300 - accuracy: 0.5014 - auc: 0.9229 - precision: 0.6867 - recall: 0.2943 - val_loss: 1.2562 - val_accuracy: 0.5048 - val_auc: 0.9199 - val_precision: 0.6038 - val_recall: 0.3048\n",
            "Epoch 61/100\n",
            "21/22 [===========================>..] - ETA: 0s - loss: 1.2168 - accuracy: 0.5015 - auc: 0.9251 - precision: 0.6667 - recall: 0.2946\n",
            "Epoch 00061: val_accuracy improved from 0.52381 to 0.53333, saving model to tfjsmode.h5\n",
            "22/22 [==============================] - 0s 21ms/step - loss: 1.2126 - accuracy: 0.5043 - auc: 0.9257 - precision: 0.6677 - recall: 0.2957 - val_loss: 1.1668 - val_accuracy: 0.5333 - val_auc: 0.9310 - val_precision: 0.6697 - val_recall: 0.3476\n",
            "Epoch 62/100\n",
            "20/22 [==========================>...] - ETA: 0s - loss: 1.1746 - accuracy: 0.5094 - auc: 0.9306 - precision: 0.6612 - recall: 0.3141\n",
            "Epoch 00062: val_accuracy did not improve from 0.53333\n",
            "22/22 [==============================] - 0s 20ms/step - loss: 1.1752 - accuracy: 0.5114 - auc: 0.9303 - precision: 0.6677 - recall: 0.3157 - val_loss: 1.1446 - val_accuracy: 0.5238 - val_auc: 0.9339 - val_precision: 0.7021 - val_recall: 0.3143\n",
            "Epoch 63/100\n",
            "20/22 [==========================>...] - ETA: 0s - loss: 1.1731 - accuracy: 0.5234 - auc: 0.9306 - precision: 0.6901 - recall: 0.3063\n",
            "Epoch 00063: val_accuracy did not improve from 0.53333\n",
            "22/22 [==============================] - 0s 20ms/step - loss: 1.1792 - accuracy: 0.5143 - auc: 0.9297 - precision: 0.6951 - recall: 0.3029 - val_loss: 1.0954 - val_accuracy: 0.5333 - val_auc: 0.9400 - val_precision: 0.7447 - val_recall: 0.3333\n",
            "Epoch 64/100\n",
            "22/22 [==============================] - ETA: 0s - loss: 1.1835 - accuracy: 0.5243 - auc: 0.9291 - precision: 0.6657 - recall: 0.3186\n",
            "Epoch 00064: val_accuracy did not improve from 0.53333\n",
            "22/22 [==============================] - 0s 20ms/step - loss: 1.1835 - accuracy: 0.5243 - auc: 0.9291 - precision: 0.6657 - recall: 0.3186 - val_loss: 1.1383 - val_accuracy: 0.5238 - val_auc: 0.9337 - val_precision: 0.6882 - val_recall: 0.3048\n",
            "Epoch 65/100\n",
            "22/22 [==============================] - ETA: 0s - loss: 1.1582 - accuracy: 0.5243 - auc: 0.9319 - precision: 0.6903 - recall: 0.3343\n",
            "Epoch 00065: val_accuracy did not improve from 0.53333\n",
            "22/22 [==============================] - 0s 21ms/step - loss: 1.1582 - accuracy: 0.5243 - auc: 0.9319 - precision: 0.6903 - recall: 0.3343 - val_loss: 1.0517 - val_accuracy: 0.5095 - val_auc: 0.9458 - val_precision: 0.7037 - val_recall: 0.3619\n",
            "Epoch 66/100\n",
            "22/22 [==============================] - ETA: 0s - loss: 1.1346 - accuracy: 0.5186 - auc: 0.9350 - precision: 0.6900 - recall: 0.3243\n",
            "Epoch 00066: val_accuracy improved from 0.53333 to 0.55714, saving model to tfjsmode.h5\n",
            "22/22 [==============================] - 1s 23ms/step - loss: 1.1346 - accuracy: 0.5186 - auc: 0.9350 - precision: 0.6900 - recall: 0.3243 - val_loss: 1.0558 - val_accuracy: 0.5571 - val_auc: 0.9451 - val_precision: 0.7204 - val_recall: 0.3190\n",
            "Epoch 67/100\n",
            "22/22 [==============================] - ETA: 0s - loss: 1.1552 - accuracy: 0.5229 - auc: 0.9325 - precision: 0.6867 - recall: 0.3257\n",
            "Epoch 00067: val_accuracy did not improve from 0.55714\n",
            "22/22 [==============================] - 0s 21ms/step - loss: 1.1552 - accuracy: 0.5229 - auc: 0.9325 - precision: 0.6867 - recall: 0.3257 - val_loss: 1.0708 - val_accuracy: 0.5571 - val_auc: 0.9427 - val_precision: 0.7556 - val_recall: 0.3238\n",
            "Epoch 68/100\n",
            "22/22 [==============================] - ETA: 0s - loss: 1.0722 - accuracy: 0.5757 - auc: 0.9430 - precision: 0.7135 - recall: 0.3557\n",
            "Epoch 00068: val_accuracy improved from 0.55714 to 0.57619, saving model to tfjsmode.h5\n",
            "22/22 [==============================] - 1s 23ms/step - loss: 1.0722 - accuracy: 0.5757 - auc: 0.9430 - precision: 0.7135 - recall: 0.3557 - val_loss: 1.0315 - val_accuracy: 0.5762 - val_auc: 0.9477 - val_precision: 0.6916 - val_recall: 0.3524\n",
            "Epoch 69/100\n",
            "22/22 [==============================] - ETA: 0s - loss: 1.1029 - accuracy: 0.5629 - auc: 0.9385 - precision: 0.7043 - recall: 0.3743\n",
            "Epoch 00069: val_accuracy improved from 0.57619 to 0.59524, saving model to tfjsmode.h5\n",
            "22/22 [==============================] - 1s 23ms/step - loss: 1.1029 - accuracy: 0.5629 - auc: 0.9385 - precision: 0.7043 - recall: 0.3743 - val_loss: 1.0144 - val_accuracy: 0.5952 - val_auc: 0.9486 - val_precision: 0.6964 - val_recall: 0.3714\n",
            "Epoch 70/100\n",
            "22/22 [==============================] - ETA: 0s - loss: 1.0857 - accuracy: 0.5343 - auc: 0.9407 - precision: 0.6916 - recall: 0.3429\n",
            "Epoch 00070: val_accuracy did not improve from 0.59524\n",
            "22/22 [==============================] - 0s 20ms/step - loss: 1.0857 - accuracy: 0.5343 - auc: 0.9407 - precision: 0.6916 - recall: 0.3429 - val_loss: 1.0559 - val_accuracy: 0.5524 - val_auc: 0.9435 - val_precision: 0.6726 - val_recall: 0.3619\n",
            "Epoch 71/100\n",
            "22/22 [==============================] - ETA: 0s - loss: 1.0697 - accuracy: 0.5500 - auc: 0.9424 - precision: 0.6757 - recall: 0.3571\n",
            "Epoch 00071: val_accuracy did not improve from 0.59524\n",
            "22/22 [==============================] - 0s 20ms/step - loss: 1.0697 - accuracy: 0.5500 - auc: 0.9424 - precision: 0.6757 - recall: 0.3571 - val_loss: 0.9920 - val_accuracy: 0.5476 - val_auc: 0.9499 - val_precision: 0.7094 - val_recall: 0.3952\n",
            "Epoch 72/100\n",
            "22/22 [==============================] - ETA: 0s - loss: 1.0776 - accuracy: 0.5500 - auc: 0.9410 - precision: 0.6976 - recall: 0.3757\n",
            "Epoch 00072: val_accuracy did not improve from 0.59524\n",
            "22/22 [==============================] - 0s 20ms/step - loss: 1.0776 - accuracy: 0.5500 - auc: 0.9410 - precision: 0.6976 - recall: 0.3757 - val_loss: 0.9634 - val_accuracy: 0.5952 - val_auc: 0.9540 - val_precision: 0.7358 - val_recall: 0.3714\n",
            "Epoch 73/100\n",
            "22/22 [==============================] - ETA: 0s - loss: 1.0627 - accuracy: 0.5571 - auc: 0.9435 - precision: 0.7303 - recall: 0.3714\n",
            "Epoch 00073: val_accuracy did not improve from 0.59524\n",
            "22/22 [==============================] - 0s 20ms/step - loss: 1.0627 - accuracy: 0.5571 - auc: 0.9435 - precision: 0.7303 - recall: 0.3714 - val_loss: 0.9605 - val_accuracy: 0.5952 - val_auc: 0.9529 - val_precision: 0.6953 - val_recall: 0.4238\n",
            "Epoch 74/100\n",
            "22/22 [==============================] - ETA: 0s - loss: 1.0405 - accuracy: 0.5743 - auc: 0.9456 - precision: 0.7046 - recall: 0.3714\n",
            "Epoch 00074: val_accuracy improved from 0.59524 to 0.60000, saving model to tfjsmode.h5\n",
            "22/22 [==============================] - 0s 23ms/step - loss: 1.0405 - accuracy: 0.5743 - auc: 0.9456 - precision: 0.7046 - recall: 0.3714 - val_loss: 0.9491 - val_accuracy: 0.6000 - val_auc: 0.9557 - val_precision: 0.7165 - val_recall: 0.4333\n",
            "Epoch 75/100\n",
            "19/22 [========================>.....] - ETA: 0s - loss: 1.0658 - accuracy: 0.5543 - auc: 0.9424 - precision: 0.6724 - recall: 0.3882\n",
            "Epoch 00075: val_accuracy did not improve from 0.60000\n",
            "22/22 [==============================] - 0s 20ms/step - loss: 1.0377 - accuracy: 0.5743 - auc: 0.9456 - precision: 0.6864 - recall: 0.3971 - val_loss: 1.0330 - val_accuracy: 0.5857 - val_auc: 0.9446 - val_precision: 0.6814 - val_recall: 0.3667\n",
            "Epoch 76/100\n",
            "22/22 [==============================] - ETA: 0s - loss: 1.0200 - accuracy: 0.5743 - auc: 0.9476 - precision: 0.7000 - recall: 0.3900\n",
            "Epoch 00076: val_accuracy improved from 0.60000 to 0.62857, saving model to tfjsmode.h5\n",
            "22/22 [==============================] - 0s 22ms/step - loss: 1.0200 - accuracy: 0.5743 - auc: 0.9476 - precision: 0.7000 - recall: 0.3900 - val_loss: 0.9191 - val_accuracy: 0.6286 - val_auc: 0.9592 - val_precision: 0.7500 - val_recall: 0.4286\n",
            "Epoch 77/100\n",
            "19/22 [========================>.....] - ETA: 0s - loss: 1.0270 - accuracy: 0.5674 - auc: 0.9465 - precision: 0.6838 - recall: 0.3947\n",
            "Epoch 00077: val_accuracy did not improve from 0.62857\n",
            "22/22 [==============================] - 0s 20ms/step - loss: 1.0184 - accuracy: 0.5686 - auc: 0.9476 - precision: 0.6908 - recall: 0.3957 - val_loss: 0.8996 - val_accuracy: 0.6048 - val_auc: 0.9607 - val_precision: 0.7818 - val_recall: 0.4095\n",
            "Epoch 78/100\n",
            "22/22 [==============================] - ETA: 0s - loss: 0.9868 - accuracy: 0.5914 - auc: 0.9508 - precision: 0.7143 - recall: 0.4357\n",
            "Epoch 00078: val_accuracy improved from 0.62857 to 0.63810, saving model to tfjsmode.h5\n",
            "22/22 [==============================] - 0s 22ms/step - loss: 0.9868 - accuracy: 0.5914 - auc: 0.9508 - precision: 0.7143 - recall: 0.4357 - val_loss: 0.8559 - val_accuracy: 0.6381 - val_auc: 0.9649 - val_precision: 0.7627 - val_recall: 0.4286\n",
            "Epoch 79/100\n",
            "22/22 [==============================] - ETA: 0s - loss: 1.0056 - accuracy: 0.5714 - auc: 0.9493 - precision: 0.7125 - recall: 0.4071\n",
            "Epoch 00079: val_accuracy improved from 0.63810 to 0.65238, saving model to tfjsmode.h5\n",
            "22/22 [==============================] - 0s 22ms/step - loss: 1.0056 - accuracy: 0.5714 - auc: 0.9493 - precision: 0.7125 - recall: 0.4071 - val_loss: 0.8463 - val_accuracy: 0.6524 - val_auc: 0.9663 - val_precision: 0.7667 - val_recall: 0.4381\n",
            "Epoch 80/100\n",
            "20/22 [==========================>...] - ETA: 0s - loss: 0.9770 - accuracy: 0.5797 - auc: 0.9523 - precision: 0.7203 - recall: 0.4266\n",
            "Epoch 00080: val_accuracy did not improve from 0.65238\n",
            "22/22 [==============================] - 0s 19ms/step - loss: 0.9829 - accuracy: 0.5829 - auc: 0.9518 - precision: 0.7205 - recall: 0.4271 - val_loss: 0.9085 - val_accuracy: 0.5857 - val_auc: 0.9574 - val_precision: 0.6774 - val_recall: 0.4000\n",
            "Epoch 81/100\n",
            "22/22 [==============================] - ETA: 0s - loss: 0.9600 - accuracy: 0.5886 - auc: 0.9532 - precision: 0.7060 - recall: 0.4357\n",
            "Epoch 00081: val_accuracy did not improve from 0.65238\n",
            "22/22 [==============================] - 0s 20ms/step - loss: 0.9600 - accuracy: 0.5886 - auc: 0.9532 - precision: 0.7060 - recall: 0.4357 - val_loss: 0.8371 - val_accuracy: 0.6381 - val_auc: 0.9663 - val_precision: 0.7833 - val_recall: 0.4476\n",
            "Epoch 82/100\n",
            "21/22 [===========================>..] - ETA: 0s - loss: 0.9482 - accuracy: 0.6295 - auc: 0.9554 - precision: 0.7284 - recall: 0.4271\n",
            "Epoch 00082: val_accuracy did not improve from 0.65238\n",
            "22/22 [==============================] - 0s 19ms/step - loss: 0.9493 - accuracy: 0.6286 - auc: 0.9553 - precision: 0.7240 - recall: 0.4271 - val_loss: 0.8273 - val_accuracy: 0.6333 - val_auc: 0.9669 - val_precision: 0.7459 - val_recall: 0.4333\n",
            "Epoch 83/100\n",
            "22/22 [==============================] - ETA: 0s - loss: 0.9201 - accuracy: 0.5971 - auc: 0.9578 - precision: 0.7246 - recall: 0.4586\n",
            "Epoch 00083: val_accuracy did not improve from 0.65238\n",
            "22/22 [==============================] - 0s 21ms/step - loss: 0.9201 - accuracy: 0.5971 - auc: 0.9578 - precision: 0.7246 - recall: 0.4586 - val_loss: 0.8242 - val_accuracy: 0.6476 - val_auc: 0.9672 - val_precision: 0.7778 - val_recall: 0.4667\n",
            "Epoch 84/100\n",
            "20/22 [==========================>...] - ETA: 0s - loss: 0.9303 - accuracy: 0.6219 - auc: 0.9563 - precision: 0.7248 - recall: 0.4609\n",
            "Epoch 00084: val_accuracy improved from 0.65238 to 0.68571, saving model to tfjsmode.h5\n",
            "22/22 [==============================] - 0s 21ms/step - loss: 0.9283 - accuracy: 0.6200 - auc: 0.9565 - precision: 0.7204 - recall: 0.4600 - val_loss: 0.7710 - val_accuracy: 0.6857 - val_auc: 0.9727 - val_precision: 0.8000 - val_recall: 0.4952\n",
            "Epoch 85/100\n",
            "22/22 [==============================] - ETA: 0s - loss: 0.9346 - accuracy: 0.5829 - auc: 0.9559 - precision: 0.6878 - recall: 0.4343\n",
            "Epoch 00085: val_accuracy did not improve from 0.68571\n",
            "22/22 [==============================] - 0s 19ms/step - loss: 0.9346 - accuracy: 0.5829 - auc: 0.9559 - precision: 0.6878 - recall: 0.4343 - val_loss: 0.7921 - val_accuracy: 0.6619 - val_auc: 0.9695 - val_precision: 0.7584 - val_recall: 0.5381\n",
            "Epoch 86/100\n",
            "19/22 [========================>.....] - ETA: 0s - loss: 0.8982 - accuracy: 0.6234 - auc: 0.9597 - precision: 0.7404 - recall: 0.4737\n",
            "Epoch 00086: val_accuracy did not improve from 0.68571\n",
            "22/22 [==============================] - 0s 19ms/step - loss: 0.9135 - accuracy: 0.6186 - auc: 0.9583 - precision: 0.7332 - recall: 0.4671 - val_loss: 0.8532 - val_accuracy: 0.6190 - val_auc: 0.9645 - val_precision: 0.7164 - val_recall: 0.4571\n",
            "Epoch 87/100\n",
            "22/22 [==============================] - ETA: 0s - loss: 0.9067 - accuracy: 0.6157 - auc: 0.9589 - precision: 0.7368 - recall: 0.4800\n",
            "Epoch 00087: val_accuracy improved from 0.68571 to 0.70000, saving model to tfjsmode.h5\n",
            "22/22 [==============================] - 0s 21ms/step - loss: 0.9067 - accuracy: 0.6157 - auc: 0.9589 - precision: 0.7368 - recall: 0.4800 - val_loss: 0.7393 - val_accuracy: 0.7000 - val_auc: 0.9750 - val_precision: 0.7704 - val_recall: 0.4952\n",
            "Epoch 88/100\n",
            "22/22 [==============================] - ETA: 0s - loss: 0.8952 - accuracy: 0.6014 - auc: 0.9590 - precision: 0.7093 - recall: 0.4600\n",
            "Epoch 00088: val_accuracy did not improve from 0.70000\n",
            "22/22 [==============================] - 0s 21ms/step - loss: 0.8952 - accuracy: 0.6014 - auc: 0.9590 - precision: 0.7093 - recall: 0.4600 - val_loss: 0.7220 - val_accuracy: 0.6714 - val_auc: 0.9759 - val_precision: 0.7778 - val_recall: 0.5333\n",
            "Epoch 89/100\n",
            "20/22 [==========================>...] - ETA: 0s - loss: 0.8547 - accuracy: 0.6172 - auc: 0.9636 - precision: 0.7352 - recall: 0.4859\n",
            "Epoch 00089: val_accuracy did not improve from 0.70000\n",
            "22/22 [==============================] - 0s 19ms/step - loss: 0.8640 - accuracy: 0.6200 - auc: 0.9627 - precision: 0.7306 - recall: 0.4843 - val_loss: 0.7966 - val_accuracy: 0.6476 - val_auc: 0.9685 - val_precision: 0.7379 - val_recall: 0.5095\n",
            "Epoch 90/100\n",
            "20/22 [==========================>...] - ETA: 0s - loss: 0.8572 - accuracy: 0.6594 - auc: 0.9636 - precision: 0.7506 - recall: 0.5031\n",
            "Epoch 00090: val_accuracy did not improve from 0.70000\n",
            "22/22 [==============================] - 0s 19ms/step - loss: 0.8592 - accuracy: 0.6514 - auc: 0.9632 - precision: 0.7463 - recall: 0.5000 - val_loss: 0.7651 - val_accuracy: 0.6952 - val_auc: 0.9714 - val_precision: 0.7737 - val_recall: 0.5048\n",
            "Epoch 91/100\n",
            "22/22 [==============================] - ETA: 0s - loss: 0.8613 - accuracy: 0.6200 - auc: 0.9627 - precision: 0.7336 - recall: 0.4800\n",
            "Epoch 00091: val_accuracy did not improve from 0.70000\n",
            "22/22 [==============================] - 0s 19ms/step - loss: 0.8613 - accuracy: 0.6200 - auc: 0.9627 - precision: 0.7336 - recall: 0.4800 - val_loss: 0.6753 - val_accuracy: 0.7000 - val_auc: 0.9791 - val_precision: 0.8095 - val_recall: 0.5667\n",
            "Epoch 92/100\n",
            "22/22 [==============================] - ETA: 0s - loss: 0.8389 - accuracy: 0.6643 - auc: 0.9649 - precision: 0.7526 - recall: 0.5171\n",
            "Epoch 00092: val_accuracy did not improve from 0.70000\n",
            "22/22 [==============================] - 0s 19ms/step - loss: 0.8389 - accuracy: 0.6643 - auc: 0.9649 - precision: 0.7526 - recall: 0.5171 - val_loss: 0.6871 - val_accuracy: 0.6667 - val_auc: 0.9778 - val_precision: 0.8071 - val_recall: 0.5381\n",
            "Epoch 93/100\n",
            "20/22 [==========================>...] - ETA: 0s - loss: 0.8465 - accuracy: 0.6469 - auc: 0.9642 - precision: 0.7427 - recall: 0.5188\n",
            "Epoch 00093: val_accuracy improved from 0.70000 to 0.70952, saving model to tfjsmode.h5\n",
            "22/22 [==============================] - 0s 21ms/step - loss: 0.8430 - accuracy: 0.6486 - auc: 0.9646 - precision: 0.7520 - recall: 0.5243 - val_loss: 0.7033 - val_accuracy: 0.7095 - val_auc: 0.9759 - val_precision: 0.7750 - val_recall: 0.5905\n",
            "Epoch 94/100\n",
            "19/22 [========================>.....] - ETA: 0s - loss: 0.7910 - accuracy: 0.6661 - auc: 0.9685 - precision: 0.7472 - recall: 0.5395\n",
            "Epoch 00094: val_accuracy did not improve from 0.70952\n",
            "22/22 [==============================] - 0s 20ms/step - loss: 0.8163 - accuracy: 0.6529 - auc: 0.9663 - precision: 0.7340 - recall: 0.5243 - val_loss: 0.6938 - val_accuracy: 0.7095 - val_auc: 0.9771 - val_precision: 0.7711 - val_recall: 0.6095\n",
            "Epoch 95/100\n",
            "21/22 [===========================>..] - ETA: 0s - loss: 0.8000 - accuracy: 0.6771 - auc: 0.9678 - precision: 0.7787 - recall: 0.5446\n",
            "Epoch 00095: val_accuracy improved from 0.70952 to 0.73810, saving model to tfjsmode.h5\n",
            "22/22 [==============================] - 0s 21ms/step - loss: 0.8048 - accuracy: 0.6686 - auc: 0.9674 - precision: 0.7762 - recall: 0.5400 - val_loss: 0.6629 - val_accuracy: 0.7381 - val_auc: 0.9794 - val_precision: 0.8146 - val_recall: 0.5857\n",
            "Epoch 96/100\n",
            "22/22 [==============================] - ETA: 0s - loss: 0.8195 - accuracy: 0.6443 - auc: 0.9661 - precision: 0.7426 - recall: 0.5400\n",
            "Epoch 00096: val_accuracy did not improve from 0.73810\n",
            "22/22 [==============================] - 0s 21ms/step - loss: 0.8195 - accuracy: 0.6443 - auc: 0.9661 - precision: 0.7426 - recall: 0.5400 - val_loss: 0.6386 - val_accuracy: 0.7333 - val_auc: 0.9816 - val_precision: 0.8269 - val_recall: 0.6143\n",
            "Epoch 97/100\n",
            "22/22 [==============================] - ETA: 0s - loss: 0.7899 - accuracy: 0.6486 - auc: 0.9683 - precision: 0.7299 - recall: 0.5329\n",
            "Epoch 00097: val_accuracy did not improve from 0.73810\n",
            "22/22 [==============================] - 0s 20ms/step - loss: 0.7899 - accuracy: 0.6486 - auc: 0.9683 - precision: 0.7299 - recall: 0.5329 - val_loss: 0.6554 - val_accuracy: 0.7048 - val_auc: 0.9799 - val_precision: 0.8182 - val_recall: 0.6000\n",
            "Epoch 98/100\n",
            "22/22 [==============================] - ETA: 0s - loss: 0.7637 - accuracy: 0.6729 - auc: 0.9708 - precision: 0.7553 - recall: 0.5557\n",
            "Epoch 00098: val_accuracy did not improve from 0.73810\n",
            "22/22 [==============================] - 0s 20ms/step - loss: 0.7637 - accuracy: 0.6729 - auc: 0.9708 - precision: 0.7553 - recall: 0.5557 - val_loss: 0.6095 - val_accuracy: 0.7190 - val_auc: 0.9833 - val_precision: 0.8049 - val_recall: 0.6286\n",
            "Epoch 99/100\n",
            "20/22 [==========================>...] - ETA: 0s - loss: 0.7255 - accuracy: 0.6828 - auc: 0.9734 - precision: 0.7515 - recall: 0.5766\n",
            "Epoch 00099: val_accuracy did not improve from 0.73810\n",
            "22/22 [==============================] - 0s 20ms/step - loss: 0.7379 - accuracy: 0.6800 - auc: 0.9726 - precision: 0.7561 - recall: 0.5714 - val_loss: 0.6944 - val_accuracy: 0.7190 - val_auc: 0.9764 - val_precision: 0.8027 - val_recall: 0.5619\n",
            "Epoch 100/100\n",
            "20/22 [==========================>...] - ETA: 0s - loss: 0.8022 - accuracy: 0.6453 - auc: 0.9668 - precision: 0.7183 - recall: 0.5219\n",
            "Epoch 00100: val_accuracy did not improve from 0.73810\n",
            "22/22 [==============================] - 0s 20ms/step - loss: 0.8012 - accuracy: 0.6500 - auc: 0.9671 - precision: 0.7298 - recall: 0.5286 - val_loss: 0.6300 - val_accuracy: 0.7381 - val_auc: 0.9830 - val_precision: 0.8188 - val_recall: 0.6238\n"
          ],
          "name": "stdout"
        }
      ]
    },
    {
      "cell_type": "code",
      "metadata": {
        "id": "PrrZbYi-jNXa",
        "outputId": "0cc9fa4b-5fc1-423e-9b23-0770bb9329e4",
        "colab": {
          "base_uri": "https://localhost:8080/",
          "height": 388
        }
      },
      "source": [
        "plot_history(history, 'accuracy')"
      ],
      "execution_count": 28,
      "outputs": [
        {
          "output_type": "display_data",
          "data": {
            "image/png": "[encoded data removed]",
            "text/plain": [
              "<Figure size 720x432 with 1 Axes>"
            ]
          },
          "metadata": {
            "tags": [],
            "needs_background": "light"
          }
        }
      ]
    },
    {
      "cell_type": "code",
      "metadata": {
        "id": "HSWyLroRu55z",
        "outputId": "c977684e-3c10-42dd-8f88-19e7a693471f",
        "colab": {
          "base_uri": "https://localhost:8080/",
          "height": 1000
        }
      },
      "source": [
        "plot_history(history, 'precision')\n",
        "plot_history(history, 'recall')\n",
        "plot_history(history, 'auc')"
      ],
      "execution_count": 29,
      "outputs": [
        {
          "output_type": "display_data",
          "data": {
            "image/png": "[encoded data removed]",
            "text/plain": [
              "<Figure size 720x432 with 1 Axes>"
            ]
          },
          "metadata": {
            "tags": [],
            "needs_background": "light"
          }
        },
        {
          "output_type": "display_data",
          "data": {
            "image/png": "[encoded data removed]",
            "text/plain": [
              "<Figure size 720x432 with 1 Axes>"
            ]
          },
          "metadata": {
            "tags": [],
            "needs_background": "light"
          }
        },
        {
          "output_type": "display_data",
          "data": {
            "image/png": "[encoded data removed]",
            "text/plain": [
              "<Figure size 720x432 with 1 Axes>"
            ]
          },
          "metadata": {
            "tags": [],
            "needs_background": "light"
          }
        }
      ]
    },
    {
      "cell_type": "code",
      "metadata": {
        "id": "ASc2rTOkjLKY",
        "outputId": "d0471ad3-482d-401e-a5f9-d74c0bde9c2e",
        "colab": {
          "base_uri": "https://localhost:8080/",
          "height": 908
        }
      },
      "source": [
        "# evaluate the model\n",
        "test_loss, test_accuracy = model.evaluate(x_test_val, y_test_val)\n",
        "evaluate_lst = list(map(lambda x: x * 100, [test_loss, test_accuracy]))\n",
        "print('\\nTest:\\nLoss: {}\\nAccuracy: {}').format(evaluate_lst[0], evaluate_lst[1])"
      ],
      "execution_count": 30,
      "outputs": [
        {
          "output_type": "error",
          "ename": "ValueError",
          "evalue": "ignored",
          "traceback": [
            "\u001b[0;31m---------------------------------------------------------------------------\u001b[0m",
            "\u001b[0;31mValueError\u001b[0m                                Traceback (most recent call last)",
            "\u001b[0;32m<ipython-input-30-d1b0d5113c89>\u001b[0m in \u001b[0;36m<module>\u001b[0;34m()\u001b[0m\n\u001b[1;32m      1\u001b[0m \u001b[0;31m# evaluate the model\u001b[0m\u001b[0;34m\u001b[0m\u001b[0;34m\u001b[0m\u001b[0;34m\u001b[0m\u001b[0m\n\u001b[0;32m----> 2\u001b[0;31m \u001b[0mtest_loss\u001b[0m\u001b[0;34m,\u001b[0m \u001b[0mtest_accuracy\u001b[0m \u001b[0;34m=\u001b[0m \u001b[0mmodel\u001b[0m\u001b[0;34m.\u001b[0m\u001b[0mevaluate\u001b[0m\u001b[0;34m(\u001b[0m\u001b[0mx_test_val\u001b[0m\u001b[0;34m,\u001b[0m \u001b[0my_test_val\u001b[0m\u001b[0;34m)\u001b[0m\u001b[0;34m\u001b[0m\u001b[0;34m\u001b[0m\u001b[0m\n\u001b[0m\u001b[1;32m      3\u001b[0m \u001b[0mevaluate_lst\u001b[0m \u001b[0;34m=\u001b[0m \u001b[0mlist\u001b[0m\u001b[0;34m(\u001b[0m\u001b[0mmap\u001b[0m\u001b[0;34m(\u001b[0m\u001b[0;32mlambda\u001b[0m \u001b[0mx\u001b[0m\u001b[0;34m:\u001b[0m \u001b[0mx\u001b[0m \u001b[0;34m*\u001b[0m \u001b[0;36m100\u001b[0m\u001b[0;34m,\u001b[0m \u001b[0;34m[\u001b[0m\u001b[0mtest_loss\u001b[0m\u001b[0;34m,\u001b[0m \u001b[0mtest_accuracy\u001b[0m\u001b[0;34m]\u001b[0m\u001b[0;34m)\u001b[0m\u001b[0;34m)\u001b[0m\u001b[0;34m\u001b[0m\u001b[0;34m\u001b[0m\u001b[0m\n\u001b[1;32m      4\u001b[0m \u001b[0mprint\u001b[0m\u001b[0;34m(\u001b[0m\u001b[0;34m'\\nTest:\\nLoss: {}\\nAccuracy: {}'\u001b[0m\u001b[0;34m)\u001b[0m\u001b[0;34m.\u001b[0m\u001b[0mformat\u001b[0m\u001b[0;34m(\u001b[0m\u001b[0mevaluate_lst\u001b[0m\u001b[0;34m[\u001b[0m\u001b[0;36m0\u001b[0m\u001b[0;34m]\u001b[0m\u001b[0;34m,\u001b[0m \u001b[0mevaluate_lst\u001b[0m\u001b[0;34m[\u001b[0m\u001b[0;36m1\u001b[0m\u001b[0;34m]\u001b[0m\u001b[0;34m)\u001b[0m\u001b[0;34m\u001b[0m\u001b[0;34m\u001b[0m\u001b[0m\n",
            "\u001b[0;32m/usr/local/lib/python3.6/dist-packages/tensorflow/python/keras/engine/training.py\u001b[0m in \u001b[0;36m_method_wrapper\u001b[0;34m(self, *args, **kwargs)\u001b[0m\n\u001b[1;32m    106\u001b[0m   \u001b[0;32mdef\u001b[0m \u001b[0m_method_wrapper\u001b[0m\u001b[0;34m(\u001b[0m\u001b[0mself\u001b[0m\u001b[0;34m,\u001b[0m \u001b[0;34m*\u001b[0m\u001b[0margs\u001b[0m\u001b[0;34m,\u001b[0m \u001b[0;34m**\u001b[0m\u001b[0mkwargs\u001b[0m\u001b[0;34m)\u001b[0m\u001b[0;34m:\u001b[0m\u001b[0;34m\u001b[0m\u001b[0;34m\u001b[0m\u001b[0m\n\u001b[1;32m    107\u001b[0m     \u001b[0;32mif\u001b[0m \u001b[0;32mnot\u001b[0m \u001b[0mself\u001b[0m\u001b[0;34m.\u001b[0m\u001b[0m_in_multi_worker_mode\u001b[0m\u001b[0;34m(\u001b[0m\u001b[0;34m)\u001b[0m\u001b[0;34m:\u001b[0m  \u001b[0;31m# pylint: disable=protected-access\u001b[0m\u001b[0;34m\u001b[0m\u001b[0;34m\u001b[0m\u001b[0m\n\u001b[0;32m--> 108\u001b[0;31m       \u001b[0;32mreturn\u001b[0m \u001b[0mmethod\u001b[0m\u001b[0;34m(\u001b[0m\u001b[0mself\u001b[0m\u001b[0;34m,\u001b[0m \u001b[0;34m*\u001b[0m\u001b[0margs\u001b[0m\u001b[0;34m,\u001b[0m \u001b[0;34m**\u001b[0m\u001b[0mkwargs\u001b[0m\u001b[0;34m)\u001b[0m\u001b[0;34m\u001b[0m\u001b[0;34m\u001b[0m\u001b[0m\n\u001b[0m\u001b[1;32m    109\u001b[0m \u001b[0;34m\u001b[0m\u001b[0m\n\u001b[1;32m    110\u001b[0m     \u001b[0;31m# Running inside `run_distribute_coordinator` already.\u001b[0m\u001b[0;34m\u001b[0m\u001b[0;34m\u001b[0m\u001b[0;34m\u001b[0m\u001b[0m\n",
            "\u001b[0;32m/usr/local/lib/python3.6/dist-packages/tensorflow/python/keras/engine/training.py\u001b[0m in \u001b[0;36mevaluate\u001b[0;34m(self, x, y, batch_size, verbose, sample_weight, steps, callbacks, max_queue_size, workers, use_multiprocessing, return_dict)\u001b[0m\n\u001b[1;32m   1377\u001b[0m             \u001b[0;32mwith\u001b[0m \u001b[0mtrace\u001b[0m\u001b[0;34m.\u001b[0m\u001b[0mTrace\u001b[0m\u001b[0;34m(\u001b[0m\u001b[0;34m'TraceContext'\u001b[0m\u001b[0;34m,\u001b[0m \u001b[0mgraph_type\u001b[0m\u001b[0;34m=\u001b[0m\u001b[0;34m'test'\u001b[0m\u001b[0;34m,\u001b[0m \u001b[0mstep_num\u001b[0m\u001b[0;34m=\u001b[0m\u001b[0mstep\u001b[0m\u001b[0;34m)\u001b[0m\u001b[0;34m:\u001b[0m\u001b[0;34m\u001b[0m\u001b[0;34m\u001b[0m\u001b[0m\n\u001b[1;32m   1378\u001b[0m               \u001b[0mcallbacks\u001b[0m\u001b[0;34m.\u001b[0m\u001b[0mon_test_batch_begin\u001b[0m\u001b[0;34m(\u001b[0m\u001b[0mstep\u001b[0m\u001b[0;34m)\u001b[0m\u001b[0;34m\u001b[0m\u001b[0;34m\u001b[0m\u001b[0m\n\u001b[0;32m-> 1379\u001b[0;31m               \u001b[0mtmp_logs\u001b[0m \u001b[0;34m=\u001b[0m \u001b[0mtest_function\u001b[0m\u001b[0;34m(\u001b[0m\u001b[0miterator\u001b[0m\u001b[0;34m)\u001b[0m\u001b[0;34m\u001b[0m\u001b[0;34m\u001b[0m\u001b[0m\n\u001b[0m\u001b[1;32m   1380\u001b[0m               \u001b[0;32mif\u001b[0m \u001b[0mdata_handler\u001b[0m\u001b[0;34m.\u001b[0m\u001b[0mshould_sync\u001b[0m\u001b[0;34m:\u001b[0m\u001b[0;34m\u001b[0m\u001b[0;34m\u001b[0m\u001b[0m\n\u001b[1;32m   1381\u001b[0m                 \u001b[0mcontext\u001b[0m\u001b[0;34m.\u001b[0m\u001b[0masync_wait\u001b[0m\u001b[0;34m(\u001b[0m\u001b[0;34m)\u001b[0m\u001b[0;34m\u001b[0m\u001b[0;34m\u001b[0m\u001b[0m\n",
            "\u001b[0;32m/usr/local/lib/python3.6/dist-packages/tensorflow/python/eager/def_function.py\u001b[0m in \u001b[0;36m__call__\u001b[0;34m(self, *args, **kwds)\u001b[0m\n\u001b[1;32m    778\u001b[0m       \u001b[0;32melse\u001b[0m\u001b[0;34m:\u001b[0m\u001b[0;34m\u001b[0m\u001b[0;34m\u001b[0m\u001b[0m\n\u001b[1;32m    779\u001b[0m         \u001b[0mcompiler\u001b[0m \u001b[0;34m=\u001b[0m \u001b[0;34m\"nonXla\"\u001b[0m\u001b[0;34m\u001b[0m\u001b[0;34m\u001b[0m\u001b[0m\n\u001b[0;32m--> 780\u001b[0;31m         \u001b[0mresult\u001b[0m \u001b[0;34m=\u001b[0m \u001b[0mself\u001b[0m\u001b[0;34m.\u001b[0m\u001b[0m_call\u001b[0m\u001b[0;34m(\u001b[0m\u001b[0;34m*\u001b[0m\u001b[0margs\u001b[0m\u001b[0;34m,\u001b[0m \u001b[0;34m**\u001b[0m\u001b[0mkwds\u001b[0m\u001b[0;34m)\u001b[0m\u001b[0;34m\u001b[0m\u001b[0;34m\u001b[0m\u001b[0m\n\u001b[0m\u001b[1;32m    781\u001b[0m \u001b[0;34m\u001b[0m\u001b[0m\n\u001b[1;32m    782\u001b[0m       \u001b[0mnew_tracing_count\u001b[0m \u001b[0;34m=\u001b[0m \u001b[0mself\u001b[0m\u001b[0;34m.\u001b[0m\u001b[0m_get_tracing_count\u001b[0m\u001b[0;34m(\u001b[0m\u001b[0;34m)\u001b[0m\u001b[0;34m\u001b[0m\u001b[0;34m\u001b[0m\u001b[0m\n",
            "\u001b[0;32m/usr/local/lib/python3.6/dist-packages/tensorflow/python/eager/def_function.py\u001b[0m in \u001b[0;36m_call\u001b[0;34m(self, *args, **kwds)\u001b[0m\n\u001b[1;32m    812\u001b[0m       \u001b[0;31m# In this case we have not created variables on the first call. So we can\u001b[0m\u001b[0;34m\u001b[0m\u001b[0;34m\u001b[0m\u001b[0;34m\u001b[0m\u001b[0m\n\u001b[1;32m    813\u001b[0m       \u001b[0;31m# run the first trace but we should fail if variables are created.\u001b[0m\u001b[0;34m\u001b[0m\u001b[0;34m\u001b[0m\u001b[0;34m\u001b[0m\u001b[0m\n\u001b[0;32m--> 814\u001b[0;31m       \u001b[0mresults\u001b[0m \u001b[0;34m=\u001b[0m \u001b[0mself\u001b[0m\u001b[0;34m.\u001b[0m\u001b[0m_stateful_fn\u001b[0m\u001b[0;34m(\u001b[0m\u001b[0;34m*\u001b[0m\u001b[0margs\u001b[0m\u001b[0;34m,\u001b[0m \u001b[0;34m**\u001b[0m\u001b[0mkwds\u001b[0m\u001b[0;34m)\u001b[0m\u001b[0;34m\u001b[0m\u001b[0;34m\u001b[0m\u001b[0m\n\u001b[0m\u001b[1;32m    815\u001b[0m       \u001b[0;32mif\u001b[0m \u001b[0mself\u001b[0m\u001b[0;34m.\u001b[0m\u001b[0m_created_variables\u001b[0m\u001b[0;34m:\u001b[0m\u001b[0;34m\u001b[0m\u001b[0;34m\u001b[0m\u001b[0m\n\u001b[1;32m    816\u001b[0m         raise ValueError(\"Creating variables on a non-first call to a function\"\n",
            "\u001b[0;32m/usr/local/lib/python3.6/dist-packages/tensorflow/python/eager/function.py\u001b[0m in \u001b[0;36m__call__\u001b[0;34m(self, *args, **kwargs)\u001b[0m\n\u001b[1;32m   2826\u001b[0m     \u001b[0;34m\"\"\"Calls a graph function specialized to the inputs.\"\"\"\u001b[0m\u001b[0;34m\u001b[0m\u001b[0;34m\u001b[0m\u001b[0m\n\u001b[1;32m   2827\u001b[0m     \u001b[0;32mwith\u001b[0m \u001b[0mself\u001b[0m\u001b[0;34m.\u001b[0m\u001b[0m_lock\u001b[0m\u001b[0;34m:\u001b[0m\u001b[0;34m\u001b[0m\u001b[0;34m\u001b[0m\u001b[0m\n\u001b[0;32m-> 2828\u001b[0;31m       \u001b[0mgraph_function\u001b[0m\u001b[0;34m,\u001b[0m \u001b[0margs\u001b[0m\u001b[0;34m,\u001b[0m \u001b[0mkwargs\u001b[0m \u001b[0;34m=\u001b[0m \u001b[0mself\u001b[0m\u001b[0;34m.\u001b[0m\u001b[0m_maybe_define_function\u001b[0m\u001b[0;34m(\u001b[0m\u001b[0margs\u001b[0m\u001b[0;34m,\u001b[0m \u001b[0mkwargs\u001b[0m\u001b[0;34m)\u001b[0m\u001b[0;34m\u001b[0m\u001b[0;34m\u001b[0m\u001b[0m\n\u001b[0m\u001b[1;32m   2829\u001b[0m     \u001b[0;32mreturn\u001b[0m \u001b[0mgraph_function\u001b[0m\u001b[0;34m.\u001b[0m\u001b[0m_filtered_call\u001b[0m\u001b[0;34m(\u001b[0m\u001b[0margs\u001b[0m\u001b[0;34m,\u001b[0m \u001b[0mkwargs\u001b[0m\u001b[0;34m)\u001b[0m  \u001b[0;31m# pylint: disable=protected-access\u001b[0m\u001b[0;34m\u001b[0m\u001b[0;34m\u001b[0m\u001b[0m\n\u001b[1;32m   2830\u001b[0m \u001b[0;34m\u001b[0m\u001b[0m\n",
            "\u001b[0;32m/usr/local/lib/python3.6/dist-packages/tensorflow/python/eager/function.py\u001b[0m in \u001b[0;36m_maybe_define_function\u001b[0;34m(self, args, kwargs)\u001b[0m\n\u001b[1;32m   3208\u001b[0m           \u001b[0;32mand\u001b[0m \u001b[0mself\u001b[0m\u001b[0;34m.\u001b[0m\u001b[0minput_signature\u001b[0m \u001b[0;32mis\u001b[0m \u001b[0;32mNone\u001b[0m\u001b[0;34m\u001b[0m\u001b[0;34m\u001b[0m\u001b[0m\n\u001b[1;32m   3209\u001b[0m           and call_context_key in self._function_cache.missed):\n\u001b[0;32m-> 3210\u001b[0;31m         \u001b[0;32mreturn\u001b[0m \u001b[0mself\u001b[0m\u001b[0;34m.\u001b[0m\u001b[0m_define_function_with_shape_relaxation\u001b[0m\u001b[0;34m(\u001b[0m\u001b[0margs\u001b[0m\u001b[0;34m,\u001b[0m \u001b[0mkwargs\u001b[0m\u001b[0;34m)\u001b[0m\u001b[0;34m\u001b[0m\u001b[0;34m\u001b[0m\u001b[0m\n\u001b[0m\u001b[1;32m   3211\u001b[0m \u001b[0;34m\u001b[0m\u001b[0m\n\u001b[1;32m   3212\u001b[0m       \u001b[0mself\u001b[0m\u001b[0;34m.\u001b[0m\u001b[0m_function_cache\u001b[0m\u001b[0;34m.\u001b[0m\u001b[0mmissed\u001b[0m\u001b[0;34m.\u001b[0m\u001b[0madd\u001b[0m\u001b[0;34m(\u001b[0m\u001b[0mcall_context_key\u001b[0m\u001b[0;34m)\u001b[0m\u001b[0;34m\u001b[0m\u001b[0;34m\u001b[0m\u001b[0m\n",
            "\u001b[0;32m/usr/local/lib/python3.6/dist-packages/tensorflow/python/eager/function.py\u001b[0m in \u001b[0;36m_define_function_with_shape_relaxation\u001b[0;34m(self, args, kwargs)\u001b[0m\n\u001b[1;32m   3140\u001b[0m \u001b[0;34m\u001b[0m\u001b[0m\n\u001b[1;32m   3141\u001b[0m     graph_function = self._create_graph_function(\n\u001b[0;32m-> 3142\u001b[0;31m         args, kwargs, override_flat_arg_shapes=relaxed_arg_shapes)\n\u001b[0m\u001b[1;32m   3143\u001b[0m     \u001b[0mself\u001b[0m\u001b[0;34m.\u001b[0m\u001b[0m_function_cache\u001b[0m\u001b[0;34m.\u001b[0m\u001b[0marg_relaxed\u001b[0m\u001b[0;34m[\u001b[0m\u001b[0mrank_only_cache_key\u001b[0m\u001b[0;34m]\u001b[0m \u001b[0;34m=\u001b[0m \u001b[0mgraph_function\u001b[0m\u001b[0;34m\u001b[0m\u001b[0;34m\u001b[0m\u001b[0m\n\u001b[1;32m   3144\u001b[0m \u001b[0;34m\u001b[0m\u001b[0m\n",
            "\u001b[0;32m/usr/local/lib/python3.6/dist-packages/tensorflow/python/eager/function.py\u001b[0m in \u001b[0;36m_create_graph_function\u001b[0;34m(self, args, kwargs, override_flat_arg_shapes)\u001b[0m\n\u001b[1;32m   3073\u001b[0m             \u001b[0marg_names\u001b[0m\u001b[0;34m=\u001b[0m\u001b[0marg_names\u001b[0m\u001b[0;34m,\u001b[0m\u001b[0;34m\u001b[0m\u001b[0;34m\u001b[0m\u001b[0m\n\u001b[1;32m   3074\u001b[0m             \u001b[0moverride_flat_arg_shapes\u001b[0m\u001b[0;34m=\u001b[0m\u001b[0moverride_flat_arg_shapes\u001b[0m\u001b[0;34m,\u001b[0m\u001b[0;34m\u001b[0m\u001b[0;34m\u001b[0m\u001b[0m\n\u001b[0;32m-> 3075\u001b[0;31m             capture_by_value=self._capture_by_value),\n\u001b[0m\u001b[1;32m   3076\u001b[0m         \u001b[0mself\u001b[0m\u001b[0;34m.\u001b[0m\u001b[0m_function_attributes\u001b[0m\u001b[0;34m,\u001b[0m\u001b[0;34m\u001b[0m\u001b[0;34m\u001b[0m\u001b[0m\n\u001b[1;32m   3077\u001b[0m         \u001b[0mfunction_spec\u001b[0m\u001b[0;34m=\u001b[0m\u001b[0mself\u001b[0m\u001b[0;34m.\u001b[0m\u001b[0mfunction_spec\u001b[0m\u001b[0;34m,\u001b[0m\u001b[0;34m\u001b[0m\u001b[0;34m\u001b[0m\u001b[0m\n",
            "\u001b[0;32m/usr/local/lib/python3.6/dist-packages/tensorflow/python/framework/func_graph.py\u001b[0m in \u001b[0;36mfunc_graph_from_py_func\u001b[0;34m(name, python_func, args, kwargs, signature, func_graph, autograph, autograph_options, add_control_dependencies, arg_names, op_return_value, collections, capture_by_value, override_flat_arg_shapes)\u001b[0m\n\u001b[1;32m    984\u001b[0m         \u001b[0m_\u001b[0m\u001b[0;34m,\u001b[0m \u001b[0moriginal_func\u001b[0m \u001b[0;34m=\u001b[0m \u001b[0mtf_decorator\u001b[0m\u001b[0;34m.\u001b[0m\u001b[0munwrap\u001b[0m\u001b[0;34m(\u001b[0m\u001b[0mpython_func\u001b[0m\u001b[0;34m)\u001b[0m\u001b[0;34m\u001b[0m\u001b[0;34m\u001b[0m\u001b[0m\n\u001b[1;32m    985\u001b[0m \u001b[0;34m\u001b[0m\u001b[0m\n\u001b[0;32m--> 986\u001b[0;31m       \u001b[0mfunc_outputs\u001b[0m \u001b[0;34m=\u001b[0m \u001b[0mpython_func\u001b[0m\u001b[0;34m(\u001b[0m\u001b[0;34m*\u001b[0m\u001b[0mfunc_args\u001b[0m\u001b[0;34m,\u001b[0m \u001b[0;34m**\u001b[0m\u001b[0mfunc_kwargs\u001b[0m\u001b[0;34m)\u001b[0m\u001b[0;34m\u001b[0m\u001b[0;34m\u001b[0m\u001b[0m\n\u001b[0m\u001b[1;32m    987\u001b[0m \u001b[0;34m\u001b[0m\u001b[0m\n\u001b[1;32m    988\u001b[0m       \u001b[0;31m# invariant: `func_outputs` contains only Tensors, CompositeTensors,\u001b[0m\u001b[0;34m\u001b[0m\u001b[0;34m\u001b[0m\u001b[0;34m\u001b[0m\u001b[0m\n",
            "\u001b[0;32m/usr/local/lib/python3.6/dist-packages/tensorflow/python/eager/def_function.py\u001b[0m in \u001b[0;36mwrapped_fn\u001b[0;34m(*args, **kwds)\u001b[0m\n\u001b[1;32m    598\u001b[0m         \u001b[0;31m# __wrapped__ allows AutoGraph to swap in a converted function. We give\u001b[0m\u001b[0;34m\u001b[0m\u001b[0;34m\u001b[0m\u001b[0;34m\u001b[0m\u001b[0m\n\u001b[1;32m    599\u001b[0m         \u001b[0;31m# the function a weak reference to itself to avoid a reference cycle.\u001b[0m\u001b[0;34m\u001b[0m\u001b[0;34m\u001b[0m\u001b[0;34m\u001b[0m\u001b[0m\n\u001b[0;32m--> 600\u001b[0;31m         \u001b[0;32mreturn\u001b[0m \u001b[0mweak_wrapped_fn\u001b[0m\u001b[0;34m(\u001b[0m\u001b[0;34m)\u001b[0m\u001b[0;34m.\u001b[0m\u001b[0m__wrapped__\u001b[0m\u001b[0;34m(\u001b[0m\u001b[0;34m*\u001b[0m\u001b[0margs\u001b[0m\u001b[0;34m,\u001b[0m \u001b[0;34m**\u001b[0m\u001b[0mkwds\u001b[0m\u001b[0;34m)\u001b[0m\u001b[0;34m\u001b[0m\u001b[0;34m\u001b[0m\u001b[0m\n\u001b[0m\u001b[1;32m    601\u001b[0m     \u001b[0mweak_wrapped_fn\u001b[0m \u001b[0;34m=\u001b[0m \u001b[0mweakref\u001b[0m\u001b[0;34m.\u001b[0m\u001b[0mref\u001b[0m\u001b[0;34m(\u001b[0m\u001b[0mwrapped_fn\u001b[0m\u001b[0;34m)\u001b[0m\u001b[0;34m\u001b[0m\u001b[0;34m\u001b[0m\u001b[0m\n\u001b[1;32m    602\u001b[0m \u001b[0;34m\u001b[0m\u001b[0m\n",
            "\u001b[0;32m/usr/local/lib/python3.6/dist-packages/tensorflow/python/framework/func_graph.py\u001b[0m in \u001b[0;36mwrapper\u001b[0;34m(*args, **kwargs)\u001b[0m\n\u001b[1;32m    971\u001b[0m           \u001b[0;32mexcept\u001b[0m \u001b[0mException\u001b[0m \u001b[0;32mas\u001b[0m \u001b[0me\u001b[0m\u001b[0;34m:\u001b[0m  \u001b[0;31m# pylint:disable=broad-except\u001b[0m\u001b[0;34m\u001b[0m\u001b[0;34m\u001b[0m\u001b[0m\n\u001b[1;32m    972\u001b[0m             \u001b[0;32mif\u001b[0m \u001b[0mhasattr\u001b[0m\u001b[0;34m(\u001b[0m\u001b[0me\u001b[0m\u001b[0;34m,\u001b[0m \u001b[0;34m\"ag_error_metadata\"\u001b[0m\u001b[0;34m)\u001b[0m\u001b[0;34m:\u001b[0m\u001b[0;34m\u001b[0m\u001b[0;34m\u001b[0m\u001b[0m\n\u001b[0;32m--> 973\u001b[0;31m               \u001b[0;32mraise\u001b[0m \u001b[0me\u001b[0m\u001b[0;34m.\u001b[0m\u001b[0mag_error_metadata\u001b[0m\u001b[0;34m.\u001b[0m\u001b[0mto_exception\u001b[0m\u001b[0;34m(\u001b[0m\u001b[0me\u001b[0m\u001b[0;34m)\u001b[0m\u001b[0;34m\u001b[0m\u001b[0;34m\u001b[0m\u001b[0m\n\u001b[0m\u001b[1;32m    974\u001b[0m             \u001b[0;32melse\u001b[0m\u001b[0;34m:\u001b[0m\u001b[0;34m\u001b[0m\u001b[0;34m\u001b[0m\u001b[0m\n\u001b[1;32m    975\u001b[0m               \u001b[0;32mraise\u001b[0m\u001b[0;34m\u001b[0m\u001b[0;34m\u001b[0m\u001b[0m\n",
            "\u001b[0;31mValueError\u001b[0m: in user code:\n\n    /usr/local/lib/python3.6/dist-packages/tensorflow/python/keras/engine/training.py:1224 test_function  *\n        return step_function(self, iterator)\n    /usr/local/lib/python3.6/dist-packages/tensorflow/python/keras/engine/training.py:1215 step_function  **\n        outputs = model.distribute_strategy.run(run_step, args=(data,))\n    /usr/local/lib/python3.6/dist-packages/tensorflow/python/distribute/distribute_lib.py:1211 run\n        return self._extended.call_for_each_replica(fn, args=args, kwargs=kwargs)\n    /usr/local/lib/python3.6/dist-packages/tensorflow/python/distribute/distribute_lib.py:2585 call_for_each_replica\n        return self._call_for_each_replica(fn, args, kwargs)\n    /usr/local/lib/python3.6/dist-packages/tensorflow/python/distribute/distribute_lib.py:2945 _call_for_each_replica\n        return fn(*args, **kwargs)\n    /usr/local/lib/python3.6/dist-packages/tensorflow/python/keras/engine/training.py:1208 run_step  **\n        outputs = model.test_step(data)\n    /usr/local/lib/python3.6/dist-packages/tensorflow/python/keras/engine/training.py:1177 test_step\n        y, y_pred, sample_weight, regularization_losses=self.losses)\n    /usr/local/lib/python3.6/dist-packages/tensorflow/python/keras/engine/compile_utils.py:204 __call__\n        loss_value = loss_obj(y_t, y_p, sample_weight=sw)\n    /usr/local/lib/python3.6/dist-packages/tensorflow/python/keras/losses.py:149 __call__\n        losses = ag_call(y_true, y_pred)\n    /usr/local/lib/python3.6/dist-packages/tensorflow/python/keras/losses.py:253 call  **\n        return ag_fn(y_true, y_pred, **self._fn_kwargs)\n    /usr/local/lib/python3.6/dist-packages/tensorflow/python/util/dispatch.py:201 wrapper\n        return target(*args, **kwargs)\n    /usr/local/lib/python3.6/dist-packages/tensorflow/python/keras/losses.py:1535 categorical_crossentropy\n        return K.categorical_crossentropy(y_true, y_pred, from_logits=from_logits)\n    /usr/local/lib/python3.6/dist-packages/tensorflow/python/util/dispatch.py:201 wrapper\n        return target(*args, **kwargs)\n    /usr/local/lib/python3.6/dist-packages/tensorflow/python/keras/backend.py:4687 categorical_crossentropy\n        target.shape.assert_is_compatible_with(output.shape)\n    /usr/local/lib/python3.6/dist-packages/tensorflow/python/framework/tensor_shape.py:1134 assert_is_compatible_with\n        raise ValueError(\"Shapes %s and %s are incompatible\" % (self, other))\n\n    ValueError: Shapes (None, 1) and (None, 11) are incompatible\n"
          ]
        }
      ]
    },
    {
      "cell_type": "code",
      "metadata": {
        "id": "Ol2Q8hOXjKfr"
      },
      "source": [
        "# predict\n",
        "s = 'happy'\n",
        "pred = predict(label_dict, s, model)\n",
        "print('Word: {}'.format(s))\n",
        "print('Prediction: {}'.format(pred))"
      ],
      "execution_count": null,
      "outputs": []
    },
    {
      "cell_type": "code",
      "metadata": {
        "id": "Rbh8T-mrx20u"
      },
      "source": [
        "# evaluation confusion matrix\n",
        "tf.math.confusion_matrix(labels=y_validation, predictions=x_validation) # what X prediction should I use here? "
      ],
      "execution_count": null,
      "outputs": []
    },
    {
      "cell_type": "code",
      "metadata": {
        "id": "7TlxepYljOxE"
      },
      "source": [
        "# save the model\n",
        "!mkdir models\n",
        "model.save(MODEL_PATH)"
      ],
      "execution_count": null,
      "outputs": []
    },
    {
      "cell_type": "code",
      "metadata": {
        "id": "Hp7RGZe-jPDB"
      },
      "source": [
        "# convert to modeljs\n",
        "tfjs.converters.save_keras_model(model, 'tfjsmodel')"
      ],
      "execution_count": null,
      "outputs": []
    }
  ]
}