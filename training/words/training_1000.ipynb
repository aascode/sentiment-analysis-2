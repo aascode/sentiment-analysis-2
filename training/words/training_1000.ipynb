{
  "nbformat": 4,
  "nbformat_minor": 0,
  "metadata": {
    "colab": {
      "name": "training_1000.ipynb",
      "provenance": [],
      "collapsed_sections": [],
      "toc_visible": true,
      "machine_shape": "hm"
    },
    "kernelspec": {
      "name": "python3",
      "display_name": "Python 3"
    },
    "accelerator": "GPU"
  },
  "cells": [
    {
      "cell_type": "markdown",
      "metadata": {
        "id": "3hCJ7VTq1r-B"
      },
      "source": [
        "---\n",
        "# **Sentiment Analysis**\n",
        "---"
      ]
    },
    {
      "cell_type": "markdown",
      "metadata": {
        "id": "RrfoCSVi1uU_"
      },
      "source": [
        "---\n",
        "\n",
        "# **1. Installation**\n",
        "\n",
        "---"
      ]
    },
    {
      "cell_type": "markdown",
      "metadata": {
        "id": "jfMMl1bb1x_2"
      },
      "source": [
        "## i. Generating a reponse\n"
      ]
    },
    {
      "cell_type": "code",
      "metadata": {
        "id": "soQns5KH0mNV"
      },
      "source": [
        "import sys\n",
        "import logging\n",
        "from psutil import virtual_memory"
      ],
      "execution_count": 1,
      "outputs": []
    },
    {
      "cell_type": "code",
      "metadata": {
        "id": "WwXk46ge1zYO"
      },
      "source": [
        "gpu_info = !nvidia-smi\n",
        "gpu_info = '\\n'.join(gpu_info)\n",
        "ram_gb = virtual_memory().total / 1e9"
      ],
      "execution_count": 2,
      "outputs": []
    },
    {
      "cell_type": "code",
      "metadata": {
        "id": "AqYgi67z1zgZ"
      },
      "source": [
        "tf_response = {\n",
        "    'error': None,\n",
        "    'TF version': '',\n",
        "    'COLAB': None,\n",
        "    'GPU': False,\n",
        "    'ram_gb': ''\n",
        "}"
      ],
      "execution_count": 3,
      "outputs": []
    },
    {
      "cell_type": "code",
      "metadata": {
        "id": "CvNt2AJ51znJ",
        "outputId": "577ee7f0-3b39-4e21-8d01-bd830c1ecd48",
        "colab": {
          "base_uri": "https://localhost:8080/"
        }
      },
      "source": [
        "try:\n",
        "    # drive\n",
        "    from google.colab import drive\n",
        "    IN_COLAB = 'google.colab' in sys.modules\n",
        "\n",
        "    # updating tensorflow version\n",
        "    %tensorflow_version 2.x\n",
        "\n",
        "    # tensorflow-gpu & tensorflowjs\n",
        "    !pip install tensorflow-gpu # !pip install tensorflow_text # I could use BERT\n",
        "    !pip install tensorflowjs\n",
        "\n",
        "    # NLP (nltk, stanza, spacy)\n",
        "    !pip install nltk \n",
        "    !pip install stanza\n",
        "    !pip install spacy\n",
        "    !spacy download en_core_web_sm # sm md lg\n",
        "    !python -m spacy download en\n",
        "except OSError as error:\n",
        "    # debugging error\n",
        "    response['error'] = logging.debug('You are not using your specify version of TensorFlow')\n",
        "    IN_COLAB = False\n",
        "\n",
        "    # install requirements\n",
        "    !pip install -r '../requirements.txt'\n",
        "finally:\n",
        "    tf_response['COLAB'] = IN_COLAB\n",
        "    \n",
        "    # Importing tensroflow core\n",
        "    import tensorflow as tf\n",
        "    import tensorflowjs as tfjs\n",
        "    from tensorflow import keras\n",
        "    from keras.utils import to_categorical\n",
        "\n",
        "    from tensorflow.keras.preprocessing.text import Tokenizer\n",
        "    from tensorflow.keras.preprocessing.sequence import pad_sequences\n",
        "\n",
        "    from tensorflow.keras.models import Sequential\n",
        "    from tensorflow.keras.layers import Dense, Flatten, LSTM, Dropout, Activation, Embedding, Bidirectional, GlobalMaxPool1D\n",
        "\n",
        "    from sklearn.model_selection import train_test_split\n",
        "    \n",
        "    # GPU and RAM response\n",
        "    if tf.config.list_physical_devices('GPU'):\n",
        "        GPU = True\n",
        "        tf_response['GPU'] = GPU\n",
        "        tf_response['TF_version'] = tf.__version__\n",
        "        \n",
        "        if tf_response['COLAB'] == True:\n",
        "            if gpu_info.find('failed') >= 0:\n",
        "                print('Select the Runtime > \"Change runtime type\" menu to enable a GPU accelerator')\n",
        "                print('Re-execute this cell.')\n",
        "            else:\n",
        "                print(gpu_info)\n",
        "            \n",
        "            if ram_gb < 20:\n",
        "                print('To enable a high-RAM runtime, select the Runtime > \"Change runtime type menu\"')\n",
        "                print('Select high-RAM in the runtime shape dropdown')\n",
        "                print('Re-execute this cell')\n",
        "                tf_response['ram_gb'] = 'low-RAM runtime'\n",
        "            else:\n",
        "                tf_response['ram_gb'] = 'high-RAM runtime'\n",
        "            print('\\nRuntime {:.2f} GB of available RAM\\n'.format(ram_gb))"
      ],
      "execution_count": 4,
      "outputs": [
        {
          "output_type": "stream",
          "text": [
            "Requirement already satisfied: tensorflow-gpu in /usr/local/lib/python3.6/dist-packages (2.3.1)\n",
            "Requirement already satisfied: google-pasta>=0.1.8 in /usr/local/lib/python3.6/dist-packages (from tensorflow-gpu) (0.2.0)\n",
            "Requirement already satisfied: protobuf>=3.9.2 in /usr/local/lib/python3.6/dist-packages (from tensorflow-gpu) (3.12.4)\n",
            "Requirement already satisfied: wrapt>=1.11.1 in /usr/local/lib/python3.6/dist-packages (from tensorflow-gpu) (1.12.1)\n",
            "Requirement already satisfied: tensorflow-estimator<2.4.0,>=2.3.0 in /usr/local/lib/python3.6/dist-packages (from tensorflow-gpu) (2.3.0)\n",
            "Requirement already satisfied: h5py<2.11.0,>=2.10.0 in /usr/local/lib/python3.6/dist-packages (from tensorflow-gpu) (2.10.0)\n",
            "Requirement already satisfied: termcolor>=1.1.0 in /usr/local/lib/python3.6/dist-packages (from tensorflow-gpu) (1.1.0)\n",
            "Requirement already satisfied: wheel>=0.26 in /usr/local/lib/python3.6/dist-packages (from tensorflow-gpu) (0.35.1)\n",
            "Requirement already satisfied: gast==0.3.3 in /usr/local/lib/python3.6/dist-packages (from tensorflow-gpu) (0.3.3)\n",
            "Requirement already satisfied: tensorboard<3,>=2.3.0 in /usr/local/lib/python3.6/dist-packages (from tensorflow-gpu) (2.3.0)\n",
            "Requirement already satisfied: grpcio>=1.8.6 in /usr/local/lib/python3.6/dist-packages (from tensorflow-gpu) (1.32.0)\n",
            "Requirement already satisfied: absl-py>=0.7.0 in /usr/local/lib/python3.6/dist-packages (from tensorflow-gpu) (0.10.0)\n",
            "Requirement already satisfied: keras-preprocessing<1.2,>=1.1.1 in /usr/local/lib/python3.6/dist-packages (from tensorflow-gpu) (1.1.2)\n",
            "Requirement already satisfied: numpy<1.19.0,>=1.16.0 in /usr/local/lib/python3.6/dist-packages (from tensorflow-gpu) (1.18.5)\n",
            "Requirement already satisfied: six>=1.12.0 in /usr/local/lib/python3.6/dist-packages (from tensorflow-gpu) (1.15.0)\n",
            "Requirement already satisfied: opt-einsum>=2.3.2 in /usr/local/lib/python3.6/dist-packages (from tensorflow-gpu) (3.3.0)\n",
            "Requirement already satisfied: astunparse==1.6.3 in /usr/local/lib/python3.6/dist-packages (from tensorflow-gpu) (1.6.3)\n",
            "Requirement already satisfied: setuptools in /usr/local/lib/python3.6/dist-packages (from protobuf>=3.9.2->tensorflow-gpu) (50.3.0)\n",
            "Requirement already satisfied: requests<3,>=2.21.0 in /usr/local/lib/python3.6/dist-packages (from tensorboard<3,>=2.3.0->tensorflow-gpu) (2.23.0)\n",
            "Requirement already satisfied: tensorboard-plugin-wit>=1.6.0 in /usr/local/lib/python3.6/dist-packages (from tensorboard<3,>=2.3.0->tensorflow-gpu) (1.7.0)\n",
            "Requirement already satisfied: google-auth<2,>=1.6.3 in /usr/local/lib/python3.6/dist-packages (from tensorboard<3,>=2.3.0->tensorflow-gpu) (1.17.2)\n",
            "Requirement already satisfied: google-auth-oauthlib<0.5,>=0.4.1 in /usr/local/lib/python3.6/dist-packages (from tensorboard<3,>=2.3.0->tensorflow-gpu) (0.4.1)\n",
            "Requirement already satisfied: werkzeug>=0.11.15 in /usr/local/lib/python3.6/dist-packages (from tensorboard<3,>=2.3.0->tensorflow-gpu) (1.0.1)\n",
            "Requirement already satisfied: markdown>=2.6.8 in /usr/local/lib/python3.6/dist-packages (from tensorboard<3,>=2.3.0->tensorflow-gpu) (3.2.2)\n",
            "Requirement already satisfied: idna<3,>=2.5 in /usr/local/lib/python3.6/dist-packages (from requests<3,>=2.21.0->tensorboard<3,>=2.3.0->tensorflow-gpu) (2.10)\n",
            "Requirement already satisfied: urllib3!=1.25.0,!=1.25.1,<1.26,>=1.21.1 in /usr/local/lib/python3.6/dist-packages (from requests<3,>=2.21.0->tensorboard<3,>=2.3.0->tensorflow-gpu) (1.24.3)\n",
            "Requirement already satisfied: certifi>=2017.4.17 in /usr/local/lib/python3.6/dist-packages (from requests<3,>=2.21.0->tensorboard<3,>=2.3.0->tensorflow-gpu) (2020.6.20)\n",
            "Requirement already satisfied: chardet<4,>=3.0.2 in /usr/local/lib/python3.6/dist-packages (from requests<3,>=2.21.0->tensorboard<3,>=2.3.0->tensorflow-gpu) (3.0.4)\n",
            "Requirement already satisfied: pyasn1-modules>=0.2.1 in /usr/local/lib/python3.6/dist-packages (from google-auth<2,>=1.6.3->tensorboard<3,>=2.3.0->tensorflow-gpu) (0.2.8)\n",
            "Requirement already satisfied: rsa<5,>=3.1.4; python_version >= \"3\" in /usr/local/lib/python3.6/dist-packages (from google-auth<2,>=1.6.3->tensorboard<3,>=2.3.0->tensorflow-gpu) (4.6)\n",
            "Requirement already satisfied: cachetools<5.0,>=2.0.0 in /usr/local/lib/python3.6/dist-packages (from google-auth<2,>=1.6.3->tensorboard<3,>=2.3.0->tensorflow-gpu) (4.1.1)\n",
            "Requirement already satisfied: requests-oauthlib>=0.7.0 in /usr/local/lib/python3.6/dist-packages (from google-auth-oauthlib<0.5,>=0.4.1->tensorboard<3,>=2.3.0->tensorflow-gpu) (1.3.0)\n",
            "Requirement already satisfied: importlib-metadata; python_version < \"3.8\" in /usr/local/lib/python3.6/dist-packages (from markdown>=2.6.8->tensorboard<3,>=2.3.0->tensorflow-gpu) (2.0.0)\n",
            "Requirement already satisfied: pyasn1<0.5.0,>=0.4.6 in /usr/local/lib/python3.6/dist-packages (from pyasn1-modules>=0.2.1->google-auth<2,>=1.6.3->tensorboard<3,>=2.3.0->tensorflow-gpu) (0.4.8)\n",
            "Requirement already satisfied: oauthlib>=3.0.0 in /usr/local/lib/python3.6/dist-packages (from requests-oauthlib>=0.7.0->google-auth-oauthlib<0.5,>=0.4.1->tensorboard<3,>=2.3.0->tensorflow-gpu) (3.1.0)\n",
            "Requirement already satisfied: zipp>=0.5 in /usr/local/lib/python3.6/dist-packages (from importlib-metadata; python_version < \"3.8\"->markdown>=2.6.8->tensorboard<3,>=2.3.0->tensorflow-gpu) (3.2.0)\n",
            "Requirement already satisfied: tensorflowjs in /usr/local/lib/python3.6/dist-packages (2.5.0)\n",
            "Requirement already satisfied: tensorflow-hub<0.10,>=0.7.0 in /usr/local/lib/python3.6/dist-packages (from tensorflowjs) (0.9.0)\n",
            "Requirement already satisfied: tensorflow<3,>=2.1.0 in /usr/local/lib/python3.6/dist-packages (from tensorflowjs) (2.3.0)\n",
            "Requirement already satisfied: six<2,>=1.12.0 in /usr/local/lib/python3.6/dist-packages (from tensorflowjs) (1.15.0)\n",
            "Requirement already satisfied: h5py<3,>=2.8.0 in /usr/local/lib/python3.6/dist-packages (from tensorflowjs) (2.10.0)\n",
            "Requirement already satisfied: protobuf>=3.8.0 in /usr/local/lib/python3.6/dist-packages (from tensorflow-hub<0.10,>=0.7.0->tensorflowjs) (3.12.4)\n",
            "Requirement already satisfied: numpy>=1.12.0 in /usr/local/lib/python3.6/dist-packages (from tensorflow-hub<0.10,>=0.7.0->tensorflowjs) (1.18.5)\n",
            "Requirement already satisfied: tensorflow-estimator<2.4.0,>=2.3.0 in /usr/local/lib/python3.6/dist-packages (from tensorflow<3,>=2.1.0->tensorflowjs) (2.3.0)\n",
            "Requirement already satisfied: grpcio>=1.8.6 in /usr/local/lib/python3.6/dist-packages (from tensorflow<3,>=2.1.0->tensorflowjs) (1.32.0)\n",
            "Requirement already satisfied: wrapt>=1.11.1 in /usr/local/lib/python3.6/dist-packages (from tensorflow<3,>=2.1.0->tensorflowjs) (1.12.1)\n",
            "Requirement already satisfied: tensorboard<3,>=2.3.0 in /usr/local/lib/python3.6/dist-packages (from tensorflow<3,>=2.1.0->tensorflowjs) (2.3.0)\n",
            "Requirement already satisfied: wheel>=0.26 in /usr/local/lib/python3.6/dist-packages (from tensorflow<3,>=2.1.0->tensorflowjs) (0.35.1)\n",
            "Requirement already satisfied: opt-einsum>=2.3.2 in /usr/local/lib/python3.6/dist-packages (from tensorflow<3,>=2.1.0->tensorflowjs) (3.3.0)\n",
            "Requirement already satisfied: keras-preprocessing<1.2,>=1.1.1 in /usr/local/lib/python3.6/dist-packages (from tensorflow<3,>=2.1.0->tensorflowjs) (1.1.2)\n",
            "Requirement already satisfied: absl-py>=0.7.0 in /usr/local/lib/python3.6/dist-packages (from tensorflow<3,>=2.1.0->tensorflowjs) (0.10.0)\n",
            "Requirement already satisfied: google-pasta>=0.1.8 in /usr/local/lib/python3.6/dist-packages (from tensorflow<3,>=2.1.0->tensorflowjs) (0.2.0)\n",
            "Requirement already satisfied: scipy==1.4.1 in /usr/local/lib/python3.6/dist-packages (from tensorflow<3,>=2.1.0->tensorflowjs) (1.4.1)\n",
            "Requirement already satisfied: gast==0.3.3 in /usr/local/lib/python3.6/dist-packages (from tensorflow<3,>=2.1.0->tensorflowjs) (0.3.3)\n",
            "Requirement already satisfied: astunparse==1.6.3 in /usr/local/lib/python3.6/dist-packages (from tensorflow<3,>=2.1.0->tensorflowjs) (1.6.3)\n",
            "Requirement already satisfied: termcolor>=1.1.0 in /usr/local/lib/python3.6/dist-packages (from tensorflow<3,>=2.1.0->tensorflowjs) (1.1.0)\n",
            "Requirement already satisfied: setuptools in /usr/local/lib/python3.6/dist-packages (from protobuf>=3.8.0->tensorflow-hub<0.10,>=0.7.0->tensorflowjs) (50.3.0)\n",
            "Requirement already satisfied: google-auth-oauthlib<0.5,>=0.4.1 in /usr/local/lib/python3.6/dist-packages (from tensorboard<3,>=2.3.0->tensorflow<3,>=2.1.0->tensorflowjs) (0.4.1)\n",
            "Requirement already satisfied: requests<3,>=2.21.0 in /usr/local/lib/python3.6/dist-packages (from tensorboard<3,>=2.3.0->tensorflow<3,>=2.1.0->tensorflowjs) (2.23.0)\n",
            "Requirement already satisfied: google-auth<2,>=1.6.3 in /usr/local/lib/python3.6/dist-packages (from tensorboard<3,>=2.3.0->tensorflow<3,>=2.1.0->tensorflowjs) (1.17.2)\n",
            "Requirement already satisfied: werkzeug>=0.11.15 in /usr/local/lib/python3.6/dist-packages (from tensorboard<3,>=2.3.0->tensorflow<3,>=2.1.0->tensorflowjs) (1.0.1)\n",
            "Requirement already satisfied: markdown>=2.6.8 in /usr/local/lib/python3.6/dist-packages (from tensorboard<3,>=2.3.0->tensorflow<3,>=2.1.0->tensorflowjs) (3.2.2)\n",
            "Requirement already satisfied: tensorboard-plugin-wit>=1.6.0 in /usr/local/lib/python3.6/dist-packages (from tensorboard<3,>=2.3.0->tensorflow<3,>=2.1.0->tensorflowjs) (1.7.0)\n",
            "Requirement already satisfied: requests-oauthlib>=0.7.0 in /usr/local/lib/python3.6/dist-packages (from google-auth-oauthlib<0.5,>=0.4.1->tensorboard<3,>=2.3.0->tensorflow<3,>=2.1.0->tensorflowjs) (1.3.0)\n",
            "Requirement already satisfied: certifi>=2017.4.17 in /usr/local/lib/python3.6/dist-packages (from requests<3,>=2.21.0->tensorboard<3,>=2.3.0->tensorflow<3,>=2.1.0->tensorflowjs) (2020.6.20)\n",
            "Requirement already satisfied: idna<3,>=2.5 in /usr/local/lib/python3.6/dist-packages (from requests<3,>=2.21.0->tensorboard<3,>=2.3.0->tensorflow<3,>=2.1.0->tensorflowjs) (2.10)\n",
            "Requirement already satisfied: urllib3!=1.25.0,!=1.25.1,<1.26,>=1.21.1 in /usr/local/lib/python3.6/dist-packages (from requests<3,>=2.21.0->tensorboard<3,>=2.3.0->tensorflow<3,>=2.1.0->tensorflowjs) (1.24.3)\n",
            "Requirement already satisfied: chardet<4,>=3.0.2 in /usr/local/lib/python3.6/dist-packages (from requests<3,>=2.21.0->tensorboard<3,>=2.3.0->tensorflow<3,>=2.1.0->tensorflowjs) (3.0.4)\n",
            "Requirement already satisfied: cachetools<5.0,>=2.0.0 in /usr/local/lib/python3.6/dist-packages (from google-auth<2,>=1.6.3->tensorboard<3,>=2.3.0->tensorflow<3,>=2.1.0->tensorflowjs) (4.1.1)\n",
            "Requirement already satisfied: pyasn1-modules>=0.2.1 in /usr/local/lib/python3.6/dist-packages (from google-auth<2,>=1.6.3->tensorboard<3,>=2.3.0->tensorflow<3,>=2.1.0->tensorflowjs) (0.2.8)\n",
            "Requirement already satisfied: rsa<5,>=3.1.4; python_version >= \"3\" in /usr/local/lib/python3.6/dist-packages (from google-auth<2,>=1.6.3->tensorboard<3,>=2.3.0->tensorflow<3,>=2.1.0->tensorflowjs) (4.6)\n",
            "Requirement already satisfied: importlib-metadata; python_version < \"3.8\" in /usr/local/lib/python3.6/dist-packages (from markdown>=2.6.8->tensorboard<3,>=2.3.0->tensorflow<3,>=2.1.0->tensorflowjs) (2.0.0)\n",
            "Requirement already satisfied: oauthlib>=3.0.0 in /usr/local/lib/python3.6/dist-packages (from requests-oauthlib>=0.7.0->google-auth-oauthlib<0.5,>=0.4.1->tensorboard<3,>=2.3.0->tensorflow<3,>=2.1.0->tensorflowjs) (3.1.0)\n",
            "Requirement already satisfied: pyasn1<0.5.0,>=0.4.6 in /usr/local/lib/python3.6/dist-packages (from pyasn1-modules>=0.2.1->google-auth<2,>=1.6.3->tensorboard<3,>=2.3.0->tensorflow<3,>=2.1.0->tensorflowjs) (0.4.8)\n",
            "Requirement already satisfied: zipp>=0.5 in /usr/local/lib/python3.6/dist-packages (from importlib-metadata; python_version < \"3.8\"->markdown>=2.6.8->tensorboard<3,>=2.3.0->tensorflow<3,>=2.1.0->tensorflowjs) (3.2.0)\n",
            "Requirement already satisfied: nltk in /usr/local/lib/python3.6/dist-packages (3.2.5)\n",
            "Requirement already satisfied: six in /usr/local/lib/python3.6/dist-packages (from nltk) (1.15.0)\n",
            "Requirement already satisfied: stanza in /usr/local/lib/python3.6/dist-packages (1.1.1)\n",
            "Requirement already satisfied: requests in /usr/local/lib/python3.6/dist-packages (from stanza) (2.23.0)\n",
            "Requirement already satisfied: tqdm in /usr/local/lib/python3.6/dist-packages (from stanza) (4.41.1)\n",
            "Requirement already satisfied: numpy in /usr/local/lib/python3.6/dist-packages (from stanza) (1.18.5)\n",
            "Requirement already satisfied: protobuf in /usr/local/lib/python3.6/dist-packages (from stanza) (3.12.4)\n",
            "Requirement already satisfied: torch>=1.3.0 in /usr/local/lib/python3.6/dist-packages (from stanza) (1.6.0+cu101)\n",
            "Requirement already satisfied: chardet<4,>=3.0.2 in /usr/local/lib/python3.6/dist-packages (from requests->stanza) (3.0.4)\n",
            "Requirement already satisfied: urllib3!=1.25.0,!=1.25.1,<1.26,>=1.21.1 in /usr/local/lib/python3.6/dist-packages (from requests->stanza) (1.24.3)\n",
            "Requirement already satisfied: certifi>=2017.4.17 in /usr/local/lib/python3.6/dist-packages (from requests->stanza) (2020.6.20)\n",
            "Requirement already satisfied: idna<3,>=2.5 in /usr/local/lib/python3.6/dist-packages (from requests->stanza) (2.10)\n",
            "Requirement already satisfied: setuptools in /usr/local/lib/python3.6/dist-packages (from protobuf->stanza) (50.3.0)\n",
            "Requirement already satisfied: six>=1.9 in /usr/local/lib/python3.6/dist-packages (from protobuf->stanza) (1.15.0)\n",
            "Requirement already satisfied: future in /usr/local/lib/python3.6/dist-packages (from torch>=1.3.0->stanza) (0.16.0)\n",
            "Requirement already satisfied: spacy in /usr/local/lib/python3.6/dist-packages (2.2.4)\n",
            "Requirement already satisfied: wasabi<1.1.0,>=0.4.0 in /usr/local/lib/python3.6/dist-packages (from spacy) (0.8.0)\n",
            "Requirement already satisfied: murmurhash<1.1.0,>=0.28.0 in /usr/local/lib/python3.6/dist-packages (from spacy) (1.0.2)\n",
            "Requirement already satisfied: cymem<2.1.0,>=2.0.2 in /usr/local/lib/python3.6/dist-packages (from spacy) (2.0.3)\n",
            "Requirement already satisfied: preshed<3.1.0,>=3.0.2 in /usr/local/lib/python3.6/dist-packages (from spacy) (3.0.2)\n",
            "Requirement already satisfied: blis<0.5.0,>=0.4.0 in /usr/local/lib/python3.6/dist-packages (from spacy) (0.4.1)\n",
            "Requirement already satisfied: plac<1.2.0,>=0.9.6 in /usr/local/lib/python3.6/dist-packages (from spacy) (1.1.3)\n",
            "Requirement already satisfied: srsly<1.1.0,>=1.0.2 in /usr/local/lib/python3.6/dist-packages (from spacy) (1.0.2)\n",
            "Requirement already satisfied: requests<3.0.0,>=2.13.0 in /usr/local/lib/python3.6/dist-packages (from spacy) (2.23.0)\n",
            "Requirement already satisfied: setuptools in /usr/local/lib/python3.6/dist-packages (from spacy) (50.3.0)\n",
            "Requirement already satisfied: thinc==7.4.0 in /usr/local/lib/python3.6/dist-packages (from spacy) (7.4.0)\n",
            "Requirement already satisfied: tqdm<5.0.0,>=4.38.0 in /usr/local/lib/python3.6/dist-packages (from spacy) (4.41.1)\n",
            "Requirement already satisfied: numpy>=1.15.0 in /usr/local/lib/python3.6/dist-packages (from spacy) (1.18.5)\n",
            "Requirement already satisfied: catalogue<1.1.0,>=0.0.7 in /usr/local/lib/python3.6/dist-packages (from spacy) (1.0.0)\n",
            "Requirement already satisfied: chardet<4,>=3.0.2 in /usr/local/lib/python3.6/dist-packages (from requests<3.0.0,>=2.13.0->spacy) (3.0.4)\n",
            "Requirement already satisfied: urllib3!=1.25.0,!=1.25.1,<1.26,>=1.21.1 in /usr/local/lib/python3.6/dist-packages (from requests<3.0.0,>=2.13.0->spacy) (1.24.3)\n",
            "Requirement already satisfied: certifi>=2017.4.17 in /usr/local/lib/python3.6/dist-packages (from requests<3.0.0,>=2.13.0->spacy) (2020.6.20)\n",
            "Requirement already satisfied: idna<3,>=2.5 in /usr/local/lib/python3.6/dist-packages (from requests<3.0.0,>=2.13.0->spacy) (2.10)\n",
            "Requirement already satisfied: importlib-metadata>=0.20; python_version < \"3.8\" in /usr/local/lib/python3.6/dist-packages (from catalogue<1.1.0,>=0.0.7->spacy) (2.0.0)\n",
            "Requirement already satisfied: zipp>=0.5 in /usr/local/lib/python3.6/dist-packages (from importlib-metadata>=0.20; python_version < \"3.8\"->catalogue<1.1.0,>=0.0.7->spacy) (3.2.0)\n",
            "Requirement already satisfied: en_core_web_sm==2.2.5 from https://github.com/explosion/spacy-models/releases/download/en_core_web_sm-2.2.5/en_core_web_sm-2.2.5.tar.gz#egg=en_core_web_sm==2.2.5 in /usr/local/lib/python3.6/dist-packages (2.2.5)\n",
            "Requirement already satisfied: spacy>=2.2.2 in /usr/local/lib/python3.6/dist-packages (from en_core_web_sm==2.2.5) (2.2.4)\n",
            "Requirement already satisfied: catalogue<1.1.0,>=0.0.7 in /usr/local/lib/python3.6/dist-packages (from spacy>=2.2.2->en_core_web_sm==2.2.5) (1.0.0)\n",
            "Requirement already satisfied: plac<1.2.0,>=0.9.6 in /usr/local/lib/python3.6/dist-packages (from spacy>=2.2.2->en_core_web_sm==2.2.5) (1.1.3)\n",
            "Requirement already satisfied: wasabi<1.1.0,>=0.4.0 in /usr/local/lib/python3.6/dist-packages (from spacy>=2.2.2->en_core_web_sm==2.2.5) (0.8.0)\n",
            "Requirement already satisfied: srsly<1.1.0,>=1.0.2 in /usr/local/lib/python3.6/dist-packages (from spacy>=2.2.2->en_core_web_sm==2.2.5) (1.0.2)\n",
            "Requirement already satisfied: tqdm<5.0.0,>=4.38.0 in /usr/local/lib/python3.6/dist-packages (from spacy>=2.2.2->en_core_web_sm==2.2.5) (4.41.1)\n",
            "Requirement already satisfied: numpy>=1.15.0 in /usr/local/lib/python3.6/dist-packages (from spacy>=2.2.2->en_core_web_sm==2.2.5) (1.18.5)\n",
            "Requirement already satisfied: setuptools in /usr/local/lib/python3.6/dist-packages (from spacy>=2.2.2->en_core_web_sm==2.2.5) (50.3.0)\n",
            "Requirement already satisfied: thinc==7.4.0 in /usr/local/lib/python3.6/dist-packages (from spacy>=2.2.2->en_core_web_sm==2.2.5) (7.4.0)\n",
            "Requirement already satisfied: preshed<3.1.0,>=3.0.2 in /usr/local/lib/python3.6/dist-packages (from spacy>=2.2.2->en_core_web_sm==2.2.5) (3.0.2)\n",
            "Requirement already satisfied: cymem<2.1.0,>=2.0.2 in /usr/local/lib/python3.6/dist-packages (from spacy>=2.2.2->en_core_web_sm==2.2.5) (2.0.3)\n",
            "Requirement already satisfied: blis<0.5.0,>=0.4.0 in /usr/local/lib/python3.6/dist-packages (from spacy>=2.2.2->en_core_web_sm==2.2.5) (0.4.1)\n",
            "Requirement already satisfied: requests<3.0.0,>=2.13.0 in /usr/local/lib/python3.6/dist-packages (from spacy>=2.2.2->en_core_web_sm==2.2.5) (2.23.0)\n",
            "Requirement already satisfied: murmurhash<1.1.0,>=0.28.0 in /usr/local/lib/python3.6/dist-packages (from spacy>=2.2.2->en_core_web_sm==2.2.5) (1.0.2)\n",
            "Requirement already satisfied: importlib-metadata>=0.20; python_version < \"3.8\" in /usr/local/lib/python3.6/dist-packages (from catalogue<1.1.0,>=0.0.7->spacy>=2.2.2->en_core_web_sm==2.2.5) (2.0.0)\n",
            "Requirement already satisfied: chardet<4,>=3.0.2 in /usr/local/lib/python3.6/dist-packages (from requests<3.0.0,>=2.13.0->spacy>=2.2.2->en_core_web_sm==2.2.5) (3.0.4)\n",
            "Requirement already satisfied: idna<3,>=2.5 in /usr/local/lib/python3.6/dist-packages (from requests<3.0.0,>=2.13.0->spacy>=2.2.2->en_core_web_sm==2.2.5) (2.10)\n",
            "Requirement already satisfied: urllib3!=1.25.0,!=1.25.1,<1.26,>=1.21.1 in /usr/local/lib/python3.6/dist-packages (from requests<3.0.0,>=2.13.0->spacy>=2.2.2->en_core_web_sm==2.2.5) (1.24.3)\n",
            "Requirement already satisfied: certifi>=2017.4.17 in /usr/local/lib/python3.6/dist-packages (from requests<3.0.0,>=2.13.0->spacy>=2.2.2->en_core_web_sm==2.2.5) (2020.6.20)\n",
            "Requirement already satisfied: zipp>=0.5 in /usr/local/lib/python3.6/dist-packages (from importlib-metadata>=0.20; python_version < \"3.8\"->catalogue<1.1.0,>=0.0.7->spacy>=2.2.2->en_core_web_sm==2.2.5) (3.2.0)\n",
            "\u001b[38;5;2m✔ Download and installation successful\u001b[0m\n",
            "You can now load the model via spacy.load('en_core_web_sm')\n",
            "Requirement already satisfied: en_core_web_sm==2.2.5 from https://github.com/explosion/spacy-models/releases/download/en_core_web_sm-2.2.5/en_core_web_sm-2.2.5.tar.gz#egg=en_core_web_sm==2.2.5 in /usr/local/lib/python3.6/dist-packages (2.2.5)\n",
            "Requirement already satisfied: spacy>=2.2.2 in /usr/local/lib/python3.6/dist-packages (from en_core_web_sm==2.2.5) (2.2.4)\n",
            "Requirement already satisfied: requests<3.0.0,>=2.13.0 in /usr/local/lib/python3.6/dist-packages (from spacy>=2.2.2->en_core_web_sm==2.2.5) (2.23.0)\n",
            "Requirement already satisfied: blis<0.5.0,>=0.4.0 in /usr/local/lib/python3.6/dist-packages (from spacy>=2.2.2->en_core_web_sm==2.2.5) (0.4.1)\n",
            "Requirement already satisfied: wasabi<1.1.0,>=0.4.0 in /usr/local/lib/python3.6/dist-packages (from spacy>=2.2.2->en_core_web_sm==2.2.5) (0.8.0)\n",
            "Requirement already satisfied: cymem<2.1.0,>=2.0.2 in /usr/local/lib/python3.6/dist-packages (from spacy>=2.2.2->en_core_web_sm==2.2.5) (2.0.3)\n",
            "Requirement already satisfied: setuptools in /usr/local/lib/python3.6/dist-packages (from spacy>=2.2.2->en_core_web_sm==2.2.5) (50.3.0)\n",
            "Requirement already satisfied: murmurhash<1.1.0,>=0.28.0 in /usr/local/lib/python3.6/dist-packages (from spacy>=2.2.2->en_core_web_sm==2.2.5) (1.0.2)\n",
            "Requirement already satisfied: preshed<3.1.0,>=3.0.2 in /usr/local/lib/python3.6/dist-packages (from spacy>=2.2.2->en_core_web_sm==2.2.5) (3.0.2)\n",
            "Requirement already satisfied: catalogue<1.1.0,>=0.0.7 in /usr/local/lib/python3.6/dist-packages (from spacy>=2.2.2->en_core_web_sm==2.2.5) (1.0.0)\n",
            "Requirement already satisfied: numpy>=1.15.0 in /usr/local/lib/python3.6/dist-packages (from spacy>=2.2.2->en_core_web_sm==2.2.5) (1.18.5)\n",
            "Requirement already satisfied: plac<1.2.0,>=0.9.6 in /usr/local/lib/python3.6/dist-packages (from spacy>=2.2.2->en_core_web_sm==2.2.5) (1.1.3)\n",
            "Requirement already satisfied: thinc==7.4.0 in /usr/local/lib/python3.6/dist-packages (from spacy>=2.2.2->en_core_web_sm==2.2.5) (7.4.0)\n",
            "Requirement already satisfied: srsly<1.1.0,>=1.0.2 in /usr/local/lib/python3.6/dist-packages (from spacy>=2.2.2->en_core_web_sm==2.2.5) (1.0.2)\n",
            "Requirement already satisfied: tqdm<5.0.0,>=4.38.0 in /usr/local/lib/python3.6/dist-packages (from spacy>=2.2.2->en_core_web_sm==2.2.5) (4.41.1)\n",
            "Requirement already satisfied: certifi>=2017.4.17 in /usr/local/lib/python3.6/dist-packages (from requests<3.0.0,>=2.13.0->spacy>=2.2.2->en_core_web_sm==2.2.5) (2020.6.20)\n",
            "Requirement already satisfied: urllib3!=1.25.0,!=1.25.1,<1.26,>=1.21.1 in /usr/local/lib/python3.6/dist-packages (from requests<3.0.0,>=2.13.0->spacy>=2.2.2->en_core_web_sm==2.2.5) (1.24.3)\n",
            "Requirement already satisfied: idna<3,>=2.5 in /usr/local/lib/python3.6/dist-packages (from requests<3.0.0,>=2.13.0->spacy>=2.2.2->en_core_web_sm==2.2.5) (2.10)\n",
            "Requirement already satisfied: chardet<4,>=3.0.2 in /usr/local/lib/python3.6/dist-packages (from requests<3.0.0,>=2.13.0->spacy>=2.2.2->en_core_web_sm==2.2.5) (3.0.4)\n",
            "Requirement already satisfied: importlib-metadata>=0.20; python_version < \"3.8\" in /usr/local/lib/python3.6/dist-packages (from catalogue<1.1.0,>=0.0.7->spacy>=2.2.2->en_core_web_sm==2.2.5) (2.0.0)\n",
            "Requirement already satisfied: zipp>=0.5 in /usr/local/lib/python3.6/dist-packages (from importlib-metadata>=0.20; python_version < \"3.8\"->catalogue<1.1.0,>=0.0.7->spacy>=2.2.2->en_core_web_sm==2.2.5) (3.2.0)\n",
            "\u001b[38;5;2m✔ Download and installation successful\u001b[0m\n",
            "You can now load the model via spacy.load('en_core_web_sm')\n",
            "\u001b[38;5;2m✔ Linking successful\u001b[0m\n",
            "/usr/local/lib/python3.6/dist-packages/en_core_web_sm -->\n",
            "/usr/local/lib/python3.6/dist-packages/spacy/data/en\n",
            "You can now load the model via spacy.load('en')\n",
            "Wed Oct  7 20:25:53 2020       \n",
            "+-----------------------------------------------------------------------------+\n",
            "| NVIDIA-SMI 455.23.05    Driver Version: 418.67       CUDA Version: 10.1     |\n",
            "|-------------------------------+----------------------+----------------------+\n",
            "| GPU  Name        Persistence-M| Bus-Id        Disp.A | Volatile Uncorr. ECC |\n",
            "| Fan  Temp  Perf  Pwr:Usage/Cap|         Memory-Usage | GPU-Util  Compute M. |\n",
            "|                               |                      |               MIG M. |\n",
            "|===============================+======================+======================|\n",
            "|   0  Tesla P100-PCIE...  Off  | 00000000:00:04.0 Off |                    0 |\n",
            "| N/A   38C    P0    27W / 250W |      0MiB / 16280MiB |      0%      Default |\n",
            "|                               |                      |                 ERR! |\n",
            "+-------------------------------+----------------------+----------------------+\n",
            "                                                                               \n",
            "+-----------------------------------------------------------------------------+\n",
            "| Processes:                                                                  |\n",
            "|  GPU   GI   CI        PID   Type   Process name                  GPU Memory |\n",
            "|        ID   ID                                                   Usage      |\n",
            "|=============================================================================|\n",
            "|  No running processes found                                                 |\n",
            "+-----------------------------------------------------------------------------+\n",
            "\n",
            "Runtime 27.39 GB of available RAM\n",
            "\n"
          ],
          "name": "stdout"
        }
      ]
    },
    {
      "cell_type": "code",
      "metadata": {
        "id": "ye99iKv617qQ",
        "outputId": "326987ca-adf4-459d-9f94-3308dc932687",
        "colab": {
          "base_uri": "https://localhost:8080/"
        }
      },
      "source": [
        "tf_response"
      ],
      "execution_count": 5,
      "outputs": [
        {
          "output_type": "execute_result",
          "data": {
            "text/plain": [
              "{'COLAB': True,\n",
              " 'GPU': True,\n",
              " 'TF version': '',\n",
              " 'TF_version': '2.3.1',\n",
              " 'error': None,\n",
              " 'ram_gb': 'high-RAM runtime'}"
            ]
          },
          "metadata": {
            "tags": []
          },
          "execution_count": 5
        }
      ]
    },
    {
      "cell_type": "markdown",
      "metadata": {
        "id": "IFNjTuvU1_C_"
      },
      "source": [
        "## ii. Importing modules\n"
      ]
    },
    {
      "cell_type": "code",
      "metadata": {
        "id": "OIh873U819qU"
      },
      "source": [
        "# Data analysis\n",
        "from collections import Counter\n",
        "import matplotlib.pyplot as plt\n",
        "import pandas as pd\n",
        "import numpy as np\n",
        "import sys\n",
        "import re\n",
        "\n",
        "%matplotlib inline\n",
        "\n",
        "# Image\n",
        "from wordcloud import WordCloud, STOPWORDS, ImageColorGenerator # to create a Word Cloud\n",
        "from PIL import Image # Pillow with WordCloud to image manipulation"
      ],
      "execution_count": 6,
      "outputs": []
    },
    {
      "cell_type": "code",
      "metadata": {
        "id": "6lhfhNt72CLr",
        "outputId": "0eeabb16-4a56-4ee8-a9b5-9964aaa31114",
        "colab": {
          "base_uri": "https://localhost:8080/"
        }
      },
      "source": [
        "# nltk\n",
        "import nltk\n",
        "from nltk.corpus import stopwords\n",
        "from nltk.stem import WordNetLemmatizer\n",
        "\n",
        "nltk.download('stopwords')\n",
        "nltk.download('wordnet')\n",
        "\n",
        "STOPWORDS = set(stopwords.words('english'))"
      ],
      "execution_count": 7,
      "outputs": [
        {
          "output_type": "stream",
          "text": [
            "[nltk_data] Downloading package stopwords to /root/nltk_data...\n",
            "[nltk_data]   Package stopwords is already up-to-date!\n",
            "[nltk_data] Downloading package wordnet to /root/nltk_data...\n",
            "[nltk_data]   Package wordnet is already up-to-date!\n"
          ],
          "name": "stdout"
        }
      ]
    },
    {
      "cell_type": "code",
      "metadata": {
        "id": "T82WGVnN2EwF",
        "outputId": "1103d262-a5a3-4270-bec8-5508e2fc9799",
        "colab": {
          "base_uri": "https://localhost:8080/"
        }
      },
      "source": [
        "# Stanza NLP\n",
        "import stanza\n",
        "\n",
        "stanza.download('en', package='ewt', processors='tokenize,mwt,pos,lemma', verbose=True)\n",
        "stNLP = stanza.Pipeline(processors='tokenize,mwt,pos,lemma',\n",
        "                      lang='en',\n",
        "                      use_gpu=True)"
      ],
      "execution_count": 8,
      "outputs": [
        {
          "output_type": "stream",
          "text": [
            "Downloading https://raw.githubusercontent.com/stanfordnlp/stanza-resources/master/resources_1.1.0.json: 122kB [00:00, 32.3MB/s]                    \n",
            "2020-10-07 20:26:12 WARNING: Can not find mwt: ewt from official model list. Ignoring it.\n",
            "2020-10-07 20:26:12 INFO: Downloading these customized packages for language: en (English)...\n",
            "=======================\n",
            "| Processor | Package |\n",
            "-----------------------\n",
            "| tokenize  | ewt     |\n",
            "| pos       | ewt     |\n",
            "| lemma     | ewt     |\n",
            "| pretrain  | ewt     |\n",
            "=======================\n",
            "\n",
            "2020-10-07 20:26:12 INFO: File exists: /root/stanza_resources/en/tokenize/ewt.pt.\n",
            "2020-10-07 20:26:12 INFO: File exists: /root/stanza_resources/en/pos/ewt.pt.\n",
            "2020-10-07 20:26:12 INFO: File exists: /root/stanza_resources/en/lemma/ewt.pt.\n",
            "2020-10-07 20:26:12 INFO: File exists: /root/stanza_resources/en/pretrain/ewt.pt.\n",
            "2020-10-07 20:26:12 INFO: Finished downloading models and saved to /root/stanza_resources.\n",
            "2020-10-07 20:26:12 WARNING: Can not find mwt: default from official model list. Ignoring it.\n",
            "2020-10-07 20:26:12 INFO: Loading these models for language: en (English):\n",
            "=======================\n",
            "| Processor | Package |\n",
            "-----------------------\n",
            "| tokenize  | ewt     |\n",
            "| pos       | ewt     |\n",
            "| lemma     | ewt     |\n",
            "=======================\n",
            "\n",
            "2020-10-07 20:26:12 INFO: Use device: gpu\n",
            "2020-10-07 20:26:12 INFO: Loading: tokenize\n",
            "2020-10-07 20:26:15 INFO: Loading: pos\n",
            "2020-10-07 20:26:16 INFO: Loading: lemma\n",
            "2020-10-07 20:26:16 INFO: Done loading processors!\n"
          ],
          "name": "stderr"
        }
      ]
    },
    {
      "cell_type": "code",
      "metadata": {
        "id": "9236VgMj2Gwg",
        "outputId": "869a9964-aba8-4bb3-f852-2dc7e623316b",
        "colab": {
          "base_uri": "https://localhost:8080/"
        }
      },
      "source": [
        "# testing stanza\n",
        "doc = stNLP('Barack Obama was born in Hawai.')\n",
        "print(*[f'word: {word.text+\" \"}\\tlemma: {word.lemma}' for sent in doc.sentences for word in sent.words], sep='\\n')"
      ],
      "execution_count": 9,
      "outputs": [
        {
          "output_type": "stream",
          "text": [
            "word: Barack \tlemma: Barack\n",
            "word: Obama \tlemma: Obama\n",
            "word: was \tlemma: be\n",
            "word: born \tlemma: bear\n",
            "word: in \tlemma: in\n",
            "word: Hawai \tlemma: Hawai\n",
            "word: . \tlemma: .\n"
          ],
          "name": "stdout"
        }
      ]
    },
    {
      "cell_type": "code",
      "metadata": {
        "id": "-4QpRgR02IDL"
      },
      "source": [
        "# Spacy NLP\n",
        "import spacy\n",
        "spNLP = spacy.load('en_core_web_sm')\n",
        "spNLP.max_length = 103950039 # or higher\n",
        "# spacy.prefer_gpu() #will not work with stanza"
      ],
      "execution_count": 10,
      "outputs": []
    },
    {
      "cell_type": "markdown",
      "metadata": {
        "id": "x6iiQVT42Jo3"
      },
      "source": [
        "\n",
        "---\n",
        "\n",
        "# **2. Hyperparameters**\n",
        "\n",
        "---"
      ]
    },
    {
      "cell_type": "code",
      "metadata": {
        "id": "hIpxO61l0gcD"
      },
      "source": [
        "FILE = 'datasets/categories_dataset.csv'\n",
        "MODEL_PATH = './models/model.h5'"
      ],
      "execution_count": 11,
      "outputs": []
    },
    {
      "cell_type": "code",
      "metadata": {
        "id": "KUv__06r2LOQ"
      },
      "source": [
        "EPOCHS = 200\n",
        "BATCH_SIZE = 32\n",
        "\n",
        "rnn_units = 64\n",
        "\n",
        "# embedding_dim : len(words) + 1\n",
        "# vocab_size : len(words.index) + 1\n",
        "vocab_size = 5000\n",
        "\n",
        "max_length = 30 # 200 # for padding_shape on preprocess function\n",
        "\n",
        "trunc_type = 'post'\n",
        "padding_type = 'post'\n",
        "padding_shape = 30\n",
        "oov_tok = '<OOV>'"
      ],
      "execution_count": 12,
      "outputs": []
    },
    {
      "cell_type": "code",
      "metadata": {
        "id": "YBKrSlNb0fIs"
      },
      "source": [
        "main_labels = ['confident', 'unconfident', \n",
        "               'pos_hp', 'neg_hp', \n",
        "               'interested', 'uninterested', \n",
        "               'happy', 'unhappy', \n",
        "               'friendly', 'unfriendly']\n",
        "               \n",
        "label_dict = dict(zip(main_labels, range(1, len(main_labels) + 1)))"
      ],
      "execution_count": 13,
      "outputs": []
    },
    {
      "cell_type": "code",
      "metadata": {
        "id": "OyVrjQ46nEMd",
        "outputId": "12327674-0332-4787-c08e-281b22f84a8e",
        "colab": {
          "base_uri": "https://localhost:8080/"
        }
      },
      "source": [
        "label_dict"
      ],
      "execution_count": 14,
      "outputs": [
        {
          "output_type": "execute_result",
          "data": {
            "text/plain": [
              "{'confident': 1,\n",
              " 'friendly': 9,\n",
              " 'happy': 7,\n",
              " 'interested': 5,\n",
              " 'neg_hp': 4,\n",
              " 'pos_hp': 3,\n",
              " 'unconfident': 2,\n",
              " 'unfriendly': 10,\n",
              " 'unhappy': 8,\n",
              " 'uninterested': 6}"
            ]
          },
          "metadata": {
            "tags": []
          },
          "execution_count": 14
        }
      ]
    },
    {
      "cell_type": "markdown",
      "metadata": {
        "id": "lO32c_pD2NzO"
      },
      "source": [
        "---\n",
        "\n",
        "# **3. Lemmatization**\n",
        "\n",
        "---"
      ]
    },
    {
      "cell_type": "code",
      "metadata": {
        "id": "Lb6Wbv0U2OeH"
      },
      "source": [
        "# lemmatizion\n",
        "# stanza\n",
        "def stanza_lemma(text):\n",
        "    doc = stNLP(text)\n",
        "    return ' '.join([word.lemma for sent in doc.sentences for word in sent.words])"
      ],
      "execution_count": 15,
      "outputs": []
    },
    {
      "cell_type": "code",
      "metadata": {
        "id": "RdtBcgKB2PaB"
      },
      "source": [
        "def nltk_lemma(text):\n",
        "    lemmatizer = WordNetLemmatizer()\n",
        "    lemmatizer.lemmatize(text)"
      ],
      "execution_count": 16,
      "outputs": []
    },
    {
      "cell_type": "markdown",
      "metadata": {
        "id": "1yfg8TVR2SL_"
      },
      "source": [
        "---\n",
        "# **4. Load dataset**\n",
        "---"
      ]
    },
    {
      "cell_type": "code",
      "metadata": {
        "id": "gUCh3RCa2VS8"
      },
      "source": [
        "def load_clean_dataset():\n",
        "    !mkdir -p datasets\n",
        "    !wget -nc https://raw.githubusercontent.com/Y4rd13/sentiment-analysis/master/datasets/results/categories_dataset_1000.csv -P datasets\n",
        "    df = pd.read_csv('./datasets/categories_dataset_1000.csv', encoding='utf-8', index_col=0)\n",
        "\n",
        "    print(df.head())\n",
        "    x, y = df['word'], df['category']\n",
        "\n",
        "    return x, y"
      ],
      "execution_count": 17,
      "outputs": []
    },
    {
      "cell_type": "markdown",
      "metadata": {
        "id": "kleN4LtF2-bg"
      },
      "source": [
        "---\n",
        "# **5. Prepare dataset**\n",
        "---"
      ]
    },
    {
      "cell_type": "code",
      "metadata": {
        "id": "uDdZHwMcolpC"
      },
      "source": [
        "def preprocess(x, padding_shape=30):\n",
        "    return np.array([ord(i.lower()) - ord('a')+1 if not i.isdigit() and i != ' ' else 0 for i in list(x)] + ([0] * (padding_shape - len(x))), dtype=int)"
      ],
      "execution_count": 18,
      "outputs": []
    },
    {
      "cell_type": "code",
      "metadata": {
        "id": "-y-Y8HxI3E7B"
      },
      "source": [
        "def prepare_dataset(labeldict : dict, test_size=.3, validation_size=.1): \n",
        "    print('preparing the dataset...\\n')\n",
        "    \n",
        "    from sklearn import preprocessing\n",
        "\n",
        "    # load dataset\n",
        "    # split dataset (as string into panda.core.series.Serie object)\n",
        "    x, y = load_clean_dataset()\n",
        "\n",
        "    x = np.array(list(map(preprocess, x)))\n",
        "    y = np.array(list(map(lambda x: labeldict[x.replace(' ', '_')], y)))\n",
        "    print(('y: {}').format(y))\n",
        "\n",
        "    # create/split train, validation and test and shuffle the data\n",
        "    x_train, x_test, y_train, y_test = train_test_split(x, y, test_size=test_size, shuffle=True)\n",
        "    print(x.max(), x.min())\n",
        "\n",
        "    x_train_val, x_validation, y_train_val, y_validation = train_test_split(x_train, y_train, test_size=test_size, shuffle=True)\n",
        "\n",
        "    # pandas.core.series.Series to numpy array\n",
        "    x_train, y_train = np.array(x_train), np.array(y_train)\n",
        "    x_validation, y_validation =  np.array(x_validation), np.array(y_validation)\n",
        "    x_test, y_test = np.array(x_test), np.array(y_test)\n",
        "    \n",
        "    x_train_val, y_train_val = np.array(x_train_val), np.array(y_train_val)\n",
        "\n",
        "    print(('\\nx_train: \\n{}\\n\\ny_train: \\n{}').format(x_train_val, y_train_val))\n",
        "\n",
        "    return (x_train, y_train), (x_validation, y_validation), (x_test, y_test), (x_train_val, y_train_val)"
      ],
      "execution_count": 19,
      "outputs": []
    },
    {
      "cell_type": "code",
      "metadata": {
        "id": "gpHOyVkIwY4r"
      },
      "source": [
        "#(x_train, y_train), (x_validation, y_validation), (x_test, y_test), (x_train_val, y_train_val) = prepare_dataset(label_dict)"
      ],
      "execution_count": 20,
      "outputs": []
    },
    {
      "cell_type": "markdown",
      "metadata": {
        "id": "LQEwk09b4PD_"
      },
      "source": [
        "---\n",
        "# **4. Build model**\n",
        "---"
      ]
    },
    {
      "cell_type": "code",
      "metadata": {
        "id": "tD18U_yE4SOA"
      },
      "source": [
        "def build_model(vocab_size, embedding_dim=64, input_length=30):\n",
        "    print('\\nbuilding the model...\\n')\n",
        "\n",
        "    model = tf.keras.Sequential([\n",
        "        tf.keras.layers.Embedding(input_dim=(vocab_size + 1), output_dim=embedding_dim, input_length=input_length),\n",
        "        \n",
        "        tf.keras.layers.Bidirectional(tf.keras.layers.LSTM(rnn_units,return_sequences=True, dropout=0.2)),\n",
        "        tf.keras.layers.Bidirectional(tf.keras.layers.LSTM(rnn_units,return_sequences=True, dropout=0.2)),\n",
        "        tf.keras.layers.GlobalMaxPool1D(),\n",
        "        tf.keras.layers.Dropout(0.1),\n",
        "        tf.keras.layers.Dense(64, activation='tanh'),\n",
        "        \n",
        "        # softmax output layer\n",
        "        tf.keras.layers.Dense(11, activation='softmax')\n",
        "    ])\n",
        "\n",
        "    # optimizer & loss\n",
        "    opt = 'RMSprop' #tf.optimizers.Adam(learning_rate=1e-4)\n",
        "    loss = 'categorical_crossentropy'\n",
        "\n",
        "    # Metrics\n",
        "    # AUC: Computes the approximate AUC (Area Under the Curve) via a Riemann sum.\n",
        "    # Precision: Computes the precision of the predictions with respect to the labels.\n",
        "    # Recall: Computes the recall of the predictions with respect to the labels.\n",
        "    metrics = ['accuracy', 'AUC','Precision', 'Recall']\n",
        "\n",
        "    # compile model\n",
        "    model.compile(optimizer=opt,\n",
        "                  loss=loss,\n",
        "                  metrics=metrics)\n",
        "    \n",
        "    model.summary()\n",
        "\n",
        "    return model"
      ],
      "execution_count": 21,
      "outputs": []
    },
    {
      "cell_type": "markdown",
      "metadata": {
        "id": "Zf048l554Uug"
      },
      "source": [
        "---\n",
        "# **6. Train model** \n",
        "---"
      ]
    },
    {
      "cell_type": "code",
      "metadata": {
        "id": "c-pVOZYb4T3T"
      },
      "source": [
        "def train(model, x_train, y_train, x_validation, y_validation,\n",
        "          epochs, batch_size=32, patience=5, \n",
        "          verbose=2, monitor_es='accuracy', mode_es='auto', restore=True,\n",
        "          monitor_mc='val_accuracy', mode_mc='max'):\n",
        "    \n",
        "    print('\\ntraining...\\n')\n",
        "\n",
        "    # callback\n",
        "    early_stopping = tf.keras.callbacks.EarlyStopping(monitor=monitor_es,\n",
        "                                                      verbose=1, mode=mode_es, restore_best_weights=restore,\n",
        "                                                      min_delta=1e-3, patience=patience)\n",
        "    \n",
        "    model_checkpoint = tf.keras.callbacks.ModelCheckpoint('tfjsmode.h5', monitor=monitor_mc, mode=mode_mc,      \n",
        "                                                          verbose=1, save_best_only=True)\n",
        "\n",
        "    # train model\n",
        "    history = model.fit(x_train, y_train,\n",
        "                        batch_size=batch_size, epochs=epochs, verbose=verbose,\n",
        "                        validation_data=(x_validation, y_validation),\n",
        "                        callbacks=[early_stopping, model_checkpoint])\n",
        "    return history"
      ],
      "execution_count": 22,
      "outputs": []
    },
    {
      "cell_type": "markdown",
      "metadata": {
        "id": "gy3DyM-b4XPg"
      },
      "source": [
        "---\n",
        "# **7. Plotting history**\n",
        "---"
      ]
    },
    {
      "cell_type": "code",
      "metadata": {
        "id": "ssFJ3CIe4YPn"
      },
      "source": [
        "def plot_history_(history):\n",
        "    fitModel_dict = history.history\n",
        "    acc = fitModel_dict['accuracy']\n",
        "    val_acc = fitModel_dict['val_accuracy']\n",
        "    epochs = range(1, len(acc) + 1)\n",
        "    \n",
        "    plt.figure(figsize=(10, 6))\n",
        "    plt.plot(epochs, acc, 'bo', label = 'Training acc')\n",
        "    plt.plot(epochs, val_acc, 'b', label = 'Validation acc')\n",
        "    plt.title('Training and validation accuracy')\n",
        "    plt.xlabel('Epochs')\n",
        "    plt.ylabel('Accuracy')\n",
        "    plt.legend(loc = 'lower right')\n",
        "    plt.ylim((0.5, 1))\n",
        "\n",
        "    plt.show()\n",
        "\n",
        "def plot_history(history, string):\n",
        "    fitModel_dict = history.history\n",
        "\n",
        "    plt.figure(figsize=(10, 6))\n",
        "    plt.plot(fitModel_dict[string])\n",
        "    plt.plot(fitModel_dict['val_' + string])\n",
        "    plt.xlabel('Epochs')\n",
        "    plt.ylabel(string)\n",
        "    plt.legend([string, 'val_' + string])\n",
        "    plt.show()"
      ],
      "execution_count": 23,
      "outputs": []
    },
    {
      "cell_type": "markdown",
      "metadata": {
        "id": "oScqNNBXsL7Y"
      },
      "source": [
        "---\n",
        "# **8. Prediction**\n",
        "---"
      ]
    },
    {
      "cell_type": "code",
      "metadata": {
        "id": "ekhWVsv7sK7z"
      },
      "source": [
        "def predict(d : dict, s : str, model):\n",
        "    token = preprocess(s)\n",
        "    output = model.predict(np.array([token]))\n",
        "    id = int(tf.keras.backend.argmax(output))\n",
        "    print(output)\n",
        "\n",
        "    for k, v in d.items():\n",
        "        if v == id:\n",
        "            return k\n",
        "            \n",
        "    return 'unclassified'"
      ],
      "execution_count": 24,
      "outputs": []
    },
    {
      "cell_type": "markdown",
      "metadata": {
        "id": "9FN5osTo4aC4"
      },
      "source": [
        "---\n",
        "# **9. Main**\n",
        "---"
      ]
    },
    {
      "cell_type": "code",
      "metadata": {
        "id": "DAb369Lh4ajo"
      },
      "source": [
        "def main():\n",
        "    # prepare the dataset\n",
        "    (x_train, y_train), (x_validation, y_validation), (x_test, y_test) = prepare_dataset(label_dict)\n",
        "    print(x_train.shape, x_validation.shape, x_test.shape)\n",
        "    print(y_train.shape, y_validation.shape, x_test.shape)\n",
        "    print(y_train)\n",
        "\n",
        "    # build the model\n",
        "    model = build_model()\n",
        "\n",
        "    # train the model\n",
        "    history = train(model=model, x_train=x_train, y_train=to_categorical(y_train),\n",
        "                    x_validation=x_validation, y_validation=to_categorical(y_validation),\n",
        "                    epochs=EPOCHS, verbose=1, monitor='accuracy')\n",
        "\n",
        "    # plot the training\n",
        "    plot_history_(history)\n",
        "\n",
        "    plot_history(history, 'accuracy')\n",
        "\n",
        "    # evaluate the model\n",
        "    test_loss, test_accuracy = model.evaluate(x_test, y_test)\n",
        "    evaluate_lst = list(map(lambda x: x * 100, [test_loss, test_accuracy]))\n",
        "    print('\\nTest:\\nLoss: {}\\nAccuracy: {}').format(evaluate_lst[0], evaluate_lst[1])\n",
        "\n",
        "    # predict\n",
        "    s = 'happy'\n",
        "    pred = predict(label_dict, s, model)\n",
        "    print('Word: {}'.format(s))\n",
        "    print('Prediction: {}'.format(pred))\n",
        "\n",
        "    # save the model\n",
        "    !mkdir models\n",
        "    model.save(MODEL_PATH)\n",
        "\n",
        "    # convert modeljs\n",
        "    tfjs.converters.save_keras_model(model, 'tfjsmodel') "
      ],
      "execution_count": 25,
      "outputs": []
    },
    {
      "cell_type": "markdown",
      "metadata": {
        "id": "02Lry1jA4b4w"
      },
      "source": [
        "---\n",
        "# **10. testing**\n",
        "---"
      ]
    },
    {
      "cell_type": "code",
      "metadata": {
        "id": "j1BALgvxi3_U",
        "outputId": "4b60845d-ee64-4a8e-f605-da0f538214bf",
        "colab": {
          "base_uri": "https://localhost:8080/"
        }
      },
      "source": [
        "# prepare the dataset\n",
        "(x_train, y_train), (x_validation, y_validation), (x_test, y_test), (x_test_val, y_test_val) = prepare_dataset(label_dict, test_size=.2)\n",
        "print(x_train.shape, x_validation.shape, x_test.shape)\n",
        "print(y_train.shape, y_validation.shape, x_test.shape)\n",
        "print(y_train)\n",
        "\n",
        "# build the model\n",
        "model = build_model(vocab_size)"
      ],
      "execution_count": 26,
      "outputs": [
        {
          "output_type": "stream",
          "text": [
            "preparing the dataset...\n",
            "\n",
            "File ‘datasets/categories_dataset_1000.csv’ already there; not retrieving.\n",
            "\n",
            "   Arousal  Compound  Dominance  ... Valence   category          word\n",
            "0     0.55      0.30       0.74  ...    0.89  confident     tolerance\n",
            "1     0.55      0.00       0.74  ...    0.89  confident         carry\n",
            "2     0.55      0.42       0.74  ...    0.89  confident   tranquility\n",
            "3     0.55      0.00       0.74  ...    0.89  confident  socontagious\n",
            "4     0.55      0.00       0.74  ...    0.89  confident          zeal\n",
            "\n",
            "[5 rows x 12 columns]\n",
            "y: [ 1  1  1  1  1  1  1  1  1  1  1  1  1  1  1  1  1  1  1  1  1  1  1  1\n",
            "  1  1  1  1  1  1  1  1  1  1  1  1  1  1  1  1  1  1  1  1  1  1  1  1\n",
            "  1  1  1  1  1  1  1  1  1  1  1  1  1  1  1  1  1  1  1  1  1  1  1  1\n",
            "  1  1  1  1  1  1  1  1  1  1  1  1  1  1  1  1  1  1  1  1  1  1  1  1\n",
            "  1  1  1  1  9  9  9  9  9  9  9  9  9  9  9  9  9  9  9  9  9  9  9  9\n",
            "  9  9  9  9  9  9  9  9  9  9  9  9  9  9  9  9  9  9  9  9  9  9  9  9\n",
            "  9  9  9  9  9  9  9  9  9  9  9  9  9  9  9  9  9  9  9  9  9  9  9  9\n",
            "  9  9  9  9  9  9  9  9  9  9  9  9  9  9  9  9  9  9  9  9  9  9  9  9\n",
            "  9  9  9  9  9  9  9  9  7  7  7  7  7  7  7  7  7  7  7  7  7  7  7  7\n",
            "  7  7  7  7  7  7  7  7  7  7  7  7  7  7  7  7  7  7  7  7  7  7  7  7\n",
            "  7  7  7  7  7  7  7  7  7  7  7  7  7  7  7  7  7  7  7  7  7  7  7  7\n",
            "  7  7  7  7  7  7  7  7  7  7  7  7  7  7  7  7  7  7  7  7  7  7  7  7\n",
            "  7  7  7  7  7  7  7  7  7  7  7  7  5  5  5  5  5  5  5  5  5  5  5  5\n",
            "  5  5  5  5  5  5  5  5  5  5  5  5  5  5  5  5  5  5  5  5  5  5  5  5\n",
            "  5  5  5  5  5  5  5  5  5  5  5  5  5  5  5  5  5  5  5  5  5  5  5  5\n",
            "  5  5  5  5  5  5  5  5  5  5  5  5  5  5  5  5  5  5  5  5  5  5  5  5\n",
            "  5  5  5  5  5  5  5  5  5  5  5  5  5  5  5  5  4  4  4  4  4  4  4  4\n",
            "  4  4  4  4  4  4  4  4  4  4  4  4  4  4  4  4  4  4  4  4  4  4  4  4\n",
            "  4  4  4  4  4  4  4  4  4  4  4  4  4  4  4  4  4  4  4  4  4  4  4  4\n",
            "  4  4  4  4  4  4  4  4  4  4  4  4  4  4  4  4  4  4  4  4  4  4  4  4\n",
            "  4  4  4  4  4  4  4  4  4  4  4  4  4  4  4  4  4  4  4  4  3  3  3  3\n",
            "  3  3  3  3  3  3  3  3  3  3  3  3  3  3  3  3  3  3  3  3  3  3  3  3\n",
            "  3  3  3  3  3  3  3  3  3  3  3  3  3  3  3  3  3  3  3  3  3  3  3  3\n",
            "  3  3  3  3  3  3  3  3  3  3  3  3  3  3  3  3  3  3  3  3  3  3  3  3\n",
            "  3  3  3  3  3  3  3  3  3  3  3  3  3  3  3  3  3  3  3  3  3  3  3  3\n",
            "  2  2  2  2  2  2  2  2  2  2  2  2  2  2  2  2  2  2  2  2  2  2  2  2\n",
            "  2  2  2  2  2  2  2  2  2  2  2  2  2  2  2  2  2  2  2  2  2  2  2  2\n",
            "  2  2  2  2  2  2  2  2  2  2  2  2  2  2  2  2  2  2  2  2  2  2  2  2\n",
            "  2  2  2  2  2  2  2  2  2  2  2  2  2  2  2  2  2  2  2  2  2  2  2  2\n",
            "  2  2  2  2 10 10 10 10 10 10 10 10 10 10 10 10 10 10 10 10 10 10 10 10\n",
            " 10 10 10 10 10 10 10 10 10 10 10 10 10 10 10 10 10 10 10 10 10 10 10 10\n",
            " 10 10 10 10 10 10 10 10 10 10 10 10 10 10 10 10 10 10 10 10 10 10 10 10\n",
            " 10 10 10 10 10 10 10 10 10 10 10 10 10 10 10 10 10 10 10 10 10 10 10 10\n",
            " 10 10 10 10 10 10 10 10  8  8  8  8  8  8  8  8  8  8  8  8  8  8  8  8\n",
            "  8  8  8  8  8  8  8  8  8  8  8  8  8  8  8  8  8  8  8  8  8  8  8  8\n",
            "  8  8  8  8  8  8  8  8  8  8  8  8  8  8  8  8  8  8  8  8  8  8  8  8\n",
            "  8  8  8  8  8  8  8  8  8  8  8  8  8  8  8  8  8  8  8  8  8  8  8  8\n",
            "  8  8  8  8  8  8  8  8  8  8  8  8  6  6  6  6  6  6  6  6  6  6  6  6\n",
            "  6  6  6  6  6  6  6  6  6  6  6  6  6  6  6  6  6  6  6  6  6  6  6  6\n",
            "  6  6  6  6  6  6  6  6  6  6  6  6  6  6  6  6  6  6  6  6  6  6  6  6\n",
            "  6  6  6  6  6  6  6  6  6  6  6  6  6  6  6  6  6  6  6  6  6  6  6  6\n",
            "  6  6  6  6  6  6  6  6  6  6  6  6  6  6  6  6]\n",
            "26 0\n",
            "\n",
            "x_train: \n",
            "[[23 15 18 ...  0  0  0]\n",
            " [16 15  1 ...  0  0  0]\n",
            " [20 18  5 ...  0  0  0]\n",
            " ...\n",
            " [18  5 10 ...  0  0  0]\n",
            " [ 2  5  1 ...  0  0  0]\n",
            " [ 1 12 12 ...  0  0  0]]\n",
            "\n",
            "y_train: \n",
            "[ 1  2  2  9  2 10  8  1  9  2  3  7  5  9  5  1  5  7  4  9 10  7 10  4\n",
            "  1 10  8  9  7  4 10  7  4 10  2  4  9  8  4  9  1  3  3  1  3  8  1  2\n",
            "  7  8  3  6  7  6  8  8  4  2  7  4  7  5  3  3  6  8  2  1 10  4  1  8\n",
            "  5  6  1  6  1  3  7  1  3  3  5  8  5 10  7  8  6  9  8  4  6  6  8  2\n",
            "  8  6 10 10  6  8  7  9 10  8  5  1  1  9  4  4  7  8 10  7  5  7  5  8\n",
            "  3  8  9  8  7  6  4  8  4 10  7  1  5  5 10  1  8  9  3  3 10  4  2  4\n",
            "  1  2  5  2  3  8  8  9  8  7  7 10  6  6  5  1  1  1  3  4  3  9  9  4\n",
            "  5  1  9  9  8  7  1  9  6  4  6  5  4  7  1  5  3  4  6  5  9  6  5  1\n",
            " 10  5 10  8  9  5  6  2  3  1  5  7  2  9  9  4  7  4  4  8 10  8  2  7\n",
            "  3  3  9  9  4  3  3 10  8 10  7  2  8  9  3  4  8  5 10 10 10  9  2  4\n",
            "  3  8  1  2  6  7  2  5  1  2  2  2  6  7  4  6  1  6  7  7  2  5  1  6\n",
            "  6  8  3  1  5  2  3  9  6  5  4  1  5  3  2  8  6  9 10  4 10 10  1  4\n",
            "  9  6  2  7  2  6 10 10  1  4  2  5  8  6  4  8  1  7  5  9  1  3  4  1\n",
            "  2  7 10  4  6  2  4 10  6  4  6  8  6  4  9  7  7  3  4  4  3  1  4 10\n",
            "  8  2  1  9 10  3  8  6  8  3 10  2  9  5  7  6  9 10  3  6  5  9  1  8\n",
            "  9 10 10  5  7  8  5  4  9  7  4  1  2  9  1  1  5  8  2  2  5  9  3  2\n",
            "  6 10  8  6  5  3  5  2  7  2  2  1  5  9  1  5 10  3  9  7  2  4  4  2\n",
            "  1  2  3  4  2  5  7  7  7  1  3  3 10  3  1  6  4  2  9  5  7  8  6  5\n",
            "  7  4  1  7  5  1  7  1  6  9 10  2  1  7  6  9  9  7  7  1  2  9  7 10\n",
            "  7  1  5  5  6  6  6  2  9 10  8  9  8  1  5  6  2  8  8  8  6  2  9  7\n",
            "  5  7  5 10  8  5  1  4 10  2  3  5  2  7  4  9  6  7  5  3  7  4  6  8\n",
            "  5  5  6  3  3  6  6  1  1  2  6 10  4  4  8  6  6  3  3  1  3  1  7  6\n",
            "  6  8  3 10  2  9  5  6  6  7  7  9  3  2 10 10  6  5  4  8  8  3  5  2\n",
            "  7  6  1  6  4  2  9  7  1  3  3  9  9  3  4  9  6  9  5  9  8  6  7  7\n",
            "  6  5  3  9  4  1 10  7  6 10  1  3 10  9  9  6  1  6 10  7  1  4  4  8\n",
            "  4  4  7  5  2  6  5  1  8 10  9  9  2  6  9  3  7 10  6 10  1  2  3  7\n",
            "  9  4  8 10  5  3  1  5  1 10  2  5 10  9  1  4]\n",
            "(800, 30) (160, 30) (200, 30)\n",
            "(800,) (160,) (200, 30)\n",
            "[ 2  8  9  2  4  2 10 10  9  5  4  7 10  5  5  2  8  4 10  3  8  4  6  7\n",
            " 10  8  8  4  4  6  9  6  5 10  3  3  9  3  6  3  1  1  1  4  9  4  6  6\n",
            "  4  9  6  7  1  8  1  1  8  9  9  6  7  3  6 10  2  3  9  7  7  1  6  9\n",
            "  5  5 10  8  9  9  2  2  9  5  2  2  3 10  2  5  2  7  9  7  2  8  6  2\n",
            "  6  2  3 10 10  1 10  7  3  2  2  2  2  5  2  1  7  9  3 10 10  8  9  6\n",
            "  9  7  1 10  9  7  4  1  1  5  2  9 10  8  7  4  2  4  5  9  3  8  2 10\n",
            "  5  3  8  3 10  7  7  5  3  7  5  7  7 10  4  6  9  1  2  4  1 10 10  8\n",
            "  7  6  4  6  2  3  3  5  9  2  5  3 10  3  8  9  6  7  9  9  6 10  2  3\n",
            "  5  5  9  7  1  3  7  1  8  4  2  4  6  1  1  2  8  6  6  9  6  1  4  5\n",
            "  2  7  8  6 10  5  6  8  9  5  6  9  9  9  9  1  1  7  3  7  4  3  4  6\n",
            "  8  6  8  1  2  1  4  4  5  3  8  9  9  7  5  2  9 10  6  4  8 10  8  1\n",
            "  2  7  8  4  7  1  2  6  3  2  4  1  9  6  3  5  1  7  7 10  9  7  5  2\n",
            "  2  3  5  7  3 10 10  4  2  1 10  8  1 10  8  6  2  9  2  7 10 10  1 10\n",
            "  5  9  1  7  5  5 10  9  4  8 10  2  2  3  7  5  1  1  3  3  1  5  4  9\n",
            "  6  1  7 10  8  5  4  3  9  5 10  9  3  5  7 10  8  3  1  3  5  8  7  5\n",
            "  5  4  8  5  1  8  3  1  7  4  8  9  8 10  7  3  1  7  1  8  6  6  6  3\n",
            "  3  1  6  5 10  7  7  9 10  5  9  1  3  1  4 10  3  5  8 10  2  1 10  7\n",
            "  5  8  6  5  2  8  4  9  7  5  2  9  5  9  8 10  4  2  4  5  8  1  8  6\n",
            "  8  5  7  9 10  1  3  4  8  7  5  8  2  9  8 10  7  9  7  4  6 10  1  5\n",
            "  2  9  4  9  1  1  1  3  8  5  1  5 10  2  6  8  6  3  9  3  5 10 10  7\n",
            "  8  8  3  1  7 10  3  4  8  7 10  4  6  6  8  5  4  1  3  5  2  5  3  6\n",
            "  7  6  5  6  7  6  4  5  1  4  7  8  3  4  9  2  4  3  6  3  8  9  7  6\n",
            " 10 10  3  6  6  4  9  3  3  6  9  7 10  8  9  8  8  8  4  6  3  1  7  4\n",
            " 10  8  2  8  6  8  2  2  8  1  2  6  4  4 10  8  7 10  8  1  6  6  2 10\n",
            "  4  3  9 10  4  5  3  2  1  6  9  8  6  5 10  1  6  4  9  1  6  9  1  9\n",
            "  2  6  3  4  6  8  5  8  4  4  1  9  8  6  9  6  5 10  6  7  3  3  8  8\n",
            "  4  4  5  1  7  7  2  6 10  7  1  9  4  4  3  6  8  9  7  3  1  9  9  8\n",
            "  1  6  4  6  2 10  9 10 10  7  1  5  2  7  4  3  9  7  2  2  1  5  8  6\n",
            "  2  5  5  1  1  2  4 10  6  9  3  1  1  9  2 10  9  1  2  4  6  1  3  1\n",
            "  1  8  9 10  4  8  5  7  7  7 10  6  3 10  4  3 10  4  2  9  1  8  9  3\n",
            "  6  7  8  4  5  3  7  3  5  5  7  4  2  2  5  8  8  3  9  5  2  8 10  5\n",
            "  7 10  7  3  6  1  1  3  7  6  5  9  4  7  3  4  7  1  5  8  7  5  5  6\n",
            "  5  1  6  2  6  3  4  1  7  5 10  5  6  1  3  5  3  6 10  6  9  6  4  7\n",
            " 10  2  4  1  1  4  4  4]\n",
            "\n",
            "building the model...\n",
            "\n",
            "Model: \"sequential\"\n",
            "_________________________________________________________________\n",
            "Layer (type)                 Output Shape              Param #   \n",
            "=================================================================\n",
            "embedding (Embedding)        (None, 30, 64)            320064    \n",
            "_________________________________________________________________\n",
            "bidirectional (Bidirectional (None, 30, 128)           66048     \n",
            "_________________________________________________________________\n",
            "bidirectional_1 (Bidirection (None, 30, 128)           98816     \n",
            "_________________________________________________________________\n",
            "global_max_pooling1d (Global (None, 128)               0         \n",
            "_________________________________________________________________\n",
            "dropout (Dropout)            (None, 128)               0         \n",
            "_________________________________________________________________\n",
            "dense (Dense)                (None, 64)                8256      \n",
            "_________________________________________________________________\n",
            "dense_1 (Dense)              (None, 11)                715       \n",
            "=================================================================\n",
            "Total params: 493,899\n",
            "Trainable params: 493,899\n",
            "Non-trainable params: 0\n",
            "_________________________________________________________________\n"
          ],
          "name": "stdout"
        }
      ]
    },
    {
      "cell_type": "code",
      "metadata": {
        "id": "XS_cMXislcAr",
        "outputId": "b4c64e3e-ebd7-4de3-a4d4-0a4f402c5729",
        "colab": {
          "base_uri": "https://localhost:8080/"
        }
      },
      "source": [
        "# train the model\n",
        "history = train(model=model, x_train=x_train, y_train=to_categorical(y_train), batch_size=BATCH_SIZE,\n",
        "                x_validation=x_validation, y_validation=to_categorical(y_validation),\n",
        "                epochs=EPOCHS, verbose=1, monitor_es='val_loss', mode_es='min', restore=False)"
      ],
      "execution_count": 27,
      "outputs": [
        {
          "output_type": "stream",
          "text": [
            "\n",
            "training...\n",
            "\n",
            "Epoch 1/200\n",
            "25/25 [==============================] - ETA: 0s - loss: 2.3573 - accuracy: 0.1063 - auc: 0.5437 - precision: 0.0000e+00 - recall: 0.0000e+00\n",
            "Epoch 00001: val_accuracy improved from -inf to 0.08125, saving model to tfjsmode.h5\n",
            "25/25 [==============================] - 2s 72ms/step - loss: 2.3573 - accuracy: 0.1063 - auc: 0.5437 - precision: 0.0000e+00 - recall: 0.0000e+00 - val_loss: 2.3232 - val_accuracy: 0.0812 - val_auc: 0.5560 - val_precision: 0.0000e+00 - val_recall: 0.0000e+00\n",
            "Epoch 2/200\n",
            "25/25 [==============================] - ETA: 0s - loss: 2.3309 - accuracy: 0.0975 - auc: 0.5404 - precision: 0.0000e+00 - recall: 0.0000e+00\n",
            "Epoch 00002: val_accuracy improved from 0.08125 to 0.15625, saving model to tfjsmode.h5\n",
            "25/25 [==============================] - 0s 16ms/step - loss: 2.3309 - accuracy: 0.0975 - auc: 0.5404 - precision: 0.0000e+00 - recall: 0.0000e+00 - val_loss: 2.3097 - val_accuracy: 0.1562 - val_auc: 0.5810 - val_precision: 0.0000e+00 - val_recall: 0.0000e+00\n",
            "Epoch 3/200\n",
            "25/25 [==============================] - ETA: 0s - loss: 2.2578 - accuracy: 0.1363 - auc: 0.6262 - precision: 0.0000e+00 - recall: 0.0000e+00\n",
            "Epoch 00003: val_accuracy improved from 0.15625 to 0.18750, saving model to tfjsmode.h5\n",
            "25/25 [==============================] - 0s 16ms/step - loss: 2.2578 - accuracy: 0.1363 - auc: 0.6262 - precision: 0.0000e+00 - recall: 0.0000e+00 - val_loss: 2.0285 - val_accuracy: 0.1875 - val_auc: 0.7514 - val_precision: 0.0000e+00 - val_recall: 0.0000e+00\n",
            "Epoch 4/200\n",
            "25/25 [==============================] - ETA: 0s - loss: 2.0625 - accuracy: 0.2013 - auc: 0.7334 - precision: 0.3500 - recall: 0.0088\n",
            "Epoch 00004: val_accuracy improved from 0.18750 to 0.26250, saving model to tfjsmode.h5\n",
            "25/25 [==============================] - 0s 16ms/step - loss: 2.0625 - accuracy: 0.2013 - auc: 0.7334 - precision: 0.3500 - recall: 0.0088 - val_loss: 1.9253 - val_accuracy: 0.2625 - val_auc: 0.7891 - val_precision: 0.0000e+00 - val_recall: 0.0000e+00\n",
            "Epoch 5/200\n",
            "25/25 [==============================] - ETA: 0s - loss: 2.0166 - accuracy: 0.2013 - auc: 0.7442 - precision: 0.3333 - recall: 0.0037\n",
            "Epoch 00005: val_accuracy did not improve from 0.26250\n",
            "25/25 [==============================] - 0s 15ms/step - loss: 2.0166 - accuracy: 0.2013 - auc: 0.7442 - precision: 0.3333 - recall: 0.0037 - val_loss: 1.8926 - val_accuracy: 0.2500 - val_auc: 0.7913 - val_precision: 0.0000e+00 - val_recall: 0.0000e+00\n",
            "Epoch 6/200\n",
            "25/25 [==============================] - ETA: 0s - loss: 1.9837 - accuracy: 0.2025 - auc: 0.7542 - precision: 0.4333 - recall: 0.0162\n",
            "Epoch 00006: val_accuracy improved from 0.26250 to 0.26875, saving model to tfjsmode.h5\n",
            "25/25 [==============================] - 0s 16ms/step - loss: 1.9837 - accuracy: 0.2025 - auc: 0.7542 - precision: 0.4333 - recall: 0.0162 - val_loss: 1.8631 - val_accuracy: 0.2688 - val_auc: 0.8039 - val_precision: 0.0000e+00 - val_recall: 0.0000e+00\n",
            "Epoch 7/200\n",
            "25/25 [==============================] - ETA: 0s - loss: 1.9374 - accuracy: 0.2375 - auc: 0.7759 - precision: 0.2308 - recall: 0.0037\n",
            "Epoch 00007: val_accuracy improved from 0.26875 to 0.30625, saving model to tfjsmode.h5\n",
            "25/25 [==============================] - 0s 16ms/step - loss: 1.9374 - accuracy: 0.2375 - auc: 0.7759 - precision: 0.2308 - recall: 0.0037 - val_loss: 1.8471 - val_accuracy: 0.3063 - val_auc: 0.8035 - val_precision: 0.0000e+00 - val_recall: 0.0000e+00\n",
            "Epoch 8/200\n",
            "25/25 [==============================] - ETA: 0s - loss: 1.8881 - accuracy: 0.2425 - auc: 0.7903 - precision: 0.3846 - recall: 0.0250\n",
            "Epoch 00008: val_accuracy improved from 0.30625 to 0.31250, saving model to tfjsmode.h5\n",
            "25/25 [==============================] - 0s 16ms/step - loss: 1.8881 - accuracy: 0.2425 - auc: 0.7903 - precision: 0.3846 - recall: 0.0250 - val_loss: 1.7772 - val_accuracy: 0.3125 - val_auc: 0.8264 - val_precision: 0.0000e+00 - val_recall: 0.0000e+00\n",
            "Epoch 9/200\n",
            "25/25 [==============================] - ETA: 0s - loss: 1.8517 - accuracy: 0.2475 - auc: 0.8019 - precision: 0.4167 - recall: 0.0250\n",
            "Epoch 00009: val_accuracy improved from 0.31250 to 0.38125, saving model to tfjsmode.h5\n",
            "25/25 [==============================] - 0s 16ms/step - loss: 1.8517 - accuracy: 0.2475 - auc: 0.8019 - precision: 0.4167 - recall: 0.0250 - val_loss: 1.6653 - val_accuracy: 0.3812 - val_auc: 0.8579 - val_precision: 0.0000e+00 - val_recall: 0.0000e+00\n",
            "Epoch 10/200\n",
            "25/25 [==============================] - ETA: 0s - loss: 1.7853 - accuracy: 0.2850 - auc: 0.8219 - precision: 0.5789 - recall: 0.0275\n",
            "Epoch 00010: val_accuracy did not improve from 0.38125\n",
            "25/25 [==============================] - 0s 15ms/step - loss: 1.7853 - accuracy: 0.2850 - auc: 0.8219 - precision: 0.5789 - recall: 0.0275 - val_loss: 1.6736 - val_accuracy: 0.3375 - val_auc: 0.8527 - val_precision: 0.3953 - val_recall: 0.1063\n",
            "Epoch 11/200\n",
            "25/25 [==============================] - ETA: 0s - loss: 1.7364 - accuracy: 0.3038 - auc: 0.8349 - precision: 0.4557 - recall: 0.0450\n",
            "Epoch 00011: val_accuracy did not improve from 0.38125\n",
            "25/25 [==============================] - 0s 15ms/step - loss: 1.7364 - accuracy: 0.3038 - auc: 0.8349 - precision: 0.4557 - recall: 0.0450 - val_loss: 1.7633 - val_accuracy: 0.3000 - val_auc: 0.8289 - val_precision: 0.3548 - val_recall: 0.0688\n",
            "Epoch 12/200\n",
            "25/25 [==============================] - ETA: 0s - loss: 1.7132 - accuracy: 0.3038 - auc: 0.8403 - precision: 0.5056 - recall: 0.0562\n",
            "Epoch 00012: val_accuracy did not improve from 0.38125\n",
            "25/25 [==============================] - 0s 15ms/step - loss: 1.7132 - accuracy: 0.3038 - auc: 0.8403 - precision: 0.5056 - recall: 0.0562 - val_loss: 1.6094 - val_accuracy: 0.3562 - val_auc: 0.8601 - val_precision: 0.7778 - val_recall: 0.0875\n",
            "Epoch 13/200\n",
            "22/25 [=========================>....] - ETA: 0s - loss: 1.6751 - accuracy: 0.3239 - auc: 0.8484 - precision: 0.5441 - recall: 0.0526\n",
            "Epoch 00013: val_accuracy improved from 0.38125 to 0.42500, saving model to tfjsmode.h5\n",
            "25/25 [==============================] - 0s 16ms/step - loss: 1.6757 - accuracy: 0.3262 - auc: 0.8477 - precision: 0.5366 - recall: 0.0550 - val_loss: 1.5305 - val_accuracy: 0.4250 - val_auc: 0.8810 - val_precision: 0.6452 - val_recall: 0.1250\n",
            "Epoch 14/200\n",
            "22/25 [=========================>....] - ETA: 0s - loss: 1.6662 - accuracy: 0.3153 - auc: 0.8509 - precision: 0.4865 - recall: 0.0767\n",
            "Epoch 00014: val_accuracy improved from 0.42500 to 0.46250, saving model to tfjsmode.h5\n",
            "25/25 [==============================] - 0s 16ms/step - loss: 1.6650 - accuracy: 0.3125 - auc: 0.8510 - precision: 0.4957 - recall: 0.0725 - val_loss: 1.5192 - val_accuracy: 0.4625 - val_auc: 0.8802 - val_precision: 0.8421 - val_recall: 0.1000\n",
            "Epoch 15/200\n",
            "25/25 [==============================] - ETA: 0s - loss: 1.6251 - accuracy: 0.3525 - auc: 0.8572 - precision: 0.5079 - recall: 0.0800\n",
            "Epoch 00015: val_accuracy did not improve from 0.46250\n",
            "25/25 [==============================] - 0s 15ms/step - loss: 1.6251 - accuracy: 0.3525 - auc: 0.8572 - precision: 0.5079 - recall: 0.0800 - val_loss: 1.4575 - val_accuracy: 0.4000 - val_auc: 0.8920 - val_precision: 0.6333 - val_recall: 0.1187\n",
            "Epoch 16/200\n",
            "25/25 [==============================] - ETA: 0s - loss: 1.6156 - accuracy: 0.3700 - auc: 0.8595 - precision: 0.5625 - recall: 0.1013\n",
            "Epoch 00016: val_accuracy did not improve from 0.46250\n",
            "25/25 [==============================] - 0s 15ms/step - loss: 1.6156 - accuracy: 0.3700 - auc: 0.8595 - precision: 0.5625 - recall: 0.1013 - val_loss: 1.4696 - val_accuracy: 0.4500 - val_auc: 0.8877 - val_precision: 0.7857 - val_recall: 0.1375\n",
            "Epoch 17/200\n",
            "25/25 [==============================] - ETA: 0s - loss: 1.6083 - accuracy: 0.3562 - auc: 0.8605 - precision: 0.5956 - recall: 0.1013\n",
            "Epoch 00017: val_accuracy did not improve from 0.46250\n",
            "25/25 [==============================] - 0s 15ms/step - loss: 1.6083 - accuracy: 0.3562 - auc: 0.8605 - precision: 0.5956 - recall: 0.1013 - val_loss: 1.4669 - val_accuracy: 0.4375 - val_auc: 0.8907 - val_precision: 0.7200 - val_recall: 0.1125\n",
            "Epoch 18/200\n",
            "25/25 [==============================] - ETA: 0s - loss: 1.6022 - accuracy: 0.3650 - auc: 0.8631 - precision: 0.5227 - recall: 0.0862\n",
            "Epoch 00018: val_accuracy did not improve from 0.46250\n",
            "25/25 [==============================] - 0s 14ms/step - loss: 1.6022 - accuracy: 0.3650 - auc: 0.8631 - precision: 0.5227 - recall: 0.0862 - val_loss: 1.4602 - val_accuracy: 0.4500 - val_auc: 0.8903 - val_precision: 0.6842 - val_recall: 0.1625\n",
            "Epoch 19/200\n",
            "25/25 [==============================] - ETA: 0s - loss: 1.5750 - accuracy: 0.3537 - auc: 0.8677 - precision: 0.5734 - recall: 0.1025\n",
            "Epoch 00019: val_accuracy did not improve from 0.46250\n",
            "25/25 [==============================] - 0s 15ms/step - loss: 1.5750 - accuracy: 0.3537 - auc: 0.8677 - precision: 0.5734 - recall: 0.1025 - val_loss: 1.4399 - val_accuracy: 0.3938 - val_auc: 0.8920 - val_precision: 0.7812 - val_recall: 0.1562\n",
            "Epoch 20/200\n",
            "22/25 [=========================>....] - ETA: 0s - loss: 1.5559 - accuracy: 0.3778 - auc: 0.8707 - precision: 0.5441 - recall: 0.1051\n",
            "Epoch 00020: val_accuracy improved from 0.46250 to 0.46875, saving model to tfjsmode.h5\n",
            "25/25 [==============================] - 0s 16ms/step - loss: 1.5604 - accuracy: 0.3713 - auc: 0.8700 - precision: 0.5425 - recall: 0.1037 - val_loss: 1.4093 - val_accuracy: 0.4688 - val_auc: 0.8987 - val_precision: 0.7105 - val_recall: 0.1688\n",
            "Epoch 21/200\n",
            "25/25 [==============================] - ETA: 0s - loss: 1.5551 - accuracy: 0.3713 - auc: 0.8719 - precision: 0.5595 - recall: 0.1175\n",
            "Epoch 00021: val_accuracy improved from 0.46875 to 0.50000, saving model to tfjsmode.h5\n",
            "25/25 [==============================] - 0s 16ms/step - loss: 1.5551 - accuracy: 0.3713 - auc: 0.8719 - precision: 0.5595 - recall: 0.1175 - val_loss: 1.3990 - val_accuracy: 0.5000 - val_auc: 0.8995 - val_precision: 0.7292 - val_recall: 0.2188\n",
            "Epoch 22/200\n",
            "22/25 [=========================>....] - ETA: 0s - loss: 1.5514 - accuracy: 0.3977 - auc: 0.8723 - precision: 0.5655 - recall: 0.1165\n",
            "Epoch 00022: val_accuracy did not improve from 0.50000\n",
            "25/25 [==============================] - 0s 15ms/step - loss: 1.5571 - accuracy: 0.3875 - auc: 0.8712 - precision: 0.5536 - recall: 0.1163 - val_loss: 1.4040 - val_accuracy: 0.4563 - val_auc: 0.8990 - val_precision: 0.7317 - val_recall: 0.1875\n",
            "Epoch 23/200\n",
            "23/25 [==========================>...] - ETA: 0s - loss: 1.5329 - accuracy: 0.3791 - auc: 0.8760 - precision: 0.5938 - recall: 0.1291\n",
            "Epoch 00023: val_accuracy did not improve from 0.50000\n",
            "25/25 [==============================] - 0s 14ms/step - loss: 1.5342 - accuracy: 0.3775 - auc: 0.8756 - precision: 0.5801 - recall: 0.1312 - val_loss: 1.4162 - val_accuracy: 0.4563 - val_auc: 0.8965 - val_precision: 0.6562 - val_recall: 0.1312\n",
            "Epoch 24/200\n",
            "22/25 [=========================>....] - ETA: 0s - loss: 1.5086 - accuracy: 0.4162 - auc: 0.8804 - precision: 0.5833 - recall: 0.1392\n",
            "Epoch 00024: val_accuracy did not improve from 0.50000\n",
            "25/25 [==============================] - 0s 14ms/step - loss: 1.5255 - accuracy: 0.3988 - auc: 0.8771 - precision: 0.5737 - recall: 0.1363 - val_loss: 1.3769 - val_accuracy: 0.4688 - val_auc: 0.9041 - val_precision: 0.7931 - val_recall: 0.1437\n",
            "Epoch 25/200\n",
            "25/25 [==============================] - ETA: 0s - loss: 1.4905 - accuracy: 0.4013 - auc: 0.8828 - precision: 0.6033 - recall: 0.1388\n",
            "Epoch 00025: val_accuracy did not improve from 0.50000\n",
            "25/25 [==============================] - 0s 15ms/step - loss: 1.4905 - accuracy: 0.4013 - auc: 0.8828 - precision: 0.6033 - recall: 0.1388 - val_loss: 1.3520 - val_accuracy: 0.4875 - val_auc: 0.9055 - val_precision: 0.7778 - val_recall: 0.2625\n",
            "Epoch 26/200\n",
            "25/25 [==============================] - ETA: 0s - loss: 1.5065 - accuracy: 0.3900 - auc: 0.8790 - precision: 0.6406 - recall: 0.1737\n",
            "Epoch 00026: val_accuracy did not improve from 0.50000\n",
            "25/25 [==============================] - 0s 15ms/step - loss: 1.5065 - accuracy: 0.3900 - auc: 0.8790 - precision: 0.6406 - recall: 0.1737 - val_loss: 1.3272 - val_accuracy: 0.4938 - val_auc: 0.9098 - val_precision: 0.7692 - val_recall: 0.2500\n",
            "Epoch 27/200\n",
            "25/25 [==============================] - ETA: 0s - loss: 1.4936 - accuracy: 0.4000 - auc: 0.8813 - precision: 0.6150 - recall: 0.1637\n",
            "Epoch 00027: val_accuracy did not improve from 0.50000\n",
            "25/25 [==============================] - 0s 15ms/step - loss: 1.4936 - accuracy: 0.4000 - auc: 0.8813 - precision: 0.6150 - recall: 0.1637 - val_loss: 1.3271 - val_accuracy: 0.4688 - val_auc: 0.9104 - val_precision: 0.6875 - val_recall: 0.2750\n",
            "Epoch 28/200\n",
            "25/25 [==============================] - ETA: 0s - loss: 1.4594 - accuracy: 0.4288 - auc: 0.8887 - precision: 0.6017 - recall: 0.1737\n",
            "Epoch 00028: val_accuracy improved from 0.50000 to 0.50625, saving model to tfjsmode.h5\n",
            "25/25 [==============================] - 0s 17ms/step - loss: 1.4594 - accuracy: 0.4288 - auc: 0.8887 - precision: 0.6017 - recall: 0.1737 - val_loss: 1.3105 - val_accuracy: 0.5063 - val_auc: 0.9151 - val_precision: 0.8333 - val_recall: 0.1875\n",
            "Epoch 29/200\n",
            "22/25 [=========================>....] - ETA: 0s - loss: 1.4417 - accuracy: 0.4304 - auc: 0.8914 - precision: 0.6522 - recall: 0.1705\n",
            "Epoch 00029: val_accuracy did not improve from 0.50625\n",
            "25/25 [==============================] - 0s 14ms/step - loss: 1.4579 - accuracy: 0.4238 - auc: 0.8887 - precision: 0.6429 - recall: 0.1688 - val_loss: 1.3025 - val_accuracy: 0.4875 - val_auc: 0.9134 - val_precision: 0.7042 - val_recall: 0.3125\n",
            "Epoch 30/200\n",
            "25/25 [==============================] - ETA: 0s - loss: 1.4695 - accuracy: 0.4212 - auc: 0.8861 - precision: 0.6426 - recall: 0.1887\n",
            "Epoch 00030: val_accuracy improved from 0.50625 to 0.51875, saving model to tfjsmode.h5\n",
            "25/25 [==============================] - 0s 16ms/step - loss: 1.4695 - accuracy: 0.4212 - auc: 0.8861 - precision: 0.6426 - recall: 0.1887 - val_loss: 1.2897 - val_accuracy: 0.5188 - val_auc: 0.9156 - val_precision: 0.7647 - val_recall: 0.2438\n",
            "Epoch 31/200\n",
            "25/25 [==============================] - ETA: 0s - loss: 1.4491 - accuracy: 0.4238 - auc: 0.8903 - precision: 0.6408 - recall: 0.1963\n",
            "Epoch 00031: val_accuracy did not improve from 0.51875\n",
            "25/25 [==============================] - 0s 15ms/step - loss: 1.4491 - accuracy: 0.4238 - auc: 0.8903 - precision: 0.6408 - recall: 0.1963 - val_loss: 1.3153 - val_accuracy: 0.4938 - val_auc: 0.9117 - val_precision: 0.7455 - val_recall: 0.2562\n",
            "Epoch 32/200\n",
            "25/25 [==============================] - ETA: 0s - loss: 1.4271 - accuracy: 0.4288 - auc: 0.8934 - precision: 0.6314 - recall: 0.2013\n",
            "Epoch 00032: val_accuracy did not improve from 0.51875\n",
            "25/25 [==============================] - 0s 15ms/step - loss: 1.4271 - accuracy: 0.4288 - auc: 0.8934 - precision: 0.6314 - recall: 0.2013 - val_loss: 1.2985 - val_accuracy: 0.4875 - val_auc: 0.9145 - val_precision: 0.7333 - val_recall: 0.2062\n",
            "Epoch 33/200\n",
            "22/25 [=========================>....] - ETA: 0s - loss: 1.4365 - accuracy: 0.4418 - auc: 0.8914 - precision: 0.6635 - recall: 0.1960\n",
            "Epoch 00033: val_accuracy did not improve from 0.51875\n",
            "25/25 [==============================] - 0s 14ms/step - loss: 1.4203 - accuracy: 0.4475 - auc: 0.8941 - precision: 0.6571 - recall: 0.2013 - val_loss: 1.2946 - val_accuracy: 0.4938 - val_auc: 0.9140 - val_precision: 0.7556 - val_recall: 0.2125\n",
            "Epoch 34/200\n",
            "25/25 [==============================] - ETA: 0s - loss: 1.4109 - accuracy: 0.4375 - auc: 0.8960 - precision: 0.6409 - recall: 0.2075\n",
            "Epoch 00034: val_accuracy did not improve from 0.51875\n",
            "25/25 [==============================] - 0s 15ms/step - loss: 1.4109 - accuracy: 0.4375 - auc: 0.8960 - precision: 0.6409 - recall: 0.2075 - val_loss: 1.2756 - val_accuracy: 0.5063 - val_auc: 0.9174 - val_precision: 0.7959 - val_recall: 0.2438\n",
            "Epoch 35/200\n",
            "25/25 [==============================] - ETA: 0s - loss: 1.4025 - accuracy: 0.4325 - auc: 0.8974 - precision: 0.6654 - recall: 0.2212\n",
            "Epoch 00035: val_accuracy improved from 0.51875 to 0.54375, saving model to tfjsmode.h5\n",
            "25/25 [==============================] - 0s 17ms/step - loss: 1.4025 - accuracy: 0.4325 - auc: 0.8974 - precision: 0.6654 - recall: 0.2212 - val_loss: 1.2615 - val_accuracy: 0.5437 - val_auc: 0.9199 - val_precision: 0.7917 - val_recall: 0.2375\n",
            "Epoch 36/200\n",
            "25/25 [==============================] - ETA: 0s - loss: 1.4004 - accuracy: 0.4387 - auc: 0.8986 - precision: 0.6491 - recall: 0.2313\n",
            "Epoch 00036: val_accuracy did not improve from 0.54375\n",
            "25/25 [==============================] - 0s 15ms/step - loss: 1.4004 - accuracy: 0.4387 - auc: 0.8986 - precision: 0.6491 - recall: 0.2313 - val_loss: 1.2787 - val_accuracy: 0.5125 - val_auc: 0.9171 - val_precision: 0.8462 - val_recall: 0.2062\n",
            "Epoch 37/200\n",
            "25/25 [==============================] - ETA: 0s - loss: 1.3850 - accuracy: 0.4412 - auc: 0.9002 - precision: 0.6923 - recall: 0.2138\n",
            "Epoch 00037: val_accuracy did not improve from 0.54375\n",
            "25/25 [==============================] - 0s 15ms/step - loss: 1.3850 - accuracy: 0.4412 - auc: 0.9002 - precision: 0.6923 - recall: 0.2138 - val_loss: 1.2812 - val_accuracy: 0.5437 - val_auc: 0.9173 - val_precision: 0.7917 - val_recall: 0.2375\n",
            "Epoch 38/200\n",
            "25/25 [==============================] - ETA: 0s - loss: 1.3741 - accuracy: 0.4613 - auc: 0.9021 - precision: 0.6642 - recall: 0.2250\n",
            "Epoch 00038: val_accuracy did not improve from 0.54375\n",
            "25/25 [==============================] - 0s 14ms/step - loss: 1.3741 - accuracy: 0.4613 - auc: 0.9021 - precision: 0.6642 - recall: 0.2250 - val_loss: 1.2478 - val_accuracy: 0.5188 - val_auc: 0.9211 - val_precision: 0.7759 - val_recall: 0.2812\n",
            "Epoch 39/200\n",
            "25/25 [==============================] - ETA: 0s - loss: 1.3735 - accuracy: 0.4613 - auc: 0.9027 - precision: 0.6753 - recall: 0.2288\n",
            "Epoch 00039: val_accuracy did not improve from 0.54375\n",
            "25/25 [==============================] - 0s 15ms/step - loss: 1.3735 - accuracy: 0.4613 - auc: 0.9027 - precision: 0.6753 - recall: 0.2288 - val_loss: 1.2375 - val_accuracy: 0.5125 - val_auc: 0.9221 - val_precision: 0.8000 - val_recall: 0.2750\n",
            "Epoch 40/200\n",
            "25/25 [==============================] - ETA: 0s - loss: 1.3614 - accuracy: 0.4600 - auc: 0.9042 - precision: 0.6387 - recall: 0.2188\n",
            "Epoch 00040: val_accuracy improved from 0.54375 to 0.58125, saving model to tfjsmode.h5\n",
            "25/25 [==============================] - 0s 16ms/step - loss: 1.3614 - accuracy: 0.4600 - auc: 0.9042 - precision: 0.6387 - recall: 0.2188 - val_loss: 1.1852 - val_accuracy: 0.5813 - val_auc: 0.9302 - val_precision: 0.7812 - val_recall: 0.3125\n",
            "Epoch 41/200\n",
            "25/25 [==============================] - ETA: 0s - loss: 1.3493 - accuracy: 0.4638 - auc: 0.9067 - precision: 0.6528 - recall: 0.2350\n",
            "Epoch 00041: val_accuracy did not improve from 0.58125\n",
            "25/25 [==============================] - 0s 14ms/step - loss: 1.3493 - accuracy: 0.4638 - auc: 0.9067 - precision: 0.6528 - recall: 0.2350 - val_loss: 1.2551 - val_accuracy: 0.5375 - val_auc: 0.9210 - val_precision: 0.8367 - val_recall: 0.2562\n",
            "Epoch 42/200\n",
            "22/25 [=========================>....] - ETA: 0s - loss: 1.3513 - accuracy: 0.4801 - auc: 0.9059 - precision: 0.6827 - recall: 0.2415\n",
            "Epoch 00042: val_accuracy did not improve from 0.58125\n",
            "25/25 [==============================] - 0s 14ms/step - loss: 1.3410 - accuracy: 0.4762 - auc: 0.9075 - precision: 0.6926 - recall: 0.2450 - val_loss: 1.1752 - val_accuracy: 0.5437 - val_auc: 0.9329 - val_precision: 0.8125 - val_recall: 0.2438\n",
            "Epoch 43/200\n",
            "25/25 [==============================] - ETA: 0s - loss: 1.3300 - accuracy: 0.4663 - auc: 0.9089 - precision: 0.6835 - recall: 0.2375\n",
            "Epoch 00043: val_accuracy did not improve from 0.58125\n",
            "25/25 [==============================] - 0s 14ms/step - loss: 1.3300 - accuracy: 0.4663 - auc: 0.9089 - precision: 0.6835 - recall: 0.2375 - val_loss: 1.1656 - val_accuracy: 0.5562 - val_auc: 0.9316 - val_precision: 0.7812 - val_recall: 0.3125\n",
            "Epoch 44/200\n",
            "25/25 [==============================] - ETA: 0s - loss: 1.3066 - accuracy: 0.4762 - auc: 0.9122 - precision: 0.6885 - recall: 0.2625\n",
            "Epoch 00044: val_accuracy did not improve from 0.58125\n",
            "25/25 [==============================] - 0s 14ms/step - loss: 1.3066 - accuracy: 0.4762 - auc: 0.9122 - precision: 0.6885 - recall: 0.2625 - val_loss: 1.1778 - val_accuracy: 0.5688 - val_auc: 0.9314 - val_precision: 0.7833 - val_recall: 0.2937\n",
            "Epoch 45/200\n",
            "25/25 [==============================] - ETA: 0s - loss: 1.3166 - accuracy: 0.4688 - auc: 0.9108 - precision: 0.6860 - recall: 0.2512\n",
            "Epoch 00045: val_accuracy did not improve from 0.58125\n",
            "25/25 [==============================] - 0s 14ms/step - loss: 1.3166 - accuracy: 0.4688 - auc: 0.9108 - precision: 0.6860 - recall: 0.2512 - val_loss: 1.1607 - val_accuracy: 0.5562 - val_auc: 0.9342 - val_precision: 0.8148 - val_recall: 0.2750\n",
            "Epoch 46/200\n",
            "23/25 [==========================>...] - ETA: 0s - loss: 1.2929 - accuracy: 0.4769 - auc: 0.9148 - precision: 0.6741 - recall: 0.2473\n",
            "Epoch 00046: val_accuracy did not improve from 0.58125\n",
            "25/25 [==============================] - 0s 14ms/step - loss: 1.2913 - accuracy: 0.4775 - auc: 0.9147 - precision: 0.6770 - recall: 0.2463 - val_loss: 1.1572 - val_accuracy: 0.5562 - val_auc: 0.9334 - val_precision: 0.7429 - val_recall: 0.3250\n",
            "Epoch 47/200\n",
            "21/25 [========================>.....] - ETA: 0s - loss: 1.2802 - accuracy: 0.4792 - auc: 0.9163 - precision: 0.6582 - recall: 0.2693\n",
            "Epoch 00047: val_accuracy did not improve from 0.58125\n",
            "25/25 [==============================] - 0s 14ms/step - loss: 1.2906 - accuracy: 0.4775 - auc: 0.9147 - precision: 0.6613 - recall: 0.2587 - val_loss: 1.1369 - val_accuracy: 0.5688 - val_auc: 0.9365 - val_precision: 0.8000 - val_recall: 0.3000\n",
            "Epoch 48/200\n",
            "25/25 [==============================] - ETA: 0s - loss: 1.2780 - accuracy: 0.4925 - auc: 0.9166 - precision: 0.7026 - recall: 0.2688\n",
            "Epoch 00048: val_accuracy improved from 0.58125 to 0.61250, saving model to tfjsmode.h5\n",
            "25/25 [==============================] - 0s 16ms/step - loss: 1.2780 - accuracy: 0.4925 - auc: 0.9166 - precision: 0.7026 - recall: 0.2688 - val_loss: 1.1284 - val_accuracy: 0.6125 - val_auc: 0.9372 - val_precision: 0.7538 - val_recall: 0.3063\n",
            "Epoch 49/200\n",
            "25/25 [==============================] - ETA: 0s - loss: 1.2536 - accuracy: 0.4913 - auc: 0.9202 - precision: 0.6750 - recall: 0.2700\n",
            "Epoch 00049: val_accuracy did not improve from 0.61250\n",
            "25/25 [==============================] - 0s 15ms/step - loss: 1.2536 - accuracy: 0.4913 - auc: 0.9202 - precision: 0.6750 - recall: 0.2700 - val_loss: 1.1102 - val_accuracy: 0.6062 - val_auc: 0.9415 - val_precision: 0.8246 - val_recall: 0.2937\n",
            "Epoch 50/200\n",
            "23/25 [==========================>...] - ETA: 0s - loss: 1.2341 - accuracy: 0.5082 - auc: 0.9231 - precision: 0.7017 - recall: 0.2812\n",
            "Epoch 00050: val_accuracy did not improve from 0.61250\n",
            "25/25 [==============================] - 0s 15ms/step - loss: 1.2411 - accuracy: 0.5013 - auc: 0.9222 - precision: 0.6938 - recall: 0.2775 - val_loss: 1.0983 - val_accuracy: 0.5875 - val_auc: 0.9421 - val_precision: 0.8033 - val_recall: 0.3063\n",
            "Epoch 51/200\n",
            "25/25 [==============================] - ETA: 0s - loss: 1.2614 - accuracy: 0.4900 - auc: 0.9190 - precision: 0.6616 - recall: 0.2713\n",
            "Epoch 00051: val_accuracy did not improve from 0.61250\n",
            "25/25 [==============================] - 0s 14ms/step - loss: 1.2614 - accuracy: 0.4900 - auc: 0.9190 - precision: 0.6616 - recall: 0.2713 - val_loss: 1.1071 - val_accuracy: 0.5688 - val_auc: 0.9393 - val_precision: 0.7419 - val_recall: 0.2875\n",
            "Epoch 52/200\n",
            "25/25 [==============================] - ETA: 0s - loss: 1.2445 - accuracy: 0.4875 - auc: 0.9213 - precision: 0.6686 - recall: 0.2850\n",
            "Epoch 00052: val_accuracy did not improve from 0.61250\n",
            "25/25 [==============================] - 0s 14ms/step - loss: 1.2445 - accuracy: 0.4875 - auc: 0.9213 - precision: 0.6686 - recall: 0.2850 - val_loss: 1.0911 - val_accuracy: 0.5813 - val_auc: 0.9413 - val_precision: 0.7846 - val_recall: 0.3187\n",
            "Epoch 53/200\n",
            "25/25 [==============================] - ETA: 0s - loss: 1.2183 - accuracy: 0.5125 - auc: 0.9253 - precision: 0.6976 - recall: 0.2912\n",
            "Epoch 00053: val_accuracy improved from 0.61250 to 0.61875, saving model to tfjsmode.h5\n",
            "25/25 [==============================] - 0s 16ms/step - loss: 1.2183 - accuracy: 0.5125 - auc: 0.9253 - precision: 0.6976 - recall: 0.2912 - val_loss: 1.0485 - val_accuracy: 0.6187 - val_auc: 0.9463 - val_precision: 0.7831 - val_recall: 0.4062\n",
            "Epoch 54/200\n",
            "25/25 [==============================] - ETA: 0s - loss: 1.2196 - accuracy: 0.5188 - auc: 0.9246 - precision: 0.6780 - recall: 0.3000\n",
            "Epoch 00054: val_accuracy improved from 0.61875 to 0.65000, saving model to tfjsmode.h5\n",
            "25/25 [==============================] - 0s 16ms/step - loss: 1.2196 - accuracy: 0.5188 - auc: 0.9246 - precision: 0.6780 - recall: 0.3000 - val_loss: 1.0647 - val_accuracy: 0.6500 - val_auc: 0.9456 - val_precision: 0.7826 - val_recall: 0.3375\n",
            "Epoch 55/200\n",
            "22/25 [=========================>....] - ETA: 0s - loss: 1.1946 - accuracy: 0.5085 - auc: 0.9283 - precision: 0.6971 - recall: 0.2713\n",
            "Epoch 00055: val_accuracy did not improve from 0.65000\n",
            "25/25 [==============================] - 0s 15ms/step - loss: 1.2081 - accuracy: 0.4988 - auc: 0.9263 - precision: 0.6879 - recall: 0.2700 - val_loss: 1.0548 - val_accuracy: 0.6250 - val_auc: 0.9451 - val_precision: 0.7564 - val_recall: 0.3688\n",
            "Epoch 56/200\n",
            "22/25 [=========================>....] - ETA: 0s - loss: 1.2082 - accuracy: 0.5170 - auc: 0.9258 - precision: 0.6822 - recall: 0.3111\n",
            "Epoch 00056: val_accuracy improved from 0.65000 to 0.65625, saving model to tfjsmode.h5\n",
            "25/25 [==============================] - 0s 16ms/step - loss: 1.2014 - accuracy: 0.5200 - auc: 0.9267 - precision: 0.6917 - recall: 0.3113 - val_loss: 0.9913 - val_accuracy: 0.6562 - val_auc: 0.9540 - val_precision: 0.8082 - val_recall: 0.3688\n",
            "Epoch 57/200\n",
            "25/25 [==============================] - ETA: 0s - loss: 1.1886 - accuracy: 0.5138 - auc: 0.9287 - precision: 0.6561 - recall: 0.2837\n",
            "Epoch 00057: val_accuracy did not improve from 0.65625\n",
            "25/25 [==============================] - 0s 14ms/step - loss: 1.1886 - accuracy: 0.5138 - auc: 0.9287 - precision: 0.6561 - recall: 0.2837 - val_loss: 1.0264 - val_accuracy: 0.5938 - val_auc: 0.9485 - val_precision: 0.7778 - val_recall: 0.3500\n",
            "Epoch 58/200\n",
            "25/25 [==============================] - ETA: 0s - loss: 1.1591 - accuracy: 0.5225 - auc: 0.9326 - precision: 0.6888 - recall: 0.2988\n",
            "Epoch 00058: val_accuracy did not improve from 0.65625\n",
            "25/25 [==============================] - 0s 15ms/step - loss: 1.1591 - accuracy: 0.5225 - auc: 0.9326 - precision: 0.6888 - recall: 0.2988 - val_loss: 1.0395 - val_accuracy: 0.5875 - val_auc: 0.9471 - val_precision: 0.8228 - val_recall: 0.4062\n",
            "Epoch 59/200\n",
            "22/25 [=========================>....] - ETA: 0s - loss: 1.1085 - accuracy: 0.5540 - auc: 0.9387 - precision: 0.7009 - recall: 0.3196\n",
            "Epoch 00059: val_accuracy did not improve from 0.65625\n",
            "25/25 [==============================] - 0s 15ms/step - loss: 1.1414 - accuracy: 0.5400 - auc: 0.9344 - precision: 0.6949 - recall: 0.3075 - val_loss: 1.0510 - val_accuracy: 0.5813 - val_auc: 0.9462 - val_precision: 0.8026 - val_recall: 0.3812\n",
            "Epoch 60/200\n",
            "25/25 [==============================] - ETA: 0s - loss: 1.1501 - accuracy: 0.5200 - auc: 0.9331 - precision: 0.6898 - recall: 0.3225\n",
            "Epoch 00060: val_accuracy did not improve from 0.65625\n",
            "25/25 [==============================] - 0s 15ms/step - loss: 1.1501 - accuracy: 0.5200 - auc: 0.9331 - precision: 0.6898 - recall: 0.3225 - val_loss: 1.0168 - val_accuracy: 0.6375 - val_auc: 0.9498 - val_precision: 0.7949 - val_recall: 0.3875\n",
            "Epoch 61/200\n",
            "25/25 [==============================] - ETA: 0s - loss: 1.1348 - accuracy: 0.5450 - auc: 0.9354 - precision: 0.7158 - recall: 0.3462\n",
            "Epoch 00061: val_accuracy did not improve from 0.65625\n",
            "25/25 [==============================] - 0s 14ms/step - loss: 1.1348 - accuracy: 0.5450 - auc: 0.9354 - precision: 0.7158 - recall: 0.3462 - val_loss: 0.9828 - val_accuracy: 0.6562 - val_auc: 0.9545 - val_precision: 0.7733 - val_recall: 0.3625\n",
            "Epoch 62/200\n",
            "25/25 [==============================] - ETA: 0s - loss: 1.1414 - accuracy: 0.5263 - auc: 0.9345 - precision: 0.6975 - recall: 0.3113\n",
            "Epoch 00062: val_accuracy did not improve from 0.65625\n",
            "25/25 [==============================] - 0s 15ms/step - loss: 1.1414 - accuracy: 0.5263 - auc: 0.9345 - precision: 0.6975 - recall: 0.3113 - val_loss: 0.9678 - val_accuracy: 0.6250 - val_auc: 0.9556 - val_precision: 0.8182 - val_recall: 0.3938\n",
            "Epoch 63/200\n",
            "25/25 [==============================] - ETA: 0s - loss: 1.0947 - accuracy: 0.5537 - auc: 0.9402 - precision: 0.7294 - recall: 0.3438\n",
            "Epoch 00063: val_accuracy did not improve from 0.65625\n",
            "25/25 [==============================] - 0s 16ms/step - loss: 1.0947 - accuracy: 0.5537 - auc: 0.9402 - precision: 0.7294 - recall: 0.3438 - val_loss: 0.9868 - val_accuracy: 0.6500 - val_auc: 0.9532 - val_precision: 0.8250 - val_recall: 0.4125\n",
            "Epoch 64/200\n",
            "25/25 [==============================] - ETA: 0s - loss: 1.0839 - accuracy: 0.5625 - auc: 0.9414 - precision: 0.7358 - recall: 0.3550\n",
            "Epoch 00064: val_accuracy did not improve from 0.65625\n",
            "25/25 [==============================] - 0s 15ms/step - loss: 1.0839 - accuracy: 0.5625 - auc: 0.9414 - precision: 0.7358 - recall: 0.3550 - val_loss: 0.9603 - val_accuracy: 0.6500 - val_auc: 0.9557 - val_precision: 0.7872 - val_recall: 0.4625\n",
            "Epoch 65/200\n",
            "25/25 [==============================] - ETA: 0s - loss: 1.1038 - accuracy: 0.5587 - auc: 0.9386 - precision: 0.7038 - recall: 0.3475\n",
            "Epoch 00065: val_accuracy did not improve from 0.65625\n",
            "25/25 [==============================] - 0s 15ms/step - loss: 1.1038 - accuracy: 0.5587 - auc: 0.9386 - precision: 0.7038 - recall: 0.3475 - val_loss: 0.9801 - val_accuracy: 0.6500 - val_auc: 0.9538 - val_precision: 0.7692 - val_recall: 0.3750\n",
            "Epoch 66/200\n",
            "22/25 [=========================>....] - ETA: 0s - loss: 1.0516 - accuracy: 0.5597 - auc: 0.9446 - precision: 0.7139 - recall: 0.3580\n",
            "Epoch 00066: val_accuracy did not improve from 0.65625\n",
            "25/25 [==============================] - 0s 14ms/step - loss: 1.0657 - accuracy: 0.5587 - auc: 0.9430 - precision: 0.7118 - recall: 0.3550 - val_loss: 0.9085 - val_accuracy: 0.6562 - val_auc: 0.9602 - val_precision: 0.7955 - val_recall: 0.4375\n",
            "Epoch 67/200\n",
            "22/25 [=========================>....] - ETA: 0s - loss: 1.0712 - accuracy: 0.5369 - auc: 0.9427 - precision: 0.7075 - recall: 0.3608\n",
            "Epoch 00067: val_accuracy improved from 0.65625 to 0.67500, saving model to tfjsmode.h5\n",
            "25/25 [==============================] - 0s 16ms/step - loss: 1.0638 - accuracy: 0.5412 - auc: 0.9435 - precision: 0.7108 - recall: 0.3625 - val_loss: 0.8999 - val_accuracy: 0.6750 - val_auc: 0.9618 - val_precision: 0.8182 - val_recall: 0.4500\n",
            "Epoch 68/200\n",
            "25/25 [==============================] - ETA: 0s - loss: 1.0656 - accuracy: 0.5675 - auc: 0.9429 - precision: 0.7021 - recall: 0.3713\n",
            "Epoch 00068: val_accuracy did not improve from 0.67500\n",
            "25/25 [==============================] - 0s 15ms/step - loss: 1.0656 - accuracy: 0.5675 - auc: 0.9429 - precision: 0.7021 - recall: 0.3713 - val_loss: 0.9245 - val_accuracy: 0.6562 - val_auc: 0.9601 - val_precision: 0.8046 - val_recall: 0.4375\n",
            "Epoch 69/200\n",
            "25/25 [==============================] - ETA: 0s - loss: 1.0305 - accuracy: 0.5838 - auc: 0.9471 - precision: 0.7283 - recall: 0.3988\n",
            "Epoch 00069: val_accuracy did not improve from 0.67500\n",
            "25/25 [==============================] - 0s 15ms/step - loss: 1.0305 - accuracy: 0.5838 - auc: 0.9471 - precision: 0.7283 - recall: 0.3988 - val_loss: 0.9218 - val_accuracy: 0.6125 - val_auc: 0.9584 - val_precision: 0.7093 - val_recall: 0.3812\n",
            "Epoch 70/200\n",
            "25/25 [==============================] - ETA: 0s - loss: 1.0621 - accuracy: 0.5900 - auc: 0.9433 - precision: 0.7286 - recall: 0.3825\n",
            "Epoch 00070: val_accuracy did not improve from 0.67500\n",
            "25/25 [==============================] - 0s 15ms/step - loss: 1.0621 - accuracy: 0.5900 - auc: 0.9433 - precision: 0.7286 - recall: 0.3825 - val_loss: 0.8668 - val_accuracy: 0.6750 - val_auc: 0.9656 - val_precision: 0.8140 - val_recall: 0.4375\n",
            "Epoch 71/200\n",
            "23/25 [==========================>...] - ETA: 0s - loss: 1.0216 - accuracy: 0.5747 - auc: 0.9477 - precision: 0.7328 - recall: 0.3913\n",
            "Epoch 00071: val_accuracy did not improve from 0.67500\n",
            "25/25 [==============================] - 0s 14ms/step - loss: 1.0133 - accuracy: 0.5788 - auc: 0.9487 - precision: 0.7349 - recall: 0.3950 - val_loss: 0.8889 - val_accuracy: 0.6500 - val_auc: 0.9628 - val_precision: 0.7912 - val_recall: 0.4500\n",
            "Epoch 72/200\n",
            "22/25 [=========================>....] - ETA: 0s - loss: 1.0095 - accuracy: 0.5739 - auc: 0.9490 - precision: 0.7154 - recall: 0.3892\n",
            "Epoch 00072: val_accuracy did not improve from 0.67500\n",
            "25/25 [==============================] - 0s 14ms/step - loss: 1.0217 - accuracy: 0.5675 - auc: 0.9477 - precision: 0.7116 - recall: 0.3762 - val_loss: 0.9167 - val_accuracy: 0.6500 - val_auc: 0.9605 - val_precision: 0.7931 - val_recall: 0.4313\n",
            "Epoch 73/200\n",
            "25/25 [==============================] - ETA: 0s - loss: 1.0223 - accuracy: 0.5575 - auc: 0.9476 - precision: 0.6893 - recall: 0.3688\n",
            "Epoch 00073: val_accuracy improved from 0.67500 to 0.70625, saving model to tfjsmode.h5\n",
            "25/25 [==============================] - 0s 16ms/step - loss: 1.0223 - accuracy: 0.5575 - auc: 0.9476 - precision: 0.6893 - recall: 0.3688 - val_loss: 0.8420 - val_accuracy: 0.7063 - val_auc: 0.9676 - val_precision: 0.8485 - val_recall: 0.5250\n",
            "Epoch 74/200\n",
            "23/25 [==========================>...] - ETA: 0s - loss: 0.9941 - accuracy: 0.5924 - auc: 0.9509 - precision: 0.7247 - recall: 0.4185\n",
            "Epoch 00074: val_accuracy did not improve from 0.70625\n",
            "25/25 [==============================] - 0s 15ms/step - loss: 1.0016 - accuracy: 0.5863 - auc: 0.9501 - precision: 0.7229 - recall: 0.4175 - val_loss: 0.8457 - val_accuracy: 0.6750 - val_auc: 0.9668 - val_precision: 0.7979 - val_recall: 0.4688\n",
            "Epoch 75/200\n",
            "25/25 [==============================] - ETA: 0s - loss: 0.9720 - accuracy: 0.6237 - auc: 0.9534 - precision: 0.7293 - recall: 0.4412\n",
            "Epoch 00075: val_accuracy did not improve from 0.70625\n",
            "25/25 [==============================] - 0s 15ms/step - loss: 0.9720 - accuracy: 0.6237 - auc: 0.9534 - precision: 0.7293 - recall: 0.4412 - val_loss: 0.8017 - val_accuracy: 0.6875 - val_auc: 0.9707 - val_precision: 0.8317 - val_recall: 0.5250\n",
            "Epoch 76/200\n",
            "25/25 [==============================] - ETA: 0s - loss: 0.9516 - accuracy: 0.5950 - auc: 0.9550 - precision: 0.7170 - recall: 0.4275\n",
            "Epoch 00076: val_accuracy improved from 0.70625 to 0.73750, saving model to tfjsmode.h5\n",
            "25/25 [==============================] - 0s 16ms/step - loss: 0.9516 - accuracy: 0.5950 - auc: 0.9550 - precision: 0.7170 - recall: 0.4275 - val_loss: 0.8252 - val_accuracy: 0.7375 - val_auc: 0.9693 - val_precision: 0.8989 - val_recall: 0.5000\n",
            "Epoch 77/200\n",
            "25/25 [==============================] - ETA: 0s - loss: 0.9717 - accuracy: 0.5788 - auc: 0.9527 - precision: 0.7017 - recall: 0.4087\n",
            "Epoch 00077: val_accuracy did not improve from 0.73750\n",
            "25/25 [==============================] - 0s 15ms/step - loss: 0.9717 - accuracy: 0.5788 - auc: 0.9527 - precision: 0.7017 - recall: 0.4087 - val_loss: 0.7499 - val_accuracy: 0.7375 - val_auc: 0.9748 - val_precision: 0.8476 - val_recall: 0.5562\n",
            "Epoch 78/200\n",
            "25/25 [==============================] - ETA: 0s - loss: 0.9539 - accuracy: 0.6062 - auc: 0.9544 - precision: 0.7182 - recall: 0.4300\n",
            "Epoch 00078: val_accuracy did not improve from 0.73750\n",
            "25/25 [==============================] - 0s 14ms/step - loss: 0.9539 - accuracy: 0.6062 - auc: 0.9544 - precision: 0.7182 - recall: 0.4300 - val_loss: 0.7730 - val_accuracy: 0.6875 - val_auc: 0.9726 - val_precision: 0.8387 - val_recall: 0.4875\n",
            "Epoch 79/200\n",
            "22/25 [=========================>....] - ETA: 0s - loss: 0.9376 - accuracy: 0.6051 - auc: 0.9555 - precision: 0.7376 - recall: 0.4432\n",
            "Epoch 00079: val_accuracy improved from 0.73750 to 0.76875, saving model to tfjsmode.h5\n",
            "25/25 [==============================] - 0s 16ms/step - loss: 0.9620 - accuracy: 0.5913 - auc: 0.9531 - precision: 0.7236 - recall: 0.4288 - val_loss: 0.7438 - val_accuracy: 0.7688 - val_auc: 0.9768 - val_precision: 0.8817 - val_recall: 0.5125\n",
            "Epoch 80/200\n",
            "25/25 [==============================] - ETA: 0s - loss: 0.9321 - accuracy: 0.6275 - auc: 0.9566 - precision: 0.7342 - recall: 0.4487\n",
            "Epoch 00080: val_accuracy did not improve from 0.76875\n",
            "25/25 [==============================] - 0s 15ms/step - loss: 0.9321 - accuracy: 0.6275 - auc: 0.9566 - precision: 0.7342 - recall: 0.4487 - val_loss: 0.7590 - val_accuracy: 0.7625 - val_auc: 0.9741 - val_precision: 0.8725 - val_recall: 0.5562\n",
            "Epoch 81/200\n",
            "25/25 [==============================] - ETA: 0s - loss: 0.9357 - accuracy: 0.6000 - auc: 0.9561 - precision: 0.7033 - recall: 0.4325\n",
            "Epoch 00081: val_accuracy did not improve from 0.76875\n",
            "25/25 [==============================] - 0s 15ms/step - loss: 0.9357 - accuracy: 0.6000 - auc: 0.9561 - precision: 0.7033 - recall: 0.4325 - val_loss: 0.7563 - val_accuracy: 0.7500 - val_auc: 0.9741 - val_precision: 0.8400 - val_recall: 0.5250\n",
            "Epoch 82/200\n",
            "21/25 [========================>.....] - ETA: 0s - loss: 0.8944 - accuracy: 0.6205 - auc: 0.9600 - precision: 0.7336 - recall: 0.4673\n",
            "Epoch 00082: val_accuracy did not improve from 0.76875\n",
            "25/25 [==============================] - 0s 14ms/step - loss: 0.8987 - accuracy: 0.6150 - auc: 0.9597 - precision: 0.7366 - recall: 0.4650 - val_loss: 0.7079 - val_accuracy: 0.7375 - val_auc: 0.9780 - val_precision: 0.8447 - val_recall: 0.5437\n",
            "Epoch 83/200\n",
            "22/25 [=========================>....] - ETA: 0s - loss: 0.9549 - accuracy: 0.5724 - auc: 0.9537 - precision: 0.6901 - recall: 0.4176\n",
            "Epoch 00083: val_accuracy did not improve from 0.76875\n",
            "25/25 [==============================] - 0s 15ms/step - loss: 0.9373 - accuracy: 0.5900 - auc: 0.9556 - precision: 0.7093 - recall: 0.4363 - val_loss: 0.7240 - val_accuracy: 0.7188 - val_auc: 0.9759 - val_precision: 0.8095 - val_recall: 0.5312\n",
            "Epoch 84/200\n",
            "25/25 [==============================] - ETA: 0s - loss: 0.8780 - accuracy: 0.6338 - auc: 0.9614 - precision: 0.7380 - recall: 0.4825\n",
            "Epoch 00084: val_accuracy improved from 0.76875 to 0.78750, saving model to tfjsmode.h5\n",
            "25/25 [==============================] - 0s 16ms/step - loss: 0.8780 - accuracy: 0.6338 - auc: 0.9614 - precision: 0.7380 - recall: 0.4825 - val_loss: 0.6816 - val_accuracy: 0.7875 - val_auc: 0.9801 - val_precision: 0.8673 - val_recall: 0.6125\n",
            "Epoch 85/200\n",
            "25/25 [==============================] - ETA: 0s - loss: 0.8872 - accuracy: 0.6325 - auc: 0.9608 - precision: 0.7398 - recall: 0.4975\n",
            "Epoch 00085: val_accuracy did not improve from 0.78750\n",
            "25/25 [==============================] - 0s 14ms/step - loss: 0.8872 - accuracy: 0.6325 - auc: 0.9608 - precision: 0.7398 - recall: 0.4975 - val_loss: 0.6613 - val_accuracy: 0.7500 - val_auc: 0.9812 - val_precision: 0.8571 - val_recall: 0.6000\n",
            "Epoch 86/200\n",
            "25/25 [==============================] - ETA: 0s - loss: 0.8764 - accuracy: 0.6250 - auc: 0.9614 - precision: 0.7201 - recall: 0.5050\n",
            "Epoch 00086: val_accuracy did not improve from 0.78750\n",
            "25/25 [==============================] - 0s 15ms/step - loss: 0.8764 - accuracy: 0.6250 - auc: 0.9614 - precision: 0.7201 - recall: 0.5050 - val_loss: 0.7010 - val_accuracy: 0.7375 - val_auc: 0.9777 - val_precision: 0.8482 - val_recall: 0.5938\n",
            "Epoch 87/200\n",
            "25/25 [==============================] - ETA: 0s - loss: 0.8725 - accuracy: 0.6488 - auc: 0.9616 - precision: 0.7529 - recall: 0.4950\n",
            "Epoch 00087: val_accuracy did not improve from 0.78750\n",
            "25/25 [==============================] - 0s 15ms/step - loss: 0.8725 - accuracy: 0.6488 - auc: 0.9616 - precision: 0.7529 - recall: 0.4950 - val_loss: 0.6431 - val_accuracy: 0.7500 - val_auc: 0.9812 - val_precision: 0.8361 - val_recall: 0.6375\n",
            "Epoch 88/200\n",
            "22/25 [=========================>....] - ETA: 0s - loss: 0.8725 - accuracy: 0.6264 - auc: 0.9618 - precision: 0.7329 - recall: 0.5028\n",
            "Epoch 00088: val_accuracy did not improve from 0.78750\n",
            "25/25 [==============================] - 0s 14ms/step - loss: 0.8623 - accuracy: 0.6300 - auc: 0.9627 - precision: 0.7395 - recall: 0.5075 - val_loss: 0.6751 - val_accuracy: 0.7437 - val_auc: 0.9791 - val_precision: 0.8559 - val_recall: 0.6313\n",
            "Epoch 89/200\n",
            "25/25 [==============================] - ETA: 0s - loss: 0.8432 - accuracy: 0.6538 - auc: 0.9642 - precision: 0.7509 - recall: 0.5088\n",
            "Epoch 00089: val_accuracy did not improve from 0.78750\n",
            "25/25 [==============================] - 0s 15ms/step - loss: 0.8432 - accuracy: 0.6538 - auc: 0.9642 - precision: 0.7509 - recall: 0.5088 - val_loss: 0.6678 - val_accuracy: 0.7750 - val_auc: 0.9805 - val_precision: 0.8491 - val_recall: 0.5625\n",
            "Epoch 90/200\n",
            "25/25 [==============================] - ETA: 0s - loss: 0.8162 - accuracy: 0.6550 - auc: 0.9665 - precision: 0.7505 - recall: 0.5113\n",
            "Epoch 00090: val_accuracy did not improve from 0.78750\n",
            "25/25 [==============================] - 0s 14ms/step - loss: 0.8162 - accuracy: 0.6550 - auc: 0.9665 - precision: 0.7505 - recall: 0.5113 - val_loss: 0.6298 - val_accuracy: 0.7750 - val_auc: 0.9825 - val_precision: 0.8496 - val_recall: 0.6000\n",
            "Epoch 91/200\n",
            "25/25 [==============================] - ETA: 0s - loss: 0.7938 - accuracy: 0.6637 - auc: 0.9687 - precision: 0.7717 - recall: 0.5450\n",
            "Epoch 00091: val_accuracy improved from 0.78750 to 0.79375, saving model to tfjsmode.h5\n",
            "25/25 [==============================] - 0s 16ms/step - loss: 0.7938 - accuracy: 0.6637 - auc: 0.9687 - precision: 0.7717 - recall: 0.5450 - val_loss: 0.6438 - val_accuracy: 0.7937 - val_auc: 0.9833 - val_precision: 0.9035 - val_recall: 0.6438\n",
            "Epoch 92/200\n",
            "22/25 [=========================>....] - ETA: 0s - loss: 0.7829 - accuracy: 0.6719 - auc: 0.9696 - precision: 0.7583 - recall: 0.5526\n",
            "Epoch 00092: val_accuracy improved from 0.79375 to 0.80000, saving model to tfjsmode.h5\n",
            "25/25 [==============================] - 0s 16ms/step - loss: 0.7875 - accuracy: 0.6662 - auc: 0.9692 - precision: 0.7543 - recall: 0.5487 - val_loss: 0.6325 - val_accuracy: 0.8000 - val_auc: 0.9821 - val_precision: 0.8537 - val_recall: 0.6562\n",
            "Epoch 93/200\n",
            "25/25 [==============================] - ETA: 0s - loss: 0.7858 - accuracy: 0.6525 - auc: 0.9692 - precision: 0.7536 - recall: 0.5275\n",
            "Epoch 00093: val_accuracy improved from 0.80000 to 0.81250, saving model to tfjsmode.h5\n",
            "25/25 [==============================] - 0s 16ms/step - loss: 0.7858 - accuracy: 0.6525 - auc: 0.9692 - precision: 0.7536 - recall: 0.5275 - val_loss: 0.5620 - val_accuracy: 0.8125 - val_auc: 0.9871 - val_precision: 0.9115 - val_recall: 0.6438\n",
            "Epoch 94/200\n",
            "25/25 [==============================] - ETA: 0s - loss: 0.7767 - accuracy: 0.6812 - auc: 0.9699 - precision: 0.7617 - recall: 0.5675\n",
            "Epoch 00094: val_accuracy did not improve from 0.81250\n",
            "25/25 [==============================] - 0s 16ms/step - loss: 0.7767 - accuracy: 0.6812 - auc: 0.9699 - precision: 0.7617 - recall: 0.5675 - val_loss: 0.5670 - val_accuracy: 0.7688 - val_auc: 0.9858 - val_precision: 0.8504 - val_recall: 0.6750\n",
            "Epoch 95/200\n",
            "25/25 [==============================] - ETA: 0s - loss: 0.7564 - accuracy: 0.6775 - auc: 0.9715 - precision: 0.7560 - recall: 0.5500\n",
            "Epoch 00095: val_accuracy did not improve from 0.81250\n",
            "25/25 [==============================] - 0s 14ms/step - loss: 0.7564 - accuracy: 0.6775 - auc: 0.9715 - precision: 0.7560 - recall: 0.5500 - val_loss: 0.5587 - val_accuracy: 0.8125 - val_auc: 0.9870 - val_precision: 0.8770 - val_recall: 0.6687\n",
            "Epoch 96/200\n",
            "25/25 [==============================] - ETA: 0s - loss: 0.7504 - accuracy: 0.6675 - auc: 0.9717 - precision: 0.7641 - recall: 0.5425\n",
            "Epoch 00096: val_accuracy did not improve from 0.81250\n",
            "25/25 [==============================] - 0s 16ms/step - loss: 0.7504 - accuracy: 0.6675 - auc: 0.9717 - precision: 0.7641 - recall: 0.5425 - val_loss: 0.5213 - val_accuracy: 0.7812 - val_auc: 0.9890 - val_precision: 0.8837 - val_recall: 0.7125\n",
            "Epoch 97/200\n",
            "23/25 [==========================>...] - ETA: 0s - loss: 0.7589 - accuracy: 0.7024 - auc: 0.9708 - precision: 0.7636 - recall: 0.5707\n",
            "Epoch 00097: val_accuracy did not improve from 0.81250\n",
            "25/25 [==============================] - 0s 17ms/step - loss: 0.7508 - accuracy: 0.7050 - auc: 0.9715 - precision: 0.7650 - recall: 0.5738 - val_loss: 0.5470 - val_accuracy: 0.7437 - val_auc: 0.9865 - val_precision: 0.8031 - val_recall: 0.6375\n",
            "Epoch 98/200\n",
            "25/25 [==============================] - ETA: 0s - loss: 0.7534 - accuracy: 0.6625 - auc: 0.9710 - precision: 0.7216 - recall: 0.5312\n",
            "Epoch 00098: val_accuracy did not improve from 0.81250\n",
            "25/25 [==============================] - 0s 16ms/step - loss: 0.7534 - accuracy: 0.6625 - auc: 0.9710 - precision: 0.7216 - recall: 0.5312 - val_loss: 0.5622 - val_accuracy: 0.8062 - val_auc: 0.9864 - val_precision: 0.8814 - val_recall: 0.6500\n",
            "Epoch 99/200\n",
            "25/25 [==============================] - ETA: 0s - loss: 0.7179 - accuracy: 0.6925 - auc: 0.9741 - precision: 0.7685 - recall: 0.5850\n",
            "Epoch 00099: val_accuracy improved from 0.81250 to 0.84375, saving model to tfjsmode.h5\n",
            "25/25 [==============================] - 0s 18ms/step - loss: 0.7179 - accuracy: 0.6925 - auc: 0.9741 - precision: 0.7685 - recall: 0.5850 - val_loss: 0.5049 - val_accuracy: 0.8438 - val_auc: 0.9900 - val_precision: 0.8740 - val_recall: 0.6938\n",
            "Epoch 100/200\n",
            "25/25 [==============================] - ETA: 0s - loss: 0.7295 - accuracy: 0.6862 - auc: 0.9732 - precision: 0.7741 - recall: 0.5825\n",
            "Epoch 00100: val_accuracy did not improve from 0.84375\n",
            "25/25 [==============================] - 0s 15ms/step - loss: 0.7295 - accuracy: 0.6862 - auc: 0.9732 - precision: 0.7741 - recall: 0.5825 - val_loss: 0.5039 - val_accuracy: 0.8313 - val_auc: 0.9901 - val_precision: 0.9250 - val_recall: 0.6938\n",
            "Epoch 101/200\n",
            "25/25 [==============================] - ETA: 0s - loss: 0.7316 - accuracy: 0.6800 - auc: 0.9722 - precision: 0.7565 - recall: 0.5788\n",
            "Epoch 00101: val_accuracy did not improve from 0.84375\n",
            "25/25 [==============================] - 0s 16ms/step - loss: 0.7316 - accuracy: 0.6800 - auc: 0.9722 - precision: 0.7565 - recall: 0.5788 - val_loss: 0.4922 - val_accuracy: 0.8375 - val_auc: 0.9908 - val_precision: 0.9280 - val_recall: 0.7250\n",
            "Epoch 102/200\n",
            "25/25 [==============================] - ETA: 0s - loss: 0.7223 - accuracy: 0.6913 - auc: 0.9736 - precision: 0.7682 - recall: 0.5925\n",
            "Epoch 00102: val_accuracy did not improve from 0.84375\n",
            "25/25 [==============================] - 0s 16ms/step - loss: 0.7223 - accuracy: 0.6913 - auc: 0.9736 - precision: 0.7682 - recall: 0.5925 - val_loss: 0.4735 - val_accuracy: 0.7937 - val_auc: 0.9913 - val_precision: 0.8478 - val_recall: 0.7312\n",
            "Epoch 103/200\n",
            "24/25 [===========================>..] - ETA: 0s - loss: 0.6782 - accuracy: 0.7174 - auc: 0.9774 - precision: 0.7964 - recall: 0.6263\n",
            "Epoch 00103: val_accuracy did not improve from 0.84375\n",
            "25/25 [==============================] - 0s 17ms/step - loss: 0.6738 - accuracy: 0.7188 - auc: 0.9777 - precision: 0.7994 - recall: 0.6275 - val_loss: 0.4820 - val_accuracy: 0.8062 - val_auc: 0.9896 - val_precision: 0.8636 - val_recall: 0.7125\n",
            "Epoch 104/200\n",
            "25/25 [==============================] - ETA: 0s - loss: 0.6933 - accuracy: 0.6938 - auc: 0.9753 - precision: 0.7747 - recall: 0.5888\n",
            "Epoch 00104: val_accuracy did not improve from 0.84375\n",
            "25/25 [==============================] - 0s 17ms/step - loss: 0.6933 - accuracy: 0.6938 - auc: 0.9753 - precision: 0.7747 - recall: 0.5888 - val_loss: 0.4583 - val_accuracy: 0.8438 - val_auc: 0.9916 - val_precision: 0.9044 - val_recall: 0.7688\n",
            "Epoch 105/200\n",
            "25/25 [==============================] - ETA: 0s - loss: 0.6714 - accuracy: 0.7250 - auc: 0.9770 - precision: 0.7864 - recall: 0.6212\n",
            "Epoch 00105: val_accuracy did not improve from 0.84375\n",
            "25/25 [==============================] - 0s 16ms/step - loss: 0.6714 - accuracy: 0.7250 - auc: 0.9770 - precision: 0.7864 - recall: 0.6212 - val_loss: 0.4428 - val_accuracy: 0.8313 - val_auc: 0.9923 - val_precision: 0.8993 - val_recall: 0.7812\n",
            "Epoch 106/200\n",
            "25/25 [==============================] - ETA: 0s - loss: 0.6279 - accuracy: 0.7125 - auc: 0.9801 - precision: 0.7856 - recall: 0.6275\n",
            "Epoch 00106: val_accuracy did not improve from 0.84375\n",
            "25/25 [==============================] - 0s 16ms/step - loss: 0.6279 - accuracy: 0.7125 - auc: 0.9801 - precision: 0.7856 - recall: 0.6275 - val_loss: 0.4446 - val_accuracy: 0.7937 - val_auc: 0.9915 - val_precision: 0.8551 - val_recall: 0.7375\n",
            "Epoch 107/200\n",
            "25/25 [==============================] - ETA: 0s - loss: 0.6559 - accuracy: 0.7212 - auc: 0.9782 - precision: 0.7755 - recall: 0.6263\n",
            "Epoch 00107: val_accuracy did not improve from 0.84375\n",
            "25/25 [==============================] - 0s 16ms/step - loss: 0.6559 - accuracy: 0.7212 - auc: 0.9782 - precision: 0.7755 - recall: 0.6263 - val_loss: 0.4175 - val_accuracy: 0.8375 - val_auc: 0.9928 - val_precision: 0.9098 - val_recall: 0.7563\n",
            "Epoch 108/200\n",
            "25/25 [==============================] - ETA: 0s - loss: 0.6854 - accuracy: 0.6888 - auc: 0.9756 - precision: 0.7649 - recall: 0.5938\n",
            "Epoch 00108: val_accuracy did not improve from 0.84375\n",
            "25/25 [==============================] - 0s 16ms/step - loss: 0.6854 - accuracy: 0.6888 - auc: 0.9756 - precision: 0.7649 - recall: 0.5938 - val_loss: 0.4251 - val_accuracy: 0.8313 - val_auc: 0.9926 - val_precision: 0.8889 - val_recall: 0.7500\n",
            "Epoch 109/200\n",
            "25/25 [==============================] - ETA: 0s - loss: 0.6219 - accuracy: 0.7225 - auc: 0.9804 - precision: 0.7827 - recall: 0.6350\n",
            "Epoch 00109: val_accuracy did not improve from 0.84375\n",
            "25/25 [==============================] - 0s 16ms/step - loss: 0.6219 - accuracy: 0.7225 - auc: 0.9804 - precision: 0.7827 - recall: 0.6350 - val_loss: 0.4384 - val_accuracy: 0.8375 - val_auc: 0.9921 - val_precision: 0.8824 - val_recall: 0.7500\n",
            "Epoch 110/200\n",
            "24/25 [===========================>..] - ETA: 0s - loss: 0.6218 - accuracy: 0.7188 - auc: 0.9803 - precision: 0.7830 - recall: 0.6341\n",
            "Epoch 00110: val_accuracy did not improve from 0.84375\n",
            "25/25 [==============================] - 0s 17ms/step - loss: 0.6168 - accuracy: 0.7225 - auc: 0.9807 - precision: 0.7874 - recall: 0.6388 - val_loss: 0.4288 - val_accuracy: 0.8188 - val_auc: 0.9916 - val_precision: 0.8837 - val_recall: 0.7125\n",
            "Epoch 111/200\n",
            "25/25 [==============================] - ETA: 0s - loss: 0.6084 - accuracy: 0.7475 - auc: 0.9807 - precision: 0.7870 - recall: 0.6650\n",
            "Epoch 00111: val_accuracy did not improve from 0.84375\n",
            "25/25 [==============================] - 0s 16ms/step - loss: 0.6084 - accuracy: 0.7475 - auc: 0.9807 - precision: 0.7870 - recall: 0.6650 - val_loss: 0.4001 - val_accuracy: 0.8313 - val_auc: 0.9932 - val_precision: 0.8958 - val_recall: 0.8062\n",
            "Epoch 112/200\n",
            "25/25 [==============================] - ETA: 0s - loss: 0.6089 - accuracy: 0.7350 - auc: 0.9812 - precision: 0.7912 - recall: 0.6488\n",
            "Epoch 00112: val_accuracy improved from 0.84375 to 0.88750, saving model to tfjsmode.h5\n",
            "25/25 [==============================] - 0s 18ms/step - loss: 0.6089 - accuracy: 0.7350 - auc: 0.9812 - precision: 0.7912 - recall: 0.6488 - val_loss: 0.3650 - val_accuracy: 0.8875 - val_auc: 0.9952 - val_precision: 0.9137 - val_recall: 0.7937\n",
            "Epoch 113/200\n",
            "25/25 [==============================] - ETA: 0s - loss: 0.6292 - accuracy: 0.7188 - auc: 0.9798 - precision: 0.7963 - recall: 0.6450\n",
            "Epoch 00113: val_accuracy did not improve from 0.88750\n",
            "25/25 [==============================] - 0s 16ms/step - loss: 0.6292 - accuracy: 0.7188 - auc: 0.9798 - precision: 0.7963 - recall: 0.6450 - val_loss: 0.3624 - val_accuracy: 0.8438 - val_auc: 0.9946 - val_precision: 0.9037 - val_recall: 0.7625\n",
            "Epoch 114/200\n",
            "25/25 [==============================] - ETA: 0s - loss: 0.5691 - accuracy: 0.7412 - auc: 0.9832 - precision: 0.7926 - recall: 0.6687\n",
            "Epoch 00114: val_accuracy did not improve from 0.88750\n",
            "25/25 [==============================] - 0s 16ms/step - loss: 0.5691 - accuracy: 0.7412 - auc: 0.9832 - precision: 0.7926 - recall: 0.6687 - val_loss: 0.3640 - val_accuracy: 0.8500 - val_auc: 0.9942 - val_precision: 0.8725 - val_recall: 0.8125\n",
            "Epoch 115/200\n",
            "25/25 [==============================] - ETA: 0s - loss: 0.5872 - accuracy: 0.7325 - auc: 0.9821 - precision: 0.7960 - recall: 0.6488\n",
            "Epoch 00115: val_accuracy did not improve from 0.88750\n",
            "25/25 [==============================] - 0s 16ms/step - loss: 0.5872 - accuracy: 0.7325 - auc: 0.9821 - precision: 0.7960 - recall: 0.6488 - val_loss: 0.3448 - val_accuracy: 0.8625 - val_auc: 0.9960 - val_precision: 0.8919 - val_recall: 0.8250\n",
            "Epoch 116/200\n",
            "25/25 [==============================] - ETA: 0s - loss: 0.5673 - accuracy: 0.7588 - auc: 0.9836 - precision: 0.8104 - recall: 0.6837\n",
            "Epoch 00116: val_accuracy did not improve from 0.88750\n",
            "25/25 [==============================] - 0s 16ms/step - loss: 0.5673 - accuracy: 0.7588 - auc: 0.9836 - precision: 0.8104 - recall: 0.6837 - val_loss: 0.3928 - val_accuracy: 0.8313 - val_auc: 0.9931 - val_precision: 0.8533 - val_recall: 0.8000\n",
            "Epoch 117/200\n",
            "25/25 [==============================] - ETA: 0s - loss: 0.5825 - accuracy: 0.7563 - auc: 0.9822 - precision: 0.8165 - recall: 0.6787\n",
            "Epoch 00117: val_accuracy did not improve from 0.88750\n",
            "25/25 [==============================] - 0s 15ms/step - loss: 0.5825 - accuracy: 0.7563 - auc: 0.9822 - precision: 0.8165 - recall: 0.6787 - val_loss: 0.3515 - val_accuracy: 0.8750 - val_auc: 0.9950 - val_precision: 0.8986 - val_recall: 0.8313\n",
            "Epoch 118/200\n",
            "25/25 [==============================] - ETA: 0s - loss: 0.5460 - accuracy: 0.7500 - auc: 0.9846 - precision: 0.8115 - recall: 0.6725\n",
            "Epoch 00118: val_accuracy did not improve from 0.88750\n",
            "25/25 [==============================] - 0s 16ms/step - loss: 0.5460 - accuracy: 0.7500 - auc: 0.9846 - precision: 0.8115 - recall: 0.6725 - val_loss: 0.3455 - val_accuracy: 0.8625 - val_auc: 0.9946 - val_precision: 0.8816 - val_recall: 0.8375\n",
            "Epoch 119/200\n",
            "25/25 [==============================] - ETA: 0s - loss: 0.5909 - accuracy: 0.7337 - auc: 0.9806 - precision: 0.7800 - recall: 0.6737\n",
            "Epoch 00119: val_accuracy did not improve from 0.88750\n",
            "25/25 [==============================] - 0s 17ms/step - loss: 0.5909 - accuracy: 0.7337 - auc: 0.9806 - precision: 0.7800 - recall: 0.6737 - val_loss: 0.3758 - val_accuracy: 0.8500 - val_auc: 0.9937 - val_precision: 0.8844 - val_recall: 0.8125\n",
            "Epoch 120/200\n",
            "24/25 [===========================>..] - ETA: 0s - loss: 0.5767 - accuracy: 0.7266 - auc: 0.9822 - precision: 0.7857 - recall: 0.6732\n",
            "Epoch 00120: val_accuracy did not improve from 0.88750\n",
            "25/25 [==============================] - 0s 16ms/step - loss: 0.5780 - accuracy: 0.7275 - auc: 0.9821 - precision: 0.7854 - recall: 0.6725 - val_loss: 0.3408 - val_accuracy: 0.8562 - val_auc: 0.9947 - val_precision: 0.8919 - val_recall: 0.8250\n",
            "Epoch 121/200\n",
            "25/25 [==============================] - ETA: 0s - loss: 0.5321 - accuracy: 0.7675 - auc: 0.9850 - precision: 0.8072 - recall: 0.6963\n",
            "Epoch 00121: val_accuracy did not improve from 0.88750\n",
            "25/25 [==============================] - 0s 14ms/step - loss: 0.5321 - accuracy: 0.7675 - auc: 0.9850 - precision: 0.8072 - recall: 0.6963 - val_loss: 0.3228 - val_accuracy: 0.8562 - val_auc: 0.9954 - val_precision: 0.8836 - val_recall: 0.8062\n",
            "Epoch 122/200\n",
            "25/25 [==============================] - ETA: 0s - loss: 0.5282 - accuracy: 0.7688 - auc: 0.9851 - precision: 0.8186 - recall: 0.7050\n",
            "Epoch 00122: val_accuracy did not improve from 0.88750\n",
            "25/25 [==============================] - 0s 15ms/step - loss: 0.5282 - accuracy: 0.7688 - auc: 0.9851 - precision: 0.8186 - recall: 0.7050 - val_loss: 0.3176 - val_accuracy: 0.8687 - val_auc: 0.9959 - val_precision: 0.9041 - val_recall: 0.8250\n",
            "Epoch 123/200\n",
            "25/25 [==============================] - ETA: 0s - loss: 0.5446 - accuracy: 0.7600 - auc: 0.9844 - precision: 0.8126 - recall: 0.6938\n",
            "Epoch 00123: val_accuracy did not improve from 0.88750\n",
            "25/25 [==============================] - 0s 14ms/step - loss: 0.5446 - accuracy: 0.7600 - auc: 0.9844 - precision: 0.8126 - recall: 0.6938 - val_loss: 0.3474 - val_accuracy: 0.8438 - val_auc: 0.9941 - val_precision: 0.8639 - val_recall: 0.7937\n",
            "Epoch 124/200\n",
            "25/25 [==============================] - ETA: 0s - loss: 0.5002 - accuracy: 0.7650 - auc: 0.9865 - precision: 0.8170 - recall: 0.7088\n",
            "Epoch 00124: val_accuracy did not improve from 0.88750\n",
            "25/25 [==============================] - 0s 15ms/step - loss: 0.5002 - accuracy: 0.7650 - auc: 0.9865 - precision: 0.8170 - recall: 0.7088 - val_loss: 0.3262 - val_accuracy: 0.8625 - val_auc: 0.9950 - val_precision: 0.8684 - val_recall: 0.8250\n",
            "Epoch 125/200\n",
            "25/25 [==============================] - ETA: 0s - loss: 0.4897 - accuracy: 0.7738 - auc: 0.9874 - precision: 0.8144 - recall: 0.7188\n",
            "Epoch 00125: val_accuracy did not improve from 0.88750\n",
            "25/25 [==============================] - 0s 15ms/step - loss: 0.4897 - accuracy: 0.7738 - auc: 0.9874 - precision: 0.8144 - recall: 0.7188 - val_loss: 0.3140 - val_accuracy: 0.8813 - val_auc: 0.9955 - val_precision: 0.8889 - val_recall: 0.8500\n",
            "Epoch 126/200\n",
            "25/25 [==============================] - ETA: 0s - loss: 0.4803 - accuracy: 0.7862 - auc: 0.9883 - precision: 0.8282 - recall: 0.7350\n",
            "Epoch 00126: val_accuracy did not improve from 0.88750\n",
            "25/25 [==============================] - 0s 15ms/step - loss: 0.4803 - accuracy: 0.7862 - auc: 0.9883 - precision: 0.8282 - recall: 0.7350 - val_loss: 0.2878 - val_accuracy: 0.8750 - val_auc: 0.9963 - val_precision: 0.8947 - val_recall: 0.8500\n",
            "Epoch 127/200\n",
            "25/25 [==============================] - ETA: 0s - loss: 0.4862 - accuracy: 0.7675 - auc: 0.9875 - precision: 0.8097 - recall: 0.7287\n",
            "Epoch 00127: val_accuracy did not improve from 0.88750\n",
            "25/25 [==============================] - 0s 15ms/step - loss: 0.4862 - accuracy: 0.7675 - auc: 0.9875 - precision: 0.8097 - recall: 0.7287 - val_loss: 0.2839 - val_accuracy: 0.8750 - val_auc: 0.9963 - val_precision: 0.9054 - val_recall: 0.8375\n",
            "Epoch 128/200\n",
            "24/25 [===========================>..] - ETA: 0s - loss: 0.5226 - accuracy: 0.7643 - auc: 0.9853 - precision: 0.7933 - recall: 0.7096\n",
            "Epoch 00128: val_accuracy did not improve from 0.88750\n",
            "25/25 [==============================] - 0s 14ms/step - loss: 0.5267 - accuracy: 0.7600 - auc: 0.9850 - precision: 0.7902 - recall: 0.7063 - val_loss: 0.3097 - val_accuracy: 0.8562 - val_auc: 0.9956 - val_precision: 0.8919 - val_recall: 0.8250\n",
            "Epoch 129/200\n",
            "22/25 [=========================>....] - ETA: 0s - loss: 0.4545 - accuracy: 0.8040 - auc: 0.9892 - precision: 0.8376 - recall: 0.7401\n",
            "Epoch 00129: val_accuracy did not improve from 0.88750\n",
            "25/25 [==============================] - 0s 14ms/step - loss: 0.4618 - accuracy: 0.7987 - auc: 0.9888 - precision: 0.8343 - recall: 0.7362 - val_loss: 0.2909 - val_accuracy: 0.8813 - val_auc: 0.9964 - val_precision: 0.9079 - val_recall: 0.8625\n",
            "Epoch 130/200\n",
            "25/25 [==============================] - ETA: 0s - loss: 0.4712 - accuracy: 0.7937 - auc: 0.9885 - precision: 0.8340 - recall: 0.7350\n",
            "Epoch 00130: val_accuracy did not improve from 0.88750\n",
            "25/25 [==============================] - 0s 15ms/step - loss: 0.4712 - accuracy: 0.7937 - auc: 0.9885 - precision: 0.8340 - recall: 0.7350 - val_loss: 0.2907 - val_accuracy: 0.8500 - val_auc: 0.9958 - val_precision: 0.8980 - val_recall: 0.8250\n",
            "Epoch 131/200\n",
            "23/25 [==========================>...] - ETA: 0s - loss: 0.4789 - accuracy: 0.7731 - auc: 0.9875 - precision: 0.8127 - recall: 0.7310\n",
            "Epoch 00131: val_accuracy did not improve from 0.88750\n",
            "25/25 [==============================] - 0s 15ms/step - loss: 0.4699 - accuracy: 0.7788 - auc: 0.9881 - precision: 0.8197 - recall: 0.7387 - val_loss: 0.3126 - val_accuracy: 0.8500 - val_auc: 0.9949 - val_precision: 0.8767 - val_recall: 0.8000\n",
            "Epoch 132/200\n",
            "22/25 [=========================>....] - ETA: 0s - loss: 0.4770 - accuracy: 0.7727 - auc: 0.9871 - precision: 0.8186 - recall: 0.7244\n",
            "Epoch 00132: val_accuracy did not improve from 0.88750\n",
            "25/25 [==============================] - 0s 14ms/step - loss: 0.4707 - accuracy: 0.7775 - auc: 0.9875 - precision: 0.8220 - recall: 0.7275 - val_loss: 0.2665 - val_accuracy: 0.8813 - val_auc: 0.9968 - val_precision: 0.9172 - val_recall: 0.8313\n",
            "Epoch 133/200\n",
            "25/25 [==============================] - ETA: 0s - loss: 0.4600 - accuracy: 0.7800 - auc: 0.9884 - precision: 0.8167 - recall: 0.7350\n",
            "Epoch 00133: val_accuracy did not improve from 0.88750\n",
            "25/25 [==============================] - 0s 15ms/step - loss: 0.4600 - accuracy: 0.7800 - auc: 0.9884 - precision: 0.8167 - recall: 0.7350 - val_loss: 0.2517 - val_accuracy: 0.8875 - val_auc: 0.9972 - val_precision: 0.9145 - val_recall: 0.8687\n",
            "Epoch 134/200\n",
            "22/25 [=========================>....] - ETA: 0s - loss: 0.4279 - accuracy: 0.7926 - auc: 0.9894 - precision: 0.8315 - recall: 0.7571\n",
            "Epoch 00134: val_accuracy did not improve from 0.88750\n",
            "25/25 [==============================] - 0s 14ms/step - loss: 0.4414 - accuracy: 0.7825 - auc: 0.9887 - precision: 0.8232 - recall: 0.7450 - val_loss: 0.2896 - val_accuracy: 0.8813 - val_auc: 0.9968 - val_precision: 0.9133 - val_recall: 0.8562\n",
            "Epoch 135/200\n",
            "25/25 [==============================] - ETA: 0s - loss: 0.4336 - accuracy: 0.8000 - auc: 0.9893 - precision: 0.8247 - recall: 0.7588\n",
            "Epoch 00135: val_accuracy did not improve from 0.88750\n",
            "25/25 [==============================] - 0s 15ms/step - loss: 0.4336 - accuracy: 0.8000 - auc: 0.9893 - precision: 0.8247 - recall: 0.7588 - val_loss: 0.2560 - val_accuracy: 0.8813 - val_auc: 0.9967 - val_precision: 0.8940 - val_recall: 0.8438\n",
            "Epoch 136/200\n",
            "22/25 [=========================>....] - ETA: 0s - loss: 0.4761 - accuracy: 0.7798 - auc: 0.9869 - precision: 0.8288 - recall: 0.7429\n",
            "Epoch 00136: val_accuracy did not improve from 0.88750\n",
            "25/25 [==============================] - 0s 14ms/step - loss: 0.4721 - accuracy: 0.7887 - auc: 0.9869 - precision: 0.8347 - recall: 0.7513 - val_loss: 0.2656 - val_accuracy: 0.8750 - val_auc: 0.9964 - val_precision: 0.8968 - val_recall: 0.8687\n",
            "Epoch 137/200\n",
            "25/25 [==============================] - ETA: 0s - loss: 0.4391 - accuracy: 0.7875 - auc: 0.9889 - precision: 0.8208 - recall: 0.7500\n",
            "Epoch 00137: val_accuracy did not improve from 0.88750\n",
            "25/25 [==============================] - 0s 15ms/step - loss: 0.4391 - accuracy: 0.7875 - auc: 0.9889 - precision: 0.8208 - recall: 0.7500 - val_loss: 0.2553 - val_accuracy: 0.8813 - val_auc: 0.9970 - val_precision: 0.8974 - val_recall: 0.8750\n",
            "Epoch 138/200\n",
            "25/25 [==============================] - ETA: 0s - loss: 0.4538 - accuracy: 0.7887 - auc: 0.9883 - precision: 0.8238 - recall: 0.7538\n",
            "Epoch 00138: val_accuracy improved from 0.88750 to 0.91250, saving model to tfjsmode.h5\n",
            "25/25 [==============================] - 0s 16ms/step - loss: 0.4538 - accuracy: 0.7887 - auc: 0.9883 - precision: 0.8238 - recall: 0.7538 - val_loss: 0.2435 - val_accuracy: 0.9125 - val_auc: 0.9976 - val_precision: 0.9400 - val_recall: 0.8813\n",
            "Epoch 139/200\n",
            "22/25 [=========================>....] - ETA: 0s - loss: 0.4419 - accuracy: 0.7898 - auc: 0.9885 - precision: 0.8160 - recall: 0.7557\n",
            "Epoch 00139: val_accuracy did not improve from 0.91250\n",
            "25/25 [==============================] - 0s 14ms/step - loss: 0.4521 - accuracy: 0.7825 - auc: 0.9882 - precision: 0.8152 - recall: 0.7500 - val_loss: 0.2549 - val_accuracy: 0.8500 - val_auc: 0.9963 - val_precision: 0.8701 - val_recall: 0.8375\n",
            "Epoch 140/200\n",
            "25/25 [==============================] - ETA: 0s - loss: 0.4231 - accuracy: 0.8012 - auc: 0.9899 - precision: 0.8178 - recall: 0.7575\n",
            "Epoch 00140: val_accuracy did not improve from 0.91250\n",
            "25/25 [==============================] - 0s 15ms/step - loss: 0.4231 - accuracy: 0.8012 - auc: 0.9899 - precision: 0.8178 - recall: 0.7575 - val_loss: 0.2731 - val_accuracy: 0.8750 - val_auc: 0.9962 - val_precision: 0.9013 - val_recall: 0.8562\n",
            "Epoch 141/200\n",
            "25/25 [==============================] - ETA: 0s - loss: 0.4123 - accuracy: 0.8250 - auc: 0.9903 - precision: 0.8519 - recall: 0.7837\n",
            "Epoch 00141: val_accuracy did not improve from 0.91250\n",
            "25/25 [==============================] - 0s 14ms/step - loss: 0.4123 - accuracy: 0.8250 - auc: 0.9903 - precision: 0.8519 - recall: 0.7837 - val_loss: 0.2575 - val_accuracy: 0.8813 - val_auc: 0.9963 - val_precision: 0.9007 - val_recall: 0.8500\n",
            "Epoch 142/200\n",
            "25/25 [==============================] - ETA: 0s - loss: 0.4151 - accuracy: 0.7900 - auc: 0.9897 - precision: 0.8166 - recall: 0.7513\n",
            "Epoch 00142: val_accuracy did not improve from 0.91250\n",
            "25/25 [==============================] - 0s 14ms/step - loss: 0.4151 - accuracy: 0.7900 - auc: 0.9897 - precision: 0.8166 - recall: 0.7513 - val_loss: 0.2267 - val_accuracy: 0.9000 - val_auc: 0.9974 - val_precision: 0.9145 - val_recall: 0.8687\n",
            "Epoch 143/200\n",
            "25/25 [==============================] - ETA: 0s - loss: 0.3954 - accuracy: 0.8175 - auc: 0.9917 - precision: 0.8509 - recall: 0.7775\n",
            "Epoch 00143: val_accuracy did not improve from 0.91250\n",
            "25/25 [==============================] - 0s 15ms/step - loss: 0.3954 - accuracy: 0.8175 - auc: 0.9917 - precision: 0.8509 - recall: 0.7775 - val_loss: 0.2315 - val_accuracy: 0.8875 - val_auc: 0.9974 - val_precision: 0.9026 - val_recall: 0.8687\n",
            "Epoch 144/200\n",
            "24/25 [===========================>..] - ETA: 0s - loss: 0.4045 - accuracy: 0.8086 - auc: 0.9908 - precision: 0.8383 - recall: 0.7760\n",
            "Epoch 00144: val_accuracy did not improve from 0.91250\n",
            "25/25 [==============================] - 0s 14ms/step - loss: 0.4072 - accuracy: 0.8050 - auc: 0.9907 - precision: 0.8397 - recall: 0.7725 - val_loss: 0.2283 - val_accuracy: 0.8875 - val_auc: 0.9974 - val_precision: 0.9156 - val_recall: 0.8813\n",
            "Epoch 145/200\n",
            "25/25 [==============================] - ETA: 0s - loss: 0.3874 - accuracy: 0.8213 - auc: 0.9917 - precision: 0.8517 - recall: 0.7825\n",
            "Epoch 00145: val_accuracy did not improve from 0.91250\n",
            "25/25 [==============================] - 0s 15ms/step - loss: 0.3874 - accuracy: 0.8213 - auc: 0.9917 - precision: 0.8517 - recall: 0.7825 - val_loss: 0.2246 - val_accuracy: 0.8813 - val_auc: 0.9972 - val_precision: 0.9007 - val_recall: 0.8500\n",
            "Epoch 146/200\n",
            "25/25 [==============================] - ETA: 0s - loss: 0.3889 - accuracy: 0.8125 - auc: 0.9915 - precision: 0.8436 - recall: 0.7688\n",
            "Epoch 00146: val_accuracy did not improve from 0.91250\n",
            "25/25 [==============================] - 0s 15ms/step - loss: 0.3889 - accuracy: 0.8125 - auc: 0.9915 - precision: 0.8436 - recall: 0.7688 - val_loss: 0.2374 - val_accuracy: 0.9000 - val_auc: 0.9972 - val_precision: 0.9200 - val_recall: 0.8625\n",
            "Epoch 147/200\n",
            "25/25 [==============================] - ETA: 0s - loss: 0.3929 - accuracy: 0.8125 - auc: 0.9915 - precision: 0.8455 - recall: 0.7800\n",
            "Epoch 00147: val_accuracy did not improve from 0.91250\n",
            "25/25 [==============================] - 0s 15ms/step - loss: 0.3929 - accuracy: 0.8125 - auc: 0.9915 - precision: 0.8455 - recall: 0.7800 - val_loss: 0.2311 - val_accuracy: 0.8875 - val_auc: 0.9975 - val_precision: 0.9205 - val_recall: 0.8687\n",
            "Epoch 148/200\n",
            "25/25 [==============================] - ETA: 0s - loss: 0.3910 - accuracy: 0.8175 - auc: 0.9913 - precision: 0.8353 - recall: 0.7800\n",
            "Epoch 00148: val_accuracy did not improve from 0.91250\n",
            "25/25 [==============================] - 0s 15ms/step - loss: 0.3910 - accuracy: 0.8175 - auc: 0.9913 - precision: 0.8353 - recall: 0.7800 - val_loss: 0.2493 - val_accuracy: 0.8813 - val_auc: 0.9969 - val_precision: 0.9032 - val_recall: 0.8750\n",
            "Epoch 149/200\n",
            "25/25 [==============================] - ETA: 0s - loss: 0.3797 - accuracy: 0.8200 - auc: 0.9919 - precision: 0.8376 - recall: 0.7800\n",
            "Epoch 00149: val_accuracy did not improve from 0.91250\n",
            "25/25 [==============================] - 0s 16ms/step - loss: 0.3797 - accuracy: 0.8200 - auc: 0.9919 - precision: 0.8376 - recall: 0.7800 - val_loss: 0.2450 - val_accuracy: 0.8750 - val_auc: 0.9964 - val_precision: 0.8750 - val_recall: 0.8313\n",
            "Epoch 150/200\n",
            "22/25 [=========================>....] - ETA: 0s - loss: 0.3817 - accuracy: 0.8295 - auc: 0.9915 - precision: 0.8582 - recall: 0.7997\n",
            "Epoch 00150: val_accuracy did not improve from 0.91250\n",
            "25/25 [==============================] - 0s 14ms/step - loss: 0.3832 - accuracy: 0.8263 - auc: 0.9914 - precision: 0.8552 - recall: 0.7975 - val_loss: 0.2427 - val_accuracy: 0.8625 - val_auc: 0.9964 - val_precision: 0.8671 - val_recall: 0.8562\n",
            "Epoch 00150: early stopping\n"
          ],
          "name": "stdout"
        }
      ]
    },
    {
      "cell_type": "code",
      "metadata": {
        "id": "PrrZbYi-jNXa",
        "outputId": "7ff8c125-0b4c-4c2d-edf1-870b543feedb",
        "colab": {
          "base_uri": "https://localhost:8080/",
          "height": 759
        }
      },
      "source": [
        "plot_history(history, 'accuracy')\n",
        "plot_history(history, 'loss')"
      ],
      "execution_count": 28,
      "outputs": [
        {
          "output_type": "display_data",
          "data": {
            "image/png": "[encoded data removed]",
            "text/plain": [
              "<Figure size 720x432 with 1 Axes>"
            ]
          },
          "metadata": {
            "tags": [],
            "needs_background": "light"
          }
        },
        {
          "output_type": "display_data",
          "data": {
            "image/png": "[encoded data removed]",
            "text/plain": [
              "<Figure size 720x432 with 1 Axes>"
            ]
          },
          "metadata": {
            "tags": [],
            "needs_background": "light"
          }
        }
      ]
    },
    {
      "cell_type": "code",
      "metadata": {
        "id": "HSWyLroRu55z",
        "outputId": "de9ce93a-9fa4-4868-9558-3325bdabe58c",
        "colab": {
          "base_uri": "https://localhost:8080/",
          "height": 1000
        }
      },
      "source": [
        "plot_history(history, 'precision')\n",
        "plot_history(history, 'recall')\n",
        "plot_history(history, 'auc')"
      ],
      "execution_count": 29,
      "outputs": [
        {
          "output_type": "display_data",
          "data": {
            "image/png": "[encoded data removed]",
            "text/plain": [
              "<Figure size 720x432 with 1 Axes>"
            ]
          },
          "metadata": {
            "tags": [],
            "needs_background": "light"
          }
        },
        {
          "output_type": "display_data",
          "data": {
            "image/png": "[encoded data removed]",
            "text/plain": [
              "<Figure size 720x432 with 1 Axes>"
            ]
          },
          "metadata": {
            "tags": [],
            "needs_background": "light"
          }
        },
        {
          "output_type": "display_data",
          "data": {
            "image/png": "[encoded data removed]",
            "text/plain": [
              "<Figure size 720x432 with 1 Axes>"
            ]
          },
          "metadata": {
            "tags": [],
            "needs_background": "light"
          }
        }
      ]
    },
    {
      "cell_type": "code",
      "metadata": {
        "id": "PY4XfjAApszM",
        "outputId": "8597f00b-d3af-4809-e27e-f8ceee64916d",
        "colab": {
          "base_uri": "https://localhost:8080/",
          "height": 884
        }
      },
      "source": [
        "# evaluate the model\n",
        "model.evaluate(x_test_val, y_test_val)"
      ],
      "execution_count": 30,
      "outputs": [
        {
          "output_type": "error",
          "ename": "ValueError",
          "evalue": "ignored",
          "traceback": [
            "\u001b[0;31m---------------------------------------------------------------------------\u001b[0m",
            "\u001b[0;31mValueError\u001b[0m                                Traceback (most recent call last)",
            "\u001b[0;32m<ipython-input-30-48ec4d62a19f>\u001b[0m in \u001b[0;36m<module>\u001b[0;34m()\u001b[0m\n\u001b[1;32m      1\u001b[0m \u001b[0;31m# evaluate the model\u001b[0m\u001b[0;34m\u001b[0m\u001b[0;34m\u001b[0m\u001b[0;34m\u001b[0m\u001b[0m\n\u001b[0;32m----> 2\u001b[0;31m \u001b[0mmodel\u001b[0m\u001b[0;34m.\u001b[0m\u001b[0mevaluate\u001b[0m\u001b[0;34m(\u001b[0m\u001b[0mx_test_val\u001b[0m\u001b[0;34m,\u001b[0m \u001b[0my_test_val\u001b[0m\u001b[0;34m)\u001b[0m\u001b[0;34m\u001b[0m\u001b[0;34m\u001b[0m\u001b[0m\n\u001b[0m",
            "\u001b[0;32m/usr/local/lib/python3.6/dist-packages/tensorflow/python/keras/engine/training.py\u001b[0m in \u001b[0;36m_method_wrapper\u001b[0;34m(self, *args, **kwargs)\u001b[0m\n\u001b[1;32m    106\u001b[0m   \u001b[0;32mdef\u001b[0m \u001b[0m_method_wrapper\u001b[0m\u001b[0;34m(\u001b[0m\u001b[0mself\u001b[0m\u001b[0;34m,\u001b[0m \u001b[0;34m*\u001b[0m\u001b[0margs\u001b[0m\u001b[0;34m,\u001b[0m \u001b[0;34m**\u001b[0m\u001b[0mkwargs\u001b[0m\u001b[0;34m)\u001b[0m\u001b[0;34m:\u001b[0m\u001b[0;34m\u001b[0m\u001b[0;34m\u001b[0m\u001b[0m\n\u001b[1;32m    107\u001b[0m     \u001b[0;32mif\u001b[0m \u001b[0;32mnot\u001b[0m \u001b[0mself\u001b[0m\u001b[0;34m.\u001b[0m\u001b[0m_in_multi_worker_mode\u001b[0m\u001b[0;34m(\u001b[0m\u001b[0;34m)\u001b[0m\u001b[0;34m:\u001b[0m  \u001b[0;31m# pylint: disable=protected-access\u001b[0m\u001b[0;34m\u001b[0m\u001b[0;34m\u001b[0m\u001b[0m\n\u001b[0;32m--> 108\u001b[0;31m       \u001b[0;32mreturn\u001b[0m \u001b[0mmethod\u001b[0m\u001b[0;34m(\u001b[0m\u001b[0mself\u001b[0m\u001b[0;34m,\u001b[0m \u001b[0;34m*\u001b[0m\u001b[0margs\u001b[0m\u001b[0;34m,\u001b[0m \u001b[0;34m**\u001b[0m\u001b[0mkwargs\u001b[0m\u001b[0;34m)\u001b[0m\u001b[0;34m\u001b[0m\u001b[0;34m\u001b[0m\u001b[0m\n\u001b[0m\u001b[1;32m    109\u001b[0m \u001b[0;34m\u001b[0m\u001b[0m\n\u001b[1;32m    110\u001b[0m     \u001b[0;31m# Running inside `run_distribute_coordinator` already.\u001b[0m\u001b[0;34m\u001b[0m\u001b[0;34m\u001b[0m\u001b[0;34m\u001b[0m\u001b[0m\n",
            "\u001b[0;32m/usr/local/lib/python3.6/dist-packages/tensorflow/python/keras/engine/training.py\u001b[0m in \u001b[0;36mevaluate\u001b[0;34m(self, x, y, batch_size, verbose, sample_weight, steps, callbacks, max_queue_size, workers, use_multiprocessing, return_dict)\u001b[0m\n\u001b[1;32m   1377\u001b[0m             \u001b[0;32mwith\u001b[0m \u001b[0mtrace\u001b[0m\u001b[0;34m.\u001b[0m\u001b[0mTrace\u001b[0m\u001b[0;34m(\u001b[0m\u001b[0;34m'TraceContext'\u001b[0m\u001b[0;34m,\u001b[0m \u001b[0mgraph_type\u001b[0m\u001b[0;34m=\u001b[0m\u001b[0;34m'test'\u001b[0m\u001b[0;34m,\u001b[0m \u001b[0mstep_num\u001b[0m\u001b[0;34m=\u001b[0m\u001b[0mstep\u001b[0m\u001b[0;34m)\u001b[0m\u001b[0;34m:\u001b[0m\u001b[0;34m\u001b[0m\u001b[0;34m\u001b[0m\u001b[0m\n\u001b[1;32m   1378\u001b[0m               \u001b[0mcallbacks\u001b[0m\u001b[0;34m.\u001b[0m\u001b[0mon_test_batch_begin\u001b[0m\u001b[0;34m(\u001b[0m\u001b[0mstep\u001b[0m\u001b[0;34m)\u001b[0m\u001b[0;34m\u001b[0m\u001b[0;34m\u001b[0m\u001b[0m\n\u001b[0;32m-> 1379\u001b[0;31m               \u001b[0mtmp_logs\u001b[0m \u001b[0;34m=\u001b[0m \u001b[0mtest_function\u001b[0m\u001b[0;34m(\u001b[0m\u001b[0miterator\u001b[0m\u001b[0;34m)\u001b[0m\u001b[0;34m\u001b[0m\u001b[0;34m\u001b[0m\u001b[0m\n\u001b[0m\u001b[1;32m   1380\u001b[0m               \u001b[0;32mif\u001b[0m \u001b[0mdata_handler\u001b[0m\u001b[0;34m.\u001b[0m\u001b[0mshould_sync\u001b[0m\u001b[0;34m:\u001b[0m\u001b[0;34m\u001b[0m\u001b[0;34m\u001b[0m\u001b[0m\n\u001b[1;32m   1381\u001b[0m                 \u001b[0mcontext\u001b[0m\u001b[0;34m.\u001b[0m\u001b[0masync_wait\u001b[0m\u001b[0;34m(\u001b[0m\u001b[0;34m)\u001b[0m\u001b[0;34m\u001b[0m\u001b[0;34m\u001b[0m\u001b[0m\n",
            "\u001b[0;32m/usr/local/lib/python3.6/dist-packages/tensorflow/python/eager/def_function.py\u001b[0m in \u001b[0;36m__call__\u001b[0;34m(self, *args, **kwds)\u001b[0m\n\u001b[1;32m    778\u001b[0m       \u001b[0;32melse\u001b[0m\u001b[0;34m:\u001b[0m\u001b[0;34m\u001b[0m\u001b[0;34m\u001b[0m\u001b[0m\n\u001b[1;32m    779\u001b[0m         \u001b[0mcompiler\u001b[0m \u001b[0;34m=\u001b[0m \u001b[0;34m\"nonXla\"\u001b[0m\u001b[0;34m\u001b[0m\u001b[0;34m\u001b[0m\u001b[0m\n\u001b[0;32m--> 780\u001b[0;31m         \u001b[0mresult\u001b[0m \u001b[0;34m=\u001b[0m \u001b[0mself\u001b[0m\u001b[0;34m.\u001b[0m\u001b[0m_call\u001b[0m\u001b[0;34m(\u001b[0m\u001b[0;34m*\u001b[0m\u001b[0margs\u001b[0m\u001b[0;34m,\u001b[0m \u001b[0;34m**\u001b[0m\u001b[0mkwds\u001b[0m\u001b[0;34m)\u001b[0m\u001b[0;34m\u001b[0m\u001b[0;34m\u001b[0m\u001b[0m\n\u001b[0m\u001b[1;32m    781\u001b[0m \u001b[0;34m\u001b[0m\u001b[0m\n\u001b[1;32m    782\u001b[0m       \u001b[0mnew_tracing_count\u001b[0m \u001b[0;34m=\u001b[0m \u001b[0mself\u001b[0m\u001b[0;34m.\u001b[0m\u001b[0m_get_tracing_count\u001b[0m\u001b[0;34m(\u001b[0m\u001b[0;34m)\u001b[0m\u001b[0;34m\u001b[0m\u001b[0;34m\u001b[0m\u001b[0m\n",
            "\u001b[0;32m/usr/local/lib/python3.6/dist-packages/tensorflow/python/eager/def_function.py\u001b[0m in \u001b[0;36m_call\u001b[0;34m(self, *args, **kwds)\u001b[0m\n\u001b[1;32m    812\u001b[0m       \u001b[0;31m# In this case we have not created variables on the first call. So we can\u001b[0m\u001b[0;34m\u001b[0m\u001b[0;34m\u001b[0m\u001b[0;34m\u001b[0m\u001b[0m\n\u001b[1;32m    813\u001b[0m       \u001b[0;31m# run the first trace but we should fail if variables are created.\u001b[0m\u001b[0;34m\u001b[0m\u001b[0;34m\u001b[0m\u001b[0;34m\u001b[0m\u001b[0m\n\u001b[0;32m--> 814\u001b[0;31m       \u001b[0mresults\u001b[0m \u001b[0;34m=\u001b[0m \u001b[0mself\u001b[0m\u001b[0;34m.\u001b[0m\u001b[0m_stateful_fn\u001b[0m\u001b[0;34m(\u001b[0m\u001b[0;34m*\u001b[0m\u001b[0margs\u001b[0m\u001b[0;34m,\u001b[0m \u001b[0;34m**\u001b[0m\u001b[0mkwds\u001b[0m\u001b[0;34m)\u001b[0m\u001b[0;34m\u001b[0m\u001b[0;34m\u001b[0m\u001b[0m\n\u001b[0m\u001b[1;32m    815\u001b[0m       \u001b[0;32mif\u001b[0m \u001b[0mself\u001b[0m\u001b[0;34m.\u001b[0m\u001b[0m_created_variables\u001b[0m\u001b[0;34m:\u001b[0m\u001b[0;34m\u001b[0m\u001b[0;34m\u001b[0m\u001b[0m\n\u001b[1;32m    816\u001b[0m         raise ValueError(\"Creating variables on a non-first call to a function\"\n",
            "\u001b[0;32m/usr/local/lib/python3.6/dist-packages/tensorflow/python/eager/function.py\u001b[0m in \u001b[0;36m__call__\u001b[0;34m(self, *args, **kwargs)\u001b[0m\n\u001b[1;32m   2826\u001b[0m     \u001b[0;34m\"\"\"Calls a graph function specialized to the inputs.\"\"\"\u001b[0m\u001b[0;34m\u001b[0m\u001b[0;34m\u001b[0m\u001b[0m\n\u001b[1;32m   2827\u001b[0m     \u001b[0;32mwith\u001b[0m \u001b[0mself\u001b[0m\u001b[0;34m.\u001b[0m\u001b[0m_lock\u001b[0m\u001b[0;34m:\u001b[0m\u001b[0;34m\u001b[0m\u001b[0;34m\u001b[0m\u001b[0m\n\u001b[0;32m-> 2828\u001b[0;31m       \u001b[0mgraph_function\u001b[0m\u001b[0;34m,\u001b[0m \u001b[0margs\u001b[0m\u001b[0;34m,\u001b[0m \u001b[0mkwargs\u001b[0m \u001b[0;34m=\u001b[0m \u001b[0mself\u001b[0m\u001b[0;34m.\u001b[0m\u001b[0m_maybe_define_function\u001b[0m\u001b[0;34m(\u001b[0m\u001b[0margs\u001b[0m\u001b[0;34m,\u001b[0m \u001b[0mkwargs\u001b[0m\u001b[0;34m)\u001b[0m\u001b[0;34m\u001b[0m\u001b[0;34m\u001b[0m\u001b[0m\n\u001b[0m\u001b[1;32m   2829\u001b[0m     \u001b[0;32mreturn\u001b[0m \u001b[0mgraph_function\u001b[0m\u001b[0;34m.\u001b[0m\u001b[0m_filtered_call\u001b[0m\u001b[0;34m(\u001b[0m\u001b[0margs\u001b[0m\u001b[0;34m,\u001b[0m \u001b[0mkwargs\u001b[0m\u001b[0;34m)\u001b[0m  \u001b[0;31m# pylint: disable=protected-access\u001b[0m\u001b[0;34m\u001b[0m\u001b[0;34m\u001b[0m\u001b[0m\n\u001b[1;32m   2830\u001b[0m \u001b[0;34m\u001b[0m\u001b[0m\n",
            "\u001b[0;32m/usr/local/lib/python3.6/dist-packages/tensorflow/python/eager/function.py\u001b[0m in \u001b[0;36m_maybe_define_function\u001b[0;34m(self, args, kwargs)\u001b[0m\n\u001b[1;32m   3208\u001b[0m           \u001b[0;32mand\u001b[0m \u001b[0mself\u001b[0m\u001b[0;34m.\u001b[0m\u001b[0minput_signature\u001b[0m \u001b[0;32mis\u001b[0m \u001b[0;32mNone\u001b[0m\u001b[0;34m\u001b[0m\u001b[0;34m\u001b[0m\u001b[0m\n\u001b[1;32m   3209\u001b[0m           and call_context_key in self._function_cache.missed):\n\u001b[0;32m-> 3210\u001b[0;31m         \u001b[0;32mreturn\u001b[0m \u001b[0mself\u001b[0m\u001b[0;34m.\u001b[0m\u001b[0m_define_function_with_shape_relaxation\u001b[0m\u001b[0;34m(\u001b[0m\u001b[0margs\u001b[0m\u001b[0;34m,\u001b[0m \u001b[0mkwargs\u001b[0m\u001b[0;34m)\u001b[0m\u001b[0;34m\u001b[0m\u001b[0;34m\u001b[0m\u001b[0m\n\u001b[0m\u001b[1;32m   3211\u001b[0m \u001b[0;34m\u001b[0m\u001b[0m\n\u001b[1;32m   3212\u001b[0m       \u001b[0mself\u001b[0m\u001b[0;34m.\u001b[0m\u001b[0m_function_cache\u001b[0m\u001b[0;34m.\u001b[0m\u001b[0mmissed\u001b[0m\u001b[0;34m.\u001b[0m\u001b[0madd\u001b[0m\u001b[0;34m(\u001b[0m\u001b[0mcall_context_key\u001b[0m\u001b[0;34m)\u001b[0m\u001b[0;34m\u001b[0m\u001b[0;34m\u001b[0m\u001b[0m\n",
            "\u001b[0;32m/usr/local/lib/python3.6/dist-packages/tensorflow/python/eager/function.py\u001b[0m in \u001b[0;36m_define_function_with_shape_relaxation\u001b[0;34m(self, args, kwargs)\u001b[0m\n\u001b[1;32m   3140\u001b[0m \u001b[0;34m\u001b[0m\u001b[0m\n\u001b[1;32m   3141\u001b[0m     graph_function = self._create_graph_function(\n\u001b[0;32m-> 3142\u001b[0;31m         args, kwargs, override_flat_arg_shapes=relaxed_arg_shapes)\n\u001b[0m\u001b[1;32m   3143\u001b[0m     \u001b[0mself\u001b[0m\u001b[0;34m.\u001b[0m\u001b[0m_function_cache\u001b[0m\u001b[0;34m.\u001b[0m\u001b[0marg_relaxed\u001b[0m\u001b[0;34m[\u001b[0m\u001b[0mrank_only_cache_key\u001b[0m\u001b[0;34m]\u001b[0m \u001b[0;34m=\u001b[0m \u001b[0mgraph_function\u001b[0m\u001b[0;34m\u001b[0m\u001b[0;34m\u001b[0m\u001b[0m\n\u001b[1;32m   3144\u001b[0m \u001b[0;34m\u001b[0m\u001b[0m\n",
            "\u001b[0;32m/usr/local/lib/python3.6/dist-packages/tensorflow/python/eager/function.py\u001b[0m in \u001b[0;36m_create_graph_function\u001b[0;34m(self, args, kwargs, override_flat_arg_shapes)\u001b[0m\n\u001b[1;32m   3073\u001b[0m             \u001b[0marg_names\u001b[0m\u001b[0;34m=\u001b[0m\u001b[0marg_names\u001b[0m\u001b[0;34m,\u001b[0m\u001b[0;34m\u001b[0m\u001b[0;34m\u001b[0m\u001b[0m\n\u001b[1;32m   3074\u001b[0m             \u001b[0moverride_flat_arg_shapes\u001b[0m\u001b[0;34m=\u001b[0m\u001b[0moverride_flat_arg_shapes\u001b[0m\u001b[0;34m,\u001b[0m\u001b[0;34m\u001b[0m\u001b[0;34m\u001b[0m\u001b[0m\n\u001b[0;32m-> 3075\u001b[0;31m             capture_by_value=self._capture_by_value),\n\u001b[0m\u001b[1;32m   3076\u001b[0m         \u001b[0mself\u001b[0m\u001b[0;34m.\u001b[0m\u001b[0m_function_attributes\u001b[0m\u001b[0;34m,\u001b[0m\u001b[0;34m\u001b[0m\u001b[0;34m\u001b[0m\u001b[0m\n\u001b[1;32m   3077\u001b[0m         \u001b[0mfunction_spec\u001b[0m\u001b[0;34m=\u001b[0m\u001b[0mself\u001b[0m\u001b[0;34m.\u001b[0m\u001b[0mfunction_spec\u001b[0m\u001b[0;34m,\u001b[0m\u001b[0;34m\u001b[0m\u001b[0;34m\u001b[0m\u001b[0m\n",
            "\u001b[0;32m/usr/local/lib/python3.6/dist-packages/tensorflow/python/framework/func_graph.py\u001b[0m in \u001b[0;36mfunc_graph_from_py_func\u001b[0;34m(name, python_func, args, kwargs, signature, func_graph, autograph, autograph_options, add_control_dependencies, arg_names, op_return_value, collections, capture_by_value, override_flat_arg_shapes)\u001b[0m\n\u001b[1;32m    984\u001b[0m         \u001b[0m_\u001b[0m\u001b[0;34m,\u001b[0m \u001b[0moriginal_func\u001b[0m \u001b[0;34m=\u001b[0m \u001b[0mtf_decorator\u001b[0m\u001b[0;34m.\u001b[0m\u001b[0munwrap\u001b[0m\u001b[0;34m(\u001b[0m\u001b[0mpython_func\u001b[0m\u001b[0;34m)\u001b[0m\u001b[0;34m\u001b[0m\u001b[0;34m\u001b[0m\u001b[0m\n\u001b[1;32m    985\u001b[0m \u001b[0;34m\u001b[0m\u001b[0m\n\u001b[0;32m--> 986\u001b[0;31m       \u001b[0mfunc_outputs\u001b[0m \u001b[0;34m=\u001b[0m \u001b[0mpython_func\u001b[0m\u001b[0;34m(\u001b[0m\u001b[0;34m*\u001b[0m\u001b[0mfunc_args\u001b[0m\u001b[0;34m,\u001b[0m \u001b[0;34m**\u001b[0m\u001b[0mfunc_kwargs\u001b[0m\u001b[0;34m)\u001b[0m\u001b[0;34m\u001b[0m\u001b[0;34m\u001b[0m\u001b[0m\n\u001b[0m\u001b[1;32m    987\u001b[0m \u001b[0;34m\u001b[0m\u001b[0m\n\u001b[1;32m    988\u001b[0m       \u001b[0;31m# invariant: `func_outputs` contains only Tensors, CompositeTensors,\u001b[0m\u001b[0;34m\u001b[0m\u001b[0;34m\u001b[0m\u001b[0;34m\u001b[0m\u001b[0m\n",
            "\u001b[0;32m/usr/local/lib/python3.6/dist-packages/tensorflow/python/eager/def_function.py\u001b[0m in \u001b[0;36mwrapped_fn\u001b[0;34m(*args, **kwds)\u001b[0m\n\u001b[1;32m    598\u001b[0m         \u001b[0;31m# __wrapped__ allows AutoGraph to swap in a converted function. We give\u001b[0m\u001b[0;34m\u001b[0m\u001b[0;34m\u001b[0m\u001b[0;34m\u001b[0m\u001b[0m\n\u001b[1;32m    599\u001b[0m         \u001b[0;31m# the function a weak reference to itself to avoid a reference cycle.\u001b[0m\u001b[0;34m\u001b[0m\u001b[0;34m\u001b[0m\u001b[0;34m\u001b[0m\u001b[0m\n\u001b[0;32m--> 600\u001b[0;31m         \u001b[0;32mreturn\u001b[0m \u001b[0mweak_wrapped_fn\u001b[0m\u001b[0;34m(\u001b[0m\u001b[0;34m)\u001b[0m\u001b[0;34m.\u001b[0m\u001b[0m__wrapped__\u001b[0m\u001b[0;34m(\u001b[0m\u001b[0;34m*\u001b[0m\u001b[0margs\u001b[0m\u001b[0;34m,\u001b[0m \u001b[0;34m**\u001b[0m\u001b[0mkwds\u001b[0m\u001b[0;34m)\u001b[0m\u001b[0;34m\u001b[0m\u001b[0;34m\u001b[0m\u001b[0m\n\u001b[0m\u001b[1;32m    601\u001b[0m     \u001b[0mweak_wrapped_fn\u001b[0m \u001b[0;34m=\u001b[0m \u001b[0mweakref\u001b[0m\u001b[0;34m.\u001b[0m\u001b[0mref\u001b[0m\u001b[0;34m(\u001b[0m\u001b[0mwrapped_fn\u001b[0m\u001b[0;34m)\u001b[0m\u001b[0;34m\u001b[0m\u001b[0;34m\u001b[0m\u001b[0m\n\u001b[1;32m    602\u001b[0m \u001b[0;34m\u001b[0m\u001b[0m\n",
            "\u001b[0;32m/usr/local/lib/python3.6/dist-packages/tensorflow/python/framework/func_graph.py\u001b[0m in \u001b[0;36mwrapper\u001b[0;34m(*args, **kwargs)\u001b[0m\n\u001b[1;32m    971\u001b[0m           \u001b[0;32mexcept\u001b[0m \u001b[0mException\u001b[0m \u001b[0;32mas\u001b[0m \u001b[0me\u001b[0m\u001b[0;34m:\u001b[0m  \u001b[0;31m# pylint:disable=broad-except\u001b[0m\u001b[0;34m\u001b[0m\u001b[0;34m\u001b[0m\u001b[0m\n\u001b[1;32m    972\u001b[0m             \u001b[0;32mif\u001b[0m \u001b[0mhasattr\u001b[0m\u001b[0;34m(\u001b[0m\u001b[0me\u001b[0m\u001b[0;34m,\u001b[0m \u001b[0;34m\"ag_error_metadata\"\u001b[0m\u001b[0;34m)\u001b[0m\u001b[0;34m:\u001b[0m\u001b[0;34m\u001b[0m\u001b[0;34m\u001b[0m\u001b[0m\n\u001b[0;32m--> 973\u001b[0;31m               \u001b[0;32mraise\u001b[0m \u001b[0me\u001b[0m\u001b[0;34m.\u001b[0m\u001b[0mag_error_metadata\u001b[0m\u001b[0;34m.\u001b[0m\u001b[0mto_exception\u001b[0m\u001b[0;34m(\u001b[0m\u001b[0me\u001b[0m\u001b[0;34m)\u001b[0m\u001b[0;34m\u001b[0m\u001b[0;34m\u001b[0m\u001b[0m\n\u001b[0m\u001b[1;32m    974\u001b[0m             \u001b[0;32melse\u001b[0m\u001b[0;34m:\u001b[0m\u001b[0;34m\u001b[0m\u001b[0;34m\u001b[0m\u001b[0m\n\u001b[1;32m    975\u001b[0m               \u001b[0;32mraise\u001b[0m\u001b[0;34m\u001b[0m\u001b[0;34m\u001b[0m\u001b[0m\n",
            "\u001b[0;31mValueError\u001b[0m: in user code:\n\n    /usr/local/lib/python3.6/dist-packages/tensorflow/python/keras/engine/training.py:1224 test_function  *\n        return step_function(self, iterator)\n    /usr/local/lib/python3.6/dist-packages/tensorflow/python/keras/engine/training.py:1215 step_function  **\n        outputs = model.distribute_strategy.run(run_step, args=(data,))\n    /usr/local/lib/python3.6/dist-packages/tensorflow/python/distribute/distribute_lib.py:1211 run\n        return self._extended.call_for_each_replica(fn, args=args, kwargs=kwargs)\n    /usr/local/lib/python3.6/dist-packages/tensorflow/python/distribute/distribute_lib.py:2585 call_for_each_replica\n        return self._call_for_each_replica(fn, args, kwargs)\n    /usr/local/lib/python3.6/dist-packages/tensorflow/python/distribute/distribute_lib.py:2945 _call_for_each_replica\n        return fn(*args, **kwargs)\n    /usr/local/lib/python3.6/dist-packages/tensorflow/python/keras/engine/training.py:1208 run_step  **\n        outputs = model.test_step(data)\n    /usr/local/lib/python3.6/dist-packages/tensorflow/python/keras/engine/training.py:1177 test_step\n        y, y_pred, sample_weight, regularization_losses=self.losses)\n    /usr/local/lib/python3.6/dist-packages/tensorflow/python/keras/engine/compile_utils.py:204 __call__\n        loss_value = loss_obj(y_t, y_p, sample_weight=sw)\n    /usr/local/lib/python3.6/dist-packages/tensorflow/python/keras/losses.py:149 __call__\n        losses = ag_call(y_true, y_pred)\n    /usr/local/lib/python3.6/dist-packages/tensorflow/python/keras/losses.py:253 call  **\n        return ag_fn(y_true, y_pred, **self._fn_kwargs)\n    /usr/local/lib/python3.6/dist-packages/tensorflow/python/util/dispatch.py:201 wrapper\n        return target(*args, **kwargs)\n    /usr/local/lib/python3.6/dist-packages/tensorflow/python/keras/losses.py:1535 categorical_crossentropy\n        return K.categorical_crossentropy(y_true, y_pred, from_logits=from_logits)\n    /usr/local/lib/python3.6/dist-packages/tensorflow/python/util/dispatch.py:201 wrapper\n        return target(*args, **kwargs)\n    /usr/local/lib/python3.6/dist-packages/tensorflow/python/keras/backend.py:4687 categorical_crossentropy\n        target.shape.assert_is_compatible_with(output.shape)\n    /usr/local/lib/python3.6/dist-packages/tensorflow/python/framework/tensor_shape.py:1134 assert_is_compatible_with\n        raise ValueError(\"Shapes %s and %s are incompatible\" % (self, other))\n\n    ValueError: Shapes (32, 1) and (32, 11) are incompatible\n"
          ]
        }
      ]
    },
    {
      "cell_type": "code",
      "metadata": {
        "id": "ASc2rTOkjLKY"
      },
      "source": [
        "evaluate_lst = list(map(lambda x: x * 100, [test_loss, test_accuracy]))\n",
        "print('\\nTest:\\nLoss: {}\\nAccuracy: {}').format(evaluate_lst[0], evaluate_lst[1])"
      ],
      "execution_count": null,
      "outputs": []
    },
    {
      "cell_type": "code",
      "metadata": {
        "id": "Ol2Q8hOXjKfr"
      },
      "source": [
        "# predict\n",
        "s = 'happy'\n",
        "pred = predict(label_dict, s, model)\n",
        "print('Word: {}'.format(s))\n",
        "print('Prediction: {}'.format(pred))"
      ],
      "execution_count": null,
      "outputs": []
    },
    {
      "cell_type": "code",
      "metadata": {
        "id": "Rbh8T-mrx20u"
      },
      "source": [
        "# evaluation confusion matrix\n",
        "tf.math.confusion_matrix(labels=y_validation, predictions=x_validation)"
      ],
      "execution_count": null,
      "outputs": []
    },
    {
      "cell_type": "code",
      "metadata": {
        "id": "7TlxepYljOxE"
      },
      "source": [
        "# save the model\n",
        "!mkdir models\n",
        "model.save(MODEL_PATH)"
      ],
      "execution_count": null,
      "outputs": []
    },
    {
      "cell_type": "code",
      "metadata": {
        "id": "Hp7RGZe-jPDB"
      },
      "source": [
        "# convert to modeljs\n",
        "tfjs.converters.save_keras_model(model, 'tfjsmodel')"
      ],
      "execution_count": null,
      "outputs": []
    }
  ]
}