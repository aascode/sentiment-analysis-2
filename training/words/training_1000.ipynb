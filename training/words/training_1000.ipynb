{
  "nbformat": 4,
  "nbformat_minor": 0,
  "metadata": {
    "colab": {
      "name": "training_1000.ipynb",
      "provenance": [],
      "collapsed_sections": [],
      "toc_visible": true,
      "machine_shape": "hm"
    },
    "kernelspec": {
      "name": "python3",
      "display_name": "Python 3"
    },
    "accelerator": "GPU"
  },
  "cells": [
    {
      "cell_type": "markdown",
      "metadata": {
        "id": "3hCJ7VTq1r-B"
      },
      "source": [
        "---\n",
        "# **Sentiment Analysis**\n",
        "---"
      ]
    },
    {
      "cell_type": "markdown",
      "metadata": {
        "id": "RrfoCSVi1uU_"
      },
      "source": [
        "---\n",
        "\n",
        "# **1. Installation**\n",
        "\n",
        "---"
      ]
    },
    {
      "cell_type": "markdown",
      "metadata": {
        "id": "jfMMl1bb1x_2"
      },
      "source": [
        "## i. Generating a reponse\n"
      ]
    },
    {
      "cell_type": "code",
      "metadata": {
        "id": "soQns5KH0mNV"
      },
      "source": [
        "import sys\n",
        "import logging\n",
        "from psutil import virtual_memory"
      ],
      "execution_count": 1,
      "outputs": []
    },
    {
      "cell_type": "code",
      "metadata": {
        "id": "WwXk46ge1zYO"
      },
      "source": [
        "gpu_info = !nvidia-smi\n",
        "gpu_info = '\\n'.join(gpu_info)\n",
        "ram_gb = virtual_memory().total / 1e9"
      ],
      "execution_count": 2,
      "outputs": []
    },
    {
      "cell_type": "code",
      "metadata": {
        "id": "AqYgi67z1zgZ"
      },
      "source": [
        "tf_response = {\n",
        "    'error': None,\n",
        "    'TF version': '',\n",
        "    'COLAB': None,\n",
        "    'GPU': False,\n",
        "    'ram_gb': ''\n",
        "}"
      ],
      "execution_count": 3,
      "outputs": []
    },
    {
      "cell_type": "code",
      "metadata": {
        "id": "CvNt2AJ51znJ",
        "outputId": "c1d1b5b3-720b-417b-ee3b-ec9f059566e9",
        "colab": {
          "base_uri": "https://localhost:8080/"
        }
      },
      "source": [
        "try:\n",
        "    # drive\n",
        "    from google.colab import drive\n",
        "    IN_COLAB = 'google.colab' in sys.modules\n",
        "\n",
        "    # updating tensorflow version\n",
        "    %tensorflow_version 2.x\n",
        "\n",
        "    # tensorflow-gpu & tensorflowjs\n",
        "    !pip install tensorflow-gpu # !pip install tensorflow_text # I could use BERT\n",
        "    !pip install tensorflowjs\n",
        "\n",
        "    # NLP (nltk, stanza, spacy)\n",
        "    !pip install nltk \n",
        "    !pip install stanza\n",
        "    !pip install spacy\n",
        "    !spacy download en_core_web_sm # sm md lg\n",
        "    !python -m spacy download en\n",
        "except OSError as error:\n",
        "    # debugging error\n",
        "    response['error'] = logging.debug('You are not using your specify version of TensorFlow')\n",
        "    IN_COLAB = False\n",
        "\n",
        "    # install requirements\n",
        "    !pip install -r '../requirements.txt'\n",
        "finally:\n",
        "    tf_response['COLAB'] = IN_COLAB\n",
        "    \n",
        "    # Importing tensroflow core\n",
        "    import tensorflow as tf\n",
        "    import tensorflowjs as tfjs\n",
        "    from tensorflow import keras\n",
        "    from keras.utils import to_categorical\n",
        "\n",
        "    from tensorflow.keras.preprocessing.text import Tokenizer\n",
        "    from tensorflow.keras.preprocessing.sequence import pad_sequences\n",
        "\n",
        "    from tensorflow.keras.models import Sequential\n",
        "    from tensorflow.keras.layers import Dense, Flatten, LSTM, Dropout, Activation, Embedding, Bidirectional, GlobalMaxPool1D\n",
        "\n",
        "    from sklearn.model_selection import train_test_split\n",
        "    \n",
        "    # GPU and RAM response\n",
        "    if tf.config.list_physical_devices('GPU'):\n",
        "        GPU = True\n",
        "        tf_response['GPU'] = GPU\n",
        "        tf_response['TF_version'] = tf.__version__\n",
        "        \n",
        "        if tf_response['COLAB'] == True:\n",
        "            if gpu_info.find('failed') >= 0:\n",
        "                print('Select the Runtime > \"Change runtime type\" menu to enable a GPU accelerator')\n",
        "                print('Re-execute this cell.')\n",
        "            else:\n",
        "                print(gpu_info)\n",
        "            \n",
        "            if ram_gb < 20:\n",
        "                print('To enable a high-RAM runtime, select the Runtime > \"Change runtime type menu\"')\n",
        "                print('Select high-RAM in the runtime shape dropdown')\n",
        "                print('Re-execute this cell')\n",
        "                tf_response['ram_gb'] = 'low-RAM runtime'\n",
        "            else:\n",
        "                tf_response['ram_gb'] = 'high-RAM runtime'\n",
        "            print('\\nRuntime {:.2f} GB of available RAM\\n'.format(ram_gb))"
      ],
      "execution_count": 4,
      "outputs": [
        {
          "output_type": "stream",
          "text": [
            "Requirement already satisfied: tensorflow-gpu in /usr/local/lib/python3.6/dist-packages (2.3.1)\n",
            "Requirement already satisfied: astunparse==1.6.3 in /usr/local/lib/python3.6/dist-packages (from tensorflow-gpu) (1.6.3)\n",
            "Requirement already satisfied: tensorflow-estimator<2.4.0,>=2.3.0 in /usr/local/lib/python3.6/dist-packages (from tensorflow-gpu) (2.3.0)\n",
            "Requirement already satisfied: grpcio>=1.8.6 in /usr/local/lib/python3.6/dist-packages (from tensorflow-gpu) (1.32.0)\n",
            "Requirement already satisfied: keras-preprocessing<1.2,>=1.1.1 in /usr/local/lib/python3.6/dist-packages (from tensorflow-gpu) (1.1.2)\n",
            "Requirement already satisfied: opt-einsum>=2.3.2 in /usr/local/lib/python3.6/dist-packages (from tensorflow-gpu) (3.3.0)\n",
            "Requirement already satisfied: wrapt>=1.11.1 in /usr/local/lib/python3.6/dist-packages (from tensorflow-gpu) (1.12.1)\n",
            "Requirement already satisfied: numpy<1.19.0,>=1.16.0 in /usr/local/lib/python3.6/dist-packages (from tensorflow-gpu) (1.18.5)\n",
            "Requirement already satisfied: absl-py>=0.7.0 in /usr/local/lib/python3.6/dist-packages (from tensorflow-gpu) (0.10.0)\n",
            "Requirement already satisfied: h5py<2.11.0,>=2.10.0 in /usr/local/lib/python3.6/dist-packages (from tensorflow-gpu) (2.10.0)\n",
            "Requirement already satisfied: google-pasta>=0.1.8 in /usr/local/lib/python3.6/dist-packages (from tensorflow-gpu) (0.2.0)\n",
            "Requirement already satisfied: six>=1.12.0 in /usr/local/lib/python3.6/dist-packages (from tensorflow-gpu) (1.15.0)\n",
            "Requirement already satisfied: protobuf>=3.9.2 in /usr/local/lib/python3.6/dist-packages (from tensorflow-gpu) (3.12.4)\n",
            "Requirement already satisfied: gast==0.3.3 in /usr/local/lib/python3.6/dist-packages (from tensorflow-gpu) (0.3.3)\n",
            "Requirement already satisfied: wheel>=0.26 in /usr/local/lib/python3.6/dist-packages (from tensorflow-gpu) (0.35.1)\n",
            "Requirement already satisfied: termcolor>=1.1.0 in /usr/local/lib/python3.6/dist-packages (from tensorflow-gpu) (1.1.0)\n",
            "Requirement already satisfied: tensorboard<3,>=2.3.0 in /usr/local/lib/python3.6/dist-packages (from tensorflow-gpu) (2.3.0)\n",
            "Requirement already satisfied: setuptools in /usr/local/lib/python3.6/dist-packages (from protobuf>=3.9.2->tensorflow-gpu) (50.3.0)\n",
            "Requirement already satisfied: google-auth<2,>=1.6.3 in /usr/local/lib/python3.6/dist-packages (from tensorboard<3,>=2.3.0->tensorflow-gpu) (1.17.2)\n",
            "Requirement already satisfied: werkzeug>=0.11.15 in /usr/local/lib/python3.6/dist-packages (from tensorboard<3,>=2.3.0->tensorflow-gpu) (1.0.1)\n",
            "Requirement already satisfied: markdown>=2.6.8 in /usr/local/lib/python3.6/dist-packages (from tensorboard<3,>=2.3.0->tensorflow-gpu) (3.2.2)\n",
            "Requirement already satisfied: requests<3,>=2.21.0 in /usr/local/lib/python3.6/dist-packages (from tensorboard<3,>=2.3.0->tensorflow-gpu) (2.23.0)\n",
            "Requirement already satisfied: tensorboard-plugin-wit>=1.6.0 in /usr/local/lib/python3.6/dist-packages (from tensorboard<3,>=2.3.0->tensorflow-gpu) (1.7.0)\n",
            "Requirement already satisfied: google-auth-oauthlib<0.5,>=0.4.1 in /usr/local/lib/python3.6/dist-packages (from tensorboard<3,>=2.3.0->tensorflow-gpu) (0.4.1)\n",
            "Requirement already satisfied: rsa<5,>=3.1.4; python_version >= \"3\" in /usr/local/lib/python3.6/dist-packages (from google-auth<2,>=1.6.3->tensorboard<3,>=2.3.0->tensorflow-gpu) (4.6)\n",
            "Requirement already satisfied: pyasn1-modules>=0.2.1 in /usr/local/lib/python3.6/dist-packages (from google-auth<2,>=1.6.3->tensorboard<3,>=2.3.0->tensorflow-gpu) (0.2.8)\n",
            "Requirement already satisfied: cachetools<5.0,>=2.0.0 in /usr/local/lib/python3.6/dist-packages (from google-auth<2,>=1.6.3->tensorboard<3,>=2.3.0->tensorflow-gpu) (4.1.1)\n",
            "Requirement already satisfied: importlib-metadata; python_version < \"3.8\" in /usr/local/lib/python3.6/dist-packages (from markdown>=2.6.8->tensorboard<3,>=2.3.0->tensorflow-gpu) (2.0.0)\n",
            "Requirement already satisfied: chardet<4,>=3.0.2 in /usr/local/lib/python3.6/dist-packages (from requests<3,>=2.21.0->tensorboard<3,>=2.3.0->tensorflow-gpu) (3.0.4)\n",
            "Requirement already satisfied: idna<3,>=2.5 in /usr/local/lib/python3.6/dist-packages (from requests<3,>=2.21.0->tensorboard<3,>=2.3.0->tensorflow-gpu) (2.10)\n",
            "Requirement already satisfied: certifi>=2017.4.17 in /usr/local/lib/python3.6/dist-packages (from requests<3,>=2.21.0->tensorboard<3,>=2.3.0->tensorflow-gpu) (2020.6.20)\n",
            "Requirement already satisfied: urllib3!=1.25.0,!=1.25.1,<1.26,>=1.21.1 in /usr/local/lib/python3.6/dist-packages (from requests<3,>=2.21.0->tensorboard<3,>=2.3.0->tensorflow-gpu) (1.24.3)\n",
            "Requirement already satisfied: requests-oauthlib>=0.7.0 in /usr/local/lib/python3.6/dist-packages (from google-auth-oauthlib<0.5,>=0.4.1->tensorboard<3,>=2.3.0->tensorflow-gpu) (1.3.0)\n",
            "Requirement already satisfied: pyasn1>=0.1.3 in /usr/local/lib/python3.6/dist-packages (from rsa<5,>=3.1.4; python_version >= \"3\"->google-auth<2,>=1.6.3->tensorboard<3,>=2.3.0->tensorflow-gpu) (0.4.8)\n",
            "Requirement already satisfied: zipp>=0.5 in /usr/local/lib/python3.6/dist-packages (from importlib-metadata; python_version < \"3.8\"->markdown>=2.6.8->tensorboard<3,>=2.3.0->tensorflow-gpu) (3.2.0)\n",
            "Requirement already satisfied: oauthlib>=3.0.0 in /usr/local/lib/python3.6/dist-packages (from requests-oauthlib>=0.7.0->google-auth-oauthlib<0.5,>=0.4.1->tensorboard<3,>=2.3.0->tensorflow-gpu) (3.1.0)\n",
            "Requirement already satisfied: tensorflowjs in /usr/local/lib/python3.6/dist-packages (2.5.0)\n",
            "Requirement already satisfied: tensorflow<3,>=2.1.0 in /usr/local/lib/python3.6/dist-packages (from tensorflowjs) (2.3.0)\n",
            "Requirement already satisfied: six<2,>=1.12.0 in /usr/local/lib/python3.6/dist-packages (from tensorflowjs) (1.15.0)\n",
            "Requirement already satisfied: h5py<3,>=2.8.0 in /usr/local/lib/python3.6/dist-packages (from tensorflowjs) (2.10.0)\n",
            "Requirement already satisfied: tensorflow-hub<0.10,>=0.7.0 in /usr/local/lib/python3.6/dist-packages (from tensorflowjs) (0.9.0)\n",
            "Requirement already satisfied: google-pasta>=0.1.8 in /usr/local/lib/python3.6/dist-packages (from tensorflow<3,>=2.1.0->tensorflowjs) (0.2.0)\n",
            "Requirement already satisfied: tensorboard<3,>=2.3.0 in /usr/local/lib/python3.6/dist-packages (from tensorflow<3,>=2.1.0->tensorflowjs) (2.3.0)\n",
            "Requirement already satisfied: termcolor>=1.1.0 in /usr/local/lib/python3.6/dist-packages (from tensorflow<3,>=2.1.0->tensorflowjs) (1.1.0)\n",
            "Requirement already satisfied: opt-einsum>=2.3.2 in /usr/local/lib/python3.6/dist-packages (from tensorflow<3,>=2.1.0->tensorflowjs) (3.3.0)\n",
            "Requirement already satisfied: tensorflow-estimator<2.4.0,>=2.3.0 in /usr/local/lib/python3.6/dist-packages (from tensorflow<3,>=2.1.0->tensorflowjs) (2.3.0)\n",
            "Requirement already satisfied: grpcio>=1.8.6 in /usr/local/lib/python3.6/dist-packages (from tensorflow<3,>=2.1.0->tensorflowjs) (1.32.0)\n",
            "Requirement already satisfied: protobuf>=3.9.2 in /usr/local/lib/python3.6/dist-packages (from tensorflow<3,>=2.1.0->tensorflowjs) (3.12.4)\n",
            "Requirement already satisfied: wheel>=0.26 in /usr/local/lib/python3.6/dist-packages (from tensorflow<3,>=2.1.0->tensorflowjs) (0.35.1)\n",
            "Requirement already satisfied: keras-preprocessing<1.2,>=1.1.1 in /usr/local/lib/python3.6/dist-packages (from tensorflow<3,>=2.1.0->tensorflowjs) (1.1.2)\n",
            "Requirement already satisfied: wrapt>=1.11.1 in /usr/local/lib/python3.6/dist-packages (from tensorflow<3,>=2.1.0->tensorflowjs) (1.12.1)\n",
            "Requirement already satisfied: gast==0.3.3 in /usr/local/lib/python3.6/dist-packages (from tensorflow<3,>=2.1.0->tensorflowjs) (0.3.3)\n",
            "Requirement already satisfied: absl-py>=0.7.0 in /usr/local/lib/python3.6/dist-packages (from tensorflow<3,>=2.1.0->tensorflowjs) (0.10.0)\n",
            "Requirement already satisfied: astunparse==1.6.3 in /usr/local/lib/python3.6/dist-packages (from tensorflow<3,>=2.1.0->tensorflowjs) (1.6.3)\n",
            "Requirement already satisfied: scipy==1.4.1 in /usr/local/lib/python3.6/dist-packages (from tensorflow<3,>=2.1.0->tensorflowjs) (1.4.1)\n",
            "Requirement already satisfied: numpy<1.19.0,>=1.16.0 in /usr/local/lib/python3.6/dist-packages (from tensorflow<3,>=2.1.0->tensorflowjs) (1.18.5)\n",
            "Requirement already satisfied: werkzeug>=0.11.15 in /usr/local/lib/python3.6/dist-packages (from tensorboard<3,>=2.3.0->tensorflow<3,>=2.1.0->tensorflowjs) (1.0.1)\n",
            "Requirement already satisfied: tensorboard-plugin-wit>=1.6.0 in /usr/local/lib/python3.6/dist-packages (from tensorboard<3,>=2.3.0->tensorflow<3,>=2.1.0->tensorflowjs) (1.7.0)\n",
            "Requirement already satisfied: markdown>=2.6.8 in /usr/local/lib/python3.6/dist-packages (from tensorboard<3,>=2.3.0->tensorflow<3,>=2.1.0->tensorflowjs) (3.2.2)\n",
            "Requirement already satisfied: setuptools>=41.0.0 in /usr/local/lib/python3.6/dist-packages (from tensorboard<3,>=2.3.0->tensorflow<3,>=2.1.0->tensorflowjs) (50.3.0)\n",
            "Requirement already satisfied: google-auth-oauthlib<0.5,>=0.4.1 in /usr/local/lib/python3.6/dist-packages (from tensorboard<3,>=2.3.0->tensorflow<3,>=2.1.0->tensorflowjs) (0.4.1)\n",
            "Requirement already satisfied: google-auth<2,>=1.6.3 in /usr/local/lib/python3.6/dist-packages (from tensorboard<3,>=2.3.0->tensorflow<3,>=2.1.0->tensorflowjs) (1.17.2)\n",
            "Requirement already satisfied: requests<3,>=2.21.0 in /usr/local/lib/python3.6/dist-packages (from tensorboard<3,>=2.3.0->tensorflow<3,>=2.1.0->tensorflowjs) (2.23.0)\n",
            "Requirement already satisfied: importlib-metadata; python_version < \"3.8\" in /usr/local/lib/python3.6/dist-packages (from markdown>=2.6.8->tensorboard<3,>=2.3.0->tensorflow<3,>=2.1.0->tensorflowjs) (2.0.0)\n",
            "Requirement already satisfied: requests-oauthlib>=0.7.0 in /usr/local/lib/python3.6/dist-packages (from google-auth-oauthlib<0.5,>=0.4.1->tensorboard<3,>=2.3.0->tensorflow<3,>=2.1.0->tensorflowjs) (1.3.0)\n",
            "Requirement already satisfied: cachetools<5.0,>=2.0.0 in /usr/local/lib/python3.6/dist-packages (from google-auth<2,>=1.6.3->tensorboard<3,>=2.3.0->tensorflow<3,>=2.1.0->tensorflowjs) (4.1.1)\n",
            "Requirement already satisfied: pyasn1-modules>=0.2.1 in /usr/local/lib/python3.6/dist-packages (from google-auth<2,>=1.6.3->tensorboard<3,>=2.3.0->tensorflow<3,>=2.1.0->tensorflowjs) (0.2.8)\n",
            "Requirement already satisfied: rsa<5,>=3.1.4; python_version >= \"3\" in /usr/local/lib/python3.6/dist-packages (from google-auth<2,>=1.6.3->tensorboard<3,>=2.3.0->tensorflow<3,>=2.1.0->tensorflowjs) (4.6)\n",
            "Requirement already satisfied: certifi>=2017.4.17 in /usr/local/lib/python3.6/dist-packages (from requests<3,>=2.21.0->tensorboard<3,>=2.3.0->tensorflow<3,>=2.1.0->tensorflowjs) (2020.6.20)\n",
            "Requirement already satisfied: urllib3!=1.25.0,!=1.25.1,<1.26,>=1.21.1 in /usr/local/lib/python3.6/dist-packages (from requests<3,>=2.21.0->tensorboard<3,>=2.3.0->tensorflow<3,>=2.1.0->tensorflowjs) (1.24.3)\n",
            "Requirement already satisfied: idna<3,>=2.5 in /usr/local/lib/python3.6/dist-packages (from requests<3,>=2.21.0->tensorboard<3,>=2.3.0->tensorflow<3,>=2.1.0->tensorflowjs) (2.10)\n",
            "Requirement already satisfied: chardet<4,>=3.0.2 in /usr/local/lib/python3.6/dist-packages (from requests<3,>=2.21.0->tensorboard<3,>=2.3.0->tensorflow<3,>=2.1.0->tensorflowjs) (3.0.4)\n",
            "Requirement already satisfied: zipp>=0.5 in /usr/local/lib/python3.6/dist-packages (from importlib-metadata; python_version < \"3.8\"->markdown>=2.6.8->tensorboard<3,>=2.3.0->tensorflow<3,>=2.1.0->tensorflowjs) (3.2.0)\n",
            "Requirement already satisfied: oauthlib>=3.0.0 in /usr/local/lib/python3.6/dist-packages (from requests-oauthlib>=0.7.0->google-auth-oauthlib<0.5,>=0.4.1->tensorboard<3,>=2.3.0->tensorflow<3,>=2.1.0->tensorflowjs) (3.1.0)\n",
            "Requirement already satisfied: pyasn1<0.5.0,>=0.4.6 in /usr/local/lib/python3.6/dist-packages (from pyasn1-modules>=0.2.1->google-auth<2,>=1.6.3->tensorboard<3,>=2.3.0->tensorflow<3,>=2.1.0->tensorflowjs) (0.4.8)\n",
            "Requirement already satisfied: nltk in /usr/local/lib/python3.6/dist-packages (3.2.5)\n",
            "Requirement already satisfied: six in /usr/local/lib/python3.6/dist-packages (from nltk) (1.15.0)\n",
            "Requirement already satisfied: stanza in /usr/local/lib/python3.6/dist-packages (1.1.1)\n",
            "Requirement already satisfied: requests in /usr/local/lib/python3.6/dist-packages (from stanza) (2.23.0)\n",
            "Requirement already satisfied: tqdm in /usr/local/lib/python3.6/dist-packages (from stanza) (4.41.1)\n",
            "Requirement already satisfied: protobuf in /usr/local/lib/python3.6/dist-packages (from stanza) (3.12.4)\n",
            "Requirement already satisfied: numpy in /usr/local/lib/python3.6/dist-packages (from stanza) (1.18.5)\n",
            "Requirement already satisfied: torch>=1.3.0 in /usr/local/lib/python3.6/dist-packages (from stanza) (1.6.0+cu101)\n",
            "Requirement already satisfied: certifi>=2017.4.17 in /usr/local/lib/python3.6/dist-packages (from requests->stanza) (2020.6.20)\n",
            "Requirement already satisfied: idna<3,>=2.5 in /usr/local/lib/python3.6/dist-packages (from requests->stanza) (2.10)\n",
            "Requirement already satisfied: chardet<4,>=3.0.2 in /usr/local/lib/python3.6/dist-packages (from requests->stanza) (3.0.4)\n",
            "Requirement already satisfied: urllib3!=1.25.0,!=1.25.1,<1.26,>=1.21.1 in /usr/local/lib/python3.6/dist-packages (from requests->stanza) (1.24.3)\n",
            "Requirement already satisfied: setuptools in /usr/local/lib/python3.6/dist-packages (from protobuf->stanza) (50.3.0)\n",
            "Requirement already satisfied: six>=1.9 in /usr/local/lib/python3.6/dist-packages (from protobuf->stanza) (1.15.0)\n",
            "Requirement already satisfied: future in /usr/local/lib/python3.6/dist-packages (from torch>=1.3.0->stanza) (0.16.0)\n",
            "Requirement already satisfied: spacy in /usr/local/lib/python3.6/dist-packages (2.2.4)\n",
            "Requirement already satisfied: tqdm<5.0.0,>=4.38.0 in /usr/local/lib/python3.6/dist-packages (from spacy) (4.41.1)\n",
            "Requirement already satisfied: setuptools in /usr/local/lib/python3.6/dist-packages (from spacy) (50.3.0)\n",
            "Requirement already satisfied: thinc==7.4.0 in /usr/local/lib/python3.6/dist-packages (from spacy) (7.4.0)\n",
            "Requirement already satisfied: cymem<2.1.0,>=2.0.2 in /usr/local/lib/python3.6/dist-packages (from spacy) (2.0.3)\n",
            "Requirement already satisfied: plac<1.2.0,>=0.9.6 in /usr/local/lib/python3.6/dist-packages (from spacy) (1.1.3)\n",
            "Requirement already satisfied: numpy>=1.15.0 in /usr/local/lib/python3.6/dist-packages (from spacy) (1.18.5)\n",
            "Requirement already satisfied: murmurhash<1.1.0,>=0.28.0 in /usr/local/lib/python3.6/dist-packages (from spacy) (1.0.2)\n",
            "Requirement already satisfied: blis<0.5.0,>=0.4.0 in /usr/local/lib/python3.6/dist-packages (from spacy) (0.4.1)\n",
            "Requirement already satisfied: requests<3.0.0,>=2.13.0 in /usr/local/lib/python3.6/dist-packages (from spacy) (2.23.0)\n",
            "Requirement already satisfied: catalogue<1.1.0,>=0.0.7 in /usr/local/lib/python3.6/dist-packages (from spacy) (1.0.0)\n",
            "Requirement already satisfied: preshed<3.1.0,>=3.0.2 in /usr/local/lib/python3.6/dist-packages (from spacy) (3.0.2)\n",
            "Requirement already satisfied: srsly<1.1.0,>=1.0.2 in /usr/local/lib/python3.6/dist-packages (from spacy) (1.0.2)\n",
            "Requirement already satisfied: wasabi<1.1.0,>=0.4.0 in /usr/local/lib/python3.6/dist-packages (from spacy) (0.8.0)\n",
            "Requirement already satisfied: urllib3!=1.25.0,!=1.25.1,<1.26,>=1.21.1 in /usr/local/lib/python3.6/dist-packages (from requests<3.0.0,>=2.13.0->spacy) (1.24.3)\n",
            "Requirement already satisfied: idna<3,>=2.5 in /usr/local/lib/python3.6/dist-packages (from requests<3.0.0,>=2.13.0->spacy) (2.10)\n",
            "Requirement already satisfied: certifi>=2017.4.17 in /usr/local/lib/python3.6/dist-packages (from requests<3.0.0,>=2.13.0->spacy) (2020.6.20)\n",
            "Requirement already satisfied: chardet<4,>=3.0.2 in /usr/local/lib/python3.6/dist-packages (from requests<3.0.0,>=2.13.0->spacy) (3.0.4)\n",
            "Requirement already satisfied: importlib-metadata>=0.20; python_version < \"3.8\" in /usr/local/lib/python3.6/dist-packages (from catalogue<1.1.0,>=0.0.7->spacy) (2.0.0)\n",
            "Requirement already satisfied: zipp>=0.5 in /usr/local/lib/python3.6/dist-packages (from importlib-metadata>=0.20; python_version < \"3.8\"->catalogue<1.1.0,>=0.0.7->spacy) (3.2.0)\n",
            "Requirement already satisfied: en_core_web_sm==2.2.5 from https://github.com/explosion/spacy-models/releases/download/en_core_web_sm-2.2.5/en_core_web_sm-2.2.5.tar.gz#egg=en_core_web_sm==2.2.5 in /usr/local/lib/python3.6/dist-packages (2.2.5)\n",
            "Requirement already satisfied: spacy>=2.2.2 in /usr/local/lib/python3.6/dist-packages (from en_core_web_sm==2.2.5) (2.2.4)\n",
            "Requirement already satisfied: cymem<2.1.0,>=2.0.2 in /usr/local/lib/python3.6/dist-packages (from spacy>=2.2.2->en_core_web_sm==2.2.5) (2.0.3)\n",
            "Requirement already satisfied: catalogue<1.1.0,>=0.0.7 in /usr/local/lib/python3.6/dist-packages (from spacy>=2.2.2->en_core_web_sm==2.2.5) (1.0.0)\n",
            "Requirement already satisfied: thinc==7.4.0 in /usr/local/lib/python3.6/dist-packages (from spacy>=2.2.2->en_core_web_sm==2.2.5) (7.4.0)\n",
            "Requirement already satisfied: murmurhash<1.1.0,>=0.28.0 in /usr/local/lib/python3.6/dist-packages (from spacy>=2.2.2->en_core_web_sm==2.2.5) (1.0.2)\n",
            "Requirement already satisfied: srsly<1.1.0,>=1.0.2 in /usr/local/lib/python3.6/dist-packages (from spacy>=2.2.2->en_core_web_sm==2.2.5) (1.0.2)\n",
            "Requirement already satisfied: tqdm<5.0.0,>=4.38.0 in /usr/local/lib/python3.6/dist-packages (from spacy>=2.2.2->en_core_web_sm==2.2.5) (4.41.1)\n",
            "Requirement already satisfied: wasabi<1.1.0,>=0.4.0 in /usr/local/lib/python3.6/dist-packages (from spacy>=2.2.2->en_core_web_sm==2.2.5) (0.8.0)\n",
            "Requirement already satisfied: requests<3.0.0,>=2.13.0 in /usr/local/lib/python3.6/dist-packages (from spacy>=2.2.2->en_core_web_sm==2.2.5) (2.23.0)\n",
            "Requirement already satisfied: preshed<3.1.0,>=3.0.2 in /usr/local/lib/python3.6/dist-packages (from spacy>=2.2.2->en_core_web_sm==2.2.5) (3.0.2)\n",
            "Requirement already satisfied: numpy>=1.15.0 in /usr/local/lib/python3.6/dist-packages (from spacy>=2.2.2->en_core_web_sm==2.2.5) (1.18.5)\n",
            "Requirement already satisfied: plac<1.2.0,>=0.9.6 in /usr/local/lib/python3.6/dist-packages (from spacy>=2.2.2->en_core_web_sm==2.2.5) (1.1.3)\n",
            "Requirement already satisfied: setuptools in /usr/local/lib/python3.6/dist-packages (from spacy>=2.2.2->en_core_web_sm==2.2.5) (50.3.0)\n",
            "Requirement already satisfied: blis<0.5.0,>=0.4.0 in /usr/local/lib/python3.6/dist-packages (from spacy>=2.2.2->en_core_web_sm==2.2.5) (0.4.1)\n",
            "Requirement already satisfied: importlib-metadata>=0.20; python_version < \"3.8\" in /usr/local/lib/python3.6/dist-packages (from catalogue<1.1.0,>=0.0.7->spacy>=2.2.2->en_core_web_sm==2.2.5) (2.0.0)\n",
            "Requirement already satisfied: chardet<4,>=3.0.2 in /usr/local/lib/python3.6/dist-packages (from requests<3.0.0,>=2.13.0->spacy>=2.2.2->en_core_web_sm==2.2.5) (3.0.4)\n",
            "Requirement already satisfied: idna<3,>=2.5 in /usr/local/lib/python3.6/dist-packages (from requests<3.0.0,>=2.13.0->spacy>=2.2.2->en_core_web_sm==2.2.5) (2.10)\n",
            "Requirement already satisfied: urllib3!=1.25.0,!=1.25.1,<1.26,>=1.21.1 in /usr/local/lib/python3.6/dist-packages (from requests<3.0.0,>=2.13.0->spacy>=2.2.2->en_core_web_sm==2.2.5) (1.24.3)\n",
            "Requirement already satisfied: certifi>=2017.4.17 in /usr/local/lib/python3.6/dist-packages (from requests<3.0.0,>=2.13.0->spacy>=2.2.2->en_core_web_sm==2.2.5) (2020.6.20)\n",
            "Requirement already satisfied: zipp>=0.5 in /usr/local/lib/python3.6/dist-packages (from importlib-metadata>=0.20; python_version < \"3.8\"->catalogue<1.1.0,>=0.0.7->spacy>=2.2.2->en_core_web_sm==2.2.5) (3.2.0)\n",
            "\u001b[38;5;2m✔ Download and installation successful\u001b[0m\n",
            "You can now load the model via spacy.load('en_core_web_sm')\n",
            "Requirement already satisfied: en_core_web_sm==2.2.5 from https://github.com/explosion/spacy-models/releases/download/en_core_web_sm-2.2.5/en_core_web_sm-2.2.5.tar.gz#egg=en_core_web_sm==2.2.5 in /usr/local/lib/python3.6/dist-packages (2.2.5)\n",
            "Requirement already satisfied: spacy>=2.2.2 in /usr/local/lib/python3.6/dist-packages (from en_core_web_sm==2.2.5) (2.2.4)\n",
            "Requirement already satisfied: cymem<2.1.0,>=2.0.2 in /usr/local/lib/python3.6/dist-packages (from spacy>=2.2.2->en_core_web_sm==2.2.5) (2.0.3)\n",
            "Requirement already satisfied: setuptools in /usr/local/lib/python3.6/dist-packages (from spacy>=2.2.2->en_core_web_sm==2.2.5) (50.3.0)\n",
            "Requirement already satisfied: thinc==7.4.0 in /usr/local/lib/python3.6/dist-packages (from spacy>=2.2.2->en_core_web_sm==2.2.5) (7.4.0)\n",
            "Requirement already satisfied: murmurhash<1.1.0,>=0.28.0 in /usr/local/lib/python3.6/dist-packages (from spacy>=2.2.2->en_core_web_sm==2.2.5) (1.0.2)\n",
            "Requirement already satisfied: preshed<3.1.0,>=3.0.2 in /usr/local/lib/python3.6/dist-packages (from spacy>=2.2.2->en_core_web_sm==2.2.5) (3.0.2)\n",
            "Requirement already satisfied: blis<0.5.0,>=0.4.0 in /usr/local/lib/python3.6/dist-packages (from spacy>=2.2.2->en_core_web_sm==2.2.5) (0.4.1)\n",
            "Requirement already satisfied: srsly<1.1.0,>=1.0.2 in /usr/local/lib/python3.6/dist-packages (from spacy>=2.2.2->en_core_web_sm==2.2.5) (1.0.2)\n",
            "Requirement already satisfied: catalogue<1.1.0,>=0.0.7 in /usr/local/lib/python3.6/dist-packages (from spacy>=2.2.2->en_core_web_sm==2.2.5) (1.0.0)\n",
            "Requirement already satisfied: numpy>=1.15.0 in /usr/local/lib/python3.6/dist-packages (from spacy>=2.2.2->en_core_web_sm==2.2.5) (1.18.5)\n",
            "Requirement already satisfied: wasabi<1.1.0,>=0.4.0 in /usr/local/lib/python3.6/dist-packages (from spacy>=2.2.2->en_core_web_sm==2.2.5) (0.8.0)\n",
            "Requirement already satisfied: plac<1.2.0,>=0.9.6 in /usr/local/lib/python3.6/dist-packages (from spacy>=2.2.2->en_core_web_sm==2.2.5) (1.1.3)\n",
            "Requirement already satisfied: requests<3.0.0,>=2.13.0 in /usr/local/lib/python3.6/dist-packages (from spacy>=2.2.2->en_core_web_sm==2.2.5) (2.23.0)\n",
            "Requirement already satisfied: tqdm<5.0.0,>=4.38.0 in /usr/local/lib/python3.6/dist-packages (from spacy>=2.2.2->en_core_web_sm==2.2.5) (4.41.1)\n",
            "Requirement already satisfied: importlib-metadata>=0.20; python_version < \"3.8\" in /usr/local/lib/python3.6/dist-packages (from catalogue<1.1.0,>=0.0.7->spacy>=2.2.2->en_core_web_sm==2.2.5) (2.0.0)\n",
            "Requirement already satisfied: certifi>=2017.4.17 in /usr/local/lib/python3.6/dist-packages (from requests<3.0.0,>=2.13.0->spacy>=2.2.2->en_core_web_sm==2.2.5) (2020.6.20)\n",
            "Requirement already satisfied: chardet<4,>=3.0.2 in /usr/local/lib/python3.6/dist-packages (from requests<3.0.0,>=2.13.0->spacy>=2.2.2->en_core_web_sm==2.2.5) (3.0.4)\n",
            "Requirement already satisfied: urllib3!=1.25.0,!=1.25.1,<1.26,>=1.21.1 in /usr/local/lib/python3.6/dist-packages (from requests<3.0.0,>=2.13.0->spacy>=2.2.2->en_core_web_sm==2.2.5) (1.24.3)\n",
            "Requirement already satisfied: idna<3,>=2.5 in /usr/local/lib/python3.6/dist-packages (from requests<3.0.0,>=2.13.0->spacy>=2.2.2->en_core_web_sm==2.2.5) (2.10)\n",
            "Requirement already satisfied: zipp>=0.5 in /usr/local/lib/python3.6/dist-packages (from importlib-metadata>=0.20; python_version < \"3.8\"->catalogue<1.1.0,>=0.0.7->spacy>=2.2.2->en_core_web_sm==2.2.5) (3.2.0)\n",
            "\u001b[38;5;2m✔ Download and installation successful\u001b[0m\n",
            "You can now load the model via spacy.load('en_core_web_sm')\n",
            "\u001b[38;5;2m✔ Linking successful\u001b[0m\n",
            "/usr/local/lib/python3.6/dist-packages/en_core_web_sm -->\n",
            "/usr/local/lib/python3.6/dist-packages/spacy/data/en\n",
            "You can now load the model via spacy.load('en')\n",
            "Wed Oct  7 19:53:25 2020       \n",
            "+-----------------------------------------------------------------------------+\n",
            "| NVIDIA-SMI 455.23.05    Driver Version: 418.67       CUDA Version: 10.1     |\n",
            "|-------------------------------+----------------------+----------------------+\n",
            "| GPU  Name        Persistence-M| Bus-Id        Disp.A | Volatile Uncorr. ECC |\n",
            "| Fan  Temp  Perf  Pwr:Usage/Cap|         Memory-Usage | GPU-Util  Compute M. |\n",
            "|                               |                      |               MIG M. |\n",
            "|===============================+======================+======================|\n",
            "|   0  Tesla P100-PCIE...  Off  | 00000000:00:04.0 Off |                    0 |\n",
            "| N/A   38C    P0    28W / 250W |      0MiB / 16280MiB |      0%      Default |\n",
            "|                               |                      |                 ERR! |\n",
            "+-------------------------------+----------------------+----------------------+\n",
            "                                                                               \n",
            "+-----------------------------------------------------------------------------+\n",
            "| Processes:                                                                  |\n",
            "|  GPU   GI   CI        PID   Type   Process name                  GPU Memory |\n",
            "|        ID   ID                                                   Usage      |\n",
            "|=============================================================================|\n",
            "|  No running processes found                                                 |\n",
            "+-----------------------------------------------------------------------------+\n",
            "\n",
            "Runtime 27.39 GB of available RAM\n",
            "\n"
          ],
          "name": "stdout"
        }
      ]
    },
    {
      "cell_type": "code",
      "metadata": {
        "id": "ye99iKv617qQ",
        "outputId": "09480e07-c5d5-4046-f346-59c12d85ec3d",
        "colab": {
          "base_uri": "https://localhost:8080/"
        }
      },
      "source": [
        "tf_response"
      ],
      "execution_count": 5,
      "outputs": [
        {
          "output_type": "execute_result",
          "data": {
            "text/plain": [
              "{'COLAB': True,\n",
              " 'GPU': True,\n",
              " 'TF version': '',\n",
              " 'TF_version': '2.3.1',\n",
              " 'error': None,\n",
              " 'ram_gb': 'high-RAM runtime'}"
            ]
          },
          "metadata": {
            "tags": []
          },
          "execution_count": 5
        }
      ]
    },
    {
      "cell_type": "markdown",
      "metadata": {
        "id": "IFNjTuvU1_C_"
      },
      "source": [
        "## ii. Importing modules\n"
      ]
    },
    {
      "cell_type": "code",
      "metadata": {
        "id": "OIh873U819qU"
      },
      "source": [
        "# Data analysis\n",
        "from collections import Counter\n",
        "import matplotlib.pyplot as plt\n",
        "import pandas as pd\n",
        "import numpy as np\n",
        "import sys\n",
        "import re\n",
        "\n",
        "%matplotlib inline\n",
        "\n",
        "# Image\n",
        "from wordcloud import WordCloud, STOPWORDS, ImageColorGenerator # to create a Word Cloud\n",
        "from PIL import Image # Pillow with WordCloud to image manipulation"
      ],
      "execution_count": 6,
      "outputs": []
    },
    {
      "cell_type": "code",
      "metadata": {
        "id": "6lhfhNt72CLr",
        "outputId": "3c02d9ee-3705-44a2-9e8e-9b435aadec7a",
        "colab": {
          "base_uri": "https://localhost:8080/"
        }
      },
      "source": [
        "# nltk\n",
        "import nltk\n",
        "from nltk.corpus import stopwords\n",
        "from nltk.stem import WordNetLemmatizer\n",
        "\n",
        "nltk.download('stopwords')\n",
        "nltk.download('wordnet')\n",
        "\n",
        "STOPWORDS = set(stopwords.words('english'))"
      ],
      "execution_count": 7,
      "outputs": [
        {
          "output_type": "stream",
          "text": [
            "[nltk_data] Downloading package stopwords to /root/nltk_data...\n",
            "[nltk_data]   Package stopwords is already up-to-date!\n",
            "[nltk_data] Downloading package wordnet to /root/nltk_data...\n",
            "[nltk_data]   Package wordnet is already up-to-date!\n"
          ],
          "name": "stdout"
        }
      ]
    },
    {
      "cell_type": "code",
      "metadata": {
        "id": "T82WGVnN2EwF",
        "outputId": "6ec8314d-6452-44cf-c236-c86ff9f7b5d1",
        "colab": {
          "base_uri": "https://localhost:8080/"
        }
      },
      "source": [
        "# Stanza NLP\n",
        "import stanza\n",
        "\n",
        "stanza.download('en', package='ewt', processors='tokenize,mwt,pos,lemma', verbose=True)\n",
        "stNLP = stanza.Pipeline(processors='tokenize,mwt,pos,lemma',\n",
        "                      lang='en',\n",
        "                      use_gpu=True)"
      ],
      "execution_count": 8,
      "outputs": [
        {
          "output_type": "stream",
          "text": [
            "Downloading https://raw.githubusercontent.com/stanfordnlp/stanza-resources/master/resources_1.1.0.json: 122kB [00:00, 35.1MB/s]                    \n",
            "2020-10-07 19:53:43 WARNING: Can not find mwt: ewt from official model list. Ignoring it.\n",
            "2020-10-07 19:53:43 INFO: Downloading these customized packages for language: en (English)...\n",
            "=======================\n",
            "| Processor | Package |\n",
            "-----------------------\n",
            "| tokenize  | ewt     |\n",
            "| pos       | ewt     |\n",
            "| lemma     | ewt     |\n",
            "| pretrain  | ewt     |\n",
            "=======================\n",
            "\n",
            "2020-10-07 19:53:43 INFO: File exists: /root/stanza_resources/en/tokenize/ewt.pt.\n",
            "2020-10-07 19:53:43 INFO: File exists: /root/stanza_resources/en/pos/ewt.pt.\n",
            "2020-10-07 19:53:43 INFO: File exists: /root/stanza_resources/en/lemma/ewt.pt.\n",
            "2020-10-07 19:53:44 INFO: File exists: /root/stanza_resources/en/pretrain/ewt.pt.\n",
            "2020-10-07 19:53:44 INFO: Finished downloading models and saved to /root/stanza_resources.\n",
            "2020-10-07 19:53:44 WARNING: Can not find mwt: default from official model list. Ignoring it.\n",
            "2020-10-07 19:53:44 INFO: Loading these models for language: en (English):\n",
            "=======================\n",
            "| Processor | Package |\n",
            "-----------------------\n",
            "| tokenize  | ewt     |\n",
            "| pos       | ewt     |\n",
            "| lemma     | ewt     |\n",
            "=======================\n",
            "\n",
            "2020-10-07 19:53:44 INFO: Use device: gpu\n",
            "2020-10-07 19:53:44 INFO: Loading: tokenize\n",
            "2020-10-07 19:53:47 INFO: Loading: pos\n",
            "2020-10-07 19:53:48 INFO: Loading: lemma\n",
            "2020-10-07 19:53:48 INFO: Done loading processors!\n"
          ],
          "name": "stderr"
        }
      ]
    },
    {
      "cell_type": "code",
      "metadata": {
        "id": "9236VgMj2Gwg",
        "outputId": "0206daff-0b2a-4bf9-96f0-b6cac1c48bbb",
        "colab": {
          "base_uri": "https://localhost:8080/"
        }
      },
      "source": [
        "# testing stanza\n",
        "doc = stNLP('Barack Obama was born in Hawai.')\n",
        "print(*[f'word: {word.text+\" \"}\\tlemma: {word.lemma}' for sent in doc.sentences for word in sent.words], sep='\\n')"
      ],
      "execution_count": 9,
      "outputs": [
        {
          "output_type": "stream",
          "text": [
            "word: Barack \tlemma: Barack\n",
            "word: Obama \tlemma: Obama\n",
            "word: was \tlemma: be\n",
            "word: born \tlemma: bear\n",
            "word: in \tlemma: in\n",
            "word: Hawai \tlemma: Hawai\n",
            "word: . \tlemma: .\n"
          ],
          "name": "stdout"
        }
      ]
    },
    {
      "cell_type": "code",
      "metadata": {
        "id": "-4QpRgR02IDL"
      },
      "source": [
        "# Spacy NLP\n",
        "import spacy\n",
        "spNLP = spacy.load('en_core_web_sm')\n",
        "spNLP.max_length = 103950039 # or higher\n",
        "# spacy.prefer_gpu() #will not work with stanza"
      ],
      "execution_count": 10,
      "outputs": []
    },
    {
      "cell_type": "markdown",
      "metadata": {
        "id": "x6iiQVT42Jo3"
      },
      "source": [
        "\n",
        "---\n",
        "\n",
        "# **2. Hyperparameters**\n",
        "\n",
        "---"
      ]
    },
    {
      "cell_type": "code",
      "metadata": {
        "id": "hIpxO61l0gcD"
      },
      "source": [
        "FILE = 'datasets/categories_dataset.csv'\n",
        "MODEL_PATH = './models/model.h5'"
      ],
      "execution_count": 11,
      "outputs": []
    },
    {
      "cell_type": "code",
      "metadata": {
        "id": "KUv__06r2LOQ"
      },
      "source": [
        "EPOCHS = 200\n",
        "BATCH_SIZE = 32\n",
        "\n",
        "training_portion = 0.8\n",
        "rnn_units = 64\n",
        "\n",
        "# embedding_dim : len(words) + 1\n",
        "# vocab_size : len(words.index) + 1\n",
        "vocab_size = 5000\n",
        "\n",
        "max_length = 30 # 200 # for padding_shape on preprocess function\n",
        "\n",
        "trunc_type = 'post'\n",
        "padding_type = 'post'\n",
        "padding_shape = 30\n",
        "oov_tok = '<OOV>'"
      ],
      "execution_count": 12,
      "outputs": []
    },
    {
      "cell_type": "code",
      "metadata": {
        "id": "YBKrSlNb0fIs"
      },
      "source": [
        "main_labels = ['confident', 'unconfident', \n",
        "               'pos_hp', 'neg_hp', \n",
        "               'interested', 'uninterested', \n",
        "               'happy', 'unhappy', \n",
        "               'friendly', 'unfriendly']\n",
        "               \n",
        "label_dict = dict(zip(main_labels, range(1, len(main_labels) + 1)))"
      ],
      "execution_count": 13,
      "outputs": []
    },
    {
      "cell_type": "code",
      "metadata": {
        "id": "OyVrjQ46nEMd",
        "outputId": "0538762e-4519-4ebe-aa4e-dd8519914ee7",
        "colab": {
          "base_uri": "https://localhost:8080/"
        }
      },
      "source": [
        "label_dict"
      ],
      "execution_count": 14,
      "outputs": [
        {
          "output_type": "execute_result",
          "data": {
            "text/plain": [
              "{'confident': 1,\n",
              " 'friendly': 9,\n",
              " 'happy': 7,\n",
              " 'interested': 5,\n",
              " 'neg_hp': 4,\n",
              " 'pos_hp': 3,\n",
              " 'unconfident': 2,\n",
              " 'unfriendly': 10,\n",
              " 'unhappy': 8,\n",
              " 'uninterested': 6}"
            ]
          },
          "metadata": {
            "tags": []
          },
          "execution_count": 14
        }
      ]
    },
    {
      "cell_type": "markdown",
      "metadata": {
        "id": "lO32c_pD2NzO"
      },
      "source": [
        "---\n",
        "\n",
        "# **3. Lemmatization**\n",
        "\n",
        "---"
      ]
    },
    {
      "cell_type": "code",
      "metadata": {
        "id": "Lb6Wbv0U2OeH"
      },
      "source": [
        "# lemmatizion\n",
        "# stanza\n",
        "def stanza_lemma(text):\n",
        "    doc = stNLP(text)\n",
        "    return ' '.join([word.lemma for sent in doc.sentences for word in sent.words])"
      ],
      "execution_count": 15,
      "outputs": []
    },
    {
      "cell_type": "code",
      "metadata": {
        "id": "RdtBcgKB2PaB"
      },
      "source": [
        "def nltk_lemma(text):\n",
        "    lemmatizer = WordNetLemmatizer()\n",
        "    lemmatizer.lemmatize(text)"
      ],
      "execution_count": 16,
      "outputs": []
    },
    {
      "cell_type": "markdown",
      "metadata": {
        "id": "1yfg8TVR2SL_"
      },
      "source": [
        "---\n",
        "# **4. Load dataset**\n",
        "---"
      ]
    },
    {
      "cell_type": "code",
      "metadata": {
        "id": "gUCh3RCa2VS8"
      },
      "source": [
        "def load_clean_dataset():\n",
        "    !mkdir -p datasets\n",
        "    !wget -nc https://raw.githubusercontent.com/Y4rd13/sentiment-analysis/master/datasets/results/categories_dataset_1000.csv -P datasets\n",
        "    df = pd.read_csv('./datasets/categories_dataset_1000.csv', encoding='utf-8', index_col=0)\n",
        "\n",
        "    print(df.head())\n",
        "    x, y = df['word'], df['category'] # 'POS stza'\n",
        "\n",
        "    return x, y"
      ],
      "execution_count": 17,
      "outputs": []
    },
    {
      "cell_type": "markdown",
      "metadata": {
        "id": "kleN4LtF2-bg"
      },
      "source": [
        "---\n",
        "# **5. Prepare dataset**\n",
        "---"
      ]
    },
    {
      "cell_type": "code",
      "metadata": {
        "id": "uDdZHwMcolpC"
      },
      "source": [
        "def preprocess(x, padding_shape=30):\n",
        "    return np.array([ord(i.lower()) - ord('a')+1 if not i.isdigit() and i != ' ' else 0 for i in list(x)] + ([0] * (padding_shape - len(x))), dtype=int)"
      ],
      "execution_count": 18,
      "outputs": []
    },
    {
      "cell_type": "code",
      "metadata": {
        "id": "-y-Y8HxI3E7B"
      },
      "source": [
        "def prepare_dataset(labeldict : dict, test_size=.3, validation_size=.1): \n",
        "    print('preparing the dataset...\\n')\n",
        "    \n",
        "    from sklearn import preprocessing\n",
        "\n",
        "    # load dataset\n",
        "    # split dataset (as string into panda.core.series.Serie object)\n",
        "    x, y = load_clean_dataset()\n",
        "\n",
        "    x = np.array(list(map(preprocess, x)))\n",
        "    y = np.array(list(map(lambda x: labeldict[x.replace(' ', '_')], y)))\n",
        "    print(('y: {}').format(y))\n",
        "\n",
        "    # create/split train, validation and test and shuffle the data\n",
        "    x_train, x_test, y_train, y_test = train_test_split(x, y, test_size=test_size, shuffle=True)\n",
        "    print(x.max(), x.min())\n",
        "\n",
        "    x_train_val, x_validation, y_train_val, y_validation = train_test_split(x_train, y_train, test_size=test_size, shuffle=True)\n",
        "\n",
        "    # pandas.core.series.Series to numpy array\n",
        "    x_train, y_train = np.array(x_train), np.array(y_train)\n",
        "    x_validation, y_validation =  np.array(x_validation), np.array(y_validation)\n",
        "    x_test, y_test = np.array(x_test), np.array(y_test)\n",
        "    \n",
        "    x_train_val, y_train_val = np.array(x_train_val), np.array(y_train_val)\n",
        "\n",
        "    print(('\\nx_train: \\n{}\\n\\ny_train: \\n{}').format(x_train_val, y_train_val))\n",
        "\n",
        "    return (x_train, y_train), (x_validation, y_validation), (x_test, y_test), (x_train_val, y_train_val)"
      ],
      "execution_count": 19,
      "outputs": []
    },
    {
      "cell_type": "code",
      "metadata": {
        "id": "gpHOyVkIwY4r",
        "outputId": "7d8c7653-69e6-4469-9567-e30fe319ff72",
        "colab": {
          "base_uri": "https://localhost:8080/"
        }
      },
      "source": [
        "(x_train, y_train), (x_validation, y_validation), (x_test, y_test), (x_train_val, y_train_val) = prepare_dataset(label_dict)"
      ],
      "execution_count": 20,
      "outputs": [
        {
          "output_type": "stream",
          "text": [
            "preparing the dataset...\n",
            "\n",
            "File ‘datasets/categories_dataset_1000.csv’ already there; not retrieving.\n",
            "\n",
            "   Arousal  Compound  Dominance  ... Valence   category          word\n",
            "0     0.55      0.30       0.74  ...    0.89  confident     tolerance\n",
            "1     0.55      0.00       0.74  ...    0.89  confident         carry\n",
            "2     0.55      0.42       0.74  ...    0.89  confident   tranquility\n",
            "3     0.55      0.00       0.74  ...    0.89  confident  socontagious\n",
            "4     0.55      0.00       0.74  ...    0.89  confident          zeal\n",
            "\n",
            "[5 rows x 12 columns]\n",
            "y: [ 1  1  1  1  1  1  1  1  1  1  1  1  1  1  1  1  1  1  1  1  1  1  1  1\n",
            "  1  1  1  1  1  1  1  1  1  1  1  1  1  1  1  1  1  1  1  1  1  1  1  1\n",
            "  1  1  1  1  1  1  1  1  1  1  1  1  1  1  1  1  1  1  1  1  1  1  1  1\n",
            "  1  1  1  1  1  1  1  1  1  1  1  1  1  1  1  1  1  1  1  1  1  1  1  1\n",
            "  1  1  1  1  9  9  9  9  9  9  9  9  9  9  9  9  9  9  9  9  9  9  9  9\n",
            "  9  9  9  9  9  9  9  9  9  9  9  9  9  9  9  9  9  9  9  9  9  9  9  9\n",
            "  9  9  9  9  9  9  9  9  9  9  9  9  9  9  9  9  9  9  9  9  9  9  9  9\n",
            "  9  9  9  9  9  9  9  9  9  9  9  9  9  9  9  9  9  9  9  9  9  9  9  9\n",
            "  9  9  9  9  9  9  9  9  7  7  7  7  7  7  7  7  7  7  7  7  7  7  7  7\n",
            "  7  7  7  7  7  7  7  7  7  7  7  7  7  7  7  7  7  7  7  7  7  7  7  7\n",
            "  7  7  7  7  7  7  7  7  7  7  7  7  7  7  7  7  7  7  7  7  7  7  7  7\n",
            "  7  7  7  7  7  7  7  7  7  7  7  7  7  7  7  7  7  7  7  7  7  7  7  7\n",
            "  7  7  7  7  7  7  7  7  7  7  7  7  5  5  5  5  5  5  5  5  5  5  5  5\n",
            "  5  5  5  5  5  5  5  5  5  5  5  5  5  5  5  5  5  5  5  5  5  5  5  5\n",
            "  5  5  5  5  5  5  5  5  5  5  5  5  5  5  5  5  5  5  5  5  5  5  5  5\n",
            "  5  5  5  5  5  5  5  5  5  5  5  5  5  5  5  5  5  5  5  5  5  5  5  5\n",
            "  5  5  5  5  5  5  5  5  5  5  5  5  5  5  5  5  4  4  4  4  4  4  4  4\n",
            "  4  4  4  4  4  4  4  4  4  4  4  4  4  4  4  4  4  4  4  4  4  4  4  4\n",
            "  4  4  4  4  4  4  4  4  4  4  4  4  4  4  4  4  4  4  4  4  4  4  4  4\n",
            "  4  4  4  4  4  4  4  4  4  4  4  4  4  4  4  4  4  4  4  4  4  4  4  4\n",
            "  4  4  4  4  4  4  4  4  4  4  4  4  4  4  4  4  4  4  4  4  3  3  3  3\n",
            "  3  3  3  3  3  3  3  3  3  3  3  3  3  3  3  3  3  3  3  3  3  3  3  3\n",
            "  3  3  3  3  3  3  3  3  3  3  3  3  3  3  3  3  3  3  3  3  3  3  3  3\n",
            "  3  3  3  3  3  3  3  3  3  3  3  3  3  3  3  3  3  3  3  3  3  3  3  3\n",
            "  3  3  3  3  3  3  3  3  3  3  3  3  3  3  3  3  3  3  3  3  3  3  3  3\n",
            "  2  2  2  2  2  2  2  2  2  2  2  2  2  2  2  2  2  2  2  2  2  2  2  2\n",
            "  2  2  2  2  2  2  2  2  2  2  2  2  2  2  2  2  2  2  2  2  2  2  2  2\n",
            "  2  2  2  2  2  2  2  2  2  2  2  2  2  2  2  2  2  2  2  2  2  2  2  2\n",
            "  2  2  2  2  2  2  2  2  2  2  2  2  2  2  2  2  2  2  2  2  2  2  2  2\n",
            "  2  2  2  2 10 10 10 10 10 10 10 10 10 10 10 10 10 10 10 10 10 10 10 10\n",
            " 10 10 10 10 10 10 10 10 10 10 10 10 10 10 10 10 10 10 10 10 10 10 10 10\n",
            " 10 10 10 10 10 10 10 10 10 10 10 10 10 10 10 10 10 10 10 10 10 10 10 10\n",
            " 10 10 10 10 10 10 10 10 10 10 10 10 10 10 10 10 10 10 10 10 10 10 10 10\n",
            " 10 10 10 10 10 10 10 10  8  8  8  8  8  8  8  8  8  8  8  8  8  8  8  8\n",
            "  8  8  8  8  8  8  8  8  8  8  8  8  8  8  8  8  8  8  8  8  8  8  8  8\n",
            "  8  8  8  8  8  8  8  8  8  8  8  8  8  8  8  8  8  8  8  8  8  8  8  8\n",
            "  8  8  8  8  8  8  8  8  8  8  8  8  8  8  8  8  8  8  8  8  8  8  8  8\n",
            "  8  8  8  8  8  8  8  8  8  8  8  8  6  6  6  6  6  6  6  6  6  6  6  6\n",
            "  6  6  6  6  6  6  6  6  6  6  6  6  6  6  6  6  6  6  6  6  6  6  6  6\n",
            "  6  6  6  6  6  6  6  6  6  6  6  6  6  6  6  6  6  6  6  6  6  6  6  6\n",
            "  6  6  6  6  6  6  6  6  6  6  6  6  6  6  6  6  6  6  6  6  6  6  6  6\n",
            "  6  6  6  6  6  6  6  6  6  6  6  6  6  6  6  6]\n",
            "26 0\n",
            "\n",
            "x_train: \n",
            "[[ 4  9 19 ...  0  0  0]\n",
            " [20 21 19 ...  0  0  0]\n",
            " [13 15  3 ...  0  0  0]\n",
            " ...\n",
            " [ 6 21 12 ...  0  0  0]\n",
            " [14  1  7 ...  0  0  0]\n",
            " [13  5 14 ...  0  0  0]]\n",
            "\n",
            "y_train: \n",
            "[ 8 10 10  7  1  7  1  2  8  5  9  3  1  2 10  8  5  6  1  2 10  5 10  7\n",
            "  4  6  8  1  1  5  8  6  7  7  3  1  7  6  5  4  6  1  8  5  5 10 10  7\n",
            "  6  9  6  3  6  2  3  7  3 10  7  3  6 10  8  8  4  6 10  2  6  7  5  4\n",
            "  9  6 10  3  2  7  6 10  9  7  5  5  9  9  2  6  3  1  7  1  8  2  1 10\n",
            "  3  8  6 10  2  8  5  6  8  2  2  7  4  6  1  7  8  2  1  8 10  2  7  5\n",
            "  3  7  3  7  4  8  4  5  4 10  7  6  9  2  2  7  1  1  5  8  5  6  4  4\n",
            "  4  2  1  4 10  8  9  1  9  9  5  6  2  5  4  5 10  3  5  6  3  3  1  4\n",
            "  7  1  4  9  9  1  2  6  4  6  6  2  3  7  2  7  9  1  6  6  3  8  4  2\n",
            "  7 10  3  4  9  7  4  1  3  2  6  4  4  9  3  7  8  5  5  9  1  8 10  9\n",
            "  4  4  7  7  9  1  9  4  5 10  3  5  1  7  1  3 10  4  8  8 10  9  7  1\n",
            "  9  4  4  6  2  1  6 10  1  8  7  8  7  9  4 10  4  3  9  8  7 10  1  1\n",
            "  7  9  7  5  3 10  2  5 10  8  3  1  6 10  5  4  8  2  8  4  7  8  9  4\n",
            "  1  2  7  7  4  5  7  3  9  2  9  7  3  2  3  2  1  3  6  9  1  9  5  4\n",
            "  6  3  2  8  2  9  8  2  7 10  4  5  4  2  2  2 10  5  6 10 10  8  5  8\n",
            "  6 10  2  5  4  3  2  5  5  7  6  3  2  1  9  6  7  2  5 10 10  5 10 10\n",
            "  4  8  3  4  6  3  6  4  9  6  5  9  9  6  8  6  4  3  5  1  9  8  4 10\n",
            "  5  4  3  7  4  1  1 10  6  8 10 10  8  7  7  6  5  3  2  8  5  8 10  6\n",
            "  8  4  1 10  9  2  6  2  6  4  2  3  8 10  4  8 10  3  9  5  9  6 10  3\n",
            "  7  9  2  9  6  2  5  7  9  4  3  2  2  3  2  6  7  7  3  7  3  5  2  4\n",
            "  1  5  7  4  8 10  8  2  3 10 10  1  9  3  7 10  8  1  1  8  6 10  7  9\n",
            "  1 10  6  2  9  5 10  9 10 10]\n"
          ],
          "name": "stdout"
        }
      ]
    },
    {
      "cell_type": "markdown",
      "metadata": {
        "id": "LQEwk09b4PD_"
      },
      "source": [
        "---\n",
        "# **4. Build model**\n",
        "---"
      ]
    },
    {
      "cell_type": "code",
      "metadata": {
        "id": "tD18U_yE4SOA"
      },
      "source": [
        "def build_model(vocab_size, embedding_dim=64, input_length=30):\n",
        "    print('\\nbuilding the model...\\n')\n",
        "\n",
        "    model = tf.keras.Sequential([\n",
        "        tf.keras.layers.Embedding(input_dim=(vocab_size + 1), output_dim=embedding_dim, input_length=input_length),\n",
        "        \n",
        "        tf.keras.layers.Bidirectional(tf.keras.layers.LSTM(rnn_units,return_sequences=True, dropout=0.2)),\n",
        "        tf.keras.layers.Bidirectional(tf.keras.layers.LSTM(rnn_units,return_sequences=True, dropout=0.2)),\n",
        "        tf.keras.layers.GlobalMaxPool1D(),\n",
        "        tf.keras.layers.Dropout(0.1),\n",
        "        tf.keras.layers.Dense(64, activation='tanh'),\n",
        "        \n",
        "        # softmax output layer\n",
        "        tf.keras.layers.Dense(11, activation='softmax')\n",
        "    ])\n",
        "\n",
        "    # optimizer & loss\n",
        "    opt = 'RMSprop' #tf.optimizers.Adam(learning_rate=1e-4)\n",
        "    loss = 'categorical_crossentropy'\n",
        "\n",
        "    # Metrics\n",
        "    # AUC: Computes the approximate AUC (Area Under the Curve) via a Riemann sum.\n",
        "    # Precision: Computes the precision of the predictions with respect to the labels.\n",
        "    # Recall: Computes the recall of the predictions with respect to the labels.\n",
        "    metrics = ['accuracy', 'AUC','Precision', 'Recall']\n",
        "\n",
        "    # compile model\n",
        "    model.compile(optimizer=opt,\n",
        "                  loss=loss,\n",
        "                  metrics=metrics)\n",
        "    \n",
        "    model.summary()\n",
        "\n",
        "    return model"
      ],
      "execution_count": 21,
      "outputs": []
    },
    {
      "cell_type": "markdown",
      "metadata": {
        "id": "Zf048l554Uug"
      },
      "source": [
        "---\n",
        "# **6. Train model** \n",
        "---"
      ]
    },
    {
      "cell_type": "code",
      "metadata": {
        "id": "c-pVOZYb4T3T"
      },
      "source": [
        "def train(model, x_train, y_train, x_validation, y_validation,\n",
        "          epochs, batch_size=32, patience=5, \n",
        "          verbose=2, monitor_es='accuracy', mode_es='auto', restore=True,\n",
        "          monitor_mc='val_accuracy', mode_mc='max'):\n",
        "    \n",
        "    print('\\ntraining...\\n')\n",
        "\n",
        "    # callback\n",
        "    early_stopping = tf.keras.callbacks.EarlyStopping(monitor=monitor_es,\n",
        "                                                      verbose=1, mode=mode_es, restore_best_weights=restore,\n",
        "                                                      min_delta=1e-3, patience=patience)\n",
        "    \n",
        "    model_checkpoint = tf.keras.callbacks.ModelCheckpoint('tfjsmode.h5', monitor=monitor_mc, mode=mode_mc,      \n",
        "                                                          verbose=1, save_best_only=True)\n",
        "\n",
        "    # train model\n",
        "    history = model.fit(x_train, y_train,\n",
        "                        batch_size=batch_size, epochs=epochs, verbose=verbose,\n",
        "                        validation_data=(x_validation, y_validation),\n",
        "                        callbacks=[early_stopping, model_checkpoint])\n",
        "    return history"
      ],
      "execution_count": 22,
      "outputs": []
    },
    {
      "cell_type": "markdown",
      "metadata": {
        "id": "gy3DyM-b4XPg"
      },
      "source": [
        "---\n",
        "# **7. Plotting history**\n",
        "---"
      ]
    },
    {
      "cell_type": "code",
      "metadata": {
        "id": "ssFJ3CIe4YPn"
      },
      "source": [
        "def plot_history_(history):\n",
        "    fitModel_dict = history.history\n",
        "    acc = fitModel_dict['accuracy']\n",
        "    val_acc = fitModel_dict['val_accuracy']\n",
        "    epochs = range(1, len(acc) + 1)\n",
        "    \n",
        "    plt.figure(figsize=(10, 6))\n",
        "    plt.plot(epochs, acc, 'bo', label = 'Training acc')\n",
        "    plt.plot(epochs, val_acc, 'b', label = 'Validation acc')\n",
        "    plt.title('Training and validation accuracy')\n",
        "    plt.xlabel('Epochs')\n",
        "    plt.ylabel('Accuracy')\n",
        "    plt.legend(loc = 'lower right')\n",
        "    plt.ylim((0.5, 1))\n",
        "\n",
        "    plt.show()\n",
        "\n",
        "def plot_history(history, string):\n",
        "    fitModel_dict = history.history\n",
        "\n",
        "    plt.figure(figsize=(10, 6))\n",
        "    plt.plot(fitModel_dict[string])\n",
        "    plt.plot(fitModel_dict['val_' + string])\n",
        "    plt.xlabel('Epochs')\n",
        "    plt.ylabel(string)\n",
        "    plt.legend([string, 'val_' + string])\n",
        "    plt.show()"
      ],
      "execution_count": 23,
      "outputs": []
    },
    {
      "cell_type": "markdown",
      "metadata": {
        "id": "oScqNNBXsL7Y"
      },
      "source": [
        "---\n",
        "# **8. Prediction**\n",
        "---"
      ]
    },
    {
      "cell_type": "code",
      "metadata": {
        "id": "ekhWVsv7sK7z"
      },
      "source": [
        "def predict(d : dict, s : str, model):\n",
        "    token = preprocess(s)\n",
        "    output = model.predict(np.array([token]))\n",
        "    id = int(tf.keras.backend.argmax(output))\n",
        "    print(output)\n",
        "\n",
        "    for k, v in d.items():\n",
        "        if v == id:\n",
        "            return k\n",
        "            \n",
        "    return 'unclassified'"
      ],
      "execution_count": 24,
      "outputs": []
    },
    {
      "cell_type": "markdown",
      "metadata": {
        "id": "9FN5osTo4aC4"
      },
      "source": [
        "---\n",
        "# **9. Main**\n",
        "---"
      ]
    },
    {
      "cell_type": "code",
      "metadata": {
        "id": "DAb369Lh4ajo"
      },
      "source": [
        "def main():\n",
        "    # prepare the dataset\n",
        "    (x_train, y_train), (x_validation, y_validation), (x_test, y_test) = prepare_dataset(label_dict)\n",
        "    print(x_train.shape, x_validation.shape, x_test.shape)\n",
        "    print(y_train.shape, y_validation.shape, x_test.shape)\n",
        "    print(y_train)\n",
        "\n",
        "    # build the model\n",
        "    model = build_model()\n",
        "\n",
        "    # train the model\n",
        "    history = train(model=model, x_train=x_train, y_train=to_categorical(y_train),\n",
        "                    x_validation=x_validation, y_validation=to_categorical(y_validation),\n",
        "                    epochs=EPOCHS, verbose=1, monitor='accuracy')\n",
        "\n",
        "    # plot the training\n",
        "    plot_history_(history)\n",
        "\n",
        "    plot_history(history, 'accuracy')\n",
        "\n",
        "    # evaluate the model\n",
        "    test_loss, test_accuracy = model.evaluate(x_test, y_test)\n",
        "    evaluate_lst = list(map(lambda x: x * 100, [test_loss, test_accuracy]))\n",
        "    print('\\nTest:\\nLoss: {}\\nAccuracy: {}').format(evaluate_lst[0], evaluate_lst[1])\n",
        "\n",
        "    # predict\n",
        "    s = 'happy'\n",
        "    pred = predict(label_dict, s, model)\n",
        "    print('Word: {}'.format(s))\n",
        "    print('Prediction: {}'.format(pred))\n",
        "\n",
        "    # save the model\n",
        "    !mkdir models\n",
        "    model.save(MODEL_PATH)\n",
        "\n",
        "    # convert modeljs\n",
        "    tfjs.converters.save_keras_model(model, 'tfjsmodel') "
      ],
      "execution_count": 25,
      "outputs": []
    },
    {
      "cell_type": "markdown",
      "metadata": {
        "id": "02Lry1jA4b4w"
      },
      "source": [
        "---\n",
        "# **10. testing**\n",
        "---"
      ]
    },
    {
      "cell_type": "code",
      "metadata": {
        "id": "j1BALgvxi3_U",
        "outputId": "b76ca254-1d85-408e-f384-4a1f1b4566f2",
        "colab": {
          "base_uri": "https://localhost:8080/"
        }
      },
      "source": [
        "# prepare the dataset\n",
        "(x_train, y_train), (x_validation, y_validation), (x_test, y_test), (x_test_val, y_test_val) = prepare_dataset(label_dict)\n",
        "print(x_train.shape, x_validation.shape, x_test.shape)\n",
        "print(y_train.shape, y_validation.shape, x_test.shape)\n",
        "print(y_train)\n",
        "\n",
        "# build the model\n",
        "model = build_model(vocab_size)"
      ],
      "execution_count": 26,
      "outputs": [
        {
          "output_type": "stream",
          "text": [
            "preparing the dataset...\n",
            "\n",
            "File ‘datasets/categories_dataset_1000.csv’ already there; not retrieving.\n",
            "\n",
            "   Arousal  Compound  Dominance  ... Valence   category          word\n",
            "0     0.55      0.30       0.74  ...    0.89  confident     tolerance\n",
            "1     0.55      0.00       0.74  ...    0.89  confident         carry\n",
            "2     0.55      0.42       0.74  ...    0.89  confident   tranquility\n",
            "3     0.55      0.00       0.74  ...    0.89  confident  socontagious\n",
            "4     0.55      0.00       0.74  ...    0.89  confident          zeal\n",
            "\n",
            "[5 rows x 12 columns]\n",
            "y: [ 1  1  1  1  1  1  1  1  1  1  1  1  1  1  1  1  1  1  1  1  1  1  1  1\n",
            "  1  1  1  1  1  1  1  1  1  1  1  1  1  1  1  1  1  1  1  1  1  1  1  1\n",
            "  1  1  1  1  1  1  1  1  1  1  1  1  1  1  1  1  1  1  1  1  1  1  1  1\n",
            "  1  1  1  1  1  1  1  1  1  1  1  1  1  1  1  1  1  1  1  1  1  1  1  1\n",
            "  1  1  1  1  9  9  9  9  9  9  9  9  9  9  9  9  9  9  9  9  9  9  9  9\n",
            "  9  9  9  9  9  9  9  9  9  9  9  9  9  9  9  9  9  9  9  9  9  9  9  9\n",
            "  9  9  9  9  9  9  9  9  9  9  9  9  9  9  9  9  9  9  9  9  9  9  9  9\n",
            "  9  9  9  9  9  9  9  9  9  9  9  9  9  9  9  9  9  9  9  9  9  9  9  9\n",
            "  9  9  9  9  9  9  9  9  7  7  7  7  7  7  7  7  7  7  7  7  7  7  7  7\n",
            "  7  7  7  7  7  7  7  7  7  7  7  7  7  7  7  7  7  7  7  7  7  7  7  7\n",
            "  7  7  7  7  7  7  7  7  7  7  7  7  7  7  7  7  7  7  7  7  7  7  7  7\n",
            "  7  7  7  7  7  7  7  7  7  7  7  7  7  7  7  7  7  7  7  7  7  7  7  7\n",
            "  7  7  7  7  7  7  7  7  7  7  7  7  5  5  5  5  5  5  5  5  5  5  5  5\n",
            "  5  5  5  5  5  5  5  5  5  5  5  5  5  5  5  5  5  5  5  5  5  5  5  5\n",
            "  5  5  5  5  5  5  5  5  5  5  5  5  5  5  5  5  5  5  5  5  5  5  5  5\n",
            "  5  5  5  5  5  5  5  5  5  5  5  5  5  5  5  5  5  5  5  5  5  5  5  5\n",
            "  5  5  5  5  5  5  5  5  5  5  5  5  5  5  5  5  4  4  4  4  4  4  4  4\n",
            "  4  4  4  4  4  4  4  4  4  4  4  4  4  4  4  4  4  4  4  4  4  4  4  4\n",
            "  4  4  4  4  4  4  4  4  4  4  4  4  4  4  4  4  4  4  4  4  4  4  4  4\n",
            "  4  4  4  4  4  4  4  4  4  4  4  4  4  4  4  4  4  4  4  4  4  4  4  4\n",
            "  4  4  4  4  4  4  4  4  4  4  4  4  4  4  4  4  4  4  4  4  3  3  3  3\n",
            "  3  3  3  3  3  3  3  3  3  3  3  3  3  3  3  3  3  3  3  3  3  3  3  3\n",
            "  3  3  3  3  3  3  3  3  3  3  3  3  3  3  3  3  3  3  3  3  3  3  3  3\n",
            "  3  3  3  3  3  3  3  3  3  3  3  3  3  3  3  3  3  3  3  3  3  3  3  3\n",
            "  3  3  3  3  3  3  3  3  3  3  3  3  3  3  3  3  3  3  3  3  3  3  3  3\n",
            "  2  2  2  2  2  2  2  2  2  2  2  2  2  2  2  2  2  2  2  2  2  2  2  2\n",
            "  2  2  2  2  2  2  2  2  2  2  2  2  2  2  2  2  2  2  2  2  2  2  2  2\n",
            "  2  2  2  2  2  2  2  2  2  2  2  2  2  2  2  2  2  2  2  2  2  2  2  2\n",
            "  2  2  2  2  2  2  2  2  2  2  2  2  2  2  2  2  2  2  2  2  2  2  2  2\n",
            "  2  2  2  2 10 10 10 10 10 10 10 10 10 10 10 10 10 10 10 10 10 10 10 10\n",
            " 10 10 10 10 10 10 10 10 10 10 10 10 10 10 10 10 10 10 10 10 10 10 10 10\n",
            " 10 10 10 10 10 10 10 10 10 10 10 10 10 10 10 10 10 10 10 10 10 10 10 10\n",
            " 10 10 10 10 10 10 10 10 10 10 10 10 10 10 10 10 10 10 10 10 10 10 10 10\n",
            " 10 10 10 10 10 10 10 10  8  8  8  8  8  8  8  8  8  8  8  8  8  8  8  8\n",
            "  8  8  8  8  8  8  8  8  8  8  8  8  8  8  8  8  8  8  8  8  8  8  8  8\n",
            "  8  8  8  8  8  8  8  8  8  8  8  8  8  8  8  8  8  8  8  8  8  8  8  8\n",
            "  8  8  8  8  8  8  8  8  8  8  8  8  8  8  8  8  8  8  8  8  8  8  8  8\n",
            "  8  8  8  8  8  8  8  8  8  8  8  8  6  6  6  6  6  6  6  6  6  6  6  6\n",
            "  6  6  6  6  6  6  6  6  6  6  6  6  6  6  6  6  6  6  6  6  6  6  6  6\n",
            "  6  6  6  6  6  6  6  6  6  6  6  6  6  6  6  6  6  6  6  6  6  6  6  6\n",
            "  6  6  6  6  6  6  6  6  6  6  6  6  6  6  6  6  6  6  6  6  6  6  6  6\n",
            "  6  6  6  6  6  6  6  6  6  6  6  6  6  6  6  6]\n",
            "26 0\n",
            "\n",
            "x_train: \n",
            "[[ 6 15 12 ...  0  0  0]\n",
            " [14  9 16 ...  0  0  0]\n",
            " [ 9 18 18 ...  0  0  0]\n",
            " ...\n",
            " [ 8  9  7 ...  0  0  0]\n",
            " [16 15 19 ...  0  0  0]\n",
            " [12 15  1 ...  0  0  0]]\n",
            "\n",
            "y_train: \n",
            "[ 1  6  8  1  1  8  6  8  4  1  8  4  1  6  8  6  4  8 10  8  5  1  4  9\n",
            "  1  3  6 10  1  3  4  6  7  8 10  4  5  1  1  3 10 10  9 10  6  8  3  2\n",
            "  5  5  4  8 10  7  4  6 10  2 10  7  7  9 10  9  6  7  9  1  2  1  1  9\n",
            "  2  9  5  2  2  2  5  2  5  1  3  3  4  3 10  8 10  6  8  1 10  2  4  6\n",
            " 10  5  2  1  7 10  7  9  2  7  6  4  9  1  2  4  2  8  7  7  1  1  1  1\n",
            "  5  8  8  9  1  3 10  1  9  8  2  2  4  2  8  6 10  2  1  1  9 10  8  3\n",
            "  9  4  5  9  6 10  9  9  7  9  2 10  7  5 10  4  4  4 10  1  6  5  1  5\n",
            "  5  3 10  3  6  7  9  9  7  4  3  9  4  4  7  7  6  1  6  8  8  9  5  8\n",
            " 10  9 10 10  4 10  6  3  2  4  3  6  4  7  7  8  3  2  5  9  3  2  3  4\n",
            "  1  8  4  2  7  3  1  6  4  1  9  9  8  5  4  7  3  2  4  5  8  9  7  5\n",
            "  1  7 10  7  3  6  3  9 10 10  1  6  7  7  5  6  8  8  6  5  1  3  4  4\n",
            "  9  6  4  2  1 10  7  5  7  5  4  4  5 10 10  5  4  3  6 10  7  8  5  3\n",
            " 10  4  2  3  1  6  7  1  8  6  6  3  8  9  7  9  1  3  6  7  2  4  4  5\n",
            "  7 10  1  4  1  7  2  6  1  7  3  3  5  3  5  3 10  9  2  6  6  8  2 10\n",
            "  7  1  6  4  9  4  1  8  4  5  6  4  7  7  6  1  3  6  5  2  4  2  3  8\n",
            " 10  4  5  5  7  8  6  2  5  4  3  6  2  2  5  7  5  2  6  9  2  8  5  1\n",
            "  2  5  1  1  1  9  2  9  6  2  8 10  1  8 10  2  5  7  3  4  5  5  8  3\n",
            "  8  6  4  7  3  5  9  6  7  8 10  8  8  5  6 10  2  5  7  2  6  6  1  6\n",
            "  5 10  2  1  7  6  4  3  8  2  1  4  6  5  3  8  2  2  1  8  2  7  8  1\n",
            "  8 10  2  9  5  3  3  1  8  1  5 10  5  7  1  6  7  8  2  7  3  1  3  3\n",
            "  1 10  3  1  5  3  6  6  7  6]\n",
            "(700, 30) (210, 30) (300, 30)\n",
            "(700,) (210,) (300, 30)\n",
            "[ 8  9  9 10  4  6  4  1  7 10  5  6  6  9  2 10  7  7  8  4  9  2  2  4\n",
            "  8  9  7  3  7  3  9  2  4  2  5  7  2  4  9 10  8  5  4 10  9  4  5  6\n",
            "  2  5  6  4  6  6  7  1  2  3  7  1  7  8  2  8  8  1  8  4  2  7 10  4\n",
            "  5  8  1  3  4  9  3  8  4  1 10  6  5  6  8 10  9  5  3  4  1  6  9  6\n",
            "  9  1  6  3  6  5  5  9  7  1  5  5  6  8  5  4  3  2 10 10  8  5  1  4\n",
            "  5  7  5  7  6  6  1  1  5  8  1 10  1  9  7  9  6  2  2  3  8  3  3  2\n",
            "  2  4  3  7  3  8  2  7  8  4  8  5  3 10  7  9  5  8  1  9  3  5  8  1\n",
            "  8  8  2  1  3  4  9  5  4  8  3  2  9  8  2  1  2  5  6  9  4  1  3  4\n",
            "  3  7  4  9  6  7  1  8  7  9  7  9  3  2  9  5  3  6 10  8  5  2  6  3\n",
            " 10  6 10  6  6  7  2  5  3  7  5  4  7  5  1  1  8  2  7  8  3  6  2  2\n",
            "  9  5  4  8  7  8  2 10  7  2  5  4  5  5  1  3 10  1  4 10  2  3  6  7\n",
            "  4  4  5  5  2  7  5  6 10  6  6  7  4  6  9  5  8 10  3  1  8  8  3  4\n",
            " 10  2  1 10  7  6  7  8  2 10  2  4  8  1  1  9 10  2  4  3  9 10  2  5\n",
            "  9  5  2  6  2  7  6  9  9  2  1  9 10  4  8  7 10  1  6  9  3  5  7  7\n",
            "  7  1  8  6  6  3  5  4  3  4  6  6  7  8  3  9  6  8  6  7 10  6  3  5\n",
            "  9  1  6  3  4  6  9  2  7  5  1  9  4  3  8  8  9  5  7  1  1  1 10  2\n",
            "  9  5  5  9  8  3  1  7  2  7  6  8  7 10  3  7  4  9  2  6  5  3  2  9\n",
            "  5  8  1  8  5 10  7  9  1  4  3  7  2  7  5  8  5  4  4  4  3  6 10  8\n",
            "  5  7  7  8  8  7  2  9  7  2  3  4 10  8  7  5  1  8  4  8  8 10  4  2\n",
            "  7  1  5  3  9  3  4  3 10  9  2  8  2  6  6  6  3  9  6 10 10  8  9  3\n",
            "  7  1  8  3  5  5  9  9  8  1  7  1  8  4  2  4  2  1 10  2  8 10  5 10\n",
            "  3  5 10  6  2  3  7 10  8  6  6  8  3  4  5  1  2  8 10 10 10  6  9  9\n",
            "  7 10  1  6  6  5  6  3  8  4 10  6  6  4  2 10  2 10  6  1  1  2  7  6\n",
            "  6  8  5 10 10  1 10  4  1  8  5  9  5  1  6  9  2  1  7  2  2  8  1  2\n",
            "  5 10  1  1  9  8  1  3  3  8  4 10  5  5 10  3  2  4  8  7  1  1  6  3\n",
            "  6  4  7  9  8  4  1  7  9  1  1 10  9  2  2  1  5  2  2  1  5  8  9  6\n",
            "  8  1  8  3  1  9  4  9  5  8  7  9  1  9  8  2  7  9  3  6  1  9  9  9\n",
            "  8  2  9  4 10  1  1  3  8 10  5  4  1  4  9 10 10  3  1 10  6  6  3  4\n",
            "  9  3  4  4  1  7  2  3  4  8 10  6  9  5  6  7  3  6  2  9  3  7 10  7\n",
            " 10 10  3  8]\n",
            "\n",
            "building the model...\n",
            "\n",
            "Model: \"sequential\"\n",
            "_________________________________________________________________\n",
            "Layer (type)                 Output Shape              Param #   \n",
            "=================================================================\n",
            "embedding (Embedding)        (None, 30, 64)            320064    \n",
            "_________________________________________________________________\n",
            "bidirectional (Bidirectional (None, 30, 128)           66048     \n",
            "_________________________________________________________________\n",
            "bidirectional_1 (Bidirection (None, 30, 128)           98816     \n",
            "_________________________________________________________________\n",
            "global_max_pooling1d (Global (None, 128)               0         \n",
            "_________________________________________________________________\n",
            "dropout (Dropout)            (None, 128)               0         \n",
            "_________________________________________________________________\n",
            "dense (Dense)                (None, 64)                8256      \n",
            "_________________________________________________________________\n",
            "dense_1 (Dense)              (None, 11)                715       \n",
            "=================================================================\n",
            "Total params: 493,899\n",
            "Trainable params: 493,899\n",
            "Non-trainable params: 0\n",
            "_________________________________________________________________\n"
          ],
          "name": "stdout"
        }
      ]
    },
    {
      "cell_type": "code",
      "metadata": {
        "id": "XS_cMXislcAr",
        "outputId": "c3287245-9e44-4a4d-83a9-f178570018b1",
        "colab": {
          "base_uri": "https://localhost:8080/"
        }
      },
      "source": [
        "# train the model\n",
        "history = train(model=model, x_train=x_train, y_train=to_categorical(y_train), batch_size=BATCH_SIZE,\n",
        "                x_validation=x_validation, y_validation=to_categorical(y_validation),\n",
        "                epochs=EPOCHS, verbose=1, monitor_es='val_loss', mode_es='min', restore=False)"
      ],
      "execution_count": 27,
      "outputs": [
        {
          "output_type": "stream",
          "text": [
            "\n",
            "training...\n",
            "\n",
            "Epoch 1/200\n",
            "21/22 [===========================>..] - ETA: 0s - loss: 2.3609 - accuracy: 0.0833 - auc: 0.5396 - precision: 0.0000e+00 - recall: 0.0000e+00\n",
            "Epoch 00001: val_accuracy improved from -inf to 0.14286, saving model to tfjsmode.h5\n",
            "22/22 [==============================] - 2s 78ms/step - loss: 2.3586 - accuracy: 0.0900 - auc: 0.5415 - precision: 0.0000e+00 - recall: 0.0000e+00 - val_loss: 2.3018 - val_accuracy: 0.1429 - val_auc: 0.5999 - val_precision: 0.0000e+00 - val_recall: 0.0000e+00\n",
            "Epoch 2/200\n",
            "21/22 [===========================>..] - ETA: 0s - loss: 2.3184 - accuracy: 0.1190 - auc: 0.5681 - precision: 0.0000e+00 - recall: 0.0000e+00\n",
            "Epoch 00002: val_accuracy did not improve from 0.14286\n",
            "22/22 [==============================] - 0s 15ms/step - loss: 2.3211 - accuracy: 0.1143 - auc: 0.5636 - precision: 0.0000e+00 - recall: 0.0000e+00 - val_loss: 2.2981 - val_accuracy: 0.1095 - val_auc: 0.6071 - val_precision: 0.0000e+00 - val_recall: 0.0000e+00\n",
            "Epoch 3/200\n",
            "21/22 [===========================>..] - ETA: 0s - loss: 2.1939 - accuracy: 0.1815 - auc: 0.6679 - precision: 0.0000e+00 - recall: 0.0000e+00\n",
            "Epoch 00003: val_accuracy improved from 0.14286 to 0.22381, saving model to tfjsmode.h5\n",
            "22/22 [==============================] - 0s 18ms/step - loss: 2.1933 - accuracy: 0.1800 - auc: 0.6685 - precision: 0.0000e+00 - recall: 0.0000e+00 - val_loss: 2.0698 - val_accuracy: 0.2238 - val_auc: 0.7224 - val_precision: 0.0000e+00 - val_recall: 0.0000e+00\n",
            "Epoch 4/200\n",
            "21/22 [===========================>..] - ETA: 0s - loss: 2.0687 - accuracy: 0.2083 - auc: 0.7220 - precision: 0.6000 - recall: 0.0134\n",
            "Epoch 00004: val_accuracy did not improve from 0.22381\n",
            "22/22 [==============================] - 0s 16ms/step - loss: 2.0713 - accuracy: 0.2071 - auc: 0.7208 - precision: 0.6000 - recall: 0.0129 - val_loss: 2.0398 - val_accuracy: 0.2143 - val_auc: 0.7471 - val_precision: 0.4872 - val_recall: 0.0905\n",
            "Epoch 5/200\n",
            "21/22 [===========================>..] - ETA: 0s - loss: 2.0230 - accuracy: 0.2024 - auc: 0.7396 - precision: 0.3125 - recall: 0.0074\n",
            "Epoch 00005: val_accuracy improved from 0.22381 to 0.28095, saving model to tfjsmode.h5\n",
            "22/22 [==============================] - 0s 18ms/step - loss: 2.0250 - accuracy: 0.2014 - auc: 0.7383 - precision: 0.3684 - recall: 0.0100 - val_loss: 1.9525 - val_accuracy: 0.2810 - val_auc: 0.7752 - val_precision: 0.6667 - val_recall: 0.0190\n",
            "Epoch 6/200\n",
            "21/22 [===========================>..] - ETA: 0s - loss: 2.0239 - accuracy: 0.2054 - auc: 0.7403 - precision: 0.5000 - recall: 0.0074\n",
            "Epoch 00006: val_accuracy did not improve from 0.28095\n",
            "22/22 [==============================] - 0s 15ms/step - loss: 2.0236 - accuracy: 0.2086 - auc: 0.7392 - precision: 0.6154 - recall: 0.0114 - val_loss: 1.9342 - val_accuracy: 0.2524 - val_auc: 0.7863 - val_precision: 0.6154 - val_recall: 0.0381\n",
            "Epoch 7/200\n",
            "21/22 [===========================>..] - ETA: 0s - loss: 1.9743 - accuracy: 0.2336 - auc: 0.7578 - precision: 0.4667 - recall: 0.0208\n",
            "Epoch 00007: val_accuracy did not improve from 0.28095\n",
            "22/22 [==============================] - 0s 15ms/step - loss: 1.9688 - accuracy: 0.2371 - auc: 0.7600 - precision: 0.4722 - recall: 0.0243 - val_loss: 1.9173 - val_accuracy: 0.2238 - val_auc: 0.7822 - val_precision: 1.0000 - val_recall: 0.0048\n",
            "Epoch 8/200\n",
            "21/22 [===========================>..] - ETA: 0s - loss: 1.9532 - accuracy: 0.2128 - auc: 0.7664 - precision: 0.4706 - recall: 0.0238\n",
            "Epoch 00008: val_accuracy did not improve from 0.28095\n",
            "22/22 [==============================] - 0s 16ms/step - loss: 1.9540 - accuracy: 0.2129 - auc: 0.7662 - precision: 0.4706 - recall: 0.0229 - val_loss: 1.8683 - val_accuracy: 0.2429 - val_auc: 0.8086 - val_precision: 0.0000e+00 - val_recall: 0.0000e+00\n",
            "Epoch 9/200\n",
            "21/22 [===========================>..] - ETA: 0s - loss: 1.9407 - accuracy: 0.2143 - auc: 0.7727 - precision: 0.4667 - recall: 0.0104\n",
            "Epoch 00009: val_accuracy improved from 0.28095 to 0.29524, saving model to tfjsmode.h5\n",
            "22/22 [==============================] - 0s 17ms/step - loss: 1.9418 - accuracy: 0.2143 - auc: 0.7723 - precision: 0.4667 - recall: 0.0100 - val_loss: 1.8575 - val_accuracy: 0.2952 - val_auc: 0.8030 - val_precision: 0.5000 - val_recall: 0.0048\n",
            "Epoch 10/200\n",
            "21/22 [===========================>..] - ETA: 0s - loss: 1.9060 - accuracy: 0.2411 - auc: 0.7832 - precision: 0.4545 - recall: 0.0149\n",
            "Epoch 00010: val_accuracy did not improve from 0.29524\n",
            "22/22 [==============================] - 0s 16ms/step - loss: 1.9064 - accuracy: 0.2400 - auc: 0.7832 - precision: 0.4545 - recall: 0.0143 - val_loss: 1.7866 - val_accuracy: 0.2810 - val_auc: 0.8232 - val_precision: 0.8750 - val_recall: 0.0333\n",
            "Epoch 11/200\n",
            "21/22 [===========================>..] - ETA: 0s - loss: 1.8920 - accuracy: 0.2545 - auc: 0.7885 - precision: 0.4516 - recall: 0.0208\n",
            "Epoch 00011: val_accuracy improved from 0.29524 to 0.30476, saving model to tfjsmode.h5\n",
            "22/22 [==============================] - 0s 18ms/step - loss: 1.8950 - accuracy: 0.2529 - auc: 0.7868 - precision: 0.4516 - recall: 0.0200 - val_loss: 1.7676 - val_accuracy: 0.3048 - val_auc: 0.8333 - val_precision: 0.0000e+00 - val_recall: 0.0000e+00\n",
            "Epoch 12/200\n",
            "21/22 [===========================>..] - ETA: 0s - loss: 1.8495 - accuracy: 0.2634 - auc: 0.8023 - precision: 0.4483 - recall: 0.0193\n",
            "Epoch 00012: val_accuracy did not improve from 0.30476\n",
            "22/22 [==============================] - 0s 15ms/step - loss: 1.8508 - accuracy: 0.2600 - auc: 0.8024 - precision: 0.4483 - recall: 0.0186 - val_loss: 1.8356 - val_accuracy: 0.3048 - val_auc: 0.8159 - val_precision: 0.0000e+00 - val_recall: 0.0000e+00\n",
            "Epoch 13/200\n",
            "21/22 [===========================>..] - ETA: 0s - loss: 1.8071 - accuracy: 0.2708 - auc: 0.8158 - precision: 0.5588 - recall: 0.0283\n",
            "Epoch 00013: val_accuracy did not improve from 0.30476\n",
            "22/22 [==============================] - 0s 16ms/step - loss: 1.8055 - accuracy: 0.2700 - auc: 0.8160 - precision: 0.5676 - recall: 0.0300 - val_loss: 1.6838 - val_accuracy: 0.2905 - val_auc: 0.8549 - val_precision: 0.5714 - val_recall: 0.0571\n",
            "Epoch 14/200\n",
            "21/22 [===========================>..] - ETA: 0s - loss: 1.7673 - accuracy: 0.2872 - auc: 0.8264 - precision: 0.6098 - recall: 0.0372\n",
            "Epoch 00014: val_accuracy improved from 0.30476 to 0.35714, saving model to tfjsmode.h5\n",
            "22/22 [==============================] - 0s 18ms/step - loss: 1.7699 - accuracy: 0.2843 - auc: 0.8258 - precision: 0.5952 - recall: 0.0357 - val_loss: 1.6563 - val_accuracy: 0.3571 - val_auc: 0.8636 - val_precision: 0.0000e+00 - val_recall: 0.0000e+00\n",
            "Epoch 15/200\n",
            "21/22 [===========================>..] - ETA: 0s - loss: 1.7355 - accuracy: 0.2991 - auc: 0.8351 - precision: 0.4138 - recall: 0.0179\n",
            "Epoch 00015: val_accuracy did not improve from 0.35714\n",
            "22/22 [==============================] - 0s 15ms/step - loss: 1.7360 - accuracy: 0.3014 - auc: 0.8347 - precision: 0.4333 - recall: 0.0186 - val_loss: 1.7446 - val_accuracy: 0.2952 - val_auc: 0.8327 - val_precision: 0.4762 - val_recall: 0.0952\n",
            "Epoch 16/200\n",
            "21/22 [===========================>..] - ETA: 0s - loss: 1.7227 - accuracy: 0.3095 - auc: 0.8373 - precision: 0.5385 - recall: 0.0417\n",
            "Epoch 00016: val_accuracy did not improve from 0.35714\n",
            "22/22 [==============================] - 0s 16ms/step - loss: 1.7205 - accuracy: 0.3071 - auc: 0.8378 - precision: 0.5472 - recall: 0.0414 - val_loss: 1.6211 - val_accuracy: 0.3429 - val_auc: 0.8640 - val_precision: 0.6316 - val_recall: 0.0571\n",
            "Epoch 17/200\n",
            "21/22 [===========================>..] - ETA: 0s - loss: 1.6862 - accuracy: 0.3036 - auc: 0.8439 - precision: 0.6000 - recall: 0.0491\n",
            "Epoch 00017: val_accuracy did not improve from 0.35714\n",
            "22/22 [==============================] - 0s 16ms/step - loss: 1.6848 - accuracy: 0.3057 - auc: 0.8444 - precision: 0.6071 - recall: 0.0486 - val_loss: 1.6022 - val_accuracy: 0.3095 - val_auc: 0.8656 - val_precision: 0.7273 - val_recall: 0.0381\n",
            "Epoch 18/200\n",
            "21/22 [===========================>..] - ETA: 0s - loss: 1.6623 - accuracy: 0.3080 - auc: 0.8502 - precision: 0.5455 - recall: 0.0446\n",
            "Epoch 00018: val_accuracy did not improve from 0.35714\n",
            "22/22 [==============================] - 0s 16ms/step - loss: 1.6582 - accuracy: 0.3129 - auc: 0.8511 - precision: 0.5614 - recall: 0.0457 - val_loss: 1.6247 - val_accuracy: 0.3524 - val_auc: 0.8589 - val_precision: 1.0000 - val_recall: 0.0190\n",
            "Epoch 19/200\n",
            "21/22 [===========================>..] - ETA: 0s - loss: 1.6299 - accuracy: 0.3408 - auc: 0.8579 - precision: 0.5574 - recall: 0.0506\n",
            "Epoch 00019: val_accuracy improved from 0.35714 to 0.38571, saving model to tfjsmode.h5\n",
            "22/22 [==============================] - 0s 17ms/step - loss: 1.6335 - accuracy: 0.3357 - auc: 0.8566 - precision: 0.5758 - recall: 0.0543 - val_loss: 1.5881 - val_accuracy: 0.3857 - val_auc: 0.8679 - val_precision: 0.7778 - val_recall: 0.0333\n",
            "Epoch 20/200\n",
            "21/22 [===========================>..] - ETA: 0s - loss: 1.6539 - accuracy: 0.3155 - auc: 0.8516 - precision: 0.4808 - recall: 0.0372\n",
            "Epoch 00020: val_accuracy did not improve from 0.38571\n",
            "22/22 [==============================] - 0s 15ms/step - loss: 1.6543 - accuracy: 0.3129 - auc: 0.8512 - precision: 0.4815 - recall: 0.0371 - val_loss: 1.5955 - val_accuracy: 0.3571 - val_auc: 0.8713 - val_precision: 0.0000e+00 - val_recall: 0.0000e+00\n",
            "Epoch 21/200\n",
            "21/22 [===========================>..] - ETA: 0s - loss: 1.6065 - accuracy: 0.3199 - auc: 0.8613 - precision: 0.6182 - recall: 0.0506\n",
            "Epoch 00021: val_accuracy did not improve from 0.38571\n",
            "22/22 [==============================] - 0s 16ms/step - loss: 1.6102 - accuracy: 0.3171 - auc: 0.8603 - precision: 0.6250 - recall: 0.0500 - val_loss: 1.5798 - val_accuracy: 0.3810 - val_auc: 0.8674 - val_precision: 0.6471 - val_recall: 0.0524\n",
            "Epoch 22/200\n",
            "21/22 [===========================>..] - ETA: 0s - loss: 1.6348 - accuracy: 0.3393 - auc: 0.8548 - precision: 0.5570 - recall: 0.0655\n",
            "Epoch 00022: val_accuracy did not improve from 0.38571\n",
            "22/22 [==============================] - 0s 16ms/step - loss: 1.6338 - accuracy: 0.3386 - auc: 0.8550 - precision: 0.5610 - recall: 0.0657 - val_loss: 1.5235 - val_accuracy: 0.3667 - val_auc: 0.8798 - val_precision: 0.6667 - val_recall: 0.0571\n",
            "Epoch 23/200\n",
            "21/22 [===========================>..] - ETA: 0s - loss: 1.5915 - accuracy: 0.3705 - auc: 0.8643 - precision: 0.5699 - recall: 0.0789\n",
            "Epoch 00023: val_accuracy did not improve from 0.38571\n",
            "22/22 [==============================] - 0s 15ms/step - loss: 1.5949 - accuracy: 0.3700 - auc: 0.8633 - precision: 0.5789 - recall: 0.0786 - val_loss: 1.5581 - val_accuracy: 0.3476 - val_auc: 0.8743 - val_precision: 0.5556 - val_recall: 0.0952\n",
            "Epoch 24/200\n",
            "21/22 [===========================>..] - ETA: 0s - loss: 1.5725 - accuracy: 0.3586 - auc: 0.8683 - precision: 0.5732 - recall: 0.0699\n",
            "Epoch 00024: val_accuracy did not improve from 0.38571\n",
            "22/22 [==============================] - 0s 16ms/step - loss: 1.5807 - accuracy: 0.3600 - auc: 0.8664 - precision: 0.5568 - recall: 0.0700 - val_loss: 1.5534 - val_accuracy: 0.3667 - val_auc: 0.8760 - val_precision: 1.0000 - val_recall: 0.0190\n",
            "Epoch 25/200\n",
            "21/22 [===========================>..] - ETA: 0s - loss: 1.5955 - accuracy: 0.3244 - auc: 0.8617 - precision: 0.6235 - recall: 0.0789\n",
            "Epoch 00025: val_accuracy improved from 0.38571 to 0.43333, saving model to tfjsmode.h5\n",
            "22/22 [==============================] - 0s 18ms/step - loss: 1.5987 - accuracy: 0.3200 - auc: 0.8612 - precision: 0.6279 - recall: 0.0771 - val_loss: 1.4944 - val_accuracy: 0.4333 - val_auc: 0.8864 - val_precision: 0.6667 - val_recall: 0.0381\n",
            "Epoch 26/200\n",
            "21/22 [===========================>..] - ETA: 0s - loss: 1.5656 - accuracy: 0.3482 - auc: 0.8695 - precision: 0.5980 - recall: 0.0908\n",
            "Epoch 00026: val_accuracy did not improve from 0.43333\n",
            "22/22 [==============================] - 0s 16ms/step - loss: 1.5730 - accuracy: 0.3443 - auc: 0.8680 - precision: 0.5922 - recall: 0.0871 - val_loss: 1.5141 - val_accuracy: 0.3667 - val_auc: 0.8803 - val_precision: 0.7407 - val_recall: 0.0952\n",
            "Epoch 27/200\n",
            "21/22 [===========================>..] - ETA: 0s - loss: 1.5493 - accuracy: 0.3542 - auc: 0.8727 - precision: 0.6321 - recall: 0.0997\n",
            "Epoch 00027: val_accuracy did not improve from 0.43333\n",
            "22/22 [==============================] - 0s 15ms/step - loss: 1.5465 - accuracy: 0.3571 - auc: 0.8732 - precision: 0.6316 - recall: 0.1029 - val_loss: 1.5485 - val_accuracy: 0.3381 - val_auc: 0.8738 - val_precision: 0.6176 - val_recall: 0.1000\n",
            "Epoch 28/200\n",
            "21/22 [===========================>..] - ETA: 0s - loss: 1.5625 - accuracy: 0.3318 - auc: 0.8693 - precision: 0.6160 - recall: 0.1146\n",
            "Epoch 00028: val_accuracy did not improve from 0.43333\n",
            "22/22 [==============================] - 0s 16ms/step - loss: 1.5612 - accuracy: 0.3343 - auc: 0.8700 - precision: 0.6077 - recall: 0.1129 - val_loss: 1.4547 - val_accuracy: 0.4048 - val_auc: 0.8933 - val_precision: 0.7241 - val_recall: 0.1000\n",
            "Epoch 29/200\n",
            "21/22 [===========================>..] - ETA: 0s - loss: 1.5237 - accuracy: 0.3676 - auc: 0.8774 - precision: 0.6449 - recall: 0.1027\n",
            "Epoch 00029: val_accuracy improved from 0.43333 to 0.48571, saving model to tfjsmode.h5\n",
            "22/22 [==============================] - 0s 17ms/step - loss: 1.5264 - accuracy: 0.3657 - auc: 0.8769 - precision: 0.6481 - recall: 0.1000 - val_loss: 1.4490 - val_accuracy: 0.4857 - val_auc: 0.8933 - val_precision: 0.8125 - val_recall: 0.1238\n",
            "Epoch 30/200\n",
            "21/22 [===========================>..] - ETA: 0s - loss: 1.5351 - accuracy: 0.3914 - auc: 0.8754 - precision: 0.6587 - recall: 0.1235\n",
            "Epoch 00030: val_accuracy did not improve from 0.48571\n",
            "22/22 [==============================] - 0s 17ms/step - loss: 1.5321 - accuracy: 0.3929 - auc: 0.8758 - precision: 0.6617 - recall: 0.1257 - val_loss: 1.4733 - val_accuracy: 0.4095 - val_auc: 0.8870 - val_precision: 0.7500 - val_recall: 0.1429\n",
            "Epoch 31/200\n",
            "21/22 [===========================>..] - ETA: 0s - loss: 1.5228 - accuracy: 0.3720 - auc: 0.8781 - precision: 0.6250 - recall: 0.1265\n",
            "Epoch 00031: val_accuracy did not improve from 0.48571\n",
            "22/22 [==============================] - 0s 16ms/step - loss: 1.5220 - accuracy: 0.3757 - auc: 0.8784 - precision: 0.6187 - recall: 0.1229 - val_loss: 1.4154 - val_accuracy: 0.4571 - val_auc: 0.8993 - val_precision: 0.7000 - val_recall: 0.1000\n",
            "Epoch 32/200\n",
            "21/22 [===========================>..] - ETA: 0s - loss: 1.4921 - accuracy: 0.3780 - auc: 0.8833 - precision: 0.6667 - recall: 0.1131\n",
            "Epoch 00032: val_accuracy did not improve from 0.48571\n",
            "22/22 [==============================] - 0s 15ms/step - loss: 1.4966 - accuracy: 0.3757 - auc: 0.8824 - precision: 0.6290 - recall: 0.1114 - val_loss: 1.4470 - val_accuracy: 0.4143 - val_auc: 0.8922 - val_precision: 0.7273 - val_recall: 0.1524\n",
            "Epoch 33/200\n",
            "21/22 [===========================>..] - ETA: 0s - loss: 1.4948 - accuracy: 0.4033 - auc: 0.8828 - precision: 0.6471 - recall: 0.1310\n",
            "Epoch 00033: val_accuracy did not improve from 0.48571\n",
            "22/22 [==============================] - 0s 16ms/step - loss: 1.4919 - accuracy: 0.4043 - auc: 0.8834 - precision: 0.6389 - recall: 0.1314 - val_loss: 1.3914 - val_accuracy: 0.4762 - val_auc: 0.9025 - val_precision: 0.7436 - val_recall: 0.1381\n",
            "Epoch 34/200\n",
            "21/22 [===========================>..] - ETA: 0s - loss: 1.4732 - accuracy: 0.4092 - auc: 0.8872 - precision: 0.6351 - recall: 0.1399\n",
            "Epoch 00034: val_accuracy did not improve from 0.48571\n",
            "22/22 [==============================] - 0s 16ms/step - loss: 1.4658 - accuracy: 0.4100 - auc: 0.8884 - precision: 0.6364 - recall: 0.1400 - val_loss: 1.4037 - val_accuracy: 0.4762 - val_auc: 0.8990 - val_precision: 0.7632 - val_recall: 0.1381\n",
            "Epoch 35/200\n",
            "21/22 [===========================>..] - ETA: 0s - loss: 1.4606 - accuracy: 0.4286 - auc: 0.8892 - precision: 0.6329 - recall: 0.1488\n",
            "Epoch 00035: val_accuracy did not improve from 0.48571\n",
            "22/22 [==============================] - 0s 16ms/step - loss: 1.4575 - accuracy: 0.4314 - auc: 0.8898 - precision: 0.6386 - recall: 0.1514 - val_loss: 1.4010 - val_accuracy: 0.4048 - val_auc: 0.8994 - val_precision: 0.7358 - val_recall: 0.1857\n",
            "Epoch 36/200\n",
            "21/22 [===========================>..] - ETA: 0s - loss: 1.4455 - accuracy: 0.4479 - auc: 0.8914 - precision: 0.6543 - recall: 0.1577\n",
            "Epoch 00036: val_accuracy improved from 0.48571 to 0.50000, saving model to tfjsmode.h5\n",
            "22/22 [==============================] - 0s 17ms/step - loss: 1.4415 - accuracy: 0.4486 - auc: 0.8921 - precision: 0.6412 - recall: 0.1557 - val_loss: 1.3684 - val_accuracy: 0.5000 - val_auc: 0.9050 - val_precision: 0.6765 - val_recall: 0.2190\n",
            "Epoch 37/200\n",
            "21/22 [===========================>..] - ETA: 0s - loss: 1.4317 - accuracy: 0.4628 - auc: 0.8940 - precision: 0.6383 - recall: 0.1786\n",
            "Epoch 00037: val_accuracy did not improve from 0.50000\n",
            "22/22 [==============================] - 0s 16ms/step - loss: 1.4221 - accuracy: 0.4686 - auc: 0.8957 - precision: 0.6443 - recall: 0.1786 - val_loss: 1.3731 - val_accuracy: 0.4571 - val_auc: 0.9020 - val_precision: 0.6923 - val_recall: 0.2143\n",
            "Epoch 38/200\n",
            "21/22 [===========================>..] - ETA: 0s - loss: 1.4365 - accuracy: 0.4256 - auc: 0.8929 - precision: 0.6154 - recall: 0.1548\n",
            "Epoch 00038: val_accuracy did not improve from 0.50000\n",
            "22/22 [==============================] - 0s 16ms/step - loss: 1.4371 - accuracy: 0.4243 - auc: 0.8928 - precision: 0.6105 - recall: 0.1500 - val_loss: 1.3945 - val_accuracy: 0.4762 - val_auc: 0.9011 - val_precision: 0.6341 - val_recall: 0.1238\n",
            "Epoch 39/200\n",
            "21/22 [===========================>..] - ETA: 0s - loss: 1.4148 - accuracy: 0.4360 - auc: 0.8970 - precision: 0.6358 - recall: 0.1533\n",
            "Epoch 00039: val_accuracy did not improve from 0.50000\n",
            "22/22 [==============================] - 0s 17ms/step - loss: 1.4079 - accuracy: 0.4357 - auc: 0.8981 - precision: 0.6395 - recall: 0.1571 - val_loss: 1.3062 - val_accuracy: 0.4857 - val_auc: 0.9136 - val_precision: 0.6667 - val_recall: 0.2095\n",
            "Epoch 40/200\n",
            "21/22 [===========================>..] - ETA: 0s - loss: 1.4146 - accuracy: 0.4122 - auc: 0.8966 - precision: 0.6630 - recall: 0.1815\n",
            "Epoch 00040: val_accuracy did not improve from 0.50000\n",
            "22/22 [==============================] - 0s 17ms/step - loss: 1.4077 - accuracy: 0.4171 - auc: 0.8978 - precision: 0.6546 - recall: 0.1814 - val_loss: 1.3302 - val_accuracy: 0.4905 - val_auc: 0.9107 - val_precision: 0.6667 - val_recall: 0.1905\n",
            "Epoch 41/200\n",
            "21/22 [===========================>..] - ETA: 0s - loss: 1.3762 - accuracy: 0.4375 - auc: 0.9032 - precision: 0.6316 - recall: 0.1786\n",
            "Epoch 00041: val_accuracy did not improve from 0.50000\n",
            "22/22 [==============================] - 0s 16ms/step - loss: 1.3776 - accuracy: 0.4400 - auc: 0.9029 - precision: 0.6327 - recall: 0.1771 - val_loss: 1.3560 - val_accuracy: 0.4714 - val_auc: 0.9055 - val_precision: 0.6567 - val_recall: 0.2095\n",
            "Epoch 42/200\n",
            "21/22 [===========================>..] - ETA: 0s - loss: 1.4145 - accuracy: 0.4241 - auc: 0.8966 - precision: 0.6158 - recall: 0.1741\n",
            "Epoch 00042: val_accuracy did not improve from 0.50000\n",
            "22/22 [==============================] - 0s 16ms/step - loss: 1.4072 - accuracy: 0.4243 - auc: 0.8977 - precision: 0.6181 - recall: 0.1757 - val_loss: 1.2837 - val_accuracy: 0.4857 - val_auc: 0.9176 - val_precision: 0.7414 - val_recall: 0.2048\n",
            "Epoch 43/200\n",
            "21/22 [===========================>..] - ETA: 0s - loss: 1.3911 - accuracy: 0.4479 - auc: 0.9009 - precision: 0.5931 - recall: 0.1801\n",
            "Epoch 00043: val_accuracy did not improve from 0.50000\n",
            "22/22 [==============================] - 0s 16ms/step - loss: 1.3974 - accuracy: 0.4443 - auc: 0.8997 - precision: 0.5924 - recall: 0.1786 - val_loss: 1.3286 - val_accuracy: 0.4952 - val_auc: 0.9103 - val_precision: 0.7000 - val_recall: 0.2333\n",
            "Epoch 44/200\n",
            "21/22 [===========================>..] - ETA: 0s - loss: 1.3310 - accuracy: 0.4762 - auc: 0.9093 - precision: 0.6732 - recall: 0.2054\n",
            "Epoch 00044: val_accuracy did not improve from 0.50000\n",
            "22/22 [==============================] - 0s 16ms/step - loss: 1.3362 - accuracy: 0.4743 - auc: 0.9085 - precision: 0.6714 - recall: 0.2043 - val_loss: 1.2838 - val_accuracy: 0.4857 - val_auc: 0.9165 - val_precision: 0.6282 - val_recall: 0.2333\n",
            "Epoch 45/200\n",
            "21/22 [===========================>..] - ETA: 0s - loss: 1.3659 - accuracy: 0.4435 - auc: 0.9046 - precision: 0.6154 - recall: 0.1905\n",
            "Epoch 00045: val_accuracy improved from 0.50000 to 0.55714, saving model to tfjsmode.h5\n",
            "22/22 [==============================] - 0s 18ms/step - loss: 1.3652 - accuracy: 0.4457 - auc: 0.9045 - precision: 0.6256 - recall: 0.1957 - val_loss: 1.2389 - val_accuracy: 0.5571 - val_auc: 0.9235 - val_precision: 0.7344 - val_recall: 0.2238\n",
            "Epoch 46/200\n",
            "21/22 [===========================>..] - ETA: 0s - loss: 1.3108 - accuracy: 0.4747 - auc: 0.9123 - precision: 0.6667 - recall: 0.2083\n",
            "Epoch 00046: val_accuracy did not improve from 0.55714\n",
            "22/22 [==============================] - 0s 17ms/step - loss: 1.3226 - accuracy: 0.4700 - auc: 0.9106 - precision: 0.6621 - recall: 0.2071 - val_loss: 1.2564 - val_accuracy: 0.4667 - val_auc: 0.9217 - val_precision: 0.7857 - val_recall: 0.2095\n",
            "Epoch 47/200\n",
            "21/22 [===========================>..] - ETA: 0s - loss: 1.3488 - accuracy: 0.4286 - auc: 0.9062 - precision: 0.6522 - recall: 0.2009\n",
            "Epoch 00047: val_accuracy did not improve from 0.55714\n",
            "22/22 [==============================] - 0s 17ms/step - loss: 1.3592 - accuracy: 0.4243 - auc: 0.9046 - precision: 0.6376 - recall: 0.1986 - val_loss: 1.2615 - val_accuracy: 0.4667 - val_auc: 0.9195 - val_precision: 0.7966 - val_recall: 0.2238\n",
            "Epoch 48/200\n",
            "21/22 [===========================>..] - ETA: 0s - loss: 1.3141 - accuracy: 0.4688 - auc: 0.9114 - precision: 0.6557 - recall: 0.2068\n",
            "Epoch 00048: val_accuracy did not improve from 0.55714\n",
            "22/22 [==============================] - 0s 16ms/step - loss: 1.3230 - accuracy: 0.4657 - auc: 0.9101 - precision: 0.6544 - recall: 0.2029 - val_loss: 1.2268 - val_accuracy: 0.5238 - val_auc: 0.9243 - val_precision: 0.7013 - val_recall: 0.2571\n",
            "Epoch 49/200\n",
            "21/22 [===========================>..] - ETA: 0s - loss: 1.3217 - accuracy: 0.4583 - auc: 0.9109 - precision: 0.6380 - recall: 0.2098\n",
            "Epoch 00049: val_accuracy did not improve from 0.55714\n",
            "22/22 [==============================] - 0s 17ms/step - loss: 1.3143 - accuracy: 0.4600 - auc: 0.9120 - precision: 0.6407 - recall: 0.2114 - val_loss: 1.1748 - val_accuracy: 0.5190 - val_auc: 0.9319 - val_precision: 0.7429 - val_recall: 0.2476\n",
            "Epoch 50/200\n",
            "21/22 [===========================>..] - ETA: 0s - loss: 1.2836 - accuracy: 0.4955 - auc: 0.9161 - precision: 0.6946 - recall: 0.2470\n",
            "Epoch 00050: val_accuracy improved from 0.55714 to 0.56667, saving model to tfjsmode.h5\n",
            "22/22 [==============================] - 0s 18ms/step - loss: 1.2909 - accuracy: 0.4900 - auc: 0.9150 - precision: 0.6948 - recall: 0.2471 - val_loss: 1.1795 - val_accuracy: 0.5667 - val_auc: 0.9318 - val_precision: 0.7500 - val_recall: 0.2286\n",
            "Epoch 51/200\n",
            "21/22 [===========================>..] - ETA: 0s - loss: 1.2774 - accuracy: 0.4821 - auc: 0.9171 - precision: 0.6927 - recall: 0.2247\n",
            "Epoch 00051: val_accuracy did not improve from 0.56667\n",
            "22/22 [==============================] - 0s 16ms/step - loss: 1.2876 - accuracy: 0.4757 - auc: 0.9155 - precision: 0.6951 - recall: 0.2214 - val_loss: 1.1596 - val_accuracy: 0.5286 - val_auc: 0.9344 - val_precision: 0.7833 - val_recall: 0.2238\n",
            "Epoch 52/200\n",
            "21/22 [===========================>..] - ETA: 0s - loss: 1.2804 - accuracy: 0.4926 - auc: 0.9171 - precision: 0.6851 - recall: 0.2396\n",
            "Epoch 00052: val_accuracy did not improve from 0.56667\n",
            "22/22 [==============================] - 0s 16ms/step - loss: 1.2838 - accuracy: 0.4886 - auc: 0.9166 - precision: 0.6803 - recall: 0.2371 - val_loss: 1.1625 - val_accuracy: 0.5333 - val_auc: 0.9335 - val_precision: 0.7206 - val_recall: 0.2333\n",
            "Epoch 53/200\n",
            "21/22 [===========================>..] - ETA: 0s - loss: 1.2462 - accuracy: 0.4866 - auc: 0.9209 - precision: 0.6958 - recall: 0.2485\n",
            "Epoch 00053: val_accuracy did not improve from 0.56667\n",
            "22/22 [==============================] - 0s 17ms/step - loss: 1.2645 - accuracy: 0.4829 - auc: 0.9182 - precision: 0.6935 - recall: 0.2457 - val_loss: 1.1505 - val_accuracy: 0.5238 - val_auc: 0.9359 - val_precision: 0.8125 - val_recall: 0.2476\n",
            "Epoch 54/200\n",
            "21/22 [===========================>..] - ETA: 0s - loss: 1.2609 - accuracy: 0.4732 - auc: 0.9190 - precision: 0.6522 - recall: 0.2232\n",
            "Epoch 00054: val_accuracy did not improve from 0.56667\n",
            "22/22 [==============================] - 0s 17ms/step - loss: 1.2644 - accuracy: 0.4714 - auc: 0.9184 - precision: 0.6527 - recall: 0.2229 - val_loss: 1.1522 - val_accuracy: 0.5286 - val_auc: 0.9347 - val_precision: 0.7375 - val_recall: 0.2810\n",
            "Epoch 55/200\n",
            "21/22 [===========================>..] - ETA: 0s - loss: 1.2362 - accuracy: 0.5060 - auc: 0.9228 - precision: 0.6908 - recall: 0.2693\n",
            "Epoch 00055: val_accuracy did not improve from 0.56667\n",
            "22/22 [==============================] - 0s 16ms/step - loss: 1.2404 - accuracy: 0.5043 - auc: 0.9222 - precision: 0.6861 - recall: 0.2686 - val_loss: 1.1225 - val_accuracy: 0.5286 - val_auc: 0.9396 - val_precision: 0.7879 - val_recall: 0.2476\n",
            "Epoch 56/200\n",
            "21/22 [===========================>..] - ETA: 0s - loss: 1.2697 - accuracy: 0.4613 - auc: 0.9175 - precision: 0.6529 - recall: 0.2351\n",
            "Epoch 00056: val_accuracy improved from 0.56667 to 0.58095, saving model to tfjsmode.h5\n",
            "22/22 [==============================] - 0s 19ms/step - loss: 1.2685 - accuracy: 0.4586 - auc: 0.9177 - precision: 0.6506 - recall: 0.2314 - val_loss: 1.1429 - val_accuracy: 0.5810 - val_auc: 0.9375 - val_precision: 0.7576 - val_recall: 0.2381\n",
            "Epoch 57/200\n",
            "21/22 [===========================>..] - ETA: 0s - loss: 1.2677 - accuracy: 0.4673 - auc: 0.9182 - precision: 0.6522 - recall: 0.2455\n",
            "Epoch 00057: val_accuracy did not improve from 0.58095\n",
            "22/22 [==============================] - 0s 16ms/step - loss: 1.2604 - accuracy: 0.4729 - auc: 0.9191 - precision: 0.6579 - recall: 0.2500 - val_loss: 1.0893 - val_accuracy: 0.5429 - val_auc: 0.9419 - val_precision: 0.7838 - val_recall: 0.2762\n",
            "Epoch 58/200\n",
            "21/22 [===========================>..] - ETA: 0s - loss: 1.2222 - accuracy: 0.4926 - auc: 0.9246 - precision: 0.6576 - recall: 0.2515\n",
            "Epoch 00058: val_accuracy did not improve from 0.58095\n",
            "22/22 [==============================] - 0s 17ms/step - loss: 1.2297 - accuracy: 0.4900 - auc: 0.9234 - precision: 0.6593 - recall: 0.2543 - val_loss: 1.0496 - val_accuracy: 0.5619 - val_auc: 0.9481 - val_precision: 0.8205 - val_recall: 0.3048\n",
            "Epoch 59/200\n",
            "21/22 [===========================>..] - ETA: 0s - loss: 1.2472 - accuracy: 0.4568 - auc: 0.9209 - precision: 0.6679 - recall: 0.2693\n",
            "Epoch 00059: val_accuracy did not improve from 0.58095\n",
            "22/22 [==============================] - 0s 16ms/step - loss: 1.2457 - accuracy: 0.4586 - auc: 0.9212 - precision: 0.6703 - recall: 0.2671 - val_loss: 1.0843 - val_accuracy: 0.5333 - val_auc: 0.9443 - val_precision: 0.7467 - val_recall: 0.2667\n",
            "Epoch 60/200\n",
            "21/22 [===========================>..] - ETA: 0s - loss: 1.2335 - accuracy: 0.4836 - auc: 0.9227 - precision: 0.6742 - recall: 0.2649\n",
            "Epoch 00060: val_accuracy did not improve from 0.58095\n",
            "22/22 [==============================] - 0s 17ms/step - loss: 1.2343 - accuracy: 0.4800 - auc: 0.9226 - precision: 0.6630 - recall: 0.2586 - val_loss: 1.0628 - val_accuracy: 0.5381 - val_auc: 0.9464 - val_precision: 0.8310 - val_recall: 0.2810\n",
            "Epoch 61/200\n",
            "21/22 [===========================>..] - ETA: 0s - loss: 1.2096 - accuracy: 0.5030 - auc: 0.9260 - precision: 0.6705 - recall: 0.2634\n",
            "Epoch 00061: val_accuracy did not improve from 0.58095\n",
            "22/22 [==============================] - 0s 16ms/step - loss: 1.2097 - accuracy: 0.5014 - auc: 0.9260 - precision: 0.6703 - recall: 0.2614 - val_loss: 1.1240 - val_accuracy: 0.5190 - val_auc: 0.9380 - val_precision: 0.7215 - val_recall: 0.2714\n",
            "Epoch 62/200\n",
            "21/22 [===========================>..] - ETA: 0s - loss: 1.2055 - accuracy: 0.5060 - auc: 0.9266 - precision: 0.6618 - recall: 0.2679\n",
            "Epoch 00062: val_accuracy improved from 0.58095 to 0.59048, saving model to tfjsmode.h5\n",
            "22/22 [==============================] - 0s 18ms/step - loss: 1.2084 - accuracy: 0.5029 - auc: 0.9262 - precision: 0.6584 - recall: 0.2643 - val_loss: 1.0814 - val_accuracy: 0.5905 - val_auc: 0.9441 - val_precision: 0.7403 - val_recall: 0.2714\n",
            "Epoch 63/200\n",
            "21/22 [===========================>..] - ETA: 0s - loss: 1.2005 - accuracy: 0.4970 - auc: 0.9272 - precision: 0.6558 - recall: 0.2693\n",
            "Epoch 00063: val_accuracy did not improve from 0.59048\n",
            "22/22 [==============================] - 0s 17ms/step - loss: 1.1951 - accuracy: 0.5057 - auc: 0.9279 - precision: 0.6632 - recall: 0.2729 - val_loss: 1.0375 - val_accuracy: 0.5714 - val_auc: 0.9485 - val_precision: 0.8272 - val_recall: 0.3190\n",
            "Epoch 64/200\n",
            "21/22 [===========================>..] - ETA: 0s - loss: 1.2050 - accuracy: 0.5223 - auc: 0.9268 - precision: 0.6691 - recall: 0.2738\n",
            "Epoch 00064: val_accuracy did not improve from 0.59048\n",
            "22/22 [==============================] - 0s 16ms/step - loss: 1.2102 - accuracy: 0.5129 - auc: 0.9260 - precision: 0.6678 - recall: 0.2729 - val_loss: 1.0810 - val_accuracy: 0.5333 - val_auc: 0.9430 - val_precision: 0.7204 - val_recall: 0.3190\n",
            "Epoch 65/200\n",
            "21/22 [===========================>..] - ETA: 0s - loss: 1.1559 - accuracy: 0.5327 - auc: 0.9329 - precision: 0.7128 - recall: 0.3140\n",
            "Epoch 00065: val_accuracy did not improve from 0.59048\n",
            "22/22 [==============================] - 0s 16ms/step - loss: 1.1621 - accuracy: 0.5286 - auc: 0.9321 - precision: 0.7068 - recall: 0.3100 - val_loss: 1.0153 - val_accuracy: 0.5667 - val_auc: 0.9514 - val_precision: 0.7674 - val_recall: 0.3143\n",
            "Epoch 66/200\n",
            "21/22 [===========================>..] - ETA: 0s - loss: 1.1719 - accuracy: 0.5417 - auc: 0.9309 - precision: 0.6633 - recall: 0.2961\n",
            "Epoch 00066: val_accuracy improved from 0.59048 to 0.61429, saving model to tfjsmode.h5\n",
            "22/22 [==============================] - 0s 18ms/step - loss: 1.1693 - accuracy: 0.5414 - auc: 0.9313 - precision: 0.6542 - recall: 0.3000 - val_loss: 0.9949 - val_accuracy: 0.6143 - val_auc: 0.9538 - val_precision: 0.8095 - val_recall: 0.3238\n",
            "Epoch 67/200\n",
            "21/22 [===========================>..] - ETA: 0s - loss: 1.1540 - accuracy: 0.5342 - auc: 0.9332 - precision: 0.6826 - recall: 0.2976\n",
            "Epoch 00067: val_accuracy did not improve from 0.61429\n",
            "22/22 [==============================] - 0s 16ms/step - loss: 1.1473 - accuracy: 0.5371 - auc: 0.9341 - precision: 0.6883 - recall: 0.3029 - val_loss: 0.9787 - val_accuracy: 0.6143 - val_auc: 0.9541 - val_precision: 0.7170 - val_recall: 0.3619\n",
            "Epoch 68/200\n",
            "21/22 [===========================>..] - ETA: 0s - loss: 1.1286 - accuracy: 0.5342 - auc: 0.9362 - precision: 0.6677 - recall: 0.3140\n",
            "Epoch 00068: val_accuracy did not improve from 0.61429\n",
            "22/22 [==============================] - 0s 16ms/step - loss: 1.1253 - accuracy: 0.5343 - auc: 0.9366 - precision: 0.6738 - recall: 0.3129 - val_loss: 0.9676 - val_accuracy: 0.5714 - val_auc: 0.9552 - val_precision: 0.7788 - val_recall: 0.3857\n",
            "Epoch 69/200\n",
            "21/22 [===========================>..] - ETA: 0s - loss: 1.1195 - accuracy: 0.5461 - auc: 0.9369 - precision: 0.7055 - recall: 0.3244\n",
            "Epoch 00069: val_accuracy improved from 0.61429 to 0.62857, saving model to tfjsmode.h5\n",
            "22/22 [==============================] - 0s 17ms/step - loss: 1.1186 - accuracy: 0.5443 - auc: 0.9371 - precision: 0.7075 - recall: 0.3214 - val_loss: 0.9519 - val_accuracy: 0.6286 - val_auc: 0.9579 - val_precision: 0.8140 - val_recall: 0.3333\n",
            "Epoch 70/200\n",
            "21/22 [===========================>..] - ETA: 0s - loss: 1.1118 - accuracy: 0.5461 - auc: 0.9380 - precision: 0.7195 - recall: 0.3244\n",
            "Epoch 00070: val_accuracy did not improve from 0.62857\n",
            "22/22 [==============================] - 0s 16ms/step - loss: 1.1178 - accuracy: 0.5414 - auc: 0.9373 - precision: 0.7125 - recall: 0.3186 - val_loss: 0.9341 - val_accuracy: 0.6190 - val_auc: 0.9588 - val_precision: 0.7520 - val_recall: 0.4476\n",
            "Epoch 71/200\n",
            "21/22 [===========================>..] - ETA: 0s - loss: 1.1034 - accuracy: 0.5268 - auc: 0.9388 - precision: 0.7143 - recall: 0.3348\n",
            "Epoch 00071: val_accuracy did not improve from 0.62857\n",
            "22/22 [==============================] - 0s 16ms/step - loss: 1.1004 - accuracy: 0.5300 - auc: 0.9392 - precision: 0.7234 - recall: 0.3400 - val_loss: 0.9778 - val_accuracy: 0.5714 - val_auc: 0.9539 - val_precision: 0.7788 - val_recall: 0.3857\n",
            "Epoch 72/200\n",
            "21/22 [===========================>..] - ETA: 0s - loss: 1.0894 - accuracy: 0.5491 - auc: 0.9403 - precision: 0.7135 - recall: 0.3705\n",
            "Epoch 00072: val_accuracy improved from 0.62857 to 0.65714, saving model to tfjsmode.h5\n",
            "22/22 [==============================] - 0s 18ms/step - loss: 1.0847 - accuracy: 0.5486 - auc: 0.9408 - precision: 0.7159 - recall: 0.3671 - val_loss: 0.8817 - val_accuracy: 0.6571 - val_auc: 0.9637 - val_precision: 0.8061 - val_recall: 0.3762\n",
            "Epoch 73/200\n",
            "21/22 [===========================>..] - ETA: 0s - loss: 1.0775 - accuracy: 0.5610 - auc: 0.9417 - precision: 0.6773 - recall: 0.3467\n",
            "Epoch 00073: val_accuracy did not improve from 0.65714\n",
            "22/22 [==============================] - 0s 16ms/step - loss: 1.0845 - accuracy: 0.5571 - auc: 0.9408 - precision: 0.6685 - recall: 0.3400 - val_loss: 0.9102 - val_accuracy: 0.6476 - val_auc: 0.9606 - val_precision: 0.7788 - val_recall: 0.4190\n",
            "Epoch 74/200\n",
            "21/22 [===========================>..] - ETA: 0s - loss: 1.1009 - accuracy: 0.5268 - auc: 0.9387 - precision: 0.6528 - recall: 0.3497\n",
            "Epoch 00074: val_accuracy did not improve from 0.65714\n",
            "22/22 [==============================] - 0s 16ms/step - loss: 1.1081 - accuracy: 0.5186 - auc: 0.9379 - precision: 0.6523 - recall: 0.3457 - val_loss: 0.8931 - val_accuracy: 0.5952 - val_auc: 0.9627 - val_precision: 0.7830 - val_recall: 0.3952\n",
            "Epoch 75/200\n",
            "21/22 [===========================>..] - ETA: 0s - loss: 1.0529 - accuracy: 0.5506 - auc: 0.9446 - precision: 0.7101 - recall: 0.3646\n",
            "Epoch 00075: val_accuracy did not improve from 0.65714\n",
            "22/22 [==============================] - 0s 17ms/step - loss: 1.0560 - accuracy: 0.5486 - auc: 0.9440 - precision: 0.7099 - recall: 0.3671 - val_loss: 0.9554 - val_accuracy: 0.5667 - val_auc: 0.9550 - val_precision: 0.6930 - val_recall: 0.3762\n",
            "Epoch 76/200\n",
            "21/22 [===========================>..] - ETA: 0s - loss: 1.0484 - accuracy: 0.5685 - auc: 0.9448 - precision: 0.6812 - recall: 0.3497\n",
            "Epoch 00076: val_accuracy did not improve from 0.65714\n",
            "22/22 [==============================] - 0s 16ms/step - loss: 1.0437 - accuracy: 0.5657 - auc: 0.9453 - precision: 0.6787 - recall: 0.3500 - val_loss: 0.8746 - val_accuracy: 0.6143 - val_auc: 0.9633 - val_precision: 0.8053 - val_recall: 0.4333\n",
            "Epoch 77/200\n",
            "21/22 [===========================>..] - ETA: 0s - loss: 1.0340 - accuracy: 0.5685 - auc: 0.9461 - precision: 0.7217 - recall: 0.3705\n",
            "Epoch 00077: val_accuracy did not improve from 0.65714\n",
            "22/22 [==============================] - 0s 16ms/step - loss: 1.0433 - accuracy: 0.5671 - auc: 0.9451 - precision: 0.7115 - recall: 0.3629 - val_loss: 0.8467 - val_accuracy: 0.6048 - val_auc: 0.9649 - val_precision: 0.7647 - val_recall: 0.4333\n",
            "Epoch 78/200\n",
            "21/22 [===========================>..] - ETA: 0s - loss: 1.0324 - accuracy: 0.5818 - auc: 0.9460 - precision: 0.6982 - recall: 0.3958\n",
            "Epoch 00078: val_accuracy did not improve from 0.65714\n",
            "22/22 [==============================] - 0s 17ms/step - loss: 1.0404 - accuracy: 0.5800 - auc: 0.9451 - precision: 0.6972 - recall: 0.3914 - val_loss: 0.9036 - val_accuracy: 0.6095 - val_auc: 0.9618 - val_precision: 0.7757 - val_recall: 0.3952\n",
            "Epoch 79/200\n",
            "21/22 [===========================>..] - ETA: 0s - loss: 1.0452 - accuracy: 0.5580 - auc: 0.9451 - precision: 0.6915 - recall: 0.3735\n",
            "Epoch 00079: val_accuracy improved from 0.65714 to 0.67143, saving model to tfjsmode.h5\n",
            "22/22 [==============================] - 0s 18ms/step - loss: 1.0438 - accuracy: 0.5614 - auc: 0.9454 - precision: 0.6913 - recall: 0.3743 - val_loss: 0.8503 - val_accuracy: 0.6714 - val_auc: 0.9670 - val_precision: 0.8148 - val_recall: 0.4190\n",
            "Epoch 80/200\n",
            "21/22 [===========================>..] - ETA: 0s - loss: 1.0244 - accuracy: 0.5997 - auc: 0.9479 - precision: 0.7283 - recall: 0.3988\n",
            "Epoch 00080: val_accuracy did not improve from 0.67143\n",
            "22/22 [==============================] - 0s 17ms/step - loss: 1.0256 - accuracy: 0.5957 - auc: 0.9478 - precision: 0.7316 - recall: 0.3971 - val_loss: 0.8205 - val_accuracy: 0.6333 - val_auc: 0.9689 - val_precision: 0.7917 - val_recall: 0.4524\n",
            "Epoch 81/200\n",
            "21/22 [===========================>..] - ETA: 0s - loss: 0.9801 - accuracy: 0.5863 - auc: 0.9515 - precision: 0.7074 - recall: 0.3958\n",
            "Epoch 00081: val_accuracy improved from 0.67143 to 0.67619, saving model to tfjsmode.h5\n",
            "22/22 [==============================] - 0s 18ms/step - loss: 0.9833 - accuracy: 0.5843 - auc: 0.9512 - precision: 0.7026 - recall: 0.3914 - val_loss: 0.8256 - val_accuracy: 0.6762 - val_auc: 0.9684 - val_precision: 0.7815 - val_recall: 0.4429\n",
            "Epoch 82/200\n",
            "21/22 [===========================>..] - ETA: 0s - loss: 1.0028 - accuracy: 0.5640 - auc: 0.9493 - precision: 0.7041 - recall: 0.4107\n",
            "Epoch 00082: val_accuracy improved from 0.67619 to 0.70000, saving model to tfjsmode.h5\n",
            "22/22 [==============================] - 0s 18ms/step - loss: 1.0104 - accuracy: 0.5629 - auc: 0.9485 - precision: 0.7002 - recall: 0.4071 - val_loss: 0.7864 - val_accuracy: 0.7000 - val_auc: 0.9727 - val_precision: 0.8361 - val_recall: 0.4857\n",
            "Epoch 83/200\n",
            "21/22 [===========================>..] - ETA: 0s - loss: 1.0066 - accuracy: 0.5714 - auc: 0.9489 - precision: 0.6917 - recall: 0.3839\n",
            "Epoch 00083: val_accuracy did not improve from 0.70000\n",
            "22/22 [==============================] - 0s 16ms/step - loss: 0.9991 - accuracy: 0.5729 - auc: 0.9497 - precision: 0.6992 - recall: 0.3886 - val_loss: 0.8436 - val_accuracy: 0.6667 - val_auc: 0.9661 - val_precision: 0.7833 - val_recall: 0.4476\n",
            "Epoch 84/200\n",
            "21/22 [===========================>..] - ETA: 0s - loss: 0.9814 - accuracy: 0.5774 - auc: 0.9516 - precision: 0.7326 - recall: 0.4077\n",
            "Epoch 00084: val_accuracy did not improve from 0.70000\n",
            "22/22 [==============================] - 0s 17ms/step - loss: 0.9766 - accuracy: 0.5814 - auc: 0.9522 - precision: 0.7409 - recall: 0.4086 - val_loss: 0.7730 - val_accuracy: 0.6714 - val_auc: 0.9712 - val_precision: 0.7793 - val_recall: 0.5381\n",
            "Epoch 85/200\n",
            "21/22 [===========================>..] - ETA: 0s - loss: 0.9548 - accuracy: 0.6176 - auc: 0.9544 - precision: 0.7125 - recall: 0.4315\n",
            "Epoch 00085: val_accuracy did not improve from 0.70000\n",
            "22/22 [==============================] - 0s 17ms/step - loss: 0.9545 - accuracy: 0.6186 - auc: 0.9545 - precision: 0.7156 - recall: 0.4314 - val_loss: 0.7638 - val_accuracy: 0.6714 - val_auc: 0.9731 - val_precision: 0.8487 - val_recall: 0.4810\n",
            "Epoch 86/200\n",
            "21/22 [===========================>..] - ETA: 0s - loss: 0.9446 - accuracy: 0.6012 - auc: 0.9553 - precision: 0.7119 - recall: 0.4375\n",
            "Epoch 00086: val_accuracy did not improve from 0.70000\n",
            "22/22 [==============================] - 0s 17ms/step - loss: 0.9546 - accuracy: 0.5957 - auc: 0.9542 - precision: 0.7079 - recall: 0.4329 - val_loss: 0.8058 - val_accuracy: 0.6190 - val_auc: 0.9678 - val_precision: 0.7480 - val_recall: 0.4524\n",
            "Epoch 87/200\n",
            "21/22 [===========================>..] - ETA: 0s - loss: 0.9317 - accuracy: 0.6250 - auc: 0.9567 - precision: 0.7354 - recall: 0.4301\n",
            "Epoch 00087: val_accuracy did not improve from 0.70000\n",
            "22/22 [==============================] - 0s 17ms/step - loss: 0.9355 - accuracy: 0.6229 - auc: 0.9563 - precision: 0.7306 - recall: 0.4300 - val_loss: 0.7595 - val_accuracy: 0.6762 - val_auc: 0.9738 - val_precision: 0.8134 - val_recall: 0.5190\n",
            "Epoch 88/200\n",
            "21/22 [===========================>..] - ETA: 0s - loss: 0.9222 - accuracy: 0.6265 - auc: 0.9573 - precision: 0.7186 - recall: 0.4598\n",
            "Epoch 00088: val_accuracy improved from 0.70000 to 0.72857, saving model to tfjsmode.h5\n",
            "22/22 [==============================] - 0s 18ms/step - loss: 0.9375 - accuracy: 0.6229 - auc: 0.9558 - precision: 0.7121 - recall: 0.4557 - val_loss: 0.7140 - val_accuracy: 0.7286 - val_auc: 0.9768 - val_precision: 0.8014 - val_recall: 0.5571\n",
            "Epoch 89/200\n",
            "20/22 [==========================>...] - ETA: 0s - loss: 0.9053 - accuracy: 0.6266 - auc: 0.9592 - precision: 0.7525 - recall: 0.4656\n",
            "Epoch 00089: val_accuracy did not improve from 0.72857\n",
            "22/22 [==============================] - 0s 17ms/step - loss: 0.9109 - accuracy: 0.6229 - auc: 0.9585 - precision: 0.7506 - recall: 0.4643 - val_loss: 0.7115 - val_accuracy: 0.6952 - val_auc: 0.9764 - val_precision: 0.8271 - val_recall: 0.5238\n",
            "Epoch 90/200\n",
            "21/22 [===========================>..] - ETA: 0s - loss: 0.9074 - accuracy: 0.6190 - auc: 0.9587 - precision: 0.7140 - recall: 0.4792\n",
            "Epoch 00090: val_accuracy did not improve from 0.72857\n",
            "22/22 [==============================] - 0s 16ms/step - loss: 0.9102 - accuracy: 0.6200 - auc: 0.9585 - precision: 0.7131 - recall: 0.4757 - val_loss: 0.7388 - val_accuracy: 0.6762 - val_auc: 0.9750 - val_precision: 0.8140 - val_recall: 0.5000\n",
            "Epoch 91/200\n",
            "21/22 [===========================>..] - ETA: 0s - loss: 0.8927 - accuracy: 0.6369 - auc: 0.9603 - precision: 0.7529 - recall: 0.4762\n",
            "Epoch 00091: val_accuracy did not improve from 0.72857\n",
            "22/22 [==============================] - 0s 17ms/step - loss: 0.8948 - accuracy: 0.6343 - auc: 0.9601 - precision: 0.7466 - recall: 0.4714 - val_loss: 0.7304 - val_accuracy: 0.6952 - val_auc: 0.9756 - val_precision: 0.8271 - val_recall: 0.5238\n",
            "Epoch 92/200\n",
            "21/22 [===========================>..] - ETA: 0s - loss: 0.8980 - accuracy: 0.6190 - auc: 0.9598 - precision: 0.7427 - recall: 0.4896\n",
            "Epoch 00092: val_accuracy did not improve from 0.72857\n",
            "22/22 [==============================] - 0s 17ms/step - loss: 0.8934 - accuracy: 0.6157 - auc: 0.9601 - precision: 0.7376 - recall: 0.4900 - val_loss: 0.7482 - val_accuracy: 0.6857 - val_auc: 0.9731 - val_precision: 0.7692 - val_recall: 0.5238\n",
            "Epoch 93/200\n",
            "21/22 [===========================>..] - ETA: 0s - loss: 0.8650 - accuracy: 0.6607 - auc: 0.9624 - precision: 0.7516 - recall: 0.5089\n",
            "Epoch 00093: val_accuracy improved from 0.72857 to 0.74286, saving model to tfjsmode.h5\n",
            "22/22 [==============================] - 0s 18ms/step - loss: 0.8786 - accuracy: 0.6571 - auc: 0.9612 - precision: 0.7473 - recall: 0.5029 - val_loss: 0.6750 - val_accuracy: 0.7429 - val_auc: 0.9791 - val_precision: 0.8214 - val_recall: 0.5476\n",
            "Epoch 94/200\n",
            "21/22 [===========================>..] - ETA: 0s - loss: 0.8645 - accuracy: 0.6235 - auc: 0.9618 - precision: 0.7347 - recall: 0.4821\n",
            "Epoch 00094: val_accuracy did not improve from 0.74286\n",
            "22/22 [==============================] - 0s 17ms/step - loss: 0.8650 - accuracy: 0.6286 - auc: 0.9619 - precision: 0.7380 - recall: 0.4829 - val_loss: 0.7056 - val_accuracy: 0.7000 - val_auc: 0.9762 - val_precision: 0.7887 - val_recall: 0.5333\n",
            "Epoch 95/200\n",
            "21/22 [===========================>..] - ETA: 0s - loss: 0.8405 - accuracy: 0.6414 - auc: 0.9644 - precision: 0.7451 - recall: 0.5134\n",
            "Epoch 00095: val_accuracy did not improve from 0.74286\n",
            "22/22 [==============================] - 0s 16ms/step - loss: 0.8491 - accuracy: 0.6371 - auc: 0.9636 - precision: 0.7381 - recall: 0.5114 - val_loss: 0.6914 - val_accuracy: 0.7095 - val_auc: 0.9795 - val_precision: 0.8605 - val_recall: 0.5286\n",
            "Epoch 96/200\n",
            "21/22 [===========================>..] - ETA: 0s - loss: 0.8425 - accuracy: 0.6741 - auc: 0.9645 - precision: 0.7500 - recall: 0.5089\n",
            "Epoch 00096: val_accuracy did not improve from 0.74286\n",
            "22/22 [==============================] - 0s 16ms/step - loss: 0.8583 - accuracy: 0.6657 - auc: 0.9631 - precision: 0.7426 - recall: 0.5029 - val_loss: 0.6629 - val_accuracy: 0.7286 - val_auc: 0.9809 - val_precision: 0.8472 - val_recall: 0.5810\n",
            "Epoch 97/200\n",
            "21/22 [===========================>..] - ETA: 0s - loss: 0.8529 - accuracy: 0.6488 - auc: 0.9636 - precision: 0.7534 - recall: 0.5000\n",
            "Epoch 00097: val_accuracy did not improve from 0.74286\n",
            "22/22 [==============================] - 0s 16ms/step - loss: 0.8580 - accuracy: 0.6486 - auc: 0.9632 - precision: 0.7457 - recall: 0.4986 - val_loss: 0.6241 - val_accuracy: 0.7333 - val_auc: 0.9832 - val_precision: 0.8741 - val_recall: 0.5952\n",
            "Epoch 98/200\n",
            "21/22 [===========================>..] - ETA: 0s - loss: 0.8679 - accuracy: 0.6295 - auc: 0.9619 - precision: 0.7065 - recall: 0.4836\n",
            "Epoch 00098: val_accuracy improved from 0.74286 to 0.78571, saving model to tfjsmode.h5\n",
            "22/22 [==============================] - 0s 18ms/step - loss: 0.8584 - accuracy: 0.6343 - auc: 0.9628 - precision: 0.7116 - recall: 0.4900 - val_loss: 0.6147 - val_accuracy: 0.7857 - val_auc: 0.9847 - val_precision: 0.8699 - val_recall: 0.6048\n",
            "Epoch 99/200\n",
            "21/22 [===========================>..] - ETA: 0s - loss: 0.8278 - accuracy: 0.6548 - auc: 0.9650 - precision: 0.7390 - recall: 0.5268\n",
            "Epoch 00099: val_accuracy did not improve from 0.78571\n",
            "22/22 [==============================] - 0s 16ms/step - loss: 0.8298 - accuracy: 0.6543 - auc: 0.9649 - precision: 0.7395 - recall: 0.5271 - val_loss: 0.6118 - val_accuracy: 0.7619 - val_auc: 0.9842 - val_precision: 0.8750 - val_recall: 0.6333\n",
            "Epoch 100/200\n",
            "21/22 [===========================>..] - ETA: 0s - loss: 0.8294 - accuracy: 0.6696 - auc: 0.9655 - precision: 0.7596 - recall: 0.5030\n",
            "Epoch 00100: val_accuracy did not improve from 0.78571\n",
            "22/22 [==============================] - 0s 17ms/step - loss: 0.8228 - accuracy: 0.6686 - auc: 0.9660 - precision: 0.7543 - recall: 0.5043 - val_loss: 0.6379 - val_accuracy: 0.7524 - val_auc: 0.9818 - val_precision: 0.8278 - val_recall: 0.5952\n",
            "Epoch 101/200\n",
            "21/22 [===========================>..] - ETA: 0s - loss: 0.8209 - accuracy: 0.6488 - auc: 0.9656 - precision: 0.7563 - recall: 0.5357\n",
            "Epoch 00101: val_accuracy did not improve from 0.78571\n",
            "22/22 [==============================] - 0s 17ms/step - loss: 0.8341 - accuracy: 0.6457 - auc: 0.9645 - precision: 0.7485 - recall: 0.5271 - val_loss: 0.6145 - val_accuracy: 0.7238 - val_auc: 0.9833 - val_precision: 0.8400 - val_recall: 0.6000\n",
            "Epoch 102/200\n",
            "21/22 [===========================>..] - ETA: 0s - loss: 0.7949 - accuracy: 0.6667 - auc: 0.9684 - precision: 0.7563 - recall: 0.5357\n",
            "Epoch 00102: val_accuracy did not improve from 0.78571\n",
            "22/22 [==============================] - 0s 16ms/step - loss: 0.7946 - accuracy: 0.6643 - auc: 0.9684 - precision: 0.7576 - recall: 0.5357 - val_loss: 0.5911 - val_accuracy: 0.7857 - val_auc: 0.9864 - val_precision: 0.9032 - val_recall: 0.6667\n",
            "Epoch 103/200\n",
            "21/22 [===========================>..] - ETA: 0s - loss: 0.8078 - accuracy: 0.6592 - auc: 0.9670 - precision: 0.7391 - recall: 0.5312\n",
            "Epoch 00103: val_accuracy did not improve from 0.78571\n",
            "22/22 [==============================] - 0s 16ms/step - loss: 0.8025 - accuracy: 0.6586 - auc: 0.9675 - precision: 0.7401 - recall: 0.5329 - val_loss: 0.6254 - val_accuracy: 0.7667 - val_auc: 0.9822 - val_precision: 0.8291 - val_recall: 0.6238\n",
            "Epoch 104/200\n",
            "21/22 [===========================>..] - ETA: 0s - loss: 0.7620 - accuracy: 0.6935 - auc: 0.9714 - precision: 0.7913 - recall: 0.5982\n",
            "Epoch 00104: val_accuracy improved from 0.78571 to 0.79524, saving model to tfjsmode.h5\n",
            "22/22 [==============================] - 0s 18ms/step - loss: 0.7661 - accuracy: 0.6871 - auc: 0.9709 - precision: 0.7852 - recall: 0.5900 - val_loss: 0.5546 - val_accuracy: 0.7952 - val_auc: 0.9871 - val_precision: 0.8938 - val_recall: 0.6810\n",
            "Epoch 105/200\n",
            "21/22 [===========================>..] - ETA: 0s - loss: 0.7834 - accuracy: 0.6533 - auc: 0.9690 - precision: 0.7600 - recall: 0.5372\n",
            "Epoch 00105: val_accuracy did not improve from 0.79524\n",
            "22/22 [==============================] - 0s 17ms/step - loss: 0.7787 - accuracy: 0.6571 - auc: 0.9694 - precision: 0.7627 - recall: 0.5371 - val_loss: 0.5390 - val_accuracy: 0.7429 - val_auc: 0.9867 - val_precision: 0.8438 - val_recall: 0.6429\n",
            "Epoch 106/200\n",
            "21/22 [===========================>..] - ETA: 0s - loss: 0.7459 - accuracy: 0.6935 - auc: 0.9721 - precision: 0.7632 - recall: 0.5804\n",
            "Epoch 00106: val_accuracy did not improve from 0.79524\n",
            "22/22 [==============================] - 0s 16ms/step - loss: 0.7522 - accuracy: 0.6900 - auc: 0.9716 - precision: 0.7599 - recall: 0.5743 - val_loss: 0.5430 - val_accuracy: 0.7524 - val_auc: 0.9872 - val_precision: 0.8447 - val_recall: 0.6476\n",
            "Epoch 107/200\n",
            "21/22 [===========================>..] - ETA: 0s - loss: 0.7441 - accuracy: 0.6860 - auc: 0.9720 - precision: 0.7688 - recall: 0.5640\n",
            "Epoch 00107: val_accuracy did not improve from 0.79524\n",
            "22/22 [==============================] - 0s 16ms/step - loss: 0.7479 - accuracy: 0.6829 - auc: 0.9716 - precision: 0.7637 - recall: 0.5586 - val_loss: 0.5730 - val_accuracy: 0.7190 - val_auc: 0.9837 - val_precision: 0.7778 - val_recall: 0.6333\n",
            "Epoch 108/200\n",
            "21/22 [===========================>..] - ETA: 0s - loss: 0.7433 - accuracy: 0.6845 - auc: 0.9714 - precision: 0.7846 - recall: 0.5908\n",
            "Epoch 00108: val_accuracy did not improve from 0.79524\n",
            "22/22 [==============================] - 0s 17ms/step - loss: 0.7387 - accuracy: 0.6829 - auc: 0.9717 - precision: 0.7822 - recall: 0.5900 - val_loss: 0.4994 - val_accuracy: 0.7810 - val_auc: 0.9895 - val_precision: 0.8675 - val_recall: 0.6857\n",
            "Epoch 109/200\n",
            "21/22 [===========================>..] - ETA: 0s - loss: 0.7378 - accuracy: 0.6741 - auc: 0.9728 - precision: 0.7782 - recall: 0.5952\n",
            "Epoch 00109: val_accuracy did not improve from 0.79524\n",
            "22/22 [==============================] - 0s 17ms/step - loss: 0.7304 - accuracy: 0.6786 - auc: 0.9733 - precision: 0.7828 - recall: 0.5971 - val_loss: 0.4989 - val_accuracy: 0.7905 - val_auc: 0.9902 - val_precision: 0.8706 - val_recall: 0.7048\n",
            "Epoch 110/200\n",
            "21/22 [===========================>..] - ETA: 0s - loss: 0.6805 - accuracy: 0.7217 - auc: 0.9773 - precision: 0.8043 - recall: 0.6057\n",
            "Epoch 00110: val_accuracy improved from 0.79524 to 0.82857, saving model to tfjsmode.h5\n",
            "22/22 [==============================] - 0s 19ms/step - loss: 0.6934 - accuracy: 0.7200 - auc: 0.9763 - precision: 0.8000 - recall: 0.6000 - val_loss: 0.4850 - val_accuracy: 0.8286 - val_auc: 0.9914 - val_precision: 0.8876 - val_recall: 0.7524\n",
            "Epoch 111/200\n",
            "21/22 [===========================>..] - ETA: 0s - loss: 0.6911 - accuracy: 0.7068 - auc: 0.9761 - precision: 0.7782 - recall: 0.6057\n",
            "Epoch 00111: val_accuracy did not improve from 0.82857\n",
            "22/22 [==============================] - 0s 17ms/step - loss: 0.6942 - accuracy: 0.7071 - auc: 0.9759 - precision: 0.7790 - recall: 0.6043 - val_loss: 0.4976 - val_accuracy: 0.7857 - val_auc: 0.9889 - val_precision: 0.8276 - val_recall: 0.6857\n",
            "Epoch 112/200\n",
            "21/22 [===========================>..] - ETA: 0s - loss: 0.7135 - accuracy: 0.6979 - auc: 0.9738 - precision: 0.7602 - recall: 0.6086\n",
            "Epoch 00112: val_accuracy did not improve from 0.82857\n",
            "22/22 [==============================] - 0s 17ms/step - loss: 0.7084 - accuracy: 0.7014 - auc: 0.9742 - precision: 0.7630 - recall: 0.6071 - val_loss: 0.5001 - val_accuracy: 0.7619 - val_auc: 0.9887 - val_precision: 0.8412 - val_recall: 0.6810\n",
            "Epoch 113/200\n",
            "21/22 [===========================>..] - ETA: 0s - loss: 0.7121 - accuracy: 0.6979 - auc: 0.9741 - precision: 0.7658 - recall: 0.5938\n",
            "Epoch 00113: val_accuracy did not improve from 0.82857\n",
            "22/22 [==============================] - 0s 16ms/step - loss: 0.7045 - accuracy: 0.7000 - auc: 0.9747 - precision: 0.7702 - recall: 0.5986 - val_loss: 0.4818 - val_accuracy: 0.8190 - val_auc: 0.9906 - val_precision: 0.8970 - val_recall: 0.7048\n",
            "Epoch 114/200\n",
            "21/22 [===========================>..] - ETA: 0s - loss: 0.6637 - accuracy: 0.7143 - auc: 0.9777 - precision: 0.7943 - recall: 0.6265\n",
            "Epoch 00114: val_accuracy did not improve from 0.82857\n",
            "22/22 [==============================] - 0s 16ms/step - loss: 0.6683 - accuracy: 0.7143 - auc: 0.9774 - precision: 0.7945 - recall: 0.6243 - val_loss: 0.4784 - val_accuracy: 0.8048 - val_auc: 0.9890 - val_precision: 0.8580 - val_recall: 0.7190\n",
            "Epoch 115/200\n",
            "21/22 [===========================>..] - ETA: 0s - loss: 0.6592 - accuracy: 0.7247 - auc: 0.9779 - precision: 0.7885 - recall: 0.6324\n",
            "Epoch 00115: val_accuracy improved from 0.82857 to 0.84286, saving model to tfjsmode.h5\n",
            "22/22 [==============================] - 0s 18ms/step - loss: 0.6667 - accuracy: 0.7243 - auc: 0.9774 - precision: 0.7900 - recall: 0.6343 - val_loss: 0.4571 - val_accuracy: 0.8429 - val_auc: 0.9917 - val_precision: 0.9012 - val_recall: 0.7381\n",
            "Epoch 116/200\n",
            "21/22 [===========================>..] - ETA: 0s - loss: 0.6701 - accuracy: 0.7232 - auc: 0.9767 - precision: 0.8012 - recall: 0.6176\n",
            "Epoch 00116: val_accuracy did not improve from 0.84286\n",
            "22/22 [==============================] - 0s 16ms/step - loss: 0.6635 - accuracy: 0.7300 - auc: 0.9772 - precision: 0.8041 - recall: 0.6214 - val_loss: 0.4354 - val_accuracy: 0.8048 - val_auc: 0.9915 - val_precision: 0.8579 - val_recall: 0.7476\n",
            "Epoch 117/200\n",
            "21/22 [===========================>..] - ETA: 0s - loss: 0.6505 - accuracy: 0.7173 - auc: 0.9781 - precision: 0.7862 - recall: 0.6295\n",
            "Epoch 00117: val_accuracy did not improve from 0.84286\n",
            "22/22 [==============================] - 0s 17ms/step - loss: 0.6493 - accuracy: 0.7171 - auc: 0.9782 - precision: 0.7867 - recall: 0.6271 - val_loss: 0.4259 - val_accuracy: 0.8238 - val_auc: 0.9925 - val_precision: 0.8939 - val_recall: 0.7619\n",
            "Epoch 118/200\n",
            "21/22 [===========================>..] - ETA: 0s - loss: 0.6306 - accuracy: 0.7351 - auc: 0.9793 - precision: 0.7953 - recall: 0.6533\n",
            "Epoch 00118: val_accuracy did not improve from 0.84286\n",
            "22/22 [==============================] - 0s 16ms/step - loss: 0.6317 - accuracy: 0.7314 - auc: 0.9792 - precision: 0.7917 - recall: 0.6514 - val_loss: 0.4436 - val_accuracy: 0.7810 - val_auc: 0.9909 - val_precision: 0.8523 - val_recall: 0.7143\n",
            "Epoch 119/200\n",
            "21/22 [===========================>..] - ETA: 0s - loss: 0.6320 - accuracy: 0.7173 - auc: 0.9790 - precision: 0.7724 - recall: 0.6414\n",
            "Epoch 00119: val_accuracy did not improve from 0.84286\n",
            "22/22 [==============================] - 0s 16ms/step - loss: 0.6300 - accuracy: 0.7186 - auc: 0.9791 - precision: 0.7759 - recall: 0.6429 - val_loss: 0.4128 - val_accuracy: 0.8429 - val_auc: 0.9929 - val_precision: 0.8777 - val_recall: 0.7857\n",
            "Epoch 120/200\n",
            "21/22 [===========================>..] - ETA: 0s - loss: 0.6091 - accuracy: 0.7232 - auc: 0.9811 - precision: 0.7923 - recall: 0.6414\n",
            "Epoch 00120: val_accuracy did not improve from 0.84286\n",
            "22/22 [==============================] - 0s 16ms/step - loss: 0.6098 - accuracy: 0.7200 - auc: 0.9810 - precision: 0.7898 - recall: 0.6386 - val_loss: 0.4451 - val_accuracy: 0.8381 - val_auc: 0.9904 - val_precision: 0.8564 - val_recall: 0.7667\n",
            "Epoch 121/200\n",
            "21/22 [===========================>..] - ETA: 0s - loss: 0.6231 - accuracy: 0.7262 - auc: 0.9801 - precision: 0.7895 - recall: 0.6473\n",
            "Epoch 00121: val_accuracy did not improve from 0.84286\n",
            "22/22 [==============================] - 0s 16ms/step - loss: 0.6199 - accuracy: 0.7300 - auc: 0.9803 - precision: 0.7913 - recall: 0.6500 - val_loss: 0.4447 - val_accuracy: 0.8333 - val_auc: 0.9908 - val_precision: 0.8564 - val_recall: 0.7381\n",
            "Epoch 122/200\n",
            "21/22 [===========================>..] - ETA: 0s - loss: 0.6217 - accuracy: 0.7396 - auc: 0.9797 - precision: 0.7943 - recall: 0.6607\n",
            "Epoch 00122: val_accuracy did not improve from 0.84286\n",
            "22/22 [==============================] - 0s 17ms/step - loss: 0.6162 - accuracy: 0.7414 - auc: 0.9801 - precision: 0.7983 - recall: 0.6614 - val_loss: 0.4648 - val_accuracy: 0.7619 - val_auc: 0.9899 - val_precision: 0.8466 - val_recall: 0.7095\n",
            "Epoch 123/200\n",
            "21/22 [===========================>..] - ETA: 0s - loss: 0.5813 - accuracy: 0.7589 - auc: 0.9824 - precision: 0.8066 - recall: 0.6890\n",
            "Epoch 00123: val_accuracy did not improve from 0.84286\n",
            "22/22 [==============================] - 0s 16ms/step - loss: 0.5822 - accuracy: 0.7600 - auc: 0.9824 - precision: 0.8081 - recall: 0.6857 - val_loss: 0.4057 - val_accuracy: 0.8190 - val_auc: 0.9924 - val_precision: 0.8659 - val_recall: 0.7381\n",
            "Epoch 124/200\n",
            "21/22 [===========================>..] - ETA: 0s - loss: 0.5834 - accuracy: 0.7619 - auc: 0.9822 - precision: 0.8124 - recall: 0.6830\n",
            "Epoch 00124: val_accuracy did not improve from 0.84286\n",
            "22/22 [==============================] - 0s 16ms/step - loss: 0.5746 - accuracy: 0.7629 - auc: 0.9827 - precision: 0.8160 - recall: 0.6843 - val_loss: 0.3838 - val_accuracy: 0.8238 - val_auc: 0.9935 - val_precision: 0.8757 - val_recall: 0.7714\n",
            "Epoch 125/200\n",
            "21/22 [===========================>..] - ETA: 0s - loss: 0.5714 - accuracy: 0.7366 - auc: 0.9831 - precision: 0.7931 - recall: 0.6845\n",
            "Epoch 00125: val_accuracy did not improve from 0.84286\n",
            "22/22 [==============================] - 0s 17ms/step - loss: 0.5727 - accuracy: 0.7371 - auc: 0.9830 - precision: 0.7914 - recall: 0.6829 - val_loss: 0.4014 - val_accuracy: 0.8381 - val_auc: 0.9940 - val_precision: 0.8944 - val_recall: 0.7667\n",
            "Epoch 126/200\n",
            "20/22 [==========================>...] - ETA: 0s - loss: 0.6008 - accuracy: 0.7297 - auc: 0.9808 - precision: 0.7848 - recall: 0.6609\n",
            "Epoch 00126: val_accuracy did not improve from 0.84286\n",
            "22/22 [==============================] - 0s 17ms/step - loss: 0.5957 - accuracy: 0.7343 - auc: 0.9812 - precision: 0.7942 - recall: 0.6671 - val_loss: 0.3872 - val_accuracy: 0.8000 - val_auc: 0.9930 - val_precision: 0.8564 - val_recall: 0.7381\n",
            "Epoch 127/200\n",
            "21/22 [===========================>..] - ETA: 0s - loss: 0.6007 - accuracy: 0.7321 - auc: 0.9811 - precision: 0.7797 - recall: 0.6637\n",
            "Epoch 00127: val_accuracy did not improve from 0.84286\n",
            "22/22 [==============================] - 0s 17ms/step - loss: 0.5965 - accuracy: 0.7343 - auc: 0.9814 - precision: 0.7806 - recall: 0.6657 - val_loss: 0.3891 - val_accuracy: 0.8048 - val_auc: 0.9922 - val_precision: 0.8196 - val_recall: 0.7571\n",
            "Epoch 128/200\n",
            "20/22 [==========================>...] - ETA: 0s - loss: 0.5765 - accuracy: 0.7578 - auc: 0.9823 - precision: 0.7989 - recall: 0.6828\n",
            "Epoch 00128: val_accuracy did not improve from 0.84286\n",
            "22/22 [==============================] - 0s 18ms/step - loss: 0.5790 - accuracy: 0.7600 - auc: 0.9823 - precision: 0.8010 - recall: 0.6843 - val_loss: 0.3761 - val_accuracy: 0.8286 - val_auc: 0.9935 - val_precision: 0.8542 - val_recall: 0.7810\n",
            "Epoch 129/200\n",
            "21/22 [===========================>..] - ETA: 0s - loss: 0.5643 - accuracy: 0.7589 - auc: 0.9836 - precision: 0.8125 - recall: 0.6964\n",
            "Epoch 00129: val_accuracy improved from 0.84286 to 0.85714, saving model to tfjsmode.h5\n",
            "22/22 [==============================] - 0s 18ms/step - loss: 0.5744 - accuracy: 0.7543 - auc: 0.9829 - precision: 0.8083 - recall: 0.6929 - val_loss: 0.3824 - val_accuracy: 0.8571 - val_auc: 0.9933 - val_precision: 0.8814 - val_recall: 0.8143\n",
            "Epoch 130/200\n",
            "21/22 [===========================>..] - ETA: 0s - loss: 0.5311 - accuracy: 0.7783 - auc: 0.9855 - precision: 0.8249 - recall: 0.7009\n",
            "Epoch 00130: val_accuracy improved from 0.85714 to 0.86190, saving model to tfjsmode.h5\n",
            "22/22 [==============================] - 0s 18ms/step - loss: 0.5313 - accuracy: 0.7786 - auc: 0.9855 - precision: 0.8227 - recall: 0.7029 - val_loss: 0.3608 - val_accuracy: 0.8619 - val_auc: 0.9940 - val_precision: 0.8782 - val_recall: 0.8238\n",
            "Epoch 131/200\n",
            "21/22 [===========================>..] - ETA: 0s - loss: 0.5361 - accuracy: 0.7679 - auc: 0.9843 - precision: 0.7937 - recall: 0.7098\n",
            "Epoch 00131: val_accuracy did not improve from 0.86190\n",
            "22/22 [==============================] - 0s 16ms/step - loss: 0.5307 - accuracy: 0.7714 - auc: 0.9847 - precision: 0.7990 - recall: 0.7157 - val_loss: 0.3835 - val_accuracy: 0.8000 - val_auc: 0.9920 - val_precision: 0.8083 - val_recall: 0.7429\n",
            "Epoch 132/200\n",
            "21/22 [===========================>..] - ETA: 0s - loss: 0.5497 - accuracy: 0.7693 - auc: 0.9843 - precision: 0.8237 - recall: 0.7024\n",
            "Epoch 00132: val_accuracy did not improve from 0.86190\n",
            "22/22 [==============================] - 0s 16ms/step - loss: 0.5565 - accuracy: 0.7629 - auc: 0.9838 - precision: 0.8147 - recall: 0.6971 - val_loss: 0.3619 - val_accuracy: 0.8190 - val_auc: 0.9936 - val_precision: 0.8528 - val_recall: 0.8000\n",
            "Epoch 133/200\n",
            "21/22 [===========================>..] - ETA: 0s - loss: 0.5410 - accuracy: 0.7589 - auc: 0.9844 - precision: 0.8007 - recall: 0.6935\n",
            "Epoch 00133: val_accuracy did not improve from 0.86190\n",
            "22/22 [==============================] - 0s 17ms/step - loss: 0.5367 - accuracy: 0.7643 - auc: 0.9847 - precision: 0.8062 - recall: 0.7014 - val_loss: 0.3539 - val_accuracy: 0.8000 - val_auc: 0.9937 - val_precision: 0.8259 - val_recall: 0.7905\n",
            "Epoch 134/200\n",
            "21/22 [===========================>..] - ETA: 0s - loss: 0.5182 - accuracy: 0.7768 - auc: 0.9844 - precision: 0.8159 - recall: 0.7188\n",
            "Epoch 00134: val_accuracy did not improve from 0.86190\n",
            "22/22 [==============================] - 0s 16ms/step - loss: 0.5164 - accuracy: 0.7729 - auc: 0.9845 - precision: 0.8123 - recall: 0.7171 - val_loss: 0.3443 - val_accuracy: 0.8476 - val_auc: 0.9945 - val_precision: 0.8684 - val_recall: 0.7857\n",
            "Epoch 135/200\n",
            "21/22 [===========================>..] - ETA: 0s - loss: 0.5232 - accuracy: 0.7842 - auc: 0.9857 - precision: 0.8099 - recall: 0.7292\n",
            "Epoch 00135: val_accuracy did not improve from 0.86190\n",
            "22/22 [==============================] - 0s 17ms/step - loss: 0.5151 - accuracy: 0.7871 - auc: 0.9862 - precision: 0.8130 - recall: 0.7329 - val_loss: 0.3183 - val_accuracy: 0.8190 - val_auc: 0.9949 - val_precision: 0.8400 - val_recall: 0.8000\n",
            "Epoch 136/200\n",
            "21/22 [===========================>..] - ETA: 0s - loss: 0.5236 - accuracy: 0.7798 - auc: 0.9853 - precision: 0.8215 - recall: 0.7262\n",
            "Epoch 00136: val_accuracy did not improve from 0.86190\n",
            "22/22 [==============================] - 0s 17ms/step - loss: 0.5252 - accuracy: 0.7786 - auc: 0.9852 - precision: 0.8194 - recall: 0.7257 - val_loss: 0.3456 - val_accuracy: 0.8429 - val_auc: 0.9939 - val_precision: 0.8717 - val_recall: 0.7762\n",
            "Epoch 137/200\n",
            "21/22 [===========================>..] - ETA: 0s - loss: 0.4951 - accuracy: 0.7693 - auc: 0.9869 - precision: 0.8040 - recall: 0.7143\n",
            "Epoch 00137: val_accuracy did not improve from 0.86190\n",
            "22/22 [==============================] - 0s 17ms/step - loss: 0.4972 - accuracy: 0.7714 - auc: 0.9868 - precision: 0.8074 - recall: 0.7186 - val_loss: 0.3339 - val_accuracy: 0.8524 - val_auc: 0.9943 - val_precision: 0.8643 - val_recall: 0.8190\n",
            "Epoch 138/200\n",
            "21/22 [===========================>..] - ETA: 0s - loss: 0.5307 - accuracy: 0.7679 - auc: 0.9852 - precision: 0.8076 - recall: 0.7247\n",
            "Epoch 00138: val_accuracy improved from 0.86190 to 0.87143, saving model to tfjsmode.h5\n",
            "22/22 [==============================] - 0s 19ms/step - loss: 0.5223 - accuracy: 0.7729 - auc: 0.9858 - precision: 0.8111 - recall: 0.7300 - val_loss: 0.3272 - val_accuracy: 0.8714 - val_auc: 0.9954 - val_precision: 0.8861 - val_recall: 0.8524\n",
            "Epoch 139/200\n",
            "21/22 [===========================>..] - ETA: 0s - loss: 0.5011 - accuracy: 0.7708 - auc: 0.9866 - precision: 0.8073 - recall: 0.7232\n",
            "Epoch 00139: val_accuracy did not improve from 0.87143\n",
            "22/22 [==============================] - 0s 16ms/step - loss: 0.5072 - accuracy: 0.7686 - auc: 0.9863 - precision: 0.8038 - recall: 0.7200 - val_loss: 0.3245 - val_accuracy: 0.8095 - val_auc: 0.9941 - val_precision: 0.8325 - val_recall: 0.7810\n",
            "Epoch 140/200\n",
            "21/22 [===========================>..] - ETA: 0s - loss: 0.4958 - accuracy: 0.7842 - auc: 0.9864 - precision: 0.8183 - recall: 0.7307\n",
            "Epoch 00140: val_accuracy did not improve from 0.87143\n",
            "22/22 [==============================] - 0s 17ms/step - loss: 0.4989 - accuracy: 0.7800 - auc: 0.9863 - precision: 0.8147 - recall: 0.7286 - val_loss: 0.3251 - val_accuracy: 0.8476 - val_auc: 0.9946 - val_precision: 0.8667 - val_recall: 0.8048\n",
            "Epoch 00140: early stopping\n"
          ],
          "name": "stdout"
        }
      ]
    },
    {
      "cell_type": "code",
      "metadata": {
        "id": "PrrZbYi-jNXa",
        "outputId": "909322af-ade6-4b6b-a8b4-a887c7f3b552",
        "colab": {
          "base_uri": "https://localhost:8080/",
          "height": 388
        }
      },
      "source": [
        "plot_history(history, 'accuracy')"
      ],
      "execution_count": 28,
      "outputs": [
        {
          "output_type": "display_data",
          "data": {
            "image/png": "[encoded data removed]",
            "text/plain": [
              "<Figure size 720x432 with 1 Axes>"
            ]
          },
          "metadata": {
            "tags": [],
            "needs_background": "light"
          }
        }
      ]
    },
    {
      "cell_type": "code",
      "metadata": {
        "id": "HSWyLroRu55z",
        "outputId": "39fd49fc-f488-4bdf-e995-871e91e1a69d",
        "colab": {
          "base_uri": "https://localhost:8080/",
          "height": 1000
        }
      },
      "source": [
        "plot_history(history, 'precision')\n",
        "plot_history(history, 'recall')\n",
        "plot_history(history, 'auc')"
      ],
      "execution_count": 29,
      "outputs": [
        {
          "output_type": "display_data",
          "data": {
            "image/png": "[encoded data removed]",
            "text/plain": [
              "<Figure size 720x432 with 1 Axes>"
            ]
          },
          "metadata": {
            "tags": [],
            "needs_background": "light"
          }
        },
        {
          "output_type": "display_data",
          "data": {
            "image/png": "[encoded data removed]",
            "text/plain": [
              "<Figure size 720x432 with 1 Axes>"
            ]
          },
          "metadata": {
            "tags": [],
            "needs_background": "light"
          }
        },
        {
          "output_type": "display_data",
          "data": {
            "image/png": "[encoded data removed]",
            "text/plain": [
              "<Figure size 720x432 with 1 Axes>"
            ]
          },
          "metadata": {
            "tags": [],
            "needs_background": "light"
          }
        }
      ]
    },
    {
      "cell_type": "code",
      "metadata": {
        "id": "ASc2rTOkjLKY",
        "outputId": "e41efef2-f192-492b-ac19-7086b2292b23",
        "colab": {
          "base_uri": "https://localhost:8080/",
          "height": 918
        }
      },
      "source": [
        "# evaluate the model\n",
        "test_loss, test_accuracy = model.evaluate(x_test_val, y_test_val)\n",
        "evaluate_lst = list(map(lambda x: x * 100, [test_loss, test_accuracy]))\n",
        "print('\\nTest:\\nLoss: {}\\nAccuracy: {}').format(evaluate_lst[0], evaluate_lst[1])"
      ],
      "execution_count": 30,
      "outputs": [
        {
          "output_type": "error",
          "ename": "ValueError",
          "evalue": "ignored",
          "traceback": [
            "\u001b[0;31m---------------------------------------------------------------------------\u001b[0m",
            "\u001b[0;31mValueError\u001b[0m                                Traceback (most recent call last)",
            "\u001b[0;32m<ipython-input-30-d1b0d5113c89>\u001b[0m in \u001b[0;36m<module>\u001b[0;34m()\u001b[0m\n\u001b[1;32m      1\u001b[0m \u001b[0;31m# evaluate the model\u001b[0m\u001b[0;34m\u001b[0m\u001b[0;34m\u001b[0m\u001b[0;34m\u001b[0m\u001b[0m\n\u001b[0;32m----> 2\u001b[0;31m \u001b[0mtest_loss\u001b[0m\u001b[0;34m,\u001b[0m \u001b[0mtest_accuracy\u001b[0m \u001b[0;34m=\u001b[0m \u001b[0mmodel\u001b[0m\u001b[0;34m.\u001b[0m\u001b[0mevaluate\u001b[0m\u001b[0;34m(\u001b[0m\u001b[0mx_test_val\u001b[0m\u001b[0;34m,\u001b[0m \u001b[0my_test_val\u001b[0m\u001b[0;34m)\u001b[0m\u001b[0;34m\u001b[0m\u001b[0;34m\u001b[0m\u001b[0m\n\u001b[0m\u001b[1;32m      3\u001b[0m \u001b[0mevaluate_lst\u001b[0m \u001b[0;34m=\u001b[0m \u001b[0mlist\u001b[0m\u001b[0;34m(\u001b[0m\u001b[0mmap\u001b[0m\u001b[0;34m(\u001b[0m\u001b[0;32mlambda\u001b[0m \u001b[0mx\u001b[0m\u001b[0;34m:\u001b[0m \u001b[0mx\u001b[0m \u001b[0;34m*\u001b[0m \u001b[0;36m100\u001b[0m\u001b[0;34m,\u001b[0m \u001b[0;34m[\u001b[0m\u001b[0mtest_loss\u001b[0m\u001b[0;34m,\u001b[0m \u001b[0mtest_accuracy\u001b[0m\u001b[0;34m]\u001b[0m\u001b[0;34m)\u001b[0m\u001b[0;34m)\u001b[0m\u001b[0;34m\u001b[0m\u001b[0;34m\u001b[0m\u001b[0m\n\u001b[1;32m      4\u001b[0m \u001b[0mprint\u001b[0m\u001b[0;34m(\u001b[0m\u001b[0;34m'\\nTest:\\nLoss: {}\\nAccuracy: {}'\u001b[0m\u001b[0;34m)\u001b[0m\u001b[0;34m.\u001b[0m\u001b[0mformat\u001b[0m\u001b[0;34m(\u001b[0m\u001b[0mevaluate_lst\u001b[0m\u001b[0;34m[\u001b[0m\u001b[0;36m0\u001b[0m\u001b[0;34m]\u001b[0m\u001b[0;34m,\u001b[0m \u001b[0mevaluate_lst\u001b[0m\u001b[0;34m[\u001b[0m\u001b[0;36m1\u001b[0m\u001b[0;34m]\u001b[0m\u001b[0;34m)\u001b[0m\u001b[0;34m\u001b[0m\u001b[0;34m\u001b[0m\u001b[0m\n",
            "\u001b[0;32m/usr/local/lib/python3.6/dist-packages/tensorflow/python/keras/engine/training.py\u001b[0m in \u001b[0;36m_method_wrapper\u001b[0;34m(self, *args, **kwargs)\u001b[0m\n\u001b[1;32m    106\u001b[0m   \u001b[0;32mdef\u001b[0m \u001b[0m_method_wrapper\u001b[0m\u001b[0;34m(\u001b[0m\u001b[0mself\u001b[0m\u001b[0;34m,\u001b[0m \u001b[0;34m*\u001b[0m\u001b[0margs\u001b[0m\u001b[0;34m,\u001b[0m \u001b[0;34m**\u001b[0m\u001b[0mkwargs\u001b[0m\u001b[0;34m)\u001b[0m\u001b[0;34m:\u001b[0m\u001b[0;34m\u001b[0m\u001b[0;34m\u001b[0m\u001b[0m\n\u001b[1;32m    107\u001b[0m     \u001b[0;32mif\u001b[0m \u001b[0;32mnot\u001b[0m \u001b[0mself\u001b[0m\u001b[0;34m.\u001b[0m\u001b[0m_in_multi_worker_mode\u001b[0m\u001b[0;34m(\u001b[0m\u001b[0;34m)\u001b[0m\u001b[0;34m:\u001b[0m  \u001b[0;31m# pylint: disable=protected-access\u001b[0m\u001b[0;34m\u001b[0m\u001b[0;34m\u001b[0m\u001b[0m\n\u001b[0;32m--> 108\u001b[0;31m       \u001b[0;32mreturn\u001b[0m \u001b[0mmethod\u001b[0m\u001b[0;34m(\u001b[0m\u001b[0mself\u001b[0m\u001b[0;34m,\u001b[0m \u001b[0;34m*\u001b[0m\u001b[0margs\u001b[0m\u001b[0;34m,\u001b[0m \u001b[0;34m**\u001b[0m\u001b[0mkwargs\u001b[0m\u001b[0;34m)\u001b[0m\u001b[0;34m\u001b[0m\u001b[0;34m\u001b[0m\u001b[0m\n\u001b[0m\u001b[1;32m    109\u001b[0m \u001b[0;34m\u001b[0m\u001b[0m\n\u001b[1;32m    110\u001b[0m     \u001b[0;31m# Running inside `run_distribute_coordinator` already.\u001b[0m\u001b[0;34m\u001b[0m\u001b[0;34m\u001b[0m\u001b[0;34m\u001b[0m\u001b[0m\n",
            "\u001b[0;32m/usr/local/lib/python3.6/dist-packages/tensorflow/python/keras/engine/training.py\u001b[0m in \u001b[0;36mevaluate\u001b[0;34m(self, x, y, batch_size, verbose, sample_weight, steps, callbacks, max_queue_size, workers, use_multiprocessing, return_dict)\u001b[0m\n\u001b[1;32m   1377\u001b[0m             \u001b[0;32mwith\u001b[0m \u001b[0mtrace\u001b[0m\u001b[0;34m.\u001b[0m\u001b[0mTrace\u001b[0m\u001b[0;34m(\u001b[0m\u001b[0;34m'TraceContext'\u001b[0m\u001b[0;34m,\u001b[0m \u001b[0mgraph_type\u001b[0m\u001b[0;34m=\u001b[0m\u001b[0;34m'test'\u001b[0m\u001b[0;34m,\u001b[0m \u001b[0mstep_num\u001b[0m\u001b[0;34m=\u001b[0m\u001b[0mstep\u001b[0m\u001b[0;34m)\u001b[0m\u001b[0;34m:\u001b[0m\u001b[0;34m\u001b[0m\u001b[0;34m\u001b[0m\u001b[0m\n\u001b[1;32m   1378\u001b[0m               \u001b[0mcallbacks\u001b[0m\u001b[0;34m.\u001b[0m\u001b[0mon_test_batch_begin\u001b[0m\u001b[0;34m(\u001b[0m\u001b[0mstep\u001b[0m\u001b[0;34m)\u001b[0m\u001b[0;34m\u001b[0m\u001b[0;34m\u001b[0m\u001b[0m\n\u001b[0;32m-> 1379\u001b[0;31m               \u001b[0mtmp_logs\u001b[0m \u001b[0;34m=\u001b[0m \u001b[0mtest_function\u001b[0m\u001b[0;34m(\u001b[0m\u001b[0miterator\u001b[0m\u001b[0;34m)\u001b[0m\u001b[0;34m\u001b[0m\u001b[0;34m\u001b[0m\u001b[0m\n\u001b[0m\u001b[1;32m   1380\u001b[0m               \u001b[0;32mif\u001b[0m \u001b[0mdata_handler\u001b[0m\u001b[0;34m.\u001b[0m\u001b[0mshould_sync\u001b[0m\u001b[0;34m:\u001b[0m\u001b[0;34m\u001b[0m\u001b[0;34m\u001b[0m\u001b[0m\n\u001b[1;32m   1381\u001b[0m                 \u001b[0mcontext\u001b[0m\u001b[0;34m.\u001b[0m\u001b[0masync_wait\u001b[0m\u001b[0;34m(\u001b[0m\u001b[0;34m)\u001b[0m\u001b[0;34m\u001b[0m\u001b[0;34m\u001b[0m\u001b[0m\n",
            "\u001b[0;32m/usr/local/lib/python3.6/dist-packages/tensorflow/python/eager/def_function.py\u001b[0m in \u001b[0;36m__call__\u001b[0;34m(self, *args, **kwds)\u001b[0m\n\u001b[1;32m    778\u001b[0m       \u001b[0;32melse\u001b[0m\u001b[0;34m:\u001b[0m\u001b[0;34m\u001b[0m\u001b[0;34m\u001b[0m\u001b[0m\n\u001b[1;32m    779\u001b[0m         \u001b[0mcompiler\u001b[0m \u001b[0;34m=\u001b[0m \u001b[0;34m\"nonXla\"\u001b[0m\u001b[0;34m\u001b[0m\u001b[0;34m\u001b[0m\u001b[0m\n\u001b[0;32m--> 780\u001b[0;31m         \u001b[0mresult\u001b[0m \u001b[0;34m=\u001b[0m \u001b[0mself\u001b[0m\u001b[0;34m.\u001b[0m\u001b[0m_call\u001b[0m\u001b[0;34m(\u001b[0m\u001b[0;34m*\u001b[0m\u001b[0margs\u001b[0m\u001b[0;34m,\u001b[0m \u001b[0;34m**\u001b[0m\u001b[0mkwds\u001b[0m\u001b[0;34m)\u001b[0m\u001b[0;34m\u001b[0m\u001b[0;34m\u001b[0m\u001b[0m\n\u001b[0m\u001b[1;32m    781\u001b[0m \u001b[0;34m\u001b[0m\u001b[0m\n\u001b[1;32m    782\u001b[0m       \u001b[0mnew_tracing_count\u001b[0m \u001b[0;34m=\u001b[0m \u001b[0mself\u001b[0m\u001b[0;34m.\u001b[0m\u001b[0m_get_tracing_count\u001b[0m\u001b[0;34m(\u001b[0m\u001b[0;34m)\u001b[0m\u001b[0;34m\u001b[0m\u001b[0;34m\u001b[0m\u001b[0m\n",
            "\u001b[0;32m/usr/local/lib/python3.6/dist-packages/tensorflow/python/eager/def_function.py\u001b[0m in \u001b[0;36m_call\u001b[0;34m(self, *args, **kwds)\u001b[0m\n\u001b[1;32m    812\u001b[0m       \u001b[0;31m# In this case we have not created variables on the first call. So we can\u001b[0m\u001b[0;34m\u001b[0m\u001b[0;34m\u001b[0m\u001b[0;34m\u001b[0m\u001b[0m\n\u001b[1;32m    813\u001b[0m       \u001b[0;31m# run the first trace but we should fail if variables are created.\u001b[0m\u001b[0;34m\u001b[0m\u001b[0;34m\u001b[0m\u001b[0;34m\u001b[0m\u001b[0m\n\u001b[0;32m--> 814\u001b[0;31m       \u001b[0mresults\u001b[0m \u001b[0;34m=\u001b[0m \u001b[0mself\u001b[0m\u001b[0;34m.\u001b[0m\u001b[0m_stateful_fn\u001b[0m\u001b[0;34m(\u001b[0m\u001b[0;34m*\u001b[0m\u001b[0margs\u001b[0m\u001b[0;34m,\u001b[0m \u001b[0;34m**\u001b[0m\u001b[0mkwds\u001b[0m\u001b[0;34m)\u001b[0m\u001b[0;34m\u001b[0m\u001b[0;34m\u001b[0m\u001b[0m\n\u001b[0m\u001b[1;32m    815\u001b[0m       \u001b[0;32mif\u001b[0m \u001b[0mself\u001b[0m\u001b[0;34m.\u001b[0m\u001b[0m_created_variables\u001b[0m\u001b[0;34m:\u001b[0m\u001b[0;34m\u001b[0m\u001b[0;34m\u001b[0m\u001b[0m\n\u001b[1;32m    816\u001b[0m         raise ValueError(\"Creating variables on a non-first call to a function\"\n",
            "\u001b[0;32m/usr/local/lib/python3.6/dist-packages/tensorflow/python/eager/function.py\u001b[0m in \u001b[0;36m__call__\u001b[0;34m(self, *args, **kwargs)\u001b[0m\n\u001b[1;32m   2826\u001b[0m     \u001b[0;34m\"\"\"Calls a graph function specialized to the inputs.\"\"\"\u001b[0m\u001b[0;34m\u001b[0m\u001b[0;34m\u001b[0m\u001b[0m\n\u001b[1;32m   2827\u001b[0m     \u001b[0;32mwith\u001b[0m \u001b[0mself\u001b[0m\u001b[0;34m.\u001b[0m\u001b[0m_lock\u001b[0m\u001b[0;34m:\u001b[0m\u001b[0;34m\u001b[0m\u001b[0;34m\u001b[0m\u001b[0m\n\u001b[0;32m-> 2828\u001b[0;31m       \u001b[0mgraph_function\u001b[0m\u001b[0;34m,\u001b[0m \u001b[0margs\u001b[0m\u001b[0;34m,\u001b[0m \u001b[0mkwargs\u001b[0m \u001b[0;34m=\u001b[0m \u001b[0mself\u001b[0m\u001b[0;34m.\u001b[0m\u001b[0m_maybe_define_function\u001b[0m\u001b[0;34m(\u001b[0m\u001b[0margs\u001b[0m\u001b[0;34m,\u001b[0m \u001b[0mkwargs\u001b[0m\u001b[0;34m)\u001b[0m\u001b[0;34m\u001b[0m\u001b[0;34m\u001b[0m\u001b[0m\n\u001b[0m\u001b[1;32m   2829\u001b[0m     \u001b[0;32mreturn\u001b[0m \u001b[0mgraph_function\u001b[0m\u001b[0;34m.\u001b[0m\u001b[0m_filtered_call\u001b[0m\u001b[0;34m(\u001b[0m\u001b[0margs\u001b[0m\u001b[0;34m,\u001b[0m \u001b[0mkwargs\u001b[0m\u001b[0;34m)\u001b[0m  \u001b[0;31m# pylint: disable=protected-access\u001b[0m\u001b[0;34m\u001b[0m\u001b[0;34m\u001b[0m\u001b[0m\n\u001b[1;32m   2830\u001b[0m \u001b[0;34m\u001b[0m\u001b[0m\n",
            "\u001b[0;32m/usr/local/lib/python3.6/dist-packages/tensorflow/python/eager/function.py\u001b[0m in \u001b[0;36m_maybe_define_function\u001b[0;34m(self, args, kwargs)\u001b[0m\n\u001b[1;32m   3208\u001b[0m           \u001b[0;32mand\u001b[0m \u001b[0mself\u001b[0m\u001b[0;34m.\u001b[0m\u001b[0minput_signature\u001b[0m \u001b[0;32mis\u001b[0m \u001b[0;32mNone\u001b[0m\u001b[0;34m\u001b[0m\u001b[0;34m\u001b[0m\u001b[0m\n\u001b[1;32m   3209\u001b[0m           and call_context_key in self._function_cache.missed):\n\u001b[0;32m-> 3210\u001b[0;31m         \u001b[0;32mreturn\u001b[0m \u001b[0mself\u001b[0m\u001b[0;34m.\u001b[0m\u001b[0m_define_function_with_shape_relaxation\u001b[0m\u001b[0;34m(\u001b[0m\u001b[0margs\u001b[0m\u001b[0;34m,\u001b[0m \u001b[0mkwargs\u001b[0m\u001b[0;34m)\u001b[0m\u001b[0;34m\u001b[0m\u001b[0;34m\u001b[0m\u001b[0m\n\u001b[0m\u001b[1;32m   3211\u001b[0m \u001b[0;34m\u001b[0m\u001b[0m\n\u001b[1;32m   3212\u001b[0m       \u001b[0mself\u001b[0m\u001b[0;34m.\u001b[0m\u001b[0m_function_cache\u001b[0m\u001b[0;34m.\u001b[0m\u001b[0mmissed\u001b[0m\u001b[0;34m.\u001b[0m\u001b[0madd\u001b[0m\u001b[0;34m(\u001b[0m\u001b[0mcall_context_key\u001b[0m\u001b[0;34m)\u001b[0m\u001b[0;34m\u001b[0m\u001b[0;34m\u001b[0m\u001b[0m\n",
            "\u001b[0;32m/usr/local/lib/python3.6/dist-packages/tensorflow/python/eager/function.py\u001b[0m in \u001b[0;36m_define_function_with_shape_relaxation\u001b[0;34m(self, args, kwargs)\u001b[0m\n\u001b[1;32m   3140\u001b[0m \u001b[0;34m\u001b[0m\u001b[0m\n\u001b[1;32m   3141\u001b[0m     graph_function = self._create_graph_function(\n\u001b[0;32m-> 3142\u001b[0;31m         args, kwargs, override_flat_arg_shapes=relaxed_arg_shapes)\n\u001b[0m\u001b[1;32m   3143\u001b[0m     \u001b[0mself\u001b[0m\u001b[0;34m.\u001b[0m\u001b[0m_function_cache\u001b[0m\u001b[0;34m.\u001b[0m\u001b[0marg_relaxed\u001b[0m\u001b[0;34m[\u001b[0m\u001b[0mrank_only_cache_key\u001b[0m\u001b[0;34m]\u001b[0m \u001b[0;34m=\u001b[0m \u001b[0mgraph_function\u001b[0m\u001b[0;34m\u001b[0m\u001b[0;34m\u001b[0m\u001b[0m\n\u001b[1;32m   3144\u001b[0m \u001b[0;34m\u001b[0m\u001b[0m\n",
            "\u001b[0;32m/usr/local/lib/python3.6/dist-packages/tensorflow/python/eager/function.py\u001b[0m in \u001b[0;36m_create_graph_function\u001b[0;34m(self, args, kwargs, override_flat_arg_shapes)\u001b[0m\n\u001b[1;32m   3073\u001b[0m             \u001b[0marg_names\u001b[0m\u001b[0;34m=\u001b[0m\u001b[0marg_names\u001b[0m\u001b[0;34m,\u001b[0m\u001b[0;34m\u001b[0m\u001b[0;34m\u001b[0m\u001b[0m\n\u001b[1;32m   3074\u001b[0m             \u001b[0moverride_flat_arg_shapes\u001b[0m\u001b[0;34m=\u001b[0m\u001b[0moverride_flat_arg_shapes\u001b[0m\u001b[0;34m,\u001b[0m\u001b[0;34m\u001b[0m\u001b[0;34m\u001b[0m\u001b[0m\n\u001b[0;32m-> 3075\u001b[0;31m             capture_by_value=self._capture_by_value),\n\u001b[0m\u001b[1;32m   3076\u001b[0m         \u001b[0mself\u001b[0m\u001b[0;34m.\u001b[0m\u001b[0m_function_attributes\u001b[0m\u001b[0;34m,\u001b[0m\u001b[0;34m\u001b[0m\u001b[0;34m\u001b[0m\u001b[0m\n\u001b[1;32m   3077\u001b[0m         \u001b[0mfunction_spec\u001b[0m\u001b[0;34m=\u001b[0m\u001b[0mself\u001b[0m\u001b[0;34m.\u001b[0m\u001b[0mfunction_spec\u001b[0m\u001b[0;34m,\u001b[0m\u001b[0;34m\u001b[0m\u001b[0;34m\u001b[0m\u001b[0m\n",
            "\u001b[0;32m/usr/local/lib/python3.6/dist-packages/tensorflow/python/framework/func_graph.py\u001b[0m in \u001b[0;36mfunc_graph_from_py_func\u001b[0;34m(name, python_func, args, kwargs, signature, func_graph, autograph, autograph_options, add_control_dependencies, arg_names, op_return_value, collections, capture_by_value, override_flat_arg_shapes)\u001b[0m\n\u001b[1;32m    984\u001b[0m         \u001b[0m_\u001b[0m\u001b[0;34m,\u001b[0m \u001b[0moriginal_func\u001b[0m \u001b[0;34m=\u001b[0m \u001b[0mtf_decorator\u001b[0m\u001b[0;34m.\u001b[0m\u001b[0munwrap\u001b[0m\u001b[0;34m(\u001b[0m\u001b[0mpython_func\u001b[0m\u001b[0;34m)\u001b[0m\u001b[0;34m\u001b[0m\u001b[0;34m\u001b[0m\u001b[0m\n\u001b[1;32m    985\u001b[0m \u001b[0;34m\u001b[0m\u001b[0m\n\u001b[0;32m--> 986\u001b[0;31m       \u001b[0mfunc_outputs\u001b[0m \u001b[0;34m=\u001b[0m \u001b[0mpython_func\u001b[0m\u001b[0;34m(\u001b[0m\u001b[0;34m*\u001b[0m\u001b[0mfunc_args\u001b[0m\u001b[0;34m,\u001b[0m \u001b[0;34m**\u001b[0m\u001b[0mfunc_kwargs\u001b[0m\u001b[0;34m)\u001b[0m\u001b[0;34m\u001b[0m\u001b[0;34m\u001b[0m\u001b[0m\n\u001b[0m\u001b[1;32m    987\u001b[0m \u001b[0;34m\u001b[0m\u001b[0m\n\u001b[1;32m    988\u001b[0m       \u001b[0;31m# invariant: `func_outputs` contains only Tensors, CompositeTensors,\u001b[0m\u001b[0;34m\u001b[0m\u001b[0;34m\u001b[0m\u001b[0;34m\u001b[0m\u001b[0m\n",
            "\u001b[0;32m/usr/local/lib/python3.6/dist-packages/tensorflow/python/eager/def_function.py\u001b[0m in \u001b[0;36mwrapped_fn\u001b[0;34m(*args, **kwds)\u001b[0m\n\u001b[1;32m    598\u001b[0m         \u001b[0;31m# __wrapped__ allows AutoGraph to swap in a converted function. We give\u001b[0m\u001b[0;34m\u001b[0m\u001b[0;34m\u001b[0m\u001b[0;34m\u001b[0m\u001b[0m\n\u001b[1;32m    599\u001b[0m         \u001b[0;31m# the function a weak reference to itself to avoid a reference cycle.\u001b[0m\u001b[0;34m\u001b[0m\u001b[0;34m\u001b[0m\u001b[0;34m\u001b[0m\u001b[0m\n\u001b[0;32m--> 600\u001b[0;31m         \u001b[0;32mreturn\u001b[0m \u001b[0mweak_wrapped_fn\u001b[0m\u001b[0;34m(\u001b[0m\u001b[0;34m)\u001b[0m\u001b[0;34m.\u001b[0m\u001b[0m__wrapped__\u001b[0m\u001b[0;34m(\u001b[0m\u001b[0;34m*\u001b[0m\u001b[0margs\u001b[0m\u001b[0;34m,\u001b[0m \u001b[0;34m**\u001b[0m\u001b[0mkwds\u001b[0m\u001b[0;34m)\u001b[0m\u001b[0;34m\u001b[0m\u001b[0;34m\u001b[0m\u001b[0m\n\u001b[0m\u001b[1;32m    601\u001b[0m     \u001b[0mweak_wrapped_fn\u001b[0m \u001b[0;34m=\u001b[0m \u001b[0mweakref\u001b[0m\u001b[0;34m.\u001b[0m\u001b[0mref\u001b[0m\u001b[0;34m(\u001b[0m\u001b[0mwrapped_fn\u001b[0m\u001b[0;34m)\u001b[0m\u001b[0;34m\u001b[0m\u001b[0;34m\u001b[0m\u001b[0m\n\u001b[1;32m    602\u001b[0m \u001b[0;34m\u001b[0m\u001b[0m\n",
            "\u001b[0;32m/usr/local/lib/python3.6/dist-packages/tensorflow/python/framework/func_graph.py\u001b[0m in \u001b[0;36mwrapper\u001b[0;34m(*args, **kwargs)\u001b[0m\n\u001b[1;32m    971\u001b[0m           \u001b[0;32mexcept\u001b[0m \u001b[0mException\u001b[0m \u001b[0;32mas\u001b[0m \u001b[0me\u001b[0m\u001b[0;34m:\u001b[0m  \u001b[0;31m# pylint:disable=broad-except\u001b[0m\u001b[0;34m\u001b[0m\u001b[0;34m\u001b[0m\u001b[0m\n\u001b[1;32m    972\u001b[0m             \u001b[0;32mif\u001b[0m \u001b[0mhasattr\u001b[0m\u001b[0;34m(\u001b[0m\u001b[0me\u001b[0m\u001b[0;34m,\u001b[0m \u001b[0;34m\"ag_error_metadata\"\u001b[0m\u001b[0;34m)\u001b[0m\u001b[0;34m:\u001b[0m\u001b[0;34m\u001b[0m\u001b[0;34m\u001b[0m\u001b[0m\n\u001b[0;32m--> 973\u001b[0;31m               \u001b[0;32mraise\u001b[0m \u001b[0me\u001b[0m\u001b[0;34m.\u001b[0m\u001b[0mag_error_metadata\u001b[0m\u001b[0;34m.\u001b[0m\u001b[0mto_exception\u001b[0m\u001b[0;34m(\u001b[0m\u001b[0me\u001b[0m\u001b[0;34m)\u001b[0m\u001b[0;34m\u001b[0m\u001b[0;34m\u001b[0m\u001b[0m\n\u001b[0m\u001b[1;32m    974\u001b[0m             \u001b[0;32melse\u001b[0m\u001b[0;34m:\u001b[0m\u001b[0;34m\u001b[0m\u001b[0;34m\u001b[0m\u001b[0m\n\u001b[1;32m    975\u001b[0m               \u001b[0;32mraise\u001b[0m\u001b[0;34m\u001b[0m\u001b[0;34m\u001b[0m\u001b[0m\n",
            "\u001b[0;31mValueError\u001b[0m: in user code:\n\n    /usr/local/lib/python3.6/dist-packages/tensorflow/python/keras/engine/training.py:1224 test_function  *\n        return step_function(self, iterator)\n    /usr/local/lib/python3.6/dist-packages/tensorflow/python/keras/engine/training.py:1215 step_function  **\n        outputs = model.distribute_strategy.run(run_step, args=(data,))\n    /usr/local/lib/python3.6/dist-packages/tensorflow/python/distribute/distribute_lib.py:1211 run\n        return self._extended.call_for_each_replica(fn, args=args, kwargs=kwargs)\n    /usr/local/lib/python3.6/dist-packages/tensorflow/python/distribute/distribute_lib.py:2585 call_for_each_replica\n        return self._call_for_each_replica(fn, args, kwargs)\n    /usr/local/lib/python3.6/dist-packages/tensorflow/python/distribute/distribute_lib.py:2945 _call_for_each_replica\n        return fn(*args, **kwargs)\n    /usr/local/lib/python3.6/dist-packages/tensorflow/python/keras/engine/training.py:1208 run_step  **\n        outputs = model.test_step(data)\n    /usr/local/lib/python3.6/dist-packages/tensorflow/python/keras/engine/training.py:1177 test_step\n        y, y_pred, sample_weight, regularization_losses=self.losses)\n    /usr/local/lib/python3.6/dist-packages/tensorflow/python/keras/engine/compile_utils.py:204 __call__\n        loss_value = loss_obj(y_t, y_p, sample_weight=sw)\n    /usr/local/lib/python3.6/dist-packages/tensorflow/python/keras/losses.py:149 __call__\n        losses = ag_call(y_true, y_pred)\n    /usr/local/lib/python3.6/dist-packages/tensorflow/python/keras/losses.py:253 call  **\n        return ag_fn(y_true, y_pred, **self._fn_kwargs)\n    /usr/local/lib/python3.6/dist-packages/tensorflow/python/util/dispatch.py:201 wrapper\n        return target(*args, **kwargs)\n    /usr/local/lib/python3.6/dist-packages/tensorflow/python/keras/losses.py:1535 categorical_crossentropy\n        return K.categorical_crossentropy(y_true, y_pred, from_logits=from_logits)\n    /usr/local/lib/python3.6/dist-packages/tensorflow/python/util/dispatch.py:201 wrapper\n        return target(*args, **kwargs)\n    /usr/local/lib/python3.6/dist-packages/tensorflow/python/keras/backend.py:4687 categorical_crossentropy\n        target.shape.assert_is_compatible_with(output.shape)\n    /usr/local/lib/python3.6/dist-packages/tensorflow/python/framework/tensor_shape.py:1134 assert_is_compatible_with\n        raise ValueError(\"Shapes %s and %s are incompatible\" % (self, other))\n\n    ValueError: Shapes (None, 1) and (None, 11) are incompatible\n"
          ]
        }
      ]
    },
    {
      "cell_type": "code",
      "metadata": {
        "id": "Ol2Q8hOXjKfr"
      },
      "source": [
        "# predict\n",
        "s = 'happy'\n",
        "pred = predict(label_dict, s, model)\n",
        "print('Word: {}'.format(s))\n",
        "print('Prediction: {}'.format(pred))"
      ],
      "execution_count": null,
      "outputs": []
    },
    {
      "cell_type": "code",
      "metadata": {
        "id": "Rbh8T-mrx20u"
      },
      "source": [
        "# evaluation confusion matrix\n",
        "tf.math.confusion_matrix(labels=y_validation, predictions=x_validation) # what X prediction should I use here? "
      ],
      "execution_count": null,
      "outputs": []
    },
    {
      "cell_type": "code",
      "metadata": {
        "id": "7TlxepYljOxE"
      },
      "source": [
        "# save the model\n",
        "!mkdir models\n",
        "model.save(MODEL_PATH)"
      ],
      "execution_count": null,
      "outputs": []
    },
    {
      "cell_type": "code",
      "metadata": {
        "id": "Hp7RGZe-jPDB"
      },
      "source": [
        "# convert to modeljs\n",
        "tfjs.converters.save_keras_model(model, 'tfjsmodel')"
      ],
      "execution_count": null,
      "outputs": []
    }
  ]
}