{
  "nbformat": 4,
  "nbformat_minor": 0,
  "metadata": {
    "colab": {
      "name": "prediction VAD keras model.ipynb",
      "provenance": [],
      "collapsed_sections": [],
      "toc_visible": true,
      "machine_shape": "hm"
    },
    "kernelspec": {
      "name": "python3",
      "display_name": "Python 3"
    },
    "accelerator": "GPU"
  },
  "cells": [
    {
      "cell_type": "markdown",
      "metadata": {
        "id": "3hCJ7VTq1r-B"
      },
      "source": [
        "---\n",
        "# **Sentiment Analysis**\n",
        "---"
      ]
    },
    {
      "cell_type": "code",
      "metadata": {
        "id": "w-QOPNtx1zeC"
      },
      "source": [
        "import pandas\n",
        "from keras.models import Sequential\n",
        "from keras.layers import Dense\n",
        "from keras.wrappers.scikit_learn import KerasClassifier\n",
        "from keras.utils import np_utils\n",
        "from sklearn.model_selection import cross_val_score\n",
        "from sklearn.model_selection import KFold\n",
        "from sklearn.preprocessing import LabelEncoder\n",
        "from sklearn.pipeline import Pipeline\n",
        "from keras.utils import plot_model\n",
        "\n",
        "\n",
        "# Data analysis\n",
        "from keras.layers.merge import Concatenate\n",
        "from collections import Counter\n",
        "import matplotlib.pyplot as plt\n",
        "from keras.layers import Input\n",
        "from keras.models import Model\n",
        "from numpy import array\n",
        "from numpy import asarray\n",
        "from numpy import zeros\n",
        "from keras.utils import plot_model\n",
        "import pandas as pd\n",
        "import numpy as np\n",
        "import sys\n",
        "import re\n",
        "\n",
        "%matplotlib inline\n",
        "\n",
        "# Image\n",
        "from wordcloud import WordCloud, STOPWORDS, ImageColorGenerator # to create a Word Cloud\n",
        "from PIL import Image # Pillow with WordCloud to image manipulation\n",
        "\n",
        "import sys\n",
        "import logging\n",
        "from psutil import virtual_memory"
      ],
      "execution_count": null,
      "outputs": []
    },
    {
      "cell_type": "code",
      "metadata": {
        "id": "Hwjmtq46p5CB"
      },
      "source": [
        "gpu_info = !nvidia-smi\n",
        "gpu_info = '\\n'.join(gpu_info)\n",
        "ram_gb = virtual_memory().total / 1e9"
      ],
      "execution_count": null,
      "outputs": []
    },
    {
      "cell_type": "code",
      "metadata": {
        "id": "6Tlx45P_p3bx"
      },
      "source": [
        "tf_response = {\n",
        "    'error': None,\n",
        "    'TF version': '',\n",
        "    'COLAB': None,\n",
        "    'GPU': False,\n",
        "    'ram_gb': ''\n",
        "}"
      ],
      "execution_count": null,
      "outputs": []
    },
    {
      "cell_type": "code",
      "metadata": {
        "id": "U5oSK2VvpaFy",
        "outputId": "de1d41ca-08cd-41ff-dfa9-70df0523cc3f",
        "colab": {
          "base_uri": "https://localhost:8080/",
          "height": 1000
        }
      },
      "source": [
        "try:\n",
        "    # drive\n",
        "    from google.colab import drive\n",
        "    IN_COLAB = 'google.colab' in sys.modules\n",
        "\n",
        "    # updating tensorflow version\n",
        "    %tensorflow_version 2.x\n",
        "\n",
        "    # tensorflow-gpu & tensorflowjs\n",
        "    !pip install tensorflow-gpu # !pip install tensorflow_text # I could use BERT\n",
        "    !pip install tensorflowjs\n",
        "\n",
        "    # NLP (nltk, stanza, spacy)\n",
        "    !pip install nltk\n",
        "    !pip install stanza\n",
        "    !pip install spacy\n",
        "    !spacy download en_core_web_sm # sm md lg\n",
        "    !python -m spacy download en\n",
        "except OSError as error:\n",
        "    # debugging error\n",
        "    response['error'] = logging.debug('You are not using your specify version of TensorFlow')\n",
        "    IN_COLAB = False\n",
        "    \n",
        "    # install requirements\n",
        "    !pip install -r '../requirements.txt'\n",
        "finally:\n",
        "    tf_response['COLAB'] = IN_COLAB\n",
        "    \n",
        "    # Importing tensroflow core\n",
        "    import tensorflow as tf\n",
        "    import tensorflowjs as tfjs\n",
        "    from tensorflow import keras\n",
        "    from keras.utils import to_categorical\n",
        "    from sklearn import preprocessing\n",
        "\n",
        "    from tensorflow.keras.preprocessing.text import Tokenizer\n",
        "    from tensorflow.keras.preprocessing.sequence import pad_sequences\n",
        "    from keras.callbacks import EarlyStopping\n",
        "    from keras.callbacks import ModelCheckpoint\n",
        "\n",
        "    from tensorflow.keras.models import Sequential\n",
        "    from tensorflow.keras.layers import Dense, Flatten, LSTM, Dropout, Activation, Embedding, Bidirectional, GlobalMaxPool1D\n",
        "\n",
        "    from sklearn.model_selection import train_test_split\n",
        "    \n",
        "    # GPU and RAM response\n",
        "    if tf.config.list_physical_devices('GPU'):\n",
        "        GPU = True\n",
        "        tf_response['GPU'] = GPU\n",
        "        tf_response['TF_version'] = tf.__version__\n",
        "        \n",
        "        if tf_response['COLAB'] == True:\n",
        "            if gpu_info.find('failed') >= 0:\n",
        "                print('Select the Runtime > \"Change runtime type\" menu to enable a GPU accelerator')\n",
        "                print('Re-execute this cell.')\n",
        "            else:\n",
        "                print(gpu_info)\n",
        "            \n",
        "            if ram_gb < 20:\n",
        "                print('To enable a high-RAM runtime, select the Runtime > \"Change runtime type menu\"')\n",
        "                print('Select high-RAM in the runtime shape dropdown')\n",
        "                print('Re-execute this cell')\n",
        "                tf_response['ram_gb'] = 'low-RAM runtime'\n",
        "            else:\n",
        "                tf_response['ram_gb'] = 'high-RAM runtime'\n",
        "            print('\\nRuntime {:.2f} GB of available RAM\\n'.format(ram_gb))"
      ],
      "execution_count": null,
      "outputs": [
        {
          "output_type": "stream",
          "text": [
            "Collecting tensorflow-gpu\n",
            "\u001b[?25l  Downloading https://files.pythonhosted.org/packages/18/99/ac32fd13d56e40d4c3e6150030132519997c0bb1f06f448d970e81b177e5/tensorflow_gpu-2.3.1-cp36-cp36m-manylinux2010_x86_64.whl (320.4MB)\n",
            "\u001b[K     |████████████████████████████████| 320.4MB 32kB/s \n",
            "\u001b[?25hRequirement already satisfied: absl-py>=0.7.0 in /usr/local/lib/python3.6/dist-packages (from tensorflow-gpu) (0.10.0)\n",
            "Requirement already satisfied: gast==0.3.3 in /usr/local/lib/python3.6/dist-packages (from tensorflow-gpu) (0.3.3)\n",
            "Requirement already satisfied: opt-einsum>=2.3.2 in /usr/local/lib/python3.6/dist-packages (from tensorflow-gpu) (3.3.0)\n",
            "Requirement already satisfied: wrapt>=1.11.1 in /usr/local/lib/python3.6/dist-packages (from tensorflow-gpu) (1.12.1)\n",
            "Requirement already satisfied: tensorboard<3,>=2.3.0 in /usr/local/lib/python3.6/dist-packages (from tensorflow-gpu) (2.3.0)\n",
            "Requirement already satisfied: wheel>=0.26 in /usr/local/lib/python3.6/dist-packages (from tensorflow-gpu) (0.35.1)\n",
            "Requirement already satisfied: six>=1.12.0 in /usr/local/lib/python3.6/dist-packages (from tensorflow-gpu) (1.15.0)\n",
            "Requirement already satisfied: astunparse==1.6.3 in /usr/local/lib/python3.6/dist-packages (from tensorflow-gpu) (1.6.3)\n",
            "Requirement already satisfied: numpy<1.19.0,>=1.16.0 in /usr/local/lib/python3.6/dist-packages (from tensorflow-gpu) (1.18.5)\n",
            "Requirement already satisfied: tensorflow-estimator<2.4.0,>=2.3.0 in /usr/local/lib/python3.6/dist-packages (from tensorflow-gpu) (2.3.0)\n",
            "Requirement already satisfied: termcolor>=1.1.0 in /usr/local/lib/python3.6/dist-packages (from tensorflow-gpu) (1.1.0)\n",
            "Requirement already satisfied: keras-preprocessing<1.2,>=1.1.1 in /usr/local/lib/python3.6/dist-packages (from tensorflow-gpu) (1.1.2)\n",
            "Requirement already satisfied: grpcio>=1.8.6 in /usr/local/lib/python3.6/dist-packages (from tensorflow-gpu) (1.32.0)\n",
            "Requirement already satisfied: h5py<2.11.0,>=2.10.0 in /usr/local/lib/python3.6/dist-packages (from tensorflow-gpu) (2.10.0)\n",
            "Requirement already satisfied: protobuf>=3.9.2 in /usr/local/lib/python3.6/dist-packages (from tensorflow-gpu) (3.12.4)\n",
            "Requirement already satisfied: google-pasta>=0.1.8 in /usr/local/lib/python3.6/dist-packages (from tensorflow-gpu) (0.2.0)\n",
            "Requirement already satisfied: werkzeug>=0.11.15 in /usr/local/lib/python3.6/dist-packages (from tensorboard<3,>=2.3.0->tensorflow-gpu) (1.0.1)\n",
            "Requirement already satisfied: setuptools>=41.0.0 in /usr/local/lib/python3.6/dist-packages (from tensorboard<3,>=2.3.0->tensorflow-gpu) (50.3.0)\n",
            "Requirement already satisfied: tensorboard-plugin-wit>=1.6.0 in /usr/local/lib/python3.6/dist-packages (from tensorboard<3,>=2.3.0->tensorflow-gpu) (1.7.0)\n",
            "Requirement already satisfied: google-auth<2,>=1.6.3 in /usr/local/lib/python3.6/dist-packages (from tensorboard<3,>=2.3.0->tensorflow-gpu) (1.17.2)\n",
            "Requirement already satisfied: google-auth-oauthlib<0.5,>=0.4.1 in /usr/local/lib/python3.6/dist-packages (from tensorboard<3,>=2.3.0->tensorflow-gpu) (0.4.1)\n",
            "Requirement already satisfied: requests<3,>=2.21.0 in /usr/local/lib/python3.6/dist-packages (from tensorboard<3,>=2.3.0->tensorflow-gpu) (2.23.0)\n",
            "Requirement already satisfied: markdown>=2.6.8 in /usr/local/lib/python3.6/dist-packages (from tensorboard<3,>=2.3.0->tensorflow-gpu) (3.2.2)\n",
            "Requirement already satisfied: pyasn1-modules>=0.2.1 in /usr/local/lib/python3.6/dist-packages (from google-auth<2,>=1.6.3->tensorboard<3,>=2.3.0->tensorflow-gpu) (0.2.8)\n",
            "Requirement already satisfied: cachetools<5.0,>=2.0.0 in /usr/local/lib/python3.6/dist-packages (from google-auth<2,>=1.6.3->tensorboard<3,>=2.3.0->tensorflow-gpu) (4.1.1)\n",
            "Requirement already satisfied: rsa<5,>=3.1.4; python_version >= \"3\" in /usr/local/lib/python3.6/dist-packages (from google-auth<2,>=1.6.3->tensorboard<3,>=2.3.0->tensorflow-gpu) (4.6)\n",
            "Requirement already satisfied: requests-oauthlib>=0.7.0 in /usr/local/lib/python3.6/dist-packages (from google-auth-oauthlib<0.5,>=0.4.1->tensorboard<3,>=2.3.0->tensorflow-gpu) (1.3.0)\n",
            "Requirement already satisfied: chardet<4,>=3.0.2 in /usr/local/lib/python3.6/dist-packages (from requests<3,>=2.21.0->tensorboard<3,>=2.3.0->tensorflow-gpu) (3.0.4)\n",
            "Requirement already satisfied: idna<3,>=2.5 in /usr/local/lib/python3.6/dist-packages (from requests<3,>=2.21.0->tensorboard<3,>=2.3.0->tensorflow-gpu) (2.10)\n",
            "Requirement already satisfied: urllib3!=1.25.0,!=1.25.1,<1.26,>=1.21.1 in /usr/local/lib/python3.6/dist-packages (from requests<3,>=2.21.0->tensorboard<3,>=2.3.0->tensorflow-gpu) (1.24.3)\n",
            "Requirement already satisfied: certifi>=2017.4.17 in /usr/local/lib/python3.6/dist-packages (from requests<3,>=2.21.0->tensorboard<3,>=2.3.0->tensorflow-gpu) (2020.6.20)\n",
            "Requirement already satisfied: importlib-metadata; python_version < \"3.8\" in /usr/local/lib/python3.6/dist-packages (from markdown>=2.6.8->tensorboard<3,>=2.3.0->tensorflow-gpu) (2.0.0)\n",
            "Requirement already satisfied: pyasn1<0.5.0,>=0.4.6 in /usr/local/lib/python3.6/dist-packages (from pyasn1-modules>=0.2.1->google-auth<2,>=1.6.3->tensorboard<3,>=2.3.0->tensorflow-gpu) (0.4.8)\n",
            "Requirement already satisfied: oauthlib>=3.0.0 in /usr/local/lib/python3.6/dist-packages (from requests-oauthlib>=0.7.0->google-auth-oauthlib<0.5,>=0.4.1->tensorboard<3,>=2.3.0->tensorflow-gpu) (3.1.0)\n",
            "Requirement already satisfied: zipp>=0.5 in /usr/local/lib/python3.6/dist-packages (from importlib-metadata; python_version < \"3.8\"->markdown>=2.6.8->tensorboard<3,>=2.3.0->tensorflow-gpu) (3.2.0)\n",
            "Installing collected packages: tensorflow-gpu\n",
            "Successfully installed tensorflow-gpu-2.3.1\n"
          ],
          "name": "stdout"
        },
        {
          "output_type": "display_data",
          "data": {
            "application/vnd.colab-display-data+json": {
              "pip_warning": {
                "packages": [
                  "tensorflow"
                ]
              }
            }
          },
          "metadata": {
            "tags": []
          }
        },
        {
          "output_type": "stream",
          "text": [
            "Collecting tensorflowjs\n",
            "\u001b[?25l  Downloading https://files.pythonhosted.org/packages/12/78/cfa27e5d15dbcc06b036cad25a8aee1c62b2fd6b91a88ecf550ad26ff0f6/tensorflowjs-2.4.0-py3-none-any.whl (61kB)\n",
            "\r\u001b[K     |█████▍                          | 10kB 26.6MB/s eta 0:00:01\r\u001b[K     |██████████▊                     | 20kB 5.9MB/s eta 0:00:01\r\u001b[K     |████████████████                | 30kB 7.2MB/s eta 0:00:01\r\u001b[K     |█████████████████████▍          | 40kB 8.0MB/s eta 0:00:01\r\u001b[K     |██████████████████████████▊     | 51kB 6.5MB/s eta 0:00:01\r\u001b[K     |████████████████████████████████| 61kB 4.3MB/s \n",
            "\u001b[?25hCollecting PyInquirer==1.0.3\n",
            "  Downloading https://files.pythonhosted.org/packages/fb/4c/434b7c454010a284b49d6f1d446fe8dc5960415613d8c0225b9e2efb6724/PyInquirer-1.0.3.tar.gz\n",
            "Collecting tensorflow-hub==0.7.0\n",
            "\u001b[?25l  Downloading https://files.pythonhosted.org/packages/00/0e/a91780d07592b1abf9c91344ce459472cc19db3b67fdf3a61dca6ebb2f5c/tensorflow_hub-0.7.0-py2.py3-none-any.whl (89kB)\n",
            "\u001b[K     |████████████████████████████████| 92kB 7.7MB/s \n",
            "\u001b[?25hRequirement already satisfied: numpy<1.19.0,>=1.16.4 in /usr/local/lib/python3.6/dist-packages (from tensorflowjs) (1.18.5)\n",
            "Collecting tensorflow-cpu<3,>=2.1.0\n",
            "\u001b[?25l  Downloading https://files.pythonhosted.org/packages/b7/1a/0dff6c8421f84b2f104adf48c8ad8b9ae5a693417868abacfab9f133c122/tensorflow_cpu-2.3.1-cp36-cp36m-manylinux2010_x86_64.whl (137.3MB)\n",
            "\u001b[K     |████████████████████████████████| 137.3MB 42kB/s \n",
            "\u001b[?25hRequirement already satisfied: h5py>=2.8.0 in /usr/local/lib/python3.6/dist-packages (from tensorflowjs) (2.10.0)\n",
            "Requirement already satisfied: six>=1.12.0 in /usr/local/lib/python3.6/dist-packages (from tensorflowjs) (1.15.0)\n",
            "Collecting prompt_toolkit==1.0.14\n",
            "\u001b[?25l  Downloading https://files.pythonhosted.org/packages/ee/3d/b25d35a9f0d381dd1c02d8e04b37c353caaaff4bc32150328eeebe4931f5/prompt_toolkit-1.0.14-py3-none-any.whl (248kB)\n",
            "\u001b[K     |████████████████████████████████| 256kB 73.7MB/s \n",
            "\u001b[?25hRequirement already satisfied: Pygments>=2.2.0 in /usr/local/lib/python3.6/dist-packages (from PyInquirer==1.0.3->tensorflowjs) (2.6.1)\n",
            "Requirement already satisfied: regex>=2016.11.21 in /usr/local/lib/python3.6/dist-packages (from PyInquirer==1.0.3->tensorflowjs) (2019.12.20)\n",
            "Requirement already satisfied: protobuf>=3.4.0 in /usr/local/lib/python3.6/dist-packages (from tensorflow-hub==0.7.0->tensorflowjs) (3.12.4)\n",
            "Requirement already satisfied: keras-preprocessing<1.2,>=1.1.1 in /usr/local/lib/python3.6/dist-packages (from tensorflow-cpu<3,>=2.1.0->tensorflowjs) (1.1.2)\n",
            "Requirement already satisfied: gast==0.3.3 in /usr/local/lib/python3.6/dist-packages (from tensorflow-cpu<3,>=2.1.0->tensorflowjs) (0.3.3)\n",
            "Requirement already satisfied: google-pasta>=0.1.8 in /usr/local/lib/python3.6/dist-packages (from tensorflow-cpu<3,>=2.1.0->tensorflowjs) (0.2.0)\n",
            "Requirement already satisfied: tensorflow-estimator<2.4.0,>=2.3.0 in /usr/local/lib/python3.6/dist-packages (from tensorflow-cpu<3,>=2.1.0->tensorflowjs) (2.3.0)\n",
            "Requirement already satisfied: absl-py>=0.7.0 in /usr/local/lib/python3.6/dist-packages (from tensorflow-cpu<3,>=2.1.0->tensorflowjs) (0.10.0)\n",
            "Requirement already satisfied: grpcio>=1.8.6 in /usr/local/lib/python3.6/dist-packages (from tensorflow-cpu<3,>=2.1.0->tensorflowjs) (1.32.0)\n",
            "Requirement already satisfied: termcolor>=1.1.0 in /usr/local/lib/python3.6/dist-packages (from tensorflow-cpu<3,>=2.1.0->tensorflowjs) (1.1.0)\n",
            "Requirement already satisfied: opt-einsum>=2.3.2 in /usr/local/lib/python3.6/dist-packages (from tensorflow-cpu<3,>=2.1.0->tensorflowjs) (3.3.0)\n",
            "Requirement already satisfied: wrapt>=1.11.1 in /usr/local/lib/python3.6/dist-packages (from tensorflow-cpu<3,>=2.1.0->tensorflowjs) (1.12.1)\n",
            "Requirement already satisfied: tensorboard<3,>=2.3.0 in /usr/local/lib/python3.6/dist-packages (from tensorflow-cpu<3,>=2.1.0->tensorflowjs) (2.3.0)\n",
            "Requirement already satisfied: wheel>=0.26 in /usr/local/lib/python3.6/dist-packages (from tensorflow-cpu<3,>=2.1.0->tensorflowjs) (0.35.1)\n",
            "Requirement already satisfied: astunparse==1.6.3 in /usr/local/lib/python3.6/dist-packages (from tensorflow-cpu<3,>=2.1.0->tensorflowjs) (1.6.3)\n",
            "Requirement already satisfied: wcwidth in /usr/local/lib/python3.6/dist-packages (from prompt_toolkit==1.0.14->PyInquirer==1.0.3->tensorflowjs) (0.2.5)\n",
            "Requirement already satisfied: setuptools in /usr/local/lib/python3.6/dist-packages (from protobuf>=3.4.0->tensorflow-hub==0.7.0->tensorflowjs) (50.3.0)\n",
            "Requirement already satisfied: werkzeug>=0.11.15 in /usr/local/lib/python3.6/dist-packages (from tensorboard<3,>=2.3.0->tensorflow-cpu<3,>=2.1.0->tensorflowjs) (1.0.1)\n",
            "Requirement already satisfied: google-auth<2,>=1.6.3 in /usr/local/lib/python3.6/dist-packages (from tensorboard<3,>=2.3.0->tensorflow-cpu<3,>=2.1.0->tensorflowjs) (1.17.2)\n",
            "Requirement already satisfied: tensorboard-plugin-wit>=1.6.0 in /usr/local/lib/python3.6/dist-packages (from tensorboard<3,>=2.3.0->tensorflow-cpu<3,>=2.1.0->tensorflowjs) (1.7.0)\n",
            "Requirement already satisfied: requests<3,>=2.21.0 in /usr/local/lib/python3.6/dist-packages (from tensorboard<3,>=2.3.0->tensorflow-cpu<3,>=2.1.0->tensorflowjs) (2.23.0)\n",
            "Requirement already satisfied: google-auth-oauthlib<0.5,>=0.4.1 in /usr/local/lib/python3.6/dist-packages (from tensorboard<3,>=2.3.0->tensorflow-cpu<3,>=2.1.0->tensorflowjs) (0.4.1)\n",
            "Requirement already satisfied: markdown>=2.6.8 in /usr/local/lib/python3.6/dist-packages (from tensorboard<3,>=2.3.0->tensorflow-cpu<3,>=2.1.0->tensorflowjs) (3.2.2)\n",
            "Requirement already satisfied: cachetools<5.0,>=2.0.0 in /usr/local/lib/python3.6/dist-packages (from google-auth<2,>=1.6.3->tensorboard<3,>=2.3.0->tensorflow-cpu<3,>=2.1.0->tensorflowjs) (4.1.1)\n",
            "Requirement already satisfied: pyasn1-modules>=0.2.1 in /usr/local/lib/python3.6/dist-packages (from google-auth<2,>=1.6.3->tensorboard<3,>=2.3.0->tensorflow-cpu<3,>=2.1.0->tensorflowjs) (0.2.8)\n",
            "Requirement already satisfied: rsa<5,>=3.1.4; python_version >= \"3\" in /usr/local/lib/python3.6/dist-packages (from google-auth<2,>=1.6.3->tensorboard<3,>=2.3.0->tensorflow-cpu<3,>=2.1.0->tensorflowjs) (4.6)\n",
            "Requirement already satisfied: certifi>=2017.4.17 in /usr/local/lib/python3.6/dist-packages (from requests<3,>=2.21.0->tensorboard<3,>=2.3.0->tensorflow-cpu<3,>=2.1.0->tensorflowjs) (2020.6.20)\n",
            "Requirement already satisfied: urllib3!=1.25.0,!=1.25.1,<1.26,>=1.21.1 in /usr/local/lib/python3.6/dist-packages (from requests<3,>=2.21.0->tensorboard<3,>=2.3.0->tensorflow-cpu<3,>=2.1.0->tensorflowjs) (1.24.3)\n",
            "Requirement already satisfied: chardet<4,>=3.0.2 in /usr/local/lib/python3.6/dist-packages (from requests<3,>=2.21.0->tensorboard<3,>=2.3.0->tensorflow-cpu<3,>=2.1.0->tensorflowjs) (3.0.4)\n",
            "Requirement already satisfied: idna<3,>=2.5 in /usr/local/lib/python3.6/dist-packages (from requests<3,>=2.21.0->tensorboard<3,>=2.3.0->tensorflow-cpu<3,>=2.1.0->tensorflowjs) (2.10)\n",
            "Requirement already satisfied: requests-oauthlib>=0.7.0 in /usr/local/lib/python3.6/dist-packages (from google-auth-oauthlib<0.5,>=0.4.1->tensorboard<3,>=2.3.0->tensorflow-cpu<3,>=2.1.0->tensorflowjs) (1.3.0)\n",
            "Requirement already satisfied: importlib-metadata; python_version < \"3.8\" in /usr/local/lib/python3.6/dist-packages (from markdown>=2.6.8->tensorboard<3,>=2.3.0->tensorflow-cpu<3,>=2.1.0->tensorflowjs) (2.0.0)\n",
            "Requirement already satisfied: pyasn1<0.5.0,>=0.4.6 in /usr/local/lib/python3.6/dist-packages (from pyasn1-modules>=0.2.1->google-auth<2,>=1.6.3->tensorboard<3,>=2.3.0->tensorflow-cpu<3,>=2.1.0->tensorflowjs) (0.4.8)\n",
            "Requirement already satisfied: oauthlib>=3.0.0 in /usr/local/lib/python3.6/dist-packages (from requests-oauthlib>=0.7.0->google-auth-oauthlib<0.5,>=0.4.1->tensorboard<3,>=2.3.0->tensorflow-cpu<3,>=2.1.0->tensorflowjs) (3.1.0)\n",
            "Requirement already satisfied: zipp>=0.5 in /usr/local/lib/python3.6/dist-packages (from importlib-metadata; python_version < \"3.8\"->markdown>=2.6.8->tensorboard<3,>=2.3.0->tensorflow-cpu<3,>=2.1.0->tensorflowjs) (3.2.0)\n",
            "Building wheels for collected packages: PyInquirer\n",
            "  Building wheel for PyInquirer (setup.py) ... \u001b[?25l\u001b[?25hdone\n",
            "  Created wheel for PyInquirer: filename=PyInquirer-1.0.3-cp36-none-any.whl size=32852 sha256=ba012c09830f98ce060f05c25f34fc85db25bef4463a9ced7b252d9aaac5d75d\n",
            "  Stored in directory: /root/.cache/pip/wheels/52/6c/b1/3e4b0e8daf42a92883c7641c0ea8ffb62e0490ebed2faa55ad\n",
            "Successfully built PyInquirer\n",
            "Installing collected packages: prompt-toolkit, PyInquirer, tensorflow-hub, tensorflow-cpu, tensorflowjs\n",
            "  Found existing installation: prompt-toolkit 1.0.18\n",
            "    Uninstalling prompt-toolkit-1.0.18:\n",
            "      Successfully uninstalled prompt-toolkit-1.0.18\n",
            "  Found existing installation: tensorflow-hub 0.9.0\n",
            "    Uninstalling tensorflow-hub-0.9.0:\n",
            "      Successfully uninstalled tensorflow-hub-0.9.0\n",
            "Successfully installed PyInquirer-1.0.3 prompt-toolkit-1.0.14 tensorflow-cpu-2.3.1 tensorflow-hub-0.7.0 tensorflowjs-2.4.0\n"
          ],
          "name": "stdout"
        },
        {
          "output_type": "display_data",
          "data": {
            "application/vnd.colab-display-data+json": {
              "pip_warning": {
                "packages": [
                  "prompt_toolkit",
                  "tensorflow"
                ]
              }
            }
          },
          "metadata": {
            "tags": []
          }
        },
        {
          "output_type": "stream",
          "text": [
            "Requirement already satisfied: nltk in /usr/local/lib/python3.6/dist-packages (3.2.5)\n",
            "Requirement already satisfied: six in /usr/local/lib/python3.6/dist-packages (from nltk) (1.15.0)\n",
            "Collecting stanza\n",
            "\u001b[?25l  Downloading https://files.pythonhosted.org/packages/e7/8b/3a9e7a8d8cb14ad6afffc3983b7a7322a3a24d94ebc978a70746fcffc085/stanza-1.1.1-py3-none-any.whl (227kB)\n",
            "\u001b[K     |████████████████████████████████| 235kB 8.4MB/s \n",
            "\u001b[?25hRequirement already satisfied: numpy in /usr/local/lib/python3.6/dist-packages (from stanza) (1.18.5)\n",
            "Requirement already satisfied: tqdm in /usr/local/lib/python3.6/dist-packages (from stanza) (4.41.1)\n",
            "Requirement already satisfied: protobuf in /usr/local/lib/python3.6/dist-packages (from stanza) (3.12.4)\n",
            "Requirement already satisfied: requests in /usr/local/lib/python3.6/dist-packages (from stanza) (2.23.0)\n",
            "Requirement already satisfied: torch>=1.3.0 in /usr/local/lib/python3.6/dist-packages (from stanza) (1.6.0+cu101)\n",
            "Requirement already satisfied: six>=1.9 in /usr/local/lib/python3.6/dist-packages (from protobuf->stanza) (1.15.0)\n",
            "Requirement already satisfied: setuptools in /usr/local/lib/python3.6/dist-packages (from protobuf->stanza) (50.3.0)\n",
            "Requirement already satisfied: certifi>=2017.4.17 in /usr/local/lib/python3.6/dist-packages (from requests->stanza) (2020.6.20)\n",
            "Requirement already satisfied: idna<3,>=2.5 in /usr/local/lib/python3.6/dist-packages (from requests->stanza) (2.10)\n",
            "Requirement already satisfied: urllib3!=1.25.0,!=1.25.1,<1.26,>=1.21.1 in /usr/local/lib/python3.6/dist-packages (from requests->stanza) (1.24.3)\n",
            "Requirement already satisfied: chardet<4,>=3.0.2 in /usr/local/lib/python3.6/dist-packages (from requests->stanza) (3.0.4)\n",
            "Requirement already satisfied: future in /usr/local/lib/python3.6/dist-packages (from torch>=1.3.0->stanza) (0.16.0)\n",
            "Installing collected packages: stanza\n",
            "Successfully installed stanza-1.1.1\n",
            "Requirement already satisfied: spacy in /usr/local/lib/python3.6/dist-packages (2.2.4)\n",
            "Requirement already satisfied: numpy>=1.15.0 in /usr/local/lib/python3.6/dist-packages (from spacy) (1.18.5)\n",
            "Requirement already satisfied: setuptools in /usr/local/lib/python3.6/dist-packages (from spacy) (50.3.0)\n",
            "Requirement already satisfied: thinc==7.4.0 in /usr/local/lib/python3.6/dist-packages (from spacy) (7.4.0)\n",
            "Requirement already satisfied: plac<1.2.0,>=0.9.6 in /usr/local/lib/python3.6/dist-packages (from spacy) (1.1.3)\n",
            "Requirement already satisfied: cymem<2.1.0,>=2.0.2 in /usr/local/lib/python3.6/dist-packages (from spacy) (2.0.3)\n",
            "Requirement already satisfied: blis<0.5.0,>=0.4.0 in /usr/local/lib/python3.6/dist-packages (from spacy) (0.4.1)\n",
            "Requirement already satisfied: preshed<3.1.0,>=3.0.2 in /usr/local/lib/python3.6/dist-packages (from spacy) (3.0.2)\n",
            "Requirement already satisfied: tqdm<5.0.0,>=4.38.0 in /usr/local/lib/python3.6/dist-packages (from spacy) (4.41.1)\n",
            "Requirement already satisfied: murmurhash<1.1.0,>=0.28.0 in /usr/local/lib/python3.6/dist-packages (from spacy) (1.0.2)\n",
            "Requirement already satisfied: wasabi<1.1.0,>=0.4.0 in /usr/local/lib/python3.6/dist-packages (from spacy) (0.8.0)\n",
            "Requirement already satisfied: requests<3.0.0,>=2.13.0 in /usr/local/lib/python3.6/dist-packages (from spacy) (2.23.0)\n",
            "Requirement already satisfied: catalogue<1.1.0,>=0.0.7 in /usr/local/lib/python3.6/dist-packages (from spacy) (1.0.0)\n",
            "Requirement already satisfied: srsly<1.1.0,>=1.0.2 in /usr/local/lib/python3.6/dist-packages (from spacy) (1.0.2)\n",
            "Requirement already satisfied: idna<3,>=2.5 in /usr/local/lib/python3.6/dist-packages (from requests<3.0.0,>=2.13.0->spacy) (2.10)\n",
            "Requirement already satisfied: urllib3!=1.25.0,!=1.25.1,<1.26,>=1.21.1 in /usr/local/lib/python3.6/dist-packages (from requests<3.0.0,>=2.13.0->spacy) (1.24.3)\n",
            "Requirement already satisfied: certifi>=2017.4.17 in /usr/local/lib/python3.6/dist-packages (from requests<3.0.0,>=2.13.0->spacy) (2020.6.20)\n",
            "Requirement already satisfied: chardet<4,>=3.0.2 in /usr/local/lib/python3.6/dist-packages (from requests<3.0.0,>=2.13.0->spacy) (3.0.4)\n",
            "Requirement already satisfied: importlib-metadata>=0.20; python_version < \"3.8\" in /usr/local/lib/python3.6/dist-packages (from catalogue<1.1.0,>=0.0.7->spacy) (2.0.0)\n",
            "Requirement already satisfied: zipp>=0.5 in /usr/local/lib/python3.6/dist-packages (from importlib-metadata>=0.20; python_version < \"3.8\"->catalogue<1.1.0,>=0.0.7->spacy) (3.2.0)\n",
            "Requirement already satisfied: en_core_web_sm==2.2.5 from https://github.com/explosion/spacy-models/releases/download/en_core_web_sm-2.2.5/en_core_web_sm-2.2.5.tar.gz#egg=en_core_web_sm==2.2.5 in /usr/local/lib/python3.6/dist-packages (2.2.5)\n",
            "Requirement already satisfied: spacy>=2.2.2 in /usr/local/lib/python3.6/dist-packages (from en_core_web_sm==2.2.5) (2.2.4)\n",
            "Requirement already satisfied: tqdm<5.0.0,>=4.38.0 in /usr/local/lib/python3.6/dist-packages (from spacy>=2.2.2->en_core_web_sm==2.2.5) (4.41.1)\n",
            "Requirement already satisfied: plac<1.2.0,>=0.9.6 in /usr/local/lib/python3.6/dist-packages (from spacy>=2.2.2->en_core_web_sm==2.2.5) (1.1.3)\n",
            "Requirement already satisfied: requests<3.0.0,>=2.13.0 in /usr/local/lib/python3.6/dist-packages (from spacy>=2.2.2->en_core_web_sm==2.2.5) (2.23.0)\n",
            "Requirement already satisfied: thinc==7.4.0 in /usr/local/lib/python3.6/dist-packages (from spacy>=2.2.2->en_core_web_sm==2.2.5) (7.4.0)\n",
            "Requirement already satisfied: wasabi<1.1.0,>=0.4.0 in /usr/local/lib/python3.6/dist-packages (from spacy>=2.2.2->en_core_web_sm==2.2.5) (0.8.0)\n",
            "Requirement already satisfied: blis<0.5.0,>=0.4.0 in /usr/local/lib/python3.6/dist-packages (from spacy>=2.2.2->en_core_web_sm==2.2.5) (0.4.1)\n",
            "Requirement already satisfied: murmurhash<1.1.0,>=0.28.0 in /usr/local/lib/python3.6/dist-packages (from spacy>=2.2.2->en_core_web_sm==2.2.5) (1.0.2)\n",
            "Requirement already satisfied: numpy>=1.15.0 in /usr/local/lib/python3.6/dist-packages (from spacy>=2.2.2->en_core_web_sm==2.2.5) (1.18.5)\n",
            "Requirement already satisfied: catalogue<1.1.0,>=0.0.7 in /usr/local/lib/python3.6/dist-packages (from spacy>=2.2.2->en_core_web_sm==2.2.5) (1.0.0)\n",
            "Requirement already satisfied: srsly<1.1.0,>=1.0.2 in /usr/local/lib/python3.6/dist-packages (from spacy>=2.2.2->en_core_web_sm==2.2.5) (1.0.2)\n",
            "Requirement already satisfied: cymem<2.1.0,>=2.0.2 in /usr/local/lib/python3.6/dist-packages (from spacy>=2.2.2->en_core_web_sm==2.2.5) (2.0.3)\n",
            "Requirement already satisfied: preshed<3.1.0,>=3.0.2 in /usr/local/lib/python3.6/dist-packages (from spacy>=2.2.2->en_core_web_sm==2.2.5) (3.0.2)\n",
            "Requirement already satisfied: setuptools in /usr/local/lib/python3.6/dist-packages (from spacy>=2.2.2->en_core_web_sm==2.2.5) (50.3.0)\n",
            "Requirement already satisfied: idna<3,>=2.5 in /usr/local/lib/python3.6/dist-packages (from requests<3.0.0,>=2.13.0->spacy>=2.2.2->en_core_web_sm==2.2.5) (2.10)\n",
            "Requirement already satisfied: urllib3!=1.25.0,!=1.25.1,<1.26,>=1.21.1 in /usr/local/lib/python3.6/dist-packages (from requests<3.0.0,>=2.13.0->spacy>=2.2.2->en_core_web_sm==2.2.5) (1.24.3)\n",
            "Requirement already satisfied: chardet<4,>=3.0.2 in /usr/local/lib/python3.6/dist-packages (from requests<3.0.0,>=2.13.0->spacy>=2.2.2->en_core_web_sm==2.2.5) (3.0.4)\n",
            "Requirement already satisfied: certifi>=2017.4.17 in /usr/local/lib/python3.6/dist-packages (from requests<3.0.0,>=2.13.0->spacy>=2.2.2->en_core_web_sm==2.2.5) (2020.6.20)\n",
            "Requirement already satisfied: importlib-metadata>=0.20; python_version < \"3.8\" in /usr/local/lib/python3.6/dist-packages (from catalogue<1.1.0,>=0.0.7->spacy>=2.2.2->en_core_web_sm==2.2.5) (2.0.0)\n",
            "Requirement already satisfied: zipp>=0.5 in /usr/local/lib/python3.6/dist-packages (from importlib-metadata>=0.20; python_version < \"3.8\"->catalogue<1.1.0,>=0.0.7->spacy>=2.2.2->en_core_web_sm==2.2.5) (3.2.0)\n",
            "\u001b[38;5;2m✔ Download and installation successful\u001b[0m\n",
            "You can now load the model via spacy.load('en_core_web_sm')\n",
            "Requirement already satisfied: en_core_web_sm==2.2.5 from https://github.com/explosion/spacy-models/releases/download/en_core_web_sm-2.2.5/en_core_web_sm-2.2.5.tar.gz#egg=en_core_web_sm==2.2.5 in /usr/local/lib/python3.6/dist-packages (2.2.5)\n",
            "Requirement already satisfied: spacy>=2.2.2 in /usr/local/lib/python3.6/dist-packages (from en_core_web_sm==2.2.5) (2.2.4)\n",
            "Requirement already satisfied: wasabi<1.1.0,>=0.4.0 in /usr/local/lib/python3.6/dist-packages (from spacy>=2.2.2->en_core_web_sm==2.2.5) (0.8.0)\n",
            "Requirement already satisfied: setuptools in /usr/local/lib/python3.6/dist-packages (from spacy>=2.2.2->en_core_web_sm==2.2.5) (50.3.0)\n",
            "Requirement already satisfied: cymem<2.1.0,>=2.0.2 in /usr/local/lib/python3.6/dist-packages (from spacy>=2.2.2->en_core_web_sm==2.2.5) (2.0.3)\n",
            "Requirement already satisfied: preshed<3.1.0,>=3.0.2 in /usr/local/lib/python3.6/dist-packages (from spacy>=2.2.2->en_core_web_sm==2.2.5) (3.0.2)\n",
            "Requirement already satisfied: srsly<1.1.0,>=1.0.2 in /usr/local/lib/python3.6/dist-packages (from spacy>=2.2.2->en_core_web_sm==2.2.5) (1.0.2)\n",
            "Requirement already satisfied: thinc==7.4.0 in /usr/local/lib/python3.6/dist-packages (from spacy>=2.2.2->en_core_web_sm==2.2.5) (7.4.0)\n",
            "Requirement already satisfied: catalogue<1.1.0,>=0.0.7 in /usr/local/lib/python3.6/dist-packages (from spacy>=2.2.2->en_core_web_sm==2.2.5) (1.0.0)\n",
            "Requirement already satisfied: tqdm<5.0.0,>=4.38.0 in /usr/local/lib/python3.6/dist-packages (from spacy>=2.2.2->en_core_web_sm==2.2.5) (4.41.1)\n",
            "Requirement already satisfied: blis<0.5.0,>=0.4.0 in /usr/local/lib/python3.6/dist-packages (from spacy>=2.2.2->en_core_web_sm==2.2.5) (0.4.1)\n",
            "Requirement already satisfied: numpy>=1.15.0 in /usr/local/lib/python3.6/dist-packages (from spacy>=2.2.2->en_core_web_sm==2.2.5) (1.18.5)\n",
            "Requirement already satisfied: murmurhash<1.1.0,>=0.28.0 in /usr/local/lib/python3.6/dist-packages (from spacy>=2.2.2->en_core_web_sm==2.2.5) (1.0.2)\n",
            "Requirement already satisfied: requests<3.0.0,>=2.13.0 in /usr/local/lib/python3.6/dist-packages (from spacy>=2.2.2->en_core_web_sm==2.2.5) (2.23.0)\n",
            "Requirement already satisfied: plac<1.2.0,>=0.9.6 in /usr/local/lib/python3.6/dist-packages (from spacy>=2.2.2->en_core_web_sm==2.2.5) (1.1.3)\n",
            "Requirement already satisfied: importlib-metadata>=0.20; python_version < \"3.8\" in /usr/local/lib/python3.6/dist-packages (from catalogue<1.1.0,>=0.0.7->spacy>=2.2.2->en_core_web_sm==2.2.5) (2.0.0)\n",
            "Requirement already satisfied: urllib3!=1.25.0,!=1.25.1,<1.26,>=1.21.1 in /usr/local/lib/python3.6/dist-packages (from requests<3.0.0,>=2.13.0->spacy>=2.2.2->en_core_web_sm==2.2.5) (1.24.3)\n",
            "Requirement already satisfied: certifi>=2017.4.17 in /usr/local/lib/python3.6/dist-packages (from requests<3.0.0,>=2.13.0->spacy>=2.2.2->en_core_web_sm==2.2.5) (2020.6.20)\n",
            "Requirement already satisfied: idna<3,>=2.5 in /usr/local/lib/python3.6/dist-packages (from requests<3.0.0,>=2.13.0->spacy>=2.2.2->en_core_web_sm==2.2.5) (2.10)\n",
            "Requirement already satisfied: chardet<4,>=3.0.2 in /usr/local/lib/python3.6/dist-packages (from requests<3.0.0,>=2.13.0->spacy>=2.2.2->en_core_web_sm==2.2.5) (3.0.4)\n",
            "Requirement already satisfied: zipp>=0.5 in /usr/local/lib/python3.6/dist-packages (from importlib-metadata>=0.20; python_version < \"3.8\"->catalogue<1.1.0,>=0.0.7->spacy>=2.2.2->en_core_web_sm==2.2.5) (3.2.0)\n",
            "\u001b[38;5;2m✔ Download and installation successful\u001b[0m\n",
            "You can now load the model via spacy.load('en_core_web_sm')\n",
            "\u001b[38;5;2m✔ Linking successful\u001b[0m\n",
            "/usr/local/lib/python3.6/dist-packages/en_core_web_sm -->\n",
            "/usr/local/lib/python3.6/dist-packages/spacy/data/en\n",
            "You can now load the model via spacy.load('en')\n",
            "Tue Oct  6 00:44:41 2020       \n",
            "+-----------------------------------------------------------------------------+\n",
            "| NVIDIA-SMI 455.23.05    Driver Version: 418.67       CUDA Version: 10.1     |\n",
            "|-------------------------------+----------------------+----------------------+\n",
            "| GPU  Name        Persistence-M| Bus-Id        Disp.A | Volatile Uncorr. ECC |\n",
            "| Fan  Temp  Perf  Pwr:Usage/Cap|         Memory-Usage | GPU-Util  Compute M. |\n",
            "|                               |                      |               MIG M. |\n",
            "|===============================+======================+======================|\n",
            "|   0  Tesla P100-PCIE...  Off  | 00000000:00:04.0 Off |                    0 |\n",
            "| N/A   35C    P0    25W / 250W |      0MiB / 16280MiB |      0%      Default |\n",
            "|                               |                      |                 ERR! |\n",
            "+-------------------------------+----------------------+----------------------+\n",
            "                                                                               \n",
            "+-----------------------------------------------------------------------------+\n",
            "| Processes:                                                                  |\n",
            "|  GPU   GI   CI        PID   Type   Process name                  GPU Memory |\n",
            "|        ID   ID                                                   Usage      |\n",
            "|=============================================================================|\n",
            "|  No running processes found                                                 |\n",
            "+-----------------------------------------------------------------------------+\n",
            "\n",
            "Runtime 27.39 GB of available RAM\n",
            "\n"
          ],
          "name": "stdout"
        }
      ]
    },
    {
      "cell_type": "code",
      "metadata": {
        "id": "TwgJcTzepeur",
        "outputId": "ff87e228-0451-4840-8bda-dc28a1dafba2",
        "colab": {
          "base_uri": "https://localhost:8080/",
          "height": 118
        }
      },
      "source": [
        "tf_response"
      ],
      "execution_count": null,
      "outputs": [
        {
          "output_type": "execute_result",
          "data": {
            "text/plain": [
              "{'COLAB': True,\n",
              " 'GPU': True,\n",
              " 'TF version': '',\n",
              " 'TF_version': '2.3.0',\n",
              " 'error': None,\n",
              " 'ram_gb': 'high-RAM runtime'}"
            ]
          },
          "metadata": {
            "tags": []
          },
          "execution_count": 5
        }
      ]
    },
    {
      "cell_type": "code",
      "metadata": {
        "id": "g46Leo44pFKm",
        "outputId": "1714782d-4c39-4647-9d33-d4c62828a15b",
        "colab": {
          "base_uri": "https://localhost:8080/",
          "height": 238
        }
      },
      "source": [
        "! pip install glove_python"
      ],
      "execution_count": null,
      "outputs": [
        {
          "output_type": "stream",
          "text": [
            "Collecting glove_python\n",
            "\u001b[?25l  Downloading https://files.pythonhosted.org/packages/3e/79/7e7e548dd9dcb741935d031117f4bed133276c2a047aadad42f1552d1771/glove_python-0.1.0.tar.gz (263kB)\n",
            "\r\u001b[K     |█▎                              | 10kB 25.1MB/s eta 0:00:01\r\u001b[K     |██▌                             | 20kB 5.6MB/s eta 0:00:01\r\u001b[K     |███▊                            | 30kB 5.7MB/s eta 0:00:01\r\u001b[K     |█████                           | 40kB 6.5MB/s eta 0:00:01\r\u001b[K     |██████▎                         | 51kB 6.5MB/s eta 0:00:01\r\u001b[K     |███████▌                        | 61kB 7.5MB/s eta 0:00:01\r\u001b[K     |████████▊                       | 71kB 7.8MB/s eta 0:00:01\r\u001b[K     |██████████                      | 81kB 7.4MB/s eta 0:00:01\r\u001b[K     |███████████▏                    | 92kB 7.5MB/s eta 0:00:01\r\u001b[K     |████████████▌                   | 102kB 7.7MB/s eta 0:00:01\r\u001b[K     |█████████████▊                  | 112kB 7.7MB/s eta 0:00:01\r\u001b[K     |███████████████                 | 122kB 7.7MB/s eta 0:00:01\r\u001b[K     |████████████████▏               | 133kB 7.7MB/s eta 0:00:01\r\u001b[K     |█████████████████▍              | 143kB 7.7MB/s eta 0:00:01\r\u001b[K     |██████████████████▊             | 153kB 7.7MB/s eta 0:00:01\r\u001b[K     |████████████████████            | 163kB 7.7MB/s eta 0:00:01\r\u001b[K     |█████████████████████▏          | 174kB 7.7MB/s eta 0:00:01\r\u001b[K     |██████████████████████▍         | 184kB 7.7MB/s eta 0:00:01\r\u001b[K     |███████████████████████▋        | 194kB 7.7MB/s eta 0:00:01\r\u001b[K     |█████████████████████████       | 204kB 7.7MB/s eta 0:00:01\r\u001b[K     |██████████████████████████▏     | 215kB 7.7MB/s eta 0:00:01\r\u001b[K     |███████████████████████████▍    | 225kB 7.7MB/s eta 0:00:01\r\u001b[K     |████████████████████████████▋   | 235kB 7.7MB/s eta 0:00:01\r\u001b[K     |█████████████████████████████▉  | 245kB 7.7MB/s eta 0:00:01\r\u001b[K     |███████████████████████████████▏| 256kB 7.7MB/s eta 0:00:01\r\u001b[K     |████████████████████████████████| 266kB 7.7MB/s \n",
            "\u001b[?25hRequirement already satisfied: numpy in /usr/local/lib/python3.6/dist-packages (from glove_python) (1.18.5)\n",
            "Requirement already satisfied: scipy in /usr/local/lib/python3.6/dist-packages (from glove_python) (1.4.1)\n",
            "Building wheels for collected packages: glove-python\n",
            "  Building wheel for glove-python (setup.py) ... \u001b[?25l\u001b[?25hdone\n",
            "  Created wheel for glove-python: filename=glove_python-0.1.0-cp36-cp36m-linux_x86_64.whl size=702609 sha256=cdbddc92a4c31aae1ef0099eb817b28aacf3cc2643dac51c08381a9b0bf35c1c\n",
            "  Stored in directory: /root/.cache/pip/wheels/88/4b/6d/10c0d2ad32c9d9d68beec9694a6f0b6e83ab1662a90a089a4b\n",
            "Successfully built glove-python\n",
            "Installing collected packages: glove-python\n",
            "Successfully installed glove-python-0.1.0\n"
          ],
          "name": "stdout"
        }
      ]
    },
    {
      "cell_type": "markdown",
      "metadata": {
        "id": "IFNjTuvU1_C_"
      },
      "source": [
        "## ii. Importing modules\n"
      ]
    },
    {
      "cell_type": "code",
      "metadata": {
        "id": "OIh873U819qU"
      },
      "source": [
        "# Data analysis\n",
        "from collections import Counter\n",
        "import matplotlib.pyplot as plt\n",
        "import pandas as pd\n",
        "import numpy as np\n",
        "import sys\n",
        "import re\n",
        "\n",
        "%matplotlib inline\n",
        "\n",
        "# Image\n",
        "from wordcloud import WordCloud, STOPWORDS, ImageColorGenerator # to create a Word Cloud\n",
        "from PIL import Image # Pillow with WordCloud to image manipulation\n",
        "\n",
        "#embeddings \n",
        "import glove\n",
        "\n",
        "#models and metrics\n",
        "from sklearn.model_selection import *\n",
        "from sklearn.metrics import *\n",
        "\n",
        "from sklearn.metrics import confusion_matrix, accuracy_score"
      ],
      "execution_count": null,
      "outputs": []
    },
    {
      "cell_type": "markdown",
      "metadata": {
        "id": "65vv-0JxQsUK"
      },
      "source": [
        "---\n",
        "# **4. Parameters**\n",
        "---"
      ]
    },
    {
      "cell_type": "code",
      "metadata": {
        "id": "hgAto0eNQtHH"
      },
      "source": [
        "#dimension of our embedding\n",
        "EMBEDDING_DIM=50\n",
        "#features needed from the dataset\n",
        "features = [\"Valence\",\"Arousal\",\"Dominance\",\"quadrant\"]\n",
        "#classes\n",
        "main_labels = ['confident', 'unconfident', \n",
        "               'pos_hp', 'neg_hp', \n",
        "               'interested', 'uninterested', \n",
        "               'happy', 'unhappy', \n",
        "               'friendly', 'unfriendly'\n",
        "               ]\n",
        "               \n",
        "label_dict = dict(zip(main_labels, range(0, len(main_labels) )))\n",
        "\n",
        "#inverting label_dict\n",
        "inv_label = {v: k for k, v in label_dict.items()}\n",
        "\n",
        "#number of inputs\n",
        "NUM_INP = 4\n",
        "\n",
        "#number of class\n",
        "NUM_CLASSES = len(main_labels)\n",
        "\n",
        "# \n",
        "epochs = 60\n",
        "batch_size = 64\n"
      ],
      "execution_count": null,
      "outputs": []
    },
    {
      "cell_type": "markdown",
      "metadata": {
        "id": "1yfg8TVR2SL_"
      },
      "source": [
        "---\n",
        "# **4. Load dataset**\n",
        "---"
      ]
    },
    {
      "cell_type": "code",
      "metadata": {
        "id": "gUCh3RCa2VS8"
      },
      "source": [
        "def load_clean_dataset():\n",
        "    \"\"\"\n",
        "    function that loads the dataframe\n",
        "\n",
        "    return : df -> dataframe \n",
        "    \"\"\"\n",
        "    !mkdir -p datasets\n",
        "    !wget -nc https://raw.githubusercontent.com/Y4rd13/sentiment-analysis/master/datasets/results/categories_dataset.csv -P datasets\n",
        "    df = pd.read_csv('./datasets/categories_dataset.csv', encoding='utf-8', index_col=0, dtype=({'score':float}))\n",
        "\n",
        "    return df"
      ],
      "execution_count": null,
      "outputs": []
    },
    {
      "cell_type": "code",
      "metadata": {
        "id": "DBXO0sRvmgix",
        "outputId": "cc7487a7-74d3-4e58-878b-8fc1023fddcb",
        "colab": {
          "base_uri": "https://localhost:8080/",
          "height": 202
        }
      },
      "source": [
        "df = load_clean_dataset()"
      ],
      "execution_count": null,
      "outputs": [
        {
          "output_type": "stream",
          "text": [
            "--2020-10-06 00:46:13--  https://raw.githubusercontent.com/Y4rd13/sentiment-analysis/master/datasets/results/categories_dataset.csv\n",
            "Resolving raw.githubusercontent.com (raw.githubusercontent.com)... 151.101.0.133, 151.101.64.133, 151.101.128.133, ...\n",
            "Connecting to raw.githubusercontent.com (raw.githubusercontent.com)|151.101.0.133|:443... connected.\n",
            "HTTP request sent, awaiting response... 200 OK\n",
            "Length: 7464477 (7.1M) [text/plain]\n",
            "Saving to: ‘datasets/categories_dataset.csv’\n",
            "\n",
            "categories_dataset. 100%[===================>]   7.12M  --.-KB/s    in 0.1s    \n",
            "\n",
            "2020-10-06 00:46:14 (48.1 MB/s) - ‘datasets/categories_dataset.csv’ saved [7464477/7464477]\n",
            "\n"
          ],
          "name": "stdout"
        }
      ]
    },
    {
      "cell_type": "markdown",
      "metadata": {
        "id": "l8J8_91sRKwo"
      },
      "source": [
        "Loading the Glove Embeddings"
      ]
    },
    {
      "cell_type": "code",
      "metadata": {
        "id": "l--8x2m-mjue",
        "outputId": "c956c03f-fbf2-41bf-aed7-3ce5b3fa1d92",
        "colab": {
          "base_uri": "https://localhost:8080/",
          "height": 50
        }
      },
      "source": [
        "import os, requests, shutil\n",
        "\n",
        "glove_dir = './data/RNN/'\n",
        "glove_100k_50d = 'glove.first-100k.6B.50d.txt'\n",
        "glove_100k_50d_path = os.path.join(glove_dir, glove_100k_50d)\n",
        "\n",
        "# These are temporary files if we need to download it from the original source (slow)\n",
        "data_cache = './data/cache'\n",
        "glove_full_tar = 'glove.6B.zip'\n",
        "glove_full_50d = 'glove.6B.50d.txt'\n",
        "\n",
        "#force_download_from_original=False\n",
        "download_url= 'http://redcatlabs.com/downloads/deep-learning-workshop/notebooks/data/RNN/'+glove_100k_50d\n",
        "original_url = 'http://nlp.stanford.edu/data/'+glove_full_tar\n",
        "\n",
        "if not os.path.isfile( glove_100k_50d_path ):\n",
        "    if not os.path.exists(glove_dir):\n",
        "        os.makedirs(glove_dir)\n",
        "    \n",
        "    # First, try to download a pre-prepared file directly...\n",
        "    response = requests.get(download_url, stream=True)\n",
        "    if response.status_code == requests.codes.ok:\n",
        "        print(\"Downloading 42Mb pre-prepared GloVE file from RedCatLabs\")\n",
        "        with open(glove_100k_50d_path, 'wb') as out_file:\n",
        "            shutil.copyfileobj(response.raw, out_file)\n",
        "    else:\n",
        "        # But, for some reason, RedCatLabs didn't give us the file directly\n",
        "        if not os.path.exists(data_cache):\n",
        "            os.makedirs(data_cache)\n",
        "        \n",
        "        if not os.path.isfile( os.path.join(data_cache, glove_full_50d) ):\n",
        "            zipfilepath = os.path.join(data_cache, glove_full_tar)\n",
        "            if not os.path.isfile( zipfilepath ):\n",
        "                print(\"Downloading 860Mb GloVE file from Stanford\")\n",
        "                response = requests.get(download_url, stream=True)\n",
        "                with open(zipfilepath, 'wb') as out_file:\n",
        "                    shutil.copyfileobj(response.raw, out_file)\n",
        "            if os.path.isfile(zipfilepath):\n",
        "                print(\"Unpacking 50d GloVE file from zip\")\n",
        "                import zipfile\n",
        "                zipfile.ZipFile(zipfilepath, 'r').extract(glove_full_50d, data_cache)\n",
        "\n",
        "        with open(os.path.join(data_cache, glove_full_50d), 'rt') as in_file:\n",
        "            with open(glove_100k_50d_path, 'wt') as out_file:\n",
        "                print(\"Reducing 50d GloVE file to first 100k words\")\n",
        "                for i, l in enumerate(in_file.readlines()):\n",
        "                    if i>=100000: break\n",
        "                    out_file.write(l)\n",
        "    \n",
        "        # Get rid of tarfile source (the required text file itself will remain)\n",
        "        #os.unlink(zipfilepath)\n",
        "        #os.unlink(os.path.join(data_cache, glove_full_50d))\n",
        "\n",
        "print(\"GloVE available locally\")"
      ],
      "execution_count": null,
      "outputs": [
        {
          "output_type": "stream",
          "text": [
            "Downloading 42Mb pre-prepared GloVE file from RedCatLabs\n",
            "GloVE available locally\n"
          ],
          "name": "stdout"
        }
      ]
    },
    {
      "cell_type": "code",
      "metadata": {
        "id": "hKwX4H0do-KI",
        "outputId": "7bef36cd-8e0c-4b2d-fdea-a561be18239d",
        "colab": {
          "base_uri": "https://localhost:8080/",
          "height": 34
        }
      },
      "source": [
        "# Due to size constraints, only use the first 100k vectors (i.e. 100k most frequently used words)\n",
        "word_embedding = glove.Glove.load_stanford( glove_100k_50d_path )\n",
        "word_embedding.word_vectors.shape"
      ],
      "execution_count": null,
      "outputs": [
        {
          "output_type": "execute_result",
          "data": {
            "text/plain": [
              "(100000, 50)"
            ]
          },
          "metadata": {
            "tags": []
          },
          "execution_count": 12
        }
      ]
    },
    {
      "cell_type": "code",
      "metadata": {
        "id": "qxYDBd5JpU6e"
      },
      "source": [
        "def get_embedding_vec(word):\n",
        "    \"\"\"\n",
        "    return : embedding vector of a word\n",
        "    \"\"\"\n",
        "    idx = word_embedding.dictionary.get(word.lower(), -1)\n",
        "    if idx<0:\n",
        "        #print(\"Missing word : '%s'\" % (word,))\n",
        "        return np.zeros(  (EMBEDDING_DIM, ), dtype='float32')  # UNK\n",
        "    return word_embedding.word_vectors[idx]"
      ],
      "execution_count": null,
      "outputs": []
    },
    {
      "cell_type": "code",
      "metadata": {
        "id": "sQxuHqWSAIsF"
      },
      "source": [
        "def prepare_x_y(df,features):\n",
        "  \"\"\"\n",
        "  function that creates X (features) and Y (labels)\n",
        "\n",
        "  return : x,y\n",
        "  \"\"\"\n",
        "  embedding_features =[]\n",
        "  for word in df[\"word\"]:\n",
        "    embedding_features.append(get_embedding_vec(word))\n",
        "\n",
        "  feats_without_embedding = df[features]\n",
        "  y = np.array(list(map(lambda x: label_dict[x.replace(' ', '_')], df[\"category\"])))\n",
        "\n",
        "  x = np.concatenate((feats_without_embedding,embedding_features),axis=1)\n",
        "\n",
        "  return x,y\n",
        "\n",
        "\n"
      ],
      "execution_count": null,
      "outputs": []
    },
    {
      "cell_type": "markdown",
      "metadata": {
        "id": "cH4wDqKfR57K"
      },
      "source": [
        "---\n",
        "# **4. Training Neural Nets**\n",
        "---"
      ]
    },
    {
      "cell_type": "markdown",
      "metadata": {
        "id": "6vPs4YlGQWTP"
      },
      "source": [
        "Preparation of X (features) and Y (labels) "
      ]
    },
    {
      "cell_type": "code",
      "metadata": {
        "id": "lUBiAJpc8vm4"
      },
      "source": [
        "x, y = prepare_x_y(df,features)"
      ],
      "execution_count": null,
      "outputs": []
    },
    {
      "cell_type": "markdown",
      "metadata": {
        "id": "XYIRg4-v1xUi"
      },
      "source": [
        "Creating our model"
      ]
    },
    {
      "cell_type": "code",
      "metadata": {
        "id": "deO8l1PaewqB"
      },
      "source": [
        "# define baseline model\n",
        "def baseline_model():\n",
        "\t# create model\n",
        "  input_1 = Input(shape=(NUM_INP+EMBEDDING_DIM,)) \n",
        "\n",
        "  dense_layer_1 = Dense(64, activation='relu')(input_1)\n",
        "\n",
        "  \n",
        "  output = Dense(NUM_CLASSES, activation='softmax')(dense_layer_1)\n",
        "  model = Model(inputs=input_1, outputs=output)\n",
        "  model.compile(loss='categorical_crossentropy', optimizer=tf.keras.optimizers.Adam(learning_rate=1e-4), metrics=['categorical_accuracy'])\n",
        "  model.summary()\n",
        "\n",
        "  return model"
      ],
      "execution_count": null,
      "outputs": []
    },
    {
      "cell_type": "markdown",
      "metadata": {
        "id": "NIShupbN1Sim"
      },
      "source": [
        "Here we do the stratified train and test split to concerve the distribution :"
      ]
    },
    {
      "cell_type": "code",
      "metadata": {
        "id": "BF9wJfuzyh3j"
      },
      "source": [
        "X_train, X_test, y_train, y_test = train_test_split(x, y,stratify=y,test_size=0.2, random_state=42)\n",
        "\n",
        "y_train = to_categorical(y_train)\n",
        "y_test = to_categorical(y_test)\n",
        "val_data = (X_test,y_test)"
      ],
      "execution_count": null,
      "outputs": []
    },
    {
      "cell_type": "code",
      "metadata": {
        "id": "Q8tgMr5Fhprq"
      },
      "source": [
        "def train(model,X_train,y_train,val_data,batch_size,epochs):\n",
        "\n",
        "  es = tf.keras.callbacks.EarlyStopping(monitor='val_loss', mode = 'min', patience=5)\n",
        "  mc = tf.keras.callbacks.ModelCheckpoint('tfjsmodel.h5', monitor='categorical_accuracy',mode = 'max', verbose=1, save_best_only=True)\n",
        "\n",
        "  history = model.fit(x=X_train, y=y_train, batch_size=batch_size, callbacks = [mc, es],epochs=epochs, verbose=1, validation_data=val_data)\n",
        "\n",
        "  return history"
      ],
      "execution_count": null,
      "outputs": []
    },
    {
      "cell_type": "code",
      "metadata": {
        "id": "2EkRsxidjQn6",
        "outputId": "baca3568-a6e1-4414-f711-47c2a817486e",
        "colab": {
          "base_uri": "https://localhost:8080/",
          "height": 1000
        }
      },
      "source": [
        "#X1_train,y_train,y_test, X1_test,X2_train,X2_test,maxlen,vocab_size,tokenizer, y_test_labels = preprocessing(X, y, maxlen) #preprocess dataset\n",
        "\n",
        "#embedding_matrix = GloVe(vocab_size, tokenizer) #glove\n",
        "def plot_history(history, string):\n",
        "    fitModel_dict = history.history\n",
        "\n",
        "    plt.figure(figsize=(10, 6))\n",
        "    plt.plot(fitModel_dict[string])\n",
        "    plt.plot(fitModel_dict['val_' + string])\n",
        "    plt.xlabel('Epochs')\n",
        "    plt.ylabel(string)\n",
        "    plt.legend([string, 'val_' + string])\n",
        "    plt.show()\n",
        "model = baseline_model() #building model\n",
        "\n",
        "plot_model(model, to_file='model_plot3.png', show_shapes=True, show_layer_names=True)\n",
        "\n",
        "history = train(model,X_train, y_train,val_data, batch_size, epochs)"
      ],
      "execution_count": null,
      "outputs": [
        {
          "output_type": "stream",
          "text": [
            "Model: \"functional_1\"\n",
            "_________________________________________________________________\n",
            "Layer (type)                 Output Shape              Param #   \n",
            "=================================================================\n",
            "input_1 (InputLayer)         [(None, 54)]              0         \n",
            "_________________________________________________________________\n",
            "dense (Dense)                (None, 64)                3520      \n",
            "_________________________________________________________________\n",
            "dense_1 (Dense)              (None, 10)                650       \n",
            "=================================================================\n",
            "Total params: 4,170\n",
            "Trainable params: 4,170\n",
            "Non-trainable params: 0\n",
            "_________________________________________________________________\n",
            "Epoch 1/60\n",
            "1104/1123 [============================>.] - ETA: 0s - loss: 1.9766 - categorical_accuracy: 0.3768\n",
            "Epoch 00001: categorical_accuracy improved from -inf to 0.37886, saving model to tfjsmodel.h5\n",
            "1123/1123 [==============================] - 3s 2ms/step - loss: 1.9717 - categorical_accuracy: 0.3789 - val_loss: 1.6774 - val_categorical_accuracy: 0.5026\n",
            "Epoch 2/60\n",
            "1109/1123 [============================>.] - ETA: 0s - loss: 1.4684 - categorical_accuracy: 0.5384\n",
            "Epoch 00002: categorical_accuracy improved from 0.37886 to 0.53866, saving model to tfjsmodel.h5\n",
            "1123/1123 [==============================] - 2s 2ms/step - loss: 1.4660 - categorical_accuracy: 0.5387 - val_loss: 1.2987 - val_categorical_accuracy: 0.5659\n",
            "Epoch 3/60\n",
            "1121/1123 [============================>.] - ETA: 0s - loss: 1.1820 - categorical_accuracy: 0.5892\n",
            "Epoch 00003: categorical_accuracy improved from 0.53866 to 0.58924, saving model to tfjsmodel.h5\n",
            "1123/1123 [==============================] - 2s 2ms/step - loss: 1.1818 - categorical_accuracy: 0.5892 - val_loss: 1.0865 - val_categorical_accuracy: 0.6117\n",
            "Epoch 4/60\n",
            "1101/1123 [============================>.] - ETA: 0s - loss: 1.0125 - categorical_accuracy: 0.6307\n",
            "Epoch 00004: categorical_accuracy improved from 0.58924 to 0.63091, saving model to tfjsmodel.h5\n",
            "1123/1123 [==============================] - 2s 2ms/step - loss: 1.0111 - categorical_accuracy: 0.6309 - val_loss: 0.9506 - val_categorical_accuracy: 0.6444\n",
            "Epoch 5/60\n",
            "1115/1123 [============================>.] - ETA: 0s - loss: 0.9007 - categorical_accuracy: 0.6580\n",
            "Epoch 00005: categorical_accuracy improved from 0.63091 to 0.65821, saving model to tfjsmodel.h5\n",
            "1123/1123 [==============================] - 2s 2ms/step - loss: 0.9006 - categorical_accuracy: 0.6582 - val_loss: 0.8616 - val_categorical_accuracy: 0.6653\n",
            "Epoch 6/60\n",
            "1098/1123 [============================>.] - ETA: 0s - loss: 0.8258 - categorical_accuracy: 0.6879\n",
            "Epoch 00006: categorical_accuracy improved from 0.65821 to 0.68777, saving model to tfjsmodel.h5\n",
            "1123/1123 [==============================] - 2s 2ms/step - loss: 0.8255 - categorical_accuracy: 0.6878 - val_loss: 0.7978 - val_categorical_accuracy: 0.6959\n",
            "Epoch 7/60\n",
            "1103/1123 [============================>.] - ETA: 0s - loss: 0.7688 - categorical_accuracy: 0.7086\n",
            "Epoch 00007: categorical_accuracy improved from 0.68777 to 0.70871, saving model to tfjsmodel.h5\n",
            "1123/1123 [==============================] - 2s 2ms/step - loss: 0.7685 - categorical_accuracy: 0.7087 - val_loss: 0.7466 - val_categorical_accuracy: 0.7142\n",
            "Epoch 8/60\n",
            "1109/1123 [============================>.] - ETA: 0s - loss: 0.7216 - categorical_accuracy: 0.7267\n",
            "Epoch 00008: categorical_accuracy improved from 0.70871 to 0.72690, saving model to tfjsmodel.h5\n",
            "1123/1123 [==============================] - 2s 2ms/step - loss: 0.7212 - categorical_accuracy: 0.7269 - val_loss: 0.7023 - val_categorical_accuracy: 0.7300\n",
            "Epoch 9/60\n",
            "1115/1123 [============================>.] - ETA: 0s - loss: 0.6795 - categorical_accuracy: 0.7430\n",
            "Epoch 00009: categorical_accuracy improved from 0.72690 to 0.74311, saving model to tfjsmodel.h5\n",
            "1123/1123 [==============================] - 2s 2ms/step - loss: 0.6793 - categorical_accuracy: 0.7431 - val_loss: 0.6629 - val_categorical_accuracy: 0.7497\n",
            "Epoch 10/60\n",
            "1102/1123 [============================>.] - ETA: 0s - loss: 0.6410 - categorical_accuracy: 0.7565\n",
            "Epoch 00010: categorical_accuracy improved from 0.74311 to 0.75657, saving model to tfjsmodel.h5\n",
            "1123/1123 [==============================] - 2s 2ms/step - loss: 0.6410 - categorical_accuracy: 0.7566 - val_loss: 0.6260 - val_categorical_accuracy: 0.7567\n",
            "Epoch 11/60\n",
            "1114/1123 [============================>.] - ETA: 0s - loss: 0.6063 - categorical_accuracy: 0.7674\n",
            "Epoch 00011: categorical_accuracy improved from 0.75657 to 0.76738, saving model to tfjsmodel.h5\n",
            "1123/1123 [==============================] - 2s 2ms/step - loss: 0.6064 - categorical_accuracy: 0.7674 - val_loss: 0.5927 - val_categorical_accuracy: 0.7698\n",
            "Epoch 12/60\n",
            "1101/1123 [============================>.] - ETA: 0s - loss: 0.5751 - categorical_accuracy: 0.7766\n",
            "Epoch 00012: categorical_accuracy improved from 0.76738 to 0.77685, saving model to tfjsmodel.h5\n",
            "1123/1123 [==============================] - 2s 2ms/step - loss: 0.5747 - categorical_accuracy: 0.7768 - val_loss: 0.5629 - val_categorical_accuracy: 0.7794\n",
            "Epoch 13/60\n",
            "1103/1123 [============================>.] - ETA: 0s - loss: 0.5463 - categorical_accuracy: 0.7836\n",
            "Epoch 00013: categorical_accuracy improved from 0.77685 to 0.78358, saving model to tfjsmodel.h5\n",
            "1123/1123 [==============================] - 2s 2ms/step - loss: 0.5463 - categorical_accuracy: 0.7836 - val_loss: 0.5357 - val_categorical_accuracy: 0.7818\n",
            "Epoch 14/60\n",
            "1102/1123 [============================>.] - ETA: 0s - loss: 0.5209 - categorical_accuracy: 0.7883\n",
            "Epoch 00014: categorical_accuracy improved from 0.78358 to 0.78799, saving model to tfjsmodel.h5\n",
            "1123/1123 [==============================] - 2s 2ms/step - loss: 0.5209 - categorical_accuracy: 0.7880 - val_loss: 0.5117 - val_categorical_accuracy: 0.7881\n",
            "Epoch 15/60\n",
            "1102/1123 [============================>.] - ETA: 0s - loss: 0.4979 - categorical_accuracy: 0.7932\n",
            "Epoch 00015: categorical_accuracy improved from 0.78799 to 0.79298, saving model to tfjsmodel.h5\n",
            "1123/1123 [==============================] - 2s 2ms/step - loss: 0.4979 - categorical_accuracy: 0.7930 - val_loss: 0.4904 - val_categorical_accuracy: 0.7900\n",
            "Epoch 16/60\n",
            "1096/1123 [============================>.] - ETA: 0s - loss: 0.4770 - categorical_accuracy: 0.7966\n",
            "Epoch 00016: categorical_accuracy improved from 0.79298 to 0.79626, saving model to tfjsmodel.h5\n",
            "1123/1123 [==============================] - 2s 2ms/step - loss: 0.4775 - categorical_accuracy: 0.7963 - val_loss: 0.4710 - val_categorical_accuracy: 0.7937\n",
            "Epoch 17/60\n",
            "1109/1123 [============================>.] - ETA: 0s - loss: 0.4594 - categorical_accuracy: 0.7997\n",
            "Epoch 00017: categorical_accuracy improved from 0.79626 to 0.79977, saving model to tfjsmodel.h5\n",
            "1123/1123 [==============================] - 2s 2ms/step - loss: 0.4592 - categorical_accuracy: 0.7998 - val_loss: 0.4537 - val_categorical_accuracy: 0.7954\n",
            "Epoch 18/60\n",
            "1123/1123 [==============================] - ETA: 0s - loss: 0.4428 - categorical_accuracy: 0.8016\n",
            "Epoch 00018: categorical_accuracy improved from 0.79977 to 0.80165, saving model to tfjsmodel.h5\n",
            "1123/1123 [==============================] - 2s 2ms/step - loss: 0.4428 - categorical_accuracy: 0.8016 - val_loss: 0.4377 - val_categorical_accuracy: 0.7975\n",
            "Epoch 19/60\n",
            "1103/1123 [============================>.] - ETA: 0s - loss: 0.4280 - categorical_accuracy: 0.8043\n",
            "Epoch 00019: categorical_accuracy improved from 0.80165 to 0.80418, saving model to tfjsmodel.h5\n",
            "1123/1123 [==============================] - 2s 2ms/step - loss: 0.4283 - categorical_accuracy: 0.8042 - val_loss: 0.4242 - val_categorical_accuracy: 0.7978\n",
            "Epoch 20/60\n",
            "1097/1123 [============================>.] - ETA: 0s - loss: 0.4156 - categorical_accuracy: 0.8073\n",
            "Epoch 00020: categorical_accuracy improved from 0.80418 to 0.80744, saving model to tfjsmodel.h5\n",
            "1123/1123 [==============================] - 2s 2ms/step - loss: 0.4152 - categorical_accuracy: 0.8074 - val_loss: 0.4124 - val_categorical_accuracy: 0.8000\n",
            "Epoch 21/60\n",
            "1100/1123 [============================>.] - ETA: 0s - loss: 0.4036 - categorical_accuracy: 0.8078\n",
            "Epoch 00021: categorical_accuracy improved from 0.80744 to 0.80776, saving model to tfjsmodel.h5\n",
            "1123/1123 [==============================] - 2s 2ms/step - loss: 0.4036 - categorical_accuracy: 0.8078 - val_loss: 0.4009 - val_categorical_accuracy: 0.8033\n",
            "Epoch 22/60\n",
            "1115/1123 [============================>.] - ETA: 0s - loss: 0.3930 - categorical_accuracy: 0.8070\n",
            "Epoch 00022: categorical_accuracy did not improve from 0.80776\n",
            "1123/1123 [==============================] - 2s 2ms/step - loss: 0.3931 - categorical_accuracy: 0.8072 - val_loss: 0.3907 - val_categorical_accuracy: 0.8030\n",
            "Epoch 23/60\n",
            "1116/1123 [============================>.] - ETA: 0s - loss: 0.3837 - categorical_accuracy: 0.8081\n",
            "Epoch 00023: categorical_accuracy improved from 0.80776 to 0.80822, saving model to tfjsmodel.h5\n",
            "1123/1123 [==============================] - 3s 2ms/step - loss: 0.3837 - categorical_accuracy: 0.8082 - val_loss: 0.3819 - val_categorical_accuracy: 0.8028\n",
            "Epoch 24/60\n",
            "1119/1123 [============================>.] - ETA: 0s - loss: 0.3755 - categorical_accuracy: 0.8078\n",
            "Epoch 00024: categorical_accuracy did not improve from 0.80822\n",
            "1123/1123 [==============================] - 3s 2ms/step - loss: 0.3755 - categorical_accuracy: 0.8076 - val_loss: 0.3741 - val_categorical_accuracy: 0.8028\n",
            "Epoch 25/60\n",
            "1110/1123 [============================>.] - ETA: 0s - loss: 0.3680 - categorical_accuracy: 0.8080\n",
            "Epoch 00025: categorical_accuracy did not improve from 0.80822\n",
            "1123/1123 [==============================] - 3s 2ms/step - loss: 0.3678 - categorical_accuracy: 0.8081 - val_loss: 0.3667 - val_categorical_accuracy: 0.8026\n",
            "Epoch 26/60\n",
            "1106/1123 [============================>.] - ETA: 0s - loss: 0.3610 - categorical_accuracy: 0.8079\n",
            "Epoch 00026: categorical_accuracy did not improve from 0.80822\n",
            "1123/1123 [==============================] - 2s 2ms/step - loss: 0.3610 - categorical_accuracy: 0.8079 - val_loss: 0.3607 - val_categorical_accuracy: 0.8021\n",
            "Epoch 27/60\n",
            "1114/1123 [============================>.] - ETA: 0s - loss: 0.3551 - categorical_accuracy: 0.8086\n",
            "Epoch 00027: categorical_accuracy improved from 0.80822 to 0.80865, saving model to tfjsmodel.h5\n",
            "1123/1123 [==============================] - 2s 2ms/step - loss: 0.3551 - categorical_accuracy: 0.8086 - val_loss: 0.3548 - val_categorical_accuracy: 0.8003\n",
            "Epoch 28/60\n",
            "1097/1123 [============================>.] - ETA: 0s - loss: 0.3494 - categorical_accuracy: 0.8083\n",
            "Epoch 00028: categorical_accuracy did not improve from 0.80865\n",
            "1123/1123 [==============================] - 2s 2ms/step - loss: 0.3496 - categorical_accuracy: 0.8080 - val_loss: 0.3495 - val_categorical_accuracy: 0.7986\n",
            "Epoch 29/60\n",
            "1105/1123 [============================>.] - ETA: 0s - loss: 0.3448 - categorical_accuracy: 0.8083\n",
            "Epoch 00029: categorical_accuracy did not improve from 0.80865\n",
            "1123/1123 [==============================] - 2s 2ms/step - loss: 0.3446 - categorical_accuracy: 0.8083 - val_loss: 0.3451 - val_categorical_accuracy: 0.8019\n",
            "Epoch 30/60\n",
            "1121/1123 [============================>.] - ETA: 0s - loss: 0.3402 - categorical_accuracy: 0.8084\n",
            "Epoch 00030: categorical_accuracy did not improve from 0.80865\n",
            "1123/1123 [==============================] - 2s 2ms/step - loss: 0.3402 - categorical_accuracy: 0.8083 - val_loss: 0.3411 - val_categorical_accuracy: 0.7999\n",
            "Epoch 31/60\n",
            "1116/1123 [============================>.] - ETA: 0s - loss: 0.3361 - categorical_accuracy: 0.8088\n",
            "Epoch 00031: categorical_accuracy did not improve from 0.80865\n",
            "1123/1123 [==============================] - 2s 2ms/step - loss: 0.3361 - categorical_accuracy: 0.8086 - val_loss: 0.3371 - val_categorical_accuracy: 0.8019\n",
            "Epoch 32/60\n",
            "1100/1123 [============================>.] - ETA: 0s - loss: 0.3325 - categorical_accuracy: 0.8070\n",
            "Epoch 00032: categorical_accuracy did not improve from 0.80865\n",
            "1123/1123 [==============================] - 2s 2ms/step - loss: 0.3325 - categorical_accuracy: 0.8070 - val_loss: 0.3348 - val_categorical_accuracy: 0.7983\n",
            "Epoch 33/60\n",
            "1121/1123 [============================>.] - ETA: 0s - loss: 0.3290 - categorical_accuracy: 0.8099\n",
            "Epoch 00033: categorical_accuracy improved from 0.80865 to 0.80994, saving model to tfjsmodel.h5\n",
            "1123/1123 [==============================] - 2s 2ms/step - loss: 0.3290 - categorical_accuracy: 0.8099 - val_loss: 0.3307 - val_categorical_accuracy: 0.8020\n",
            "Epoch 34/60\n",
            "1123/1123 [==============================] - ETA: 0s - loss: 0.3260 - categorical_accuracy: 0.8081\n",
            "Epoch 00034: categorical_accuracy did not improve from 0.80994\n",
            "1123/1123 [==============================] - 2s 2ms/step - loss: 0.3260 - categorical_accuracy: 0.8081 - val_loss: 0.3273 - val_categorical_accuracy: 0.7988\n",
            "Epoch 35/60\n",
            "1099/1123 [============================>.] - ETA: 0s - loss: 0.3229 - categorical_accuracy: 0.8079\n",
            "Epoch 00035: categorical_accuracy did not improve from 0.80994\n",
            "1123/1123 [==============================] - 2s 2ms/step - loss: 0.3232 - categorical_accuracy: 0.8077 - val_loss: 0.3252 - val_categorical_accuracy: 0.8004\n",
            "Epoch 36/60\n",
            "1122/1123 [============================>.] - ETA: 0s - loss: 0.3206 - categorical_accuracy: 0.8076\n",
            "Epoch 00036: categorical_accuracy did not improve from 0.80994\n",
            "1123/1123 [==============================] - 2s 2ms/step - loss: 0.3206 - categorical_accuracy: 0.8075 - val_loss: 0.3222 - val_categorical_accuracy: 0.8003\n",
            "Epoch 37/60\n",
            "1105/1123 [============================>.] - ETA: 0s - loss: 0.3184 - categorical_accuracy: 0.8078\n",
            "Epoch 00037: categorical_accuracy did not improve from 0.80994\n",
            "1123/1123 [==============================] - 2s 2ms/step - loss: 0.3183 - categorical_accuracy: 0.8078 - val_loss: 0.3207 - val_categorical_accuracy: 0.8020\n",
            "Epoch 38/60\n",
            "1098/1123 [============================>.] - ETA: 0s - loss: 0.3158 - categorical_accuracy: 0.8089\n",
            "Epoch 00038: categorical_accuracy did not improve from 0.80994\n",
            "1123/1123 [==============================] - 2s 2ms/step - loss: 0.3161 - categorical_accuracy: 0.8086 - val_loss: 0.3184 - val_categorical_accuracy: 0.8004\n",
            "Epoch 39/60\n",
            "1100/1123 [============================>.] - ETA: 0s - loss: 0.3141 - categorical_accuracy: 0.8086\n",
            "Epoch 00039: categorical_accuracy did not improve from 0.80994\n",
            "1123/1123 [==============================] - 2s 2ms/step - loss: 0.3141 - categorical_accuracy: 0.8086 - val_loss: 0.3168 - val_categorical_accuracy: 0.8028\n",
            "Epoch 40/60\n",
            "1122/1123 [============================>.] - ETA: 0s - loss: 0.3123 - categorical_accuracy: 0.8080\n",
            "Epoch 00040: categorical_accuracy did not improve from 0.80994\n",
            "1123/1123 [==============================] - 2s 2ms/step - loss: 0.3123 - categorical_accuracy: 0.8080 - val_loss: 0.3145 - val_categorical_accuracy: 0.7964\n",
            "Epoch 41/60\n",
            "1098/1123 [============================>.] - ETA: 0s - loss: 0.3105 - categorical_accuracy: 0.8087\n",
            "Epoch 00041: categorical_accuracy did not improve from 0.80994\n",
            "1123/1123 [==============================] - 2s 2ms/step - loss: 0.3104 - categorical_accuracy: 0.8086 - val_loss: 0.3131 - val_categorical_accuracy: 0.7969\n",
            "Epoch 42/60\n",
            "1105/1123 [============================>.] - ETA: 0s - loss: 0.3086 - categorical_accuracy: 0.8081\n",
            "Epoch 00042: categorical_accuracy did not improve from 0.80994\n",
            "1123/1123 [==============================] - 2s 2ms/step - loss: 0.3089 - categorical_accuracy: 0.8078 - val_loss: 0.3115 - val_categorical_accuracy: 0.7982\n",
            "Epoch 43/60\n",
            "1096/1123 [============================>.] - ETA: 0s - loss: 0.3075 - categorical_accuracy: 0.8083\n",
            "Epoch 00043: categorical_accuracy did not improve from 0.80994\n",
            "1123/1123 [==============================] - 2s 2ms/step - loss: 0.3074 - categorical_accuracy: 0.8082 - val_loss: 0.3098 - val_categorical_accuracy: 0.7959\n",
            "Epoch 44/60\n",
            "1097/1123 [============================>.] - ETA: 0s - loss: 0.3059 - categorical_accuracy: 0.8083\n",
            "Epoch 00044: categorical_accuracy did not improve from 0.80994\n",
            "1123/1123 [==============================] - 2s 2ms/step - loss: 0.3060 - categorical_accuracy: 0.8081 - val_loss: 0.3087 - val_categorical_accuracy: 0.7979\n",
            "Epoch 45/60\n",
            "1121/1123 [============================>.] - ETA: 0s - loss: 0.3048 - categorical_accuracy: 0.8084\n",
            "Epoch 00045: categorical_accuracy did not improve from 0.80994\n",
            "1123/1123 [==============================] - 2s 2ms/step - loss: 0.3048 - categorical_accuracy: 0.8084 - val_loss: 0.3076 - val_categorical_accuracy: 0.7955\n",
            "Epoch 46/60\n",
            "1110/1123 [============================>.] - ETA: 0s - loss: 0.3033 - categorical_accuracy: 0.8077\n",
            "Epoch 00046: categorical_accuracy did not improve from 0.80994\n",
            "1123/1123 [==============================] - 3s 3ms/step - loss: 0.3034 - categorical_accuracy: 0.8075 - val_loss: 0.3066 - val_categorical_accuracy: 0.7972\n",
            "Epoch 47/60\n",
            "1117/1123 [============================>.] - ETA: 0s - loss: 0.3023 - categorical_accuracy: 0.8098\n",
            "Epoch 00047: categorical_accuracy did not improve from 0.80994\n",
            "1123/1123 [==============================] - 3s 3ms/step - loss: 0.3023 - categorical_accuracy: 0.8097 - val_loss: 0.3054 - val_categorical_accuracy: 0.7981\n",
            "Epoch 48/60\n",
            "1120/1123 [============================>.] - ETA: 0s - loss: 0.3013 - categorical_accuracy: 0.8079\n",
            "Epoch 00048: categorical_accuracy did not improve from 0.80994\n",
            "1123/1123 [==============================] - 3s 3ms/step - loss: 0.3013 - categorical_accuracy: 0.8079 - val_loss: 0.3044 - val_categorical_accuracy: 0.7946\n",
            "Epoch 49/60\n",
            "1112/1123 [============================>.] - ETA: 0s - loss: 0.3002 - categorical_accuracy: 0.8089\n",
            "Epoch 00049: categorical_accuracy did not improve from 0.80994\n",
            "1123/1123 [==============================] - 3s 2ms/step - loss: 0.3002 - categorical_accuracy: 0.8089 - val_loss: 0.3039 - val_categorical_accuracy: 0.7980\n",
            "Epoch 50/60\n",
            "1104/1123 [============================>.] - ETA: 0s - loss: 0.2993 - categorical_accuracy: 0.8078\n",
            "Epoch 00050: categorical_accuracy did not improve from 0.80994\n",
            "1123/1123 [==============================] - 2s 2ms/step - loss: 0.2994 - categorical_accuracy: 0.8077 - val_loss: 0.3028 - val_categorical_accuracy: 0.7959\n",
            "Epoch 51/60\n",
            "1121/1123 [============================>.] - ETA: 0s - loss: 0.2985 - categorical_accuracy: 0.8089\n",
            "Epoch 00051: categorical_accuracy did not improve from 0.80994\n",
            "1123/1123 [==============================] - 2s 2ms/step - loss: 0.2984 - categorical_accuracy: 0.8090 - val_loss: 0.3020 - val_categorical_accuracy: 0.7967\n",
            "Epoch 52/60\n",
            "1098/1123 [============================>.] - ETA: 0s - loss: 0.2979 - categorical_accuracy: 0.8084\n",
            "Epoch 00052: categorical_accuracy did not improve from 0.80994\n",
            "1123/1123 [==============================] - 2s 2ms/step - loss: 0.2976 - categorical_accuracy: 0.8083 - val_loss: 0.3011 - val_categorical_accuracy: 0.7941\n",
            "Epoch 53/60\n",
            "1100/1123 [============================>.] - ETA: 0s - loss: 0.2964 - categorical_accuracy: 0.8101\n",
            "Epoch 00053: categorical_accuracy did not improve from 0.80994\n",
            "1123/1123 [==============================] - 2s 2ms/step - loss: 0.2967 - categorical_accuracy: 0.8098 - val_loss: 0.3004 - val_categorical_accuracy: 0.7958\n",
            "Epoch 54/60\n",
            "1117/1123 [============================>.] - ETA: 0s - loss: 0.2958 - categorical_accuracy: 0.8102\n",
            "Epoch 00054: categorical_accuracy improved from 0.80994 to 0.81003, saving model to tfjsmodel.h5\n",
            "1123/1123 [==============================] - 2s 2ms/step - loss: 0.2960 - categorical_accuracy: 0.8100 - val_loss: 0.2997 - val_categorical_accuracy: 0.7935\n",
            "Epoch 55/60\n",
            "1123/1123 [==============================] - ETA: 0s - loss: 0.2952 - categorical_accuracy: 0.8092\n",
            "Epoch 00055: categorical_accuracy did not improve from 0.81003\n",
            "1123/1123 [==============================] - 2s 2ms/step - loss: 0.2952 - categorical_accuracy: 0.8092 - val_loss: 0.2991 - val_categorical_accuracy: 0.7934\n",
            "Epoch 56/60\n",
            "1100/1123 [============================>.] - ETA: 0s - loss: 0.2946 - categorical_accuracy: 0.8088\n",
            "Epoch 00056: categorical_accuracy did not improve from 0.81003\n",
            "1123/1123 [==============================] - 2s 2ms/step - loss: 0.2945 - categorical_accuracy: 0.8089 - val_loss: 0.2984 - val_categorical_accuracy: 0.7918\n",
            "Epoch 57/60\n",
            "1122/1123 [============================>.] - ETA: 0s - loss: 0.2938 - categorical_accuracy: 0.8088\n",
            "Epoch 00057: categorical_accuracy did not improve from 0.81003\n",
            "1123/1123 [==============================] - 2s 2ms/step - loss: 0.2938 - categorical_accuracy: 0.8088 - val_loss: 0.2977 - val_categorical_accuracy: 0.7936\n",
            "Epoch 58/60\n",
            "1102/1123 [============================>.] - ETA: 0s - loss: 0.2932 - categorical_accuracy: 0.8088\n",
            "Epoch 00058: categorical_accuracy did not improve from 0.81003\n",
            "1123/1123 [==============================] - 2s 2ms/step - loss: 0.2932 - categorical_accuracy: 0.8089 - val_loss: 0.2977 - val_categorical_accuracy: 0.7957\n",
            "Epoch 59/60\n",
            "1118/1123 [============================>.] - ETA: 0s - loss: 0.2924 - categorical_accuracy: 0.8081\n",
            "Epoch 00059: categorical_accuracy did not improve from 0.81003\n",
            "1123/1123 [==============================] - 2s 2ms/step - loss: 0.2926 - categorical_accuracy: 0.8079 - val_loss: 0.2968 - val_categorical_accuracy: 0.7953\n",
            "Epoch 60/60\n",
            "1120/1123 [============================>.] - ETA: 0s - loss: 0.2920 - categorical_accuracy: 0.8084\n",
            "Epoch 00060: categorical_accuracy did not improve from 0.81003\n",
            "1123/1123 [==============================] - 2s 2ms/step - loss: 0.2920 - categorical_accuracy: 0.8083 - val_loss: 0.2961 - val_categorical_accuracy: 0.7987\n"
          ],
          "name": "stdout"
        }
      ]
    },
    {
      "cell_type": "code",
      "metadata": {
        "id": "3sugFRKRzcKI"
      },
      "source": [
        "def plot_history(history, string):\n",
        "    fitModel_dict = history.history\n",
        "\n",
        "    plt.figure(figsize=(10, 6))\n",
        "    plt.plot(fitModel_dict[string])\n",
        "    plt.plot(fitModel_dict['val_' + string])\n",
        "    \n",
        "    plt.xlabel('Epochs')\n",
        "    plt.ylabel(string)\n",
        "    plt.legend([string, 'val_' + string])\n",
        "    plt.show()"
      ],
      "execution_count": null,
      "outputs": []
    },
    {
      "cell_type": "code",
      "metadata": {
        "id": "A2A42oBRzl8Z",
        "outputId": "8bc16d44-7702-46f4-9df8-1d27f27435b8",
        "colab": {
          "base_uri": "https://localhost:8080/",
          "height": 759
        }
      },
      "source": [
        "plot_history(history, 'categorical_accuracy')\n",
        "plot_history(history, 'loss')"
      ],
      "execution_count": null,
      "outputs": [
        {
          "output_type": "display_data",
          "data": {
            "image/png": "[encoded data removed]",
            "text/plain": [
              "<Figure size 720x432 with 1 Axes>"
            ]
          },
          "metadata": {
            "tags": [],
            "needs_background": "light"
          }
        },
        {
          "output_type": "display_data",
          "data": {
            "image/png": "[encoded data removed]",
            "text/plain": [
              "<Figure size 720x432 with 1 Axes>"
            ]
          },
          "metadata": {
            "tags": [],
            "needs_background": "light"
          }
        }
      ]
    },
    {
      "cell_type": "code",
      "metadata": {
        "id": "ykPADplWzuP5"
      },
      "source": [
        "from keras.models import load_model"
      ],
      "execution_count": null,
      "outputs": []
    },
    {
      "cell_type": "code",
      "metadata": {
        "id": "g7uApuHWzwIp",
        "outputId": "0e435414-01ee-4d4f-ba0f-7a9ea91f36da",
        "colab": {
          "base_uri": "https://localhost:8080/",
          "height": 34
        }
      },
      "source": [
        "test_model = load_model('tfjsmodel.h5')\n",
        "prediction = test_model.predict(x=X_test, verbose = 1)"
      ],
      "execution_count": null,
      "outputs": [
        {
          "output_type": "stream",
          "text": [
            "562/562 [==============================] - 0s 821us/step\n"
          ],
          "name": "stdout"
        }
      ]
    },
    {
      "cell_type": "code",
      "metadata": {
        "id": "wIxf0T8B9qjM"
      },
      "source": [
        "[inv_label[np.argmax(p)] for p in prediction]"
      ],
      "execution_count": null,
      "outputs": []
    },
    {
      "cell_type": "code",
      "metadata": {
        "id": "fTkZB5e5z5HI"
      },
      "source": [
        "y_classes = prediction.argmax(axis=-1)"
      ],
      "execution_count": null,
      "outputs": []
    },
    {
      "cell_type": "code",
      "metadata": {
        "id": "H53aiRJuz8pY",
        "outputId": "64e6a5af-d131-4453-be8c-41737dee662d",
        "colab": {
          "base_uri": "https://localhost:8080/",
          "height": 34
        }
      },
      "source": [
        "test_score = model.evaluate(x=X_test, y=y_test, verbose=1)"
      ],
      "execution_count": null,
      "outputs": [
        {
          "output_type": "stream",
          "text": [
            "562/562 [==============================] - 1s 2ms/step - loss: 0.2961 - categorical_accuracy: 0.7987\n"
          ],
          "name": "stdout"
        }
      ]
    },
    {
      "cell_type": "code",
      "metadata": {
        "id": "XTjXgOd00AgI",
        "outputId": "585928b9-7e74-41f4-c29a-7649474ee8a2",
        "colab": {
          "base_uri": "https://localhost:8080/",
          "height": 34
        }
      },
      "source": [
        "test_score"
      ],
      "execution_count": null,
      "outputs": [
        {
          "output_type": "execute_result",
          "data": {
            "text/plain": [
              "[0.2961046099662781, 0.798697292804718]"
            ]
          },
          "metadata": {
            "tags": []
          },
          "execution_count": 27
        }
      ]
    },
    {
      "cell_type": "markdown",
      "metadata": {
        "id": "BxQe3Euw4KMh"
      },
      "source": [
        "---\n",
        "# **4. Prediction**\n",
        "---"
      ]
    },
    {
      "cell_type": "code",
      "metadata": {
        "id": "rOHW2N7JlkxU"
      },
      "source": [
        "def predict_class(word,valence,arousal,dominance,quadrant):\n",
        "  \"\"\"\n",
        "  a function that predicts sentiments from words\n",
        "\n",
        "  ARGUMENTS : \n",
        "\n",
        "  word : our word (exple happy, tolerant ..)\n",
        "\n",
        "  valence,arousal,dominance,quadrant : important features that boost the accuracy of the model\n",
        "\n",
        "  return : class predicted\n",
        "\n",
        "  \"\"\"\n",
        "\n",
        "  #creating the embedding of the word \n",
        "  embedding_features = get_embedding_vec(word)\n",
        "\n",
        "\n",
        "  feats_without_embedding = [valence, arousal, dominance, quadrant]\n",
        "\n",
        "  #creating our X that contains all features (word_embeddings, VADQ)\n",
        "  x_t = np.concatenate((feats_without_embedding,embedding_features)).reshape(1,54)\n",
        "  \n",
        "  #predictions (we will take saved models of each fold and do an average of predictions)\n",
        "  model = load_model('tfjsmodel.h5')\n",
        "  prediction = model.predict(x=x_t, verbose = 1)\n",
        "\n",
        "  return inv_label[np.argmax(prediction)]"
      ],
      "execution_count": null,
      "outputs": []
    },
    {
      "cell_type": "code",
      "metadata": {
        "id": "X654_HpC4fUG",
        "outputId": "4a465a07-2cdd-416c-cf8b-0f29bd548672",
        "colab": {
          "base_uri": "https://localhost:8080/",
          "height": 52
        }
      },
      "source": [
        "predict_class(\"enablement\",0.76,0.491,0.782,4)"
      ],
      "execution_count": null,
      "outputs": [
        {
          "output_type": "stream",
          "text": [
            "1/1 [==============================] - 0s 1ms/step\n"
          ],
          "name": "stdout"
        },
        {
          "output_type": "execute_result",
          "data": {
            "application/vnd.google.colaboratory.intrinsic+json": {
              "type": "string"
            },
            "text/plain": [
              "'pos_hp'"
            ]
          },
          "metadata": {
            "tags": []
          },
          "execution_count": 29
        }
      ]
    },
    {
      "cell_type": "code",
      "metadata": {
        "id": "WScT5RMB9aHJ",
        "outputId": "bba97315-1551-4319-eec6-0a3e6f5c6905",
        "colab": {
          "base_uri": "https://localhost:8080/",
          "height": 89
        }
      },
      "source": [
        "predict_class(\"kill\",0.076,0.091,0.082,4)"
      ],
      "execution_count": null,
      "outputs": [
        {
          "output_type": "stream",
          "text": [
            "WARNING:tensorflow:11 out of the last 572 calls to <function Model.make_predict_function.<locals>.predict_function at 0x7f6c602049d8> triggered tf.function retracing. Tracing is expensive and the excessive number of tracings could be due to (1) creating @tf.function repeatedly in a loop, (2) passing tensors with different shapes, (3) passing Python objects instead of tensors. For (1), please define your @tf.function outside of the loop. For (2), @tf.function has experimental_relax_shapes=True option that relaxes argument shapes that can avoid unnecessary retracing. For (3), please refer to https://www.tensorflow.org/tutorials/customization/performance#python_or_tensor_args and https://www.tensorflow.org/api_docs/python/tf/function for  more details.\n",
            "1/1 [==============================] - 0s 1ms/step\n"
          ],
          "name": "stdout"
        },
        {
          "output_type": "execute_result",
          "data": {
            "application/vnd.google.colaboratory.intrinsic+json": {
              "type": "string"
            },
            "text/plain": [
              "'unhappy'"
            ]
          },
          "metadata": {
            "tags": []
          },
          "execution_count": 38
        }
      ]
    }
  ]
}