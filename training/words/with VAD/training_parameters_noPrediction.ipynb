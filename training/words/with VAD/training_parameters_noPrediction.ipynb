{
  "nbformat": 4,
  "nbformat_minor": 0,
  "metadata": {
    "colab": {
      "name": "training_parameters_noPrediction.ipynb",
      "provenance": [],
      "collapsed_sections": [],
      "toc_visible": true
    },
    "kernelspec": {
      "name": "python3",
      "display_name": "Python 3"
    }
  },
  "cells": [
    {
      "cell_type": "code",
      "metadata": {
        "id": "6c4-V80_utwi",
        "outputId": "959c895f-2fe7-426a-b0fc-ad4ffccf9340",
        "colab": {
          "base_uri": "https://localhost:8080/",
          "height": 34
        }
      },
      "source": [
        "from google.colab import drive\n",
        "drive.mount('/content/drive')"
      ],
      "execution_count": null,
      "outputs": [
        {
          "output_type": "stream",
          "text": [
            "Drive already mounted at /content/drive; to attempt to forcibly remount, call drive.mount(\"/content/drive\", force_remount=True).\n"
          ],
          "name": "stdout"
        }
      ]
    },
    {
      "cell_type": "code",
      "metadata": {
        "id": "zT6uI4yVvMzx"
      },
      "source": [
        "import sys\n",
        "import logging\n",
        "from psutil import virtual_memory"
      ],
      "execution_count": null,
      "outputs": []
    },
    {
      "cell_type": "code",
      "metadata": {
        "id": "NWtuJKIJvOFc"
      },
      "source": [
        "gpu_info = !nvidia-smi\n",
        "gpu_info = '\\n'.join(gpu_info)\n",
        "ram_gb = virtual_memory().total / 1e9"
      ],
      "execution_count": null,
      "outputs": []
    },
    {
      "cell_type": "code",
      "metadata": {
        "id": "-x7KmSr5vO_N"
      },
      "source": [
        "tf_response = {\n",
        "    'error': None,\n",
        "    'TF version': '',\n",
        "    'COLAB': None,\n",
        "    'GPU': False,\n",
        "    'ram_gb': ''\n",
        "}"
      ],
      "execution_count": null,
      "outputs": []
    },
    {
      "cell_type": "code",
      "metadata": {
        "id": "XTdYEP-ZvPyY",
        "outputId": "e9bccba5-fb7e-4404-af80-0dbf12937949",
        "colab": {
          "base_uri": "https://localhost:8080/",
          "height": 1000
        }
      },
      "source": [
        "try:\n",
        "    # drive\n",
        "    from google.colab import drive\n",
        "    IN_COLAB = 'google.colab' in sys.modules\n",
        "\n",
        "    # updating tensorflow version\n",
        "    %tensorflow_version 2.x\n",
        "\n",
        "    # tensorflow-gpu & tensorflowjs\n",
        "    !pip install tensorflow-gpu # !pip install tensorflow_text # I could use BERT\n",
        "    !pip install tensorflowjs\n",
        "\n",
        "    # NLP (nltk, stanza, spacy)\n",
        "    !pip install nltk \n",
        "    !pip install stanza\n",
        "    !pip install spacy\n",
        "    !spacy download en_core_web_sm # sm md lg\n",
        "    !python -m spacy download en\n",
        "except OSError as error:\n",
        "    # debugging error\n",
        "    response['error'] = logging.debug('You are not using your specify version of TensorFlow')\n",
        "    IN_COLAB = False\n",
        "\n",
        "    # install requirements\n",
        "    !pip install -r '../requirements.txt'\n",
        "finally:\n",
        "    tf_response['COLAB'] = IN_COLAB\n",
        "    \n",
        "    # Importing tensroflow core\n",
        "    import tensorflow as tf\n",
        "    import tensorflowjs as tfjs\n",
        "    from tensorflow import keras\n",
        "    from keras.utils import to_categorical\n",
        "    from sklearn import preprocessing\n",
        "\n",
        "    from tensorflow.keras.preprocessing.text import Tokenizer\n",
        "    from tensorflow.keras.preprocessing.sequence import pad_sequences\n",
        "    from keras.callbacks import EarlyStopping\n",
        "    from keras.callbacks import ModelCheckpoint\n",
        "\n",
        "    from tensorflow.keras.models import Sequential\n",
        "    from tensorflow.keras.layers import Dense, Flatten, LSTM, Dropout, Activation, Embedding, Bidirectional, GlobalMaxPool1D\n",
        "\n",
        "    from sklearn.model_selection import train_test_split\n",
        "    \n",
        "    # GPU and RAM response\n",
        "    if tf.config.list_physical_devices('GPU'):\n",
        "        GPU = True\n",
        "        tf_response['GPU'] = GPU\n",
        "        tf_response['TF_version'] = tf.__version__\n",
        "        \n",
        "        if tf_response['COLAB'] == True:\n",
        "            if gpu_info.find('failed') >= 0:\n",
        "                print('Select the Runtime > \"Change runtime type\" menu to enable a GPU accelerator')\n",
        "                print('Re-execute this cell.')\n",
        "            else:\n",
        "                print(gpu_info)\n",
        "            \n",
        "            if ram_gb < 20:\n",
        "                print('To enable a high-RAM runtime, select the Runtime > \"Change runtime type menu\"')\n",
        "                print('Select high-RAM in the runtime shape dropdown')\n",
        "                print('Re-execute this cell')\n",
        "                tf_response['ram_gb'] = 'low-RAM runtime'\n",
        "            else:\n",
        "                tf_response['ram_gb'] = 'high-RAM runtime'\n",
        "            print('\\nRuntime {:.2f} GB of available RAM\\n'.format(ram_gb))"
      ],
      "execution_count": null,
      "outputs": [
        {
          "output_type": "stream",
          "text": [
            "Requirement already satisfied: tensorflow-gpu in /usr/local/lib/python3.6/dist-packages (2.3.1)\n",
            "Requirement already satisfied: numpy<1.19.0,>=1.16.0 in /usr/local/lib/python3.6/dist-packages (from tensorflow-gpu) (1.18.5)\n",
            "Requirement already satisfied: tensorboard<3,>=2.3.0 in /usr/local/lib/python3.6/dist-packages (from tensorflow-gpu) (2.3.0)\n",
            "Requirement already satisfied: termcolor>=1.1.0 in /usr/local/lib/python3.6/dist-packages (from tensorflow-gpu) (1.1.0)\n",
            "Requirement already satisfied: wrapt>=1.11.1 in /usr/local/lib/python3.6/dist-packages (from tensorflow-gpu) (1.12.1)\n",
            "Requirement already satisfied: keras-preprocessing<1.2,>=1.1.1 in /usr/local/lib/python3.6/dist-packages (from tensorflow-gpu) (1.1.2)\n",
            "Requirement already satisfied: grpcio>=1.8.6 in /usr/local/lib/python3.6/dist-packages (from tensorflow-gpu) (1.32.0)\n",
            "Requirement already satisfied: absl-py>=0.7.0 in /usr/local/lib/python3.6/dist-packages (from tensorflow-gpu) (0.10.0)\n",
            "Requirement already satisfied: gast==0.3.3 in /usr/local/lib/python3.6/dist-packages (from tensorflow-gpu) (0.3.3)\n",
            "Requirement already satisfied: protobuf>=3.9.2 in /usr/local/lib/python3.6/dist-packages (from tensorflow-gpu) (3.12.4)\n",
            "Requirement already satisfied: google-pasta>=0.1.8 in /usr/local/lib/python3.6/dist-packages (from tensorflow-gpu) (0.2.0)\n",
            "Requirement already satisfied: tensorflow-estimator<2.4.0,>=2.3.0 in /usr/local/lib/python3.6/dist-packages (from tensorflow-gpu) (2.3.0)\n",
            "Requirement already satisfied: wheel>=0.26 in /usr/local/lib/python3.6/dist-packages (from tensorflow-gpu) (0.35.1)\n",
            "Requirement already satisfied: astunparse==1.6.3 in /usr/local/lib/python3.6/dist-packages (from tensorflow-gpu) (1.6.3)\n",
            "Requirement already satisfied: six>=1.12.0 in /usr/local/lib/python3.6/dist-packages (from tensorflow-gpu) (1.15.0)\n",
            "Requirement already satisfied: opt-einsum>=2.3.2 in /usr/local/lib/python3.6/dist-packages (from tensorflow-gpu) (3.3.0)\n",
            "Requirement already satisfied: h5py<2.11.0,>=2.10.0 in /usr/local/lib/python3.6/dist-packages (from tensorflow-gpu) (2.10.0)\n",
            "Requirement already satisfied: google-auth-oauthlib<0.5,>=0.4.1 in /usr/local/lib/python3.6/dist-packages (from tensorboard<3,>=2.3.0->tensorflow-gpu) (0.4.1)\n",
            "Requirement already satisfied: requests<3,>=2.21.0 in /usr/local/lib/python3.6/dist-packages (from tensorboard<3,>=2.3.0->tensorflow-gpu) (2.23.0)\n",
            "Requirement already satisfied: markdown>=2.6.8 in /usr/local/lib/python3.6/dist-packages (from tensorboard<3,>=2.3.0->tensorflow-gpu) (3.2.2)\n",
            "Requirement already satisfied: werkzeug>=0.11.15 in /usr/local/lib/python3.6/dist-packages (from tensorboard<3,>=2.3.0->tensorflow-gpu) (1.0.1)\n",
            "Requirement already satisfied: tensorboard-plugin-wit>=1.6.0 in /usr/local/lib/python3.6/dist-packages (from tensorboard<3,>=2.3.0->tensorflow-gpu) (1.7.0)\n",
            "Requirement already satisfied: setuptools>=41.0.0 in /usr/local/lib/python3.6/dist-packages (from tensorboard<3,>=2.3.0->tensorflow-gpu) (50.3.0)\n",
            "Requirement already satisfied: google-auth<2,>=1.6.3 in /usr/local/lib/python3.6/dist-packages (from tensorboard<3,>=2.3.0->tensorflow-gpu) (1.17.2)\n",
            "Requirement already satisfied: requests-oauthlib>=0.7.0 in /usr/local/lib/python3.6/dist-packages (from google-auth-oauthlib<0.5,>=0.4.1->tensorboard<3,>=2.3.0->tensorflow-gpu) (1.3.0)\n",
            "Requirement already satisfied: urllib3!=1.25.0,!=1.25.1,<1.26,>=1.21.1 in /usr/local/lib/python3.6/dist-packages (from requests<3,>=2.21.0->tensorboard<3,>=2.3.0->tensorflow-gpu) (1.24.3)\n",
            "Requirement already satisfied: chardet<4,>=3.0.2 in /usr/local/lib/python3.6/dist-packages (from requests<3,>=2.21.0->tensorboard<3,>=2.3.0->tensorflow-gpu) (3.0.4)\n",
            "Requirement already satisfied: idna<3,>=2.5 in /usr/local/lib/python3.6/dist-packages (from requests<3,>=2.21.0->tensorboard<3,>=2.3.0->tensorflow-gpu) (2.10)\n",
            "Requirement already satisfied: certifi>=2017.4.17 in /usr/local/lib/python3.6/dist-packages (from requests<3,>=2.21.0->tensorboard<3,>=2.3.0->tensorflow-gpu) (2020.6.20)\n",
            "Requirement already satisfied: importlib-metadata; python_version < \"3.8\" in /usr/local/lib/python3.6/dist-packages (from markdown>=2.6.8->tensorboard<3,>=2.3.0->tensorflow-gpu) (2.0.0)\n",
            "Requirement already satisfied: pyasn1-modules>=0.2.1 in /usr/local/lib/python3.6/dist-packages (from google-auth<2,>=1.6.3->tensorboard<3,>=2.3.0->tensorflow-gpu) (0.2.8)\n",
            "Requirement already satisfied: cachetools<5.0,>=2.0.0 in /usr/local/lib/python3.6/dist-packages (from google-auth<2,>=1.6.3->tensorboard<3,>=2.3.0->tensorflow-gpu) (4.1.1)\n",
            "Requirement already satisfied: rsa<5,>=3.1.4; python_version >= \"3\" in /usr/local/lib/python3.6/dist-packages (from google-auth<2,>=1.6.3->tensorboard<3,>=2.3.0->tensorflow-gpu) (4.6)\n",
            "Requirement already satisfied: oauthlib>=3.0.0 in /usr/local/lib/python3.6/dist-packages (from requests-oauthlib>=0.7.0->google-auth-oauthlib<0.5,>=0.4.1->tensorboard<3,>=2.3.0->tensorflow-gpu) (3.1.0)\n",
            "Requirement already satisfied: zipp>=0.5 in /usr/local/lib/python3.6/dist-packages (from importlib-metadata; python_version < \"3.8\"->markdown>=2.6.8->tensorboard<3,>=2.3.0->tensorflow-gpu) (3.2.0)\n",
            "Requirement already satisfied: pyasn1<0.5.0,>=0.4.6 in /usr/local/lib/python3.6/dist-packages (from pyasn1-modules>=0.2.1->google-auth<2,>=1.6.3->tensorboard<3,>=2.3.0->tensorflow-gpu) (0.4.8)\n",
            "Requirement already satisfied: tensorflowjs in /usr/local/lib/python3.6/dist-packages (2.4.0)\n",
            "Requirement already satisfied: numpy<1.19.0,>=1.16.4 in /usr/local/lib/python3.6/dist-packages (from tensorflowjs) (1.18.5)\n",
            "Requirement already satisfied: h5py>=2.8.0 in /usr/local/lib/python3.6/dist-packages (from tensorflowjs) (2.10.0)\n",
            "Requirement already satisfied: PyInquirer==1.0.3 in /usr/local/lib/python3.6/dist-packages (from tensorflowjs) (1.0.3)\n",
            "Requirement already satisfied: tensorflow-hub==0.7.0 in /usr/local/lib/python3.6/dist-packages (from tensorflowjs) (0.7.0)\n",
            "Requirement already satisfied: tensorflow-cpu<3,>=2.1.0 in /usr/local/lib/python3.6/dist-packages (from tensorflowjs) (2.3.1)\n",
            "Requirement already satisfied: six>=1.12.0 in /usr/local/lib/python3.6/dist-packages (from tensorflowjs) (1.15.0)\n",
            "Requirement already satisfied: prompt-toolkit==1.0.14 in /usr/local/lib/python3.6/dist-packages (from PyInquirer==1.0.3->tensorflowjs) (1.0.14)\n",
            "Requirement already satisfied: Pygments>=2.2.0 in /usr/local/lib/python3.6/dist-packages (from PyInquirer==1.0.3->tensorflowjs) (2.6.1)\n",
            "Requirement already satisfied: regex>=2016.11.21 in /usr/local/lib/python3.6/dist-packages (from PyInquirer==1.0.3->tensorflowjs) (2019.12.20)\n",
            "Requirement already satisfied: protobuf>=3.4.0 in /usr/local/lib/python3.6/dist-packages (from tensorflow-hub==0.7.0->tensorflowjs) (3.12.4)\n",
            "Requirement already satisfied: wheel>=0.26 in /usr/local/lib/python3.6/dist-packages (from tensorflow-cpu<3,>=2.1.0->tensorflowjs) (0.35.1)\n",
            "Requirement already satisfied: google-pasta>=0.1.8 in /usr/local/lib/python3.6/dist-packages (from tensorflow-cpu<3,>=2.1.0->tensorflowjs) (0.2.0)\n",
            "Requirement already satisfied: absl-py>=0.7.0 in /usr/local/lib/python3.6/dist-packages (from tensorflow-cpu<3,>=2.1.0->tensorflowjs) (0.10.0)\n",
            "Requirement already satisfied: opt-einsum>=2.3.2 in /usr/local/lib/python3.6/dist-packages (from tensorflow-cpu<3,>=2.1.0->tensorflowjs) (3.3.0)\n",
            "Requirement already satisfied: tensorboard<3,>=2.3.0 in /usr/local/lib/python3.6/dist-packages (from tensorflow-cpu<3,>=2.1.0->tensorflowjs) (2.3.0)\n",
            "Requirement already satisfied: astunparse==1.6.3 in /usr/local/lib/python3.6/dist-packages (from tensorflow-cpu<3,>=2.1.0->tensorflowjs) (1.6.3)\n",
            "Requirement already satisfied: gast==0.3.3 in /usr/local/lib/python3.6/dist-packages (from tensorflow-cpu<3,>=2.1.0->tensorflowjs) (0.3.3)\n",
            "Requirement already satisfied: termcolor>=1.1.0 in /usr/local/lib/python3.6/dist-packages (from tensorflow-cpu<3,>=2.1.0->tensorflowjs) (1.1.0)\n",
            "Requirement already satisfied: keras-preprocessing<1.2,>=1.1.1 in /usr/local/lib/python3.6/dist-packages (from tensorflow-cpu<3,>=2.1.0->tensorflowjs) (1.1.2)\n",
            "Requirement already satisfied: tensorflow-estimator<2.4.0,>=2.3.0 in /usr/local/lib/python3.6/dist-packages (from tensorflow-cpu<3,>=2.1.0->tensorflowjs) (2.3.0)\n",
            "Requirement already satisfied: wrapt>=1.11.1 in /usr/local/lib/python3.6/dist-packages (from tensorflow-cpu<3,>=2.1.0->tensorflowjs) (1.12.1)\n",
            "Requirement already satisfied: grpcio>=1.8.6 in /usr/local/lib/python3.6/dist-packages (from tensorflow-cpu<3,>=2.1.0->tensorflowjs) (1.32.0)\n",
            "Requirement already satisfied: wcwidth in /usr/local/lib/python3.6/dist-packages (from prompt-toolkit==1.0.14->PyInquirer==1.0.3->tensorflowjs) (0.2.5)\n",
            "Requirement already satisfied: setuptools in /usr/local/lib/python3.6/dist-packages (from protobuf>=3.4.0->tensorflow-hub==0.7.0->tensorflowjs) (50.3.0)\n",
            "Requirement already satisfied: google-auth<2,>=1.6.3 in /usr/local/lib/python3.6/dist-packages (from tensorboard<3,>=2.3.0->tensorflow-cpu<3,>=2.1.0->tensorflowjs) (1.17.2)\n",
            "Requirement already satisfied: markdown>=2.6.8 in /usr/local/lib/python3.6/dist-packages (from tensorboard<3,>=2.3.0->tensorflow-cpu<3,>=2.1.0->tensorflowjs) (3.2.2)\n",
            "Requirement already satisfied: werkzeug>=0.11.15 in /usr/local/lib/python3.6/dist-packages (from tensorboard<3,>=2.3.0->tensorflow-cpu<3,>=2.1.0->tensorflowjs) (1.0.1)\n",
            "Requirement already satisfied: requests<3,>=2.21.0 in /usr/local/lib/python3.6/dist-packages (from tensorboard<3,>=2.3.0->tensorflow-cpu<3,>=2.1.0->tensorflowjs) (2.23.0)\n",
            "Requirement already satisfied: google-auth-oauthlib<0.5,>=0.4.1 in /usr/local/lib/python3.6/dist-packages (from tensorboard<3,>=2.3.0->tensorflow-cpu<3,>=2.1.0->tensorflowjs) (0.4.1)\n",
            "Requirement already satisfied: tensorboard-plugin-wit>=1.6.0 in /usr/local/lib/python3.6/dist-packages (from tensorboard<3,>=2.3.0->tensorflow-cpu<3,>=2.1.0->tensorflowjs) (1.7.0)\n",
            "Requirement already satisfied: cachetools<5.0,>=2.0.0 in /usr/local/lib/python3.6/dist-packages (from google-auth<2,>=1.6.3->tensorboard<3,>=2.3.0->tensorflow-cpu<3,>=2.1.0->tensorflowjs) (4.1.1)\n",
            "Requirement already satisfied: rsa<5,>=3.1.4; python_version >= \"3\" in /usr/local/lib/python3.6/dist-packages (from google-auth<2,>=1.6.3->tensorboard<3,>=2.3.0->tensorflow-cpu<3,>=2.1.0->tensorflowjs) (4.6)\n",
            "Requirement already satisfied: pyasn1-modules>=0.2.1 in /usr/local/lib/python3.6/dist-packages (from google-auth<2,>=1.6.3->tensorboard<3,>=2.3.0->tensorflow-cpu<3,>=2.1.0->tensorflowjs) (0.2.8)\n",
            "Requirement already satisfied: importlib-metadata; python_version < \"3.8\" in /usr/local/lib/python3.6/dist-packages (from markdown>=2.6.8->tensorboard<3,>=2.3.0->tensorflow-cpu<3,>=2.1.0->tensorflowjs) (2.0.0)\n",
            "Requirement already satisfied: urllib3!=1.25.0,!=1.25.1,<1.26,>=1.21.1 in /usr/local/lib/python3.6/dist-packages (from requests<3,>=2.21.0->tensorboard<3,>=2.3.0->tensorflow-cpu<3,>=2.1.0->tensorflowjs) (1.24.3)\n",
            "Requirement already satisfied: chardet<4,>=3.0.2 in /usr/local/lib/python3.6/dist-packages (from requests<3,>=2.21.0->tensorboard<3,>=2.3.0->tensorflow-cpu<3,>=2.1.0->tensorflowjs) (3.0.4)\n",
            "Requirement already satisfied: idna<3,>=2.5 in /usr/local/lib/python3.6/dist-packages (from requests<3,>=2.21.0->tensorboard<3,>=2.3.0->tensorflow-cpu<3,>=2.1.0->tensorflowjs) (2.10)\n",
            "Requirement already satisfied: certifi>=2017.4.17 in /usr/local/lib/python3.6/dist-packages (from requests<3,>=2.21.0->tensorboard<3,>=2.3.0->tensorflow-cpu<3,>=2.1.0->tensorflowjs) (2020.6.20)\n",
            "Requirement already satisfied: requests-oauthlib>=0.7.0 in /usr/local/lib/python3.6/dist-packages (from google-auth-oauthlib<0.5,>=0.4.1->tensorboard<3,>=2.3.0->tensorflow-cpu<3,>=2.1.0->tensorflowjs) (1.3.0)\n",
            "Requirement already satisfied: pyasn1>=0.1.3 in /usr/local/lib/python3.6/dist-packages (from rsa<5,>=3.1.4; python_version >= \"3\"->google-auth<2,>=1.6.3->tensorboard<3,>=2.3.0->tensorflow-cpu<3,>=2.1.0->tensorflowjs) (0.4.8)\n",
            "Requirement already satisfied: zipp>=0.5 in /usr/local/lib/python3.6/dist-packages (from importlib-metadata; python_version < \"3.8\"->markdown>=2.6.8->tensorboard<3,>=2.3.0->tensorflow-cpu<3,>=2.1.0->tensorflowjs) (3.2.0)\n",
            "Requirement already satisfied: oauthlib>=3.0.0 in /usr/local/lib/python3.6/dist-packages (from requests-oauthlib>=0.7.0->google-auth-oauthlib<0.5,>=0.4.1->tensorboard<3,>=2.3.0->tensorflow-cpu<3,>=2.1.0->tensorflowjs) (3.1.0)\n",
            "Requirement already satisfied: nltk in /usr/local/lib/python3.6/dist-packages (3.2.5)\n",
            "Requirement already satisfied: six in /usr/local/lib/python3.6/dist-packages (from nltk) (1.15.0)\n",
            "Requirement already satisfied: stanza in /usr/local/lib/python3.6/dist-packages (1.1.1)\n",
            "Requirement already satisfied: requests in /usr/local/lib/python3.6/dist-packages (from stanza) (2.23.0)\n",
            "Requirement already satisfied: tqdm in /usr/local/lib/python3.6/dist-packages (from stanza) (4.41.1)\n",
            "Requirement already satisfied: numpy in /usr/local/lib/python3.6/dist-packages (from stanza) (1.18.5)\n",
            "Requirement already satisfied: protobuf in /usr/local/lib/python3.6/dist-packages (from stanza) (3.12.4)\n",
            "Requirement already satisfied: torch>=1.3.0 in /usr/local/lib/python3.6/dist-packages (from stanza) (1.6.0+cu101)\n",
            "Requirement already satisfied: urllib3!=1.25.0,!=1.25.1,<1.26,>=1.21.1 in /usr/local/lib/python3.6/dist-packages (from requests->stanza) (1.24.3)\n",
            "Requirement already satisfied: certifi>=2017.4.17 in /usr/local/lib/python3.6/dist-packages (from requests->stanza) (2020.6.20)\n",
            "Requirement already satisfied: chardet<4,>=3.0.2 in /usr/local/lib/python3.6/dist-packages (from requests->stanza) (3.0.4)\n",
            "Requirement already satisfied: idna<3,>=2.5 in /usr/local/lib/python3.6/dist-packages (from requests->stanza) (2.10)\n",
            "Requirement already satisfied: setuptools in /usr/local/lib/python3.6/dist-packages (from protobuf->stanza) (50.3.0)\n",
            "Requirement already satisfied: six>=1.9 in /usr/local/lib/python3.6/dist-packages (from protobuf->stanza) (1.15.0)\n",
            "Requirement already satisfied: future in /usr/local/lib/python3.6/dist-packages (from torch>=1.3.0->stanza) (0.16.0)\n",
            "Requirement already satisfied: spacy in /usr/local/lib/python3.6/dist-packages (2.2.4)\n",
            "Requirement already satisfied: srsly<1.1.0,>=1.0.2 in /usr/local/lib/python3.6/dist-packages (from spacy) (1.0.2)\n",
            "Requirement already satisfied: wasabi<1.1.0,>=0.4.0 in /usr/local/lib/python3.6/dist-packages (from spacy) (0.8.0)\n",
            "Requirement already satisfied: requests<3.0.0,>=2.13.0 in /usr/local/lib/python3.6/dist-packages (from spacy) (2.23.0)\n",
            "Requirement already satisfied: setuptools in /usr/local/lib/python3.6/dist-packages (from spacy) (50.3.0)\n",
            "Requirement already satisfied: blis<0.5.0,>=0.4.0 in /usr/local/lib/python3.6/dist-packages (from spacy) (0.4.1)\n",
            "Requirement already satisfied: murmurhash<1.1.0,>=0.28.0 in /usr/local/lib/python3.6/dist-packages (from spacy) (1.0.2)\n",
            "Requirement already satisfied: cymem<2.1.0,>=2.0.2 in /usr/local/lib/python3.6/dist-packages (from spacy) (2.0.3)\n",
            "Requirement already satisfied: tqdm<5.0.0,>=4.38.0 in /usr/local/lib/python3.6/dist-packages (from spacy) (4.41.1)\n",
            "Requirement already satisfied: thinc==7.4.0 in /usr/local/lib/python3.6/dist-packages (from spacy) (7.4.0)\n",
            "Requirement already satisfied: numpy>=1.15.0 in /usr/local/lib/python3.6/dist-packages (from spacy) (1.18.5)\n",
            "Requirement already satisfied: plac<1.2.0,>=0.9.6 in /usr/local/lib/python3.6/dist-packages (from spacy) (1.1.3)\n",
            "Requirement already satisfied: preshed<3.1.0,>=3.0.2 in /usr/local/lib/python3.6/dist-packages (from spacy) (3.0.2)\n",
            "Requirement already satisfied: catalogue<1.1.0,>=0.0.7 in /usr/local/lib/python3.6/dist-packages (from spacy) (1.0.0)\n",
            "Requirement already satisfied: certifi>=2017.4.17 in /usr/local/lib/python3.6/dist-packages (from requests<3.0.0,>=2.13.0->spacy) (2020.6.20)\n",
            "Requirement already satisfied: idna<3,>=2.5 in /usr/local/lib/python3.6/dist-packages (from requests<3.0.0,>=2.13.0->spacy) (2.10)\n",
            "Requirement already satisfied: chardet<4,>=3.0.2 in /usr/local/lib/python3.6/dist-packages (from requests<3.0.0,>=2.13.0->spacy) (3.0.4)\n",
            "Requirement already satisfied: urllib3!=1.25.0,!=1.25.1,<1.26,>=1.21.1 in /usr/local/lib/python3.6/dist-packages (from requests<3.0.0,>=2.13.0->spacy) (1.24.3)\n",
            "Requirement already satisfied: importlib-metadata>=0.20; python_version < \"3.8\" in /usr/local/lib/python3.6/dist-packages (from catalogue<1.1.0,>=0.0.7->spacy) (2.0.0)\n",
            "Requirement already satisfied: zipp>=0.5 in /usr/local/lib/python3.6/dist-packages (from importlib-metadata>=0.20; python_version < \"3.8\"->catalogue<1.1.0,>=0.0.7->spacy) (3.2.0)\n",
            "Requirement already satisfied: en_core_web_sm==2.2.5 from https://github.com/explosion/spacy-models/releases/download/en_core_web_sm-2.2.5/en_core_web_sm-2.2.5.tar.gz#egg=en_core_web_sm==2.2.5 in /usr/local/lib/python3.6/dist-packages (2.2.5)\n",
            "Requirement already satisfied: spacy>=2.2.2 in /usr/local/lib/python3.6/dist-packages (from en_core_web_sm==2.2.5) (2.2.4)\n",
            "Requirement already satisfied: catalogue<1.1.0,>=0.0.7 in /usr/local/lib/python3.6/dist-packages (from spacy>=2.2.2->en_core_web_sm==2.2.5) (1.0.0)\n",
            "Requirement already satisfied: wasabi<1.1.0,>=0.4.0 in /usr/local/lib/python3.6/dist-packages (from spacy>=2.2.2->en_core_web_sm==2.2.5) (0.8.0)\n",
            "Requirement already satisfied: preshed<3.1.0,>=3.0.2 in /usr/local/lib/python3.6/dist-packages (from spacy>=2.2.2->en_core_web_sm==2.2.5) (3.0.2)\n",
            "Requirement already satisfied: cymem<2.1.0,>=2.0.2 in /usr/local/lib/python3.6/dist-packages (from spacy>=2.2.2->en_core_web_sm==2.2.5) (2.0.3)\n",
            "Requirement already satisfied: tqdm<5.0.0,>=4.38.0 in /usr/local/lib/python3.6/dist-packages (from spacy>=2.2.2->en_core_web_sm==2.2.5) (4.41.1)\n",
            "Requirement already satisfied: numpy>=1.15.0 in /usr/local/lib/python3.6/dist-packages (from spacy>=2.2.2->en_core_web_sm==2.2.5) (1.18.5)\n",
            "Requirement already satisfied: plac<1.2.0,>=0.9.6 in /usr/local/lib/python3.6/dist-packages (from spacy>=2.2.2->en_core_web_sm==2.2.5) (1.1.3)\n",
            "Requirement already satisfied: srsly<1.1.0,>=1.0.2 in /usr/local/lib/python3.6/dist-packages (from spacy>=2.2.2->en_core_web_sm==2.2.5) (1.0.2)\n",
            "Requirement already satisfied: requests<3.0.0,>=2.13.0 in /usr/local/lib/python3.6/dist-packages (from spacy>=2.2.2->en_core_web_sm==2.2.5) (2.23.0)\n",
            "Requirement already satisfied: murmurhash<1.1.0,>=0.28.0 in /usr/local/lib/python3.6/dist-packages (from spacy>=2.2.2->en_core_web_sm==2.2.5) (1.0.2)\n",
            "Requirement already satisfied: blis<0.5.0,>=0.4.0 in /usr/local/lib/python3.6/dist-packages (from spacy>=2.2.2->en_core_web_sm==2.2.5) (0.4.1)\n",
            "Requirement already satisfied: thinc==7.4.0 in /usr/local/lib/python3.6/dist-packages (from spacy>=2.2.2->en_core_web_sm==2.2.5) (7.4.0)\n",
            "Requirement already satisfied: setuptools in /usr/local/lib/python3.6/dist-packages (from spacy>=2.2.2->en_core_web_sm==2.2.5) (50.3.0)\n",
            "Requirement already satisfied: importlib-metadata>=0.20; python_version < \"3.8\" in /usr/local/lib/python3.6/dist-packages (from catalogue<1.1.0,>=0.0.7->spacy>=2.2.2->en_core_web_sm==2.2.5) (2.0.0)\n",
            "Requirement already satisfied: chardet<4,>=3.0.2 in /usr/local/lib/python3.6/dist-packages (from requests<3.0.0,>=2.13.0->spacy>=2.2.2->en_core_web_sm==2.2.5) (3.0.4)\n",
            "Requirement already satisfied: certifi>=2017.4.17 in /usr/local/lib/python3.6/dist-packages (from requests<3.0.0,>=2.13.0->spacy>=2.2.2->en_core_web_sm==2.2.5) (2020.6.20)\n",
            "Requirement already satisfied: idna<3,>=2.5 in /usr/local/lib/python3.6/dist-packages (from requests<3.0.0,>=2.13.0->spacy>=2.2.2->en_core_web_sm==2.2.5) (2.10)\n",
            "Requirement already satisfied: urllib3!=1.25.0,!=1.25.1,<1.26,>=1.21.1 in /usr/local/lib/python3.6/dist-packages (from requests<3.0.0,>=2.13.0->spacy>=2.2.2->en_core_web_sm==2.2.5) (1.24.3)\n",
            "Requirement already satisfied: zipp>=0.5 in /usr/local/lib/python3.6/dist-packages (from importlib-metadata>=0.20; python_version < \"3.8\"->catalogue<1.1.0,>=0.0.7->spacy>=2.2.2->en_core_web_sm==2.2.5) (3.2.0)\n",
            "\u001b[38;5;2m✔ Download and installation successful\u001b[0m\n",
            "You can now load the model via spacy.load('en_core_web_sm')\n",
            "Requirement already satisfied: en_core_web_sm==2.2.5 from https://github.com/explosion/spacy-models/releases/download/en_core_web_sm-2.2.5/en_core_web_sm-2.2.5.tar.gz#egg=en_core_web_sm==2.2.5 in /usr/local/lib/python3.6/dist-packages (2.2.5)\n",
            "Requirement already satisfied: spacy>=2.2.2 in /usr/local/lib/python3.6/dist-packages (from en_core_web_sm==2.2.5) (2.2.4)\n",
            "Requirement already satisfied: preshed<3.1.0,>=3.0.2 in /usr/local/lib/python3.6/dist-packages (from spacy>=2.2.2->en_core_web_sm==2.2.5) (3.0.2)\n",
            "Requirement already satisfied: numpy>=1.15.0 in /usr/local/lib/python3.6/dist-packages (from spacy>=2.2.2->en_core_web_sm==2.2.5) (1.18.5)\n",
            "Requirement already satisfied: cymem<2.1.0,>=2.0.2 in /usr/local/lib/python3.6/dist-packages (from spacy>=2.2.2->en_core_web_sm==2.2.5) (2.0.3)\n",
            "Requirement already satisfied: blis<0.5.0,>=0.4.0 in /usr/local/lib/python3.6/dist-packages (from spacy>=2.2.2->en_core_web_sm==2.2.5) (0.4.1)\n",
            "Requirement already satisfied: setuptools in /usr/local/lib/python3.6/dist-packages (from spacy>=2.2.2->en_core_web_sm==2.2.5) (50.3.0)\n",
            "Requirement already satisfied: tqdm<5.0.0,>=4.38.0 in /usr/local/lib/python3.6/dist-packages (from spacy>=2.2.2->en_core_web_sm==2.2.5) (4.41.1)\n",
            "Requirement already satisfied: requests<3.0.0,>=2.13.0 in /usr/local/lib/python3.6/dist-packages (from spacy>=2.2.2->en_core_web_sm==2.2.5) (2.23.0)\n",
            "Requirement already satisfied: srsly<1.1.0,>=1.0.2 in /usr/local/lib/python3.6/dist-packages (from spacy>=2.2.2->en_core_web_sm==2.2.5) (1.0.2)\n",
            "Requirement already satisfied: murmurhash<1.1.0,>=0.28.0 in /usr/local/lib/python3.6/dist-packages (from spacy>=2.2.2->en_core_web_sm==2.2.5) (1.0.2)\n",
            "Requirement already satisfied: wasabi<1.1.0,>=0.4.0 in /usr/local/lib/python3.6/dist-packages (from spacy>=2.2.2->en_core_web_sm==2.2.5) (0.8.0)\n",
            "Requirement already satisfied: catalogue<1.1.0,>=0.0.7 in /usr/local/lib/python3.6/dist-packages (from spacy>=2.2.2->en_core_web_sm==2.2.5) (1.0.0)\n",
            "Requirement already satisfied: thinc==7.4.0 in /usr/local/lib/python3.6/dist-packages (from spacy>=2.2.2->en_core_web_sm==2.2.5) (7.4.0)\n",
            "Requirement already satisfied: plac<1.2.0,>=0.9.6 in /usr/local/lib/python3.6/dist-packages (from spacy>=2.2.2->en_core_web_sm==2.2.5) (1.1.3)\n",
            "Requirement already satisfied: chardet<4,>=3.0.2 in /usr/local/lib/python3.6/dist-packages (from requests<3.0.0,>=2.13.0->spacy>=2.2.2->en_core_web_sm==2.2.5) (3.0.4)\n",
            "Requirement already satisfied: idna<3,>=2.5 in /usr/local/lib/python3.6/dist-packages (from requests<3.0.0,>=2.13.0->spacy>=2.2.2->en_core_web_sm==2.2.5) (2.10)\n",
            "Requirement already satisfied: urllib3!=1.25.0,!=1.25.1,<1.26,>=1.21.1 in /usr/local/lib/python3.6/dist-packages (from requests<3.0.0,>=2.13.0->spacy>=2.2.2->en_core_web_sm==2.2.5) (1.24.3)\n",
            "Requirement already satisfied: certifi>=2017.4.17 in /usr/local/lib/python3.6/dist-packages (from requests<3.0.0,>=2.13.0->spacy>=2.2.2->en_core_web_sm==2.2.5) (2020.6.20)\n",
            "Requirement already satisfied: importlib-metadata>=0.20; python_version < \"3.8\" in /usr/local/lib/python3.6/dist-packages (from catalogue<1.1.0,>=0.0.7->spacy>=2.2.2->en_core_web_sm==2.2.5) (2.0.0)\n",
            "Requirement already satisfied: zipp>=0.5 in /usr/local/lib/python3.6/dist-packages (from importlib-metadata>=0.20; python_version < \"3.8\"->catalogue<1.1.0,>=0.0.7->spacy>=2.2.2->en_core_web_sm==2.2.5) (3.2.0)\n",
            "\u001b[38;5;2m✔ Download and installation successful\u001b[0m\n",
            "You can now load the model via spacy.load('en_core_web_sm')\n",
            "\u001b[38;5;2m✔ Linking successful\u001b[0m\n",
            "/usr/local/lib/python3.6/dist-packages/en_core_web_sm -->\n",
            "/usr/local/lib/python3.6/dist-packages/spacy/data/en\n",
            "You can now load the model via spacy.load('en')\n"
          ],
          "name": "stdout"
        }
      ]
    },
    {
      "cell_type": "code",
      "metadata": {
        "id": "v-VNB6VuvR5J"
      },
      "source": [
        "# Data analysis\n",
        "from keras.layers.merge import Concatenate\n",
        "from collections import Counter\n",
        "import matplotlib.pyplot as plt\n",
        "from keras.layers import Input\n",
        "from keras.models import Model\n",
        "from numpy import array\n",
        "from numpy import asarray\n",
        "from numpy import zeros\n",
        "from keras.utils import plot_model\n",
        "import pandas as pd\n",
        "import numpy as np\n",
        "import sys\n",
        "import re\n",
        "\n",
        "%matplotlib inline\n",
        "\n",
        "# Image\n",
        "from wordcloud import WordCloud, STOPWORDS, ImageColorGenerator # to create a Word Cloud\n",
        "from PIL import Image # Pillow with WordCloud to image manipulation"
      ],
      "execution_count": null,
      "outputs": []
    },
    {
      "cell_type": "code",
      "metadata": {
        "id": "xQljmp3lvVz7",
        "outputId": "6b598c03-f0e0-46cc-9334-be17017a2eb6",
        "colab": {
          "base_uri": "https://localhost:8080/",
          "height": 85
        }
      },
      "source": [
        "# nltk\n",
        "import nltk\n",
        "from nltk.corpus import stopwords\n",
        "from nltk.stem import WordNetLemmatizer\n",
        "\n",
        "nltk.download('stopwords')\n",
        "nltk.download('wordnet')\n",
        "\n",
        "STOPWORDS = set(stopwords.words('english'))\n",
        "\n",
        "# Spacy NLP\n",
        "import spacy\n",
        "spNLP = spacy.load('en_core_web_sm')\n",
        "spNLP.max_length = 103950039 # or higher\n",
        "# spacy.prefer_gpu() #will not work witczh stanza}\n",
        "\n",
        "def nltk_lemma(text):\n",
        "    lemmatizer = WordNetLemmatizer()\n",
        "    lemmatizer.lemmatize(text)"
      ],
      "execution_count": null,
      "outputs": [
        {
          "output_type": "stream",
          "text": [
            "[nltk_data] Downloading package stopwords to /root/nltk_data...\n",
            "[nltk_data]   Package stopwords is already up-to-date!\n",
            "[nltk_data] Downloading package wordnet to /root/nltk_data...\n",
            "[nltk_data]   Package wordnet is already up-to-date!\n"
          ],
          "name": "stdout"
        }
      ]
    },
    {
      "cell_type": "markdown",
      "metadata": {
        "id": "svnJvsskvbsh"
      },
      "source": [
        "# **Hyperparameters**"
      ]
    },
    {
      "cell_type": "code",
      "metadata": {
        "id": "1sztXtMfva85"
      },
      "source": [
        "maxlen = 30\n",
        "epochs = 100\n",
        "batch_size = 16\n",
        "\n",
        "main_labels = ['confident', 'unconfident', \n",
        "               'pos_hp', 'neg_hp',\n",
        "               'interested', 'uninterested', \n",
        "               'happy', 'unhappy',\n",
        "               'friendly', 'unfriendly']\n",
        "               \n",
        "label_dict = dict(zip(main_labels, range(1, len(main_labels) + 1)))"
      ],
      "execution_count": null,
      "outputs": []
    },
    {
      "cell_type": "code",
      "metadata": {
        "id": "8_Q221VIvj8J"
      },
      "source": [
        "def load_dataset():\n",
        "    # to make sure the columns have the correct dtype\n",
        "    columns_dtype = {\n",
        "                     'score': float,\n",
        "                     'Compound': float,\n",
        "                     'Subjetivity': float,\n",
        "                     'Stanza': float,\n",
        "                     'Valence': float,\n",
        "                     'Arousal': float,\n",
        "                     'Dominance': float,\n",
        "                     'quadrant': float,\n",
        "                     'category': str,\n",
        "                     'word': str,\n",
        "                     'Flair': str,\n",
        "                     'POS nltk': str\n",
        "    }\n",
        "\n",
        "    !mkdir -p datasets\n",
        "    !wget -nc https://raw.githubusercontent.com/Y4rd13/sentiment-analysis/master/datasets/results/categories_dataset.csv -P datasets\n",
        "    df = pd.read_csv('./datasets/categories_dataset.csv', encoding='utf-8', index_col=0, dtype=(columns_dtype))\n",
        "    print(df.head())\n",
        "\n",
        "    x, y = df[['word', 'Valence', 'Arousal', 'Dominance', 'quadrant']], df['category']\n",
        "\n",
        "    return x, y"
      ],
      "execution_count": null,
      "outputs": []
    },
    {
      "cell_type": "markdown",
      "metadata": {
        "id": "QE_Xda5KJIsH"
      },
      "source": [
        "# Preprocessing"
      ]
    },
    {
      "cell_type": "code",
      "metadata": {
        "id": "3epdWEjqyoxd"
      },
      "source": [
        "def preprocessing(x, y, maxlen):\n",
        "    \n",
        "    from sklearn import preprocessing\n",
        "    # label_encoder object knows how to understand word labels.\n",
        "    label_encoder = preprocessing.LabelEncoder()\n",
        "\n",
        "    # Encoder labels in column 'category'\n",
        "    y = label_encoder.fit_transform(y)\n",
        "    \n",
        "    # splitting the dataset into train and test\n",
        "    x_train, x_test, y_train, y_test = train_test_split(x, y, test_size=.3, shuffle=True, random_state=42)\n",
        "\n",
        "    # convert to categorical variables\n",
        "    y_test_labels = y_test\n",
        "    y_train = to_categorical(y_train)\n",
        "    y_test = to_categorical(y_test)\n",
        "\n",
        "    # text data\n",
        "    x1_train, x1_test = x_train['word'], x_test['word']\n",
        "\n",
        "    tokenizer = Tokenizer()\n",
        "    tokenizer.fit_on_texts(x1_train)\n",
        "\n",
        "    x1_train = tokenizer.texts_to_sequences(x1_train)\n",
        "    x1_test = tokenizer.texts_to_sequences(x1_test)\n",
        "\n",
        "    vocab_size = len(tokenizer.word_index) + 1\n",
        "\n",
        "    x1_train =  pad_sequences(x1_train, padding='post', maxlen=maxlen)\n",
        "    x1_test =  pad_sequences(x1_test, padding='post', maxlen=maxlen)\n",
        "\n",
        "    # taking numerical value\n",
        "    x2_train = x_train[['Valence', 'Arousal', 'Dominance', 'quadrant']].values\n",
        "    x2_test = x_test[['Valence', 'Arousal', 'Dominance', 'quadrant']].values\n",
        "\n",
        "    return x1_train, x2_train, x1_test, x2_test, y_train, y_test, y_test_labels, vocab_size, tokenizer"
      ],
      "execution_count": null,
      "outputs": []
    },
    {
      "cell_type": "markdown",
      "metadata": {
        "id": "NYJhRrWp3PSf"
      },
      "source": [
        "# GloVe\n",
        "- word embeddings for creating word vectors"
      ]
    },
    {
      "cell_type": "code",
      "metadata": {
        "id": "ssVdwzrd34Pl"
      },
      "source": [
        "def GloVe(vocab_size,tokenizer):\n",
        "\n",
        "    embeddings_dictionary = dict()\n",
        "\n",
        "    glove_file = open('/content/drive/My Drive/glove.6B.100d.txt', encoding=\"utf-8\")\n",
        "\n",
        "    for line in glove_file:\n",
        "        records = line.split()\n",
        "        word = records[0]\n",
        "        vector_dimensions = asarray(records[1:], dtype='float32')\n",
        "        embeddings_dictionary[word] = vector_dimensions\n",
        "\n",
        "    glove_file.close()\n",
        "\n",
        "    embedding_matrix = zeros((vocab_size, 100))\n",
        "    for word, index in tokenizer.word_index.items():\n",
        "        embedding_vector = embeddings_dictionary.get(word)\n",
        "        \n",
        "        if embedding_vector is not None:\n",
        "            embedding_matrix[index] = embedding_vector\n",
        "\n",
        "    return embedding_matrix"
      ],
      "execution_count": null,
      "outputs": []
    },
    {
      "cell_type": "markdown",
      "metadata": {
        "id": "UEkflXuv-4Nc"
      },
      "source": [
        "# Model"
      ]
    },
    {
      "cell_type": "code",
      "metadata": {
        "id": "dBXvxCWZ6uZy"
      },
      "source": [
        "def build_model(embedding_matrix, maxlen, vocab_size):\n",
        "\n",
        "    input_1 = Input(shape=(maxlen,)) #for text, The first submodel will accept textual input\n",
        "    input_2 = Input(shape=(4,)) #for number\n",
        "\n",
        "    embedding_layer = Embedding(vocab_size, 100, weights=[embedding_matrix], trainable=False)(input_1)\n",
        "    LSTM_Layer_1 = LSTM(128)(embedding_layer) #This submodel will consist of an input shape layer, an embedding layer, and an LSTM layer of 128 neurons. \n",
        "\n",
        "    dense_layer_1 = Dense(10, activation='relu')(input_2)\n",
        "    dense_layer_2 = Dense(10, activation='relu')(dense_layer_1)\n",
        "\n",
        "    concat_layer = Concatenate()([LSTM_Layer_1, dense_layer_2])\n",
        "    dense_layer_3 = Dense(10, activation='relu')(concat_layer)\n",
        "    output = Dense(10, activation='softmax')(dense_layer_3)\n",
        "    \n",
        "    model = Model(inputs=[input_1, input_2], outputs=output)\n",
        "\n",
        "    opt = tf.keras.optimizers.Adam(learning_rate=1e-4) # 1e-3 test with\n",
        "    loss = 'categorical_crossentropy'\n",
        "    metrics = ['accuracy', 'AUC', 'Precision', 'Recall'] \n",
        "\n",
        "    model.compile(loss=loss, optimizer=opt, metrics=metrics)\n",
        "    model.summary()\n",
        "\n",
        "    return model"
      ],
      "execution_count": null,
      "outputs": []
    },
    {
      "cell_type": "markdown",
      "metadata": {
        "id": "sWYRLylk-7qJ"
      },
      "source": [
        "# training"
      ]
    },
    {
      "cell_type": "code",
      "metadata": {
        "id": "4MXy5x7a7fIZ"
      },
      "source": [
        "def train(model, x_train_lst, y_train, epochs, batch_size, patience=5, verbose=1, \n",
        "          monitor_es='accuracy', mode_es='auto', restore=True,\n",
        "          monitor_mc='val_accuracy', mode_mc='max'):\n",
        "    \n",
        "    print('\\ntraining...\\n')\n",
        "    \n",
        "    # callback\n",
        "\n",
        "    # observation:\n",
        "    # test the best settings\n",
        "    early_stopping = tf.keras.callbacks.EarlyStopping(monitor=monitor_es,\n",
        "                                                      verbose=1, mode=mode_es, restore_best_weights=restore,\n",
        "                                                      min_delta=1e-3, patience=patience)\n",
        "    \n",
        "    model_checkpoint = tf.keras.callbacks.ModelCheckpoint('model.h5', monitor=monitor_mc, mode=mode_mc,      \n",
        "                                                          verbose=1, save_best_only=True)\n",
        "    \n",
        "    # train model\n",
        "    history = model.fit(x_train_lst, y_train,\n",
        "                        batch_size=batch_size, epochs=epochs, verbose=verbose,\n",
        "                        validation_split=.3,\n",
        "                        callbacks=[early_stopping, model_checkpoint])\n",
        "    return history"
      ],
      "execution_count": null,
      "outputs": []
    },
    {
      "cell_type": "code",
      "metadata": {
        "id": "32FYgsNT76a8"
      },
      "source": [
        "def plot_history(history, string):\n",
        "    fitModel_dict = history.history\n",
        "\n",
        "    plt.figure(figsize=(10, 6))\n",
        "    plt.plot(fitModel_dict[string])\n",
        "    plt.plot(fitModel_dict['val_' + string])\n",
        "    plt.xlabel('Epochs')\n",
        "    plt.ylabel(string)\n",
        "    plt.legend([string, 'val_' + string])\n",
        "    plt.show()"
      ],
      "execution_count": null,
      "outputs": []
    },
    {
      "cell_type": "markdown",
      "metadata": {
        "id": "-7vblVS7zS3p"
      },
      "source": [
        "# testing"
      ]
    },
    {
      "cell_type": "code",
      "metadata": {
        "id": "7CtIUdvSvwXm",
        "outputId": "903f3670-2d99-40ec-c53f-b2ac8f206a4d",
        "colab": {
          "base_uri": "https://localhost:8080/",
          "height": 199
        }
      },
      "source": [
        "x, y = load_dataset()"
      ],
      "execution_count": null,
      "outputs": [
        {
          "output_type": "stream",
          "text": [
            "File ‘datasets/categories_dataset.csv’ already there; not retrieving.\n",
            "\n",
            "    category          word  score  ...  POS stza  POS nlkt  POS spcy\n",
            "0  confident     tolerance   2.63  ...      NOUN      NOUN      NOUN\n",
            "1  confident         carry   0.46  ...      VERB      NOUN      VERB\n",
            "2  confident   tranquility   1.00  ...      NOUN      NOUN      NOUN\n",
            "3  confident  socontagious   2.69  ...       ADJ       ADJ       ADJ\n",
            "4  confident          zeal   1.00  ...      NOUN      NOUN     PROPN\n",
            "\n",
            "[5 rows x 14 columns]\n"
          ],
          "name": "stdout"
        }
      ]
    },
    {
      "cell_type": "code",
      "metadata": {
        "id": "vQbx6vz-zSVk",
        "outputId": "b2f3f09d-6783-45d2-b6ca-f99091b6ac5d",
        "colab": {
          "base_uri": "https://localhost:8080/",
          "height": 508
        }
      },
      "source": [
        "# Preprocessing dataset\n",
        "x1_train, x2_train, x1_test, x2_test, y_train, y_test, y_test_labels, vocab_size, tokenizer = preprocessing(x, y, maxlen)\n",
        "\n",
        "# GloVe\n",
        "embedding_matrix = GloVe(vocab_size, tokenizer)\n",
        "\n",
        "# Building the model\n",
        "model = build_model(embedding_matrix, maxlen, vocab_size)"
      ],
      "execution_count": null,
      "outputs": [
        {
          "output_type": "stream",
          "text": [
            "Model: \"functional_1\"\n",
            "__________________________________________________________________________________________________\n",
            "Layer (type)                    Output Shape         Param #     Connected to                     \n",
            "==================================================================================================\n",
            "input_1 (InputLayer)            [(None, 30)]         0                                            \n",
            "__________________________________________________________________________________________________\n",
            "input_2 (InputLayer)            [(None, 4)]          0                                            \n",
            "__________________________________________________________________________________________________\n",
            "embedding (Embedding)           (None, 30, 100)      1894500     input_1[0][0]                    \n",
            "__________________________________________________________________________________________________\n",
            "dense (Dense)                   (None, 10)           50          input_2[0][0]                    \n",
            "__________________________________________________________________________________________________\n",
            "lstm (LSTM)                     (None, 128)          117248      embedding[0][0]                  \n",
            "__________________________________________________________________________________________________\n",
            "dense_1 (Dense)                 (None, 10)           110         dense[0][0]                      \n",
            "__________________________________________________________________________________________________\n",
            "concatenate (Concatenate)       (None, 138)          0           lstm[0][0]                       \n",
            "                                                                 dense_1[0][0]                    \n",
            "__________________________________________________________________________________________________\n",
            "dense_2 (Dense)                 (None, 10)           1390        concatenate[0][0]                \n",
            "__________________________________________________________________________________________________\n",
            "dense_3 (Dense)                 (None, 10)           110         dense_2[0][0]                    \n",
            "==================================================================================================\n",
            "Total params: 2,013,408\n",
            "Trainable params: 118,908\n",
            "Non-trainable params: 1,894,500\n",
            "__________________________________________________________________________________________________\n"
          ],
          "name": "stdout"
        }
      ]
    },
    {
      "cell_type": "code",
      "metadata": {
        "id": "hQV_g2Rh-fd2",
        "outputId": "c87600ab-5b5a-4f5e-dbfa-97f83df34b83",
        "colab": {
          "base_uri": "https://localhost:8080/",
          "height": 1000
        }
      },
      "source": [
        "# Training the model\n",
        "history = train(model, x_train_lst=[x1_train, x2_train], y_train=y_train, \n",
        "                epochs=epochs, batch_size=batch_size, \n",
        "                monitor_es='val_loss', mode_es='min', monitor_mc='val_accuracy', mode_mc='max')"
      ],
      "execution_count": null,
      "outputs": [
        {
          "output_type": "stream",
          "text": [
            "\n",
            "training...\n",
            "\n",
            "Epoch 1/100\n",
            "2750/2751 [============================>.] - ETA: 0s - loss: 1.7819 - accuracy: 0.5220 - auc: 0.7834 - precision: 0.7960 - recall: 0.1271\n",
            "Epoch 00001: val_accuracy improved from -inf to 0.57553, saving model to model.h5\n",
            "2751/2751 [==============================] - 76s 28ms/step - loss: 1.7818 - accuracy: 0.5220 - auc: 0.7834 - precision: 0.7961 - recall: 0.1271 - val_loss: 1.4555 - val_accuracy: 0.5755 - val_auc: 0.8694 - val_precision: 0.8399 - val_recall: 0.2509\n",
            "Epoch 2/100\n",
            "2750/2751 [============================>.] - ETA: 0s - loss: 1.2572 - accuracy: 0.5860 - auc: 0.9078 - precision: 0.7634 - recall: 0.3879\n",
            "Epoch 00002: val_accuracy improved from 0.57553 to 0.59817, saving model to model.h5\n",
            "2751/2751 [==============================] - 75s 27ms/step - loss: 1.2571 - accuracy: 0.5860 - auc: 0.9078 - precision: 0.7634 - recall: 0.3879 - val_loss: 1.0839 - val_accuracy: 0.5982 - val_auc: 0.9387 - val_precision: 0.7765 - val_recall: 0.4373\n",
            "Epoch 3/100\n",
            "2750/2751 [============================>.] - ETA: 0s - loss: 0.9693 - accuracy: 0.6316 - auc: 0.9498 - precision: 0.8021 - recall: 0.4688\n",
            "Epoch 00003: val_accuracy improved from 0.59817 to 0.69169, saving model to model.h5\n",
            "2751/2751 [==============================] - 75s 27ms/step - loss: 0.9692 - accuracy: 0.6316 - auc: 0.9498 - precision: 0.8021 - recall: 0.4687 - val_loss: 0.8864 - val_accuracy: 0.6917 - val_auc: 0.9560 - val_precision: 0.8416 - val_recall: 0.4760\n",
            "Epoch 4/100\n",
            "2749/2751 [============================>.] - ETA: 0s - loss: 0.8388 - accuracy: 0.7030 - auc: 0.9610 - precision: 0.8320 - recall: 0.4877\n",
            "Epoch 00004: val_accuracy improved from 0.69169 to 0.71937, saving model to model.h5\n",
            "2751/2751 [==============================] - 74s 27ms/step - loss: 0.8387 - accuracy: 0.7030 - auc: 0.9610 - precision: 0.8319 - recall: 0.4877 - val_loss: 0.7995 - val_accuracy: 0.7194 - val_auc: 0.9647 - val_precision: 0.8239 - val_recall: 0.5019\n",
            "Epoch 5/100\n",
            "2751/2751 [==============================] - ETA: 0s - loss: 0.7556 - accuracy: 0.7460 - auc: 0.9695 - precision: 0.8284 - recall: 0.5037\n",
            "Epoch 00005: val_accuracy improved from 0.71937 to 0.75505, saving model to model.h5\n",
            "2751/2751 [==============================] - 78s 28ms/step - loss: 0.7556 - accuracy: 0.7460 - auc: 0.9695 - precision: 0.8284 - recall: 0.5037 - val_loss: 0.7214 - val_accuracy: 0.7551 - val_auc: 0.9724 - val_precision: 0.8236 - val_recall: 0.5231\n",
            "Epoch 6/100\n",
            "2749/2751 [============================>.] - ETA: 0s - loss: 0.6781 - accuracy: 0.7637 - auc: 0.9758 - precision: 0.8422 - recall: 0.5778\n",
            "Epoch 00006: val_accuracy did not improve from 0.75505\n",
            "2751/2751 [==============================] - 75s 27ms/step - loss: 0.6781 - accuracy: 0.7637 - auc: 0.9758 - precision: 0.8421 - recall: 0.5777 - val_loss: 0.6503 - val_accuracy: 0.7546 - val_auc: 0.9770 - val_precision: 0.8412 - val_recall: 0.6067\n",
            "Epoch 7/100\n",
            "2749/2751 [============================>.] - ETA: 0s - loss: 0.6125 - accuracy: 0.7655 - auc: 0.9805 - precision: 0.8459 - recall: 0.6166\n",
            "Epoch 00007: val_accuracy improved from 0.75505 to 0.75892, saving model to model.h5\n",
            "2751/2751 [==============================] - 76s 28ms/step - loss: 0.6125 - accuracy: 0.7654 - auc: 0.9805 - precision: 0.8459 - recall: 0.6165 - val_loss: 0.5942 - val_accuracy: 0.7589 - val_auc: 0.9814 - val_precision: 0.8403 - val_recall: 0.6702\n",
            "Epoch 8/100\n",
            "2750/2751 [============================>.] - ETA: 0s - loss: 0.5590 - accuracy: 0.7680 - auc: 0.9837 - precision: 0.8481 - recall: 0.6538\n",
            "Epoch 00008: val_accuracy improved from 0.75892 to 0.76375, saving model to model.h5\n",
            "2751/2751 [==============================] - 75s 27ms/step - loss: 0.5590 - accuracy: 0.7680 - auc: 0.9837 - precision: 0.8481 - recall: 0.6538 - val_loss: 0.5464 - val_accuracy: 0.7637 - val_auc: 0.9840 - val_precision: 0.8467 - val_recall: 0.6810\n",
            "Epoch 9/100\n",
            "2750/2751 [============================>.] - ETA: 0s - loss: 0.5123 - accuracy: 0.7742 - auc: 0.9859 - precision: 0.8490 - recall: 0.6829\n",
            "Epoch 00009: val_accuracy improved from 0.76375 to 0.77106, saving model to model.h5\n",
            "2751/2751 [==============================] - 75s 27ms/step - loss: 0.5123 - accuracy: 0.7743 - auc: 0.9859 - precision: 0.8490 - recall: 0.6829 - val_loss: 0.4978 - val_accuracy: 0.7711 - val_auc: 0.9858 - val_precision: 0.8294 - val_recall: 0.6894\n",
            "Epoch 10/100\n",
            "2751/2751 [==============================] - ETA: 0s - loss: 0.4672 - accuracy: 0.7804 - auc: 0.9875 - precision: 0.8520 - recall: 0.7109\n",
            "Epoch 00010: val_accuracy improved from 0.77106 to 0.77228, saving model to model.h5\n",
            "2751/2751 [==============================] - 75s 27ms/step - loss: 0.4672 - accuracy: 0.7804 - auc: 0.9875 - precision: 0.8520 - recall: 0.7109 - val_loss: 0.4560 - val_accuracy: 0.7723 - val_auc: 0.9872 - val_precision: 0.8473 - val_recall: 0.7162\n",
            "Epoch 11/100\n",
            "2751/2751 [==============================] - ETA: 0s - loss: 0.4284 - accuracy: 0.7907 - auc: 0.9891 - precision: 0.8558 - recall: 0.7193\n",
            "Epoch 00011: val_accuracy improved from 0.77228 to 0.79248, saving model to model.h5\n",
            "2751/2751 [==============================] - 75s 27ms/step - loss: 0.4284 - accuracy: 0.7907 - auc: 0.9891 - precision: 0.8558 - recall: 0.7193 - val_loss: 0.4180 - val_accuracy: 0.7925 - val_auc: 0.9895 - val_precision: 0.8560 - val_recall: 0.7096\n",
            "Epoch 12/100\n",
            "2749/2751 [============================>.] - ETA: 0s - loss: 0.3954 - accuracy: 0.8010 - auc: 0.9906 - precision: 0.8568 - recall: 0.7263\n",
            "Epoch 00012: val_accuracy improved from 0.79248 to 0.79704, saving model to model.h5\n",
            "2751/2751 [==============================] - 75s 27ms/step - loss: 0.3955 - accuracy: 0.8009 - auc: 0.9906 - precision: 0.8567 - recall: 0.7263 - val_loss: 0.3876 - val_accuracy: 0.7970 - val_auc: 0.9907 - val_precision: 0.8258 - val_recall: 0.7555\n",
            "Epoch 13/100\n",
            "2749/2751 [============================>.] - ETA: 0s - loss: 0.3682 - accuracy: 0.8051 - auc: 0.9913 - precision: 0.8533 - recall: 0.7368\n",
            "Epoch 00013: val_accuracy improved from 0.79704 to 0.79858, saving model to model.h5\n",
            "2751/2751 [==============================] - 78s 28ms/step - loss: 0.3682 - accuracy: 0.8051 - auc: 0.9913 - precision: 0.8533 - recall: 0.7368 - val_loss: 0.3635 - val_accuracy: 0.7986 - val_auc: 0.9911 - val_precision: 0.8641 - val_recall: 0.7095\n",
            "Epoch 14/100\n",
            "2751/2751 [==============================] - ETA: 0s - loss: 0.3461 - accuracy: 0.8074 - auc: 0.9916 - precision: 0.8448 - recall: 0.7521\n",
            "Epoch 00014: val_accuracy improved from 0.79858 to 0.80176, saving model to model.h5\n",
            "2751/2751 [==============================] - 75s 27ms/step - loss: 0.3461 - accuracy: 0.8074 - auc: 0.9916 - precision: 0.8448 - recall: 0.7521 - val_loss: 0.3415 - val_accuracy: 0.8018 - val_auc: 0.9913 - val_precision: 0.8190 - val_recall: 0.7779\n",
            "Epoch 15/100\n",
            "2749/2751 [============================>.] - ETA: 0s - loss: 0.3282 - accuracy: 0.8080 - auc: 0.9917 - precision: 0.8348 - recall: 0.7644\n",
            "Epoch 00015: val_accuracy improved from 0.80176 to 0.80388, saving model to model.h5\n",
            "2751/2751 [==============================] - 75s 27ms/step - loss: 0.3282 - accuracy: 0.8080 - auc: 0.9918 - precision: 0.8349 - recall: 0.7645 - val_loss: 0.3259 - val_accuracy: 0.8039 - val_auc: 0.9915 - val_precision: 0.8172 - val_recall: 0.7827\n",
            "Epoch 16/100\n",
            "2751/2751 [==============================] - ETA: 0s - loss: 0.3141 - accuracy: 0.8103 - auc: 0.9918 - precision: 0.8306 - recall: 0.7767\n",
            "Epoch 00016: val_accuracy improved from 0.80388 to 0.80409, saving model to model.h5\n",
            "2751/2751 [==============================] - 74s 27ms/step - loss: 0.3141 - accuracy: 0.8103 - auc: 0.9918 - precision: 0.8306 - recall: 0.7767 - val_loss: 0.3139 - val_accuracy: 0.8041 - val_auc: 0.9916 - val_precision: 0.8521 - val_recall: 0.7385\n",
            "Epoch 17/100\n",
            "2750/2751 [============================>.] - ETA: 0s - loss: 0.3038 - accuracy: 0.8082 - auc: 0.9918 - precision: 0.8250 - recall: 0.7825\n",
            "Epoch 00017: val_accuracy improved from 0.80409 to 0.80415, saving model to model.h5\n",
            "2751/2751 [==============================] - 75s 27ms/step - loss: 0.3037 - accuracy: 0.8082 - auc: 0.9918 - precision: 0.8250 - recall: 0.7825 - val_loss: 0.3030 - val_accuracy: 0.8041 - val_auc: 0.9915 - val_precision: 0.8134 - val_recall: 0.7886\n",
            "Epoch 18/100\n",
            "2750/2751 [============================>.] - ETA: 0s - loss: 0.2954 - accuracy: 0.8094 - auc: 0.9919 - precision: 0.8218 - recall: 0.7875\n",
            "Epoch 00018: val_accuracy did not improve from 0.80415\n",
            "2751/2751 [==============================] - 75s 27ms/step - loss: 0.2954 - accuracy: 0.8094 - auc: 0.9919 - precision: 0.8218 - recall: 0.7875 - val_loss: 0.2954 - val_accuracy: 0.7997 - val_auc: 0.9914 - val_precision: 0.8093 - val_recall: 0.7847\n",
            "Epoch 19/100\n",
            "2751/2751 [==============================] - ETA: 0s - loss: 0.2896 - accuracy: 0.8089 - auc: 0.9919 - precision: 0.8201 - recall: 0.7899\n",
            "Epoch 00019: val_accuracy did not improve from 0.80415\n",
            "2751/2751 [==============================] - 75s 27ms/step - loss: 0.2896 - accuracy: 0.8089 - auc: 0.9919 - precision: 0.8201 - recall: 0.7899 - val_loss: 0.2894 - val_accuracy: 0.8036 - val_auc: 0.9914 - val_precision: 0.8063 - val_recall: 0.7985\n",
            "Epoch 20/100\n",
            "2751/2751 [==============================] - ETA: 0s - loss: 0.2849 - accuracy: 0.8089 - auc: 0.9919 - precision: 0.8195 - recall: 0.7931\n",
            "Epoch 00020: val_accuracy did not improve from 0.80415\n",
            "2751/2751 [==============================] - 75s 27ms/step - loss: 0.2849 - accuracy: 0.8089 - auc: 0.9919 - precision: 0.8195 - recall: 0.7931 - val_loss: 0.2850 - val_accuracy: 0.8031 - val_auc: 0.9914 - val_precision: 0.8109 - val_recall: 0.7916\n",
            "Epoch 21/100\n",
            "2749/2751 [============================>.] - ETA: 0s - loss: 0.2819 - accuracy: 0.8082 - auc: 0.9919 - precision: 0.8165 - recall: 0.7958\n",
            "Epoch 00021: val_accuracy improved from 0.80415 to 0.80770, saving model to model.h5\n",
            "2751/2751 [==============================] - 77s 28ms/step - loss: 0.2819 - accuracy: 0.8082 - auc: 0.9919 - precision: 0.8166 - recall: 0.7958 - val_loss: 0.2826 - val_accuracy: 0.8077 - val_auc: 0.9916 - val_precision: 0.8107 - val_recall: 0.8020\n",
            "Epoch 22/100\n",
            "2749/2751 [============================>.] - ETA: 0s - loss: 0.2792 - accuracy: 0.8122 - auc: 0.9920 - precision: 0.8181 - recall: 0.8035\n",
            "Epoch 00022: val_accuracy did not improve from 0.80770\n",
            "2751/2751 [==============================] - 74s 27ms/step - loss: 0.2791 - accuracy: 0.8122 - auc: 0.9920 - precision: 0.8181 - recall: 0.8035 - val_loss: 0.2793 - val_accuracy: 0.8044 - val_auc: 0.9914 - val_precision: 0.8214 - val_recall: 0.7759\n",
            "Epoch 23/100\n",
            "2749/2751 [============================>.] - ETA: 0s - loss: 0.2775 - accuracy: 0.8101 - auc: 0.9920 - precision: 0.8164 - recall: 0.8017\n",
            "Epoch 00023: val_accuracy did not improve from 0.80770\n",
            "2751/2751 [==============================] - 75s 27ms/step - loss: 0.2775 - accuracy: 0.8102 - auc: 0.9920 - precision: 0.8164 - recall: 0.8017 - val_loss: 0.2787 - val_accuracy: 0.8001 - val_auc: 0.9913 - val_precision: 0.8099 - val_recall: 0.7843\n",
            "Epoch 24/100\n",
            "2749/2751 [============================>.] - ETA: 0s - loss: 0.2759 - accuracy: 0.8094 - auc: 0.9920 - precision: 0.8150 - recall: 0.8006\n",
            "Epoch 00024: val_accuracy did not improve from 0.80770\n",
            "2751/2751 [==============================] - 74s 27ms/step - loss: 0.2759 - accuracy: 0.8095 - auc: 0.9920 - precision: 0.8151 - recall: 0.8007 - val_loss: 0.2777 - val_accuracy: 0.8023 - val_auc: 0.9915 - val_precision: 0.8039 - val_recall: 0.7996\n",
            "Epoch 25/100\n",
            "2749/2751 [============================>.] - ETA: 0s - loss: 0.2746 - accuracy: 0.8122 - auc: 0.9921 - precision: 0.8168 - recall: 0.8050\n",
            "Epoch 00025: val_accuracy did not improve from 0.80770\n",
            "2751/2751 [==============================] - 75s 27ms/step - loss: 0.2746 - accuracy: 0.8123 - auc: 0.9921 - precision: 0.8168 - recall: 0.8050 - val_loss: 0.2759 - val_accuracy: 0.7986 - val_auc: 0.9911 - val_precision: 0.8037 - val_recall: 0.7894\n",
            "Epoch 26/100\n",
            "2751/2751 [==============================] - ETA: 0s - loss: 0.2735 - accuracy: 0.8129 - auc: 0.9921 - precision: 0.8165 - recall: 0.8065\n",
            "Epoch 00026: val_accuracy did not improve from 0.80770\n",
            "2751/2751 [==============================] - 74s 27ms/step - loss: 0.2735 - accuracy: 0.8129 - auc: 0.9921 - precision: 0.8165 - recall: 0.8065 - val_loss: 0.2771 - val_accuracy: 0.7961 - val_auc: 0.9912 - val_precision: 0.8006 - val_recall: 0.7902\n",
            "Epoch 27/100\n",
            "2750/2751 [============================>.] - ETA: 0s - loss: 0.2727 - accuracy: 0.8121 - auc: 0.9921 - precision: 0.8155 - recall: 0.8066\n",
            "Epoch 00027: val_accuracy did not improve from 0.80770\n",
            "2751/2751 [==============================] - 75s 27ms/step - loss: 0.2727 - accuracy: 0.8122 - auc: 0.9921 - precision: 0.8155 - recall: 0.8067 - val_loss: 0.2775 - val_accuracy: 0.7979 - val_auc: 0.9912 - val_precision: 0.7989 - val_recall: 0.7965\n",
            "Epoch 28/100\n",
            "2750/2751 [============================>.] - ETA: 0s - loss: 0.2719 - accuracy: 0.8144 - auc: 0.9922 - precision: 0.8174 - recall: 0.8099\n",
            "Epoch 00028: val_accuracy did not improve from 0.80770\n",
            "2751/2751 [==============================] - 75s 27ms/step - loss: 0.2719 - accuracy: 0.8144 - auc: 0.9922 - precision: 0.8174 - recall: 0.8099 - val_loss: 0.2751 - val_accuracy: 0.7978 - val_auc: 0.9910 - val_precision: 0.7985 - val_recall: 0.7965\n",
            "Epoch 29/100\n",
            "2750/2751 [============================>.] - ETA: 0s - loss: 0.2712 - accuracy: 0.8150 - auc: 0.9922 - precision: 0.8177 - recall: 0.8115\n",
            "Epoch 00029: val_accuracy did not improve from 0.80770\n",
            "2751/2751 [==============================] - 76s 28ms/step - loss: 0.2712 - accuracy: 0.8151 - auc: 0.9922 - precision: 0.8177 - recall: 0.8115 - val_loss: 0.2767 - val_accuracy: 0.7949 - val_auc: 0.9910 - val_precision: 0.7967 - val_recall: 0.7919\n",
            "Epoch 30/100\n",
            "2751/2751 [==============================] - ETA: 0s - loss: 0.2705 - accuracy: 0.8161 - auc: 0.9923 - precision: 0.8178 - recall: 0.8124Restoring model weights from the end of the best epoch.\n",
            "\n",
            "Epoch 00030: val_accuracy did not improve from 0.80770\n",
            "2751/2751 [==============================] - 75s 27ms/step - loss: 0.2705 - accuracy: 0.8161 - auc: 0.9923 - precision: 0.8178 - recall: 0.8124 - val_loss: 0.2790 - val_accuracy: 0.8018 - val_auc: 0.9914 - val_precision: 0.8020 - val_recall: 0.8013\n",
            "Epoch 00030: early stopping\n"
          ],
          "name": "stdout"
        }
      ]
    },
    {
      "cell_type": "code",
      "metadata": {
        "id": "tuR4iwceVMM7",
        "outputId": "130f88e3-305c-4b28-b835-7af30935d478",
        "colab": {
          "base_uri": "https://localhost:8080/",
          "height": 35
        }
      },
      "source": [
        "test_loss, test_accuracy, test_auc, test_precision, test_recall = model.evaluate(x=[x1_test, x2_test], y=y_test)"
      ],
      "execution_count": null,
      "outputs": [
        {
          "output_type": "stream",
          "text": [
            "843/843 [==============================] - 17s 20ms/step - loss: 0.2748 - accuracy: 0.7986 - auc: 0.9912 - precision: 0.8043 - recall: 0.7902\n"
          ],
          "name": "stdout"
        }
      ]
    },
    {
      "cell_type": "code",
      "metadata": {
        "id": "SYBmDuxdGA-Q",
        "outputId": "5db5d6bc-6471-4f30-a35a-08a139d791d2",
        "colab": {
          "base_uri": "https://localhost:8080/",
          "height": 72
        }
      },
      "source": [
        "x1_train[1]"
      ],
      "execution_count": null,
      "outputs": [
        {
          "output_type": "execute_result",
          "data": {
            "text/plain": [
              "array([141,   0,   0,   0,   0,   0,   0,   0,   0,   0,   0,   0,   0,\n",
              "         0,   0,   0,   0,   0,   0,   0,   0,   0,   0,   0,   0,   0,\n",
              "         0,   0,   0,   0], dtype=int32)"
            ]
          },
          "metadata": {
            "tags": []
          },
          "execution_count": 32
        }
      ]
    },
    {
      "cell_type": "code",
      "metadata": {
        "id": "0-04OYVGmJ3B",
        "outputId": "47d86586-15e4-4dc0-a219-afa282535233",
        "colab": {
          "base_uri": "https://localhost:8080/",
          "height": 108
        }
      },
      "source": [
        "evaluate_lst = list(map(lambda x: x * 100, [test_loss, test_accuracy]))\n",
        "print(evaluate_lst)\n",
        "print(('\\nTest:\\nLoss: {:.2f}\\nAccuracy: {:.2f}').format(evaluate_lst[0], evaluate_lst[1]))"
      ],
      "execution_count": null,
      "outputs": [
        {
          "output_type": "stream",
          "text": [
            "[27.476343512535095, 79.85897064208984]\n",
            "\n",
            "Test:\n",
            "Loss: 27.48\n",
            "Accuracy: 79.86\n"
          ],
          "name": "stdout"
        }
      ]
    },
    {
      "cell_type": "code",
      "metadata": {
        "id": "AbgfkvPsH9by"
      },
      "source": [
        "def predict_class(labels: dict, word: str, V: float, A: float, D: float, quadrant: float, model):\n",
        "    global maxlen\n",
        "    tokenizer = Tokenizer()\n",
        "    tokenizer.fit_on_texts(word)\n",
        "    \n",
        "    token = tokenizer.texts_to_sequences(word)\n",
        "    token = keras.preprocessing.sequence.pad_sequences(token, padding='post', maxlen=maxlen)\n",
        "\n",
        "    output = model.predict(np.array([token]))\n",
        "    idx = int(tf.keras.backend.argmax(output))\n",
        "\n",
        "    print(token.shape)\n",
        "\n",
        "    for k, v in labels.items():\n",
        "        if v == idx:\n",
        "            return k\n",
        "    return 'unclassified'"
      ],
      "execution_count": null,
      "outputs": []
    },
    {
      "cell_type": "code",
      "metadata": {
        "id": "BEUD6_R-5J3U",
        "outputId": "d53c90b5-5824-4a18-ca82-70cd51905df7",
        "colab": {
          "base_uri": "https://localhost:8080/",
          "height": 388
        }
      },
      "source": [
        "plot_history(history, 'accuracy')"
      ],
      "execution_count": null,
      "outputs": [
        {
          "output_type": "display_data",
          "data": {
            "image/png": "[encoded data removed]",
            "text/plain": [
              "<Figure size 720x432 with 1 Axes>"
            ]
          },
          "metadata": {
            "tags": [],
            "needs_background": "light"
          }
        }
      ]
    },
    {
      "cell_type": "code",
      "metadata": {
        "id": "I4g3gsL-87Rk",
        "outputId": "5a46a4b5-b479-4bd0-b9d3-3ce31f8de491",
        "colab": {
          "base_uri": "https://localhost:8080/",
          "height": 388
        }
      },
      "source": [
        "plot_history(history, 'loss')"
      ],
      "execution_count": null,
      "outputs": [
        {
          "output_type": "display_data",
          "data": {
            "image/png": "[encoded data removed]",
            "text/plain": [
              "<Figure size 720x432 with 1 Axes>"
            ]
          },
          "metadata": {
            "tags": [],
            "needs_background": "light"
          }
        }
      ]
    },
    {
      "cell_type": "code",
      "metadata": {
        "id": "nFStOtvp5bhy",
        "outputId": "fd048ede-e613-475c-fe54-6090bce02a21",
        "colab": {
          "base_uri": "https://localhost:8080/",
          "height": 1000
        }
      },
      "source": [
        "plot_history(history, 'precision')\n",
        "plot_history(history, 'auc')\n",
        "plot_history(history, 'recall')"
      ],
      "execution_count": null,
      "outputs": [
        {
          "output_type": "display_data",
          "data": {
            "image/png": "[encoded data removed]",
            "text/plain": [
              "<Figure size 720x432 with 1 Axes>"
            ]
          },
          "metadata": {
            "tags": [],
            "needs_background": "light"
          }
        },
        {
          "output_type": "display_data",
          "data": {
            "image/png": "[encoded data removed]",
            "text/plain": [
              "<Figure size 720x432 with 1 Axes>"
            ]
          },
          "metadata": {
            "tags": [],
            "needs_background": "light"
          }
        },
        {
          "output_type": "display_data",
          "data": {
            "image/png": "[encoded data removed]",
            "text/plain": [
              "<Figure size 720x432 with 1 Axes>"
            ]
          },
          "metadata": {
            "tags": [],
            "needs_background": "light"
          }
        }
      ]
    }
  ]
}