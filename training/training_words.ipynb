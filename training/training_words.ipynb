{
  "nbformat": 4,
  "nbformat_minor": 0,
  "metadata": {
    "colab": {
      "name": "training_words.ipynb",
      "provenance": [],
      "collapsed_sections": [],
      "toc_visible": true,
      "machine_shape": "hm"
    },
    "kernelspec": {
      "name": "python3",
      "display_name": "Python 3"
    },
    "accelerator": "GPU"
  },
  "cells": [
    {
      "cell_type": "markdown",
      "metadata": {
        "id": "3hCJ7VTq1r-B"
      },
      "source": [
        "---\n",
        "# **Sentiment Analysis**\n",
        "---"
      ]
    },
    {
      "cell_type": "markdown",
      "metadata": {
        "id": "RrfoCSVi1uU_"
      },
      "source": [
        "---\n",
        "\n",
        "# **1. Installation**\n",
        "\n",
        "---"
      ]
    },
    {
      "cell_type": "markdown",
      "metadata": {
        "id": "jfMMl1bb1x_2"
      },
      "source": [
        "## i. Generating a reponse\n"
      ]
    },
    {
      "cell_type": "code",
      "metadata": {
        "id": "soQns5KH0mNV"
      },
      "source": [
        "import sys\n",
        "import logging\n",
        "from psutil import virtual_memory"
      ],
      "execution_count": 1,
      "outputs": []
    },
    {
      "cell_type": "code",
      "metadata": {
        "id": "WwXk46ge1zYO"
      },
      "source": [
        "gpu_info = !nvidia-smi\n",
        "gpu_info = '\\n'.join(gpu_info)\n",
        "ram_gb = virtual_memory().total / 1e9"
      ],
      "execution_count": 2,
      "outputs": []
    },
    {
      "cell_type": "code",
      "metadata": {
        "id": "AqYgi67z1zgZ"
      },
      "source": [
        "tf_response = {\n",
        "    'error': None,\n",
        "    'TF version': '',\n",
        "    'COLAB': None,\n",
        "    'GPU': False,\n",
        "    'ram_gb': ''\n",
        "}"
      ],
      "execution_count": 3,
      "outputs": []
    },
    {
      "cell_type": "code",
      "metadata": {
        "id": "CvNt2AJ51znJ",
        "outputId": "fbd7901c-488b-4fbe-e031-749b3a53097c",
        "colab": {
          "base_uri": "https://localhost:8080/",
          "height": 1000
        }
      },
      "source": [
        "try:\n",
        "    # drive\n",
        "    from google.colab import drive\n",
        "    IN_COLAB = 'google.colab' in sys.modules\n",
        "\n",
        "    # updating tensorflow version\n",
        "    %tensorflow_version 2.x\n",
        "\n",
        "    # tensorflow-gpu & tensorflowjs\n",
        "    !pip install tensorflow-gpu # !pip install tensorflow_text # I could use BERT\n",
        "    !pip install tensorflowjs\n",
        "\n",
        "    # NLP (nltk, stanza, spacy)\n",
        "    !pip install nltk \n",
        "    !pip install stanza\n",
        "    !pip install spacy\n",
        "    !spacy download en_core_web_sm # sm md lg\n",
        "    !python -m spacy download en\n",
        "except OSError as error:\n",
        "    # debugging error\n",
        "    response['error'] = logging.debug('You are not using your specify version of TensorFlow')\n",
        "    IN_COLAB = False\n",
        "\n",
        "    # install requirements\n",
        "    !pip install -r '../requirements.txt'\n",
        "finally:\n",
        "    tf_response['COLAB'] = IN_COLAB\n",
        "    \n",
        "    # Importing tensroflow core\n",
        "    import tensorflow as tf\n",
        "    import tensorflowjs as tfjs\n",
        "    from tensorflow import keras\n",
        "    from keras.utils import to_categorical\n",
        "\n",
        "    from tensorflow.keras.preprocessing.text import Tokenizer\n",
        "    from tensorflow.keras.preprocessing.sequence import pad_sequences\n",
        "\n",
        "    from tensorflow.keras.models import Sequential\n",
        "    from tensorflow.keras.layers import Dense, Flatten, LSTM, Dropout, Activation, Embedding, Bidirectional, GlobalMaxPool1D\n",
        "\n",
        "    from sklearn.model_selection import train_test_split\n",
        "    \n",
        "    # GPU and RAM response\n",
        "    if tf.config.list_physical_devices('GPU'):\n",
        "        GPU = True\n",
        "        tf_response['GPU'] = GPU\n",
        "        tf_response['TF_version'] = tf.__version__\n",
        "        \n",
        "        if tf_response['COLAB'] == True:\n",
        "            if gpu_info.find('failed') >= 0:\n",
        "                print('Select the Runtime > \"Change runtime type\" menu to enable a GPU accelerator')\n",
        "                print('Re-execute this cell.')\n",
        "            else:\n",
        "                print(gpu_info)\n",
        "            \n",
        "            if ram_gb < 20:\n",
        "                print('To enable a high-RAM runtime, select the Runtime > \"Change runtime type menu\"')\n",
        "                print('Select high-RAM in the runtime shape dropdown')\n",
        "                print('Re-execute this cell')\n",
        "                tf_response['ram_gb'] = 'low-RAM runtime'\n",
        "            else:\n",
        "                tf_response['ram_gb'] = 'high-RAM runtime'\n",
        "            print('\\nRuntime {:.2f} GB of available RAM\\n'.format(ram_gb))"
      ],
      "execution_count": 4,
      "outputs": [
        {
          "output_type": "stream",
          "text": [
            "Requirement already satisfied: tensorflow-gpu in /usr/local/lib/python3.6/dist-packages (2.3.1)\n",
            "Requirement already satisfied: google-pasta>=0.1.8 in /usr/local/lib/python3.6/dist-packages (from tensorflow-gpu) (0.2.0)\n",
            "Requirement already satisfied: wrapt>=1.11.1 in /usr/local/lib/python3.6/dist-packages (from tensorflow-gpu) (1.12.1)\n",
            "Requirement already satisfied: astunparse==1.6.3 in /usr/local/lib/python3.6/dist-packages (from tensorflow-gpu) (1.6.3)\n",
            "Requirement already satisfied: absl-py>=0.7.0 in /usr/local/lib/python3.6/dist-packages (from tensorflow-gpu) (0.10.0)\n",
            "Requirement already satisfied: protobuf>=3.9.2 in /usr/local/lib/python3.6/dist-packages (from tensorflow-gpu) (3.12.4)\n",
            "Requirement already satisfied: tensorflow-estimator<2.4.0,>=2.3.0 in /usr/local/lib/python3.6/dist-packages (from tensorflow-gpu) (2.3.0)\n",
            "Requirement already satisfied: termcolor>=1.1.0 in /usr/local/lib/python3.6/dist-packages (from tensorflow-gpu) (1.1.0)\n",
            "Requirement already satisfied: wheel>=0.26 in /usr/local/lib/python3.6/dist-packages (from tensorflow-gpu) (0.35.1)\n",
            "Requirement already satisfied: h5py<2.11.0,>=2.10.0 in /usr/local/lib/python3.6/dist-packages (from tensorflow-gpu) (2.10.0)\n",
            "Requirement already satisfied: opt-einsum>=2.3.2 in /usr/local/lib/python3.6/dist-packages (from tensorflow-gpu) (3.3.0)\n",
            "Requirement already satisfied: numpy<1.19.0,>=1.16.0 in /usr/local/lib/python3.6/dist-packages (from tensorflow-gpu) (1.18.5)\n",
            "Requirement already satisfied: keras-preprocessing<1.2,>=1.1.1 in /usr/local/lib/python3.6/dist-packages (from tensorflow-gpu) (1.1.2)\n",
            "Requirement already satisfied: tensorboard<3,>=2.3.0 in /usr/local/lib/python3.6/dist-packages (from tensorflow-gpu) (2.3.0)\n",
            "Requirement already satisfied: gast==0.3.3 in /usr/local/lib/python3.6/dist-packages (from tensorflow-gpu) (0.3.3)\n",
            "Requirement already satisfied: six>=1.12.0 in /usr/local/lib/python3.6/dist-packages (from tensorflow-gpu) (1.15.0)\n",
            "Requirement already satisfied: grpcio>=1.8.6 in /usr/local/lib/python3.6/dist-packages (from tensorflow-gpu) (1.32.0)\n",
            "Requirement already satisfied: setuptools in /usr/local/lib/python3.6/dist-packages (from protobuf>=3.9.2->tensorflow-gpu) (50.3.0)\n",
            "Requirement already satisfied: tensorboard-plugin-wit>=1.6.0 in /usr/local/lib/python3.6/dist-packages (from tensorboard<3,>=2.3.0->tensorflow-gpu) (1.7.0)\n",
            "Requirement already satisfied: werkzeug>=0.11.15 in /usr/local/lib/python3.6/dist-packages (from tensorboard<3,>=2.3.0->tensorflow-gpu) (1.0.1)\n",
            "Requirement already satisfied: google-auth<2,>=1.6.3 in /usr/local/lib/python3.6/dist-packages (from tensorboard<3,>=2.3.0->tensorflow-gpu) (1.17.2)\n",
            "Requirement already satisfied: google-auth-oauthlib<0.5,>=0.4.1 in /usr/local/lib/python3.6/dist-packages (from tensorboard<3,>=2.3.0->tensorflow-gpu) (0.4.1)\n",
            "Requirement already satisfied: requests<3,>=2.21.0 in /usr/local/lib/python3.6/dist-packages (from tensorboard<3,>=2.3.0->tensorflow-gpu) (2.23.0)\n",
            "Requirement already satisfied: markdown>=2.6.8 in /usr/local/lib/python3.6/dist-packages (from tensorboard<3,>=2.3.0->tensorflow-gpu) (3.2.2)\n",
            "Requirement already satisfied: rsa<5,>=3.1.4; python_version >= \"3\" in /usr/local/lib/python3.6/dist-packages (from google-auth<2,>=1.6.3->tensorboard<3,>=2.3.0->tensorflow-gpu) (4.6)\n",
            "Requirement already satisfied: pyasn1-modules>=0.2.1 in /usr/local/lib/python3.6/dist-packages (from google-auth<2,>=1.6.3->tensorboard<3,>=2.3.0->tensorflow-gpu) (0.2.8)\n",
            "Requirement already satisfied: cachetools<5.0,>=2.0.0 in /usr/local/lib/python3.6/dist-packages (from google-auth<2,>=1.6.3->tensorboard<3,>=2.3.0->tensorflow-gpu) (4.1.1)\n",
            "Requirement already satisfied: requests-oauthlib>=0.7.0 in /usr/local/lib/python3.6/dist-packages (from google-auth-oauthlib<0.5,>=0.4.1->tensorboard<3,>=2.3.0->tensorflow-gpu) (1.3.0)\n",
            "Requirement already satisfied: urllib3!=1.25.0,!=1.25.1,<1.26,>=1.21.1 in /usr/local/lib/python3.6/dist-packages (from requests<3,>=2.21.0->tensorboard<3,>=2.3.0->tensorflow-gpu) (1.24.3)\n",
            "Requirement already satisfied: idna<3,>=2.5 in /usr/local/lib/python3.6/dist-packages (from requests<3,>=2.21.0->tensorboard<3,>=2.3.0->tensorflow-gpu) (2.10)\n",
            "Requirement already satisfied: certifi>=2017.4.17 in /usr/local/lib/python3.6/dist-packages (from requests<3,>=2.21.0->tensorboard<3,>=2.3.0->tensorflow-gpu) (2020.6.20)\n",
            "Requirement already satisfied: chardet<4,>=3.0.2 in /usr/local/lib/python3.6/dist-packages (from requests<3,>=2.21.0->tensorboard<3,>=2.3.0->tensorflow-gpu) (3.0.4)\n",
            "Requirement already satisfied: importlib-metadata; python_version < \"3.8\" in /usr/local/lib/python3.6/dist-packages (from markdown>=2.6.8->tensorboard<3,>=2.3.0->tensorflow-gpu) (1.7.0)\n",
            "Requirement already satisfied: pyasn1>=0.1.3 in /usr/local/lib/python3.6/dist-packages (from rsa<5,>=3.1.4; python_version >= \"3\"->google-auth<2,>=1.6.3->tensorboard<3,>=2.3.0->tensorflow-gpu) (0.4.8)\n",
            "Requirement already satisfied: oauthlib>=3.0.0 in /usr/local/lib/python3.6/dist-packages (from requests-oauthlib>=0.7.0->google-auth-oauthlib<0.5,>=0.4.1->tensorboard<3,>=2.3.0->tensorflow-gpu) (3.1.0)\n",
            "Requirement already satisfied: zipp>=0.5 in /usr/local/lib/python3.6/dist-packages (from importlib-metadata; python_version < \"3.8\"->markdown>=2.6.8->tensorboard<3,>=2.3.0->tensorflow-gpu) (3.1.0)\n",
            "Requirement already satisfied: tensorflowjs in /usr/local/lib/python3.6/dist-packages (2.4.0)\n",
            "Requirement already satisfied: six>=1.12.0 in /usr/local/lib/python3.6/dist-packages (from tensorflowjs) (1.15.0)\n",
            "Requirement already satisfied: h5py>=2.8.0 in /usr/local/lib/python3.6/dist-packages (from tensorflowjs) (2.10.0)\n",
            "Requirement already satisfied: PyInquirer==1.0.3 in /usr/local/lib/python3.6/dist-packages (from tensorflowjs) (1.0.3)\n",
            "Requirement already satisfied: tensorflow-hub==0.7.0 in /usr/local/lib/python3.6/dist-packages (from tensorflowjs) (0.7.0)\n",
            "Requirement already satisfied: numpy<1.19.0,>=1.16.4 in /usr/local/lib/python3.6/dist-packages (from tensorflowjs) (1.18.5)\n",
            "Requirement already satisfied: tensorflow-cpu<3,>=2.1.0 in /usr/local/lib/python3.6/dist-packages (from tensorflowjs) (2.3.1)\n",
            "Requirement already satisfied: regex>=2016.11.21 in /usr/local/lib/python3.6/dist-packages (from PyInquirer==1.0.3->tensorflowjs) (2019.12.20)\n",
            "Requirement already satisfied: Pygments>=2.2.0 in /usr/local/lib/python3.6/dist-packages (from PyInquirer==1.0.3->tensorflowjs) (2.6.1)\n",
            "Requirement already satisfied: prompt-toolkit==1.0.14 in /usr/local/lib/python3.6/dist-packages (from PyInquirer==1.0.3->tensorflowjs) (1.0.14)\n",
            "Requirement already satisfied: protobuf>=3.4.0 in /usr/local/lib/python3.6/dist-packages (from tensorflow-hub==0.7.0->tensorflowjs) (3.12.4)\n",
            "Requirement already satisfied: tensorflow-estimator<2.4.0,>=2.3.0 in /usr/local/lib/python3.6/dist-packages (from tensorflow-cpu<3,>=2.1.0->tensorflowjs) (2.3.0)\n",
            "Requirement already satisfied: wrapt>=1.11.1 in /usr/local/lib/python3.6/dist-packages (from tensorflow-cpu<3,>=2.1.0->tensorflowjs) (1.12.1)\n",
            "Requirement already satisfied: google-pasta>=0.1.8 in /usr/local/lib/python3.6/dist-packages (from tensorflow-cpu<3,>=2.1.0->tensorflowjs) (0.2.0)\n",
            "Requirement already satisfied: absl-py>=0.7.0 in /usr/local/lib/python3.6/dist-packages (from tensorflow-cpu<3,>=2.1.0->tensorflowjs) (0.10.0)\n",
            "Requirement already satisfied: termcolor>=1.1.0 in /usr/local/lib/python3.6/dist-packages (from tensorflow-cpu<3,>=2.1.0->tensorflowjs) (1.1.0)\n",
            "Requirement already satisfied: keras-preprocessing<1.2,>=1.1.1 in /usr/local/lib/python3.6/dist-packages (from tensorflow-cpu<3,>=2.1.0->tensorflowjs) (1.1.2)\n",
            "Requirement already satisfied: grpcio>=1.8.6 in /usr/local/lib/python3.6/dist-packages (from tensorflow-cpu<3,>=2.1.0->tensorflowjs) (1.32.0)\n",
            "Requirement already satisfied: opt-einsum>=2.3.2 in /usr/local/lib/python3.6/dist-packages (from tensorflow-cpu<3,>=2.1.0->tensorflowjs) (3.3.0)\n",
            "Requirement already satisfied: astunparse==1.6.3 in /usr/local/lib/python3.6/dist-packages (from tensorflow-cpu<3,>=2.1.0->tensorflowjs) (1.6.3)\n",
            "Requirement already satisfied: wheel>=0.26 in /usr/local/lib/python3.6/dist-packages (from tensorflow-cpu<3,>=2.1.0->tensorflowjs) (0.35.1)\n",
            "Requirement already satisfied: gast==0.3.3 in /usr/local/lib/python3.6/dist-packages (from tensorflow-cpu<3,>=2.1.0->tensorflowjs) (0.3.3)\n",
            "Requirement already satisfied: tensorboard<3,>=2.3.0 in /usr/local/lib/python3.6/dist-packages (from tensorflow-cpu<3,>=2.1.0->tensorflowjs) (2.3.0)\n",
            "Requirement already satisfied: wcwidth in /usr/local/lib/python3.6/dist-packages (from prompt-toolkit==1.0.14->PyInquirer==1.0.3->tensorflowjs) (0.2.5)\n",
            "Requirement already satisfied: setuptools in /usr/local/lib/python3.6/dist-packages (from protobuf>=3.4.0->tensorflow-hub==0.7.0->tensorflowjs) (50.3.0)\n",
            "Requirement already satisfied: google-auth<2,>=1.6.3 in /usr/local/lib/python3.6/dist-packages (from tensorboard<3,>=2.3.0->tensorflow-cpu<3,>=2.1.0->tensorflowjs) (1.17.2)\n",
            "Requirement already satisfied: requests<3,>=2.21.0 in /usr/local/lib/python3.6/dist-packages (from tensorboard<3,>=2.3.0->tensorflow-cpu<3,>=2.1.0->tensorflowjs) (2.23.0)\n",
            "Requirement already satisfied: tensorboard-plugin-wit>=1.6.0 in /usr/local/lib/python3.6/dist-packages (from tensorboard<3,>=2.3.0->tensorflow-cpu<3,>=2.1.0->tensorflowjs) (1.7.0)\n",
            "Requirement already satisfied: markdown>=2.6.8 in /usr/local/lib/python3.6/dist-packages (from tensorboard<3,>=2.3.0->tensorflow-cpu<3,>=2.1.0->tensorflowjs) (3.2.2)\n",
            "Requirement already satisfied: werkzeug>=0.11.15 in /usr/local/lib/python3.6/dist-packages (from tensorboard<3,>=2.3.0->tensorflow-cpu<3,>=2.1.0->tensorflowjs) (1.0.1)\n",
            "Requirement already satisfied: google-auth-oauthlib<0.5,>=0.4.1 in /usr/local/lib/python3.6/dist-packages (from tensorboard<3,>=2.3.0->tensorflow-cpu<3,>=2.1.0->tensorflowjs) (0.4.1)\n",
            "Requirement already satisfied: cachetools<5.0,>=2.0.0 in /usr/local/lib/python3.6/dist-packages (from google-auth<2,>=1.6.3->tensorboard<3,>=2.3.0->tensorflow-cpu<3,>=2.1.0->tensorflowjs) (4.1.1)\n",
            "Requirement already satisfied: rsa<5,>=3.1.4; python_version >= \"3\" in /usr/local/lib/python3.6/dist-packages (from google-auth<2,>=1.6.3->tensorboard<3,>=2.3.0->tensorflow-cpu<3,>=2.1.0->tensorflowjs) (4.6)\n",
            "Requirement already satisfied: pyasn1-modules>=0.2.1 in /usr/local/lib/python3.6/dist-packages (from google-auth<2,>=1.6.3->tensorboard<3,>=2.3.0->tensorflow-cpu<3,>=2.1.0->tensorflowjs) (0.2.8)\n",
            "Requirement already satisfied: certifi>=2017.4.17 in /usr/local/lib/python3.6/dist-packages (from requests<3,>=2.21.0->tensorboard<3,>=2.3.0->tensorflow-cpu<3,>=2.1.0->tensorflowjs) (2020.6.20)\n",
            "Requirement already satisfied: chardet<4,>=3.0.2 in /usr/local/lib/python3.6/dist-packages (from requests<3,>=2.21.0->tensorboard<3,>=2.3.0->tensorflow-cpu<3,>=2.1.0->tensorflowjs) (3.0.4)\n",
            "Requirement already satisfied: idna<3,>=2.5 in /usr/local/lib/python3.6/dist-packages (from requests<3,>=2.21.0->tensorboard<3,>=2.3.0->tensorflow-cpu<3,>=2.1.0->tensorflowjs) (2.10)\n",
            "Requirement already satisfied: urllib3!=1.25.0,!=1.25.1,<1.26,>=1.21.1 in /usr/local/lib/python3.6/dist-packages (from requests<3,>=2.21.0->tensorboard<3,>=2.3.0->tensorflow-cpu<3,>=2.1.0->tensorflowjs) (1.24.3)\n",
            "Requirement already satisfied: importlib-metadata; python_version < \"3.8\" in /usr/local/lib/python3.6/dist-packages (from markdown>=2.6.8->tensorboard<3,>=2.3.0->tensorflow-cpu<3,>=2.1.0->tensorflowjs) (1.7.0)\n",
            "Requirement already satisfied: requests-oauthlib>=0.7.0 in /usr/local/lib/python3.6/dist-packages (from google-auth-oauthlib<0.5,>=0.4.1->tensorboard<3,>=2.3.0->tensorflow-cpu<3,>=2.1.0->tensorflowjs) (1.3.0)\n",
            "Requirement already satisfied: pyasn1>=0.1.3 in /usr/local/lib/python3.6/dist-packages (from rsa<5,>=3.1.4; python_version >= \"3\"->google-auth<2,>=1.6.3->tensorboard<3,>=2.3.0->tensorflow-cpu<3,>=2.1.0->tensorflowjs) (0.4.8)\n",
            "Requirement already satisfied: zipp>=0.5 in /usr/local/lib/python3.6/dist-packages (from importlib-metadata; python_version < \"3.8\"->markdown>=2.6.8->tensorboard<3,>=2.3.0->tensorflow-cpu<3,>=2.1.0->tensorflowjs) (3.1.0)\n",
            "Requirement already satisfied: oauthlib>=3.0.0 in /usr/local/lib/python3.6/dist-packages (from requests-oauthlib>=0.7.0->google-auth-oauthlib<0.5,>=0.4.1->tensorboard<3,>=2.3.0->tensorflow-cpu<3,>=2.1.0->tensorflowjs) (3.1.0)\n",
            "Requirement already satisfied: nltk in /usr/local/lib/python3.6/dist-packages (3.2.5)\n",
            "Requirement already satisfied: six in /usr/local/lib/python3.6/dist-packages (from nltk) (1.15.0)\n",
            "Requirement already satisfied: stanza in /usr/local/lib/python3.6/dist-packages (1.1.1)\n",
            "Requirement already satisfied: protobuf in /usr/local/lib/python3.6/dist-packages (from stanza) (3.12.4)\n",
            "Requirement already satisfied: tqdm in /usr/local/lib/python3.6/dist-packages (from stanza) (4.41.1)\n",
            "Requirement already satisfied: numpy in /usr/local/lib/python3.6/dist-packages (from stanza) (1.18.5)\n",
            "Requirement already satisfied: torch>=1.3.0 in /usr/local/lib/python3.6/dist-packages (from stanza) (1.6.0+cu101)\n",
            "Requirement already satisfied: requests in /usr/local/lib/python3.6/dist-packages (from stanza) (2.23.0)\n",
            "Requirement already satisfied: setuptools in /usr/local/lib/python3.6/dist-packages (from protobuf->stanza) (50.3.0)\n",
            "Requirement already satisfied: six>=1.9 in /usr/local/lib/python3.6/dist-packages (from protobuf->stanza) (1.15.0)\n",
            "Requirement already satisfied: future in /usr/local/lib/python3.6/dist-packages (from torch>=1.3.0->stanza) (0.16.0)\n",
            "Requirement already satisfied: urllib3!=1.25.0,!=1.25.1,<1.26,>=1.21.1 in /usr/local/lib/python3.6/dist-packages (from requests->stanza) (1.24.3)\n",
            "Requirement already satisfied: certifi>=2017.4.17 in /usr/local/lib/python3.6/dist-packages (from requests->stanza) (2020.6.20)\n",
            "Requirement already satisfied: idna<3,>=2.5 in /usr/local/lib/python3.6/dist-packages (from requests->stanza) (2.10)\n",
            "Requirement already satisfied: chardet<4,>=3.0.2 in /usr/local/lib/python3.6/dist-packages (from requests->stanza) (3.0.4)\n",
            "Requirement already satisfied: spacy in /usr/local/lib/python3.6/dist-packages (2.2.4)\n",
            "Requirement already satisfied: catalogue<1.1.0,>=0.0.7 in /usr/local/lib/python3.6/dist-packages (from spacy) (1.0.0)\n",
            "Requirement already satisfied: wasabi<1.1.0,>=0.4.0 in /usr/local/lib/python3.6/dist-packages (from spacy) (0.8.0)\n",
            "Requirement already satisfied: requests<3.0.0,>=2.13.0 in /usr/local/lib/python3.6/dist-packages (from spacy) (2.23.0)\n",
            "Requirement already satisfied: thinc==7.4.0 in /usr/local/lib/python3.6/dist-packages (from spacy) (7.4.0)\n",
            "Requirement already satisfied: blis<0.5.0,>=0.4.0 in /usr/local/lib/python3.6/dist-packages (from spacy) (0.4.1)\n",
            "Requirement already satisfied: tqdm<5.0.0,>=4.38.0 in /usr/local/lib/python3.6/dist-packages (from spacy) (4.41.1)\n",
            "Requirement already satisfied: srsly<1.1.0,>=1.0.2 in /usr/local/lib/python3.6/dist-packages (from spacy) (1.0.2)\n",
            "Requirement already satisfied: preshed<3.1.0,>=3.0.2 in /usr/local/lib/python3.6/dist-packages (from spacy) (3.0.2)\n",
            "Requirement already satisfied: cymem<2.1.0,>=2.0.2 in /usr/local/lib/python3.6/dist-packages (from spacy) (2.0.3)\n",
            "Requirement already satisfied: murmurhash<1.1.0,>=0.28.0 in /usr/local/lib/python3.6/dist-packages (from spacy) (1.0.2)\n",
            "Requirement already satisfied: setuptools in /usr/local/lib/python3.6/dist-packages (from spacy) (50.3.0)\n",
            "Requirement already satisfied: numpy>=1.15.0 in /usr/local/lib/python3.6/dist-packages (from spacy) (1.18.5)\n",
            "Requirement already satisfied: plac<1.2.0,>=0.9.6 in /usr/local/lib/python3.6/dist-packages (from spacy) (1.1.3)\n",
            "Requirement already satisfied: importlib-metadata>=0.20; python_version < \"3.8\" in /usr/local/lib/python3.6/dist-packages (from catalogue<1.1.0,>=0.0.7->spacy) (1.7.0)\n",
            "Requirement already satisfied: urllib3!=1.25.0,!=1.25.1,<1.26,>=1.21.1 in /usr/local/lib/python3.6/dist-packages (from requests<3.0.0,>=2.13.0->spacy) (1.24.3)\n",
            "Requirement already satisfied: chardet<4,>=3.0.2 in /usr/local/lib/python3.6/dist-packages (from requests<3.0.0,>=2.13.0->spacy) (3.0.4)\n",
            "Requirement already satisfied: certifi>=2017.4.17 in /usr/local/lib/python3.6/dist-packages (from requests<3.0.0,>=2.13.0->spacy) (2020.6.20)\n",
            "Requirement already satisfied: idna<3,>=2.5 in /usr/local/lib/python3.6/dist-packages (from requests<3.0.0,>=2.13.0->spacy) (2.10)\n",
            "Requirement already satisfied: zipp>=0.5 in /usr/local/lib/python3.6/dist-packages (from importlib-metadata>=0.20; python_version < \"3.8\"->catalogue<1.1.0,>=0.0.7->spacy) (3.1.0)\n",
            "Requirement already satisfied: en_core_web_sm==2.2.5 from https://github.com/explosion/spacy-models/releases/download/en_core_web_sm-2.2.5/en_core_web_sm-2.2.5.tar.gz#egg=en_core_web_sm==2.2.5 in /usr/local/lib/python3.6/dist-packages (2.2.5)\n",
            "Requirement already satisfied: spacy>=2.2.2 in /usr/local/lib/python3.6/dist-packages (from en_core_web_sm==2.2.5) (2.2.4)\n",
            "Requirement already satisfied: murmurhash<1.1.0,>=0.28.0 in /usr/local/lib/python3.6/dist-packages (from spacy>=2.2.2->en_core_web_sm==2.2.5) (1.0.2)\n",
            "Requirement already satisfied: srsly<1.1.0,>=1.0.2 in /usr/local/lib/python3.6/dist-packages (from spacy>=2.2.2->en_core_web_sm==2.2.5) (1.0.2)\n",
            "Requirement already satisfied: blis<0.5.0,>=0.4.0 in /usr/local/lib/python3.6/dist-packages (from spacy>=2.2.2->en_core_web_sm==2.2.5) (0.4.1)\n",
            "Requirement already satisfied: tqdm<5.0.0,>=4.38.0 in /usr/local/lib/python3.6/dist-packages (from spacy>=2.2.2->en_core_web_sm==2.2.5) (4.41.1)\n",
            "Requirement already satisfied: cymem<2.1.0,>=2.0.2 in /usr/local/lib/python3.6/dist-packages (from spacy>=2.2.2->en_core_web_sm==2.2.5) (2.0.3)\n",
            "Requirement already satisfied: setuptools in /usr/local/lib/python3.6/dist-packages (from spacy>=2.2.2->en_core_web_sm==2.2.5) (50.3.0)\n",
            "Requirement already satisfied: plac<1.2.0,>=0.9.6 in /usr/local/lib/python3.6/dist-packages (from spacy>=2.2.2->en_core_web_sm==2.2.5) (1.1.3)\n",
            "Requirement already satisfied: requests<3.0.0,>=2.13.0 in /usr/local/lib/python3.6/dist-packages (from spacy>=2.2.2->en_core_web_sm==2.2.5) (2.23.0)\n",
            "Requirement already satisfied: thinc==7.4.0 in /usr/local/lib/python3.6/dist-packages (from spacy>=2.2.2->en_core_web_sm==2.2.5) (7.4.0)\n",
            "Requirement already satisfied: preshed<3.1.0,>=3.0.2 in /usr/local/lib/python3.6/dist-packages (from spacy>=2.2.2->en_core_web_sm==2.2.5) (3.0.2)\n",
            "Requirement already satisfied: wasabi<1.1.0,>=0.4.0 in /usr/local/lib/python3.6/dist-packages (from spacy>=2.2.2->en_core_web_sm==2.2.5) (0.8.0)\n",
            "Requirement already satisfied: catalogue<1.1.0,>=0.0.7 in /usr/local/lib/python3.6/dist-packages (from spacy>=2.2.2->en_core_web_sm==2.2.5) (1.0.0)\n",
            "Requirement already satisfied: numpy>=1.15.0 in /usr/local/lib/python3.6/dist-packages (from spacy>=2.2.2->en_core_web_sm==2.2.5) (1.18.5)\n",
            "Requirement already satisfied: chardet<4,>=3.0.2 in /usr/local/lib/python3.6/dist-packages (from requests<3.0.0,>=2.13.0->spacy>=2.2.2->en_core_web_sm==2.2.5) (3.0.4)\n",
            "Requirement already satisfied: idna<3,>=2.5 in /usr/local/lib/python3.6/dist-packages (from requests<3.0.0,>=2.13.0->spacy>=2.2.2->en_core_web_sm==2.2.5) (2.10)\n",
            "Requirement already satisfied: certifi>=2017.4.17 in /usr/local/lib/python3.6/dist-packages (from requests<3.0.0,>=2.13.0->spacy>=2.2.2->en_core_web_sm==2.2.5) (2020.6.20)\n",
            "Requirement already satisfied: urllib3!=1.25.0,!=1.25.1,<1.26,>=1.21.1 in /usr/local/lib/python3.6/dist-packages (from requests<3.0.0,>=2.13.0->spacy>=2.2.2->en_core_web_sm==2.2.5) (1.24.3)\n",
            "Requirement already satisfied: importlib-metadata>=0.20; python_version < \"3.8\" in /usr/local/lib/python3.6/dist-packages (from catalogue<1.1.0,>=0.0.7->spacy>=2.2.2->en_core_web_sm==2.2.5) (1.7.0)\n",
            "Requirement already satisfied: zipp>=0.5 in /usr/local/lib/python3.6/dist-packages (from importlib-metadata>=0.20; python_version < \"3.8\"->catalogue<1.1.0,>=0.0.7->spacy>=2.2.2->en_core_web_sm==2.2.5) (3.1.0)\n",
            "\u001b[38;5;2m✔ Download and installation successful\u001b[0m\n",
            "You can now load the model via spacy.load('en_core_web_sm')\n",
            "Requirement already satisfied: en_core_web_sm==2.2.5 from https://github.com/explosion/spacy-models/releases/download/en_core_web_sm-2.2.5/en_core_web_sm-2.2.5.tar.gz#egg=en_core_web_sm==2.2.5 in /usr/local/lib/python3.6/dist-packages (2.2.5)\n",
            "Requirement already satisfied: spacy>=2.2.2 in /usr/local/lib/python3.6/dist-packages (from en_core_web_sm==2.2.5) (2.2.4)\n",
            "Requirement already satisfied: cymem<2.1.0,>=2.0.2 in /usr/local/lib/python3.6/dist-packages (from spacy>=2.2.2->en_core_web_sm==2.2.5) (2.0.3)\n",
            "Requirement already satisfied: tqdm<5.0.0,>=4.38.0 in /usr/local/lib/python3.6/dist-packages (from spacy>=2.2.2->en_core_web_sm==2.2.5) (4.41.1)\n",
            "Requirement already satisfied: requests<3.0.0,>=2.13.0 in /usr/local/lib/python3.6/dist-packages (from spacy>=2.2.2->en_core_web_sm==2.2.5) (2.23.0)\n",
            "Requirement already satisfied: srsly<1.1.0,>=1.0.2 in /usr/local/lib/python3.6/dist-packages (from spacy>=2.2.2->en_core_web_sm==2.2.5) (1.0.2)\n",
            "Requirement already satisfied: preshed<3.1.0,>=3.0.2 in /usr/local/lib/python3.6/dist-packages (from spacy>=2.2.2->en_core_web_sm==2.2.5) (3.0.2)\n",
            "Requirement already satisfied: wasabi<1.1.0,>=0.4.0 in /usr/local/lib/python3.6/dist-packages (from spacy>=2.2.2->en_core_web_sm==2.2.5) (0.8.0)\n",
            "Requirement already satisfied: numpy>=1.15.0 in /usr/local/lib/python3.6/dist-packages (from spacy>=2.2.2->en_core_web_sm==2.2.5) (1.18.5)\n",
            "Requirement already satisfied: blis<0.5.0,>=0.4.0 in /usr/local/lib/python3.6/dist-packages (from spacy>=2.2.2->en_core_web_sm==2.2.5) (0.4.1)\n",
            "Requirement already satisfied: thinc==7.4.0 in /usr/local/lib/python3.6/dist-packages (from spacy>=2.2.2->en_core_web_sm==2.2.5) (7.4.0)\n",
            "Requirement already satisfied: murmurhash<1.1.0,>=0.28.0 in /usr/local/lib/python3.6/dist-packages (from spacy>=2.2.2->en_core_web_sm==2.2.5) (1.0.2)\n",
            "Requirement already satisfied: setuptools in /usr/local/lib/python3.6/dist-packages (from spacy>=2.2.2->en_core_web_sm==2.2.5) (50.3.0)\n",
            "Requirement already satisfied: catalogue<1.1.0,>=0.0.7 in /usr/local/lib/python3.6/dist-packages (from spacy>=2.2.2->en_core_web_sm==2.2.5) (1.0.0)\n",
            "Requirement already satisfied: plac<1.2.0,>=0.9.6 in /usr/local/lib/python3.6/dist-packages (from spacy>=2.2.2->en_core_web_sm==2.2.5) (1.1.3)\n",
            "Requirement already satisfied: urllib3!=1.25.0,!=1.25.1,<1.26,>=1.21.1 in /usr/local/lib/python3.6/dist-packages (from requests<3.0.0,>=2.13.0->spacy>=2.2.2->en_core_web_sm==2.2.5) (1.24.3)\n",
            "Requirement already satisfied: idna<3,>=2.5 in /usr/local/lib/python3.6/dist-packages (from requests<3.0.0,>=2.13.0->spacy>=2.2.2->en_core_web_sm==2.2.5) (2.10)\n",
            "Requirement already satisfied: certifi>=2017.4.17 in /usr/local/lib/python3.6/dist-packages (from requests<3.0.0,>=2.13.0->spacy>=2.2.2->en_core_web_sm==2.2.5) (2020.6.20)\n",
            "Requirement already satisfied: chardet<4,>=3.0.2 in /usr/local/lib/python3.6/dist-packages (from requests<3.0.0,>=2.13.0->spacy>=2.2.2->en_core_web_sm==2.2.5) (3.0.4)\n",
            "Requirement already satisfied: importlib-metadata>=0.20; python_version < \"3.8\" in /usr/local/lib/python3.6/dist-packages (from catalogue<1.1.0,>=0.0.7->spacy>=2.2.2->en_core_web_sm==2.2.5) (1.7.0)\n",
            "Requirement already satisfied: zipp>=0.5 in /usr/local/lib/python3.6/dist-packages (from importlib-metadata>=0.20; python_version < \"3.8\"->catalogue<1.1.0,>=0.0.7->spacy>=2.2.2->en_core_web_sm==2.2.5) (3.1.0)\n",
            "\u001b[38;5;2m✔ Download and installation successful\u001b[0m\n",
            "You can now load the model via spacy.load('en_core_web_sm')\n",
            "\u001b[38;5;2m✔ Linking successful\u001b[0m\n",
            "/usr/local/lib/python3.6/dist-packages/en_core_web_sm -->\n",
            "/usr/local/lib/python3.6/dist-packages/spacy/data/en\n",
            "You can now load the model via spacy.load('en')\n"
          ],
          "name": "stdout"
        }
      ]
    },
    {
      "cell_type": "code",
      "metadata": {
        "id": "ye99iKv617qQ",
        "outputId": "0ddefc14-8fe1-412e-8f77-1f5bc1e04c14",
        "colab": {
          "base_uri": "https://localhost:8080/",
          "height": 34
        }
      },
      "source": [
        "tf_response"
      ],
      "execution_count": 5,
      "outputs": [
        {
          "output_type": "execute_result",
          "data": {
            "text/plain": [
              "{'COLAB': True, 'GPU': False, 'TF version': '', 'error': None, 'ram_gb': ''}"
            ]
          },
          "metadata": {
            "tags": []
          },
          "execution_count": 5
        }
      ]
    },
    {
      "cell_type": "markdown",
      "metadata": {
        "id": "IFNjTuvU1_C_"
      },
      "source": [
        "## ii. Importing modules\n"
      ]
    },
    {
      "cell_type": "code",
      "metadata": {
        "id": "OIh873U819qU"
      },
      "source": [
        "# Data analysis\n",
        "from collections import Counter\n",
        "import matplotlib.pyplot as plt\n",
        "import pandas as pd\n",
        "import numpy as np\n",
        "import sys\n",
        "import re\n",
        "\n",
        "%matplotlib inline\n",
        "\n",
        "# Image\n",
        "from wordcloud import WordCloud, STOPWORDS, ImageColorGenerator # to create a Word Cloud\n",
        "from PIL import Image # Pillow with WordCloud to image manipulation"
      ],
      "execution_count": 6,
      "outputs": []
    },
    {
      "cell_type": "code",
      "metadata": {
        "id": "6lhfhNt72CLr",
        "outputId": "cd6a6f4d-9aeb-4a8d-d091-e547513f092d",
        "colab": {
          "base_uri": "https://localhost:8080/",
          "height": 85
        }
      },
      "source": [
        "# nltk\n",
        "import nltk\n",
        "from nltk.corpus import stopwords\n",
        "from nltk.stem import WordNetLemmatizer\n",
        "\n",
        "nltk.download('stopwords')\n",
        "nltk.download('wordnet')\n",
        "\n",
        "STOPWORDS = set(stopwords.words('english'))"
      ],
      "execution_count": 7,
      "outputs": [
        {
          "output_type": "stream",
          "text": [
            "[nltk_data] Downloading package stopwords to /root/nltk_data...\n",
            "[nltk_data]   Package stopwords is already up-to-date!\n",
            "[nltk_data] Downloading package wordnet to /root/nltk_data...\n",
            "[nltk_data]   Package wordnet is already up-to-date!\n"
          ],
          "name": "stdout"
        }
      ]
    },
    {
      "cell_type": "code",
      "metadata": {
        "id": "T82WGVnN2EwF",
        "outputId": "1e107a95-8b60-4994-c505-d0f892aa5700",
        "colab": {
          "base_uri": "https://localhost:8080/",
          "height": 561
        }
      },
      "source": [
        "# Stanza NLP\n",
        "import stanza\n",
        "\n",
        "stanza.download('en', package='ewt', processors='tokenize,mwt,pos,lemma', verbose=True)\n",
        "stNLP = stanza.Pipeline(processors='tokenize,mwt,pos,lemma',\n",
        "                      lang='en',\n",
        "                      use_gpu=True)"
      ],
      "execution_count": 8,
      "outputs": [
        {
          "output_type": "stream",
          "text": [
            "Downloading https://raw.githubusercontent.com/stanfordnlp/stanza-resources/master/resources_1.1.0.json: 122kB [00:00, 10.2MB/s]                    \n",
            "2020-09-25 19:36:31 WARNING: Can not find mwt: ewt from official model list. Ignoring it.\n",
            "2020-09-25 19:36:31 INFO: Downloading these customized packages for language: en (English)...\n",
            "=======================\n",
            "| Processor | Package |\n",
            "-----------------------\n",
            "| tokenize  | ewt     |\n",
            "| pos       | ewt     |\n",
            "| lemma     | ewt     |\n",
            "| pretrain  | ewt     |\n",
            "=======================\n",
            "\n",
            "2020-09-25 19:36:31 INFO: File exists: /root/stanza_resources/en/tokenize/ewt.pt.\n",
            "2020-09-25 19:36:31 INFO: File exists: /root/stanza_resources/en/pos/ewt.pt.\n",
            "2020-09-25 19:36:31 INFO: File exists: /root/stanza_resources/en/lemma/ewt.pt.\n",
            "2020-09-25 19:36:32 INFO: File exists: /root/stanza_resources/en/pretrain/ewt.pt.\n",
            "2020-09-25 19:36:32 INFO: Finished downloading models and saved to /root/stanza_resources.\n",
            "2020-09-25 19:36:32 WARNING: Can not find mwt: default from official model list. Ignoring it.\n",
            "2020-09-25 19:36:32 INFO: Loading these models for language: en (English):\n",
            "=======================\n",
            "| Processor | Package |\n",
            "-----------------------\n",
            "| tokenize  | ewt     |\n",
            "| pos       | ewt     |\n",
            "| lemma     | ewt     |\n",
            "=======================\n",
            "\n",
            "2020-09-25 19:36:32 INFO: Use device: gpu\n",
            "2020-09-25 19:36:32 INFO: Loading: tokenize\n",
            "2020-09-25 19:36:36 INFO: Loading: pos\n",
            "2020-09-25 19:36:38 INFO: Loading: lemma\n",
            "2020-09-25 19:36:38 INFO: Done loading processors!\n"
          ],
          "name": "stderr"
        }
      ]
    },
    {
      "cell_type": "code",
      "metadata": {
        "id": "9236VgMj2Gwg",
        "outputId": "e288bc13-ec18-4018-d7bb-50bd2e00cd27",
        "colab": {
          "base_uri": "https://localhost:8080/",
          "height": 136
        }
      },
      "source": [
        "# testing stanza\n",
        "doc = stNLP('Barack Obama was born in Hawai.')\n",
        "print(*[f'word: {word.text+\" \"}\\tlemma: {word.lemma}' for sent in doc.sentences for word in sent.words], sep='\\n')"
      ],
      "execution_count": 9,
      "outputs": [
        {
          "output_type": "stream",
          "text": [
            "word: Barack \tlemma: Barack\n",
            "word: Obama \tlemma: Obama\n",
            "word: was \tlemma: be\n",
            "word: born \tlemma: bear\n",
            "word: in \tlemma: in\n",
            "word: Hawai \tlemma: Hawai\n",
            "word: . \tlemma: .\n"
          ],
          "name": "stdout"
        }
      ]
    },
    {
      "cell_type": "code",
      "metadata": {
        "id": "-4QpRgR02IDL"
      },
      "source": [
        "# Spacy NLP\n",
        "import spacy\n",
        "spNLP = spacy.load('en_core_web_sm')\n",
        "spNLP.max_length = 103950039 # or higher\n",
        "# spacy.prefer_gpu() #will not work with stanza"
      ],
      "execution_count": 10,
      "outputs": []
    },
    {
      "cell_type": "markdown",
      "metadata": {
        "id": "x6iiQVT42Jo3"
      },
      "source": [
        "\n",
        "---\n",
        "\n",
        "# **2. Hyperparameters**\n",
        "\n",
        "---"
      ]
    },
    {
      "cell_type": "code",
      "metadata": {
        "id": "hIpxO61l0gcD"
      },
      "source": [
        "FILE = 'datasets/categories_dataset.csv'\n",
        "MODEL_PATH = './models/model.h5'"
      ],
      "execution_count": 11,
      "outputs": []
    },
    {
      "cell_type": "code",
      "metadata": {
        "id": "KUv__06r2LOQ"
      },
      "source": [
        "EPOCHS = 300\n",
        "BATCH_SIZE = 32\n",
        "\n",
        "training_portion = .8\n",
        "rnn_units = 64\n",
        "\n",
        "# embedding_dim : len(words) + 1\n",
        "# vocab_size : len(words.index) + 1\n",
        "vocab_size = 5000\n",
        "\n",
        "max_lenght = 30 # 200 # for padding_shape on preprocess function\n",
        "\n",
        "trunc_type = 'post'\n",
        "padding_type = 'post'\n",
        "padding_shape = 30\n",
        "oov_tok = '<OOV>'"
      ],
      "execution_count": 12,
      "outputs": []
    },
    {
      "cell_type": "code",
      "metadata": {
        "id": "YBKrSlNb0fIs"
      },
      "source": [
        "main_labels = ['confident', 'unconfident', \n",
        "               'pos_hp', 'neg_hp', \n",
        "               'interested', 'uninterested', \n",
        "               'happy', 'unhappy', \n",
        "               'friendly', 'unfriendly', \n",
        "               'POS']\n",
        "               \n",
        "label_dict = dict(zip(main_labels, range(1, len(main_labels) + 1)))"
      ],
      "execution_count": 13,
      "outputs": []
    },
    {
      "cell_type": "code",
      "metadata": {
        "id": "OyVrjQ46nEMd",
        "outputId": "0b698aa7-ed9f-4720-d7df-6e56af714b27",
        "colab": {
          "base_uri": "https://localhost:8080/",
          "height": 204
        }
      },
      "source": [
        "label_dict"
      ],
      "execution_count": 14,
      "outputs": [
        {
          "output_type": "execute_result",
          "data": {
            "text/plain": [
              "{'POS': 11,\n",
              " 'confident': 1,\n",
              " 'friendly': 9,\n",
              " 'happy': 7,\n",
              " 'interested': 5,\n",
              " 'neg_hp': 4,\n",
              " 'pos_hp': 3,\n",
              " 'unconfident': 2,\n",
              " 'unfriendly': 10,\n",
              " 'unhappy': 8,\n",
              " 'uninterested': 6}"
            ]
          },
          "metadata": {
            "tags": []
          },
          "execution_count": 14
        }
      ]
    },
    {
      "cell_type": "markdown",
      "metadata": {
        "id": "lO32c_pD2NzO"
      },
      "source": [
        "---\n",
        "\n",
        "# **3. Lemmatization**\n",
        "\n",
        "---"
      ]
    },
    {
      "cell_type": "code",
      "metadata": {
        "id": "Lb6Wbv0U2OeH"
      },
      "source": [
        "# lemmatizion\n",
        "# stanza\n",
        "def stanza_lemma(text):\n",
        "    doc = stNLP(text)\n",
        "    return ' '.join([word.lemma for sent in doc.sentences for word in sent.words])"
      ],
      "execution_count": 15,
      "outputs": []
    },
    {
      "cell_type": "code",
      "metadata": {
        "id": "RdtBcgKB2PaB"
      },
      "source": [
        "def nltk_lemma(text):\n",
        "    lemmatizer = WordNetLemmatizer()\n",
        "    lemmatizer.lemmatize(text)"
      ],
      "execution_count": 16,
      "outputs": []
    },
    {
      "cell_type": "markdown",
      "metadata": {
        "id": "1yfg8TVR2SL_"
      },
      "source": [
        "---\n",
        "# **4. Load dataset**\n",
        "---"
      ]
    },
    {
      "cell_type": "code",
      "metadata": {
        "id": "gUCh3RCa2VS8"
      },
      "source": [
        "def load_clean_dataset():\n",
        "    !mkdir -p datasets\n",
        "    !wget -nc https://raw.githubusercontent.com/Y4rd13/sentiment-analysis/master/datasets/results/categories_dataset.csv -P datasets\n",
        "    df = pd.read_csv('./datasets/categories_dataset.csv', encoding='utf-8', index_col=0, dtype=({'score':float}))\n",
        "\n",
        "    print(df.head())\n",
        "    x, y = df['word'], df[['category', 'POS stza']] # or POS nltk\n",
        "    #x, y = np.array(x, dtype='<U33'), np.array(y, dtype='<U33')\n",
        "\n",
        "    return x, y"
      ],
      "execution_count": 17,
      "outputs": []
    },
    {
      "cell_type": "markdown",
      "metadata": {
        "id": "kleN4LtF2-bg"
      },
      "source": [
        "---\n",
        "# **5. Prepare dataset**\n",
        "---"
      ]
    },
    {
      "cell_type": "code",
      "metadata": {
        "id": "uDdZHwMcolpC"
      },
      "source": [
        "def preprocess(x, padding_shape=30):\n",
        "    return np.array([ord(i.lower()) - ord('a')+1 if not i.isdigit() and i != ' ' else 0 for i in list(x)] + ([0] * (padding_shape - len(x))), dtype=int)"
      ],
      "execution_count": 18,
      "outputs": []
    },
    {
      "cell_type": "code",
      "metadata": {
        "id": "-y-Y8HxI3E7B"
      },
      "source": [
        "def prepare_dataset(labeldict : dict, test_size=.3, validation_size=.1): \n",
        "    print('preparing the dataset...\\n')\n",
        "    \n",
        "    from sklearn import preprocessing\n",
        "\n",
        "    # load dataset\n",
        "    # split dataset (as string into panda.core.series.Serie object)\n",
        "    x, y = load_clean_dataset()\n",
        "\n",
        "    x = np.array(list(map(preprocess, x)))\n",
        "    y = np.array(list(map(lambda x: labeldict[x.replace(' ', '_')], y['category'])))\n",
        "    print(('y: {}').format(y))\n",
        "\n",
        "    # create/split train, validation and test and shuffle the data\n",
        "    x_train, x_test, y_train, y_test = train_test_split(x, y, test_size=test_size, shuffle=True, \n",
        "                                                        random_state=42) # use random_state=42 ? **\n",
        "    print(x.max(), x.min())\n",
        "\n",
        "    x_train_val, x_validation, y_train_val, y_validation = train_test_split(x_train, y_train, test_size=test_size, shuffle=True)\n",
        "\n",
        "    # pandas.core.series.Series to numpy array\n",
        "    x_train, y_train = np.array(x_train), np.array(y_train)\n",
        "    x_validation, y_validation =  np.array(x_validation), np.array(y_validation)\n",
        "    x_test, y_test = np.array(x_test), np.array(y_test)\n",
        "    \n",
        "    x_train_val, y_train_val = np.array(x_train_val), np.array(y_train_val)\n",
        "\n",
        "    print(('\\nx_train: \\n{}\\n\\ny_train: \\n{}').format(x_train_val, y_train_val))\n",
        "\n",
        "    return (x_train, y_train), (x_validation, y_validation), (x_test, y_test), (x_train_val, y_train_val)"
      ],
      "execution_count": 19,
      "outputs": []
    },
    {
      "cell_type": "code",
      "metadata": {
        "id": "gpHOyVkIwY4r",
        "outputId": "0a0711ad-02a7-455b-d544-3bca387400f5",
        "colab": {
          "base_uri": "https://localhost:8080/",
          "height": 459
        }
      },
      "source": [
        "(x_train, y_train), (x_validation, y_validation), (x_test, y_test), (x_train_val, y_train_val) = prepare_dataset(label_dict)"
      ],
      "execution_count": 20,
      "outputs": [
        {
          "output_type": "stream",
          "text": [
            "preparing the dataset...\n",
            "\n",
            "File ‘datasets/categories_dataset.csv’ already there; not retrieving.\n",
            "\n",
            "    category          word  score  ...  POS stza  POS nlkt  POS spcy\n",
            "0  confident     tolerance   2.63  ...      NOUN      NOUN      NOUN\n",
            "1  confident         carry   0.46  ...      VERB      NOUN      VERB\n",
            "2  confident   tranquility   1.00  ...      NOUN      NOUN      NOUN\n",
            "3  confident  socontagious   2.69  ...       ADJ       ADJ       ADJ\n",
            "4  confident          zeal   1.00  ...      NOUN      NOUN     PROPN\n",
            "\n",
            "[5 rows x 14 columns]\n",
            "y: [ 1  1  1 ... 10 10 10]\n",
            "26 0\n",
            "\n",
            "x_train: \n",
            "[[19 13  9 ...  0  0  0]\n",
            " [ 9 14 22 ...  0  0  0]\n",
            " [23 15 18 ...  0  0  0]\n",
            " ...\n",
            " [20  8  5 ...  0  0  0]\n",
            " [ 9 15 19 ...  0  0  0]\n",
            " [18  5  1 ...  0  0  0]]\n",
            "\n",
            "y_train: \n",
            "[ 9  9 10 ...  1  5  8]\n"
          ],
          "name": "stdout"
        }
      ]
    },
    {
      "cell_type": "markdown",
      "metadata": {
        "id": "LQEwk09b4PD_"
      },
      "source": [
        "---\n",
        "# **4. Build model**\n",
        "---"
      ]
    },
    {
      "cell_type": "code",
      "metadata": {
        "id": "tD18U_yE4SOA"
      },
      "source": [
        "def build_model(vocab_size, embedding_dim=64, input_length=30):\n",
        "    print('\\nbuilding the model...\\n')\n",
        "\n",
        "    model = tf.keras.Sequential([\n",
        "        tf.keras.layers.Embedding(input_dim=(vocab_size + 1), output_dim=embedding_dim, input_length=input_length),\n",
        "        \n",
        "        tf.keras.layers.Bidirectional(tf.keras.layers.LSTM(rnn_units,return_sequences=True, dropout=0.2)),\n",
        "        tf.keras.layers.Bidirectional(tf.keras.layers.LSTM(rnn_units,return_sequences=True, dropout=0.2)),\n",
        "        tf.keras.layers.GlobalMaxPool1D(),\n",
        "        tf.keras.layers.Dropout(0.1),\n",
        "        tf.keras.layers.Dense(64, activation='relu'),\n",
        "        \n",
        "        # softmax output layer\n",
        "        tf.keras.layers.Dense(11, activation='softmax')\n",
        "    ])\n",
        "\n",
        "    # optimizer & loss\n",
        "    opt = 'adam' #tf.optimizers.Adam(learning_rate=1e-4)\n",
        "    loss = 'categorical_crossentropy'\n",
        "\n",
        "    # Metrics\n",
        "    # Instead of using AUC: Precision & Recall\n",
        "    # Precision: Computes the precision of the predictions with respect to the labels.\n",
        "    # Recall: Computes the recall of the predictions with respect to the labels.\n",
        "    metrics = ['accuracy', 'AUC','Precision', 'Recall']\n",
        "\n",
        "    # compile model\n",
        "    model.compile(optimizer=opt,\n",
        "                  loss=loss,\n",
        "                  metrics=metrics)\n",
        "    \n",
        "    model.summary()\n",
        "\n",
        "    return model"
      ],
      "execution_count": 21,
      "outputs": []
    },
    {
      "cell_type": "markdown",
      "metadata": {
        "id": "Zf048l554Uug"
      },
      "source": [
        "---\n",
        "# **6. Train model** \n",
        "---"
      ]
    },
    {
      "cell_type": "code",
      "metadata": {
        "id": "c-pVOZYb4T3T"
      },
      "source": [
        "def train(model, x_train, y_train, x_validation, y_validation,\n",
        "          epochs, batch_size=32, patience=5, \n",
        "          verbose=2, monitor_es='accuracy', mode_es='auto', restore=True,\n",
        "          monitor_mc='val_accuracy', mode_mc='max'):\n",
        "    \n",
        "    print('\\ntraining...\\n')\n",
        "\n",
        "    # callback\n",
        "    early_stopping = tf.keras.callbacks.EarlyStopping(monitor=monitor_es,\n",
        "                                                      verbose=1, mode=mode_es, restore_best_weights=restore,\n",
        "                                                      min_delta=1e-3, patience=patience)\n",
        "    \n",
        "    model_checkpoint = tf.keras.callbacks.ModelCheckpoint('tfjsmode.h5', monitor=monitor_mc, mode=mode_mc,      \n",
        "                                                          verbose=1, save_best_only=True)\n",
        "\n",
        "    # train model\n",
        "    history = model.fit(x_train, y_train,\n",
        "                        batch_size=batch_size, epochs=epochs, verbose=verbose,\n",
        "                        validation_data=(x_validation, y_validation),\n",
        "                        callbacks=[early_stopping, model_checkpoint])\n",
        "    return history"
      ],
      "execution_count": 22,
      "outputs": []
    },
    {
      "cell_type": "markdown",
      "metadata": {
        "id": "gy3DyM-b4XPg"
      },
      "source": [
        "---\n",
        "# **7. Plotting history**\n",
        "---"
      ]
    },
    {
      "cell_type": "code",
      "metadata": {
        "id": "ssFJ3CIe4YPn"
      },
      "source": [
        "def plot_history_(history):\n",
        "    fitModel_dict = history.history\n",
        "    acc = fitModel_dict['accuracy']\n",
        "    val_acc = fitModel_dict['val_accuracy']\n",
        "    epochs = range(1, len(acc) + 1)\n",
        "    \n",
        "    plt.figure(figsize=(10, 6))\n",
        "    plt.plot(epochs, acc, 'bo', label = 'Training acc')\n",
        "    plt.plot(epochs, val_acc, 'b', label = 'Validation acc')\n",
        "    plt.title('Training and validation accuracy')\n",
        "    plt.xlabel('Epochs')\n",
        "    plt.ylabel('Accuracy')\n",
        "    plt.legend(loc = 'lower right')\n",
        "    plt.ylim((0.5, 1))\n",
        "\n",
        "    plt.show()\n",
        "\n",
        "def plot_history(history, string):\n",
        "    fitModel_dict = history.history\n",
        "\n",
        "    plt.figure(figsize=(10, 6))\n",
        "    plt.plot(fitModel_dict[string])\n",
        "    plt.plot(fitModel_dict['val_' + string])\n",
        "    plt.xlabel('Epochs')\n",
        "    plt.ylabel(string)\n",
        "    plt.legend([string, 'val_' + string])\n",
        "    plt.show()"
      ],
      "execution_count": 23,
      "outputs": []
    },
    {
      "cell_type": "markdown",
      "metadata": {
        "id": "oScqNNBXsL7Y"
      },
      "source": [
        "---\n",
        "# **8. Prediction**\n",
        "---"
      ]
    },
    {
      "cell_type": "code",
      "metadata": {
        "id": "ekhWVsv7sK7z"
      },
      "source": [
        "def predict(d : dict, s : str, model):\n",
        "    token = preprocess(s)\n",
        "    output = model.predict(np.array([token]))\n",
        "    id = int(tf.keras.backend.argmax(output))\n",
        "    print(output)\n",
        "\n",
        "    for k, v in d.items():\n",
        "        if v == id:\n",
        "            return k\n",
        "    return 'unclassified'"
      ],
      "execution_count": 24,
      "outputs": []
    },
    {
      "cell_type": "markdown",
      "metadata": {
        "id": "9FN5osTo4aC4"
      },
      "source": [
        "---\n",
        "# **9. Main**\n",
        "---"
      ]
    },
    {
      "cell_type": "code",
      "metadata": {
        "id": "DAb369Lh4ajo"
      },
      "source": [
        "def main():\n",
        "    # prepare the dataset\n",
        "    (x_train, y_train), (x_validation, y_validation), (x_test, y_test) = prepare_dataset(label_dict)\n",
        "    print(x_train.shape, x_validation.shape, x_test.shape)\n",
        "    print(y_train.shape, y_validation.shape, x_test.shape)\n",
        "    print(y_train)\n",
        "\n",
        "    # build the model\n",
        "    model = build_model()\n",
        "\n",
        "    # train the model\n",
        "    history = train(model=model, x_train=x_train, y_train=to_categorical(y_train),\n",
        "                    x_validation=x_validation, y_validation=to_categorical(y_validation),\n",
        "                    epochs=EPOCHS, verbose=1, monitor='accuracy')\n",
        "\n",
        "    # plot the training\n",
        "    plot_history_(history)\n",
        "\n",
        "    plot_history(history, 'accuracy')\n",
        "\n",
        "    # evaluate the model\n",
        "    test_loss, test_accuracy = model.evaluate(x_test, y_test)\n",
        "    evaluate_lst = list(map(lambda x: x * 100, [test_loss, test_accuracy]))\n",
        "    print('\\nTest:\\nLoss: {}\\nAccuracy: {}').format(evaluate_lst[0], evaluate_lst[1])\n",
        "\n",
        "    # predict\n",
        "    s = 'happy'\n",
        "    pred = predict(label_dict, s, model)\n",
        "    print('Word: {}'.format(s))\n",
        "    print('Prediction: {}'.format(pred))\n",
        "\n",
        "    # save the model\n",
        "    !mkdir models\n",
        "    model.save(MODEL_PATH)\n",
        "\n",
        "    # convert modeljs\n",
        "    tfjs.converters.save_keras_model(model, 'tfjsmodel') "
      ],
      "execution_count": 25,
      "outputs": []
    },
    {
      "cell_type": "markdown",
      "metadata": {
        "id": "02Lry1jA4b4w"
      },
      "source": [
        "---\n",
        "# **10. testing**\n",
        "---"
      ]
    },
    {
      "cell_type": "code",
      "metadata": {
        "id": "j1BALgvxi3_U",
        "outputId": "dfda9550-cb27-4e0b-9ad2-cc5231e2b5d5",
        "colab": {
          "base_uri": "https://localhost:8080/",
          "height": 935
        }
      },
      "source": [
        "# prepare the dataset\n",
        "(x_train, y_train), (x_validation, y_validation), (x_test, y_test), (x_test_val, y_test_val) = prepare_dataset(label_dict)\n",
        "print(x_train.shape, x_validation.shape, x_test.shape)\n",
        "print(y_train.shape, y_validation.shape, x_test.shape)\n",
        "print(y_train)\n",
        "\n",
        "# build the model\n",
        "model = build_model(vocab_size)"
      ],
      "execution_count": 26,
      "outputs": [
        {
          "output_type": "stream",
          "text": [
            "preparing the dataset...\n",
            "\n",
            "File ‘datasets/categories_dataset.csv’ already there; not retrieving.\n",
            "\n",
            "    category          word  score  ...  POS stza  POS nlkt  POS spcy\n",
            "0  confident     tolerance   2.63  ...      NOUN      NOUN      NOUN\n",
            "1  confident         carry   0.46  ...      VERB      NOUN      VERB\n",
            "2  confident   tranquility   1.00  ...      NOUN      NOUN      NOUN\n",
            "3  confident  socontagious   2.69  ...       ADJ       ADJ       ADJ\n",
            "4  confident          zeal   1.00  ...      NOUN      NOUN     PROPN\n",
            "\n",
            "[5 rows x 14 columns]\n",
            "y: [ 1  1  1 ... 10 10 10]\n",
            "26 0\n",
            "\n",
            "x_train: \n",
            "[[15  1 19 ...  0  0  0]\n",
            " [ 1 14  7 ...  0  0  0]\n",
            " [ 8 15 15 ...  0  0  0]\n",
            " ...\n",
            " [ 2  1 25 ...  0  0  0]\n",
            " [ 9 18 18 ...  0  0  0]\n",
            " [19  3 18 ...  0  0  0]]\n",
            "\n",
            "y_train: \n",
            "[9 4 4 ... 7 8 4]\n",
            "(62870, 30) (18861, 30) (26945, 30)\n",
            "(62870,) (18861,) (26945, 30)\n",
            "[ 7  5  6 ... 10  1  4]\n",
            "\n",
            "building the model...\n",
            "\n",
            "Model: \"sequential\"\n",
            "_________________________________________________________________\n",
            "Layer (type)                 Output Shape              Param #   \n",
            "=================================================================\n",
            "embedding (Embedding)        (None, 30, 64)            320064    \n",
            "_________________________________________________________________\n",
            "bidirectional (Bidirectional (None, 30, 128)           66048     \n",
            "_________________________________________________________________\n",
            "bidirectional_1 (Bidirection (None, 30, 128)           98816     \n",
            "_________________________________________________________________\n",
            "global_max_pooling1d (Global (None, 128)               0         \n",
            "_________________________________________________________________\n",
            "dropout (Dropout)            (None, 128)               0         \n",
            "_________________________________________________________________\n",
            "dense (Dense)                (None, 64)                8256      \n",
            "_________________________________________________________________\n",
            "dense_1 (Dense)              (None, 11)                715       \n",
            "=================================================================\n",
            "Total params: 493,899\n",
            "Trainable params: 493,899\n",
            "Non-trainable params: 0\n",
            "_________________________________________________________________\n"
          ],
          "name": "stdout"
        }
      ]
    },
    {
      "cell_type": "code",
      "metadata": {
        "id": "XS_cMXislcAr",
        "outputId": "137a4e8d-7bab-4cb8-c833-448ad3993647",
        "colab": {
          "base_uri": "https://localhost:8080/",
          "height": 1000
        }
      },
      "source": [
        "# train the model\n",
        "history = train(model=model, x_train=x_train, y_train=to_categorical(y_train), batch_size=BATCH_SIZE,\n",
        "                x_validation=x_validation, y_validation=to_categorical(y_validation),\n",
        "                epochs=EPOCHS, verbose=1, monitor_es='val_loss', mode_es='min', restore=False)"
      ],
      "execution_count": 27,
      "outputs": [
        {
          "output_type": "stream",
          "text": [
            "\n",
            "training...\n",
            "\n",
            "Epoch 1/300\n",
            "1964/1965 [============================>.] - ETA: 0s - loss: 2.1106 - accuracy: 0.2248 - auc: 0.7206 - precision: 0.0000e+00 - recall: 0.0000e+00\n",
            "Epoch 00001: val_accuracy improved from -inf to 0.22480, saving model to tfjsmode.h5\n",
            "1965/1965 [==============================] - 98s 50ms/step - loss: 2.1106 - accuracy: 0.2248 - auc: 0.7207 - precision: 0.0000e+00 - recall: 0.0000e+00 - val_loss: 2.0968 - val_accuracy: 0.2248 - val_auc: 0.7281 - val_precision: 0.0000e+00 - val_recall: 0.0000e+00\n",
            "Epoch 2/300\n",
            "1965/1965 [==============================] - ETA: 0s - loss: 2.0926 - accuracy: 0.2280 - auc: 0.7289 - precision: 0.0000e+00 - recall: 0.0000e+00\n",
            "Epoch 00002: val_accuracy improved from 0.22480 to 0.22486, saving model to tfjsmode.h5\n",
            "1965/1965 [==============================] - 97s 49ms/step - loss: 2.0926 - accuracy: 0.2280 - auc: 0.7289 - precision: 0.0000e+00 - recall: 0.0000e+00 - val_loss: 2.0843 - val_accuracy: 0.2249 - val_auc: 0.7333 - val_precision: 0.0000e+00 - val_recall: 0.0000e+00\n",
            "Epoch 3/300\n",
            "1965/1965 [==============================] - ETA: 0s - loss: 2.0895 - accuracy: 0.2295 - auc: 0.7306 - precision: 0.0000e+00 - recall: 0.0000e+00\n",
            "Epoch 00003: val_accuracy improved from 0.22486 to 0.23981, saving model to tfjsmode.h5\n",
            "1965/1965 [==============================] - 97s 49ms/step - loss: 2.0895 - accuracy: 0.2295 - auc: 0.7306 - precision: 0.0000e+00 - recall: 0.0000e+00 - val_loss: 2.0779 - val_accuracy: 0.2398 - val_auc: 0.7358 - val_precision: 0.0000e+00 - val_recall: 0.0000e+00\n",
            "Epoch 4/300\n",
            "1964/1965 [============================>.] - ETA: 0s - loss: 2.0767 - accuracy: 0.2362 - auc: 0.7361 - precision: 0.5000 - recall: 1.5911e-05\n",
            "Epoch 00004: val_accuracy did not improve from 0.23981\n",
            "1965/1965 [==============================] - 97s 49ms/step - loss: 2.0767 - accuracy: 0.2362 - auc: 0.7361 - precision: 0.5000 - recall: 1.5906e-05 - val_loss: 2.0677 - val_accuracy: 0.2364 - val_auc: 0.7397 - val_precision: 0.0000e+00 - val_recall: 0.0000e+00\n",
            "Epoch 5/300\n",
            "1964/1965 [============================>.] - ETA: 0s - loss: 2.0638 - accuracy: 0.2414 - auc: 0.7412 - precision: 0.2000 - recall: 1.5911e-05\n",
            "Epoch 00005: val_accuracy improved from 0.23981 to 0.24930, saving model to tfjsmode.h5\n",
            "1965/1965 [==============================] - 96s 49ms/step - loss: 2.0638 - accuracy: 0.2414 - auc: 0.7412 - precision: 0.2000 - recall: 1.5906e-05 - val_loss: 2.0427 - val_accuracy: 0.2493 - val_auc: 0.7495 - val_precision: 0.0000e+00 - val_recall: 0.0000e+00\n",
            "Epoch 6/300\n",
            "1964/1965 [============================>.] - ETA: 0s - loss: 2.0476 - accuracy: 0.2460 - auc: 0.7474 - precision: 0.2500 - recall: 4.7734e-05\n",
            "Epoch 00006: val_accuracy improved from 0.24930 to 0.25327, saving model to tfjsmode.h5\n",
            "1965/1965 [==============================] - 96s 49ms/step - loss: 2.0475 - accuracy: 0.2460 - auc: 0.7475 - precision: 0.2500 - recall: 4.7718e-05 - val_loss: 2.0223 - val_accuracy: 0.2533 - val_auc: 0.7582 - val_precision: 0.0000e+00 - val_recall: 0.0000e+00\n",
            "Epoch 7/300\n",
            "1964/1965 [============================>.] - ETA: 0s - loss: 2.0233 - accuracy: 0.2538 - auc: 0.7560 - precision: 0.3333 - recall: 1.4320e-04\n",
            "Epoch 00007: val_accuracy improved from 0.25327 to 0.26573, saving model to tfjsmode.h5\n",
            "1965/1965 [==============================] - 95s 49ms/step - loss: 2.0233 - accuracy: 0.2538 - auc: 0.7561 - precision: 0.3333 - recall: 1.4315e-04 - val_loss: 1.9844 - val_accuracy: 0.2657 - val_auc: 0.7701 - val_precision: 0.0000e+00 - val_recall: 0.0000e+00\n",
            "Epoch 8/300\n",
            "1964/1965 [============================>.] - ETA: 0s - loss: 1.9965 - accuracy: 0.2646 - auc: 0.7653 - precision: 0.4355 - recall: 4.2961e-04\n",
            "Epoch 00008: val_accuracy improved from 0.26573 to 0.27475, saving model to tfjsmode.h5\n",
            "1965/1965 [==============================] - 95s 49ms/step - loss: 1.9965 - accuracy: 0.2646 - auc: 0.7653 - precision: 0.4355 - recall: 4.2946e-04 - val_loss: 1.9504 - val_accuracy: 0.2747 - val_auc: 0.7813 - val_precision: 0.5556 - val_recall: 2.6510e-04\n",
            "Epoch 9/300\n",
            "1965/1965 [==============================] - ETA: 0s - loss: 1.9732 - accuracy: 0.2697 - auc: 0.7732 - precision: 0.4944 - recall: 6.9986e-04\n",
            "Epoch 00009: val_accuracy improved from 0.27475 to 0.28604, saving model to tfjsmode.h5\n",
            "1965/1965 [==============================] - 96s 49ms/step - loss: 1.9732 - accuracy: 0.2697 - auc: 0.7732 - precision: 0.4944 - recall: 6.9986e-04 - val_loss: 1.9131 - val_accuracy: 0.2860 - val_auc: 0.7929 - val_precision: 0.5714 - val_recall: 4.2416e-04\n",
            "Epoch 10/300\n",
            "1964/1965 [============================>.] - ETA: 0s - loss: 1.9498 - accuracy: 0.2753 - auc: 0.7804 - precision: 0.4877 - recall: 0.0016\n",
            "Epoch 00010: val_accuracy improved from 0.28604 to 0.28938, saving model to tfjsmode.h5\n",
            "1965/1965 [==============================] - 96s 49ms/step - loss: 1.9497 - accuracy: 0.2754 - auc: 0.7804 - precision: 0.4877 - recall: 0.0016 - val_loss: 1.8903 - val_accuracy: 0.2894 - val_auc: 0.7997 - val_precision: 0.5000 - val_recall: 1.5906e-04\n",
            "Epoch 11/300\n",
            "1965/1965 [==============================] - ETA: 0s - loss: 1.9319 - accuracy: 0.2829 - auc: 0.7860 - precision: 0.4720 - recall: 0.0019\n",
            "Epoch 00011: val_accuracy improved from 0.28938 to 0.29558, saving model to tfjsmode.h5\n",
            "1965/1965 [==============================] - 96s 49ms/step - loss: 1.9319 - accuracy: 0.2829 - auc: 0.7860 - precision: 0.4720 - recall: 0.0019 - val_loss: 1.8664 - val_accuracy: 0.2956 - val_auc: 0.8058 - val_precision: 0.5385 - val_recall: 3.7114e-04\n",
            "Epoch 12/300\n",
            "1964/1965 [============================>.] - ETA: 0s - loss: 1.9138 - accuracy: 0.2858 - auc: 0.7913 - precision: 0.4873 - recall: 0.0025\n",
            "Epoch 00012: val_accuracy improved from 0.29558 to 0.30624, saving model to tfjsmode.h5\n",
            "1965/1965 [==============================] - 96s 49ms/step - loss: 1.9137 - accuracy: 0.2858 - auc: 0.7913 - precision: 0.4890 - recall: 0.0025 - val_loss: 1.8410 - val_accuracy: 0.3062 - val_auc: 0.8127 - val_precision: 0.4349 - val_recall: 0.0083\n",
            "Epoch 13/300\n",
            "1965/1965 [==============================] - ETA: 0s - loss: 1.8966 - accuracy: 0.2907 - auc: 0.7962 - precision: 0.5363 - recall: 0.0033\n",
            "Epoch 00013: val_accuracy improved from 0.30624 to 0.30873, saving model to tfjsmode.h5\n",
            "1965/1965 [==============================] - 96s 49ms/step - loss: 1.8966 - accuracy: 0.2907 - auc: 0.7962 - precision: 0.5363 - recall: 0.0033 - val_loss: 1.8288 - val_accuracy: 0.3087 - val_auc: 0.8158 - val_precision: 0.4247 - val_recall: 0.0067\n",
            "Epoch 14/300\n",
            "1965/1965 [==============================] - ETA: 0s - loss: 1.8837 - accuracy: 0.2938 - auc: 0.8000 - precision: 0.4433 - recall: 0.0034\n",
            "Epoch 00014: val_accuracy improved from 0.30873 to 0.30947, saving model to tfjsmode.h5\n",
            "1965/1965 [==============================] - 96s 49ms/step - loss: 1.8837 - accuracy: 0.2938 - auc: 0.8000 - precision: 0.4433 - recall: 0.0034 - val_loss: 1.8075 - val_accuracy: 0.3095 - val_auc: 0.8213 - val_precision: 0.5208 - val_recall: 0.0013\n",
            "Epoch 15/300\n",
            "1965/1965 [==============================] - ETA: 0s - loss: 1.8705 - accuracy: 0.2958 - auc: 0.8037 - precision: 0.4940 - recall: 0.0033\n",
            "Epoch 00015: val_accuracy improved from 0.30947 to 0.31918, saving model to tfjsmode.h5\n",
            "1965/1965 [==============================] - 96s 49ms/step - loss: 1.8705 - accuracy: 0.2958 - auc: 0.8037 - precision: 0.4940 - recall: 0.0033 - val_loss: 1.7928 - val_accuracy: 0.3192 - val_auc: 0.8249 - val_precision: 0.4764 - val_recall: 0.0059\n",
            "Epoch 16/300\n",
            "1965/1965 [==============================] - ETA: 0s - loss: 1.8563 - accuracy: 0.2995 - auc: 0.8077 - precision: 0.4628 - recall: 0.0045\n",
            "Epoch 00016: val_accuracy did not improve from 0.31918\n",
            "1965/1965 [==============================] - 96s 49ms/step - loss: 1.8563 - accuracy: 0.2995 - auc: 0.8077 - precision: 0.4628 - recall: 0.0045 - val_loss: 1.7692 - val_accuracy: 0.3162 - val_auc: 0.8309 - val_precision: 0.4672 - val_recall: 0.0030\n",
            "Epoch 17/300\n",
            "1965/1965 [==============================] - ETA: 0s - loss: 1.8442 - accuracy: 0.3031 - auc: 0.8108 - precision: 0.5257 - recall: 0.0049\n",
            "Epoch 00017: val_accuracy improved from 0.31918 to 0.32352, saving model to tfjsmode.h5\n",
            "1965/1965 [==============================] - 96s 49ms/step - loss: 1.8442 - accuracy: 0.3031 - auc: 0.8108 - precision: 0.5257 - recall: 0.0049 - val_loss: 1.7590 - val_accuracy: 0.3235 - val_auc: 0.8327 - val_precision: 0.5130 - val_recall: 0.0042\n",
            "Epoch 18/300\n",
            "1965/1965 [==============================] - ETA: 0s - loss: 1.8342 - accuracy: 0.3055 - auc: 0.8133 - precision: 0.4875 - recall: 0.0056\n",
            "Epoch 00018: val_accuracy improved from 0.32352 to 0.32766, saving model to tfjsmode.h5\n",
            "1965/1965 [==============================] - 96s 49ms/step - loss: 1.8342 - accuracy: 0.3055 - auc: 0.8133 - precision: 0.4875 - recall: 0.0056 - val_loss: 1.7504 - val_accuracy: 0.3277 - val_auc: 0.8351 - val_precision: 0.4938 - val_recall: 0.0064\n",
            "Epoch 19/300\n",
            "1965/1965 [==============================] - ETA: 0s - loss: 1.8258 - accuracy: 0.3075 - auc: 0.8156 - precision: 0.4884 - recall: 0.0067\n",
            "Epoch 00019: val_accuracy improved from 0.32766 to 0.33731, saving model to tfjsmode.h5\n",
            "1965/1965 [==============================] - 96s 49ms/step - loss: 1.8258 - accuracy: 0.3075 - auc: 0.8156 - precision: 0.4884 - recall: 0.0067 - val_loss: 1.7391 - val_accuracy: 0.3373 - val_auc: 0.8384 - val_precision: 0.5882 - val_recall: 0.0032\n",
            "Epoch 20/300\n",
            "1964/1965 [============================>.] - ETA: 0s - loss: 1.8149 - accuracy: 0.3102 - auc: 0.8183 - precision: 0.4895 - recall: 0.0067\n",
            "Epoch 00020: val_accuracy did not improve from 0.33731\n",
            "1965/1965 [==============================] - 95s 49ms/step - loss: 1.8149 - accuracy: 0.3102 - auc: 0.8183 - precision: 0.4889 - recall: 0.0066 - val_loss: 1.7218 - val_accuracy: 0.3356 - val_auc: 0.8428 - val_precision: 0.5531 - val_recall: 0.0066\n",
            "Epoch 21/300\n",
            "1965/1965 [==============================] - ETA: 0s - loss: 1.8090 - accuracy: 0.3122 - auc: 0.8198 - precision: 0.4735 - recall: 0.0074\n",
            "Epoch 00021: val_accuracy improved from 0.33731 to 0.33837, saving model to tfjsmode.h5\n",
            "1965/1965 [==============================] - 95s 48ms/step - loss: 1.8090 - accuracy: 0.3122 - auc: 0.8198 - precision: 0.4735 - recall: 0.0074 - val_loss: 1.7129 - val_accuracy: 0.3384 - val_auc: 0.8442 - val_precision: 0.7368 - val_recall: 0.0030\n",
            "Epoch 22/300\n",
            "1964/1965 [============================>.] - ETA: 0s - loss: 1.7987 - accuracy: 0.3136 - auc: 0.8223 - precision: 0.4795 - recall: 0.0069\n",
            "Epoch 00022: val_accuracy did not improve from 0.33837\n",
            "1965/1965 [==============================] - 95s 49ms/step - loss: 1.7987 - accuracy: 0.3136 - auc: 0.8223 - precision: 0.4785 - recall: 0.0069 - val_loss: 1.7042 - val_accuracy: 0.3360 - val_auc: 0.8451 - val_precision: 0.5632 - val_recall: 0.0083\n",
            "Epoch 23/300\n",
            "1964/1965 [============================>.] - ETA: 0s - loss: 1.7933 - accuracy: 0.3147 - auc: 0.8236 - precision: 0.5026 - recall: 0.0077\n",
            "Epoch 00023: val_accuracy improved from 0.33837 to 0.34060, saving model to tfjsmode.h5\n",
            "1965/1965 [==============================] - 94s 48ms/step - loss: 1.7934 - accuracy: 0.3147 - auc: 0.8236 - precision: 0.5026 - recall: 0.0077 - val_loss: 1.6935 - val_accuracy: 0.3406 - val_auc: 0.8475 - val_precision: 0.5909 - val_recall: 0.0076\n",
            "Epoch 24/300\n",
            "1964/1965 [============================>.] - ETA: 0s - loss: 1.7865 - accuracy: 0.3155 - auc: 0.8252 - precision: 0.4696 - recall: 0.0086\n",
            "Epoch 00024: val_accuracy improved from 0.34060 to 0.34187, saving model to tfjsmode.h5\n",
            "1965/1965 [==============================] - 95s 48ms/step - loss: 1.7865 - accuracy: 0.3155 - auc: 0.8252 - precision: 0.4696 - recall: 0.0086 - val_loss: 1.6856 - val_accuracy: 0.3419 - val_auc: 0.8501 - val_precision: 0.5104 - val_recall: 0.0156\n",
            "Epoch 25/300\n",
            "1964/1965 [============================>.] - ETA: 0s - loss: 1.7802 - accuracy: 0.3155 - auc: 0.8268 - precision: 0.4820 - recall: 0.0096\n",
            "Epoch 00025: val_accuracy improved from 0.34187 to 0.34908, saving model to tfjsmode.h5\n",
            "1965/1965 [==============================] - 95s 48ms/step - loss: 1.7802 - accuracy: 0.3155 - auc: 0.8268 - precision: 0.4820 - recall: 0.0096 - val_loss: 1.6729 - val_accuracy: 0.3491 - val_auc: 0.8526 - val_precision: 0.5769 - val_recall: 0.0087\n",
            "Epoch 26/300\n",
            "1965/1965 [==============================] - ETA: 0s - loss: 1.7739 - accuracy: 0.3185 - auc: 0.8283 - precision: 0.4849 - recall: 0.0100\n",
            "Epoch 00026: val_accuracy did not improve from 0.34908\n",
            "1965/1965 [==============================] - 96s 49ms/step - loss: 1.7739 - accuracy: 0.3185 - auc: 0.8283 - precision: 0.4849 - recall: 0.0100 - val_loss: 1.6701 - val_accuracy: 0.3461 - val_auc: 0.8538 - val_precision: 0.5668 - val_recall: 0.0119\n",
            "Epoch 27/300\n",
            "1965/1965 [==============================] - ETA: 0s - loss: 1.7648 - accuracy: 0.3211 - auc: 0.8305 - precision: 0.5169 - recall: 0.0117\n",
            "Epoch 00027: val_accuracy improved from 0.34908 to 0.35136, saving model to tfjsmode.h5\n",
            "1965/1965 [==============================] - 96s 49ms/step - loss: 1.7648 - accuracy: 0.3211 - auc: 0.8305 - precision: 0.5169 - recall: 0.0117 - val_loss: 1.6546 - val_accuracy: 0.3514 - val_auc: 0.8566 - val_precision: 0.5860 - val_recall: 0.0107\n",
            "Epoch 28/300\n",
            "1965/1965 [==============================] - ETA: 0s - loss: 1.7641 - accuracy: 0.3213 - auc: 0.8307 - precision: 0.4914 - recall: 0.0114\n",
            "Epoch 00028: val_accuracy improved from 0.35136 to 0.35534, saving model to tfjsmode.h5\n",
            "1965/1965 [==============================] - 96s 49ms/step - loss: 1.7641 - accuracy: 0.3213 - auc: 0.8307 - precision: 0.4914 - recall: 0.0114 - val_loss: 1.6518 - val_accuracy: 0.3553 - val_auc: 0.8572 - val_precision: 0.5962 - val_recall: 0.0099\n",
            "Epoch 29/300\n",
            "1964/1965 [============================>.] - ETA: 0s - loss: 1.7582 - accuracy: 0.3248 - auc: 0.8319 - precision: 0.5027 - recall: 0.0119\n",
            "Epoch 00029: val_accuracy improved from 0.35534 to 0.35687, saving model to tfjsmode.h5\n",
            "1965/1965 [==============================] - 97s 49ms/step - loss: 1.7582 - accuracy: 0.3247 - auc: 0.8319 - precision: 0.5024 - recall: 0.0119 - val_loss: 1.6440 - val_accuracy: 0.3569 - val_auc: 0.8586 - val_precision: 0.5457 - val_recall: 0.0203\n",
            "Epoch 30/300\n",
            "1965/1965 [==============================] - ETA: 0s - loss: 1.7530 - accuracy: 0.3247 - auc: 0.8332 - precision: 0.4985 - recall: 0.0135\n",
            "Epoch 00030: val_accuracy did not improve from 0.35687\n",
            "1965/1965 [==============================] - 96s 49ms/step - loss: 1.7530 - accuracy: 0.3247 - auc: 0.8332 - precision: 0.4985 - recall: 0.0135 - val_loss: 1.6379 - val_accuracy: 0.3563 - val_auc: 0.8602 - val_precision: 0.7253 - val_recall: 0.0070\n",
            "Epoch 31/300\n",
            "1964/1965 [============================>.] - ETA: 0s - loss: 1.7479 - accuracy: 0.3237 - auc: 0.8343 - precision: 0.5158 - recall: 0.0130\n",
            "Epoch 00031: val_accuracy did not improve from 0.35687\n",
            "1965/1965 [==============================] - 95s 49ms/step - loss: 1.7479 - accuracy: 0.3238 - auc: 0.8343 - precision: 0.5158 - recall: 0.0130 - val_loss: 1.6344 - val_accuracy: 0.3556 - val_auc: 0.8605 - val_precision: 0.5460 - val_recall: 0.0208\n",
            "Epoch 32/300\n",
            "1965/1965 [==============================] - ETA: 0s - loss: 1.7405 - accuracy: 0.3265 - auc: 0.8360 - precision: 0.4974 - recall: 0.0138\n",
            "Epoch 00032: val_accuracy improved from 0.35687 to 0.35714, saving model to tfjsmode.h5\n",
            "1965/1965 [==============================] - 96s 49ms/step - loss: 1.7405 - accuracy: 0.3265 - auc: 0.8360 - precision: 0.4974 - recall: 0.0138 - val_loss: 1.6299 - val_accuracy: 0.3571 - val_auc: 0.8614 - val_precision: 0.6421 - val_recall: 0.0097\n",
            "Epoch 33/300\n",
            "1964/1965 [============================>.] - ETA: 0s - loss: 1.7377 - accuracy: 0.3255 - auc: 0.8366 - precision: 0.4997 - recall: 0.0137\n",
            "Epoch 00033: val_accuracy improved from 0.35714 to 0.36000, saving model to tfjsmode.h5\n",
            "1965/1965 [==============================] - 96s 49ms/step - loss: 1.7378 - accuracy: 0.3255 - auc: 0.8366 - precision: 0.4997 - recall: 0.0137 - val_loss: 1.6237 - val_accuracy: 0.3600 - val_auc: 0.8632 - val_precision: 0.5867 - val_recall: 0.0163\n",
            "Epoch 34/300\n",
            "1965/1965 [==============================] - ETA: 0s - loss: 1.7353 - accuracy: 0.3290 - auc: 0.8370 - precision: 0.4947 - recall: 0.0157\n",
            "Epoch 00034: val_accuracy improved from 0.36000 to 0.36053, saving model to tfjsmode.h5\n",
            "1965/1965 [==============================] - 96s 49ms/step - loss: 1.7353 - accuracy: 0.3290 - auc: 0.8370 - precision: 0.4947 - recall: 0.0157 - val_loss: 1.6184 - val_accuracy: 0.3605 - val_auc: 0.8628 - val_precision: 0.6015 - val_recall: 0.0168\n",
            "Epoch 35/300\n",
            "1964/1965 [============================>.] - ETA: 0s - loss: 1.7325 - accuracy: 0.3282 - auc: 0.8377 - precision: 0.5141 - recall: 0.0162\n",
            "Epoch 00035: val_accuracy did not improve from 0.36053\n",
            "1965/1965 [==============================] - 96s 49ms/step - loss: 1.7324 - accuracy: 0.3282 - auc: 0.8377 - precision: 0.5143 - recall: 0.0163 - val_loss: 1.6109 - val_accuracy: 0.3595 - val_auc: 0.8648 - val_precision: 0.5770 - val_recall: 0.0205\n",
            "Epoch 36/300\n",
            "1965/1965 [==============================] - ETA: 0s - loss: 1.7270 - accuracy: 0.3298 - auc: 0.8389 - precision: 0.5162 - recall: 0.0170\n",
            "Epoch 00036: val_accuracy improved from 0.36053 to 0.36239, saving model to tfjsmode.h5\n",
            "1965/1965 [==============================] - 96s 49ms/step - loss: 1.7270 - accuracy: 0.3298 - auc: 0.8389 - precision: 0.5162 - recall: 0.0170 - val_loss: 1.6090 - val_accuracy: 0.3624 - val_auc: 0.8653 - val_precision: 0.6044 - val_recall: 0.0189\n",
            "Epoch 37/300\n",
            "1964/1965 [============================>.] - ETA: 0s - loss: 1.7231 - accuracy: 0.3293 - auc: 0.8398 - precision: 0.5187 - recall: 0.0188\n",
            "Epoch 00037: val_accuracy improved from 0.36239 to 0.36451, saving model to tfjsmode.h5\n",
            "1965/1965 [==============================] - 96s 49ms/step - loss: 1.7231 - accuracy: 0.3293 - auc: 0.8398 - precision: 0.5185 - recall: 0.0188 - val_loss: 1.6051 - val_accuracy: 0.3645 - val_auc: 0.8659 - val_precision: 0.6309 - val_recall: 0.0150\n",
            "Epoch 38/300\n",
            "1965/1965 [==============================] - ETA: 0s - loss: 1.7187 - accuracy: 0.3328 - auc: 0.8408 - precision: 0.5231 - recall: 0.0155\n",
            "Epoch 00038: val_accuracy improved from 0.36451 to 0.36514, saving model to tfjsmode.h5\n",
            "1965/1965 [==============================] - 96s 49ms/step - loss: 1.7187 - accuracy: 0.3328 - auc: 0.8408 - precision: 0.5231 - recall: 0.0155 - val_loss: 1.6027 - val_accuracy: 0.3651 - val_auc: 0.8669 - val_precision: 0.6000 - val_recall: 0.0177\n",
            "Epoch 39/300\n",
            "1965/1965 [==============================] - ETA: 0s - loss: 1.7113 - accuracy: 0.3357 - auc: 0.8424 - precision: 0.5062 - recall: 0.0189\n",
            "Epoch 00039: val_accuracy improved from 0.36514 to 0.36811, saving model to tfjsmode.h5\n",
            "1965/1965 [==============================] - 96s 49ms/step - loss: 1.7113 - accuracy: 0.3357 - auc: 0.8424 - precision: 0.5062 - recall: 0.0189 - val_loss: 1.5955 - val_accuracy: 0.3681 - val_auc: 0.8684 - val_precision: 0.6420 - val_recall: 0.0165\n",
            "Epoch 40/300\n",
            "1965/1965 [==============================] - ETA: 0s - loss: 1.7141 - accuracy: 0.3308 - auc: 0.8418 - precision: 0.5146 - recall: 0.0188\n",
            "Epoch 00040: val_accuracy did not improve from 0.36811\n",
            "1965/1965 [==============================] - 96s 49ms/step - loss: 1.7141 - accuracy: 0.3308 - auc: 0.8418 - precision: 0.5146 - recall: 0.0188 - val_loss: 1.5896 - val_accuracy: 0.3658 - val_auc: 0.8686 - val_precision: 0.6286 - val_recall: 0.0152\n",
            "Epoch 41/300\n",
            "1965/1965 [==============================] - ETA: 0s - loss: 1.7082 - accuracy: 0.3317 - auc: 0.8429 - precision: 0.5108 - recall: 0.0185\n",
            "Epoch 00041: val_accuracy did not improve from 0.36811\n",
            "1965/1965 [==============================] - 96s 49ms/step - loss: 1.7082 - accuracy: 0.3317 - auc: 0.8429 - precision: 0.5108 - recall: 0.0185 - val_loss: 1.5845 - val_accuracy: 0.3648 - val_auc: 0.8690 - val_precision: 0.6107 - val_recall: 0.0193\n",
            "Epoch 42/300\n",
            "1964/1965 [============================>.] - ETA: 0s - loss: 1.7057 - accuracy: 0.3350 - auc: 0.8435 - precision: 0.5194 - recall: 0.0217\n",
            "Epoch 00042: val_accuracy improved from 0.36811 to 0.37018, saving model to tfjsmode.h5\n",
            "1965/1965 [==============================] - 96s 49ms/step - loss: 1.7058 - accuracy: 0.3349 - auc: 0.8434 - precision: 0.5192 - recall: 0.0217 - val_loss: 1.5771 - val_accuracy: 0.3702 - val_auc: 0.8717 - val_precision: 0.6341 - val_recall: 0.0207\n",
            "Epoch 43/300\n",
            "1964/1965 [============================>.] - ETA: 0s - loss: 1.7044 - accuracy: 0.3336 - auc: 0.8438 - precision: 0.5166 - recall: 0.0211\n",
            "Epoch 00043: val_accuracy did not improve from 0.37018\n",
            "1965/1965 [==============================] - 95s 48ms/step - loss: 1.7043 - accuracy: 0.3336 - auc: 0.8438 - precision: 0.5166 - recall: 0.0211 - val_loss: 1.5743 - val_accuracy: 0.3688 - val_auc: 0.8716 - val_precision: 0.6751 - val_recall: 0.0128\n",
            "Epoch 44/300\n",
            "1965/1965 [==============================] - ETA: 0s - loss: 1.6996 - accuracy: 0.3344 - auc: 0.8448 - precision: 0.5010 - recall: 0.0203\n",
            "Epoch 00044: val_accuracy improved from 0.37018 to 0.37304, saving model to tfjsmode.h5\n",
            "1965/1965 [==============================] - 95s 49ms/step - loss: 1.6996 - accuracy: 0.3344 - auc: 0.8448 - precision: 0.5010 - recall: 0.0203 - val_loss: 1.5753 - val_accuracy: 0.3730 - val_auc: 0.8719 - val_precision: 0.6376 - val_recall: 0.0205\n",
            "Epoch 45/300\n",
            "1964/1965 [============================>.] - ETA: 0s - loss: 1.6984 - accuracy: 0.3364 - auc: 0.8451 - precision: 0.5136 - recall: 0.0228\n",
            "Epoch 00045: val_accuracy did not improve from 0.37304\n",
            "1965/1965 [==============================] - 96s 49ms/step - loss: 1.6983 - accuracy: 0.3364 - auc: 0.8451 - precision: 0.5138 - recall: 0.0228 - val_loss: 1.5700 - val_accuracy: 0.3691 - val_auc: 0.8721 - val_precision: 0.5749 - val_recall: 0.0311\n",
            "Epoch 46/300\n",
            "1964/1965 [============================>.] - ETA: 0s - loss: 1.6952 - accuracy: 0.3373 - auc: 0.8459 - precision: 0.5136 - recall: 0.0228\n",
            "Epoch 00046: val_accuracy did not improve from 0.37304\n",
            "1965/1965 [==============================] - 96s 49ms/step - loss: 1.6952 - accuracy: 0.3373 - auc: 0.8459 - precision: 0.5136 - recall: 0.0227 - val_loss: 1.5644 - val_accuracy: 0.3709 - val_auc: 0.8732 - val_precision: 0.7307 - val_recall: 0.0145\n",
            "Epoch 47/300\n",
            "1965/1965 [==============================] - ETA: 0s - loss: 1.6925 - accuracy: 0.3384 - auc: 0.8464 - precision: 0.5103 - recall: 0.0212\n",
            "Epoch 00047: val_accuracy improved from 0.37304 to 0.37453, saving model to tfjsmode.h5\n",
            "1965/1965 [==============================] - 96s 49ms/step - loss: 1.6925 - accuracy: 0.3384 - auc: 0.8464 - precision: 0.5103 - recall: 0.0212 - val_loss: 1.5552 - val_accuracy: 0.3745 - val_auc: 0.8747 - val_precision: 0.5997 - val_recall: 0.0364\n",
            "Epoch 48/300\n",
            "1964/1965 [============================>.] - ETA: 0s - loss: 1.6897 - accuracy: 0.3386 - auc: 0.8470 - precision: 0.5125 - recall: 0.0234\n",
            "Epoch 00048: val_accuracy improved from 0.37453 to 0.37559, saving model to tfjsmode.h5\n",
            "1965/1965 [==============================] - 96s 49ms/step - loss: 1.6897 - accuracy: 0.3386 - auc: 0.8470 - precision: 0.5125 - recall: 0.0234 - val_loss: 1.5547 - val_accuracy: 0.3756 - val_auc: 0.8748 - val_precision: 0.6225 - val_recall: 0.0282\n",
            "Epoch 49/300\n",
            "1965/1965 [==============================] - ETA: 0s - loss: 1.6855 - accuracy: 0.3396 - auc: 0.8478 - precision: 0.5256 - recall: 0.0257\n",
            "Epoch 00049: val_accuracy did not improve from 0.37559\n",
            "1965/1965 [==============================] - 96s 49ms/step - loss: 1.6855 - accuracy: 0.3396 - auc: 0.8478 - precision: 0.5256 - recall: 0.0257 - val_loss: 1.5602 - val_accuracy: 0.3738 - val_auc: 0.8743 - val_precision: 0.7153 - val_recall: 0.0153\n",
            "Epoch 50/300\n",
            "1964/1965 [============================>.] - ETA: 0s - loss: 1.6817 - accuracy: 0.3406 - auc: 0.8485 - precision: 0.5200 - recall: 0.0253\n",
            "Epoch 00050: val_accuracy did not improve from 0.37559\n",
            "1965/1965 [==============================] - 95s 48ms/step - loss: 1.6817 - accuracy: 0.3406 - auc: 0.8485 - precision: 0.5200 - recall: 0.0253 - val_loss: 1.5458 - val_accuracy: 0.3752 - val_auc: 0.8759 - val_precision: 0.5810 - val_recall: 0.0340\n",
            "Epoch 51/300\n",
            "1964/1965 [============================>.] - ETA: 0s - loss: 1.6838 - accuracy: 0.3401 - auc: 0.8481 - precision: 0.5234 - recall: 0.0253\n",
            "Epoch 00051: val_accuracy did not improve from 0.37559\n",
            "1965/1965 [==============================] - 95s 48ms/step - loss: 1.6838 - accuracy: 0.3401 - auc: 0.8481 - precision: 0.5234 - recall: 0.0253 - val_loss: 1.5431 - val_accuracy: 0.3744 - val_auc: 0.8767 - val_precision: 0.5922 - val_recall: 0.0373\n",
            "Epoch 52/300\n",
            "1964/1965 [============================>.] - ETA: 0s - loss: 1.6801 - accuracy: 0.3378 - auc: 0.8489 - precision: 0.5120 - recall: 0.0254\n",
            "Epoch 00052: val_accuracy improved from 0.37559 to 0.37745, saving model to tfjsmode.h5\n",
            "1965/1965 [==============================] - 94s 48ms/step - loss: 1.6801 - accuracy: 0.3378 - auc: 0.8489 - precision: 0.5120 - recall: 0.0254 - val_loss: 1.5450 - val_accuracy: 0.3774 - val_auc: 0.8767 - val_precision: 0.6144 - val_recall: 0.0299\n",
            "Epoch 53/300\n",
            "1964/1965 [============================>.] - ETA: 0s - loss: 1.6761 - accuracy: 0.3389 - auc: 0.8497 - precision: 0.5274 - recall: 0.0253\n",
            "Epoch 00053: val_accuracy did not improve from 0.37745\n",
            "1965/1965 [==============================] - 96s 49ms/step - loss: 1.6761 - accuracy: 0.3389 - auc: 0.8497 - precision: 0.5274 - recall: 0.0253 - val_loss: 1.5401 - val_accuracy: 0.3763 - val_auc: 0.8774 - val_precision: 0.6039 - val_recall: 0.0390\n",
            "Epoch 54/300\n",
            "1965/1965 [==============================] - ETA: 0s - loss: 1.6774 - accuracy: 0.3389 - auc: 0.8494 - precision: 0.5294 - recall: 0.0262\n",
            "Epoch 00054: val_accuracy improved from 0.37745 to 0.37771, saving model to tfjsmode.h5\n",
            "1965/1965 [==============================] - 96s 49ms/step - loss: 1.6774 - accuracy: 0.3389 - auc: 0.8494 - precision: 0.5294 - recall: 0.0262 - val_loss: 1.5397 - val_accuracy: 0.3777 - val_auc: 0.8772 - val_precision: 0.6113 - val_recall: 0.0314\n",
            "Epoch 55/300\n",
            "1964/1965 [============================>.] - ETA: 0s - loss: 1.6761 - accuracy: 0.3388 - auc: 0.8497 - precision: 0.5339 - recall: 0.0260\n",
            "Epoch 00055: val_accuracy improved from 0.37771 to 0.38148, saving model to tfjsmode.h5\n",
            "1965/1965 [==============================] - 96s 49ms/step - loss: 1.6761 - accuracy: 0.3388 - auc: 0.8497 - precision: 0.5341 - recall: 0.0261 - val_loss: 1.5372 - val_accuracy: 0.3815 - val_auc: 0.8780 - val_precision: 0.6647 - val_recall: 0.0241\n",
            "Epoch 56/300\n",
            "1964/1965 [============================>.] - ETA: 0s - loss: 1.6745 - accuracy: 0.3400 - auc: 0.8500 - precision: 0.5169 - recall: 0.0254\n",
            "Epoch 00056: val_accuracy did not improve from 0.38148\n",
            "1965/1965 [==============================] - 95s 48ms/step - loss: 1.6744 - accuracy: 0.3400 - auc: 0.8500 - precision: 0.5169 - recall: 0.0254 - val_loss: 1.5366 - val_accuracy: 0.3756 - val_auc: 0.8782 - val_precision: 0.6632 - val_recall: 0.0236\n",
            "Epoch 57/300\n",
            "1965/1965 [==============================] - ETA: 0s - loss: 1.6711 - accuracy: 0.3427 - auc: 0.8507 - precision: 0.5262 - recall: 0.0258\n",
            "Epoch 00057: val_accuracy did not improve from 0.38148\n",
            "1965/1965 [==============================] - 96s 49ms/step - loss: 1.6711 - accuracy: 0.3427 - auc: 0.8507 - precision: 0.5262 - recall: 0.0258 - val_loss: 1.5293 - val_accuracy: 0.3808 - val_auc: 0.8789 - val_precision: 0.6121 - val_recall: 0.0381\n",
            "Epoch 58/300\n",
            "1964/1965 [============================>.] - ETA: 0s - loss: 1.6676 - accuracy: 0.3429 - auc: 0.8514 - precision: 0.5366 - recall: 0.0279\n",
            "Epoch 00058: val_accuracy did not improve from 0.38148\n",
            "1965/1965 [==============================] - 96s 49ms/step - loss: 1.6677 - accuracy: 0.3429 - auc: 0.8514 - precision: 0.5367 - recall: 0.0279 - val_loss: 1.5378 - val_accuracy: 0.3722 - val_auc: 0.8791 - val_precision: 0.5909 - val_recall: 0.0353\n",
            "Epoch 59/300\n",
            "1965/1965 [==============================] - ETA: 0s - loss: 1.6658 - accuracy: 0.3437 - auc: 0.8518 - precision: 0.5244 - recall: 0.0282\n",
            "Epoch 00059: val_accuracy did not improve from 0.38148\n",
            "1965/1965 [==============================] - 95s 48ms/step - loss: 1.6658 - accuracy: 0.3437 - auc: 0.8518 - precision: 0.5244 - recall: 0.0282 - val_loss: 1.5303 - val_accuracy: 0.3796 - val_auc: 0.8799 - val_precision: 0.6540 - val_recall: 0.0236\n",
            "Epoch 60/300\n",
            "1964/1965 [============================>.] - ETA: 0s - loss: 1.6657 - accuracy: 0.3443 - auc: 0.8517 - precision: 0.5310 - recall: 0.0275\n",
            "Epoch 00060: val_accuracy improved from 0.38148 to 0.38153, saving model to tfjsmode.h5\n",
            "1965/1965 [==============================] - 95s 48ms/step - loss: 1.6658 - accuracy: 0.3442 - auc: 0.8517 - precision: 0.5310 - recall: 0.0275 - val_loss: 1.5256 - val_accuracy: 0.3815 - val_auc: 0.8807 - val_precision: 0.6272 - val_recall: 0.0309\n",
            "Epoch 61/300\n",
            "1964/1965 [============================>.] - ETA: 0s - loss: 1.6647 - accuracy: 0.3425 - auc: 0.8519 - precision: 0.5311 - recall: 0.0282\n",
            "Epoch 00061: val_accuracy improved from 0.38153 to 0.38397, saving model to tfjsmode.h5\n",
            "1965/1965 [==============================] - 96s 49ms/step - loss: 1.6647 - accuracy: 0.3425 - auc: 0.8519 - precision: 0.5313 - recall: 0.0282 - val_loss: 1.5239 - val_accuracy: 0.3840 - val_auc: 0.8807 - val_precision: 0.6316 - val_recall: 0.0337\n",
            "Epoch 62/300\n",
            "1965/1965 [==============================] - ETA: 0s - loss: 1.6632 - accuracy: 0.3444 - auc: 0.8523 - precision: 0.5235 - recall: 0.0298\n",
            "Epoch 00062: val_accuracy did not improve from 0.38397\n",
            "1965/1965 [==============================] - 95s 48ms/step - loss: 1.6632 - accuracy: 0.3444 - auc: 0.8523 - precision: 0.5235 - recall: 0.0298 - val_loss: 1.5165 - val_accuracy: 0.3823 - val_auc: 0.8817 - val_precision: 0.5958 - val_recall: 0.0396\n",
            "Epoch 63/300\n",
            "1964/1965 [============================>.] - ETA: 0s - loss: 1.6588 - accuracy: 0.3453 - auc: 0.8531 - precision: 0.5267 - recall: 0.0312\n",
            "Epoch 00063: val_accuracy improved from 0.38397 to 0.38482, saving model to tfjsmode.h5\n",
            "1965/1965 [==============================] - 95s 48ms/step - loss: 1.6588 - accuracy: 0.3453 - auc: 0.8531 - precision: 0.5265 - recall: 0.0312 - val_loss: 1.5119 - val_accuracy: 0.3848 - val_auc: 0.8819 - val_precision: 0.6170 - val_recall: 0.0412\n",
            "Epoch 64/300\n",
            "1964/1965 [============================>.] - ETA: 0s - loss: 1.6586 - accuracy: 0.3450 - auc: 0.8532 - precision: 0.5147 - recall: 0.0304\n",
            "Epoch 00064: val_accuracy did not improve from 0.38482\n",
            "1965/1965 [==============================] - 95s 48ms/step - loss: 1.6587 - accuracy: 0.3449 - auc: 0.8532 - precision: 0.5147 - recall: 0.0303 - val_loss: 1.5164 - val_accuracy: 0.3811 - val_auc: 0.8819 - val_precision: 0.6453 - val_recall: 0.0299\n",
            "Epoch 65/300\n",
            "1965/1965 [==============================] - ETA: 0s - loss: 1.6584 - accuracy: 0.3461 - auc: 0.8533 - precision: 0.5234 - recall: 0.0331\n",
            "Epoch 00065: val_accuracy improved from 0.38482 to 0.38641, saving model to tfjsmode.h5\n",
            "1965/1965 [==============================] - 96s 49ms/step - loss: 1.6584 - accuracy: 0.3461 - auc: 0.8533 - precision: 0.5234 - recall: 0.0331 - val_loss: 1.5108 - val_accuracy: 0.3864 - val_auc: 0.8819 - val_precision: 0.6631 - val_recall: 0.0294\n",
            "Epoch 66/300\n",
            "1964/1965 [============================>.] - ETA: 0s - loss: 1.6578 - accuracy: 0.3463 - auc: 0.8535 - precision: 0.5132 - recall: 0.0307\n",
            "Epoch 00066: val_accuracy did not improve from 0.38641\n",
            "1965/1965 [==============================] - 96s 49ms/step - loss: 1.6578 - accuracy: 0.3463 - auc: 0.8535 - precision: 0.5130 - recall: 0.0307 - val_loss: 1.5069 - val_accuracy: 0.3848 - val_auc: 0.8828 - val_precision: 0.6277 - val_recall: 0.0358\n",
            "Epoch 67/300\n",
            "1964/1965 [============================>.] - ETA: 0s - loss: 1.6534 - accuracy: 0.3462 - auc: 0.8543 - precision: 0.5328 - recall: 0.0326\n",
            "Epoch 00067: val_accuracy improved from 0.38641 to 0.38704, saving model to tfjsmode.h5\n",
            "1965/1965 [==============================] - 96s 49ms/step - loss: 1.6534 - accuracy: 0.3462 - auc: 0.8543 - precision: 0.5329 - recall: 0.0326 - val_loss: 1.5065 - val_accuracy: 0.3870 - val_auc: 0.8834 - val_precision: 0.6443 - val_recall: 0.0367\n",
            "Epoch 68/300\n",
            "1964/1965 [============================>.] - ETA: 0s - loss: 1.6537 - accuracy: 0.3436 - auc: 0.8541 - precision: 0.5187 - recall: 0.0312\n",
            "Epoch 00068: val_accuracy did not improve from 0.38704\n",
            "1965/1965 [==============================] - 96s 49ms/step - loss: 1.6537 - accuracy: 0.3436 - auc: 0.8541 - precision: 0.5187 - recall: 0.0312 - val_loss: 1.5074 - val_accuracy: 0.3830 - val_auc: 0.8828 - val_precision: 0.6518 - val_recall: 0.0303\n",
            "Epoch 69/300\n",
            "1965/1965 [==============================] - ETA: 0s - loss: 1.6526 - accuracy: 0.3466 - auc: 0.8543 - precision: 0.5202 - recall: 0.0296\n",
            "Epoch 00069: val_accuracy did not improve from 0.38704\n",
            "1965/1965 [==============================] - 96s 49ms/step - loss: 1.6526 - accuracy: 0.3466 - auc: 0.8543 - precision: 0.5202 - recall: 0.0296 - val_loss: 1.5082 - val_accuracy: 0.3807 - val_auc: 0.8826 - val_precision: 0.5928 - val_recall: 0.0438\n",
            "Epoch 70/300\n",
            "1965/1965 [==============================] - ETA: 0s - loss: 1.6515 - accuracy: 0.3475 - auc: 0.8545 - precision: 0.5297 - recall: 0.0307\n",
            "Epoch 00070: val_accuracy improved from 0.38704 to 0.38794, saving model to tfjsmode.h5\n",
            "1965/1965 [==============================] - 96s 49ms/step - loss: 1.6515 - accuracy: 0.3475 - auc: 0.8545 - precision: 0.5297 - recall: 0.0307 - val_loss: 1.5053 - val_accuracy: 0.3879 - val_auc: 0.8830 - val_precision: 0.6393 - val_recall: 0.0363\n",
            "Epoch 71/300\n",
            "1964/1965 [============================>.] - ETA: 0s - loss: 1.6474 - accuracy: 0.3472 - auc: 0.8554 - precision: 0.5234 - recall: 0.0322\n",
            "Epoch 00071: val_accuracy improved from 0.38794 to 0.38927, saving model to tfjsmode.h5\n",
            "1965/1965 [==============================] - 97s 49ms/step - loss: 1.6473 - accuracy: 0.3472 - auc: 0.8554 - precision: 0.5234 - recall: 0.0321 - val_loss: 1.5032 - val_accuracy: 0.3893 - val_auc: 0.8844 - val_precision: 0.6575 - val_recall: 0.0330\n",
            "Epoch 72/300\n",
            "1965/1965 [==============================] - ETA: 0s - loss: 1.6476 - accuracy: 0.3445 - auc: 0.8553 - precision: 0.5320 - recall: 0.0314\n",
            "Epoch 00072: val_accuracy improved from 0.38927 to 0.39049, saving model to tfjsmode.h5\n",
            "1965/1965 [==============================] - 96s 49ms/step - loss: 1.6476 - accuracy: 0.3445 - auc: 0.8553 - precision: 0.5320 - recall: 0.0314 - val_loss: 1.4981 - val_accuracy: 0.3905 - val_auc: 0.8847 - val_precision: 0.6120 - val_recall: 0.0423\n",
            "Epoch 73/300\n",
            "1965/1965 [==============================] - ETA: 0s - loss: 1.6452 - accuracy: 0.3466 - auc: 0.8558 - precision: 0.5226 - recall: 0.0334\n",
            "Epoch 00073: val_accuracy improved from 0.39049 to 0.39112, saving model to tfjsmode.h5\n",
            "1965/1965 [==============================] - 96s 49ms/step - loss: 1.6452 - accuracy: 0.3466 - auc: 0.8558 - precision: 0.5226 - recall: 0.0334 - val_loss: 1.5009 - val_accuracy: 0.3911 - val_auc: 0.8850 - val_precision: 0.6466 - val_recall: 0.0331\n",
            "Epoch 74/300\n",
            "1965/1965 [==============================] - ETA: 0s - loss: 1.6464 - accuracy: 0.3463 - auc: 0.8554 - precision: 0.5212 - recall: 0.0338\n",
            "Epoch 00074: val_accuracy did not improve from 0.39112\n",
            "1965/1965 [==============================] - 96s 49ms/step - loss: 1.6464 - accuracy: 0.3463 - auc: 0.8554 - precision: 0.5212 - recall: 0.0338 - val_loss: 1.4968 - val_accuracy: 0.3902 - val_auc: 0.8853 - val_precision: 0.6958 - val_recall: 0.0270\n",
            "Epoch 75/300\n",
            "1964/1965 [============================>.] - ETA: 0s - loss: 1.6471 - accuracy: 0.3473 - auc: 0.8554 - precision: 0.5234 - recall: 0.0335\n",
            "Epoch 00075: val_accuracy did not improve from 0.39112\n",
            "1965/1965 [==============================] - 97s 49ms/step - loss: 1.6471 - accuracy: 0.3473 - auc: 0.8554 - precision: 0.5234 - recall: 0.0335 - val_loss: 1.4956 - val_accuracy: 0.3905 - val_auc: 0.8852 - val_precision: 0.6838 - val_recall: 0.0324\n",
            "Epoch 76/300\n",
            "1965/1965 [==============================] - ETA: 0s - loss: 1.6437 - accuracy: 0.3479 - auc: 0.8559 - precision: 0.5321 - recall: 0.0339\n",
            "Epoch 00076: val_accuracy did not improve from 0.39112\n",
            "1965/1965 [==============================] - 97s 49ms/step - loss: 1.6437 - accuracy: 0.3479 - auc: 0.8559 - precision: 0.5321 - recall: 0.0339 - val_loss: 1.4916 - val_accuracy: 0.3909 - val_auc: 0.8862 - val_precision: 0.6302 - val_recall: 0.0376\n",
            "Epoch 77/300\n",
            "1965/1965 [==============================] - ETA: 0s - loss: 1.6390 - accuracy: 0.3513 - auc: 0.8570 - precision: 0.5260 - recall: 0.0343\n",
            "Epoch 00077: val_accuracy did not improve from 0.39112\n",
            "1965/1965 [==============================] - 96s 49ms/step - loss: 1.6390 - accuracy: 0.3513 - auc: 0.8570 - precision: 0.5260 - recall: 0.0343 - val_loss: 1.4888 - val_accuracy: 0.3895 - val_auc: 0.8862 - val_precision: 0.6355 - val_recall: 0.0410\n",
            "Epoch 78/300\n",
            "1965/1965 [==============================] - ETA: 0s - loss: 1.6413 - accuracy: 0.3482 - auc: 0.8565 - precision: 0.5324 - recall: 0.0323\n",
            "Epoch 00078: val_accuracy did not improve from 0.39112\n",
            "1965/1965 [==============================] - 96s 49ms/step - loss: 1.6413 - accuracy: 0.3482 - auc: 0.8565 - precision: 0.5324 - recall: 0.0323 - val_loss: 1.4874 - val_accuracy: 0.3894 - val_auc: 0.8865 - val_precision: 0.6543 - val_recall: 0.0375\n",
            "Epoch 79/300\n",
            "1965/1965 [==============================] - ETA: 0s - loss: 1.6387 - accuracy: 0.3475 - auc: 0.8570 - precision: 0.5295 - recall: 0.0346\n",
            "Epoch 00079: val_accuracy improved from 0.39112 to 0.39165, saving model to tfjsmode.h5\n",
            "1965/1965 [==============================] - 96s 49ms/step - loss: 1.6387 - accuracy: 0.3475 - auc: 0.8570 - precision: 0.5295 - recall: 0.0346 - val_loss: 1.4878 - val_accuracy: 0.3917 - val_auc: 0.8859 - val_precision: 0.6356 - val_recall: 0.0423\n",
            "Epoch 80/300\n",
            "1964/1965 [============================>.] - ETA: 0s - loss: 1.6337 - accuracy: 0.3510 - auc: 0.8580 - precision: 0.5305 - recall: 0.0371\n",
            "Epoch 00080: val_accuracy improved from 0.39165 to 0.39632, saving model to tfjsmode.h5\n",
            "1965/1965 [==============================] - 95s 49ms/step - loss: 1.6338 - accuracy: 0.3509 - auc: 0.8580 - precision: 0.5305 - recall: 0.0371 - val_loss: 1.4829 - val_accuracy: 0.3963 - val_auc: 0.8877 - val_precision: 0.6697 - val_recall: 0.0350\n",
            "Epoch 81/300\n",
            "1965/1965 [==============================] - ETA: 0s - loss: 1.6369 - accuracy: 0.3488 - auc: 0.8574 - precision: 0.5242 - recall: 0.0332\n",
            "Epoch 00081: val_accuracy improved from 0.39632 to 0.39733, saving model to tfjsmode.h5\n",
            "1965/1965 [==============================] - 96s 49ms/step - loss: 1.6369 - accuracy: 0.3488 - auc: 0.8574 - precision: 0.5242 - recall: 0.0332 - val_loss: 1.4775 - val_accuracy: 0.3973 - val_auc: 0.8879 - val_precision: 0.6811 - val_recall: 0.0368\n",
            "Epoch 82/300\n",
            "1965/1965 [==============================] - ETA: 0s - loss: 1.6330 - accuracy: 0.3494 - auc: 0.8582 - precision: 0.5379 - recall: 0.0354\n",
            "Epoch 00082: val_accuracy did not improve from 0.39733\n",
            "1965/1965 [==============================] - 96s 49ms/step - loss: 1.6330 - accuracy: 0.3494 - auc: 0.8582 - precision: 0.5379 - recall: 0.0354 - val_loss: 1.4801 - val_accuracy: 0.3949 - val_auc: 0.8871 - val_precision: 0.6621 - val_recall: 0.0388\n",
            "Epoch 83/300\n",
            "1964/1965 [============================>.] - ETA: 0s - loss: 1.6328 - accuracy: 0.3513 - auc: 0.8581 - precision: 0.5362 - recall: 0.0346\n",
            "Epoch 00083: val_accuracy did not improve from 0.39733\n",
            "1965/1965 [==============================] - 96s 49ms/step - loss: 1.6329 - accuracy: 0.3512 - auc: 0.8581 - precision: 0.5361 - recall: 0.0346 - val_loss: 1.4813 - val_accuracy: 0.3885 - val_auc: 0.8865 - val_precision: 0.5958 - val_recall: 0.0620\n",
            "Epoch 84/300\n",
            "1965/1965 [==============================] - ETA: 0s - loss: 1.6337 - accuracy: 0.3501 - auc: 0.8579 - precision: 0.5251 - recall: 0.0355\n",
            "Epoch 00084: val_accuracy did not improve from 0.39733\n",
            "1965/1965 [==============================] - 96s 49ms/step - loss: 1.6337 - accuracy: 0.3501 - auc: 0.8579 - precision: 0.5251 - recall: 0.0355 - val_loss: 1.4777 - val_accuracy: 0.3941 - val_auc: 0.8878 - val_precision: 0.6359 - val_recall: 0.0475\n",
            "Epoch 85/300\n",
            "1965/1965 [==============================] - ETA: 0s - loss: 1.6347 - accuracy: 0.3515 - auc: 0.8577 - precision: 0.5340 - recall: 0.0367\n",
            "Epoch 00085: val_accuracy did not improve from 0.39733\n",
            "1965/1965 [==============================] - 96s 49ms/step - loss: 1.6347 - accuracy: 0.3515 - auc: 0.8577 - precision: 0.5340 - recall: 0.0367 - val_loss: 1.4732 - val_accuracy: 0.3955 - val_auc: 0.8886 - val_precision: 0.6579 - val_recall: 0.0397\n",
            "Epoch 86/300\n",
            "1964/1965 [============================>.] - ETA: 0s - loss: 1.6314 - accuracy: 0.3520 - auc: 0.8585 - precision: 0.5238 - recall: 0.0363\n",
            "Epoch 00086: val_accuracy improved from 0.39733 to 0.39791, saving model to tfjsmode.h5\n",
            "1965/1965 [==============================] - 96s 49ms/step - loss: 1.6315 - accuracy: 0.3519 - auc: 0.8585 - precision: 0.5236 - recall: 0.0363 - val_loss: 1.4681 - val_accuracy: 0.3979 - val_auc: 0.8895 - val_precision: 0.6905 - val_recall: 0.0348\n",
            "Epoch 87/300\n",
            "1965/1965 [==============================] - ETA: 0s - loss: 1.6320 - accuracy: 0.3505 - auc: 0.8583 - precision: 0.5281 - recall: 0.0367\n",
            "Epoch 00087: val_accuracy did not improve from 0.39791\n",
            "1965/1965 [==============================] - 96s 49ms/step - loss: 1.6320 - accuracy: 0.3505 - auc: 0.8583 - precision: 0.5281 - recall: 0.0367 - val_loss: 1.4776 - val_accuracy: 0.3938 - val_auc: 0.8886 - val_precision: 0.6574 - val_recall: 0.0363\n",
            "Epoch 88/300\n",
            "1964/1965 [============================>.] - ETA: 0s - loss: 1.6282 - accuracy: 0.3529 - auc: 0.8590 - precision: 0.5309 - recall: 0.0380\n",
            "Epoch 00088: val_accuracy did not improve from 0.39791\n",
            "1965/1965 [==============================] - 96s 49ms/step - loss: 1.6283 - accuracy: 0.3529 - auc: 0.8590 - precision: 0.5308 - recall: 0.0380 - val_loss: 1.4736 - val_accuracy: 0.3932 - val_auc: 0.8877 - val_precision: 0.6308 - val_recall: 0.0429\n",
            "Epoch 89/300\n",
            "1964/1965 [============================>.] - ETA: 0s - loss: 1.6280 - accuracy: 0.3522 - auc: 0.8590 - precision: 0.5386 - recall: 0.0386\n",
            "Epoch 00089: val_accuracy did not improve from 0.39791\n",
            "1965/1965 [==============================] - 96s 49ms/step - loss: 1.6279 - accuracy: 0.3523 - auc: 0.8590 - precision: 0.5386 - recall: 0.0387 - val_loss: 1.4820 - val_accuracy: 0.3952 - val_auc: 0.8872 - val_precision: 0.6034 - val_recall: 0.0568\n",
            "Epoch 90/300\n",
            "1965/1965 [==============================] - ETA: 0s - loss: 1.6276 - accuracy: 0.3539 - auc: 0.8592 - precision: 0.5205 - recall: 0.0369\n",
            "Epoch 00090: val_accuracy did not improve from 0.39791\n",
            "1965/1965 [==============================] - 96s 49ms/step - loss: 1.6276 - accuracy: 0.3539 - auc: 0.8592 - precision: 0.5205 - recall: 0.0369 - val_loss: 1.4783 - val_accuracy: 0.3920 - val_auc: 0.8881 - val_precision: 0.6430 - val_recall: 0.0417\n",
            "Epoch 91/300\n",
            "1964/1965 [============================>.] - ETA: 0s - loss: 1.6266 - accuracy: 0.3535 - auc: 0.8593 - precision: 0.5323 - recall: 0.0379\n",
            "Epoch 00091: val_accuracy did not improve from 0.39791\n",
            "1965/1965 [==============================] - 96s 49ms/step - loss: 1.6265 - accuracy: 0.3535 - auc: 0.8593 - precision: 0.5325 - recall: 0.0379 - val_loss: 1.4714 - val_accuracy: 0.3970 - val_auc: 0.8889 - val_precision: 0.6194 - val_recall: 0.0470\n",
            "Epoch 00091: early stopping\n"
          ],
          "name": "stdout"
        }
      ]
    },
    {
      "cell_type": "code",
      "metadata": {
        "id": "PrrZbYi-jNXa",
        "outputId": "ce81b6cc-9b1d-4e9e-cda9-3d3a335a8937",
        "colab": {
          "base_uri": "https://localhost:8080/",
          "height": 388
        }
      },
      "source": [
        "plot_history(history, 'accuracy')"
      ],
      "execution_count": 28,
      "outputs": [
        {
          "output_type": "display_data",
          "data": {
            "image/png": "[encoded data removed]",
            "text/plain": [
              "<Figure size 720x432 with 1 Axes>"
            ]
          },
          "metadata": {
            "tags": [],
            "needs_background": "light"
          }
        }
      ]
    },
    {
      "cell_type": "code",
      "metadata": {
        "id": "HSWyLroRu55z",
        "outputId": "c5a32d8a-792e-4a7f-d7e1-fb89292b2537",
        "colab": {
          "base_uri": "https://localhost:8080/",
          "height": 1000
        }
      },
      "source": [
        "plot_history(history, 'precision')\n",
        "plot_history(history, 'recall')\n",
        "plot_history(history, 'auc')"
      ],
      "execution_count": 29,
      "outputs": [
        {
          "output_type": "display_data",
          "data": {
            "image/png": "[encoded data removed]",
            "text/plain": [
              "<Figure size 720x432 with 1 Axes>"
            ]
          },
          "metadata": {
            "tags": [],
            "needs_background": "light"
          }
        },
        {
          "output_type": "display_data",
          "data": {
            "image/png": "[encoded data removed]",
            "text/plain": [
              "<Figure size 720x432 with 1 Axes>"
            ]
          },
          "metadata": {
            "tags": [],
            "needs_background": "light"
          }
        },
        {
          "output_type": "display_data",
          "data": {
            "image/png": "[encoded data removed]",
            "text/plain": [
              "<Figure size 720x432 with 1 Axes>"
            ]
          },
          "metadata": {
            "tags": [],
            "needs_background": "light"
          }
        }
      ]
    },
    {
      "cell_type": "code",
      "metadata": {
        "id": "ASc2rTOkjLKY"
      },
      "source": [
        "# evaluate the model\n",
        "test_loss, test_accuracy = model.evaluate(x_test_val, y_test_val)\n",
        "evaluate_lst = list(map(lambda x: x * 100, [test_loss, test_accuracy]))\n",
        "print('\\nTest:\\nLoss: {}\\nAccuracy: {}').format(evaluate_lst[0], evaluate_lst[1])"
      ],
      "execution_count": null,
      "outputs": []
    },
    {
      "cell_type": "code",
      "metadata": {
        "id": "Ol2Q8hOXjKfr",
        "outputId": "2ca1bb6c-751b-41c4-9c5b-60ac5e95df4e",
        "colab": {
          "base_uri": "https://localhost:8080/",
          "height": 102
        }
      },
      "source": [
        "# predict\n",
        "s = 'happy'\n",
        "pred = predict(label_dict, s, model)\n",
        "print('Word: {}'.format(s))\n",
        "print('Prediction: {}'.format(pred))"
      ],
      "execution_count": 36,
      "outputs": [
        {
          "output_type": "stream",
          "text": [
            "[[7.3021336e-24 6.3415349e-02 1.4628441e-03 3.2323293e-04 5.2396455e-03\n",
            "  9.5338039e-02 8.8859446e-02 3.3848330e-01 6.9224956e-03 3.9293915e-01\n",
            "  7.0165507e-03]]\n",
            "Word: happy\n",
            "Prediction: friendly\n"
          ],
          "name": "stdout"
        }
      ]
    },
    {
      "cell_type": "code",
      "metadata": {
        "id": "Rbh8T-mrx20u"
      },
      "source": [
        "# evaluation confusion matrix\n",
        "tf.math.confusion_matrix(labels=label_dict, predictions=x_validation) # what X prediction should I use here? "
      ],
      "execution_count": null,
      "outputs": []
    },
    {
      "cell_type": "code",
      "metadata": {
        "id": "7TlxepYljOxE"
      },
      "source": [
        "# save the model\n",
        "!mkdir models\n",
        "model.save(MODEL_PATH)"
      ],
      "execution_count": null,
      "outputs": []
    },
    {
      "cell_type": "code",
      "metadata": {
        "id": "Hp7RGZe-jPDB"
      },
      "source": [
        "# convert to modeljs\n",
        "tfjs.converters.save_keras_model(model, 'tfjsmodel')"
      ],
      "execution_count": null,
      "outputs": []
    }
  ]
}