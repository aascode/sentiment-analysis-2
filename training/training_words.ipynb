{
  "nbformat": 4,
  "nbformat_minor": 0,
  "metadata": {
    "colab": {
      "name": "training_words.ipynb",
      "provenance": [],
      "collapsed_sections": [],
      "toc_visible": true,
      "machine_shape": "hm"
    },
    "kernelspec": {
      "name": "python3",
      "display_name": "Python 3"
    },
    "accelerator": "GPU"
  },
  "cells": [
    {
      "cell_type": "markdown",
      "metadata": {
        "id": "3hCJ7VTq1r-B"
      },
      "source": [
        "---\n",
        "# **Sentiment Analysis**\n",
        "---"
      ]
    },
    {
      "cell_type": "markdown",
      "metadata": {
        "id": "RrfoCSVi1uU_"
      },
      "source": [
        "---\n",
        "\n",
        "# **1. Installation**\n",
        "\n",
        "---"
      ]
    },
    {
      "cell_type": "markdown",
      "metadata": {
        "id": "jfMMl1bb1x_2"
      },
      "source": [
        "## i. Generating a reponse\n"
      ]
    },
    {
      "cell_type": "code",
      "metadata": {
        "id": "soQns5KH0mNV"
      },
      "source": [
        "import sys\n",
        "import logging\n",
        "from psutil import virtual_memory"
      ],
      "execution_count": 1,
      "outputs": []
    },
    {
      "cell_type": "code",
      "metadata": {
        "id": "WwXk46ge1zYO"
      },
      "source": [
        "gpu_info = !nvidia-smi\n",
        "gpu_info = '\\n'.join(gpu_info)\n",
        "ram_gb = virtual_memory().total / 1e9"
      ],
      "execution_count": 2,
      "outputs": []
    },
    {
      "cell_type": "code",
      "metadata": {
        "id": "AqYgi67z1zgZ"
      },
      "source": [
        "tf_response = {\n",
        "    'error': None,\n",
        "    'TF version': '',\n",
        "    'COLAB': None,\n",
        "    'GPU': False,\n",
        "    'ram_gb': ''\n",
        "}"
      ],
      "execution_count": 3,
      "outputs": []
    },
    {
      "cell_type": "code",
      "metadata": {
        "id": "CvNt2AJ51znJ",
        "outputId": "1764a403-0180-4991-82a0-6a1d2adf3adc",
        "colab": {
          "base_uri": "https://localhost:8080/",
          "height": 1000
        }
      },
      "source": [
        "try:\n",
        "    # drive\n",
        "    from google.colab import drive\n",
        "    IN_COLAB = 'google.colab' in sys.modules\n",
        "\n",
        "    # updating tensorflow version\n",
        "    %tensorflow_version 2.x\n",
        "\n",
        "    # tensorflow-gpu & tensorflowjs\n",
        "    !pip install tensorflow-gpu # !pip install tensorflow_text # I could use BERT\n",
        "    !pip install tensorflowjs\n",
        "\n",
        "    # NLP (nltk, stanza, spacy)\n",
        "    !pip install nltk \n",
        "    !pip install stanza\n",
        "    !pip install spacy\n",
        "    !spacy download en_core_web_sm # sm md lg\n",
        "    !python -m spacy download en\n",
        "except OSError as error:\n",
        "    # debugging error\n",
        "    response['error'] = logging.debug('You are not using your specify version of TensorFlow')\n",
        "    IN_COLAB = False\n",
        "\n",
        "    # install requirements\n",
        "    !pip install -r '../requirements.txt'\n",
        "finally:\n",
        "    tf_response['COLAB'] = IN_COLAB\n",
        "    \n",
        "    # Importing tensroflow core\n",
        "    import tensorflow as tf\n",
        "    import tensorflowjs as tfjs\n",
        "    from tensorflow import keras\n",
        "    from keras.utils import to_categorical\n",
        "\n",
        "    from tensorflow.keras.preprocessing.text import Tokenizer\n",
        "    from tensorflow.keras.preprocessing.sequence import pad_sequences\n",
        "\n",
        "    from tensorflow.keras.models import Sequential\n",
        "    from tensorflow.keras.layers import Dense, Flatten, LSTM, Dropout, Activation, Embedding, Bidirectional, GlobalMaxPool1D\n",
        "\n",
        "    from sklearn.model_selection import train_test_split\n",
        "    \n",
        "    # GPU and RAM response\n",
        "    if tf.config.list_physical_devices('GPU'):\n",
        "        GPU = True\n",
        "        tf_response['GPU'] = GPU\n",
        "        tf_response['TF_version'] = tf.__version__\n",
        "        \n",
        "        if tf_response['COLAB'] == True:\n",
        "            if gpu_info.find('failed') >= 0:\n",
        "                print('Select the Runtime > \"Change runtime type\" menu to enable a GPU accelerator')\n",
        "                print('Re-execute this cell.')\n",
        "            else:\n",
        "                print(gpu_info)\n",
        "            \n",
        "            if ram_gb < 20:\n",
        "                print('To enable a high-RAM runtime, select the Runtime > \"Change runtime type menu\"')\n",
        "                print('Select high-RAM in the runtime shape dropdown')\n",
        "                print('Re-execute this cell')\n",
        "                tf_response['ram_gb'] = 'low-RAM runtime'\n",
        "            else:\n",
        "                tf_response['ram_gb'] = 'high-RAM runtime'\n",
        "            print('\\nRuntime {:.2f} GB of available RAM\\n'.format(ram_gb))"
      ],
      "execution_count": 4,
      "outputs": [
        {
          "output_type": "stream",
          "text": [
            "Collecting tensorflow-gpu\n",
            "\u001b[?25l  Downloading https://files.pythonhosted.org/packages/18/99/ac32fd13d56e40d4c3e6150030132519997c0bb1f06f448d970e81b177e5/tensorflow_gpu-2.3.1-cp36-cp36m-manylinux2010_x86_64.whl (320.4MB)\n",
            "\u001b[K     |████████████████████████████████| 320.4MB 42kB/s \n",
            "\u001b[?25hRequirement already satisfied: tensorflow-estimator<2.4.0,>=2.3.0 in /usr/local/lib/python3.6/dist-packages (from tensorflow-gpu) (2.3.0)\n",
            "Requirement already satisfied: protobuf>=3.9.2 in /usr/local/lib/python3.6/dist-packages (from tensorflow-gpu) (3.12.4)\n",
            "Requirement already satisfied: tensorboard<3,>=2.3.0 in /usr/local/lib/python3.6/dist-packages (from tensorflow-gpu) (2.3.0)\n",
            "Requirement already satisfied: opt-einsum>=2.3.2 in /usr/local/lib/python3.6/dist-packages (from tensorflow-gpu) (3.3.0)\n",
            "Requirement already satisfied: h5py<2.11.0,>=2.10.0 in /usr/local/lib/python3.6/dist-packages (from tensorflow-gpu) (2.10.0)\n",
            "Requirement already satisfied: grpcio>=1.8.6 in /usr/local/lib/python3.6/dist-packages (from tensorflow-gpu) (1.32.0)\n",
            "Requirement already satisfied: wheel>=0.26 in /usr/local/lib/python3.6/dist-packages (from tensorflow-gpu) (0.35.1)\n",
            "Requirement already satisfied: google-pasta>=0.1.8 in /usr/local/lib/python3.6/dist-packages (from tensorflow-gpu) (0.2.0)\n",
            "Requirement already satisfied: wrapt>=1.11.1 in /usr/local/lib/python3.6/dist-packages (from tensorflow-gpu) (1.12.1)\n",
            "Requirement already satisfied: keras-preprocessing<1.2,>=1.1.1 in /usr/local/lib/python3.6/dist-packages (from tensorflow-gpu) (1.1.2)\n",
            "Requirement already satisfied: astunparse==1.6.3 in /usr/local/lib/python3.6/dist-packages (from tensorflow-gpu) (1.6.3)\n",
            "Requirement already satisfied: six>=1.12.0 in /usr/local/lib/python3.6/dist-packages (from tensorflow-gpu) (1.15.0)\n",
            "Requirement already satisfied: termcolor>=1.1.0 in /usr/local/lib/python3.6/dist-packages (from tensorflow-gpu) (1.1.0)\n",
            "Requirement already satisfied: numpy<1.19.0,>=1.16.0 in /usr/local/lib/python3.6/dist-packages (from tensorflow-gpu) (1.18.5)\n",
            "Requirement already satisfied: absl-py>=0.7.0 in /usr/local/lib/python3.6/dist-packages (from tensorflow-gpu) (0.10.0)\n",
            "Requirement already satisfied: gast==0.3.3 in /usr/local/lib/python3.6/dist-packages (from tensorflow-gpu) (0.3.3)\n",
            "Requirement already satisfied: setuptools in /usr/local/lib/python3.6/dist-packages (from protobuf>=3.9.2->tensorflow-gpu) (50.3.0)\n",
            "Requirement already satisfied: markdown>=2.6.8 in /usr/local/lib/python3.6/dist-packages (from tensorboard<3,>=2.3.0->tensorflow-gpu) (3.2.2)\n",
            "Requirement already satisfied: requests<3,>=2.21.0 in /usr/local/lib/python3.6/dist-packages (from tensorboard<3,>=2.3.0->tensorflow-gpu) (2.23.0)\n",
            "Requirement already satisfied: google-auth-oauthlib<0.5,>=0.4.1 in /usr/local/lib/python3.6/dist-packages (from tensorboard<3,>=2.3.0->tensorflow-gpu) (0.4.1)\n",
            "Requirement already satisfied: werkzeug>=0.11.15 in /usr/local/lib/python3.6/dist-packages (from tensorboard<3,>=2.3.0->tensorflow-gpu) (1.0.1)\n",
            "Requirement already satisfied: google-auth<2,>=1.6.3 in /usr/local/lib/python3.6/dist-packages (from tensorboard<3,>=2.3.0->tensorflow-gpu) (1.17.2)\n",
            "Requirement already satisfied: tensorboard-plugin-wit>=1.6.0 in /usr/local/lib/python3.6/dist-packages (from tensorboard<3,>=2.3.0->tensorflow-gpu) (1.7.0)\n",
            "Requirement already satisfied: importlib-metadata; python_version < \"3.8\" in /usr/local/lib/python3.6/dist-packages (from markdown>=2.6.8->tensorboard<3,>=2.3.0->tensorflow-gpu) (2.0.0)\n",
            "Requirement already satisfied: idna<3,>=2.5 in /usr/local/lib/python3.6/dist-packages (from requests<3,>=2.21.0->tensorboard<3,>=2.3.0->tensorflow-gpu) (2.10)\n",
            "Requirement already satisfied: urllib3!=1.25.0,!=1.25.1,<1.26,>=1.21.1 in /usr/local/lib/python3.6/dist-packages (from requests<3,>=2.21.0->tensorboard<3,>=2.3.0->tensorflow-gpu) (1.24.3)\n",
            "Requirement already satisfied: chardet<4,>=3.0.2 in /usr/local/lib/python3.6/dist-packages (from requests<3,>=2.21.0->tensorboard<3,>=2.3.0->tensorflow-gpu) (3.0.4)\n",
            "Requirement already satisfied: certifi>=2017.4.17 in /usr/local/lib/python3.6/dist-packages (from requests<3,>=2.21.0->tensorboard<3,>=2.3.0->tensorflow-gpu) (2020.6.20)\n",
            "Requirement already satisfied: requests-oauthlib>=0.7.0 in /usr/local/lib/python3.6/dist-packages (from google-auth-oauthlib<0.5,>=0.4.1->tensorboard<3,>=2.3.0->tensorflow-gpu) (1.3.0)\n",
            "Requirement already satisfied: rsa<5,>=3.1.4; python_version >= \"3\" in /usr/local/lib/python3.6/dist-packages (from google-auth<2,>=1.6.3->tensorboard<3,>=2.3.0->tensorflow-gpu) (4.6)\n",
            "Requirement already satisfied: pyasn1-modules>=0.2.1 in /usr/local/lib/python3.6/dist-packages (from google-auth<2,>=1.6.3->tensorboard<3,>=2.3.0->tensorflow-gpu) (0.2.8)\n",
            "Requirement already satisfied: cachetools<5.0,>=2.0.0 in /usr/local/lib/python3.6/dist-packages (from google-auth<2,>=1.6.3->tensorboard<3,>=2.3.0->tensorflow-gpu) (4.1.1)\n",
            "Requirement already satisfied: zipp>=0.5 in /usr/local/lib/python3.6/dist-packages (from importlib-metadata; python_version < \"3.8\"->markdown>=2.6.8->tensorboard<3,>=2.3.0->tensorflow-gpu) (3.2.0)\n",
            "Requirement already satisfied: oauthlib>=3.0.0 in /usr/local/lib/python3.6/dist-packages (from requests-oauthlib>=0.7.0->google-auth-oauthlib<0.5,>=0.4.1->tensorboard<3,>=2.3.0->tensorflow-gpu) (3.1.0)\n",
            "Requirement already satisfied: pyasn1>=0.1.3 in /usr/local/lib/python3.6/dist-packages (from rsa<5,>=3.1.4; python_version >= \"3\"->google-auth<2,>=1.6.3->tensorboard<3,>=2.3.0->tensorflow-gpu) (0.4.8)\n",
            "Installing collected packages: tensorflow-gpu\n",
            "Successfully installed tensorflow-gpu-2.3.1\n",
            "Collecting tensorflowjs\n",
            "\u001b[?25l  Downloading https://files.pythonhosted.org/packages/12/78/cfa27e5d15dbcc06b036cad25a8aee1c62b2fd6b91a88ecf550ad26ff0f6/tensorflowjs-2.4.0-py3-none-any.whl (61kB)\n",
            "\u001b[K     |████████████████████████████████| 61kB 4.0MB/s \n",
            "\u001b[?25hRequirement already satisfied: six>=1.12.0 in /usr/local/lib/python3.6/dist-packages (from tensorflowjs) (1.15.0)\n",
            "Requirement already satisfied: h5py>=2.8.0 in /usr/local/lib/python3.6/dist-packages (from tensorflowjs) (2.10.0)\n",
            "Collecting tensorflow-cpu<3,>=2.1.0\n",
            "\u001b[?25l  Downloading https://files.pythonhosted.org/packages/b7/1a/0dff6c8421f84b2f104adf48c8ad8b9ae5a693417868abacfab9f133c122/tensorflow_cpu-2.3.1-cp36-cp36m-manylinux2010_x86_64.whl (137.3MB)\n",
            "\u001b[K     |████████████████████████████████| 137.3MB 21kB/s \n",
            "\u001b[?25hCollecting PyInquirer==1.0.3\n",
            "  Downloading https://files.pythonhosted.org/packages/fb/4c/434b7c454010a284b49d6f1d446fe8dc5960415613d8c0225b9e2efb6724/PyInquirer-1.0.3.tar.gz\n",
            "Collecting tensorflow-hub==0.7.0\n",
            "\u001b[?25l  Downloading https://files.pythonhosted.org/packages/00/0e/a91780d07592b1abf9c91344ce459472cc19db3b67fdf3a61dca6ebb2f5c/tensorflow_hub-0.7.0-py2.py3-none-any.whl (89kB)\n",
            "\u001b[K     |████████████████████████████████| 92kB 12.4MB/s \n",
            "\u001b[?25hRequirement already satisfied: numpy<1.19.0,>=1.16.4 in /usr/local/lib/python3.6/dist-packages (from tensorflowjs) (1.18.5)\n",
            "Requirement already satisfied: opt-einsum>=2.3.2 in /usr/local/lib/python3.6/dist-packages (from tensorflow-cpu<3,>=2.1.0->tensorflowjs) (3.3.0)\n",
            "Requirement already satisfied: termcolor>=1.1.0 in /usr/local/lib/python3.6/dist-packages (from tensorflow-cpu<3,>=2.1.0->tensorflowjs) (1.1.0)\n",
            "Requirement already satisfied: astunparse==1.6.3 in /usr/local/lib/python3.6/dist-packages (from tensorflow-cpu<3,>=2.1.0->tensorflowjs) (1.6.3)\n",
            "Requirement already satisfied: tensorflow-estimator<2.4.0,>=2.3.0 in /usr/local/lib/python3.6/dist-packages (from tensorflow-cpu<3,>=2.1.0->tensorflowjs) (2.3.0)\n",
            "Requirement already satisfied: absl-py>=0.7.0 in /usr/local/lib/python3.6/dist-packages (from tensorflow-cpu<3,>=2.1.0->tensorflowjs) (0.10.0)\n",
            "Requirement already satisfied: protobuf>=3.9.2 in /usr/local/lib/python3.6/dist-packages (from tensorflow-cpu<3,>=2.1.0->tensorflowjs) (3.12.4)\n",
            "Requirement already satisfied: grpcio>=1.8.6 in /usr/local/lib/python3.6/dist-packages (from tensorflow-cpu<3,>=2.1.0->tensorflowjs) (1.32.0)\n",
            "Requirement already satisfied: google-pasta>=0.1.8 in /usr/local/lib/python3.6/dist-packages (from tensorflow-cpu<3,>=2.1.0->tensorflowjs) (0.2.0)\n",
            "Requirement already satisfied: keras-preprocessing<1.2,>=1.1.1 in /usr/local/lib/python3.6/dist-packages (from tensorflow-cpu<3,>=2.1.0->tensorflowjs) (1.1.2)\n",
            "Requirement already satisfied: tensorboard<3,>=2.3.0 in /usr/local/lib/python3.6/dist-packages (from tensorflow-cpu<3,>=2.1.0->tensorflowjs) (2.3.0)\n",
            "Requirement already satisfied: wrapt>=1.11.1 in /usr/local/lib/python3.6/dist-packages (from tensorflow-cpu<3,>=2.1.0->tensorflowjs) (1.12.1)\n",
            "Requirement already satisfied: wheel>=0.26 in /usr/local/lib/python3.6/dist-packages (from tensorflow-cpu<3,>=2.1.0->tensorflowjs) (0.35.1)\n",
            "Requirement already satisfied: gast==0.3.3 in /usr/local/lib/python3.6/dist-packages (from tensorflow-cpu<3,>=2.1.0->tensorflowjs) (0.3.3)\n",
            "Collecting prompt_toolkit==1.0.14\n",
            "\u001b[?25l  Downloading https://files.pythonhosted.org/packages/ee/3d/b25d35a9f0d381dd1c02d8e04b37c353caaaff4bc32150328eeebe4931f5/prompt_toolkit-1.0.14-py3-none-any.whl (248kB)\n",
            "\u001b[K     |████████████████████████████████| 256kB 50.4MB/s \n",
            "\u001b[?25hRequirement already satisfied: Pygments>=2.2.0 in /usr/local/lib/python3.6/dist-packages (from PyInquirer==1.0.3->tensorflowjs) (2.6.1)\n",
            "Requirement already satisfied: regex>=2016.11.21 in /usr/local/lib/python3.6/dist-packages (from PyInquirer==1.0.3->tensorflowjs) (2019.12.20)\n",
            "Requirement already satisfied: setuptools in /usr/local/lib/python3.6/dist-packages (from protobuf>=3.9.2->tensorflow-cpu<3,>=2.1.0->tensorflowjs) (50.3.0)\n",
            "Requirement already satisfied: tensorboard-plugin-wit>=1.6.0 in /usr/local/lib/python3.6/dist-packages (from tensorboard<3,>=2.3.0->tensorflow-cpu<3,>=2.1.0->tensorflowjs) (1.7.0)\n",
            "Requirement already satisfied: google-auth<2,>=1.6.3 in /usr/local/lib/python3.6/dist-packages (from tensorboard<3,>=2.3.0->tensorflow-cpu<3,>=2.1.0->tensorflowjs) (1.17.2)\n",
            "Requirement already satisfied: markdown>=2.6.8 in /usr/local/lib/python3.6/dist-packages (from tensorboard<3,>=2.3.0->tensorflow-cpu<3,>=2.1.0->tensorflowjs) (3.2.2)\n",
            "Requirement already satisfied: requests<3,>=2.21.0 in /usr/local/lib/python3.6/dist-packages (from tensorboard<3,>=2.3.0->tensorflow-cpu<3,>=2.1.0->tensorflowjs) (2.23.0)\n",
            "Requirement already satisfied: werkzeug>=0.11.15 in /usr/local/lib/python3.6/dist-packages (from tensorboard<3,>=2.3.0->tensorflow-cpu<3,>=2.1.0->tensorflowjs) (1.0.1)\n",
            "Requirement already satisfied: google-auth-oauthlib<0.5,>=0.4.1 in /usr/local/lib/python3.6/dist-packages (from tensorboard<3,>=2.3.0->tensorflow-cpu<3,>=2.1.0->tensorflowjs) (0.4.1)\n",
            "Requirement already satisfied: wcwidth in /usr/local/lib/python3.6/dist-packages (from prompt_toolkit==1.0.14->PyInquirer==1.0.3->tensorflowjs) (0.2.5)\n",
            "Requirement already satisfied: cachetools<5.0,>=2.0.0 in /usr/local/lib/python3.6/dist-packages (from google-auth<2,>=1.6.3->tensorboard<3,>=2.3.0->tensorflow-cpu<3,>=2.1.0->tensorflowjs) (4.1.1)\n",
            "Requirement already satisfied: rsa<5,>=3.1.4; python_version >= \"3\" in /usr/local/lib/python3.6/dist-packages (from google-auth<2,>=1.6.3->tensorboard<3,>=2.3.0->tensorflow-cpu<3,>=2.1.0->tensorflowjs) (4.6)\n",
            "Requirement already satisfied: pyasn1-modules>=0.2.1 in /usr/local/lib/python3.6/dist-packages (from google-auth<2,>=1.6.3->tensorboard<3,>=2.3.0->tensorflow-cpu<3,>=2.1.0->tensorflowjs) (0.2.8)\n",
            "Requirement already satisfied: importlib-metadata; python_version < \"3.8\" in /usr/local/lib/python3.6/dist-packages (from markdown>=2.6.8->tensorboard<3,>=2.3.0->tensorflow-cpu<3,>=2.1.0->tensorflowjs) (2.0.0)\n",
            "Requirement already satisfied: idna<3,>=2.5 in /usr/local/lib/python3.6/dist-packages (from requests<3,>=2.21.0->tensorboard<3,>=2.3.0->tensorflow-cpu<3,>=2.1.0->tensorflowjs) (2.10)\n",
            "Requirement already satisfied: urllib3!=1.25.0,!=1.25.1,<1.26,>=1.21.1 in /usr/local/lib/python3.6/dist-packages (from requests<3,>=2.21.0->tensorboard<3,>=2.3.0->tensorflow-cpu<3,>=2.1.0->tensorflowjs) (1.24.3)\n",
            "Requirement already satisfied: chardet<4,>=3.0.2 in /usr/local/lib/python3.6/dist-packages (from requests<3,>=2.21.0->tensorboard<3,>=2.3.0->tensorflow-cpu<3,>=2.1.0->tensorflowjs) (3.0.4)\n",
            "Requirement already satisfied: certifi>=2017.4.17 in /usr/local/lib/python3.6/dist-packages (from requests<3,>=2.21.0->tensorboard<3,>=2.3.0->tensorflow-cpu<3,>=2.1.0->tensorflowjs) (2020.6.20)\n",
            "Requirement already satisfied: requests-oauthlib>=0.7.0 in /usr/local/lib/python3.6/dist-packages (from google-auth-oauthlib<0.5,>=0.4.1->tensorboard<3,>=2.3.0->tensorflow-cpu<3,>=2.1.0->tensorflowjs) (1.3.0)\n",
            "Requirement already satisfied: pyasn1>=0.1.3 in /usr/local/lib/python3.6/dist-packages (from rsa<5,>=3.1.4; python_version >= \"3\"->google-auth<2,>=1.6.3->tensorboard<3,>=2.3.0->tensorflow-cpu<3,>=2.1.0->tensorflowjs) (0.4.8)\n",
            "Requirement already satisfied: zipp>=0.5 in /usr/local/lib/python3.6/dist-packages (from importlib-metadata; python_version < \"3.8\"->markdown>=2.6.8->tensorboard<3,>=2.3.0->tensorflow-cpu<3,>=2.1.0->tensorflowjs) (3.2.0)\n",
            "Requirement already satisfied: oauthlib>=3.0.0 in /usr/local/lib/python3.6/dist-packages (from requests-oauthlib>=0.7.0->google-auth-oauthlib<0.5,>=0.4.1->tensorboard<3,>=2.3.0->tensorflow-cpu<3,>=2.1.0->tensorflowjs) (3.1.0)\n",
            "Building wheels for collected packages: PyInquirer\n",
            "  Building wheel for PyInquirer (setup.py) ... \u001b[?25l\u001b[?25hdone\n",
            "  Created wheel for PyInquirer: filename=PyInquirer-1.0.3-cp36-none-any.whl size=32852 sha256=14ece4767557dd782f03c939ed07889b9d24866e904b060dc82d098002bda7b6\n",
            "  Stored in directory: /root/.cache/pip/wheels/52/6c/b1/3e4b0e8daf42a92883c7641c0ea8ffb62e0490ebed2faa55ad\n",
            "Successfully built PyInquirer\n",
            "Installing collected packages: tensorflow-cpu, prompt-toolkit, PyInquirer, tensorflow-hub, tensorflowjs\n",
            "  Found existing installation: prompt-toolkit 1.0.18\n",
            "    Uninstalling prompt-toolkit-1.0.18:\n",
            "      Successfully uninstalled prompt-toolkit-1.0.18\n",
            "  Found existing installation: tensorflow-hub 0.9.0\n",
            "    Uninstalling tensorflow-hub-0.9.0:\n",
            "      Successfully uninstalled tensorflow-hub-0.9.0\n",
            "Successfully installed PyInquirer-1.0.3 prompt-toolkit-1.0.14 tensorflow-cpu-2.3.1 tensorflow-hub-0.7.0 tensorflowjs-2.4.0\n"
          ],
          "name": "stdout"
        },
        {
          "output_type": "display_data",
          "data": {
            "application/vnd.colab-display-data+json": {
              "pip_warning": {
                "packages": [
                  "prompt_toolkit"
                ]
              }
            }
          },
          "metadata": {
            "tags": []
          }
        },
        {
          "output_type": "stream",
          "text": [
            "Requirement already satisfied: nltk in /usr/local/lib/python3.6/dist-packages (3.2.5)\n",
            "Requirement already satisfied: six in /usr/local/lib/python3.6/dist-packages (from nltk) (1.15.0)\n",
            "Collecting stanza\n",
            "\u001b[?25l  Downloading https://files.pythonhosted.org/packages/e7/8b/3a9e7a8d8cb14ad6afffc3983b7a7322a3a24d94ebc978a70746fcffc085/stanza-1.1.1-py3-none-any.whl (227kB)\n",
            "\u001b[K     |████████████████████████████████| 235kB 6.0MB/s \n",
            "\u001b[?25hRequirement already satisfied: numpy in /usr/local/lib/python3.6/dist-packages (from stanza) (1.18.5)\n",
            "Requirement already satisfied: tqdm in /usr/local/lib/python3.6/dist-packages (from stanza) (4.41.1)\n",
            "Requirement already satisfied: protobuf in /usr/local/lib/python3.6/dist-packages (from stanza) (3.12.4)\n",
            "Requirement already satisfied: requests in /usr/local/lib/python3.6/dist-packages (from stanza) (2.23.0)\n",
            "Requirement already satisfied: torch>=1.3.0 in /usr/local/lib/python3.6/dist-packages (from stanza) (1.6.0+cu101)\n",
            "Requirement already satisfied: six>=1.9 in /usr/local/lib/python3.6/dist-packages (from protobuf->stanza) (1.15.0)\n",
            "Requirement already satisfied: setuptools in /usr/local/lib/python3.6/dist-packages (from protobuf->stanza) (50.3.0)\n",
            "Requirement already satisfied: idna<3,>=2.5 in /usr/local/lib/python3.6/dist-packages (from requests->stanza) (2.10)\n",
            "Requirement already satisfied: chardet<4,>=3.0.2 in /usr/local/lib/python3.6/dist-packages (from requests->stanza) (3.0.4)\n",
            "Requirement already satisfied: certifi>=2017.4.17 in /usr/local/lib/python3.6/dist-packages (from requests->stanza) (2020.6.20)\n",
            "Requirement already satisfied: urllib3!=1.25.0,!=1.25.1,<1.26,>=1.21.1 in /usr/local/lib/python3.6/dist-packages (from requests->stanza) (1.24.3)\n",
            "Requirement already satisfied: future in /usr/local/lib/python3.6/dist-packages (from torch>=1.3.0->stanza) (0.16.0)\n",
            "Installing collected packages: stanza\n",
            "Successfully installed stanza-1.1.1\n",
            "Requirement already satisfied: spacy in /usr/local/lib/python3.6/dist-packages (2.2.4)\n",
            "Requirement already satisfied: murmurhash<1.1.0,>=0.28.0 in /usr/local/lib/python3.6/dist-packages (from spacy) (1.0.2)\n",
            "Requirement already satisfied: srsly<1.1.0,>=1.0.2 in /usr/local/lib/python3.6/dist-packages (from spacy) (1.0.2)\n",
            "Requirement already satisfied: plac<1.2.0,>=0.9.6 in /usr/local/lib/python3.6/dist-packages (from spacy) (1.1.3)\n",
            "Requirement already satisfied: blis<0.5.0,>=0.4.0 in /usr/local/lib/python3.6/dist-packages (from spacy) (0.4.1)\n",
            "Requirement already satisfied: catalogue<1.1.0,>=0.0.7 in /usr/local/lib/python3.6/dist-packages (from spacy) (1.0.0)\n",
            "Requirement already satisfied: tqdm<5.0.0,>=4.38.0 in /usr/local/lib/python3.6/dist-packages (from spacy) (4.41.1)\n",
            "Requirement already satisfied: requests<3.0.0,>=2.13.0 in /usr/local/lib/python3.6/dist-packages (from spacy) (2.23.0)\n",
            "Requirement already satisfied: cymem<2.1.0,>=2.0.2 in /usr/local/lib/python3.6/dist-packages (from spacy) (2.0.3)\n",
            "Requirement already satisfied: numpy>=1.15.0 in /usr/local/lib/python3.6/dist-packages (from spacy) (1.18.5)\n",
            "Requirement already satisfied: setuptools in /usr/local/lib/python3.6/dist-packages (from spacy) (50.3.0)\n",
            "Requirement already satisfied: preshed<3.1.0,>=3.0.2 in /usr/local/lib/python3.6/dist-packages (from spacy) (3.0.2)\n",
            "Requirement already satisfied: thinc==7.4.0 in /usr/local/lib/python3.6/dist-packages (from spacy) (7.4.0)\n",
            "Requirement already satisfied: wasabi<1.1.0,>=0.4.0 in /usr/local/lib/python3.6/dist-packages (from spacy) (0.8.0)\n",
            "Requirement already satisfied: importlib-metadata>=0.20; python_version < \"3.8\" in /usr/local/lib/python3.6/dist-packages (from catalogue<1.1.0,>=0.0.7->spacy) (2.0.0)\n",
            "Requirement already satisfied: idna<3,>=2.5 in /usr/local/lib/python3.6/dist-packages (from requests<3.0.0,>=2.13.0->spacy) (2.10)\n",
            "Requirement already satisfied: chardet<4,>=3.0.2 in /usr/local/lib/python3.6/dist-packages (from requests<3.0.0,>=2.13.0->spacy) (3.0.4)\n",
            "Requirement already satisfied: urllib3!=1.25.0,!=1.25.1,<1.26,>=1.21.1 in /usr/local/lib/python3.6/dist-packages (from requests<3.0.0,>=2.13.0->spacy) (1.24.3)\n",
            "Requirement already satisfied: certifi>=2017.4.17 in /usr/local/lib/python3.6/dist-packages (from requests<3.0.0,>=2.13.0->spacy) (2020.6.20)\n",
            "Requirement already satisfied: zipp>=0.5 in /usr/local/lib/python3.6/dist-packages (from importlib-metadata>=0.20; python_version < \"3.8\"->catalogue<1.1.0,>=0.0.7->spacy) (3.2.0)\n",
            "Requirement already satisfied: en_core_web_sm==2.2.5 from https://github.com/explosion/spacy-models/releases/download/en_core_web_sm-2.2.5/en_core_web_sm-2.2.5.tar.gz#egg=en_core_web_sm==2.2.5 in /usr/local/lib/python3.6/dist-packages (2.2.5)\n",
            "Requirement already satisfied: spacy>=2.2.2 in /usr/local/lib/python3.6/dist-packages (from en_core_web_sm==2.2.5) (2.2.4)\n",
            "Requirement already satisfied: cymem<2.1.0,>=2.0.2 in /usr/local/lib/python3.6/dist-packages (from spacy>=2.2.2->en_core_web_sm==2.2.5) (2.0.3)\n",
            "Requirement already satisfied: blis<0.5.0,>=0.4.0 in /usr/local/lib/python3.6/dist-packages (from spacy>=2.2.2->en_core_web_sm==2.2.5) (0.4.1)\n",
            "Requirement already satisfied: preshed<3.1.0,>=3.0.2 in /usr/local/lib/python3.6/dist-packages (from spacy>=2.2.2->en_core_web_sm==2.2.5) (3.0.2)\n",
            "Requirement already satisfied: wasabi<1.1.0,>=0.4.0 in /usr/local/lib/python3.6/dist-packages (from spacy>=2.2.2->en_core_web_sm==2.2.5) (0.8.0)\n",
            "Requirement already satisfied: plac<1.2.0,>=0.9.6 in /usr/local/lib/python3.6/dist-packages (from spacy>=2.2.2->en_core_web_sm==2.2.5) (1.1.3)\n",
            "Requirement already satisfied: murmurhash<1.1.0,>=0.28.0 in /usr/local/lib/python3.6/dist-packages (from spacy>=2.2.2->en_core_web_sm==2.2.5) (1.0.2)\n",
            "Requirement already satisfied: catalogue<1.1.0,>=0.0.7 in /usr/local/lib/python3.6/dist-packages (from spacy>=2.2.2->en_core_web_sm==2.2.5) (1.0.0)\n",
            "Requirement already satisfied: thinc==7.4.0 in /usr/local/lib/python3.6/dist-packages (from spacy>=2.2.2->en_core_web_sm==2.2.5) (7.4.0)\n",
            "Requirement already satisfied: srsly<1.1.0,>=1.0.2 in /usr/local/lib/python3.6/dist-packages (from spacy>=2.2.2->en_core_web_sm==2.2.5) (1.0.2)\n",
            "Requirement already satisfied: requests<3.0.0,>=2.13.0 in /usr/local/lib/python3.6/dist-packages (from spacy>=2.2.2->en_core_web_sm==2.2.5) (2.23.0)\n",
            "Requirement already satisfied: numpy>=1.15.0 in /usr/local/lib/python3.6/dist-packages (from spacy>=2.2.2->en_core_web_sm==2.2.5) (1.18.5)\n",
            "Requirement already satisfied: tqdm<5.0.0,>=4.38.0 in /usr/local/lib/python3.6/dist-packages (from spacy>=2.2.2->en_core_web_sm==2.2.5) (4.41.1)\n",
            "Requirement already satisfied: setuptools in /usr/local/lib/python3.6/dist-packages (from spacy>=2.2.2->en_core_web_sm==2.2.5) (50.3.0)\n",
            "Requirement already satisfied: importlib-metadata>=0.20; python_version < \"3.8\" in /usr/local/lib/python3.6/dist-packages (from catalogue<1.1.0,>=0.0.7->spacy>=2.2.2->en_core_web_sm==2.2.5) (2.0.0)\n",
            "Requirement already satisfied: urllib3!=1.25.0,!=1.25.1,<1.26,>=1.21.1 in /usr/local/lib/python3.6/dist-packages (from requests<3.0.0,>=2.13.0->spacy>=2.2.2->en_core_web_sm==2.2.5) (1.24.3)\n",
            "Requirement already satisfied: certifi>=2017.4.17 in /usr/local/lib/python3.6/dist-packages (from requests<3.0.0,>=2.13.0->spacy>=2.2.2->en_core_web_sm==2.2.5) (2020.6.20)\n",
            "Requirement already satisfied: idna<3,>=2.5 in /usr/local/lib/python3.6/dist-packages (from requests<3.0.0,>=2.13.0->spacy>=2.2.2->en_core_web_sm==2.2.5) (2.10)\n",
            "Requirement already satisfied: chardet<4,>=3.0.2 in /usr/local/lib/python3.6/dist-packages (from requests<3.0.0,>=2.13.0->spacy>=2.2.2->en_core_web_sm==2.2.5) (3.0.4)\n",
            "Requirement already satisfied: zipp>=0.5 in /usr/local/lib/python3.6/dist-packages (from importlib-metadata>=0.20; python_version < \"3.8\"->catalogue<1.1.0,>=0.0.7->spacy>=2.2.2->en_core_web_sm==2.2.5) (3.2.0)\n",
            "\u001b[38;5;2m✔ Download and installation successful\u001b[0m\n",
            "You can now load the model via spacy.load('en_core_web_sm')\n",
            "Requirement already satisfied: en_core_web_sm==2.2.5 from https://github.com/explosion/spacy-models/releases/download/en_core_web_sm-2.2.5/en_core_web_sm-2.2.5.tar.gz#egg=en_core_web_sm==2.2.5 in /usr/local/lib/python3.6/dist-packages (2.2.5)\n",
            "Requirement already satisfied: spacy>=2.2.2 in /usr/local/lib/python3.6/dist-packages (from en_core_web_sm==2.2.5) (2.2.4)\n",
            "Requirement already satisfied: catalogue<1.1.0,>=0.0.7 in /usr/local/lib/python3.6/dist-packages (from spacy>=2.2.2->en_core_web_sm==2.2.5) (1.0.0)\n",
            "Requirement already satisfied: murmurhash<1.1.0,>=0.28.0 in /usr/local/lib/python3.6/dist-packages (from spacy>=2.2.2->en_core_web_sm==2.2.5) (1.0.2)\n",
            "Requirement already satisfied: srsly<1.1.0,>=1.0.2 in /usr/local/lib/python3.6/dist-packages (from spacy>=2.2.2->en_core_web_sm==2.2.5) (1.0.2)\n",
            "Requirement already satisfied: numpy>=1.15.0 in /usr/local/lib/python3.6/dist-packages (from spacy>=2.2.2->en_core_web_sm==2.2.5) (1.18.5)\n",
            "Requirement already satisfied: blis<0.5.0,>=0.4.0 in /usr/local/lib/python3.6/dist-packages (from spacy>=2.2.2->en_core_web_sm==2.2.5) (0.4.1)\n",
            "Requirement already satisfied: cymem<2.1.0,>=2.0.2 in /usr/local/lib/python3.6/dist-packages (from spacy>=2.2.2->en_core_web_sm==2.2.5) (2.0.3)\n",
            "Requirement already satisfied: plac<1.2.0,>=0.9.6 in /usr/local/lib/python3.6/dist-packages (from spacy>=2.2.2->en_core_web_sm==2.2.5) (1.1.3)\n",
            "Requirement already satisfied: thinc==7.4.0 in /usr/local/lib/python3.6/dist-packages (from spacy>=2.2.2->en_core_web_sm==2.2.5) (7.4.0)\n",
            "Requirement already satisfied: preshed<3.1.0,>=3.0.2 in /usr/local/lib/python3.6/dist-packages (from spacy>=2.2.2->en_core_web_sm==2.2.5) (3.0.2)\n",
            "Requirement already satisfied: tqdm<5.0.0,>=4.38.0 in /usr/local/lib/python3.6/dist-packages (from spacy>=2.2.2->en_core_web_sm==2.2.5) (4.41.1)\n",
            "Requirement already satisfied: wasabi<1.1.0,>=0.4.0 in /usr/local/lib/python3.6/dist-packages (from spacy>=2.2.2->en_core_web_sm==2.2.5) (0.8.0)\n",
            "Requirement already satisfied: requests<3.0.0,>=2.13.0 in /usr/local/lib/python3.6/dist-packages (from spacy>=2.2.2->en_core_web_sm==2.2.5) (2.23.0)\n",
            "Requirement already satisfied: setuptools in /usr/local/lib/python3.6/dist-packages (from spacy>=2.2.2->en_core_web_sm==2.2.5) (50.3.0)\n",
            "Requirement already satisfied: importlib-metadata>=0.20; python_version < \"3.8\" in /usr/local/lib/python3.6/dist-packages (from catalogue<1.1.0,>=0.0.7->spacy>=2.2.2->en_core_web_sm==2.2.5) (2.0.0)\n",
            "Requirement already satisfied: certifi>=2017.4.17 in /usr/local/lib/python3.6/dist-packages (from requests<3.0.0,>=2.13.0->spacy>=2.2.2->en_core_web_sm==2.2.5) (2020.6.20)\n",
            "Requirement already satisfied: idna<3,>=2.5 in /usr/local/lib/python3.6/dist-packages (from requests<3.0.0,>=2.13.0->spacy>=2.2.2->en_core_web_sm==2.2.5) (2.10)\n",
            "Requirement already satisfied: urllib3!=1.25.0,!=1.25.1,<1.26,>=1.21.1 in /usr/local/lib/python3.6/dist-packages (from requests<3.0.0,>=2.13.0->spacy>=2.2.2->en_core_web_sm==2.2.5) (1.24.3)\n",
            "Requirement already satisfied: chardet<4,>=3.0.2 in /usr/local/lib/python3.6/dist-packages (from requests<3.0.0,>=2.13.0->spacy>=2.2.2->en_core_web_sm==2.2.5) (3.0.4)\n",
            "Requirement already satisfied: zipp>=0.5 in /usr/local/lib/python3.6/dist-packages (from importlib-metadata>=0.20; python_version < \"3.8\"->catalogue<1.1.0,>=0.0.7->spacy>=2.2.2->en_core_web_sm==2.2.5) (3.2.0)\n",
            "\u001b[38;5;2m✔ Download and installation successful\u001b[0m\n",
            "You can now load the model via spacy.load('en_core_web_sm')\n",
            "\u001b[38;5;2m✔ Linking successful\u001b[0m\n",
            "/usr/local/lib/python3.6/dist-packages/en_core_web_sm -->\n",
            "/usr/local/lib/python3.6/dist-packages/spacy/data/en\n",
            "You can now load the model via spacy.load('en')\n"
          ],
          "name": "stdout"
        }
      ]
    },
    {
      "cell_type": "code",
      "metadata": {
        "id": "ye99iKv617qQ",
        "outputId": "64d80a6d-d6bf-4dfc-d662-9d8ad2cf7a2c",
        "colab": {
          "base_uri": "https://localhost:8080/",
          "height": 34
        }
      },
      "source": [
        "tf_response"
      ],
      "execution_count": 5,
      "outputs": [
        {
          "output_type": "execute_result",
          "data": {
            "text/plain": [
              "{'COLAB': True, 'GPU': False, 'TF version': '', 'error': None, 'ram_gb': ''}"
            ]
          },
          "metadata": {
            "tags": []
          },
          "execution_count": 5
        }
      ]
    },
    {
      "cell_type": "markdown",
      "metadata": {
        "id": "IFNjTuvU1_C_"
      },
      "source": [
        "## ii. Importing modules\n"
      ]
    },
    {
      "cell_type": "code",
      "metadata": {
        "id": "OIh873U819qU"
      },
      "source": [
        "# Data analysis\n",
        "from collections import Counter\n",
        "import matplotlib.pyplot as plt\n",
        "import pandas as pd\n",
        "import numpy as np\n",
        "import sys\n",
        "import re\n",
        "\n",
        "%matplotlib inline\n",
        "\n",
        "# Image\n",
        "from wordcloud import WordCloud, STOPWORDS, ImageColorGenerator # to create a Word Cloud\n",
        "from PIL import Image # Pillow with WordCloud to image manipulation"
      ],
      "execution_count": 6,
      "outputs": []
    },
    {
      "cell_type": "code",
      "metadata": {
        "id": "6lhfhNt72CLr",
        "outputId": "802d0a89-0803-4a4d-e093-dba2e4833f22",
        "colab": {
          "base_uri": "https://localhost:8080/",
          "height": 85
        }
      },
      "source": [
        "# nltk\n",
        "import nltk\n",
        "from nltk.corpus import stopwords\n",
        "from nltk.stem import WordNetLemmatizer\n",
        "\n",
        "nltk.download('stopwords')\n",
        "nltk.download('wordnet')\n",
        "\n",
        "STOPWORDS = set(stopwords.words('english'))"
      ],
      "execution_count": 7,
      "outputs": [
        {
          "output_type": "stream",
          "text": [
            "[nltk_data] Downloading package stopwords to /root/nltk_data...\n",
            "[nltk_data]   Unzipping corpora/stopwords.zip.\n",
            "[nltk_data] Downloading package wordnet to /root/nltk_data...\n",
            "[nltk_data]   Unzipping corpora/wordnet.zip.\n"
          ],
          "name": "stdout"
        }
      ]
    },
    {
      "cell_type": "code",
      "metadata": {
        "id": "T82WGVnN2EwF",
        "outputId": "65f90c9a-e5a9-49b9-c828-f1ccb5a88f84",
        "colab": {
          "base_uri": "https://localhost:8080/",
          "height": 561
        }
      },
      "source": [
        "# Stanza NLP\n",
        "import stanza\n",
        "\n",
        "stanza.download('en', package='ewt', processors='tokenize,mwt,pos,lemma', verbose=True)\n",
        "stNLP = stanza.Pipeline(processors='tokenize,mwt,pos,lemma',\n",
        "                      lang='en',\n",
        "                      use_gpu=True)"
      ],
      "execution_count": 8,
      "outputs": [
        {
          "output_type": "stream",
          "text": [
            "Downloading https://raw.githubusercontent.com/stanfordnlp/stanza-resources/master/resources_1.1.0.json: 122kB [00:00, 35.6MB/s]                    \n",
            "2020-10-03 02:19:28 WARNING: Can not find mwt: ewt from official model list. Ignoring it.\n",
            "2020-10-03 02:19:28 INFO: Downloading these customized packages for language: en (English)...\n",
            "=======================\n",
            "| Processor | Package |\n",
            "-----------------------\n",
            "| tokenize  | ewt     |\n",
            "| pos       | ewt     |\n",
            "| lemma     | ewt     |\n",
            "| pretrain  | ewt     |\n",
            "=======================\n",
            "\n",
            "Downloading http://nlp.stanford.edu/software/stanza/1.1.0/en/tokenize/ewt.pt: 100%|██████████| 631k/631k [00:01<00:00, 336kB/s]\n",
            "Downloading http://nlp.stanford.edu/software/stanza/1.1.0/en/pos/ewt.pt: 100%|██████████| 22.1M/22.1M [00:05<00:00, 4.27MB/s]\n",
            "Downloading http://nlp.stanford.edu/software/stanza/1.1.0/en/lemma/ewt.pt: 100%|██████████| 3.36M/3.36M [00:05<00:00, 612kB/s]\n",
            "Downloading http://nlp.stanford.edu/software/stanza/1.1.0/en/pretrain/ewt.pt: 100%|██████████| 156M/156M [00:44<00:00, 3.53MB/s]\n",
            "2020-10-03 02:20:32 INFO: Finished downloading models and saved to /root/stanza_resources.\n",
            "2020-10-03 02:20:32 WARNING: Can not find mwt: default from official model list. Ignoring it.\n",
            "2020-10-03 02:20:32 INFO: Loading these models for language: en (English):\n",
            "=======================\n",
            "| Processor | Package |\n",
            "-----------------------\n",
            "| tokenize  | ewt     |\n",
            "| pos       | ewt     |\n",
            "| lemma     | ewt     |\n",
            "=======================\n",
            "\n",
            "2020-10-03 02:20:32 INFO: Use device: gpu\n",
            "2020-10-03 02:20:32 INFO: Loading: tokenize\n",
            "2020-10-03 02:20:42 INFO: Loading: pos\n",
            "2020-10-03 02:20:43 INFO: Loading: lemma\n",
            "2020-10-03 02:20:43 INFO: Done loading processors!\n"
          ],
          "name": "stderr"
        }
      ]
    },
    {
      "cell_type": "code",
      "metadata": {
        "id": "9236VgMj2Gwg",
        "outputId": "a46e5268-a5dc-4007-b632-fd12e7a3bc4f",
        "colab": {
          "base_uri": "https://localhost:8080/",
          "height": 136
        }
      },
      "source": [
        "# testing stanza\n",
        "doc = stNLP('Barack Obama was born in Hawai.')\n",
        "print(*[f'word: {word.text+\" \"}\\tlemma: {word.lemma}' for sent in doc.sentences for word in sent.words], sep='\\n')"
      ],
      "execution_count": 9,
      "outputs": [
        {
          "output_type": "stream",
          "text": [
            "word: Barack \tlemma: Barack\n",
            "word: Obama \tlemma: Obama\n",
            "word: was \tlemma: be\n",
            "word: born \tlemma: bear\n",
            "word: in \tlemma: in\n",
            "word: Hawai \tlemma: Hawai\n",
            "word: . \tlemma: .\n"
          ],
          "name": "stdout"
        }
      ]
    },
    {
      "cell_type": "code",
      "metadata": {
        "id": "-4QpRgR02IDL"
      },
      "source": [
        "# Spacy NLP\n",
        "import spacy\n",
        "spNLP = spacy.load('en_core_web_sm')\n",
        "spNLP.max_length = 103950039 # or higher\n",
        "# spacy.prefer_gpu() #will not work with stanza"
      ],
      "execution_count": 10,
      "outputs": []
    },
    {
      "cell_type": "markdown",
      "metadata": {
        "id": "x6iiQVT42Jo3"
      },
      "source": [
        "\n",
        "---\n",
        "\n",
        "# **2. Hyperparameters**\n",
        "\n",
        "---"
      ]
    },
    {
      "cell_type": "code",
      "metadata": {
        "id": "hIpxO61l0gcD"
      },
      "source": [
        "FILE = 'datasets/categories_dataset.csv'\n",
        "MODEL_PATH = './models/model.h5'"
      ],
      "execution_count": 11,
      "outputs": []
    },
    {
      "cell_type": "code",
      "metadata": {
        "id": "KUv__06r2LOQ"
      },
      "source": [
        "EPOCHS = 30\n",
        "BATCH_SIZE = 32\n",
        "\n",
        "training_portion = .8\n",
        "rnn_units = 64\n",
        "\n",
        "# embedding_dim : len(words) + 1\n",
        "# vocab_size : len(words.index) + 1\n",
        "vocab_size = 5000\n",
        "\n",
        "max_lenght = 30 # 200 # for padding_shape on preprocess function\n",
        "\n",
        "trunc_type = 'post'\n",
        "padding_type = 'post'\n",
        "padding_shape = 30\n",
        "oov_tok = '<OOV>'"
      ],
      "execution_count": 12,
      "outputs": []
    },
    {
      "cell_type": "code",
      "metadata": {
        "id": "YBKrSlNb0fIs"
      },
      "source": [
        "main_labels = ['confident', 'unconfident', \n",
        "               'pos_hp', 'neg_hp', \n",
        "               'interested', 'uninterested', \n",
        "               'happy', 'unhappy', \n",
        "               'friendly', 'unfriendly', \n",
        "               'POS']\n",
        "               \n",
        "label_dict = dict(zip(main_labels, range(1, len(main_labels) + 1)))"
      ],
      "execution_count": 13,
      "outputs": []
    },
    {
      "cell_type": "code",
      "metadata": {
        "id": "OyVrjQ46nEMd",
        "outputId": "46f8287e-5983-453f-8ace-02bc47e610c6",
        "colab": {
          "base_uri": "https://localhost:8080/",
          "height": 204
        }
      },
      "source": [
        "label_dict"
      ],
      "execution_count": 14,
      "outputs": [
        {
          "output_type": "execute_result",
          "data": {
            "text/plain": [
              "{'POS': 11,\n",
              " 'confident': 1,\n",
              " 'friendly': 9,\n",
              " 'happy': 7,\n",
              " 'interested': 5,\n",
              " 'neg_hp': 4,\n",
              " 'pos_hp': 3,\n",
              " 'unconfident': 2,\n",
              " 'unfriendly': 10,\n",
              " 'unhappy': 8,\n",
              " 'uninterested': 6}"
            ]
          },
          "metadata": {
            "tags": []
          },
          "execution_count": 14
        }
      ]
    },
    {
      "cell_type": "markdown",
      "metadata": {
        "id": "lO32c_pD2NzO"
      },
      "source": [
        "---\n",
        "\n",
        "# **3. Lemmatization**\n",
        "\n",
        "---"
      ]
    },
    {
      "cell_type": "code",
      "metadata": {
        "id": "Lb6Wbv0U2OeH"
      },
      "source": [
        "# lemmatizion\n",
        "# stanza\n",
        "def stanza_lemma(text):\n",
        "    doc = stNLP(text)\n",
        "    return ' '.join([word.lemma for sent in doc.sentences for word in sent.words])"
      ],
      "execution_count": 15,
      "outputs": []
    },
    {
      "cell_type": "code",
      "metadata": {
        "id": "RdtBcgKB2PaB"
      },
      "source": [
        "def nltk_lemma(text):\n",
        "    lemmatizer = WordNetLemmatizer()\n",
        "    lemmatizer.lemmatize(text)"
      ],
      "execution_count": 16,
      "outputs": []
    },
    {
      "cell_type": "markdown",
      "metadata": {
        "id": "1yfg8TVR2SL_"
      },
      "source": [
        "---\n",
        "# **4. Load dataset**\n",
        "---"
      ]
    },
    {
      "cell_type": "code",
      "metadata": {
        "id": "gUCh3RCa2VS8"
      },
      "source": [
        "def load_clean_dataset():\n",
        "    !mkdir -p datasets\n",
        "    !wget -nc https://raw.githubusercontent.com/Y4rd13/sentiment-analysis/master/datasets/results/categories_dataset.csv -P datasets\n",
        "    df = pd.read_csv('./datasets/categories_dataset.csv', encoding='utf-8', index_col=0, dtype=({'score':float}))\n",
        "\n",
        "    print(df.head())\n",
        "    x, y = df['word'], df[['category', 'POS stza']] # or POS nltk\n",
        "    #x, y = np.array(x, dtype='<U33'), np.array(y, dtype='<U33')\n",
        "\n",
        "    return x, y"
      ],
      "execution_count": 17,
      "outputs": []
    },
    {
      "cell_type": "markdown",
      "metadata": {
        "id": "kleN4LtF2-bg"
      },
      "source": [
        "---\n",
        "# **5. Prepare dataset**\n",
        "---"
      ]
    },
    {
      "cell_type": "code",
      "metadata": {
        "id": "uDdZHwMcolpC"
      },
      "source": [
        "def preprocess(x, padding_shape=30):\n",
        "    return np.array([ord(i.lower()) - ord('a')+1 if not i.isdigit() and i != ' ' else 0 for i in list(x)] + ([0] * (padding_shape - len(x))), dtype=int)"
      ],
      "execution_count": 21,
      "outputs": []
    },
    {
      "cell_type": "code",
      "metadata": {
        "id": "-y-Y8HxI3E7B"
      },
      "source": [
        "def prepare_dataset(labeldict : dict, test_size=.3, validation_size=.1): \n",
        "    print('preparing the dataset...\\n')\n",
        "    \n",
        "    from sklearn import preprocessing\n",
        "\n",
        "    # load dataset\n",
        "    # split dataset (as string into panda.core.series.Serie object)\n",
        "    x, y = load_clean_dataset()\n",
        "\n",
        "    x = np.array(list(map(preprocess, x)))\n",
        "    y = np.array(list(map(lambda x: labeldict[x.replace(' ', '_')], y['category'])))\n",
        "    print(('y: {}').format(y))\n",
        "\n",
        "    # create/split train, validation and test and shuffle the data\n",
        "    x_train, x_test, y_train, y_test = train_test_split(x, y, test_size=test_size, shuffle=True)\n",
        "    print(x.max(), x.min())\n",
        "\n",
        "    x_train_val, x_validation, y_train_val, y_validation = train_test_split(x_train, y_train, test_size=test_size, shuffle=True)\n",
        "\n",
        "    # pandas.core.series.Series to numpy array\n",
        "    x_train, y_train = np.array(x_train), np.array(y_train)\n",
        "    x_validation, y_validation =  np.array(x_validation), np.array(y_validation)\n",
        "    x_test, y_test = np.array(x_test), np.array(y_test)\n",
        "    \n",
        "    x_train_val, y_train_val = np.array(x_train_val), np.array(y_train_val)\n",
        "\n",
        "    print(('\\nx_train: \\n{}\\n\\ny_train: \\n{}').format(x_train_val, y_train_val))\n",
        "    \n",
        "    return (x_train, y_train), (x_validation, y_validation), (x_test, y_test), (x_train_val, y_train_val)"
      ],
      "execution_count": 22,
      "outputs": []
    },
    {
      "cell_type": "code",
      "metadata": {
        "id": "gpHOyVkIwY4r",
        "outputId": "7807711f-4f79-4180-cde8-00b7dc90330e",
        "colab": {
          "base_uri": "https://localhost:8080/",
          "height": 459
        }
      },
      "source": [
        "(x_train, y_train), (x_validation, y_validation), (x_test, y_test), (x_train_val, y_train_val) = prepare_dataset(label_dict)"
      ],
      "execution_count": 23,
      "outputs": [
        {
          "output_type": "stream",
          "text": [
            "preparing the dataset...\n",
            "\n",
            "File ‘datasets/categories_dataset.csv’ already there; not retrieving.\n",
            "\n",
            "    category          word  score  ...  POS stza  POS nlkt  POS spcy\n",
            "0  confident     tolerance   2.63  ...      NOUN      NOUN      NOUN\n",
            "1  confident         carry   0.46  ...      VERB      NOUN      VERB\n",
            "2  confident   tranquility   1.00  ...      NOUN      NOUN      NOUN\n",
            "3  confident  socontagious   2.69  ...       ADJ       ADJ       ADJ\n",
            "4  confident          zeal   1.00  ...      NOUN      NOUN     PROPN\n",
            "\n",
            "[5 rows x 14 columns]\n",
            "y: [ 1  1  1 ... 10 10 10]\n",
            "26 0\n",
            "\n",
            "x_train: \n",
            "[[ 3  8  1 ...  0  0  0]\n",
            " [ 1 12  9 ...  0  0  0]\n",
            " [19  9 14 ...  0  0  0]\n",
            " ...\n",
            " [ 7 18  1 ...  0  0  0]\n",
            " [12  1  7 ...  0  0  0]\n",
            " [16 10  0 ...  0  0  0]]\n",
            "\n",
            "y_train: \n",
            "[ 9 10  7 ...  7 10 10]\n"
          ],
          "name": "stdout"
        }
      ]
    },
    {
      "cell_type": "markdown",
      "metadata": {
        "id": "LQEwk09b4PD_"
      },
      "source": [
        "---\n",
        "# **4. Build model**\n",
        "---"
      ]
    },
    {
      "cell_type": "code",
      "metadata": {
        "id": "tD18U_yE4SOA"
      },
      "source": [
        "def build_model(vocab_size, embedding_dim=64, input_length=30):\n",
        "    print('\\nbuilding the model...\\n')\n",
        "    \n",
        "    model = tf.keras.Sequential([\n",
        "        tf.keras.layers.Embedding(input_dim=(vocab_size + 1), output_dim=embedding_dim, input_length=input_length),\n",
        "        \n",
        "        tf.keras.layers.Bidirectional(tf.keras.layers.LSTM(rnn_units, return_sequences=True, dropout=.2)),\n",
        "        tf.keras.layers.Bidirectional(tf.keras.layers.LSTM(rnn_units, return_sequences=True, dropout=.3)),\n",
        "        tf.keras.layers.GlobalMaxPool1D(),\n",
        "        tf.keras.layers.Dropout(.1),\n",
        "        tf.keras.layers.Dense(64, activation='relu', kernel_regularizer=keras.regularizers.l2(0.001)), # instead of relu\n",
        "\n",
        "        # softmax output layer\n",
        "        tf.keras.layers.Dense(11, activation='softmax')\n",
        "    ])\n",
        "\n",
        "    # optimizer & loss\n",
        "    opt = 'RMSprop' # instead of # adam # tf.optimizers.Adam(leanirning_rate=1e-4)\n",
        "    loss = 'categorical_crossentropy'\n",
        "\n",
        "    # Metrics\n",
        "    # AUC: Computes the approximate AUC (Area Under the Curve) via a Riemann sum.\n",
        "    # Precision: Computes the precision of the predictions with respect to the labels.\n",
        "    # Recall: Computes the recall of the predictions with respect to the labels.\n",
        "    metrics = ['accuracy', 'AUC', 'Precision', 'Recall']\n",
        "\n",
        "    # compile model\n",
        "    model.compile(optimizer=opt,\n",
        "                  loss=loss,\n",
        "                  metrics=metrics)\n",
        "    \n",
        "    model.summary()\n",
        "    \n",
        "    return model"
      ],
      "execution_count": 31,
      "outputs": []
    },
    {
      "cell_type": "markdown",
      "metadata": {
        "id": "Zf048l554Uug"
      },
      "source": [
        "---\n",
        "# **6. Train model** \n",
        "---"
      ]
    },
    {
      "cell_type": "code",
      "metadata": {
        "id": "c-pVOZYb4T3T"
      },
      "source": [
        "def train(model, x_train, y_train, x_validation, y_validation,\n",
        "          epochs, batch_size=32, patience=5, \n",
        "          verbose=2, monitor_es='accuracy', mode_es='auto', restore=True,\n",
        "          monitor_mc='val_accuracy', mode_mc='max'):\n",
        "    \n",
        "    print('\\ntraining...\\n')\n",
        "    \n",
        "    # callback\n",
        "\n",
        "    # observation:\n",
        "    # test the best settings\n",
        "    early_stopping = tf.keras.callbacks.EarlyStopping(monitor=monitor_es,\n",
        "                                                      verbose=1, mode=mode_es, restore_best_weights=restore,\n",
        "                                                      min_delta=1e-3, patience=patience)\n",
        "    \n",
        "    model_checkpoint = tf.keras.callbacks.ModelCheckpoint('tfjsmode.h5', monitor=monitor_mc, mode=mode_mc,      \n",
        "                                                          verbose=1, save_best_only=True)\n",
        "\n",
        "    # train model\n",
        "    history = model.fit(x_train, y_train,\n",
        "                        batch_size=batch_size, epochs=epochs, verbose=verbose,\n",
        "                        validation_data=(x_validation, y_validation),\n",
        "                        callbacks=[early_stopping, model_checkpoint])\n",
        "    return history"
      ],
      "execution_count": 32,
      "outputs": []
    },
    {
      "cell_type": "markdown",
      "metadata": {
        "id": "gy3DyM-b4XPg"
      },
      "source": [
        "---\n",
        "# **7. Plotting history**\n",
        "---"
      ]
    },
    {
      "cell_type": "code",
      "metadata": {
        "id": "ssFJ3CIe4YPn"
      },
      "source": [
        "def plot_history_(history):\n",
        "    fitModel_dict = history.history\n",
        "    acc = fitModel_dict['accuracy']\n",
        "    val_acc = fitModel_dict['val_accuracy']\n",
        "    epochs = range(1, len(acc) + 1)\n",
        "    \n",
        "    plt.figure(figsize=(10, 6))\n",
        "    plt.plot(epochs, acc, 'bo', label = 'Training acc')\n",
        "    plt.plot(epochs, val_acc, 'b', label = 'Validation acc')\n",
        "    plt.title('Training and validation accuracy')\n",
        "    plt.xlabel('Epochs')\n",
        "    plt.ylabel('Accuracy')\n",
        "    plt.legend(loc = 'lower right')\n",
        "    plt.ylim((0.5, 1))\n",
        "\n",
        "    plt.show()\n",
        "\n",
        "def plot_history(history, string):\n",
        "    fitModel_dict = history.history\n",
        "\n",
        "    plt.figure(figsize=(10, 6))\n",
        "    plt.plot(fitModel_dict[string])\n",
        "    plt.plot(fitModel_dict['val_' + string])\n",
        "    plt.xlabel('Epochs')\n",
        "    plt.ylabel(string)\n",
        "    plt.legend([string, 'val_' + string])\n",
        "    plt.show()"
      ],
      "execution_count": 33,
      "outputs": []
    },
    {
      "cell_type": "markdown",
      "metadata": {
        "id": "oScqNNBXsL7Y"
      },
      "source": [
        "---\n",
        "# **8. Prediction**\n",
        "---"
      ]
    },
    {
      "cell_type": "code",
      "metadata": {
        "id": "ekhWVsv7sK7z"
      },
      "source": [
        "def predict(d : dict, s : str, model):\n",
        "    token = preprocess(s)\n",
        "    output = model.predict(np.array([token]))\n",
        "    ID = int(tf.keras.backend.argmax(output))\n",
        "    print(output)\n",
        "    \n",
        "    for k, v in d.items():\n",
        "        if v == ID:\n",
        "            return k\n",
        "    \n",
        "    return 'unclassified'"
      ],
      "execution_count": 34,
      "outputs": []
    },
    {
      "cell_type": "markdown",
      "metadata": {
        "id": "9FN5osTo4aC4"
      },
      "source": [
        "---\n",
        "# **9. Main**\n",
        "---"
      ]
    },
    {
      "cell_type": "code",
      "metadata": {
        "id": "DAb369Lh4ajo"
      },
      "source": [
        "def main():\n",
        "    # prepare the dataset\n",
        "    (x_train, y_train), (x_validation, y_validation), (x_test, y_test) = prepare_dataset(label_dict)\n",
        "    print(x_train.shape, x_validation.shape, x_test.shape)\n",
        "    print(y_train.shape, y_validation.shape, x_test.shape)\n",
        "    print(y_train)\n",
        "\n",
        "    # build the model\n",
        "    model = build_model()\n",
        "\n",
        "    # train the model\n",
        "    history = train(model=model, x_train=x_train, y_train=to_categorical(y_train),\n",
        "                    x_validation=x_validation, y_validation=to_categorical(y_validation),\n",
        "                    epochs=EPOCHS, verbose=1, monitor='accuracy')\n",
        "\n",
        "    # plot the training\n",
        "    plot_history_(history)\n",
        "\n",
        "    plot_history(history, 'accuracy')\n",
        "\n",
        "    # evaluate the model\n",
        "    test_loss, test_accuracy = model.evaluate(x_test, y_test)\n",
        "    evaluate_lst = list(map(lambda x: x * 100, [test_loss, test_accuracy]))\n",
        "    print('\\nTest:\\nLoss: {}\\nAccuracy: {}').format(evaluate_lst[0], evaluate_lst[1])\n",
        "\n",
        "    # predict\n",
        "    s = 'happy'\n",
        "    pred = predict(label_dict, s, model)\n",
        "    print('Word: {}'.format(s))\n",
        "    print('Prediction: {}'.format(pred))\n",
        "\n",
        "    # save the model\n",
        "    !mkdir models\n",
        "    model.save(MODEL_PATH)\n",
        "\n",
        "    # convert modeljs\n",
        "    tfjs.converters.save_keras_model(model, 'tfjsmodel') "
      ],
      "execution_count": 28,
      "outputs": []
    },
    {
      "cell_type": "markdown",
      "metadata": {
        "id": "02Lry1jA4b4w"
      },
      "source": [
        "---\n",
        "# **10. testing**\n",
        "---"
      ]
    },
    {
      "cell_type": "code",
      "metadata": {
        "id": "j1BALgvxi3_U",
        "outputId": "558c8726-1627-4f8d-a5eb-8dea38b72e5b",
        "colab": {
          "base_uri": "https://localhost:8080/",
          "height": 935
        }
      },
      "source": [
        "# prepare the dataset\n",
        "(x_train, y_train), (x_validation, y_validation), (x_test, y_test), (x_test_val, y_test_val) = prepare_dataset(label_dict)\n",
        "print(x_train.shape, x_validation.shape, x_test.shape)\n",
        "print(y_train.shape, y_validation.shape, x_test.shape)\n",
        "print(y_train)\n",
        "\n",
        "# build the model\n",
        "model = build_model(vocab_size)"
      ],
      "execution_count": 29,
      "outputs": [
        {
          "output_type": "stream",
          "text": [
            "preparing the dataset...\n",
            "\n",
            "File ‘datasets/categories_dataset.csv’ already there; not retrieving.\n",
            "\n",
            "    category          word  score  ...  POS stza  POS nlkt  POS spcy\n",
            "0  confident     tolerance   2.63  ...      NOUN      NOUN      NOUN\n",
            "1  confident         carry   0.46  ...      VERB      NOUN      VERB\n",
            "2  confident   tranquility   1.00  ...      NOUN      NOUN      NOUN\n",
            "3  confident  socontagious   2.69  ...       ADJ       ADJ       ADJ\n",
            "4  confident          zeal   1.00  ...      NOUN      NOUN     PROPN\n",
            "\n",
            "[5 rows x 14 columns]\n",
            "y: [ 1  1  1 ... 10 10 10]\n",
            "26 0\n",
            "\n",
            "x_train: \n",
            "[[18 15  2 ...  0  0  0]\n",
            " [ 9 14  1 ...  0  0  0]\n",
            " [ 4 15 12 ...  0  0  0]\n",
            " ...\n",
            " [19  3  8 ...  0  0  0]\n",
            " [ 9 14 19 ...  0  0  0]\n",
            " [ 1 23 23 ...  0  0  0]]\n",
            "\n",
            "y_train: \n",
            "[10  8  8 ...  4  4  9]\n",
            "(62870, 30) (18861, 30) (26945, 30)\n",
            "(62870,) (18861,) (26945, 30)\n",
            "[4 4 4 ... 4 9 4]\n",
            "\n",
            "building the model...\n",
            "\n",
            "Model: \"sequential\"\n",
            "_________________________________________________________________\n",
            "Layer (type)                 Output Shape              Param #   \n",
            "=================================================================\n",
            "embedding (Embedding)        (None, 30, 64)            320064    \n",
            "_________________________________________________________________\n",
            "bidirectional (Bidirectional (None, 30, 128)           66048     \n",
            "_________________________________________________________________\n",
            "bidirectional_1 (Bidirection (None, 30, 128)           98816     \n",
            "_________________________________________________________________\n",
            "global_max_pooling1d (Global (None, 128)               0         \n",
            "_________________________________________________________________\n",
            "dropout (Dropout)            (None, 128)               0         \n",
            "_________________________________________________________________\n",
            "dense (Dense)                (None, 64)                8256      \n",
            "_________________________________________________________________\n",
            "dense_1 (Dense)              (None, 11)                715       \n",
            "=================================================================\n",
            "Total params: 493,899\n",
            "Trainable params: 493,899\n",
            "Non-trainable params: 0\n",
            "_________________________________________________________________\n"
          ],
          "name": "stdout"
        }
      ]
    },
    {
      "cell_type": "code",
      "metadata": {
        "id": "XS_cMXislcAr",
        "outputId": "f87fc340-909c-4431-9008-11bea183e047",
        "colab": {
          "base_uri": "https://localhost:8080/",
          "height": 1000
        }
      },
      "source": [
        "# train the model\n",
        "\n",
        "# observations:\n",
        "# precision & recall 0.000e+00 in early epochs\n",
        "# low accuracy\n",
        "# val_accuracy is low but higher than accuracy\n",
        "\n",
        "history = train(model=model, x_train=x_train, y_train=to_categorical(y_train), batch_size=BATCH_SIZE,\n",
        "                x_validation=x_validation, y_validation=to_categorical(y_validation),\n",
        "                epochs=EPOCHS, verbose=1, monitor_es='val_loss', mode_es='min', restore=False)"
      ],
      "execution_count": 35,
      "outputs": [
        {
          "output_type": "stream",
          "text": [
            "\n",
            "training...\n",
            "\n",
            "Epoch 1/30\n",
            "1964/1965 [============================>.] - ETA: 0s - loss: 1.9675 - accuracy: 0.2750 - auc: 0.7750 - precision: 0.3953 - recall: 0.0011\n",
            "Epoch 00001: val_accuracy improved from -inf to 0.29696, saving model to tfjsmode.h5\n",
            "1965/1965 [==============================] - 91s 46ms/step - loss: 1.9675 - accuracy: 0.2751 - auc: 0.7750 - precision: 0.3953 - recall: 0.0011 - val_loss: 1.9080 - val_accuracy: 0.2970 - val_auc: 0.7943 - val_precision: 0.8333 - val_recall: 2.6510e-04\n",
            "Epoch 2/30\n",
            "1965/1965 [==============================] - ETA: 0s - loss: 1.9485 - accuracy: 0.2809 - auc: 0.7810 - precision: 0.4366 - recall: 0.0019\n",
            "Epoch 00002: val_accuracy did not improve from 0.29696\n",
            "1965/1965 [==============================] - 90s 46ms/step - loss: 1.9485 - accuracy: 0.2809 - auc: 0.7810 - precision: 0.4366 - recall: 0.0019 - val_loss: 1.8867 - val_accuracy: 0.2942 - val_auc: 0.8022 - val_precision: 0.6000 - val_recall: 6.3623e-04\n",
            "Epoch 3/30\n",
            "1964/1965 [============================>.] - ETA: 0s - loss: 1.9309 - accuracy: 0.2849 - auc: 0.7865 - precision: 0.4673 - recall: 0.0023\n",
            "Epoch 00003: val_accuracy improved from 0.29696 to 0.30189, saving model to tfjsmode.h5\n",
            "1965/1965 [==============================] - 90s 46ms/step - loss: 1.9309 - accuracy: 0.2849 - auc: 0.7865 - precision: 0.4673 - recall: 0.0023 - val_loss: 1.8670 - val_accuracy: 0.3019 - val_auc: 0.8072 - val_precision: 0.5238 - val_recall: 5.8321e-04\n",
            "Epoch 4/30\n",
            "1965/1965 [==============================] - ETA: 0s - loss: 1.9169 - accuracy: 0.2888 - auc: 0.7909 - precision: 0.4671 - recall: 0.0024\n",
            "Epoch 00004: val_accuracy improved from 0.30189 to 0.31059, saving model to tfjsmode.h5\n",
            "1965/1965 [==============================] - 89s 45ms/step - loss: 1.9169 - accuracy: 0.2888 - auc: 0.7909 - precision: 0.4671 - recall: 0.0024 - val_loss: 1.8471 - val_accuracy: 0.3106 - val_auc: 0.8114 - val_precision: 0.4975 - val_recall: 0.0106\n",
            "Epoch 5/30\n",
            "1965/1965 [==============================] - ETA: 0s - loss: 1.9049 - accuracy: 0.2939 - auc: 0.7944 - precision: 0.4576 - recall: 0.0021\n",
            "Epoch 00005: val_accuracy improved from 0.31059 to 0.31594, saving model to tfjsmode.h5\n",
            "1965/1965 [==============================] - 89s 45ms/step - loss: 1.9049 - accuracy: 0.2939 - auc: 0.7944 - precision: 0.4576 - recall: 0.0021 - val_loss: 1.8233 - val_accuracy: 0.3159 - val_auc: 0.8176 - val_precision: 0.8235 - val_recall: 7.4227e-04\n",
            "Epoch 6/30\n",
            "1964/1965 [============================>.] - ETA: 0s - loss: 1.8920 - accuracy: 0.2925 - auc: 0.7982 - precision: 0.4354 - recall: 0.0020\n",
            "Epoch 00006: val_accuracy improved from 0.31594 to 0.31902, saving model to tfjsmode.h5\n",
            "1965/1965 [==============================] - 89s 45ms/step - loss: 1.8920 - accuracy: 0.2925 - auc: 0.7982 - precision: 0.4354 - recall: 0.0020 - val_loss: 1.8122 - val_accuracy: 0.3190 - val_auc: 0.8204 - val_precision: 0.6296 - val_recall: 0.0018\n",
            "Epoch 7/30\n",
            "1964/1965 [============================>.] - ETA: 0s - loss: 1.8797 - accuracy: 0.2983 - auc: 0.8015 - precision: 0.4536 - recall: 0.0027\n",
            "Epoch 00007: val_accuracy improved from 0.31902 to 0.32480, saving model to tfjsmode.h5\n",
            "1965/1965 [==============================] - 90s 46ms/step - loss: 1.8798 - accuracy: 0.2983 - auc: 0.8015 - precision: 0.4536 - recall: 0.0027 - val_loss: 1.7984 - val_accuracy: 0.3248 - val_auc: 0.8240 - val_precision: 0.5190 - val_recall: 0.0022\n",
            "Epoch 8/30\n",
            "1965/1965 [==============================] - ETA: 0s - loss: 1.8704 - accuracy: 0.3005 - auc: 0.8042 - precision: 0.4771 - recall: 0.0040\n",
            "Epoch 00008: val_accuracy did not improve from 0.32480\n",
            "1965/1965 [==============================] - 89s 45ms/step - loss: 1.8704 - accuracy: 0.3005 - auc: 0.8042 - precision: 0.4771 - recall: 0.0040 - val_loss: 1.7851 - val_accuracy: 0.3243 - val_auc: 0.8283 - val_precision: 0.6818 - val_recall: 0.0016\n",
            "Epoch 9/30\n",
            "1965/1965 [==============================] - ETA: 0s - loss: 1.8619 - accuracy: 0.3036 - auc: 0.8066 - precision: 0.4282 - recall: 0.0025\n",
            "Epoch 00009: val_accuracy improved from 0.32480 to 0.32655, saving model to tfjsmode.h5\n",
            "1965/1965 [==============================] - 89s 45ms/step - loss: 1.8619 - accuracy: 0.3036 - auc: 0.8066 - precision: 0.4282 - recall: 0.0025 - val_loss: 1.7732 - val_accuracy: 0.3265 - val_auc: 0.8311 - val_precision: 0.6324 - val_recall: 0.0023\n",
            "Epoch 10/30\n",
            "1964/1965 [============================>.] - ETA: 0s - loss: 1.8517 - accuracy: 0.3030 - auc: 0.8094 - precision: 0.4684 - recall: 0.0038\n",
            "Epoch 00010: val_accuracy improved from 0.32655 to 0.33100, saving model to tfjsmode.h5\n",
            "1965/1965 [==============================] - 91s 46ms/step - loss: 1.8517 - accuracy: 0.3030 - auc: 0.8094 - precision: 0.4684 - recall: 0.0038 - val_loss: 1.7620 - val_accuracy: 0.3310 - val_auc: 0.8329 - val_precision: 0.6286 - val_recall: 0.0012\n",
            "Epoch 11/30\n",
            "1965/1965 [==============================] - ETA: 0s - loss: 1.8429 - accuracy: 0.3080 - auc: 0.8118 - precision: 0.4444 - recall: 0.0041\n",
            "Epoch 00011: val_accuracy improved from 0.33100 to 0.33111, saving model to tfjsmode.h5\n",
            "1965/1965 [==============================] - 88s 45ms/step - loss: 1.8429 - accuracy: 0.3080 - auc: 0.8118 - precision: 0.4444 - recall: 0.0041 - val_loss: 1.7553 - val_accuracy: 0.3311 - val_auc: 0.8349 - val_precision: 0.6296 - val_recall: 9.0133e-04\n",
            "Epoch 12/30\n",
            "1964/1965 [============================>.] - ETA: 0s - loss: 1.8340 - accuracy: 0.3069 - auc: 0.8139 - precision: 0.4696 - recall: 0.0048\n",
            "Epoch 00012: val_accuracy improved from 0.33111 to 0.33943, saving model to tfjsmode.h5\n",
            "1965/1965 [==============================] - 88s 45ms/step - loss: 1.8340 - accuracy: 0.3069 - auc: 0.8139 - precision: 0.4696 - recall: 0.0048 - val_loss: 1.7451 - val_accuracy: 0.3394 - val_auc: 0.8376 - val_precision: 0.7273 - val_recall: 0.0017\n",
            "Epoch 13/30\n",
            "1964/1965 [============================>.] - ETA: 0s - loss: 1.8301 - accuracy: 0.3092 - auc: 0.8151 - precision: 0.4773 - recall: 0.0060\n",
            "Epoch 00013: val_accuracy improved from 0.33943 to 0.34383, saving model to tfjsmode.h5\n",
            "1965/1965 [==============================] - 88s 45ms/step - loss: 1.8301 - accuracy: 0.3092 - auc: 0.8151 - precision: 0.4773 - recall: 0.0060 - val_loss: 1.7295 - val_accuracy: 0.3438 - val_auc: 0.8421 - val_precision: 0.7551 - val_recall: 0.0020\n",
            "Epoch 14/30\n",
            "1964/1965 [============================>.] - ETA: 0s - loss: 1.8215 - accuracy: 0.3087 - auc: 0.8174 - precision: 0.4912 - recall: 0.0062\n",
            "Epoch 00014: val_accuracy did not improve from 0.34383\n",
            "1965/1965 [==============================] - 88s 45ms/step - loss: 1.8214 - accuracy: 0.3088 - auc: 0.8174 - precision: 0.4912 - recall: 0.0062 - val_loss: 1.7296 - val_accuracy: 0.3401 - val_auc: 0.8408 - val_precision: 0.5517 - val_recall: 0.0025\n",
            "Epoch 15/30\n",
            "1965/1965 [==============================] - ETA: 0s - loss: 1.8170 - accuracy: 0.3136 - auc: 0.8185 - precision: 0.4695 - recall: 0.0066\n",
            "Epoch 00015: val_accuracy did not improve from 0.34383\n",
            "1965/1965 [==============================] - 88s 45ms/step - loss: 1.8170 - accuracy: 0.3136 - auc: 0.8185 - precision: 0.4695 - recall: 0.0066 - val_loss: 1.7134 - val_accuracy: 0.3427 - val_auc: 0.8450 - val_precision: 0.5503 - val_recall: 0.0055\n",
            "Epoch 16/30\n",
            "1964/1965 [============================>.] - ETA: 0s - loss: 1.8097 - accuracy: 0.3141 - auc: 0.8205 - precision: 0.4693 - recall: 0.0063\n",
            "Epoch 00016: val_accuracy improved from 0.34383 to 0.34749, saving model to tfjsmode.h5\n",
            "1965/1965 [==============================] - 87s 45ms/step - loss: 1.8097 - accuracy: 0.3141 - auc: 0.8205 - precision: 0.4699 - recall: 0.0063 - val_loss: 1.7045 - val_accuracy: 0.3475 - val_auc: 0.8467 - val_precision: 0.5219 - val_recall: 0.0227\n",
            "Epoch 17/30\n",
            "1964/1965 [============================>.] - ETA: 0s - loss: 1.8050 - accuracy: 0.3164 - auc: 0.8216 - precision: 0.4777 - recall: 0.0070\n",
            "Epoch 00017: val_accuracy did not improve from 0.34749\n",
            "1965/1965 [==============================] - 88s 45ms/step - loss: 1.8050 - accuracy: 0.3164 - auc: 0.8216 - precision: 0.4777 - recall: 0.0070 - val_loss: 1.6968 - val_accuracy: 0.3472 - val_auc: 0.8484 - val_precision: 0.5237 - val_recall: 0.0106\n",
            "Epoch 18/30\n",
            "1965/1965 [==============================] - ETA: 0s - loss: 1.7948 - accuracy: 0.3177 - auc: 0.8240 - precision: 0.4818 - recall: 0.0074\n",
            "Epoch 00018: val_accuracy improved from 0.34749 to 0.35237, saving model to tfjsmode.h5\n",
            "1965/1965 [==============================] - 88s 45ms/step - loss: 1.7948 - accuracy: 0.3177 - auc: 0.8240 - precision: 0.4818 - recall: 0.0074 - val_loss: 1.6900 - val_accuracy: 0.3524 - val_auc: 0.8499 - val_precision: 0.6339 - val_recall: 0.0038\n",
            "Epoch 19/30\n",
            "1964/1965 [============================>.] - ETA: 0s - loss: 1.7915 - accuracy: 0.3196 - auc: 0.8249 - precision: 0.4877 - recall: 0.0082\n",
            "Epoch 00019: val_accuracy did not improve from 0.35237\n",
            "1965/1965 [==============================] - 86s 44ms/step - loss: 1.7916 - accuracy: 0.3195 - auc: 0.8249 - precision: 0.4877 - recall: 0.0082 - val_loss: 1.6908 - val_accuracy: 0.3392 - val_auc: 0.8496 - val_precision: 0.5519 - val_recall: 0.0071\n",
            "Epoch 20/30\n",
            "1965/1965 [==============================] - ETA: 0s - loss: 1.7882 - accuracy: 0.3193 - auc: 0.8256 - precision: 0.4958 - recall: 0.0084\n",
            "Epoch 00020: val_accuracy did not improve from 0.35237\n",
            "1965/1965 [==============================] - 88s 45ms/step - loss: 1.7882 - accuracy: 0.3193 - auc: 0.8256 - precision: 0.4958 - recall: 0.0084 - val_loss: 1.6813 - val_accuracy: 0.3511 - val_auc: 0.8525 - val_precision: 0.5307 - val_recall: 0.0151\n",
            "Epoch 21/30\n",
            "1964/1965 [============================>.] - ETA: 0s - loss: 1.7820 - accuracy: 0.3184 - auc: 0.8272 - precision: 0.4905 - recall: 0.0094\n",
            "Epoch 00021: val_accuracy did not improve from 0.35237\n",
            "1965/1965 [==============================] - 89s 45ms/step - loss: 1.7821 - accuracy: 0.3184 - auc: 0.8272 - precision: 0.4905 - recall: 0.0094 - val_loss: 1.6781 - val_accuracy: 0.3499 - val_auc: 0.8529 - val_precision: 0.6048 - val_recall: 0.0040\n",
            "Epoch 22/30\n",
            "1965/1965 [==============================] - ETA: 0s - loss: 1.7777 - accuracy: 0.3234 - auc: 0.8282 - precision: 0.4839 - recall: 0.0103\n",
            "Epoch 00022: val_accuracy did not improve from 0.35237\n",
            "1965/1965 [==============================] - 92s 47ms/step - loss: 1.7777 - accuracy: 0.3234 - auc: 0.8282 - precision: 0.4839 - recall: 0.0103 - val_loss: 1.6631 - val_accuracy: 0.3501 - val_auc: 0.8557 - val_precision: 0.6291 - val_recall: 0.0050\n",
            "Epoch 23/30\n",
            "1965/1965 [==============================] - ETA: 0s - loss: 1.7722 - accuracy: 0.3224 - auc: 0.8296 - precision: 0.4822 - recall: 0.0090\n",
            "Epoch 00023: val_accuracy improved from 0.35237 to 0.35799, saving model to tfjsmode.h5\n",
            "1965/1965 [==============================] - 93s 47ms/step - loss: 1.7722 - accuracy: 0.3224 - auc: 0.8296 - precision: 0.4822 - recall: 0.0090 - val_loss: 1.6555 - val_accuracy: 0.3580 - val_auc: 0.8567 - val_precision: 0.5315 - val_recall: 0.0224\n",
            "Epoch 24/30\n",
            "1965/1965 [==============================] - ETA: 0s - loss: 1.7675 - accuracy: 0.3246 - auc: 0.8307 - precision: 0.4926 - recall: 0.0112\n",
            "Epoch 00024: val_accuracy did not improve from 0.35799\n",
            "1965/1965 [==============================] - 90s 46ms/step - loss: 1.7675 - accuracy: 0.3246 - auc: 0.8307 - precision: 0.4926 - recall: 0.0112 - val_loss: 1.6537 - val_accuracy: 0.3515 - val_auc: 0.8573 - val_precision: 0.6524 - val_recall: 0.0057\n",
            "Epoch 25/30\n",
            "1964/1965 [============================>.] - ETA: 0s - loss: 1.7661 - accuracy: 0.3246 - auc: 0.8309 - precision: 0.5024 - recall: 0.0118\n",
            "Epoch 00025: val_accuracy improved from 0.35799 to 0.36355, saving model to tfjsmode.h5\n",
            "1965/1965 [==============================] - 90s 46ms/step - loss: 1.7661 - accuracy: 0.3247 - auc: 0.8309 - precision: 0.5031 - recall: 0.0118 - val_loss: 1.6432 - val_accuracy: 0.3636 - val_auc: 0.8600 - val_precision: 0.5388 - val_recall: 0.0228\n",
            "Epoch 26/30\n",
            "1965/1965 [==============================] - ETA: 0s - loss: 1.7616 - accuracy: 0.3259 - auc: 0.8320 - precision: 0.4748 - recall: 0.0113\n",
            "Epoch 00026: val_accuracy improved from 0.36355 to 0.36377, saving model to tfjsmode.h5\n",
            "1965/1965 [==============================] - 90s 46ms/step - loss: 1.7616 - accuracy: 0.3259 - auc: 0.8320 - precision: 0.4748 - recall: 0.0113 - val_loss: 1.6553 - val_accuracy: 0.3638 - val_auc: 0.8579 - val_precision: 0.7810 - val_recall: 0.0043\n",
            "Epoch 27/30\n",
            "1965/1965 [==============================] - ETA: 0s - loss: 1.7563 - accuracy: 0.3261 - auc: 0.8332 - precision: 0.5091 - recall: 0.0120\n",
            "Epoch 00027: val_accuracy did not improve from 0.36377\n",
            "1965/1965 [==============================] - 91s 46ms/step - loss: 1.7563 - accuracy: 0.3261 - auc: 0.8332 - precision: 0.5091 - recall: 0.0120 - val_loss: 1.6373 - val_accuracy: 0.3618 - val_auc: 0.8604 - val_precision: 0.5777 - val_recall: 0.0195\n",
            "Epoch 28/30\n",
            "1964/1965 [============================>.] - ETA: 0s - loss: 1.7554 - accuracy: 0.3270 - auc: 0.8335 - precision: 0.4915 - recall: 0.0129\n",
            "Epoch 00028: val_accuracy improved from 0.36377 to 0.36509, saving model to tfjsmode.h5\n",
            "1965/1965 [==============================] - 89s 45ms/step - loss: 1.7553 - accuracy: 0.3270 - auc: 0.8335 - precision: 0.4918 - recall: 0.0129 - val_loss: 1.6348 - val_accuracy: 0.3651 - val_auc: 0.8614 - val_precision: 0.6095 - val_recall: 0.0109\n",
            "Epoch 29/30\n",
            "1965/1965 [==============================] - ETA: 0s - loss: 1.7523 - accuracy: 0.3299 - auc: 0.8342 - precision: 0.5088 - recall: 0.0138\n",
            "Epoch 00029: val_accuracy did not improve from 0.36509\n",
            "1965/1965 [==============================] - 90s 46ms/step - loss: 1.7523 - accuracy: 0.3299 - auc: 0.8342 - precision: 0.5088 - recall: 0.0138 - val_loss: 1.6379 - val_accuracy: 0.3649 - val_auc: 0.8610 - val_precision: 0.7250 - val_recall: 0.0062\n",
            "Epoch 30/30\n",
            "1964/1965 [============================>.] - ETA: 0s - loss: 1.7501 - accuracy: 0.3293 - auc: 0.8347 - precision: 0.4839 - recall: 0.0122\n",
            "Epoch 00030: val_accuracy improved from 0.36509 to 0.36573, saving model to tfjsmode.h5\n",
            "1965/1965 [==============================] - 90s 46ms/step - loss: 1.7501 - accuracy: 0.3292 - auc: 0.8347 - precision: 0.4833 - recall: 0.0122 - val_loss: 1.6327 - val_accuracy: 0.3657 - val_auc: 0.8614 - val_precision: 0.6622 - val_recall: 0.0105\n"
          ],
          "name": "stdout"
        }
      ]
    },
    {
      "cell_type": "code",
      "metadata": {
        "id": "PrrZbYi-jNXa",
        "outputId": "26a0d9e3-a47d-410a-c9db-078605e311e7",
        "colab": {
          "base_uri": "https://localhost:8080/",
          "height": 388
        }
      },
      "source": [
        "plot_history(history, 'accuracy')"
      ],
      "execution_count": 37,
      "outputs": [
        {
          "output_type": "display_data",
          "data": {
            "image/png": "[encoded data removed]",
            "text/plain": [
              "<Figure size 720x432 with 1 Axes>"
            ]
          },
          "metadata": {
            "tags": [],
            "needs_background": "light"
          }
        }
      ]
    },
    {
      "cell_type": "code",
      "metadata": {
        "id": "mgf4Uvz8VbVR",
        "outputId": "ee07c183-6f19-4fea-fe0e-5d6e20b01ed5",
        "colab": {
          "base_uri": "https://localhost:8080/",
          "height": 388
        }
      },
      "source": [
        "plot_history(history, 'loss')"
      ],
      "execution_count": 36,
      "outputs": [
        {
          "output_type": "display_data",
          "data": {
            "image/png": "[encoded data removed]",
            "text/plain": [
              "<Figure size 720x432 with 1 Axes>"
            ]
          },
          "metadata": {
            "tags": [],
            "needs_background": "light"
          }
        }
      ]
    },
    {
      "cell_type": "code",
      "metadata": {
        "id": "HSWyLroRu55z",
        "outputId": "dbeb6862-a19b-4265-c743-8469bb96184c",
        "colab": {
          "base_uri": "https://localhost:8080/",
          "height": 1000
        }
      },
      "source": [
        "plot_history(history, 'precision')\n",
        "plot_history(history, 'recall')\n",
        "plot_history(history, 'auc')"
      ],
      "execution_count": 38,
      "outputs": [
        {
          "output_type": "display_data",
          "data": {
            "image/png": "[encoded data removed]",
            "text/plain": [
              "<Figure size 720x432 with 1 Axes>"
            ]
          },
          "metadata": {
            "tags": [],
            "needs_background": "light"
          }
        },
        {
          "output_type": "display_data",
          "data": {
            "image/png": "[encoded data removed]",
            "text/plain": [
              "<Figure size 720x432 with 1 Axes>"
            ]
          },
          "metadata": {
            "tags": [],
            "needs_background": "light"
          }
        },
        {
          "output_type": "display_data",
          "data": {
            "image/png": "[encoded data removed]",
            "text/plain": [
              "<Figure size 720x432 with 1 Axes>"
            ]
          },
          "metadata": {
            "tags": [],
            "needs_background": "light"
          }
        }
      ]
    },
    {
      "cell_type": "code",
      "metadata": {
        "id": "ASc2rTOkjLKY"
      },
      "source": [
        "# evaluate the model\n",
        "test_loss, test_accuracy = model.evaluate(x_train, y_train)\n",
        "evaluate_lst = list(map(lambda x: x * 100, [test_loss, test_accuracy]))\n",
        "print('\\nTest:\\nLoss: {}\\nAccuracy: {}').format(evaluate_lst[0], evaluate_lst[1])"
      ],
      "execution_count": null,
      "outputs": []
    },
    {
      "cell_type": "code",
      "metadata": {
        "id": "Ol2Q8hOXjKfr"
      },
      "source": [
        "# predict\n",
        "s = 'happy'\n",
        "pred = predict(label_dict, s, model)\n",
        "print('Word: {}'.format(s))\n",
        "print('Prediction: {}'.format(pred))"
      ],
      "execution_count": null,
      "outputs": []
    },
    {
      "cell_type": "markdown",
      "metadata": {
        "id": "edqAiqRQTFym"
      },
      "source": [
        ""
      ]
    },
    {
      "cell_type": "code",
      "metadata": {
        "id": "Rbh8T-mrx20u"
      },
      "source": [
        "# evaluation confusion matrix\n",
        "tf.math.confusion_matrix(labels=y_validation, predictions=x_validation)"
      ],
      "execution_count": null,
      "outputs": []
    },
    {
      "cell_type": "code",
      "metadata": {
        "id": "7TlxepYljOxE"
      },
      "source": [
        "# save the model\n",
        "!mkdir models\n",
        "model.save(MODEL_PATH)"
      ],
      "execution_count": null,
      "outputs": []
    },
    {
      "cell_type": "code",
      "metadata": {
        "id": "Hp7RGZe-jPDB"
      },
      "source": [
        "# convert to modeljs\n",
        "tfjs.converters.save_keras_model(model, 'tfjsmodel')"
      ],
      "execution_count": null,
      "outputs": []
    }
  ]
}