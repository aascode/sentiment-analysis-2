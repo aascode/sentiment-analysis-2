{
  "nbformat": 4,
  "nbformat_minor": 0,
  "metadata": {
    "colab": {
      "name": "training_words.ipynb",
      "provenance": [],
      "collapsed_sections": [],
      "toc_visible": true,
      "machine_shape": "hm"
    },
    "kernelspec": {
      "name": "python3",
      "display_name": "Python 3"
    },
    "accelerator": "GPU"
  },
  "cells": [
    {
      "cell_type": "markdown",
      "metadata": {
        "id": "3hCJ7VTq1r-B"
      },
      "source": [
        "---\n",
        "# **Sentiment Analysis**\n",
        "---"
      ]
    },
    {
      "cell_type": "markdown",
      "metadata": {
        "id": "RrfoCSVi1uU_"
      },
      "source": [
        "---\n",
        "\n",
        "# **1. Installation**\n",
        "\n",
        "---"
      ]
    },
    {
      "cell_type": "markdown",
      "metadata": {
        "id": "jfMMl1bb1x_2"
      },
      "source": [
        "## i. Generating a reponse\n"
      ]
    },
    {
      "cell_type": "code",
      "metadata": {
        "id": "soQns5KH0mNV"
      },
      "source": [
        "import sys\n",
        "import logging\n",
        "from psutil import virtual_memory"
      ],
      "execution_count": 1,
      "outputs": []
    },
    {
      "cell_type": "code",
      "metadata": {
        "id": "WwXk46ge1zYO"
      },
      "source": [
        "gpu_info = !nvidia-smi\n",
        "gpu_info = '\\n'.join(gpu_info)\n",
        "ram_gb = virtual_memory().total / 1e9"
      ],
      "execution_count": 2,
      "outputs": []
    },
    {
      "cell_type": "code",
      "metadata": {
        "id": "AqYgi67z1zgZ"
      },
      "source": [
        "tf_response = {\n",
        "    'error': None,\n",
        "    'TF version': '',\n",
        "    'COLAB': None,\n",
        "    'GPU': False,\n",
        "    'ram_gb': ''\n",
        "}"
      ],
      "execution_count": 3,
      "outputs": []
    },
    {
      "cell_type": "code",
      "metadata": {
        "id": "CvNt2AJ51znJ",
        "outputId": "4c6ea3d1-5b23-4749-b6bb-405fcfd67be3",
        "colab": {
          "base_uri": "https://localhost:8080/",
          "height": 1000
        }
      },
      "source": [
        "try:\n",
        "    # drive\n",
        "    from google.colab import drive\n",
        "    IN_COLAB = 'google.colab' in sys.modules\n",
        "\n",
        "    # updating tensorflow version\n",
        "    %tensorflow_version 2.x\n",
        "\n",
        "    # tensorflow-gpu & tensorflowjs\n",
        "    !pip install tensorflow-gpu # !pip install tensorflow_text # I could use BERT\n",
        "    !pip install tensorflowjs\n",
        "\n",
        "    # NLP (nltk, stanza, spacy)\n",
        "    !pip install nltk \n",
        "    !pip install stanza\n",
        "    !pip install spacy\n",
        "    !spacy download en_core_web_sm # sm md lg\n",
        "    !python -m spacy download en\n",
        "except OSError as error:\n",
        "    # debugging error\n",
        "    response['error'] = logging.debug('You are not using your specify version of TensorFlow')\n",
        "    IN_COLAB = False\n",
        "\n",
        "    # install requirements\n",
        "    !pip install -r '../requirements.txt'\n",
        "finally:\n",
        "    tf_response['COLAB'] = IN_COLAB\n",
        "    \n",
        "    # Importing tensroflow core\n",
        "    import tensorflow as tf\n",
        "    import tensorflowjs as tfjs\n",
        "    from tensorflow import keras\n",
        "    from keras.utils import to_categorical\n",
        "\n",
        "    from tensorflow.keras.preprocessing.text import Tokenizer\n",
        "    from tensorflow.keras.preprocessing.sequence import pad_sequences\n",
        "\n",
        "    from tensorflow.keras.models import Sequential\n",
        "    from tensorflow.keras.layers import Dense, Flatten, LSTM, Dropout, Activation, Embedding, Bidirectional, GlobalMaxPool1D\n",
        "\n",
        "    from sklearn.model_selection import train_test_split\n",
        "    \n",
        "    # GPU and RAM response\n",
        "    if tf.config.list_physical_devices('GPU'):\n",
        "        GPU = True\n",
        "        tf_response['GPU'] = GPU\n",
        "        tf_response['TF_version'] = tf.__version__\n",
        "        \n",
        "        if tf_response['COLAB'] == True:\n",
        "            if gpu_info.find('failed') >= 0:\n",
        "                print('Select the Runtime > \"Change runtime type\" menu to enable a GPU accelerator')\n",
        "                print('Re-execute this cell.')\n",
        "            else:\n",
        "                print(gpu_info)\n",
        "            \n",
        "            if ram_gb < 20:\n",
        "                print('To enable a high-RAM runtime, select the Runtime > \"Change runtime type menu\"')\n",
        "                print('Select high-RAM in the runtime shape dropdown')\n",
        "                print('Re-execute this cell')\n",
        "                tf_response['ram_gb'] = 'low-RAM runtime'\n",
        "            else:\n",
        "                tf_response['ram_gb'] = 'high-RAM runtime'\n",
        "            print('\\nRuntime {:.2f} GB of available RAM\\n'.format(ram_gb))"
      ],
      "execution_count": 4,
      "outputs": [
        {
          "output_type": "stream",
          "text": [
            "Requirement already satisfied: tensorflow-gpu in /usr/local/lib/python3.6/dist-packages (2.3.1)\n",
            "Requirement already satisfied: termcolor>=1.1.0 in /usr/local/lib/python3.6/dist-packages (from tensorflow-gpu) (1.1.0)\n",
            "Requirement already satisfied: astunparse==1.6.3 in /usr/local/lib/python3.6/dist-packages (from tensorflow-gpu) (1.6.3)\n",
            "Requirement already satisfied: grpcio>=1.8.6 in /usr/local/lib/python3.6/dist-packages (from tensorflow-gpu) (1.32.0)\n",
            "Requirement already satisfied: absl-py>=0.7.0 in /usr/local/lib/python3.6/dist-packages (from tensorflow-gpu) (0.10.0)\n",
            "Requirement already satisfied: h5py<2.11.0,>=2.10.0 in /usr/local/lib/python3.6/dist-packages (from tensorflow-gpu) (2.10.0)\n",
            "Requirement already satisfied: keras-preprocessing<1.2,>=1.1.1 in /usr/local/lib/python3.6/dist-packages (from tensorflow-gpu) (1.1.2)\n",
            "Requirement already satisfied: numpy<1.19.0,>=1.16.0 in /usr/local/lib/python3.6/dist-packages (from tensorflow-gpu) (1.18.5)\n",
            "Requirement already satisfied: opt-einsum>=2.3.2 in /usr/local/lib/python3.6/dist-packages (from tensorflow-gpu) (3.3.0)\n",
            "Requirement already satisfied: protobuf>=3.9.2 in /usr/local/lib/python3.6/dist-packages (from tensorflow-gpu) (3.12.4)\n",
            "Requirement already satisfied: tensorflow-estimator<2.4.0,>=2.3.0 in /usr/local/lib/python3.6/dist-packages (from tensorflow-gpu) (2.3.0)\n",
            "Requirement already satisfied: six>=1.12.0 in /usr/local/lib/python3.6/dist-packages (from tensorflow-gpu) (1.15.0)\n",
            "Requirement already satisfied: wheel>=0.26 in /usr/local/lib/python3.6/dist-packages (from tensorflow-gpu) (0.35.1)\n",
            "Requirement already satisfied: tensorboard<3,>=2.3.0 in /usr/local/lib/python3.6/dist-packages (from tensorflow-gpu) (2.3.0)\n",
            "Requirement already satisfied: wrapt>=1.11.1 in /usr/local/lib/python3.6/dist-packages (from tensorflow-gpu) (1.12.1)\n",
            "Requirement already satisfied: google-pasta>=0.1.8 in /usr/local/lib/python3.6/dist-packages (from tensorflow-gpu) (0.2.0)\n",
            "Requirement already satisfied: gast==0.3.3 in /usr/local/lib/python3.6/dist-packages (from tensorflow-gpu) (0.3.3)\n",
            "Requirement already satisfied: setuptools in /usr/local/lib/python3.6/dist-packages (from protobuf>=3.9.2->tensorflow-gpu) (50.3.0)\n",
            "Requirement already satisfied: tensorboard-plugin-wit>=1.6.0 in /usr/local/lib/python3.6/dist-packages (from tensorboard<3,>=2.3.0->tensorflow-gpu) (1.7.0)\n",
            "Requirement already satisfied: werkzeug>=0.11.15 in /usr/local/lib/python3.6/dist-packages (from tensorboard<3,>=2.3.0->tensorflow-gpu) (1.0.1)\n",
            "Requirement already satisfied: requests<3,>=2.21.0 in /usr/local/lib/python3.6/dist-packages (from tensorboard<3,>=2.3.0->tensorflow-gpu) (2.23.0)\n",
            "Requirement already satisfied: markdown>=2.6.8 in /usr/local/lib/python3.6/dist-packages (from tensorboard<3,>=2.3.0->tensorflow-gpu) (3.2.2)\n",
            "Requirement already satisfied: google-auth-oauthlib<0.5,>=0.4.1 in /usr/local/lib/python3.6/dist-packages (from tensorboard<3,>=2.3.0->tensorflow-gpu) (0.4.1)\n",
            "Requirement already satisfied: google-auth<2,>=1.6.3 in /usr/local/lib/python3.6/dist-packages (from tensorboard<3,>=2.3.0->tensorflow-gpu) (1.17.2)\n",
            "Requirement already satisfied: idna<3,>=2.5 in /usr/local/lib/python3.6/dist-packages (from requests<3,>=2.21.0->tensorboard<3,>=2.3.0->tensorflow-gpu) (2.10)\n",
            "Requirement already satisfied: chardet<4,>=3.0.2 in /usr/local/lib/python3.6/dist-packages (from requests<3,>=2.21.0->tensorboard<3,>=2.3.0->tensorflow-gpu) (3.0.4)\n",
            "Requirement already satisfied: certifi>=2017.4.17 in /usr/local/lib/python3.6/dist-packages (from requests<3,>=2.21.0->tensorboard<3,>=2.3.0->tensorflow-gpu) (2020.6.20)\n",
            "Requirement already satisfied: urllib3!=1.25.0,!=1.25.1,<1.26,>=1.21.1 in /usr/local/lib/python3.6/dist-packages (from requests<3,>=2.21.0->tensorboard<3,>=2.3.0->tensorflow-gpu) (1.24.3)\n",
            "Requirement already satisfied: importlib-metadata; python_version < \"3.8\" in /usr/local/lib/python3.6/dist-packages (from markdown>=2.6.8->tensorboard<3,>=2.3.0->tensorflow-gpu) (2.0.0)\n",
            "Requirement already satisfied: requests-oauthlib>=0.7.0 in /usr/local/lib/python3.6/dist-packages (from google-auth-oauthlib<0.5,>=0.4.1->tensorboard<3,>=2.3.0->tensorflow-gpu) (1.3.0)\n",
            "Requirement already satisfied: rsa<5,>=3.1.4; python_version >= \"3\" in /usr/local/lib/python3.6/dist-packages (from google-auth<2,>=1.6.3->tensorboard<3,>=2.3.0->tensorflow-gpu) (4.6)\n",
            "Requirement already satisfied: pyasn1-modules>=0.2.1 in /usr/local/lib/python3.6/dist-packages (from google-auth<2,>=1.6.3->tensorboard<3,>=2.3.0->tensorflow-gpu) (0.2.8)\n",
            "Requirement already satisfied: cachetools<5.0,>=2.0.0 in /usr/local/lib/python3.6/dist-packages (from google-auth<2,>=1.6.3->tensorboard<3,>=2.3.0->tensorflow-gpu) (4.1.1)\n",
            "Requirement already satisfied: zipp>=0.5 in /usr/local/lib/python3.6/dist-packages (from importlib-metadata; python_version < \"3.8\"->markdown>=2.6.8->tensorboard<3,>=2.3.0->tensorflow-gpu) (3.2.0)\n",
            "Requirement already satisfied: oauthlib>=3.0.0 in /usr/local/lib/python3.6/dist-packages (from requests-oauthlib>=0.7.0->google-auth-oauthlib<0.5,>=0.4.1->tensorboard<3,>=2.3.0->tensorflow-gpu) (3.1.0)\n",
            "Requirement already satisfied: pyasn1>=0.1.3 in /usr/local/lib/python3.6/dist-packages (from rsa<5,>=3.1.4; python_version >= \"3\"->google-auth<2,>=1.6.3->tensorboard<3,>=2.3.0->tensorflow-gpu) (0.4.8)\n",
            "Requirement already satisfied: tensorflowjs in /usr/local/lib/python3.6/dist-packages (2.4.0)\n",
            "Requirement already satisfied: numpy<1.19.0,>=1.16.4 in /usr/local/lib/python3.6/dist-packages (from tensorflowjs) (1.18.5)\n",
            "Requirement already satisfied: PyInquirer==1.0.3 in /usr/local/lib/python3.6/dist-packages (from tensorflowjs) (1.0.3)\n",
            "Requirement already satisfied: tensorflow-hub==0.7.0 in /usr/local/lib/python3.6/dist-packages (from tensorflowjs) (0.7.0)\n",
            "Requirement already satisfied: six>=1.12.0 in /usr/local/lib/python3.6/dist-packages (from tensorflowjs) (1.15.0)\n",
            "Requirement already satisfied: tensorflow-cpu<3,>=2.1.0 in /usr/local/lib/python3.6/dist-packages (from tensorflowjs) (2.3.1)\n",
            "Requirement already satisfied: h5py>=2.8.0 in /usr/local/lib/python3.6/dist-packages (from tensorflowjs) (2.10.0)\n",
            "Requirement already satisfied: regex>=2016.11.21 in /usr/local/lib/python3.6/dist-packages (from PyInquirer==1.0.3->tensorflowjs) (2019.12.20)\n",
            "Requirement already satisfied: prompt-toolkit==1.0.14 in /usr/local/lib/python3.6/dist-packages (from PyInquirer==1.0.3->tensorflowjs) (1.0.14)\n",
            "Requirement already satisfied: Pygments>=2.2.0 in /usr/local/lib/python3.6/dist-packages (from PyInquirer==1.0.3->tensorflowjs) (2.6.1)\n",
            "Requirement already satisfied: protobuf>=3.4.0 in /usr/local/lib/python3.6/dist-packages (from tensorflow-hub==0.7.0->tensorflowjs) (3.12.4)\n",
            "Requirement already satisfied: astunparse==1.6.3 in /usr/local/lib/python3.6/dist-packages (from tensorflow-cpu<3,>=2.1.0->tensorflowjs) (1.6.3)\n",
            "Requirement already satisfied: tensorflow-estimator<2.4.0,>=2.3.0 in /usr/local/lib/python3.6/dist-packages (from tensorflow-cpu<3,>=2.1.0->tensorflowjs) (2.3.0)\n",
            "Requirement already satisfied: wrapt>=1.11.1 in /usr/local/lib/python3.6/dist-packages (from tensorflow-cpu<3,>=2.1.0->tensorflowjs) (1.12.1)\n",
            "Requirement already satisfied: absl-py>=0.7.0 in /usr/local/lib/python3.6/dist-packages (from tensorflow-cpu<3,>=2.1.0->tensorflowjs) (0.10.0)\n",
            "Requirement already satisfied: gast==0.3.3 in /usr/local/lib/python3.6/dist-packages (from tensorflow-cpu<3,>=2.1.0->tensorflowjs) (0.3.3)\n",
            "Requirement already satisfied: keras-preprocessing<1.2,>=1.1.1 in /usr/local/lib/python3.6/dist-packages (from tensorflow-cpu<3,>=2.1.0->tensorflowjs) (1.1.2)\n",
            "Requirement already satisfied: opt-einsum>=2.3.2 in /usr/local/lib/python3.6/dist-packages (from tensorflow-cpu<3,>=2.1.0->tensorflowjs) (3.3.0)\n",
            "Requirement already satisfied: termcolor>=1.1.0 in /usr/local/lib/python3.6/dist-packages (from tensorflow-cpu<3,>=2.1.0->tensorflowjs) (1.1.0)\n",
            "Requirement already satisfied: wheel>=0.26 in /usr/local/lib/python3.6/dist-packages (from tensorflow-cpu<3,>=2.1.0->tensorflowjs) (0.35.1)\n",
            "Requirement already satisfied: tensorboard<3,>=2.3.0 in /usr/local/lib/python3.6/dist-packages (from tensorflow-cpu<3,>=2.1.0->tensorflowjs) (2.3.0)\n",
            "Requirement already satisfied: grpcio>=1.8.6 in /usr/local/lib/python3.6/dist-packages (from tensorflow-cpu<3,>=2.1.0->tensorflowjs) (1.32.0)\n",
            "Requirement already satisfied: google-pasta>=0.1.8 in /usr/local/lib/python3.6/dist-packages (from tensorflow-cpu<3,>=2.1.0->tensorflowjs) (0.2.0)\n",
            "Requirement already satisfied: wcwidth in /usr/local/lib/python3.6/dist-packages (from prompt-toolkit==1.0.14->PyInquirer==1.0.3->tensorflowjs) (0.2.5)\n",
            "Requirement already satisfied: setuptools in /usr/local/lib/python3.6/dist-packages (from protobuf>=3.4.0->tensorflow-hub==0.7.0->tensorflowjs) (50.3.0)\n",
            "Requirement already satisfied: google-auth<2,>=1.6.3 in /usr/local/lib/python3.6/dist-packages (from tensorboard<3,>=2.3.0->tensorflow-cpu<3,>=2.1.0->tensorflowjs) (1.17.2)\n",
            "Requirement already satisfied: tensorboard-plugin-wit>=1.6.0 in /usr/local/lib/python3.6/dist-packages (from tensorboard<3,>=2.3.0->tensorflow-cpu<3,>=2.1.0->tensorflowjs) (1.7.0)\n",
            "Requirement already satisfied: requests<3,>=2.21.0 in /usr/local/lib/python3.6/dist-packages (from tensorboard<3,>=2.3.0->tensorflow-cpu<3,>=2.1.0->tensorflowjs) (2.23.0)\n",
            "Requirement already satisfied: markdown>=2.6.8 in /usr/local/lib/python3.6/dist-packages (from tensorboard<3,>=2.3.0->tensorflow-cpu<3,>=2.1.0->tensorflowjs) (3.2.2)\n",
            "Requirement already satisfied: werkzeug>=0.11.15 in /usr/local/lib/python3.6/dist-packages (from tensorboard<3,>=2.3.0->tensorflow-cpu<3,>=2.1.0->tensorflowjs) (1.0.1)\n",
            "Requirement already satisfied: google-auth-oauthlib<0.5,>=0.4.1 in /usr/local/lib/python3.6/dist-packages (from tensorboard<3,>=2.3.0->tensorflow-cpu<3,>=2.1.0->tensorflowjs) (0.4.1)\n",
            "Requirement already satisfied: cachetools<5.0,>=2.0.0 in /usr/local/lib/python3.6/dist-packages (from google-auth<2,>=1.6.3->tensorboard<3,>=2.3.0->tensorflow-cpu<3,>=2.1.0->tensorflowjs) (4.1.1)\n",
            "Requirement already satisfied: rsa<5,>=3.1.4; python_version >= \"3\" in /usr/local/lib/python3.6/dist-packages (from google-auth<2,>=1.6.3->tensorboard<3,>=2.3.0->tensorflow-cpu<3,>=2.1.0->tensorflowjs) (4.6)\n",
            "Requirement already satisfied: pyasn1-modules>=0.2.1 in /usr/local/lib/python3.6/dist-packages (from google-auth<2,>=1.6.3->tensorboard<3,>=2.3.0->tensorflow-cpu<3,>=2.1.0->tensorflowjs) (0.2.8)\n",
            "Requirement already satisfied: idna<3,>=2.5 in /usr/local/lib/python3.6/dist-packages (from requests<3,>=2.21.0->tensorboard<3,>=2.3.0->tensorflow-cpu<3,>=2.1.0->tensorflowjs) (2.10)\n",
            "Requirement already satisfied: certifi>=2017.4.17 in /usr/local/lib/python3.6/dist-packages (from requests<3,>=2.21.0->tensorboard<3,>=2.3.0->tensorflow-cpu<3,>=2.1.0->tensorflowjs) (2020.6.20)\n",
            "Requirement already satisfied: chardet<4,>=3.0.2 in /usr/local/lib/python3.6/dist-packages (from requests<3,>=2.21.0->tensorboard<3,>=2.3.0->tensorflow-cpu<3,>=2.1.0->tensorflowjs) (3.0.4)\n",
            "Requirement already satisfied: urllib3!=1.25.0,!=1.25.1,<1.26,>=1.21.1 in /usr/local/lib/python3.6/dist-packages (from requests<3,>=2.21.0->tensorboard<3,>=2.3.0->tensorflow-cpu<3,>=2.1.0->tensorflowjs) (1.24.3)\n",
            "Requirement already satisfied: importlib-metadata; python_version < \"3.8\" in /usr/local/lib/python3.6/dist-packages (from markdown>=2.6.8->tensorboard<3,>=2.3.0->tensorflow-cpu<3,>=2.1.0->tensorflowjs) (2.0.0)\n",
            "Requirement already satisfied: requests-oauthlib>=0.7.0 in /usr/local/lib/python3.6/dist-packages (from google-auth-oauthlib<0.5,>=0.4.1->tensorboard<3,>=2.3.0->tensorflow-cpu<3,>=2.1.0->tensorflowjs) (1.3.0)\n",
            "Requirement already satisfied: pyasn1>=0.1.3 in /usr/local/lib/python3.6/dist-packages (from rsa<5,>=3.1.4; python_version >= \"3\"->google-auth<2,>=1.6.3->tensorboard<3,>=2.3.0->tensorflow-cpu<3,>=2.1.0->tensorflowjs) (0.4.8)\n",
            "Requirement already satisfied: zipp>=0.5 in /usr/local/lib/python3.6/dist-packages (from importlib-metadata; python_version < \"3.8\"->markdown>=2.6.8->tensorboard<3,>=2.3.0->tensorflow-cpu<3,>=2.1.0->tensorflowjs) (3.2.0)\n",
            "Requirement already satisfied: oauthlib>=3.0.0 in /usr/local/lib/python3.6/dist-packages (from requests-oauthlib>=0.7.0->google-auth-oauthlib<0.5,>=0.4.1->tensorboard<3,>=2.3.0->tensorflow-cpu<3,>=2.1.0->tensorflowjs) (3.1.0)\n",
            "Requirement already satisfied: nltk in /usr/local/lib/python3.6/dist-packages (3.2.5)\n",
            "Requirement already satisfied: six in /usr/local/lib/python3.6/dist-packages (from nltk) (1.15.0)\n",
            "Requirement already satisfied: stanza in /usr/local/lib/python3.6/dist-packages (1.1.1)\n",
            "Requirement already satisfied: protobuf in /usr/local/lib/python3.6/dist-packages (from stanza) (3.12.4)\n",
            "Requirement already satisfied: torch>=1.3.0 in /usr/local/lib/python3.6/dist-packages (from stanza) (1.6.0+cu101)\n",
            "Requirement already satisfied: requests in /usr/local/lib/python3.6/dist-packages (from stanza) (2.23.0)\n",
            "Requirement already satisfied: tqdm in /usr/local/lib/python3.6/dist-packages (from stanza) (4.41.1)\n",
            "Requirement already satisfied: numpy in /usr/local/lib/python3.6/dist-packages (from stanza) (1.18.5)\n",
            "Requirement already satisfied: setuptools in /usr/local/lib/python3.6/dist-packages (from protobuf->stanza) (50.3.0)\n",
            "Requirement already satisfied: six>=1.9 in /usr/local/lib/python3.6/dist-packages (from protobuf->stanza) (1.15.0)\n",
            "Requirement already satisfied: future in /usr/local/lib/python3.6/dist-packages (from torch>=1.3.0->stanza) (0.16.0)\n",
            "Requirement already satisfied: idna<3,>=2.5 in /usr/local/lib/python3.6/dist-packages (from requests->stanza) (2.10)\n",
            "Requirement already satisfied: certifi>=2017.4.17 in /usr/local/lib/python3.6/dist-packages (from requests->stanza) (2020.6.20)\n",
            "Requirement already satisfied: chardet<4,>=3.0.2 in /usr/local/lib/python3.6/dist-packages (from requests->stanza) (3.0.4)\n",
            "Requirement already satisfied: urllib3!=1.25.0,!=1.25.1,<1.26,>=1.21.1 in /usr/local/lib/python3.6/dist-packages (from requests->stanza) (1.24.3)\n",
            "Requirement already satisfied: spacy in /usr/local/lib/python3.6/dist-packages (2.2.4)\n",
            "Requirement already satisfied: wasabi<1.1.0,>=0.4.0 in /usr/local/lib/python3.6/dist-packages (from spacy) (0.8.0)\n",
            "Requirement already satisfied: blis<0.5.0,>=0.4.0 in /usr/local/lib/python3.6/dist-packages (from spacy) (0.4.1)\n",
            "Requirement already satisfied: srsly<1.1.0,>=1.0.2 in /usr/local/lib/python3.6/dist-packages (from spacy) (1.0.2)\n",
            "Requirement already satisfied: murmurhash<1.1.0,>=0.28.0 in /usr/local/lib/python3.6/dist-packages (from spacy) (1.0.2)\n",
            "Requirement already satisfied: catalogue<1.1.0,>=0.0.7 in /usr/local/lib/python3.6/dist-packages (from spacy) (1.0.0)\n",
            "Requirement already satisfied: numpy>=1.15.0 in /usr/local/lib/python3.6/dist-packages (from spacy) (1.18.5)\n",
            "Requirement already satisfied: preshed<3.1.0,>=3.0.2 in /usr/local/lib/python3.6/dist-packages (from spacy) (3.0.2)\n",
            "Requirement already satisfied: tqdm<5.0.0,>=4.38.0 in /usr/local/lib/python3.6/dist-packages (from spacy) (4.41.1)\n",
            "Requirement already satisfied: setuptools in /usr/local/lib/python3.6/dist-packages (from spacy) (50.3.0)\n",
            "Requirement already satisfied: requests<3.0.0,>=2.13.0 in /usr/local/lib/python3.6/dist-packages (from spacy) (2.23.0)\n",
            "Requirement already satisfied: plac<1.2.0,>=0.9.6 in /usr/local/lib/python3.6/dist-packages (from spacy) (1.1.3)\n",
            "Requirement already satisfied: cymem<2.1.0,>=2.0.2 in /usr/local/lib/python3.6/dist-packages (from spacy) (2.0.3)\n",
            "Requirement already satisfied: thinc==7.4.0 in /usr/local/lib/python3.6/dist-packages (from spacy) (7.4.0)\n",
            "Requirement already satisfied: importlib-metadata>=0.20; python_version < \"3.8\" in /usr/local/lib/python3.6/dist-packages (from catalogue<1.1.0,>=0.0.7->spacy) (2.0.0)\n",
            "Requirement already satisfied: chardet<4,>=3.0.2 in /usr/local/lib/python3.6/dist-packages (from requests<3.0.0,>=2.13.0->spacy) (3.0.4)\n",
            "Requirement already satisfied: urllib3!=1.25.0,!=1.25.1,<1.26,>=1.21.1 in /usr/local/lib/python3.6/dist-packages (from requests<3.0.0,>=2.13.0->spacy) (1.24.3)\n",
            "Requirement already satisfied: idna<3,>=2.5 in /usr/local/lib/python3.6/dist-packages (from requests<3.0.0,>=2.13.0->spacy) (2.10)\n",
            "Requirement already satisfied: certifi>=2017.4.17 in /usr/local/lib/python3.6/dist-packages (from requests<3.0.0,>=2.13.0->spacy) (2020.6.20)\n",
            "Requirement already satisfied: zipp>=0.5 in /usr/local/lib/python3.6/dist-packages (from importlib-metadata>=0.20; python_version < \"3.8\"->catalogue<1.1.0,>=0.0.7->spacy) (3.2.0)\n",
            "Requirement already satisfied: en_core_web_sm==2.2.5 from https://github.com/explosion/spacy-models/releases/download/en_core_web_sm-2.2.5/en_core_web_sm-2.2.5.tar.gz#egg=en_core_web_sm==2.2.5 in /usr/local/lib/python3.6/dist-packages (2.2.5)\n",
            "Requirement already satisfied: spacy>=2.2.2 in /usr/local/lib/python3.6/dist-packages (from en_core_web_sm==2.2.5) (2.2.4)\n",
            "Requirement already satisfied: preshed<3.1.0,>=3.0.2 in /usr/local/lib/python3.6/dist-packages (from spacy>=2.2.2->en_core_web_sm==2.2.5) (3.0.2)\n",
            "Requirement already satisfied: catalogue<1.1.0,>=0.0.7 in /usr/local/lib/python3.6/dist-packages (from spacy>=2.2.2->en_core_web_sm==2.2.5) (1.0.0)\n",
            "Requirement already satisfied: srsly<1.1.0,>=1.0.2 in /usr/local/lib/python3.6/dist-packages (from spacy>=2.2.2->en_core_web_sm==2.2.5) (1.0.2)\n",
            "Requirement already satisfied: tqdm<5.0.0,>=4.38.0 in /usr/local/lib/python3.6/dist-packages (from spacy>=2.2.2->en_core_web_sm==2.2.5) (4.41.1)\n",
            "Requirement already satisfied: wasabi<1.1.0,>=0.4.0 in /usr/local/lib/python3.6/dist-packages (from spacy>=2.2.2->en_core_web_sm==2.2.5) (0.8.0)\n",
            "Requirement already satisfied: plac<1.2.0,>=0.9.6 in /usr/local/lib/python3.6/dist-packages (from spacy>=2.2.2->en_core_web_sm==2.2.5) (1.1.3)\n",
            "Requirement already satisfied: setuptools in /usr/local/lib/python3.6/dist-packages (from spacy>=2.2.2->en_core_web_sm==2.2.5) (50.3.0)\n",
            "Requirement already satisfied: murmurhash<1.1.0,>=0.28.0 in /usr/local/lib/python3.6/dist-packages (from spacy>=2.2.2->en_core_web_sm==2.2.5) (1.0.2)\n",
            "Requirement already satisfied: requests<3.0.0,>=2.13.0 in /usr/local/lib/python3.6/dist-packages (from spacy>=2.2.2->en_core_web_sm==2.2.5) (2.23.0)\n",
            "Requirement already satisfied: thinc==7.4.0 in /usr/local/lib/python3.6/dist-packages (from spacy>=2.2.2->en_core_web_sm==2.2.5) (7.4.0)\n",
            "Requirement already satisfied: cymem<2.1.0,>=2.0.2 in /usr/local/lib/python3.6/dist-packages (from spacy>=2.2.2->en_core_web_sm==2.2.5) (2.0.3)\n",
            "Requirement already satisfied: blis<0.5.0,>=0.4.0 in /usr/local/lib/python3.6/dist-packages (from spacy>=2.2.2->en_core_web_sm==2.2.5) (0.4.1)\n",
            "Requirement already satisfied: numpy>=1.15.0 in /usr/local/lib/python3.6/dist-packages (from spacy>=2.2.2->en_core_web_sm==2.2.5) (1.18.5)\n",
            "Requirement already satisfied: importlib-metadata>=0.20; python_version < \"3.8\" in /usr/local/lib/python3.6/dist-packages (from catalogue<1.1.0,>=0.0.7->spacy>=2.2.2->en_core_web_sm==2.2.5) (2.0.0)\n",
            "Requirement already satisfied: chardet<4,>=3.0.2 in /usr/local/lib/python3.6/dist-packages (from requests<3.0.0,>=2.13.0->spacy>=2.2.2->en_core_web_sm==2.2.5) (3.0.4)\n",
            "Requirement already satisfied: certifi>=2017.4.17 in /usr/local/lib/python3.6/dist-packages (from requests<3.0.0,>=2.13.0->spacy>=2.2.2->en_core_web_sm==2.2.5) (2020.6.20)\n",
            "Requirement already satisfied: urllib3!=1.25.0,!=1.25.1,<1.26,>=1.21.1 in /usr/local/lib/python3.6/dist-packages (from requests<3.0.0,>=2.13.0->spacy>=2.2.2->en_core_web_sm==2.2.5) (1.24.3)\n",
            "Requirement already satisfied: idna<3,>=2.5 in /usr/local/lib/python3.6/dist-packages (from requests<3.0.0,>=2.13.0->spacy>=2.2.2->en_core_web_sm==2.2.5) (2.10)\n",
            "Requirement already satisfied: zipp>=0.5 in /usr/local/lib/python3.6/dist-packages (from importlib-metadata>=0.20; python_version < \"3.8\"->catalogue<1.1.0,>=0.0.7->spacy>=2.2.2->en_core_web_sm==2.2.5) (3.2.0)\n",
            "\u001b[38;5;2m✔ Download and installation successful\u001b[0m\n",
            "You can now load the model via spacy.load('en_core_web_sm')\n",
            "Requirement already satisfied: en_core_web_sm==2.2.5 from https://github.com/explosion/spacy-models/releases/download/en_core_web_sm-2.2.5/en_core_web_sm-2.2.5.tar.gz#egg=en_core_web_sm==2.2.5 in /usr/local/lib/python3.6/dist-packages (2.2.5)\n",
            "Requirement already satisfied: spacy>=2.2.2 in /usr/local/lib/python3.6/dist-packages (from en_core_web_sm==2.2.5) (2.2.4)\n",
            "Requirement already satisfied: blis<0.5.0,>=0.4.0 in /usr/local/lib/python3.6/dist-packages (from spacy>=2.2.2->en_core_web_sm==2.2.5) (0.4.1)\n",
            "Requirement already satisfied: srsly<1.1.0,>=1.0.2 in /usr/local/lib/python3.6/dist-packages (from spacy>=2.2.2->en_core_web_sm==2.2.5) (1.0.2)\n",
            "Requirement already satisfied: preshed<3.1.0,>=3.0.2 in /usr/local/lib/python3.6/dist-packages (from spacy>=2.2.2->en_core_web_sm==2.2.5) (3.0.2)\n",
            "Requirement already satisfied: wasabi<1.1.0,>=0.4.0 in /usr/local/lib/python3.6/dist-packages (from spacy>=2.2.2->en_core_web_sm==2.2.5) (0.8.0)\n",
            "Requirement already satisfied: catalogue<1.1.0,>=0.0.7 in /usr/local/lib/python3.6/dist-packages (from spacy>=2.2.2->en_core_web_sm==2.2.5) (1.0.0)\n",
            "Requirement already satisfied: plac<1.2.0,>=0.9.6 in /usr/local/lib/python3.6/dist-packages (from spacy>=2.2.2->en_core_web_sm==2.2.5) (1.1.3)\n",
            "Requirement already satisfied: cymem<2.1.0,>=2.0.2 in /usr/local/lib/python3.6/dist-packages (from spacy>=2.2.2->en_core_web_sm==2.2.5) (2.0.3)\n",
            "Requirement already satisfied: requests<3.0.0,>=2.13.0 in /usr/local/lib/python3.6/dist-packages (from spacy>=2.2.2->en_core_web_sm==2.2.5) (2.23.0)\n",
            "Requirement already satisfied: setuptools in /usr/local/lib/python3.6/dist-packages (from spacy>=2.2.2->en_core_web_sm==2.2.5) (50.3.0)\n",
            "Requirement already satisfied: thinc==7.4.0 in /usr/local/lib/python3.6/dist-packages (from spacy>=2.2.2->en_core_web_sm==2.2.5) (7.4.0)\n",
            "Requirement already satisfied: numpy>=1.15.0 in /usr/local/lib/python3.6/dist-packages (from spacy>=2.2.2->en_core_web_sm==2.2.5) (1.18.5)\n",
            "Requirement already satisfied: tqdm<5.0.0,>=4.38.0 in /usr/local/lib/python3.6/dist-packages (from spacy>=2.2.2->en_core_web_sm==2.2.5) (4.41.1)\n",
            "Requirement already satisfied: murmurhash<1.1.0,>=0.28.0 in /usr/local/lib/python3.6/dist-packages (from spacy>=2.2.2->en_core_web_sm==2.2.5) (1.0.2)\n",
            "Requirement already satisfied: importlib-metadata>=0.20; python_version < \"3.8\" in /usr/local/lib/python3.6/dist-packages (from catalogue<1.1.0,>=0.0.7->spacy>=2.2.2->en_core_web_sm==2.2.5) (2.0.0)\n",
            "Requirement already satisfied: chardet<4,>=3.0.2 in /usr/local/lib/python3.6/dist-packages (from requests<3.0.0,>=2.13.0->spacy>=2.2.2->en_core_web_sm==2.2.5) (3.0.4)\n",
            "Requirement already satisfied: idna<3,>=2.5 in /usr/local/lib/python3.6/dist-packages (from requests<3.0.0,>=2.13.0->spacy>=2.2.2->en_core_web_sm==2.2.5) (2.10)\n",
            "Requirement already satisfied: certifi>=2017.4.17 in /usr/local/lib/python3.6/dist-packages (from requests<3.0.0,>=2.13.0->spacy>=2.2.2->en_core_web_sm==2.2.5) (2020.6.20)\n",
            "Requirement already satisfied: urllib3!=1.25.0,!=1.25.1,<1.26,>=1.21.1 in /usr/local/lib/python3.6/dist-packages (from requests<3.0.0,>=2.13.0->spacy>=2.2.2->en_core_web_sm==2.2.5) (1.24.3)\n",
            "Requirement already satisfied: zipp>=0.5 in /usr/local/lib/python3.6/dist-packages (from importlib-metadata>=0.20; python_version < \"3.8\"->catalogue<1.1.0,>=0.0.7->spacy>=2.2.2->en_core_web_sm==2.2.5) (3.2.0)\n",
            "\u001b[38;5;2m✔ Download and installation successful\u001b[0m\n",
            "You can now load the model via spacy.load('en_core_web_sm')\n",
            "\u001b[38;5;2m✔ Linking successful\u001b[0m\n",
            "/usr/local/lib/python3.6/dist-packages/en_core_web_sm -->\n",
            "/usr/local/lib/python3.6/dist-packages/spacy/data/en\n",
            "You can now load the model via spacy.load('en')\n"
          ],
          "name": "stdout"
        }
      ]
    },
    {
      "cell_type": "code",
      "metadata": {
        "id": "ye99iKv617qQ",
        "outputId": "8c20ef06-e50d-4368-d7ae-b37939ddbea8",
        "colab": {
          "base_uri": "https://localhost:8080/",
          "height": 34
        }
      },
      "source": [
        "tf_response"
      ],
      "execution_count": 5,
      "outputs": [
        {
          "output_type": "execute_result",
          "data": {
            "text/plain": [
              "{'COLAB': True, 'GPU': False, 'TF version': '', 'error': None, 'ram_gb': ''}"
            ]
          },
          "metadata": {
            "tags": []
          },
          "execution_count": 5
        }
      ]
    },
    {
      "cell_type": "markdown",
      "metadata": {
        "id": "IFNjTuvU1_C_"
      },
      "source": [
        "## ii. Importing modules\n"
      ]
    },
    {
      "cell_type": "code",
      "metadata": {
        "id": "OIh873U819qU"
      },
      "source": [
        "# Data analysis\n",
        "from collections import Counter\n",
        "import matplotlib.pyplot as plt\n",
        "import pandas as pd\n",
        "import numpy as np\n",
        "import sys\n",
        "import re\n",
        "\n",
        "%matplotlib inline\n",
        "\n",
        "# Image\n",
        "from wordcloud import WordCloud, STOPWORDS, ImageColorGenerator # to create a Word Cloud\n",
        "from PIL import Image # Pillow with WordCloud to image manipulation"
      ],
      "execution_count": 6,
      "outputs": []
    },
    {
      "cell_type": "code",
      "metadata": {
        "id": "6lhfhNt72CLr",
        "outputId": "41f3a99c-298d-406d-f589-0c3ce965e205",
        "colab": {
          "base_uri": "https://localhost:8080/",
          "height": 85
        }
      },
      "source": [
        "# nltk\n",
        "import nltk\n",
        "from nltk.corpus import stopwords\n",
        "from nltk.stem import WordNetLemmatizer\n",
        "\n",
        "nltk.download('stopwords')\n",
        "nltk.download('wordnet')\n",
        "\n",
        "STOPWORDS = set(stopwords.words('english'))"
      ],
      "execution_count": 7,
      "outputs": [
        {
          "output_type": "stream",
          "text": [
            "[nltk_data] Downloading package stopwords to /root/nltk_data...\n",
            "[nltk_data]   Package stopwords is already up-to-date!\n",
            "[nltk_data] Downloading package wordnet to /root/nltk_data...\n",
            "[nltk_data]   Package wordnet is already up-to-date!\n"
          ],
          "name": "stdout"
        }
      ]
    },
    {
      "cell_type": "code",
      "metadata": {
        "id": "T82WGVnN2EwF",
        "outputId": "42c9b78c-c71e-4533-b857-5ad75f030721",
        "colab": {
          "base_uri": "https://localhost:8080/",
          "height": 561
        }
      },
      "source": [
        "# Stanza NLP\n",
        "import stanza\n",
        "\n",
        "stanza.download('en', package='ewt', processors='tokenize,mwt,pos,lemma', verbose=True)\n",
        "stNLP = stanza.Pipeline(processors='tokenize,mwt,pos,lemma',\n",
        "                      lang='en',\n",
        "                      use_gpu=True)"
      ],
      "execution_count": 8,
      "outputs": [
        {
          "output_type": "stream",
          "text": [
            "Downloading https://raw.githubusercontent.com/stanfordnlp/stanza-resources/master/resources_1.1.0.json: 122kB [00:00, 35.6MB/s]                    \n",
            "2020-10-01 01:44:56 WARNING: Can not find mwt: ewt from official model list. Ignoring it.\n",
            "2020-10-01 01:44:56 INFO: Downloading these customized packages for language: en (English)...\n",
            "=======================\n",
            "| Processor | Package |\n",
            "-----------------------\n",
            "| tokenize  | ewt     |\n",
            "| pos       | ewt     |\n",
            "| lemma     | ewt     |\n",
            "| pretrain  | ewt     |\n",
            "=======================\n",
            "\n",
            "2020-10-01 01:44:56 INFO: File exists: /root/stanza_resources/en/tokenize/ewt.pt.\n",
            "2020-10-01 01:44:56 INFO: File exists: /root/stanza_resources/en/pos/ewt.pt.\n",
            "2020-10-01 01:44:56 INFO: File exists: /root/stanza_resources/en/lemma/ewt.pt.\n",
            "2020-10-01 01:44:57 INFO: File exists: /root/stanza_resources/en/pretrain/ewt.pt.\n",
            "2020-10-01 01:44:57 INFO: Finished downloading models and saved to /root/stanza_resources.\n",
            "2020-10-01 01:44:57 WARNING: Can not find mwt: default from official model list. Ignoring it.\n",
            "2020-10-01 01:44:57 INFO: Loading these models for language: en (English):\n",
            "=======================\n",
            "| Processor | Package |\n",
            "-----------------------\n",
            "| tokenize  | ewt     |\n",
            "| pos       | ewt     |\n",
            "| lemma     | ewt     |\n",
            "=======================\n",
            "\n",
            "2020-10-01 01:44:57 INFO: Use device: gpu\n",
            "2020-10-01 01:44:57 INFO: Loading: tokenize\n",
            "2020-10-01 01:45:01 INFO: Loading: pos\n",
            "2020-10-01 01:45:02 INFO: Loading: lemma\n",
            "2020-10-01 01:45:02 INFO: Done loading processors!\n"
          ],
          "name": "stderr"
        }
      ]
    },
    {
      "cell_type": "code",
      "metadata": {
        "id": "9236VgMj2Gwg",
        "outputId": "c719f2cb-4a39-4b24-9c23-c0f08de90163",
        "colab": {
          "base_uri": "https://localhost:8080/",
          "height": 136
        }
      },
      "source": [
        "# testing stanza\n",
        "doc = stNLP('Barack Obama was born in Hawai.')\n",
        "print(*[f'word: {word.text+\" \"}\\tlemma: {word.lemma}' for sent in doc.sentences for word in sent.words], sep='\\n')"
      ],
      "execution_count": 9,
      "outputs": [
        {
          "output_type": "stream",
          "text": [
            "word: Barack \tlemma: Barack\n",
            "word: Obama \tlemma: Obama\n",
            "word: was \tlemma: be\n",
            "word: born \tlemma: bear\n",
            "word: in \tlemma: in\n",
            "word: Hawai \tlemma: Hawai\n",
            "word: . \tlemma: .\n"
          ],
          "name": "stdout"
        }
      ]
    },
    {
      "cell_type": "code",
      "metadata": {
        "id": "-4QpRgR02IDL"
      },
      "source": [
        "# Spacy NLP\n",
        "import spacy\n",
        "spNLP = spacy.load('en_core_web_sm')\n",
        "spNLP.max_length = 103950039 # or higher\n",
        "# spacy.prefer_gpu() #will not work with stanza"
      ],
      "execution_count": 10,
      "outputs": []
    },
    {
      "cell_type": "markdown",
      "metadata": {
        "id": "x6iiQVT42Jo3"
      },
      "source": [
        "\n",
        "---\n",
        "\n",
        "# **2. Hyperparameters**\n",
        "\n",
        "---"
      ]
    },
    {
      "cell_type": "code",
      "metadata": {
        "id": "hIpxO61l0gcD"
      },
      "source": [
        "FILE = 'datasets/categories_dataset.csv'\n",
        "MODEL_PATH = './models/model.h5'"
      ],
      "execution_count": 11,
      "outputs": []
    },
    {
      "cell_type": "code",
      "metadata": {
        "id": "KUv__06r2LOQ"
      },
      "source": [
        "EPOCHS = 300\n",
        "BATCH_SIZE = 32\n",
        "\n",
        "training_portion = .8\n",
        "rnn_units = 64\n",
        "\n",
        "# embedding_dim : len(words) + 1\n",
        "# vocab_size : len(words.index) + 1\n",
        "vocab_size = 5000\n",
        "\n",
        "max_lenght = 30 # 200 # for padding_shape on preprocess function\n",
        "\n",
        "trunc_type = 'post'\n",
        "padding_type = 'post'\n",
        "padding_shape = 30\n",
        "oov_tok = '<OOV>'"
      ],
      "execution_count": 12,
      "outputs": []
    },
    {
      "cell_type": "code",
      "metadata": {
        "id": "YBKrSlNb0fIs"
      },
      "source": [
        "main_labels = ['confident', 'unconfident', \n",
        "               'pos_hp', 'neg_hp', \n",
        "               'interested', 'uninterested', \n",
        "               'happy', 'unhappy', \n",
        "               'friendly', 'unfriendly', \n",
        "               'POS']\n",
        "               \n",
        "label_dict = dict(zip(main_labels, range(1, len(main_labels) + 1)))"
      ],
      "execution_count": 13,
      "outputs": []
    },
    {
      "cell_type": "code",
      "metadata": {
        "id": "OyVrjQ46nEMd",
        "outputId": "8e422e36-20de-4289-8968-06a5f4fffb1f",
        "colab": {
          "base_uri": "https://localhost:8080/",
          "height": 204
        }
      },
      "source": [
        "label_dict"
      ],
      "execution_count": 14,
      "outputs": [
        {
          "output_type": "execute_result",
          "data": {
            "text/plain": [
              "{'POS': 11,\n",
              " 'confident': 1,\n",
              " 'friendly': 9,\n",
              " 'happy': 7,\n",
              " 'interested': 5,\n",
              " 'neg_hp': 4,\n",
              " 'pos_hp': 3,\n",
              " 'unconfident': 2,\n",
              " 'unfriendly': 10,\n",
              " 'unhappy': 8,\n",
              " 'uninterested': 6}"
            ]
          },
          "metadata": {
            "tags": []
          },
          "execution_count": 14
        }
      ]
    },
    {
      "cell_type": "markdown",
      "metadata": {
        "id": "lO32c_pD2NzO"
      },
      "source": [
        "---\n",
        "\n",
        "# **3. Lemmatization**\n",
        "\n",
        "---"
      ]
    },
    {
      "cell_type": "code",
      "metadata": {
        "id": "Lb6Wbv0U2OeH"
      },
      "source": [
        "# lemmatizion\n",
        "# stanza\n",
        "def stanza_lemma(text):\n",
        "    doc = stNLP(text)\n",
        "    return ' '.join([word.lemma for sent in doc.sentences for word in sent.words])"
      ],
      "execution_count": 15,
      "outputs": []
    },
    {
      "cell_type": "code",
      "metadata": {
        "id": "RdtBcgKB2PaB"
      },
      "source": [
        "def nltk_lemma(text):\n",
        "    lemmatizer = WordNetLemmatizer()\n",
        "    lemmatizer.lemmatize(text)"
      ],
      "execution_count": 16,
      "outputs": []
    },
    {
      "cell_type": "markdown",
      "metadata": {
        "id": "1yfg8TVR2SL_"
      },
      "source": [
        "---\n",
        "# **4. Load dataset**\n",
        "---"
      ]
    },
    {
      "cell_type": "code",
      "metadata": {
        "id": "gUCh3RCa2VS8"
      },
      "source": [
        "def load_clean_dataset():\n",
        "    !mkdir -p datasets\n",
        "    !wget -nc https://raw.githubusercontent.com/Y4rd13/sentiment-analysis/master/datasets/results/categories_dataset.csv -P datasets\n",
        "    df = pd.read_csv('./datasets/categories_dataset.csv', encoding='utf-8', index_col=0, dtype=({'score':float}))\n",
        "\n",
        "    print(df.head())\n",
        "    x, y = df['word'], df[['category', 'POS stza']] # or POS nltk\n",
        "    #x, y = np.array(x, dtype='<U33'), np.array(y, dtype='<U33')\n",
        "\n",
        "    return x, y"
      ],
      "execution_count": 17,
      "outputs": []
    },
    {
      "cell_type": "code",
      "metadata": {
        "id": "DtV-vu9XE9yf"
      },
      "source": [
        "# histogram\n",
        "from collections import Counter\n",
        "\n",
        "def histogram(text_arr, N=100, figsize=(8, 16)):\n",
        "    text = ' '.join([str(elem) for elem in text_arr])\n",
        "\n",
        "    words = text.split()\n",
        "    counts = Counter(words)\n",
        "    serie = pd.Series(counts) # convert dictionary to pandas.Series.object\n",
        "\n",
        "    # sort the values (in ascending order) of the serie and sleect the N most frequent words\n",
        "    first_N = serie.sort_values().tail(N) # simmilar to most_common but most efficient, because calculates the frequencies just once\n",
        "\n",
        "    ax = first_N.plot.barh(figsize=figsize) # make the horizontal bar plot, set the size of the figure\n",
        "    i = 0\n",
        "    xoffset = .1 # value to adjust the text label\n",
        "\n",
        "    for v in first_N.values:\n",
        "        # adds the text next to each bar\n",
        "        ax.text(y=i, x=v + xoffset, s=v, ha='left', va='center')\n",
        "        i += 1"
      ],
      "execution_count": null,
      "outputs": []
    },
    {
      "cell_type": "code",
      "metadata": {
        "id": "dIRU_-klFAw_"
      },
      "source": [
        "x_histo, y_histo = load_clean_dataset()\n",
        "x_train_histogram = np.array(list(y_histo), dtype='<U33')"
      ],
      "execution_count": null,
      "outputs": []
    },
    {
      "cell_type": "code",
      "metadata": {
        "id": "Sbk21coQFDh9"
      },
      "source": [
        "histogram(text_arr=x_train_histogram, N=10, figsize=(8, 16))"
      ],
      "execution_count": null,
      "outputs": []
    },
    {
      "cell_type": "markdown",
      "metadata": {
        "id": "kleN4LtF2-bg"
      },
      "source": [
        "---\n",
        "# **5. Prepare dataset**\n",
        "---"
      ]
    },
    {
      "cell_type": "code",
      "metadata": {
        "id": "uDdZHwMcolpC"
      },
      "source": [
        "def preprocess(x, padding_shape=30):\n",
        "    return np.array([ord(i.lower()) - ord('a')+1 if not i.isdigit() and i != ' ' else 0 for i in list(x)] + ([0] * (padding_shape - len(x))), dtype=int)"
      ],
      "execution_count": 18,
      "outputs": []
    },
    {
      "cell_type": "code",
      "metadata": {
        "id": "-y-Y8HxI3E7B"
      },
      "source": [
        "def prepare_dataset(labeldict : dict, test_size=.3, validation_size=.1): \n",
        "    print('preparing the dataset...\\n')\n",
        "    \n",
        "    from sklearn import preprocessing\n",
        "\n",
        "    # load dataset\n",
        "    # split dataset (as string into panda.core.series.Serie object)\n",
        "    x, y = load_clean_dataset()\n",
        "\n",
        "    x = np.array(list(map(preprocess, x)))\n",
        "    y = np.array(list(map(lambda x: labeldict[x.replace(' ', '_')], y['category'])))\n",
        "    print(('y: {}').format(y))\n",
        "\n",
        "    # create/split train, validation and test and shuffle the data\n",
        "    x_train, x_test, y_train, y_test = train_test_split(x, y, test_size=test_size, shuffle=True)\n",
        "    print(x.max(), x.min())\n",
        "\n",
        "    x_train_val, x_validation, y_train_val, y_validation = train_test_split(x_train, y_train, test_size=test_size, shuffle=True)\n",
        "\n",
        "    # pandas.core.series.Series to numpy array\n",
        "    x_train, y_train = np.array(x_train), np.array(y_train)\n",
        "    x_validation, y_validation =  np.array(x_validation), np.array(y_validation)\n",
        "    x_test, y_test = np.array(x_test), np.array(y_test)\n",
        "    \n",
        "    x_train_val, y_train_val = np.array(x_train_val), np.array(y_train_val)\n",
        "\n",
        "    print(('\\nx_train: \\n{}\\n\\ny_train: \\n{}').format(x_train_val, y_train_val))\n",
        "    \n",
        "    return (x_train, y_train), (x_validation, y_validation), (x_test, y_test), (x_train_val, y_train_val)"
      ],
      "execution_count": 19,
      "outputs": []
    },
    {
      "cell_type": "code",
      "metadata": {
        "id": "gpHOyVkIwY4r",
        "outputId": "b3da2bdb-623c-4566-f7f7-89d166709d3f",
        "colab": {
          "base_uri": "https://localhost:8080/",
          "height": 459
        }
      },
      "source": [
        "(x_train, y_train), (x_validation, y_validation), (x_test, y_test), (x_train_val, y_train_val) = prepare_dataset(label_dict)"
      ],
      "execution_count": 20,
      "outputs": [
        {
          "output_type": "stream",
          "text": [
            "preparing the dataset...\n",
            "\n",
            "File ‘datasets/categories_dataset.csv’ already there; not retrieving.\n",
            "\n",
            "    category          word  score  ...  POS stza  POS nlkt  POS spcy\n",
            "0  confident     tolerance   2.63  ...      NOUN      NOUN      NOUN\n",
            "1  confident         carry   0.46  ...      VERB      NOUN      VERB\n",
            "2  confident   tranquility   1.00  ...      NOUN      NOUN      NOUN\n",
            "3  confident  socontagious   2.69  ...       ADJ       ADJ       ADJ\n",
            "4  confident          zeal   1.00  ...      NOUN      NOUN     PROPN\n",
            "\n",
            "[5 rows x 14 columns]\n",
            "y: [ 1  1  1 ... 10 10 10]\n",
            "26 0\n",
            "\n",
            "x_train: \n",
            "[[20  1 24 ...  0  0  0]\n",
            " [ 4 21  4 ...  0  0  0]\n",
            " [ 2 12  5 ...  0  0  0]\n",
            " ...\n",
            " [16 18  5 ...  0  0  0]\n",
            " [19 14  5 ...  0  0  0]\n",
            " [ 6  9 12 ...  0  0  0]]\n",
            "\n",
            "y_train: \n",
            "[4 2 2 ... 6 1 4]\n"
          ],
          "name": "stdout"
        }
      ]
    },
    {
      "cell_type": "markdown",
      "metadata": {
        "id": "LQEwk09b4PD_"
      },
      "source": [
        "---\n",
        "# **4. Build model**\n",
        "---"
      ]
    },
    {
      "cell_type": "code",
      "metadata": {
        "id": "tD18U_yE4SOA"
      },
      "source": [
        "def build_model(vocab_size, embedding_dim=64, input_length=30):\n",
        "    print('\\nbuilding the model...\\n')\n",
        "    \n",
        "    model = tf.keras.Sequential([\n",
        "        tf.keras.layers.Embedding(input_dim=(vocab_size + 1), output_dim=embedding_dim, input_length=input_length),\n",
        "        \n",
        "        tf.keras.layers.Bidirectional(tf.keras.layers.LSTM(rnn_units, return_sequences=True, dropout=.2)),\n",
        "        tf.keras.layers.Bidirectional(tf.keras.layers.LSTM(rnn_units, return_sequences=True, dropout=.2)),\n",
        "        tf.keras.layers.GlobalMaxPool1D(),\n",
        "        tf.keras.layers.Dropout(.1),\n",
        "        tf.keras.layers.Dense(64, activation='tanh'), # instead of relu\n",
        "\n",
        "        # softmax output layer\n",
        "        tf.keras.layers.Dense(11, activation='softmax')\n",
        "    ])\n",
        "\n",
        "    # optimizer & loss\n",
        "    opt = 'RMSprop' # instead of # adam # tf.optimizers.Adam(leanirning_rate=1e-4)\n",
        "    loss = 'categorical_crossentropy'\n",
        "\n",
        "    # Metrics\n",
        "    # AUC: Computes the approximate AUC (Area Under the Curve) via a Riemann sum.\n",
        "    # Precision: Computes the precision of the predictions with respect to the labels.\n",
        "    # Recall: Computes the recall of the predictions with respect to the labels.\n",
        "    metrics = ['accuracy', 'AUC', 'Precision', 'Recall']\n",
        "\n",
        "    # compile model\n",
        "    model.compile(optimizer=opt,\n",
        "                  loss=loss,\n",
        "                  metrics=metrics)\n",
        "    \n",
        "    model.summary()\n",
        "    \n",
        "    return model"
      ],
      "execution_count": 21,
      "outputs": []
    },
    {
      "cell_type": "markdown",
      "metadata": {
        "id": "Zf048l554Uug"
      },
      "source": [
        "---\n",
        "# **6. Train model** \n",
        "---"
      ]
    },
    {
      "cell_type": "code",
      "metadata": {
        "id": "c-pVOZYb4T3T"
      },
      "source": [
        "def train(model, x_train, y_train, x_validation, y_validation,\n",
        "          epochs, batch_size=32, patience=5, \n",
        "          verbose=2, monitor_es='accuracy', mode_es='auto', restore=True,\n",
        "          monitor_mc='val_accuracy', mode_mc='max'):\n",
        "    \n",
        "    print('\\ntraining...\\n')\n",
        "    \n",
        "    # callback\n",
        "\n",
        "    # observation:\n",
        "    # test the best settings\n",
        "    early_stopping = tf.keras.callbacks.EarlyStopping(monitor=monitor_es,\n",
        "                                                      verbose=1, mode=mode_es, restore_best_weights=restore,\n",
        "                                                      min_delta=1e-3, patience=patience)\n",
        "    \n",
        "    model_checkpoint = tf.keras.callbacks.ModelCheckpoint('tfjsmode.h5', monitor=monitor_mc, mode=mode_mc,      \n",
        "                                                          verbose=1, save_best_only=True)\n",
        "\n",
        "    # train model\n",
        "    history = model.fit(x_train, y_train,\n",
        "                        batch_size=batch_size, epochs=epochs, verbose=verbose,\n",
        "                        validation_data=(x_validation, y_validation),\n",
        "                        callbacks=[early_stopping, model_checkpoint])\n",
        "    return history"
      ],
      "execution_count": 22,
      "outputs": []
    },
    {
      "cell_type": "markdown",
      "metadata": {
        "id": "gy3DyM-b4XPg"
      },
      "source": [
        "---\n",
        "# **7. Plotting history**\n",
        "---"
      ]
    },
    {
      "cell_type": "code",
      "metadata": {
        "id": "ssFJ3CIe4YPn"
      },
      "source": [
        "def plot_history_(history):\n",
        "    fitModel_dict = history.history\n",
        "    acc = fitModel_dict['accuracy']\n",
        "    val_acc = fitModel_dict['val_accuracy']\n",
        "    epochs = range(1, len(acc) + 1)\n",
        "    \n",
        "    plt.figure(figsize=(10, 6))\n",
        "    plt.plot(epochs, acc, 'bo', label = 'Training acc')\n",
        "    plt.plot(epochs, val_acc, 'b', label = 'Validation acc')\n",
        "    plt.title('Training and validation accuracy')\n",
        "    plt.xlabel('Epochs')\n",
        "    plt.ylabel('Accuracy')\n",
        "    plt.legend(loc = 'lower right')\n",
        "    plt.ylim((0.5, 1))\n",
        "\n",
        "    plt.show()\n",
        "\n",
        "def plot_history(history, string):\n",
        "    fitModel_dict = history.history\n",
        "\n",
        "    plt.figure(figsize=(10, 6))\n",
        "    plt.plot(fitModel_dict[string])\n",
        "    plt.plot(fitModel_dict['val_' + string])\n",
        "    plt.xlabel('Epochs')\n",
        "    plt.ylabel(string)\n",
        "    plt.legend([string, 'val_' + string])\n",
        "    plt.show()"
      ],
      "execution_count": 23,
      "outputs": []
    },
    {
      "cell_type": "markdown",
      "metadata": {
        "id": "oScqNNBXsL7Y"
      },
      "source": [
        "---\n",
        "# **8. Prediction**\n",
        "---"
      ]
    },
    {
      "cell_type": "code",
      "metadata": {
        "id": "ekhWVsv7sK7z"
      },
      "source": [
        "def predict(d : dict, s : str, model):\n",
        "    token = preprocess(s)\n",
        "    output = model.predict(np.array([token]))\n",
        "    id = int(tf.keras.backend.argmax(output))\n",
        "    print(output)\n",
        "    \n",
        "    for k, v in d.items():\n",
        "        if v == id:\n",
        "            return k\n",
        "    \n",
        "    return 'unclassified'"
      ],
      "execution_count": 24,
      "outputs": []
    },
    {
      "cell_type": "markdown",
      "metadata": {
        "id": "9FN5osTo4aC4"
      },
      "source": [
        "---\n",
        "# **9. Main**\n",
        "---"
      ]
    },
    {
      "cell_type": "code",
      "metadata": {
        "id": "DAb369Lh4ajo"
      },
      "source": [
        "def main():\n",
        "    # prepare the dataset\n",
        "    (x_train, y_train), (x_validation, y_validation), (x_test, y_test) = prepare_dataset(label_dict)\n",
        "    print(x_train.shape, x_validation.shape, x_test.shape)\n",
        "    print(y_train.shape, y_validation.shape, x_test.shape)\n",
        "    print(y_train)\n",
        "\n",
        "    # build the model\n",
        "    model = build_model()\n",
        "\n",
        "    # train the model\n",
        "    history = train(model=model, x_train=x_train, y_train=to_categorical(y_train),\n",
        "                    x_validation=x_validation, y_validation=to_categorical(y_validation),\n",
        "                    epochs=EPOCHS, verbose=1, monitor='accuracy')\n",
        "\n",
        "    # plot the training\n",
        "    plot_history_(history)\n",
        "\n",
        "    plot_history(history, 'accuracy')\n",
        "\n",
        "    # evaluate the model\n",
        "    test_loss, test_accuracy = model.evaluate(x_test, y_test)\n",
        "    evaluate_lst = list(map(lambda x: x * 100, [test_loss, test_accuracy]))\n",
        "    print('\\nTest:\\nLoss: {}\\nAccuracy: {}').format(evaluate_lst[0], evaluate_lst[1])\n",
        "\n",
        "    # predict\n",
        "    s = 'happy'\n",
        "    pred = predict(label_dict, s, model)\n",
        "    print('Word: {}'.format(s))\n",
        "    print('Prediction: {}'.format(pred))\n",
        "\n",
        "    # save the model\n",
        "    !mkdir models\n",
        "    model.save(MODEL_PATH)\n",
        "\n",
        "    # convert modeljs\n",
        "    tfjs.converters.save_keras_model(model, 'tfjsmodel') "
      ],
      "execution_count": 25,
      "outputs": []
    },
    {
      "cell_type": "markdown",
      "metadata": {
        "id": "02Lry1jA4b4w"
      },
      "source": [
        "---\n",
        "# **10. testing**\n",
        "---"
      ]
    },
    {
      "cell_type": "code",
      "metadata": {
        "id": "j1BALgvxi3_U",
        "outputId": "bd591501-33d3-4c58-f900-7fcd01e514c4",
        "colab": {
          "base_uri": "https://localhost:8080/",
          "height": 935
        }
      },
      "source": [
        "# prepare the dataset\n",
        "(x_train, y_train), (x_validation, y_validation), (x_test, y_test), (x_test_val, y_test_val) = prepare_dataset(label_dict)\n",
        "print(x_train.shape, x_validation.shape, x_test.shape)\n",
        "print(y_train.shape, y_validation.shape, x_test.shape)\n",
        "print(y_train)\n",
        "\n",
        "# build the model\n",
        "model = build_model(vocab_size)"
      ],
      "execution_count": 26,
      "outputs": [
        {
          "output_type": "stream",
          "text": [
            "preparing the dataset...\n",
            "\n",
            "File ‘datasets/categories_dataset.csv’ already there; not retrieving.\n",
            "\n",
            "    category          word  score  ...  POS stza  POS nlkt  POS spcy\n",
            "0  confident     tolerance   2.63  ...      NOUN      NOUN      NOUN\n",
            "1  confident         carry   0.46  ...      VERB      NOUN      VERB\n",
            "2  confident   tranquility   1.00  ...      NOUN      NOUN      NOUN\n",
            "3  confident  socontagious   2.69  ...       ADJ       ADJ       ADJ\n",
            "4  confident          zeal   1.00  ...      NOUN      NOUN     PROPN\n",
            "\n",
            "[5 rows x 14 columns]\n",
            "y: [ 1  1  1 ... 10 10 10]\n",
            "26 0\n",
            "\n",
            "x_train: \n",
            "[[ 4  9 19 ...  0  0  0]\n",
            " [ 1 16  1 ...  0  0  0]\n",
            " [ 2  9 12 ...  0  0  0]\n",
            " ...\n",
            " [13 15 22 ...  0  0  0]\n",
            " [ 3 18  9 ...  0  0  0]\n",
            " [21 19  5 ...  0  0  0]]\n",
            "\n",
            "y_train: \n",
            "[4 1 5 ... 1 1 2]\n",
            "(62870, 30) (18861, 30) (26945, 30)\n",
            "(62870,) (18861,) (26945, 30)\n",
            "[10  7  3 ... 10  5  2]\n",
            "\n",
            "building the model...\n",
            "\n",
            "Model: \"sequential\"\n",
            "_________________________________________________________________\n",
            "Layer (type)                 Output Shape              Param #   \n",
            "=================================================================\n",
            "embedding (Embedding)        (None, 30, 64)            320064    \n",
            "_________________________________________________________________\n",
            "bidirectional (Bidirectional (None, 30, 128)           66048     \n",
            "_________________________________________________________________\n",
            "bidirectional_1 (Bidirection (None, 30, 128)           98816     \n",
            "_________________________________________________________________\n",
            "global_max_pooling1d (Global (None, 128)               0         \n",
            "_________________________________________________________________\n",
            "dropout (Dropout)            (None, 128)               0         \n",
            "_________________________________________________________________\n",
            "dense (Dense)                (None, 64)                8256      \n",
            "_________________________________________________________________\n",
            "dense_1 (Dense)              (None, 11)                715       \n",
            "=================================================================\n",
            "Total params: 493,899\n",
            "Trainable params: 493,899\n",
            "Non-trainable params: 0\n",
            "_________________________________________________________________\n"
          ],
          "name": "stdout"
        }
      ]
    },
    {
      "cell_type": "code",
      "metadata": {
        "id": "XS_cMXislcAr",
        "outputId": "13f25d06-9c9b-4c16-d722-70281dcdd688",
        "colab": {
          "base_uri": "https://localhost:8080/",
          "height": 1000
        }
      },
      "source": [
        "# train the model\n",
        "\n",
        "# observations:\n",
        "# precision & recall 0.000e+00 in early epochs\n",
        "# on the first epoch: val_accuracy improved from -inf to 0.23\n",
        "# low accuracy\n",
        "# val_accuracy is low but higher than accuracy\n",
        "\n",
        "history = train(model=model, x_train=x_train, y_train=to_categorical(y_train), batch_size=BATCH_SIZE,\n",
        "                x_validation=x_validation, y_validation=to_categorical(y_validation),\n",
        "                epochs=EPOCHS, verbose=1, monitor_es='val_loss', mode_es='min', restore=False)"
      ],
      "execution_count": 27,
      "outputs": [
        {
          "output_type": "stream",
          "text": [
            "\n",
            "training...\n",
            "\n",
            "Epoch 1/300\n",
            "1964/1965 [============================>.] - ETA: 0s - loss: 2.1086 - accuracy: 0.2252 - auc: 0.7217 - precision: 0.0000e+00 - recall: 0.0000e+00\n",
            "Epoch 00001: val_accuracy improved from -inf to 0.23000, saving model to tfjsmode.h5\n",
            "1965/1965 [==============================] - 95s 48ms/step - loss: 2.1086 - accuracy: 0.2252 - auc: 0.7217 - precision: 0.0000e+00 - recall: 0.0000e+00 - val_loss: 2.0969 - val_accuracy: 0.2300 - val_auc: 0.7276 - val_precision: 0.0000e+00 - val_recall: 0.0000e+00\n",
            "Epoch 2/300\n",
            "1964/1965 [============================>.] - ETA: 0s - loss: 2.0908 - accuracy: 0.2292 - auc: 0.7300 - precision: 0.3333 - recall: 1.5911e-05\n",
            "Epoch 00002: val_accuracy did not improve from 0.23000\n",
            "1965/1965 [==============================] - 93s 48ms/step - loss: 2.0908 - accuracy: 0.2292 - auc: 0.7300 - precision: 0.3333 - recall: 1.5906e-05 - val_loss: 2.0801 - val_accuracy: 0.2266 - val_auc: 0.7344 - val_precision: 0.0000e+00 - val_recall: 0.0000e+00\n",
            "Epoch 3/300\n",
            "1965/1965 [==============================] - ETA: 0s - loss: 2.0817 - accuracy: 0.2309 - auc: 0.7338 - precision: 0.0000e+00 - recall: 0.0000e+00\n",
            "Epoch 00003: val_accuracy improved from 0.23000 to 0.23329, saving model to tfjsmode.h5\n",
            "1965/1965 [==============================] - 93s 48ms/step - loss: 2.0817 - accuracy: 0.2309 - auc: 0.7338 - precision: 0.0000e+00 - recall: 0.0000e+00 - val_loss: 2.0757 - val_accuracy: 0.2333 - val_auc: 0.7373 - val_precision: 0.0000e+00 - val_recall: 0.0000e+00\n",
            "Epoch 4/300\n",
            "1965/1965 [==============================] - ETA: 0s - loss: 2.0720 - accuracy: 0.2375 - auc: 0.7377 - precision: 0.4737 - recall: 1.4315e-04\n",
            "Epoch 00004: val_accuracy improved from 0.23329 to 0.24214, saving model to tfjsmode.h5\n",
            "1965/1965 [==============================] - 94s 48ms/step - loss: 2.0720 - accuracy: 0.2375 - auc: 0.7377 - precision: 0.4737 - recall: 1.4315e-04 - val_loss: 2.0604 - val_accuracy: 0.2421 - val_auc: 0.7451 - val_precision: 0.0000e+00 - val_recall: 0.0000e+00\n",
            "Epoch 5/300\n",
            "1965/1965 [==============================] - ETA: 0s - loss: 2.0597 - accuracy: 0.2420 - auc: 0.7427 - precision: 0.2903 - recall: 2.8631e-04\n",
            "Epoch 00005: val_accuracy improved from 0.24214 to 0.24707, saving model to tfjsmode.h5\n",
            "1965/1965 [==============================] - 94s 48ms/step - loss: 2.0597 - accuracy: 0.2420 - auc: 0.7427 - precision: 0.2903 - recall: 2.8631e-04 - val_loss: 2.0378 - val_accuracy: 0.2471 - val_auc: 0.7510 - val_precision: 0.6364 - val_recall: 3.7114e-04\n",
            "Epoch 6/300\n",
            "1965/1965 [==============================] - ETA: 0s - loss: 2.0428 - accuracy: 0.2482 - auc: 0.7493 - precision: 0.2973 - recall: 3.4993e-04\n",
            "Epoch 00006: val_accuracy improved from 0.24707 to 0.24749, saving model to tfjsmode.h5\n",
            "1965/1965 [==============================] - 94s 48ms/step - loss: 2.0428 - accuracy: 0.2482 - auc: 0.7493 - precision: 0.2973 - recall: 3.4993e-04 - val_loss: 2.0301 - val_accuracy: 0.2475 - val_auc: 0.7547 - val_precision: 0.5882 - val_recall: 5.3019e-04\n",
            "Epoch 7/300\n",
            "1965/1965 [==============================] - ETA: 0s - loss: 2.0274 - accuracy: 0.2532 - auc: 0.7549 - precision: 0.4522 - recall: 8.2710e-04\n",
            "Epoch 00007: val_accuracy improved from 0.24749 to 0.26817, saving model to tfjsmode.h5\n",
            "1965/1965 [==============================] - 93s 48ms/step - loss: 2.0274 - accuracy: 0.2532 - auc: 0.7549 - precision: 0.4522 - recall: 8.2710e-04 - val_loss: 1.9936 - val_accuracy: 0.2682 - val_auc: 0.7678 - val_precision: 0.6522 - val_recall: 7.9529e-04\n",
            "Epoch 8/300\n",
            "1964/1965 [============================>.] - ETA: 0s - loss: 2.0073 - accuracy: 0.2613 - auc: 0.7621 - precision: 0.4528 - recall: 0.0011\n",
            "Epoch 00008: val_accuracy improved from 0.26817 to 0.26823, saving model to tfjsmode.h5\n",
            "1965/1965 [==============================] - 94s 48ms/step - loss: 2.0073 - accuracy: 0.2613 - auc: 0.7621 - precision: 0.4528 - recall: 0.0011 - val_loss: 1.9696 - val_accuracy: 0.2682 - val_auc: 0.7756 - val_precision: 0.4433 - val_recall: 0.0023\n",
            "Epoch 9/300\n",
            "1965/1965 [==============================] - ETA: 0s - loss: 1.9862 - accuracy: 0.2657 - auc: 0.7691 - precision: 0.4764 - recall: 0.0018\n",
            "Epoch 00009: val_accuracy improved from 0.26823 to 0.27644, saving model to tfjsmode.h5\n",
            "1965/1965 [==============================] - 93s 47ms/step - loss: 1.9862 - accuracy: 0.2657 - auc: 0.7691 - precision: 0.4764 - recall: 0.0018 - val_loss: 1.9482 - val_accuracy: 0.2764 - val_auc: 0.7821 - val_precision: 0.5405 - val_recall: 0.0011\n",
            "Epoch 10/300\n",
            "1965/1965 [==============================] - ETA: 0s - loss: 1.9672 - accuracy: 0.2728 - auc: 0.7753 - precision: 0.4238 - recall: 0.0018\n",
            "Epoch 00010: val_accuracy improved from 0.27644 to 0.28912, saving model to tfjsmode.h5\n",
            "1965/1965 [==============================] - 93s 47ms/step - loss: 1.9672 - accuracy: 0.2728 - auc: 0.7753 - precision: 0.4238 - recall: 0.0018 - val_loss: 1.9161 - val_accuracy: 0.2891 - val_auc: 0.7914 - val_precision: 0.5052 - val_recall: 0.0026\n",
            "Epoch 11/300\n",
            "1965/1965 [==============================] - ETA: 0s - loss: 1.9511 - accuracy: 0.2765 - auc: 0.7805 - precision: 0.4400 - recall: 0.0017\n",
            "Epoch 00011: val_accuracy did not improve from 0.28912\n",
            "1965/1965 [==============================] - 93s 47ms/step - loss: 1.9511 - accuracy: 0.2765 - auc: 0.7805 - precision: 0.4400 - recall: 0.0017 - val_loss: 1.9020 - val_accuracy: 0.2878 - val_auc: 0.7959 - val_precision: 0.5455 - val_recall: 6.3623e-04\n",
            "Epoch 12/300\n",
            "1964/1965 [============================>.] - ETA: 0s - loss: 1.9330 - accuracy: 0.2821 - auc: 0.7861 - precision: 0.4110 - recall: 0.0014\n",
            "Epoch 00012: val_accuracy improved from 0.28912 to 0.29866, saving model to tfjsmode.h5\n",
            "1965/1965 [==============================] - 92s 47ms/step - loss: 1.9330 - accuracy: 0.2821 - auc: 0.7861 - precision: 0.4110 - recall: 0.0014 - val_loss: 1.8726 - val_accuracy: 0.2987 - val_auc: 0.8043 - val_precision: 0.5652 - val_recall: 6.8925e-04\n",
            "Epoch 13/300\n",
            "1964/1965 [============================>.] - ETA: 0s - loss: 1.9179 - accuracy: 0.2871 - auc: 0.7906 - precision: 0.4685 - recall: 0.0025\n",
            "Epoch 00013: val_accuracy improved from 0.29866 to 0.29972, saving model to tfjsmode.h5\n",
            "1965/1965 [==============================] - 93s 47ms/step - loss: 1.9179 - accuracy: 0.2871 - auc: 0.7906 - precision: 0.4685 - recall: 0.0025 - val_loss: 1.8651 - val_accuracy: 0.2997 - val_auc: 0.8071 - val_precision: 0.5096 - val_recall: 0.0028\n",
            "Epoch 14/300\n",
            "1965/1965 [==============================] - ETA: 0s - loss: 1.9090 - accuracy: 0.2894 - auc: 0.7933 - precision: 0.4562 - recall: 0.0027\n",
            "Epoch 00014: val_accuracy improved from 0.29972 to 0.30772, saving model to tfjsmode.h5\n",
            "1965/1965 [==============================] - 93s 48ms/step - loss: 1.9090 - accuracy: 0.2894 - auc: 0.7933 - precision: 0.4562 - recall: 0.0027 - val_loss: 1.8429 - val_accuracy: 0.3077 - val_auc: 0.8129 - val_precision: 0.4872 - val_recall: 0.0030\n",
            "Epoch 15/300\n",
            "1964/1965 [============================>.] - ETA: 0s - loss: 1.8934 - accuracy: 0.2945 - auc: 0.7978 - precision: 0.4728 - recall: 0.0032\n",
            "Epoch 00015: val_accuracy improved from 0.30772 to 0.30921, saving model to tfjsmode.h5\n",
            "1965/1965 [==============================] - 94s 48ms/step - loss: 1.8934 - accuracy: 0.2945 - auc: 0.7978 - precision: 0.4728 - recall: 0.0032 - val_loss: 1.8253 - val_accuracy: 0.3092 - val_auc: 0.8173 - val_precision: 0.4691 - val_recall: 0.0020\n",
            "Epoch 16/300\n",
            "1964/1965 [============================>.] - ETA: 0s - loss: 1.8790 - accuracy: 0.2970 - auc: 0.8019 - precision: 0.4186 - recall: 0.0029\n",
            "Epoch 00016: val_accuracy improved from 0.30921 to 0.31674, saving model to tfjsmode.h5\n",
            "1965/1965 [==============================] - 93s 47ms/step - loss: 1.8790 - accuracy: 0.2970 - auc: 0.8019 - precision: 0.4186 - recall: 0.0029 - val_loss: 1.8152 - val_accuracy: 0.3167 - val_auc: 0.8196 - val_precision: 0.5133 - val_recall: 0.0031\n",
            "Epoch 17/300\n",
            "1965/1965 [==============================] - ETA: 0s - loss: 1.8710 - accuracy: 0.2968 - auc: 0.8041 - precision: 0.4654 - recall: 0.0036\n",
            "Epoch 00017: val_accuracy improved from 0.31674 to 0.32167, saving model to tfjsmode.h5\n",
            "1965/1965 [==============================] - 92s 47ms/step - loss: 1.8710 - accuracy: 0.2968 - auc: 0.8041 - precision: 0.4654 - recall: 0.0036 - val_loss: 1.7968 - val_accuracy: 0.3217 - val_auc: 0.8240 - val_precision: 0.6667 - val_recall: 6.3623e-04\n",
            "Epoch 18/300\n",
            "1965/1965 [==============================] - ETA: 0s - loss: 1.8618 - accuracy: 0.3020 - auc: 0.8067 - precision: 0.4447 - recall: 0.0035\n",
            "Epoch 00018: val_accuracy did not improve from 0.32167\n",
            "1965/1965 [==============================] - 95s 49ms/step - loss: 1.8618 - accuracy: 0.3020 - auc: 0.8067 - precision: 0.4447 - recall: 0.0035 - val_loss: 1.7911 - val_accuracy: 0.3192 - val_auc: 0.8260 - val_precision: 0.4422 - val_recall: 0.0034\n",
            "Epoch 19/300\n",
            "1964/1965 [============================>.] - ETA: 0s - loss: 1.8531 - accuracy: 0.3036 - auc: 0.8089 - precision: 0.4735 - recall: 0.0047\n",
            "Epoch 00019: val_accuracy improved from 0.32167 to 0.32278, saving model to tfjsmode.h5\n",
            "1965/1965 [==============================] - 94s 48ms/step - loss: 1.8531 - accuracy: 0.3036 - auc: 0.8089 - precision: 0.4735 - recall: 0.0047 - val_loss: 1.7809 - val_accuracy: 0.3228 - val_auc: 0.8290 - val_precision: 0.6364 - val_recall: 3.7114e-04\n",
            "Epoch 20/300\n",
            "1965/1965 [==============================] - ETA: 0s - loss: 1.8435 - accuracy: 0.3077 - auc: 0.8116 - precision: 0.4559 - recall: 0.0049\n",
            "Epoch 00020: val_accuracy improved from 0.32278 to 0.33079, saving model to tfjsmode.h5\n",
            "1965/1965 [==============================] - 93s 47ms/step - loss: 1.8435 - accuracy: 0.3077 - auc: 0.8116 - precision: 0.4559 - recall: 0.0049 - val_loss: 1.7620 - val_accuracy: 0.3308 - val_auc: 0.8333 - val_precision: 0.5595 - val_recall: 0.0050\n",
            "Epoch 21/300\n",
            "1965/1965 [==============================] - ETA: 0s - loss: 1.8325 - accuracy: 0.3097 - auc: 0.8143 - precision: 0.4796 - recall: 0.0058\n",
            "Epoch 00021: val_accuracy did not improve from 0.33079\n",
            "1965/1965 [==============================] - 94s 48ms/step - loss: 1.8325 - accuracy: 0.3097 - auc: 0.8143 - precision: 0.4796 - recall: 0.0058 - val_loss: 1.7571 - val_accuracy: 0.3259 - val_auc: 0.8343 - val_precision: 0.5938 - val_recall: 0.0010\n",
            "Epoch 22/300\n",
            "1965/1965 [==============================] - ETA: 0s - loss: 1.8275 - accuracy: 0.3104 - auc: 0.8157 - precision: 0.4778 - recall: 0.0063\n",
            "Epoch 00022: val_accuracy improved from 0.33079 to 0.33487, saving model to tfjsmode.h5\n",
            "1965/1965 [==============================] - 94s 48ms/step - loss: 1.8275 - accuracy: 0.3104 - auc: 0.8157 - precision: 0.4778 - recall: 0.0063 - val_loss: 1.7472 - val_accuracy: 0.3349 - val_auc: 0.8365 - val_precision: 0.6389 - val_recall: 0.0012\n",
            "Epoch 23/300\n",
            "1964/1965 [============================>.] - ETA: 0s - loss: 1.8210 - accuracy: 0.3082 - auc: 0.8175 - precision: 0.4517 - recall: 0.0060\n",
            "Epoch 00023: val_accuracy did not improve from 0.33487\n",
            "1965/1965 [==============================] - 93s 48ms/step - loss: 1.8209 - accuracy: 0.3083 - auc: 0.8175 - precision: 0.4517 - recall: 0.0059 - val_loss: 1.7354 - val_accuracy: 0.3306 - val_auc: 0.8388 - val_precision: 0.5556 - val_recall: 0.0056\n",
            "Epoch 24/300\n",
            "1964/1965 [============================>.] - ETA: 0s - loss: 1.8117 - accuracy: 0.3150 - auc: 0.8198 - precision: 0.4682 - recall: 0.0070\n",
            "Epoch 00024: val_accuracy did not improve from 0.33487\n",
            "1965/1965 [==============================] - 93s 48ms/step - loss: 1.8117 - accuracy: 0.3149 - auc: 0.8198 - precision: 0.4683 - recall: 0.0070 - val_loss: 1.7323 - val_accuracy: 0.3328 - val_auc: 0.8404 - val_precision: 0.4803 - val_recall: 0.0207\n",
            "Epoch 25/300\n",
            "1965/1965 [==============================] - ETA: 0s - loss: 1.8070 - accuracy: 0.3149 - auc: 0.8210 - precision: 0.4806 - recall: 0.0085\n",
            "Epoch 00025: val_accuracy improved from 0.33487 to 0.33561, saving model to tfjsmode.h5\n",
            "1965/1965 [==============================] - 94s 48ms/step - loss: 1.8070 - accuracy: 0.3149 - auc: 0.8210 - precision: 0.4806 - recall: 0.0085 - val_loss: 1.7170 - val_accuracy: 0.3356 - val_auc: 0.8432 - val_precision: 0.6232 - val_recall: 0.0023\n",
            "Epoch 26/300\n",
            "1965/1965 [==============================] - ETA: 0s - loss: 1.8018 - accuracy: 0.3148 - auc: 0.8223 - precision: 0.4798 - recall: 0.0070\n",
            "Epoch 00026: val_accuracy did not improve from 0.33561\n",
            "1965/1965 [==============================] - 95s 48ms/step - loss: 1.8018 - accuracy: 0.3148 - auc: 0.8223 - precision: 0.4798 - recall: 0.0070 - val_loss: 1.7131 - val_accuracy: 0.3352 - val_auc: 0.8444 - val_precision: 0.4764 - val_recall: 0.0198\n",
            "Epoch 27/300\n",
            "1964/1965 [============================>.] - ETA: 0s - loss: 1.7932 - accuracy: 0.3173 - auc: 0.8244 - precision: 0.4710 - recall: 0.0083\n",
            "Epoch 00027: val_accuracy improved from 0.33561 to 0.34044, saving model to tfjsmode.h5\n",
            "1965/1965 [==============================] - 95s 48ms/step - loss: 1.7932 - accuracy: 0.3173 - auc: 0.8244 - precision: 0.4710 - recall: 0.0083 - val_loss: 1.7079 - val_accuracy: 0.3404 - val_auc: 0.8453 - val_precision: 0.6029 - val_recall: 0.0022\n",
            "Epoch 28/300\n",
            "1965/1965 [==============================] - ETA: 0s - loss: 1.7917 - accuracy: 0.3178 - auc: 0.8248 - precision: 0.4888 - recall: 0.0080\n",
            "Epoch 00028: val_accuracy improved from 0.34044 to 0.34335, saving model to tfjsmode.h5\n",
            "1965/1965 [==============================] - 97s 49ms/step - loss: 1.7917 - accuracy: 0.3178 - auc: 0.8248 - precision: 0.4888 - recall: 0.0080 - val_loss: 1.7012 - val_accuracy: 0.3434 - val_auc: 0.8472 - val_precision: 0.5325 - val_recall: 0.0091\n",
            "Epoch 29/300\n",
            "1965/1965 [==============================] - ETA: 0s - loss: 1.7864 - accuracy: 0.3181 - auc: 0.8262 - precision: 0.4926 - recall: 0.0079\n",
            "Epoch 00029: val_accuracy improved from 0.34335 to 0.34526, saving model to tfjsmode.h5\n",
            "1965/1965 [==============================] - 97s 49ms/step - loss: 1.7864 - accuracy: 0.3181 - auc: 0.8262 - precision: 0.4926 - recall: 0.0079 - val_loss: 1.6938 - val_accuracy: 0.3453 - val_auc: 0.8490 - val_precision: 0.5440 - val_recall: 0.0052\n",
            "Epoch 30/300\n",
            "1965/1965 [==============================] - ETA: 0s - loss: 1.7834 - accuracy: 0.3209 - auc: 0.8269 - precision: 0.4938 - recall: 0.0095\n",
            "Epoch 00030: val_accuracy did not improve from 0.34526\n",
            "1965/1965 [==============================] - 97s 49ms/step - loss: 1.7834 - accuracy: 0.3209 - auc: 0.8269 - precision: 0.4938 - recall: 0.0095 - val_loss: 1.6875 - val_accuracy: 0.3429 - val_auc: 0.8500 - val_precision: 0.5612 - val_recall: 0.0058\n",
            "Epoch 31/300\n",
            "1965/1965 [==============================] - ETA: 0s - loss: 1.7760 - accuracy: 0.3231 - auc: 0.8287 - precision: 0.4749 - recall: 0.0093\n",
            "Epoch 00031: val_accuracy improved from 0.34526 to 0.34961, saving model to tfjsmode.h5\n",
            "1965/1965 [==============================] - 97s 49ms/step - loss: 1.7760 - accuracy: 0.3231 - auc: 0.8287 - precision: 0.4749 - recall: 0.0093 - val_loss: 1.6785 - val_accuracy: 0.3496 - val_auc: 0.8524 - val_precision: 0.7241 - val_recall: 0.0033\n",
            "Epoch 32/300\n",
            "1964/1965 [============================>.] - ETA: 0s - loss: 1.7724 - accuracy: 0.3229 - auc: 0.8294 - precision: 0.4786 - recall: 0.0099\n",
            "Epoch 00032: val_accuracy improved from 0.34961 to 0.35131, saving model to tfjsmode.h5\n",
            "1965/1965 [==============================] - 96s 49ms/step - loss: 1.7724 - accuracy: 0.3228 - auc: 0.8294 - precision: 0.4786 - recall: 0.0099 - val_loss: 1.6732 - val_accuracy: 0.3513 - val_auc: 0.8532 - val_precision: 0.6992 - val_recall: 0.0046\n",
            "Epoch 33/300\n",
            "1964/1965 [============================>.] - ETA: 0s - loss: 1.7665 - accuracy: 0.3222 - auc: 0.8309 - precision: 0.4971 - recall: 0.0110\n",
            "Epoch 00033: val_accuracy did not improve from 0.35131\n",
            "1965/1965 [==============================] - 98s 50ms/step - loss: 1.7664 - accuracy: 0.3222 - auc: 0.8310 - precision: 0.4971 - recall: 0.0110 - val_loss: 1.6712 - val_accuracy: 0.3499 - val_auc: 0.8533 - val_precision: 0.6023 - val_recall: 0.0056\n",
            "Epoch 34/300\n",
            "1965/1965 [==============================] - ETA: 0s - loss: 1.7637 - accuracy: 0.3242 - auc: 0.8316 - precision: 0.4782 - recall: 0.0112\n",
            "Epoch 00034: val_accuracy improved from 0.35131 to 0.35348, saving model to tfjsmode.h5\n",
            "1965/1965 [==============================] - 99s 50ms/step - loss: 1.7637 - accuracy: 0.3242 - auc: 0.8316 - precision: 0.4782 - recall: 0.0112 - val_loss: 1.6648 - val_accuracy: 0.3535 - val_auc: 0.8547 - val_precision: 0.5655 - val_recall: 0.0144\n",
            "Epoch 35/300\n",
            "1964/1965 [============================>.] - ETA: 0s - loss: 1.7604 - accuracy: 0.3234 - auc: 0.8323 - precision: 0.4950 - recall: 0.0110\n",
            "Epoch 00035: val_accuracy did not improve from 0.35348\n",
            "1965/1965 [==============================] - 98s 50ms/step - loss: 1.7604 - accuracy: 0.3234 - auc: 0.8323 - precision: 0.4947 - recall: 0.0110 - val_loss: 1.6616 - val_accuracy: 0.3517 - val_auc: 0.8546 - val_precision: 0.6311 - val_recall: 0.0075\n",
            "Epoch 36/300\n",
            "1965/1965 [==============================] - ETA: 0s - loss: 1.7570 - accuracy: 0.3275 - auc: 0.8331 - precision: 0.4836 - recall: 0.0120\n",
            "Epoch 00036: val_accuracy improved from 0.35348 to 0.35512, saving model to tfjsmode.h5\n",
            "1965/1965 [==============================] - 98s 50ms/step - loss: 1.7570 - accuracy: 0.3275 - auc: 0.8331 - precision: 0.4836 - recall: 0.0120 - val_loss: 1.6553 - val_accuracy: 0.3551 - val_auc: 0.8562 - val_precision: 0.5306 - val_recall: 0.0124\n",
            "Epoch 37/300\n",
            "1964/1965 [============================>.] - ETA: 0s - loss: 1.7531 - accuracy: 0.3256 - auc: 0.8340 - precision: 0.5012 - recall: 0.0129\n",
            "Epoch 00037: val_accuracy did not improve from 0.35512\n",
            "1965/1965 [==============================] - 98s 50ms/step - loss: 1.7531 - accuracy: 0.3256 - auc: 0.8340 - precision: 0.5012 - recall: 0.0129 - val_loss: 1.6600 - val_accuracy: 0.3541 - val_auc: 0.8566 - val_precision: 0.6420 - val_recall: 0.0060\n",
            "Epoch 38/300\n",
            "1965/1965 [==============================] - ETA: 0s - loss: 1.7527 - accuracy: 0.3255 - auc: 0.8342 - precision: 0.4969 - recall: 0.0115\n",
            "Epoch 00038: val_accuracy did not improve from 0.35512\n",
            "1965/1965 [==============================] - 99s 50ms/step - loss: 1.7527 - accuracy: 0.3255 - auc: 0.8342 - precision: 0.4969 - recall: 0.0115 - val_loss: 1.6539 - val_accuracy: 0.3449 - val_auc: 0.8561 - val_precision: 0.4831 - val_recall: 0.0433\n",
            "Epoch 39/300\n",
            "1965/1965 [==============================] - ETA: 0s - loss: 1.7503 - accuracy: 0.3298 - auc: 0.8347 - precision: 0.5009 - recall: 0.0128\n",
            "Epoch 00039: val_accuracy improved from 0.35512 to 0.35979, saving model to tfjsmode.h5\n",
            "1965/1965 [==============================] - 98s 50ms/step - loss: 1.7503 - accuracy: 0.3298 - auc: 0.8347 - precision: 0.5009 - recall: 0.0128 - val_loss: 1.6431 - val_accuracy: 0.3598 - val_auc: 0.8592 - val_precision: 0.5463 - val_recall: 0.0160\n",
            "Epoch 40/300\n",
            "1964/1965 [============================>.] - ETA: 0s - loss: 1.7440 - accuracy: 0.3312 - auc: 0.8361 - precision: 0.5069 - recall: 0.0152\n",
            "Epoch 00040: val_accuracy did not improve from 0.35979\n",
            "1965/1965 [==============================] - 98s 50ms/step - loss: 1.7439 - accuracy: 0.3313 - auc: 0.8361 - precision: 0.5066 - recall: 0.0152 - val_loss: 1.6399 - val_accuracy: 0.3572 - val_auc: 0.8604 - val_precision: 0.6066 - val_recall: 0.0118\n",
            "Epoch 41/300\n",
            "1965/1965 [==============================] - ETA: 0s - loss: 1.7395 - accuracy: 0.3301 - auc: 0.8372 - precision: 0.5054 - recall: 0.0164\n",
            "Epoch 00041: val_accuracy did not improve from 0.35979\n",
            "1965/1965 [==============================] - 100s 51ms/step - loss: 1.7395 - accuracy: 0.3301 - auc: 0.8372 - precision: 0.5054 - recall: 0.0164 - val_loss: 1.6344 - val_accuracy: 0.3595 - val_auc: 0.8605 - val_precision: 0.5871 - val_recall: 0.0145\n",
            "Epoch 42/300\n",
            "1965/1965 [==============================] - ETA: 0s - loss: 1.7375 - accuracy: 0.3316 - auc: 0.8376 - precision: 0.4995 - recall: 0.0159\n",
            "Epoch 00042: val_accuracy improved from 0.35979 to 0.36006, saving model to tfjsmode.h5\n",
            "1965/1965 [==============================] - 98s 50ms/step - loss: 1.7375 - accuracy: 0.3316 - auc: 0.8376 - precision: 0.4995 - recall: 0.0159 - val_loss: 1.6387 - val_accuracy: 0.3601 - val_auc: 0.8608 - val_precision: 0.5995 - val_recall: 0.0125\n",
            "Epoch 43/300\n",
            "1964/1965 [============================>.] - ETA: 0s - loss: 1.7383 - accuracy: 0.3301 - auc: 0.8375 - precision: 0.4850 - recall: 0.0139\n",
            "Epoch 00043: val_accuracy improved from 0.36006 to 0.36393, saving model to tfjsmode.h5\n",
            "1965/1965 [==============================] - 99s 51ms/step - loss: 1.7383 - accuracy: 0.3302 - auc: 0.8375 - precision: 0.4848 - recall: 0.0139 - val_loss: 1.6251 - val_accuracy: 0.3639 - val_auc: 0.8630 - val_precision: 0.5880 - val_recall: 0.0129\n",
            "Epoch 44/300\n",
            "1964/1965 [============================>.] - ETA: 0s - loss: 1.7342 - accuracy: 0.3318 - auc: 0.8383 - precision: 0.5170 - recall: 0.0174\n",
            "Epoch 00044: val_accuracy improved from 0.36393 to 0.36684, saving model to tfjsmode.h5\n",
            "1965/1965 [==============================] - 99s 51ms/step - loss: 1.7342 - accuracy: 0.3318 - auc: 0.8383 - precision: 0.5170 - recall: 0.0174 - val_loss: 1.6197 - val_accuracy: 0.3668 - val_auc: 0.8645 - val_precision: 0.6667 - val_recall: 0.0102\n",
            "Epoch 45/300\n",
            "1965/1965 [==============================] - ETA: 0s - loss: 1.7314 - accuracy: 0.3339 - auc: 0.8389 - precision: 0.5037 - recall: 0.0171\n",
            "Epoch 00045: val_accuracy did not improve from 0.36684\n",
            "1965/1965 [==============================] - 98s 50ms/step - loss: 1.7314 - accuracy: 0.3339 - auc: 0.8389 - precision: 0.5037 - recall: 0.0171 - val_loss: 1.6165 - val_accuracy: 0.3650 - val_auc: 0.8649 - val_precision: 0.7095 - val_recall: 0.0067\n",
            "Epoch 46/300\n",
            "1965/1965 [==============================] - ETA: 0s - loss: 1.7285 - accuracy: 0.3332 - auc: 0.8397 - precision: 0.4672 - recall: 0.0131\n",
            "Epoch 00046: val_accuracy did not improve from 0.36684\n",
            "1965/1965 [==============================] - 98s 50ms/step - loss: 1.7285 - accuracy: 0.3332 - auc: 0.8397 - precision: 0.4672 - recall: 0.0131 - val_loss: 1.6225 - val_accuracy: 0.3616 - val_auc: 0.8630 - val_precision: 0.4896 - val_recall: 0.0324\n",
            "Epoch 47/300\n",
            "1964/1965 [============================>.] - ETA: 0s - loss: 1.7302 - accuracy: 0.3325 - auc: 0.8392 - precision: 0.4977 - recall: 0.0154\n",
            "Epoch 00047: val_accuracy did not improve from 0.36684\n",
            "1965/1965 [==============================] - 99s 50ms/step - loss: 1.7302 - accuracy: 0.3326 - auc: 0.8392 - precision: 0.4979 - recall: 0.0154 - val_loss: 1.6144 - val_accuracy: 0.3596 - val_auc: 0.8645 - val_precision: 0.5786 - val_recall: 0.0221\n",
            "Epoch 48/300\n",
            "1965/1965 [==============================] - ETA: 0s - loss: 1.7243 - accuracy: 0.3355 - auc: 0.8406 - precision: 0.5069 - recall: 0.0203\n",
            "Epoch 00048: val_accuracy did not improve from 0.36684\n",
            "1965/1965 [==============================] - 98s 50ms/step - loss: 1.7243 - accuracy: 0.3355 - auc: 0.8406 - precision: 0.5069 - recall: 0.0203 - val_loss: 1.6111 - val_accuracy: 0.3637 - val_auc: 0.8653 - val_precision: 0.6184 - val_recall: 0.0093\n",
            "Epoch 49/300\n",
            "1964/1965 [============================>.] - ETA: 0s - loss: 1.7236 - accuracy: 0.3356 - auc: 0.8406 - precision: 0.4974 - recall: 0.0186\n",
            "Epoch 00049: val_accuracy did not improve from 0.36684\n",
            "1965/1965 [==============================] - 99s 50ms/step - loss: 1.7236 - accuracy: 0.3356 - auc: 0.8406 - precision: 0.4974 - recall: 0.0186 - val_loss: 1.6218 - val_accuracy: 0.3641 - val_auc: 0.8632 - val_precision: 0.6019 - val_recall: 0.0135\n",
            "Epoch 50/300\n",
            "1964/1965 [============================>.] - ETA: 0s - loss: 1.7218 - accuracy: 0.3358 - auc: 0.8411 - precision: 0.4960 - recall: 0.0188\n",
            "Epoch 00050: val_accuracy did not improve from 0.36684\n",
            "1965/1965 [==============================] - 99s 50ms/step - loss: 1.7217 - accuracy: 0.3358 - auc: 0.8411 - precision: 0.4960 - recall: 0.0188 - val_loss: 1.6035 - val_accuracy: 0.3568 - val_auc: 0.8664 - val_precision: 0.6269 - val_recall: 0.0151\n",
            "Epoch 51/300\n",
            "1964/1965 [============================>.] - ETA: 0s - loss: 1.7170 - accuracy: 0.3350 - auc: 0.8421 - precision: 0.5082 - recall: 0.0203\n",
            "Epoch 00051: val_accuracy improved from 0.36684 to 0.37204, saving model to tfjsmode.h5\n",
            "1965/1965 [==============================] - 99s 50ms/step - loss: 1.7170 - accuracy: 0.3350 - auc: 0.8421 - precision: 0.5082 - recall: 0.0203 - val_loss: 1.5949 - val_accuracy: 0.3720 - val_auc: 0.8686 - val_precision: 0.6301 - val_recall: 0.0116\n",
            "Epoch 52/300\n",
            "1964/1965 [============================>.] - ETA: 0s - loss: 1.7157 - accuracy: 0.3354 - auc: 0.8424 - precision: 0.4942 - recall: 0.0185\n",
            "Epoch 00052: val_accuracy did not improve from 0.37204\n",
            "1965/1965 [==============================] - 98s 50ms/step - loss: 1.7158 - accuracy: 0.3354 - auc: 0.8423 - precision: 0.4942 - recall: 0.0185 - val_loss: 1.6014 - val_accuracy: 0.3667 - val_auc: 0.8667 - val_precision: 0.6000 - val_recall: 0.0165\n",
            "Epoch 53/300\n",
            "1965/1965 [==============================] - ETA: 0s - loss: 1.7131 - accuracy: 0.3387 - auc: 0.8429 - precision: 0.5147 - recall: 0.0211\n",
            "Epoch 00053: val_accuracy did not improve from 0.37204\n",
            "1965/1965 [==============================] - 100s 51ms/step - loss: 1.7131 - accuracy: 0.3387 - auc: 0.8429 - precision: 0.5147 - recall: 0.0211 - val_loss: 1.6006 - val_accuracy: 0.3667 - val_auc: 0.8673 - val_precision: 0.5906 - val_recall: 0.0180\n",
            "Epoch 54/300\n",
            "1965/1965 [==============================] - ETA: 0s - loss: 1.7113 - accuracy: 0.3395 - auc: 0.8435 - precision: 0.4941 - recall: 0.0206\n",
            "Epoch 00054: val_accuracy improved from 0.37204 to 0.37304, saving model to tfjsmode.h5\n",
            "1965/1965 [==============================] - 99s 50ms/step - loss: 1.7113 - accuracy: 0.3395 - auc: 0.8435 - precision: 0.4941 - recall: 0.0206 - val_loss: 1.5883 - val_accuracy: 0.3730 - val_auc: 0.8695 - val_precision: 0.5538 - val_recall: 0.0248\n",
            "Epoch 55/300\n",
            "1964/1965 [============================>.] - ETA: 0s - loss: 1.7077 - accuracy: 0.3370 - auc: 0.8441 - precision: 0.5078 - recall: 0.0222\n",
            "Epoch 00055: val_accuracy did not improve from 0.37304\n",
            "1965/1965 [==============================] - 99s 50ms/step - loss: 1.7078 - accuracy: 0.3370 - auc: 0.8441 - precision: 0.5076 - recall: 0.0222 - val_loss: 1.5881 - val_accuracy: 0.3702 - val_auc: 0.8700 - val_precision: 0.6571 - val_recall: 0.0146\n",
            "Epoch 56/300\n",
            "1964/1965 [============================>.] - ETA: 0s - loss: 1.7077 - accuracy: 0.3398 - auc: 0.8441 - precision: 0.5030 - recall: 0.0215\n",
            "Epoch 00056: val_accuracy did not improve from 0.37304\n",
            "1965/1965 [==============================] - 99s 50ms/step - loss: 1.7077 - accuracy: 0.3397 - auc: 0.8441 - precision: 0.5030 - recall: 0.0215 - val_loss: 1.5887 - val_accuracy: 0.3655 - val_auc: 0.8695 - val_precision: 0.5835 - val_recall: 0.0217\n",
            "Epoch 57/300\n",
            "1964/1965 [============================>.] - ETA: 0s - loss: 1.7054 - accuracy: 0.3394 - auc: 0.8446 - precision: 0.5118 - recall: 0.0217\n",
            "Epoch 00057: val_accuracy did not improve from 0.37304\n",
            "1965/1965 [==============================] - 99s 50ms/step - loss: 1.7054 - accuracy: 0.3395 - auc: 0.8446 - precision: 0.5118 - recall: 0.0217 - val_loss: 1.5854 - val_accuracy: 0.3704 - val_auc: 0.8701 - val_precision: 0.5300 - val_recall: 0.0319\n",
            "Epoch 58/300\n",
            "1965/1965 [==============================] - ETA: 0s - loss: 1.7040 - accuracy: 0.3379 - auc: 0.8448 - precision: 0.4970 - recall: 0.0199\n",
            "Epoch 00058: val_accuracy improved from 0.37304 to 0.37395, saving model to tfjsmode.h5\n",
            "1965/1965 [==============================] - 99s 50ms/step - loss: 1.7040 - accuracy: 0.3379 - auc: 0.8448 - precision: 0.4970 - recall: 0.0199 - val_loss: 1.5772 - val_accuracy: 0.3739 - val_auc: 0.8716 - val_precision: 0.6473 - val_recall: 0.0148\n",
            "Epoch 59/300\n",
            "1964/1965 [============================>.] - ETA: 0s - loss: 1.7018 - accuracy: 0.3379 - auc: 0.8453 - precision: 0.5066 - recall: 0.0214\n",
            "Epoch 00059: val_accuracy improved from 0.37395 to 0.37442, saving model to tfjsmode.h5\n",
            "1965/1965 [==============================] - 98s 50ms/step - loss: 1.7018 - accuracy: 0.3380 - auc: 0.8453 - precision: 0.5066 - recall: 0.0213 - val_loss: 1.5772 - val_accuracy: 0.3744 - val_auc: 0.8717 - val_precision: 0.6246 - val_recall: 0.0191\n",
            "Epoch 60/300\n",
            "1964/1965 [============================>.] - ETA: 0s - loss: 1.7013 - accuracy: 0.3377 - auc: 0.8454 - precision: 0.4998 - recall: 0.0212\n",
            "Epoch 00060: val_accuracy did not improve from 0.37442\n",
            "1965/1965 [==============================] - 99s 50ms/step - loss: 1.7012 - accuracy: 0.3377 - auc: 0.8455 - precision: 0.4998 - recall: 0.0212 - val_loss: 1.5773 - val_accuracy: 0.3671 - val_auc: 0.8711 - val_precision: 0.5717 - val_recall: 0.0309\n",
            "Epoch 61/300\n",
            "1964/1965 [============================>.] - ETA: 0s - loss: 1.6992 - accuracy: 0.3398 - auc: 0.8459 - precision: 0.5031 - recall: 0.0217\n",
            "Epoch 00061: val_accuracy did not improve from 0.37442\n",
            "1965/1965 [==============================] - 98s 50ms/step - loss: 1.6992 - accuracy: 0.3398 - auc: 0.8459 - precision: 0.5033 - recall: 0.0217 - val_loss: 1.5746 - val_accuracy: 0.3739 - val_auc: 0.8721 - val_precision: 0.6832 - val_recall: 0.0153\n",
            "Epoch 62/300\n",
            "1965/1965 [==============================] - ETA: 0s - loss: 1.6988 - accuracy: 0.3403 - auc: 0.8461 - precision: 0.4904 - recall: 0.0210\n",
            "Epoch 00062: val_accuracy improved from 0.37442 to 0.37527, saving model to tfjsmode.h5\n",
            "1965/1965 [==============================] - 98s 50ms/step - loss: 1.6988 - accuracy: 0.3403 - auc: 0.8461 - precision: 0.4904 - recall: 0.0210 - val_loss: 1.5740 - val_accuracy: 0.3753 - val_auc: 0.8727 - val_precision: 0.5828 - val_recall: 0.0315\n",
            "Epoch 63/300\n",
            "1965/1965 [==============================] - ETA: 0s - loss: 1.6967 - accuracy: 0.3416 - auc: 0.8464 - precision: 0.5021 - recall: 0.0228\n",
            "Epoch 00063: val_accuracy did not improve from 0.37527\n",
            "1965/1965 [==============================] - 100s 51ms/step - loss: 1.6967 - accuracy: 0.3416 - auc: 0.8464 - precision: 0.5021 - recall: 0.0228 - val_loss: 1.5769 - val_accuracy: 0.3718 - val_auc: 0.8723 - val_precision: 0.6871 - val_recall: 0.0125\n",
            "Epoch 64/300\n",
            "1965/1965 [==============================] - ETA: 0s - loss: 1.6933 - accuracy: 0.3431 - auc: 0.8471 - precision: 0.5082 - recall: 0.0235\n",
            "Epoch 00064: val_accuracy improved from 0.37527 to 0.37957, saving model to tfjsmode.h5\n",
            "1965/1965 [==============================] - 99s 51ms/step - loss: 1.6933 - accuracy: 0.3431 - auc: 0.8471 - precision: 0.5082 - recall: 0.0235 - val_loss: 1.5721 - val_accuracy: 0.3796 - val_auc: 0.8727 - val_precision: 0.5820 - val_recall: 0.0258\n",
            "Epoch 65/300\n",
            "1965/1965 [==============================] - ETA: 0s - loss: 1.6971 - accuracy: 0.3402 - auc: 0.8464 - precision: 0.4943 - recall: 0.0221\n",
            "Epoch 00065: val_accuracy did not improve from 0.37957\n",
            "1965/1965 [==============================] - 100s 51ms/step - loss: 1.6971 - accuracy: 0.3402 - auc: 0.8464 - precision: 0.4943 - recall: 0.0221 - val_loss: 1.5703 - val_accuracy: 0.3766 - val_auc: 0.8733 - val_precision: 0.5407 - val_recall: 0.0342\n",
            "Epoch 66/300\n",
            "1965/1965 [==============================] - ETA: 0s - loss: 1.6936 - accuracy: 0.3408 - auc: 0.8471 - precision: 0.5019 - recall: 0.0230\n",
            "Epoch 00066: val_accuracy did not improve from 0.37957\n",
            "1965/1965 [==============================] - 100s 51ms/step - loss: 1.6936 - accuracy: 0.3408 - auc: 0.8471 - precision: 0.5019 - recall: 0.0230 - val_loss: 1.5701 - val_accuracy: 0.3769 - val_auc: 0.8729 - val_precision: 0.5418 - val_recall: 0.0385\n",
            "Epoch 67/300\n",
            "1964/1965 [============================>.] - ETA: 0s - loss: 1.6923 - accuracy: 0.3404 - auc: 0.8474 - precision: 0.5194 - recall: 0.0241\n",
            "Epoch 00067: val_accuracy did not improve from 0.37957\n",
            "1965/1965 [==============================] - 100s 51ms/step - loss: 1.6922 - accuracy: 0.3404 - auc: 0.8474 - precision: 0.5192 - recall: 0.0241 - val_loss: 1.5672 - val_accuracy: 0.3781 - val_auc: 0.8736 - val_precision: 0.5611 - val_recall: 0.0268\n",
            "Epoch 68/300\n",
            "1965/1965 [==============================] - ETA: 0s - loss: 1.6887 - accuracy: 0.3453 - auc: 0.8482 - precision: 0.5113 - recall: 0.0277\n",
            "Epoch 00068: val_accuracy did not improve from 0.37957\n",
            "1965/1965 [==============================] - 99s 51ms/step - loss: 1.6887 - accuracy: 0.3453 - auc: 0.8482 - precision: 0.5113 - recall: 0.0277 - val_loss: 1.5667 - val_accuracy: 0.3791 - val_auc: 0.8740 - val_precision: 0.6567 - val_recall: 0.0175\n",
            "Epoch 69/300\n",
            "1965/1965 [==============================] - ETA: 0s - loss: 1.6918 - accuracy: 0.3404 - auc: 0.8475 - precision: 0.5200 - recall: 0.0251\n",
            "Epoch 00069: val_accuracy did not improve from 0.37957\n",
            "1965/1965 [==============================] - 99s 51ms/step - loss: 1.6918 - accuracy: 0.3404 - auc: 0.8475 - precision: 0.5200 - recall: 0.0251 - val_loss: 1.5587 - val_accuracy: 0.3782 - val_auc: 0.8750 - val_precision: 0.5976 - val_recall: 0.0235\n",
            "Epoch 70/300\n",
            "1965/1965 [==============================] - ETA: 0s - loss: 1.6872 - accuracy: 0.3444 - auc: 0.8484 - precision: 0.5103 - recall: 0.0264\n",
            "Epoch 00070: val_accuracy did not improve from 0.37957\n",
            "1965/1965 [==============================] - 100s 51ms/step - loss: 1.6872 - accuracy: 0.3444 - auc: 0.8484 - precision: 0.5103 - recall: 0.0264 - val_loss: 1.5545 - val_accuracy: 0.3788 - val_auc: 0.8758 - val_precision: 0.5952 - val_recall: 0.0305\n",
            "Epoch 71/300\n",
            "1964/1965 [============================>.] - ETA: 0s - loss: 1.6884 - accuracy: 0.3396 - auc: 0.8482 - precision: 0.5109 - recall: 0.0260\n",
            "Epoch 00071: val_accuracy did not improve from 0.37957\n",
            "1965/1965 [==============================] - 99s 50ms/step - loss: 1.6884 - accuracy: 0.3396 - auc: 0.8482 - precision: 0.5109 - recall: 0.0260 - val_loss: 1.5636 - val_accuracy: 0.3740 - val_auc: 0.8742 - val_precision: 0.6041 - val_recall: 0.0248\n",
            "Epoch 72/300\n",
            "1964/1965 [============================>.] - ETA: 0s - loss: 1.6879 - accuracy: 0.3424 - auc: 0.8483 - precision: 0.5168 - recall: 0.0262\n",
            "Epoch 00072: val_accuracy did not improve from 0.37957\n",
            "1965/1965 [==============================] - 100s 51ms/step - loss: 1.6880 - accuracy: 0.3424 - auc: 0.8483 - precision: 0.5168 - recall: 0.0261 - val_loss: 1.5683 - val_accuracy: 0.3656 - val_auc: 0.8739 - val_precision: 0.5970 - val_recall: 0.0230\n",
            "Epoch 73/300\n",
            "1965/1965 [==============================] - ETA: 0s - loss: 1.6862 - accuracy: 0.3409 - auc: 0.8487 - precision: 0.5092 - recall: 0.0246\n",
            "Epoch 00073: val_accuracy improved from 0.37957 to 0.38057, saving model to tfjsmode.h5\n",
            "1965/1965 [==============================] - 99s 50ms/step - loss: 1.6862 - accuracy: 0.3409 - auc: 0.8487 - precision: 0.5092 - recall: 0.0246 - val_loss: 1.5511 - val_accuracy: 0.3806 - val_auc: 0.8766 - val_precision: 0.6050 - val_recall: 0.0269\n",
            "Epoch 74/300\n",
            "1965/1965 [==============================] - ETA: 0s - loss: 1.6819 - accuracy: 0.3457 - auc: 0.8496 - precision: 0.5116 - recall: 0.0280\n",
            "Epoch 00074: val_accuracy did not improve from 0.38057\n",
            "1965/1965 [==============================] - 99s 51ms/step - loss: 1.6819 - accuracy: 0.3457 - auc: 0.8496 - precision: 0.5116 - recall: 0.0280 - val_loss: 1.5484 - val_accuracy: 0.3779 - val_auc: 0.8764 - val_precision: 0.6377 - val_recall: 0.0222\n",
            "Epoch 75/300\n",
            "1964/1965 [============================>.] - ETA: 0s - loss: 1.6818 - accuracy: 0.3442 - auc: 0.8496 - precision: 0.5133 - recall: 0.0273\n",
            "Epoch 00075: val_accuracy did not improve from 0.38057\n",
            "1965/1965 [==============================] - 101s 51ms/step - loss: 1.6817 - accuracy: 0.3443 - auc: 0.8496 - precision: 0.5133 - recall: 0.0273 - val_loss: 1.5523 - val_accuracy: 0.3772 - val_auc: 0.8759 - val_precision: 0.6189 - val_recall: 0.0254\n",
            "Epoch 76/300\n",
            "1965/1965 [==============================] - ETA: 0s - loss: 1.6807 - accuracy: 0.3454 - auc: 0.8498 - precision: 0.5142 - recall: 0.0284\n",
            "Epoch 00076: val_accuracy improved from 0.38057 to 0.38280, saving model to tfjsmode.h5\n",
            "1965/1965 [==============================] - 99s 51ms/step - loss: 1.6807 - accuracy: 0.3454 - auc: 0.8498 - precision: 0.5142 - recall: 0.0284 - val_loss: 1.5560 - val_accuracy: 0.3828 - val_auc: 0.8759 - val_precision: 0.5686 - val_recall: 0.0310\n",
            "Epoch 77/300\n",
            "1964/1965 [============================>.] - ETA: 0s - loss: 1.6818 - accuracy: 0.3442 - auc: 0.8495 - precision: 0.5237 - recall: 0.0279\n",
            "Epoch 00077: val_accuracy improved from 0.38280 to 0.38497, saving model to tfjsmode.h5\n",
            "1965/1965 [==============================] - 100s 51ms/step - loss: 1.6819 - accuracy: 0.3442 - auc: 0.8495 - precision: 0.5237 - recall: 0.0279 - val_loss: 1.5472 - val_accuracy: 0.3850 - val_auc: 0.8766 - val_precision: 0.6000 - val_recall: 0.0286\n",
            "Epoch 78/300\n",
            "1964/1965 [============================>.] - ETA: 0s - loss: 1.6808 - accuracy: 0.3475 - auc: 0.8499 - precision: 0.5075 - recall: 0.0286\n",
            "Epoch 00078: val_accuracy did not improve from 0.38497\n",
            "1965/1965 [==============================] - 101s 51ms/step - loss: 1.6807 - accuracy: 0.3476 - auc: 0.8499 - precision: 0.5078 - recall: 0.0286 - val_loss: 1.5525 - val_accuracy: 0.3708 - val_auc: 0.8757 - val_precision: 0.5599 - val_recall: 0.0382\n",
            "Epoch 79/300\n",
            "1965/1965 [==============================] - ETA: 0s - loss: 1.6803 - accuracy: 0.3456 - auc: 0.8499 - precision: 0.5124 - recall: 0.0279\n",
            "Epoch 00079: val_accuracy did not improve from 0.38497\n",
            "1965/1965 [==============================] - 101s 51ms/step - loss: 1.6803 - accuracy: 0.3456 - auc: 0.8499 - precision: 0.5124 - recall: 0.0279 - val_loss: 1.5504 - val_accuracy: 0.3762 - val_auc: 0.8766 - val_precision: 0.5591 - val_recall: 0.0291\n",
            "Epoch 80/300\n",
            "1964/1965 [============================>.] - ETA: 0s - loss: 1.6757 - accuracy: 0.3467 - auc: 0.8509 - precision: 0.5100 - recall: 0.0283\n",
            "Epoch 00080: val_accuracy did not improve from 0.38497\n",
            "1965/1965 [==============================] - 100s 51ms/step - loss: 1.6757 - accuracy: 0.3467 - auc: 0.8509 - precision: 0.5102 - recall: 0.0283 - val_loss: 1.5459 - val_accuracy: 0.3771 - val_auc: 0.8776 - val_precision: 0.5709 - val_recall: 0.0233\n",
            "Epoch 81/300\n",
            "1965/1965 [==============================] - ETA: 0s - loss: 1.6744 - accuracy: 0.3462 - auc: 0.8512 - precision: 0.5139 - recall: 0.0271\n",
            "Epoch 00081: val_accuracy improved from 0.38497 to 0.38641, saving model to tfjsmode.h5\n",
            "1965/1965 [==============================] - 100s 51ms/step - loss: 1.6744 - accuracy: 0.3462 - auc: 0.8512 - precision: 0.5139 - recall: 0.0271 - val_loss: 1.5401 - val_accuracy: 0.3864 - val_auc: 0.8787 - val_precision: 0.5791 - val_recall: 0.0314\n",
            "Epoch 82/300\n",
            "1965/1965 [==============================] - ETA: 0s - loss: 1.6776 - accuracy: 0.3459 - auc: 0.8506 - precision: 0.5115 - recall: 0.0290\n",
            "Epoch 00082: val_accuracy did not improve from 0.38641\n",
            "1965/1965 [==============================] - 99s 50ms/step - loss: 1.6776 - accuracy: 0.3459 - auc: 0.8506 - precision: 0.5115 - recall: 0.0290 - val_loss: 1.5439 - val_accuracy: 0.3822 - val_auc: 0.8770 - val_precision: 0.5959 - val_recall: 0.0385\n",
            "Epoch 83/300\n",
            "1964/1965 [============================>.] - ETA: 0s - loss: 1.6766 - accuracy: 0.3462 - auc: 0.8507 - precision: 0.5118 - recall: 0.0291\n",
            "Epoch 00083: val_accuracy improved from 0.38641 to 0.38916, saving model to tfjsmode.h5\n",
            "1965/1965 [==============================] - 99s 51ms/step - loss: 1.6766 - accuracy: 0.3461 - auc: 0.8507 - precision: 0.5118 - recall: 0.0291 - val_loss: 1.5392 - val_accuracy: 0.3892 - val_auc: 0.8794 - val_precision: 0.6315 - val_recall: 0.0219\n",
            "Epoch 84/300\n",
            "1964/1965 [============================>.] - ETA: 0s - loss: 1.6769 - accuracy: 0.3447 - auc: 0.8506 - precision: 0.5030 - recall: 0.0277\n",
            "Epoch 00084: val_accuracy did not improve from 0.38916\n",
            "1965/1965 [==============================] - 99s 50ms/step - loss: 1.6769 - accuracy: 0.3448 - auc: 0.8506 - precision: 0.5032 - recall: 0.0277 - val_loss: 1.5438 - val_accuracy: 0.3737 - val_auc: 0.8768 - val_precision: 0.5526 - val_recall: 0.0343\n",
            "Epoch 85/300\n",
            "1964/1965 [============================>.] - ETA: 0s - loss: 1.6739 - accuracy: 0.3440 - auc: 0.8512 - precision: 0.5107 - recall: 0.0295\n",
            "Epoch 00085: val_accuracy did not improve from 0.38916\n",
            "1965/1965 [==============================] - 100s 51ms/step - loss: 1.6738 - accuracy: 0.3440 - auc: 0.8512 - precision: 0.5109 - recall: 0.0296 - val_loss: 1.5474 - val_accuracy: 0.3795 - val_auc: 0.8771 - val_precision: 0.6045 - val_recall: 0.0213\n",
            "Epoch 86/300\n",
            "1964/1965 [============================>.] - ETA: 0s - loss: 1.6738 - accuracy: 0.3452 - auc: 0.8512 - precision: 0.5077 - recall: 0.0293\n",
            "Epoch 00086: val_accuracy did not improve from 0.38916\n",
            "1965/1965 [==============================] - 99s 50ms/step - loss: 1.6738 - accuracy: 0.3452 - auc: 0.8512 - precision: 0.5074 - recall: 0.0293 - val_loss: 1.5376 - val_accuracy: 0.3861 - val_auc: 0.8788 - val_precision: 0.6002 - val_recall: 0.0300\n",
            "Epoch 87/300\n",
            "1965/1965 [==============================] - ETA: 0s - loss: 1.6698 - accuracy: 0.3477 - auc: 0.8521 - precision: 0.5142 - recall: 0.0308\n",
            "Epoch 00087: val_accuracy did not improve from 0.38916\n",
            "1965/1965 [==============================] - 100s 51ms/step - loss: 1.6698 - accuracy: 0.3477 - auc: 0.8521 - precision: 0.5142 - recall: 0.0308 - val_loss: 1.5349 - val_accuracy: 0.3830 - val_auc: 0.8788 - val_precision: 0.6034 - val_recall: 0.0320\n",
            "Epoch 88/300\n",
            "1964/1965 [============================>.] - ETA: 0s - loss: 1.6710 - accuracy: 0.3482 - auc: 0.8518 - precision: 0.5127 - recall: 0.0306\n",
            "Epoch 00088: val_accuracy did not improve from 0.38916\n",
            "1965/1965 [==============================] - 100s 51ms/step - loss: 1.6710 - accuracy: 0.3481 - auc: 0.8518 - precision: 0.5125 - recall: 0.0306 - val_loss: 1.5382 - val_accuracy: 0.3826 - val_auc: 0.8787 - val_precision: 0.5556 - val_recall: 0.0445\n",
            "Epoch 89/300\n",
            "1965/1965 [==============================] - ETA: 0s - loss: 1.6681 - accuracy: 0.3474 - auc: 0.8524 - precision: 0.5070 - recall: 0.0300\n",
            "Epoch 00089: val_accuracy did not improve from 0.38916\n",
            "1965/1965 [==============================] - 99s 50ms/step - loss: 1.6681 - accuracy: 0.3474 - auc: 0.8524 - precision: 0.5070 - recall: 0.0300 - val_loss: 1.5330 - val_accuracy: 0.3813 - val_auc: 0.8794 - val_precision: 0.6057 - val_recall: 0.0318\n",
            "Epoch 90/300\n",
            "1965/1965 [==============================] - ETA: 0s - loss: 1.6644 - accuracy: 0.3484 - auc: 0.8531 - precision: 0.5203 - recall: 0.0310\n",
            "Epoch 00090: val_accuracy did not improve from 0.38916\n",
            "1965/1965 [==============================] - 99s 50ms/step - loss: 1.6644 - accuracy: 0.3484 - auc: 0.8531 - precision: 0.5203 - recall: 0.0310 - val_loss: 1.5360 - val_accuracy: 0.3825 - val_auc: 0.8791 - val_precision: 0.5967 - val_recall: 0.0291\n",
            "Epoch 91/300\n",
            "1964/1965 [============================>.] - ETA: 0s - loss: 1.6663 - accuracy: 0.3465 - auc: 0.8527 - precision: 0.5120 - recall: 0.0308\n",
            "Epoch 00091: val_accuracy did not improve from 0.38916\n",
            "1965/1965 [==============================] - 100s 51ms/step - loss: 1.6663 - accuracy: 0.3465 - auc: 0.8527 - precision: 0.5122 - recall: 0.0308 - val_loss: 1.5419 - val_accuracy: 0.3846 - val_auc: 0.8778 - val_precision: 0.5804 - val_recall: 0.0323\n",
            "Epoch 92/300\n",
            "1965/1965 [==============================] - ETA: 0s - loss: 1.6664 - accuracy: 0.3506 - auc: 0.8528 - precision: 0.5117 - recall: 0.0319\n",
            "Epoch 00092: val_accuracy improved from 0.38916 to 0.39118, saving model to tfjsmode.h5\n",
            "1965/1965 [==============================] - 99s 50ms/step - loss: 1.6664 - accuracy: 0.3506 - auc: 0.8528 - precision: 0.5117 - recall: 0.0319 - val_loss: 1.5252 - val_accuracy: 0.3912 - val_auc: 0.8807 - val_precision: 0.5911 - val_recall: 0.0379\n",
            "Epoch 93/300\n",
            "1964/1965 [============================>.] - ETA: 0s - loss: 1.6666 - accuracy: 0.3486 - auc: 0.8527 - precision: 0.5124 - recall: 0.0295\n",
            "Epoch 00093: val_accuracy did not improve from 0.39118\n",
            "1965/1965 [==============================] - 99s 50ms/step - loss: 1.6666 - accuracy: 0.3486 - auc: 0.8527 - precision: 0.5123 - recall: 0.0295 - val_loss: 1.5367 - val_accuracy: 0.3781 - val_auc: 0.8787 - val_precision: 0.5417 - val_recall: 0.0540\n",
            "Epoch 94/300\n",
            "1965/1965 [==============================] - ETA: 0s - loss: 1.6654 - accuracy: 0.3486 - auc: 0.8530 - precision: 0.5085 - recall: 0.0330\n",
            "Epoch 00094: val_accuracy did not improve from 0.39118\n",
            "1965/1965 [==============================] - 100s 51ms/step - loss: 1.6654 - accuracy: 0.3486 - auc: 0.8530 - precision: 0.5085 - recall: 0.0330 - val_loss: 1.5307 - val_accuracy: 0.3888 - val_auc: 0.8797 - val_precision: 0.5878 - val_recall: 0.0358\n",
            "Epoch 95/300\n",
            "1964/1965 [============================>.] - ETA: 0s - loss: 1.6671 - accuracy: 0.3499 - auc: 0.8527 - precision: 0.5195 - recall: 0.0316\n",
            "Epoch 00095: val_accuracy did not improve from 0.39118\n",
            "1965/1965 [==============================] - 98s 50ms/step - loss: 1.6671 - accuracy: 0.3499 - auc: 0.8527 - precision: 0.5196 - recall: 0.0316 - val_loss: 1.5360 - val_accuracy: 0.3811 - val_auc: 0.8787 - val_precision: 0.5460 - val_recall: 0.0564\n",
            "Epoch 96/300\n",
            "1964/1965 [============================>.] - ETA: 0s - loss: 1.6643 - accuracy: 0.3509 - auc: 0.8533 - precision: 0.5064 - recall: 0.0321\n",
            "Epoch 00096: val_accuracy did not improve from 0.39118\n",
            "1965/1965 [==============================] - 99s 50ms/step - loss: 1.6643 - accuracy: 0.3509 - auc: 0.8533 - precision: 0.5064 - recall: 0.0321 - val_loss: 1.5293 - val_accuracy: 0.3848 - val_auc: 0.8801 - val_precision: 0.5990 - val_recall: 0.0332\n",
            "Epoch 97/300\n",
            "1965/1965 [==============================] - ETA: 0s - loss: 1.6659 - accuracy: 0.3467 - auc: 0.8529 - precision: 0.5075 - recall: 0.0310\n",
            "Epoch 00097: val_accuracy did not improve from 0.39118\n",
            "1965/1965 [==============================] - 99s 50ms/step - loss: 1.6659 - accuracy: 0.3467 - auc: 0.8529 - precision: 0.5075 - recall: 0.0310 - val_loss: 1.5315 - val_accuracy: 0.3863 - val_auc: 0.8798 - val_precision: 0.5926 - val_recall: 0.0355\n",
            "Epoch 00097: early stopping\n"
          ],
          "name": "stdout"
        }
      ]
    },
    {
      "cell_type": "code",
      "metadata": {
        "id": "PrrZbYi-jNXa",
        "outputId": "52115c00-1f2f-4ede-f7d9-6caf02650f45",
        "colab": {
          "base_uri": "https://localhost:8080/",
          "height": 388
        }
      },
      "source": [
        "plot_history(history, 'accuracy')\n",
        "plot_history(history, 'val_accuracy')"
      ],
      "execution_count": 28,
      "outputs": [
        {
          "output_type": "display_data",
          "data": {
            "image/png": "[encoded data removed]",
            "text/plain": [
              "<Figure size 720x432 with 1 Axes>"
            ]
          },
          "metadata": {
            "tags": [],
            "needs_background": "light"
          }
        }
      ]
    },
    {
      "cell_type": "code",
      "metadata": {
        "id": "HSWyLroRu55z",
        "outputId": "f0211ab7-67d2-4bff-a1ed-2f606380a8e6",
        "colab": {
          "base_uri": "https://localhost:8080/",
          "height": 1000
        }
      },
      "source": [
        "plot_history(history, 'precision')\n",
        "plot_history(history, 'recall')\n",
        "plot_history(history, 'auc')"
      ],
      "execution_count": 29,
      "outputs": [
        {
          "output_type": "display_data",
          "data": {
            "image/png": "[encoded data removed]",
            "text/plain": [
              "<Figure size 720x432 with 1 Axes>"
            ]
          },
          "metadata": {
            "tags": [],
            "needs_background": "light"
          }
        },
        {
          "output_type": "display_data",
          "data": {
            "image/png": "[encoded data removed]",
            "text/plain": [
              "<Figure size 720x432 with 1 Axes>"
            ]
          },
          "metadata": {
            "tags": [],
            "needs_background": "light"
          }
        },
        {
          "output_type": "display_data",
          "data": {
            "image/png": "[encoded data removed]",
            "text/plain": [
              "<Figure size 720x432 with 1 Axes>"
            ]
          },
          "metadata": {
            "tags": [],
            "needs_background": "light"
          }
        }
      ]
    },
    {
      "cell_type": "code",
      "metadata": {
        "id": "ASc2rTOkjLKY",
        "outputId": "67166dba-3503-41c8-a784-37e7961d5ead",
        "colab": {
          "base_uri": "https://localhost:8080/",
          "height": 918
        }
      },
      "source": [
        "# evaluate the model\n",
        "test_loss, test_accuracy = model.evaluate(x_train, y_train)\n",
        "evaluate_lst = list(map(lambda x: x * 100, [test_loss, test_accuracy]))\n",
        "print('\\nTest:\\nLoss: {}\\nAccuracy: {}').format(evaluate_lst[0], evaluate_lst[1])"
      ],
      "execution_count": 30,
      "outputs": [
        {
          "output_type": "error",
          "ename": "ValueError",
          "evalue": "ignored",
          "traceback": [
            "\u001b[0;31m---------------------------------------------------------------------------\u001b[0m",
            "\u001b[0;31mValueError\u001b[0m                                Traceback (most recent call last)",
            "\u001b[0;32m<ipython-input-30-d1b0d5113c89>\u001b[0m in \u001b[0;36m<module>\u001b[0;34m()\u001b[0m\n\u001b[1;32m      1\u001b[0m \u001b[0;31m# evaluate the model\u001b[0m\u001b[0;34m\u001b[0m\u001b[0;34m\u001b[0m\u001b[0;34m\u001b[0m\u001b[0m\n\u001b[0;32m----> 2\u001b[0;31m \u001b[0mtest_loss\u001b[0m\u001b[0;34m,\u001b[0m \u001b[0mtest_accuracy\u001b[0m \u001b[0;34m=\u001b[0m \u001b[0mmodel\u001b[0m\u001b[0;34m.\u001b[0m\u001b[0mevaluate\u001b[0m\u001b[0;34m(\u001b[0m\u001b[0mx_test_val\u001b[0m\u001b[0;34m,\u001b[0m \u001b[0my_test_val\u001b[0m\u001b[0;34m)\u001b[0m\u001b[0;34m\u001b[0m\u001b[0;34m\u001b[0m\u001b[0m\n\u001b[0m\u001b[1;32m      3\u001b[0m \u001b[0mevaluate_lst\u001b[0m \u001b[0;34m=\u001b[0m \u001b[0mlist\u001b[0m\u001b[0;34m(\u001b[0m\u001b[0mmap\u001b[0m\u001b[0;34m(\u001b[0m\u001b[0;32mlambda\u001b[0m \u001b[0mx\u001b[0m\u001b[0;34m:\u001b[0m \u001b[0mx\u001b[0m \u001b[0;34m*\u001b[0m \u001b[0;36m100\u001b[0m\u001b[0;34m,\u001b[0m \u001b[0;34m[\u001b[0m\u001b[0mtest_loss\u001b[0m\u001b[0;34m,\u001b[0m \u001b[0mtest_accuracy\u001b[0m\u001b[0;34m]\u001b[0m\u001b[0;34m)\u001b[0m\u001b[0;34m)\u001b[0m\u001b[0;34m\u001b[0m\u001b[0;34m\u001b[0m\u001b[0m\n\u001b[1;32m      4\u001b[0m \u001b[0mprint\u001b[0m\u001b[0;34m(\u001b[0m\u001b[0;34m'\\nTest:\\nLoss: {}\\nAccuracy: {}'\u001b[0m\u001b[0;34m)\u001b[0m\u001b[0;34m.\u001b[0m\u001b[0mformat\u001b[0m\u001b[0;34m(\u001b[0m\u001b[0mevaluate_lst\u001b[0m\u001b[0;34m[\u001b[0m\u001b[0;36m0\u001b[0m\u001b[0;34m]\u001b[0m\u001b[0;34m,\u001b[0m \u001b[0mevaluate_lst\u001b[0m\u001b[0;34m[\u001b[0m\u001b[0;36m1\u001b[0m\u001b[0;34m]\u001b[0m\u001b[0;34m)\u001b[0m\u001b[0;34m\u001b[0m\u001b[0;34m\u001b[0m\u001b[0m\n",
            "\u001b[0;32m/usr/local/lib/python3.6/dist-packages/tensorflow/python/keras/engine/training.py\u001b[0m in \u001b[0;36m_method_wrapper\u001b[0;34m(self, *args, **kwargs)\u001b[0m\n\u001b[1;32m    106\u001b[0m   \u001b[0;32mdef\u001b[0m \u001b[0m_method_wrapper\u001b[0m\u001b[0;34m(\u001b[0m\u001b[0mself\u001b[0m\u001b[0;34m,\u001b[0m \u001b[0;34m*\u001b[0m\u001b[0margs\u001b[0m\u001b[0;34m,\u001b[0m \u001b[0;34m**\u001b[0m\u001b[0mkwargs\u001b[0m\u001b[0;34m)\u001b[0m\u001b[0;34m:\u001b[0m\u001b[0;34m\u001b[0m\u001b[0;34m\u001b[0m\u001b[0m\n\u001b[1;32m    107\u001b[0m     \u001b[0;32mif\u001b[0m \u001b[0;32mnot\u001b[0m \u001b[0mself\u001b[0m\u001b[0;34m.\u001b[0m\u001b[0m_in_multi_worker_mode\u001b[0m\u001b[0;34m(\u001b[0m\u001b[0;34m)\u001b[0m\u001b[0;34m:\u001b[0m  \u001b[0;31m# pylint: disable=protected-access\u001b[0m\u001b[0;34m\u001b[0m\u001b[0;34m\u001b[0m\u001b[0m\n\u001b[0;32m--> 108\u001b[0;31m       \u001b[0;32mreturn\u001b[0m \u001b[0mmethod\u001b[0m\u001b[0;34m(\u001b[0m\u001b[0mself\u001b[0m\u001b[0;34m,\u001b[0m \u001b[0;34m*\u001b[0m\u001b[0margs\u001b[0m\u001b[0;34m,\u001b[0m \u001b[0;34m**\u001b[0m\u001b[0mkwargs\u001b[0m\u001b[0;34m)\u001b[0m\u001b[0;34m\u001b[0m\u001b[0;34m\u001b[0m\u001b[0m\n\u001b[0m\u001b[1;32m    109\u001b[0m \u001b[0;34m\u001b[0m\u001b[0m\n\u001b[1;32m    110\u001b[0m     \u001b[0;31m# Running inside `run_distribute_coordinator` already.\u001b[0m\u001b[0;34m\u001b[0m\u001b[0;34m\u001b[0m\u001b[0;34m\u001b[0m\u001b[0m\n",
            "\u001b[0;32m/usr/local/lib/python3.6/dist-packages/tensorflow/python/keras/engine/training.py\u001b[0m in \u001b[0;36mevaluate\u001b[0;34m(self, x, y, batch_size, verbose, sample_weight, steps, callbacks, max_queue_size, workers, use_multiprocessing, return_dict)\u001b[0m\n\u001b[1;32m   1377\u001b[0m             \u001b[0;32mwith\u001b[0m \u001b[0mtrace\u001b[0m\u001b[0;34m.\u001b[0m\u001b[0mTrace\u001b[0m\u001b[0;34m(\u001b[0m\u001b[0;34m'TraceContext'\u001b[0m\u001b[0;34m,\u001b[0m \u001b[0mgraph_type\u001b[0m\u001b[0;34m=\u001b[0m\u001b[0;34m'test'\u001b[0m\u001b[0;34m,\u001b[0m \u001b[0mstep_num\u001b[0m\u001b[0;34m=\u001b[0m\u001b[0mstep\u001b[0m\u001b[0;34m)\u001b[0m\u001b[0;34m:\u001b[0m\u001b[0;34m\u001b[0m\u001b[0;34m\u001b[0m\u001b[0m\n\u001b[1;32m   1378\u001b[0m               \u001b[0mcallbacks\u001b[0m\u001b[0;34m.\u001b[0m\u001b[0mon_test_batch_begin\u001b[0m\u001b[0;34m(\u001b[0m\u001b[0mstep\u001b[0m\u001b[0;34m)\u001b[0m\u001b[0;34m\u001b[0m\u001b[0;34m\u001b[0m\u001b[0m\n\u001b[0;32m-> 1379\u001b[0;31m               \u001b[0mtmp_logs\u001b[0m \u001b[0;34m=\u001b[0m \u001b[0mtest_function\u001b[0m\u001b[0;34m(\u001b[0m\u001b[0miterator\u001b[0m\u001b[0;34m)\u001b[0m\u001b[0;34m\u001b[0m\u001b[0;34m\u001b[0m\u001b[0m\n\u001b[0m\u001b[1;32m   1380\u001b[0m               \u001b[0;32mif\u001b[0m \u001b[0mdata_handler\u001b[0m\u001b[0;34m.\u001b[0m\u001b[0mshould_sync\u001b[0m\u001b[0;34m:\u001b[0m\u001b[0;34m\u001b[0m\u001b[0;34m\u001b[0m\u001b[0m\n\u001b[1;32m   1381\u001b[0m                 \u001b[0mcontext\u001b[0m\u001b[0;34m.\u001b[0m\u001b[0masync_wait\u001b[0m\u001b[0;34m(\u001b[0m\u001b[0;34m)\u001b[0m\u001b[0;34m\u001b[0m\u001b[0;34m\u001b[0m\u001b[0m\n",
            "\u001b[0;32m/usr/local/lib/python3.6/dist-packages/tensorflow/python/eager/def_function.py\u001b[0m in \u001b[0;36m__call__\u001b[0;34m(self, *args, **kwds)\u001b[0m\n\u001b[1;32m    778\u001b[0m       \u001b[0;32melse\u001b[0m\u001b[0;34m:\u001b[0m\u001b[0;34m\u001b[0m\u001b[0;34m\u001b[0m\u001b[0m\n\u001b[1;32m    779\u001b[0m         \u001b[0mcompiler\u001b[0m \u001b[0;34m=\u001b[0m \u001b[0;34m\"nonXla\"\u001b[0m\u001b[0;34m\u001b[0m\u001b[0;34m\u001b[0m\u001b[0m\n\u001b[0;32m--> 780\u001b[0;31m         \u001b[0mresult\u001b[0m \u001b[0;34m=\u001b[0m \u001b[0mself\u001b[0m\u001b[0;34m.\u001b[0m\u001b[0m_call\u001b[0m\u001b[0;34m(\u001b[0m\u001b[0;34m*\u001b[0m\u001b[0margs\u001b[0m\u001b[0;34m,\u001b[0m \u001b[0;34m**\u001b[0m\u001b[0mkwds\u001b[0m\u001b[0;34m)\u001b[0m\u001b[0;34m\u001b[0m\u001b[0;34m\u001b[0m\u001b[0m\n\u001b[0m\u001b[1;32m    781\u001b[0m \u001b[0;34m\u001b[0m\u001b[0m\n\u001b[1;32m    782\u001b[0m       \u001b[0mnew_tracing_count\u001b[0m \u001b[0;34m=\u001b[0m \u001b[0mself\u001b[0m\u001b[0;34m.\u001b[0m\u001b[0m_get_tracing_count\u001b[0m\u001b[0;34m(\u001b[0m\u001b[0;34m)\u001b[0m\u001b[0;34m\u001b[0m\u001b[0;34m\u001b[0m\u001b[0m\n",
            "\u001b[0;32m/usr/local/lib/python3.6/dist-packages/tensorflow/python/eager/def_function.py\u001b[0m in \u001b[0;36m_call\u001b[0;34m(self, *args, **kwds)\u001b[0m\n\u001b[1;32m    812\u001b[0m       \u001b[0;31m# In this case we have not created variables on the first call. So we can\u001b[0m\u001b[0;34m\u001b[0m\u001b[0;34m\u001b[0m\u001b[0;34m\u001b[0m\u001b[0m\n\u001b[1;32m    813\u001b[0m       \u001b[0;31m# run the first trace but we should fail if variables are created.\u001b[0m\u001b[0;34m\u001b[0m\u001b[0;34m\u001b[0m\u001b[0;34m\u001b[0m\u001b[0m\n\u001b[0;32m--> 814\u001b[0;31m       \u001b[0mresults\u001b[0m \u001b[0;34m=\u001b[0m \u001b[0mself\u001b[0m\u001b[0;34m.\u001b[0m\u001b[0m_stateful_fn\u001b[0m\u001b[0;34m(\u001b[0m\u001b[0;34m*\u001b[0m\u001b[0margs\u001b[0m\u001b[0;34m,\u001b[0m \u001b[0;34m**\u001b[0m\u001b[0mkwds\u001b[0m\u001b[0;34m)\u001b[0m\u001b[0;34m\u001b[0m\u001b[0;34m\u001b[0m\u001b[0m\n\u001b[0m\u001b[1;32m    815\u001b[0m       \u001b[0;32mif\u001b[0m \u001b[0mself\u001b[0m\u001b[0;34m.\u001b[0m\u001b[0m_created_variables\u001b[0m\u001b[0;34m:\u001b[0m\u001b[0;34m\u001b[0m\u001b[0;34m\u001b[0m\u001b[0m\n\u001b[1;32m    816\u001b[0m         raise ValueError(\"Creating variables on a non-first call to a function\"\n",
            "\u001b[0;32m/usr/local/lib/python3.6/dist-packages/tensorflow/python/eager/function.py\u001b[0m in \u001b[0;36m__call__\u001b[0;34m(self, *args, **kwargs)\u001b[0m\n\u001b[1;32m   2826\u001b[0m     \u001b[0;34m\"\"\"Calls a graph function specialized to the inputs.\"\"\"\u001b[0m\u001b[0;34m\u001b[0m\u001b[0;34m\u001b[0m\u001b[0m\n\u001b[1;32m   2827\u001b[0m     \u001b[0;32mwith\u001b[0m \u001b[0mself\u001b[0m\u001b[0;34m.\u001b[0m\u001b[0m_lock\u001b[0m\u001b[0;34m:\u001b[0m\u001b[0;34m\u001b[0m\u001b[0;34m\u001b[0m\u001b[0m\n\u001b[0;32m-> 2828\u001b[0;31m       \u001b[0mgraph_function\u001b[0m\u001b[0;34m,\u001b[0m \u001b[0margs\u001b[0m\u001b[0;34m,\u001b[0m \u001b[0mkwargs\u001b[0m \u001b[0;34m=\u001b[0m \u001b[0mself\u001b[0m\u001b[0;34m.\u001b[0m\u001b[0m_maybe_define_function\u001b[0m\u001b[0;34m(\u001b[0m\u001b[0margs\u001b[0m\u001b[0;34m,\u001b[0m \u001b[0mkwargs\u001b[0m\u001b[0;34m)\u001b[0m\u001b[0;34m\u001b[0m\u001b[0;34m\u001b[0m\u001b[0m\n\u001b[0m\u001b[1;32m   2829\u001b[0m     \u001b[0;32mreturn\u001b[0m \u001b[0mgraph_function\u001b[0m\u001b[0;34m.\u001b[0m\u001b[0m_filtered_call\u001b[0m\u001b[0;34m(\u001b[0m\u001b[0margs\u001b[0m\u001b[0;34m,\u001b[0m \u001b[0mkwargs\u001b[0m\u001b[0;34m)\u001b[0m  \u001b[0;31m# pylint: disable=protected-access\u001b[0m\u001b[0;34m\u001b[0m\u001b[0;34m\u001b[0m\u001b[0m\n\u001b[1;32m   2830\u001b[0m \u001b[0;34m\u001b[0m\u001b[0m\n",
            "\u001b[0;32m/usr/local/lib/python3.6/dist-packages/tensorflow/python/eager/function.py\u001b[0m in \u001b[0;36m_maybe_define_function\u001b[0;34m(self, args, kwargs)\u001b[0m\n\u001b[1;32m   3208\u001b[0m           \u001b[0;32mand\u001b[0m \u001b[0mself\u001b[0m\u001b[0;34m.\u001b[0m\u001b[0minput_signature\u001b[0m \u001b[0;32mis\u001b[0m \u001b[0;32mNone\u001b[0m\u001b[0;34m\u001b[0m\u001b[0;34m\u001b[0m\u001b[0m\n\u001b[1;32m   3209\u001b[0m           and call_context_key in self._function_cache.missed):\n\u001b[0;32m-> 3210\u001b[0;31m         \u001b[0;32mreturn\u001b[0m \u001b[0mself\u001b[0m\u001b[0;34m.\u001b[0m\u001b[0m_define_function_with_shape_relaxation\u001b[0m\u001b[0;34m(\u001b[0m\u001b[0margs\u001b[0m\u001b[0;34m,\u001b[0m \u001b[0mkwargs\u001b[0m\u001b[0;34m)\u001b[0m\u001b[0;34m\u001b[0m\u001b[0;34m\u001b[0m\u001b[0m\n\u001b[0m\u001b[1;32m   3211\u001b[0m \u001b[0;34m\u001b[0m\u001b[0m\n\u001b[1;32m   3212\u001b[0m       \u001b[0mself\u001b[0m\u001b[0;34m.\u001b[0m\u001b[0m_function_cache\u001b[0m\u001b[0;34m.\u001b[0m\u001b[0mmissed\u001b[0m\u001b[0;34m.\u001b[0m\u001b[0madd\u001b[0m\u001b[0;34m(\u001b[0m\u001b[0mcall_context_key\u001b[0m\u001b[0;34m)\u001b[0m\u001b[0;34m\u001b[0m\u001b[0;34m\u001b[0m\u001b[0m\n",
            "\u001b[0;32m/usr/local/lib/python3.6/dist-packages/tensorflow/python/eager/function.py\u001b[0m in \u001b[0;36m_define_function_with_shape_relaxation\u001b[0;34m(self, args, kwargs)\u001b[0m\n\u001b[1;32m   3140\u001b[0m \u001b[0;34m\u001b[0m\u001b[0m\n\u001b[1;32m   3141\u001b[0m     graph_function = self._create_graph_function(\n\u001b[0;32m-> 3142\u001b[0;31m         args, kwargs, override_flat_arg_shapes=relaxed_arg_shapes)\n\u001b[0m\u001b[1;32m   3143\u001b[0m     \u001b[0mself\u001b[0m\u001b[0;34m.\u001b[0m\u001b[0m_function_cache\u001b[0m\u001b[0;34m.\u001b[0m\u001b[0marg_relaxed\u001b[0m\u001b[0;34m[\u001b[0m\u001b[0mrank_only_cache_key\u001b[0m\u001b[0;34m]\u001b[0m \u001b[0;34m=\u001b[0m \u001b[0mgraph_function\u001b[0m\u001b[0;34m\u001b[0m\u001b[0;34m\u001b[0m\u001b[0m\n\u001b[1;32m   3144\u001b[0m \u001b[0;34m\u001b[0m\u001b[0m\n",
            "\u001b[0;32m/usr/local/lib/python3.6/dist-packages/tensorflow/python/eager/function.py\u001b[0m in \u001b[0;36m_create_graph_function\u001b[0;34m(self, args, kwargs, override_flat_arg_shapes)\u001b[0m\n\u001b[1;32m   3073\u001b[0m             \u001b[0marg_names\u001b[0m\u001b[0;34m=\u001b[0m\u001b[0marg_names\u001b[0m\u001b[0;34m,\u001b[0m\u001b[0;34m\u001b[0m\u001b[0;34m\u001b[0m\u001b[0m\n\u001b[1;32m   3074\u001b[0m             \u001b[0moverride_flat_arg_shapes\u001b[0m\u001b[0;34m=\u001b[0m\u001b[0moverride_flat_arg_shapes\u001b[0m\u001b[0;34m,\u001b[0m\u001b[0;34m\u001b[0m\u001b[0;34m\u001b[0m\u001b[0m\n\u001b[0;32m-> 3075\u001b[0;31m             capture_by_value=self._capture_by_value),\n\u001b[0m\u001b[1;32m   3076\u001b[0m         \u001b[0mself\u001b[0m\u001b[0;34m.\u001b[0m\u001b[0m_function_attributes\u001b[0m\u001b[0;34m,\u001b[0m\u001b[0;34m\u001b[0m\u001b[0;34m\u001b[0m\u001b[0m\n\u001b[1;32m   3077\u001b[0m         \u001b[0mfunction_spec\u001b[0m\u001b[0;34m=\u001b[0m\u001b[0mself\u001b[0m\u001b[0;34m.\u001b[0m\u001b[0mfunction_spec\u001b[0m\u001b[0;34m,\u001b[0m\u001b[0;34m\u001b[0m\u001b[0;34m\u001b[0m\u001b[0m\n",
            "\u001b[0;32m/usr/local/lib/python3.6/dist-packages/tensorflow/python/framework/func_graph.py\u001b[0m in \u001b[0;36mfunc_graph_from_py_func\u001b[0;34m(name, python_func, args, kwargs, signature, func_graph, autograph, autograph_options, add_control_dependencies, arg_names, op_return_value, collections, capture_by_value, override_flat_arg_shapes)\u001b[0m\n\u001b[1;32m    984\u001b[0m         \u001b[0m_\u001b[0m\u001b[0;34m,\u001b[0m \u001b[0moriginal_func\u001b[0m \u001b[0;34m=\u001b[0m \u001b[0mtf_decorator\u001b[0m\u001b[0;34m.\u001b[0m\u001b[0munwrap\u001b[0m\u001b[0;34m(\u001b[0m\u001b[0mpython_func\u001b[0m\u001b[0;34m)\u001b[0m\u001b[0;34m\u001b[0m\u001b[0;34m\u001b[0m\u001b[0m\n\u001b[1;32m    985\u001b[0m \u001b[0;34m\u001b[0m\u001b[0m\n\u001b[0;32m--> 986\u001b[0;31m       \u001b[0mfunc_outputs\u001b[0m \u001b[0;34m=\u001b[0m \u001b[0mpython_func\u001b[0m\u001b[0;34m(\u001b[0m\u001b[0;34m*\u001b[0m\u001b[0mfunc_args\u001b[0m\u001b[0;34m,\u001b[0m \u001b[0;34m**\u001b[0m\u001b[0mfunc_kwargs\u001b[0m\u001b[0;34m)\u001b[0m\u001b[0;34m\u001b[0m\u001b[0;34m\u001b[0m\u001b[0m\n\u001b[0m\u001b[1;32m    987\u001b[0m \u001b[0;34m\u001b[0m\u001b[0m\n\u001b[1;32m    988\u001b[0m       \u001b[0;31m# invariant: `func_outputs` contains only Tensors, CompositeTensors,\u001b[0m\u001b[0;34m\u001b[0m\u001b[0;34m\u001b[0m\u001b[0;34m\u001b[0m\u001b[0m\n",
            "\u001b[0;32m/usr/local/lib/python3.6/dist-packages/tensorflow/python/eager/def_function.py\u001b[0m in \u001b[0;36mwrapped_fn\u001b[0;34m(*args, **kwds)\u001b[0m\n\u001b[1;32m    598\u001b[0m         \u001b[0;31m# __wrapped__ allows AutoGraph to swap in a converted function. We give\u001b[0m\u001b[0;34m\u001b[0m\u001b[0;34m\u001b[0m\u001b[0;34m\u001b[0m\u001b[0m\n\u001b[1;32m    599\u001b[0m         \u001b[0;31m# the function a weak reference to itself to avoid a reference cycle.\u001b[0m\u001b[0;34m\u001b[0m\u001b[0;34m\u001b[0m\u001b[0;34m\u001b[0m\u001b[0m\n\u001b[0;32m--> 600\u001b[0;31m         \u001b[0;32mreturn\u001b[0m \u001b[0mweak_wrapped_fn\u001b[0m\u001b[0;34m(\u001b[0m\u001b[0;34m)\u001b[0m\u001b[0;34m.\u001b[0m\u001b[0m__wrapped__\u001b[0m\u001b[0;34m(\u001b[0m\u001b[0;34m*\u001b[0m\u001b[0margs\u001b[0m\u001b[0;34m,\u001b[0m \u001b[0;34m**\u001b[0m\u001b[0mkwds\u001b[0m\u001b[0;34m)\u001b[0m\u001b[0;34m\u001b[0m\u001b[0;34m\u001b[0m\u001b[0m\n\u001b[0m\u001b[1;32m    601\u001b[0m     \u001b[0mweak_wrapped_fn\u001b[0m \u001b[0;34m=\u001b[0m \u001b[0mweakref\u001b[0m\u001b[0;34m.\u001b[0m\u001b[0mref\u001b[0m\u001b[0;34m(\u001b[0m\u001b[0mwrapped_fn\u001b[0m\u001b[0;34m)\u001b[0m\u001b[0;34m\u001b[0m\u001b[0;34m\u001b[0m\u001b[0m\n\u001b[1;32m    602\u001b[0m \u001b[0;34m\u001b[0m\u001b[0m\n",
            "\u001b[0;32m/usr/local/lib/python3.6/dist-packages/tensorflow/python/framework/func_graph.py\u001b[0m in \u001b[0;36mwrapper\u001b[0;34m(*args, **kwargs)\u001b[0m\n\u001b[1;32m    971\u001b[0m           \u001b[0;32mexcept\u001b[0m \u001b[0mException\u001b[0m \u001b[0;32mas\u001b[0m \u001b[0me\u001b[0m\u001b[0;34m:\u001b[0m  \u001b[0;31m# pylint:disable=broad-except\u001b[0m\u001b[0;34m\u001b[0m\u001b[0;34m\u001b[0m\u001b[0m\n\u001b[1;32m    972\u001b[0m             \u001b[0;32mif\u001b[0m \u001b[0mhasattr\u001b[0m\u001b[0;34m(\u001b[0m\u001b[0me\u001b[0m\u001b[0;34m,\u001b[0m \u001b[0;34m\"ag_error_metadata\"\u001b[0m\u001b[0;34m)\u001b[0m\u001b[0;34m:\u001b[0m\u001b[0;34m\u001b[0m\u001b[0;34m\u001b[0m\u001b[0m\n\u001b[0;32m--> 973\u001b[0;31m               \u001b[0;32mraise\u001b[0m \u001b[0me\u001b[0m\u001b[0;34m.\u001b[0m\u001b[0mag_error_metadata\u001b[0m\u001b[0;34m.\u001b[0m\u001b[0mto_exception\u001b[0m\u001b[0;34m(\u001b[0m\u001b[0me\u001b[0m\u001b[0;34m)\u001b[0m\u001b[0;34m\u001b[0m\u001b[0;34m\u001b[0m\u001b[0m\n\u001b[0m\u001b[1;32m    974\u001b[0m             \u001b[0;32melse\u001b[0m\u001b[0;34m:\u001b[0m\u001b[0;34m\u001b[0m\u001b[0;34m\u001b[0m\u001b[0m\n\u001b[1;32m    975\u001b[0m               \u001b[0;32mraise\u001b[0m\u001b[0;34m\u001b[0m\u001b[0;34m\u001b[0m\u001b[0m\n",
            "\u001b[0;31mValueError\u001b[0m: in user code:\n\n    /usr/local/lib/python3.6/dist-packages/tensorflow/python/keras/engine/training.py:1224 test_function  *\n        return step_function(self, iterator)\n    /usr/local/lib/python3.6/dist-packages/tensorflow/python/keras/engine/training.py:1215 step_function  **\n        outputs = model.distribute_strategy.run(run_step, args=(data,))\n    /usr/local/lib/python3.6/dist-packages/tensorflow/python/distribute/distribute_lib.py:1211 run\n        return self._extended.call_for_each_replica(fn, args=args, kwargs=kwargs)\n    /usr/local/lib/python3.6/dist-packages/tensorflow/python/distribute/distribute_lib.py:2585 call_for_each_replica\n        return self._call_for_each_replica(fn, args, kwargs)\n    /usr/local/lib/python3.6/dist-packages/tensorflow/python/distribute/distribute_lib.py:2945 _call_for_each_replica\n        return fn(*args, **kwargs)\n    /usr/local/lib/python3.6/dist-packages/tensorflow/python/keras/engine/training.py:1208 run_step  **\n        outputs = model.test_step(data)\n    /usr/local/lib/python3.6/dist-packages/tensorflow/python/keras/engine/training.py:1177 test_step\n        y, y_pred, sample_weight, regularization_losses=self.losses)\n    /usr/local/lib/python3.6/dist-packages/tensorflow/python/keras/engine/compile_utils.py:204 __call__\n        loss_value = loss_obj(y_t, y_p, sample_weight=sw)\n    /usr/local/lib/python3.6/dist-packages/tensorflow/python/keras/losses.py:149 __call__\n        losses = ag_call(y_true, y_pred)\n    /usr/local/lib/python3.6/dist-packages/tensorflow/python/keras/losses.py:253 call  **\n        return ag_fn(y_true, y_pred, **self._fn_kwargs)\n    /usr/local/lib/python3.6/dist-packages/tensorflow/python/util/dispatch.py:201 wrapper\n        return target(*args, **kwargs)\n    /usr/local/lib/python3.6/dist-packages/tensorflow/python/keras/losses.py:1535 categorical_crossentropy\n        return K.categorical_crossentropy(y_true, y_pred, from_logits=from_logits)\n    /usr/local/lib/python3.6/dist-packages/tensorflow/python/util/dispatch.py:201 wrapper\n        return target(*args, **kwargs)\n    /usr/local/lib/python3.6/dist-packages/tensorflow/python/keras/backend.py:4687 categorical_crossentropy\n        target.shape.assert_is_compatible_with(output.shape)\n    /usr/local/lib/python3.6/dist-packages/tensorflow/python/framework/tensor_shape.py:1134 assert_is_compatible_with\n        raise ValueError(\"Shapes %s and %s are incompatible\" % (self, other))\n\n    ValueError: Shapes (None, 1) and (None, 11) are incompatible\n"
          ]
        }
      ]
    },
    {
      "cell_type": "code",
      "metadata": {
        "id": "Ol2Q8hOXjKfr"
      },
      "source": [
        "# predict\n",
        "s = 'happy'\n",
        "pred = predict(label_dict, s, model)\n",
        "print('Word: {}'.format(s))\n",
        "print('Prediction: {}'.format(pred))"
      ],
      "execution_count": null,
      "outputs": []
    },
    {
      "cell_type": "markdown",
      "metadata": {
        "id": "edqAiqRQTFym"
      },
      "source": [
        ""
      ]
    },
    {
      "cell_type": "code",
      "metadata": {
        "id": "Rbh8T-mrx20u"
      },
      "source": [
        "# evaluation confusion matrix\n",
        "tf.math.confusion_matrix(labels=y_validation, predictions=x_validation)"
      ],
      "execution_count": null,
      "outputs": []
    },
    {
      "cell_type": "code",
      "metadata": {
        "id": "7TlxepYljOxE"
      },
      "source": [
        "# save the model\n",
        "!mkdir models\n",
        "model.save(MODEL_PATH)"
      ],
      "execution_count": null,
      "outputs": []
    },
    {
      "cell_type": "code",
      "metadata": {
        "id": "Hp7RGZe-jPDB"
      },
      "source": [
        "# convert to modeljs\n",
        "tfjs.converters.save_keras_model(model, 'tfjsmodel')"
      ],
      "execution_count": null,
      "outputs": []
    }
  ]
}