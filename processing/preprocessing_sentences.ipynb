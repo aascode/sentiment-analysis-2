{
  "nbformat": 4,
  "nbformat_minor": 0,
  "metadata": {
    "colab": {
      "name": "preprocessing_sentences.ipynb",
      "provenance": [],
      "collapsed_sections": [],
      "machine_shape": "hm"
    },
    "kernelspec": {
      "name": "python3",
      "display_name": "Python 3"
    },
    "accelerator": "GPU",
    "widgets": {
      "application/vnd.jupyter.widget-state+json": {
        "61d415de660e47afa18e376544689afb": {
          "model_module": "@jupyter-widgets/controls",
          "model_name": "HBoxModel",
          "state": {
            "_view_name": "HBoxView",
            "_dom_classes": [],
            "_model_name": "HBoxModel",
            "_view_module": "@jupyter-widgets/controls",
            "_model_module_version": "1.5.0",
            "_view_count": null,
            "_view_module_version": "1.5.0",
            "box_style": "",
            "layout": "IPY_MODEL_19a9e261993f44e4bd7770b39049639b",
            "_model_module": "@jupyter-widgets/controls",
            "children": [
              "IPY_MODEL_c03bdf4a6cf24b73b6b9b2440f6b6eb3",
              "IPY_MODEL_17752f7a91fe4bed8dd99b0751ec6217"
            ]
          }
        },
        "19a9e261993f44e4bd7770b39049639b": {
          "model_module": "@jupyter-widgets/base",
          "model_name": "LayoutModel",
          "state": {
            "_view_name": "LayoutView",
            "grid_template_rows": null,
            "right": null,
            "justify_content": null,
            "_view_module": "@jupyter-widgets/base",
            "overflow": null,
            "_model_module_version": "1.2.0",
            "_view_count": null,
            "flex_flow": null,
            "width": null,
            "min_width": null,
            "border": null,
            "align_items": null,
            "bottom": null,
            "_model_module": "@jupyter-widgets/base",
            "top": null,
            "grid_column": null,
            "overflow_y": null,
            "overflow_x": null,
            "grid_auto_flow": null,
            "grid_area": null,
            "grid_template_columns": null,
            "flex": null,
            "_model_name": "LayoutModel",
            "justify_items": null,
            "grid_row": null,
            "max_height": null,
            "align_content": null,
            "visibility": null,
            "align_self": null,
            "height": null,
            "min_height": null,
            "padding": null,
            "grid_auto_rows": null,
            "grid_gap": null,
            "max_width": null,
            "order": null,
            "_view_module_version": "1.2.0",
            "grid_template_areas": null,
            "object_position": null,
            "object_fit": null,
            "grid_auto_columns": null,
            "margin": null,
            "display": null,
            "left": null
          }
        },
        "c03bdf4a6cf24b73b6b9b2440f6b6eb3": {
          "model_module": "@jupyter-widgets/controls",
          "model_name": "FloatProgressModel",
          "state": {
            "_view_name": "ProgressView",
            "style": "IPY_MODEL_1ec6dfe99163402ebf0ddaba2a32d536",
            "_dom_classes": [],
            "description": "Downloading: 100%",
            "_model_name": "FloatProgressModel",
            "bar_style": "success",
            "max": 442,
            "_view_module": "@jupyter-widgets/controls",
            "_model_module_version": "1.5.0",
            "value": 442,
            "_view_count": null,
            "_view_module_version": "1.5.0",
            "orientation": "horizontal",
            "min": 0,
            "description_tooltip": null,
            "_model_module": "@jupyter-widgets/controls",
            "layout": "IPY_MODEL_0f5ac555ee9d4dcca7ca940b440d1177"
          }
        },
        "17752f7a91fe4bed8dd99b0751ec6217": {
          "model_module": "@jupyter-widgets/controls",
          "model_name": "HTMLModel",
          "state": {
            "_view_name": "HTMLView",
            "style": "IPY_MODEL_89f700a188be4b088058d1f177995fef",
            "_dom_classes": [],
            "description": "",
            "_model_name": "HTMLModel",
            "placeholder": "​",
            "_view_module": "@jupyter-widgets/controls",
            "_model_module_version": "1.5.0",
            "value": " 442/442 [00:00&lt;00:00, 1.09kB/s]",
            "_view_count": null,
            "_view_module_version": "1.5.0",
            "description_tooltip": null,
            "_model_module": "@jupyter-widgets/controls",
            "layout": "IPY_MODEL_16102d82b4114cb7a22c8a7f208e33d9"
          }
        },
        "1ec6dfe99163402ebf0ddaba2a32d536": {
          "model_module": "@jupyter-widgets/controls",
          "model_name": "ProgressStyleModel",
          "state": {
            "_view_name": "StyleView",
            "_model_name": "ProgressStyleModel",
            "description_width": "initial",
            "_view_module": "@jupyter-widgets/base",
            "_model_module_version": "1.5.0",
            "_view_count": null,
            "_view_module_version": "1.2.0",
            "bar_color": null,
            "_model_module": "@jupyter-widgets/controls"
          }
        },
        "0f5ac555ee9d4dcca7ca940b440d1177": {
          "model_module": "@jupyter-widgets/base",
          "model_name": "LayoutModel",
          "state": {
            "_view_name": "LayoutView",
            "grid_template_rows": null,
            "right": null,
            "justify_content": null,
            "_view_module": "@jupyter-widgets/base",
            "overflow": null,
            "_model_module_version": "1.2.0",
            "_view_count": null,
            "flex_flow": null,
            "width": null,
            "min_width": null,
            "border": null,
            "align_items": null,
            "bottom": null,
            "_model_module": "@jupyter-widgets/base",
            "top": null,
            "grid_column": null,
            "overflow_y": null,
            "overflow_x": null,
            "grid_auto_flow": null,
            "grid_area": null,
            "grid_template_columns": null,
            "flex": null,
            "_model_name": "LayoutModel",
            "justify_items": null,
            "grid_row": null,
            "max_height": null,
            "align_content": null,
            "visibility": null,
            "align_self": null,
            "height": null,
            "min_height": null,
            "padding": null,
            "grid_auto_rows": null,
            "grid_gap": null,
            "max_width": null,
            "order": null,
            "_view_module_version": "1.2.0",
            "grid_template_areas": null,
            "object_position": null,
            "object_fit": null,
            "grid_auto_columns": null,
            "margin": null,
            "display": null,
            "left": null
          }
        },
        "89f700a188be4b088058d1f177995fef": {
          "model_module": "@jupyter-widgets/controls",
          "model_name": "DescriptionStyleModel",
          "state": {
            "_view_name": "StyleView",
            "_model_name": "DescriptionStyleModel",
            "description_width": "",
            "_view_module": "@jupyter-widgets/base",
            "_model_module_version": "1.5.0",
            "_view_count": null,
            "_view_module_version": "1.2.0",
            "_model_module": "@jupyter-widgets/controls"
          }
        },
        "16102d82b4114cb7a22c8a7f208e33d9": {
          "model_module": "@jupyter-widgets/base",
          "model_name": "LayoutModel",
          "state": {
            "_view_name": "LayoutView",
            "grid_template_rows": null,
            "right": null,
            "justify_content": null,
            "_view_module": "@jupyter-widgets/base",
            "overflow": null,
            "_model_module_version": "1.2.0",
            "_view_count": null,
            "flex_flow": null,
            "width": null,
            "min_width": null,
            "border": null,
            "align_items": null,
            "bottom": null,
            "_model_module": "@jupyter-widgets/base",
            "top": null,
            "grid_column": null,
            "overflow_y": null,
            "overflow_x": null,
            "grid_auto_flow": null,
            "grid_area": null,
            "grid_template_columns": null,
            "flex": null,
            "_model_name": "LayoutModel",
            "justify_items": null,
            "grid_row": null,
            "max_height": null,
            "align_content": null,
            "visibility": null,
            "align_self": null,
            "height": null,
            "min_height": null,
            "padding": null,
            "grid_auto_rows": null,
            "grid_gap": null,
            "max_width": null,
            "order": null,
            "_view_module_version": "1.2.0",
            "grid_template_areas": null,
            "object_position": null,
            "object_fit": null,
            "grid_auto_columns": null,
            "margin": null,
            "display": null,
            "left": null
          }
        },
        "55905eb72f034f77bbc4853ea2c5c29c": {
          "model_module": "@jupyter-widgets/controls",
          "model_name": "HBoxModel",
          "state": {
            "_view_name": "HBoxView",
            "_dom_classes": [],
            "_model_name": "HBoxModel",
            "_view_module": "@jupyter-widgets/controls",
            "_model_module_version": "1.5.0",
            "_view_count": null,
            "_view_module_version": "1.5.0",
            "box_style": "",
            "layout": "IPY_MODEL_4ea026d2a3424673b8a61a1ac8b146d2",
            "_model_module": "@jupyter-widgets/controls",
            "children": [
              "IPY_MODEL_369d2ea350564ba8b42cb8e376e9e6f6",
              "IPY_MODEL_18197185ac064f9b8faf37f259097289"
            ]
          }
        },
        "4ea026d2a3424673b8a61a1ac8b146d2": {
          "model_module": "@jupyter-widgets/base",
          "model_name": "LayoutModel",
          "state": {
            "_view_name": "LayoutView",
            "grid_template_rows": null,
            "right": null,
            "justify_content": null,
            "_view_module": "@jupyter-widgets/base",
            "overflow": null,
            "_model_module_version": "1.2.0",
            "_view_count": null,
            "flex_flow": null,
            "width": null,
            "min_width": null,
            "border": null,
            "align_items": null,
            "bottom": null,
            "_model_module": "@jupyter-widgets/base",
            "top": null,
            "grid_column": null,
            "overflow_y": null,
            "overflow_x": null,
            "grid_auto_flow": null,
            "grid_area": null,
            "grid_template_columns": null,
            "flex": null,
            "_model_name": "LayoutModel",
            "justify_items": null,
            "grid_row": null,
            "max_height": null,
            "align_content": null,
            "visibility": null,
            "align_self": null,
            "height": null,
            "min_height": null,
            "padding": null,
            "grid_auto_rows": null,
            "grid_gap": null,
            "max_width": null,
            "order": null,
            "_view_module_version": "1.2.0",
            "grid_template_areas": null,
            "object_position": null,
            "object_fit": null,
            "grid_auto_columns": null,
            "margin": null,
            "display": null,
            "left": null
          }
        },
        "369d2ea350564ba8b42cb8e376e9e6f6": {
          "model_module": "@jupyter-widgets/controls",
          "model_name": "FloatProgressModel",
          "state": {
            "_view_name": "ProgressView",
            "style": "IPY_MODEL_dbc479e88c664536b21ccf881b156b51",
            "_dom_classes": [],
            "description": "Downloading: 100%",
            "_model_name": "FloatProgressModel",
            "bar_style": "success",
            "max": 231508,
            "_view_module": "@jupyter-widgets/controls",
            "_model_module_version": "1.5.0",
            "value": 231508,
            "_view_count": null,
            "_view_module_version": "1.5.0",
            "orientation": "horizontal",
            "min": 0,
            "description_tooltip": null,
            "_model_module": "@jupyter-widgets/controls",
            "layout": "IPY_MODEL_914ce4f1d0434af6ba1432cb7d0ead1b"
          }
        },
        "18197185ac064f9b8faf37f259097289": {
          "model_module": "@jupyter-widgets/controls",
          "model_name": "HTMLModel",
          "state": {
            "_view_name": "HTMLView",
            "style": "IPY_MODEL_b75097f85f5e4f85bbbc3be3e58f8ec5",
            "_dom_classes": [],
            "description": "",
            "_model_name": "HTMLModel",
            "placeholder": "​",
            "_view_module": "@jupyter-widgets/controls",
            "_model_module_version": "1.5.0",
            "value": " 232k/232k [00:00&lt;00:00, 633kB/s]",
            "_view_count": null,
            "_view_module_version": "1.5.0",
            "description_tooltip": null,
            "_model_module": "@jupyter-widgets/controls",
            "layout": "IPY_MODEL_8d07bcfcebcf49ad93e4248b0cf82b86"
          }
        },
        "dbc479e88c664536b21ccf881b156b51": {
          "model_module": "@jupyter-widgets/controls",
          "model_name": "ProgressStyleModel",
          "state": {
            "_view_name": "StyleView",
            "_model_name": "ProgressStyleModel",
            "description_width": "initial",
            "_view_module": "@jupyter-widgets/base",
            "_model_module_version": "1.5.0",
            "_view_count": null,
            "_view_module_version": "1.2.0",
            "bar_color": null,
            "_model_module": "@jupyter-widgets/controls"
          }
        },
        "914ce4f1d0434af6ba1432cb7d0ead1b": {
          "model_module": "@jupyter-widgets/base",
          "model_name": "LayoutModel",
          "state": {
            "_view_name": "LayoutView",
            "grid_template_rows": null,
            "right": null,
            "justify_content": null,
            "_view_module": "@jupyter-widgets/base",
            "overflow": null,
            "_model_module_version": "1.2.0",
            "_view_count": null,
            "flex_flow": null,
            "width": null,
            "min_width": null,
            "border": null,
            "align_items": null,
            "bottom": null,
            "_model_module": "@jupyter-widgets/base",
            "top": null,
            "grid_column": null,
            "overflow_y": null,
            "overflow_x": null,
            "grid_auto_flow": null,
            "grid_area": null,
            "grid_template_columns": null,
            "flex": null,
            "_model_name": "LayoutModel",
            "justify_items": null,
            "grid_row": null,
            "max_height": null,
            "align_content": null,
            "visibility": null,
            "align_self": null,
            "height": null,
            "min_height": null,
            "padding": null,
            "grid_auto_rows": null,
            "grid_gap": null,
            "max_width": null,
            "order": null,
            "_view_module_version": "1.2.0",
            "grid_template_areas": null,
            "object_position": null,
            "object_fit": null,
            "grid_auto_columns": null,
            "margin": null,
            "display": null,
            "left": null
          }
        },
        "b75097f85f5e4f85bbbc3be3e58f8ec5": {
          "model_module": "@jupyter-widgets/controls",
          "model_name": "DescriptionStyleModel",
          "state": {
            "_view_name": "StyleView",
            "_model_name": "DescriptionStyleModel",
            "description_width": "",
            "_view_module": "@jupyter-widgets/base",
            "_model_module_version": "1.5.0",
            "_view_count": null,
            "_view_module_version": "1.2.0",
            "_model_module": "@jupyter-widgets/controls"
          }
        },
        "8d07bcfcebcf49ad93e4248b0cf82b86": {
          "model_module": "@jupyter-widgets/base",
          "model_name": "LayoutModel",
          "state": {
            "_view_name": "LayoutView",
            "grid_template_rows": null,
            "right": null,
            "justify_content": null,
            "_view_module": "@jupyter-widgets/base",
            "overflow": null,
            "_model_module_version": "1.2.0",
            "_view_count": null,
            "flex_flow": null,
            "width": null,
            "min_width": null,
            "border": null,
            "align_items": null,
            "bottom": null,
            "_model_module": "@jupyter-widgets/base",
            "top": null,
            "grid_column": null,
            "overflow_y": null,
            "overflow_x": null,
            "grid_auto_flow": null,
            "grid_area": null,
            "grid_template_columns": null,
            "flex": null,
            "_model_name": "LayoutModel",
            "justify_items": null,
            "grid_row": null,
            "max_height": null,
            "align_content": null,
            "visibility": null,
            "align_self": null,
            "height": null,
            "min_height": null,
            "padding": null,
            "grid_auto_rows": null,
            "grid_gap": null,
            "max_width": null,
            "order": null,
            "_view_module_version": "1.2.0",
            "grid_template_areas": null,
            "object_position": null,
            "object_fit": null,
            "grid_auto_columns": null,
            "margin": null,
            "display": null,
            "left": null
          }
        }
      }
    }
  },
  "cells": [
    {
      "cell_type": "markdown",
      "metadata": {
        "id": "QFDGn0PWhyvg"
      },
      "source": [
        "---\n",
        "# **1.Installations**\n",
        "---"
      ]
    },
    {
      "cell_type": "code",
      "metadata": {
        "id": "aANJaaPEhsXk",
        "outputId": "d4bf17a3-92c4-42c0-f312-77c05380b090",
        "colab": {
          "base_uri": "https://localhost:8080/",
          "height": 1000
        }
      },
      "source": [
        "!pip install nltk\n",
        "!pip install --upgrade git+https://github.com/flairNLP/flair.git\n",
        "!pip install textblob\n",
        "!pip install stanza\n",
        "!pip install spacy\n",
        "!pip install tqdm"
      ],
      "execution_count": null,
      "outputs": [
        {
          "output_type": "stream",
          "text": [
            "Requirement already satisfied: nltk in /usr/local/lib/python3.6/dist-packages (3.2.5)\n",
            "Requirement already satisfied: six in /usr/local/lib/python3.6/dist-packages (from nltk) (1.15.0)\n",
            "Collecting git+https://github.com/flairNLP/flair.git\n",
            "  Cloning https://github.com/flairNLP/flair.git to /tmp/pip-req-build-ctpymjbh\n",
            "  Running command git clone -q https://github.com/flairNLP/flair.git /tmp/pip-req-build-ctpymjbh\n",
            "  Installing build dependencies ... \u001b[?25l\u001b[?25hdone\n",
            "  Getting requirements to build wheel ... \u001b[?25l\u001b[?25hdone\n",
            "    Preparing wheel metadata ... \u001b[?25l\u001b[?25hdone\n",
            "Requirement already satisfied, skipping upgrade: lxml in /usr/local/lib/python3.6/dist-packages (from flair==0.6.1) (4.2.6)\n",
            "Collecting segtok>=1.5.7\n",
            "  Downloading https://files.pythonhosted.org/packages/41/08/582dab5f4b1d5ca23bc6927b4bb977c8ff7f3a87a3b98844ef833e2f5623/segtok-1.5.10.tar.gz\n",
            "Collecting mpld3==0.3\n",
            "\u001b[?25l  Downloading https://files.pythonhosted.org/packages/91/95/a52d3a83d0a29ba0d6898f6727e9858fe7a43f6c2ce81a5fe7e05f0f4912/mpld3-0.3.tar.gz (788kB)\n",
            "\u001b[K     |████████████████████████████████| 798kB 13.8MB/s \n",
            "\u001b[?25hCollecting deprecated>=1.2.4\n",
            "  Downloading https://files.pythonhosted.org/packages/76/a1/05d7f62f956d77b23a640efc650f80ce24483aa2f85a09c03fb64f49e879/Deprecated-1.2.10-py2.py3-none-any.whl\n",
            "Collecting sqlitedict>=1.6.0\n",
            "  Downloading https://files.pythonhosted.org/packages/5c/2d/b1d99e9ad157dd7de9cd0d36a8a5876b13b55e4b75f7498bc96035fb4e96/sqlitedict-1.7.0.tar.gz\n",
            "Requirement already satisfied, skipping upgrade: regex in /usr/local/lib/python3.6/dist-packages (from flair==0.6.1) (2019.12.20)\n",
            "Requirement already satisfied, skipping upgrade: matplotlib>=2.2.3 in /usr/local/lib/python3.6/dist-packages (from flair==0.6.1) (3.2.2)\n",
            "Collecting bpemb>=0.3.2\n",
            "  Downloading https://files.pythonhosted.org/packages/91/77/3f0f53856e86af32b1d3c86652815277f7b5f880002584eb30db115b6df5/bpemb-0.3.2-py3-none-any.whl\n",
            "Collecting transformers>=3.0.0\n",
            "\u001b[?25l  Downloading https://files.pythonhosted.org/packages/19/22/aff234f4a841f8999e68a7a94bdd4b60b4cebcfeca5d67d61cd08c9179de/transformers-3.3.1-py3-none-any.whl (1.1MB)\n",
            "\u001b[K     |████████████████████████████████| 1.1MB 28.2MB/s \n",
            "\u001b[?25hRequirement already satisfied, skipping upgrade: hyperopt>=0.1.1 in /usr/local/lib/python3.6/dist-packages (from flair==0.6.1) (0.1.2)\n",
            "Requirement already satisfied, skipping upgrade: scikit-learn>=0.21.3 in /usr/local/lib/python3.6/dist-packages (from flair==0.6.1) (0.22.2.post1)\n",
            "Requirement already satisfied, skipping upgrade: python-dateutil>=2.6.1 in /usr/local/lib/python3.6/dist-packages (from flair==0.6.1) (2.8.1)\n",
            "Collecting pytest>=5.3.2\n",
            "\u001b[?25l  Downloading https://files.pythonhosted.org/packages/61/a0/d4b854d67f8ecb855c65e5c760588e78213a4acb17ac7aeb4661ff1a9b3b/pytest-6.1.0-py3-none-any.whl (272kB)\n",
            "\u001b[K     |████████████████████████████████| 276kB 66.6MB/s \n",
            "\u001b[?25hRequirement already satisfied, skipping upgrade: tabulate in /usr/local/lib/python3.6/dist-packages (from flair==0.6.1) (0.8.7)\n",
            "Collecting konoha<5.0.0,>=4.0.0\n",
            "  Downloading https://files.pythonhosted.org/packages/ea/01/47358efec5396fc80f98273c42cbdfe7aab056252b07884ffcc0f118978f/konoha-4.6.2-py3-none-any.whl\n",
            "Collecting ftfy\n",
            "\u001b[?25l  Downloading https://files.pythonhosted.org/packages/ff/e2/3b51c53dffb1e52d9210ebc01f1fb9f2f6eba9b3201fa971fd3946643c71/ftfy-5.8.tar.gz (64kB)\n",
            "\u001b[K     |████████████████████████████████| 71kB 11.1MB/s \n",
            "\u001b[?25hCollecting sentencepiece!=0.1.92\n",
            "\u001b[?25l  Downloading https://files.pythonhosted.org/packages/d4/a4/d0a884c4300004a78cca907a6ff9a5e9fe4f090f5d95ab341c53d28cbc58/sentencepiece-0.1.91-cp36-cp36m-manylinux1_x86_64.whl (1.1MB)\n",
            "\u001b[K     |████████████████████████████████| 1.1MB 64.0MB/s \n",
            "\u001b[?25hRequirement already satisfied, skipping upgrade: tqdm>=4.26.0 in /usr/local/lib/python3.6/dist-packages (from flair==0.6.1) (4.41.1)\n",
            "Requirement already satisfied, skipping upgrade: gensim>=3.4.0 in /usr/local/lib/python3.6/dist-packages (from flair==0.6.1) (3.6.0)\n",
            "Requirement already satisfied, skipping upgrade: gdown in /usr/local/lib/python3.6/dist-packages (from flair==0.6.1) (3.6.4)\n",
            "Requirement already satisfied, skipping upgrade: torch>=1.1.0 in /usr/local/lib/python3.6/dist-packages (from flair==0.6.1) (1.6.0+cu101)\n",
            "Collecting janome\n",
            "\u001b[?25l  Downloading https://files.pythonhosted.org/packages/a8/63/98858cbead27df7536c7e300c169da0999e9704d02220dc6700b804eeff0/Janome-0.4.1-py2.py3-none-any.whl (19.7MB)\n",
            "\u001b[K     |████████████████████████████████| 19.7MB 160kB/s \n",
            "\u001b[?25hCollecting langdetect\n",
            "\u001b[?25l  Downloading https://files.pythonhosted.org/packages/56/a3/8407c1e62d5980188b4acc45ef3d94b933d14a2ebc9ef3505f22cf772570/langdetect-1.0.8.tar.gz (981kB)\n",
            "\u001b[K     |████████████████████████████████| 983kB 69.9MB/s \n",
            "\u001b[?25hRequirement already satisfied, skipping upgrade: wrapt<2,>=1.10 in /usr/local/lib/python3.6/dist-packages (from deprecated>=1.2.4->flair==0.6.1) (1.12.1)\n",
            "Requirement already satisfied, skipping upgrade: pyparsing!=2.0.4,!=2.1.2,!=2.1.6,>=2.0.1 in /usr/local/lib/python3.6/dist-packages (from matplotlib>=2.2.3->flair==0.6.1) (2.4.7)\n",
            "Requirement already satisfied, skipping upgrade: kiwisolver>=1.0.1 in /usr/local/lib/python3.6/dist-packages (from matplotlib>=2.2.3->flair==0.6.1) (1.2.0)\n",
            "Requirement already satisfied, skipping upgrade: numpy>=1.11 in /usr/local/lib/python3.6/dist-packages (from matplotlib>=2.2.3->flair==0.6.1) (1.18.5)\n",
            "Requirement already satisfied, skipping upgrade: cycler>=0.10 in /usr/local/lib/python3.6/dist-packages (from matplotlib>=2.2.3->flair==0.6.1) (0.10.0)\n",
            "Requirement already satisfied, skipping upgrade: requests in /usr/local/lib/python3.6/dist-packages (from bpemb>=0.3.2->flair==0.6.1) (2.23.0)\n",
            "Collecting tokenizers==0.8.1.rc2\n",
            "\u001b[?25l  Downloading https://files.pythonhosted.org/packages/80/83/8b9fccb9e48eeb575ee19179e2bdde0ee9a1904f97de5f02d19016b8804f/tokenizers-0.8.1rc2-cp36-cp36m-manylinux1_x86_64.whl (3.0MB)\n",
            "\u001b[K     |████████████████████████████████| 3.0MB 56.8MB/s \n",
            "\u001b[?25hRequirement already satisfied, skipping upgrade: filelock in /usr/local/lib/python3.6/dist-packages (from transformers>=3.0.0->flair==0.6.1) (3.0.12)\n",
            "Requirement already satisfied, skipping upgrade: packaging in /usr/local/lib/python3.6/dist-packages (from transformers>=3.0.0->flair==0.6.1) (20.4)\n",
            "Collecting sacremoses\n",
            "\u001b[?25l  Downloading https://files.pythonhosted.org/packages/7d/34/09d19aff26edcc8eb2a01bed8e98f13a1537005d31e95233fd48216eed10/sacremoses-0.0.43.tar.gz (883kB)\n",
            "\u001b[K     |████████████████████████████████| 890kB 51.5MB/s \n",
            "\u001b[?25hRequirement already satisfied, skipping upgrade: dataclasses; python_version < \"3.7\" in /usr/local/lib/python3.6/dist-packages (from transformers>=3.0.0->flair==0.6.1) (0.7)\n",
            "Requirement already satisfied, skipping upgrade: six in /usr/local/lib/python3.6/dist-packages (from hyperopt>=0.1.1->flair==0.6.1) (1.15.0)\n",
            "Requirement already satisfied, skipping upgrade: networkx in /usr/local/lib/python3.6/dist-packages (from hyperopt>=0.1.1->flair==0.6.1) (2.5)\n",
            "Requirement already satisfied, skipping upgrade: future in /usr/local/lib/python3.6/dist-packages (from hyperopt>=0.1.1->flair==0.6.1) (0.16.0)\n",
            "Requirement already satisfied, skipping upgrade: scipy in /usr/local/lib/python3.6/dist-packages (from hyperopt>=0.1.1->flair==0.6.1) (1.4.1)\n",
            "Requirement already satisfied, skipping upgrade: pymongo in /usr/local/lib/python3.6/dist-packages (from hyperopt>=0.1.1->flair==0.6.1) (3.11.0)\n",
            "Requirement already satisfied, skipping upgrade: joblib>=0.11 in /usr/local/lib/python3.6/dist-packages (from scikit-learn>=0.21.3->flair==0.6.1) (0.16.0)\n",
            "Requirement already satisfied, skipping upgrade: importlib-metadata>=0.12; python_version < \"3.8\" in /usr/local/lib/python3.6/dist-packages (from pytest>=5.3.2->flair==0.6.1) (2.0.0)\n",
            "Collecting pluggy<1.0,>=0.12\n",
            "  Downloading https://files.pythonhosted.org/packages/a0/28/85c7aa31b80d150b772fbe4a229487bc6644da9ccb7e427dd8cc60cb8a62/pluggy-0.13.1-py2.py3-none-any.whl\n",
            "Requirement already satisfied, skipping upgrade: py>=1.8.2 in /usr/local/lib/python3.6/dist-packages (from pytest>=5.3.2->flair==0.6.1) (1.9.0)\n",
            "Requirement already satisfied, skipping upgrade: toml in /usr/local/lib/python3.6/dist-packages (from pytest>=5.3.2->flair==0.6.1) (0.10.1)\n",
            "Requirement already satisfied, skipping upgrade: iniconfig in /usr/local/lib/python3.6/dist-packages (from pytest>=5.3.2->flair==0.6.1) (1.0.1)\n",
            "Requirement already satisfied, skipping upgrade: attrs>=17.4.0 in /usr/local/lib/python3.6/dist-packages (from pytest>=5.3.2->flair==0.6.1) (20.2.0)\n",
            "Collecting overrides==3.0.0\n",
            "  Downloading https://files.pythonhosted.org/packages/42/8d/caa729f809ecdf8e76fac3c1ff7d3f0b72c398c9dd8a6919927a30a873b3/overrides-3.0.0.tar.gz\n",
            "Requirement already satisfied, skipping upgrade: wcwidth in /usr/local/lib/python3.6/dist-packages (from ftfy->flair==0.6.1) (0.2.5)\n",
            "Requirement already satisfied, skipping upgrade: smart-open>=1.2.1 in /usr/local/lib/python3.6/dist-packages (from gensim>=3.4.0->flair==0.6.1) (2.2.0)\n",
            "Requirement already satisfied, skipping upgrade: chardet<4,>=3.0.2 in /usr/local/lib/python3.6/dist-packages (from requests->bpemb>=0.3.2->flair==0.6.1) (3.0.4)\n",
            "Requirement already satisfied, skipping upgrade: urllib3!=1.25.0,!=1.25.1,<1.26,>=1.21.1 in /usr/local/lib/python3.6/dist-packages (from requests->bpemb>=0.3.2->flair==0.6.1) (1.24.3)\n",
            "Requirement already satisfied, skipping upgrade: certifi>=2017.4.17 in /usr/local/lib/python3.6/dist-packages (from requests->bpemb>=0.3.2->flair==0.6.1) (2020.6.20)\n",
            "Requirement already satisfied, skipping upgrade: idna<3,>=2.5 in /usr/local/lib/python3.6/dist-packages (from requests->bpemb>=0.3.2->flair==0.6.1) (2.10)\n",
            "Requirement already satisfied, skipping upgrade: click in /usr/local/lib/python3.6/dist-packages (from sacremoses->transformers>=3.0.0->flair==0.6.1) (7.1.2)\n",
            "Requirement already satisfied, skipping upgrade: decorator>=4.3.0 in /usr/local/lib/python3.6/dist-packages (from networkx->hyperopt>=0.1.1->flair==0.6.1) (4.4.2)\n",
            "Requirement already satisfied, skipping upgrade: zipp>=0.5 in /usr/local/lib/python3.6/dist-packages (from importlib-metadata>=0.12; python_version < \"3.8\"->pytest>=5.3.2->flair==0.6.1) (3.2.0)\n",
            "Building wheels for collected packages: flair\n",
            "  Building wheel for flair (PEP 517) ... \u001b[?25l\u001b[?25hdone\n",
            "  Created wheel for flair: filename=flair-0.6.1-cp36-none-any.whl size=201257 sha256=61b4a925b0f6c82c48184a9c421882e0184b4b0d8f485b680362fb03ecf5f1aa\n",
            "  Stored in directory: /tmp/pip-ephem-wheel-cache-l2090jz7/wheels/84/82/73/d2b3b59b7be74ea05f2c6d64132efe27df52daffb47d1dc7bb\n",
            "Successfully built flair\n",
            "Building wheels for collected packages: segtok, mpld3, sqlitedict, ftfy, langdetect, sacremoses, overrides\n",
            "  Building wheel for segtok (setup.py) ... \u001b[?25l\u001b[?25hdone\n",
            "  Created wheel for segtok: filename=segtok-1.5.10-cp36-none-any.whl size=25021 sha256=2c6c88b7bed9dc7f0dfad2b5142da28adacfc1ad6df8922b0f14d865009c0ccf\n",
            "  Stored in directory: /root/.cache/pip/wheels/b4/39/f6/9ca1c5cabde964d728023b5751c3a206a5c8cc40252321fb6b\n",
            "  Building wheel for mpld3 (setup.py) ... \u001b[?25l\u001b[?25hdone\n",
            "  Created wheel for mpld3: filename=mpld3-0.3-cp36-none-any.whl size=116677 sha256=027eef71cc155b5d0648532699da13da5e7e17ca5276901d998c6c9556d063f3\n",
            "  Stored in directory: /root/.cache/pip/wheels/c0/47/fb/8a64f89aecfe0059830479308ad42d62e898a3e3cefdf6ba28\n",
            "  Building wheel for sqlitedict (setup.py) ... \u001b[?25l\u001b[?25hdone\n",
            "  Created wheel for sqlitedict: filename=sqlitedict-1.7.0-cp36-none-any.whl size=14377 sha256=f924accbef954bbb90028c559cc050d7b5d02732bac35c7cfac16918873d7111\n",
            "  Stored in directory: /root/.cache/pip/wheels/cf/c6/4f/2c64a43f041415eb8b8740bd80e15e92f0d46c5e464d8e4b9b\n",
            "  Building wheel for ftfy (setup.py) ... \u001b[?25l\u001b[?25hdone\n",
            "  Created wheel for ftfy: filename=ftfy-5.8-cp36-none-any.whl size=45612 sha256=55b6c52dfc954ea2de60b6416702a0557c2cb46e01a4f53cecdd50767fc5f644\n",
            "  Stored in directory: /root/.cache/pip/wheels/ba/c0/ef/f28c4da5ac84a4e06ac256ca9182fc34fa57fefffdbc68425b\n",
            "  Building wheel for langdetect (setup.py) ... \u001b[?25l\u001b[?25hdone\n",
            "  Created wheel for langdetect: filename=langdetect-1.0.8-cp36-none-any.whl size=993195 sha256=7f95881aed36146a90dc908b4d4ec56e179019b1302e49931b7f29a8cbffe767\n",
            "  Stored in directory: /root/.cache/pip/wheels/8d/b3/aa/6d99de9f3841d7d3d40a60ea06e6d669e8e5012e6c8b947a57\n",
            "  Building wheel for sacremoses (setup.py) ... \u001b[?25l\u001b[?25hdone\n",
            "  Created wheel for sacremoses: filename=sacremoses-0.0.43-cp36-none-any.whl size=893257 sha256=ffbc65e3990214e820c9ef45d7516ec3126d54cfc2fb453857decf8351321dc0\n",
            "  Stored in directory: /root/.cache/pip/wheels/29/3c/fd/7ce5c3f0666dab31a50123635e6fb5e19ceb42ce38d4e58f45\n",
            "  Building wheel for overrides (setup.py) ... \u001b[?25l\u001b[?25hdone\n",
            "  Created wheel for overrides: filename=overrides-3.0.0-cp36-none-any.whl size=5669 sha256=05ea011e3c086fe5c0e750d6d63322e14a70b21e35d9164120694112c80de390\n",
            "  Stored in directory: /root/.cache/pip/wheels/6f/1b/ec/6c71a1eb823df7f850d956b2d8c50a6d49c191e1063d73b9be\n",
            "Successfully built segtok mpld3 sqlitedict ftfy langdetect sacremoses overrides\n",
            "\u001b[31mERROR: datascience 0.10.6 has requirement folium==0.2.1, but you'll have folium 0.8.3 which is incompatible.\u001b[0m\n",
            "Installing collected packages: segtok, mpld3, deprecated, sqlitedict, sentencepiece, bpemb, tokenizers, sacremoses, transformers, pluggy, pytest, overrides, konoha, ftfy, janome, langdetect, flair\n",
            "  Found existing installation: pluggy 0.7.1\n",
            "    Uninstalling pluggy-0.7.1:\n",
            "      Successfully uninstalled pluggy-0.7.1\n",
            "  Found existing installation: pytest 3.6.4\n",
            "    Uninstalling pytest-3.6.4:\n",
            "      Successfully uninstalled pytest-3.6.4\n",
            "Successfully installed bpemb-0.3.2 deprecated-1.2.10 flair-0.6.1 ftfy-5.8 janome-0.4.1 konoha-4.6.2 langdetect-1.0.8 mpld3-0.3 overrides-3.0.0 pluggy-0.13.1 pytest-6.1.0 sacremoses-0.0.43 segtok-1.5.10 sentencepiece-0.1.91 sqlitedict-1.7.0 tokenizers-0.8.1rc2 transformers-3.3.1\n",
            "Requirement already satisfied: textblob in /usr/local/lib/python3.6/dist-packages (0.15.3)\n",
            "Requirement already satisfied: nltk>=3.1 in /usr/local/lib/python3.6/dist-packages (from textblob) (3.2.5)\n",
            "Requirement already satisfied: six in /usr/local/lib/python3.6/dist-packages (from nltk>=3.1->textblob) (1.15.0)\n",
            "Collecting stanza\n",
            "\u001b[?25l  Downloading https://files.pythonhosted.org/packages/e7/8b/3a9e7a8d8cb14ad6afffc3983b7a7322a3a24d94ebc978a70746fcffc085/stanza-1.1.1-py3-none-any.whl (227kB)\n",
            "\u001b[K     |████████████████████████████████| 235kB 6.3MB/s \n",
            "\u001b[?25hRequirement already satisfied: protobuf in /usr/local/lib/python3.6/dist-packages (from stanza) (3.12.4)\n",
            "Requirement already satisfied: numpy in /usr/local/lib/python3.6/dist-packages (from stanza) (1.18.5)\n",
            "Requirement already satisfied: tqdm in /usr/local/lib/python3.6/dist-packages (from stanza) (4.41.1)\n",
            "Requirement already satisfied: torch>=1.3.0 in /usr/local/lib/python3.6/dist-packages (from stanza) (1.6.0+cu101)\n",
            "Requirement already satisfied: requests in /usr/local/lib/python3.6/dist-packages (from stanza) (2.23.0)\n",
            "Requirement already satisfied: setuptools in /usr/local/lib/python3.6/dist-packages (from protobuf->stanza) (50.3.0)\n",
            "Requirement already satisfied: six>=1.9 in /usr/local/lib/python3.6/dist-packages (from protobuf->stanza) (1.15.0)\n",
            "Requirement already satisfied: future in /usr/local/lib/python3.6/dist-packages (from torch>=1.3.0->stanza) (0.16.0)\n",
            "Requirement already satisfied: certifi>=2017.4.17 in /usr/local/lib/python3.6/dist-packages (from requests->stanza) (2020.6.20)\n",
            "Requirement already satisfied: idna<3,>=2.5 in /usr/local/lib/python3.6/dist-packages (from requests->stanza) (2.10)\n",
            "Requirement already satisfied: chardet<4,>=3.0.2 in /usr/local/lib/python3.6/dist-packages (from requests->stanza) (3.0.4)\n",
            "Requirement already satisfied: urllib3!=1.25.0,!=1.25.1,<1.26,>=1.21.1 in /usr/local/lib/python3.6/dist-packages (from requests->stanza) (1.24.3)\n",
            "Installing collected packages: stanza\n",
            "Successfully installed stanza-1.1.1\n",
            "Requirement already satisfied: spacy in /usr/local/lib/python3.6/dist-packages (2.2.4)\n",
            "Requirement already satisfied: thinc==7.4.0 in /usr/local/lib/python3.6/dist-packages (from spacy) (7.4.0)\n",
            "Requirement already satisfied: requests<3.0.0,>=2.13.0 in /usr/local/lib/python3.6/dist-packages (from spacy) (2.23.0)\n",
            "Requirement already satisfied: srsly<1.1.0,>=1.0.2 in /usr/local/lib/python3.6/dist-packages (from spacy) (1.0.2)\n",
            "Requirement already satisfied: blis<0.5.0,>=0.4.0 in /usr/local/lib/python3.6/dist-packages (from spacy) (0.4.1)\n",
            "Requirement already satisfied: numpy>=1.15.0 in /usr/local/lib/python3.6/dist-packages (from spacy) (1.18.5)\n",
            "Requirement already satisfied: plac<1.2.0,>=0.9.6 in /usr/local/lib/python3.6/dist-packages (from spacy) (1.1.3)\n",
            "Requirement already satisfied: setuptools in /usr/local/lib/python3.6/dist-packages (from spacy) (50.3.0)\n",
            "Requirement already satisfied: tqdm<5.0.0,>=4.38.0 in /usr/local/lib/python3.6/dist-packages (from spacy) (4.41.1)\n",
            "Requirement already satisfied: murmurhash<1.1.0,>=0.28.0 in /usr/local/lib/python3.6/dist-packages (from spacy) (1.0.2)\n",
            "Requirement already satisfied: preshed<3.1.0,>=3.0.2 in /usr/local/lib/python3.6/dist-packages (from spacy) (3.0.2)\n",
            "Requirement already satisfied: wasabi<1.1.0,>=0.4.0 in /usr/local/lib/python3.6/dist-packages (from spacy) (0.8.0)\n",
            "Requirement already satisfied: catalogue<1.1.0,>=0.0.7 in /usr/local/lib/python3.6/dist-packages (from spacy) (1.0.0)\n",
            "Requirement already satisfied: cymem<2.1.0,>=2.0.2 in /usr/local/lib/python3.6/dist-packages (from spacy) (2.0.3)\n",
            "Requirement already satisfied: urllib3!=1.25.0,!=1.25.1,<1.26,>=1.21.1 in /usr/local/lib/python3.6/dist-packages (from requests<3.0.0,>=2.13.0->spacy) (1.24.3)\n",
            "Requirement already satisfied: idna<3,>=2.5 in /usr/local/lib/python3.6/dist-packages (from requests<3.0.0,>=2.13.0->spacy) (2.10)\n",
            "Requirement already satisfied: certifi>=2017.4.17 in /usr/local/lib/python3.6/dist-packages (from requests<3.0.0,>=2.13.0->spacy) (2020.6.20)\n",
            "Requirement already satisfied: chardet<4,>=3.0.2 in /usr/local/lib/python3.6/dist-packages (from requests<3.0.0,>=2.13.0->spacy) (3.0.4)\n",
            "Requirement already satisfied: importlib-metadata>=0.20; python_version < \"3.8\" in /usr/local/lib/python3.6/dist-packages (from catalogue<1.1.0,>=0.0.7->spacy) (2.0.0)\n",
            "Requirement already satisfied: zipp>=0.5 in /usr/local/lib/python3.6/dist-packages (from importlib-metadata>=0.20; python_version < \"3.8\"->catalogue<1.1.0,>=0.0.7->spacy) (3.2.0)\n",
            "Requirement already satisfied: tqdm in /usr/local/lib/python3.6/dist-packages (4.41.1)\n"
          ],
          "name": "stdout"
        }
      ]
    },
    {
      "cell_type": "markdown",
      "metadata": {
        "id": "mswjalofh9bX"
      },
      "source": [
        "---\n",
        "# **2. Imports**\n",
        "---"
      ]
    },
    {
      "cell_type": "code",
      "metadata": {
        "id": "pXqUaM_kh5Fd"
      },
      "source": [
        "import re\n",
        "import logging\n",
        "import requests\n",
        "import io\n",
        "import pandas as pd\n",
        "pd.options.mode.chained_assignment = None # default='warn'\n",
        "\n",
        "import numpy as np\n",
        "import matplotlib.pyplot as plt\n",
        "from tqdm import tqdm\n",
        "from time import sleep"
      ],
      "execution_count": null,
      "outputs": []
    },
    {
      "cell_type": "code",
      "metadata": {
        "id": "iT54GBFpiSX1"
      },
      "source": [
        "from textblob import TextBlob"
      ],
      "execution_count": null,
      "outputs": []
    },
    {
      "cell_type": "code",
      "metadata": {
        "id": "KS7y4RiViaxX",
        "outputId": "69f0f288-0a87-4d50-ec73-68550118e062",
        "colab": {
          "base_uri": "https://localhost:8080/",
          "height": 200,
          "referenced_widgets": [
            "61d415de660e47afa18e376544689afb",
            "19a9e261993f44e4bd7770b39049639b",
            "c03bdf4a6cf24b73b6b9b2440f6b6eb3",
            "17752f7a91fe4bed8dd99b0751ec6217",
            "1ec6dfe99163402ebf0ddaba2a32d536",
            "0f5ac555ee9d4dcca7ca940b440d1177",
            "89f700a188be4b088058d1f177995fef",
            "16102d82b4114cb7a22c8a7f208e33d9",
            "55905eb72f034f77bbc4853ea2c5c29c",
            "4ea026d2a3424673b8a61a1ac8b146d2",
            "369d2ea350564ba8b42cb8e376e9e6f6",
            "18197185ac064f9b8faf37f259097289",
            "dbc479e88c664536b21ccf881b156b51",
            "914ce4f1d0434af6ba1432cb7d0ead1b",
            "b75097f85f5e4f85bbbc3be3e58f8ec5",
            "8d07bcfcebcf49ad93e4248b0cf82b86"
          ]
        }
      },
      "source": [
        "import flair\n",
        "flair_sent = flair.models.TextClassifier.load('en-sentiment')"
      ],
      "execution_count": null,
      "outputs": [
        {
          "output_type": "stream",
          "text": [
            "2020-10-03 01:15:31,577 https://nlp.informatik.hu-berlin.de/resources/models/sentiment-curated-distilbert/sentiment-en-mix-distillbert_3.1.pt not found in cache, downloading to /tmp/tmpd7ns_uwt\n"
          ],
          "name": "stdout"
        },
        {
          "output_type": "stream",
          "text": [
            "100%|██████████| 266147697/266147697 [00:06<00:00, 38888250.80B/s]"
          ],
          "name": "stderr"
        },
        {
          "output_type": "stream",
          "text": [
            "2020-10-03 01:15:38,484 copying /tmp/tmpd7ns_uwt to cache at /root/.flair/models/sentiment-en-mix-distillbert_3.1.pt\n"
          ],
          "name": "stdout"
        },
        {
          "output_type": "stream",
          "text": [
            "\n"
          ],
          "name": "stderr"
        },
        {
          "output_type": "stream",
          "text": [
            "2020-10-03 01:15:39,302 removing temp file /tmp/tmpd7ns_uwt\n",
            "2020-10-03 01:15:44,313 loading file /root/.flair/models/sentiment-en-mix-distillbert_3.1.pt\n"
          ],
          "name": "stdout"
        },
        {
          "output_type": "display_data",
          "data": {
            "application/vnd.jupyter.widget-view+json": {
              "model_id": "61d415de660e47afa18e376544689afb",
              "version_minor": 0,
              "version_major": 2
            },
            "text/plain": [
              "HBox(children=(FloatProgress(value=0.0, description='Downloading', max=442.0, style=ProgressStyle(description_…"
            ]
          },
          "metadata": {
            "tags": []
          }
        },
        {
          "output_type": "stream",
          "text": [
            "\n"
          ],
          "name": "stdout"
        },
        {
          "output_type": "display_data",
          "data": {
            "application/vnd.jupyter.widget-view+json": {
              "model_id": "55905eb72f034f77bbc4853ea2c5c29c",
              "version_minor": 0,
              "version_major": 2
            },
            "text/plain": [
              "HBox(children=(FloatProgress(value=0.0, description='Downloading', max=231508.0, style=ProgressStyle(descripti…"
            ]
          },
          "metadata": {
            "tags": []
          }
        },
        {
          "output_type": "stream",
          "text": [
            "\n"
          ],
          "name": "stdout"
        }
      ]
    },
    {
      "cell_type": "code",
      "metadata": {
        "id": "xir8hTAtigwM",
        "outputId": "d4da888e-6441-441e-fc62-1a7db7f4a4f7",
        "colab": {
          "base_uri": "https://localhost:8080/",
          "height": 153
        }
      },
      "source": [
        "import nltk\n",
        "from nltk.tokenize import word_tokenize\n",
        "from nltk.sentiment.vader import SentimentIntensityAnalyzer\n",
        "nltk.download('vader_lexicon')\n",
        "nltk.download('punkt')\n",
        "nltk.download('averaged_perceptron_tagger')\n",
        "\n",
        "SIA = SentimentIntensityAnalyzer()"
      ],
      "execution_count": null,
      "outputs": [
        {
          "output_type": "stream",
          "text": [
            "/usr/local/lib/python3.6/dist-packages/nltk/twitter/__init__.py:20: UserWarning: The twython library has not been installed. Some functionality from the twitter package will not be available.\n",
            "  warnings.warn(\"The twython library has not been installed. \"\n"
          ],
          "name": "stderr"
        },
        {
          "output_type": "stream",
          "text": [
            "[nltk_data] Downloading package vader_lexicon to /root/nltk_data...\n",
            "[nltk_data] Downloading package punkt to /root/nltk_data...\n",
            "[nltk_data]   Unzipping tokenizers/punkt.zip.\n",
            "[nltk_data] Downloading package averaged_perceptron_tagger to\n",
            "[nltk_data]     /root/nltk_data...\n",
            "[nltk_data]   Unzipping taggers/averaged_perceptron_tagger.zip.\n"
          ],
          "name": "stdout"
        }
      ]
    },
    {
      "cell_type": "code",
      "metadata": {
        "id": "JVsMzr6mi2tp",
        "outputId": "26975729-248e-411e-fc13-e147bc2e09b5",
        "colab": {
          "base_uri": "https://localhost:8080/",
          "height": 748
        }
      },
      "source": [
        "import stanza\n",
        "stanza.download('en', package='ewt', processors='tokenize,sentiment,pos', verbose=True)\n",
        "stanza.download('en', package='default', processors='tokenize,sentiment', verbose=True)\n",
        "stNLP = stanza.Pipeline(processors='tokenize,sentiment,pos', lang='en', use_gpu=True)"
      ],
      "execution_count": null,
      "outputs": [
        {
          "output_type": "stream",
          "text": [
            "Downloading https://raw.githubusercontent.com/stanfordnlp/stanza-resources/master/resources_1.1.0.json: 122kB [00:00, 33.0MB/s]                    \n",
            "2020-10-03 01:16:02 WARNING: Can not find sentiment: ewt from official model list. Ignoring it.\n",
            "2020-10-03 01:16:02 INFO: Downloading these customized packages for language: en (English)...\n",
            "=======================\n",
            "| Processor | Package |\n",
            "-----------------------\n",
            "| tokenize  | ewt     |\n",
            "| pos       | ewt     |\n",
            "| pretrain  | ewt     |\n",
            "=======================\n",
            "\n",
            "Downloading http://nlp.stanford.edu/software/stanza/1.1.0/en/tokenize/ewt.pt: 100%|██████████| 631k/631k [00:01<00:00, 369kB/s]\n",
            "Downloading http://nlp.stanford.edu/software/stanza/1.1.0/en/pos/ewt.pt: 100%|██████████| 22.1M/22.1M [00:19<00:00, 1.12MB/s]\n",
            "Downloading http://nlp.stanford.edu/software/stanza/1.1.0/en/pretrain/ewt.pt: 100%|██████████| 156M/156M [00:17<00:00, 8.96MB/s]\n",
            "2020-10-03 01:16:47 INFO: Finished downloading models and saved to /root/stanza_resources.\n",
            "Downloading https://raw.githubusercontent.com/stanfordnlp/stanza-resources/master/resources_1.1.0.json: 122kB [00:00, 31.7MB/s]                    \n",
            "2020-10-03 01:16:47 INFO: Downloading these customized packages for language: en (English)...\n",
            "=======================\n",
            "| Processor | Package |\n",
            "-----------------------\n",
            "| tokenize  | ewt     |\n",
            "| sentiment | sstplus |\n",
            "| pretrain  | ewt     |\n",
            "=======================\n",
            "\n",
            "2020-10-03 01:16:47 INFO: File exists: /root/stanza_resources/en/tokenize/ewt.pt.\n",
            "Downloading http://nlp.stanford.edu/software/stanza/1.1.0/en/sentiment/sstplus.pt: 100%|██████████| 27.5M/27.5M [00:05<00:00, 4.96MB/s]\n",
            "2020-10-03 01:16:54 INFO: File exists: /root/stanza_resources/en/pretrain/ewt.pt.\n",
            "2020-10-03 01:16:54 INFO: Finished downloading models and saved to /root/stanza_resources.\n",
            "2020-10-03 01:16:54 INFO: Loading these models for language: en (English):\n",
            "=======================\n",
            "| Processor | Package |\n",
            "-----------------------\n",
            "| tokenize  | ewt     |\n",
            "| pos       | ewt     |\n",
            "| sentiment | sstplus |\n",
            "=======================\n",
            "\n",
            "2020-10-03 01:16:54 INFO: Use device: gpu\n",
            "2020-10-03 01:16:54 INFO: Loading: tokenize\n",
            "2020-10-03 01:16:54 INFO: Loading: pos\n",
            "2020-10-03 01:16:55 INFO: Loading: sentiment\n",
            "2020-10-03 01:16:56 INFO: Done loading processors!\n"
          ],
          "name": "stderr"
        }
      ]
    },
    {
      "cell_type": "code",
      "metadata": {
        "id": "F6twF_KJi5fk"
      },
      "source": [
        "import spacy\n",
        "spNLP = spacy.load(\"en_core_web_sm\")"
      ],
      "execution_count": null,
      "outputs": []
    },
    {
      "cell_type": "markdown",
      "metadata": {
        "id": "9j6d_u9pi7WI"
      },
      "source": [
        "---\n",
        "# **3. NLP functions**\n",
        "---"
      ]
    },
    {
      "cell_type": "code",
      "metadata": {
        "id": "W0yUUvC8jAFg"
      },
      "source": [
        "def text_blob_subjective(text):\n",
        "    return TextBlob(text).sentiment\n",
        "\n",
        "def flair_lstm(text):\n",
        "    x = flair.data.Sentence(text)\n",
        "    flair_sent.predict(sentences=x)\n",
        "    return x.labels\n",
        "\n",
        "def stanza_funct(text):\n",
        "    try:\n",
        "        data = stNLP(text)\n",
        "        for sentence in data.sentences:\n",
        "            return sentence.sentiment\n",
        "    except:\n",
        "        print('{...}', end='; ')"
      ],
      "execution_count": null,
      "outputs": []
    },
    {
      "cell_type": "markdown",
      "metadata": {
        "id": "7fvDy_rE1e0b"
      },
      "source": [
        "## PLOT functions (simple & bar)"
      ]
    },
    {
      "cell_type": "code",
      "metadata": {
        "id": "rRT7-wLv1ine"
      },
      "source": [
        "def simple_plot(x, y, size):\n",
        "    plt.figure(figsize=size)\n",
        "    plt.plot(x, y, linestyle='solid', color='red')\n",
        "    plt.xlabel('labels')\n",
        "    plt.ylabel('scores')\n",
        "    plt.legend(loc='upper left')\n",
        "    plt.xticks(size=10, rotation='vertical')\n",
        "    plt.yticks(size=10)\n",
        "    plt.grid(b=True)\n",
        "    \n",
        "    plt.show()\n",
        "\n",
        "def simple_bar(x, y, size):\n",
        "    plt.figure(figsize=size)\n",
        "    plt.bar(x, y, linestyle='solid', color='red')\n",
        "    plt.xlabel('labels')\n",
        "    plt.ylabel('scores')\n",
        "    plt.legend(loc='upper left')\n",
        "    plt.xticks(size=10, rotation='vertical')\n",
        "    plt.yticks(size=10)\n",
        "    plt.grid(b=True)\n",
        "\n",
        "    plt.show()"
      ],
      "execution_count": null,
      "outputs": []
    },
    {
      "cell_type": "markdown",
      "metadata": {
        "id": "CcCL5EjyjFSI"
      },
      "source": [
        "---\n",
        "# **4. Preprocessing**\n",
        "---"
      ]
    },
    {
      "cell_type": "markdown",
      "metadata": {
        "id": "mv1mDAfSzJge"
      },
      "source": [
        "## **Loading datasets**"
      ]
    },
    {
      "cell_type": "code",
      "metadata": {
        "id": "wBPzIBHKjDsX"
      },
      "source": [
        "def download_datasets():\n",
        "    !mkdir -p datasets\n",
        "    # twitter\n",
        "    !wget -nc https://nyc3.digitaloceanspaces.com/ml-files-distro/v1/sentiment-analysis-is-bad/data/training.1600000.processed.noemoticon.csv.zip -P datasets\n",
        "    !unzip -n -d datasets datasets/training.1600000.processed.noemoticon.csv.zip\n",
        "    !rm datasets/training.1600000.processed.noemoticon.csv.zip\n",
        "    \n",
        "    # emobank\n",
        "    !wget -nc https://raw.githubusercontent.com/Y4rd13/sentiment-analysis/master/datasets/emobank.csv -P datasets\n",
        "    # isear\n",
        "    !wget -nc https://raw.githubusercontent.com/Y4rd13/sentiment-analysis/master/datasets/isear.csv -P datasets"
      ],
      "execution_count": null,
      "outputs": []
    },
    {
      "cell_type": "code",
      "metadata": {
        "id": "WWI4km7yjc71",
        "outputId": "bc98713b-b804-46e9-aa28-8d2d0619b93a",
        "colab": {
          "base_uri": "https://localhost:8080/",
          "height": 612
        }
      },
      "source": [
        "download_datasets()"
      ],
      "execution_count": null,
      "outputs": [
        {
          "output_type": "stream",
          "text": [
            "--2020-10-03 01:17:00--  https://nyc3.digitaloceanspaces.com/ml-files-distro/v1/sentiment-analysis-is-bad/data/training.1600000.processed.noemoticon.csv.zip\n",
            "Resolving nyc3.digitaloceanspaces.com (nyc3.digitaloceanspaces.com)... 162.243.189.2\n",
            "Connecting to nyc3.digitaloceanspaces.com (nyc3.digitaloceanspaces.com)|162.243.189.2|:443... connected.\n",
            "HTTP request sent, awaiting response... 200 OK\n",
            "Length: 85088192 (81M) [application/zip]\n",
            "Saving to: ‘datasets/training.1600000.processed.noemoticon.csv.zip’\n",
            "\n",
            "training.1600000.pr 100%[===================>]  81.15M  30.0MB/s    in 2.7s    \n",
            "\n",
            "2020-10-03 01:17:03 (30.0 MB/s) - ‘datasets/training.1600000.processed.noemoticon.csv.zip’ saved [85088192/85088192]\n",
            "\n",
            "Archive:  datasets/training.1600000.processed.noemoticon.csv.zip\n",
            "  inflating: datasets/training.1600000.processed.noemoticon.csv  \n",
            "--2020-10-03 01:17:06--  https://raw.githubusercontent.com/Y4rd13/sentiment-analysis/master/datasets/emobank.csv\n",
            "Resolving raw.githubusercontent.com (raw.githubusercontent.com)... 151.101.0.133, 151.101.64.133, 151.101.128.133, ...\n",
            "Connecting to raw.githubusercontent.com (raw.githubusercontent.com)|151.101.0.133|:443... connected.\n",
            "HTTP request sent, awaiting response... 200 OK\n",
            "Length: 1335010 (1.3M) [text/plain]\n",
            "Saving to: ‘datasets/emobank.csv’\n",
            "\n",
            "emobank.csv         100%[===================>]   1.27M  --.-KB/s    in 0.05s   \n",
            "\n",
            "2020-10-03 01:17:07 (24.0 MB/s) - ‘datasets/emobank.csv’ saved [1335010/1335010]\n",
            "\n",
            "--2020-10-03 01:17:07--  https://raw.githubusercontent.com/Y4rd13/sentiment-analysis/master/datasets/isear.csv\n",
            "Resolving raw.githubusercontent.com (raw.githubusercontent.com)... 151.101.0.133, 151.101.64.133, 151.101.128.133, ...\n",
            "Connecting to raw.githubusercontent.com (raw.githubusercontent.com)|151.101.0.133|:443... connected.\n",
            "HTTP request sent, awaiting response... 200 OK\n",
            "Length: 1670985 (1.6M) [text/plain]\n",
            "Saving to: ‘datasets/isear.csv’\n",
            "\n",
            "isear.csv           100%[===================>]   1.59M  --.-KB/s    in 0.08s   \n",
            "\n",
            "2020-10-03 01:17:07 (19.5 MB/s) - ‘datasets/isear.csv’ saved [1670985/1670985]\n",
            "\n"
          ],
          "name": "stdout"
        }
      ]
    },
    {
      "cell_type": "markdown",
      "metadata": {
        "id": "m8uZ1_csk6PS"
      },
      "source": [
        "## **Reading datasets**"
      ]
    },
    {
      "cell_type": "code",
      "metadata": {
        "id": "L7jPtXKGko_z"
      },
      "source": [
        "twitter = pd.read_csv('/content/datasets/training.1600000.processed.noemoticon.csv', encoding='latin-1',\n",
        "                      names=['polarity', 'id', 'date', 'query', 'user', 'text'], usecols=['polarity', 'text'])"
      ],
      "execution_count": null,
      "outputs": []
    },
    {
      "cell_type": "code",
      "metadata": {
        "id": "V8OuBzx_xgQ0"
      },
      "source": [
        "# replace polarity\n",
        "twitter.polarity = twitter.polarity.replace({0: 'negative', 4: 'positive'})"
      ],
      "execution_count": null,
      "outputs": []
    },
    {
      "cell_type": "code",
      "metadata": {
        "id": "_pjp9HqNl94W"
      },
      "source": [
        "emobank = pd.read_csv('/content/datasets/emobank.csv', encoding='utf-8', sep=',', usecols=['split', 'text', 'V', 'A', 'D'])"
      ],
      "execution_count": null,
      "outputs": []
    },
    {
      "cell_type": "code",
      "metadata": {
        "id": "FcVwKp7Hmx1B"
      },
      "source": [
        "isear = pd.read_csv('/content/datasets/isear.csv', encoding='utf-8', sep='|', error_bad_lines=False, usecols=['SIT', 'Field1'])"
      ],
      "execution_count": null,
      "outputs": []
    },
    {
      "cell_type": "code",
      "metadata": {
        "id": "SocSllqEnhye"
      },
      "source": [
        "twitter.columns = ['category', 'text']\n",
        "isear.columns = ['category', 'text']"
      ],
      "execution_count": null,
      "outputs": []
    },
    {
      "cell_type": "markdown",
      "metadata": {
        "id": "3TcKNkAQoNdM"
      },
      "source": [
        "## **Concatenating and fill NaN**"
      ]
    },
    {
      "cell_type": "code",
      "metadata": {
        "id": "qc8bYXXunyUT"
      },
      "source": [
        "df_concat = pd.concat(objs=[twitter, emobank, isear], ignore_index=False)"
      ],
      "execution_count": null,
      "outputs": []
    },
    {
      "cell_type": "code",
      "metadata": {
        "id": "is4mKwIioM1Y"
      },
      "source": [
        "# checking for nan values & filling them with 0\n",
        "check_nan = [i for i in (df_concat.isnull().any()) if i == True]\n",
        "try:\n",
        "    check_nan.index(True)\n",
        "    df_concat.fillna(value=0, inplace=True)\n",
        "except:\n",
        "    print('No NaN values found')"
      ],
      "execution_count": null,
      "outputs": []
    },
    {
      "cell_type": "markdown",
      "metadata": {
        "id": "NzN5WG3wrFWe"
      },
      "source": [
        "---\n",
        "# **5. Preprocessing**\n",
        "---"
      ]
    },
    {
      "cell_type": "code",
      "metadata": {
        "id": "WylcSJs2qcvX"
      },
      "source": [
        "def preprocess_dataset(input_csv, output_name):\n",
        "    # loading\n",
        "    unclean_df = input_csv\n",
        "\n",
        "    # lower case\n",
        "    unclean_df['text'] = unclean_df['text'].str.lower()\n",
        "\n",
        "    # removing urls\n",
        "    unclean_df['text'] = unclean_df['text'].apply(lambda x: re.sub(r'https://www\\.|http:\\.|https://|www\\.', '', x))\n",
        "    unclean_df['text'] = unclean_df['text'].apply(lambda x: re.sub(r'[\\S]+\\.(net|com|org|info|edu|gov|uk|de|ca|jp|fr|au|us|ru|ch|it|nel|se|no|es|mil|cl)[\\S]*\\s?', '', x))\n",
        "\n",
        "    # remove special character and numbers\n",
        "    unclean_df['text'] = unclean_df['text'].apply(lambda x: re.sub(r'(@[A-Za-z0-9]+)|([^0-9A-Za-zÁ-Úá-ú \\t])|(\\w+:\\/\\/\\S+)|^rt|http.+?%', '', x))\n",
        "    unclean_df['text'] = unclean_df['text'].apply(lambda x: re.sub(r'\\d+', '', x))\n",
        "\n",
        "    # remove repetitions (goood ==> good ==> god?; whaaat ==> what)\n",
        "    #pattern = re.compile(r'(.)\\1{2,}', re.DOTALL)\n",
        "    #unclean_df['text'] = unclean_df['text'].str.replace(pattern, r'\\1')\n",
        "\n",
        "    # removing empty values\n",
        "    nan_value = float('NaN')\n",
        "    unclean_df.replace('', nan_value, inplace=True)\n",
        "    unclean_df.replace(' ', nan_value, inplace=True)\n",
        "    unclean_df.dropna(inplace=True)\n",
        "    \n",
        "    # Strip spaces both sides\n",
        "    unclean_df['text'] = unclean_df['text'].str.strip()\n",
        "\n",
        "    # removing stopwords\n",
        "    #df['text'] = df['text'].apply(lambda x: ' '.join([i for i in x.split() if i not in (STOPWORDS)]))\n",
        "\n",
        "    # filtering and removing non-english words or misspelling\n",
        "    #df['text'] = df['text'].apply(lambda x: ' '.join([i for i in x.split() if i.lower() in NLTK_WORDS or not i.isalpha()]))\n",
        "\n",
        "    # rewritting the created file without NaN values\n",
        "    !mkdir preprocessed\n",
        "    unclean_df.to_csv('preprocessed/' + output_name, quotechar='\"', encoding='utf-8', index=False)\n",
        "\n",
        "\n",
        "    # returning clean csv\n",
        "    df = pd.read_csv('preprocessed/' + output_name, encoding='utf-8', warn_bad_lines=True).dropna()\n",
        "\n",
        "    # checking for nan values & filling them with 0\n",
        "    check_nan = [i for i in (df.isnull().any()) if i == True]\n",
        "    try:\n",
        "        check_nan.index(True)\n",
        "        df.fillna(value=0, inplace=True)\n",
        "    except:\n",
        "        print('No NaN values found')\n",
        "  \n",
        "    return df"
      ],
      "execution_count": null,
      "outputs": []
    },
    {
      "cell_type": "code",
      "metadata": {
        "id": "NrUj3R_ttKyH",
        "outputId": "0e99d8f4-7e15-48af-eb48-b093ce77afdf",
        "colab": {
          "base_uri": "https://localhost:8080/",
          "height": 68
        }
      },
      "source": [
        "df = preprocess_dataset(input_csv=df_concat, output_name='df_preprocessed')"
      ],
      "execution_count": null,
      "outputs": [
        {
          "output_type": "stream",
          "text": [
            "/usr/local/lib/python3.6/dist-packages/IPython/core/interactiveshell.py:2822: DtypeWarning: Columns (2) have mixed types.Specify dtype option on import or set low_memory=False.\n",
            "  if self.run_code(code, result):\n"
          ],
          "name": "stderr"
        },
        {
          "output_type": "stream",
          "text": [
            "No NaN values found\n"
          ],
          "name": "stdout"
        }
      ]
    },
    {
      "cell_type": "code",
      "metadata": {
        "id": "vpGR8x7suIKw",
        "outputId": "0a69da45-16ad-4f54-fbf8-6ffe40d5d64a",
        "colab": {
          "base_uri": "https://localhost:8080/",
          "height": 419
        }
      },
      "source": [
        "df"
      ],
      "execution_count": null,
      "outputs": [
        {
          "output_type": "execute_result",
          "data": {
            "text/html": [
              "<div>\n",
              "<style scoped>\n",
              "    .dataframe tbody tr th:only-of-type {\n",
              "        vertical-align: middle;\n",
              "    }\n",
              "\n",
              "    .dataframe tbody tr th {\n",
              "        vertical-align: top;\n",
              "    }\n",
              "\n",
              "    .dataframe thead th {\n",
              "        text-align: right;\n",
              "    }\n",
              "</style>\n",
              "<table border=\"1\" class=\"dataframe\">\n",
              "  <thead>\n",
              "    <tr style=\"text-align: right;\">\n",
              "      <th></th>\n",
              "      <th>category</th>\n",
              "      <th>text</th>\n",
              "      <th>split</th>\n",
              "      <th>V</th>\n",
              "      <th>A</th>\n",
              "      <th>D</th>\n",
              "    </tr>\n",
              "  </thead>\n",
              "  <tbody>\n",
              "    <tr>\n",
              "      <th>0</th>\n",
              "      <td>negative</td>\n",
              "      <td>awww thats a bummer  you shoulda got david car...</td>\n",
              "      <td>0</td>\n",
              "      <td>0.0</td>\n",
              "      <td>0.0</td>\n",
              "      <td>0.0</td>\n",
              "    </tr>\n",
              "    <tr>\n",
              "      <th>1</th>\n",
              "      <td>negative</td>\n",
              "      <td>is upset that he cant update his facebook by t...</td>\n",
              "      <td>0</td>\n",
              "      <td>0.0</td>\n",
              "      <td>0.0</td>\n",
              "      <td>0.0</td>\n",
              "    </tr>\n",
              "    <tr>\n",
              "      <th>2</th>\n",
              "      <td>negative</td>\n",
              "      <td>i dived many times for the ball managed to sav...</td>\n",
              "      <td>0</td>\n",
              "      <td>0.0</td>\n",
              "      <td>0.0</td>\n",
              "      <td>0.0</td>\n",
              "    </tr>\n",
              "    <tr>\n",
              "      <th>3</th>\n",
              "      <td>negative</td>\n",
              "      <td>my whole body feels itchy and like its on fire</td>\n",
              "      <td>0</td>\n",
              "      <td>0.0</td>\n",
              "      <td>0.0</td>\n",
              "      <td>0.0</td>\n",
              "    </tr>\n",
              "    <tr>\n",
              "      <th>4</th>\n",
              "      <td>negative</td>\n",
              "      <td>no its not behaving at all im mad why am i her...</td>\n",
              "      <td>0</td>\n",
              "      <td>0.0</td>\n",
              "      <td>0.0</td>\n",
              "      <td>0.0</td>\n",
              "    </tr>\n",
              "    <tr>\n",
              "      <th>...</th>\n",
              "      <td>...</td>\n",
              "      <td>...</td>\n",
              "      <td>...</td>\n",
              "      <td>...</td>\n",
              "      <td>...</td>\n",
              "      <td>...</td>\n",
              "    </tr>\n",
              "    <tr>\n",
              "      <th>1615362</th>\n",
              "      <td>anger</td>\n",
              "      <td>two years back someone invited me to be the tu...</td>\n",
              "      <td>0</td>\n",
              "      <td>0.0</td>\n",
              "      <td>0.0</td>\n",
              "      <td>0.0</td>\n",
              "    </tr>\n",
              "    <tr>\n",
              "      <th>1615363</th>\n",
              "      <td>sadness</td>\n",
              "      <td>i had taken the responsibility to do something...</td>\n",
              "      <td>0</td>\n",
              "      <td>0.0</td>\n",
              "      <td>0.0</td>\n",
              "      <td>0.0</td>\n",
              "    </tr>\n",
              "    <tr>\n",
              "      <th>1615364</th>\n",
              "      <td>disgust</td>\n",
              "      <td>i was at home and i heard a loud sound of spit...</td>\n",
              "      <td>0</td>\n",
              "      <td>0.0</td>\n",
              "      <td>0.0</td>\n",
              "      <td>0.0</td>\n",
              "    </tr>\n",
              "    <tr>\n",
              "      <th>1615365</th>\n",
              "      <td>shame</td>\n",
              "      <td>i did not do the homework that the teacher had...</td>\n",
              "      <td>0</td>\n",
              "      <td>0.0</td>\n",
              "      <td>0.0</td>\n",
              "      <td>0.0</td>\n",
              "    </tr>\n",
              "    <tr>\n",
              "      <th>1615366</th>\n",
              "      <td>guilt</td>\n",
              "      <td>i had shouted at my younger brother and he was...</td>\n",
              "      <td>0</td>\n",
              "      <td>0.0</td>\n",
              "      <td>0.0</td>\n",
              "      <td>0.0</td>\n",
              "    </tr>\n",
              "  </tbody>\n",
              "</table>\n",
              "<p>1614765 rows × 6 columns</p>\n",
              "</div>"
            ],
            "text/plain": [
              "         category                                               text  ...    A    D\n",
              "0        negative  awww thats a bummer  you shoulda got david car...  ...  0.0  0.0\n",
              "1        negative  is upset that he cant update his facebook by t...  ...  0.0  0.0\n",
              "2        negative  i dived many times for the ball managed to sav...  ...  0.0  0.0\n",
              "3        negative     my whole body feels itchy and like its on fire  ...  0.0  0.0\n",
              "4        negative  no its not behaving at all im mad why am i her...  ...  0.0  0.0\n",
              "...           ...                                                ...  ...  ...  ...\n",
              "1615362     anger  two years back someone invited me to be the tu...  ...  0.0  0.0\n",
              "1615363   sadness  i had taken the responsibility to do something...  ...  0.0  0.0\n",
              "1615364   disgust  i was at home and i heard a loud sound of spit...  ...  0.0  0.0\n",
              "1615365     shame  i did not do the homework that the teacher had...  ...  0.0  0.0\n",
              "1615366     guilt  i had shouted at my younger brother and he was...  ...  0.0  0.0\n",
              "\n",
              "[1614765 rows x 6 columns]"
            ]
          },
          "metadata": {
            "tags": []
          },
          "execution_count": 34
        }
      ]
    },
    {
      "cell_type": "markdown",
      "metadata": {
        "id": "CKkJ7DVU8Q94"
      },
      "source": [
        "## **Dataset group by column value**\n",
        "\n"
      ]
    },
    {
      "cell_type": "code",
      "metadata": {
        "id": "RgvhZj_c8TXD"
      },
      "source": [
        "group = df.groupby(df.category)"
      ],
      "execution_count": null,
      "outputs": []
    },
    {
      "cell_type": "code",
      "metadata": {
        "id": "SbhUqS7Q8aTa",
        "outputId": "e7dcba84-b887-4464-e30e-065ae3ca0298",
        "colab": {
          "base_uri": "https://localhost:8080/",
          "height": 51
        }
      },
      "source": [
        "np.array(set(df.category))"
      ],
      "execution_count": null,
      "outputs": [
        {
          "output_type": "execute_result",
          "data": {
            "text/plain": [
              "array({'fear', 'negative', 'disgust', 'joy', 'sadness', 'positive', '0', 'guilt', 'anger', 'shame'},\n",
              "      dtype=object)"
            ]
          },
          "metadata": {
            "tags": []
          },
          "execution_count": 23
        }
      ]
    },
    {
      "cell_type": "code",
      "metadata": {
        "id": "_nsdaKWr8WSa"
      },
      "source": [
        "positive = group.get_group('positive')\n",
        "negative = group.get_group('negative')\n",
        "anger = group.get_group('anger')\n",
        "disgust = group.get_group('disgust')\n",
        "fear = group.get_group('fear')\n",
        "guilt = group.get_group('guilt')\n",
        "joy = group.get_group('joy')\n",
        "sadness = group.get_group('sadness')\n",
        "shame = group.get_group('shame')"
      ],
      "execution_count": null,
      "outputs": []
    },
    {
      "cell_type": "code",
      "metadata": {
        "id": "c_12hsKf9FOX",
        "outputId": "44d20f68-42f7-4926-b19a-e29ed088c5de",
        "colab": {
          "base_uri": "https://localhost:8080/",
          "height": 419
        }
      },
      "source": [
        "positive"
      ],
      "execution_count": null,
      "outputs": [
        {
          "output_type": "execute_result",
          "data": {
            "text/html": [
              "<div>\n",
              "<style scoped>\n",
              "    .dataframe tbody tr th:only-of-type {\n",
              "        vertical-align: middle;\n",
              "    }\n",
              "\n",
              "    .dataframe tbody tr th {\n",
              "        vertical-align: top;\n",
              "    }\n",
              "\n",
              "    .dataframe thead th {\n",
              "        text-align: right;\n",
              "    }\n",
              "</style>\n",
              "<table border=\"1\" class=\"dataframe\">\n",
              "  <thead>\n",
              "    <tr style=\"text-align: right;\">\n",
              "      <th></th>\n",
              "      <th>category</th>\n",
              "      <th>text</th>\n",
              "      <th>split</th>\n",
              "      <th>V</th>\n",
              "      <th>A</th>\n",
              "      <th>D</th>\n",
              "    </tr>\n",
              "  </thead>\n",
              "  <tbody>\n",
              "    <tr>\n",
              "      <th>798738</th>\n",
              "      <td>positive</td>\n",
              "      <td>i love  u guys r the best</td>\n",
              "      <td>0</td>\n",
              "      <td>0.0</td>\n",
              "      <td>0.0</td>\n",
              "      <td>0.0</td>\n",
              "    </tr>\n",
              "    <tr>\n",
              "      <th>798739</th>\n",
              "      <td>positive</td>\n",
              "      <td>im meeting up with one of my besties tonight c...</td>\n",
              "      <td>0</td>\n",
              "      <td>0.0</td>\n",
              "      <td>0.0</td>\n",
              "      <td>0.0</td>\n",
              "    </tr>\n",
              "    <tr>\n",
              "      <th>798740</th>\n",
              "      <td>positive</td>\n",
              "      <td>thanks for the twitter add sunisa i got to mee...</td>\n",
              "      <td>0</td>\n",
              "      <td>0.0</td>\n",
              "      <td>0.0</td>\n",
              "      <td>0.0</td>\n",
              "    </tr>\n",
              "    <tr>\n",
              "      <th>798741</th>\n",
              "      <td>positive</td>\n",
              "      <td>being sick can be really cheap when it hurts t...</td>\n",
              "      <td>0</td>\n",
              "      <td>0.0</td>\n",
              "      <td>0.0</td>\n",
              "      <td>0.0</td>\n",
              "    </tr>\n",
              "    <tr>\n",
              "      <th>798742</th>\n",
              "      <td>positive</td>\n",
              "      <td>he has that effect on everyone</td>\n",
              "      <td>0</td>\n",
              "      <td>0.0</td>\n",
              "      <td>0.0</td>\n",
              "      <td>0.0</td>\n",
              "    </tr>\n",
              "    <tr>\n",
              "      <th>...</th>\n",
              "      <td>...</td>\n",
              "      <td>...</td>\n",
              "      <td>...</td>\n",
              "      <td>...</td>\n",
              "      <td>...</td>\n",
              "      <td>...</td>\n",
              "    </tr>\n",
              "    <tr>\n",
              "      <th>1597645</th>\n",
              "      <td>positive</td>\n",
              "      <td>just woke up having no school is the best feel...</td>\n",
              "      <td>0</td>\n",
              "      <td>0.0</td>\n",
              "      <td>0.0</td>\n",
              "      <td>0.0</td>\n",
              "    </tr>\n",
              "    <tr>\n",
              "      <th>1597646</th>\n",
              "      <td>positive</td>\n",
              "      <td>very cool to hear old walt interviews  â</td>\n",
              "      <td>0</td>\n",
              "      <td>0.0</td>\n",
              "      <td>0.0</td>\n",
              "      <td>0.0</td>\n",
              "    </tr>\n",
              "    <tr>\n",
              "      <th>1597647</th>\n",
              "      <td>positive</td>\n",
              "      <td>are you ready for your mojo makeover ask me fo...</td>\n",
              "      <td>0</td>\n",
              "      <td>0.0</td>\n",
              "      <td>0.0</td>\n",
              "      <td>0.0</td>\n",
              "    </tr>\n",
              "    <tr>\n",
              "      <th>1597648</th>\n",
              "      <td>positive</td>\n",
              "      <td>happy th birthday to my boo of alll time tupac...</td>\n",
              "      <td>0</td>\n",
              "      <td>0.0</td>\n",
              "      <td>0.0</td>\n",
              "      <td>0.0</td>\n",
              "    </tr>\n",
              "    <tr>\n",
              "      <th>1597649</th>\n",
              "      <td>positive</td>\n",
              "      <td>happy charitytuesday</td>\n",
              "      <td>0</td>\n",
              "      <td>0.0</td>\n",
              "      <td>0.0</td>\n",
              "      <td>0.0</td>\n",
              "    </tr>\n",
              "  </tbody>\n",
              "</table>\n",
              "<p>798517 rows × 6 columns</p>\n",
              "</div>"
            ],
            "text/plain": [
              "         category                                               text  ...    A    D\n",
              "798738   positive                          i love  u guys r the best  ...  0.0  0.0\n",
              "798739   positive  im meeting up with one of my besties tonight c...  ...  0.0  0.0\n",
              "798740   positive  thanks for the twitter add sunisa i got to mee...  ...  0.0  0.0\n",
              "798741   positive  being sick can be really cheap when it hurts t...  ...  0.0  0.0\n",
              "798742   positive                     he has that effect on everyone  ...  0.0  0.0\n",
              "...           ...                                                ...  ...  ...  ...\n",
              "1597645  positive  just woke up having no school is the best feel...  ...  0.0  0.0\n",
              "1597646  positive           very cool to hear old walt interviews  â  ...  0.0  0.0\n",
              "1597647  positive  are you ready for your mojo makeover ask me fo...  ...  0.0  0.0\n",
              "1597648  positive  happy th birthday to my boo of alll time tupac...  ...  0.0  0.0\n",
              "1597649  positive                               happy charitytuesday  ...  0.0  0.0\n",
              "\n",
              "[798517 rows x 6 columns]"
            ]
          },
          "metadata": {
            "tags": []
          },
          "execution_count": 25
        }
      ]
    },
    {
      "cell_type": "markdown",
      "metadata": {
        "id": "PAWSDxCxurkR"
      },
      "source": [
        "---\n",
        "# **6. NLP applying**\n",
        "---"
      ]
    },
    {
      "cell_type": "code",
      "metadata": {
        "id": "c3E9_xw_vxBU"
      },
      "source": [
        "def drop_empty_string(df):\n",
        "    # Warning: An empty Sentence was created!\n",
        "    # Are there empty strings in your dataset?\n",
        "    print('\\nremoving empty values...\\n')\n",
        "    nan_value = float('NaN')\n",
        "    df.replace('', nan_value, inplace=True)\n",
        "    df.replace(' ', nan_value, inplace=True)\n",
        "    df.replace('  ', nan_value, inplace=True)\n",
        "    df.dropna(inplace=True)\n",
        "\n",
        "    return df"
      ],
      "execution_count": null,
      "outputs": []
    },
    {
      "cell_type": "code",
      "metadata": {
        "id": "UyRPCR2lu08I"
      },
      "source": [
        "def nlp_apply(df, c):\n",
        "    print('Vader\\n')\n",
        "    #df['Compound'] = df[c].apply(lambda x: SIA.polarity_scores(text=x)['compound'])\n",
        "    \n",
        "    print('TextBlob')\n",
        "    #df['Subjectivity'] = df[c].apply(lambda x: text_blob_subjective(text=x)[1])\n",
        "    \n",
        "    df = drop_empty_string(df)\n",
        "\n",
        "    print('Stanza')\n",
        "    df['Stanza'] = df[c].apply(lambda x: stanza_funct(text=x))\n",
        "\n",
        "    df = drop_empty_string(df)\n",
        "\n",
        "    print('Flair\\n')\n",
        "    df['Flair'] = df[c].apply(lambda x: ''.join([i.value for i in flair_lstm(text=x)]))\n",
        "\n",
        "    return df"
      ],
      "execution_count": null,
      "outputs": []
    },
    {
      "cell_type": "code",
      "metadata": {
        "id": "-m1hUe5zu9Cz",
        "outputId": "22fffee0-ad56-424a-b83e-a16dfab14275",
        "colab": {
          "base_uri": "https://localhost:8080/",
          "height": 153
        }
      },
      "source": [
        "df = nlp_apply(df, c='text')"
      ],
      "execution_count": null,
      "outputs": [
        {
          "output_type": "stream",
          "text": [
            "Vader\n",
            "\n",
            "TextBlob\n",
            "\n",
            "removing empty values...\n",
            "\n",
            "Stanza\n",
            "{...}; {...}; {...}; {...}; {...}; {...}; "
          ],
          "name": "stdout"
        }
      ]
    },
    {
      "cell_type": "markdown",
      "metadata": {
        "id": "ZYCOq1gcvf2o"
      },
      "source": [
        "---\n",
        "# **7. Quadrants**\n",
        "---"
      ]
    },
    {
      "cell_type": "markdown",
      "metadata": {
        "id": "0HrswzZg-k_7"
      },
      "source": [
        "## **Midpoint**"
      ]
    },
    {
      "cell_type": "code",
      "metadata": {
        "id": "apL4PeGxFhqf"
      },
      "source": [
        "def min_max_value(df, c):\n",
        "    return df[c].min(), df[c].max()"
      ],
      "execution_count": null,
      "outputs": []
    },
    {
      "cell_type": "code",
      "metadata": {
        "id": "8LP-2_CC-qTs"
      },
      "source": [
        "def midpoint(df, c):\n",
        "    '''Compute medium point from dataframe'''\n",
        "    x1, x2 = min_max_value(df, c)\n",
        "    return x2 - x1 / 2"
      ],
      "execution_count": null,
      "outputs": []
    },
    {
      "cell_type": "code",
      "metadata": {
        "id": "RUBOtA79AnBZ"
      },
      "source": [
        "def midpoint_general(lst_min, lst_max):\n",
        "    return (max(lst_max) - min(lst_min)) / 2 "
      ],
      "execution_count": null,
      "outputs": []
    },
    {
      "cell_type": "code",
      "metadata": {
        "id": "RlT-Z5Gg-wA6"
      },
      "source": [
        "# COLUMNS: word, Arousal, Valence, Dominance\n",
        "arousal_mp = midpoint(df, 'A')\n",
        "valence_mp = midpoint(df, 'V')\n",
        "dominance_mp = midpoint(df, 'D')"
      ],
      "execution_count": null,
      "outputs": []
    },
    {
      "cell_type": "code",
      "metadata": {
        "id": "50MZJ0_bAky4"
      },
      "source": [
        "# MIN AND MAX\n",
        "arousal_min, arousal_max = min_max_value(df, 'A')\n",
        "valence_min, valence_max = min_max_value(df, 'V')\n",
        "dominance_min, dominance_max = min_max_value(df, 'D')"
      ],
      "execution_count": null,
      "outputs": []
    },
    {
      "cell_type": "code",
      "metadata": {
        "id": "XcxGhAUuAn8P"
      },
      "source": [
        "midpoint = midpoint_general(\n",
        "                            lst_min = [arousal_min, valence_min, dominance_min],\n",
        "                            lst_max = [arousal_max, valence_max, dominance_max]\n",
        "                            )"
      ],
      "execution_count": null,
      "outputs": []
    },
    {
      "cell_type": "code",
      "metadata": {
        "id": "Yrmsud39FtC0",
        "outputId": "eb5e509f-e295-4a86-9239-4f6059f6102f",
        "colab": {
          "base_uri": "https://localhost:8080/",
          "height": 34
        }
      },
      "source": [
        "midpoint"
      ],
      "execution_count": null,
      "outputs": [
        {
          "output_type": "execute_result",
          "data": {
            "text/plain": [
              "2.3"
            ]
          },
          "metadata": {
            "tags": []
          },
          "execution_count": 50
        }
      ]
    },
    {
      "cell_type": "code",
      "metadata": {
        "id": "metaRb1VIna8"
      },
      "source": [
        "def drop_category(df, s):\n",
        "    return df.drop(first_quad[first_quad['category'] == s].index)"
      ],
      "execution_count": null,
      "outputs": []
    },
    {
      "cell_type": "code",
      "metadata": {
        "id": "zqXq65-8JQC5"
      },
      "source": [
        "negative_valance = ['negative', 'anger', 'disgust', 'fear', 'sadness', 'shame']\n",
        "positive_valance = ['positive', 'joy']"
      ],
      "execution_count": null,
      "outputs": []
    },
    {
      "cell_type": "markdown",
      "metadata": {
        "id": "31cxLGLGw4CJ"
      },
      "source": [
        "### **I. High Arousal, Positive Valence**"
      ]
    },
    {
      "cell_type": "code",
      "metadata": {
        "id": "D8-Gagocwx4J"
      },
      "source": [
        "first_quad = df[(df['A'] >= midpoint) & (df['V'] >= midpoint)]"
      ],
      "execution_count": null,
      "outputs": []
    },
    {
      "cell_type": "code",
      "metadata": {
        "id": "aDCgzu9THsoT"
      },
      "source": [
        "for i in negative_valance:\n",
        "    first_quad = drop_category(first_quad, i)"
      ],
      "execution_count": null,
      "outputs": []
    },
    {
      "cell_type": "code",
      "metadata": {
        "id": "6Iypnb27z7g1"
      },
      "source": [
        "first_quad['quadrant'] = 1"
      ],
      "execution_count": null,
      "outputs": []
    },
    {
      "cell_type": "markdown",
      "metadata": {
        "id": "jis45eGl0Nmr"
      },
      "source": [
        "### **II. High Arousal, Negative Valance**"
      ]
    },
    {
      "cell_type": "code",
      "metadata": {
        "id": "0gEHHmVK0NFI"
      },
      "source": [
        "second_quad = df[(df['A'] >= midpoint) & (df['V'] <= midpoint)]"
      ],
      "execution_count": null,
      "outputs": []
    },
    {
      "cell_type": "code",
      "metadata": {
        "id": "3RKulCJzJWL6"
      },
      "source": [
        "for i in positive_valance:\n",
        "    second_quad = drop_category(second_quad, i)"
      ],
      "execution_count": null,
      "outputs": []
    },
    {
      "cell_type": "code",
      "metadata": {
        "id": "vURp7OjZ0axE"
      },
      "source": [
        "second_quad['quadrant'] = 2"
      ],
      "execution_count": null,
      "outputs": []
    },
    {
      "cell_type": "markdown",
      "metadata": {
        "id": "pPcbkUi20e8r"
      },
      "source": [
        "### **III. Low Arousal, Negative Valance**"
      ]
    },
    {
      "cell_type": "code",
      "metadata": {
        "id": "pNYwv8420iYi"
      },
      "source": [
        "third_quad = df[(df['A'] <= midpoint) & (df['V'] <= midpoint)]"
      ],
      "execution_count": null,
      "outputs": []
    },
    {
      "cell_type": "code",
      "metadata": {
        "id": "ZKT7ow1QKdYH"
      },
      "source": [
        "for i in positive_valance:\n",
        "    third_quad = drop_category(third_quad, i)"
      ],
      "execution_count": null,
      "outputs": []
    },
    {
      "cell_type": "code",
      "metadata": {
        "id": "wztNgZZw0tdw"
      },
      "source": [
        "third_quad['quadrant'] = 3"
      ],
      "execution_count": null,
      "outputs": []
    },
    {
      "cell_type": "markdown",
      "metadata": {
        "id": "oZ8L7Xhz00ab"
      },
      "source": [
        "### **IV. Low Arousal, Positive Valance**"
      ]
    },
    {
      "cell_type": "code",
      "metadata": {
        "id": "9Hhwu0te0yTW"
      },
      "source": [
        "fourth_quad = df[(df['A'] <= midpoint) & (df['V'] >= midpoint)]"
      ],
      "execution_count": null,
      "outputs": []
    },
    {
      "cell_type": "code",
      "metadata": {
        "id": "VYBv8HAlKtgg"
      },
      "source": [
        "for i in negative_valance:\n",
        "    fourth_quad = drop_category(fourth_quad, i)"
      ],
      "execution_count": null,
      "outputs": []
    },
    {
      "cell_type": "code",
      "metadata": {
        "id": "oQCPicY2082y"
      },
      "source": [
        "fourth_quad['quadrant'] = 4"
      ],
      "execution_count": null,
      "outputs": []
    },
    {
      "cell_type": "markdown",
      "metadata": {
        "id": "x2oGA1KA1BXU"
      },
      "source": [
        "### **Plot quadrants**"
      ]
    },
    {
      "cell_type": "code",
      "metadata": {
        "id": "TX_GiWU-1AVk",
        "outputId": "c6bd29dd-3ed1-4238-96f3-2c09ad985472",
        "colab": {
          "base_uri": "https://localhost:8080/",
          "height": 333
        }
      },
      "source": [
        "y_quad = list(map(len, [first_quad, second_quad, third_quad, fourth_quad]))\n",
        "print(y_quad)\n",
        "\n",
        "simple_bar(x=['1st', '2nd', '3rd', '4th'], y=y_quad, size=(8, 4))"
      ],
      "execution_count": null,
      "outputs": [
        {
          "output_type": "stream",
          "text": [
            "No handles with labels found to put in legend.\n"
          ],
          "name": "stderr"
        },
        {
          "output_type": "stream",
          "text": [
            "[9640, 500, 1604714, 19]\n"
          ],
          "name": "stdout"
        },
        {
          "output_type": "display_data",
          "data": {
            "image/png": "[encoded data removed]",
            "text/plain": [
              "<Figure size 576x288 with 1 Axes>"
            ]
          },
          "metadata": {
            "tags": [],
            "needs_background": "light"
          }
        }
      ]
    },
    {
      "cell_type": "code",
      "metadata": {
        "id": "oflLtMe12PT6"
      },
      "source": [
        "def check_check(df, c):\n",
        "    return np.array(sorted(list(set(df[c]))))"
      ],
      "execution_count": null,
      "outputs": []
    },
    {
      "cell_type": "markdown",
      "metadata": {
        "id": "6XYHQLG26PSh"
      },
      "source": [
        "---\n",
        "# **8. Categories**\n",
        "---"
      ]
    },
    {
      "cell_type": "code",
      "metadata": {
        "id": "ysP4WZvNGoxe"
      },
      "source": [
        "def concat(lst):\n",
        "    return pd.concat(objs=lst, ignore_index=True)"
      ],
      "execution_count": null,
      "outputs": []
    },
    {
      "cell_type": "markdown",
      "metadata": {
        "id": "89WIqCOT6dt3"
      },
      "source": [
        "## Confident\n",
        "* confident --> trust\n",
        "* unconfident --> disgust"
      ]
    },
    {
      "cell_type": "code",
      "metadata": {
        "id": "QX74MGLS6Uhp",
        "outputId": "cd07418a-589f-4b6a-c790-8ad87a3d5f24",
        "colab": {
          "base_uri": "https://localhost:8080/",
          "height": 419
        }
      },
      "source": [
        "disgust"
      ],
      "execution_count": null,
      "outputs": [
        {
          "output_type": "execute_result",
          "data": {
            "text/html": [
              "<div>\n",
              "<style scoped>\n",
              "    .dataframe tbody tr th:only-of-type {\n",
              "        vertical-align: middle;\n",
              "    }\n",
              "\n",
              "    .dataframe tbody tr th {\n",
              "        vertical-align: top;\n",
              "    }\n",
              "\n",
              "    .dataframe thead th {\n",
              "        text-align: right;\n",
              "    }\n",
              "</style>\n",
              "<table border=\"1\" class=\"dataframe\">\n",
              "  <thead>\n",
              "    <tr style=\"text-align: right;\">\n",
              "      <th></th>\n",
              "      <th>category</th>\n",
              "      <th>text</th>\n",
              "      <th>split</th>\n",
              "      <th>V</th>\n",
              "      <th>A</th>\n",
              "      <th>D</th>\n",
              "    </tr>\n",
              "  </thead>\n",
              "  <tbody>\n",
              "    <tr>\n",
              "      <th>1607705</th>\n",
              "      <td>disgust</td>\n",
              "      <td>the time i knocked a deer down  the sight of t...</td>\n",
              "      <td>0</td>\n",
              "      <td>0.0</td>\n",
              "      <td>0.0</td>\n",
              "      <td>0.0</td>\n",
              "    </tr>\n",
              "    <tr>\n",
              "      <th>1607712</th>\n",
              "      <td>disgust</td>\n",
              "      <td>when i saw all the very drunk kids  years old ...</td>\n",
              "      <td>0</td>\n",
              "      <td>0.0</td>\n",
              "      <td>0.0</td>\n",
              "      <td>0.0</td>\n",
              "    </tr>\n",
              "    <tr>\n",
              "      <th>1607719</th>\n",
              "      <td>disgust</td>\n",
              "      <td>at a gathering i found myself involuntarily si...</td>\n",
              "      <td>0</td>\n",
              "      <td>0.0</td>\n",
              "      <td>0.0</td>\n",
              "      <td>0.0</td>\n",
              "    </tr>\n",
              "    <tr>\n",
              "      <th>1607726</th>\n",
              "      <td>disgust</td>\n",
              "      <td>when i found a bristle in the liver paste tube</td>\n",
              "      <td>0</td>\n",
              "      <td>0.0</td>\n",
              "      <td>0.0</td>\n",
              "      <td>0.0</td>\n",
              "    </tr>\n",
              "    <tr>\n",
              "      <th>1607733</th>\n",
              "      <td>disgust</td>\n",
              "      <td>when one finds out that someone you know is no...</td>\n",
              "      <td>0</td>\n",
              "      <td>0.0</td>\n",
              "      <td>0.0</td>\n",
              "      <td>0.0</td>\n",
              "    </tr>\n",
              "    <tr>\n",
              "      <th>...</th>\n",
              "      <td>...</td>\n",
              "      <td>...</td>\n",
              "      <td>...</td>\n",
              "      <td>...</td>\n",
              "      <td>...</td>\n",
              "      <td>...</td>\n",
              "    </tr>\n",
              "    <tr>\n",
              "      <th>1615336</th>\n",
              "      <td>disgust</td>\n",
              "      <td>the curriculum of the year    the english cour...</td>\n",
              "      <td>0</td>\n",
              "      <td>0.0</td>\n",
              "      <td>0.0</td>\n",
              "      <td>0.0</td>\n",
              "    </tr>\n",
              "    <tr>\n",
              "      <th>1615343</th>\n",
              "      <td>disgust</td>\n",
              "      <td>a man sexually aggressed a small girl in the b...</td>\n",
              "      <td>0</td>\n",
              "      <td>0.0</td>\n",
              "      <td>0.0</td>\n",
              "      <td>0.0</td>\n",
              "    </tr>\n",
              "    <tr>\n",
              "      <th>1615350</th>\n",
              "      <td>disgust</td>\n",
              "      <td>at hostel my roommate was a very selfish perso...</td>\n",
              "      <td>0</td>\n",
              "      <td>0.0</td>\n",
              "      <td>0.0</td>\n",
              "      <td>0.0</td>\n",
              "    </tr>\n",
              "    <tr>\n",
              "      <th>1615357</th>\n",
              "      <td>disgust</td>\n",
              "      <td>my roommate liked to listen to some meaningles...</td>\n",
              "      <td>0</td>\n",
              "      <td>0.0</td>\n",
              "      <td>0.0</td>\n",
              "      <td>0.0</td>\n",
              "    </tr>\n",
              "    <tr>\n",
              "      <th>1615364</th>\n",
              "      <td>disgust</td>\n",
              "      <td>i was at home and i heard a loud sound of spit...</td>\n",
              "      <td>0</td>\n",
              "      <td>0.0</td>\n",
              "      <td>0.0</td>\n",
              "      <td>0.0</td>\n",
              "    </tr>\n",
              "  </tbody>\n",
              "</table>\n",
              "<p>1096 rows × 6 columns</p>\n",
              "</div>"
            ],
            "text/plain": [
              "        category                                               text  ...    A    D\n",
              "1607705  disgust  the time i knocked a deer down  the sight of t...  ...  0.0  0.0\n",
              "1607712  disgust  when i saw all the very drunk kids  years old ...  ...  0.0  0.0\n",
              "1607719  disgust  at a gathering i found myself involuntarily si...  ...  0.0  0.0\n",
              "1607726  disgust     when i found a bristle in the liver paste tube  ...  0.0  0.0\n",
              "1607733  disgust  when one finds out that someone you know is no...  ...  0.0  0.0\n",
              "...          ...                                                ...  ...  ...  ...\n",
              "1615336  disgust  the curriculum of the year    the english cour...  ...  0.0  0.0\n",
              "1615343  disgust  a man sexually aggressed a small girl in the b...  ...  0.0  0.0\n",
              "1615350  disgust  at hostel my roommate was a very selfish perso...  ...  0.0  0.0\n",
              "1615357  disgust  my roommate liked to listen to some meaningles...  ...  0.0  0.0\n",
              "1615364  disgust  i was at home and i heard a loud sound of spit...  ...  0.0  0.0\n",
              "\n",
              "[1096 rows x 6 columns]"
            ]
          },
          "metadata": {
            "tags": []
          },
          "execution_count": 67
        }
      ]
    },
    {
      "cell_type": "markdown",
      "metadata": {
        "id": "tYkqZEzY6p-2"
      },
      "source": [
        "### Handles pressure\n",
        "In the positive side is included patience, focus and calm\n",
        "- POS : dominance strong + low arousal + positive valence\n",
        "- NEG : dominance weak + high arousal + negative valence"
      ]
    },
    {
      "cell_type": "code",
      "metadata": {
        "id": "8_RGKoMl6q3O"
      },
      "source": [
        ""
      ],
      "execution_count": null,
      "outputs": []
    },
    {
      "cell_type": "markdown",
      "metadata": {
        "id": "iIxEPxJy6vXg"
      },
      "source": [
        "### Organized\n",
        "- POS : anticipation + high arousal + positive valence   \n",
        "- NEG : surprise + low arousal + negative valence"
      ]
    },
    {
      "cell_type": "code",
      "metadata": {
        "id": "5YsXo9dg6ww_"
      },
      "source": [
        ""
      ],
      "execution_count": null,
      "outputs": []
    },
    {
      "cell_type": "markdown",
      "metadata": {
        "id": "qxvt9pG56zc0"
      },
      "source": [
        "### Interested\n",
        "- POS : [anticipation] + high arousal + positive valence\n",
        "- NEG : [surprise] + low arousal + negative valence"
      ]
    },
    {
      "cell_type": "code",
      "metadata": {
        "id": "sI9_Z-f26ykV"
      },
      "source": [
        ""
      ],
      "execution_count": null,
      "outputs": []
    },
    {
      "cell_type": "markdown",
      "metadata": {
        "id": "eRMtqHOf61rm"
      },
      "source": [
        "### Happy\n",
        "- POS : joy + high arousal + positive valence\n",
        "- NEG : sadness + low arousal + negative valence"
      ]
    },
    {
      "cell_type": "code",
      "metadata": {
        "id": "pwLWQ0JU621R"
      },
      "source": [
        ""
      ],
      "execution_count": null,
      "outputs": []
    },
    {
      "cell_type": "markdown",
      "metadata": {
        "id": "dupRMEpF64IX"
      },
      "source": [
        "### Friendly\n",
        "- POS : high arousal + positive valence + (positive) + (joy + trust)\n",
        "- NEG : anger + high arousal + negative valence"
      ]
    },
    {
      "cell_type": "code",
      "metadata": {
        "id": "5RYwSteKGYBk",
        "outputId": "fafd2afa-26a2-4c59-b8e1-e5dd1ef808db",
        "colab": {
          "base_uri": "https://localhost:8080/",
          "height": 419
        }
      },
      "source": [
        ""
      ],
      "execution_count": null,
      "outputs": [
        {
          "output_type": "execute_result",
          "data": {
            "text/html": [
              "<div>\n",
              "<style scoped>\n",
              "    .dataframe tbody tr th:only-of-type {\n",
              "        vertical-align: middle;\n",
              "    }\n",
              "\n",
              "    .dataframe tbody tr th {\n",
              "        vertical-align: top;\n",
              "    }\n",
              "\n",
              "    .dataframe thead th {\n",
              "        text-align: right;\n",
              "    }\n",
              "</style>\n",
              "<table border=\"1\" class=\"dataframe\">\n",
              "  <thead>\n",
              "    <tr style=\"text-align: right;\">\n",
              "      <th></th>\n",
              "      <th>category</th>\n",
              "      <th>text</th>\n",
              "      <th>split</th>\n",
              "      <th>V</th>\n",
              "      <th>A</th>\n",
              "      <th>D</th>\n",
              "    </tr>\n",
              "  </thead>\n",
              "  <tbody>\n",
              "    <tr>\n",
              "      <th>1607701</th>\n",
              "      <td>joy</td>\n",
              "      <td>during the period of falling in love each time...</td>\n",
              "      <td>0</td>\n",
              "      <td>0.0</td>\n",
              "      <td>0.0</td>\n",
              "      <td>0.0</td>\n",
              "    </tr>\n",
              "    <tr>\n",
              "      <th>1607708</th>\n",
              "      <td>joy</td>\n",
              "      <td>when i got a letter offering me the summer job...</td>\n",
              "      <td>0</td>\n",
              "      <td>0.0</td>\n",
              "      <td>0.0</td>\n",
              "      <td>0.0</td>\n",
              "    </tr>\n",
              "    <tr>\n",
              "      <th>1607715</th>\n",
              "      <td>joy</td>\n",
              "      <td>on days when i feel close to my partner and ot...</td>\n",
              "      <td>0</td>\n",
              "      <td>0.0</td>\n",
              "      <td>0.0</td>\n",
              "      <td>0.0</td>\n",
              "    </tr>\n",
              "    <tr>\n",
              "      <th>1607722</th>\n",
              "      <td>joy</td>\n",
              "      <td>after my girlfriend had taken her exam we went...</td>\n",
              "      <td>0</td>\n",
              "      <td>0.0</td>\n",
              "      <td>0.0</td>\n",
              "      <td>0.0</td>\n",
              "    </tr>\n",
              "    <tr>\n",
              "      <th>1607729</th>\n",
              "      <td>joy</td>\n",
              "      <td>when i pass an examination which i did not thi...</td>\n",
              "      <td>0</td>\n",
              "      <td>0.0</td>\n",
              "      <td>0.0</td>\n",
              "      <td>0.0</td>\n",
              "    </tr>\n",
              "    <tr>\n",
              "      <th>...</th>\n",
              "      <td>...</td>\n",
              "      <td>...</td>\n",
              "      <td>...</td>\n",
              "      <td>...</td>\n",
              "      <td>...</td>\n",
              "      <td>...</td>\n",
              "    </tr>\n",
              "    <tr>\n",
              "      <th>1615332</th>\n",
              "      <td>joy</td>\n",
              "      <td>when i received a letter from the university t...</td>\n",
              "      <td>0</td>\n",
              "      <td>0.0</td>\n",
              "      <td>0.0</td>\n",
              "      <td>0.0</td>\n",
              "    </tr>\n",
              "    <tr>\n",
              "      <th>1615339</th>\n",
              "      <td>joy</td>\n",
              "      <td>i had a picnic with old classmates we chatted ...</td>\n",
              "      <td>0</td>\n",
              "      <td>0.0</td>\n",
              "      <td>0.0</td>\n",
              "      <td>0.0</td>\n",
              "    </tr>\n",
              "    <tr>\n",
              "      <th>1615346</th>\n",
              "      <td>joy</td>\n",
              "      <td>it was the first time that i gave a birthday p...</td>\n",
              "      <td>0</td>\n",
              "      <td>0.0</td>\n",
              "      <td>0.0</td>\n",
              "      <td>0.0</td>\n",
              "    </tr>\n",
              "    <tr>\n",
              "      <th>1615353</th>\n",
              "      <td>joy</td>\n",
              "      <td>in august the long awaited big envelope a docu...</td>\n",
              "      <td>0</td>\n",
              "      <td>0.0</td>\n",
              "      <td>0.0</td>\n",
              "      <td>0.0</td>\n",
              "    </tr>\n",
              "    <tr>\n",
              "      <th>1615360</th>\n",
              "      <td>joy</td>\n",
              "      <td>i received a letter from a distant friend</td>\n",
              "      <td>0</td>\n",
              "      <td>0.0</td>\n",
              "      <td>0.0</td>\n",
              "      <td>0.0</td>\n",
              "    </tr>\n",
              "  </tbody>\n",
              "</table>\n",
              "<p>1094 rows × 6 columns</p>\n",
              "</div>"
            ],
            "text/plain": [
              "        category                                               text  ...    A    D\n",
              "1607701      joy  during the period of falling in love each time...  ...  0.0  0.0\n",
              "1607708      joy  when i got a letter offering me the summer job...  ...  0.0  0.0\n",
              "1607715      joy  on days when i feel close to my partner and ot...  ...  0.0  0.0\n",
              "1607722      joy  after my girlfriend had taken her exam we went...  ...  0.0  0.0\n",
              "1607729      joy  when i pass an examination which i did not thi...  ...  0.0  0.0\n",
              "...          ...                                                ...  ...  ...  ...\n",
              "1615332      joy  when i received a letter from the university t...  ...  0.0  0.0\n",
              "1615339      joy  i had a picnic with old classmates we chatted ...  ...  0.0  0.0\n",
              "1615346      joy  it was the first time that i gave a birthday p...  ...  0.0  0.0\n",
              "1615353      joy  in august the long awaited big envelope a docu...  ...  0.0  0.0\n",
              "1615360      joy          i received a letter from a distant friend  ...  0.0  0.0\n",
              "\n",
              "[1094 rows x 6 columns]"
            ]
          },
          "metadata": {
            "tags": []
          },
          "execution_count": 71
        }
      ]
    },
    {
      "cell_type": "markdown",
      "metadata": {
        "id": "yv7NVsME6-6n"
      },
      "source": [
        "## Concatenating categories"
      ]
    },
    {
      "cell_type": "code",
      "metadata": {
        "id": "AZk8wuor65AW"
      },
      "source": [
        ""
      ],
      "execution_count": null,
      "outputs": []
    },
    {
      "cell_type": "markdown",
      "metadata": {
        "id": "yzrI9vSd7Ho4"
      },
      "source": [
        "## Plot categories"
      ]
    },
    {
      "cell_type": "code",
      "metadata": {
        "id": "_dmDXyAB7Tgi"
      },
      "source": [
        ""
      ],
      "execution_count": null,
      "outputs": []
    }
  ]
}