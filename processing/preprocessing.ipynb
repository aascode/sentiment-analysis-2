{
  "nbformat": 4,
  "nbformat_minor": 0,
  "metadata": {
    "colab": {
      "name": "preprocessing.ipynb",
      "provenance": [],
      "collapsed_sections": [],
      "machine_shape": "hm"
    },
    "kernelspec": {
      "name": "python3",
      "display_name": "Python 3"
    },
    "accelerator": "GPU"
  },
  "cells": [
    {
      "cell_type": "markdown",
      "metadata": {
        "id": "w353yY988zcS",
        "colab_type": "text"
      },
      "source": [
        "---\n",
        "# **1. Insallations**\n",
        "---"
      ]
    },
    {
      "cell_type": "code",
      "metadata": {
        "id": "7OC5blIe830j",
        "colab_type": "code",
        "colab": {
          "base_uri": "https://localhost:8080/",
          "height": 1000
        },
        "outputId": "20932342-85a0-450c-b239-2edc0b28369d"
      },
      "source": [
        "!pip install nltk\n",
        "!pip install --upgrade git+https://github.com/flairNLP/flair.git\n",
        "!pip install textblob\n",
        "!pip install stanza\n",
        "!pip install spacy\n",
        "!pip install tqdm"
      ],
      "execution_count": 1,
      "outputs": [
        {
          "output_type": "stream",
          "text": [
            "Requirement already satisfied: nltk in /usr/local/lib/python3.6/dist-packages (3.2.5)\n",
            "Requirement already satisfied: six in /usr/local/lib/python3.6/dist-packages (from nltk) (1.15.0)\n",
            "Collecting git+https://github.com/flairNLP/flair.git\n",
            "  Cloning https://github.com/flairNLP/flair.git to /tmp/pip-req-build-x0yzy7h9\n",
            "  Running command git clone -q https://github.com/flairNLP/flair.git /tmp/pip-req-build-x0yzy7h9\n",
            "  Installing build dependencies ... \u001b[?25l\u001b[?25hdone\n",
            "  Getting requirements to build wheel ... \u001b[?25l\u001b[?25hdone\n",
            "    Preparing wheel metadata ... \u001b[?25l\u001b[?25hdone\n",
            "Requirement already satisfied, skipping upgrade: tabulate in /usr/local/lib/python3.6/dist-packages (from flair==0.6.1) (0.8.7)\n",
            "Requirement already satisfied, skipping upgrade: tqdm>=4.26.0 in /usr/local/lib/python3.6/dist-packages (from flair==0.6.1) (4.41.1)\n",
            "Requirement already satisfied, skipping upgrade: sentencepiece!=0.1.92 in /usr/local/lib/python3.6/dist-packages (from flair==0.6.1) (0.1.91)\n",
            "Requirement already satisfied, skipping upgrade: python-dateutil>=2.6.1 in /usr/local/lib/python3.6/dist-packages (from flair==0.6.1) (2.8.1)\n",
            "Requirement already satisfied, skipping upgrade: mpld3==0.3 in /usr/local/lib/python3.6/dist-packages (from flair==0.6.1) (0.3)\n",
            "Requirement already satisfied, skipping upgrade: segtok>=1.5.7 in /usr/local/lib/python3.6/dist-packages (from flair==0.6.1) (1.5.10)\n",
            "Requirement already satisfied, skipping upgrade: transformers>=3.0.0 in /usr/local/lib/python3.6/dist-packages (from flair==0.6.1) (3.2.0)\n",
            "Requirement already satisfied, skipping upgrade: janome in /usr/local/lib/python3.6/dist-packages (from flair==0.6.1) (0.4.1)\n",
            "Requirement already satisfied, skipping upgrade: matplotlib>=2.2.3 in /usr/local/lib/python3.6/dist-packages (from flair==0.6.1) (3.2.2)\n",
            "Requirement already satisfied, skipping upgrade: bpemb>=0.3.2 in /usr/local/lib/python3.6/dist-packages (from flair==0.6.1) (0.3.2)\n",
            "Requirement already satisfied, skipping upgrade: hyperopt>=0.1.1 in /usr/local/lib/python3.6/dist-packages (from flair==0.6.1) (0.1.2)\n",
            "Requirement already satisfied, skipping upgrade: regex in /usr/local/lib/python3.6/dist-packages (from flair==0.6.1) (2019.12.20)\n",
            "Requirement already satisfied, skipping upgrade: scikit-learn>=0.21.3 in /usr/local/lib/python3.6/dist-packages (from flair==0.6.1) (0.22.2.post1)\n",
            "Requirement already satisfied, skipping upgrade: sqlitedict>=1.6.0 in /usr/local/lib/python3.6/dist-packages (from flair==0.6.1) (1.7.0)\n",
            "Requirement already satisfied, skipping upgrade: ftfy in /usr/local/lib/python3.6/dist-packages (from flair==0.6.1) (5.8)\n",
            "Requirement already satisfied, skipping upgrade: gensim>=3.4.0 in /usr/local/lib/python3.6/dist-packages (from flair==0.6.1) (3.6.0)\n",
            "Requirement already satisfied, skipping upgrade: torch>=1.1.0 in /usr/local/lib/python3.6/dist-packages (from flair==0.6.1) (1.6.0+cu101)\n",
            "Requirement already satisfied, skipping upgrade: langdetect in /usr/local/lib/python3.6/dist-packages (from flair==0.6.1) (1.0.8)\n",
            "Requirement already satisfied, skipping upgrade: lxml in /usr/local/lib/python3.6/dist-packages (from flair==0.6.1) (4.2.6)\n",
            "Requirement already satisfied, skipping upgrade: konoha<5.0.0,>=4.0.0 in /usr/local/lib/python3.6/dist-packages (from flair==0.6.1) (4.6.1)\n",
            "Requirement already satisfied, skipping upgrade: gdown in /usr/local/lib/python3.6/dist-packages (from flair==0.6.1) (3.6.4)\n",
            "Requirement already satisfied, skipping upgrade: pytest>=5.3.2 in /usr/local/lib/python3.6/dist-packages (from flair==0.6.1) (6.0.2)\n",
            "Requirement already satisfied, skipping upgrade: deprecated>=1.2.4 in /usr/local/lib/python3.6/dist-packages (from flair==0.6.1) (1.2.10)\n",
            "Requirement already satisfied, skipping upgrade: six>=1.5 in /usr/local/lib/python3.6/dist-packages (from python-dateutil>=2.6.1->flair==0.6.1) (1.15.0)\n",
            "Requirement already satisfied, skipping upgrade: sacremoses in /usr/local/lib/python3.6/dist-packages (from transformers>=3.0.0->flair==0.6.1) (0.0.43)\n",
            "Requirement already satisfied, skipping upgrade: numpy in /usr/local/lib/python3.6/dist-packages (from transformers>=3.0.0->flair==0.6.1) (1.18.5)\n",
            "Requirement already satisfied, skipping upgrade: filelock in /usr/local/lib/python3.6/dist-packages (from transformers>=3.0.0->flair==0.6.1) (3.0.12)\n",
            "Requirement already satisfied, skipping upgrade: tokenizers==0.8.1.rc2 in /usr/local/lib/python3.6/dist-packages (from transformers>=3.0.0->flair==0.6.1) (0.8.1rc2)\n",
            "Requirement already satisfied, skipping upgrade: packaging in /usr/local/lib/python3.6/dist-packages (from transformers>=3.0.0->flair==0.6.1) (20.4)\n",
            "Requirement already satisfied, skipping upgrade: dataclasses; python_version < \"3.7\" in /usr/local/lib/python3.6/dist-packages (from transformers>=3.0.0->flair==0.6.1) (0.7)\n",
            "Requirement already satisfied, skipping upgrade: requests in /usr/local/lib/python3.6/dist-packages (from transformers>=3.0.0->flair==0.6.1) (2.23.0)\n",
            "Requirement already satisfied, skipping upgrade: pyparsing!=2.0.4,!=2.1.2,!=2.1.6,>=2.0.1 in /usr/local/lib/python3.6/dist-packages (from matplotlib>=2.2.3->flair==0.6.1) (2.4.7)\n",
            "Requirement already satisfied, skipping upgrade: cycler>=0.10 in /usr/local/lib/python3.6/dist-packages (from matplotlib>=2.2.3->flair==0.6.1) (0.10.0)\n",
            "Requirement already satisfied, skipping upgrade: kiwisolver>=1.0.1 in /usr/local/lib/python3.6/dist-packages (from matplotlib>=2.2.3->flair==0.6.1) (1.2.0)\n",
            "Requirement already satisfied, skipping upgrade: networkx in /usr/local/lib/python3.6/dist-packages (from hyperopt>=0.1.1->flair==0.6.1) (2.5)\n",
            "Requirement already satisfied, skipping upgrade: pymongo in /usr/local/lib/python3.6/dist-packages (from hyperopt>=0.1.1->flair==0.6.1) (3.11.0)\n",
            "Requirement already satisfied, skipping upgrade: future in /usr/local/lib/python3.6/dist-packages (from hyperopt>=0.1.1->flair==0.6.1) (0.16.0)\n",
            "Requirement already satisfied, skipping upgrade: scipy in /usr/local/lib/python3.6/dist-packages (from hyperopt>=0.1.1->flair==0.6.1) (1.4.1)\n",
            "Requirement already satisfied, skipping upgrade: joblib>=0.11 in /usr/local/lib/python3.6/dist-packages (from scikit-learn>=0.21.3->flair==0.6.1) (0.16.0)\n",
            "Requirement already satisfied, skipping upgrade: wcwidth in /usr/local/lib/python3.6/dist-packages (from ftfy->flair==0.6.1) (0.2.5)\n",
            "Requirement already satisfied, skipping upgrade: smart-open>=1.2.1 in /usr/local/lib/python3.6/dist-packages (from gensim>=3.4.0->flair==0.6.1) (2.1.1)\n",
            "Requirement already satisfied, skipping upgrade: overrides==3.0.0 in /usr/local/lib/python3.6/dist-packages (from konoha<5.0.0,>=4.0.0->flair==0.6.1) (3.0.0)\n",
            "Requirement already satisfied, skipping upgrade: iniconfig in /usr/local/lib/python3.6/dist-packages (from pytest>=5.3.2->flair==0.6.1) (1.0.1)\n",
            "Requirement already satisfied, skipping upgrade: more-itertools>=4.0.0 in /usr/local/lib/python3.6/dist-packages (from pytest>=5.3.2->flair==0.6.1) (8.5.0)\n",
            "Requirement already satisfied, skipping upgrade: py>=1.8.2 in /usr/local/lib/python3.6/dist-packages (from pytest>=5.3.2->flair==0.6.1) (1.9.0)\n",
            "Requirement already satisfied, skipping upgrade: pluggy<1.0,>=0.12 in /usr/local/lib/python3.6/dist-packages (from pytest>=5.3.2->flair==0.6.1) (0.13.1)\n",
            "Requirement already satisfied, skipping upgrade: toml in /usr/local/lib/python3.6/dist-packages (from pytest>=5.3.2->flair==0.6.1) (0.10.1)\n",
            "Requirement already satisfied, skipping upgrade: attrs>=17.4.0 in /usr/local/lib/python3.6/dist-packages (from pytest>=5.3.2->flair==0.6.1) (20.2.0)\n",
            "Requirement already satisfied, skipping upgrade: importlib-metadata>=0.12; python_version < \"3.8\" in /usr/local/lib/python3.6/dist-packages (from pytest>=5.3.2->flair==0.6.1) (1.7.0)\n",
            "Requirement already satisfied, skipping upgrade: wrapt<2,>=1.10 in /usr/local/lib/python3.6/dist-packages (from deprecated>=1.2.4->flair==0.6.1) (1.12.1)\n",
            "Requirement already satisfied, skipping upgrade: click in /usr/local/lib/python3.6/dist-packages (from sacremoses->transformers>=3.0.0->flair==0.6.1) (7.1.2)\n",
            "Requirement already satisfied, skipping upgrade: idna<3,>=2.5 in /usr/local/lib/python3.6/dist-packages (from requests->transformers>=3.0.0->flair==0.6.1) (2.10)\n",
            "Requirement already satisfied, skipping upgrade: urllib3!=1.25.0,!=1.25.1,<1.26,>=1.21.1 in /usr/local/lib/python3.6/dist-packages (from requests->transformers>=3.0.0->flair==0.6.1) (1.24.3)\n",
            "Requirement already satisfied, skipping upgrade: chardet<4,>=3.0.2 in /usr/local/lib/python3.6/dist-packages (from requests->transformers>=3.0.0->flair==0.6.1) (3.0.4)\n",
            "Requirement already satisfied, skipping upgrade: certifi>=2017.4.17 in /usr/local/lib/python3.6/dist-packages (from requests->transformers>=3.0.0->flair==0.6.1) (2020.6.20)\n",
            "Requirement already satisfied, skipping upgrade: decorator>=4.3.0 in /usr/local/lib/python3.6/dist-packages (from networkx->hyperopt>=0.1.1->flair==0.6.1) (4.4.2)\n",
            "Requirement already satisfied, skipping upgrade: boto3 in /usr/local/lib/python3.6/dist-packages (from smart-open>=1.2.1->gensim>=3.4.0->flair==0.6.1) (1.14.63)\n",
            "Requirement already satisfied, skipping upgrade: boto in /usr/local/lib/python3.6/dist-packages (from smart-open>=1.2.1->gensim>=3.4.0->flair==0.6.1) (2.49.0)\n",
            "Requirement already satisfied, skipping upgrade: zipp>=0.5 in /usr/local/lib/python3.6/dist-packages (from importlib-metadata>=0.12; python_version < \"3.8\"->pytest>=5.3.2->flair==0.6.1) (3.1.0)\n",
            "Requirement already satisfied, skipping upgrade: botocore<1.18.0,>=1.17.63 in /usr/local/lib/python3.6/dist-packages (from boto3->smart-open>=1.2.1->gensim>=3.4.0->flair==0.6.1) (1.17.63)\n",
            "Requirement already satisfied, skipping upgrade: s3transfer<0.4.0,>=0.3.0 in /usr/local/lib/python3.6/dist-packages (from boto3->smart-open>=1.2.1->gensim>=3.4.0->flair==0.6.1) (0.3.3)\n",
            "Requirement already satisfied, skipping upgrade: jmespath<1.0.0,>=0.7.1 in /usr/local/lib/python3.6/dist-packages (from boto3->smart-open>=1.2.1->gensim>=3.4.0->flair==0.6.1) (0.10.0)\n",
            "Requirement already satisfied, skipping upgrade: docutils<0.16,>=0.10 in /usr/local/lib/python3.6/dist-packages (from botocore<1.18.0,>=1.17.63->boto3->smart-open>=1.2.1->gensim>=3.4.0->flair==0.6.1) (0.15.2)\n",
            "Building wheels for collected packages: flair\n",
            "  Building wheel for flair (PEP 517) ... \u001b[?25l\u001b[?25hdone\n",
            "  Created wheel for flair: filename=flair-0.6.1-cp36-none-any.whl size=200960 sha256=2f214d1820039dd7b11f0eb72bc39254cf454ab497a877da4704f3ca5d567f94\n",
            "  Stored in directory: /tmp/pip-ephem-wheel-cache-zxy919fc/wheels/84/82/73/d2b3b59b7be74ea05f2c6d64132efe27df52daffb47d1dc7bb\n",
            "Successfully built flair\n",
            "Installing collected packages: flair\n",
            "  Found existing installation: flair 0.6.1\n",
            "    Uninstalling flair-0.6.1:\n",
            "      Successfully uninstalled flair-0.6.1\n",
            "Successfully installed flair-0.6.1\n",
            "Requirement already satisfied: textblob in /usr/local/lib/python3.6/dist-packages (0.15.3)\n",
            "Requirement already satisfied: nltk>=3.1 in /usr/local/lib/python3.6/dist-packages (from textblob) (3.2.5)\n",
            "Requirement already satisfied: six in /usr/local/lib/python3.6/dist-packages (from nltk>=3.1->textblob) (1.15.0)\n",
            "Requirement already satisfied: stanza in /usr/local/lib/python3.6/dist-packages (1.1.1)\n",
            "Requirement already satisfied: torch>=1.3.0 in /usr/local/lib/python3.6/dist-packages (from stanza) (1.6.0+cu101)\n",
            "Requirement already satisfied: requests in /usr/local/lib/python3.6/dist-packages (from stanza) (2.23.0)\n",
            "Requirement already satisfied: tqdm in /usr/local/lib/python3.6/dist-packages (from stanza) (4.41.1)\n",
            "Requirement already satisfied: numpy in /usr/local/lib/python3.6/dist-packages (from stanza) (1.18.5)\n",
            "Requirement already satisfied: protobuf in /usr/local/lib/python3.6/dist-packages (from stanza) (3.12.4)\n",
            "Requirement already satisfied: future in /usr/local/lib/python3.6/dist-packages (from torch>=1.3.0->stanza) (0.16.0)\n",
            "Requirement already satisfied: urllib3!=1.25.0,!=1.25.1,<1.26,>=1.21.1 in /usr/local/lib/python3.6/dist-packages (from requests->stanza) (1.24.3)\n",
            "Requirement already satisfied: certifi>=2017.4.17 in /usr/local/lib/python3.6/dist-packages (from requests->stanza) (2020.6.20)\n",
            "Requirement already satisfied: chardet<4,>=3.0.2 in /usr/local/lib/python3.6/dist-packages (from requests->stanza) (3.0.4)\n",
            "Requirement already satisfied: idna<3,>=2.5 in /usr/local/lib/python3.6/dist-packages (from requests->stanza) (2.10)\n",
            "Requirement already satisfied: six>=1.9 in /usr/local/lib/python3.6/dist-packages (from protobuf->stanza) (1.15.0)\n",
            "Requirement already satisfied: setuptools in /usr/local/lib/python3.6/dist-packages (from protobuf->stanza) (50.3.0)\n",
            "Requirement already satisfied: spacy in /usr/local/lib/python3.6/dist-packages (2.2.4)\n",
            "Requirement already satisfied: murmurhash<1.1.0,>=0.28.0 in /usr/local/lib/python3.6/dist-packages (from spacy) (1.0.2)\n",
            "Requirement already satisfied: wasabi<1.1.0,>=0.4.0 in /usr/local/lib/python3.6/dist-packages (from spacy) (0.8.0)\n",
            "Requirement already satisfied: preshed<3.1.0,>=3.0.2 in /usr/local/lib/python3.6/dist-packages (from spacy) (3.0.2)\n",
            "Requirement already satisfied: catalogue<1.1.0,>=0.0.7 in /usr/local/lib/python3.6/dist-packages (from spacy) (1.0.0)\n",
            "Requirement already satisfied: numpy>=1.15.0 in /usr/local/lib/python3.6/dist-packages (from spacy) (1.18.5)\n",
            "Requirement already satisfied: tqdm<5.0.0,>=4.38.0 in /usr/local/lib/python3.6/dist-packages (from spacy) (4.41.1)\n",
            "Requirement already satisfied: setuptools in /usr/local/lib/python3.6/dist-packages (from spacy) (50.3.0)\n",
            "Requirement already satisfied: cymem<2.1.0,>=2.0.2 in /usr/local/lib/python3.6/dist-packages (from spacy) (2.0.3)\n",
            "Requirement already satisfied: blis<0.5.0,>=0.4.0 in /usr/local/lib/python3.6/dist-packages (from spacy) (0.4.1)\n",
            "Requirement already satisfied: srsly<1.1.0,>=1.0.2 in /usr/local/lib/python3.6/dist-packages (from spacy) (1.0.2)\n",
            "Requirement already satisfied: plac<1.2.0,>=0.9.6 in /usr/local/lib/python3.6/dist-packages (from spacy) (1.1.3)\n",
            "Requirement already satisfied: thinc==7.4.0 in /usr/local/lib/python3.6/dist-packages (from spacy) (7.4.0)\n",
            "Requirement already satisfied: requests<3.0.0,>=2.13.0 in /usr/local/lib/python3.6/dist-packages (from spacy) (2.23.0)\n",
            "Requirement already satisfied: importlib-metadata>=0.20; python_version < \"3.8\" in /usr/local/lib/python3.6/dist-packages (from catalogue<1.1.0,>=0.0.7->spacy) (1.7.0)\n",
            "Requirement already satisfied: idna<3,>=2.5 in /usr/local/lib/python3.6/dist-packages (from requests<3.0.0,>=2.13.0->spacy) (2.10)\n",
            "Requirement already satisfied: chardet<4,>=3.0.2 in /usr/local/lib/python3.6/dist-packages (from requests<3.0.0,>=2.13.0->spacy) (3.0.4)\n",
            "Requirement already satisfied: certifi>=2017.4.17 in /usr/local/lib/python3.6/dist-packages (from requests<3.0.0,>=2.13.0->spacy) (2020.6.20)\n",
            "Requirement already satisfied: urllib3!=1.25.0,!=1.25.1,<1.26,>=1.21.1 in /usr/local/lib/python3.6/dist-packages (from requests<3.0.0,>=2.13.0->spacy) (1.24.3)\n",
            "Requirement already satisfied: zipp>=0.5 in /usr/local/lib/python3.6/dist-packages (from importlib-metadata>=0.20; python_version < \"3.8\"->catalogue<1.1.0,>=0.0.7->spacy) (3.1.0)\n",
            "Requirement already satisfied: tqdm in /usr/local/lib/python3.6/dist-packages (4.41.1)\n"
          ],
          "name": "stdout"
        }
      ]
    },
    {
      "cell_type": "markdown",
      "metadata": {
        "id": "WM7NAGcS8mNK",
        "colab_type": "text"
      },
      "source": [
        "---\n",
        "# **2. Imports**\n",
        "---"
      ]
    },
    {
      "cell_type": "code",
      "metadata": {
        "id": "Otdq_8rX8s66",
        "colab_type": "code",
        "colab": {}
      },
      "source": [
        "import re\n",
        "import logging\n",
        "import requests\n",
        "import io\n",
        "import pandas as pd\n",
        "pd.options.mode.chained_assignment = None # default='warn'\n",
        "\n",
        "import numpy as np\n",
        "import matplotlib.pyplot as plt\n",
        "from tqdm import tqdm\n",
        "from time import sleep"
      ],
      "execution_count": 2,
      "outputs": []
    },
    {
      "cell_type": "code",
      "metadata": {
        "id": "jmVedaAL9Du4",
        "colab_type": "code",
        "colab": {}
      },
      "source": [
        "from textblob import TextBlob"
      ],
      "execution_count": 3,
      "outputs": []
    },
    {
      "cell_type": "code",
      "metadata": {
        "id": "jHggb6Hq9FWU",
        "colab_type": "code",
        "colab": {
          "base_uri": "https://localhost:8080/",
          "height": 34
        },
        "outputId": "3126069f-147b-429b-816d-cb5e579aef02"
      },
      "source": [
        "import flair\n",
        "flair_sent = flair.models.TextClassifier.load('en-sentiment')"
      ],
      "execution_count": 4,
      "outputs": [
        {
          "output_type": "stream",
          "text": [
            "2020-09-23 17:58:01,439 loading file /root/.flair/models/sentiment-en-mix-distillbert_3.1.pt\n"
          ],
          "name": "stdout"
        }
      ]
    },
    {
      "cell_type": "code",
      "metadata": {
        "id": "eJ2k1cHg88Oa",
        "colab_type": "code",
        "colab": {
          "base_uri": "https://localhost:8080/",
          "height": 187
        },
        "outputId": "4f9e25b8-ccb7-4756-913b-875e639d5289"
      },
      "source": [
        "import nltk\n",
        "from nltk.tokenize import word_tokenize\n",
        "from nltk.sentiment.vader import SentimentIntensityAnalyzer\n",
        "nltk.download('vader_lexicon')\n",
        "nltk.download('punkt')\n",
        "nltk.download('averaged_perceptron_tagger')\n",
        "\n",
        "SIA = SentimentIntensityAnalyzer()"
      ],
      "execution_count": 5,
      "outputs": [
        {
          "output_type": "stream",
          "text": [
            "[nltk_data] Downloading package vader_lexicon to /root/nltk_data...\n",
            "[nltk_data]   Package vader_lexicon is already up-to-date!\n",
            "[nltk_data] Downloading package punkt to /root/nltk_data...\n",
            "[nltk_data]   Package punkt is already up-to-date!\n",
            "[nltk_data] Downloading package averaged_perceptron_tagger to\n",
            "[nltk_data]     /root/nltk_data...\n",
            "[nltk_data]   Package averaged_perceptron_tagger is already up-to-\n",
            "[nltk_data]       date!\n"
          ],
          "name": "stdout"
        },
        {
          "output_type": "stream",
          "text": [
            "/usr/local/lib/python3.6/dist-packages/nltk/twitter/__init__.py:20: UserWarning: The twython library has not been installed. Some functionality from the twitter package will not be available.\n",
            "  warnings.warn(\"The twython library has not been installed. \"\n"
          ],
          "name": "stderr"
        }
      ]
    },
    {
      "cell_type": "code",
      "metadata": {
        "id": "5SkbHzhu8_ER",
        "colab_type": "code",
        "colab": {
          "base_uri": "https://localhost:8080/",
          "height": 748
        },
        "outputId": "4ddecd23-1ea6-4bd9-d812-152c658d6df5"
      },
      "source": [
        "import stanza\n",
        "stanza.download('en', package='ewt', processors='tokenize,sentiment,pos', verbose=True)\n",
        "stanza.download('en', package='default', processors='tokenize,sentiment', verbose=True)\n",
        "stNLP = stanza.Pipeline(processors='tokenize,sentiment,pos', lang='en', use_gpu=True)"
      ],
      "execution_count": 6,
      "outputs": [
        {
          "output_type": "stream",
          "text": [
            "Downloading https://raw.githubusercontent.com/stanfordnlp/stanza-resources/master/resources_1.1.0.json: 122kB [00:00, 31.3MB/s]                    \n",
            "2020-09-23 17:58:07 WARNING: Can not find sentiment: ewt from official model list. Ignoring it.\n",
            "2020-09-23 17:58:07 INFO: Downloading these customized packages for language: en (English)...\n",
            "=======================\n",
            "| Processor | Package |\n",
            "-----------------------\n",
            "| tokenize  | ewt     |\n",
            "| pos       | ewt     |\n",
            "| pretrain  | ewt     |\n",
            "=======================\n",
            "\n",
            "2020-09-23 17:58:07 INFO: File exists: /root/stanza_resources/en/tokenize/ewt.pt.\n",
            "2020-09-23 17:58:07 INFO: File exists: /root/stanza_resources/en/pos/ewt.pt.\n",
            "2020-09-23 17:58:08 INFO: File exists: /root/stanza_resources/en/pretrain/ewt.pt.\n",
            "2020-09-23 17:58:08 INFO: Finished downloading models and saved to /root/stanza_resources.\n",
            "Downloading https://raw.githubusercontent.com/stanfordnlp/stanza-resources/master/resources_1.1.0.json: 122kB [00:00, 21.9MB/s]                    \n",
            "2020-09-23 17:58:08 INFO: Downloading these customized packages for language: en (English)...\n",
            "=======================\n",
            "| Processor | Package |\n",
            "-----------------------\n",
            "| tokenize  | ewt     |\n",
            "| sentiment | sstplus |\n",
            "| pretrain  | ewt     |\n",
            "=======================\n",
            "\n",
            "2020-09-23 17:58:08 INFO: File exists: /root/stanza_resources/en/tokenize/ewt.pt.\n",
            "2020-09-23 17:58:08 INFO: File exists: /root/stanza_resources/en/sentiment/sstplus.pt.\n",
            "2020-09-23 17:58:08 INFO: File exists: /root/stanza_resources/en/pretrain/ewt.pt.\n",
            "2020-09-23 17:58:08 INFO: Finished downloading models and saved to /root/stanza_resources.\n",
            "2020-09-23 17:58:08 INFO: Loading these models for language: en (English):\n",
            "=======================\n",
            "| Processor | Package |\n",
            "-----------------------\n",
            "| tokenize  | ewt     |\n",
            "| pos       | ewt     |\n",
            "| sentiment | sstplus |\n",
            "=======================\n",
            "\n",
            "2020-09-23 17:58:08 INFO: Use device: gpu\n",
            "2020-09-23 17:58:08 INFO: Loading: tokenize\n",
            "2020-09-23 17:58:08 INFO: Loading: pos\n",
            "2020-09-23 17:58:09 INFO: Loading: sentiment\n",
            "2020-09-23 17:58:10 INFO: Done loading processors!\n"
          ],
          "name": "stderr"
        }
      ]
    },
    {
      "cell_type": "code",
      "metadata": {
        "id": "mw13ME8nzrBp",
        "colab_type": "code",
        "colab": {}
      },
      "source": [
        "import spacy\n",
        "spNLP = spacy.load(\"en_core_web_sm\")"
      ],
      "execution_count": 7,
      "outputs": []
    },
    {
      "cell_type": "markdown",
      "metadata": {
        "id": "232Oghes9JSz",
        "colab_type": "text"
      },
      "source": [
        "---\n",
        "# **3. NLP functions**\n",
        "---"
      ]
    },
    {
      "cell_type": "code",
      "metadata": {
        "id": "uwgnNvAh9T1Q",
        "colab_type": "code",
        "colab": {}
      },
      "source": [
        "def text_blob_subjective(text):\n",
        "    return TextBlob(text).sentiment"
      ],
      "execution_count": 8,
      "outputs": []
    },
    {
      "cell_type": "code",
      "metadata": {
        "id": "3gQIgp0y9U07",
        "colab_type": "code",
        "colab": {}
      },
      "source": [
        "def flair_lstm(text):\n",
        "    x = flair.data.Sentence(text)\n",
        "    flair_sent.predict(sentences=x)\n",
        "    return x.labels"
      ],
      "execution_count": 9,
      "outputs": []
    },
    {
      "cell_type": "code",
      "metadata": {
        "id": "eXGGw78t9WCM",
        "colab_type": "code",
        "colab": {}
      },
      "source": [
        "def stanza_funct(text):\n",
        "    try:\n",
        "        data = stNLP(text)\n",
        "        for sentence in data.sentences:\n",
        "            return sentence.sentiment\n",
        "    except:\n",
        "        print('{...}', end='; ')"
      ],
      "execution_count": 10,
      "outputs": []
    },
    {
      "cell_type": "markdown",
      "metadata": {
        "id": "cxVIDdOc6Y8Y",
        "colab_type": "text"
      },
      "source": [
        "---\n",
        "# **4. Preprocessing**\n",
        "---"
      ]
    },
    {
      "cell_type": "markdown",
      "metadata": {
        "id": "abBC0LCW6efC",
        "colab_type": "text"
      },
      "source": [
        "Words play a central role in language and thought. Several influential factor analysis studies have shown that\n",
        "the primary dimensions of word meaning are valence, arousal, and dominance (VAD).\n",
        "- valence is the positive--negative or pleasure--displeasure dimension; \n",
        "- arousal is the excited--calm or active--passive dimension; \n",
        "- dominance is the powerful--weak or 'have control'--'have no control' dimension.\n",
        "\n",
        "```\n",
        "Each line has the following format:\n",
        "<AffectCategory><tab><term><tab><score>\n",
        "<AffectCategory> is one of eight emotions (anger, fear, anticipation, trust, surprise, sadness, joy, or disgust).\n",
        "<term> is a word for which emotion associations are provided.\n",
        "<score> is a value that indicates the strength of association between the <term> and the <AffectCategory>.\n",
        "The higher the value, the stronger is the association. Refer to the publications below for details on how the score is calculated.\n",
        "```\n"
      ]
    },
    {
      "cell_type": "markdown",
      "metadata": {
        "id": "haNYvwGW6klQ",
        "colab_type": "text"
      },
      "source": [
        "## Loading datasets lexicon"
      ]
    },
    {
      "cell_type": "markdown",
      "metadata": {
        "id": "nNSVIrbV6ouq",
        "colab_type": "text"
      },
      "source": [
        "### Donwload datasets to dir"
      ]
    },
    {
      "cell_type": "code",
      "metadata": {
        "id": "vXDp4UKU6DZP",
        "colab_type": "code",
        "colab": {}
      },
      "source": [
        "def download_datasets():\n",
        "    #!mkdir -p datasets\n",
        "    !wget -nc https://nyc3.digitaloceanspaces.com/ml-files-distro/v1/sentiment-analysis-is-bad/data/training.1600000.processed.noemoticon.csv.zip -P datasets\n",
        "    !wget -nc https://raw.githubusercontent.com/Y4rd13/sentiment-analysis/master/datasets/NRC-Emotion-Lexicon-Wordlevel-v0.92.csv -P datasets\n",
        "    !wget -nc https://raw.githubusercontent.com/Y4rd13/sentiment-analysis/master/datasets/NRC-Hashtag-Emotion-Lexicon-v0.2.csv -P datasets\n",
        "    !wget -nc https://raw.githubusercontent.com/Y4rd13/sentiment-analysis/master/datasets/NRC-VAD-Lexicon.csv -P datasets\n",
        "    !wget -nc https://raw.githubusercontent.com/Y4rd13/sentiment-analysis/master/datasets/emobank.csv -P datasets\n",
        "    !wget -nc https://raw.githubusercontent.com/Y4rd13/sentiment-analysis/master/datasets/isear.csv -P datasets\n",
        "    !wget -nc https://raw.githubusercontent.com/Y4rd13/sentiment-analysis/master/datasets/results/checkpoint-bywords.csv -P datasets\n",
        "    !wget -nc https://raw.githubusercontent.com/Y4rd13/sentiment-analysis/master/datasets/results/dataset_checkpoint.csv -P datasets"
      ],
      "execution_count": 11,
      "outputs": []
    },
    {
      "cell_type": "code",
      "metadata": {
        "id": "w4bfCESM6rii",
        "colab_type": "code",
        "colab": {}
      },
      "source": [
        "# uncomment if you want to download the datasets to ./datasets folder\n",
        "#download_datasets()"
      ],
      "execution_count": 12,
      "outputs": []
    },
    {
      "cell_type": "markdown",
      "metadata": {
        "id": "fzMm8Cor6vbS",
        "colab_type": "text"
      },
      "source": [
        "### URLS"
      ]
    },
    {
      "cell_type": "code",
      "metadata": {
        "id": "JbLWZm_r6ugn",
        "colab_type": "code",
        "colab": {}
      },
      "source": [
        "NRC_Emotion_Intensity_Lexicon = 'https://raw.githubusercontent.com/Y4rd13/sentiment-analysis/master/datasets/NRC-Emotion-Intensity-Lexicon-v1.csv'"
      ],
      "execution_count": 13,
      "outputs": []
    },
    {
      "cell_type": "code",
      "metadata": {
        "id": "4a7vtMSP6zkW",
        "colab_type": "code",
        "colab": {}
      },
      "source": [
        "NRC_Emotion_Lexicon_Wordlevel = 'https://raw.githubusercontent.com/Y4rd13/sentiment-analysis/master/datasets/NRC-Emotion-Lexicon-Wordlevel-v0.92.csv'"
      ],
      "execution_count": 14,
      "outputs": []
    },
    {
      "cell_type": "code",
      "metadata": {
        "id": "-0H-A2Qs6zv9",
        "colab_type": "code",
        "colab": {}
      },
      "source": [
        "NRC_Hashtag_Emotion_Lexicon = 'https://raw.githubusercontent.com/Y4rd13/sentiment-analysis/master/datasets/NRC-Hashtag-Emotion-Lexicon-v0.2.csv'"
      ],
      "execution_count": 15,
      "outputs": []
    },
    {
      "cell_type": "code",
      "metadata": {
        "id": "gHx-LKOB6z4n",
        "colab_type": "code",
        "colab": {}
      },
      "source": [
        "NRC_VAD_Lexicon = 'https://raw.githubusercontent.com/Y4rd13/sentiment-analysis/master/datasets/NRC-VAD-Lexicon.csv'"
      ],
      "execution_count": 16,
      "outputs": []
    },
    {
      "cell_type": "code",
      "metadata": {
        "id": "sWKeVtqJ60B_",
        "colab_type": "code",
        "colab": {}
      },
      "source": [
        "emobank = 'https://raw.githubusercontent.com/Y4rd13/sentiment-analysis/master/datasets/emobank.csv'"
      ],
      "execution_count": 17,
      "outputs": []
    },
    {
      "cell_type": "code",
      "metadata": {
        "id": "Hf2Fm7wy60Ka",
        "colab_type": "code",
        "colab": {}
      },
      "source": [
        "isear = 'https://raw.githubusercontent.com/Y4rd13/sentiment-analysis/master/datasets/isear.csv'"
      ],
      "execution_count": 18,
      "outputs": []
    },
    {
      "cell_type": "code",
      "metadata": {
        "id": "FmcOjGEkzrHm",
        "colab_type": "code",
        "colab": {}
      },
      "source": [
        "url_checkpoint_byWords = 'https://raw.githubusercontent.com/Y4rd13/sentiment-analysis/master/datasets/results/checkpoint-bywords.csv'"
      ],
      "execution_count": 19,
      "outputs": []
    },
    {
      "cell_type": "code",
      "metadata": {
        "id": "Emjp8Dv2D9Yi",
        "colab_type": "code",
        "colab": {}
      },
      "source": [
        "checkpoint_url = 'https://raw.githubusercontent.com/Y4rd13/sentiment-analysis/master/datasets/results/dataset_checkpoint.csv'"
      ],
      "execution_count": 20,
      "outputs": []
    },
    {
      "cell_type": "markdown",
      "metadata": {
        "id": "yuRVW0yc66AJ",
        "colab_type": "text"
      },
      "source": [
        "### Requests"
      ]
    },
    {
      "cell_type": "code",
      "metadata": {
        "id": "50g_-lVi67Tb",
        "colab_type": "code",
        "colab": {}
      },
      "source": [
        "def request_csv(url):\n",
        "    return (requests.get(url).content).decode('utf-8')"
      ],
      "execution_count": 21,
      "outputs": []
    },
    {
      "cell_type": "markdown",
      "metadata": {
        "id": "23X9FRVR7DOh",
        "colab_type": "text"
      },
      "source": [
        "### Loading datasets as requests\n",
        "Anyway the datasets files were downloaded on ./datasets/ folder"
      ]
    },
    {
      "cell_type": "code",
      "metadata": {
        "id": "KEj6KnnE7F0R",
        "colab_type": "code",
        "colab": {}
      },
      "source": [
        "df_NRC_Emotion_Intensity = pd.read_csv(io.StringIO(request_csv(NRC_Emotion_Intensity_Lexicon)), sep='\\t')"
      ],
      "execution_count": 22,
      "outputs": []
    },
    {
      "cell_type": "code",
      "metadata": {
        "id": "ir5bUkbV7I9n",
        "colab_type": "code",
        "colab": {}
      },
      "source": [
        "df_NRC_Hashtag = pd.read_csv(io.StringIO(request_csv(NRC_Hashtag_Emotion_Lexicon)), sep='\\t')"
      ],
      "execution_count": 23,
      "outputs": []
    },
    {
      "cell_type": "code",
      "metadata": {
        "id": "geja1-xJ7JKN",
        "colab_type": "code",
        "colab": {}
      },
      "source": [
        "df_NRC_Emotion_Wordlevel = pd.read_csv(io.StringIO(request_csv(NRC_Emotion_Lexicon_Wordlevel)), sep='\\t')"
      ],
      "execution_count": 24,
      "outputs": []
    },
    {
      "cell_type": "code",
      "metadata": {
        "id": "dXzdN2fl7JV2",
        "colab_type": "code",
        "colab": {}
      },
      "source": [
        "# by sentece\n",
        "df_isear = pd.read_csv(io.StringIO(request_csv(isear)), sep='|', error_bad_lines=False, usecols=['SIT', 'Field1'])"
      ],
      "execution_count": 25,
      "outputs": []
    },
    {
      "cell_type": "markdown",
      "metadata": {
        "id": "M8m8PrAH7NXL",
        "colab_type": "text"
      },
      "source": [
        "### Column names & merge (concatenate)"
      ]
    },
    {
      "cell_type": "code",
      "metadata": {
        "id": "VssKa0uZ7O8a",
        "colab_type": "code",
        "colab": {}
      },
      "source": [
        "df_NRC_Hashtag.columns = ['category', 'word', 'score']\n",
        "df_NRC_Emotion_Intensity.columns = ['word', 'category', 'score']\n",
        "df_NRC_Emotion_Wordlevel.columns = ['word', 'category', 'score']\n",
        "df_isear.columns = ['category', 'sentence']"
      ],
      "execution_count": 26,
      "outputs": []
    },
    {
      "cell_type": "code",
      "metadata": {
        "id": "IcGWByNe7QHS",
        "colab_type": "code",
        "colab": {}
      },
      "source": [
        "df_concat = pd.concat(objs=[df_NRC_Hashtag, df_NRC_Emotion_Intensity, df_NRC_Emotion_Wordlevel], ignore_index=True)"
      ],
      "execution_count": 27,
      "outputs": []
    },
    {
      "cell_type": "markdown",
      "metadata": {
        "id": "invnpSJN7SbB",
        "colab_type": "text"
      },
      "source": [
        "### Sorting concatenated dataset"
      ]
    },
    {
      "cell_type": "code",
      "metadata": {
        "id": "NkIKDyAN7UFa",
        "colab_type": "code",
        "colab": {}
      },
      "source": [
        "df_concat = df_concat.sort_values(by=['category'], ascending=True, ignore_index=True)"
      ],
      "execution_count": 28,
      "outputs": []
    },
    {
      "cell_type": "markdown",
      "metadata": {
        "id": "ptCLr2RK7gq8",
        "colab_type": "text"
      },
      "source": [
        "## Loading datasets Valence Arousal Dominance"
      ]
    },
    {
      "cell_type": "code",
      "metadata": {
        "id": "-_dk-t1M7jdh",
        "colab_type": "code",
        "colab": {}
      },
      "source": [
        "# by word\n",
        "df_NRC_VAD_Lexicon = pd.read_csv(io.StringIO(request_csv(NRC_VAD_Lexicon)), sep='\\t')"
      ],
      "execution_count": 29,
      "outputs": []
    },
    {
      "cell_type": "code",
      "metadata": {
        "id": "WTMCN5ZC7jmL",
        "colab_type": "code",
        "colab": {
          "base_uri": "https://localhost:8080/",
          "height": 80
        },
        "outputId": "ab9508df-ac81-40bf-8a65-bf2f56b00631"
      },
      "source": [
        "df_NRC_VAD_Lexicon[df_NRC_VAD_Lexicon['Word'].str.contains('extremely positive', na=False)]"
      ],
      "execution_count": 30,
      "outputs": [
        {
          "output_type": "execute_result",
          "data": {
            "text/html": [
              "<div>\n",
              "<style scoped>\n",
              "    .dataframe tbody tr th:only-of-type {\n",
              "        vertical-align: middle;\n",
              "    }\n",
              "\n",
              "    .dataframe tbody tr th {\n",
              "        vertical-align: top;\n",
              "    }\n",
              "\n",
              "    .dataframe thead th {\n",
              "        text-align: right;\n",
              "    }\n",
              "</style>\n",
              "<table border=\"1\" class=\"dataframe\">\n",
              "  <thead>\n",
              "    <tr style=\"text-align: right;\">\n",
              "      <th></th>\n",
              "      <th>Word</th>\n",
              "      <th>Valence</th>\n",
              "      <th>Arousal</th>\n",
              "      <th>Dominance</th>\n",
              "    </tr>\n",
              "  </thead>\n",
              "  <tbody>\n",
              "    <tr>\n",
              "      <th>6384</th>\n",
              "      <td>extremely positive</td>\n",
              "      <td>0.993</td>\n",
              "      <td>0.73</td>\n",
              "      <td>0.839</td>\n",
              "    </tr>\n",
              "  </tbody>\n",
              "</table>\n",
              "</div>"
            ],
            "text/plain": [
              "                    Word  Valence  Arousal  Dominance\n",
              "6384  extremely positive    0.993     0.73      0.839"
            ]
          },
          "metadata": {
            "tags": []
          },
          "execution_count": 30
        }
      ]
    },
    {
      "cell_type": "code",
      "metadata": {
        "id": "WTcYfpt-7j5k",
        "colab_type": "code",
        "colab": {}
      },
      "source": [
        "# by sentence \n",
        "df_emobank = pd.read_csv(io.StringIO(request_csv(emobank)), sep=',', usecols=['split', 'text', 'V', 'A', 'D'])"
      ],
      "execution_count": 31,
      "outputs": []
    },
    {
      "cell_type": "markdown",
      "metadata": {
        "id": "orckEWXm7tuE",
        "colab_type": "text"
      },
      "source": [
        "### Column names"
      ]
    },
    {
      "cell_type": "code",
      "metadata": {
        "id": "JIisFenV7kBD",
        "colab_type": "code",
        "colab": {}
      },
      "source": [
        "df_NRC_VAD_Lexicon.columns = ['word', 'Valence', 'Arousal', 'Dominance']\n",
        "df_emobank.columns = ['split', 'Valence', 'Arousal', 'Dominance', 'sentece']"
      ],
      "execution_count": 32,
      "outputs": []
    },
    {
      "cell_type": "markdown",
      "metadata": {
        "id": "VOrS9pCX7yTR",
        "colab_type": "text"
      },
      "source": [
        "## Plotters: simple plot & bar"
      ]
    },
    {
      "cell_type": "code",
      "metadata": {
        "id": "jcWFRYfu8B6p",
        "colab_type": "code",
        "colab": {}
      },
      "source": [
        "def simple_plot(x, y, size):\n",
        "    plt.figure(figsize=size)\n",
        "    plt.plot(x, y, linestyle='solid', color='red')\n",
        "    plt.xlabel('labels')\n",
        "    plt.ylabel('scores')\n",
        "    plt.legend(loc='upper left')\n",
        "    plt.xticks(size=10, rotation='vertical')\n",
        "    plt.yticks(size=10)\n",
        "    plt.grid(b=True)\n",
        "\n",
        "    plt.show()\n",
        "\n",
        "def simple_bar(x, y, size):\n",
        "    plt.figure(figsize=size)\n",
        "    plt.bar(x, y, linestyle='solid', color='red')\n",
        "    plt.xlabel('labels')\n",
        "    plt.ylabel('scores')\n",
        "    plt.legend(loc='upper left')\n",
        "    plt.xticks(size=10, rotation='vertical')\n",
        "    plt.yticks(size=10)\n",
        "    plt.grid(b=True)\n",
        "\n",
        "    plt.show()"
      ],
      "execution_count": 33,
      "outputs": []
    },
    {
      "cell_type": "markdown",
      "metadata": {
        "id": "QdwX70bp8ZWr",
        "colab_type": "text"
      },
      "source": [
        "---\n",
        "# **5. Preprocessing dataframe concatenated**\n",
        "---"
      ]
    },
    {
      "cell_type": "code",
      "metadata": {
        "id": "8fbpfL2Y8cXq",
        "colab_type": "code",
        "colab": {}
      },
      "source": [
        "def preprocessing_characteres(df, c):\n",
        "    df[c] = df[c].apply(lambda x: re.sub(\"[^a-zA-Z]\", \" \", str(x)))\n",
        "    df[c] = df[c].str.lower()\n",
        "    df[c] = df[c].apply(lambda x: re.sub(r'(@[A-Za-z0-9]+)|([^0-9A-Za-zÁ-Úá-ú \\t])|(\\w+:\\/\\/\\S+)|^rt|http.+?%', '', x))\n",
        "\n",
        "    return df"
      ],
      "execution_count": 34,
      "outputs": []
    },
    {
      "cell_type": "code",
      "metadata": {
        "id": "YQJB1ImJ8cfr",
        "colab_type": "code",
        "colab": {}
      },
      "source": [
        "df = preprocessing_characteres(df_concat, 'word')"
      ],
      "execution_count": 35,
      "outputs": []
    },
    {
      "cell_type": "markdown",
      "metadata": {
        "id": "SRrwftLx92XG",
        "colab_type": "text"
      },
      "source": [
        "## **NLP applying**"
      ]
    },
    {
      "cell_type": "code",
      "metadata": {
        "id": "I97Sv19b93O8",
        "colab_type": "code",
        "colab": {}
      },
      "source": [
        "def drop_empty_string(df):\n",
        "    # Warning: An empty Sentence was created!\n",
        "    # Are there empty strings in your dataset?\n",
        "    print('\\nremoving empty values...\\n')\n",
        "    nan_value = float('NaN')\n",
        "    df.replace('', nan_value, inplace=True)\n",
        "    df.replace(' ', nan_value, inplace=True)\n",
        "    df.replace('  ', nan_value, inplace=True)\n",
        "    df.dropna(inplace=True)\n",
        "\n",
        "    return df"
      ],
      "execution_count": 36,
      "outputs": []
    },
    {
      "cell_type": "code",
      "metadata": {
        "id": "vgf6I1Y595ID",
        "colab_type": "code",
        "colab": {}
      },
      "source": [
        "def preprocessing_lexicon(df, c1, c2):\n",
        "    print('\\nRemoving scores equal to 0 & empty or space values\\n')\n",
        "    df.drop(df[df[c1] == 0]. index, inplace=True)\n",
        "    df.drop(df[df[c2] == float]. index, inplace=True)\n",
        "    df = drop_empty_string(df)\n",
        "    \n",
        "    print('Strip spaces both sides\\n')\n",
        "    df[c2] = df[c2].str.strip()\n",
        "\n",
        "    return df"
      ],
      "execution_count": 37,
      "outputs": []
    },
    {
      "cell_type": "code",
      "metadata": {
        "id": "y-Go5daQ96Uz",
        "colab_type": "code",
        "colab": {}
      },
      "source": [
        "def nlp_apply(df, c):\n",
        "    print('Vader\\n')\n",
        "    df['Compound'] = df[c].apply(lambda x: SIA.polarity_scores(text=x)['compound'])\n",
        "    \n",
        "    print('TextBlob')\n",
        "    df['Subjectivity'] = df[c].apply(lambda x: text_blob_subjective(text=x)[1])\n",
        "    \n",
        "    df = drop_empty_string(df)\n",
        "\n",
        "    print('Stanza')\n",
        "    df['Stanza'] = df[c].apply(lambda x: stanza_funct(text=x))\n",
        "\n",
        "    df = drop_empty_string(df)\n",
        "\n",
        "    print('Flair\\n')\n",
        "    df['Flair'] = df[c].apply(lambda x: ''.join([i.value for i in flair_lstm(text=x)]))\n",
        "\n",
        "    df = preprocessing_lexicon(df, 'score', 'word')\n",
        "\n",
        "    return df"
      ],
      "execution_count": 38,
      "outputs": []
    },
    {
      "cell_type": "code",
      "metadata": {
        "id": "beajuN-M99v8",
        "colab_type": "code",
        "colab": {
          "base_uri": "https://localhost:8080/",
          "height": 34
        },
        "outputId": "60374b3e-4624-463a-ea76-a2b5c5357725"
      },
      "source": [
        "!mkdir 'datasets'"
      ],
      "execution_count": 39,
      "outputs": [
        {
          "output_type": "stream",
          "text": [
            "mkdir: cannot create directory ‘datasets’: File exists\n"
          ],
          "name": "stdout"
        }
      ]
    },
    {
      "cell_type": "code",
      "metadata": {
        "id": "nMG_9uB898Di",
        "colab_type": "code",
        "colab": {}
      },
      "source": [
        "# uncomment to apply from the beggining nlp tools & checkpoint\n",
        "#df = nlp_apply(df, 'word')"
      ],
      "execution_count": 40,
      "outputs": []
    },
    {
      "cell_type": "code",
      "metadata": {
        "id": "1kYIzZ9ig4B1",
        "colab_type": "code",
        "colab": {}
      },
      "source": [
        "# checkpoint\n",
        "#df.to_csv('datasets/checkpoint-bywords.csv', encoding='utf-8', index=False)"
      ],
      "execution_count": 41,
      "outputs": []
    },
    {
      "cell_type": "code",
      "metadata": {
        "id": "c_RfNBs99-xU",
        "colab_type": "code",
        "colab": {}
      },
      "source": [
        "df = pd.read_csv(io.StringIO(request_csv(url=url_checkpoint_byWords)), sep=',')"
      ],
      "execution_count": 42,
      "outputs": []
    },
    {
      "cell_type": "markdown",
      "metadata": {
        "id": "BsQgEKqN-KtP",
        "colab_type": "text"
      },
      "source": [
        "---\n",
        "# **6. Preprocessing VAD datasets**\n",
        "---"
      ]
    },
    {
      "cell_type": "markdown",
      "metadata": {
        "id": "BV3zi0ym-O4r",
        "colab_type": "text"
      },
      "source": [
        "### Grouping categories dataset by column value"
      ]
    },
    {
      "cell_type": "code",
      "metadata": {
        "id": "nnNmYZlf-NIm",
        "colab_type": "code",
        "colab": {}
      },
      "source": [
        "group = df.groupby(df.category)"
      ],
      "execution_count": 43,
      "outputs": []
    },
    {
      "cell_type": "code",
      "metadata": {
        "id": "gXo1OhNJ-QW8",
        "colab_type": "code",
        "colab": {}
      },
      "source": [
        "positive = group.get_group('positive')\n",
        "negative = group.get_group('negative')\n",
        "sadness = group.get_group('sadness')\n",
        "joy = group.get_group('joy')\n",
        "trust = group.get_group('trust')\n",
        "anticipation = group.get_group('anticipation')\n",
        "anger = group.get_group('anger')\n",
        "surprise = group.get_group('surprise')\n",
        "fear = group.get_group('fear')\n",
        "disgust = group.get_group('disgust')"
      ],
      "execution_count": 44,
      "outputs": []
    },
    {
      "cell_type": "markdown",
      "metadata": {
        "id": "Jig3fyyX-Sb7",
        "colab_type": "text"
      },
      "source": [
        "### Adding VAD columns & filling them with VAD values\n",
        "http://saifmohammad.com/WebPages/nrc-vad.html"
      ]
    },
    {
      "cell_type": "code",
      "metadata": {
        "id": "sKIOHt_H-UI0",
        "colab_type": "code",
        "colab": {}
      },
      "source": [
        "def fill_VAD(df, VAD):\n",
        "    df.loc[:, 'Valence'] = VAD[0]\n",
        "    df.loc[:, 'Arousal'] = VAD[1]\n",
        "    df.loc[:, 'Dominance'] = VAD[2]  \n",
        "    return  df"
      ],
      "execution_count": 45,
      "outputs": []
    },
    {
      "cell_type": "code",
      "metadata": {
        "id": "eYSjB9gE-V7c",
        "colab_type": "code",
        "colab": {}
      },
      "source": [
        "positive = fill_VAD(df=positive, VAD=[0.9590, 0.5100, 0.8550])\n",
        "negative = fill_VAD(df=negative, VAD=[0.1020, 0.5270, 0.1760])\n",
        "sadness = fill_VAD(df=sadness, VAD=[0.0520, 0.2880, 0.1640])\n",
        "joy = fill_VAD(df=joy, VAD=[0.9800, 0.8240, 0.7949])\n",
        "trust = fill_VAD(df=trust, VAD=[0.8880, 0.5470, 0.7410])\n",
        "anticipation = fill_VAD(df=anticipation, VAD=[0.6980, 0.5390, 0.7110])\n",
        "anger = fill_VAD(df=anger, VAD=[0.1670, 0.8650, 0.6570])\n",
        "surprise = fill_VAD(df=surprise, VAD=[0.8750, 0.8750, 0.5620])\n",
        "fear = fill_VAD(df=fear, VAD=[0.0730, 0.8400, 0.2930])\n",
        "disgust = fill_VAD(df=disgust, VAD=[0.0520, 0.7750, 0.3170])"
      ],
      "execution_count": 46,
      "outputs": []
    },
    {
      "cell_type": "markdown",
      "metadata": {
        "id": "GZh1h4BH-Xls",
        "colab_type": "text"
      },
      "source": [
        "### Concatenating & sorting datasets: Categories with Quadrants"
      ]
    },
    {
      "cell_type": "code",
      "metadata": {
        "id": "-v5eAu9S-YIT",
        "colab_type": "code",
        "colab": {}
      },
      "source": [
        "def concat(lst):\n",
        "    df = pd.concat(objs=lst, ignore_index=True)\n",
        "    return df"
      ],
      "execution_count": 47,
      "outputs": []
    },
    {
      "cell_type": "code",
      "metadata": {
        "id": "veq9JcUk-ZEl",
        "colab_type": "code",
        "colab": {}
      },
      "source": [
        "df_VAD = df_NRC_VAD_Lexicon"
      ],
      "execution_count": 48,
      "outputs": []
    },
    {
      "cell_type": "code",
      "metadata": {
        "id": "BFvtBWVp-aJ8",
        "colab_type": "code",
        "colab": {}
      },
      "source": [
        "df_VAD = concat([df_VAD, positive])\n",
        "df_VAD = concat([df_VAD, negative])\n",
        "df_VAD = concat([df_VAD, sadness])\n",
        "df_VAD = concat([df_VAD, joy])\n",
        "df_VAD = concat([df_VAD, trust])\n",
        "df_VAD = concat([df_VAD, anticipation])\n",
        "df_VAD = concat([df_VAD, anger])\n",
        "df_VAD = concat([df_VAD, surprise])\n",
        "df_VAD = concat([df_VAD, fear])\n",
        "df_VAD = concat([df_VAD, disgust])"
      ],
      "execution_count": 49,
      "outputs": []
    },
    {
      "cell_type": "markdown",
      "metadata": {
        "id": "VkawlFt6-cs9",
        "colab_type": "text"
      },
      "source": [
        "### Delete duplicates & replace NaN with empty"
      ]
    },
    {
      "cell_type": "code",
      "metadata": {
        "id": "RG3ceBoe-bcM",
        "colab_type": "code",
        "colab": {}
      },
      "source": [
        "#df_VAD = df_VAD.drop_duplicates(subset=['word'], keep=False)"
      ],
      "execution_count": 50,
      "outputs": []
    },
    {
      "cell_type": "code",
      "metadata": {
        "id": "3mf5Ha4f-gbt",
        "colab_type": "code",
        "colab": {}
      },
      "source": [
        "df_VAD.replace(float('NaN'), '--', inplace=True)"
      ],
      "execution_count": 51,
      "outputs": []
    },
    {
      "cell_type": "markdown",
      "metadata": {
        "id": "wKwsNkIp-hXM",
        "colab_type": "text"
      },
      "source": [
        "### Applying NLP to VAD dataset"
      ]
    },
    {
      "cell_type": "code",
      "metadata": {
        "id": "CxlEPzg--igw",
        "colab_type": "code",
        "colab": {}
      },
      "source": [
        "# uncomment to NLP apply manually\n",
        "#df_VAD = nlp_apply(df_VAD, 'word')"
      ],
      "execution_count": 52,
      "outputs": []
    },
    {
      "cell_type": "code",
      "metadata": {
        "id": "Dfbqzv8pmsQX",
        "colab_type": "code",
        "colab": {}
      },
      "source": [
        "# uncomment to NLP apply manually\n",
        "#df_VAD.to_csv('dataset_checkpoint.csv', encoding='utf-8', index=True)"
      ],
      "execution_count": 53,
      "outputs": []
    },
    {
      "cell_type": "code",
      "metadata": {
        "id": "k6qPQWSgDS5C",
        "colab_type": "code",
        "colab": {
          "base_uri": "https://localhost:8080/",
          "height": 51
        },
        "outputId": "9ba15ab1-5dce-423c-9efa-8e63164974e5"
      },
      "source": [
        "# comment to NLP apply manually\n",
        "df_VAD = pd.read_csv(io.StringIO(request_csv(checkpoint_url)), sep=',')"
      ],
      "execution_count": 54,
      "outputs": [
        {
          "output_type": "stream",
          "text": [
            "/usr/local/lib/python3.6/dist-packages/IPython/core/interactiveshell.py:2718: DtypeWarning: Columns (6) have mixed types.Specify dtype option on import or set low_memory=False.\n",
            "  interactivity=interactivity, compiler=compiler, result=result)\n"
          ],
          "name": "stderr"
        }
      ]
    },
    {
      "cell_type": "markdown",
      "metadata": {
        "id": "h19Jn-DI-lvP",
        "colab_type": "text"
      },
      "source": [
        "### Minimum & max value with midpoint"
      ]
    },
    {
      "cell_type": "code",
      "metadata": {
        "id": "mUBKAss6-oW0",
        "colab_type": "code",
        "colab": {}
      },
      "source": [
        "def min_max_value(df, c):\n",
        "    return df[c].min(), df[c].max()"
      ],
      "execution_count": 55,
      "outputs": []
    },
    {
      "cell_type": "code",
      "metadata": {
        "id": "6tYqZan6-odr",
        "colab_type": "code",
        "colab": {}
      },
      "source": [
        "def midpoint(df, c):\n",
        "    '''Compute medium point from dataframe'''\n",
        "    x1, x2 = min_max_value(df, c)\n",
        "    return x2 - x1 / 2"
      ],
      "execution_count": 56,
      "outputs": []
    },
    {
      "cell_type": "code",
      "metadata": {
        "id": "uKTL1DuC-ojd",
        "colab_type": "code",
        "colab": {}
      },
      "source": [
        "df_VAD = preprocessing_characteres(df_VAD, 'word')\n",
        "df_VAD['word'] = df_VAD['word'].str.strip()\n",
        "df_VAD = df_VAD.dropna()"
      ],
      "execution_count": 57,
      "outputs": []
    },
    {
      "cell_type": "code",
      "metadata": {
        "id": "9y204srw-opM",
        "colab_type": "code",
        "colab": {}
      },
      "source": [
        "# COLUMNS: word, Arousal, Valence, Dominance\n",
        "arousal_mp = midpoint(df_VAD, 'Arousal')\n",
        "valence_mp = midpoint(df_VAD, 'Valence')\n",
        "dominance_mp = midpoint(df_VAD, 'Dominance')"
      ],
      "execution_count": 58,
      "outputs": []
    },
    {
      "cell_type": "code",
      "metadata": {
        "id": "wI0buXTt-ou_",
        "colab_type": "code",
        "colab": {}
      },
      "source": [
        "# MIN AND MAX\n",
        "arousal_min, arousal_max = min_max_value(df_VAD, 'Arousal')\n",
        "valence_min, valence_max = min_max_value(df_VAD, 'Valence')\n",
        "dominance_min, dominance_max = min_max_value(df_VAD, 'Dominance')"
      ],
      "execution_count": 59,
      "outputs": []
    },
    {
      "cell_type": "code",
      "metadata": {
        "id": "XoDxn4OO-oz4",
        "colab_type": "code",
        "colab": {}
      },
      "source": [
        "def midpoint_general(lst_min, lst_max):\n",
        "    return (max(lst_max) - min(lst_min)) / 2 "
      ],
      "execution_count": 60,
      "outputs": []
    },
    {
      "cell_type": "code",
      "metadata": {
        "id": "GTCwnEAZ-o5T",
        "colab_type": "code",
        "colab": {}
      },
      "source": [
        "midpoint_VAD = midpoint_general(\n",
        "                                lst_min = [arousal_min, valence_min, dominance_min],\n",
        "                                lst_max = [arousal_max, valence_max, dominance_max]\n",
        "                                )"
      ],
      "execution_count": 61,
      "outputs": []
    },
    {
      "cell_type": "code",
      "metadata": {
        "id": "kkuGtMbw-o9q",
        "colab_type": "code",
        "colab": {
          "base_uri": "https://localhost:8080/",
          "height": 170
        },
        "outputId": "4f13056b-3205-4e07-a343-9f5c1315f2df"
      },
      "source": [
        "print('Min, Max')\n",
        "print('Arousal: {}\\nValence: {}\\nDominance {}\\n'.format(min_max_value(df_VAD, 'Arousal'), min_max_value(df_VAD, 'Valence'), min_max_value(df_VAD, 'Dominance')))\n",
        "\n",
        "print('Medium point')\n",
        "print('Arousal: {}\\nValence: {}\\nDominance {}'.format(arousal_mp, valence_mp, dominance_mp))"
      ],
      "execution_count": 62,
      "outputs": [
        {
          "output_type": "stream",
          "text": [
            "Min, Max\n",
            "Arousal: (0.046, 0.99)\n",
            "Valence: (0.0, 1.0)\n",
            "Dominance (0.045, 0.991)\n",
            "\n",
            "Medium point\n",
            "Arousal: 0.967\n",
            "Valence: 1.0\n",
            "Dominance 0.9685\n"
          ],
          "name": "stdout"
        }
      ]
    },
    {
      "cell_type": "markdown",
      "metadata": {
        "id": "Mdkv1L3o-1cH",
        "colab_type": "text"
      },
      "source": [
        "---\n",
        "# **7.Quadrants**\n",
        "---"
      ]
    },
    {
      "cell_type": "markdown",
      "metadata": {
        "id": "20SbyCpm-96d",
        "colab_type": "text"
      },
      "source": [
        "Also we can use:\n",
        "\n",
        "\n",
        "```python\n",
        "x_quad = df.query(\"A <= @midpoint_A and B <= @midpoint_B\")\n",
        "```\n",
        "\n"
      ]
    },
    {
      "cell_type": "code",
      "metadata": {
        "id": "jhwDcO4c-8vt",
        "colab_type": "code",
        "colab": {
          "base_uri": "https://localhost:8080/",
          "height": 34
        },
        "outputId": "c150ebbd-a455-4242-b483-c14f3a537565"
      },
      "source": [
        "midpoint_VAD"
      ],
      "execution_count": 63,
      "outputs": [
        {
          "output_type": "execute_result",
          "data": {
            "text/plain": [
              "0.5"
            ]
          },
          "metadata": {
            "tags": []
          },
          "execution_count": 63
        }
      ]
    },
    {
      "cell_type": "markdown",
      "metadata": {
        "id": "c3_Q-y5z_Axt",
        "colab_type": "text"
      },
      "source": [
        "### I. High Arousal, Positive Valence"
      ]
    },
    {
      "cell_type": "code",
      "metadata": {
        "id": "4maTRPPa-9C8",
        "colab_type": "code",
        "colab": {}
      },
      "source": [
        "first_quad =  df_VAD[(df_VAD['Arousal'] >= midpoint_VAD) & (df_VAD['Valence'] >= midpoint_VAD)]"
      ],
      "execution_count": 64,
      "outputs": []
    },
    {
      "cell_type": "code",
      "metadata": {
        "id": "1IQop-pZ_Csd",
        "colab_type": "code",
        "colab": {}
      },
      "source": [
        "first_quad = first_quad.drop(first_quad[(first_quad['Flair'] == 'NEGATIVE') & (first_quad['Stanza'] == 1)].index)"
      ],
      "execution_count": 65,
      "outputs": []
    },
    {
      "cell_type": "code",
      "metadata": {
        "id": "2gwilIrI_C0G",
        "colab_type": "code",
        "colab": {}
      },
      "source": [
        "first_quad['quadrant'] = 1"
      ],
      "execution_count": 66,
      "outputs": []
    },
    {
      "cell_type": "markdown",
      "metadata": {
        "id": "bwqER7HA_F7H",
        "colab_type": "text"
      },
      "source": [
        "### II. High Arousal, Negative Valance"
      ]
    },
    {
      "cell_type": "code",
      "metadata": {
        "id": "CvQWsCYR_Hww",
        "colab_type": "code",
        "colab": {}
      },
      "source": [
        "second_quad = df_VAD[(df_VAD['Arousal'] >= midpoint_VAD) & (df_VAD['Valence'] <= midpoint_VAD)]"
      ],
      "execution_count": 67,
      "outputs": []
    },
    {
      "cell_type": "code",
      "metadata": {
        "id": "oaKSLClj_H7D",
        "colab_type": "code",
        "colab": {}
      },
      "source": [
        "second_quad = second_quad.drop(second_quad[(second_quad['Flair'] == 'POSITIVE') & (second_quad['Stanza'] == 2)].index)"
      ],
      "execution_count": 68,
      "outputs": []
    },
    {
      "cell_type": "code",
      "metadata": {
        "id": "p2GJ5gBZ_IA2",
        "colab_type": "code",
        "colab": {}
      },
      "source": [
        "second_quad['quadrant'] = 2"
      ],
      "execution_count": 69,
      "outputs": []
    },
    {
      "cell_type": "markdown",
      "metadata": {
        "id": "WtzVbWJO_LRd",
        "colab_type": "text"
      },
      "source": [
        "### III. Low Arousal, Negative Valance"
      ]
    },
    {
      "cell_type": "code",
      "metadata": {
        "id": "Ifal5cw__NgQ",
        "colab_type": "code",
        "colab": {}
      },
      "source": [
        "third_quad = df_VAD[(df_VAD['Arousal'] <= midpoint_VAD) & (df_VAD['Valence'] <= midpoint_VAD)]"
      ],
      "execution_count": 70,
      "outputs": []
    },
    {
      "cell_type": "code",
      "metadata": {
        "id": "P0zSnMmB_NmS",
        "colab_type": "code",
        "colab": {}
      },
      "source": [
        "third_quad = third_quad.drop(third_quad[(third_quad['Flair'] == 'POSITIVE') & (third_quad['Stanza'] == 2)].index)"
      ],
      "execution_count": 71,
      "outputs": []
    },
    {
      "cell_type": "code",
      "metadata": {
        "id": "xO04yE_H_Nqm",
        "colab_type": "code",
        "colab": {}
      },
      "source": [
        "third_quad['quadrant'] = 3"
      ],
      "execution_count": 72,
      "outputs": []
    },
    {
      "cell_type": "markdown",
      "metadata": {
        "id": "4gXCPjyI_QZm",
        "colab_type": "text"
      },
      "source": [
        "### IV. Low Arousal, Positive Valance"
      ]
    },
    {
      "cell_type": "code",
      "metadata": {
        "id": "UKRGjRrv_SRf",
        "colab_type": "code",
        "colab": {}
      },
      "source": [
        "fourth_quad = df_VAD[(df_VAD['Arousal'] <= midpoint_VAD) & (df_VAD['Valence'] >= midpoint_VAD)]"
      ],
      "execution_count": 73,
      "outputs": []
    },
    {
      "cell_type": "code",
      "metadata": {
        "id": "1Hy3dN_F_SXj",
        "colab_type": "code",
        "colab": {}
      },
      "source": [
        "fourth_quad = fourth_quad.drop(fourth_quad[(fourth_quad['Flair'] == 'NEGATIVE') & (fourth_quad['Stanza'] == 1)].index)"
      ],
      "execution_count": 74,
      "outputs": []
    },
    {
      "cell_type": "code",
      "metadata": {
        "id": "-VWhe-pO_Sct",
        "colab_type": "code",
        "colab": {}
      },
      "source": [
        "fourth_quad['quadrant'] = 4"
      ],
      "execution_count": 75,
      "outputs": []
    },
    {
      "cell_type": "markdown",
      "metadata": {
        "id": "r70H8vp1_VOa",
        "colab_type": "text"
      },
      "source": [
        "### PLOT VAD"
      ]
    },
    {
      "cell_type": "code",
      "metadata": {
        "id": "igjKC4P8_W8u",
        "colab_type": "code",
        "colab": {
          "base_uri": "https://localhost:8080/",
          "height": 339
        },
        "outputId": "9bb12a35-2656-46f5-afc4-a84592de0892"
      },
      "source": [
        "y_quad = list(map(len, [first_quad, second_quad, third_quad, fourth_quad]))\n",
        "\n",
        "print(y_quad)\n",
        "simple_bar(['first', 'second', 'third', 'fourth'], y_quad, size=(8, 4))"
      ],
      "execution_count": 76,
      "outputs": [
        {
          "output_type": "stream",
          "text": [
            "No handles with labels found to put in legend.\n"
          ],
          "name": "stderr"
        },
        {
          "output_type": "stream",
          "text": [
            "[23890, 30693, 9480, 5667]\n"
          ],
          "name": "stdout"
        },
        {
          "output_type": "display_data",
          "data": {
            "image/png": "[encoded data removed]",
            "text/plain": [
              "<Figure size 576x288 with 1 Axes>"
            ]
          },
          "metadata": {
            "tags": [],
            "needs_background": "light"
          }
        }
      ]
    },
    {
      "cell_type": "markdown",
      "metadata": {
        "id": "yPgcCz4-_aZe",
        "colab_type": "text"
      },
      "source": [
        "---\n",
        "# **8. CATEGORIES**\n",
        "---\n",
        "There are four quadrants plus 3D called dominance (README.md)"
      ]
    },
    {
      "cell_type": "code",
      "metadata": {
        "id": "dMct0_dz_X9v",
        "colab_type": "code",
        "colab": {}
      },
      "source": [
        "def find_word(word, df, c='word'):\n",
        "    return df[df[c].str.contains(word)]"
      ],
      "execution_count": 77,
      "outputs": []
    },
    {
      "cell_type": "markdown",
      "metadata": {
        "id": "zxV_RI_k_g_u",
        "colab_type": "text"
      },
      "source": [
        "### Confident\n",
        "- confident -> trust\n",
        "- unconfident -> disgust"
      ]
    },
    {
      "cell_type": "code",
      "metadata": {
        "id": "cQnvamuT_hnV",
        "colab_type": "code",
        "colab": {}
      },
      "source": [
        "confident = trust"
      ],
      "execution_count": 78,
      "outputs": []
    },
    {
      "cell_type": "code",
      "metadata": {
        "id": "8W5zAxPy_jAL",
        "colab_type": "code",
        "colab": {}
      },
      "source": [
        "unconfident = disgust"
      ],
      "execution_count": 79,
      "outputs": []
    },
    {
      "cell_type": "code",
      "metadata": {
        "id": "nRitmrFt_jEP",
        "colab_type": "code",
        "colab": {}
      },
      "source": [
        "confident['category'] = 'confident'\n",
        "unconfident['category'] = 'unconfident'\n",
        "\n",
        "# NOTE\n",
        "# this where just based on the Wheel of emotions (R. Plutchik)\n",
        "# as trust and disgust where opposites"
      ],
      "execution_count": 80,
      "outputs": []
    },
    {
      "cell_type": "markdown",
      "metadata": {
        "id": "v2uGpbMR_l4c",
        "colab_type": "text"
      },
      "source": [
        "### Handles pressure\n",
        "In the positive side is included patience, focus and calm\n",
        "- POS : dominance strong + low arousal + positive valence\n",
        "- NEG : dominance weak + high arousal + negative valence"
      ]
    },
    {
      "cell_type": "code",
      "metadata": {
        "id": "mEpQlGyB_mg9",
        "colab_type": "code",
        "colab": {}
      },
      "source": [
        "# Dominance: drop every weak feature\n",
        "pos_hp = fourth_quad\n",
        "pos_hp = pos_hp[(pos_hp['Dominance'] >= midpoint_VAD)]"
      ],
      "execution_count": 81,
      "outputs": []
    },
    {
      "cell_type": "code",
      "metadata": {
        "id": "Dwq1DoPh_ot4",
        "colab_type": "code",
        "colab": {}
      },
      "source": [
        "# opposite quadrante (opposite to IV -> II)\n",
        "neg_hp = second_quad\n",
        "neg_hp = neg_hp[(neg_hp['Dominance'] <= midpoint_VAD)]"
      ],
      "execution_count": 82,
      "outputs": []
    },
    {
      "cell_type": "code",
      "metadata": {
        "id": "R4vT8OBn_pse",
        "colab_type": "code",
        "colab": {}
      },
      "source": [
        "pos_hp['category'] = 'pos hp'\n",
        "neg_hp['category'] = 'neg hp'"
      ],
      "execution_count": 83,
      "outputs": []
    },
    {
      "cell_type": "markdown",
      "metadata": {
        "id": "SftE6pBg_rpt",
        "colab_type": "text"
      },
      "source": [
        "### Organized\n",
        "- POS : anticipation + high arousal + positive valence   \n",
        "- NEG : surprise + low arousal + negative valence"
      ]
    },
    {
      "cell_type": "code",
      "metadata": {
        "id": "u3VhEZv7_sdl",
        "colab_type": "code",
        "colab": {}
      },
      "source": [
        "organized = concat([anticipation, first_quad])"
      ],
      "execution_count": 84,
      "outputs": []
    },
    {
      "cell_type": "code",
      "metadata": {
        "id": "c0MzEZ0T_ssj",
        "colab_type": "code",
        "colab": {}
      },
      "source": [
        "unorganized = concat([surprise, third_quad])"
      ],
      "execution_count": 85,
      "outputs": []
    },
    {
      "cell_type": "code",
      "metadata": {
        "id": "iXmpdVkB_swb",
        "colab_type": "code",
        "colab": {}
      },
      "source": [
        "organized['category'] = 'organized'\n",
        "unorganized['cateogory'] = 'unorgnized'"
      ],
      "execution_count": 86,
      "outputs": []
    },
    {
      "cell_type": "markdown",
      "metadata": {
        "id": "tlLw7oCR_w_N",
        "colab_type": "text"
      },
      "source": [
        "### Interested\n",
        "- POS : [anticipation] + high arousal + positive valence\n",
        "- NEG : [surprise] + low arousal + negative valence"
      ]
    },
    {
      "cell_type": "code",
      "metadata": {
        "id": "Ra5S8XAI_yUu",
        "colab_type": "code",
        "colab": {}
      },
      "source": [
        "interested = anticipation\n",
        "\n",
        "# NOTE\n",
        "# this where just based on the Wheel of emotions (R. Plutchik)\n",
        "# as anticipation and surprise where opposites.\n",
        "# And each events are: \n",
        "# vigilance --> anticipation --> [interest]\n",
        "# amazement --> surprise --> [distraction]"
      ],
      "execution_count": 87,
      "outputs": []
    },
    {
      "cell_type": "code",
      "metadata": {
        "id": "Vymf1xu5_0R4",
        "colab_type": "code",
        "colab": {}
      },
      "source": [
        "uninterested = surprise"
      ],
      "execution_count": 88,
      "outputs": []
    },
    {
      "cell_type": "code",
      "metadata": {
        "id": "APPNRL35_1ce",
        "colab_type": "code",
        "colab": {}
      },
      "source": [
        "interested['category'] = 'interested'\n",
        "uninterested['category'] = 'uninterested'"
      ],
      "execution_count": 89,
      "outputs": []
    },
    {
      "cell_type": "markdown",
      "metadata": {
        "id": "32ZHmbFe_2pJ",
        "colab_type": "text"
      },
      "source": [
        "### Happy\n",
        "- POS : joy + high arousal + positive valence\n",
        "- NEG : sadness + low arousal + negative valence"
      ]
    },
    {
      "cell_type": "code",
      "metadata": {
        "id": "VYs9ZG82_3p2",
        "colab_type": "code",
        "colab": {}
      },
      "source": [
        "happy = joy"
      ],
      "execution_count": 90,
      "outputs": []
    },
    {
      "cell_type": "code",
      "metadata": {
        "id": "0Cs687yr_3tJ",
        "colab_type": "code",
        "colab": {}
      },
      "source": [
        "unhappy = sadness"
      ],
      "execution_count": 91,
      "outputs": []
    },
    {
      "cell_type": "code",
      "metadata": {
        "id": "3NdAXSHF_3vt",
        "colab_type": "code",
        "colab": {}
      },
      "source": [
        "happy['category'] = 'happy'\n",
        "unhappy['category'] = 'unhappy'"
      ],
      "execution_count": 92,
      "outputs": []
    },
    {
      "cell_type": "markdown",
      "metadata": {
        "id": "SeNMqS7k_6_R",
        "colab_type": "text"
      },
      "source": [
        "### Friendly\n",
        "- POS : high arousal + positive valence + (positive) + (joy + trust)\n",
        "- NEG : anger + high arousal + negative valence"
      ]
    },
    {
      "cell_type": "code",
      "metadata": {
        "id": "dNzkxWY5AAU-",
        "colab_type": "code",
        "colab": {}
      },
      "source": [
        "friendly = concat([joy, trust, positive])"
      ],
      "execution_count": 93,
      "outputs": []
    },
    {
      "cell_type": "code",
      "metadata": {
        "id": "VNvil5anACZw",
        "colab_type": "code",
        "colab": {}
      },
      "source": [
        "unfriendly = concat([anger, disgust, negative])"
      ],
      "execution_count": 94,
      "outputs": []
    },
    {
      "cell_type": "code",
      "metadata": {
        "id": "CurwaXo7ACg3",
        "colab_type": "code",
        "colab": {}
      },
      "source": [
        "friendly['category'] = 'friendly'\n",
        "unfriendly['category'] = 'unfriendly'"
      ],
      "execution_count": 95,
      "outputs": []
    },
    {
      "cell_type": "markdown",
      "metadata": {
        "id": "7YPz1mEvAEnI",
        "colab_type": "text"
      },
      "source": [
        "## Dataset"
      ]
    },
    {
      "cell_type": "markdown",
      "metadata": {
        "id": "nNouwHvIAHgd",
        "colab_type": "text"
      },
      "source": [
        "### Concatenating categories dataframe"
      ]
    },
    {
      "cell_type": "code",
      "metadata": {
        "id": "vbbXHg4YAIdA",
        "colab_type": "code",
        "colab": {}
      },
      "source": [
        "categories_datasets = [confident, unconfident, pos_hp, neg_hp, interested, uninterested, happy, unhappy, friendly, unfriendly]\n",
        "df_categories = concat(categories_datasets)"
      ],
      "execution_count": 96,
      "outputs": []
    },
    {
      "cell_type": "code",
      "metadata": {
        "id": "GOFF35C_AJgY",
        "colab_type": "code",
        "colab": {}
      },
      "source": [
        "df_categories.replace(float('NaN'), '--', inplace=True)"
      ],
      "execution_count": 97,
      "outputs": []
    },
    {
      "cell_type": "markdown",
      "metadata": {
        "id": "19WgEjrcALoy",
        "colab_type": "text"
      },
      "source": [
        "### To CSV"
      ]
    },
    {
      "cell_type": "code",
      "metadata": {
        "id": "159BoFHeANcB",
        "colab_type": "code",
        "colab": {}
      },
      "source": [
        "df_categories.to_csv('datasets/categories_dataset.csv', encoding='utf-8', index=True)"
      ],
      "execution_count": 98,
      "outputs": []
    },
    {
      "cell_type": "code",
      "metadata": {
        "id": "2pTl96ayANhr",
        "colab_type": "code",
        "colab": {
          "base_uri": "https://localhost:8080/",
          "height": 34
        },
        "outputId": "de726c7d-0643-43d3-b15a-af3dd95706ba"
      },
      "source": [
        "# drop duplicates: should be for each quadrant\n",
        "# is not an option\n",
        "!mkdir 'test'\n",
        "df_categories_dropdup = df_categories.drop_duplicates(subset=['word'], keep=False, ignore_index=True)\n",
        "df_categories_dropdup.to_csv('test/categories_set.csv', encoding='utf-8', index=False)"
      ],
      "execution_count": 99,
      "outputs": [
        {
          "output_type": "stream",
          "text": [
            "mkdir: cannot create directory ‘test’: File exists\n"
          ],
          "name": "stdout"
        }
      ]
    },
    {
      "cell_type": "code",
      "metadata": {
        "id": "-LeLNpYHANn2",
        "colab_type": "code",
        "colab": {}
      },
      "source": [
        "df_categories_dropdup.to_csv('test/categories_set.csv', encoding='utf-8', index=False)"
      ],
      "execution_count": 100,
      "outputs": []
    },
    {
      "cell_type": "markdown",
      "metadata": {
        "id": "WTYEeVuyATUv",
        "colab_type": "text"
      },
      "source": [
        "## PLOT Categories"
      ]
    },
    {
      "cell_type": "code",
      "metadata": {
        "id": "xiDa2xZ_AXtI",
        "colab_type": "code",
        "colab": {
          "base_uri": "https://localhost:8080/",
          "height": 336
        },
        "outputId": "19e86ff3-cef8-49f1-959d-d9a7a0e001b2"
      },
      "source": [
        "df_categories['category'].value_counts().plot(kind='bar')"
      ],
      "execution_count": 101,
      "outputs": [
        {
          "output_type": "execute_result",
          "data": {
            "text/plain": [
              "<matplotlib.axes._subplots.AxesSubplot at 0x7f975f83a128>"
            ]
          },
          "metadata": {
            "tags": []
          },
          "execution_count": 101
        },
        {
          "output_type": "display_data",
          "data": {
            "image/png": "[encoded data removed]",
            "text/plain": [
              "<Figure size 432x288 with 1 Axes>"
            ]
          },
          "metadata": {
            "tags": [],
            "needs_background": "light"
          }
        }
      ]
    },
    {
      "cell_type": "markdown",
      "metadata": {
        "id": "0ljQguLfAZRg",
        "colab_type": "text"
      },
      "source": [
        "#### POSITIVE"
      ]
    },
    {
      "cell_type": "code",
      "metadata": {
        "id": "_GUIgXKcAa3g",
        "colab_type": "code",
        "colab": {
          "base_uri": "https://localhost:8080/",
          "height": 446
        },
        "outputId": "4412af41-9ee3-4207-eacd-107c871eadae"
      },
      "source": [
        "simple_bar(\n",
        "    x=['confident', 'can hp', 'organized', 'interested', 'happy', 'friendly'],\n",
        "    y=list(map(len, [confident, pos_hp, organized, interested, happy, friendly])),\n",
        "    size=(10, 6)\n",
        ")"
      ],
      "execution_count": 102,
      "outputs": [
        {
          "output_type": "stream",
          "text": [
            "No handles with labels found to put in legend.\n"
          ],
          "name": "stderr"
        },
        {
          "output_type": "display_data",
          "data": {
            "image/png": "[encoded data removed]",
            "text/plain": [
              "<Figure size 720x432 with 1 Axes>"
            ]
          },
          "metadata": {
            "tags": [],
            "needs_background": "light"
          }
        }
      ]
    },
    {
      "cell_type": "markdown",
      "metadata": {
        "id": "0gfRMA2IAcLQ",
        "colab_type": "text"
      },
      "source": [
        "#### NEGETIVE"
      ]
    },
    {
      "cell_type": "code",
      "metadata": {
        "id": "0ohkHaQBAdzm",
        "colab_type": "code",
        "colab": {
          "base_uri": "https://localhost:8080/",
          "height": 459
        },
        "outputId": "be843b23-826f-4ac5-9944-83c82cb53c16"
      },
      "source": [
        "simple_bar(\n",
        "    x=['unconfident', 'cant hp', 'unorganized', 'uninterested', 'unhappy', 'unfriendly'],\n",
        "    y=list(map(len, [unconfident, neg_hp, unorganized, uninterested, unhappy, unfriendly])),\n",
        "    size=(10, 6)\n",
        ")"
      ],
      "execution_count": 103,
      "outputs": [
        {
          "output_type": "stream",
          "text": [
            "No handles with labels found to put in legend.\n"
          ],
          "name": "stderr"
        },
        {
          "output_type": "display_data",
          "data": {
            "image/png": "[encoded data removed]",
            "text/plain": [
              "<Figure size 720x432 with 1 Axes>"
            ]
          },
          "metadata": {
            "tags": [],
            "needs_background": "light"
          }
        }
      ]
    },
    {
      "cell_type": "markdown",
      "metadata": {
        "id": "2-DiLDN73P2J",
        "colab_type": "text"
      },
      "source": [
        "# POS (Part Of the Speech)\n",
        "- using POS from stanza and nltk treebank\n",
        "- then comparing the results"
      ]
    },
    {
      "cell_type": "markdown",
      "metadata": {
        "id": "dKuoCjRm5MmL",
        "colab_type": "text"
      },
      "source": [
        "## Stanza POS"
      ]
    },
    {
      "cell_type": "code",
      "metadata": {
        "id": "jEmngvMU2wF7",
        "colab_type": "code",
        "colab": {}
      },
      "source": [
        "df = df_categories"
      ],
      "execution_count": 104,
      "outputs": []
    },
    {
      "cell_type": "code",
      "metadata": {
        "id": "TMTe84Mo22i9",
        "colab_type": "code",
        "colab": {}
      },
      "source": [
        "def stanza_pos(text):\n",
        "    doc = stNLP(text)\n",
        "    for sent in doc.sentences:\n",
        "        for word in sent.words:\n",
        "            return word.upos"
      ],
      "execution_count": 105,
      "outputs": []
    },
    {
      "cell_type": "code",
      "metadata": {
        "id": "n-ihQZ7L3W7Z",
        "colab_type": "code",
        "colab": {}
      },
      "source": [
        "df.replace('', float('NaN'), inplace=True)\n",
        "df.dropna(subset=['word'], inplace=True)"
      ],
      "execution_count": 106,
      "outputs": []
    },
    {
      "cell_type": "code",
      "metadata": {
        "id": "9mAnJlWa3rxD",
        "colab_type": "code",
        "colab": {}
      },
      "source": [
        "df['POS stza'] = df['word'].apply(lambda x: stanza_pos(text=x))"
      ],
      "execution_count": 107,
      "outputs": []
    },
    {
      "cell_type": "markdown",
      "metadata": {
        "id": "1jRzH20U5Qc2",
        "colab_type": "text"
      },
      "source": [
        "## NLTK treebank POS"
      ]
    },
    {
      "cell_type": "code",
      "metadata": {
        "id": "WiShh2Mb6fnV",
        "colab_type": "code",
        "colab": {}
      },
      "source": [
        "def nltk_pos(text):\n",
        "    # assuming pos_tag comes in as capital letters i.e. 'JJR' or 'NN'\n",
        "    tag_dict = {\"J\": \"ADJ\",\n",
        "                \"N\": \"NOUN\",\n",
        "                \"V\": \"VERB\",\n",
        "                \"R\": \"ADV\"}\n",
        "                \n",
        "    token = word_tokenize(text)\n",
        "    pos_tag = (nltk.pos_tag(token)[0])[1]\n",
        "\n",
        "    # returns NOUN if the pos_tag[0] doesn't exist in tag_dict\n",
        "    return tag_dict.get(pos_tag[0], 'NOUN') "
      ],
      "execution_count": 108,
      "outputs": []
    },
    {
      "cell_type": "code",
      "metadata": {
        "id": "ezjQrWjFC-lz",
        "colab_type": "code",
        "colab": {}
      },
      "source": [
        "df['POS nlkt'] = df['word'].apply(lambda x: nltk_pos(text=x))"
      ],
      "execution_count": 109,
      "outputs": []
    },
    {
      "cell_type": "markdown",
      "metadata": {
        "id": "SinE7r8IzSmG",
        "colab_type": "text"
      },
      "source": [
        "## Spacy POS"
      ]
    },
    {
      "cell_type": "code",
      "metadata": {
        "id": "BX8QzqXchjcG",
        "colab_type": "code",
        "colab": {}
      },
      "source": [
        "def spacy_pos(text):\n",
        "    for token in spNLP(text):\n",
        "        return token.pos_"
      ],
      "execution_count": 110,
      "outputs": []
    },
    {
      "cell_type": "code",
      "metadata": {
        "id": "NMlmfaMRz23U",
        "colab_type": "code",
        "colab": {}
      },
      "source": [
        "df['POS spcy'] = df['word'].apply(lambda x: spacy_pos(x))"
      ],
      "execution_count": null,
      "outputs": []
    },
    {
      "cell_type": "code",
      "metadata": {
        "id": "U85tbj1cWdIS",
        "colab_type": "code",
        "colab": {}
      },
      "source": [
        "df_aux = df"
      ],
      "execution_count": 134,
      "outputs": []
    },
    {
      "cell_type": "code",
      "metadata": {
        "id": "F8lSmZ86FHqm",
        "colab_type": "code",
        "colab": {}
      },
      "source": [
        "df.drop(columns='Unnamed: 0', inplace=True)"
      ],
      "execution_count": 130,
      "outputs": []
    },
    {
      "cell_type": "code",
      "metadata": {
        "id": "OBc00O79XOg6",
        "colab_type": "code",
        "colab": {
          "base_uri": "https://localhost:8080/",
          "height": 419
        },
        "outputId": "0082c8d1-7ec2-418d-d0c4-ef78f0171f55"
      },
      "source": [
        "df"
      ],
      "execution_count": 133,
      "outputs": [
        {
          "output_type": "execute_result",
          "data": {
            "text/html": [
              "<div>\n",
              "<style scoped>\n",
              "    .dataframe tbody tr th:only-of-type {\n",
              "        vertical-align: middle;\n",
              "    }\n",
              "\n",
              "    .dataframe tbody tr th {\n",
              "        vertical-align: top;\n",
              "    }\n",
              "\n",
              "    .dataframe thead th {\n",
              "        text-align: right;\n",
              "    }\n",
              "</style>\n",
              "<table border=\"1\" class=\"dataframe\">\n",
              "  <thead>\n",
              "    <tr style=\"text-align: right;\">\n",
              "      <th></th>\n",
              "      <th>category</th>\n",
              "      <th>word</th>\n",
              "      <th>score</th>\n",
              "      <th>Compound</th>\n",
              "      <th>Subjectivity</th>\n",
              "      <th>Stanza</th>\n",
              "      <th>Flair</th>\n",
              "      <th>Valence</th>\n",
              "      <th>Arousal</th>\n",
              "      <th>Dominance</th>\n",
              "      <th>quadrant</th>\n",
              "      <th>POS stza</th>\n",
              "      <th>POS nlkt</th>\n",
              "      <th>POS spcy</th>\n",
              "    </tr>\n",
              "  </thead>\n",
              "  <tbody>\n",
              "    <tr>\n",
              "      <th>0</th>\n",
              "      <td>confident</td>\n",
              "      <td>tolerance</td>\n",
              "      <td>2.63114</td>\n",
              "      <td>0.2960</td>\n",
              "      <td>0.0</td>\n",
              "      <td>1.0</td>\n",
              "      <td>NEGATIVE</td>\n",
              "      <td>0.888</td>\n",
              "      <td>0.547</td>\n",
              "      <td>0.741</td>\n",
              "      <td>0.0</td>\n",
              "      <td>NOUN</td>\n",
              "      <td>NOUN</td>\n",
              "      <td>NOUN</td>\n",
              "    </tr>\n",
              "    <tr>\n",
              "      <th>1</th>\n",
              "      <td>confident</td>\n",
              "      <td>carry</td>\n",
              "      <td>0.46205</td>\n",
              "      <td>0.0000</td>\n",
              "      <td>0.0</td>\n",
              "      <td>1.0</td>\n",
              "      <td>POSITIVE</td>\n",
              "      <td>0.888</td>\n",
              "      <td>0.547</td>\n",
              "      <td>0.741</td>\n",
              "      <td>0.0</td>\n",
              "      <td>VERB</td>\n",
              "      <td>NOUN</td>\n",
              "      <td>VERB</td>\n",
              "    </tr>\n",
              "    <tr>\n",
              "      <th>2</th>\n",
              "      <td>confident</td>\n",
              "      <td>tranquility</td>\n",
              "      <td>1</td>\n",
              "      <td>0.4215</td>\n",
              "      <td>0.0</td>\n",
              "      <td>2.0</td>\n",
              "      <td>POSITIVE</td>\n",
              "      <td>0.888</td>\n",
              "      <td>0.547</td>\n",
              "      <td>0.741</td>\n",
              "      <td>0.0</td>\n",
              "      <td>NOUN</td>\n",
              "      <td>NOUN</td>\n",
              "      <td>NOUN</td>\n",
              "    </tr>\n",
              "    <tr>\n",
              "      <th>3</th>\n",
              "      <td>confident</td>\n",
              "      <td>socontagious</td>\n",
              "      <td>2.68913</td>\n",
              "      <td>0.0000</td>\n",
              "      <td>0.0</td>\n",
              "      <td>1.0</td>\n",
              "      <td>POSITIVE</td>\n",
              "      <td>0.888</td>\n",
              "      <td>0.547</td>\n",
              "      <td>0.741</td>\n",
              "      <td>0.0</td>\n",
              "      <td>ADJ</td>\n",
              "      <td>ADJ</td>\n",
              "      <td>ADJ</td>\n",
              "    </tr>\n",
              "    <tr>\n",
              "      <th>4</th>\n",
              "      <td>confident</td>\n",
              "      <td>zeal</td>\n",
              "      <td>1</td>\n",
              "      <td>0.0000</td>\n",
              "      <td>0.0</td>\n",
              "      <td>2.0</td>\n",
              "      <td>NEGATIVE</td>\n",
              "      <td>0.888</td>\n",
              "      <td>0.547</td>\n",
              "      <td>0.741</td>\n",
              "      <td>0.0</td>\n",
              "      <td>NOUN</td>\n",
              "      <td>NOUN</td>\n",
              "      <td>PROPN</td>\n",
              "    </tr>\n",
              "    <tr>\n",
              "      <th>...</th>\n",
              "      <td>...</td>\n",
              "      <td>...</td>\n",
              "      <td>...</td>\n",
              "      <td>...</td>\n",
              "      <td>...</td>\n",
              "      <td>...</td>\n",
              "      <td>...</td>\n",
              "      <td>...</td>\n",
              "      <td>...</td>\n",
              "      <td>...</td>\n",
              "      <td>...</td>\n",
              "      <td>...</td>\n",
              "      <td>...</td>\n",
              "      <td>...</td>\n",
              "    </tr>\n",
              "    <tr>\n",
              "      <th>89812</th>\n",
              "      <td>unfriendly</td>\n",
              "      <td>aftermath</td>\n",
              "      <td>1</td>\n",
              "      <td>0.0000</td>\n",
              "      <td>0.0</td>\n",
              "      <td>0.0</td>\n",
              "      <td>POSITIVE</td>\n",
              "      <td>0.102</td>\n",
              "      <td>0.527</td>\n",
              "      <td>0.176</td>\n",
              "      <td>0.0</td>\n",
              "      <td>NOUN</td>\n",
              "      <td>NOUN</td>\n",
              "      <td>PROPN</td>\n",
              "    </tr>\n",
              "    <tr>\n",
              "      <th>89813</th>\n",
              "      <td>unfriendly</td>\n",
              "      <td>weakened</td>\n",
              "      <td>1</td>\n",
              "      <td>-0.3182</td>\n",
              "      <td>0.0</td>\n",
              "      <td>0.0</td>\n",
              "      <td>NEGATIVE</td>\n",
              "      <td>0.102</td>\n",
              "      <td>0.527</td>\n",
              "      <td>0.176</td>\n",
              "      <td>0.0</td>\n",
              "      <td>VERB</td>\n",
              "      <td>VERB</td>\n",
              "      <td>VERB</td>\n",
              "    </tr>\n",
              "    <tr>\n",
              "      <th>89814</th>\n",
              "      <td>unfriendly</td>\n",
              "      <td>imprudent</td>\n",
              "      <td>1</td>\n",
              "      <td>0.0000</td>\n",
              "      <td>0.0</td>\n",
              "      <td>0.0</td>\n",
              "      <td>NEGATIVE</td>\n",
              "      <td>0.102</td>\n",
              "      <td>0.527</td>\n",
              "      <td>0.176</td>\n",
              "      <td>0.0</td>\n",
              "      <td>ADJ</td>\n",
              "      <td>NOUN</td>\n",
              "      <td>NOUN</td>\n",
              "    </tr>\n",
              "    <tr>\n",
              "      <th>89815</th>\n",
              "      <td>unfriendly</td>\n",
              "      <td>refuse</td>\n",
              "      <td>1</td>\n",
              "      <td>-0.2960</td>\n",
              "      <td>0.0</td>\n",
              "      <td>1.0</td>\n",
              "      <td>NEGATIVE</td>\n",
              "      <td>0.102</td>\n",
              "      <td>0.527</td>\n",
              "      <td>0.176</td>\n",
              "      <td>0.0</td>\n",
              "      <td>VERB</td>\n",
              "      <td>NOUN</td>\n",
              "      <td>VERB</td>\n",
              "    </tr>\n",
              "    <tr>\n",
              "      <th>89816</th>\n",
              "      <td>unfriendly</td>\n",
              "      <td>punishing</td>\n",
              "      <td>1</td>\n",
              "      <td>-0.5574</td>\n",
              "      <td>0.0</td>\n",
              "      <td>1.0</td>\n",
              "      <td>NEGATIVE</td>\n",
              "      <td>0.102</td>\n",
              "      <td>0.527</td>\n",
              "      <td>0.176</td>\n",
              "      <td>0.0</td>\n",
              "      <td>VERB</td>\n",
              "      <td>VERB</td>\n",
              "      <td>VERB</td>\n",
              "    </tr>\n",
              "  </tbody>\n",
              "</table>\n",
              "<p>89815 rows × 14 columns</p>\n",
              "</div>"
            ],
            "text/plain": [
              "         category          word    score  ...  POS stza  POS nlkt  POS spcy\n",
              "0       confident     tolerance  2.63114  ...      NOUN      NOUN      NOUN\n",
              "1       confident         carry  0.46205  ...      VERB      NOUN      VERB\n",
              "2       confident   tranquility        1  ...      NOUN      NOUN      NOUN\n",
              "3       confident  socontagious  2.68913  ...       ADJ       ADJ       ADJ\n",
              "4       confident          zeal        1  ...      NOUN      NOUN     PROPN\n",
              "...           ...           ...      ...  ...       ...       ...       ...\n",
              "89812  unfriendly     aftermath        1  ...      NOUN      NOUN     PROPN\n",
              "89813  unfriendly      weakened        1  ...      VERB      VERB      VERB\n",
              "89814  unfriendly     imprudent        1  ...       ADJ      NOUN      NOUN\n",
              "89815  unfriendly        refuse        1  ...      VERB      NOUN      VERB\n",
              "89816  unfriendly     punishing        1  ...      VERB      VERB      VERB\n",
              "\n",
              "[89815 rows x 14 columns]"
            ]
          },
          "metadata": {
            "tags": []
          },
          "execution_count": 133
        }
      ]
    },
    {
      "cell_type": "markdown",
      "metadata": {
        "id": "W7R4w46k0FTG",
        "colab_type": "text"
      },
      "source": [
        "---\n",
        "# **Final output**\n",
        "---"
      ]
    },
    {
      "cell_type": "code",
      "metadata": {
        "id": "Nr5AYADd0D-e",
        "colab_type": "code",
        "colab": {
          "base_uri": "https://localhost:8080/",
          "height": 34
        },
        "outputId": "e630462b-a749-4fd0-ba54-f57fb622137d"
      },
      "source": [
        "# checking for nan values & filling them with 0\n",
        "if [i for i in (df.isnull()) if i == True] != []:\n",
        "    df.fillna(value=0)\n",
        "else:\n",
        "    print('No NaN values found')"
      ],
      "execution_count": 152,
      "outputs": [
        {
          "output_type": "stream",
          "text": [
            "No NaN values found\n"
          ],
          "name": "stdout"
        }
      ]
    },
    {
      "cell_type": "code",
      "metadata": {
        "id": "3HCHRkM3GQTc",
        "colab_type": "code",
        "colab": {}
      },
      "source": [
        "df.replace('--', 0, inplace=True)"
      ],
      "execution_count": 153,
      "outputs": []
    },
    {
      "cell_type": "code",
      "metadata": {
        "id": "m3AWIMp1B02l",
        "colab_type": "code",
        "colab": {}
      },
      "source": [
        "# Changing all float numbers using only two decimals \n",
        "df['score'] = df['score'].apply(lambda x: round(float(x), 2))\n",
        "df['Compound'] = df['Compound'].apply(lambda x: round(float(x), 2))\n",
        "df['Subjectivity'] = df['Subjectivity'].apply(lambda x: round(float(x), 2))\n",
        "df['Valence'] = df['Valence'].apply(lambda x: round(float(x), 2))\n",
        "df['Arousal'] = df['Arousal'].apply(lambda x: round(float(x), 2))\n",
        "df['Dominance'] = df['Dominance'].apply(lambda x: round(float(x), 2))"
      ],
      "execution_count": 162,
      "outputs": []
    },
    {
      "cell_type": "code",
      "metadata": {
        "id": "mJWtkvhyXh__",
        "colab_type": "code",
        "colab": {
          "base_uri": "https://localhost:8080/",
          "height": 419
        },
        "outputId": "11251d4c-e5c2-41b2-84ad-1cbb9b0b6b4a"
      },
      "source": [
        "df"
      ],
      "execution_count": 163,
      "outputs": [
        {
          "output_type": "execute_result",
          "data": {
            "text/html": [
              "<div>\n",
              "<style scoped>\n",
              "    .dataframe tbody tr th:only-of-type {\n",
              "        vertical-align: middle;\n",
              "    }\n",
              "\n",
              "    .dataframe tbody tr th {\n",
              "        vertical-align: top;\n",
              "    }\n",
              "\n",
              "    .dataframe thead th {\n",
              "        text-align: right;\n",
              "    }\n",
              "</style>\n",
              "<table border=\"1\" class=\"dataframe\">\n",
              "  <thead>\n",
              "    <tr style=\"text-align: right;\">\n",
              "      <th></th>\n",
              "      <th>category</th>\n",
              "      <th>word</th>\n",
              "      <th>score</th>\n",
              "      <th>Compound</th>\n",
              "      <th>Subjectivity</th>\n",
              "      <th>Stanza</th>\n",
              "      <th>Flair</th>\n",
              "      <th>Valence</th>\n",
              "      <th>Arousal</th>\n",
              "      <th>Dominance</th>\n",
              "      <th>quadrant</th>\n",
              "      <th>POS stza</th>\n",
              "      <th>POS nlkt</th>\n",
              "      <th>POS spcy</th>\n",
              "    </tr>\n",
              "  </thead>\n",
              "  <tbody>\n",
              "    <tr>\n",
              "      <th>0</th>\n",
              "      <td>confident</td>\n",
              "      <td>tolerance</td>\n",
              "      <td>2.63</td>\n",
              "      <td>0.30</td>\n",
              "      <td>0.0</td>\n",
              "      <td>1.0</td>\n",
              "      <td>NEGATIVE</td>\n",
              "      <td>0.89</td>\n",
              "      <td>0.55</td>\n",
              "      <td>0.74</td>\n",
              "      <td>0.0</td>\n",
              "      <td>NOUN</td>\n",
              "      <td>NOUN</td>\n",
              "      <td>NOUN</td>\n",
              "    </tr>\n",
              "    <tr>\n",
              "      <th>1</th>\n",
              "      <td>confident</td>\n",
              "      <td>carry</td>\n",
              "      <td>0.46</td>\n",
              "      <td>0.00</td>\n",
              "      <td>0.0</td>\n",
              "      <td>1.0</td>\n",
              "      <td>POSITIVE</td>\n",
              "      <td>0.89</td>\n",
              "      <td>0.55</td>\n",
              "      <td>0.74</td>\n",
              "      <td>0.0</td>\n",
              "      <td>VERB</td>\n",
              "      <td>NOUN</td>\n",
              "      <td>VERB</td>\n",
              "    </tr>\n",
              "    <tr>\n",
              "      <th>2</th>\n",
              "      <td>confident</td>\n",
              "      <td>tranquility</td>\n",
              "      <td>1.00</td>\n",
              "      <td>0.42</td>\n",
              "      <td>0.0</td>\n",
              "      <td>2.0</td>\n",
              "      <td>POSITIVE</td>\n",
              "      <td>0.89</td>\n",
              "      <td>0.55</td>\n",
              "      <td>0.74</td>\n",
              "      <td>0.0</td>\n",
              "      <td>NOUN</td>\n",
              "      <td>NOUN</td>\n",
              "      <td>NOUN</td>\n",
              "    </tr>\n",
              "    <tr>\n",
              "      <th>3</th>\n",
              "      <td>confident</td>\n",
              "      <td>socontagious</td>\n",
              "      <td>2.69</td>\n",
              "      <td>0.00</td>\n",
              "      <td>0.0</td>\n",
              "      <td>1.0</td>\n",
              "      <td>POSITIVE</td>\n",
              "      <td>0.89</td>\n",
              "      <td>0.55</td>\n",
              "      <td>0.74</td>\n",
              "      <td>0.0</td>\n",
              "      <td>ADJ</td>\n",
              "      <td>ADJ</td>\n",
              "      <td>ADJ</td>\n",
              "    </tr>\n",
              "    <tr>\n",
              "      <th>4</th>\n",
              "      <td>confident</td>\n",
              "      <td>zeal</td>\n",
              "      <td>1.00</td>\n",
              "      <td>0.00</td>\n",
              "      <td>0.0</td>\n",
              "      <td>2.0</td>\n",
              "      <td>NEGATIVE</td>\n",
              "      <td>0.89</td>\n",
              "      <td>0.55</td>\n",
              "      <td>0.74</td>\n",
              "      <td>0.0</td>\n",
              "      <td>NOUN</td>\n",
              "      <td>NOUN</td>\n",
              "      <td>PROPN</td>\n",
              "    </tr>\n",
              "    <tr>\n",
              "      <th>...</th>\n",
              "      <td>...</td>\n",
              "      <td>...</td>\n",
              "      <td>...</td>\n",
              "      <td>...</td>\n",
              "      <td>...</td>\n",
              "      <td>...</td>\n",
              "      <td>...</td>\n",
              "      <td>...</td>\n",
              "      <td>...</td>\n",
              "      <td>...</td>\n",
              "      <td>...</td>\n",
              "      <td>...</td>\n",
              "      <td>...</td>\n",
              "      <td>...</td>\n",
              "    </tr>\n",
              "    <tr>\n",
              "      <th>89812</th>\n",
              "      <td>unfriendly</td>\n",
              "      <td>aftermath</td>\n",
              "      <td>1.00</td>\n",
              "      <td>0.00</td>\n",
              "      <td>0.0</td>\n",
              "      <td>0.0</td>\n",
              "      <td>POSITIVE</td>\n",
              "      <td>0.10</td>\n",
              "      <td>0.53</td>\n",
              "      <td>0.18</td>\n",
              "      <td>0.0</td>\n",
              "      <td>NOUN</td>\n",
              "      <td>NOUN</td>\n",
              "      <td>PROPN</td>\n",
              "    </tr>\n",
              "    <tr>\n",
              "      <th>89813</th>\n",
              "      <td>unfriendly</td>\n",
              "      <td>weakened</td>\n",
              "      <td>1.00</td>\n",
              "      <td>-0.32</td>\n",
              "      <td>0.0</td>\n",
              "      <td>0.0</td>\n",
              "      <td>NEGATIVE</td>\n",
              "      <td>0.10</td>\n",
              "      <td>0.53</td>\n",
              "      <td>0.18</td>\n",
              "      <td>0.0</td>\n",
              "      <td>VERB</td>\n",
              "      <td>VERB</td>\n",
              "      <td>VERB</td>\n",
              "    </tr>\n",
              "    <tr>\n",
              "      <th>89814</th>\n",
              "      <td>unfriendly</td>\n",
              "      <td>imprudent</td>\n",
              "      <td>1.00</td>\n",
              "      <td>0.00</td>\n",
              "      <td>0.0</td>\n",
              "      <td>0.0</td>\n",
              "      <td>NEGATIVE</td>\n",
              "      <td>0.10</td>\n",
              "      <td>0.53</td>\n",
              "      <td>0.18</td>\n",
              "      <td>0.0</td>\n",
              "      <td>ADJ</td>\n",
              "      <td>NOUN</td>\n",
              "      <td>NOUN</td>\n",
              "    </tr>\n",
              "    <tr>\n",
              "      <th>89815</th>\n",
              "      <td>unfriendly</td>\n",
              "      <td>refuse</td>\n",
              "      <td>1.00</td>\n",
              "      <td>-0.30</td>\n",
              "      <td>0.0</td>\n",
              "      <td>1.0</td>\n",
              "      <td>NEGATIVE</td>\n",
              "      <td>0.10</td>\n",
              "      <td>0.53</td>\n",
              "      <td>0.18</td>\n",
              "      <td>0.0</td>\n",
              "      <td>VERB</td>\n",
              "      <td>NOUN</td>\n",
              "      <td>VERB</td>\n",
              "    </tr>\n",
              "    <tr>\n",
              "      <th>89816</th>\n",
              "      <td>unfriendly</td>\n",
              "      <td>punishing</td>\n",
              "      <td>1.00</td>\n",
              "      <td>-0.56</td>\n",
              "      <td>0.0</td>\n",
              "      <td>1.0</td>\n",
              "      <td>NEGATIVE</td>\n",
              "      <td>0.10</td>\n",
              "      <td>0.53</td>\n",
              "      <td>0.18</td>\n",
              "      <td>0.0</td>\n",
              "      <td>VERB</td>\n",
              "      <td>VERB</td>\n",
              "      <td>VERB</td>\n",
              "    </tr>\n",
              "  </tbody>\n",
              "</table>\n",
              "<p>89815 rows × 14 columns</p>\n",
              "</div>"
            ],
            "text/plain": [
              "         category          word  score  ...  POS stza  POS nlkt  POS spcy\n",
              "0       confident     tolerance   2.63  ...      NOUN      NOUN      NOUN\n",
              "1       confident         carry   0.46  ...      VERB      NOUN      VERB\n",
              "2       confident   tranquility   1.00  ...      NOUN      NOUN      NOUN\n",
              "3       confident  socontagious   2.69  ...       ADJ       ADJ       ADJ\n",
              "4       confident          zeal   1.00  ...      NOUN      NOUN     PROPN\n",
              "...           ...           ...    ...  ...       ...       ...       ...\n",
              "89812  unfriendly     aftermath   1.00  ...      NOUN      NOUN     PROPN\n",
              "89813  unfriendly      weakened   1.00  ...      VERB      VERB      VERB\n",
              "89814  unfriendly     imprudent   1.00  ...       ADJ      NOUN      NOUN\n",
              "89815  unfriendly        refuse   1.00  ...      VERB      NOUN      VERB\n",
              "89816  unfriendly     punishing   1.00  ...      VERB      VERB      VERB\n",
              "\n",
              "[89815 rows x 14 columns]"
            ]
          },
          "metadata": {
            "tags": []
          },
          "execution_count": 163
        }
      ]
    },
    {
      "cell_type": "markdown",
      "metadata": {
        "id": "ssNvHVqb0NPR",
        "colab_type": "text"
      },
      "source": [
        "## to csv"
      ]
    },
    {
      "cell_type": "code",
      "metadata": {
        "id": "RSpWdpHW3_ww",
        "colab_type": "code",
        "colab": {}
      },
      "source": [
        "df.to_csv('categories_dataset.csv', encoding='utf-8', index=True)"
      ],
      "execution_count": 165,
      "outputs": []
    }
  ]
}