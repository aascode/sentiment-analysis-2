{
  "nbformat": 4,
  "nbformat_minor": 0,
  "metadata": {
    "colab": {
      "name": "preprocessing.ipynb",
      "provenance": [],
      "collapsed_sections": [],
      "machine_shape": "hm"
    },
    "kernelspec": {
      "name": "python3",
      "display_name": "Python 3"
    },
    "accelerator": "GPU",
    "widgets": {
      "application/vnd.jupyter.widget-state+json": {
        "a62ea971a1454619997056803d867353": {
          "model_module": "@jupyter-widgets/controls",
          "model_name": "HBoxModel",
          "state": {
            "_view_name": "HBoxView",
            "_dom_classes": [],
            "_model_name": "HBoxModel",
            "_view_module": "@jupyter-widgets/controls",
            "_model_module_version": "1.5.0",
            "_view_count": null,
            "_view_module_version": "1.5.0",
            "box_style": "",
            "layout": "IPY_MODEL_be3cc664c16e47d5b7690ac22851e463",
            "_model_module": "@jupyter-widgets/controls",
            "children": [
              "IPY_MODEL_3ade9668161d4d69820d3c2466d15b4f",
              "IPY_MODEL_a455cb98392141a8947603866b8453d1"
            ]
          }
        },
        "be3cc664c16e47d5b7690ac22851e463": {
          "model_module": "@jupyter-widgets/base",
          "model_name": "LayoutModel",
          "state": {
            "_view_name": "LayoutView",
            "grid_template_rows": null,
            "right": null,
            "justify_content": null,
            "_view_module": "@jupyter-widgets/base",
            "overflow": null,
            "_model_module_version": "1.2.0",
            "_view_count": null,
            "flex_flow": null,
            "width": null,
            "min_width": null,
            "border": null,
            "align_items": null,
            "bottom": null,
            "_model_module": "@jupyter-widgets/base",
            "top": null,
            "grid_column": null,
            "overflow_y": null,
            "overflow_x": null,
            "grid_auto_flow": null,
            "grid_area": null,
            "grid_template_columns": null,
            "flex": null,
            "_model_name": "LayoutModel",
            "justify_items": null,
            "grid_row": null,
            "max_height": null,
            "align_content": null,
            "visibility": null,
            "align_self": null,
            "height": null,
            "min_height": null,
            "padding": null,
            "grid_auto_rows": null,
            "grid_gap": null,
            "max_width": null,
            "order": null,
            "_view_module_version": "1.2.0",
            "grid_template_areas": null,
            "object_position": null,
            "object_fit": null,
            "grid_auto_columns": null,
            "margin": null,
            "display": null,
            "left": null
          }
        },
        "3ade9668161d4d69820d3c2466d15b4f": {
          "model_module": "@jupyter-widgets/controls",
          "model_name": "FloatProgressModel",
          "state": {
            "_view_name": "ProgressView",
            "style": "IPY_MODEL_75643a929bdb49aaa3e70a4fed1b025f",
            "_dom_classes": [],
            "description": "Downloading: 100%",
            "_model_name": "FloatProgressModel",
            "bar_style": "success",
            "max": 442,
            "_view_module": "@jupyter-widgets/controls",
            "_model_module_version": "1.5.0",
            "value": 442,
            "_view_count": null,
            "_view_module_version": "1.5.0",
            "orientation": "horizontal",
            "min": 0,
            "description_tooltip": null,
            "_model_module": "@jupyter-widgets/controls",
            "layout": "IPY_MODEL_0895596628d247e486f2c6365805086d"
          }
        },
        "a455cb98392141a8947603866b8453d1": {
          "model_module": "@jupyter-widgets/controls",
          "model_name": "HTMLModel",
          "state": {
            "_view_name": "HTMLView",
            "style": "IPY_MODEL_b8ed7a16cce547b7bed818518d161ff2",
            "_dom_classes": [],
            "description": "",
            "_model_name": "HTMLModel",
            "placeholder": "​",
            "_view_module": "@jupyter-widgets/controls",
            "_model_module_version": "1.5.0",
            "value": " 442/442 [00:00&lt;00:00, 3.67kB/s]",
            "_view_count": null,
            "_view_module_version": "1.5.0",
            "description_tooltip": null,
            "_model_module": "@jupyter-widgets/controls",
            "layout": "IPY_MODEL_acd9118fad4d45039e246e7f2779ff1c"
          }
        },
        "75643a929bdb49aaa3e70a4fed1b025f": {
          "model_module": "@jupyter-widgets/controls",
          "model_name": "ProgressStyleModel",
          "state": {
            "_view_name": "StyleView",
            "_model_name": "ProgressStyleModel",
            "description_width": "initial",
            "_view_module": "@jupyter-widgets/base",
            "_model_module_version": "1.5.0",
            "_view_count": null,
            "_view_module_version": "1.2.0",
            "bar_color": null,
            "_model_module": "@jupyter-widgets/controls"
          }
        },
        "0895596628d247e486f2c6365805086d": {
          "model_module": "@jupyter-widgets/base",
          "model_name": "LayoutModel",
          "state": {
            "_view_name": "LayoutView",
            "grid_template_rows": null,
            "right": null,
            "justify_content": null,
            "_view_module": "@jupyter-widgets/base",
            "overflow": null,
            "_model_module_version": "1.2.0",
            "_view_count": null,
            "flex_flow": null,
            "width": null,
            "min_width": null,
            "border": null,
            "align_items": null,
            "bottom": null,
            "_model_module": "@jupyter-widgets/base",
            "top": null,
            "grid_column": null,
            "overflow_y": null,
            "overflow_x": null,
            "grid_auto_flow": null,
            "grid_area": null,
            "grid_template_columns": null,
            "flex": null,
            "_model_name": "LayoutModel",
            "justify_items": null,
            "grid_row": null,
            "max_height": null,
            "align_content": null,
            "visibility": null,
            "align_self": null,
            "height": null,
            "min_height": null,
            "padding": null,
            "grid_auto_rows": null,
            "grid_gap": null,
            "max_width": null,
            "order": null,
            "_view_module_version": "1.2.0",
            "grid_template_areas": null,
            "object_position": null,
            "object_fit": null,
            "grid_auto_columns": null,
            "margin": null,
            "display": null,
            "left": null
          }
        },
        "b8ed7a16cce547b7bed818518d161ff2": {
          "model_module": "@jupyter-widgets/controls",
          "model_name": "DescriptionStyleModel",
          "state": {
            "_view_name": "StyleView",
            "_model_name": "DescriptionStyleModel",
            "description_width": "",
            "_view_module": "@jupyter-widgets/base",
            "_model_module_version": "1.5.0",
            "_view_count": null,
            "_view_module_version": "1.2.0",
            "_model_module": "@jupyter-widgets/controls"
          }
        },
        "acd9118fad4d45039e246e7f2779ff1c": {
          "model_module": "@jupyter-widgets/base",
          "model_name": "LayoutModel",
          "state": {
            "_view_name": "LayoutView",
            "grid_template_rows": null,
            "right": null,
            "justify_content": null,
            "_view_module": "@jupyter-widgets/base",
            "overflow": null,
            "_model_module_version": "1.2.0",
            "_view_count": null,
            "flex_flow": null,
            "width": null,
            "min_width": null,
            "border": null,
            "align_items": null,
            "bottom": null,
            "_model_module": "@jupyter-widgets/base",
            "top": null,
            "grid_column": null,
            "overflow_y": null,
            "overflow_x": null,
            "grid_auto_flow": null,
            "grid_area": null,
            "grid_template_columns": null,
            "flex": null,
            "_model_name": "LayoutModel",
            "justify_items": null,
            "grid_row": null,
            "max_height": null,
            "align_content": null,
            "visibility": null,
            "align_self": null,
            "height": null,
            "min_height": null,
            "padding": null,
            "grid_auto_rows": null,
            "grid_gap": null,
            "max_width": null,
            "order": null,
            "_view_module_version": "1.2.0",
            "grid_template_areas": null,
            "object_position": null,
            "object_fit": null,
            "grid_auto_columns": null,
            "margin": null,
            "display": null,
            "left": null
          }
        },
        "06836b06212b4e2b817579860c287502": {
          "model_module": "@jupyter-widgets/controls",
          "model_name": "HBoxModel",
          "state": {
            "_view_name": "HBoxView",
            "_dom_classes": [],
            "_model_name": "HBoxModel",
            "_view_module": "@jupyter-widgets/controls",
            "_model_module_version": "1.5.0",
            "_view_count": null,
            "_view_module_version": "1.5.0",
            "box_style": "",
            "layout": "IPY_MODEL_cf085ded06084686b4ac4080fad28d20",
            "_model_module": "@jupyter-widgets/controls",
            "children": [
              "IPY_MODEL_b4bdd862dd334368bbd5c9561ee86864",
              "IPY_MODEL_8bfa0bb226c144d5a78e8b5faee77c1a"
            ]
          }
        },
        "cf085ded06084686b4ac4080fad28d20": {
          "model_module": "@jupyter-widgets/base",
          "model_name": "LayoutModel",
          "state": {
            "_view_name": "LayoutView",
            "grid_template_rows": null,
            "right": null,
            "justify_content": null,
            "_view_module": "@jupyter-widgets/base",
            "overflow": null,
            "_model_module_version": "1.2.0",
            "_view_count": null,
            "flex_flow": null,
            "width": null,
            "min_width": null,
            "border": null,
            "align_items": null,
            "bottom": null,
            "_model_module": "@jupyter-widgets/base",
            "top": null,
            "grid_column": null,
            "overflow_y": null,
            "overflow_x": null,
            "grid_auto_flow": null,
            "grid_area": null,
            "grid_template_columns": null,
            "flex": null,
            "_model_name": "LayoutModel",
            "justify_items": null,
            "grid_row": null,
            "max_height": null,
            "align_content": null,
            "visibility": null,
            "align_self": null,
            "height": null,
            "min_height": null,
            "padding": null,
            "grid_auto_rows": null,
            "grid_gap": null,
            "max_width": null,
            "order": null,
            "_view_module_version": "1.2.0",
            "grid_template_areas": null,
            "object_position": null,
            "object_fit": null,
            "grid_auto_columns": null,
            "margin": null,
            "display": null,
            "left": null
          }
        },
        "b4bdd862dd334368bbd5c9561ee86864": {
          "model_module": "@jupyter-widgets/controls",
          "model_name": "FloatProgressModel",
          "state": {
            "_view_name": "ProgressView",
            "style": "IPY_MODEL_7bb502a67ce7474b9acff4c301b3b038",
            "_dom_classes": [],
            "description": "Downloading: 100%",
            "_model_name": "FloatProgressModel",
            "bar_style": "success",
            "max": 231508,
            "_view_module": "@jupyter-widgets/controls",
            "_model_module_version": "1.5.0",
            "value": 231508,
            "_view_count": null,
            "_view_module_version": "1.5.0",
            "orientation": "horizontal",
            "min": 0,
            "description_tooltip": null,
            "_model_module": "@jupyter-widgets/controls",
            "layout": "IPY_MODEL_94437bde649b46658278716b92fc2b1a"
          }
        },
        "8bfa0bb226c144d5a78e8b5faee77c1a": {
          "model_module": "@jupyter-widgets/controls",
          "model_name": "HTMLModel",
          "state": {
            "_view_name": "HTMLView",
            "style": "IPY_MODEL_315a8843fe1247f19166d0355f12b8d2",
            "_dom_classes": [],
            "description": "",
            "_model_name": "HTMLModel",
            "placeholder": "​",
            "_view_module": "@jupyter-widgets/controls",
            "_model_module_version": "1.5.0",
            "value": " 232k/232k [00:00&lt;00:00, 2.60MB/s]",
            "_view_count": null,
            "_view_module_version": "1.5.0",
            "description_tooltip": null,
            "_model_module": "@jupyter-widgets/controls",
            "layout": "IPY_MODEL_3866f4e1165e49d99984a5c2abe4fd07"
          }
        },
        "7bb502a67ce7474b9acff4c301b3b038": {
          "model_module": "@jupyter-widgets/controls",
          "model_name": "ProgressStyleModel",
          "state": {
            "_view_name": "StyleView",
            "_model_name": "ProgressStyleModel",
            "description_width": "initial",
            "_view_module": "@jupyter-widgets/base",
            "_model_module_version": "1.5.0",
            "_view_count": null,
            "_view_module_version": "1.2.0",
            "bar_color": null,
            "_model_module": "@jupyter-widgets/controls"
          }
        },
        "94437bde649b46658278716b92fc2b1a": {
          "model_module": "@jupyter-widgets/base",
          "model_name": "LayoutModel",
          "state": {
            "_view_name": "LayoutView",
            "grid_template_rows": null,
            "right": null,
            "justify_content": null,
            "_view_module": "@jupyter-widgets/base",
            "overflow": null,
            "_model_module_version": "1.2.0",
            "_view_count": null,
            "flex_flow": null,
            "width": null,
            "min_width": null,
            "border": null,
            "align_items": null,
            "bottom": null,
            "_model_module": "@jupyter-widgets/base",
            "top": null,
            "grid_column": null,
            "overflow_y": null,
            "overflow_x": null,
            "grid_auto_flow": null,
            "grid_area": null,
            "grid_template_columns": null,
            "flex": null,
            "_model_name": "LayoutModel",
            "justify_items": null,
            "grid_row": null,
            "max_height": null,
            "align_content": null,
            "visibility": null,
            "align_self": null,
            "height": null,
            "min_height": null,
            "padding": null,
            "grid_auto_rows": null,
            "grid_gap": null,
            "max_width": null,
            "order": null,
            "_view_module_version": "1.2.0",
            "grid_template_areas": null,
            "object_position": null,
            "object_fit": null,
            "grid_auto_columns": null,
            "margin": null,
            "display": null,
            "left": null
          }
        },
        "315a8843fe1247f19166d0355f12b8d2": {
          "model_module": "@jupyter-widgets/controls",
          "model_name": "DescriptionStyleModel",
          "state": {
            "_view_name": "StyleView",
            "_model_name": "DescriptionStyleModel",
            "description_width": "",
            "_view_module": "@jupyter-widgets/base",
            "_model_module_version": "1.5.0",
            "_view_count": null,
            "_view_module_version": "1.2.0",
            "_model_module": "@jupyter-widgets/controls"
          }
        },
        "3866f4e1165e49d99984a5c2abe4fd07": {
          "model_module": "@jupyter-widgets/base",
          "model_name": "LayoutModel",
          "state": {
            "_view_name": "LayoutView",
            "grid_template_rows": null,
            "right": null,
            "justify_content": null,
            "_view_module": "@jupyter-widgets/base",
            "overflow": null,
            "_model_module_version": "1.2.0",
            "_view_count": null,
            "flex_flow": null,
            "width": null,
            "min_width": null,
            "border": null,
            "align_items": null,
            "bottom": null,
            "_model_module": "@jupyter-widgets/base",
            "top": null,
            "grid_column": null,
            "overflow_y": null,
            "overflow_x": null,
            "grid_auto_flow": null,
            "grid_area": null,
            "grid_template_columns": null,
            "flex": null,
            "_model_name": "LayoutModel",
            "justify_items": null,
            "grid_row": null,
            "max_height": null,
            "align_content": null,
            "visibility": null,
            "align_self": null,
            "height": null,
            "min_height": null,
            "padding": null,
            "grid_auto_rows": null,
            "grid_gap": null,
            "max_width": null,
            "order": null,
            "_view_module_version": "1.2.0",
            "grid_template_areas": null,
            "object_position": null,
            "object_fit": null,
            "grid_auto_columns": null,
            "margin": null,
            "display": null,
            "left": null
          }
        }
      }
    }
  },
  "cells": [
    {
      "cell_type": "markdown",
      "metadata": {
        "id": "w353yY988zcS"
      },
      "source": [
        "---\n",
        "# **1. Insallations**\n",
        "---"
      ]
    },
    {
      "cell_type": "code",
      "metadata": {
        "id": "7OC5blIe830j",
        "outputId": "a5e063a0-19a4-45a9-afab-0703d12a0122",
        "colab": {
          "base_uri": "https://localhost:8080/",
          "height": 1000
        }
      },
      "source": [
        "!pip install nltk\n",
        "!pip install --upgrade git+https://github.com/flairNLP/flair.git\n",
        "!pip install textblob\n",
        "!pip install stanza\n",
        "!pip install spacy\n",
        "!pip install tqdm"
      ],
      "execution_count": 1,
      "outputs": [
        {
          "output_type": "stream",
          "text": [
            "Requirement already satisfied: nltk in /usr/local/lib/python3.6/dist-packages (3.2.5)\n",
            "Requirement already satisfied: six in /usr/local/lib/python3.6/dist-packages (from nltk) (1.15.0)\n",
            "Collecting git+https://github.com/flairNLP/flair.git\n",
            "  Cloning https://github.com/flairNLP/flair.git to /tmp/pip-req-build-esa7h6sc\n",
            "  Running command git clone -q https://github.com/flairNLP/flair.git /tmp/pip-req-build-esa7h6sc\n",
            "  Installing build dependencies ... \u001b[?25l\u001b[?25hdone\n",
            "  Getting requirements to build wheel ... \u001b[?25l\u001b[?25hdone\n",
            "    Preparing wheel metadata ... \u001b[?25l\u001b[?25hdone\n",
            "Collecting bpemb>=0.3.2\n",
            "  Downloading https://files.pythonhosted.org/packages/91/77/3f0f53856e86af32b1d3c86652815277f7b5f880002584eb30db115b6df5/bpemb-0.3.2-py3-none-any.whl\n",
            "Collecting langdetect\n",
            "\u001b[?25l  Downloading https://files.pythonhosted.org/packages/56/a3/8407c1e62d5980188b4acc45ef3d94b933d14a2ebc9ef3505f22cf772570/langdetect-1.0.8.tar.gz (981kB)\n",
            "\u001b[K     |████████████████████████████████| 983kB 4.0MB/s \n",
            "\u001b[?25hCollecting transformers>=3.0.0\n",
            "\u001b[?25l  Downloading https://files.pythonhosted.org/packages/19/22/aff234f4a841f8999e68a7a94bdd4b60b4cebcfeca5d67d61cd08c9179de/transformers-3.3.1-py3-none-any.whl (1.1MB)\n",
            "\u001b[K     |████████████████████████████████| 1.1MB 17.0MB/s \n",
            "\u001b[?25hRequirement already satisfied, skipping upgrade: tabulate in /usr/local/lib/python3.6/dist-packages (from flair==0.6.1) (0.8.7)\n",
            "Collecting sentencepiece!=0.1.92\n",
            "\u001b[?25l  Downloading https://files.pythonhosted.org/packages/d4/a4/d0a884c4300004a78cca907a6ff9a5e9fe4f090f5d95ab341c53d28cbc58/sentencepiece-0.1.91-cp36-cp36m-manylinux1_x86_64.whl (1.1MB)\n",
            "\u001b[K     |████████████████████████████████| 1.1MB 19.5MB/s \n",
            "\u001b[?25hCollecting deprecated>=1.2.4\n",
            "  Downloading https://files.pythonhosted.org/packages/76/a1/05d7f62f956d77b23a640efc650f80ce24483aa2f85a09c03fb64f49e879/Deprecated-1.2.10-py2.py3-none-any.whl\n",
            "Collecting sqlitedict>=1.6.0\n",
            "  Downloading https://files.pythonhosted.org/packages/5c/2d/b1d99e9ad157dd7de9cd0d36a8a5876b13b55e4b75f7498bc96035fb4e96/sqlitedict-1.7.0.tar.gz\n",
            "Collecting segtok>=1.5.7\n",
            "  Downloading https://files.pythonhosted.org/packages/41/08/582dab5f4b1d5ca23bc6927b4bb977c8ff7f3a87a3b98844ef833e2f5623/segtok-1.5.10.tar.gz\n",
            "Requirement already satisfied, skipping upgrade: matplotlib>=2.2.3 in /usr/local/lib/python3.6/dist-packages (from flair==0.6.1) (3.2.2)\n",
            "Requirement already satisfied, skipping upgrade: regex in /usr/local/lib/python3.6/dist-packages (from flair==0.6.1) (2019.12.20)\n",
            "Collecting janome\n",
            "\u001b[?25l  Downloading https://files.pythonhosted.org/packages/a8/63/98858cbead27df7536c7e300c169da0999e9704d02220dc6700b804eeff0/Janome-0.4.1-py2.py3-none-any.whl (19.7MB)\n",
            "\u001b[K     |████████████████████████████████| 19.7MB 156kB/s \n",
            "\u001b[?25hCollecting konoha<5.0.0,>=4.0.0\n",
            "  Downloading https://files.pythonhosted.org/packages/ea/01/47358efec5396fc80f98273c42cbdfe7aab056252b07884ffcc0f118978f/konoha-4.6.2-py3-none-any.whl\n",
            "Requirement already satisfied, skipping upgrade: python-dateutil>=2.6.1 in /usr/local/lib/python3.6/dist-packages (from flair==0.6.1) (2.8.1)\n",
            "Collecting mpld3==0.3\n",
            "\u001b[?25l  Downloading https://files.pythonhosted.org/packages/91/95/a52d3a83d0a29ba0d6898f6727e9858fe7a43f6c2ce81a5fe7e05f0f4912/mpld3-0.3.tar.gz (788kB)\n",
            "\u001b[K     |████████████████████████████████| 798kB 56.2MB/s \n",
            "\u001b[?25hCollecting ftfy\n",
            "\u001b[?25l  Downloading https://files.pythonhosted.org/packages/ff/e2/3b51c53dffb1e52d9210ebc01f1fb9f2f6eba9b3201fa971fd3946643c71/ftfy-5.8.tar.gz (64kB)\n",
            "\u001b[K     |████████████████████████████████| 71kB 8.3MB/s \n",
            "\u001b[?25hRequirement already satisfied, skipping upgrade: scikit-learn>=0.21.3 in /usr/local/lib/python3.6/dist-packages (from flair==0.6.1) (0.22.2.post1)\n",
            "Requirement already satisfied, skipping upgrade: tqdm>=4.26.0 in /usr/local/lib/python3.6/dist-packages (from flair==0.6.1) (4.41.1)\n",
            "Requirement already satisfied, skipping upgrade: torch>=1.1.0 in /usr/local/lib/python3.6/dist-packages (from flair==0.6.1) (1.6.0+cu101)\n",
            "Requirement already satisfied, skipping upgrade: gdown in /usr/local/lib/python3.6/dist-packages (from flair==0.6.1) (3.6.4)\n",
            "Requirement already satisfied, skipping upgrade: hyperopt>=0.1.1 in /usr/local/lib/python3.6/dist-packages (from flair==0.6.1) (0.1.2)\n",
            "Requirement already satisfied, skipping upgrade: lxml in /usr/local/lib/python3.6/dist-packages (from flair==0.6.1) (4.2.6)\n",
            "Requirement already satisfied, skipping upgrade: gensim>=3.4.0 in /usr/local/lib/python3.6/dist-packages (from flair==0.6.1) (3.6.0)\n",
            "Collecting pytest>=5.3.2\n",
            "\u001b[?25l  Downloading https://files.pythonhosted.org/packages/d6/36/9e022b76a3ac440e1d750c64fa6152469f988efe0c568b945e396e2693b5/pytest-6.1.1-py3-none-any.whl (272kB)\n",
            "\u001b[K     |████████████████████████████████| 276kB 46.6MB/s \n",
            "\u001b[?25hRequirement already satisfied, skipping upgrade: numpy in /usr/local/lib/python3.6/dist-packages (from bpemb>=0.3.2->flair==0.6.1) (1.18.5)\n",
            "Requirement already satisfied, skipping upgrade: requests in /usr/local/lib/python3.6/dist-packages (from bpemb>=0.3.2->flair==0.6.1) (2.23.0)\n",
            "Requirement already satisfied, skipping upgrade: six in /usr/local/lib/python3.6/dist-packages (from langdetect->flair==0.6.1) (1.15.0)\n",
            "Collecting tokenizers==0.8.1.rc2\n",
            "\u001b[?25l  Downloading https://files.pythonhosted.org/packages/80/83/8b9fccb9e48eeb575ee19179e2bdde0ee9a1904f97de5f02d19016b8804f/tokenizers-0.8.1rc2-cp36-cp36m-manylinux1_x86_64.whl (3.0MB)\n",
            "\u001b[K     |████████████████████████████████| 3.0MB 42.9MB/s \n",
            "\u001b[?25hCollecting sacremoses\n",
            "\u001b[?25l  Downloading https://files.pythonhosted.org/packages/7d/34/09d19aff26edcc8eb2a01bed8e98f13a1537005d31e95233fd48216eed10/sacremoses-0.0.43.tar.gz (883kB)\n",
            "\u001b[K     |████████████████████████████████| 890kB 44.9MB/s \n",
            "\u001b[?25hRequirement already satisfied, skipping upgrade: dataclasses; python_version < \"3.7\" in /usr/local/lib/python3.6/dist-packages (from transformers>=3.0.0->flair==0.6.1) (0.7)\n",
            "Requirement already satisfied, skipping upgrade: packaging in /usr/local/lib/python3.6/dist-packages (from transformers>=3.0.0->flair==0.6.1) (20.4)\n",
            "Requirement already satisfied, skipping upgrade: filelock in /usr/local/lib/python3.6/dist-packages (from transformers>=3.0.0->flair==0.6.1) (3.0.12)\n",
            "Requirement already satisfied, skipping upgrade: wrapt<2,>=1.10 in /usr/local/lib/python3.6/dist-packages (from deprecated>=1.2.4->flair==0.6.1) (1.12.1)\n",
            "Requirement already satisfied, skipping upgrade: kiwisolver>=1.0.1 in /usr/local/lib/python3.6/dist-packages (from matplotlib>=2.2.3->flair==0.6.1) (1.2.0)\n",
            "Requirement already satisfied, skipping upgrade: pyparsing!=2.0.4,!=2.1.2,!=2.1.6,>=2.0.1 in /usr/local/lib/python3.6/dist-packages (from matplotlib>=2.2.3->flair==0.6.1) (2.4.7)\n",
            "Requirement already satisfied, skipping upgrade: cycler>=0.10 in /usr/local/lib/python3.6/dist-packages (from matplotlib>=2.2.3->flair==0.6.1) (0.10.0)\n",
            "Collecting overrides==3.0.0\n",
            "  Downloading https://files.pythonhosted.org/packages/42/8d/caa729f809ecdf8e76fac3c1ff7d3f0b72c398c9dd8a6919927a30a873b3/overrides-3.0.0.tar.gz\n",
            "Requirement already satisfied, skipping upgrade: wcwidth in /usr/local/lib/python3.6/dist-packages (from ftfy->flair==0.6.1) (0.2.5)\n",
            "Requirement already satisfied, skipping upgrade: joblib>=0.11 in /usr/local/lib/python3.6/dist-packages (from scikit-learn>=0.21.3->flair==0.6.1) (0.16.0)\n",
            "Requirement already satisfied, skipping upgrade: scipy>=0.17.0 in /usr/local/lib/python3.6/dist-packages (from scikit-learn>=0.21.3->flair==0.6.1) (1.4.1)\n",
            "Requirement already satisfied, skipping upgrade: future in /usr/local/lib/python3.6/dist-packages (from torch>=1.1.0->flair==0.6.1) (0.16.0)\n",
            "Requirement already satisfied, skipping upgrade: pymongo in /usr/local/lib/python3.6/dist-packages (from hyperopt>=0.1.1->flair==0.6.1) (3.11.0)\n",
            "Requirement already satisfied, skipping upgrade: networkx in /usr/local/lib/python3.6/dist-packages (from hyperopt>=0.1.1->flair==0.6.1) (2.5)\n",
            "Requirement already satisfied, skipping upgrade: smart-open>=1.2.1 in /usr/local/lib/python3.6/dist-packages (from gensim>=3.4.0->flair==0.6.1) (2.2.0)\n",
            "Collecting pluggy<1.0,>=0.12\n",
            "  Downloading https://files.pythonhosted.org/packages/a0/28/85c7aa31b80d150b772fbe4a229487bc6644da9ccb7e427dd8cc60cb8a62/pluggy-0.13.1-py2.py3-none-any.whl\n",
            "Requirement already satisfied, skipping upgrade: toml in /usr/local/lib/python3.6/dist-packages (from pytest>=5.3.2->flair==0.6.1) (0.10.1)\n",
            "Requirement already satisfied, skipping upgrade: iniconfig in /usr/local/lib/python3.6/dist-packages (from pytest>=5.3.2->flair==0.6.1) (1.0.1)\n",
            "Requirement already satisfied, skipping upgrade: py>=1.8.2 in /usr/local/lib/python3.6/dist-packages (from pytest>=5.3.2->flair==0.6.1) (1.9.0)\n",
            "Requirement already satisfied, skipping upgrade: importlib-metadata>=0.12; python_version < \"3.8\" in /usr/local/lib/python3.6/dist-packages (from pytest>=5.3.2->flair==0.6.1) (2.0.0)\n",
            "Requirement already satisfied, skipping upgrade: attrs>=17.4.0 in /usr/local/lib/python3.6/dist-packages (from pytest>=5.3.2->flair==0.6.1) (20.2.0)\n",
            "Requirement already satisfied, skipping upgrade: idna<3,>=2.5 in /usr/local/lib/python3.6/dist-packages (from requests->bpemb>=0.3.2->flair==0.6.1) (2.10)\n",
            "Requirement already satisfied, skipping upgrade: chardet<4,>=3.0.2 in /usr/local/lib/python3.6/dist-packages (from requests->bpemb>=0.3.2->flair==0.6.1) (3.0.4)\n",
            "Requirement already satisfied, skipping upgrade: certifi>=2017.4.17 in /usr/local/lib/python3.6/dist-packages (from requests->bpemb>=0.3.2->flair==0.6.1) (2020.6.20)\n",
            "Requirement already satisfied, skipping upgrade: urllib3!=1.25.0,!=1.25.1,<1.26,>=1.21.1 in /usr/local/lib/python3.6/dist-packages (from requests->bpemb>=0.3.2->flair==0.6.1) (1.24.3)\n",
            "Requirement already satisfied, skipping upgrade: click in /usr/local/lib/python3.6/dist-packages (from sacremoses->transformers>=3.0.0->flair==0.6.1) (7.1.2)\n",
            "Requirement already satisfied, skipping upgrade: decorator>=4.3.0 in /usr/local/lib/python3.6/dist-packages (from networkx->hyperopt>=0.1.1->flair==0.6.1) (4.4.2)\n",
            "Requirement already satisfied, skipping upgrade: zipp>=0.5 in /usr/local/lib/python3.6/dist-packages (from importlib-metadata>=0.12; python_version < \"3.8\"->pytest>=5.3.2->flair==0.6.1) (3.2.0)\n",
            "Building wheels for collected packages: flair\n",
            "  Building wheel for flair (PEP 517) ... \u001b[?25l\u001b[?25hdone\n",
            "  Created wheel for flair: filename=flair-0.6.1-cp36-none-any.whl size=201257 sha256=09c26df05f69c12da38a008ed8e99bd477019908d6b8920fdd31cad85d88553d\n",
            "  Stored in directory: /tmp/pip-ephem-wheel-cache-ltmeeek_/wheels/84/82/73/d2b3b59b7be74ea05f2c6d64132efe27df52daffb47d1dc7bb\n",
            "Successfully built flair\n",
            "Building wheels for collected packages: langdetect, sqlitedict, segtok, mpld3, ftfy, sacremoses, overrides\n",
            "  Building wheel for langdetect (setup.py) ... \u001b[?25l\u001b[?25hdone\n",
            "  Created wheel for langdetect: filename=langdetect-1.0.8-cp36-none-any.whl size=993195 sha256=d6e57ab947b2eb8d7942e5abd1b58ff8006e9312cd6a33e41a8700f78b51000d\n",
            "  Stored in directory: /root/.cache/pip/wheels/8d/b3/aa/6d99de9f3841d7d3d40a60ea06e6d669e8e5012e6c8b947a57\n",
            "  Building wheel for sqlitedict (setup.py) ... \u001b[?25l\u001b[?25hdone\n",
            "  Created wheel for sqlitedict: filename=sqlitedict-1.7.0-cp36-none-any.whl size=14377 sha256=e387d71cb8a8aca2461ef106400a6633a1f8d7f99d15a4f99f3204d681ade25c\n",
            "  Stored in directory: /root/.cache/pip/wheels/cf/c6/4f/2c64a43f041415eb8b8740bd80e15e92f0d46c5e464d8e4b9b\n",
            "  Building wheel for segtok (setup.py) ... \u001b[?25l\u001b[?25hdone\n",
            "  Created wheel for segtok: filename=segtok-1.5.10-cp36-none-any.whl size=25021 sha256=24ba51b64b95cad1ca9f395c06453a0c3e3e8651fa714c79c8e19487c9a64869\n",
            "  Stored in directory: /root/.cache/pip/wheels/b4/39/f6/9ca1c5cabde964d728023b5751c3a206a5c8cc40252321fb6b\n",
            "  Building wheel for mpld3 (setup.py) ... \u001b[?25l\u001b[?25hdone\n",
            "  Created wheel for mpld3: filename=mpld3-0.3-cp36-none-any.whl size=116677 sha256=b43279df59366a151b1ba60b928ce602ba8a13feaacc5518fea240842146c051\n",
            "  Stored in directory: /root/.cache/pip/wheels/c0/47/fb/8a64f89aecfe0059830479308ad42d62e898a3e3cefdf6ba28\n",
            "  Building wheel for ftfy (setup.py) ... \u001b[?25l\u001b[?25hdone\n",
            "  Created wheel for ftfy: filename=ftfy-5.8-cp36-none-any.whl size=45612 sha256=a382b532c9da8bd5217a0efc2b9b53e07c296e38fd0d8981bfee4b57f472d538\n",
            "  Stored in directory: /root/.cache/pip/wheels/ba/c0/ef/f28c4da5ac84a4e06ac256ca9182fc34fa57fefffdbc68425b\n",
            "  Building wheel for sacremoses (setup.py) ... \u001b[?25l\u001b[?25hdone\n",
            "  Created wheel for sacremoses: filename=sacremoses-0.0.43-cp36-none-any.whl size=893257 sha256=a906eabe9f7f15a549eb049a506a3d0c556371fd64d59a83b34a1b1f5cb43691\n",
            "  Stored in directory: /root/.cache/pip/wheels/29/3c/fd/7ce5c3f0666dab31a50123635e6fb5e19ceb42ce38d4e58f45\n",
            "  Building wheel for overrides (setup.py) ... \u001b[?25l\u001b[?25hdone\n",
            "  Created wheel for overrides: filename=overrides-3.0.0-cp36-none-any.whl size=5669 sha256=28f1a51701177196df8d5acf55e6c89f848b93c9e1135d8ae7aaf1602db03333\n",
            "  Stored in directory: /root/.cache/pip/wheels/6f/1b/ec/6c71a1eb823df7f850d956b2d8c50a6d49c191e1063d73b9be\n",
            "Successfully built langdetect sqlitedict segtok mpld3 ftfy sacremoses overrides\n",
            "\u001b[31mERROR: datascience 0.10.6 has requirement folium==0.2.1, but you'll have folium 0.8.3 which is incompatible.\u001b[0m\n",
            "Installing collected packages: sentencepiece, bpemb, langdetect, tokenizers, sacremoses, transformers, deprecated, sqlitedict, segtok, janome, overrides, konoha, mpld3, ftfy, pluggy, pytest, flair\n",
            "  Found existing installation: pluggy 0.7.1\n",
            "    Uninstalling pluggy-0.7.1:\n",
            "      Successfully uninstalled pluggy-0.7.1\n",
            "  Found existing installation: pytest 3.6.4\n",
            "    Uninstalling pytest-3.6.4:\n",
            "      Successfully uninstalled pytest-3.6.4\n",
            "Successfully installed bpemb-0.3.2 deprecated-1.2.10 flair-0.6.1 ftfy-5.8 janome-0.4.1 konoha-4.6.2 langdetect-1.0.8 mpld3-0.3 overrides-3.0.0 pluggy-0.13.1 pytest-6.1.1 sacremoses-0.0.43 segtok-1.5.10 sentencepiece-0.1.91 sqlitedict-1.7.0 tokenizers-0.8.1rc2 transformers-3.3.1\n",
            "Requirement already satisfied: textblob in /usr/local/lib/python3.6/dist-packages (0.15.3)\n",
            "Requirement already satisfied: nltk>=3.1 in /usr/local/lib/python3.6/dist-packages (from textblob) (3.2.5)\n",
            "Requirement already satisfied: six in /usr/local/lib/python3.6/dist-packages (from nltk>=3.1->textblob) (1.15.0)\n",
            "Collecting stanza\n",
            "\u001b[?25l  Downloading https://files.pythonhosted.org/packages/e7/8b/3a9e7a8d8cb14ad6afffc3983b7a7322a3a24d94ebc978a70746fcffc085/stanza-1.1.1-py3-none-any.whl (227kB)\n",
            "\u001b[K     |████████████████████████████████| 235kB 2.9MB/s \n",
            "\u001b[?25hRequirement already satisfied: numpy in /usr/local/lib/python3.6/dist-packages (from stanza) (1.18.5)\n",
            "Requirement already satisfied: torch>=1.3.0 in /usr/local/lib/python3.6/dist-packages (from stanza) (1.6.0+cu101)\n",
            "Requirement already satisfied: requests in /usr/local/lib/python3.6/dist-packages (from stanza) (2.23.0)\n",
            "Requirement already satisfied: tqdm in /usr/local/lib/python3.6/dist-packages (from stanza) (4.41.1)\n",
            "Requirement already satisfied: protobuf in /usr/local/lib/python3.6/dist-packages (from stanza) (3.12.4)\n",
            "Requirement already satisfied: future in /usr/local/lib/python3.6/dist-packages (from torch>=1.3.0->stanza) (0.16.0)\n",
            "Requirement already satisfied: idna<3,>=2.5 in /usr/local/lib/python3.6/dist-packages (from requests->stanza) (2.10)\n",
            "Requirement already satisfied: chardet<4,>=3.0.2 in /usr/local/lib/python3.6/dist-packages (from requests->stanza) (3.0.4)\n",
            "Requirement already satisfied: certifi>=2017.4.17 in /usr/local/lib/python3.6/dist-packages (from requests->stanza) (2020.6.20)\n",
            "Requirement already satisfied: urllib3!=1.25.0,!=1.25.1,<1.26,>=1.21.1 in /usr/local/lib/python3.6/dist-packages (from requests->stanza) (1.24.3)\n",
            "Requirement already satisfied: six>=1.9 in /usr/local/lib/python3.6/dist-packages (from protobuf->stanza) (1.15.0)\n",
            "Requirement already satisfied: setuptools in /usr/local/lib/python3.6/dist-packages (from protobuf->stanza) (50.3.0)\n",
            "Installing collected packages: stanza\n",
            "Successfully installed stanza-1.1.1\n",
            "Requirement already satisfied: spacy in /usr/local/lib/python3.6/dist-packages (2.2.4)\n",
            "Requirement already satisfied: cymem<2.1.0,>=2.0.2 in /usr/local/lib/python3.6/dist-packages (from spacy) (2.0.3)\n",
            "Requirement already satisfied: wasabi<1.1.0,>=0.4.0 in /usr/local/lib/python3.6/dist-packages (from spacy) (0.8.0)\n",
            "Requirement already satisfied: catalogue<1.1.0,>=0.0.7 in /usr/local/lib/python3.6/dist-packages (from spacy) (1.0.0)\n",
            "Requirement already satisfied: setuptools in /usr/local/lib/python3.6/dist-packages (from spacy) (50.3.0)\n",
            "Requirement already satisfied: tqdm<5.0.0,>=4.38.0 in /usr/local/lib/python3.6/dist-packages (from spacy) (4.41.1)\n",
            "Requirement already satisfied: blis<0.5.0,>=0.4.0 in /usr/local/lib/python3.6/dist-packages (from spacy) (0.4.1)\n",
            "Requirement already satisfied: srsly<1.1.0,>=1.0.2 in /usr/local/lib/python3.6/dist-packages (from spacy) (1.0.2)\n",
            "Requirement already satisfied: numpy>=1.15.0 in /usr/local/lib/python3.6/dist-packages (from spacy) (1.18.5)\n",
            "Requirement already satisfied: thinc==7.4.0 in /usr/local/lib/python3.6/dist-packages (from spacy) (7.4.0)\n",
            "Requirement already satisfied: plac<1.2.0,>=0.9.6 in /usr/local/lib/python3.6/dist-packages (from spacy) (1.1.3)\n",
            "Requirement already satisfied: requests<3.0.0,>=2.13.0 in /usr/local/lib/python3.6/dist-packages (from spacy) (2.23.0)\n",
            "Requirement already satisfied: murmurhash<1.1.0,>=0.28.0 in /usr/local/lib/python3.6/dist-packages (from spacy) (1.0.2)\n",
            "Requirement already satisfied: preshed<3.1.0,>=3.0.2 in /usr/local/lib/python3.6/dist-packages (from spacy) (3.0.2)\n",
            "Requirement already satisfied: importlib-metadata>=0.20; python_version < \"3.8\" in /usr/local/lib/python3.6/dist-packages (from catalogue<1.1.0,>=0.0.7->spacy) (2.0.0)\n",
            "Requirement already satisfied: chardet<4,>=3.0.2 in /usr/local/lib/python3.6/dist-packages (from requests<3.0.0,>=2.13.0->spacy) (3.0.4)\n",
            "Requirement already satisfied: idna<3,>=2.5 in /usr/local/lib/python3.6/dist-packages (from requests<3.0.0,>=2.13.0->spacy) (2.10)\n",
            "Requirement already satisfied: urllib3!=1.25.0,!=1.25.1,<1.26,>=1.21.1 in /usr/local/lib/python3.6/dist-packages (from requests<3.0.0,>=2.13.0->spacy) (1.24.3)\n",
            "Requirement already satisfied: certifi>=2017.4.17 in /usr/local/lib/python3.6/dist-packages (from requests<3.0.0,>=2.13.0->spacy) (2020.6.20)\n",
            "Requirement already satisfied: zipp>=0.5 in /usr/local/lib/python3.6/dist-packages (from importlib-metadata>=0.20; python_version < \"3.8\"->catalogue<1.1.0,>=0.0.7->spacy) (3.2.0)\n",
            "Requirement already satisfied: tqdm in /usr/local/lib/python3.6/dist-packages (4.41.1)\n"
          ],
          "name": "stdout"
        }
      ]
    },
    {
      "cell_type": "markdown",
      "metadata": {
        "id": "WM7NAGcS8mNK"
      },
      "source": [
        "---\n",
        "# **2. Imports**\n",
        "---"
      ]
    },
    {
      "cell_type": "code",
      "metadata": {
        "id": "Otdq_8rX8s66"
      },
      "source": [
        "import re\n",
        "import logging\n",
        "import requests\n",
        "import io\n",
        "import pandas as pd\n",
        "pd.options.mode.chained_assignment = None # default='warn'\n",
        "\n",
        "import numpy as np\n",
        "import matplotlib.pyplot as plt\n",
        "from collections import Counter\n",
        "from tqdm import tqdm\n",
        "from time import sleep"
      ],
      "execution_count": 131,
      "outputs": []
    },
    {
      "cell_type": "code",
      "metadata": {
        "id": "jmVedaAL9Du4"
      },
      "source": [
        "from textblob import TextBlob"
      ],
      "execution_count": 3,
      "outputs": []
    },
    {
      "cell_type": "code",
      "metadata": {
        "id": "jHggb6Hq9FWU",
        "outputId": "4b0674e5-b0f6-42de-e8b8-119bab4c9a53",
        "colab": {
          "base_uri": "https://localhost:8080/",
          "height": 200,
          "referenced_widgets": [
            "a62ea971a1454619997056803d867353",
            "be3cc664c16e47d5b7690ac22851e463",
            "3ade9668161d4d69820d3c2466d15b4f",
            "a455cb98392141a8947603866b8453d1",
            "75643a929bdb49aaa3e70a4fed1b025f",
            "0895596628d247e486f2c6365805086d",
            "b8ed7a16cce547b7bed818518d161ff2",
            "acd9118fad4d45039e246e7f2779ff1c",
            "06836b06212b4e2b817579860c287502",
            "cf085ded06084686b4ac4080fad28d20",
            "b4bdd862dd334368bbd5c9561ee86864",
            "8bfa0bb226c144d5a78e8b5faee77c1a",
            "7bb502a67ce7474b9acff4c301b3b038",
            "94437bde649b46658278716b92fc2b1a",
            "315a8843fe1247f19166d0355f12b8d2",
            "3866f4e1165e49d99984a5c2abe4fd07"
          ]
        }
      },
      "source": [
        "import flair\n",
        "flair_sent = flair.models.TextClassifier.load('en-sentiment')"
      ],
      "execution_count": 4,
      "outputs": [
        {
          "output_type": "stream",
          "text": [
            "2020-10-07 00:28:18,515 https://nlp.informatik.hu-berlin.de/resources/models/sentiment-curated-distilbert/sentiment-en-mix-distillbert_3.1.pt not found in cache, downloading to /tmp/tmpyrp2fitn\n"
          ],
          "name": "stdout"
        },
        {
          "output_type": "stream",
          "text": [
            "100%|██████████| 266147697/266147697 [00:11<00:00, 22392681.04B/s]"
          ],
          "name": "stderr"
        },
        {
          "output_type": "stream",
          "text": [
            "2020-10-07 00:28:30,756 copying /tmp/tmpyrp2fitn to cache at /root/.flair/models/sentiment-en-mix-distillbert_3.1.pt\n"
          ],
          "name": "stdout"
        },
        {
          "output_type": "stream",
          "text": [
            "\n"
          ],
          "name": "stderr"
        },
        {
          "output_type": "stream",
          "text": [
            "2020-10-07 00:28:31,529 removing temp file /tmp/tmpyrp2fitn\n",
            "2020-10-07 00:28:31,564 loading file /root/.flair/models/sentiment-en-mix-distillbert_3.1.pt\n"
          ],
          "name": "stdout"
        },
        {
          "output_type": "display_data",
          "data": {
            "application/vnd.jupyter.widget-view+json": {
              "model_id": "a62ea971a1454619997056803d867353",
              "version_minor": 0,
              "version_major": 2
            },
            "text/plain": [
              "HBox(children=(FloatProgress(value=0.0, description='Downloading', max=442.0, style=ProgressStyle(description_…"
            ]
          },
          "metadata": {
            "tags": []
          }
        },
        {
          "output_type": "stream",
          "text": [
            "\n"
          ],
          "name": "stdout"
        },
        {
          "output_type": "display_data",
          "data": {
            "application/vnd.jupyter.widget-view+json": {
              "model_id": "06836b06212b4e2b817579860c287502",
              "version_minor": 0,
              "version_major": 2
            },
            "text/plain": [
              "HBox(children=(FloatProgress(value=0.0, description='Downloading', max=231508.0, style=ProgressStyle(descripti…"
            ]
          },
          "metadata": {
            "tags": []
          }
        },
        {
          "output_type": "stream",
          "text": [
            "\n"
          ],
          "name": "stdout"
        }
      ]
    },
    {
      "cell_type": "code",
      "metadata": {
        "id": "eJ2k1cHg88Oa",
        "outputId": "6dee50fe-2f7d-4529-ff23-d064bcb67317",
        "colab": {
          "base_uri": "https://localhost:8080/",
          "height": 153
        }
      },
      "source": [
        "import nltk\n",
        "from nltk.tokenize import word_tokenize\n",
        "from nltk.sentiment.vader import SentimentIntensityAnalyzer\n",
        "nltk.download('vader_lexicon')\n",
        "nltk.download('punkt')\n",
        "nltk.download('averaged_perceptron_tagger')\n",
        "\n",
        "SIA = SentimentIntensityAnalyzer()"
      ],
      "execution_count": 5,
      "outputs": [
        {
          "output_type": "stream",
          "text": [
            "/usr/local/lib/python3.6/dist-packages/nltk/twitter/__init__.py:20: UserWarning: The twython library has not been installed. Some functionality from the twitter package will not be available.\n",
            "  warnings.warn(\"The twython library has not been installed. \"\n"
          ],
          "name": "stderr"
        },
        {
          "output_type": "stream",
          "text": [
            "[nltk_data] Downloading package vader_lexicon to /root/nltk_data...\n",
            "[nltk_data] Downloading package punkt to /root/nltk_data...\n",
            "[nltk_data]   Unzipping tokenizers/punkt.zip.\n",
            "[nltk_data] Downloading package averaged_perceptron_tagger to\n",
            "[nltk_data]     /root/nltk_data...\n",
            "[nltk_data]   Unzipping taggers/averaged_perceptron_tagger.zip.\n"
          ],
          "name": "stdout"
        }
      ]
    },
    {
      "cell_type": "code",
      "metadata": {
        "id": "5SkbHzhu8_ER",
        "outputId": "eb738a79-704a-42a7-f3ab-37eb7153d02d",
        "colab": {
          "base_uri": "https://localhost:8080/",
          "height": 748
        }
      },
      "source": [
        "import stanza\n",
        "stanza.download('en', package='ewt', processors='tokenize,sentiment,pos', verbose=True)\n",
        "stanza.download('en', package='default', processors='tokenize,sentiment', verbose=True)\n",
        "stNLP = stanza.Pipeline(processors='tokenize,sentiment,pos', lang='en', use_gpu=True)"
      ],
      "execution_count": 6,
      "outputs": [
        {
          "output_type": "stream",
          "text": [
            "Downloading https://raw.githubusercontent.com/stanfordnlp/stanza-resources/master/resources_1.1.0.json: 122kB [00:00, 10.4MB/s]                    \n",
            "2020-10-07 00:28:48 WARNING: Can not find sentiment: ewt from official model list. Ignoring it.\n",
            "2020-10-07 00:28:48 INFO: Downloading these customized packages for language: en (English)...\n",
            "=======================\n",
            "| Processor | Package |\n",
            "-----------------------\n",
            "| tokenize  | ewt     |\n",
            "| pos       | ewt     |\n",
            "| pretrain  | ewt     |\n",
            "=======================\n",
            "\n",
            "Downloading http://nlp.stanford.edu/software/stanza/1.1.0/en/tokenize/ewt.pt: 100%|██████████| 631k/631k [00:00<00:00, 794kB/s]\n",
            "Downloading http://nlp.stanford.edu/software/stanza/1.1.0/en/pos/ewt.pt: 100%|██████████| 22.1M/22.1M [00:06<00:00, 3.35MB/s]\n",
            "Downloading http://nlp.stanford.edu/software/stanza/1.1.0/en/pretrain/ewt.pt: 100%|██████████| 156M/156M [01:37<00:00, 1.60MB/s]\n",
            "2020-10-07 00:30:35 INFO: Finished downloading models and saved to /root/stanza_resources.\n",
            "Downloading https://raw.githubusercontent.com/stanfordnlp/stanza-resources/master/resources_1.1.0.json: 122kB [00:00, 9.95MB/s]                    \n",
            "2020-10-07 00:30:36 INFO: Downloading these customized packages for language: en (English)...\n",
            "=======================\n",
            "| Processor | Package |\n",
            "-----------------------\n",
            "| tokenize  | ewt     |\n",
            "| sentiment | sstplus |\n",
            "| pretrain  | ewt     |\n",
            "=======================\n",
            "\n",
            "2020-10-07 00:30:36 INFO: File exists: /root/stanza_resources/en/tokenize/ewt.pt.\n",
            "Downloading http://nlp.stanford.edu/software/stanza/1.1.0/en/sentiment/sstplus.pt: 100%|██████████| 27.5M/27.5M [00:10<00:00, 2.59MB/s]\n",
            "2020-10-07 00:30:48 INFO: File exists: /root/stanza_resources/en/pretrain/ewt.pt.\n",
            "2020-10-07 00:30:48 INFO: Finished downloading models and saved to /root/stanza_resources.\n",
            "2020-10-07 00:30:48 INFO: Loading these models for language: en (English):\n",
            "=======================\n",
            "| Processor | Package |\n",
            "-----------------------\n",
            "| tokenize  | ewt     |\n",
            "| pos       | ewt     |\n",
            "| sentiment | sstplus |\n",
            "=======================\n",
            "\n",
            "2020-10-07 00:30:48 INFO: Use device: gpu\n",
            "2020-10-07 00:30:48 INFO: Loading: tokenize\n",
            "2020-10-07 00:30:48 INFO: Loading: pos\n",
            "2020-10-07 00:30:49 INFO: Loading: sentiment\n",
            "2020-10-07 00:30:50 INFO: Done loading processors!\n"
          ],
          "name": "stderr"
        }
      ]
    },
    {
      "cell_type": "code",
      "metadata": {
        "id": "mw13ME8nzrBp"
      },
      "source": [
        "import spacy\n",
        "spNLP = spacy.load(\"en_core_web_sm\")"
      ],
      "execution_count": 7,
      "outputs": []
    },
    {
      "cell_type": "markdown",
      "metadata": {
        "id": "232Oghes9JSz"
      },
      "source": [
        "---\n",
        "# **3. NLP functions**\n",
        "---"
      ]
    },
    {
      "cell_type": "code",
      "metadata": {
        "id": "uwgnNvAh9T1Q"
      },
      "source": [
        "def text_blob_subjective(text):\n",
        "    return TextBlob(text).sentiment"
      ],
      "execution_count": 8,
      "outputs": []
    },
    {
      "cell_type": "code",
      "metadata": {
        "id": "3gQIgp0y9U07"
      },
      "source": [
        "def flair_lstm(text):\n",
        "    x = flair.data.Sentence(text)\n",
        "    flair_sent.predict(sentences=x)\n",
        "    return x.labels"
      ],
      "execution_count": 9,
      "outputs": []
    },
    {
      "cell_type": "code",
      "metadata": {
        "id": "eXGGw78t9WCM"
      },
      "source": [
        "def stanza_funct(text):\n",
        "    try:\n",
        "        data = stNLP(text)\n",
        "        for sentence in data.sentences:\n",
        "            return sentence.sentiment\n",
        "    except:\n",
        "        print('{...}', end='; ')"
      ],
      "execution_count": 10,
      "outputs": []
    },
    {
      "cell_type": "markdown",
      "metadata": {
        "id": "cxVIDdOc6Y8Y"
      },
      "source": [
        "---\n",
        "# **4. Preprocessing**\n",
        "---"
      ]
    },
    {
      "cell_type": "markdown",
      "metadata": {
        "id": "abBC0LCW6efC"
      },
      "source": [
        "Words play a central role in language and thought. Several influential factor analysis studies have shown that\n",
        "the primary dimensions of word meaning are valence, arousal, and dominance (VAD).\n",
        "- valence is the positive--negative or pleasure--displeasure dimension; \n",
        "- arousal is the excited--calm or active--passive dimension; \n",
        "- dominance is the powerful--weak or 'have control'--'have no control' dimension.\n",
        "\n",
        "```\n",
        "Each line has the following format:\n",
        "<AffectCategory><tab><term><tab><score>\n",
        "<AffectCategory> is one of eight emotions (anger, fear, anticipation, trust, surprise, sadness, joy, or disgust).\n",
        "<term> is a word for which emotion associations are provided.\n",
        "<score> is a value that indicates the strength of association between the <term> and the <AffectCategory>.\n",
        "The higher the value, the stronger is the association. Refer to the publications below for details on how the score is calculated.\n",
        "```\n"
      ]
    },
    {
      "cell_type": "markdown",
      "metadata": {
        "id": "haNYvwGW6klQ"
      },
      "source": [
        "## Loading datasets lexicon"
      ]
    },
    {
      "cell_type": "markdown",
      "metadata": {
        "id": "nNSVIrbV6ouq"
      },
      "source": [
        "### Donwload datasets to dir"
      ]
    },
    {
      "cell_type": "code",
      "metadata": {
        "id": "vXDp4UKU6DZP"
      },
      "source": [
        "def download_datasets():\n",
        "    #!mkdir -p datasets\n",
        "    !wget -nc https://nyc3.digitaloceanspaces.com/ml-files-distro/v1/sentiment-analysis-is-bad/data/training.1600000.processed.noemoticon.csv.zip -P datasets\n",
        "    !wget -nc https://raw.githubusercontent.com/Y4rd13/sentiment-analysis/master/datasets/NRC-Emotion-Lexicon-Wordlevel-v0.92.csv -P datasets\n",
        "    !wget -nc https://raw.githubusercontent.com/Y4rd13/sentiment-analysis/master/datasets/NRC-Hashtag-Emotion-Lexicon-v0.2.csv -P datasets\n",
        "    !wget -nc https://raw.githubusercontent.com/Y4rd13/sentiment-analysis/master/datasets/NRC-VAD-Lexicon.csv -P datasets\n",
        "    !wget -nc https://raw.githubusercontent.com/Y4rd13/sentiment-analysis/master/datasets/emobank.csv -P datasets\n",
        "    !wget -nc https://raw.githubusercontent.com/Y4rd13/sentiment-analysis/master/datasets/isear.csv -P datasets\n",
        "    !wget -nc https://raw.githubusercontent.com/Y4rd13/sentiment-analysis/master/datasets/results/checkpoint-bywords.csv -P datasets\n",
        "    !wget -nc https://raw.githubusercontent.com/Y4rd13/sentiment-analysis/master/datasets/results/dataset_checkpoint.csv -P datasets"
      ],
      "execution_count": 11,
      "outputs": []
    },
    {
      "cell_type": "code",
      "metadata": {
        "id": "w4bfCESM6rii"
      },
      "source": [
        "# uncomment if you want to download the datasets to ./datasets folder\n",
        "#download_datasets()"
      ],
      "execution_count": 12,
      "outputs": []
    },
    {
      "cell_type": "markdown",
      "metadata": {
        "id": "fzMm8Cor6vbS"
      },
      "source": [
        "### URLS"
      ]
    },
    {
      "cell_type": "code",
      "metadata": {
        "id": "JbLWZm_r6ugn"
      },
      "source": [
        "NRC_Emotion_Intensity_Lexicon = 'https://raw.githubusercontent.com/Y4rd13/sentiment-analysis/master/datasets/NRC-Emotion-Intensity-Lexicon-v1.csv'"
      ],
      "execution_count": 13,
      "outputs": []
    },
    {
      "cell_type": "code",
      "metadata": {
        "id": "4a7vtMSP6zkW"
      },
      "source": [
        "NRC_Emotion_Lexicon_Wordlevel = 'https://raw.githubusercontent.com/Y4rd13/sentiment-analysis/master/datasets/NRC-Emotion-Lexicon-Wordlevel-v0.92.csv'"
      ],
      "execution_count": 14,
      "outputs": []
    },
    {
      "cell_type": "code",
      "metadata": {
        "id": "-0H-A2Qs6zv9"
      },
      "source": [
        "NRC_Hashtag_Emotion_Lexicon = 'https://raw.githubusercontent.com/Y4rd13/sentiment-analysis/master/datasets/NRC-Hashtag-Emotion-Lexicon-v0.2.csv'"
      ],
      "execution_count": 15,
      "outputs": []
    },
    {
      "cell_type": "code",
      "metadata": {
        "id": "gHx-LKOB6z4n"
      },
      "source": [
        "NRC_VAD_Lexicon = 'https://raw.githubusercontent.com/Y4rd13/sentiment-analysis/master/datasets/NRC-VAD-Lexicon.csv'"
      ],
      "execution_count": 16,
      "outputs": []
    },
    {
      "cell_type": "code",
      "metadata": {
        "id": "sWKeVtqJ60B_"
      },
      "source": [
        "emobank = 'https://raw.githubusercontent.com/Y4rd13/sentiment-analysis/master/datasets/emobank.csv'"
      ],
      "execution_count": 17,
      "outputs": []
    },
    {
      "cell_type": "code",
      "metadata": {
        "id": "Hf2Fm7wy60Ka"
      },
      "source": [
        "isear = 'https://raw.githubusercontent.com/Y4rd13/sentiment-analysis/master/datasets/isear.csv'"
      ],
      "execution_count": 18,
      "outputs": []
    },
    {
      "cell_type": "code",
      "metadata": {
        "id": "vpUGNrbhjFYQ"
      },
      "source": [
        "twitter_expanded = 'https://raw.githubusercontent.com/Y4rd13/sentiment-analysis/master/datasets/results/expanded%20twitter%20dataset.csv'"
      ],
      "execution_count": 19,
      "outputs": []
    },
    {
      "cell_type": "code",
      "metadata": {
        "id": "FmcOjGEkzrHm"
      },
      "source": [
        "url_checkpoint_byWords = 'https://raw.githubusercontent.com/Y4rd13/sentiment-analysis/master/datasets/results/checkpoint-bywords.csv'"
      ],
      "execution_count": 20,
      "outputs": []
    },
    {
      "cell_type": "code",
      "metadata": {
        "id": "Emjp8Dv2D9Yi"
      },
      "source": [
        "checkpoint_url = 'https://raw.githubusercontent.com/Y4rd13/sentiment-analysis/master/datasets/results/dataset_checkpoint.csv'"
      ],
      "execution_count": 21,
      "outputs": []
    },
    {
      "cell_type": "code",
      "metadata": {
        "id": "dyzR9BqwcayZ"
      },
      "source": [
        "spacy_checkpoint = 'https://raw.githubusercontent.com/Y4rd13/sentiment-analysis/master/datasets/results/spacy_checkpoint.csv'"
      ],
      "execution_count": 22,
      "outputs": []
    },
    {
      "cell_type": "markdown",
      "metadata": {
        "id": "yuRVW0yc66AJ"
      },
      "source": [
        "### Requests"
      ]
    },
    {
      "cell_type": "code",
      "metadata": {
        "id": "50g_-lVi67Tb"
      },
      "source": [
        "def request_csv(url):\n",
        "    return (requests.get(url).content).decode('utf-8')"
      ],
      "execution_count": 23,
      "outputs": []
    },
    {
      "cell_type": "markdown",
      "metadata": {
        "id": "23X9FRVR7DOh"
      },
      "source": [
        "### Loading datasets as requests\n",
        "Anyway the datasets files were downloaded on ./datasets/ folder"
      ]
    },
    {
      "cell_type": "code",
      "metadata": {
        "id": "KEj6KnnE7F0R"
      },
      "source": [
        "df_NRC_Emotion_Intensity = pd.read_csv(io.StringIO(request_csv(NRC_Emotion_Intensity_Lexicon)), sep='\\t')"
      ],
      "execution_count": 24,
      "outputs": []
    },
    {
      "cell_type": "code",
      "metadata": {
        "id": "ir5bUkbV7I9n"
      },
      "source": [
        "df_NRC_Hashtag = pd.read_csv(io.StringIO(request_csv(NRC_Hashtag_Emotion_Lexicon)), sep='\\t')"
      ],
      "execution_count": 25,
      "outputs": []
    },
    {
      "cell_type": "code",
      "metadata": {
        "id": "geja1-xJ7JKN"
      },
      "source": [
        "df_NRC_Emotion_Wordlevel = pd.read_csv(io.StringIO(request_csv(NRC_Emotion_Lexicon_Wordlevel)), sep='\\t')"
      ],
      "execution_count": 26,
      "outputs": []
    },
    {
      "cell_type": "code",
      "metadata": {
        "id": "dXzdN2fl7JV2"
      },
      "source": [
        "# by sentece\n",
        "df_isear = pd.read_csv(io.StringIO(request_csv(isear)), sep='|', error_bad_lines=False, usecols=['SIT', 'Field1'])"
      ],
      "execution_count": 27,
      "outputs": []
    },
    {
      "cell_type": "code",
      "metadata": {
        "id": "oGCQSti-fe03",
        "outputId": "9241c420-b8dd-46c3-df50-090b26bd9b8f",
        "colab": {
          "base_uri": "https://localhost:8080/",
          "height": 419
        }
      },
      "source": [
        "df_isear"
      ],
      "execution_count": 28,
      "outputs": [
        {
          "output_type": "execute_result",
          "data": {
            "text/html": [
              "<div>\n",
              "<style scoped>\n",
              "    .dataframe tbody tr th:only-of-type {\n",
              "        vertical-align: middle;\n",
              "    }\n",
              "\n",
              "    .dataframe tbody tr th {\n",
              "        vertical-align: top;\n",
              "    }\n",
              "\n",
              "    .dataframe thead th {\n",
              "        text-align: right;\n",
              "    }\n",
              "</style>\n",
              "<table border=\"1\" class=\"dataframe\">\n",
              "  <thead>\n",
              "    <tr style=\"text-align: right;\">\n",
              "      <th></th>\n",
              "      <th>Field1</th>\n",
              "      <th>SIT</th>\n",
              "    </tr>\n",
              "  </thead>\n",
              "  <tbody>\n",
              "    <tr>\n",
              "      <th>0</th>\n",
              "      <td>joy</td>\n",
              "      <td>During the period of falling in love, each tim...</td>\n",
              "    </tr>\n",
              "    <tr>\n",
              "      <th>1</th>\n",
              "      <td>fear</td>\n",
              "      <td>When I was involved in a traffic accident.</td>\n",
              "    </tr>\n",
              "    <tr>\n",
              "      <th>2</th>\n",
              "      <td>anger</td>\n",
              "      <td>When I was driving home after  several days of...</td>\n",
              "    </tr>\n",
              "    <tr>\n",
              "      <th>3</th>\n",
              "      <td>sadness</td>\n",
              "      <td>When I lost the person who meant the most to me.</td>\n",
              "    </tr>\n",
              "    <tr>\n",
              "      <th>4</th>\n",
              "      <td>disgust</td>\n",
              "      <td>The time I knocked a deer down - the sight of ...</td>\n",
              "    </tr>\n",
              "    <tr>\n",
              "      <th>...</th>\n",
              "      <td>...</td>\n",
              "      <td>...</td>\n",
              "    </tr>\n",
              "    <tr>\n",
              "      <th>7661</th>\n",
              "      <td>anger</td>\n",
              "      <td>Two years back someone invited me to be the tu...</td>\n",
              "    </tr>\n",
              "    <tr>\n",
              "      <th>7662</th>\n",
              "      <td>sadness</td>\n",
              "      <td>I had taken the responsibility to do something...</td>\n",
              "    </tr>\n",
              "    <tr>\n",
              "      <th>7663</th>\n",
              "      <td>disgust</td>\n",
              "      <td>I was at home and I heard a loud sound of spit...</td>\n",
              "    </tr>\n",
              "    <tr>\n",
              "      <th>7664</th>\n",
              "      <td>shame</td>\n",
              "      <td>I did not do the homework that the teacher had...</td>\n",
              "    </tr>\n",
              "    <tr>\n",
              "      <th>7665</th>\n",
              "      <td>guilt</td>\n",
              "      <td>I had shouted at my younger brother and he was...</td>\n",
              "    </tr>\n",
              "  </tbody>\n",
              "</table>\n",
              "<p>7666 rows × 2 columns</p>\n",
              "</div>"
            ],
            "text/plain": [
              "       Field1                                                SIT\n",
              "0         joy  During the period of falling in love, each tim...\n",
              "1        fear         When I was involved in a traffic accident.\n",
              "2       anger  When I was driving home after  several days of...\n",
              "3     sadness  When I lost the person who meant the most to me. \n",
              "4     disgust  The time I knocked a deer down - the sight of ...\n",
              "...       ...                                                ...\n",
              "7661    anger  Two years back someone invited me to be the tu...\n",
              "7662  sadness  I had taken the responsibility to do something...\n",
              "7663  disgust  I was at home and I heard a loud sound of spit...\n",
              "7664    shame  I did not do the homework that the teacher had...\n",
              "7665    guilt  I had shouted at my younger brother and he was...\n",
              "\n",
              "[7666 rows x 2 columns]"
            ]
          },
          "metadata": {
            "tags": []
          },
          "execution_count": 28
        }
      ]
    },
    {
      "cell_type": "markdown",
      "metadata": {
        "id": "M8m8PrAH7NXL"
      },
      "source": [
        "### Column names & merge (concatenate)"
      ]
    },
    {
      "cell_type": "code",
      "metadata": {
        "id": "VssKa0uZ7O8a"
      },
      "source": [
        "df_NRC_Hashtag.columns = ['category', 'word', 'score']\n",
        "df_NRC_Emotion_Intensity.columns = ['word', 'category', 'score']\n",
        "df_NRC_Emotion_Wordlevel.columns = ['word', 'category', 'score']\n",
        "df_isear.columns = ['category', 'sentence']"
      ],
      "execution_count": 29,
      "outputs": []
    },
    {
      "cell_type": "code",
      "metadata": {
        "id": "IcGWByNe7QHS"
      },
      "source": [
        "df_concat = pd.concat(objs=[df_NRC_Hashtag, df_NRC_Emotion_Intensity, df_NRC_Emotion_Wordlevel], ignore_index=True)"
      ],
      "execution_count": 30,
      "outputs": []
    },
    {
      "cell_type": "markdown",
      "metadata": {
        "id": "invnpSJN7SbB"
      },
      "source": [
        "### Sorting concatenated dataset"
      ]
    },
    {
      "cell_type": "code",
      "metadata": {
        "id": "NkIKDyAN7UFa"
      },
      "source": [
        "df_concat = df_concat.sort_values(by=['category'], ascending=True, ignore_index=True)"
      ],
      "execution_count": 31,
      "outputs": []
    },
    {
      "cell_type": "markdown",
      "metadata": {
        "id": "ptCLr2RK7gq8"
      },
      "source": [
        "## Loading datasets Valence Arousal Dominance"
      ]
    },
    {
      "cell_type": "code",
      "metadata": {
        "id": "-_dk-t1M7jdh"
      },
      "source": [
        "# by word\n",
        "df_NRC_VAD_Lexicon = pd.read_csv(io.StringIO(request_csv(NRC_VAD_Lexicon)), sep='\\t')"
      ],
      "execution_count": 32,
      "outputs": []
    },
    {
      "cell_type": "code",
      "metadata": {
        "id": "WTMCN5ZC7jmL",
        "outputId": "be4e014d-8e2a-427e-d8d0-64daabefcb22",
        "colab": {
          "base_uri": "https://localhost:8080/",
          "height": 80
        }
      },
      "source": [
        "df_NRC_VAD_Lexicon[df_NRC_VAD_Lexicon['Word'].str.contains('extremely positive', na=False)]"
      ],
      "execution_count": 33,
      "outputs": [
        {
          "output_type": "execute_result",
          "data": {
            "text/html": [
              "<div>\n",
              "<style scoped>\n",
              "    .dataframe tbody tr th:only-of-type {\n",
              "        vertical-align: middle;\n",
              "    }\n",
              "\n",
              "    .dataframe tbody tr th {\n",
              "        vertical-align: top;\n",
              "    }\n",
              "\n",
              "    .dataframe thead th {\n",
              "        text-align: right;\n",
              "    }\n",
              "</style>\n",
              "<table border=\"1\" class=\"dataframe\">\n",
              "  <thead>\n",
              "    <tr style=\"text-align: right;\">\n",
              "      <th></th>\n",
              "      <th>Word</th>\n",
              "      <th>Valence</th>\n",
              "      <th>Arousal</th>\n",
              "      <th>Dominance</th>\n",
              "    </tr>\n",
              "  </thead>\n",
              "  <tbody>\n",
              "    <tr>\n",
              "      <th>6384</th>\n",
              "      <td>extremely positive</td>\n",
              "      <td>0.993</td>\n",
              "      <td>0.73</td>\n",
              "      <td>0.839</td>\n",
              "    </tr>\n",
              "  </tbody>\n",
              "</table>\n",
              "</div>"
            ],
            "text/plain": [
              "                    Word  Valence  Arousal  Dominance\n",
              "6384  extremely positive    0.993     0.73      0.839"
            ]
          },
          "metadata": {
            "tags": []
          },
          "execution_count": 33
        }
      ]
    },
    {
      "cell_type": "code",
      "metadata": {
        "id": "WTcYfpt-7j5k"
      },
      "source": [
        "# by sentence \n",
        "df_emobank = pd.read_csv(io.StringIO(request_csv(emobank)), sep=',', usecols=['split', 'text', 'V', 'A', 'D'])"
      ],
      "execution_count": 34,
      "outputs": []
    },
    {
      "cell_type": "code",
      "metadata": {
        "id": "p6WIv6c_jhAk",
        "outputId": "09f37f1a-cc19-4040-8c12-efe3a06debe5",
        "colab": {
          "base_uri": "https://localhost:8080/",
          "height": 419
        }
      },
      "source": [
        "df_emobank"
      ],
      "execution_count": 35,
      "outputs": [
        {
          "output_type": "execute_result",
          "data": {
            "text/html": [
              "<div>\n",
              "<style scoped>\n",
              "    .dataframe tbody tr th:only-of-type {\n",
              "        vertical-align: middle;\n",
              "    }\n",
              "\n",
              "    .dataframe tbody tr th {\n",
              "        vertical-align: top;\n",
              "    }\n",
              "\n",
              "    .dataframe thead th {\n",
              "        text-align: right;\n",
              "    }\n",
              "</style>\n",
              "<table border=\"1\" class=\"dataframe\">\n",
              "  <thead>\n",
              "    <tr style=\"text-align: right;\">\n",
              "      <th></th>\n",
              "      <th>split</th>\n",
              "      <th>V</th>\n",
              "      <th>A</th>\n",
              "      <th>D</th>\n",
              "      <th>text</th>\n",
              "    </tr>\n",
              "  </thead>\n",
              "  <tbody>\n",
              "    <tr>\n",
              "      <th>0</th>\n",
              "      <td>train</td>\n",
              "      <td>3.00</td>\n",
              "      <td>3.00</td>\n",
              "      <td>3.20</td>\n",
              "      <td>Remember what she said in my last letter? \"</td>\n",
              "    </tr>\n",
              "    <tr>\n",
              "      <th>1</th>\n",
              "      <td>test</td>\n",
              "      <td>2.80</td>\n",
              "      <td>3.10</td>\n",
              "      <td>2.80</td>\n",
              "      <td>If I wasn't working here.</td>\n",
              "    </tr>\n",
              "    <tr>\n",
              "      <th>2</th>\n",
              "      <td>train</td>\n",
              "      <td>3.00</td>\n",
              "      <td>3.00</td>\n",
              "      <td>3.00</td>\n",
              "      <td>..\"</td>\n",
              "    </tr>\n",
              "    <tr>\n",
              "      <th>3</th>\n",
              "      <td>train</td>\n",
              "      <td>3.44</td>\n",
              "      <td>3.00</td>\n",
              "      <td>3.22</td>\n",
              "      <td>Goodwill helps people get off of public assist...</td>\n",
              "    </tr>\n",
              "    <tr>\n",
              "      <th>4</th>\n",
              "      <td>train</td>\n",
              "      <td>3.55</td>\n",
              "      <td>3.27</td>\n",
              "      <td>3.46</td>\n",
              "      <td>Sherry learned through our Future Works class ...</td>\n",
              "    </tr>\n",
              "    <tr>\n",
              "      <th>...</th>\n",
              "      <td>...</td>\n",
              "      <td>...</td>\n",
              "      <td>...</td>\n",
              "      <td>...</td>\n",
              "      <td>...</td>\n",
              "    </tr>\n",
              "    <tr>\n",
              "      <th>10057</th>\n",
              "      <td>train</td>\n",
              "      <td>3.00</td>\n",
              "      <td>3.50</td>\n",
              "      <td>3.00</td>\n",
              "      <td>Please let it be a constant reminder of all yo...</td>\n",
              "    </tr>\n",
              "    <tr>\n",
              "      <th>10058</th>\n",
              "      <td>train</td>\n",
              "      <td>3.80</td>\n",
              "      <td>3.40</td>\n",
              "      <td>3.60</td>\n",
              "      <td>That’s why I want to extend my appreciation fo...</td>\n",
              "    </tr>\n",
              "    <tr>\n",
              "      <th>10059</th>\n",
              "      <td>train</td>\n",
              "      <td>3.00</td>\n",
              "      <td>3.00</td>\n",
              "      <td>3.10</td>\n",
              "      <td>And why I’m writing you today to ask you to re...</td>\n",
              "    </tr>\n",
              "    <tr>\n",
              "      <th>10060</th>\n",
              "      <td>train</td>\n",
              "      <td>3.33</td>\n",
              "      <td>3.44</td>\n",
              "      <td>3.44</td>\n",
              "      <td>In fact, I want to urge you to strengthen your...</td>\n",
              "    </tr>\n",
              "    <tr>\n",
              "      <th>10061</th>\n",
              "      <td>train</td>\n",
              "      <td>3.43</td>\n",
              "      <td>3.71</td>\n",
              "      <td>3.29</td>\n",
              "      <td>With your increased commitment, we can move fo...</td>\n",
              "    </tr>\n",
              "  </tbody>\n",
              "</table>\n",
              "<p>10062 rows × 5 columns</p>\n",
              "</div>"
            ],
            "text/plain": [
              "       split     V  ...     D                                               text\n",
              "0      train  3.00  ...  3.20        Remember what she said in my last letter? \"\n",
              "1       test  2.80  ...  2.80                          If I wasn't working here.\n",
              "2      train  3.00  ...  3.00                                                ..\"\n",
              "3      train  3.44  ...  3.22  Goodwill helps people get off of public assist...\n",
              "4      train  3.55  ...  3.46  Sherry learned through our Future Works class ...\n",
              "...      ...   ...  ...   ...                                                ...\n",
              "10057  train  3.00  ...  3.00  Please let it be a constant reminder of all yo...\n",
              "10058  train  3.80  ...  3.60  That’s why I want to extend my appreciation fo...\n",
              "10059  train  3.00  ...  3.10  And why I’m writing you today to ask you to re...\n",
              "10060  train  3.33  ...  3.44  In fact, I want to urge you to strengthen your...\n",
              "10061  train  3.43  ...  3.29  With your increased commitment, we can move fo...\n",
              "\n",
              "[10062 rows x 5 columns]"
            ]
          },
          "metadata": {
            "tags": []
          },
          "execution_count": 35
        }
      ]
    },
    {
      "cell_type": "markdown",
      "metadata": {
        "id": "EtMF91vmjmxA"
      },
      "source": [
        "## Loading Twitter expanded dataset"
      ]
    },
    {
      "cell_type": "code",
      "metadata": {
        "id": "vHdgh6rXjr51"
      },
      "source": [
        "twitter = pd.read_csv(io.StringIO(request_csv(twitter_expanded)))"
      ],
      "execution_count": 36,
      "outputs": []
    },
    {
      "cell_type": "code",
      "metadata": {
        "id": "Wk3xpcWXj282",
        "outputId": "2b59ed4e-d02a-4576-b0ce-fed40693458e",
        "colab": {
          "base_uri": "https://localhost:8080/",
          "height": 419
        }
      },
      "source": [
        "twitter"
      ],
      "execution_count": 37,
      "outputs": [
        {
          "output_type": "execute_result",
          "data": {
            "text/html": [
              "<div>\n",
              "<style scoped>\n",
              "    .dataframe tbody tr th:only-of-type {\n",
              "        vertical-align: middle;\n",
              "    }\n",
              "\n",
              "    .dataframe tbody tr th {\n",
              "        vertical-align: top;\n",
              "    }\n",
              "\n",
              "    .dataframe thead th {\n",
              "        text-align: right;\n",
              "    }\n",
              "</style>\n",
              "<table border=\"1\" class=\"dataframe\">\n",
              "  <thead>\n",
              "    <tr style=\"text-align: right;\">\n",
              "      <th></th>\n",
              "      <th>words</th>\n",
              "    </tr>\n",
              "  </thead>\n",
              "  <tbody>\n",
              "    <tr>\n",
              "      <th>0</th>\n",
              "      <td>aw</td>\n",
              "    </tr>\n",
              "    <tr>\n",
              "      <th>1</th>\n",
              "      <td>thats</td>\n",
              "    </tr>\n",
              "    <tr>\n",
              "      <th>2</th>\n",
              "      <td>a</td>\n",
              "    </tr>\n",
              "    <tr>\n",
              "      <th>3</th>\n",
              "      <td>bummer</td>\n",
              "    </tr>\n",
              "    <tr>\n",
              "      <th>4</th>\n",
              "      <td>you</td>\n",
              "    </tr>\n",
              "    <tr>\n",
              "      <th>...</th>\n",
              "      <td>...</td>\n",
              "    </tr>\n",
              "    <tr>\n",
              "      <th>391774</th>\n",
              "      <td>sunoudy</td>\n",
              "    </tr>\n",
              "    <tr>\n",
              "      <th>391775</th>\n",
              "      <td>nemuselo</td>\n",
              "    </tr>\n",
              "    <tr>\n",
              "      <th>391776</th>\n",
              "      <td>holce</td>\n",
              "    </tr>\n",
              "    <tr>\n",
              "      <th>391777</th>\n",
              "      <td>everitt</td>\n",
              "    </tr>\n",
              "    <tr>\n",
              "      <th>391778</th>\n",
              "      <td>bigrun</td>\n",
              "    </tr>\n",
              "  </tbody>\n",
              "</table>\n",
              "<p>391779 rows × 1 columns</p>\n",
              "</div>"
            ],
            "text/plain": [
              "           words\n",
              "0             aw\n",
              "1          thats\n",
              "2              a\n",
              "3         bummer\n",
              "4            you\n",
              "...          ...\n",
              "391774   sunoudy\n",
              "391775  nemuselo\n",
              "391776     holce\n",
              "391777   everitt\n",
              "391778    bigrun\n",
              "\n",
              "[391779 rows x 1 columns]"
            ]
          },
          "metadata": {
            "tags": []
          },
          "execution_count": 37
        }
      ]
    },
    {
      "cell_type": "markdown",
      "metadata": {
        "id": "orckEWXm7tuE"
      },
      "source": [
        "### Column names"
      ]
    },
    {
      "cell_type": "code",
      "metadata": {
        "id": "JIisFenV7kBD"
      },
      "source": [
        "df_NRC_VAD_Lexicon.columns = ['word', 'Valence', 'Arousal', 'Dominance']\n",
        "df_emobank.columns = ['split', 'Valence', 'Arousal', 'Dominance', 'sentece']"
      ],
      "execution_count": 38,
      "outputs": []
    },
    {
      "cell_type": "markdown",
      "metadata": {
        "id": "VOrS9pCX7yTR"
      },
      "source": [
        "## Plotters: simple plot & bar"
      ]
    },
    {
      "cell_type": "code",
      "metadata": {
        "id": "jcWFRYfu8B6p"
      },
      "source": [
        "def simple_plot(x, y, size):\n",
        "    plt.figure(figsize=size)\n",
        "    plt.plot(x, y, linestyle='solid', color='red')\n",
        "    plt.xlabel('labels')\n",
        "    plt.ylabel('scores')\n",
        "    plt.legend(loc='upper left')\n",
        "    plt.xticks(size=10, rotation='vertical')\n",
        "    plt.yticks(size=10)\n",
        "    plt.grid(b=True)\n",
        "    \n",
        "    plt.show()\n",
        "\n",
        "def simple_bar(x, y, size):\n",
        "    plt.figure(figsize=size)\n",
        "    plt.bar(x, y, linestyle='solid', color='red')\n",
        "    plt.xlabel('labels')\n",
        "    plt.ylabel('scores')\n",
        "    plt.legend(loc='upper left')\n",
        "    plt.xticks(size=10, rotation='vertical')\n",
        "    plt.yticks(size=10)\n",
        "    plt.grid(b=True)\n",
        "\n",
        "    plt.show()"
      ],
      "execution_count": 39,
      "outputs": []
    },
    {
      "cell_type": "markdown",
      "metadata": {
        "id": "QdwX70bp8ZWr"
      },
      "source": [
        "---\n",
        "# **5. Preprocessing dataframe concatenated**\n",
        "---"
      ]
    },
    {
      "cell_type": "code",
      "metadata": {
        "id": "8fbpfL2Y8cXq"
      },
      "source": [
        "def preprocessing_characteres(df, c):\n",
        "    df[c] = df[c].apply(lambda x: re.sub(\"[^a-zA-Z]\", \" \", str(x)))\n",
        "    df[c] = df[c].str.lower()\n",
        "    df[c] = df[c].apply(lambda x: re.sub(r'(@[A-Za-z0-9]+)|([^0-9A-Za-zÁ-Úá-ú \\t])|(\\w+:\\/\\/\\S+)|^rt|http.+?%', '', x))\n",
        "    \n",
        "    return df"
      ],
      "execution_count": 40,
      "outputs": []
    },
    {
      "cell_type": "code",
      "metadata": {
        "id": "YQJB1ImJ8cfr"
      },
      "source": [
        "df = preprocessing_characteres(df_concat, 'word')"
      ],
      "execution_count": 41,
      "outputs": []
    },
    {
      "cell_type": "markdown",
      "metadata": {
        "id": "SRrwftLx92XG"
      },
      "source": [
        "## **NLP applying**"
      ]
    },
    {
      "cell_type": "code",
      "metadata": {
        "id": "I97Sv19b93O8"
      },
      "source": [
        "def drop_empty_string(df):\n",
        "    # Warning: An empty Sentence was created!\n",
        "    # Are there empty strings in your dataset?\n",
        "    print('\\nremoving empty values...\\n')\n",
        "    nan_value = float('NaN')\n",
        "    df.replace('', nan_value, inplace=True)\n",
        "    df.replace(' ', nan_value, inplace=True)\n",
        "    df.replace('  ', nan_value, inplace=True)\n",
        "    df.dropna(inplace=True)\n",
        "\n",
        "    return df"
      ],
      "execution_count": 42,
      "outputs": []
    },
    {
      "cell_type": "code",
      "metadata": {
        "id": "vgf6I1Y595ID"
      },
      "source": [
        "def preprocessing_lexicon(df, c1, c2):\n",
        "    print('\\nRemoving scores equal to 0 & empty or space values\\n')\n",
        "    df.drop(df[df[c1] == 0]. index, inplace=True)\n",
        "    df.drop(df[df[c2] == float]. index, inplace=True)\n",
        "    df = drop_empty_string(df)\n",
        "    \n",
        "    print('Strip spaces both sides\\n')\n",
        "    df[c2] = df[c2].str.strip()\n",
        "\n",
        "    return df"
      ],
      "execution_count": 43,
      "outputs": []
    },
    {
      "cell_type": "code",
      "metadata": {
        "id": "y-Go5daQ96Uz"
      },
      "source": [
        "def nlp_apply(df, c):\n",
        "    print('Vader\\n')\n",
        "    df['Compound'] = df[c].apply(lambda x: SIA.polarity_scores(text=x)['compound'])\n",
        "    \n",
        "    print('TextBlob')\n",
        "    df['Subjectivity'] = df[c].apply(lambda x: text_blob_subjective(text=x)[1])\n",
        "    \n",
        "    df = drop_empty_string(df)\n",
        "\n",
        "    print('Stanza')\n",
        "    df['Stanza'] = df[c].apply(lambda x: stanza_funct(text=x))\n",
        "\n",
        "    df = drop_empty_string(df)\n",
        "\n",
        "    print('Flair\\n')\n",
        "    df['Flair'] = df[c].apply(lambda x: ''.join([i.value for i in flair_lstm(text=x)]))\n",
        "\n",
        "    df = preprocessing_lexicon(df, 'score', 'word')\n",
        "\n",
        "    return df"
      ],
      "execution_count": 44,
      "outputs": []
    },
    {
      "cell_type": "code",
      "metadata": {
        "id": "beajuN-M99v8"
      },
      "source": [
        "!mkdir 'datasets'"
      ],
      "execution_count": 45,
      "outputs": []
    },
    {
      "cell_type": "code",
      "metadata": {
        "id": "nMG_9uB898Di"
      },
      "source": [
        "# uncomment to apply from the beggining nlp tools & checkpoint\n",
        "#df = nlp_apply(df, 'word')"
      ],
      "execution_count": 46,
      "outputs": []
    },
    {
      "cell_type": "code",
      "metadata": {
        "id": "1kYIzZ9ig4B1"
      },
      "source": [
        "# checkpoint\n",
        "#df.to_csv('datasets/checkpoint-bywords.csv', encoding='utf-8', index=False)"
      ],
      "execution_count": 47,
      "outputs": []
    },
    {
      "cell_type": "code",
      "metadata": {
        "id": "c_RfNBs99-xU"
      },
      "source": [
        "df = pd.read_csv(io.StringIO(request_csv(url=url_checkpoint_byWords)), sep=',')"
      ],
      "execution_count": 48,
      "outputs": []
    },
    {
      "cell_type": "markdown",
      "metadata": {
        "id": "BsQgEKqN-KtP"
      },
      "source": [
        "---\n",
        "# **6. Preprocessing VAD datasets**\n",
        "---"
      ]
    },
    {
      "cell_type": "markdown",
      "metadata": {
        "id": "BV3zi0ym-O4r"
      },
      "source": [
        "### Grouping categories dataset by column value"
      ]
    },
    {
      "cell_type": "code",
      "metadata": {
        "id": "nnNmYZlf-NIm"
      },
      "source": [
        "group = df.groupby(df.category)"
      ],
      "execution_count": 49,
      "outputs": []
    },
    {
      "cell_type": "code",
      "metadata": {
        "id": "gXo1OhNJ-QW8"
      },
      "source": [
        "positive = group.get_group('positive')\n",
        "negative = group.get_group('negative')\n",
        "sadness = group.get_group('sadness')\n",
        "joy = group.get_group('joy')\n",
        "trust = group.get_group('trust')\n",
        "anticipation = group.get_group('anticipation')\n",
        "anger = group.get_group('anger')\n",
        "surprise = group.get_group('surprise')\n",
        "fear = group.get_group('fear')\n",
        "disgust = group.get_group('disgust')"
      ],
      "execution_count": 50,
      "outputs": []
    },
    {
      "cell_type": "markdown",
      "metadata": {
        "id": "Jig3fyyX-Sb7"
      },
      "source": [
        "### Adding VAD columns & filling them with VAD values\n",
        "http://saifmohammad.com/WebPages/nrc-vad.html"
      ]
    },
    {
      "cell_type": "code",
      "metadata": {
        "id": "sKIOHt_H-UI0"
      },
      "source": [
        "def fill_VAD(df, VAD):\n",
        "    df.loc[:, 'Valence'] = VAD[0]\n",
        "    df.loc[:, 'Arousal'] = VAD[1]\n",
        "    df.loc[:, 'Dominance'] = VAD[2]  \n",
        "    return  df"
      ],
      "execution_count": 51,
      "outputs": []
    },
    {
      "cell_type": "code",
      "metadata": {
        "id": "eYSjB9gE-V7c"
      },
      "source": [
        "positive = fill_VAD(df=positive, VAD=[0.9590, 0.5100, 0.8550])\n",
        "negative = fill_VAD(df=negative, VAD=[0.1020, 0.5270, 0.1760])\n",
        "sadness = fill_VAD(df=sadness, VAD=[0.0520, 0.2880, 0.1640])\n",
        "joy = fill_VAD(df=joy, VAD=[0.9800, 0.8240, 0.7949])\n",
        "trust = fill_VAD(df=trust, VAD=[0.8880, 0.5470, 0.7410])\n",
        "anticipation = fill_VAD(df=anticipation, VAD=[0.6980, 0.5390, 0.7110])\n",
        "anger = fill_VAD(df=anger, VAD=[0.1670, 0.8650, 0.6570])\n",
        "surprise = fill_VAD(df=surprise, VAD=[0.8750, 0.8750, 0.5620])\n",
        "fear = fill_VAD(df=fear, VAD=[0.0730, 0.8400, 0.2930])\n",
        "disgust = fill_VAD(df=disgust, VAD=[0.0520, 0.7750, 0.3170])"
      ],
      "execution_count": 52,
      "outputs": []
    },
    {
      "cell_type": "markdown",
      "metadata": {
        "id": "GZh1h4BH-Xls"
      },
      "source": [
        "### Concatenating & sorting datasets: Categories with Quadrants"
      ]
    },
    {
      "cell_type": "code",
      "metadata": {
        "id": "-v5eAu9S-YIT"
      },
      "source": [
        "def concat(lst):\n",
        "    df = pd.concat(objs=lst, ignore_index=True)\n",
        "    return df"
      ],
      "execution_count": 53,
      "outputs": []
    },
    {
      "cell_type": "code",
      "metadata": {
        "id": "veq9JcUk-ZEl"
      },
      "source": [
        "df_VAD = df_NRC_VAD_Lexicon"
      ],
      "execution_count": 54,
      "outputs": []
    },
    {
      "cell_type": "code",
      "metadata": {
        "id": "BFvtBWVp-aJ8"
      },
      "source": [
        "df_VAD = concat([df_VAD, positive])\n",
        "df_VAD = concat([df_VAD, negative])\n",
        "df_VAD = concat([df_VAD, sadness])\n",
        "df_VAD = concat([df_VAD, joy])\n",
        "df_VAD = concat([df_VAD, trust])\n",
        "df_VAD = concat([df_VAD, anticipation])\n",
        "df_VAD = concat([df_VAD, anger])\n",
        "df_VAD = concat([df_VAD, surprise])\n",
        "df_VAD = concat([df_VAD, fear])\n",
        "df_VAD = concat([df_VAD, disgust])"
      ],
      "execution_count": 55,
      "outputs": []
    },
    {
      "cell_type": "markdown",
      "metadata": {
        "id": "VkawlFt6-cs9"
      },
      "source": [
        "### Delete duplicates & replace NaN with empty"
      ]
    },
    {
      "cell_type": "code",
      "metadata": {
        "id": "RG3ceBoe-bcM"
      },
      "source": [
        "#df_VAD = df_VAD.drop_duplicates(subset=['word'], keep=False)"
      ],
      "execution_count": 56,
      "outputs": []
    },
    {
      "cell_type": "code",
      "metadata": {
        "id": "3mf5Ha4f-gbt"
      },
      "source": [
        "df_VAD.replace(float('NaN'), '--', inplace=True)"
      ],
      "execution_count": 57,
      "outputs": []
    },
    {
      "cell_type": "markdown",
      "metadata": {
        "id": "wKwsNkIp-hXM"
      },
      "source": [
        "### Applying NLP to VAD dataset"
      ]
    },
    {
      "cell_type": "code",
      "metadata": {
        "id": "CxlEPzg--igw"
      },
      "source": [
        "# uncomment to NLP apply manually\n",
        "#df_VAD = nlp_apply(df_VAD, 'word')"
      ],
      "execution_count": 58,
      "outputs": []
    },
    {
      "cell_type": "code",
      "metadata": {
        "id": "Dfbqzv8pmsQX"
      },
      "source": [
        "# uncomment to NLP apply manually\n",
        "#df_VAD.to_csv('dataset_checkpoint.csv', encoding='utf-8', index=True)"
      ],
      "execution_count": 59,
      "outputs": []
    },
    {
      "cell_type": "code",
      "metadata": {
        "id": "k6qPQWSgDS5C",
        "outputId": "8fdc4e04-92fc-445c-e0df-d61165b5dc87",
        "colab": {
          "base_uri": "https://localhost:8080/",
          "height": 51
        }
      },
      "source": [
        "# comment to NLP apply manually\n",
        "df_VAD = pd.read_csv(io.StringIO(request_csv(checkpoint_url)), sep=',')"
      ],
      "execution_count": 60,
      "outputs": [
        {
          "output_type": "stream",
          "text": [
            "/usr/local/lib/python3.6/dist-packages/IPython/core/interactiveshell.py:2718: DtypeWarning: Columns (6) have mixed types.Specify dtype option on import or set low_memory=False.\n",
            "  interactivity=interactivity, compiler=compiler, result=result)\n"
          ],
          "name": "stderr"
        }
      ]
    },
    {
      "cell_type": "markdown",
      "metadata": {
        "id": "h19Jn-DI-lvP"
      },
      "source": [
        "### Minimum & max value with midpoint"
      ]
    },
    {
      "cell_type": "code",
      "metadata": {
        "id": "mUBKAss6-oW0"
      },
      "source": [
        "def min_max_value(df, c):\n",
        "    return df[c].min(), df[c].max()"
      ],
      "execution_count": 61,
      "outputs": []
    },
    {
      "cell_type": "code",
      "metadata": {
        "id": "6tYqZan6-odr"
      },
      "source": [
        "def midpoint(df, c):\n",
        "    '''Compute medium point from dataframe'''\n",
        "    x1, x2 = min_max_value(df, c)\n",
        "    return x2 - x1 / 2"
      ],
      "execution_count": 62,
      "outputs": []
    },
    {
      "cell_type": "code",
      "metadata": {
        "id": "uKTL1DuC-ojd"
      },
      "source": [
        "df_VAD = preprocessing_characteres(df_VAD, 'word')\n",
        "df_VAD['word'] = df_VAD['word'].str.strip()\n",
        "df_VAD = df_VAD.dropna()"
      ],
      "execution_count": 63,
      "outputs": []
    },
    {
      "cell_type": "code",
      "metadata": {
        "id": "9y204srw-opM"
      },
      "source": [
        "# COLUMNS: word, Arousal, Valence, Dominance\n",
        "arousal_mp = midpoint(df_VAD, 'Arousal')\n",
        "valence_mp = midpoint(df_VAD, 'Valence')\n",
        "dominance_mp = midpoint(df_VAD, 'Dominance')"
      ],
      "execution_count": 64,
      "outputs": []
    },
    {
      "cell_type": "code",
      "metadata": {
        "id": "wI0buXTt-ou_"
      },
      "source": [
        "# MIN AND MAX\n",
        "arousal_min, arousal_max = min_max_value(df_VAD, 'Arousal')\n",
        "valence_min, valence_max = min_max_value(df_VAD, 'Valence')\n",
        "dominance_min, dominance_max = min_max_value(df_VAD, 'Dominance')"
      ],
      "execution_count": 65,
      "outputs": []
    },
    {
      "cell_type": "code",
      "metadata": {
        "id": "XoDxn4OO-oz4"
      },
      "source": [
        "def midpoint_general(lst_min, lst_max):\n",
        "    return (max(lst_max) - min(lst_min)) / 2 "
      ],
      "execution_count": 66,
      "outputs": []
    },
    {
      "cell_type": "code",
      "metadata": {
        "id": "GTCwnEAZ-o5T"
      },
      "source": [
        "midpoint_VAD = midpoint_general(\n",
        "                                lst_min = [arousal_min, valence_min, dominance_min],\n",
        "                                lst_max = [arousal_max, valence_max, dominance_max]\n",
        "                                )"
      ],
      "execution_count": 67,
      "outputs": []
    },
    {
      "cell_type": "code",
      "metadata": {
        "id": "kkuGtMbw-o9q",
        "outputId": "76cfc9ae-36ce-46b5-9e1d-06c7c9a35deb",
        "colab": {
          "base_uri": "https://localhost:8080/",
          "height": 170
        }
      },
      "source": [
        "print('Min, Max')\n",
        "print('Arousal: {}\\nValence: {}\\nDominance {}\\n'.format(min_max_value(df_VAD, 'Arousal'), min_max_value(df_VAD, 'Valence'), min_max_value(df_VAD, 'Dominance')))\n",
        "\n",
        "print('Medium point')\n",
        "print('Arousal: {}\\nValence: {}\\nDominance {}'.format(arousal_mp, valence_mp, dominance_mp))"
      ],
      "execution_count": 68,
      "outputs": [
        {
          "output_type": "stream",
          "text": [
            "Min, Max\n",
            "Arousal: (0.046, 0.99)\n",
            "Valence: (0.0, 1.0)\n",
            "Dominance (0.045, 0.991)\n",
            "\n",
            "Medium point\n",
            "Arousal: 0.967\n",
            "Valence: 1.0\n",
            "Dominance 0.9685\n"
          ],
          "name": "stdout"
        }
      ]
    },
    {
      "cell_type": "markdown",
      "metadata": {
        "id": "Mdkv1L3o-1cH"
      },
      "source": [
        "---\n",
        "# **7.Quadrants**\n",
        "---"
      ]
    },
    {
      "cell_type": "markdown",
      "metadata": {
        "id": "20SbyCpm-96d"
      },
      "source": [
        "Also we can use:\n",
        "\n",
        "\n",
        "```python\n",
        "x_quad = df.query(\"A <= @midpoint_A and B <= @midpoint_B\")\n",
        "```\n",
        "\n"
      ]
    },
    {
      "cell_type": "code",
      "metadata": {
        "id": "jhwDcO4c-8vt",
        "outputId": "32ccfae9-fb13-4555-9c23-3f509dcb01de",
        "colab": {
          "base_uri": "https://localhost:8080/",
          "height": 34
        }
      },
      "source": [
        "midpoint_VAD"
      ],
      "execution_count": 69,
      "outputs": [
        {
          "output_type": "execute_result",
          "data": {
            "text/plain": [
              "0.5"
            ]
          },
          "metadata": {
            "tags": []
          },
          "execution_count": 69
        }
      ]
    },
    {
      "cell_type": "markdown",
      "metadata": {
        "id": "c3_Q-y5z_Axt"
      },
      "source": [
        "### I. High Arousal, Positive Valence"
      ]
    },
    {
      "cell_type": "code",
      "metadata": {
        "id": "4maTRPPa-9C8"
      },
      "source": [
        "first_quad =  df_VAD[(df_VAD['Arousal'] >= midpoint_VAD) & (df_VAD['Valence'] >= midpoint_VAD)]"
      ],
      "execution_count": 70,
      "outputs": []
    },
    {
      "cell_type": "code",
      "metadata": {
        "id": "1IQop-pZ_Csd"
      },
      "source": [
        "first_quad = first_quad.drop(first_quad[(first_quad['Flair'] == 'NEGATIVE') & (first_quad['Stanza'] == 1)].index)"
      ],
      "execution_count": 71,
      "outputs": []
    },
    {
      "cell_type": "code",
      "metadata": {
        "id": "2gwilIrI_C0G"
      },
      "source": [
        "first_quad['quadrant'] = 1"
      ],
      "execution_count": 72,
      "outputs": []
    },
    {
      "cell_type": "markdown",
      "metadata": {
        "id": "bwqER7HA_F7H"
      },
      "source": [
        "### II. High Arousal, Negative Valance"
      ]
    },
    {
      "cell_type": "code",
      "metadata": {
        "id": "CvQWsCYR_Hww"
      },
      "source": [
        "second_quad = df_VAD[(df_VAD['Arousal'] >= midpoint_VAD) & (df_VAD['Valence'] <= midpoint_VAD)]"
      ],
      "execution_count": 73,
      "outputs": []
    },
    {
      "cell_type": "code",
      "metadata": {
        "id": "oaKSLClj_H7D"
      },
      "source": [
        "second_quad = second_quad.drop(second_quad[(second_quad['Flair'] == 'POSITIVE') & (second_quad['Stanza'] == 2)].index)"
      ],
      "execution_count": 74,
      "outputs": []
    },
    {
      "cell_type": "code",
      "metadata": {
        "id": "p2GJ5gBZ_IA2"
      },
      "source": [
        "second_quad['quadrant'] = 2"
      ],
      "execution_count": 75,
      "outputs": []
    },
    {
      "cell_type": "markdown",
      "metadata": {
        "id": "WtzVbWJO_LRd"
      },
      "source": [
        "### III. Low Arousal, Negative Valance"
      ]
    },
    {
      "cell_type": "code",
      "metadata": {
        "id": "Ifal5cw__NgQ"
      },
      "source": [
        "third_quad = df_VAD[(df_VAD['Arousal'] <= midpoint_VAD) & (df_VAD['Valence'] <= midpoint_VAD)]"
      ],
      "execution_count": 76,
      "outputs": []
    },
    {
      "cell_type": "code",
      "metadata": {
        "id": "P0zSnMmB_NmS"
      },
      "source": [
        "third_quad = third_quad.drop(third_quad[(third_quad['Flair'] == 'POSITIVE') & (third_quad['Stanza'] == 2)].index)"
      ],
      "execution_count": 77,
      "outputs": []
    },
    {
      "cell_type": "code",
      "metadata": {
        "id": "xO04yE_H_Nqm"
      },
      "source": [
        "third_quad['quadrant'] = 3"
      ],
      "execution_count": 78,
      "outputs": []
    },
    {
      "cell_type": "markdown",
      "metadata": {
        "id": "4gXCPjyI_QZm"
      },
      "source": [
        "### IV. Low Arousal, Positive Valance"
      ]
    },
    {
      "cell_type": "code",
      "metadata": {
        "id": "UKRGjRrv_SRf"
      },
      "source": [
        "fourth_quad = df_VAD[(df_VAD['Arousal'] <= midpoint_VAD) & (df_VAD['Valence'] >= midpoint_VAD)]"
      ],
      "execution_count": 79,
      "outputs": []
    },
    {
      "cell_type": "code",
      "metadata": {
        "id": "1Hy3dN_F_SXj"
      },
      "source": [
        "fourth_quad = fourth_quad.drop(fourth_quad[(fourth_quad['Flair'] == 'NEGATIVE') & (fourth_quad['Stanza'] == 1)].index)"
      ],
      "execution_count": 80,
      "outputs": []
    },
    {
      "cell_type": "code",
      "metadata": {
        "id": "-VWhe-pO_Sct"
      },
      "source": [
        "fourth_quad['quadrant'] = 4"
      ],
      "execution_count": 81,
      "outputs": []
    },
    {
      "cell_type": "markdown",
      "metadata": {
        "id": "r70H8vp1_VOa"
      },
      "source": [
        "### PLOT VAD"
      ]
    },
    {
      "cell_type": "code",
      "metadata": {
        "id": "igjKC4P8_W8u",
        "outputId": "110b682c-c95c-4ecd-9d6b-8c0cb708077b",
        "colab": {
          "base_uri": "https://localhost:8080/",
          "height": 339
        }
      },
      "source": [
        "y_quad = list(map(len, [first_quad, second_quad, third_quad, fourth_quad]))\n",
        "\n",
        "print(y_quad)\n",
        "simple_bar(['first', 'second', 'third', 'fourth'], y_quad, size=(8, 4))"
      ],
      "execution_count": 82,
      "outputs": [
        {
          "output_type": "stream",
          "text": [
            "No handles with labels found to put in legend.\n"
          ],
          "name": "stderr"
        },
        {
          "output_type": "stream",
          "text": [
            "[23890, 30693, 9480, 5667]\n"
          ],
          "name": "stdout"
        },
        {
          "output_type": "display_data",
          "data": {
            "image/png": "[encoded data removed]",
            "text/plain": [
              "<Figure size 576x288 with 1 Axes>"
            ]
          },
          "metadata": {
            "tags": [],
            "needs_background": "light"
          }
        }
      ]
    },
    {
      "cell_type": "markdown",
      "metadata": {
        "id": "yPgcCz4-_aZe"
      },
      "source": [
        "---\n",
        "# **8. CATEGORIES**\n",
        "---\n",
        "There are four quadrants plus 3D called dominance (README.md)"
      ]
    },
    {
      "cell_type": "code",
      "metadata": {
        "id": "dMct0_dz_X9v"
      },
      "source": [
        "def find_word(word, df, c='word'):\n",
        "    return df[df[c].str.contains(word)]"
      ],
      "execution_count": 83,
      "outputs": []
    },
    {
      "cell_type": "markdown",
      "metadata": {
        "id": "zxV_RI_k_g_u"
      },
      "source": [
        "### Confident\n",
        "- confident -> trust\n",
        "- unconfident -> disgust"
      ]
    },
    {
      "cell_type": "code",
      "metadata": {
        "id": "cQnvamuT_hnV"
      },
      "source": [
        "confident = trust"
      ],
      "execution_count": 84,
      "outputs": []
    },
    {
      "cell_type": "code",
      "metadata": {
        "id": "8W5zAxPy_jAL"
      },
      "source": [
        "unconfident = disgust"
      ],
      "execution_count": 85,
      "outputs": []
    },
    {
      "cell_type": "code",
      "metadata": {
        "id": "nRitmrFt_jEP"
      },
      "source": [
        "confident['category'] = 'confident'\n",
        "unconfident['category'] = 'unconfident'\n",
        "\n",
        "# NOTE\n",
        "# this where just based on the Wheel of emotions (R. Plutchik)\n",
        "# as trust and disgust where opposites"
      ],
      "execution_count": 86,
      "outputs": []
    },
    {
      "cell_type": "markdown",
      "metadata": {
        "id": "v2uGpbMR_l4c"
      },
      "source": [
        "### Handles pressure\n",
        "In the positive side is included patience, focus and calm\n",
        "- POS : dominance strong + low arousal + positive valence\n",
        "- NEG : dominance weak + high arousal + negative valence"
      ]
    },
    {
      "cell_type": "code",
      "metadata": {
        "id": "mEpQlGyB_mg9"
      },
      "source": [
        "# Dominance: drop every weak feature\n",
        "pos_hp = fourth_quad\n",
        "pos_hp = pos_hp[(pos_hp['Dominance'] >= midpoint_VAD)]"
      ],
      "execution_count": 87,
      "outputs": []
    },
    {
      "cell_type": "code",
      "metadata": {
        "id": "Dwq1DoPh_ot4"
      },
      "source": [
        "# opposite quadrante (opposite to IV -> II)\n",
        "neg_hp = second_quad\n",
        "neg_hp = neg_hp[(neg_hp['Dominance'] <= midpoint_VAD)]"
      ],
      "execution_count": 88,
      "outputs": []
    },
    {
      "cell_type": "code",
      "metadata": {
        "id": "R4vT8OBn_pse"
      },
      "source": [
        "pos_hp['category'] = 'pos hp'\n",
        "neg_hp['category'] = 'neg hp'"
      ],
      "execution_count": 89,
      "outputs": []
    },
    {
      "cell_type": "markdown",
      "metadata": {
        "id": "SftE6pBg_rpt"
      },
      "source": [
        "### Organized\n",
        "- POS : anticipation + high arousal + positive valence   \n",
        "- NEG : surprise + low arousal + negative valence"
      ]
    },
    {
      "cell_type": "code",
      "metadata": {
        "id": "u3VhEZv7_sdl"
      },
      "source": [
        "organized = concat([anticipation, first_quad])"
      ],
      "execution_count": 90,
      "outputs": []
    },
    {
      "cell_type": "code",
      "metadata": {
        "id": "c0MzEZ0T_ssj"
      },
      "source": [
        "unorganized = concat([surprise, third_quad])"
      ],
      "execution_count": 91,
      "outputs": []
    },
    {
      "cell_type": "code",
      "metadata": {
        "id": "iXmpdVkB_swb"
      },
      "source": [
        "organized['category'] = 'organized'\n",
        "unorganized['cateogory'] = 'unorgnized'"
      ],
      "execution_count": 92,
      "outputs": []
    },
    {
      "cell_type": "markdown",
      "metadata": {
        "id": "tlLw7oCR_w_N"
      },
      "source": [
        "### Interested\n",
        "- POS : [anticipation] + high arousal + positive valence\n",
        "- NEG : [surprise] + low arousal + negative valence"
      ]
    },
    {
      "cell_type": "code",
      "metadata": {
        "id": "Ra5S8XAI_yUu"
      },
      "source": [
        "interested = anticipation\n",
        "\n",
        "# NOTE\n",
        "# this where just based on the Wheel of emotions (R. Plutchik)\n",
        "# as anticipation and surprise where opposites.\n",
        "# And each events are: \n",
        "# vigilance --> anticipation --> [interest]\n",
        "# amazement --> surprise --> [distraction]"
      ],
      "execution_count": 93,
      "outputs": []
    },
    {
      "cell_type": "code",
      "metadata": {
        "id": "Vymf1xu5_0R4"
      },
      "source": [
        "uninterested = surprise"
      ],
      "execution_count": 94,
      "outputs": []
    },
    {
      "cell_type": "code",
      "metadata": {
        "id": "APPNRL35_1ce"
      },
      "source": [
        "interested['category'] = 'interested'\n",
        "uninterested['category'] = 'uninterested'"
      ],
      "execution_count": 95,
      "outputs": []
    },
    {
      "cell_type": "markdown",
      "metadata": {
        "id": "32ZHmbFe_2pJ"
      },
      "source": [
        "### Happy\n",
        "- POS : joy + high arousal + positive valence\n",
        "- NEG : sadness + low arousal + negative valence"
      ]
    },
    {
      "cell_type": "code",
      "metadata": {
        "id": "VYs9ZG82_3p2"
      },
      "source": [
        "happy = joy"
      ],
      "execution_count": 96,
      "outputs": []
    },
    {
      "cell_type": "code",
      "metadata": {
        "id": "0Cs687yr_3tJ"
      },
      "source": [
        "unhappy = sadness"
      ],
      "execution_count": 97,
      "outputs": []
    },
    {
      "cell_type": "code",
      "metadata": {
        "id": "3NdAXSHF_3vt"
      },
      "source": [
        "happy['category'] = 'happy'\n",
        "unhappy['category'] = 'unhappy'"
      ],
      "execution_count": 98,
      "outputs": []
    },
    {
      "cell_type": "markdown",
      "metadata": {
        "id": "SeNMqS7k_6_R"
      },
      "source": [
        "### Friendly\n",
        "- POS : high arousal + positive valence + (positive) + (joy + trust)\n",
        "- NEG : anger + high arousal + negative valence"
      ]
    },
    {
      "cell_type": "code",
      "metadata": {
        "id": "dNzkxWY5AAU-"
      },
      "source": [
        "friendly = concat([joy, trust, positive])"
      ],
      "execution_count": 99,
      "outputs": []
    },
    {
      "cell_type": "code",
      "metadata": {
        "id": "VNvil5anACZw"
      },
      "source": [
        "unfriendly = concat([anger, disgust, negative])"
      ],
      "execution_count": 100,
      "outputs": []
    },
    {
      "cell_type": "code",
      "metadata": {
        "id": "CurwaXo7ACg3"
      },
      "source": [
        "friendly['category'] = 'friendly'\n",
        "unfriendly['category'] = 'unfriendly'"
      ],
      "execution_count": 101,
      "outputs": []
    },
    {
      "cell_type": "markdown",
      "metadata": {
        "id": "7YPz1mEvAEnI"
      },
      "source": [
        "## Dataset"
      ]
    },
    {
      "cell_type": "markdown",
      "metadata": {
        "id": "nNouwHvIAHgd"
      },
      "source": [
        "### Concatenating categories dataframe"
      ]
    },
    {
      "cell_type": "code",
      "metadata": {
        "id": "vbbXHg4YAIdA"
      },
      "source": [
        "categories_datasets = [confident, unconfident, pos_hp, neg_hp, interested, uninterested, happy, unhappy, friendly, unfriendly]\n",
        "df_categories = concat(categories_datasets)"
      ],
      "execution_count": 102,
      "outputs": []
    },
    {
      "cell_type": "code",
      "metadata": {
        "id": "GOFF35C_AJgY"
      },
      "source": [
        "df_categories.replace(float('NaN'), '--', inplace=True)"
      ],
      "execution_count": 103,
      "outputs": []
    },
    {
      "cell_type": "markdown",
      "metadata": {
        "id": "19WgEjrcALoy"
      },
      "source": [
        "### To CSV"
      ]
    },
    {
      "cell_type": "code",
      "metadata": {
        "id": "159BoFHeANcB"
      },
      "source": [
        "df_categories.to_csv('datasets/categories_dataset.csv', encoding='utf-8', index=True)"
      ],
      "execution_count": 104,
      "outputs": []
    },
    {
      "cell_type": "code",
      "metadata": {
        "id": "2pTl96ayANhr"
      },
      "source": [
        "# drop duplicates: should be for each quadrant\n",
        "# is not an option\n",
        "!mkdir 'test'\n",
        "df_categories_dropdup = df_categories.drop_duplicates(subset=['word'], keep=False, ignore_index=True)\n",
        "df_categories_dropdup.to_csv('test/categories_set.csv', encoding='utf-8', index=False)"
      ],
      "execution_count": 105,
      "outputs": []
    },
    {
      "cell_type": "code",
      "metadata": {
        "id": "-LeLNpYHANn2"
      },
      "source": [
        "df_categories_dropdup.to_csv('test/categories_set.csv', encoding='utf-8', index=False)"
      ],
      "execution_count": 106,
      "outputs": []
    },
    {
      "cell_type": "markdown",
      "metadata": {
        "id": "WTYEeVuyATUv"
      },
      "source": [
        "## PLOT Categories"
      ]
    },
    {
      "cell_type": "code",
      "metadata": {
        "id": "xiDa2xZ_AXtI",
        "outputId": "85673e21-54a1-4dc6-87d6-93dae52d7ff8",
        "colab": {
          "base_uri": "https://localhost:8080/",
          "height": 336
        }
      },
      "source": [
        "df_categories['category'].value_counts().plot(kind='bar')"
      ],
      "execution_count": 107,
      "outputs": [
        {
          "output_type": "execute_result",
          "data": {
            "text/plain": [
              "<matplotlib.axes._subplots.AxesSubplot at 0x7f3eb6f0ada0>"
            ]
          },
          "metadata": {
            "tags": []
          },
          "execution_count": 107
        },
        {
          "output_type": "display_data",
          "data": {
            "image/png": "[encoded data removed]",
            "text/plain": [
              "<Figure size 432x288 with 1 Axes>"
            ]
          },
          "metadata": {
            "tags": [],
            "needs_background": "light"
          }
        }
      ]
    },
    {
      "cell_type": "markdown",
      "metadata": {
        "id": "0ljQguLfAZRg"
      },
      "source": [
        "#### POSITIVE"
      ]
    },
    {
      "cell_type": "code",
      "metadata": {
        "id": "_GUIgXKcAa3g",
        "outputId": "99d02695-652a-4f75-f41b-97565f1a7e18",
        "colab": {
          "base_uri": "https://localhost:8080/",
          "height": 446
        }
      },
      "source": [
        "simple_bar(\n",
        "    x=['confident', 'can hp', 'organized', 'interested', 'happy', 'friendly'],\n",
        "    y=list(map(len, [confident, pos_hp, organized, interested, happy, friendly])),\n",
        "    size=(10, 6)\n",
        ")"
      ],
      "execution_count": 108,
      "outputs": [
        {
          "output_type": "stream",
          "text": [
            "No handles with labels found to put in legend.\n"
          ],
          "name": "stderr"
        },
        {
          "output_type": "display_data",
          "data": {
            "image/png": "[encoded data removed]",
            "text/plain": [
              "<Figure size 720x432 with 1 Axes>"
            ]
          },
          "metadata": {
            "tags": [],
            "needs_background": "light"
          }
        }
      ]
    },
    {
      "cell_type": "markdown",
      "metadata": {
        "id": "0gfRMA2IAcLQ"
      },
      "source": [
        "#### NEGETIVE"
      ]
    },
    {
      "cell_type": "code",
      "metadata": {
        "id": "0ohkHaQBAdzm",
        "outputId": "4ae853e4-d165-451a-9a4e-bc05863d3b58",
        "colab": {
          "base_uri": "https://localhost:8080/",
          "height": 459
        }
      },
      "source": [
        "simple_bar(\n",
        "    x=['unconfident', 'cant hp', 'unorganized', 'uninterested', 'unhappy', 'unfriendly'],\n",
        "    y=list(map(len, [unconfident, neg_hp, unorganized, uninterested, unhappy, unfriendly])),\n",
        "    size=(10, 6)\n",
        ")"
      ],
      "execution_count": 109,
      "outputs": [
        {
          "output_type": "stream",
          "text": [
            "No handles with labels found to put in legend.\n"
          ],
          "name": "stderr"
        },
        {
          "output_type": "display_data",
          "data": {
            "image/png": "[encoded data removed]",
            "text/plain": [
              "<Figure size 720x432 with 1 Axes>"
            ]
          },
          "metadata": {
            "tags": [],
            "needs_background": "light"
          }
        }
      ]
    },
    {
      "cell_type": "markdown",
      "metadata": {
        "id": "2-DiLDN73P2J"
      },
      "source": [
        "---\n",
        "# **9. POS (Part Of the Speech)**\n",
        "---\n",
        "- using POS from stanza and nltk treebank\n",
        "- then comparing the results"
      ]
    },
    {
      "cell_type": "markdown",
      "metadata": {
        "id": "dKuoCjRm5MmL"
      },
      "source": [
        "## Stanza POS"
      ]
    },
    {
      "cell_type": "code",
      "metadata": {
        "id": "jEmngvMU2wF7"
      },
      "source": [
        "df = df_categories"
      ],
      "execution_count": 110,
      "outputs": []
    },
    {
      "cell_type": "code",
      "metadata": {
        "id": "TMTe84Mo22i9"
      },
      "source": [
        "def stanza_pos(text):\n",
        "    doc = stNLP(text)\n",
        "    for sent in doc.sentences:\n",
        "        for word in sent.words:\n",
        "            return word.upos"
      ],
      "execution_count": 111,
      "outputs": []
    },
    {
      "cell_type": "code",
      "metadata": {
        "id": "n-ihQZ7L3W7Z"
      },
      "source": [
        "df.replace('', float('NaN'), inplace=True)\n",
        "df.dropna(subset=['word'], inplace=True)"
      ],
      "execution_count": 112,
      "outputs": []
    },
    {
      "cell_type": "code",
      "metadata": {
        "id": "9mAnJlWa3rxD"
      },
      "source": [
        "# uncomment to apply spacy POS\n",
        "#df['POS stza'] = df['word'].apply(lambda x: stanza_pos(text=x))"
      ],
      "execution_count": 116,
      "outputs": []
    },
    {
      "cell_type": "markdown",
      "metadata": {
        "id": "1jRzH20U5Qc2"
      },
      "source": [
        "## NLTK treebank POS"
      ]
    },
    {
      "cell_type": "code",
      "metadata": {
        "id": "WiShh2Mb6fnV"
      },
      "source": [
        "def nltk_pos(text):\n",
        "    # pos_tag comes in as capital letters i.e. 'JJR' or 'NN'\n",
        "    tag_dict = {\"J\": \"ADJ\", \"N\": \"NOUN\", \"V\": \"VERB\", \"R\": \"ADV\"}\n",
        "\n",
        "    token = word_tokenize(text)\n",
        "    pos_tag = (nltk.pos_tag(token)[0])[1]\n",
        "\n",
        "    # returns NOUN if the pos_tag[0] doesn't exist in tag_dict\n",
        "    return tag_dict.get(pos_tag[0], 'NOUN')"
      ],
      "execution_count": 115,
      "outputs": []
    },
    {
      "cell_type": "code",
      "metadata": {
        "id": "ezjQrWjFC-lz"
      },
      "source": [
        "# uncomment to apply spacy POS\n",
        "#df['POS nlkt'] = df['word'].apply(lambda x: nltk_pos(text=x))"
      ],
      "execution_count": 117,
      "outputs": []
    },
    {
      "cell_type": "markdown",
      "metadata": {
        "id": "SinE7r8IzSmG"
      },
      "source": [
        "## Spacy POS"
      ]
    },
    {
      "cell_type": "code",
      "metadata": {
        "id": "BX8QzqXchjcG"
      },
      "source": [
        "def spacy_pos(text):\n",
        "    for token in spNLP(text):\n",
        "        return token.pos_"
      ],
      "execution_count": 118,
      "outputs": []
    },
    {
      "cell_type": "code",
      "metadata": {
        "id": "NMlmfaMRz23U"
      },
      "source": [
        "# uncomment to apply spacy POS\n",
        "# df['POS spcy'] = df['word'].apply(lambda x: spacy_pos(x))"
      ],
      "execution_count": 119,
      "outputs": []
    },
    {
      "cell_type": "code",
      "metadata": {
        "id": "9rwqAdfHcXce",
        "outputId": "4c83a3e5-3d54-4917-8517-eaba8fb601f7",
        "colab": {
          "base_uri": "https://localhost:8080/",
          "height": 51
        }
      },
      "source": [
        "# comment to apply spacy POS\n",
        "df = pd.read_csv(io.StringIO(request_csv(spacy_checkpoint)), sep=',', encoding='utf-8')"
      ],
      "execution_count": 120,
      "outputs": [
        {
          "output_type": "stream",
          "text": [
            "/usr/local/lib/python3.6/dist-packages/IPython/core/interactiveshell.py:2718: DtypeWarning: Columns (3) have mixed types.Specify dtype option on import or set low_memory=False.\n",
            "  interactivity=interactivity, compiler=compiler, result=result)\n"
          ],
          "name": "stderr"
        }
      ]
    },
    {
      "cell_type": "markdown",
      "metadata": {
        "id": "Qm_TUD3ppGJS"
      },
      "source": [
        "# Final processing"
      ]
    },
    {
      "cell_type": "code",
      "metadata": {
        "id": "F8lSmZ86FHqm"
      },
      "source": [
        "df.drop(columns='Unnamed: 0', inplace=True)"
      ],
      "execution_count": null,
      "outputs": []
    },
    {
      "cell_type": "code",
      "metadata": {
        "id": "epM3L-xoqFaG"
      },
      "source": [
        "df = df.drop(columns=['score', 'quadrant'])"
      ],
      "execution_count": null,
      "outputs": []
    },
    {
      "cell_type": "code",
      "metadata": {
        "id": "ySDhPW3JrtmH"
      },
      "source": [
        "df = df.astype(str) \n",
        "for column in list(df.columns):\n",
        "    df = df.drop(df[(df[column] == '--')].index)"
      ],
      "execution_count": 126,
      "outputs": []
    },
    {
      "cell_type": "code",
      "metadata": {
        "id": "8lH7SRlNudE2"
      },
      "source": [
        "# Changing all float numbers using only two decimals\n",
        "for column in ['Compound', 'Subjectivity', 'Stanza', 'Valence', 'Arousal', 'Dominance']:\n",
        "    df[column] = df[column].apply(lambda x: round(float(x), 2))"
      ],
      "execution_count": 127,
      "outputs": []
    },
    {
      "cell_type": "markdown",
      "metadata": {
        "id": "ti9t8I7Pghii"
      },
      "source": [
        "## Min Counter from df.category"
      ]
    },
    {
      "cell_type": "code",
      "metadata": {
        "id": "f8xoUVmaegAc"
      },
      "source": [
        "count_categories = dict(Counter(df.category))\n",
        "min_count_categories = min(list(count_categories.values()))"
      ],
      "execution_count": 145,
      "outputs": []
    },
    {
      "cell_type": "code",
      "metadata": {
        "id": "7icbXTk0gyUF",
        "outputId": "26bd9896-e787-46d9-afe6-4e68345efff6",
        "colab": {
          "base_uri": "https://localhost:8080/",
          "height": 336
        }
      },
      "source": [
        "df['category'].value_counts().plot(kind='bar')"
      ],
      "execution_count": 149,
      "outputs": [
        {
          "output_type": "execute_result",
          "data": {
            "text/plain": [
              "<matplotlib.axes._subplots.AxesSubplot at 0x7f3ea76628d0>"
            ]
          },
          "metadata": {
            "tags": []
          },
          "execution_count": 149
        },
        {
          "output_type": "display_data",
          "data": {
            "image/png": "[encoded data removed]",
            "text/plain": [
              "<Figure size 432x288 with 1 Axes>"
            ]
          },
          "metadata": {
            "tags": [],
            "needs_background": "light"
          }
        }
      ]
    },
    {
      "cell_type": "markdown",
      "metadata": {
        "id": "TcA1bOBe8b0g"
      },
      "source": [
        "## 1000 samples or min categories\n",
        "- 100 per 10 categories\n",
        "- min_catergory per 10 categories"
      ]
    },
    {
      "cell_type": "code",
      "metadata": {
        "id": "QBm22PuIxY_l"
      },
      "source": [
        "df_2 = pd.DataFrame(columns=list(df.columns))"
      ],
      "execution_count": 150,
      "outputs": []
    },
    {
      "cell_type": "code",
      "metadata": {
        "id": "j566nQXj1RDD",
        "outputId": "897a767d-d7bd-4b24-9f25-f4b6c5864959",
        "colab": {
          "base_uri": "https://localhost:8080/",
          "height": 49
        }
      },
      "source": [
        "df_2"
      ],
      "execution_count": 151,
      "outputs": [
        {
          "output_type": "execute_result",
          "data": {
            "text/html": [
              "<div>\n",
              "<style scoped>\n",
              "    .dataframe tbody tr th:only-of-type {\n",
              "        vertical-align: middle;\n",
              "    }\n",
              "\n",
              "    .dataframe tbody tr th {\n",
              "        vertical-align: top;\n",
              "    }\n",
              "\n",
              "    .dataframe thead th {\n",
              "        text-align: right;\n",
              "    }\n",
              "</style>\n",
              "<table border=\"1\" class=\"dataframe\">\n",
              "  <thead>\n",
              "    <tr style=\"text-align: right;\">\n",
              "      <th></th>\n",
              "      <th>category</th>\n",
              "      <th>word</th>\n",
              "      <th>Compound</th>\n",
              "      <th>Subjectivity</th>\n",
              "      <th>Stanza</th>\n",
              "      <th>Flair</th>\n",
              "      <th>Valence</th>\n",
              "      <th>Arousal</th>\n",
              "      <th>Dominance</th>\n",
              "      <th>POS stza</th>\n",
              "      <th>POS nlkt</th>\n",
              "      <th>POS spcy</th>\n",
              "    </tr>\n",
              "  </thead>\n",
              "  <tbody>\n",
              "  </tbody>\n",
              "</table>\n",
              "</div>"
            ],
            "text/plain": [
              "Empty DataFrame\n",
              "Columns: [category, word, Compound, Subjectivity, Stanza, Flair, Valence, Arousal, Dominance, POS stza, POS nlkt, POS spcy]\n",
              "Index: []"
            ]
          },
          "metadata": {
            "tags": []
          },
          "execution_count": 151
        }
      ]
    },
    {
      "cell_type": "code",
      "metadata": {
        "id": "BfdchtVgvE_u"
      },
      "source": [
        "def append_new_df(df, df_2, s, n):\n",
        "    c = 1\n",
        "    for index, row in df.iterrows():\n",
        "        if s == row[0]:\n",
        "            if c <= n:\n",
        "                df_2 = df_2.append(row)\n",
        "                c += 1\n",
        "    return df_2"
      ],
      "execution_count": 152,
      "outputs": []
    },
    {
      "cell_type": "code",
      "metadata": {
        "id": "INgLn0hPyzs9"
      },
      "source": [
        "df_2 = pd.DataFrame()\n",
        "n = min_count_categories #100\n",
        "\n",
        "for s in sorted(list(set(df.category))):\n",
        "    df_2 = append_new_df(df, df_2, s, n=n)"
      ],
      "execution_count": 153,
      "outputs": []
    },
    {
      "cell_type": "code",
      "metadata": {
        "id": "V86cZTao2S_7",
        "outputId": "d5dd9bfa-ca26-4698-ddf6-419c0d4cbd8d",
        "colab": {
          "base_uri": "https://localhost:8080/",
          "height": 187
        }
      },
      "source": [
        "Counter(df_2['category'])"
      ],
      "execution_count": 154,
      "outputs": [
        {
          "output_type": "execute_result",
          "data": {
            "text/plain": [
              "Counter({'confident': 3266,\n",
              "         'friendly': 3266,\n",
              "         'happy': 3266,\n",
              "         'interested': 3266,\n",
              "         'neg hp': 3266,\n",
              "         'pos hp': 3266,\n",
              "         'unconfident': 3266,\n",
              "         'unfriendly': 3266,\n",
              "         'unhappy': 3266,\n",
              "         'uninterested': 3266})"
            ]
          },
          "metadata": {
            "tags": []
          },
          "execution_count": 154
        }
      ]
    },
    {
      "cell_type": "code",
      "metadata": {
        "id": "g_kNRzZx-llq"
      },
      "source": [
        "balanced_name = 'categories_dataset_min_counter' # 'categories_dataset_1000.csv'\n",
        "df_2.to_csv(path_or_buf=balanced_name+'.csv', encoding='utf-8', index=True)"
      ],
      "execution_count": 162,
      "outputs": []
    },
    {
      "cell_type": "markdown",
      "metadata": {
        "id": "1QKWswA4zgDW"
      },
      "source": [
        "## checking data types and nan"
      ]
    },
    {
      "cell_type": "code",
      "metadata": {
        "id": "KLypAVRhxsTy",
        "outputId": "dc3410c6-645c-435e-970d-7820897cad3f",
        "colab": {
          "base_uri": "https://localhost:8080/",
          "height": 238
        }
      },
      "source": [
        "df.dtypes"
      ],
      "execution_count": 156,
      "outputs": [
        {
          "output_type": "execute_result",
          "data": {
            "text/plain": [
              "category         object\n",
              "word             object\n",
              "Compound        float64\n",
              "Subjectivity    float64\n",
              "Stanza          float64\n",
              "Flair            object\n",
              "Valence         float64\n",
              "Arousal         float64\n",
              "Dominance       float64\n",
              "POS stza         object\n",
              "POS nlkt         object\n",
              "POS spcy         object\n",
              "dtype: object"
            ]
          },
          "metadata": {
            "tags": []
          },
          "execution_count": 156
        }
      ]
    },
    {
      "cell_type": "code",
      "metadata": {
        "id": "Nr5AYADd0D-e",
        "outputId": "b28a5b8c-33e7-46cf-d819-6d2241cde799",
        "colab": {
          "base_uri": "https://localhost:8080/",
          "height": 272
        }
      },
      "source": [
        "# checking for nan values & filling them with 0\n",
        "check_nan = [i for i in (df.isnull().any()) if i == True]\n",
        "try:\n",
        "    check_nan.index(True)\n",
        "    #df.fillna(value=0, inplace=True)\n",
        "except:\n",
        "    print('No NaN values found\\n')\n",
        "finally:\n",
        "    print(df.isna().any())"
      ],
      "execution_count": 157,
      "outputs": [
        {
          "output_type": "stream",
          "text": [
            "No NaN values found\n",
            "\n",
            "category        False\n",
            "word            False\n",
            "Compound        False\n",
            "Subjectivity    False\n",
            "Stanza          False\n",
            "Flair           False\n",
            "Valence         False\n",
            "Arousal         False\n",
            "Dominance       False\n",
            "POS stza        False\n",
            "POS nlkt        False\n",
            "POS spcy        False\n",
            "dtype: bool\n"
          ],
          "name": "stdout"
        }
      ]
    },
    {
      "cell_type": "markdown",
      "metadata": {
        "id": "tx4Yrgnxy5CP"
      },
      "source": [
        "## Plot"
      ]
    },
    {
      "cell_type": "code",
      "metadata": {
        "id": "c2zT7pwxy98l"
      },
      "source": [
        "# histogram\n",
        "from collections import Counter\n",
        "\n",
        "def words_histogram(text_arr, N=100, figsize=(8, 16)):\n",
        "    text = ' '.join([str(elem) for elem in text_arr])\n",
        "\n",
        "    words = text.split()\n",
        "    counts = Counter(words)\n",
        "    serie = pd.Series(counts) # convert dictionary to pandas.Series.object\n",
        "\n",
        "    # sort the values (in ascending order) of the serie and sleect the N most frequent words\n",
        "    first_N = serie.sort_values().tail(N) # simmilar to most_common but most efficient, because calculates the frequencies just once\n",
        "\n",
        "    ax = first_N.plot.barh(figsize=figsize) # make the horizontal bar plot, set the size of the figure\n",
        "    i = 0\n",
        "    xoffset = .1 # value to adjust the text label\n",
        "\n",
        "    for v in first_N.values:\n",
        "        # adds the text next to each bar\n",
        "        ax.text(y=i, x=v + xoffset, s=v, ha='left', va='center')\n",
        "        i += 1"
      ],
      "execution_count": 158,
      "outputs": []
    },
    {
      "cell_type": "code",
      "metadata": {
        "id": "kMDs3YbSzAis"
      },
      "source": [
        "x_train = np.array(list(df.word), dtype='<U33')"
      ],
      "execution_count": 159,
      "outputs": []
    },
    {
      "cell_type": "code",
      "metadata": {
        "id": "UruuxPL5zDpL",
        "outputId": "5e76e925-76b1-4831-8103-1c0230565d26",
        "colab": {
          "base_uri": "https://localhost:8080/",
          "height": 374
        }
      },
      "source": [
        "words_histogram(text_arr=x_train, N=30, figsize=(3, 6))"
      ],
      "execution_count": 160,
      "outputs": [
        {
          "output_type": "display_data",
          "data": {
            "image/png": "[encoded data removed]",
            "text/plain": [
              "<Figure size 216x432 with 1 Axes>"
            ]
          },
          "metadata": {
            "tags": [],
            "needs_background": "light"
          }
        }
      ]
    },
    {
      "cell_type": "code",
      "metadata": {
        "id": "t0X3FDFJy7y-",
        "outputId": "f6424c37-3120-4460-fc7b-0c21b03ff23a",
        "colab": {
          "base_uri": "https://localhost:8080/",
          "height": 336
        }
      },
      "source": [
        "df['category'].value_counts().plot(kind='bar')"
      ],
      "execution_count": 161,
      "outputs": [
        {
          "output_type": "execute_result",
          "data": {
            "text/plain": [
              "<matplotlib.axes._subplots.AxesSubplot at 0x7f3ea4950e80>"
            ]
          },
          "metadata": {
            "tags": []
          },
          "execution_count": 161
        },
        {
          "output_type": "display_data",
          "data": {
            "image/png": "[encoded data removed]",
            "text/plain": [
              "<Figure size 432x288 with 1 Axes>"
            ]
          },
          "metadata": {
            "tags": [],
            "needs_background": "light"
          }
        }
      ]
    },
    {
      "cell_type": "markdown",
      "metadata": {
        "id": "ssNvHVqb0NPR"
      },
      "source": [
        "## to csv"
      ]
    },
    {
      "cell_type": "code",
      "metadata": {
        "id": "RSpWdpHW3_ww"
      },
      "source": [
        "df.to_csv('categories_dataset.csv', encoding='utf-8', index=True)"
      ],
      "execution_count": null,
      "outputs": []
    }
  ]
}