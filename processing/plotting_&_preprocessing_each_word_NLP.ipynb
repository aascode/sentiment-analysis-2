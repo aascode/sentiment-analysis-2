{
  "nbformat": 4,
  "nbformat_minor": 0,
  "metadata": {
    "colab": {
      "name": "plotting & preprocessing each word NLP.ipynb",
      "provenance": [],
      "collapsed_sections": [],
      "toc_visible": true,
      "machine_shape": "hm"
    },
    "kernelspec": {
      "name": "python3",
      "display_name": "Python 3"
    },
    "accelerator": "GPU"
  },
  "cells": [
    {
      "cell_type": "markdown",
      "metadata": {
        "id": "MvKwORjrfciW",
        "colab_type": "text"
      },
      "source": [
        "---\n",
        "# **1. Installation**\n",
        "---"
      ]
    },
    {
      "cell_type": "code",
      "metadata": {
        "id": "ziQyamb7gKSt",
        "colab_type": "code",
        "colab": {
          "base_uri": "https://localhost:8080/",
          "height": 1000
        },
        "outputId": "9434b20a-9620-413c-b794-c9e6f93f0dec"
      },
      "source": [
        "!pip install nltk\n",
        "!pip install --upgrade git+https://github.com/flairNLP/flair.git\n",
        "!pip install textblob\n",
        "!pip install stanza\n",
        "!pip install spacy\n",
        "!pip install tqdm"
      ],
      "execution_count": 1,
      "outputs": [
        {
          "output_type": "stream",
          "text": [
            "Requirement already satisfied: nltk in /usr/local/lib/python3.6/dist-packages (3.2.5)\n",
            "Requirement already satisfied: six in /usr/local/lib/python3.6/dist-packages (from nltk) (1.15.0)\n",
            "Collecting git+https://github.com/flairNLP/flair.git\n",
            "  Cloning https://github.com/flairNLP/flair.git to /tmp/pip-req-build-t4mxrpuh\n",
            "  Running command git clone -q https://github.com/flairNLP/flair.git /tmp/pip-req-build-t4mxrpuh\n",
            "  Installing build dependencies ... \u001b[?25l\u001b[?25hdone\n",
            "  Getting requirements to build wheel ... \u001b[?25l\u001b[?25hdone\n",
            "    Preparing wheel metadata ... \u001b[?25l\u001b[?25hdone\n",
            "Requirement already satisfied, skipping upgrade: mpld3==0.3 in /usr/local/lib/python3.6/dist-packages (from flair==0.6.0.post1) (0.3)\n",
            "Requirement already satisfied, skipping upgrade: gensim>=3.4.0 in /usr/local/lib/python3.6/dist-packages (from flair==0.6.0.post1) (3.6.0)\n",
            "Requirement already satisfied, skipping upgrade: tqdm>=4.26.0 in /usr/local/lib/python3.6/dist-packages (from flair==0.6.0.post1) (4.41.1)\n",
            "Requirement already satisfied, skipping upgrade: lxml in /usr/local/lib/python3.6/dist-packages (from flair==0.6.0.post1) (4.2.6)\n",
            "Requirement already satisfied, skipping upgrade: bpemb>=0.3.2 in /usr/local/lib/python3.6/dist-packages (from flair==0.6.0.post1) (0.3.2)\n",
            "Requirement already satisfied, skipping upgrade: regex in /usr/local/lib/python3.6/dist-packages (from flair==0.6.0.post1) (2019.12.20)\n",
            "Requirement already satisfied, skipping upgrade: hyperopt>=0.1.1 in /usr/local/lib/python3.6/dist-packages (from flair==0.6.0.post1) (0.1.2)\n",
            "Requirement already satisfied, skipping upgrade: sqlitedict>=1.6.0 in /usr/local/lib/python3.6/dist-packages (from flair==0.6.0.post1) (1.7.0)\n",
            "Requirement already satisfied, skipping upgrade: langdetect in /usr/local/lib/python3.6/dist-packages (from flair==0.6.0.post1) (1.0.8)\n",
            "Requirement already satisfied, skipping upgrade: torch>=1.1.0 in /usr/local/lib/python3.6/dist-packages (from flair==0.6.0.post1) (1.6.0+cu101)\n",
            "Requirement already satisfied, skipping upgrade: ftfy in /usr/local/lib/python3.6/dist-packages (from flair==0.6.0.post1) (5.8)\n",
            "Requirement already satisfied, skipping upgrade: segtok>=1.5.7 in /usr/local/lib/python3.6/dist-packages (from flair==0.6.0.post1) (1.5.10)\n",
            "Requirement already satisfied, skipping upgrade: janome in /usr/local/lib/python3.6/dist-packages (from flair==0.6.0.post1) (0.4.0)\n",
            "Requirement already satisfied, skipping upgrade: transformers>=3.0.0 in /usr/local/lib/python3.6/dist-packages (from flair==0.6.0.post1) (3.1.0)\n",
            "Requirement already satisfied, skipping upgrade: deprecated>=1.2.4 in /usr/local/lib/python3.6/dist-packages (from flair==0.6.0.post1) (1.2.10)\n",
            "Requirement already satisfied, skipping upgrade: sentencepiece!=0.1.92 in /usr/local/lib/python3.6/dist-packages (from flair==0.6.0.post1) (0.1.91)\n",
            "Requirement already satisfied, skipping upgrade: tabulate in /usr/local/lib/python3.6/dist-packages (from flair==0.6.0.post1) (0.8.7)\n",
            "Requirement already satisfied, skipping upgrade: pytest>=5.3.2 in /usr/local/lib/python3.6/dist-packages (from flair==0.6.0.post1) (6.0.1)\n",
            "Requirement already satisfied, skipping upgrade: matplotlib>=2.2.3 in /usr/local/lib/python3.6/dist-packages (from flair==0.6.0.post1) (3.2.2)\n",
            "Requirement already satisfied, skipping upgrade: python-dateutil>=2.6.1 in /usr/local/lib/python3.6/dist-packages (from flair==0.6.0.post1) (2.8.1)\n",
            "Requirement already satisfied, skipping upgrade: scikit-learn>=0.21.3 in /usr/local/lib/python3.6/dist-packages (from flair==0.6.0.post1) (0.22.2.post1)\n",
            "Requirement already satisfied, skipping upgrade: konoha<5.0.0,>=4.0.0 in /usr/local/lib/python3.6/dist-packages (from flair==0.6.0.post1) (4.6.1)\n",
            "Requirement already satisfied, skipping upgrade: smart-open>=1.2.1 in /usr/local/lib/python3.6/dist-packages (from gensim>=3.4.0->flair==0.6.0.post1) (2.1.0)\n",
            "Requirement already satisfied, skipping upgrade: six>=1.5.0 in /usr/local/lib/python3.6/dist-packages (from gensim>=3.4.0->flair==0.6.0.post1) (1.15.0)\n",
            "Requirement already satisfied, skipping upgrade: scipy>=0.18.1 in /usr/local/lib/python3.6/dist-packages (from gensim>=3.4.0->flair==0.6.0.post1) (1.4.1)\n",
            "Requirement already satisfied, skipping upgrade: numpy>=1.11.3 in /usr/local/lib/python3.6/dist-packages (from gensim>=3.4.0->flair==0.6.0.post1) (1.18.5)\n",
            "Requirement already satisfied, skipping upgrade: requests in /usr/local/lib/python3.6/dist-packages (from bpemb>=0.3.2->flair==0.6.0.post1) (2.23.0)\n",
            "Requirement already satisfied, skipping upgrade: networkx in /usr/local/lib/python3.6/dist-packages (from hyperopt>=0.1.1->flair==0.6.0.post1) (2.5)\n",
            "Requirement already satisfied, skipping upgrade: pymongo in /usr/local/lib/python3.6/dist-packages (from hyperopt>=0.1.1->flair==0.6.0.post1) (3.11.0)\n",
            "Requirement already satisfied, skipping upgrade: future in /usr/local/lib/python3.6/dist-packages (from hyperopt>=0.1.1->flair==0.6.0.post1) (0.16.0)\n",
            "Requirement already satisfied, skipping upgrade: wcwidth in /usr/local/lib/python3.6/dist-packages (from ftfy->flair==0.6.0.post1) (0.2.5)\n",
            "Requirement already satisfied, skipping upgrade: dataclasses; python_version < \"3.7\" in /usr/local/lib/python3.6/dist-packages (from transformers>=3.0.0->flair==0.6.0.post1) (0.7)\n",
            "Requirement already satisfied, skipping upgrade: packaging in /usr/local/lib/python3.6/dist-packages (from transformers>=3.0.0->flair==0.6.0.post1) (20.4)\n",
            "Requirement already satisfied, skipping upgrade: tokenizers==0.8.1.rc2 in /usr/local/lib/python3.6/dist-packages (from transformers>=3.0.0->flair==0.6.0.post1) (0.8.1rc2)\n",
            "Requirement already satisfied, skipping upgrade: sacremoses in /usr/local/lib/python3.6/dist-packages (from transformers>=3.0.0->flair==0.6.0.post1) (0.0.43)\n",
            "Requirement already satisfied, skipping upgrade: filelock in /usr/local/lib/python3.6/dist-packages (from transformers>=3.0.0->flair==0.6.0.post1) (3.0.12)\n",
            "Requirement already satisfied, skipping upgrade: wrapt<2,>=1.10 in /usr/local/lib/python3.6/dist-packages (from deprecated>=1.2.4->flair==0.6.0.post1) (1.12.1)\n",
            "Requirement already satisfied, skipping upgrade: pluggy<1.0,>=0.12 in /usr/local/lib/python3.6/dist-packages (from pytest>=5.3.2->flair==0.6.0.post1) (0.13.1)\n",
            "Requirement already satisfied, skipping upgrade: attrs>=17.4.0 in /usr/local/lib/python3.6/dist-packages (from pytest>=5.3.2->flair==0.6.0.post1) (20.1.0)\n",
            "Requirement already satisfied, skipping upgrade: py>=1.8.2 in /usr/local/lib/python3.6/dist-packages (from pytest>=5.3.2->flair==0.6.0.post1) (1.9.0)\n",
            "Requirement already satisfied, skipping upgrade: more-itertools>=4.0.0 in /usr/local/lib/python3.6/dist-packages (from pytest>=5.3.2->flair==0.6.0.post1) (8.4.0)\n",
            "Requirement already satisfied, skipping upgrade: toml in /usr/local/lib/python3.6/dist-packages (from pytest>=5.3.2->flair==0.6.0.post1) (0.10.1)\n",
            "Requirement already satisfied, skipping upgrade: importlib-metadata>=0.12; python_version < \"3.8\" in /usr/local/lib/python3.6/dist-packages (from pytest>=5.3.2->flair==0.6.0.post1) (1.7.0)\n",
            "Requirement already satisfied, skipping upgrade: iniconfig in /usr/local/lib/python3.6/dist-packages (from pytest>=5.3.2->flair==0.6.0.post1) (1.0.1)\n",
            "Requirement already satisfied, skipping upgrade: pyparsing!=2.0.4,!=2.1.2,!=2.1.6,>=2.0.1 in /usr/local/lib/python3.6/dist-packages (from matplotlib>=2.2.3->flair==0.6.0.post1) (2.4.7)\n",
            "Requirement already satisfied, skipping upgrade: cycler>=0.10 in /usr/local/lib/python3.6/dist-packages (from matplotlib>=2.2.3->flair==0.6.0.post1) (0.10.0)\n",
            "Requirement already satisfied, skipping upgrade: kiwisolver>=1.0.1 in /usr/local/lib/python3.6/dist-packages (from matplotlib>=2.2.3->flair==0.6.0.post1) (1.2.0)\n",
            "Requirement already satisfied, skipping upgrade: joblib>=0.11 in /usr/local/lib/python3.6/dist-packages (from scikit-learn>=0.21.3->flair==0.6.0.post1) (0.16.0)\n",
            "Requirement already satisfied, skipping upgrade: overrides==3.0.0 in /usr/local/lib/python3.6/dist-packages (from konoha<5.0.0,>=4.0.0->flair==0.6.0.post1) (3.0.0)\n",
            "Requirement already satisfied, skipping upgrade: boto in /usr/local/lib/python3.6/dist-packages (from smart-open>=1.2.1->gensim>=3.4.0->flair==0.6.0.post1) (2.49.0)\n",
            "Requirement already satisfied, skipping upgrade: boto3 in /usr/local/lib/python3.6/dist-packages (from smart-open>=1.2.1->gensim>=3.4.0->flair==0.6.0.post1) (1.14.48)\n",
            "Requirement already satisfied, skipping upgrade: chardet<4,>=3.0.2 in /usr/local/lib/python3.6/dist-packages (from requests->bpemb>=0.3.2->flair==0.6.0.post1) (3.0.4)\n",
            "Requirement already satisfied, skipping upgrade: urllib3!=1.25.0,!=1.25.1,<1.26,>=1.21.1 in /usr/local/lib/python3.6/dist-packages (from requests->bpemb>=0.3.2->flair==0.6.0.post1) (1.24.3)\n",
            "Requirement already satisfied, skipping upgrade: certifi>=2017.4.17 in /usr/local/lib/python3.6/dist-packages (from requests->bpemb>=0.3.2->flair==0.6.0.post1) (2020.6.20)\n",
            "Requirement already satisfied, skipping upgrade: idna<3,>=2.5 in /usr/local/lib/python3.6/dist-packages (from requests->bpemb>=0.3.2->flair==0.6.0.post1) (2.10)\n",
            "Requirement already satisfied, skipping upgrade: decorator>=4.3.0 in /usr/local/lib/python3.6/dist-packages (from networkx->hyperopt>=0.1.1->flair==0.6.0.post1) (4.4.2)\n",
            "Requirement already satisfied, skipping upgrade: click in /usr/local/lib/python3.6/dist-packages (from sacremoses->transformers>=3.0.0->flair==0.6.0.post1) (7.1.2)\n",
            "Requirement already satisfied, skipping upgrade: zipp>=0.5 in /usr/local/lib/python3.6/dist-packages (from importlib-metadata>=0.12; python_version < \"3.8\"->pytest>=5.3.2->flair==0.6.0.post1) (3.1.0)\n",
            "Requirement already satisfied, skipping upgrade: s3transfer<0.4.0,>=0.3.0 in /usr/local/lib/python3.6/dist-packages (from boto3->smart-open>=1.2.1->gensim>=3.4.0->flair==0.6.0.post1) (0.3.3)\n",
            "Requirement already satisfied, skipping upgrade: botocore<1.18.0,>=1.17.48 in /usr/local/lib/python3.6/dist-packages (from boto3->smart-open>=1.2.1->gensim>=3.4.0->flair==0.6.0.post1) (1.17.48)\n",
            "Requirement already satisfied, skipping upgrade: jmespath<1.0.0,>=0.7.1 in /usr/local/lib/python3.6/dist-packages (from boto3->smart-open>=1.2.1->gensim>=3.4.0->flair==0.6.0.post1) (0.10.0)\n",
            "Requirement already satisfied, skipping upgrade: docutils<0.16,>=0.10 in /usr/local/lib/python3.6/dist-packages (from botocore<1.18.0,>=1.17.48->boto3->smart-open>=1.2.1->gensim>=3.4.0->flair==0.6.0.post1) (0.15.2)\n",
            "Building wheels for collected packages: flair\n",
            "  Building wheel for flair (PEP 517) ... \u001b[?25l\u001b[?25hdone\n",
            "  Created wheel for flair: filename=flair-0.6.0.post1-cp36-none-any.whl size=188603 sha256=032bf0e924ae8dcd46161fcd1784046b15eeb94aa0aed64692b9969dca5c85fa\n",
            "  Stored in directory: /tmp/pip-ephem-wheel-cache-4n87wq0b/wheels/84/82/73/d2b3b59b7be74ea05f2c6d64132efe27df52daffb47d1dc7bb\n",
            "Successfully built flair\n",
            "Installing collected packages: flair\n",
            "  Found existing installation: flair 0.6.0.post1\n",
            "    Uninstalling flair-0.6.0.post1:\n",
            "      Successfully uninstalled flair-0.6.0.post1\n",
            "Successfully installed flair-0.6.0.post1\n",
            "Requirement already satisfied: textblob in /usr/local/lib/python3.6/dist-packages (0.15.3)\n",
            "Requirement already satisfied: nltk>=3.1 in /usr/local/lib/python3.6/dist-packages (from textblob) (3.2.5)\n",
            "Requirement already satisfied: six in /usr/local/lib/python3.6/dist-packages (from nltk>=3.1->textblob) (1.15.0)\n",
            "Requirement already satisfied: stanza in /usr/local/lib/python3.6/dist-packages (1.1.1)\n",
            "Requirement already satisfied: torch>=1.3.0 in /usr/local/lib/python3.6/dist-packages (from stanza) (1.6.0+cu101)\n",
            "Requirement already satisfied: tqdm in /usr/local/lib/python3.6/dist-packages (from stanza) (4.41.1)\n",
            "Requirement already satisfied: protobuf in /usr/local/lib/python3.6/dist-packages (from stanza) (3.12.4)\n",
            "Requirement already satisfied: requests in /usr/local/lib/python3.6/dist-packages (from stanza) (2.23.0)\n",
            "Requirement already satisfied: numpy in /usr/local/lib/python3.6/dist-packages (from stanza) (1.18.5)\n",
            "Requirement already satisfied: future in /usr/local/lib/python3.6/dist-packages (from torch>=1.3.0->stanza) (0.16.0)\n",
            "Requirement already satisfied: setuptools in /usr/local/lib/python3.6/dist-packages (from protobuf->stanza) (49.6.0)\n",
            "Requirement already satisfied: six>=1.9 in /usr/local/lib/python3.6/dist-packages (from protobuf->stanza) (1.15.0)\n",
            "Requirement already satisfied: certifi>=2017.4.17 in /usr/local/lib/python3.6/dist-packages (from requests->stanza) (2020.6.20)\n",
            "Requirement already satisfied: chardet<4,>=3.0.2 in /usr/local/lib/python3.6/dist-packages (from requests->stanza) (3.0.4)\n",
            "Requirement already satisfied: urllib3!=1.25.0,!=1.25.1,<1.26,>=1.21.1 in /usr/local/lib/python3.6/dist-packages (from requests->stanza) (1.24.3)\n",
            "Requirement already satisfied: idna<3,>=2.5 in /usr/local/lib/python3.6/dist-packages (from requests->stanza) (2.10)\n",
            "Requirement already satisfied: spacy in /usr/local/lib/python3.6/dist-packages (2.2.4)\n",
            "Requirement already satisfied: plac<1.2.0,>=0.9.6 in /usr/local/lib/python3.6/dist-packages (from spacy) (1.1.3)\n",
            "Requirement already satisfied: blis<0.5.0,>=0.4.0 in /usr/local/lib/python3.6/dist-packages (from spacy) (0.4.1)\n",
            "Requirement already satisfied: catalogue<1.1.0,>=0.0.7 in /usr/local/lib/python3.6/dist-packages (from spacy) (1.0.0)\n",
            "Requirement already satisfied: srsly<1.1.0,>=1.0.2 in /usr/local/lib/python3.6/dist-packages (from spacy) (1.0.2)\n",
            "Requirement already satisfied: tqdm<5.0.0,>=4.38.0 in /usr/local/lib/python3.6/dist-packages (from spacy) (4.41.1)\n",
            "Requirement already satisfied: setuptools in /usr/local/lib/python3.6/dist-packages (from spacy) (49.6.0)\n",
            "Requirement already satisfied: preshed<3.1.0,>=3.0.2 in /usr/local/lib/python3.6/dist-packages (from spacy) (3.0.2)\n",
            "Requirement already satisfied: requests<3.0.0,>=2.13.0 in /usr/local/lib/python3.6/dist-packages (from spacy) (2.23.0)\n",
            "Requirement already satisfied: cymem<2.1.0,>=2.0.2 in /usr/local/lib/python3.6/dist-packages (from spacy) (2.0.3)\n",
            "Requirement already satisfied: numpy>=1.15.0 in /usr/local/lib/python3.6/dist-packages (from spacy) (1.18.5)\n",
            "Requirement already satisfied: wasabi<1.1.0,>=0.4.0 in /usr/local/lib/python3.6/dist-packages (from spacy) (0.7.1)\n",
            "Requirement already satisfied: thinc==7.4.0 in /usr/local/lib/python3.6/dist-packages (from spacy) (7.4.0)\n",
            "Requirement already satisfied: murmurhash<1.1.0,>=0.28.0 in /usr/local/lib/python3.6/dist-packages (from spacy) (1.0.2)\n",
            "Requirement already satisfied: importlib-metadata>=0.20; python_version < \"3.8\" in /usr/local/lib/python3.6/dist-packages (from catalogue<1.1.0,>=0.0.7->spacy) (1.7.0)\n",
            "Requirement already satisfied: urllib3!=1.25.0,!=1.25.1,<1.26,>=1.21.1 in /usr/local/lib/python3.6/dist-packages (from requests<3.0.0,>=2.13.0->spacy) (1.24.3)\n",
            "Requirement already satisfied: chardet<4,>=3.0.2 in /usr/local/lib/python3.6/dist-packages (from requests<3.0.0,>=2.13.0->spacy) (3.0.4)\n",
            "Requirement already satisfied: certifi>=2017.4.17 in /usr/local/lib/python3.6/dist-packages (from requests<3.0.0,>=2.13.0->spacy) (2020.6.20)\n",
            "Requirement already satisfied: idna<3,>=2.5 in /usr/local/lib/python3.6/dist-packages (from requests<3.0.0,>=2.13.0->spacy) (2.10)\n",
            "Requirement already satisfied: zipp>=0.5 in /usr/local/lib/python3.6/dist-packages (from importlib-metadata>=0.20; python_version < \"3.8\"->catalogue<1.1.0,>=0.0.7->spacy) (3.1.0)\n",
            "Requirement already satisfied: tqdm in /usr/local/lib/python3.6/dist-packages (4.41.1)\n"
          ],
          "name": "stdout"
        }
      ]
    },
    {
      "cell_type": "markdown",
      "metadata": {
        "id": "PkUNmwjYfj8n",
        "colab_type": "text"
      },
      "source": [
        "---\n",
        "# **2. Imports**\n",
        "---"
      ]
    },
    {
      "cell_type": "markdown",
      "metadata": {
        "id": "2UcFnP3qfssO",
        "colab_type": "text"
      },
      "source": [
        "### i. core"
      ]
    },
    {
      "cell_type": "code",
      "metadata": {
        "id": "HTS6dvWgjTRK",
        "colab_type": "code",
        "colab": {}
      },
      "source": [
        "import re\n",
        "import logging\n",
        "import numpy as np\n",
        "import pandas as pd\n",
        "pd.options.mode.chained_assignment = None # default='warn'\n",
        "import matplotlib.pyplot as plt\n",
        "from tqdm import tqdm\n",
        "from time import sleep"
      ],
      "execution_count": 2,
      "outputs": []
    },
    {
      "cell_type": "markdown",
      "metadata": {
        "id": "bAjiaWM-fr7F",
        "colab_type": "text"
      },
      "source": [
        "### ii. NLTK Vader Sentiment Intensity Analyzer"
      ]
    },
    {
      "cell_type": "code",
      "metadata": {
        "id": "jK5w_s6Kge2W",
        "colab_type": "code",
        "colab": {
          "base_uri": "https://localhost:8080/",
          "height": 110
        },
        "outputId": "0494cf30-4b84-4cd4-edd6-7dac13e8d252"
      },
      "source": [
        "import nltk\n",
        "from nltk.sentiment.vader import SentimentIntensityAnalyzer\n",
        "nltk.download('vader_lexicon')\n",
        "SIA = SentimentIntensityAnalyzer()"
      ],
      "execution_count": 3,
      "outputs": [
        {
          "output_type": "stream",
          "text": [
            "[nltk_data] Downloading package vader_lexicon to /root/nltk_data...\n",
            "[nltk_data]   Package vader_lexicon is already up-to-date!\n"
          ],
          "name": "stdout"
        },
        {
          "output_type": "stream",
          "text": [
            "/usr/local/lib/python3.6/dist-packages/nltk/twitter/__init__.py:20: UserWarning: The twython library has not been installed. Some functionality from the twitter package will not be available.\n",
            "  warnings.warn(\"The twython library has not been installed. \"\n"
          ],
          "name": "stderr"
        }
      ]
    },
    {
      "cell_type": "markdown",
      "metadata": {
        "id": "zftnZsPZf0iN",
        "colab_type": "text"
      },
      "source": [
        "### iii. Stanza"
      ]
    },
    {
      "cell_type": "code",
      "metadata": {
        "id": "plBOpEiwpmNp",
        "colab_type": "code",
        "colab": {
          "base_uri": "https://localhost:8080/",
          "height": 690
        },
        "outputId": "c28acc6a-cd17-4b2d-bcbd-e3f65a9c3ea3"
      },
      "source": [
        "import stanza\n",
        "stanza.download('en', package='ewt', processors='tokenize,sentiment', verbose=True)\n",
        "stanza.download('en', package='default', processors='tokenize,sentiment', verbose=True)\n",
        "stNLP = stanza.Pipeline(processors='tokenize,sentiment', lang='en', use_gpu=True)"
      ],
      "execution_count": 4,
      "outputs": [
        {
          "output_type": "stream",
          "text": [
            "Downloading https://raw.githubusercontent.com/stanfordnlp/stanza-resources/master/resources_1.1.0.json: 122kB [00:00, 33.1MB/s]                    \n",
            "2020-09-10 07:08:55 WARNING: Can not find sentiment: ewt from official model list. Ignoring it.\n",
            "2020-09-10 07:08:55 INFO: Downloading these customized packages for language: en (English)...\n",
            "=======================\n",
            "| Processor | Package |\n",
            "-----------------------\n",
            "| tokenize  | ewt     |\n",
            "=======================\n",
            "\n",
            "2020-09-10 07:08:55 INFO: File exists: /root/stanza_resources/en/tokenize/ewt.pt.\n",
            "2020-09-10 07:08:55 INFO: Finished downloading models and saved to /root/stanza_resources.\n",
            "Downloading https://raw.githubusercontent.com/stanfordnlp/stanza-resources/master/resources_1.1.0.json: 122kB [00:00, 32.6MB/s]                    \n",
            "2020-09-10 07:08:55 INFO: Downloading these customized packages for language: en (English)...\n",
            "=======================\n",
            "| Processor | Package |\n",
            "-----------------------\n",
            "| tokenize  | ewt     |\n",
            "| sentiment | sstplus |\n",
            "| pretrain  | ewt     |\n",
            "=======================\n",
            "\n",
            "2020-09-10 07:08:55 INFO: File exists: /root/stanza_resources/en/tokenize/ewt.pt.\n",
            "2020-09-10 07:08:55 INFO: File exists: /root/stanza_resources/en/sentiment/sstplus.pt.\n",
            "2020-09-10 07:08:56 INFO: File exists: /root/stanza_resources/en/pretrain/ewt.pt.\n",
            "2020-09-10 07:08:56 INFO: Finished downloading models and saved to /root/stanza_resources.\n",
            "2020-09-10 07:08:56 INFO: Loading these models for language: en (English):\n",
            "=======================\n",
            "| Processor | Package |\n",
            "-----------------------\n",
            "| tokenize  | ewt     |\n",
            "| sentiment | sstplus |\n",
            "=======================\n",
            "\n",
            "2020-09-10 07:08:56 INFO: Use device: gpu\n",
            "2020-09-10 07:08:56 INFO: Loading: tokenize\n",
            "2020-09-10 07:09:00 INFO: Loading: sentiment\n",
            "2020-09-10 07:09:01 INFO: Done loading processors!\n"
          ],
          "name": "stderr"
        }
      ]
    },
    {
      "cell_type": "markdown",
      "metadata": {
        "id": "68fKZ5sHf8_v",
        "colab_type": "text"
      },
      "source": [
        "### iv. Spacy Text Categorizer"
      ]
    },
    {
      "cell_type": "code",
      "metadata": {
        "id": "bXKsPUNj5ovs",
        "colab_type": "code",
        "colab": {
          "base_uri": "https://localhost:8080/",
          "height": 1000
        },
        "outputId": "b998923c-2561-45ba-f66c-a184dbcbcf99"
      },
      "source": [
        "import random\n",
        "import spacy\n",
        "from spacy.util import minibatch, compounding\n",
        "from spacy.pipeline import TextCategorizer\n",
        "\n",
        "spacy.prefer_gpu()\n",
        "\n",
        "TRAIN_DATA = [\n",
        "    [\"My little kitty is so special\", {\"Cat\": True}],\n",
        "    [\"Dude, Totally, Yeah, Video Games\", {\"Cat\": False}],\n",
        "    [\"Should I pay $1,000 for the iPhone X?\", {\"Cat\": False}],\n",
        "    [\"The iPhone 8 reviews are here\", {\"Cat\": False}],\n",
        "    [\"Noa is a great cat name.\", {\"Cat\": True}],\n",
        "    [\"We got a new kitten!\", {\"Cat\": True}]\n",
        "]\n",
        "\n",
        "nlp = spacy.load(\"en_core_web_sm\")\n",
        "category = nlp.create_pipe(\"textcat\", config={\"exclusive_classes\": True})\n",
        "nlp.add_pipe(category)\n",
        "\n",
        "# add label to text classifier\n",
        "category.add_label(\"Cat\")\n",
        "category.add_label('False')\n",
        "\n",
        "optimizer = nlp.begin_training()\n",
        "losses = {}\n",
        "\n",
        "for i in range(100):\n",
        "    random.shuffle(TRAIN_DATA)\n",
        "\n",
        "    for batch in minibatch(TRAIN_DATA, size=8):\n",
        "        texts = [nlp(text) for text, entities in batch]\n",
        "        annotations = [{\"cats\": entities} for text, entities in batch]\n",
        "        nlp.update(texts, annotations, sgd=optimizer, losses=losses)\n",
        "    print(i, losses)"
      ],
      "execution_count": 5,
      "outputs": [
        {
          "output_type": "stream",
          "text": [
            "0 {'tagger': 0.4249247908592224, 'parser': 0.0, 'textcat': 0.006944445427507162, 'ner': 0.0}\n",
            "1 {'tagger': 0.4284009498078376, 'parser': 0.0, 'textcat': 0.013816319406032562, 'ner': 0.0}\n",
            "2 {'tagger': 0.428479669499211, 'parser': 0.0, 'textcat': 0.020707104820758104, 'ner': 0.0}\n",
            "3 {'tagger': 0.42848652692782707, 'parser': 0.0, 'textcat': 0.02744471514597535, 'ner': 0.0}\n",
            "4 {'tagger': 0.4284898009345852, 'parser': 0.0, 'textcat': 0.03391863638535142, 'ner': 0.0}\n",
            "5 {'tagger': 0.42849279381744054, 'parser': 0.0, 'textcat': 0.04004798084497452, 'ner': 0.0}\n",
            "6 {'tagger': 0.4284954907250267, 'parser': 0.0, 'textcat': 0.045761342626065016, 'ner': 0.0}\n",
            "7 {'tagger': 0.4284974573340605, 'parser': 0.0, 'textcat': 0.051017853897064924, 'ner': 0.0}\n",
            "8 {'tagger': 0.428498652562439, 'parser': 0.0, 'textcat': 0.05578953633084893, 'ner': 0.0}\n",
            "9 {'tagger': 0.4284993133011312, 'parser': 0.0, 'textcat': 0.06006294395774603, 'ner': 0.0}\n",
            "10 {'tagger': 0.4284996720643619, 'parser': 0.0, 'textcat': 0.06382980640046299, 'ner': 0.0}\n",
            "11 {'tagger': 0.42849986935411266, 'parser': 0.0, 'textcat': 0.06708954460918903, 'ner': 0.0}\n",
            "12 {'tagger': 0.428499982197458, 'parser': 0.0, 'textcat': 0.0698625196237117, 'ner': 0.0}\n",
            "13 {'tagger': 0.42850005038678773, 'parser': 0.0, 'textcat': 0.07217478333041072, 'ner': 0.0}\n",
            "14 {'tagger': 0.42850009436473613, 'parser': 0.0, 'textcat': 0.07407202071044594, 'ner': 0.0}\n",
            "15 {'tagger': 0.4285001245033797, 'parser': 0.0, 'textcat': 0.07559533650055528, 'ner': 0.0}\n",
            "16 {'tagger': 0.42850014604059794, 'parser': 0.0, 'textcat': 0.0767914877505973, 'ner': 0.0}\n",
            "17 {'tagger': 0.4285001620610114, 'parser': 0.0, 'textcat': 0.07771320699248463, 'ner': 0.0}\n",
            "18 {'tagger': 0.4285001744001473, 'parser': 0.0, 'textcat': 0.07841065939282998, 'ner': 0.0}\n",
            "19 {'tagger': 0.4285001841308409, 'parser': 0.0, 'textcat': 0.07892768492456526, 'ner': 0.0}\n",
            "20 {'tagger': 0.428500191969154, 'parser': 0.0, 'textcat': 0.07930274590034969, 'ner': 0.0}\n",
            "21 {'tagger': 0.4285001984102754, 'parser': 0.0, 'textcat': 0.07956916076363996, 'ner': 0.0}\n",
            "22 {'tagger': 0.4285002037641741, 'parser': 0.0, 'textcat': 0.07975469976372551, 'ner': 0.0}\n",
            "23 {'tagger': 0.428500208274885, 'parser': 0.0, 'textcat': 0.07988140547240619, 'ner': 0.0}\n",
            "24 {'tagger': 0.42850021208600575, 'parser': 0.0, 'textcat': 0.0799663452708046, 'ner': 0.0}\n",
            "25 {'tagger': 0.4285002153583748, 'parser': 0.0, 'textcat': 0.08002247946933494, 'ner': 0.0}\n",
            "26 {'tagger': 0.4285002181716684, 'parser': 0.0, 'textcat': 0.0800590780127095, 'ner': 0.0}\n",
            "27 {'tagger': 0.42850022060959647, 'parser': 0.0, 'textcat': 0.08008263678675576, 'ner': 0.0}\n",
            "28 {'tagger': 0.42850022274412414, 'parser': 0.0, 'textcat': 0.08009764965208888, 'ner': 0.0}\n",
            "29 {'tagger': 0.4285002246266407, 'parser': 0.0, 'textcat': 0.08010715356704168, 'ner': 0.0}\n",
            "30 {'tagger': 0.42850022627620143, 'parser': 0.0, 'textcat': 0.08011313185170366, 'ner': 0.0}\n",
            "31 {'tagger': 0.42850022775242946, 'parser': 0.0, 'textcat': 0.08011687684142998, 'ner': 0.0}\n",
            "32 {'tagger': 0.4285002290703883, 'parser': 0.0, 'textcat': 0.08011921388629162, 'ner': 0.0}\n",
            "33 {'tagger': 0.42850023025680983, 'parser': 0.0, 'textcat': 0.08012067066545114, 'ner': 0.0}\n",
            "34 {'tagger': 0.42850023133421056, 'parser': 0.0, 'textcat': 0.08012158196822838, 'ner': 0.0}\n",
            "35 {'tagger': 0.42850023230955336, 'parser': 0.0, 'textcat': 0.0801221566621848, 'ner': 0.0}\n",
            "36 {'tagger': 0.42850023319966263, 'parser': 0.0, 'textcat': 0.08012252345739057, 'ner': 0.0}\n",
            "37 {'tagger': 0.4285002340196579, 'parser': 0.0, 'textcat': 0.08012276113034034, 'ner': 0.0}\n",
            "38 {'tagger': 0.428500234767191, 'parser': 0.0, 'textcat': 0.08012291780461567, 'ner': 0.0}\n",
            "39 {'tagger': 0.4285002354615385, 'parser': 0.0, 'textcat': 0.08012302302019947, 'ner': 0.0}\n",
            "40 {'tagger': 0.42850023610388693, 'parser': 0.0, 'textcat': 0.08012309505127746, 'ner': 0.0}\n",
            "41 {'tagger': 0.4285002366978957, 'parser': 0.0, 'textcat': 0.08012314536914644, 'ner': 0.0}\n",
            "42 {'tagger': 0.42850023725398045, 'parser': 0.0, 'textcat': 0.08012318123418538, 'ner': 0.0}\n",
            "43 {'tagger': 0.42850023777280166, 'parser': 0.0, 'textcat': 0.08012320730861688, 'ner': 0.0}\n",
            "44 {'tagger': 0.42850023825953765, 'parser': 0.0, 'textcat': 0.08012322663374327, 'ner': 0.0}\n",
            "45 {'tagger': 0.42850023871932114, 'parser': 0.0, 'textcat': 0.08012324122486714, 'ner': 0.0}\n",
            "46 {'tagger': 0.428500239153501, 'parser': 0.0, 'textcat': 0.08012325244290786, 'ner': 0.0}\n",
            "47 {'tagger': 0.4285002395668078, 'parser': 0.0, 'textcat': 0.08012326121759727, 'ner': 0.0}\n",
            "48 {'tagger': 0.4285002399575089, 'parser': 0.0, 'textcat': 0.08012326819574334, 'ner': 0.0}\n",
            "49 {'tagger': 0.4285002403293371, 'parser': 0.0, 'textcat': 0.08012327383320139, 'ner': 0.0}\n",
            "50 {'tagger': 0.4285002406847166, 'parser': 0.0, 'textcat': 0.08012327845611544, 'ner': 0.0}\n",
            "51 {'tagger': 0.42850024102353823, 'parser': 0.0, 'textcat': 0.08012328230040078, 'ner': 0.0}\n",
            "52 {'tagger': 0.42850024134365405, 'parser': 0.0, 'textcat': 0.08012328553854586, 'ner': 0.0}\n",
            "53 {'tagger': 0.4285002416492852, 'parser': 0.0, 'textcat': 0.08012328829972537, 'ner': 0.0}\n",
            "54 {'tagger': 0.4285002419453878, 'parser': 0.0, 'textcat': 0.08012329068163204, 'ner': 0.0}\n",
            "55 {'tagger': 0.4285002422272137, 'parser': 0.0, 'textcat': 0.08012329275759922, 'ner': 0.0}\n",
            "56 {'tagger': 0.4285002425015891, 'parser': 0.0, 'textcat': 0.08012329458476242, 'ner': 0.0}\n",
            "57 {'tagger': 0.42850024276747467, 'parser': 0.0, 'textcat': 0.08012329620787728, 'ner': 0.0}\n",
            "58 {'tagger': 0.4285002430236433, 'parser': 0.0, 'textcat': 0.08012329766194115, 'ner': 0.0}\n",
            "59 {'tagger': 0.4285002432684014, 'parser': 0.0, 'textcat': 0.08012329897441561, 'ner': 0.0}\n",
            "60 {'tagger': 0.428500243506785, 'parser': 0.0, 'textcat': 0.08012330016805314, 'ner': 0.0}\n",
            "61 {'tagger': 0.4285002437357669, 'parser': 0.0, 'textcat': 0.08012330126070277, 'ner': 0.0}\n",
            "62 {'tagger': 0.42850024395859887, 'parser': 0.0, 'textcat': 0.08012330226727316, 'ner': 0.0}\n",
            "63 {'tagger': 0.42850024417783517, 'parser': 0.0, 'textcat': 0.08012330319957539, 'ner': 0.0}\n",
            "64 {'tagger': 0.42850024438747447, 'parser': 0.0, 'textcat': 0.08012330406793217, 'ner': 0.0}\n",
            "65 {'tagger': 0.42850024459156644, 'parser': 0.0, 'textcat': 0.08012330488025882, 'ner': 0.0}\n",
            "66 {'tagger': 0.4285002447893061, 'parser': 0.0, 'textcat': 0.08012330564362702, 'ner': 0.0}\n",
            "67 {'tagger': 0.4285002449818808, 'parser': 0.0, 'textcat': 0.0801233063637421, 'ner': 0.0}\n",
            "68 {'tagger': 0.42850024516903384, 'parser': 0.0, 'textcat': 0.08012330704585363, 'ner': 0.0}\n",
            "69 {'tagger': 0.428500245351467, 'parser': 0.0, 'textcat': 0.08012330769415976, 'ner': 0.0}\n",
            "70 {'tagger': 0.4285002455292355, 'parser': 0.0, 'textcat': 0.08012330831210107, 'ner': 0.0}\n",
            "71 {'tagger': 0.4285002457038092, 'parser': 0.0, 'textcat': 0.08012330890292979, 'ner': 0.0}\n",
            "72 {'tagger': 0.42850024587234714, 'parser': 0.0, 'textcat': 0.0801233094692908, 'ner': 0.0}\n",
            "73 {'tagger': 0.42850024603653575, 'parser': 0.0, 'textcat': 0.08012331001355233, 'ner': 0.0}\n",
            "74 {'tagger': 0.4285002461978593, 'parser': 0.0, 'textcat': 0.08012331053775662, 'ner': 0.0}\n",
            "75 {'tagger': 0.4285002463554658, 'parser': 0.0, 'textcat': 0.08012331104356618, 'ner': 0.0}\n",
            "76 {'tagger': 0.42850024650966495, 'parser': 0.0, 'textcat': 0.0801233115325391, 'ner': 0.0}\n",
            "77 {'tagger': 0.4285002466590426, 'parser': 0.0, 'textcat': 0.08012331200625356, 'ner': 0.0}\n",
            "78 {'tagger': 0.4285002468053511, 'parser': 0.0, 'textcat': 0.08012331246574048, 'ner': 0.0}\n",
            "79 {'tagger': 0.42850024694886174, 'parser': 0.0, 'textcat': 0.08012331291207922, 'ner': 0.0}\n",
            "80 {'tagger': 0.4285002470912077, 'parser': 0.0, 'textcat': 0.08012331334625084, 'ner': 0.0}\n",
            "81 {'tagger': 0.42850024722907354, 'parser': 0.0, 'textcat': 0.08012331376918808, 'ner': 0.0}\n",
            "82 {'tagger': 0.42850024736346204, 'parser': 0.0, 'textcat': 0.08012331418135238, 'ner': 0.0}\n",
            "83 {'tagger': 0.42850024749463517, 'parser': 0.0, 'textcat': 0.08012331458368069, 'ner': 0.0}\n",
            "84 {'tagger': 0.42850024762295225, 'parser': 0.0, 'textcat': 0.08012331497667699, 'ner': 0.0}\n",
            "85 {'tagger': 0.42850024774906936, 'parser': 0.0, 'textcat': 0.0801233153609377, 'ner': 0.0}\n",
            "86 {'tagger': 0.4285002478725468, 'parser': 0.0, 'textcat': 0.08012331573675943, 'ner': 0.0}\n",
            "87 {'tagger': 0.4285002479933555, 'parser': 0.0, 'textcat': 0.08012331610468254, 'ner': 0.0}\n",
            "88 {'tagger': 0.4285002481117207, 'parser': 0.0, 'textcat': 0.0801233164653325, 'ner': 0.0}\n",
            "89 {'tagger': 0.4285002482289465, 'parser': 0.0, 'textcat': 0.08012331681880944, 'ner': 0.0}\n",
            "90 {'tagger': 0.42850024834292494, 'parser': 0.0, 'textcat': 0.08012331716556462, 'ner': 0.0}\n",
            "91 {'tagger': 0.4285002484548438, 'parser': 0.0, 'textcat': 0.08012331750577803, 'ner': 0.0}\n",
            "92 {'tagger': 0.4285002485640711, 'parser': 0.0, 'textcat': 0.0801233178398639, 'ner': 0.0}\n",
            "93 {'tagger': 0.4285002486696329, 'parser': 0.0, 'textcat': 0.08012331816798124, 'ner': 0.0}\n",
            "94 {'tagger': 0.42850024877380877, 'parser': 0.0, 'textcat': 0.08012331849039955, 'ner': 0.0}\n",
            "95 {'tagger': 0.42850024887735655, 'parser': 0.0, 'textcat': 0.08012331880746348, 'ner': 0.0}\n",
            "96 {'tagger': 0.4285002489789724, 'parser': 0.0, 'textcat': 0.08012331911896473, 'ner': 0.0}\n",
            "97 {'tagger': 0.4285002490787589, 'parser': 0.0, 'textcat': 0.08012331942548234, 'ner': 0.0}\n",
            "98 {'tagger': 0.4285002491773295, 'parser': 0.0, 'textcat': 0.08012331972700146, 'ner': 0.0}\n",
            "99 {'tagger': 0.4285002492747281, 'parser': 0.0, 'textcat': 0.08012332002361452, 'ner': 0.0}\n"
          ],
          "name": "stdout"
        }
      ]
    },
    {
      "cell_type": "code",
      "metadata": {
        "id": "FD_B7ebv96TN",
        "colab_type": "code",
        "colab": {
          "base_uri": "https://localhost:8080/",
          "height": 35
        },
        "outputId": "2eae2d64-60d3-402b-ef8e-172ca34e6c3c"
      },
      "source": [
        "doc = nlp(u'This is my cat called kittens the kitty')\n",
        "print(doc.cats)"
      ],
      "execution_count": 6,
      "outputs": [
        {
          "output_type": "stream",
          "text": [
            "{'Cat': 0.946341335773468, 'False': 0.05365869402885437}\n"
          ],
          "name": "stdout"
        }
      ]
    },
    {
      "cell_type": "code",
      "metadata": {
        "id": "mzdvGfbG-Ydh",
        "colab_type": "code",
        "colab": {}
      },
      "source": [
        "TRAIN_DATA = [\n",
        "    (\"beef\", {\"cats\": {\"POSITIVE\": 1.0, \"NEGATIVE\": 0.0}}),\n",
        "    (\"apple\", {\"cats\": {\"POSITIVE\": 0, \"NEGATIVE\": 1}})\n",
        "]"
      ],
      "execution_count": 7,
      "outputs": []
    },
    {
      "cell_type": "code",
      "metadata": {
        "id": "9nI8VZO49i9V",
        "colab_type": "code",
        "colab": {
          "base_uri": "https://localhost:8080/",
          "height": 35
        },
        "outputId": "12087058-fc30-4024-aa4f-9bd8e8e00f4c"
      },
      "source": [
        "otro = nlp(u\"Dude, Totally, Yeah, Video Games\")\n",
        "print(otro.cats)"
      ],
      "execution_count": 8,
      "outputs": [
        {
          "output_type": "stream",
          "text": [
            "{'Cat': 0.00010561008821241558, 'False': 0.999894380569458}\n"
          ],
          "name": "stdout"
        }
      ]
    },
    {
      "cell_type": "markdown",
      "metadata": {
        "id": "wEBX9L0XgBv9",
        "colab_type": "text"
      },
      "source": [
        "### v. TextBlob"
      ]
    },
    {
      "cell_type": "code",
      "metadata": {
        "id": "ZIeEIxpagqkJ",
        "colab_type": "code",
        "colab": {}
      },
      "source": [
        "from textblob import TextBlob"
      ],
      "execution_count": 9,
      "outputs": []
    },
    {
      "cell_type": "markdown",
      "metadata": {
        "id": "Bi8mvbAAgFhg",
        "colab_type": "text"
      },
      "source": [
        "### vi. Flair"
      ]
    },
    {
      "cell_type": "code",
      "metadata": {
        "id": "G3bdliRrg2kw",
        "colab_type": "code",
        "colab": {
          "base_uri": "https://localhost:8080/",
          "height": 35
        },
        "outputId": "77e9ec7a-5fc7-469c-9360-ac73a2ebc1ff"
      },
      "source": [
        "import flair\n",
        "flair_sent = flair.models.TextClassifier.load('en-sentiment')"
      ],
      "execution_count": 10,
      "outputs": [
        {
          "output_type": "stream",
          "text": [
            "2020-09-10 07:09:23,934 loading file /root/.flair/models/sentiment-en-mix-distillbert_3.1.pt\n"
          ],
          "name": "stdout"
        }
      ]
    },
    {
      "cell_type": "markdown",
      "metadata": {
        "id": "IvieUPUdgIs1",
        "colab_type": "text"
      },
      "source": [
        "---\n",
        "# **3. Defining functions**\n",
        "---"
      ]
    },
    {
      "cell_type": "code",
      "metadata": {
        "id": "K-nxqDRugBpy",
        "colab_type": "code",
        "colab": {}
      },
      "source": [
        "def siaVader_compound(text):\n",
        "    scores = SIA.polarity_scores(text)\n",
        "    \n",
        "    comp_score = scores['compound']\n",
        "    if comp_score >= 0.05:\n",
        "        str_comp = 'pos'\n",
        "    elif comp_score <= -0.05:\n",
        "        str_comp = 'neg'\n",
        "    else: # (compound score > -0.05) and (compound score < 0.05)\n",
        "        str_comp = 'neu'\n",
        "    return str_comp\n",
        "\n",
        "def siaVader_maxScore(text):\n",
        "    scores = SIA.polarity_scores(text)\n",
        "    \n",
        "    del scores['compound']\n",
        "    index = np.argmax(list(scores.values()))\n",
        "    vader_MaxScore = list(scores.values())[index]\n",
        "    vader_label = list(scores)[index]\n",
        "    \n",
        "    return vader_label\n",
        "\n",
        "###\n",
        "def siaVader_byWord(text):\n",
        "    c = 0\n",
        "    for n, y in enumerate(text):\n",
        "        x = SIA.polarity_scores(y)\n",
        "        if x['compound'] != 0.0:\n",
        "            c += 1\n",
        "            # print('{}. {} {}'.format(c, x, y))\n",
        "            return 'pos' if x > 0.05 else 'neg'"
      ],
      "execution_count": 11,
      "outputs": []
    },
    {
      "cell_type": "code",
      "metadata": {
        "id": "Vfl3Mns-gtfK",
        "colab_type": "code",
        "colab": {}
      },
      "source": [
        "def text_blob_subjective(text):\n",
        "    return TextBlob(text).sentiment"
      ],
      "execution_count": 12,
      "outputs": []
    },
    {
      "cell_type": "code",
      "metadata": {
        "id": "gOyTlhydgI4k",
        "colab_type": "code",
        "colab": {}
      },
      "source": [
        "def flair_lstm(text):\n",
        "    x = flair.data.Sentence(text)\n",
        "    flair_sent.predict(sentences=x)\n",
        "    return x.labels"
      ],
      "execution_count": 13,
      "outputs": []
    },
    {
      "cell_type": "code",
      "metadata": {
        "id": "-fH81bgqHLEh",
        "colab_type": "code",
        "colab": {}
      },
      "source": [
        "def stanza_funct(text):\n",
        "    try:\n",
        "        data = stNLP(text)\n",
        "        for sentence in data.sentences:\n",
        "            return sentence.sentiment\n",
        "    except:\n",
        "        print('{...}', end='; ')"
      ],
      "execution_count": 14,
      "outputs": []
    },
    {
      "cell_type": "markdown",
      "metadata": {
        "id": "CShr2gm0iDS3",
        "colab_type": "text"
      },
      "source": [
        "---\n",
        "\n",
        "# **4. Comparing Sentiment Analyzers**\n",
        "\n",
        "---"
      ]
    },
    {
      "cell_type": "markdown",
      "metadata": {
        "id": "3swCgi6KijqN",
        "colab_type": "text"
      },
      "source": [
        "### **data (text)**"
      ]
    },
    {
      "cell_type": "code",
      "metadata": {
        "id": "2pT9-wk3T3lH",
        "colab_type": "code",
        "colab": {}
      },
      "source": [
        "data = [\n",
        "        'not confident',\n",
        "        'unsure',\n",
        "        'does not handles pressure',\n",
        "        'disordered',\n",
        "        'talks too much',\n",
        "        'uninsterested',\n",
        "        'sad',\n",
        "        'unfriendly',\n",
        "        \n",
        "        'confident',\n",
        "        'certain',\n",
        "        'handles pressure',\n",
        "        'organized',\n",
        "        'concise',\n",
        "        'interested',\n",
        "        'happy',\n",
        "        'friendly'\n",
        "        ]     "
      ],
      "execution_count": 15,
      "outputs": []
    },
    {
      "cell_type": "code",
      "metadata": {
        "id": "RKqOe6UOhb-Y",
        "colab_type": "code",
        "colab": {}
      },
      "source": [
        "#data = \"I'm confident of myself but sometimes I'm unsure and unfriendly however I'm concise when I'm interested in being someone organizated who handles pressure\"\n",
        "#data = data.split()"
      ],
      "execution_count": 16,
      "outputs": []
    },
    {
      "cell_type": "markdown",
      "metadata": {
        "id": "0s4rbwMraWhc",
        "colab_type": "text"
      },
      "source": [
        "### **NLTK Vader**\n",
        "* VADER, has different ratings depending on the form of the word and therefore the input should not be stemmed or lemmatized.\n",
        "\n",
        "* disadvantage of this approach is that Out of Vocab (OOV) words that the sentiment analysis tool has not seen before will not be classified as positive/negative (e.g. typos)."
      ]
    },
    {
      "cell_type": "code",
      "metadata": {
        "id": "PM_KBvUoiUPQ",
        "colab_type": "code",
        "colab": {
          "base_uri": "https://localhost:8080/",
          "height": 35
        },
        "outputId": "ce852f02-5592-4c3a-b3f9-760fd68db981"
      },
      "source": [
        "SIA.polarity_scores(' '.join(data))"
      ],
      "execution_count": 17,
      "outputs": [
        {
          "output_type": "execute_result",
          "data": {
            "text/plain": [
              "{'compound': 0.6553, 'neg': 0.271, 'neu': 0.299, 'pos': 0.43}"
            ]
          },
          "metadata": {
            "tags": []
          },
          "execution_count": 17
        }
      ]
    },
    {
      "cell_type": "code",
      "metadata": {
        "id": "RX554uoq2ywa",
        "colab_type": "code",
        "colab": {
          "base_uri": "https://localhost:8080/",
          "height": 74
        },
        "outputId": "50a0a1f4-2440-419f-a116-b14182de0625"
      },
      "source": [
        "print(data)\n",
        "print([(lambda x: SIA.polarity_scores(x)['compound'])(x) for x in data])"
      ],
      "execution_count": 18,
      "outputs": [
        {
          "output_type": "stream",
          "text": [
            "['not confident', 'unsure', 'does not handles pressure', 'disordered', 'talks too much', 'uninsterested', 'sad', 'unfriendly', 'confident', 'certain', 'handles pressure', 'organized', 'concise', 'interested', 'happy', 'friendly']\n",
            "[-0.3875, -0.25, 0.2235, 0.0, 0.0, 0.0, -0.4767, -0.3612, 0.4939, 0.2732, -0.296, 0.0, 0.0, 0.4019, 0.5719, 0.4939]\n"
          ],
          "name": "stdout"
        }
      ]
    },
    {
      "cell_type": "code",
      "metadata": {
        "id": "aXWDJN1uiZD1",
        "colab_type": "code",
        "colab": {
          "base_uri": "https://localhost:8080/",
          "height": 35
        },
        "outputId": "33efc192-42c4-4186-e0c6-79bff7b2f6d3"
      },
      "source": [
        "siaVader_compound(' '.join(data))"
      ],
      "execution_count": 19,
      "outputs": [
        {
          "output_type": "execute_result",
          "data": {
            "application/vnd.google.colaboratory.intrinsic+json": {
              "type": "string"
            },
            "text/plain": [
              "'pos'"
            ]
          },
          "metadata": {
            "tags": []
          },
          "execution_count": 19
        }
      ]
    },
    {
      "cell_type": "code",
      "metadata": {
        "id": "5N_AoPwl21Ge",
        "colab_type": "code",
        "colab": {
          "base_uri": "https://localhost:8080/",
          "height": 74
        },
        "outputId": "9dca2b66-cade-4173-cc99-f4e12643860c"
      },
      "source": [
        "print(data)\n",
        "print([(lambda x: siaVader_compound(x))(x) for x in data])"
      ],
      "execution_count": 20,
      "outputs": [
        {
          "output_type": "stream",
          "text": [
            "['not confident', 'unsure', 'does not handles pressure', 'disordered', 'talks too much', 'uninsterested', 'sad', 'unfriendly', 'confident', 'certain', 'handles pressure', 'organized', 'concise', 'interested', 'happy', 'friendly']\n",
            "['neg', 'neg', 'pos', 'neu', 'neu', 'neu', 'neg', 'neg', 'pos', 'pos', 'neg', 'neu', 'neu', 'pos', 'pos', 'pos']\n"
          ],
          "name": "stdout"
        }
      ]
    },
    {
      "cell_type": "code",
      "metadata": {
        "id": "FE7Pctquifyg",
        "colab_type": "code",
        "colab": {
          "base_uri": "https://localhost:8080/",
          "height": 35
        },
        "outputId": "68452e43-b6e3-45f1-a103-dc8e2a79aa11"
      },
      "source": [
        "siaVader_maxScore(' '.join(data))"
      ],
      "execution_count": 21,
      "outputs": [
        {
          "output_type": "execute_result",
          "data": {
            "application/vnd.google.colaboratory.intrinsic+json": {
              "type": "string"
            },
            "text/plain": [
              "'pos'"
            ]
          },
          "metadata": {
            "tags": []
          },
          "execution_count": 21
        }
      ]
    },
    {
      "cell_type": "code",
      "metadata": {
        "id": "xG7sYB5A3BT4",
        "colab_type": "code",
        "colab": {
          "base_uri": "https://localhost:8080/",
          "height": 74
        },
        "outputId": "c6f67b32-1f47-47e6-a5ab-02863a0290ee"
      },
      "source": [
        "print(data)\n",
        "print([(lambda x: siaVader_maxScore(x))(x) for x in data])"
      ],
      "execution_count": 22,
      "outputs": [
        {
          "output_type": "stream",
          "text": [
            "['not confident', 'unsure', 'does not handles pressure', 'disordered', 'talks too much', 'uninsterested', 'sad', 'unfriendly', 'confident', 'certain', 'handles pressure', 'organized', 'concise', 'interested', 'happy', 'friendly']\n",
            "['neg', 'neg', 'neu', 'neu', 'neu', 'neu', 'neg', 'neg', 'pos', 'pos', 'neg', 'neu', 'neu', 'pos', 'pos', 'pos']\n"
          ],
          "name": "stdout"
        }
      ]
    },
    {
      "cell_type": "markdown",
      "metadata": {
        "id": "ytOKtne0ixoN",
        "colab_type": "text"
      },
      "source": [
        "## **TextBlob**\n",
        "* use a bag of words classifier, but the advantage is that it includes subjetivity analysis (factual/opinated)\n",
        "* it doesn't contain the heuristics that nltk has, it won't intensify or negate a sentence's sentiment\n",
        "\n",
        "* will return the subjectivity of the text"
      ]
    },
    {
      "cell_type": "code",
      "metadata": {
        "id": "yYHpCDQuiw6T",
        "colab_type": "code",
        "colab": {
          "base_uri": "https://localhost:8080/",
          "height": 35
        },
        "outputId": "7017f03b-bef6-4f55-e87b-e3a20c966427"
      },
      "source": [
        "text_blob_subjective(' '.join(data))"
      ],
      "execution_count": 23,
      "outputs": [
        {
          "output_type": "execute_result",
          "data": {
            "text/plain": [
              "Sentiment(polarity=0.1876984126984127, subjectivity=0.6708994708994709)"
            ]
          },
          "metadata": {
            "tags": []
          },
          "execution_count": 23
        }
      ]
    },
    {
      "cell_type": "code",
      "metadata": {
        "id": "wUeSbMr_3KfD",
        "colab_type": "code",
        "colab": {
          "base_uri": "https://localhost:8080/",
          "height": 308
        },
        "outputId": "fdae6060-6684-4295-d367-e46582338b2a"
      },
      "source": [
        "[(lambda x: text_blob_subjective(x))(x) for x in data]"
      ],
      "execution_count": 24,
      "outputs": [
        {
          "output_type": "execute_result",
          "data": {
            "text/plain": [
              "[Sentiment(polarity=-0.25, subjectivity=0.8333333333333334),\n",
              " Sentiment(polarity=0.0, subjectivity=0.0),\n",
              " Sentiment(polarity=0.0, subjectivity=0.0),\n",
              " Sentiment(polarity=0.0, subjectivity=0.0),\n",
              " Sentiment(polarity=0.2, subjectivity=0.2),\n",
              " Sentiment(polarity=0.0, subjectivity=0.0),\n",
              " Sentiment(polarity=-0.5, subjectivity=1.0),\n",
              " Sentiment(polarity=0.0, subjectivity=0.0),\n",
              " Sentiment(polarity=0.5, subjectivity=0.8333333333333334),\n",
              " Sentiment(polarity=0.21428571428571427, subjectivity=0.5714285714285714),\n",
              " Sentiment(polarity=0.0, subjectivity=0.0),\n",
              " Sentiment(polarity=0.0, subjectivity=0.0),\n",
              " Sentiment(polarity=0.1, subjectivity=0.6),\n",
              " Sentiment(polarity=0.25, subjectivity=0.5),\n",
              " Sentiment(polarity=0.8, subjectivity=1.0),\n",
              " Sentiment(polarity=0.375, subjectivity=0.5)]"
            ]
          },
          "metadata": {
            "tags": []
          },
          "execution_count": 24
        }
      ]
    },
    {
      "cell_type": "markdown",
      "metadata": {
        "id": "lRwuAr8Ji4uV",
        "colab_type": "text"
      },
      "source": [
        "## **Flair LSTM**\n",
        "* classifier based on a character-leval LSTM. Takes a sequences of letters and words into account when predicting\n",
        "\n",
        "* one of its biggest advantages is that it can predict a sentiment for OOV words that it has never seen before too (such as typos)"
      ]
    },
    {
      "cell_type": "code",
      "metadata": {
        "id": "H-P28QfCiXJ2",
        "colab_type": "code",
        "colab": {
          "base_uri": "https://localhost:8080/",
          "height": 35
        },
        "outputId": "2fdd5eda-f1df-4463-d0d0-3fdb47ca79b5"
      },
      "source": [
        "flair_lstm(' '.join(data))"
      ],
      "execution_count": 25,
      "outputs": [
        {
          "output_type": "execute_result",
          "data": {
            "text/plain": [
              "[NEGATIVE (0.9971)]"
            ]
          },
          "metadata": {
            "tags": []
          },
          "execution_count": 25
        }
      ]
    },
    {
      "cell_type": "code",
      "metadata": {
        "id": "bHGmli2_3Vlw",
        "colab_type": "code",
        "colab": {
          "base_uri": "https://localhost:8080/",
          "height": 346
        },
        "outputId": "ce04d9c0-8cb3-4412-c1d9-4dc66d37ecbe"
      },
      "source": [
        "print(data)\n",
        "[(lambda x: flair_lstm(x))(x) for x in data]"
      ],
      "execution_count": 26,
      "outputs": [
        {
          "output_type": "stream",
          "text": [
            "['not confident', 'unsure', 'does not handles pressure', 'disordered', 'talks too much', 'uninsterested', 'sad', 'unfriendly', 'confident', 'certain', 'handles pressure', 'organized', 'concise', 'interested', 'happy', 'friendly']\n"
          ],
          "name": "stdout"
        },
        {
          "output_type": "execute_result",
          "data": {
            "text/plain": [
              "[[NEGATIVE (0.9999)],\n",
              " [NEGATIVE (0.9923)],\n",
              " [NEGATIVE (0.9999)],\n",
              " [NEGATIVE (0.9998)],\n",
              " [NEGATIVE (0.9933)],\n",
              " [NEGATIVE (0.9997)],\n",
              " [NEGATIVE (0.9987)],\n",
              " [NEGATIVE (0.9985)],\n",
              " [POSITIVE (0.9971)],\n",
              " [POSITIVE (0.9888)],\n",
              " [POSITIVE (0.9928)],\n",
              " [POSITIVE (0.996)],\n",
              " [POSITIVE (0.9949)],\n",
              " [POSITIVE (0.9967)],\n",
              " [POSITIVE (0.9839)],\n",
              " [POSITIVE (0.9793)]]"
            ]
          },
          "metadata": {
            "tags": []
          },
          "execution_count": 26
        }
      ]
    },
    {
      "cell_type": "markdown",
      "metadata": {
        "id": "DF5Mt-wrR-Lj",
        "colab_type": "text"
      },
      "source": [
        "## **Stanza**\n",
        "* stanza pipeline by using a CNN classifier.\n",
        "* training this model on 2 class data using higher dimension word vectors achieves the 87 score reported in the original CNN classifier paper. On a three class projection of the SST test data, the model trained on multiple datasets gets 70.0%."
      ]
    },
    {
      "cell_type": "code",
      "metadata": {
        "id": "sgz86Y3FSFrY",
        "colab_type": "code",
        "colab": {
          "base_uri": "https://localhost:8080/",
          "height": 74
        },
        "outputId": "a3490d21-04fa-4736-e7af-cdeaba002382"
      },
      "source": [
        "# 0 : neutral\n",
        "# 1 : negative\n",
        "# 2 : positive\n",
        "print(data)\n",
        "[(lambda x: stanza_funct(x))(x) for x in data]"
      ],
      "execution_count": 27,
      "outputs": [
        {
          "output_type": "stream",
          "text": [
            "['not confident', 'unsure', 'does not handles pressure', 'disordered', 'talks too much', 'uninsterested', 'sad', 'unfriendly', 'confident', 'certain', 'handles pressure', 'organized', 'concise', 'interested', 'happy', 'friendly']\n"
          ],
          "name": "stdout"
        },
        {
          "output_type": "execute_result",
          "data": {
            "text/plain": [
              "[0, 1, 0, 0, 0, 1, 0, 0, 2, 2, 1, 1, 1, 2, 2, 2]"
            ]
          },
          "metadata": {
            "tags": []
          },
          "execution_count": 27
        }
      ]
    },
    {
      "cell_type": "markdown",
      "metadata": {
        "id": "zzN_nUW_5zrF",
        "colab_type": "text"
      },
      "source": [
        "---\n",
        "# **5. Graphs**\n",
        "---"
      ]
    },
    {
      "cell_type": "markdown",
      "metadata": {
        "id": "vRcaz7LAdYbq",
        "colab_type": "text"
      },
      "source": [
        "### **X, Y**"
      ]
    },
    {
      "cell_type": "code",
      "metadata": {
        "id": "0N7dy2V-I1b7",
        "colab_type": "code",
        "colab": {}
      },
      "source": [
        "x_plots = data"
      ],
      "execution_count": 28,
      "outputs": []
    },
    {
      "cell_type": "code",
      "metadata": {
        "id": "4LfEOT_17r6s",
        "colab_type": "code",
        "colab": {}
      },
      "source": [
        "y_flair_scores = np.array([x for b in [list(map(lambda x: x.score, score)) for score in [(lambda x: flair_lstm(x))(x) for x in data]] for x in b])"
      ],
      "execution_count": 29,
      "outputs": []
    },
    {
      "cell_type": "code",
      "metadata": {
        "id": "2M62lkw-PXzt",
        "colab_type": "code",
        "colab": {}
      },
      "source": [
        "y_flair_values_aux = [x for b in [list(map(lambda x: x.value, value)) for value in [(lambda x: flair_lstm(x))(x) for x in data]] for x in b]\n",
        "y_flair_values = []\n",
        "for i in y_flair_values_aux:\n",
        "    if i == 'POSITIVE':\n",
        "        y_flair_values.append(1)\n",
        "    else:\n",
        "        y_flair_values.append(-1)\n",
        "y_flair_values = np.array(y_flair_values)"
      ],
      "execution_count": 30,
      "outputs": []
    },
    {
      "cell_type": "code",
      "metadata": {
        "id": "AggCuEG8Ftlp",
        "colab_type": "code",
        "colab": {}
      },
      "source": [
        "y_textblob_sentiment = np.array([(lambda x: text_blob_subjective(x)[0])(x) for x in data])\n",
        "y_textblob_subjectivity = np.array([(lambda x: text_blob_subjective(x)[1])(x) for x in data])"
      ],
      "execution_count": 31,
      "outputs": []
    },
    {
      "cell_type": "code",
      "metadata": {
        "id": "GzKPkYguIx_Y",
        "colab_type": "code",
        "colab": {}
      },
      "source": [
        "y_vader = [(lambda x: SIA.polarity_scores(x)['compound'])(x) for x in data]\n",
        "y_vader = np.array(y_vader)"
      ],
      "execution_count": 32,
      "outputs": []
    },
    {
      "cell_type": "code",
      "metadata": {
        "id": "uNKxjeo1S_9w",
        "colab_type": "code",
        "colab": {}
      },
      "source": [
        "y_stanza_1 = [(lambda x: stanza_funct(x))(x) for x in data]\n",
        "y_stanza = []\n",
        "for i in y_stanza_1:\n",
        "    if i == 2:\n",
        "        y_stanza.append(1)\n",
        "    elif i == 1:\n",
        "        y_stanza.append(0)\n",
        "    else:\n",
        "        y_stanza.append(-1)\n",
        "y_stanza = np.array(y_stanza)"
      ],
      "execution_count": 33,
      "outputs": []
    },
    {
      "cell_type": "markdown",
      "metadata": {
        "id": "TvSDx-PMccBh",
        "colab_type": "text"
      },
      "source": [
        "### **Numpy Array Results**"
      ]
    },
    {
      "cell_type": "code",
      "metadata": {
        "id": "zLOZRMWucl5S",
        "colab_type": "code",
        "colab": {
          "base_uri": "https://localhost:8080/",
          "height": 35
        },
        "outputId": "b0683231-b662-4797-ab74-bafb1c3946c8"
      },
      "source": [
        "y_flair_values"
      ],
      "execution_count": 34,
      "outputs": [
        {
          "output_type": "execute_result",
          "data": {
            "text/plain": [
              "array([-1, -1, -1, -1, -1, -1, -1, -1,  1,  1,  1,  1,  1,  1,  1,  1])"
            ]
          },
          "metadata": {
            "tags": []
          },
          "execution_count": 34
        }
      ]
    },
    {
      "cell_type": "code",
      "metadata": {
        "id": "3G74wv0BVuW2",
        "colab_type": "code",
        "colab": {
          "base_uri": "https://localhost:8080/",
          "height": 90
        },
        "outputId": "b07786c0-ac43-478f-f2e0-774076c92b2f"
      },
      "source": [
        "y_flair_scores"
      ],
      "execution_count": 35,
      "outputs": [
        {
          "output_type": "execute_result",
          "data": {
            "text/plain": [
              "array([0.99985647, 0.99227095, 0.99994195, 0.99975961, 0.99328858,\n",
              "       0.9997341 , 0.99871314, 0.99850661, 0.99709618, 0.98880416,\n",
              "       0.99275267, 0.99604756, 0.99489635, 0.9967128 , 0.98393667,\n",
              "       0.97929859])"
            ]
          },
          "metadata": {
            "tags": []
          },
          "execution_count": 35
        }
      ]
    },
    {
      "cell_type": "code",
      "metadata": {
        "id": "Qt7fQ1JjcjAP",
        "colab_type": "code",
        "colab": {
          "base_uri": "https://localhost:8080/",
          "height": 90
        },
        "outputId": "409c42e6-b464-4aaa-85ab-b638dadb1282"
      },
      "source": [
        "y_textblob_sentiment"
      ],
      "execution_count": 36,
      "outputs": [
        {
          "output_type": "execute_result",
          "data": {
            "text/plain": [
              "array([-0.25      ,  0.        ,  0.        ,  0.        ,  0.2       ,\n",
              "        0.        , -0.5       ,  0.        ,  0.5       ,  0.21428571,\n",
              "        0.        ,  0.        ,  0.1       ,  0.25      ,  0.8       ,\n",
              "        0.375     ])"
            ]
          },
          "metadata": {
            "tags": []
          },
          "execution_count": 36
        }
      ]
    },
    {
      "cell_type": "code",
      "metadata": {
        "id": "AyzffYWucggu",
        "colab_type": "code",
        "colab": {
          "base_uri": "https://localhost:8080/",
          "height": 90
        },
        "outputId": "10c84fd5-8a41-4e65-81d6-d3bcf78c071b"
      },
      "source": [
        "y_textblob_subjectivity"
      ],
      "execution_count": 37,
      "outputs": [
        {
          "output_type": "execute_result",
          "data": {
            "text/plain": [
              "array([0.83333333, 0.        , 0.        , 0.        , 0.2       ,\n",
              "       0.        , 1.        , 0.        , 0.83333333, 0.57142857,\n",
              "       0.        , 0.        , 0.6       , 0.5       , 1.        ,\n",
              "       0.5       ])"
            ]
          },
          "metadata": {
            "tags": []
          },
          "execution_count": 37
        }
      ]
    },
    {
      "cell_type": "code",
      "metadata": {
        "id": "tkXXaJuCcnXV",
        "colab_type": "code",
        "colab": {
          "base_uri": "https://localhost:8080/",
          "height": 35
        },
        "outputId": "ba88e2cc-d7f3-4538-9ade-36c9999d0c96"
      },
      "source": [
        "y_stanza"
      ],
      "execution_count": 38,
      "outputs": [
        {
          "output_type": "execute_result",
          "data": {
            "text/plain": [
              "array([-1,  0, -1,  0, -1,  0, -1, -1,  1,  1,  0,  1,  0,  1,  1,  1])"
            ]
          },
          "metadata": {
            "tags": []
          },
          "execution_count": 38
        }
      ]
    },
    {
      "cell_type": "markdown",
      "metadata": {
        "id": "-3OGWkqMCypV",
        "colab_type": "text"
      },
      "source": [
        "## **Plotting bars**"
      ]
    },
    {
      "cell_type": "code",
      "metadata": {
        "id": "QW48_H7-_v1H",
        "colab_type": "code",
        "colab": {}
      },
      "source": [
        "def plot_bar(p1y, p2y, p3y, p4y, p5y, x, size):\n",
        "    plt.figure(figsize=size)\n",
        "    plt.bar(x, p1y, label='Flair', color='red')\n",
        "    plt.bar(x, p2y, label='TextBlob', color='blue')\n",
        "    plt.bar(x, p3y, label='Subjectivity', color='purple')\n",
        "    plt.bar(x, p4y, label='Vader', color='green')\n",
        "    plt.bar(x, p5y, label='Stanza', color='grey')\n",
        "    plt.title('NLP SCORES PREDICTION vs WORDS')\n",
        "    plt.xlabel('SENTENCE')\n",
        "    plt.ylabel('SCORES')\n",
        "    plt.legend(loc='upper left')\n",
        "    plt.xticks(rotation='vertical')\n",
        "    plt.tight_layout()\n",
        "    plt.grid(True)\n",
        "\n",
        "    plt.show()"
      ],
      "execution_count": 39,
      "outputs": []
    },
    {
      "cell_type": "code",
      "metadata": {
        "id": "ZQGZL70JCxnD",
        "colab_type": "code",
        "colab": {
          "base_uri": "https://localhost:8080/",
          "height": 585
        },
        "outputId": "f1b68b8d-6328-401b-c0f2-2edfe7c19577"
      },
      "source": [
        "plot_bar(\n",
        "    p1y=y_flair_values,\n",
        "    p2y=y_textblob_sentiment,\n",
        "    p3y=y_textblob_subjectivity,\n",
        "    p4y=y_vader,\n",
        "    p5y=y_stanza,\n",
        "    x=x_plots,\n",
        "    size=(16,  8)\n",
        ")"
      ],
      "execution_count": 40,
      "outputs": [
        {
          "output_type": "display_data",
          "data": {
            "image/png": "[encoded data removed]",
            "text/plain": [
              "<Figure size 1152x576 with 1 Axes>"
            ]
          },
          "metadata": {
            "tags": [],
            "needs_background": "light"
          }
        }
      ]
    },
    {
      "cell_type": "markdown",
      "metadata": {
        "id": "xIJE1JOgC4HR",
        "colab_type": "text"
      },
      "source": [
        "## **Plotting lines**"
      ]
    },
    {
      "cell_type": "code",
      "metadata": {
        "id": "YSQ9W6c6A-Fp",
        "colab_type": "code",
        "colab": {}
      },
      "source": [
        "def plot_lines(p1y, p2y, p3y, p4y, p5y, x, size):\n",
        "    plt.figure(figsize=size)\n",
        "    plt.plot(x, p1y, linestyle='solid', color='red', label='Flair')\n",
        "    plt.plot(x, p2y, linestyle='solid', color='blue', label='TextBlob')\n",
        "    plt.plot(x, p3y, linestyle='dashed', color='purple', label='Subjectivity')\n",
        "    plt.plot(x, p4y, linestyle='solid', color='green', label='Vader')\n",
        "    plt.plot(x, p5y, linestyle='solid', color='black', label='Stanza')\n",
        "    plt.title('NLP SCORES PREDICTION vs WORDS')\n",
        "    plt.xlabel('SENTENCE')\n",
        "    plt.ylabel('SCORES')\n",
        "    plt.legend()\n",
        "    plt.xticks(size=10, rotation='vertical')\n",
        "    plt.yticks(size=10)\n",
        "    plt.grid(True)\n",
        "    \n",
        "    plt.show()"
      ],
      "execution_count": 41,
      "outputs": []
    },
    {
      "cell_type": "code",
      "metadata": {
        "id": "rzZBWMa8CPga",
        "colab_type": "code",
        "colab": {
          "base_uri": "https://localhost:8080/",
          "height": 744
        },
        "outputId": "172a650b-148d-4f30-9df2-2360b3bfe251"
      },
      "source": [
        "plot_lines(\n",
        "    p1y=y_flair_values,\n",
        "    p2y=y_textblob_sentiment,\n",
        "    p3y=y_textblob_subjectivity,\n",
        "    p4y=y_vader,\n",
        "    p5y=y_stanza,\n",
        "    x=x_plots,\n",
        "    size=(20,  10)\n",
        ")"
      ],
      "execution_count": 42,
      "outputs": [
        {
          "output_type": "display_data",
          "data": {
            "image/png": "[encoded data removed]",
            "text/plain": [
              "<Figure size 1440x720 with 1 Axes>"
            ]
          },
          "metadata": {
            "tags": [],
            "needs_background": "light"
          }
        }
      ]
    },
    {
      "cell_type": "code",
      "metadata": {
        "id": "4QcrDh0gN8My",
        "colab_type": "code",
        "colab": {}
      },
      "source": [
        "def plot_flair(x, y):\n",
        "    plt.figure(figsize=(10, 8))\n",
        "    plt.plot(x, y, linestyle='solid', color='red', label='Flair')\n",
        "    plt.title('Flair LSTM accuracy')\n",
        "    plt.xlabel('SENTENCE')\n",
        "    plt.ylabel('ACCURACY')\n",
        "    plt.legend()\n",
        "    plt.xticks(size=10, rotation='vertical')\n",
        "    plt.yticks(size=10)\n",
        "    plt.grid(True)\n",
        "    \n",
        "    plt.show()"
      ],
      "execution_count": 43,
      "outputs": []
    },
    {
      "cell_type": "code",
      "metadata": {
        "id": "ep93M8Y6OLTc",
        "colab_type": "code",
        "colab": {
          "base_uri": "https://localhost:8080/",
          "height": 635
        },
        "outputId": "439878ad-7219-4eca-f00a-e8f68c34c167"
      },
      "source": [
        "plot_flair(x_plots, y_flair_scores)"
      ],
      "execution_count": 44,
      "outputs": [
        {
          "output_type": "display_data",
          "data": {
            "image/png": "[encoded data removed]",
            "text/plain": [
              "<Figure size 720x576 with 1 Axes>"
            ]
          },
          "metadata": {
            "tags": [],
            "needs_background": "light"
          }
        }
      ]
    },
    {
      "cell_type": "markdown",
      "metadata": {
        "id": "PJ2Vnc03caRH",
        "colab_type": "text"
      },
      "source": [
        "---\n",
        "# **6. Brief positive conclusion**\n",
        "---\n",
        "\n",
        "1. **Flair** is great because the properties of the LSTM model: takes into account sequences of letters and words when predicting\n",
        "2. **TextBlob** subjectivity works great\n",
        "3. **Vader** & **Stanza (CNN)** are great to detect particular and intense positive or negative words\n",
        "\n",
        "---\n",
        "\n",
        "## To-do:\n",
        "* SpaCy categorization\n",
        "---"
      ]
    },
    {
      "cell_type": "markdown",
      "metadata": {
        "id": "KzioWbR7AUpS",
        "colab_type": "text"
      },
      "source": [
        "---\n",
        "# **7. Preprocessing with each word**\n",
        "---"
      ]
    },
    {
      "cell_type": "markdown",
      "metadata": {
        "id": "0NHiufg9du6z",
        "colab_type": "text"
      },
      "source": [
        "Words play a central role in language and thought. Several influential factor analysis studies have shown that\n",
        "the primary dimensions of word meaning are valence, arousal, and dominance (VAD).\n",
        "- valence is the positive--negative or pleasure--displeasure dimension; \n",
        "- arousal is the excited--calm or active--passive dimension; \n",
        "- dominance is the powerful--weak or 'have control'--'have no control' dimension."
      ]
    },
    {
      "cell_type": "markdown",
      "metadata": {
        "id": "3X5G5k2KCtG5",
        "colab_type": "text"
      },
      "source": [
        "\n",
        "\n",
        "```\n",
        "Each line has the following format:\n",
        "<AffectCategory><tab><term><tab><score>\n",
        "<AffectCategory> is one of eight emotions (anger, fear, anticipation, trust, surprise, sadness, joy, or disgust).\n",
        "<term> is a word for which emotion associations are provided.\n",
        "<score> is a value that indicates the strength of association between the <term> and the <AffectCategory>.\n",
        "The higher the value, the stronger is the association. Refer to the publications below for details on how the score is calculated.\n",
        "```\n",
        "\n"
      ]
    },
    {
      "cell_type": "markdown",
      "metadata": {
        "id": "6d6AwXxqC2my",
        "colab_type": "text"
      },
      "source": [
        "## Loading datasets lexicon"
      ]
    },
    {
      "cell_type": "code",
      "metadata": {
        "id": "9GEAyOd5AbQ5",
        "colab_type": "code",
        "colab": {}
      },
      "source": [
        "df_NRC_Hashtag = pd.read_csv('./datasets/NRC-Hashtag-Emotion-Lexicon-v0.2.csv', sep='\\t')"
      ],
      "execution_count": 45,
      "outputs": []
    },
    {
      "cell_type": "code",
      "metadata": {
        "id": "cXF0GuaRD6Ze",
        "colab_type": "code",
        "colab": {}
      },
      "source": [
        "df_NRC_Emotion_Intensity = pd.read_csv('./datasets/NRC-Emotion-Intensity-Lexicon-v1.csv', sep='\\t')"
      ],
      "execution_count": 46,
      "outputs": []
    },
    {
      "cell_type": "code",
      "metadata": {
        "id": "35Gnwnh0FcsW",
        "colab_type": "code",
        "colab": {}
      },
      "source": [
        "df_NRC_Emotion_Wordlevel = pd.read_csv('./datasets/NRC-Emotion-Lexicon-Wordlevel-v0.92.csv', sep='\\t')"
      ],
      "execution_count": 47,
      "outputs": []
    },
    {
      "cell_type": "code",
      "metadata": {
        "id": "Wyx1mLNZIonH",
        "colab_type": "code",
        "colab": {}
      },
      "source": [
        "# by sentece\n",
        "df_isear = pd.read_csv('./datasets/isear.csv', sep='|', error_bad_lines=False, usecols=['SIT', 'Field1'])"
      ],
      "execution_count": 48,
      "outputs": []
    },
    {
      "cell_type": "markdown",
      "metadata": {
        "id": "q41VXRC7jajt",
        "colab_type": "text"
      },
      "source": [
        "### Column names & merge (concatenate)"
      ]
    },
    {
      "cell_type": "code",
      "metadata": {
        "id": "xGysG-wPjHJA",
        "colab_type": "code",
        "colab": {}
      },
      "source": [
        "df_NRC_Hashtag.columns = ['category', 'word', 'score']\n",
        "df_NRC_Emotion_Intensity.columns = ['word', 'category', 'score']\n",
        "df_NRC_Emotion_Wordlevel.columns = ['word', 'category', 'score']\n",
        "df_isear.columns = ['category', 'sentence']"
      ],
      "execution_count": 49,
      "outputs": []
    },
    {
      "cell_type": "code",
      "metadata": {
        "id": "4md9q6gEjZp-",
        "colab_type": "code",
        "colab": {}
      },
      "source": [
        "df_concat = pd.concat(objs=[df_NRC_Hashtag, df_NRC_Emotion_Intensity, df_NRC_Emotion_Wordlevel], ignore_index=True)"
      ],
      "execution_count": 50,
      "outputs": []
    },
    {
      "cell_type": "markdown",
      "metadata": {
        "id": "PR3KvHPdldR8",
        "colab_type": "text"
      },
      "source": [
        "### Sorting concatenated dataset"
      ]
    },
    {
      "cell_type": "code",
      "metadata": {
        "id": "42KQW7b0mZwy",
        "colab_type": "code",
        "colab": {}
      },
      "source": [
        "df_concat = df_concat.sort_values(by=['category'], ascending=True, ignore_index=True)"
      ],
      "execution_count": 51,
      "outputs": []
    },
    {
      "cell_type": "markdown",
      "metadata": {
        "id": "Z43w3eZ8DYm_",
        "colab_type": "text"
      },
      "source": [
        "### Labels lexicon"
      ]
    },
    {
      "cell_type": "code",
      "metadata": {
        "id": "c-qfYSfEj-Uf",
        "colab_type": "code",
        "colab": {}
      },
      "source": [
        "df_concat_labels = list(set(df_concat.category))"
      ],
      "execution_count": 52,
      "outputs": []
    },
    {
      "cell_type": "code",
      "metadata": {
        "id": "H8d9G0WbDCOB",
        "colab_type": "code",
        "colab": {
          "base_uri": "https://localhost:8080/",
          "height": 163
        },
        "outputId": "8d6ba777-c1e6-4baf-e106-640395c7a8ff"
      },
      "source": [
        "lexicon_labels = list(set(df_NRC_Hashtag.category))\n",
        "lexicon_labels"
      ],
      "execution_count": 53,
      "outputs": [
        {
          "output_type": "execute_result",
          "data": {
            "text/plain": [
              "['surprise',\n",
              " 'anticipation',\n",
              " 'fear',\n",
              " 'joy',\n",
              " 'sadness',\n",
              " 'anger',\n",
              " 'trust',\n",
              " 'disgust']"
            ]
          },
          "metadata": {
            "tags": []
          },
          "execution_count": 53
        }
      ]
    },
    {
      "cell_type": "code",
      "metadata": {
        "id": "VG76CucbLbAc",
        "colab_type": "code",
        "colab": {
          "base_uri": "https://localhost:8080/",
          "height": 35
        },
        "outputId": "209f253f-c33c-413c-8ff2-db897ad7982a"
      },
      "source": [
        "lexicon_labels_isear = list(set(df_isear.category))\n",
        "lexicon_labels_isear"
      ],
      "execution_count": 54,
      "outputs": [
        {
          "output_type": "execute_result",
          "data": {
            "text/plain": [
              "['joy', 'guilt', 'fear', 'sadness', 'shame', 'anger', 'disgust']"
            ]
          },
          "metadata": {
            "tags": []
          },
          "execution_count": 54
        }
      ]
    },
    {
      "cell_type": "markdown",
      "metadata": {
        "id": "Xplz0LgYGXAw",
        "colab_type": "text"
      },
      "source": [
        "## Loading datasets Valence Arousal Dominance"
      ]
    },
    {
      "cell_type": "code",
      "metadata": {
        "id": "mAiy7liZGV87",
        "colab_type": "code",
        "colab": {}
      },
      "source": [
        "# by word\n",
        "df_NRC_VAD_Lexicon = pd.read_csv('./datasets/NRC-VAD-Lexicon.csv', sep='\\t')"
      ],
      "execution_count": 55,
      "outputs": []
    },
    {
      "cell_type": "code",
      "metadata": {
        "id": "1rU29vy7RggR",
        "colab_type": "code",
        "colab": {
          "base_uri": "https://localhost:8080/",
          "height": 78
        },
        "outputId": "72318372-da0d-4ed3-9a3f-7ee4b9d7f025"
      },
      "source": [
        "df_NRC_VAD_Lexicon[df_NRC_VAD_Lexicon['Word'].str.contains('extremely positive', na=False)]"
      ],
      "execution_count": 56,
      "outputs": [
        {
          "output_type": "execute_result",
          "data": {
            "text/html": [
              "<div>\n",
              "<style scoped>\n",
              "    .dataframe tbody tr th:only-of-type {\n",
              "        vertical-align: middle;\n",
              "    }\n",
              "\n",
              "    .dataframe tbody tr th {\n",
              "        vertical-align: top;\n",
              "    }\n",
              "\n",
              "    .dataframe thead th {\n",
              "        text-align: right;\n",
              "    }\n",
              "</style>\n",
              "<table border=\"1\" class=\"dataframe\">\n",
              "  <thead>\n",
              "    <tr style=\"text-align: right;\">\n",
              "      <th></th>\n",
              "      <th>Word</th>\n",
              "      <th>Valence</th>\n",
              "      <th>Arousal</th>\n",
              "      <th>Dominance</th>\n",
              "    </tr>\n",
              "  </thead>\n",
              "  <tbody>\n",
              "    <tr>\n",
              "      <th>6384</th>\n",
              "      <td>extremely positive</td>\n",
              "      <td>0.993</td>\n",
              "      <td>0.73</td>\n",
              "      <td>0.839</td>\n",
              "    </tr>\n",
              "  </tbody>\n",
              "</table>\n",
              "</div>"
            ],
            "text/plain": [
              "                    Word  Valence  Arousal  Dominance\n",
              "6384  extremely positive    0.993     0.73      0.839"
            ]
          },
          "metadata": {
            "tags": []
          },
          "execution_count": 56
        }
      ]
    },
    {
      "cell_type": "code",
      "metadata": {
        "id": "CoW58n78PiZU",
        "colab_type": "code",
        "colab": {
          "base_uri": "https://localhost:8080/",
          "height": 48
        },
        "outputId": "d8273d0f-2698-41af-c0af-d51a249529db"
      },
      "source": [
        "df_NRC_VAD_Lexicon[df_NRC_VAD_Lexicon['Word'].str.contains('extremely disgust', na=False)]"
      ],
      "execution_count": 57,
      "outputs": [
        {
          "output_type": "execute_result",
          "data": {
            "text/html": [
              "<div>\n",
              "<style scoped>\n",
              "    .dataframe tbody tr th:only-of-type {\n",
              "        vertical-align: middle;\n",
              "    }\n",
              "\n",
              "    .dataframe tbody tr th {\n",
              "        vertical-align: top;\n",
              "    }\n",
              "\n",
              "    .dataframe thead th {\n",
              "        text-align: right;\n",
              "    }\n",
              "</style>\n",
              "<table border=\"1\" class=\"dataframe\">\n",
              "  <thead>\n",
              "    <tr style=\"text-align: right;\">\n",
              "      <th></th>\n",
              "      <th>Word</th>\n",
              "      <th>Valence</th>\n",
              "      <th>Arousal</th>\n",
              "      <th>Dominance</th>\n",
              "    </tr>\n",
              "  </thead>\n",
              "  <tbody>\n",
              "  </tbody>\n",
              "</table>\n",
              "</div>"
            ],
            "text/plain": [
              "Empty DataFrame\n",
              "Columns: [Word, Valence, Arousal, Dominance]\n",
              "Index: []"
            ]
          },
          "metadata": {
            "tags": []
          },
          "execution_count": 57
        }
      ]
    },
    {
      "cell_type": "code",
      "metadata": {
        "id": "6t3zPaWaMN2c",
        "colab_type": "code",
        "colab": {}
      },
      "source": [
        "# by sentence \n",
        "df_emobank = pd.read_csv('./datasets/emobank.csv', sep=',', usecols=['split', 'text', 'V', 'A', 'D'])"
      ],
      "execution_count": 58,
      "outputs": []
    },
    {
      "cell_type": "code",
      "metadata": {
        "id": "ZcZVQMJ-fkzm",
        "colab_type": "code",
        "colab": {
          "base_uri": "https://localhost:8080/",
          "height": 407
        },
        "outputId": "463fe993-6820-47ee-ca77-0b3c7fbb90fd"
      },
      "source": [
        "df_emobank"
      ],
      "execution_count": 59,
      "outputs": [
        {
          "output_type": "execute_result",
          "data": {
            "text/html": [
              "<div>\n",
              "<style scoped>\n",
              "    .dataframe tbody tr th:only-of-type {\n",
              "        vertical-align: middle;\n",
              "    }\n",
              "\n",
              "    .dataframe tbody tr th {\n",
              "        vertical-align: top;\n",
              "    }\n",
              "\n",
              "    .dataframe thead th {\n",
              "        text-align: right;\n",
              "    }\n",
              "</style>\n",
              "<table border=\"1\" class=\"dataframe\">\n",
              "  <thead>\n",
              "    <tr style=\"text-align: right;\">\n",
              "      <th></th>\n",
              "      <th>split</th>\n",
              "      <th>V</th>\n",
              "      <th>A</th>\n",
              "      <th>D</th>\n",
              "      <th>text</th>\n",
              "    </tr>\n",
              "  </thead>\n",
              "  <tbody>\n",
              "    <tr>\n",
              "      <th>0</th>\n",
              "      <td>train</td>\n",
              "      <td>3.00</td>\n",
              "      <td>3.00</td>\n",
              "      <td>3.20</td>\n",
              "      <td>Remember what she said in my last letter? \"</td>\n",
              "    </tr>\n",
              "    <tr>\n",
              "      <th>1</th>\n",
              "      <td>test</td>\n",
              "      <td>2.80</td>\n",
              "      <td>3.10</td>\n",
              "      <td>2.80</td>\n",
              "      <td>If I wasn't working here.</td>\n",
              "    </tr>\n",
              "    <tr>\n",
              "      <th>2</th>\n",
              "      <td>train</td>\n",
              "      <td>3.00</td>\n",
              "      <td>3.00</td>\n",
              "      <td>3.00</td>\n",
              "      <td>..\"</td>\n",
              "    </tr>\n",
              "    <tr>\n",
              "      <th>3</th>\n",
              "      <td>train</td>\n",
              "      <td>3.44</td>\n",
              "      <td>3.00</td>\n",
              "      <td>3.22</td>\n",
              "      <td>Goodwill helps people get off of public assist...</td>\n",
              "    </tr>\n",
              "    <tr>\n",
              "      <th>4</th>\n",
              "      <td>train</td>\n",
              "      <td>3.55</td>\n",
              "      <td>3.27</td>\n",
              "      <td>3.46</td>\n",
              "      <td>Sherry learned through our Future Works class ...</td>\n",
              "    </tr>\n",
              "    <tr>\n",
              "      <th>...</th>\n",
              "      <td>...</td>\n",
              "      <td>...</td>\n",
              "      <td>...</td>\n",
              "      <td>...</td>\n",
              "      <td>...</td>\n",
              "    </tr>\n",
              "    <tr>\n",
              "      <th>10057</th>\n",
              "      <td>train</td>\n",
              "      <td>3.00</td>\n",
              "      <td>3.50</td>\n",
              "      <td>3.00</td>\n",
              "      <td>Please let it be a constant reminder of all yo...</td>\n",
              "    </tr>\n",
              "    <tr>\n",
              "      <th>10058</th>\n",
              "      <td>train</td>\n",
              "      <td>3.80</td>\n",
              "      <td>3.40</td>\n",
              "      <td>3.60</td>\n",
              "      <td>That’s why I want to extend my appreciation fo...</td>\n",
              "    </tr>\n",
              "    <tr>\n",
              "      <th>10059</th>\n",
              "      <td>train</td>\n",
              "      <td>3.00</td>\n",
              "      <td>3.00</td>\n",
              "      <td>3.10</td>\n",
              "      <td>And why I’m writing you today to ask you to re...</td>\n",
              "    </tr>\n",
              "    <tr>\n",
              "      <th>10060</th>\n",
              "      <td>train</td>\n",
              "      <td>3.33</td>\n",
              "      <td>3.44</td>\n",
              "      <td>3.44</td>\n",
              "      <td>In fact, I want to urge you to strengthen your...</td>\n",
              "    </tr>\n",
              "    <tr>\n",
              "      <th>10061</th>\n",
              "      <td>train</td>\n",
              "      <td>3.43</td>\n",
              "      <td>3.71</td>\n",
              "      <td>3.29</td>\n",
              "      <td>With your increased commitment, we can move fo...</td>\n",
              "    </tr>\n",
              "  </tbody>\n",
              "</table>\n",
              "<p>10062 rows × 5 columns</p>\n",
              "</div>"
            ],
            "text/plain": [
              "       split     V  ...     D                                               text\n",
              "0      train  3.00  ...  3.20        Remember what she said in my last letter? \"\n",
              "1       test  2.80  ...  2.80                          If I wasn't working here.\n",
              "2      train  3.00  ...  3.00                                                ..\"\n",
              "3      train  3.44  ...  3.22  Goodwill helps people get off of public assist...\n",
              "4      train  3.55  ...  3.46  Sherry learned through our Future Works class ...\n",
              "...      ...   ...  ...   ...                                                ...\n",
              "10057  train  3.00  ...  3.00  Please let it be a constant reminder of all yo...\n",
              "10058  train  3.80  ...  3.60  That’s why I want to extend my appreciation fo...\n",
              "10059  train  3.00  ...  3.10  And why I’m writing you today to ask you to re...\n",
              "10060  train  3.33  ...  3.44  In fact, I want to urge you to strengthen your...\n",
              "10061  train  3.43  ...  3.29  With your increased commitment, we can move fo...\n",
              "\n",
              "[10062 rows x 5 columns]"
            ]
          },
          "metadata": {
            "tags": []
          },
          "execution_count": 59
        }
      ]
    },
    {
      "cell_type": "markdown",
      "metadata": {
        "id": "UPoSp8f6nsJu",
        "colab_type": "text"
      },
      "source": [
        "### Column names"
      ]
    },
    {
      "cell_type": "code",
      "metadata": {
        "id": "4BcHH38Gnb0c",
        "colab_type": "code",
        "colab": {}
      },
      "source": [
        "df_NRC_VAD_Lexicon.columns = ['word', 'Valence', 'Arousal', 'Dominance']\n",
        "df_emobank.columns = ['split', 'Valence', 'Arousal', 'Dominance', 'sentece']"
      ],
      "execution_count": 60,
      "outputs": []
    },
    {
      "cell_type": "markdown",
      "metadata": {
        "id": "9xCKFAquoPo5",
        "colab_type": "text"
      },
      "source": [
        "## Graphs about categories (simple plot & bar)"
      ]
    },
    {
      "cell_type": "code",
      "metadata": {
        "id": "-378GqCBVXSU",
        "colab_type": "code",
        "colab": {}
      },
      "source": [
        "x = ['not confident',\n",
        " 'unsure',\n",
        " \"can't handle pressure\", # have not control\n",
        " 'disordered',\n",
        " 'talks to much',\n",
        " 'uninsterested',\n",
        " 'sad',\n",
        " 'unfriendly',\n",
        " 'confident',\n",
        " 'certain',\n",
        " 'can handles pressure', # have control\n",
        " 'organized',\n",
        " 'concise',\n",
        " 'interested',\n",
        " 'happy',\n",
        " 'friendly']\n",
        "xlst = [(lambda i: SIA.polarity_scores(i)['compound'])(i) for i in x]"
      ],
      "execution_count": 61,
      "outputs": []
    },
    {
      "cell_type": "code",
      "metadata": {
        "id": "IzY-Zn-lVkkM",
        "colab_type": "code",
        "colab": {}
      },
      "source": [
        "def simple_plot(x, y):\n",
        "    plt.figure(figsize=(16, 8))\n",
        "    plt.plot(x, y, linestyle='solid', color='red')\n",
        "    plt.xlabel('labels')\n",
        "    plt.ylabel('scores')\n",
        "    plt.legend(loc='upper left')\n",
        "    plt.xticks(size=10, rotation='vertical')\n",
        "    plt.yticks(size=10)\n",
        "    plt.grid(b=True)\n",
        "\n",
        "    plt.show()\n",
        "\n",
        "def simple_bar(x, y, size):\n",
        "    plt.figure(figsize=size)\n",
        "    plt.bar(x, y, linestyle='solid', color='red')\n",
        "    plt.xlabel('labels')\n",
        "    plt.ylabel('scores')\n",
        "    plt.legend(loc='upper left')\n",
        "    plt.xticks(size=10, rotation='vertical')\n",
        "    plt.yticks(size=10)\n",
        "    plt.grid(b=True)\n",
        "\n",
        "    plt.show()"
      ],
      "execution_count": 62,
      "outputs": []
    },
    {
      "cell_type": "code",
      "metadata": {
        "id": "SZTgGQerKtiL",
        "colab_type": "code",
        "colab": {
          "base_uri": "https://localhost:8080/",
          "height": 613
        },
        "outputId": "65b86453-3045-4621-d64f-177dc61fdcd3"
      },
      "source": [
        "simple_plot(x, xlst)"
      ],
      "execution_count": 63,
      "outputs": [
        {
          "output_type": "stream",
          "text": [
            "No handles with labels found to put in legend.\n"
          ],
          "name": "stderr"
        },
        {
          "output_type": "display_data",
          "data": {
            "image/png": "[encoded data removed]",
            "text/plain": [
              "<Figure size 1152x576 with 1 Axes>"
            ]
          },
          "metadata": {
            "tags": [],
            "needs_background": "light"
          }
        }
      ]
    },
    {
      "cell_type": "code",
      "metadata": {
        "id": "imYzewAkW37a",
        "colab_type": "code",
        "colab": {
          "base_uri": "https://localhost:8080/",
          "height": 35
        },
        "outputId": "3a4392c1-40e4-4d97-c400-7b6f875dd741"
      },
      "source": [
        "print(xlst, end=', ')"
      ],
      "execution_count": 64,
      "outputs": [
        {
          "output_type": "stream",
          "text": [
            "[-0.3875, -0.25, 0.2235, 0.0, 0.0, 0.0, -0.4767, -0.3612, 0.4939, 0.2732, -0.296, 0.0, 0.0, 0.4019, 0.5719, 0.4939], "
          ],
          "name": "stdout"
        }
      ]
    },
    {
      "cell_type": "markdown",
      "metadata": {
        "id": "Z0V0kPjDGcoI",
        "colab_type": "text"
      },
      "source": [
        "---\n",
        "# **8. Preprocessing dataframe concatenated**\n",
        "---"
      ]
    },
    {
      "cell_type": "code",
      "metadata": {
        "id": "qJ0DzxU5FlxX",
        "colab_type": "code",
        "colab": {}
      },
      "source": [
        "def preprocessing_characteres(df, c):\n",
        "    df[c] = df[c].apply(lambda x: re.sub(\"[^a-zA-Z]\", \" \", str(x)))\n",
        "    df[c] = df[c].str.lower()\n",
        "    df[c] = df[c].apply(lambda x: re.sub(r'(@[A-Za-z0-9]+)|([^0-9A-Za-zÁ-Úá-ú \\t])|(\\w+:\\/\\/\\S+)|^rt|http.+?%', '', x))\n",
        "\n",
        "    return df"
      ],
      "execution_count": 65,
      "outputs": []
    },
    {
      "cell_type": "code",
      "metadata": {
        "id": "HaC2Ywz8GOQx",
        "colab_type": "code",
        "colab": {}
      },
      "source": [
        "df = preprocessing_characteres(df_concat, 'word')"
      ],
      "execution_count": 66,
      "outputs": []
    },
    {
      "cell_type": "markdown",
      "metadata": {
        "id": "hUYTYffBGYW5",
        "colab_type": "text"
      },
      "source": [
        "## **NLP applying**"
      ]
    },
    {
      "cell_type": "code",
      "metadata": {
        "id": "e3ruz9CabuEX",
        "colab_type": "code",
        "colab": {}
      },
      "source": [
        "def drop_empty_string(df):\n",
        "    # Warning: An empty Sentence was created!\n",
        "    # Are there empty strings in your dataset?\n",
        "    print('\\nremoving empty values...\\n')\n",
        "    nan_value = float('NaN')\n",
        "    df.replace('', nan_value, inplace=True)\n",
        "    df.replace(' ', nan_value, inplace=True)\n",
        "    df.replace('  ', nan_value, inplace=True)\n",
        "    df.dropna(inplace=True)\n",
        "\n",
        "    return df"
      ],
      "execution_count": 67,
      "outputs": []
    },
    {
      "cell_type": "code",
      "metadata": {
        "id": "Z843yKrOomPy",
        "colab_type": "code",
        "colab": {}
      },
      "source": [
        "def preprocessing_lexicon(df, c1, c2):\n",
        "    print('\\nRemoving scores equal to 0 & empty or space values\\n')\n",
        "    df.drop(df[df[c1] == 0]. index, inplace=True)\n",
        "    df.drop(df[df[c2] == float]. index, inplace=True)\n",
        "    df = drop_empty_string(df)\n",
        "    \n",
        "    print('Strip spaces both sides\\n')\n",
        "    df[c2] = df[c2].str.strip()\n",
        "\n",
        "    return df"
      ],
      "execution_count": 68,
      "outputs": []
    },
    {
      "cell_type": "code",
      "metadata": {
        "id": "_0T3Rq7dGba2",
        "colab_type": "code",
        "colab": {}
      },
      "source": [
        "def nlp_apply(df, c):\n",
        "    print('Vader\\n')\n",
        "    df['Compound'] = df[c].apply(lambda x: SIA.polarity_scores(text=x)['compound'])\n",
        "    \n",
        "    print('TextBlob')\n",
        "    df['Subjectivity'] = df[c].apply(lambda x: text_blob_subjective(text=x)[1])\n",
        "    \n",
        "    df = drop_empty_string(df)\n",
        "\n",
        "    print('Stanza')\n",
        "    df['Stanza'] = df[c].apply(lambda x: stanza_funct(text=x))\n",
        "\n",
        "    df = drop_empty_string(df)\n",
        "\n",
        "    print('Flair\\n')\n",
        "    df['Flair'] = df[c].apply(lambda x: ''.join([i.value for i in flair_lstm(text=x)]))\n",
        "\n",
        "    df = preprocessing_lexicon(df, 'score', 'word')\n",
        "\n",
        "    return df"
      ],
      "execution_count": 69,
      "outputs": []
    },
    {
      "cell_type": "code",
      "metadata": {
        "id": "GoyFPvyhHJgl",
        "colab_type": "code",
        "colab": {
          "base_uri": "https://localhost:8080/",
          "height": 401
        },
        "outputId": "289400f6-df71-4e60-d59c-a897ddd66e5c"
      },
      "source": [
        "df = nlp_apply(df, 'word')"
      ],
      "execution_count": 70,
      "outputs": [
        {
          "output_type": "stream",
          "text": [
            "Vader\n",
            "\n",
            "TextBlob\n",
            "\n",
            "removing empty values...\n",
            "\n",
            "Stanza\n",
            "{...}; {...}; {...}; {...}; {...}; {...}; {...}; {...}; {...}; {...}; {...}; {...}; {...}; {...}; {...}; {...}; {...}; {...}; {...}; {...}; {...}; {...}; {...}; {...}; {...}; {...}; {...}; {...}; {...}; {...}; {...}; {...}; {...}; {...}; {...}; {...}; {...}; {...}; {...}; {...}; {...}; {...}; {...}; {...}; {...}; {...}; {...}; {...}; {...}; {...}; {...}; {...}; {...}; {...}; {...}; {...}; {...}; {...}; {...}; {...}; {...}; {...}; {...}; {...}; {...}; {...}; {...}; {...}; {...}; {...}; {...}; {...}; {...}; {...}; {...}; {...}; {...}; {...}; {...}; {...}; {...}; {...}; {...}; {...}; {...}; {...}; {...}; {...}; {...}; {...}; {...}; {...}; {...}; {...}; {...}; {...}; {...}; {...}; {...}; {...}; {...}; {...}; {...}; {...}; {...}; {...}; {...}; {...}; {...}; {...}; {...}; {...}; {...}; {...}; {...}; {...}; {...}; {...}; {...}; {...}; {...}; {...}; {...}; {...}; {...}; {...}; {...}; {...}; {...}; {...}; {...}; {...}; {...}; {...}; {...}; {...}; {...}; {...}; {...}; {...}; {...}; {...}; {...}; {...}; {...}; {...}; {...}; {...}; {...}; {...}; {...}; {...}; {...}; {...}; {...}; {...}; {...}; {...}; {...}; {...}; {...}; {...}; {...}; {...}; {...}; {...}; {...}; {...}; {...}; {...}; {...}; {...}; {...}; {...}; {...}; {...}; {...}; {...}; {...}; {...}; {...}; {...}; {...}; {...}; {...}; {...}; {...}; {...}; {...}; {...}; {...}; {...}; {...}; {...}; {...}; {...}; {...}; {...}; {...}; {...}; {...}; {...}; {...}; {...}; {...}; {...}; {...}; {...}; {...}; {...}; {...}; {...}; {...}; {...}; {...}; {...}; {...}; {...}; {...}; {...}; {...}; {...}; {...}; {...}; {...}; {...}; \n",
            "removing empty values...\n",
            "\n",
            "Flair\n",
            "\n",
            "\n",
            "Removing scores equal to 0 & empty or space values\n",
            "\n",
            "\n",
            "removing empty values...\n",
            "\n",
            "Strip spaces both sides\n",
            "\n"
          ],
          "name": "stdout"
        }
      ]
    },
    {
      "cell_type": "code",
      "metadata": {
        "id": "RfaKxdugXxgq",
        "colab_type": "code",
        "colab": {}
      },
      "source": [
        "# Checkpoint\n",
        "df.to_csv('checkpoint-bywords.csv', encoding='utf-8', index=False)"
      ],
      "execution_count": 71,
      "outputs": []
    },
    {
      "cell_type": "markdown",
      "metadata": {
        "id": "Gg-JJmnYSAwk",
        "colab_type": "text"
      },
      "source": [
        "---\n",
        "# **9. Preprocessing VAD datasets**\n",
        "---"
      ]
    },
    {
      "cell_type": "markdown",
      "metadata": {
        "id": "3TrYtMl9g6wk",
        "colab_type": "text"
      },
      "source": [
        "### Grouping categories dataset by column value"
      ]
    },
    {
      "cell_type": "code",
      "metadata": {
        "id": "Mph9poM0gj9r",
        "colab_type": "code",
        "colab": {}
      },
      "source": [
        "group = df.groupby(df.category)"
      ],
      "execution_count": 72,
      "outputs": []
    },
    {
      "cell_type": "code",
      "metadata": {
        "id": "2YnQ7AE0gmQx",
        "colab_type": "code",
        "colab": {}
      },
      "source": [
        "sadness = group.get_group('sadness')\n",
        "joy = group.get_group('joy')\n",
        "trust = group.get_group('trust')\n",
        "anticipation = group.get_group('anticipation')\n",
        "anger = group.get_group('anger')\n",
        "surprise = group.get_group('surprise')\n",
        "fear = group.get_group('fear')\n",
        "disgust = group.get_group('disgust')"
      ],
      "execution_count": 73,
      "outputs": []
    },
    {
      "cell_type": "markdown",
      "metadata": {
        "id": "KiPg51WkgqlV",
        "colab_type": "text"
      },
      "source": [
        "### Adding VAD columns & filling them with VAD values\n",
        "http://saifmohammad.com/WebPages/nrc-vad.html"
      ]
    },
    {
      "cell_type": "code",
      "metadata": {
        "id": "nKHIXFzsgvPP",
        "colab_type": "code",
        "colab": {}
      },
      "source": [
        "def fill_VAD(df, VAD):\n",
        "    df.loc[:, 'Valence'] = VAD[0]\n",
        "    df.loc[:, 'Arousal'] = VAD[1]\n",
        "    df.loc[:, 'Dominance'] = VAD[2]  \n",
        "    return  df"
      ],
      "execution_count": 74,
      "outputs": []
    },
    {
      "cell_type": "code",
      "metadata": {
        "id": "Uw9RFuoAgxy4",
        "colab_type": "code",
        "colab": {}
      },
      "source": [
        "sadness = fill_VAD(df=sadness, VAD=[0.0520, 0.2880, 0.1640])\n",
        "joy = fill_VAD(df=joy, VAD=[0.9800, 0.8240, 0.7949])\n",
        "trust = fill_VAD(df=trust, VAD=[0.8880, 0.5470, 0.7410])\n",
        "anticipation = fill_VAD(df=anticipation, VAD=[0.6980, 0.5390, 0.7110])\n",
        "anger = fill_VAD(df=anger, VAD=[0.1670, 0.8650, 0.6570])\n",
        "surprise = fill_VAD(df=surprise, VAD=[0.8750, 0.8750, 0.5620])\n",
        "fear = fill_VAD(df=fear, VAD=[0.0730, 0.8400, 0.2930])\n",
        "disgust = fill_VAD(df=disgust, VAD=[0.0520, 0.7750, 0.3170])"
      ],
      "execution_count": 75,
      "outputs": []
    },
    {
      "cell_type": "markdown",
      "metadata": {
        "id": "zwGcxJVMhAp1",
        "colab_type": "text"
      },
      "source": [
        "### Concatenating & sorting datasets: Categories with Quadrants"
      ]
    },
    {
      "cell_type": "code",
      "metadata": {
        "id": "zdTys-AIhn_s",
        "colab_type": "code",
        "colab": {}
      },
      "source": [
        "def concat(df_1, df_2):\n",
        "    df = pd.concat(objs=[df_1, df_2], ignore_index=True)\n",
        "    return df"
      ],
      "execution_count": 76,
      "outputs": []
    },
    {
      "cell_type": "code",
      "metadata": {
        "id": "cgaldWzYbIaj",
        "colab_type": "code",
        "colab": {}
      },
      "source": [
        "df_VAD = df_NRC_VAD_Lexicon"
      ],
      "execution_count": 77,
      "outputs": []
    },
    {
      "cell_type": "code",
      "metadata": {
        "id": "hbP8QXVohOXc",
        "colab_type": "code",
        "colab": {}
      },
      "source": [
        "df_VAD = concat(df_VAD, sadness)\n",
        "df_VAD = concat(df_VAD, joy)\n",
        "df_VAD = concat(df_VAD, trust)\n",
        "df_VAD = concat(df_VAD, anticipation)\n",
        "df_VAD = concat(df_VAD, anger)\n",
        "df_VAD = concat(df_VAD, surprise)\n",
        "df_VAD = concat(df_VAD, fear)\n",
        "df_VAD = concat(df_VAD, disgust)"
      ],
      "execution_count": 78,
      "outputs": []
    },
    {
      "cell_type": "markdown",
      "metadata": {
        "id": "iybwMbiTlKgY",
        "colab_type": "text"
      },
      "source": [
        "### Delete duplicates & replace NaN with empty"
      ]
    },
    {
      "cell_type": "code",
      "metadata": {
        "id": "ZMSkFbKwlQNg",
        "colab_type": "code",
        "colab": {}
      },
      "source": [
        "#df_VAD = df_VAD.drop_duplicates(subset=['word'], keep=False)"
      ],
      "execution_count": 79,
      "outputs": []
    },
    {
      "cell_type": "code",
      "metadata": {
        "id": "rxEQDZT7iG60",
        "colab_type": "code",
        "colab": {}
      },
      "source": [
        "df_VAD.replace(float('NaN'), 'empty', inplace=True)"
      ],
      "execution_count": 80,
      "outputs": []
    },
    {
      "cell_type": "markdown",
      "metadata": {
        "id": "K9F-0hM1wM-_",
        "colab_type": "text"
      },
      "source": [
        "### Applying NLP to VAD dataset"
      ]
    },
    {
      "cell_type": "code",
      "metadata": {
        "id": "HHplpP9OwKT4",
        "colab_type": "code",
        "colab": {
          "base_uri": "https://localhost:8080/",
          "height": 381
        },
        "outputId": "b199b2c1-044a-4ee1-ca96-4a7776b1bd96"
      },
      "source": [
        "df_VAD = nlp_apply(df_VAD, 'word')"
      ],
      "execution_count": 81,
      "outputs": [
        {
          "output_type": "stream",
          "text": [
            "Vader\n",
            "\n",
            "TextBlob\n",
            "\n",
            "removing empty values...\n",
            "\n",
            "Stanza\n",
            "\n",
            "removing empty values...\n",
            "\n",
            "Flair\n",
            "\n",
            "\n",
            "Removing scores equal to 0 & empty or space values\n",
            "\n",
            "\n",
            "removing empty values...\n",
            "\n",
            "Strip spaces both sides\n",
            "\n"
          ],
          "name": "stdout"
        }
      ]
    },
    {
      "cell_type": "code",
      "metadata": {
        "id": "F6KXUFFTwRVz",
        "colab_type": "code",
        "colab": {}
      },
      "source": [
        "#df_VAD = preprocessing_characteres(df_VAD, 'word')\n",
        "#df_VAD['word'] = df_VAD['word'].str.strip()\n",
        "#df_VAD = df_VAD.dropna()"
      ],
      "execution_count": 82,
      "outputs": []
    },
    {
      "cell_type": "markdown",
      "metadata": {
        "id": "_EIZqYv8j0Q7",
        "colab_type": "text"
      },
      "source": [
        "### Minimum & max value with medium point"
      ]
    },
    {
      "cell_type": "code",
      "metadata": {
        "id": "pZ-Hh9K1jqdL",
        "colab_type": "code",
        "colab": {}
      },
      "source": [
        "def min_max_value(df, c):\n",
        "    return df[c].min(), df[c].max()"
      ],
      "execution_count": 83,
      "outputs": []
    },
    {
      "cell_type": "code",
      "metadata": {
        "id": "pB27zNAhjr-R",
        "colab_type": "code",
        "colab": {}
      },
      "source": [
        "def medium_point(df, c):\n",
        "    '''Compute medium point from dataframe'''\n",
        "    x1, x2 = min_max_value(df, c)\n",
        "    return x2 - x1 / 2"
      ],
      "execution_count": 84,
      "outputs": []
    },
    {
      "cell_type": "code",
      "metadata": {
        "id": "9zq6Vsn0jxNz",
        "colab_type": "code",
        "colab": {}
      },
      "source": [
        "df_VAD = preprocessing_characteres(df_VAD, 'word')\n",
        "df_VAD['word'] = df_VAD['word'].str.strip()\n",
        "df_VAD = df_VAD.dropna()"
      ],
      "execution_count": 85,
      "outputs": []
    },
    {
      "cell_type": "code",
      "metadata": {
        "id": "2fF6zXLIsFNU",
        "colab_type": "code",
        "colab": {
          "base_uri": "https://localhost:8080/",
          "height": 407
        },
        "outputId": "7bf0a334-f20a-4ac8-c5d0-eff9199e9fed"
      },
      "source": [
        "df_VAD"
      ],
      "execution_count": 86,
      "outputs": [
        {
          "output_type": "execute_result",
          "data": {
            "text/html": [
              "<div>\n",
              "<style scoped>\n",
              "    .dataframe tbody tr th:only-of-type {\n",
              "        vertical-align: middle;\n",
              "    }\n",
              "\n",
              "    .dataframe tbody tr th {\n",
              "        vertical-align: top;\n",
              "    }\n",
              "\n",
              "    .dataframe thead th {\n",
              "        text-align: right;\n",
              "    }\n",
              "</style>\n",
              "<table border=\"1\" class=\"dataframe\">\n",
              "  <thead>\n",
              "    <tr style=\"text-align: right;\">\n",
              "      <th></th>\n",
              "      <th>word</th>\n",
              "      <th>Valence</th>\n",
              "      <th>Arousal</th>\n",
              "      <th>Dominance</th>\n",
              "      <th>category</th>\n",
              "      <th>score</th>\n",
              "      <th>Compound</th>\n",
              "      <th>Subjectivity</th>\n",
              "      <th>Stanza</th>\n",
              "      <th>Flair</th>\n",
              "    </tr>\n",
              "  </thead>\n",
              "  <tbody>\n",
              "    <tr>\n",
              "      <th>0</th>\n",
              "      <td>aaaaaaah</td>\n",
              "      <td>0.479</td>\n",
              "      <td>0.606</td>\n",
              "      <td>0.291</td>\n",
              "      <td>empty</td>\n",
              "      <td>empty</td>\n",
              "      <td>0.0000</td>\n",
              "      <td>0.0</td>\n",
              "      <td>1</td>\n",
              "      <td>POSITIVE</td>\n",
              "    </tr>\n",
              "    <tr>\n",
              "      <th>1</th>\n",
              "      <td>aaaah</td>\n",
              "      <td>0.520</td>\n",
              "      <td>0.636</td>\n",
              "      <td>0.282</td>\n",
              "      <td>empty</td>\n",
              "      <td>empty</td>\n",
              "      <td>0.0000</td>\n",
              "      <td>0.0</td>\n",
              "      <td>1</td>\n",
              "      <td>POSITIVE</td>\n",
              "    </tr>\n",
              "    <tr>\n",
              "      <th>2</th>\n",
              "      <td>aardvark</td>\n",
              "      <td>0.427</td>\n",
              "      <td>0.490</td>\n",
              "      <td>0.437</td>\n",
              "      <td>empty</td>\n",
              "      <td>empty</td>\n",
              "      <td>0.0000</td>\n",
              "      <td>0.0</td>\n",
              "      <td>1</td>\n",
              "      <td>POSITIVE</td>\n",
              "    </tr>\n",
              "    <tr>\n",
              "      <th>3</th>\n",
              "      <td>aback</td>\n",
              "      <td>0.385</td>\n",
              "      <td>0.407</td>\n",
              "      <td>0.288</td>\n",
              "      <td>empty</td>\n",
              "      <td>empty</td>\n",
              "      <td>0.0000</td>\n",
              "      <td>0.0</td>\n",
              "      <td>1</td>\n",
              "      <td>POSITIVE</td>\n",
              "    </tr>\n",
              "    <tr>\n",
              "      <th>4</th>\n",
              "      <td>abacus</td>\n",
              "      <td>0.510</td>\n",
              "      <td>0.276</td>\n",
              "      <td>0.485</td>\n",
              "      <td>empty</td>\n",
              "      <td>empty</td>\n",
              "      <td>0.0000</td>\n",
              "      <td>0.0</td>\n",
              "      <td>1</td>\n",
              "      <td>NEGATIVE</td>\n",
              "    </tr>\n",
              "    <tr>\n",
              "      <th>...</th>\n",
              "      <td>...</td>\n",
              "      <td>...</td>\n",
              "      <td>...</td>\n",
              "      <td>...</td>\n",
              "      <td>...</td>\n",
              "      <td>...</td>\n",
              "      <td>...</td>\n",
              "      <td>...</td>\n",
              "      <td>...</td>\n",
              "      <td>...</td>\n",
              "    </tr>\n",
              "    <tr>\n",
              "      <th>70067</th>\n",
              "      <td>disappoint</td>\n",
              "      <td>0.052</td>\n",
              "      <td>0.775</td>\n",
              "      <td>0.317</td>\n",
              "      <td>disgust</td>\n",
              "      <td>0.383</td>\n",
              "      <td>-0.4019</td>\n",
              "      <td>0.0</td>\n",
              "      <td>0</td>\n",
              "      <td>NEGATIVE</td>\n",
              "    </tr>\n",
              "    <tr>\n",
              "      <th>70068</th>\n",
              "      <td>mention</td>\n",
              "      <td>0.052</td>\n",
              "      <td>0.775</td>\n",
              "      <td>0.317</td>\n",
              "      <td>disgust</td>\n",
              "      <td>0.0863629</td>\n",
              "      <td>0.0000</td>\n",
              "      <td>0.0</td>\n",
              "      <td>1</td>\n",
              "      <td>POSITIVE</td>\n",
              "    </tr>\n",
              "    <tr>\n",
              "      <th>70069</th>\n",
              "      <td>fugitive</td>\n",
              "      <td>0.052</td>\n",
              "      <td>0.775</td>\n",
              "      <td>0.317</td>\n",
              "      <td>disgust</td>\n",
              "      <td>0.383</td>\n",
              "      <td>0.0000</td>\n",
              "      <td>0.0</td>\n",
              "      <td>1</td>\n",
              "      <td>NEGATIVE</td>\n",
              "    </tr>\n",
              "    <tr>\n",
              "      <th>70070</th>\n",
              "      <td>affront</td>\n",
              "      <td>0.052</td>\n",
              "      <td>0.775</td>\n",
              "      <td>0.317</td>\n",
              "      <td>disgust</td>\n",
              "      <td>0.422</td>\n",
              "      <td>0.0000</td>\n",
              "      <td>0.0</td>\n",
              "      <td>1</td>\n",
              "      <td>NEGATIVE</td>\n",
              "    </tr>\n",
              "    <tr>\n",
              "      <th>70071</th>\n",
              "      <td>ridicule</td>\n",
              "      <td>0.052</td>\n",
              "      <td>0.775</td>\n",
              "      <td>0.317</td>\n",
              "      <td>disgust</td>\n",
              "      <td>0.555</td>\n",
              "      <td>-0.4588</td>\n",
              "      <td>0.0</td>\n",
              "      <td>1</td>\n",
              "      <td>NEGATIVE</td>\n",
              "    </tr>\n",
              "  </tbody>\n",
              "</table>\n",
              "<p>70072 rows × 10 columns</p>\n",
              "</div>"
            ],
            "text/plain": [
              "             word  Valence  Arousal  ...  Subjectivity Stanza     Flair\n",
              "0        aaaaaaah    0.479    0.606  ...           0.0      1  POSITIVE\n",
              "1           aaaah    0.520    0.636  ...           0.0      1  POSITIVE\n",
              "2        aardvark    0.427    0.490  ...           0.0      1  POSITIVE\n",
              "3           aback    0.385    0.407  ...           0.0      1  POSITIVE\n",
              "4          abacus    0.510    0.276  ...           0.0      1  NEGATIVE\n",
              "...           ...      ...      ...  ...           ...    ...       ...\n",
              "70067  disappoint    0.052    0.775  ...           0.0      0  NEGATIVE\n",
              "70068     mention    0.052    0.775  ...           0.0      1  POSITIVE\n",
              "70069    fugitive    0.052    0.775  ...           0.0      1  NEGATIVE\n",
              "70070     affront    0.052    0.775  ...           0.0      1  NEGATIVE\n",
              "70071    ridicule    0.052    0.775  ...           0.0      1  NEGATIVE\n",
              "\n",
              "[70072 rows x 10 columns]"
            ]
          },
          "metadata": {
            "tags": []
          },
          "execution_count": 86
        }
      ]
    },
    {
      "cell_type": "code",
      "metadata": {
        "id": "1UETsGe4jxVF",
        "colab_type": "code",
        "colab": {}
      },
      "source": [
        "# COLUMNS: word, Arousal, Valence, Dominance\n",
        "arousal_mp = medium_point(df_VAD, 'Arousal')\n",
        "valence_mp = medium_point(df_VAD, 'Valence')\n",
        "dominance_mp = medium_point(df_VAD, 'Dominance')"
      ],
      "execution_count": 87,
      "outputs": []
    },
    {
      "cell_type": "code",
      "metadata": {
        "id": "t8m1u-K5jqy6",
        "colab_type": "code",
        "colab": {
          "base_uri": "https://localhost:8080/",
          "height": 181
        },
        "outputId": "f7296002-76c3-478b-bb23-61b0150d255d"
      },
      "source": [
        "print('Min, Max')\n",
        "print('Arousal: {}\\nValence: {}\\nDominance {}\\n'.format(min_max_value(df_VAD, 'Arousal'), min_max_value(df_VAD, 'Valence'), min_max_value(df_VAD, 'Dominance')))\n",
        "\n",
        "print('Medium point')\n",
        "print('Arousal: {}\\nValence: {}\\nDominance {}'.format(arousal_mp, valence_mp, dominance_mp))"
      ],
      "execution_count": 88,
      "outputs": [
        {
          "output_type": "stream",
          "text": [
            "Min, Max\n",
            "Arousal: (0.046, 0.99)\n",
            "Valence: (0.0, 1.0)\n",
            "Dominance (0.045, 0.991)\n",
            "\n",
            "Medium point\n",
            "Arousal: 0.967\n",
            "Valence: 1.0\n",
            "Dominance 0.9685\n"
          ],
          "name": "stdout"
        }
      ]
    },
    {
      "cell_type": "markdown",
      "metadata": {
        "id": "1wIedMlRit-I",
        "colab_type": "text"
      },
      "source": [
        "---\n",
        "# **10. Quadrants**\n",
        "---"
      ]
    },
    {
      "cell_type": "markdown",
      "metadata": {
        "id": "KinvSgfbBmGd",
        "colab_type": "text"
      },
      "source": [
        "since the drop function is used, the inequalities are inverse"
      ]
    },
    {
      "cell_type": "markdown",
      "metadata": {
        "id": "Mz36MBvISGmy",
        "colab_type": "text"
      },
      "source": [
        "### I. High Arousal, Positive Valence"
      ]
    },
    {
      "cell_type": "code",
      "metadata": {
        "id": "RJlH1MH3SF7I",
        "colab_type": "code",
        "colab": {}
      },
      "source": [
        "first_quad =  df_VAD.drop(df_VAD[(df_VAD['Arousal'] < arousal_mp) & (df_VAD['Valence'] < valence_mp)].index)"
      ],
      "execution_count": 104,
      "outputs": []
    },
    {
      "cell_type": "markdown",
      "metadata": {
        "id": "TjbFP93icing",
        "colab_type": "text"
      },
      "source": [
        "### II. High Arousal, Negative Valance"
      ]
    },
    {
      "cell_type": "code",
      "metadata": {
        "id": "IxLHapeXcuCS",
        "colab_type": "code",
        "colab": {}
      },
      "source": [
        "second_quad = df_VAD.drop(df_VAD[(df_VAD['Arousal'] < arousal_mp) & (df_VAD['Valence'] > valence_mp)].index)"
      ],
      "execution_count": 105,
      "outputs": []
    },
    {
      "cell_type": "markdown",
      "metadata": {
        "id": "N7qcgrbqdLTX",
        "colab_type": "text"
      },
      "source": [
        "### III. Low Arousal, Negative Valance"
      ]
    },
    {
      "cell_type": "code",
      "metadata": {
        "id": "rWiPmfQAdKuj",
        "colab_type": "code",
        "colab": {}
      },
      "source": [
        "third_quad = df_VAD.drop(df_VAD[(df_VAD['Arousal'] > arousal_mp) & (df_VAD['Valence'] > valence_mp)].index)"
      ],
      "execution_count": 106,
      "outputs": []
    },
    {
      "cell_type": "markdown",
      "metadata": {
        "id": "IhfI6hc9d7E3",
        "colab_type": "text"
      },
      "source": [
        "### IV. Low Arousal, Positive Valance"
      ]
    },
    {
      "cell_type": "code",
      "metadata": {
        "id": "GbmnY1Y4eAmP",
        "colab_type": "code",
        "colab": {}
      },
      "source": [
        "fourth_quad = df_VAD.drop(df_VAD[(df_VAD['Arousal'] > arousal_mp) & (df_VAD['Valence'] < valence_mp)].index)"
      ],
      "execution_count": 107,
      "outputs": []
    },
    {
      "cell_type": "markdown",
      "metadata": {
        "id": "-NBgAGTkf9iD",
        "colab_type": "text"
      },
      "source": [
        "### PLOT VAD"
      ]
    },
    {
      "cell_type": "code",
      "metadata": {
        "id": "h3BMIq2x6Exp",
        "colab_type": "code",
        "colab": {
          "base_uri": "https://localhost:8080/",
          "height": 341
        },
        "outputId": "c7530ef4-90a7-4feb-c102-03a08b9c4784"
      },
      "source": [
        "y_quad = list(map(len, [first_quad, second_quad, third_quad, fourth_quad]))\n",
        "\n",
        "print(y_quad)\n",
        "simple_bar(['first', 'second', 'third', 'fourth'], y_quad, size=(8, 4))"
      ],
      "execution_count": 108,
      "outputs": [
        {
          "output_type": "stream",
          "text": [
            "No handles with labels found to put in legend.\n"
          ],
          "name": "stderr"
        },
        {
          "output_type": "stream",
          "text": [
            "[19, 70072, 70072, 70060]\n"
          ],
          "name": "stdout"
        },
        {
          "output_type": "display_data",
          "data": {
            "image/png": "[encoded data removed]",
            "text/plain": [
              "<Figure size 576x288 with 1 Axes>"
            ]
          },
          "metadata": {
            "tags": [],
            "needs_background": "light"
          }
        }
      ]
    },
    {
      "cell_type": "markdown",
      "metadata": {
        "id": "6GeIpeDjOhi7",
        "colab_type": "text"
      },
      "source": [
        "---\n",
        "# **11. CATEGORIES**\n",
        "---\n",
        "There are four quadrants plus 3D called dominance (README.md)"
      ]
    },
    {
      "cell_type": "markdown",
      "metadata": {
        "id": "VHslHWjtQHYr",
        "colab_type": "text"
      },
      "source": [
        "### Confident\n",
        "- confident -> trust\n",
        "- unconfident -> disgust"
      ]
    },
    {
      "cell_type": "code",
      "metadata": {
        "id": "4RAJX0HxOBYN",
        "colab_type": "code",
        "colab": {}
      },
      "source": [
        "confident = group.get_group(lexicon_labels[2])\n",
        "unconfident = group.get_group(lexicon_labels[7])"
      ],
      "execution_count": 94,
      "outputs": []
    },
    {
      "cell_type": "markdown",
      "metadata": {
        "id": "dgkr7KDuQXDG",
        "colab_type": "text"
      },
      "source": [
        "### Handles pressure\n",
        "In the positive side is included patience, focus and calm\n",
        "- can -> dominance strong + low arousal + positive valence\n",
        "- can't -> dominance weak + high arousal + negative valence"
      ]
    },
    {
      "cell_type": "code",
      "metadata": {
        "id": "0oG2W3xLO7Ut",
        "colab_type": "code",
        "colab": {
          "base_uri": "https://localhost:8080/",
          "height": 135
        },
        "outputId": "5c4ee015-d2b0-47da-a914-fdebe4aa18d4"
      },
      "source": [
        "can_handle_pressure = \n",
        "#cant_handle_pressure = "
      ],
      "execution_count": 95,
      "outputs": [
        {
          "output_type": "error",
          "ename": "SyntaxError",
          "evalue": "ignored",
          "traceback": [
            "\u001b[0;36m  File \u001b[0;32m\"<ipython-input-95-02eaf124c827>\"\u001b[0;36m, line \u001b[0;32m1\u001b[0m\n\u001b[0;31m    can_handle_pressure =\u001b[0m\n\u001b[0m                          ^\u001b[0m\n\u001b[0;31mSyntaxError\u001b[0m\u001b[0;31m:\u001b[0m invalid syntax\n"
          ]
        }
      ]
    },
    {
      "cell_type": "code",
      "metadata": {
        "id": "OltxBhGiPFrj",
        "colab_type": "code",
        "colab": {}
      },
      "source": [
        "organized = ''\n",
        "unorganized = ''"
      ],
      "execution_count": null,
      "outputs": []
    },
    {
      "cell_type": "code",
      "metadata": {
        "id": "fMySJL6NPL3c",
        "colab_type": "code",
        "colab": {}
      },
      "source": [
        "happy = ''\n",
        "unhappy = ''"
      ],
      "execution_count": null,
      "outputs": []
    },
    {
      "cell_type": "code",
      "metadata": {
        "id": "LbJk2hjgPPJu",
        "colab_type": "code",
        "colab": {}
      },
      "source": [
        "friendly = ''\n",
        "unfriendly = ''"
      ],
      "execution_count": null,
      "outputs": []
    },
    {
      "cell_type": "markdown",
      "metadata": {
        "id": "9XS-K0VHu71s",
        "colab_type": "text"
      },
      "source": [
        "# **10. Test training SpaCy**"
      ]
    },
    {
      "cell_type": "code",
      "metadata": {
        "id": "2b-yDnmyQJl4",
        "colab_type": "code",
        "colab": {}
      },
      "source": [
        "# flair can complement stanza values\n",
        "# if stanza value == 0, then assign the prediction from flair\n",
        "# flair should be a different tokens by predicction\n",
        "# e.g.: does not handles pressure \n",
        "# stanza == 0\n",
        "# flair == -1\n",
        "# flair == 0.98 == > -0.98 --> will mean the label {does not handles pressure}"
      ],
      "execution_count": null,
      "outputs": []
    },
    {
      "cell_type": "code",
      "metadata": {
        "id": "HLFAbVmDxLYu",
        "colab_type": "code",
        "colab": {}
      },
      "source": [
        "def cat_dict_funct(cat_dict, lst, n):\n",
        "    for i in range(len(lst)):\n",
        "        if i == n:\n",
        "            cat_dict[lst[i]] = 1\n",
        "        else:\n",
        "            cat_dict[lst[i]] = 0"
      ],
      "execution_count": null,
      "outputs": []
    },
    {
      "cell_type": "code",
      "metadata": {
        "id": "uAGo8o5dzOdy",
        "colab_type": "code",
        "colab": {}
      },
      "source": [
        "df = pd.read_csv('checkpoint-bywords.csv', encoding='utf-8', sep=',')"
      ],
      "execution_count": null,
      "outputs": []
    },
    {
      "cell_type": "code",
      "metadata": {
        "id": "p9I2SiJqcBM1",
        "colab_type": "code",
        "colab": {}
      },
      "source": [
        "list(set(df.category))"
      ],
      "execution_count": null,
      "outputs": []
    },
    {
      "cell_type": "code",
      "metadata": {
        "id": "pFoXSgm4Txgj",
        "colab_type": "code",
        "colab": {}
      },
      "source": [
        "train_data = df\n",
        "train_labels = list(set(df.category))\n",
        "train_texts = train_data['word'].tolist()\n",
        "train_cats = train_data['category'].tolist()\n",
        "\n",
        "final_train_cats, cat_dict = [], {}\n",
        "\n",
        "for cat in train_cats:\n",
        "    if cat == 'anger':\n",
        "        cat_dict_funct(cat_dict, train_labels, 0)\n",
        "    elif cat == 'fear':\n",
        "        cat_dict_funct(cat_dict, train_labels, 1)\n",
        "    elif cat == 'disgust':\n",
        "        cat_dict_funct(cat_dict, train_labels, 2)\n",
        "    elif cat == 'positive':\n",
        "        cat_dict_funct(cat_dict, train_labels, 3)\n",
        "    elif cat == 'sadness':\n",
        "        cat_dict_funct(cat_dict, train_labels, 4)\n",
        "    elif cat == 'anticipation':\n",
        "        cat_dict_funct(cat_dict, train_labels, 5)\n",
        "    elif cat == 'joy':\n",
        "        cat_dict_funct(cat_dict, train_labels, 6)\n",
        "    elif cat == 'negative':\n",
        "        cat_dict_funct(cat_dict, train_labels, 7)\n",
        "    elif cat == 'surprise':\n",
        "        cat_dict_funct(cat_dict, train_labels, 8)\n",
        "    elif cat == 'trust':\n",
        "        cat_dict_funct(cat_dict, train_labels, 9)\n",
        "    final_train_cats.append(cat_dict)"
      ],
      "execution_count": null,
      "outputs": []
    },
    {
      "cell_type": "code",
      "metadata": {
        "id": "tKiVNh43Wp4W",
        "colab_type": "code",
        "colab": {}
      },
      "source": [
        "TRAIN_DATA = list(zip(train_texts, [{\"cats\": cats} for cats in final_train_cats]))\n",
        "# msg = ''.join(str(v) for v in TRAIN_DATA)"
      ],
      "execution_count": null,
      "outputs": []
    },
    {
      "cell_type": "code",
      "metadata": {
        "id": "2BOvV7Z-Zcw4",
        "colab_type": "code",
        "colab": {}
      },
      "source": [
        "TRAIN_DATA[:2]"
      ],
      "execution_count": null,
      "outputs": []
    },
    {
      "cell_type": "code",
      "metadata": {
        "id": "PvPaeGf9cC7j",
        "colab_type": "code",
        "colab": {}
      },
      "source": [
        "nlp = spacy.load(\"en_core_web_sm\")\n",
        "category = nlp.create_pipe(\"textcat\", config={\"exclusive_classes\": True})\n",
        "nlp.add_pipe(category)\n",
        "\n",
        "# add label to text classifier\n",
        "category.add_label(\"trust\")\n",
        "category.add_label(\"fear\")\n",
        "category.add_label(\"disgust\")\n",
        "category.add_label(\"surprise\")\n",
        "category.add_label(\"anticipation\")\n",
        "category.add_label(\"anger\")\n",
        "category.add_label(\"joy\")"
      ],
      "execution_count": null,
      "outputs": []
    },
    {
      "cell_type": "code",
      "metadata": {
        "id": "ueRy8DzvyXTY",
        "colab_type": "code",
        "colab": {}
      },
      "source": [
        "# get names of other pipes to disable them during training\n",
        "n_iter = 10\n",
        "pipe_exceptions = [\"textcat\", \"trf_wordpiecer\", \"trf_tok2vec\"]\n",
        "other_pipes = [pipe for pipe in nlp.pipe_names if pipe not in pipe_exceptions]\n",
        "with nlp.disable_pipes(*other_pipes):  # only train textcat\n",
        "    optimizer = nlp.begin_training()\n",
        "    \n",
        "    for i in tqdm(range(n_iter)):\n",
        "        losses = {}\n",
        "        random.shuffle(TRAIN_DATA)\n",
        "    \n",
        "        for batch in tqdm(minibatch(TRAIN_DATA, size=50)):\n",
        "            #texts = [nlp(text) for text, entities in batch]\n",
        "            #annotations = [{\"cats\": entities} for text, entities in batch]\n",
        "            texts, annotations = zip(*batch)\n",
        "            try:\n",
        "                nlp.update(texts, annotations, sgd=optimizer, losses=losses)\n",
        "            except:\n",
        "                pass\n",
        "        print('\\n{}. Losses: {}'.format(i, losses))"
      ],
      "execution_count": null,
      "outputs": []
    },
    {
      "cell_type": "code",
      "metadata": {
        "id": "RES6aZkXckEA",
        "colab_type": "code",
        "colab": {}
      },
      "source": [
        "def spacy_prediction(text):\n",
        "    doc = nlp(u'{}'.format(text))  \n",
        "    result = doc.cats\n",
        "    index = np.argmax(result.values())\n",
        "    res_value = list(result.values())[index] * 100\n",
        "    res_label = list(result)[index]\n",
        "    print('Prediction: {}, Value: {} %'.format(res_label, round(res_value)))"
      ],
      "execution_count": null,
      "outputs": []
    },
    {
      "cell_type": "code",
      "metadata": {
        "id": "c53EmE-BdH_3",
        "colab_type": "code",
        "colab": {}
      },
      "source": [
        "spacy_prediction('joy')"
      ],
      "execution_count": null,
      "outputs": []
    },
    {
      "cell_type": "markdown",
      "metadata": {
        "id": "3CN1CDYzE2Ly",
        "colab_type": "text"
      },
      "source": [
        "## **Dropping unnecessary scores**"
      ]
    },
    {
      "cell_type": "code",
      "metadata": {
        "id": "XL7tBcsFEjPH",
        "colab_type": "code",
        "colab": {}
      },
      "source": [
        "sadness.drop(sadness[sadness.score == 0.000000]. index, inplace=True)\n",
        "joy.drop(joy[joy.score == 0.000000]. index, inplace=True)\n",
        "trust.drop(trust[trust.score == 0.000000]. index, inplace=True)\n",
        "anticipation.drop(anticipation[anticipation.score == 0.000000]. index, inplace=True)\n",
        "anger.drop(anger[anger.score == 0.000000]. index, inplace=True)\n",
        "surprise.drop(surprise[surprise.score == 0.000000]. index, inplace=True)\n",
        "fear.drop(fear[fear.score == 0.000000]. index, inplace=True)\n",
        "disgust.drop(disgust[disgust.score == 0.000000]. index, inplace=True)"
      ],
      "execution_count": null,
      "outputs": []
    },
    {
      "cell_type": "code",
      "metadata": {
        "id": "SB7JVJnmI8Hc",
        "colab_type": "code",
        "colab": {}
      },
      "source": [
        "version = '2'\n",
        "df.to_csv('result' + version + '.csv', encoding='utf-8', index=False)"
      ],
      "execution_count": null,
      "outputs": []
    }
  ]
}