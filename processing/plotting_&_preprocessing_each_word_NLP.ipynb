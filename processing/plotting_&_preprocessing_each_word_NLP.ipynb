{
  "nbformat": 4,
  "nbformat_minor": 0,
  "metadata": {
    "colab": {
      "name": "plotting & preprocessing each word NLP.ipynb",
      "provenance": [],
      "collapsed_sections": [],
      "machine_shape": "hm"
    },
    "kernelspec": {
      "name": "python3",
      "display_name": "Python 3"
    },
    "accelerator": "TPU"
  },
  "cells": [
    {
      "cell_type": "markdown",
      "metadata": {
        "id": "MvKwORjrfciW",
        "colab_type": "text"
      },
      "source": [
        "---\n",
        "# **1. Installation**\n",
        "---"
      ]
    },
    {
      "cell_type": "code",
      "metadata": {
        "id": "ziQyamb7gKSt",
        "colab_type": "code",
        "colab": {
          "base_uri": "https://localhost:8080/",
          "height": 1000
        },
        "outputId": "933883fb-abb4-43bf-acce-edcf729cf88e"
      },
      "source": [
        "!pip install nltk\n",
        "!pip install --upgrade git+https://github.com/flairNLP/flair.git\n",
        "!pip install textblob\n",
        "!pip install stanza\n",
        "!pip install spacy"
      ],
      "execution_count": 1,
      "outputs": [
        {
          "output_type": "stream",
          "text": [
            "Requirement already satisfied: nltk in /usr/local/lib/python3.6/dist-packages (3.2.5)\n",
            "Requirement already satisfied: six in /usr/local/lib/python3.6/dist-packages (from nltk) (1.15.0)\n",
            "Collecting git+https://github.com/flairNLP/flair.git\n",
            "  Cloning https://github.com/flairNLP/flair.git to /tmp/pip-req-build-p5mepk31\n",
            "  Running command git clone -q https://github.com/flairNLP/flair.git /tmp/pip-req-build-p5mepk31\n",
            "  Installing build dependencies ... \u001b[?25l\u001b[?25hdone\n",
            "  Getting requirements to build wheel ... \u001b[?25l\u001b[?25hdone\n",
            "    Preparing wheel metadata ... \u001b[?25l\u001b[?25hdone\n",
            "Requirement already satisfied, skipping upgrade: gensim>=3.4.0 in /usr/local/lib/python3.6/dist-packages (from flair==0.6.0.post1) (3.6.0)\n",
            "Requirement already satisfied, skipping upgrade: scikit-learn>=0.21.3 in /usr/local/lib/python3.6/dist-packages (from flair==0.6.0.post1) (0.22.2.post1)\n",
            "Requirement already satisfied, skipping upgrade: janome in /usr/local/lib/python3.6/dist-packages (from flair==0.6.0.post1) (0.4.0)\n",
            "Requirement already satisfied, skipping upgrade: sqlitedict>=1.6.0 in /usr/local/lib/python3.6/dist-packages (from flair==0.6.0.post1) (1.6.0)\n",
            "Requirement already satisfied, skipping upgrade: mpld3==0.3 in /usr/local/lib/python3.6/dist-packages (from flair==0.6.0.post1) (0.3)\n",
            "Requirement already satisfied, skipping upgrade: python-dateutil>=2.6.1 in /usr/local/lib/python3.6/dist-packages (from flair==0.6.0.post1) (2.8.1)\n",
            "Requirement already satisfied, skipping upgrade: sentencepiece!=0.1.92 in /usr/local/lib/python3.6/dist-packages (from flair==0.6.0.post1) (0.1.91)\n",
            "Requirement already satisfied, skipping upgrade: langdetect in /usr/local/lib/python3.6/dist-packages (from flair==0.6.0.post1) (1.0.8)\n",
            "Requirement already satisfied, skipping upgrade: matplotlib>=2.2.3 in /usr/local/lib/python3.6/dist-packages (from flair==0.6.0.post1) (3.2.2)\n",
            "Requirement already satisfied, skipping upgrade: transformers>=3.0.0 in /usr/local/lib/python3.6/dist-packages (from flair==0.6.0.post1) (3.1.0)\n",
            "Requirement already satisfied, skipping upgrade: ftfy in /usr/local/lib/python3.6/dist-packages (from flair==0.6.0.post1) (5.8)\n",
            "Requirement already satisfied, skipping upgrade: hyperopt>=0.1.1 in /usr/local/lib/python3.6/dist-packages (from flair==0.6.0.post1) (0.1.2)\n",
            "Requirement already satisfied, skipping upgrade: torch>=1.1.0 in /usr/local/lib/python3.6/dist-packages (from flair==0.6.0.post1) (1.6.0+cu101)\n",
            "Requirement already satisfied, skipping upgrade: segtok>=1.5.7 in /usr/local/lib/python3.6/dist-packages (from flair==0.6.0.post1) (1.5.10)\n",
            "Requirement already satisfied, skipping upgrade: konoha<5.0.0,>=4.0.0 in /usr/local/lib/python3.6/dist-packages (from flair==0.6.0.post1) (4.6.1)\n",
            "Requirement already satisfied, skipping upgrade: tqdm>=4.26.0 in /usr/local/lib/python3.6/dist-packages (from flair==0.6.0.post1) (4.41.1)\n",
            "Requirement already satisfied, skipping upgrade: pytest>=5.3.2 in /usr/local/lib/python3.6/dist-packages (from flair==0.6.0.post1) (6.0.1)\n",
            "Requirement already satisfied, skipping upgrade: tabulate in /usr/local/lib/python3.6/dist-packages (from flair==0.6.0.post1) (0.8.7)\n",
            "Requirement already satisfied, skipping upgrade: deprecated>=1.2.4 in /usr/local/lib/python3.6/dist-packages (from flair==0.6.0.post1) (1.2.10)\n",
            "Requirement already satisfied, skipping upgrade: regex in /usr/local/lib/python3.6/dist-packages (from flair==0.6.0.post1) (2019.12.20)\n",
            "Requirement already satisfied, skipping upgrade: lxml in /usr/local/lib/python3.6/dist-packages (from flair==0.6.0.post1) (4.2.6)\n",
            "Requirement already satisfied, skipping upgrade: bpemb>=0.3.2 in /usr/local/lib/python3.6/dist-packages (from flair==0.6.0.post1) (0.3.2)\n",
            "Requirement already satisfied, skipping upgrade: numpy>=1.11.3 in /usr/local/lib/python3.6/dist-packages (from gensim>=3.4.0->flair==0.6.0.post1) (1.18.5)\n",
            "Requirement already satisfied, skipping upgrade: six>=1.5.0 in /usr/local/lib/python3.6/dist-packages (from gensim>=3.4.0->flair==0.6.0.post1) (1.15.0)\n",
            "Requirement already satisfied, skipping upgrade: smart-open>=1.2.1 in /usr/local/lib/python3.6/dist-packages (from gensim>=3.4.0->flair==0.6.0.post1) (2.1.0)\n",
            "Requirement already satisfied, skipping upgrade: scipy>=0.18.1 in /usr/local/lib/python3.6/dist-packages (from gensim>=3.4.0->flair==0.6.0.post1) (1.4.1)\n",
            "Requirement already satisfied, skipping upgrade: joblib>=0.11 in /usr/local/lib/python3.6/dist-packages (from scikit-learn>=0.21.3->flair==0.6.0.post1) (0.16.0)\n",
            "Requirement already satisfied, skipping upgrade: kiwisolver>=1.0.1 in /usr/local/lib/python3.6/dist-packages (from matplotlib>=2.2.3->flair==0.6.0.post1) (1.2.0)\n",
            "Requirement already satisfied, skipping upgrade: cycler>=0.10 in /usr/local/lib/python3.6/dist-packages (from matplotlib>=2.2.3->flair==0.6.0.post1) (0.10.0)\n",
            "Requirement already satisfied, skipping upgrade: pyparsing!=2.0.4,!=2.1.2,!=2.1.6,>=2.0.1 in /usr/local/lib/python3.6/dist-packages (from matplotlib>=2.2.3->flair==0.6.0.post1) (2.4.7)\n",
            "Requirement already satisfied, skipping upgrade: requests in /usr/local/lib/python3.6/dist-packages (from transformers>=3.0.0->flair==0.6.0.post1) (2.23.0)\n",
            "Requirement already satisfied, skipping upgrade: dataclasses; python_version < \"3.7\" in /usr/local/lib/python3.6/dist-packages (from transformers>=3.0.0->flair==0.6.0.post1) (0.7)\n",
            "Requirement already satisfied, skipping upgrade: sacremoses in /usr/local/lib/python3.6/dist-packages (from transformers>=3.0.0->flair==0.6.0.post1) (0.0.43)\n",
            "Requirement already satisfied, skipping upgrade: tokenizers==0.8.1.rc2 in /usr/local/lib/python3.6/dist-packages (from transformers>=3.0.0->flair==0.6.0.post1) (0.8.1rc2)\n",
            "Requirement already satisfied, skipping upgrade: filelock in /usr/local/lib/python3.6/dist-packages (from transformers>=3.0.0->flair==0.6.0.post1) (3.0.12)\n",
            "Requirement already satisfied, skipping upgrade: packaging in /usr/local/lib/python3.6/dist-packages (from transformers>=3.0.0->flair==0.6.0.post1) (20.4)\n",
            "Requirement already satisfied, skipping upgrade: wcwidth in /usr/local/lib/python3.6/dist-packages (from ftfy->flair==0.6.0.post1) (0.2.5)\n",
            "Requirement already satisfied, skipping upgrade: future in /usr/local/lib/python3.6/dist-packages (from hyperopt>=0.1.1->flair==0.6.0.post1) (0.16.0)\n",
            "Requirement already satisfied, skipping upgrade: networkx in /usr/local/lib/python3.6/dist-packages (from hyperopt>=0.1.1->flair==0.6.0.post1) (2.5)\n",
            "Requirement already satisfied, skipping upgrade: pymongo in /usr/local/lib/python3.6/dist-packages (from hyperopt>=0.1.1->flair==0.6.0.post1) (3.11.0)\n",
            "Requirement already satisfied, skipping upgrade: overrides==3.0.0 in /usr/local/lib/python3.6/dist-packages (from konoha<5.0.0,>=4.0.0->flair==0.6.0.post1) (3.0.0)\n",
            "Requirement already satisfied, skipping upgrade: attrs>=17.4.0 in /usr/local/lib/python3.6/dist-packages (from pytest>=5.3.2->flair==0.6.0.post1) (20.1.0)\n",
            "Requirement already satisfied, skipping upgrade: py>=1.8.2 in /usr/local/lib/python3.6/dist-packages (from pytest>=5.3.2->flair==0.6.0.post1) (1.9.0)\n",
            "Requirement already satisfied, skipping upgrade: iniconfig in /usr/local/lib/python3.6/dist-packages (from pytest>=5.3.2->flair==0.6.0.post1) (1.0.1)\n",
            "Requirement already satisfied, skipping upgrade: pluggy<1.0,>=0.12 in /usr/local/lib/python3.6/dist-packages (from pytest>=5.3.2->flair==0.6.0.post1) (0.13.1)\n",
            "Requirement already satisfied, skipping upgrade: more-itertools>=4.0.0 in /usr/local/lib/python3.6/dist-packages (from pytest>=5.3.2->flair==0.6.0.post1) (8.4.0)\n",
            "Requirement already satisfied, skipping upgrade: importlib-metadata>=0.12; python_version < \"3.8\" in /usr/local/lib/python3.6/dist-packages (from pytest>=5.3.2->flair==0.6.0.post1) (1.7.0)\n",
            "Requirement already satisfied, skipping upgrade: toml in /usr/local/lib/python3.6/dist-packages (from pytest>=5.3.2->flair==0.6.0.post1) (0.10.1)\n",
            "Requirement already satisfied, skipping upgrade: wrapt<2,>=1.10 in /usr/local/lib/python3.6/dist-packages (from deprecated>=1.2.4->flair==0.6.0.post1) (1.12.1)\n",
            "Requirement already satisfied, skipping upgrade: boto in /usr/local/lib/python3.6/dist-packages (from smart-open>=1.2.1->gensim>=3.4.0->flair==0.6.0.post1) (2.49.0)\n",
            "Requirement already satisfied, skipping upgrade: boto3 in /usr/local/lib/python3.6/dist-packages (from smart-open>=1.2.1->gensim>=3.4.0->flair==0.6.0.post1) (1.14.48)\n",
            "Requirement already satisfied, skipping upgrade: urllib3!=1.25.0,!=1.25.1,<1.26,>=1.21.1 in /usr/local/lib/python3.6/dist-packages (from requests->transformers>=3.0.0->flair==0.6.0.post1) (1.24.3)\n",
            "Requirement already satisfied, skipping upgrade: idna<3,>=2.5 in /usr/local/lib/python3.6/dist-packages (from requests->transformers>=3.0.0->flair==0.6.0.post1) (2.10)\n",
            "Requirement already satisfied, skipping upgrade: certifi>=2017.4.17 in /usr/local/lib/python3.6/dist-packages (from requests->transformers>=3.0.0->flair==0.6.0.post1) (2020.6.20)\n",
            "Requirement already satisfied, skipping upgrade: chardet<4,>=3.0.2 in /usr/local/lib/python3.6/dist-packages (from requests->transformers>=3.0.0->flair==0.6.0.post1) (3.0.4)\n",
            "Requirement already satisfied, skipping upgrade: click in /usr/local/lib/python3.6/dist-packages (from sacremoses->transformers>=3.0.0->flair==0.6.0.post1) (7.1.2)\n",
            "Requirement already satisfied, skipping upgrade: decorator>=4.3.0 in /usr/local/lib/python3.6/dist-packages (from networkx->hyperopt>=0.1.1->flair==0.6.0.post1) (4.4.2)\n",
            "Requirement already satisfied, skipping upgrade: zipp>=0.5 in /usr/local/lib/python3.6/dist-packages (from importlib-metadata>=0.12; python_version < \"3.8\"->pytest>=5.3.2->flair==0.6.0.post1) (3.1.0)\n",
            "Requirement already satisfied, skipping upgrade: s3transfer<0.4.0,>=0.3.0 in /usr/local/lib/python3.6/dist-packages (from boto3->smart-open>=1.2.1->gensim>=3.4.0->flair==0.6.0.post1) (0.3.3)\n",
            "Requirement already satisfied, skipping upgrade: jmespath<1.0.0,>=0.7.1 in /usr/local/lib/python3.6/dist-packages (from boto3->smart-open>=1.2.1->gensim>=3.4.0->flair==0.6.0.post1) (0.10.0)\n",
            "Requirement already satisfied, skipping upgrade: botocore<1.18.0,>=1.17.48 in /usr/local/lib/python3.6/dist-packages (from boto3->smart-open>=1.2.1->gensim>=3.4.0->flair==0.6.0.post1) (1.17.48)\n",
            "Requirement already satisfied, skipping upgrade: docutils<0.16,>=0.10 in /usr/local/lib/python3.6/dist-packages (from botocore<1.18.0,>=1.17.48->boto3->smart-open>=1.2.1->gensim>=3.4.0->flair==0.6.0.post1) (0.15.2)\n",
            "Building wheels for collected packages: flair\n",
            "  Building wheel for flair (PEP 517) ... \u001b[?25l\u001b[?25hdone\n",
            "  Created wheel for flair: filename=flair-0.6.0.post1-cp36-none-any.whl size=187822 sha256=d9afd864d262d90351c464c8a46da03d01d9aa2f9beae6eec9565e07757d8f3e\n",
            "  Stored in directory: /tmp/pip-ephem-wheel-cache-43sqjm4w/wheels/84/82/73/d2b3b59b7be74ea05f2c6d64132efe27df52daffb47d1dc7bb\n",
            "Successfully built flair\n",
            "Installing collected packages: flair\n",
            "  Found existing installation: flair 0.6.0.post1\n",
            "    Uninstalling flair-0.6.0.post1:\n",
            "      Successfully uninstalled flair-0.6.0.post1\n",
            "Successfully installed flair-0.6.0.post1\n",
            "Requirement already satisfied: textblob in /usr/local/lib/python3.6/dist-packages (0.15.3)\n",
            "Requirement already satisfied: nltk>=3.1 in /usr/local/lib/python3.6/dist-packages (from textblob) (3.2.5)\n",
            "Requirement already satisfied: six in /usr/local/lib/python3.6/dist-packages (from nltk>=3.1->textblob) (1.15.0)\n",
            "Requirement already satisfied: stanza in /usr/local/lib/python3.6/dist-packages (1.1.1)\n",
            "Requirement already satisfied: tqdm in /usr/local/lib/python3.6/dist-packages (from stanza) (4.41.1)\n",
            "Requirement already satisfied: numpy in /usr/local/lib/python3.6/dist-packages (from stanza) (1.18.5)\n",
            "Requirement already satisfied: torch>=1.3.0 in /usr/local/lib/python3.6/dist-packages (from stanza) (1.6.0+cu101)\n",
            "Requirement already satisfied: requests in /usr/local/lib/python3.6/dist-packages (from stanza) (2.23.0)\n",
            "Requirement already satisfied: protobuf in /usr/local/lib/python3.6/dist-packages (from stanza) (3.12.4)\n",
            "Requirement already satisfied: future in /usr/local/lib/python3.6/dist-packages (from torch>=1.3.0->stanza) (0.16.0)\n",
            "Requirement already satisfied: certifi>=2017.4.17 in /usr/local/lib/python3.6/dist-packages (from requests->stanza) (2020.6.20)\n",
            "Requirement already satisfied: urllib3!=1.25.0,!=1.25.1,<1.26,>=1.21.1 in /usr/local/lib/python3.6/dist-packages (from requests->stanza) (1.24.3)\n",
            "Requirement already satisfied: chardet<4,>=3.0.2 in /usr/local/lib/python3.6/dist-packages (from requests->stanza) (3.0.4)\n",
            "Requirement already satisfied: idna<3,>=2.5 in /usr/local/lib/python3.6/dist-packages (from requests->stanza) (2.10)\n",
            "Requirement already satisfied: six>=1.9 in /usr/local/lib/python3.6/dist-packages (from protobuf->stanza) (1.15.0)\n",
            "Requirement already satisfied: setuptools in /usr/local/lib/python3.6/dist-packages (from protobuf->stanza) (49.6.0)\n",
            "Requirement already satisfied: spacy in /usr/local/lib/python3.6/dist-packages (2.2.4)\n",
            "Requirement already satisfied: thinc==7.4.0 in /usr/local/lib/python3.6/dist-packages (from spacy) (7.4.0)\n",
            "Requirement already satisfied: setuptools in /usr/local/lib/python3.6/dist-packages (from spacy) (49.6.0)\n",
            "Requirement already satisfied: catalogue<1.1.0,>=0.0.7 in /usr/local/lib/python3.6/dist-packages (from spacy) (1.0.0)\n",
            "Requirement already satisfied: murmurhash<1.1.0,>=0.28.0 in /usr/local/lib/python3.6/dist-packages (from spacy) (1.0.2)\n",
            "Requirement already satisfied: cymem<2.1.0,>=2.0.2 in /usr/local/lib/python3.6/dist-packages (from spacy) (2.0.3)\n",
            "Requirement already satisfied: blis<0.5.0,>=0.4.0 in /usr/local/lib/python3.6/dist-packages (from spacy) (0.4.1)\n",
            "Requirement already satisfied: numpy>=1.15.0 in /usr/local/lib/python3.6/dist-packages (from spacy) (1.18.5)\n",
            "Requirement already satisfied: srsly<1.1.0,>=1.0.2 in /usr/local/lib/python3.6/dist-packages (from spacy) (1.0.2)\n",
            "Requirement already satisfied: wasabi<1.1.0,>=0.4.0 in /usr/local/lib/python3.6/dist-packages (from spacy) (0.7.1)\n",
            "Requirement already satisfied: tqdm<5.0.0,>=4.38.0 in /usr/local/lib/python3.6/dist-packages (from spacy) (4.41.1)\n",
            "Requirement already satisfied: requests<3.0.0,>=2.13.0 in /usr/local/lib/python3.6/dist-packages (from spacy) (2.23.0)\n",
            "Requirement already satisfied: preshed<3.1.0,>=3.0.2 in /usr/local/lib/python3.6/dist-packages (from spacy) (3.0.2)\n",
            "Requirement already satisfied: plac<1.2.0,>=0.9.6 in /usr/local/lib/python3.6/dist-packages (from spacy) (1.1.3)\n",
            "Requirement already satisfied: importlib-metadata>=0.20; python_version < \"3.8\" in /usr/local/lib/python3.6/dist-packages (from catalogue<1.1.0,>=0.0.7->spacy) (1.7.0)\n",
            "Requirement already satisfied: chardet<4,>=3.0.2 in /usr/local/lib/python3.6/dist-packages (from requests<3.0.0,>=2.13.0->spacy) (3.0.4)\n",
            "Requirement already satisfied: certifi>=2017.4.17 in /usr/local/lib/python3.6/dist-packages (from requests<3.0.0,>=2.13.0->spacy) (2020.6.20)\n",
            "Requirement already satisfied: urllib3!=1.25.0,!=1.25.1,<1.26,>=1.21.1 in /usr/local/lib/python3.6/dist-packages (from requests<3.0.0,>=2.13.0->spacy) (1.24.3)\n",
            "Requirement already satisfied: idna<3,>=2.5 in /usr/local/lib/python3.6/dist-packages (from requests<3.0.0,>=2.13.0->spacy) (2.10)\n",
            "Requirement already satisfied: zipp>=0.5 in /usr/local/lib/python3.6/dist-packages (from importlib-metadata>=0.20; python_version < \"3.8\"->catalogue<1.1.0,>=0.0.7->spacy) (3.1.0)\n"
          ],
          "name": "stdout"
        }
      ]
    },
    {
      "cell_type": "markdown",
      "metadata": {
        "id": "PkUNmwjYfj8n",
        "colab_type": "text"
      },
      "source": [
        "---\n",
        "# **2. Imports**\n",
        "---"
      ]
    },
    {
      "cell_type": "markdown",
      "metadata": {
        "id": "2UcFnP3qfssO",
        "colab_type": "text"
      },
      "source": [
        "### i. core"
      ]
    },
    {
      "cell_type": "code",
      "metadata": {
        "id": "HTS6dvWgjTRK",
        "colab_type": "code",
        "colab": {}
      },
      "source": [
        "import re\n",
        "import logging\n",
        "import numpy as np\n",
        "import pandas as pd\n",
        "import matplotlib.pyplot as plt"
      ],
      "execution_count": 2,
      "outputs": []
    },
    {
      "cell_type": "markdown",
      "metadata": {
        "id": "bAjiaWM-fr7F",
        "colab_type": "text"
      },
      "source": [
        "### ii. NLTK Vader Sentiment Intensity Analyzer"
      ]
    },
    {
      "cell_type": "code",
      "metadata": {
        "id": "jK5w_s6Kge2W",
        "colab_type": "code",
        "colab": {
          "base_uri": "https://localhost:8080/",
          "height": 104
        },
        "outputId": "d369458b-7d8c-46ad-c6b5-faf27bcea49f"
      },
      "source": [
        "import nltk\n",
        "from nltk.sentiment.vader import SentimentIntensityAnalyzer\n",
        "nltk.download('vader_lexicon')\n",
        "SIA = SentimentIntensityAnalyzer()"
      ],
      "execution_count": 3,
      "outputs": [
        {
          "output_type": "stream",
          "text": [
            "[nltk_data] Downloading package vader_lexicon to /root/nltk_data...\n",
            "[nltk_data]   Package vader_lexicon is already up-to-date!\n"
          ],
          "name": "stdout"
        },
        {
          "output_type": "stream",
          "text": [
            "/usr/local/lib/python3.6/dist-packages/nltk/twitter/__init__.py:20: UserWarning: The twython library has not been installed. Some functionality from the twitter package will not be available.\n",
            "  warnings.warn(\"The twython library has not been installed. \"\n"
          ],
          "name": "stderr"
        }
      ]
    },
    {
      "cell_type": "markdown",
      "metadata": {
        "id": "zftnZsPZf0iN",
        "colab_type": "text"
      },
      "source": [
        "### iii. Stanza"
      ]
    },
    {
      "cell_type": "code",
      "metadata": {
        "id": "plBOpEiwpmNp",
        "colab_type": "code",
        "colab": {
          "base_uri": "https://localhost:8080/",
          "height": 638
        },
        "outputId": "cd9f6571-a11c-4ef1-8061-1579bb4a2628"
      },
      "source": [
        "import stanza\n",
        "stanza.download('en', package='ewt', processors='tokenize,sentiment', verbose=True)\n",
        "stanza.download('en', package='default', processors='tokenize,sentiment', verbose=True)\n",
        "stNLP = stanza.Pipeline(processors='tokenize,sentiment', lang='en', use_gpu=True)"
      ],
      "execution_count": 4,
      "outputs": [
        {
          "output_type": "stream",
          "text": [
            "Downloading https://raw.githubusercontent.com/stanfordnlp/stanza-resources/master/resources_1.1.0.json: 122kB [00:00, 13.2MB/s]                    \n",
            "2020-09-04 08:21:51 WARNING: Can not find sentiment: ewt from official model list. Ignoring it.\n",
            "2020-09-04 08:21:51 INFO: Downloading these customized packages for language: en (English)...\n",
            "=======================\n",
            "| Processor | Package |\n",
            "-----------------------\n",
            "| tokenize  | ewt     |\n",
            "=======================\n",
            "\n",
            "2020-09-04 08:21:51 INFO: File exists: /root/stanza_resources/en/tokenize/ewt.pt.\n",
            "2020-09-04 08:21:51 INFO: Finished downloading models and saved to /root/stanza_resources.\n",
            "Downloading https://raw.githubusercontent.com/stanfordnlp/stanza-resources/master/resources_1.1.0.json: 122kB [00:00, 12.5MB/s]                    \n",
            "2020-09-04 08:21:51 INFO: Downloading these customized packages for language: en (English)...\n",
            "=======================\n",
            "| Processor | Package |\n",
            "-----------------------\n",
            "| tokenize  | ewt     |\n",
            "| sentiment | sstplus |\n",
            "| pretrain  | ewt     |\n",
            "=======================\n",
            "\n",
            "2020-09-04 08:21:51 INFO: File exists: /root/stanza_resources/en/tokenize/ewt.pt.\n",
            "2020-09-04 08:21:51 INFO: File exists: /root/stanza_resources/en/sentiment/sstplus.pt.\n",
            "2020-09-04 08:21:51 INFO: File exists: /root/stanza_resources/en/pretrain/ewt.pt.\n",
            "2020-09-04 08:21:51 INFO: Finished downloading models and saved to /root/stanza_resources.\n",
            "2020-09-04 08:21:51 INFO: Loading these models for language: en (English):\n",
            "=======================\n",
            "| Processor | Package |\n",
            "-----------------------\n",
            "| tokenize  | ewt     |\n",
            "| sentiment | sstplus |\n",
            "=======================\n",
            "\n",
            "2020-09-04 08:21:51 INFO: Use device: cpu\n",
            "2020-09-04 08:21:51 INFO: Loading: tokenize\n",
            "2020-09-04 08:21:51 INFO: Loading: sentiment\n",
            "2020-09-04 08:21:53 INFO: Done loading processors!\n"
          ],
          "name": "stderr"
        }
      ]
    },
    {
      "cell_type": "markdown",
      "metadata": {
        "id": "68fKZ5sHf8_v",
        "colab_type": "text"
      },
      "source": [
        "### iv. Spacy Text Categorizer"
      ]
    },
    {
      "cell_type": "code",
      "metadata": {
        "id": "bXKsPUNj5ovs",
        "colab_type": "code",
        "colab": {
          "base_uri": "https://localhost:8080/",
          "height": 1000
        },
        "outputId": "5c7d23cf-4eb4-4ead-c7e6-5d30c2a43619"
      },
      "source": [
        "import random\n",
        "import spacy\n",
        "from spacy.util import minibatch\n",
        "from spacy.pipeline import TextCategorizer\n",
        "spacy.prefer_gpu()\n",
        "\n",
        "TRAIN_DATA = [\n",
        "    [\"My little kitty is so special\", {\"Cat\": True}],\n",
        "    [\"Dude, Totally, Yeah, Video Games\", {\"Cat\": False}],\n",
        "    [\"Should I pay $1,000 for the iPhone X?\", {\"Cat\": False}],\n",
        "    [\"The iPhone 8 reviews are here\", {\"Cat\": False}],\n",
        "    [\"Noa is a great cat name.\", {\"Cat\": True}],\n",
        "    [\"We got a new kitten!\", {\"Cat\": True}]\n",
        "]\n",
        "\n",
        "nlp = spacy.load(\"en_core_web_sm\")\n",
        "category = nlp.create_pipe(\"textcat\", config={\"exclusive_classes\": True})\n",
        "nlp.add_pipe(category)\n",
        "\n",
        "# add label to text classifier\n",
        "category.add_label(\"Cat\")\n",
        "category.add_label('False')\n",
        "\n",
        "optimizer = nlp.begin_training()\n",
        "losses = {}\n",
        "\n",
        "for i in range(100):\n",
        "    random.shuffle(TRAIN_DATA)\n",
        "\n",
        "    for batch in minibatch(TRAIN_DATA, size=8):\n",
        "        texts = [nlp(text) for text, entities in batch]\n",
        "        annotations = [{\"cats\": entities} for text, entities in batch]\n",
        "        nlp.update(texts, annotations, sgd=optimizer, losses=losses)\n",
        "    print(i, losses)"
      ],
      "execution_count": 5,
      "outputs": [
        {
          "output_type": "stream",
          "text": [
            "0 {'parser': 0.0, 'textcat': 0.0069444444961845875, 'ner': 0.0, 'tagger': 0.4249240756034851}\n",
            "1 {'parser': 0.0, 'textcat': 0.013880369253456593, 'ner': 0.0, 'tagger': 0.4284002557396889}\n",
            "2 {'parser': 0.0, 'textcat': 0.020715977530926466, 'ner': 0.0, 'tagger': 0.4284789737503161}\n",
            "3 {'parser': 0.0, 'textcat': 0.027338236570358276, 'ner': 0.0, 'tagger': 0.42848583118393435}\n",
            "4 {'parser': 0.0, 'textcat': 0.03366408636793494, 'ner': 0.0, 'tagger': 0.4284891048876034}\n",
            "5 {'parser': 0.0, 'textcat': 0.039630088955163956, 'ner': 0.0, 'tagger': 0.428492097505341}\n",
            "6 {'parser': 0.0, 'textcat': 0.04517432441934943, 'ner': 0.0, 'tagger': 0.42849479447409067}\n",
            "7 {'parser': 0.0, 'textcat': 0.05026110028848052, 'ner': 0.0, 'tagger': 0.42849676086234467}\n",
            "8 {'parser': 0.0, 'textcat': 0.054859704338014126, 'ner': 0.0, 'tagger': 0.42849795606741736}\n",
            "9 {'parser': 0.0, 'textcat': 0.05896327132359147, 'ner': 0.0, 'tagger': 0.4284986168765954}\n",
            "10 {'parser': 0.0, 'textcat': 0.06257496611215174, 'ner': 0.0, 'tagger': 0.4284989755157369}\n",
            "11 {'parser': 0.0, 'textcat': 0.0657089320011437, 'ner': 0.0, 'tagger': 0.4284991727853509}\n",
            "12 {'parser': 0.0, 'textcat': 0.06838411698117852, 'ner': 0.0, 'tagger': 0.42849928562255}\n",
            "13 {'parser': 0.0, 'textcat': 0.07063404051586986, 'ner': 0.0, 'tagger': 0.428499353778399}\n",
            "14 {'parser': 0.0, 'textcat': 0.07249645132105798, 'ner': 0.0, 'tagger': 0.4284993977739795}\n",
            "15 {'parser': 0.0, 'textcat': 0.07400920451618731, 'ner': 0.0, 'tagger': 0.42849942788590667}\n",
            "16 {'parser': 0.0, 'textcat': 0.07521319238003343, 'ner': 0.0, 'tagger': 0.4284994494311629}\n",
            "17 {'parser': 0.0, 'textcat': 0.07615137624088675, 'ner': 0.0, 'tagger': 0.42849946548551365}\n",
            "18 {'parser': 0.0, 'textcat': 0.07687055907445028, 'ner': 0.0, 'tagger': 0.42849947783087483}\n",
            "19 {'parser': 0.0, 'textcat': 0.07741002435795963, 'ner': 0.0, 'tagger': 0.4284994875782129}\n",
            "20 {'parser': 0.0, 'textcat': 0.07780573485069908, 'ner': 0.0, 'tagger': 0.4284994954185839}\n",
            "21 {'parser': 0.0, 'textcat': 0.07809092363459058, 'ner': 0.0, 'tagger': 0.4284995018521611}\n",
            "22 {'parser': 0.0, 'textcat': 0.07829241633589845, 'ner': 0.0, 'tagger': 0.4284995072040365}\n",
            "23 {'parser': 0.0, 'textcat': 0.07843247256823815, 'ner': 0.0, 'tagger': 0.42849951169827083}\n",
            "24 {'parser': 0.0, 'textcat': 0.0785281789212604, 'ner': 0.0, 'tagger': 0.4284995155094369}\n",
            "25 {'parser': 0.0, 'textcat': 0.07859238974197069, 'ner': 0.0, 'tagger': 0.42849951876966097}\n",
            "26 {'parser': 0.0, 'textcat': 0.07863483812980121, 'ner': 0.0, 'tagger': 0.42849952159032156}\n",
            "27 {'parser': 0.0, 'textcat': 0.07866260516857437, 'ner': 0.0, 'tagger': 0.4284995240331959}\n",
            "28 {'parser': 0.0, 'textcat': 0.07868058755593665, 'ner': 0.0, 'tagger': 0.4284995261652975}\n",
            "29 {'parser': 0.0, 'textcat': 0.07869211162415013, 'ner': 0.0, 'tagger': 0.4284995280482107}\n",
            "30 {'parser': 0.0, 'textcat': 0.07869942814477326, 'ner': 0.0, 'tagger': 0.42849952970612915}\n",
            "31 {'parser': 0.0, 'textcat': 0.07870403815559257, 'ner': 0.0, 'tagger': 0.4284995311868759}\n",
            "32 {'parser': 0.0, 'textcat': 0.07870692821484226, 'ner': 0.0, 'tagger': 0.42849953251086614}\n",
            "33 {'parser': 0.0, 'textcat': 0.07870873771730658, 'ner': 0.0, 'tagger': 0.4284995336985771}\n",
            "34 {'parser': 0.0, 'textcat': 0.07870987437274835, 'ner': 0.0, 'tagger': 0.428499534770296}\n",
            "35 {'parser': 0.0, 'textcat': 0.07871059317398021, 'ner': 0.0, 'tagger': 0.42849953574482935}\n",
            "36 {'parser': 0.0, 'textcat': 0.0787110524682646, 'ner': 0.0, 'tagger': 0.4284995366345056}\n",
            "37 {'parser': 0.0, 'textcat': 0.07871134994255158, 'ner': 0.0, 'tagger': 0.4284995374442235}\n",
            "38 {'parser': 0.0, 'textcat': 0.07871154577000539, 'ner': 0.0, 'tagger': 0.42849953819332115}\n",
            "39 {'parser': 0.0, 'textcat': 0.07871167697878434, 'ner': 0.0, 'tagger': 0.42849953888487213}\n",
            "40 {'parser': 0.0, 'textcat': 0.07871176659232049, 'ner': 0.0, 'tagger': 0.42849953952235226}\n",
            "41 {'parser': 0.0, 'textcat': 0.07871182905616081, 'ner': 0.0, 'tagger': 0.42849954012023533}\n",
            "42 {'parser': 0.0, 'textcat': 0.07871187346651709, 'ner': 0.0, 'tagger': 0.4284995406788891}\n",
            "43 {'parser': 0.0, 'textcat': 0.07871190566543618, 'ner': 0.0, 'tagger': 0.42849954120037803}\n",
            "44 {'parser': 0.0, 'textcat': 0.07871192945977157, 'ner': 0.0, 'tagger': 0.4284995416894666}\n",
            "45 {'parser': 0.0, 'textcat': 0.07871194737171372, 'ner': 0.0, 'tagger': 0.42849954214908426}\n",
            "46 {'parser': 0.0, 'textcat': 0.07871196110280021, 'ner': 0.0, 'tagger': 0.428499542583921}\n",
            "47 {'parser': 0.0, 'textcat': 0.07871197181212608, 'ner': 0.0, 'tagger': 0.428499542995311}\n",
            "48 {'parser': 0.0, 'textcat': 0.07871198030622395, 'ner': 0.0, 'tagger': 0.4284995433865529}\n",
            "49 {'parser': 0.0, 'textcat': 0.07871198714848449, 'ner': 0.0, 'tagger': 0.4284995437579969}\n",
            "50 {'parser': 0.0, 'textcat': 0.07871199274262075, 'ner': 0.0, 'tagger': 0.42849954411044844}\n",
            "51 {'parser': 0.0, 'textcat': 0.07871199737952717, 'ner': 0.0, 'tagger': 0.42849954444900146}\n",
            "52 {'parser': 0.0, 'textcat': 0.07871200127437206, 'ner': 0.0, 'tagger': 0.42849954477342456}\n",
            "53 {'parser': 0.0, 'textcat': 0.0787120045845302, 'ner': 0.0, 'tagger': 0.4284995450807756}\n",
            "54 {'parser': 0.0, 'textcat': 0.07871200743145046, 'ner': 0.0, 'tagger': 0.42849954537741625}\n",
            "55 {'parser': 0.0, 'textcat': 0.07871200990532334, 'ner': 0.0, 'tagger': 0.42849954565956366}\n",
            "56 {'parser': 0.0, 'textcat': 0.07871201207708745, 'ner': 0.0, 'tagger': 0.4284995459341159}\n",
            "57 {'parser': 0.0, 'textcat': 0.07871201400118388, 'ner': 0.0, 'tagger': 0.42849954619898134}\n",
            "58 {'parser': 0.0, 'textcat': 0.07871201572069231, 'ner': 0.0, 'tagger': 0.4284995464532891}\n",
            "59 {'parser': 0.0, 'textcat': 0.07871201726936727, 'ner': 0.0, 'tagger': 0.42849954669897033}\n",
            "60 {'parser': 0.0, 'textcat': 0.07871201867443767, 'ner': 0.0, 'tagger': 0.42849954693477965}\n",
            "61 {'parser': 0.0, 'textcat': 0.07871201995813915, 'ner': 0.0, 'tagger': 0.4284995471644695}\n",
            "62 {'parser': 0.0, 'textcat': 0.07871202113805675, 'ner': 0.0, 'tagger': 0.42849954738765395}\n",
            "63 {'parser': 0.0, 'textcat': 0.07871202222912377, 'ner': 0.0, 'tagger': 0.4284995476025253}\n",
            "64 {'parser': 0.0, 'textcat': 0.07871202324334925, 'ner': 0.0, 'tagger': 0.42849954781173794}\n",
            "65 {'parser': 0.0, 'textcat': 0.0787120241907251, 'ner': 0.0, 'tagger': 0.4284995480167125}\n",
            "66 {'parser': 0.0, 'textcat': 0.07871202507972325, 'ner': 0.0, 'tagger': 0.42849954821418546}\n",
            "67 {'parser': 0.0, 'textcat': 0.07871202591728488, 'ner': 0.0, 'tagger': 0.4284995484048604}\n",
            "68 {'parser': 0.0, 'textcat': 0.0787120267094672, 'ner': 0.0, 'tagger': 0.42849954859176353}\n",
            "69 {'parser': 0.0, 'textcat': 0.07871202746114264, 'ner': 0.0, 'tagger': 0.4284995487744455}\n",
            "70 {'parser': 0.0, 'textcat': 0.07871202817694445, 'ner': 0.0, 'tagger': 0.4284995489520228}\n",
            "71 {'parser': 0.0, 'textcat': 0.07871202886032508, 'ner': 0.0, 'tagger': 0.42849954912327987}\n",
            "72 {'parser': 0.0, 'textcat': 0.07871202951482847, 'ner': 0.0, 'tagger': 0.42849954929239603}\n",
            "73 {'parser': 0.0, 'textcat': 0.07871203014296485, 'ner': 0.0, 'tagger': 0.42849954945636815}\n",
            "74 {'parser': 0.0, 'textcat': 0.07871203074733357, 'ner': 0.0, 'tagger': 0.42849954961648107}\n",
            "75 {'parser': 0.0, 'textcat': 0.0787120313301578, 'ner': 0.0, 'tagger': 0.42849954977236626}\n",
            "76 {'parser': 0.0, 'textcat': 0.07871203189323134, 'ner': 0.0, 'tagger': 0.4284995499244332}\n",
            "77 {'parser': 0.0, 'textcat': 0.0787120324380558, 'ner': 0.0, 'tagger': 0.4284995500734279}\n",
            "78 {'parser': 0.0, 'textcat': 0.07871203296620383, 'ner': 0.0, 'tagger': 0.42849955021870073}\n",
            "79 {'parser': 0.0, 'textcat': 0.07871203347862593, 'ner': 0.0, 'tagger': 0.4284995503621145}\n",
            "80 {'parser': 0.0, 'textcat': 0.07871203397688986, 'ner': 0.0, 'tagger': 0.428499550503938}\n",
            "81 {'parser': 0.0, 'textcat': 0.07871203446179803, 'ner': 0.0, 'tagger': 0.42849955064192147}\n",
            "82 {'parser': 0.0, 'textcat': 0.0787120349342697, 'ner': 0.0, 'tagger': 0.4284995507762003}\n",
            "83 {'parser': 0.0, 'textcat': 0.07871203539501137, 'ner': 0.0, 'tagger': 0.428499550905459}\n",
            "84 {'parser': 0.0, 'textcat': 0.07871203584485353, 'ner': 0.0, 'tagger': 0.4284995510329986}\n",
            "85 {'parser': 0.0, 'textcat': 0.07871203628442988, 'ner': 0.0, 'tagger': 0.42849955115863714}\n",
            "86 {'parser': 0.0, 'textcat': 0.0787120367141681, 'ner': 0.0, 'tagger': 0.4284995512819626}\n",
            "87 {'parser': 0.0, 'textcat': 0.07871203713478245, 'ner': 0.0, 'tagger': 0.42849955140331575}\n",
            "88 {'parser': 0.0, 'textcat': 0.078712037546811, 'ner': 0.0, 'tagger': 0.42849955152231045}\n",
            "89 {'parser': 0.0, 'textcat': 0.07871203795030354, 'ner': 0.0, 'tagger': 0.42849955163884335}\n",
            "90 {'parser': 0.0, 'textcat': 0.078712038346061, 'ner': 0.0, 'tagger': 0.42849955175350635}\n",
            "91 {'parser': 0.0, 'textcat': 0.07871203873425128, 'ner': 0.0, 'tagger': 0.4284995518664358}\n",
            "92 {'parser': 0.0, 'textcat': 0.07871203911517866, 'ner': 0.0, 'tagger': 0.4284995519776247}\n",
            "93 {'parser': 0.0, 'textcat': 0.0787120394891345, 'ner': 0.0, 'tagger': 0.428499552087008}\n",
            "94 {'parser': 0.0, 'textcat': 0.07871203985640238, 'ner': 0.0, 'tagger': 0.4284995521929001}\n",
            "95 {'parser': 0.0, 'textcat': 0.07871204021711506, 'ner': 0.0, 'tagger': 0.4284995522948645}\n",
            "96 {'parser': 0.0, 'textcat': 0.0787120405718223, 'ner': 0.0, 'tagger': 0.42849955239583337}\n",
            "97 {'parser': 0.0, 'textcat': 0.07871204092048306, 'ner': 0.0, 'tagger': 0.42849955249507077}\n",
            "98 {'parser': 0.0, 'textcat': 0.07871204126335027, 'ner': 0.0, 'tagger': 0.4284995525925362}\n",
            "99 {'parser': 0.0, 'textcat': 0.07871204160052114, 'ner': 0.0, 'tagger': 0.4284995526884021}\n"
          ],
          "name": "stdout"
        }
      ]
    },
    {
      "cell_type": "code",
      "metadata": {
        "id": "FD_B7ebv96TN",
        "colab_type": "code",
        "colab": {
          "base_uri": "https://localhost:8080/",
          "height": 34
        },
        "outputId": "79379b30-2621-4b21-8f3b-63654d7df3a2"
      },
      "source": [
        "doc = nlp(u'This is my cat called kittens the kitty')\n",
        "print(doc.cats)"
      ],
      "execution_count": 6,
      "outputs": [
        {
          "output_type": "stream",
          "text": [
            "{'Cat': 0.983106255531311, 'False': 0.016893748193979263}\n"
          ],
          "name": "stdout"
        }
      ]
    },
    {
      "cell_type": "code",
      "metadata": {
        "id": "mzdvGfbG-Ydh",
        "colab_type": "code",
        "colab": {}
      },
      "source": [
        "TRAIN_DATA = [\n",
        "    (\"beef\", {\"cats\": {\"POSITIVE\": 1.0, \"NEGATIVE\": 0.0}}),\n",
        "    (\"apple\", {\"cats\": {\"POSITIVE\": 0, \"NEGATIVE\": 1}})\n",
        "]"
      ],
      "execution_count": 7,
      "outputs": []
    },
    {
      "cell_type": "code",
      "metadata": {
        "id": "9nI8VZO49i9V",
        "colab_type": "code",
        "colab": {
          "base_uri": "https://localhost:8080/",
          "height": 34
        },
        "outputId": "f4aff74c-9f3f-4a9c-9d9a-92f2f787ca1a"
      },
      "source": [
        "otro = nlp(u\"Dude, Totally, Yeah, Video Games\")\n",
        "print(otro.cats)"
      ],
      "execution_count": 8,
      "outputs": [
        {
          "output_type": "stream",
          "text": [
            "{'Cat': 9.196160681312904e-05, 'False': 0.9999079704284668}\n"
          ],
          "name": "stdout"
        }
      ]
    },
    {
      "cell_type": "markdown",
      "metadata": {
        "id": "wEBX9L0XgBv9",
        "colab_type": "text"
      },
      "source": [
        "### v. TextBlob"
      ]
    },
    {
      "cell_type": "code",
      "metadata": {
        "id": "ZIeEIxpagqkJ",
        "colab_type": "code",
        "colab": {}
      },
      "source": [
        "from textblob import TextBlob"
      ],
      "execution_count": 9,
      "outputs": []
    },
    {
      "cell_type": "markdown",
      "metadata": {
        "id": "Bi8mvbAAgFhg",
        "colab_type": "text"
      },
      "source": [
        "### vi. Flair"
      ]
    },
    {
      "cell_type": "code",
      "metadata": {
        "id": "G3bdliRrg2kw",
        "colab_type": "code",
        "colab": {
          "base_uri": "https://localhost:8080/",
          "height": 34
        },
        "outputId": "01af24db-e0f7-40e2-aecd-a0a83e156d8c"
      },
      "source": [
        "import flair\n",
        "flair_sent = flair.models.TextClassifier.load('en-sentiment')"
      ],
      "execution_count": 10,
      "outputs": [
        {
          "output_type": "stream",
          "text": [
            "2020-09-04 08:22:14,877 loading file /root/.flair/models/sentiment-en-mix-distillbert_3.1.pt\n"
          ],
          "name": "stdout"
        }
      ]
    },
    {
      "cell_type": "markdown",
      "metadata": {
        "id": "IvieUPUdgIs1",
        "colab_type": "text"
      },
      "source": [
        "---\n",
        "# **3. Defining functions**\n",
        "---"
      ]
    },
    {
      "cell_type": "code",
      "metadata": {
        "id": "K-nxqDRugBpy",
        "colab_type": "code",
        "colab": {}
      },
      "source": [
        "def siaVader_compound(text):\n",
        "    scores = SIA.polarity_scores(text)\n",
        "    \n",
        "    comp_score = scores['compound']\n",
        "    if comp_score >= 0.05:\n",
        "        str_comp = 'pos'\n",
        "    elif comp_score <= -0.05:\n",
        "        str_comp = 'neg'\n",
        "    else: # (compound score > -0.05) and (compound score < 0.05)\n",
        "        str_comp = 'neu'\n",
        "    return str_comp\n",
        "\n",
        "def siaVader_maxScore(text):\n",
        "    scores = SIA.polarity_scores(text)\n",
        "    \n",
        "    del scores['compound']\n",
        "    index = np.argmax(list(scores.values()))\n",
        "    vader_MaxScore = list(scores.values())[index]\n",
        "    vader_label = list(scores)[index]\n",
        "    \n",
        "    return vader_label\n",
        "\n",
        "###\n",
        "def siaVader_byWord(text):\n",
        "    c = 0\n",
        "    for n, y in enumerate(text):\n",
        "        x = SIA.polarity_scores(y)\n",
        "        if x['compound'] != 0.0:\n",
        "            c += 1\n",
        "            # print('{}. {} {}'.format(c, x, y))\n",
        "            return 'pos' if x > 0.05 else 'neg'"
      ],
      "execution_count": 11,
      "outputs": []
    },
    {
      "cell_type": "code",
      "metadata": {
        "id": "Vfl3Mns-gtfK",
        "colab_type": "code",
        "colab": {}
      },
      "source": [
        "def text_blob_subjective(text):\n",
        "    return TextBlob(text).sentiment"
      ],
      "execution_count": 12,
      "outputs": []
    },
    {
      "cell_type": "code",
      "metadata": {
        "id": "gOyTlhydgI4k",
        "colab_type": "code",
        "colab": {}
      },
      "source": [
        "def flair_lstm(text):\n",
        "    x = flair.data.Sentence(text)\n",
        "    flair_sent.predict(sentences=x)\n",
        "    return x.labels"
      ],
      "execution_count": 13,
      "outputs": []
    },
    {
      "cell_type": "code",
      "metadata": {
        "id": "-fH81bgqHLEh",
        "colab_type": "code",
        "colab": {}
      },
      "source": [
        "def stanza_funct(text):\n",
        "    try:\n",
        "        data = stNLP(text)\n",
        "        for sentence in data.sentences:\n",
        "            return sentence.sentiment\n",
        "    except:\n",
        "        print('{...}', end='; ')"
      ],
      "execution_count": 14,
      "outputs": []
    },
    {
      "cell_type": "markdown",
      "metadata": {
        "id": "CShr2gm0iDS3",
        "colab_type": "text"
      },
      "source": [
        "---\n",
        "\n",
        "# **4. Comparing Sentiment Analyzers**\n",
        "\n",
        "---"
      ]
    },
    {
      "cell_type": "markdown",
      "metadata": {
        "id": "3swCgi6KijqN",
        "colab_type": "text"
      },
      "source": [
        "### **data (text)**"
      ]
    },
    {
      "cell_type": "code",
      "metadata": {
        "id": "2pT9-wk3T3lH",
        "colab_type": "code",
        "colab": {}
      },
      "source": [
        "data = [\n",
        "        'not confident',\n",
        "        'unsure',\n",
        "        'does not handles pressure',\n",
        "        'disordered',\n",
        "        'talks too much',\n",
        "        'uninsterested',\n",
        "        'sad',\n",
        "        'unfriendly',\n",
        "        \n",
        "        'confident',\n",
        "        'certain',\n",
        "        'handles pressure',\n",
        "        'organized',\n",
        "        'concise',\n",
        "        'interested',\n",
        "        'happy',\n",
        "        'friendly'\n",
        "        ]     "
      ],
      "execution_count": 15,
      "outputs": []
    },
    {
      "cell_type": "code",
      "metadata": {
        "id": "RKqOe6UOhb-Y",
        "colab_type": "code",
        "colab": {}
      },
      "source": [
        "#data = \"I'm confident of myself but sometimes I'm unsure and unfriendly however I'm concise when I'm interested in being someone organizated who handles pressure\"\n",
        "#data = data.split()"
      ],
      "execution_count": 16,
      "outputs": []
    },
    {
      "cell_type": "markdown",
      "metadata": {
        "id": "0s4rbwMraWhc",
        "colab_type": "text"
      },
      "source": [
        "### **NLTK Vader**\n",
        "* VADER, has different ratings depending on the form of the word and therefore the input should not be stemmed or lemmatized.\n",
        "\n",
        "* disadvantage of this approach is that Out of Vocab (OOV) words that the sentiment analysis tool has not seen before will not be classified as positive/negative (e.g. typos)."
      ]
    },
    {
      "cell_type": "code",
      "metadata": {
        "id": "PM_KBvUoiUPQ",
        "colab_type": "code",
        "colab": {
          "base_uri": "https://localhost:8080/",
          "height": 34
        },
        "outputId": "c524de9e-7c1f-4791-be6b-21f7fcd4337a"
      },
      "source": [
        "SIA.polarity_scores(' '.join(data))"
      ],
      "execution_count": 17,
      "outputs": [
        {
          "output_type": "execute_result",
          "data": {
            "text/plain": [
              "{'compound': 0.6553, 'neg': 0.271, 'neu': 0.299, 'pos': 0.43}"
            ]
          },
          "metadata": {
            "tags": []
          },
          "execution_count": 17
        }
      ]
    },
    {
      "cell_type": "code",
      "metadata": {
        "id": "RX554uoq2ywa",
        "colab_type": "code",
        "colab": {
          "base_uri": "https://localhost:8080/",
          "height": 70
        },
        "outputId": "7ffb462b-b077-4e1f-c979-5e3bd4872676"
      },
      "source": [
        "print(data)\n",
        "print([(lambda x: SIA.polarity_scores(x)['compound'])(x) for x in data])"
      ],
      "execution_count": 18,
      "outputs": [
        {
          "output_type": "stream",
          "text": [
            "['not confident', 'unsure', 'does not handles pressure', 'disordered', 'talks too much', 'uninsterested', 'sad', 'unfriendly', 'confident', 'certain', 'handles pressure', 'organized', 'concise', 'interested', 'happy', 'friendly']\n",
            "[-0.3875, -0.25, 0.2235, 0.0, 0.0, 0.0, -0.4767, -0.3612, 0.4939, 0.2732, -0.296, 0.0, 0.0, 0.4019, 0.5719, 0.4939]\n"
          ],
          "name": "stdout"
        }
      ]
    },
    {
      "cell_type": "code",
      "metadata": {
        "id": "aXWDJN1uiZD1",
        "colab_type": "code",
        "colab": {
          "base_uri": "https://localhost:8080/",
          "height": 35
        },
        "outputId": "b045201c-368e-49d5-9101-f8cbd5b4efb7"
      },
      "source": [
        "siaVader_compound(' '.join(data))"
      ],
      "execution_count": 19,
      "outputs": [
        {
          "output_type": "execute_result",
          "data": {
            "application/vnd.google.colaboratory.intrinsic+json": {
              "type": "string"
            },
            "text/plain": [
              "'pos'"
            ]
          },
          "metadata": {
            "tags": []
          },
          "execution_count": 19
        }
      ]
    },
    {
      "cell_type": "code",
      "metadata": {
        "id": "5N_AoPwl21Ge",
        "colab_type": "code",
        "colab": {
          "base_uri": "https://localhost:8080/",
          "height": 70
        },
        "outputId": "3c386e34-e25d-46f4-b9c0-e1b56ce350eb"
      },
      "source": [
        "print(data)\n",
        "print([(lambda x: siaVader_compound(x))(x) for x in data])"
      ],
      "execution_count": 20,
      "outputs": [
        {
          "output_type": "stream",
          "text": [
            "['not confident', 'unsure', 'does not handles pressure', 'disordered', 'talks too much', 'uninsterested', 'sad', 'unfriendly', 'confident', 'certain', 'handles pressure', 'organized', 'concise', 'interested', 'happy', 'friendly']\n",
            "['neg', 'neg', 'pos', 'neu', 'neu', 'neu', 'neg', 'neg', 'pos', 'pos', 'neg', 'neu', 'neu', 'pos', 'pos', 'pos']\n"
          ],
          "name": "stdout"
        }
      ]
    },
    {
      "cell_type": "code",
      "metadata": {
        "id": "FE7Pctquifyg",
        "colab_type": "code",
        "colab": {
          "base_uri": "https://localhost:8080/",
          "height": 35
        },
        "outputId": "e04d471c-e1d2-4ec5-b638-def167f90481"
      },
      "source": [
        "siaVader_maxScore(' '.join(data))"
      ],
      "execution_count": 21,
      "outputs": [
        {
          "output_type": "execute_result",
          "data": {
            "application/vnd.google.colaboratory.intrinsic+json": {
              "type": "string"
            },
            "text/plain": [
              "'pos'"
            ]
          },
          "metadata": {
            "tags": []
          },
          "execution_count": 21
        }
      ]
    },
    {
      "cell_type": "code",
      "metadata": {
        "id": "xG7sYB5A3BT4",
        "colab_type": "code",
        "colab": {
          "base_uri": "https://localhost:8080/",
          "height": 70
        },
        "outputId": "a1d85bfd-1b76-4a06-ca6f-b507f0375da1"
      },
      "source": [
        "print(data)\n",
        "print([(lambda x: siaVader_maxScore(x))(x) for x in data])"
      ],
      "execution_count": 22,
      "outputs": [
        {
          "output_type": "stream",
          "text": [
            "['not confident', 'unsure', 'does not handles pressure', 'disordered', 'talks too much', 'uninsterested', 'sad', 'unfriendly', 'confident', 'certain', 'handles pressure', 'organized', 'concise', 'interested', 'happy', 'friendly']\n",
            "['neg', 'neg', 'neu', 'neu', 'neu', 'neu', 'neg', 'neg', 'pos', 'pos', 'neg', 'neu', 'neu', 'pos', 'pos', 'pos']\n"
          ],
          "name": "stdout"
        }
      ]
    },
    {
      "cell_type": "markdown",
      "metadata": {
        "id": "ytOKtne0ixoN",
        "colab_type": "text"
      },
      "source": [
        "## **TextBlob**\n",
        "* use a bag of words classifier, but the advantage is that it includes subjetivity analysis (factual/opinated)\n",
        "* it doesn't contain the heuristics that nltk has, it won't intensify or negate a sentence's sentiment\n",
        "\n",
        "* will return the subjectivity of the text"
      ]
    },
    {
      "cell_type": "code",
      "metadata": {
        "id": "yYHpCDQuiw6T",
        "colab_type": "code",
        "colab": {
          "base_uri": "https://localhost:8080/",
          "height": 34
        },
        "outputId": "2b2c9f56-8b6f-429e-aba9-b3b48e6b0576"
      },
      "source": [
        "text_blob_subjective(' '.join(data))"
      ],
      "execution_count": 23,
      "outputs": [
        {
          "output_type": "execute_result",
          "data": {
            "text/plain": [
              "Sentiment(polarity=0.1876984126984127, subjectivity=0.6708994708994709)"
            ]
          },
          "metadata": {
            "tags": []
          },
          "execution_count": 23
        }
      ]
    },
    {
      "cell_type": "code",
      "metadata": {
        "id": "wUeSbMr_3KfD",
        "colab_type": "code",
        "colab": {
          "base_uri": "https://localhost:8080/",
          "height": 286
        },
        "outputId": "4737100a-3575-4ed1-a572-3ae00ba8f5c9"
      },
      "source": [
        "[(lambda x: text_blob_subjective(x))(x) for x in data]"
      ],
      "execution_count": 24,
      "outputs": [
        {
          "output_type": "execute_result",
          "data": {
            "text/plain": [
              "[Sentiment(polarity=-0.25, subjectivity=0.8333333333333334),\n",
              " Sentiment(polarity=0.0, subjectivity=0.0),\n",
              " Sentiment(polarity=0.0, subjectivity=0.0),\n",
              " Sentiment(polarity=0.0, subjectivity=0.0),\n",
              " Sentiment(polarity=0.2, subjectivity=0.2),\n",
              " Sentiment(polarity=0.0, subjectivity=0.0),\n",
              " Sentiment(polarity=-0.5, subjectivity=1.0),\n",
              " Sentiment(polarity=0.0, subjectivity=0.0),\n",
              " Sentiment(polarity=0.5, subjectivity=0.8333333333333334),\n",
              " Sentiment(polarity=0.21428571428571427, subjectivity=0.5714285714285714),\n",
              " Sentiment(polarity=0.0, subjectivity=0.0),\n",
              " Sentiment(polarity=0.0, subjectivity=0.0),\n",
              " Sentiment(polarity=0.1, subjectivity=0.6),\n",
              " Sentiment(polarity=0.25, subjectivity=0.5),\n",
              " Sentiment(polarity=0.8, subjectivity=1.0),\n",
              " Sentiment(polarity=0.375, subjectivity=0.5)]"
            ]
          },
          "metadata": {
            "tags": []
          },
          "execution_count": 24
        }
      ]
    },
    {
      "cell_type": "markdown",
      "metadata": {
        "id": "lRwuAr8Ji4uV",
        "colab_type": "text"
      },
      "source": [
        "## **Flair LSTM**\n",
        "* classifier based on a character-leval LSTM. Takes a sequences of letters and words into account when predicting\n",
        "\n",
        "* one of its biggest advantages is that it can predict a sentiment for OOV words that it has never seen before too (such as typos)"
      ]
    },
    {
      "cell_type": "code",
      "metadata": {
        "id": "H-P28QfCiXJ2",
        "colab_type": "code",
        "colab": {
          "base_uri": "https://localhost:8080/",
          "height": 34
        },
        "outputId": "0efd98b0-fdc3-40d9-8e45-dbf255aabb96"
      },
      "source": [
        "flair_lstm(' '.join(data))"
      ],
      "execution_count": 25,
      "outputs": [
        {
          "output_type": "execute_result",
          "data": {
            "text/plain": [
              "[NEGATIVE (0.9971)]"
            ]
          },
          "metadata": {
            "tags": []
          },
          "execution_count": 25
        }
      ]
    },
    {
      "cell_type": "code",
      "metadata": {
        "id": "bHGmli2_3Vlw",
        "colab_type": "code",
        "colab": {
          "base_uri": "https://localhost:8080/",
          "height": 322
        },
        "outputId": "7f94041a-c4b5-46bb-e73b-92c6d7163b98"
      },
      "source": [
        "print(data)\n",
        "[(lambda x: flair_lstm(x))(x) for x in data]"
      ],
      "execution_count": 26,
      "outputs": [
        {
          "output_type": "stream",
          "text": [
            "['not confident', 'unsure', 'does not handles pressure', 'disordered', 'talks too much', 'uninsterested', 'sad', 'unfriendly', 'confident', 'certain', 'handles pressure', 'organized', 'concise', 'interested', 'happy', 'friendly']\n"
          ],
          "name": "stdout"
        },
        {
          "output_type": "execute_result",
          "data": {
            "text/plain": [
              "[[NEGATIVE (0.9999)],\n",
              " [NEGATIVE (0.9923)],\n",
              " [NEGATIVE (0.9999)],\n",
              " [NEGATIVE (0.9998)],\n",
              " [NEGATIVE (0.9933)],\n",
              " [NEGATIVE (0.9997)],\n",
              " [NEGATIVE (0.9987)],\n",
              " [NEGATIVE (0.9985)],\n",
              " [POSITIVE (0.9971)],\n",
              " [POSITIVE (0.9888)],\n",
              " [POSITIVE (0.9928)],\n",
              " [POSITIVE (0.996)],\n",
              " [POSITIVE (0.9949)],\n",
              " [POSITIVE (0.9967)],\n",
              " [POSITIVE (0.9839)],\n",
              " [POSITIVE (0.9793)]]"
            ]
          },
          "metadata": {
            "tags": []
          },
          "execution_count": 26
        }
      ]
    },
    {
      "cell_type": "markdown",
      "metadata": {
        "id": "DF5Mt-wrR-Lj",
        "colab_type": "text"
      },
      "source": [
        "## **Stanza**\n",
        "* stanza pipeline by using a CNN classifier.\n",
        "* training this model on 2 class data using higher dimension word vectors achieves the 87 score reported in the original CNN classifier paper. On a three class projection of the SST test data, the model trained on multiple datasets gets 70.0%."
      ]
    },
    {
      "cell_type": "code",
      "metadata": {
        "id": "sgz86Y3FSFrY",
        "colab_type": "code",
        "colab": {
          "base_uri": "https://localhost:8080/",
          "height": 70
        },
        "outputId": "52ce3f80-031e-44ec-a74a-8a8b65dd2e3f"
      },
      "source": [
        "# 0 : neutral\n",
        "# 1 : negative\n",
        "# 2 : positive\n",
        "print(data)\n",
        "[(lambda x: stanza_funct(x))(x) for x in data]"
      ],
      "execution_count": 27,
      "outputs": [
        {
          "output_type": "stream",
          "text": [
            "['not confident', 'unsure', 'does not handles pressure', 'disordered', 'talks too much', 'uninsterested', 'sad', 'unfriendly', 'confident', 'certain', 'handles pressure', 'organized', 'concise', 'interested', 'happy', 'friendly']\n"
          ],
          "name": "stdout"
        },
        {
          "output_type": "execute_result",
          "data": {
            "text/plain": [
              "[0, 1, 0, 1, 0, 1, 0, 0, 2, 2, 1, 2, 1, 2, 2, 2]"
            ]
          },
          "metadata": {
            "tags": []
          },
          "execution_count": 27
        }
      ]
    },
    {
      "cell_type": "markdown",
      "metadata": {
        "id": "zzN_nUW_5zrF",
        "colab_type": "text"
      },
      "source": [
        "---\n",
        "# **5. Graphs**\n",
        "---"
      ]
    },
    {
      "cell_type": "markdown",
      "metadata": {
        "id": "vRcaz7LAdYbq",
        "colab_type": "text"
      },
      "source": [
        "### **X, Y**"
      ]
    },
    {
      "cell_type": "code",
      "metadata": {
        "id": "0N7dy2V-I1b7",
        "colab_type": "code",
        "colab": {}
      },
      "source": [
        "x_plots = data"
      ],
      "execution_count": 28,
      "outputs": []
    },
    {
      "cell_type": "code",
      "metadata": {
        "id": "4LfEOT_17r6s",
        "colab_type": "code",
        "colab": {}
      },
      "source": [
        "y_flair_scores = np.array([x for b in [list(map(lambda x: x.score, score)) for score in [(lambda x: flair_lstm(x))(x) for x in data]] for x in b])"
      ],
      "execution_count": 29,
      "outputs": []
    },
    {
      "cell_type": "code",
      "metadata": {
        "id": "2M62lkw-PXzt",
        "colab_type": "code",
        "colab": {}
      },
      "source": [
        "y_flair_values_aux = [x for b in [list(map(lambda x: x.value, value)) for value in [(lambda x: flair_lstm(x))(x) for x in data]] for x in b]\n",
        "y_flair_values = []\n",
        "for i in y_flair_values_aux:\n",
        "    if i == 'POSITIVE':\n",
        "        y_flair_values.append(1)\n",
        "    else:\n",
        "        y_flair_values.append(-1)\n",
        "y_flair_values = np.array(y_flair_values)"
      ],
      "execution_count": 30,
      "outputs": []
    },
    {
      "cell_type": "code",
      "metadata": {
        "id": "AggCuEG8Ftlp",
        "colab_type": "code",
        "colab": {}
      },
      "source": [
        "y_textblob_sentiment = np.array([(lambda x: text_blob_subjective(x)[0])(x) for x in data])\n",
        "y_textblob_subjectivity = np.array([(lambda x: text_blob_subjective(x)[1])(x) for x in data])"
      ],
      "execution_count": 31,
      "outputs": []
    },
    {
      "cell_type": "code",
      "metadata": {
        "id": "GzKPkYguIx_Y",
        "colab_type": "code",
        "colab": {}
      },
      "source": [
        "y_vader = [(lambda x: SIA.polarity_scores(x)['compound'])(x) for x in data]\n",
        "y_vader = np.array(y_vader)"
      ],
      "execution_count": 32,
      "outputs": []
    },
    {
      "cell_type": "code",
      "metadata": {
        "id": "uNKxjeo1S_9w",
        "colab_type": "code",
        "colab": {}
      },
      "source": [
        "y_stanza_1 = [(lambda x: stanza_funct(x))(x) for x in data]\n",
        "y_stanza = []\n",
        "for i in y_stanza_1:\n",
        "    if i == 2:\n",
        "        y_stanza.append(1)\n",
        "    elif i == 1:\n",
        "        y_stanza.append(0)\n",
        "    else:\n",
        "        y_stanza.append(-1)\n",
        "y_stanza = np.array(y_stanza)"
      ],
      "execution_count": 33,
      "outputs": []
    },
    {
      "cell_type": "markdown",
      "metadata": {
        "id": "TvSDx-PMccBh",
        "colab_type": "text"
      },
      "source": [
        "### **Numpy Array Results**"
      ]
    },
    {
      "cell_type": "code",
      "metadata": {
        "id": "zLOZRMWucl5S",
        "colab_type": "code",
        "colab": {
          "base_uri": "https://localhost:8080/",
          "height": 34
        },
        "outputId": "3cffd3ba-2648-470a-ef3e-4ca05ae51ba8"
      },
      "source": [
        "y_flair_values"
      ],
      "execution_count": 34,
      "outputs": [
        {
          "output_type": "execute_result",
          "data": {
            "text/plain": [
              "array([-1, -1, -1, -1, -1, -1, -1, -1,  1,  1,  1,  1,  1,  1,  1,  1])"
            ]
          },
          "metadata": {
            "tags": []
          },
          "execution_count": 34
        }
      ]
    },
    {
      "cell_type": "code",
      "metadata": {
        "id": "3G74wv0BVuW2",
        "colab_type": "code",
        "colab": {
          "base_uri": "https://localhost:8080/",
          "height": 84
        },
        "outputId": "8d1e7bb9-f3ec-45f5-9a74-4b6b44c69672"
      },
      "source": [
        "y_flair_scores"
      ],
      "execution_count": 35,
      "outputs": [
        {
          "output_type": "execute_result",
          "data": {
            "text/plain": [
              "array([0.99985647, 0.99227095, 0.99994195, 0.99975961, 0.99328858,\n",
              "       0.9997341 , 0.99871314, 0.99850661, 0.99709618, 0.98880416,\n",
              "       0.99275267, 0.99604756, 0.99489647, 0.9967128 , 0.98393667,\n",
              "       0.97929859])"
            ]
          },
          "metadata": {
            "tags": []
          },
          "execution_count": 35
        }
      ]
    },
    {
      "cell_type": "code",
      "metadata": {
        "id": "Qt7fQ1JjcjAP",
        "colab_type": "code",
        "colab": {
          "base_uri": "https://localhost:8080/",
          "height": 84
        },
        "outputId": "d93ff463-fb55-4419-c24c-3db9c3da8cf1"
      },
      "source": [
        "y_textblob_sentiment"
      ],
      "execution_count": 36,
      "outputs": [
        {
          "output_type": "execute_result",
          "data": {
            "text/plain": [
              "array([-0.25      ,  0.        ,  0.        ,  0.        ,  0.2       ,\n",
              "        0.        , -0.5       ,  0.        ,  0.5       ,  0.21428571,\n",
              "        0.        ,  0.        ,  0.1       ,  0.25      ,  0.8       ,\n",
              "        0.375     ])"
            ]
          },
          "metadata": {
            "tags": []
          },
          "execution_count": 36
        }
      ]
    },
    {
      "cell_type": "code",
      "metadata": {
        "id": "AyzffYWucggu",
        "colab_type": "code",
        "colab": {
          "base_uri": "https://localhost:8080/",
          "height": 84
        },
        "outputId": "31de1a3a-cc3b-42ba-aa34-fbceba451064"
      },
      "source": [
        "y_textblob_subjectivity"
      ],
      "execution_count": 37,
      "outputs": [
        {
          "output_type": "execute_result",
          "data": {
            "text/plain": [
              "array([0.83333333, 0.        , 0.        , 0.        , 0.2       ,\n",
              "       0.        , 1.        , 0.        , 0.83333333, 0.57142857,\n",
              "       0.        , 0.        , 0.6       , 0.5       , 1.        ,\n",
              "       0.5       ])"
            ]
          },
          "metadata": {
            "tags": []
          },
          "execution_count": 37
        }
      ]
    },
    {
      "cell_type": "code",
      "metadata": {
        "id": "tkXXaJuCcnXV",
        "colab_type": "code",
        "colab": {
          "base_uri": "https://localhost:8080/",
          "height": 34
        },
        "outputId": "d7417606-cbb9-40ae-a737-bd34d00a6cdd"
      },
      "source": [
        "y_stanza"
      ],
      "execution_count": 38,
      "outputs": [
        {
          "output_type": "execute_result",
          "data": {
            "text/plain": [
              "array([-1,  0, -1, -1,  0,  0, -1, -1,  1,  1,  0,  1,  0,  1,  1,  1])"
            ]
          },
          "metadata": {
            "tags": []
          },
          "execution_count": 38
        }
      ]
    },
    {
      "cell_type": "markdown",
      "metadata": {
        "id": "-3OGWkqMCypV",
        "colab_type": "text"
      },
      "source": [
        "## **Plotting bars**"
      ]
    },
    {
      "cell_type": "code",
      "metadata": {
        "id": "QW48_H7-_v1H",
        "colab_type": "code",
        "colab": {}
      },
      "source": [
        "def plot_bar(p1y, p2y, p3y, p4y, p5y, x, size):\n",
        "    plt.figure(figsize=size)\n",
        "    plt.bar(x, p1y, label='Flair', color='red')\n",
        "    plt.bar(x, p2y, label='TextBlob', color='blue')\n",
        "    plt.bar(x, p3y, label='Subjectivity', color='purple')\n",
        "    plt.bar(x, p4y, label='Vader', color='green')\n",
        "    plt.bar(x, p5y, label='Stanza', color='grey')\n",
        "    plt.title('NLP SCORES PREDICTION vs WORDS')\n",
        "    plt.xlabel('SENTENCE')\n",
        "    plt.ylabel('SCORES')\n",
        "    plt.legend(loc='upper left')\n",
        "    plt.xticks(rotation='vertical')\n",
        "    plt.tight_layout()\n",
        "    plt.grid(True)\n",
        "\n",
        "    plt.show()"
      ],
      "execution_count": 39,
      "outputs": []
    },
    {
      "cell_type": "code",
      "metadata": {
        "id": "ZQGZL70JCxnD",
        "colab_type": "code",
        "colab": {
          "base_uri": "https://localhost:8080/",
          "height": 570
        },
        "outputId": "4ebf5068-edd0-4e9b-a58e-09339cbf7a1d"
      },
      "source": [
        "plot_bar(\n",
        "    p1y=y_flair_values,\n",
        "    p2y=y_textblob_sentiment,\n",
        "    p3y=y_textblob_subjectivity,\n",
        "    p4y=y_vader,\n",
        "    p5y=y_stanza,\n",
        "    x=x_plots,\n",
        "    size=(16,  8)\n",
        ")"
      ],
      "execution_count": 40,
      "outputs": [
        {
          "output_type": "display_data",
          "data": {
            "image/png": "[encoded data removed]",
            "text/plain": [
              "<Figure size 1152x576 with 1 Axes>"
            ]
          },
          "metadata": {
            "tags": [],
            "needs_background": "light"
          }
        }
      ]
    },
    {
      "cell_type": "markdown",
      "metadata": {
        "id": "xIJE1JOgC4HR",
        "colab_type": "text"
      },
      "source": [
        "## **Plotting lines**"
      ]
    },
    {
      "cell_type": "code",
      "metadata": {
        "id": "YSQ9W6c6A-Fp",
        "colab_type": "code",
        "colab": {}
      },
      "source": [
        "def plot_lines(p1y, p2y, p3y, p4y, p5y, x, size):\n",
        "    plt.figure(figsize=size)\n",
        "    plt.plot(x, p1y, linestyle='solid', color='red', label='Flair')\n",
        "    plt.plot(x, p2y, linestyle='solid', color='blue', label='TextBlob')\n",
        "    plt.plot(x, p3y, linestyle='dashed', color='purple', label='Subjectivity')\n",
        "    plt.plot(x, p4y, linestyle='solid', color='green', label='Vader')\n",
        "    plt.plot(x, p5y, linestyle='solid', color='black', label='Stanza')\n",
        "    plt.title('NLP SCORES PREDICTION vs WORDS')\n",
        "    plt.xlabel('SENTENCE')\n",
        "    plt.ylabel('SCORES')\n",
        "    plt.legend()\n",
        "    plt.xticks(size=10, rotation='vertical')\n",
        "    plt.yticks(size=10)\n",
        "    plt.grid(True)\n",
        "    \n",
        "    plt.show()"
      ],
      "execution_count": 41,
      "outputs": []
    },
    {
      "cell_type": "code",
      "metadata": {
        "id": "rzZBWMa8CPga",
        "colab_type": "code",
        "colab": {
          "base_uri": "https://localhost:8080/",
          "height": 702
        },
        "outputId": "a88b1074-40fe-4a8d-a598-d01ba3e7cd04"
      },
      "source": [
        "plot_lines(\n",
        "    p1y=y_flair_values,\n",
        "    p2y=y_textblob_sentiment,\n",
        "    p3y=y_textblob_subjectivity,\n",
        "    p4y=y_vader,\n",
        "    p5y=y_stanza,\n",
        "    x=x_plots,\n",
        "    size=(20,  10)\n",
        ")"
      ],
      "execution_count": 42,
      "outputs": [
        {
          "output_type": "display_data",
          "data": {
            "image/png": "[encoded data removed]",
            "text/plain": [
              "<Figure size 1440x720 with 1 Axes>"
            ]
          },
          "metadata": {
            "tags": [],
            "needs_background": "light"
          }
        }
      ]
    },
    {
      "cell_type": "code",
      "metadata": {
        "id": "4QcrDh0gN8My",
        "colab_type": "code",
        "colab": {}
      },
      "source": [
        "def plot_flair(x, y):\n",
        "    plt.figure(figsize=(10, 8))\n",
        "    plt.plot(x, y, linestyle='solid', color='red', label='Flair')\n",
        "    plt.title('Flair LSTM accuracy')\n",
        "    plt.xlabel('SENTENCE')\n",
        "    plt.ylabel('ACCURACY')\n",
        "    plt.legend()\n",
        "    plt.xticks(size=10, rotation='vertical')\n",
        "    plt.yticks(size=10)\n",
        "    plt.grid(True)\n",
        "    \n",
        "    plt.show()"
      ],
      "execution_count": 43,
      "outputs": []
    },
    {
      "cell_type": "code",
      "metadata": {
        "id": "ep93M8Y6OLTc",
        "colab_type": "code",
        "colab": {
          "base_uri": "https://localhost:8080/",
          "height": 635
        },
        "outputId": "54221882-2cb6-4022-dee9-5762f0c304f5"
      },
      "source": [
        "plot_flair(x_plots, y_flair_scores)"
      ],
      "execution_count": 44,
      "outputs": [
        {
          "output_type": "display_data",
          "data": {
            "image/png": "[encoded data removed]",
            "text/plain": [
              "<Figure size 720x576 with 1 Axes>"
            ]
          },
          "metadata": {
            "tags": [],
            "needs_background": "light"
          }
        }
      ]
    },
    {
      "cell_type": "markdown",
      "metadata": {
        "id": "PJ2Vnc03caRH",
        "colab_type": "text"
      },
      "source": [
        "---\n",
        "# **6. Brief positive conclusion**\n",
        "---\n",
        "\n",
        "1. **Flair** is great because the properties of the LSTM model: takes into account sequences of letters and words when predicting\n",
        "2. **TextBlob** subjectivity works great\n",
        "3. **Vader** & **Stanza (CNN)** are great to detect particular and intense positive or negative words\n",
        "\n",
        "---\n",
        "\n",
        "## To-do:\n",
        "* SpaCy categorization\n",
        "---"
      ]
    },
    {
      "cell_type": "markdown",
      "metadata": {
        "id": "KzioWbR7AUpS",
        "colab_type": "text"
      },
      "source": [
        "---\n",
        "# **7. Preprocessing with each word**\n",
        "---"
      ]
    },
    {
      "cell_type": "markdown",
      "metadata": {
        "id": "0NHiufg9du6z",
        "colab_type": "text"
      },
      "source": [
        "Words play a central role in language and thought. Several influential factor analysis studies have shown that\n",
        "the primary dimensions of word meaning are valence, arousal, and dominance (VAD).\n",
        "- valence is the positive--negative or pleasure--displeasure dimension; \n",
        "- arousal is the excited--calm or active--passive dimension; \n",
        "- dominance is the powerful--weak or 'have control'--'have no control' dimension."
      ]
    },
    {
      "cell_type": "markdown",
      "metadata": {
        "id": "3X5G5k2KCtG5",
        "colab_type": "text"
      },
      "source": [
        "\n",
        "\n",
        "```\n",
        "Each line has the following format:\n",
        "<AffectCategory><tab><term><tab><score>\n",
        "<AffectCategory> is one of eight emotions (anger, fear, anticipation, trust, surprise, sadness, joy, or disgust).\n",
        "<term> is a word for which emotion associations are provided.\n",
        "<score> is a value that indicates the strength of association between the <term> and the <AffectCategory>.\n",
        "The higher the value, the stronger is the association. Refer to the publications below for details on how the score is calculated.\n",
        "```\n",
        "\n"
      ]
    },
    {
      "cell_type": "markdown",
      "metadata": {
        "id": "6d6AwXxqC2my",
        "colab_type": "text"
      },
      "source": [
        "## Loading datasets lexicon"
      ]
    },
    {
      "cell_type": "code",
      "metadata": {
        "id": "9GEAyOd5AbQ5",
        "colab_type": "code",
        "colab": {}
      },
      "source": [
        "df_NRC_Hashtag = pd.read_csv('./datasets/NRC-Hashtag-Emotion-Lexicon-v0.2.csv', sep='\\t')"
      ],
      "execution_count": 45,
      "outputs": []
    },
    {
      "cell_type": "code",
      "metadata": {
        "id": "cXF0GuaRD6Ze",
        "colab_type": "code",
        "colab": {}
      },
      "source": [
        "df_NRC_Emotion_Intensity = pd.read_csv('./datasets/NRC-Emotion-Intensity-Lexicon-v1.csv', sep='\\t')"
      ],
      "execution_count": 46,
      "outputs": []
    },
    {
      "cell_type": "code",
      "metadata": {
        "id": "35Gnwnh0FcsW",
        "colab_type": "code",
        "colab": {}
      },
      "source": [
        "df_NRC_Emotion_Wordlevel = pd.read_csv('./datasets/NRC-Emotion-Lexicon-Wordlevel-v0.92.csv', sep='\\t')"
      ],
      "execution_count": 47,
      "outputs": []
    },
    {
      "cell_type": "code",
      "metadata": {
        "id": "Wyx1mLNZIonH",
        "colab_type": "code",
        "colab": {}
      },
      "source": [
        "# by sentece\n",
        "df_isear = pd.read_csv('./datasets/isear.csv', sep='|', error_bad_lines=False, usecols=['SIT', 'Field1'])"
      ],
      "execution_count": 48,
      "outputs": []
    },
    {
      "cell_type": "markdown",
      "metadata": {
        "id": "q41VXRC7jajt",
        "colab_type": "text"
      },
      "source": [
        "### Column names and merge (concatenate)"
      ]
    },
    {
      "cell_type": "code",
      "metadata": {
        "id": "xGysG-wPjHJA",
        "colab_type": "code",
        "colab": {}
      },
      "source": [
        "df_NRC_Hashtag.columns = ['category', 'word', 'score']\n",
        "df_NRC_Emotion_Intensity.columns = ['word', 'category', 'score']\n",
        "df_NRC_Emotion_Wordlevel.columns = ['word', 'category', 'score']\n",
        "df_isear.columns = ['category', 'sentence']"
      ],
      "execution_count": 49,
      "outputs": []
    },
    {
      "cell_type": "code",
      "metadata": {
        "id": "4md9q6gEjZp-",
        "colab_type": "code",
        "colab": {}
      },
      "source": [
        "df_concat = pd.concat(objs=[df_NRC_Hashtag, df_NRC_Emotion_Intensity, df_NRC_Emotion_Wordlevel], ignore_index=True)"
      ],
      "execution_count": 50,
      "outputs": []
    },
    {
      "cell_type": "markdown",
      "metadata": {
        "id": "PR3KvHPdldR8",
        "colab_type": "text"
      },
      "source": [
        "### Sorting concatenated dataset"
      ]
    },
    {
      "cell_type": "code",
      "metadata": {
        "id": "42KQW7b0mZwy",
        "colab_type": "code",
        "colab": {}
      },
      "source": [
        "df_concat = df_concat.sort_values(by=['category'], ascending=True, ignore_index=True)"
      ],
      "execution_count": 51,
      "outputs": []
    },
    {
      "cell_type": "markdown",
      "metadata": {
        "id": "Z43w3eZ8DYm_",
        "colab_type": "text"
      },
      "source": [
        "### Labels lexicon"
      ]
    },
    {
      "cell_type": "code",
      "metadata": {
        "id": "c-qfYSfEj-Uf",
        "colab_type": "code",
        "colab": {}
      },
      "source": [
        "df_concat_labels = list(set(df_concat.category))"
      ],
      "execution_count": 52,
      "outputs": []
    },
    {
      "cell_type": "code",
      "metadata": {
        "id": "H8d9G0WbDCOB",
        "colab_type": "code",
        "colab": {
          "base_uri": "https://localhost:8080/",
          "height": 151
        },
        "outputId": "32335fbb-e2a3-47da-bb8a-1e95f1d89bb8"
      },
      "source": [
        "lexicon_labels = list(set(df_NRC_Hashtag.category))\n",
        "lexicon_labels"
      ],
      "execution_count": 53,
      "outputs": [
        {
          "output_type": "execute_result",
          "data": {
            "text/plain": [
              "['trust',\n",
              " 'fear',\n",
              " 'disgust',\n",
              " 'surprise',\n",
              " 'anticipation',\n",
              " 'anger',\n",
              " 'joy',\n",
              " 'sadness']"
            ]
          },
          "metadata": {
            "tags": []
          },
          "execution_count": 53
        }
      ]
    },
    {
      "cell_type": "code",
      "metadata": {
        "id": "VG76CucbLbAc",
        "colab_type": "code",
        "colab": {
          "base_uri": "https://localhost:8080/",
          "height": 34
        },
        "outputId": "46a95e21-056a-4dad-dea2-6957450313fd"
      },
      "source": [
        "lexicon_labels_isear = list(set(df_isear.category))\n",
        "lexicon_labels_isear"
      ],
      "execution_count": 54,
      "outputs": [
        {
          "output_type": "execute_result",
          "data": {
            "text/plain": [
              "['disgust', 'fear', 'guilt', 'shame', 'anger', 'joy', 'sadness']"
            ]
          },
          "metadata": {
            "tags": []
          },
          "execution_count": 54
        }
      ]
    },
    {
      "cell_type": "markdown",
      "metadata": {
        "id": "Xplz0LgYGXAw",
        "colab_type": "text"
      },
      "source": [
        "## Loading datasets Valence Arousal Dominance"
      ]
    },
    {
      "cell_type": "code",
      "metadata": {
        "id": "mAiy7liZGV87",
        "colab_type": "code",
        "colab": {}
      },
      "source": [
        "# by word\n",
        "df_NRC_VAD_Lexicon = pd.read_csv('./datasets/NRC-VAD-Lexicon.csv', sep='\\t')"
      ],
      "execution_count": 55,
      "outputs": []
    },
    {
      "cell_type": "code",
      "metadata": {
        "id": "6t3zPaWaMN2c",
        "colab_type": "code",
        "colab": {}
      },
      "source": [
        "# by sentence\n",
        "df_emobank = pd.read_csv('./datasets/emobank.csv', sep=',', usecols=['split', 'text', 'V', 'A', 'D'])"
      ],
      "execution_count": 56,
      "outputs": []
    },
    {
      "cell_type": "markdown",
      "metadata": {
        "id": "UPoSp8f6nsJu",
        "colab_type": "text"
      },
      "source": [
        "### Column names"
      ]
    },
    {
      "cell_type": "code",
      "metadata": {
        "id": "4BcHH38Gnb0c",
        "colab_type": "code",
        "colab": {}
      },
      "source": [
        "df_NRC_VAD_Lexicon.columns = ['word', 'Valence', 'Arousal', 'Dominance']\n",
        "df_emobank.columns = ['split', 'Valence', 'Arousal', 'Dominance', 'sentece']"
      ],
      "execution_count": 57,
      "outputs": []
    },
    {
      "cell_type": "markdown",
      "metadata": {
        "id": "9xCKFAquoPo5",
        "colab_type": "text"
      },
      "source": [
        "## Graphs about categories"
      ]
    },
    {
      "cell_type": "code",
      "metadata": {
        "id": "-378GqCBVXSU",
        "colab_type": "code",
        "colab": {}
      },
      "source": [
        "x = ['not confident',\n",
        " 'unsure',\n",
        " \"can't handle pressure\", # have not control\n",
        " 'disordered',\n",
        " 'talks to much',\n",
        " 'uninsterested',\n",
        " 'sad',\n",
        " 'unfriendly',\n",
        " 'confident',\n",
        " 'certain',\n",
        " 'can handles pressure', # have control\n",
        " 'organized',\n",
        " 'concise',\n",
        " 'interested',\n",
        " 'happy',\n",
        " 'friendly']\n",
        "xlst = [(lambda i: SIA.polarity_scores(i)['compound'])(i) for i in x]"
      ],
      "execution_count": 58,
      "outputs": []
    },
    {
      "cell_type": "code",
      "metadata": {
        "id": "IzY-Zn-lVkkM",
        "colab_type": "code",
        "colab": {}
      },
      "source": [
        "def simple_plot(x, y):\n",
        "    plt.figure(figsize=(16, 8))\n",
        "    plt.plot(x, y, linestyle='solid', color='red')\n",
        "    plt.xlabel('labels')\n",
        "    plt.ylabel('scores')\n",
        "    plt.legend(loc='upper left')\n",
        "    plt.xticks(size=10, rotation='vertical')\n",
        "    plt.yticks(size=10)\n",
        "    plt.grid(b=True)\n",
        "\n",
        "    plt.show()"
      ],
      "execution_count": 59,
      "outputs": []
    },
    {
      "cell_type": "code",
      "metadata": {
        "id": "SZTgGQerKtiL",
        "colab_type": "code",
        "colab": {
          "base_uri": "https://localhost:8080/",
          "height": 631
        },
        "outputId": "53fd5f71-7751-496e-b733-364f9ba18769"
      },
      "source": [
        "simple_plot(x, xlst)"
      ],
      "execution_count": 60,
      "outputs": [
        {
          "output_type": "stream",
          "text": [
            "No handles with labels found to put in legend.\n"
          ],
          "name": "stderr"
        },
        {
          "output_type": "display_data",
          "data": {
            "image/png": "[encoded data removed]",
            "text/plain": [
              "<Figure size 1152x576 with 1 Axes>"
            ]
          },
          "metadata": {
            "tags": [],
            "needs_background": "light"
          }
        }
      ]
    },
    {
      "cell_type": "code",
      "metadata": {
        "id": "imYzewAkW37a",
        "colab_type": "code",
        "colab": {
          "base_uri": "https://localhost:8080/",
          "height": 34
        },
        "outputId": "3b390a6a-6377-49e8-a7f1-2d3a8390410a"
      },
      "source": [
        "print(xlst, end=', ')"
      ],
      "execution_count": 61,
      "outputs": [
        {
          "output_type": "stream",
          "text": [
            "[-0.3875, -0.25, 0.2235, 0.0, 0.0, 0.0, -0.4767, -0.3612, 0.4939, 0.2732, -0.296, 0.0, 0.0, 0.4019, 0.5719, 0.4939], "
          ],
          "name": "stdout"
        }
      ]
    },
    {
      "cell_type": "markdown",
      "metadata": {
        "id": "Z0V0kPjDGcoI",
        "colab_type": "text"
      },
      "source": [
        "---\n",
        "# **8. Preprocessing dataframe concatenated**\n",
        "---"
      ]
    },
    {
      "cell_type": "code",
      "metadata": {
        "id": "qJ0DzxU5FlxX",
        "colab_type": "code",
        "colab": {}
      },
      "source": [
        "def preprocessing(df, c):\n",
        "    df[c] = df[c].apply(lambda x: re.sub(\"[^a-zA-Z]\", \" \", str(x)))\n",
        "    df[c] = df[c].str.lower()\n",
        "    df[c] = df[c].apply(lambda x: re.sub(r'(@[A-Za-z0-9]+)|([^0-9A-Za-zÁ-Úá-ú \\t])|(\\w+:\\/\\/\\S+)|^rt|http.+?%', '', x))\n",
        "\n",
        "    return df"
      ],
      "execution_count": 62,
      "outputs": []
    },
    {
      "cell_type": "code",
      "metadata": {
        "id": "HaC2Ywz8GOQx",
        "colab_type": "code",
        "colab": {}
      },
      "source": [
        "df = preprocessing(df_concat, 'word')"
      ],
      "execution_count": 63,
      "outputs": []
    },
    {
      "cell_type": "markdown",
      "metadata": {
        "id": "hUYTYffBGYW5",
        "colab_type": "text"
      },
      "source": [
        "## **NLP applying**"
      ]
    },
    {
      "cell_type": "code",
      "metadata": {
        "id": "_0T3Rq7dGba2",
        "colab_type": "code",
        "colab": {}
      },
      "source": [
        "def drop_empty_string(df):\n",
        "    # Warning: An empty Sentence was created!\n",
        "    # Are there empty strings in your dataset?\n",
        "    print('removing empty values')\n",
        "    nan_value = float('NaN')\n",
        "    df.replace('', nan_value, inplace=True)\n",
        "    df.replace(' ', nan_value, inplace=True)\n",
        "    df.replace('  ', nan_value, inplace=True)\n",
        "    df.dropna(inplace=True)\n",
        "    return df\n",
        "\n",
        "def nlp_apply(df, c):\n",
        "    print('Vader\\n')\n",
        "    df['Compound'] = df[c].apply(lambda x: SIA.polarity_scores(text=x)['compound'])\n",
        "    \n",
        "    print('TextBlob\\n')\n",
        "    df['Subjectivity'] = df[c].apply(lambda x: text_blob_subjective(text=x))\n",
        "\n",
        "    df = drop_empty_string(df)\n",
        "\n",
        "    print('Stanza\\n')\n",
        "    df['Stanza'] = df[c].apply(lambda x: stanza_funct(text=x))\n",
        "\n",
        "    df = drop_empty_string(df)\n",
        "\n",
        "    print('\\nFlair\\n')\n",
        "    df['Flair'] = df[c].apply(lambda x: ''.join([i.value for i in flair_lstm(text=x)]))\n",
        "    \n",
        "    df = drop_empty_string(df)\n",
        "\n",
        "    return df"
      ],
      "execution_count": 64,
      "outputs": []
    },
    {
      "cell_type": "code",
      "metadata": {
        "id": "GoyFPvyhHJgl",
        "colab_type": "code",
        "colab": {
          "base_uri": "https://localhost:8080/",
          "height": 205
        },
        "outputId": "5fe227d6-fe21-41e7-e709-9031972f4c3e"
      },
      "source": [
        "df = nlp_apply(df, 'word')"
      ],
      "execution_count": null,
      "outputs": [
        {
          "output_type": "stream",
          "text": [
            "Vader\n",
            "\n",
            "TextBlob\n",
            "\n",
            "Stanza\n",
            "\n",
            "{...}; {...}; {...}; {...}; {...}; {...}; {...}; {...}; {...}; {...}; {...}; {...}; {...}; {...}; {...}; {...}; {...}; {...}; {...}; {...}; {...}; {...}; {...}; {...}; {...}; {...}; {...}; {...}; {...}; {...}; {...}; {...}; {...}; {...}; {...}; {...}; {...}; {...}; {...}; {...}; {...}; {...}; {...}; {...}; {...}; {...}; {...}; {...}; {...}; {...}; {...}; {...}; {...}; {...}; {...}; {...}; {...}; {...}; {...}; {...}; {...}; {...}; {...}; {...}; {...}; {...}; {...}; {...}; {...}; {...}; {...}; {...}; {...}; {...}; {...}; {...}; {...}; {...}; {...}; {...}; {...}; {...}; {...}; {...}; {...}; {...}; {...}; {...}; {...}; {...}; {...}; {...}; {...}; {...}; {...}; {...}; {...}; {...}; {...}; {...}; {...}; {...}; {...}; {...}; {...}; {...}; {...}; {...}; {...}; {...}; {...}; {...}; {...}; {...}; {...}; {...}; {...}; {...}; {...}; {...}; {...}; {...}; {...}; {...}; {...}; {...}; {...}; {...}; {...}; {...}; {...}; {...}; {...}; {...}; {...}; {...}; {...}; {...}; {...}; {...}; {...}; {...}; {...}; {...}; {...}; {...}; {...}; {...}; {...}; {...}; {...}; {...}; {...}; {...}; {...}; {...}; {...}; {...}; {...}; {...}; {...}; {...}; {...}; {...}; {...}; {...}; {...}; {...}; {...}; {...}; {...}; {...}; {...}; {...}; {...}; {...}; {...}; {...}; {...}; {...}; {...}; {...}; {...}; {...}; {...}; {...}; {...}; {...}; {...}; {...}; {...}; {...}; {...}; {...}; {...}; {...}; {...}; {...}; {...}; {...}; {...}; {...}; {...}; {...}; {...}; {...}; {...}; {...}; {...}; {...}; {...}; {...}; {...}; {...}; {...}; {...}; {...}; {...}; {...}; {...}; {...}; {...}; {...}; {...}; {...}; {...}; {...}; {...}; {...}; {...}; {...}; {...}; {...}; {...}; {...}; {...}; {...}; {...}; {...}; {...}; {...}; {...}; {...}; {...}; {...}; {...}; {...}; {...}; {...}; {...}; {...}; {...}; {...}; {...}; {...}; {...}; {...}; {...}; {...}; {...}; {...}; {...}; {...}; {...}; {...}; {...}; {...}; {...}; {...}; {...}; {...}; {...}; {...}; {...}; {...}; {...}; {...}; {...}; {...}; {...}; {...}; {...}; {...}; {...}; {...}; {...}; {...}; {...}; {...}; {...}; {...}; {...}; {...}; {...}; {...}; {...}; {...}; {...}; {...}; {...}; {...}; {...}; {...}; {...}; {...}; {...}; {...}; {...}; {...}; {...}; {...}; {...}; {...}; {...}; {...}; {...}; {...}; {...}; {...}; {...}; {...}; {...}; {...}; {...}; {...}; {...}; {...}; {...}; {...}; {...}; {...}; {...}; {...}; {...}; {...}; {...}; {...}; {...}; {...}; {...}; {...}; {...}; {...}; {...}; {...}; {...}; {...}; {...}; {...}; {...}; {...}; {...}; {...}; {...}; {...}; {...}; {...}; {...}; {...}; {...}; {...}; {...}; {...}; {...}; {...}; {...}; {...}; {...}; {...}; {...}; {...}; {...}; {...}; {...}; {...}; {...}; {...}; {...}; {...}; {...}; {...}; {...}; {...}; {...}; {...}; {...}; {...}; {...}; {...}; {...}; {...}; {...}; {...}; {...}; {...}; {...}; {...}; {...}; {...}; {...}; {...}; {...}; {...}; {...}; {...}; {...}; {...}; {...}; {...}; {...}; {...}; {...}; {...}; {...}; {...}; {...}; {...}; {...}; {...}; {...}; {...}; {...}; {...}; {...}; {...}; {...}; {...}; {...}; {...}; {...}; {...}; {...}; {...}; {...}; {...}; {...}; {...}; {...}; {...}; {...}; {...}; {...}; {...}; {...}; {...}; {...}; {...}; {...}; {...}; {...}; {...}; {...}; {...}; {...}; {...}; {...}; {...}; {...}; {...}; {...}; {...}; {...}; {...}; {...}; {...}; {...}; {...}; {...}; {...}; {...}; {...}; {...}; {...}; {...}; {...}; {...}; {...}; {...}; {...}; {...}; {...}; {...}; {...}; {...}; {...}; {...}; {...}; {...}; {...}; {...}; {...}; {...}; {...}; {...}; {...}; {...}; {...}; {...}; {...}; {...}; {...}; {...}; {...}; {...}; {...}; Flair\n",
            "\n",
            "2020-09-04 08:57:53,915 Warning: An empty Sentence was created! Are there empty strings in your dataset?\n",
            "2020-09-04 09:13:45,788 Warning: An empty Sentence was created! Are there empty strings in your dataset?\n"
          ],
          "name": "stdout"
        }
      ]
    },
    {
      "cell_type": "code",
      "metadata": {
        "id": "RfaKxdugXxgq",
        "colab_type": "code",
        "colab": {}
      },
      "source": [
        "#checkpoint\n",
        "df = drop_empty_string(df)\n",
        "df.to_csv('checkpoint-bywords.csv', encoding='utf-8', index=False)"
      ],
      "execution_count": null,
      "outputs": []
    },
    {
      "cell_type": "code",
      "metadata": {
        "id": "2b-yDnmyQJl4",
        "colab_type": "code",
        "colab": {}
      },
      "source": [
        "# flair can complement stanza values\n",
        "# if stanza value == 0, then assign the prediction from flair\n",
        "# flair should be a different tokens by predicction\n",
        "# e.g.: does not handles pressure \n",
        "# stanza == 0\n",
        "# flair == -1\n",
        "# flar == 0.98 == > -0.98 --> will mean the label {does not handles pressure}"
      ],
      "execution_count": null,
      "outputs": []
    },
    {
      "cell_type": "code",
      "metadata": {
        "id": "pFoXSgm4Txgj",
        "colab_type": "code",
        "colab": {}
      },
      "source": [
        "train_data = df\n",
        "\n",
        "train_texts = train_data['word'].tolist()\n",
        "train_cats = train_data['category'].tolist()\n",
        "final_train_cats = []\n",
        "cat_dict = {}\n",
        "\n",
        "def cat_dict_funct(cat_dict, n):\n",
        "    for i in range(8):\n",
        "        if i == n:\n",
        "            cat_dict[lexicon_labels[i]] = 1\n",
        "        else:\n",
        "            cat_dict[lexicon_labels[i]] = 0\n",
        "    \n",
        "\n",
        "for cat in train_cats: \n",
        "    if cat == 'trust':\n",
        "        cat_dict_funct(cat_dict, 0)\n",
        "    elif cat == 'fear':\n",
        "        cat_dict_funct(cat_dict, 1)\n",
        "    elif cat == 'disgust':\n",
        "        cat_dict_funct(cat_dict, 2)\n",
        "    elif cat == 'surprise':\n",
        "        cat_dict_funct(cat_dict, 3)\n",
        "    elif cat == 'anticipation':\n",
        "        cat_dict_funct(cat_dict, 4)\n",
        "    elif cat == 'anger':\n",
        "        cat_dict_funct(cat_dict, 5)\n",
        "    elif cat == 'joy':\n",
        "        cat_dict_funct(cat_dict, 6)\n",
        "    else:\n",
        "        cat_dict_funct(cat_dict, 7)\n",
        "    final_tran_cats.append(cat_dict)"
      ],
      "execution_count": null,
      "outputs": []
    },
    {
      "cell_type": "code",
      "metadata": {
        "id": "tKiVNh43Wp4W",
        "colab_type": "code",
        "colab": {}
      },
      "source": [
        "training_data = list(zip(train_texts, [{\"cats\": cats} for cats in final_train_cats]))"
      ],
      "execution_count": null,
      "outputs": []
    },
    {
      "cell_type": "code",
      "metadata": {
        "id": "a3zc4kqOWrTI",
        "colab_type": "code",
        "colab": {}
      },
      "source": [
        "training_data"
      ],
      "execution_count": null,
      "outputs": []
    },
    {
      "cell_type": "markdown",
      "metadata": {
        "id": "iAUfjak5Gmwk",
        "colab_type": "text"
      },
      "source": [
        "## **Group by column value**"
      ]
    },
    {
      "cell_type": "code",
      "metadata": {
        "id": "WZx9rniMHTBw",
        "colab_type": "code",
        "colab": {}
      },
      "source": [
        "group = df.groupby(df.category)"
      ],
      "execution_count": null,
      "outputs": []
    },
    {
      "cell_type": "code",
      "metadata": {
        "id": "G4ClxcEGHhyA",
        "colab_type": "code",
        "colab": {}
      },
      "source": [
        "sadness = group.get_group(lexicon_labels[0])\n",
        "joy = group.get_group(lexicon_labels[1])\n",
        "trust = group.get_group(lexicon_labels[2])\n",
        "anticipation = group.get_group(lexicon_labels[3])\n",
        "anger = group.get_group(lexicon_labels[4])\n",
        "surprise = group.get_group(lexicon_labels[5])\n",
        "fear = group.get_group(lexicon_labels[6])\n",
        "disgust = group.get_group(lexicon_labels[7])"
      ],
      "execution_count": null,
      "outputs": []
    },
    {
      "cell_type": "markdown",
      "metadata": {
        "id": "3CN1CDYzE2Ly",
        "colab_type": "text"
      },
      "source": [
        "## **Dropping unnecessary scores**"
      ]
    },
    {
      "cell_type": "code",
      "metadata": {
        "id": "XL7tBcsFEjPH",
        "colab_type": "code",
        "colab": {}
      },
      "source": [
        "sadness.drop(sadness[sadness.score == 0.000000]. index, inplace=True)\n",
        "joy.drop(joy[joy.score == 0.000000]. index, inplace=True)\n",
        "trust.drop(trust[trust.score == 0.000000]. index, inplace=True)\n",
        "anticipation.drop(anticipation[anticipation.score == 0.000000]. index, inplace=True)\n",
        "anger.drop(anger[anger.score == 0.000000]. index, inplace=True)\n",
        "surprise.drop(surprise[surprise.score == 0.000000]. index, inplace=True)\n",
        "fear.drop(fear[fear.score == 0.000000]. index, inplace=True)\n",
        "disgust.drop(disgust[disgust.score == 0.000000]. index, inplace=True)"
      ],
      "execution_count": null,
      "outputs": []
    },
    {
      "cell_type": "code",
      "metadata": {
        "id": "SB7JVJnmI8Hc",
        "colab_type": "code",
        "colab": {}
      },
      "source": [
        "version = '2'\n",
        "df.to_csv('result.' + version + '.csv', encoding='utf-8', index=False)"
      ],
      "execution_count": null,
      "outputs": []
    }
  ]
}