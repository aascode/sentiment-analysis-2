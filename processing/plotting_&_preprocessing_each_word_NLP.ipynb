{
  "nbformat": 4,
  "nbformat_minor": 0,
  "metadata": {
    "colab": {
      "name": "plotting & preprocessing each word NLP.ipynb",
      "provenance": [],
      "collapsed_sections": [],
      "toc_visible": true,
      "machine_shape": "hm"
    },
    "kernelspec": {
      "name": "python3",
      "display_name": "Python 3"
    },
    "accelerator": "GPU",
    "widgets": {
      "application/vnd.jupyter.widget-state+json": {
        "e2adb4c682f244768263cb33b3fa1cb2": {
          "model_module": "@jupyter-widgets/controls",
          "model_name": "HBoxModel",
          "state": {
            "_view_name": "HBoxView",
            "_dom_classes": [],
            "_model_name": "HBoxModel",
            "_view_module": "@jupyter-widgets/controls",
            "_model_module_version": "1.5.0",
            "_view_count": null,
            "_view_module_version": "1.5.0",
            "box_style": "",
            "layout": "IPY_MODEL_dafa820dc2944fa29f267da99bd0094e",
            "_model_module": "@jupyter-widgets/controls",
            "children": [
              "IPY_MODEL_ed86ffc4998646df8c2f13a196db0f8d",
              "IPY_MODEL_e25090dbc11440f792dae9c4f5c2fa41"
            ]
          }
        },
        "dafa820dc2944fa29f267da99bd0094e": {
          "model_module": "@jupyter-widgets/base",
          "model_name": "LayoutModel",
          "state": {
            "_view_name": "LayoutView",
            "grid_template_rows": null,
            "right": null,
            "justify_content": null,
            "_view_module": "@jupyter-widgets/base",
            "overflow": null,
            "_model_module_version": "1.2.0",
            "_view_count": null,
            "flex_flow": null,
            "width": null,
            "min_width": null,
            "border": null,
            "align_items": null,
            "bottom": null,
            "_model_module": "@jupyter-widgets/base",
            "top": null,
            "grid_column": null,
            "overflow_y": null,
            "overflow_x": null,
            "grid_auto_flow": null,
            "grid_area": null,
            "grid_template_columns": null,
            "flex": null,
            "_model_name": "LayoutModel",
            "justify_items": null,
            "grid_row": null,
            "max_height": null,
            "align_content": null,
            "visibility": null,
            "align_self": null,
            "height": null,
            "min_height": null,
            "padding": null,
            "grid_auto_rows": null,
            "grid_gap": null,
            "max_width": null,
            "order": null,
            "_view_module_version": "1.2.0",
            "grid_template_areas": null,
            "object_position": null,
            "object_fit": null,
            "grid_auto_columns": null,
            "margin": null,
            "display": null,
            "left": null
          }
        },
        "ed86ffc4998646df8c2f13a196db0f8d": {
          "model_module": "@jupyter-widgets/controls",
          "model_name": "FloatProgressModel",
          "state": {
            "_view_name": "ProgressView",
            "style": "IPY_MODEL_32979d67ee384e8bb00019ec52d3f69a",
            "_dom_classes": [],
            "description": "Downloading: 100%",
            "_model_name": "FloatProgressModel",
            "bar_style": "success",
            "max": 442,
            "_view_module": "@jupyter-widgets/controls",
            "_model_module_version": "1.5.0",
            "value": 442,
            "_view_count": null,
            "_view_module_version": "1.5.0",
            "orientation": "horizontal",
            "min": 0,
            "description_tooltip": null,
            "_model_module": "@jupyter-widgets/controls",
            "layout": "IPY_MODEL_d9975f386f76452dbee1396a15b8bd2d"
          }
        },
        "e25090dbc11440f792dae9c4f5c2fa41": {
          "model_module": "@jupyter-widgets/controls",
          "model_name": "HTMLModel",
          "state": {
            "_view_name": "HTMLView",
            "style": "IPY_MODEL_c0472517595340c1ad0ff1c9475a9e15",
            "_dom_classes": [],
            "description": "",
            "_model_name": "HTMLModel",
            "placeholder": "​",
            "_view_module": "@jupyter-widgets/controls",
            "_model_module_version": "1.5.0",
            "value": " 442/442 [00:01&lt;00:00, 415B/s]",
            "_view_count": null,
            "_view_module_version": "1.5.0",
            "description_tooltip": null,
            "_model_module": "@jupyter-widgets/controls",
            "layout": "IPY_MODEL_7949629c4c064f638b22d58b3484d217"
          }
        },
        "32979d67ee384e8bb00019ec52d3f69a": {
          "model_module": "@jupyter-widgets/controls",
          "model_name": "ProgressStyleModel",
          "state": {
            "_view_name": "StyleView",
            "_model_name": "ProgressStyleModel",
            "description_width": "initial",
            "_view_module": "@jupyter-widgets/base",
            "_model_module_version": "1.5.0",
            "_view_count": null,
            "_view_module_version": "1.2.0",
            "bar_color": null,
            "_model_module": "@jupyter-widgets/controls"
          }
        },
        "d9975f386f76452dbee1396a15b8bd2d": {
          "model_module": "@jupyter-widgets/base",
          "model_name": "LayoutModel",
          "state": {
            "_view_name": "LayoutView",
            "grid_template_rows": null,
            "right": null,
            "justify_content": null,
            "_view_module": "@jupyter-widgets/base",
            "overflow": null,
            "_model_module_version": "1.2.0",
            "_view_count": null,
            "flex_flow": null,
            "width": null,
            "min_width": null,
            "border": null,
            "align_items": null,
            "bottom": null,
            "_model_module": "@jupyter-widgets/base",
            "top": null,
            "grid_column": null,
            "overflow_y": null,
            "overflow_x": null,
            "grid_auto_flow": null,
            "grid_area": null,
            "grid_template_columns": null,
            "flex": null,
            "_model_name": "LayoutModel",
            "justify_items": null,
            "grid_row": null,
            "max_height": null,
            "align_content": null,
            "visibility": null,
            "align_self": null,
            "height": null,
            "min_height": null,
            "padding": null,
            "grid_auto_rows": null,
            "grid_gap": null,
            "max_width": null,
            "order": null,
            "_view_module_version": "1.2.0",
            "grid_template_areas": null,
            "object_position": null,
            "object_fit": null,
            "grid_auto_columns": null,
            "margin": null,
            "display": null,
            "left": null
          }
        },
        "c0472517595340c1ad0ff1c9475a9e15": {
          "model_module": "@jupyter-widgets/controls",
          "model_name": "DescriptionStyleModel",
          "state": {
            "_view_name": "StyleView",
            "_model_name": "DescriptionStyleModel",
            "description_width": "",
            "_view_module": "@jupyter-widgets/base",
            "_model_module_version": "1.5.0",
            "_view_count": null,
            "_view_module_version": "1.2.0",
            "_model_module": "@jupyter-widgets/controls"
          }
        },
        "7949629c4c064f638b22d58b3484d217": {
          "model_module": "@jupyter-widgets/base",
          "model_name": "LayoutModel",
          "state": {
            "_view_name": "LayoutView",
            "grid_template_rows": null,
            "right": null,
            "justify_content": null,
            "_view_module": "@jupyter-widgets/base",
            "overflow": null,
            "_model_module_version": "1.2.0",
            "_view_count": null,
            "flex_flow": null,
            "width": null,
            "min_width": null,
            "border": null,
            "align_items": null,
            "bottom": null,
            "_model_module": "@jupyter-widgets/base",
            "top": null,
            "grid_column": null,
            "overflow_y": null,
            "overflow_x": null,
            "grid_auto_flow": null,
            "grid_area": null,
            "grid_template_columns": null,
            "flex": null,
            "_model_name": "LayoutModel",
            "justify_items": null,
            "grid_row": null,
            "max_height": null,
            "align_content": null,
            "visibility": null,
            "align_self": null,
            "height": null,
            "min_height": null,
            "padding": null,
            "grid_auto_rows": null,
            "grid_gap": null,
            "max_width": null,
            "order": null,
            "_view_module_version": "1.2.0",
            "grid_template_areas": null,
            "object_position": null,
            "object_fit": null,
            "grid_auto_columns": null,
            "margin": null,
            "display": null,
            "left": null
          }
        },
        "0b762d614add489799e3d25e039cfeca": {
          "model_module": "@jupyter-widgets/controls",
          "model_name": "HBoxModel",
          "state": {
            "_view_name": "HBoxView",
            "_dom_classes": [],
            "_model_name": "HBoxModel",
            "_view_module": "@jupyter-widgets/controls",
            "_model_module_version": "1.5.0",
            "_view_count": null,
            "_view_module_version": "1.5.0",
            "box_style": "",
            "layout": "IPY_MODEL_312d0724af404b85a33d7526ac59b807",
            "_model_module": "@jupyter-widgets/controls",
            "children": [
              "IPY_MODEL_fb84a5e0a47c4a11bfdc04bdbf05e2d0",
              "IPY_MODEL_a226a7ebcd4e4d01b6bf3796629e2a09"
            ]
          }
        },
        "312d0724af404b85a33d7526ac59b807": {
          "model_module": "@jupyter-widgets/base",
          "model_name": "LayoutModel",
          "state": {
            "_view_name": "LayoutView",
            "grid_template_rows": null,
            "right": null,
            "justify_content": null,
            "_view_module": "@jupyter-widgets/base",
            "overflow": null,
            "_model_module_version": "1.2.0",
            "_view_count": null,
            "flex_flow": null,
            "width": null,
            "min_width": null,
            "border": null,
            "align_items": null,
            "bottom": null,
            "_model_module": "@jupyter-widgets/base",
            "top": null,
            "grid_column": null,
            "overflow_y": null,
            "overflow_x": null,
            "grid_auto_flow": null,
            "grid_area": null,
            "grid_template_columns": null,
            "flex": null,
            "_model_name": "LayoutModel",
            "justify_items": null,
            "grid_row": null,
            "max_height": null,
            "align_content": null,
            "visibility": null,
            "align_self": null,
            "height": null,
            "min_height": null,
            "padding": null,
            "grid_auto_rows": null,
            "grid_gap": null,
            "max_width": null,
            "order": null,
            "_view_module_version": "1.2.0",
            "grid_template_areas": null,
            "object_position": null,
            "object_fit": null,
            "grid_auto_columns": null,
            "margin": null,
            "display": null,
            "left": null
          }
        },
        "fb84a5e0a47c4a11bfdc04bdbf05e2d0": {
          "model_module": "@jupyter-widgets/controls",
          "model_name": "FloatProgressModel",
          "state": {
            "_view_name": "ProgressView",
            "style": "IPY_MODEL_72de72a29c374931b2234cf3a8417965",
            "_dom_classes": [],
            "description": "Downloading: 100%",
            "_model_name": "FloatProgressModel",
            "bar_style": "success",
            "max": 231508,
            "_view_module": "@jupyter-widgets/controls",
            "_model_module_version": "1.5.0",
            "value": 231508,
            "_view_count": null,
            "_view_module_version": "1.5.0",
            "orientation": "horizontal",
            "min": 0,
            "description_tooltip": null,
            "_model_module": "@jupyter-widgets/controls",
            "layout": "IPY_MODEL_70b83c5e4f8a40dc8bf0815b664da490"
          }
        },
        "a226a7ebcd4e4d01b6bf3796629e2a09": {
          "model_module": "@jupyter-widgets/controls",
          "model_name": "HTMLModel",
          "state": {
            "_view_name": "HTMLView",
            "style": "IPY_MODEL_652587a6ec8348e181620867d78190ce",
            "_dom_classes": [],
            "description": "",
            "_model_name": "HTMLModel",
            "placeholder": "​",
            "_view_module": "@jupyter-widgets/controls",
            "_model_module_version": "1.5.0",
            "value": " 232k/232k [00:00&lt;00:00, 770kB/s]",
            "_view_count": null,
            "_view_module_version": "1.5.0",
            "description_tooltip": null,
            "_model_module": "@jupyter-widgets/controls",
            "layout": "IPY_MODEL_f814d5103dac4af09ae762c1526e85de"
          }
        },
        "72de72a29c374931b2234cf3a8417965": {
          "model_module": "@jupyter-widgets/controls",
          "model_name": "ProgressStyleModel",
          "state": {
            "_view_name": "StyleView",
            "_model_name": "ProgressStyleModel",
            "description_width": "initial",
            "_view_module": "@jupyter-widgets/base",
            "_model_module_version": "1.5.0",
            "_view_count": null,
            "_view_module_version": "1.2.0",
            "bar_color": null,
            "_model_module": "@jupyter-widgets/controls"
          }
        },
        "70b83c5e4f8a40dc8bf0815b664da490": {
          "model_module": "@jupyter-widgets/base",
          "model_name": "LayoutModel",
          "state": {
            "_view_name": "LayoutView",
            "grid_template_rows": null,
            "right": null,
            "justify_content": null,
            "_view_module": "@jupyter-widgets/base",
            "overflow": null,
            "_model_module_version": "1.2.0",
            "_view_count": null,
            "flex_flow": null,
            "width": null,
            "min_width": null,
            "border": null,
            "align_items": null,
            "bottom": null,
            "_model_module": "@jupyter-widgets/base",
            "top": null,
            "grid_column": null,
            "overflow_y": null,
            "overflow_x": null,
            "grid_auto_flow": null,
            "grid_area": null,
            "grid_template_columns": null,
            "flex": null,
            "_model_name": "LayoutModel",
            "justify_items": null,
            "grid_row": null,
            "max_height": null,
            "align_content": null,
            "visibility": null,
            "align_self": null,
            "height": null,
            "min_height": null,
            "padding": null,
            "grid_auto_rows": null,
            "grid_gap": null,
            "max_width": null,
            "order": null,
            "_view_module_version": "1.2.0",
            "grid_template_areas": null,
            "object_position": null,
            "object_fit": null,
            "grid_auto_columns": null,
            "margin": null,
            "display": null,
            "left": null
          }
        },
        "652587a6ec8348e181620867d78190ce": {
          "model_module": "@jupyter-widgets/controls",
          "model_name": "DescriptionStyleModel",
          "state": {
            "_view_name": "StyleView",
            "_model_name": "DescriptionStyleModel",
            "description_width": "",
            "_view_module": "@jupyter-widgets/base",
            "_model_module_version": "1.5.0",
            "_view_count": null,
            "_view_module_version": "1.2.0",
            "_model_module": "@jupyter-widgets/controls"
          }
        },
        "f814d5103dac4af09ae762c1526e85de": {
          "model_module": "@jupyter-widgets/base",
          "model_name": "LayoutModel",
          "state": {
            "_view_name": "LayoutView",
            "grid_template_rows": null,
            "right": null,
            "justify_content": null,
            "_view_module": "@jupyter-widgets/base",
            "overflow": null,
            "_model_module_version": "1.2.0",
            "_view_count": null,
            "flex_flow": null,
            "width": null,
            "min_width": null,
            "border": null,
            "align_items": null,
            "bottom": null,
            "_model_module": "@jupyter-widgets/base",
            "top": null,
            "grid_column": null,
            "overflow_y": null,
            "overflow_x": null,
            "grid_auto_flow": null,
            "grid_area": null,
            "grid_template_columns": null,
            "flex": null,
            "_model_name": "LayoutModel",
            "justify_items": null,
            "grid_row": null,
            "max_height": null,
            "align_content": null,
            "visibility": null,
            "align_self": null,
            "height": null,
            "min_height": null,
            "padding": null,
            "grid_auto_rows": null,
            "grid_gap": null,
            "max_width": null,
            "order": null,
            "_view_module_version": "1.2.0",
            "grid_template_areas": null,
            "object_position": null,
            "object_fit": null,
            "grid_auto_columns": null,
            "margin": null,
            "display": null,
            "left": null
          }
        }
      }
    }
  },
  "cells": [
    {
      "cell_type": "markdown",
      "metadata": {
        "id": "MvKwORjrfciW",
        "colab_type": "text"
      },
      "source": [
        "---\n",
        "# **1. Installation**\n",
        "---"
      ]
    },
    {
      "cell_type": "code",
      "metadata": {
        "id": "ziQyamb7gKSt",
        "colab_type": "code",
        "colab": {
          "base_uri": "https://localhost:8080/",
          "height": 1000
        },
        "outputId": "8761881c-667d-4231-e2df-aa0c96d23ca7"
      },
      "source": [
        "!pip install nltk\n",
        "!pip install --upgrade git+https://github.com/flairNLP/flair.git\n",
        "!pip install textblob\n",
        "!pip install stanza\n",
        "!pip install spacy\n",
        "!pip install tqdm"
      ],
      "execution_count": 1,
      "outputs": [
        {
          "output_type": "stream",
          "text": [
            "Requirement already satisfied: nltk in /usr/local/lib/python3.6/dist-packages (3.2.5)\n",
            "Requirement already satisfied: six in /usr/local/lib/python3.6/dist-packages (from nltk) (1.15.0)\n",
            "Collecting git+https://github.com/flairNLP/flair.git\n",
            "  Cloning https://github.com/flairNLP/flair.git to /tmp/pip-req-build-v7fuyfb1\n",
            "  Running command git clone -q https://github.com/flairNLP/flair.git /tmp/pip-req-build-v7fuyfb1\n",
            "  Installing build dependencies ... \u001b[?25l\u001b[?25hdone\n",
            "  Getting requirements to build wheel ... \u001b[?25l\u001b[?25hdone\n",
            "    Preparing wheel metadata ... \u001b[?25l\u001b[?25hdone\n",
            "Collecting pytest>=5.3.2\n",
            "\u001b[?25l  Downloading https://files.pythonhosted.org/packages/98/db/712bee56f9ab20373508a5a1c662e1db49b407dacf03b5224c6171ed0a3d/pytest-6.0.1-py3-none-any.whl (270kB)\n",
            "\u001b[K     |████████████████████████████████| 276kB 8.3MB/s \n",
            "\u001b[?25hRequirement already satisfied, skipping upgrade: python-dateutil>=2.6.1 in /usr/local/lib/python3.6/dist-packages (from flair==0.6.0.post1) (2.8.1)\n",
            "Collecting segtok>=1.5.7\n",
            "  Downloading https://files.pythonhosted.org/packages/41/08/582dab5f4b1d5ca23bc6927b4bb977c8ff7f3a87a3b98844ef833e2f5623/segtok-1.5.10.tar.gz\n",
            "Requirement already satisfied, skipping upgrade: lxml in /usr/local/lib/python3.6/dist-packages (from flair==0.6.0.post1) (4.2.6)\n",
            "Collecting bpemb>=0.3.2\n",
            "  Downloading https://files.pythonhosted.org/packages/91/77/3f0f53856e86af32b1d3c86652815277f7b5f880002584eb30db115b6df5/bpemb-0.3.2-py3-none-any.whl\n",
            "Requirement already satisfied, skipping upgrade: matplotlib>=2.2.3 in /usr/local/lib/python3.6/dist-packages (from flair==0.6.0.post1) (3.2.2)\n",
            "Collecting konoha<5.0.0,>=4.0.0\n",
            "  Downloading https://files.pythonhosted.org/packages/19/4b/f29cb8cf226d49b14f0d18bd175916dd0054dc66e42488f2c808075ef5a8/konoha-4.6.1-py3-none-any.whl\n",
            "Requirement already satisfied, skipping upgrade: tqdm>=4.26.0 in /usr/local/lib/python3.6/dist-packages (from flair==0.6.0.post1) (4.41.1)\n",
            "Requirement already satisfied, skipping upgrade: tabulate in /usr/local/lib/python3.6/dist-packages (from flair==0.6.0.post1) (0.8.7)\n",
            "Requirement already satisfied, skipping upgrade: gensim>=3.4.0 in /usr/local/lib/python3.6/dist-packages (from flair==0.6.0.post1) (3.6.0)\n",
            "Collecting transformers>=3.0.0\n",
            "\u001b[?25l  Downloading https://files.pythonhosted.org/packages/ae/05/c8c55b600308dc04e95100dc8ad8a244dd800fe75dfafcf1d6348c6f6209/transformers-3.1.0-py3-none-any.whl (884kB)\n",
            "\u001b[K     |████████████████████████████████| 890kB 18.1MB/s \n",
            "\u001b[?25hCollecting janome\n",
            "\u001b[?25l  Downloading https://files.pythonhosted.org/packages/a9/ed/b2b072c1d53388931e626ca0816cdb8e03416ad9a440c8d9e0e060859f41/Janome-0.4.0-py2.py3-none-any.whl (19.7MB)\n",
            "\u001b[K     |████████████████████████████████| 19.7MB 1.4MB/s \n",
            "\u001b[?25hCollecting langdetect\n",
            "\u001b[?25l  Downloading https://files.pythonhosted.org/packages/56/a3/8407c1e62d5980188b4acc45ef3d94b933d14a2ebc9ef3505f22cf772570/langdetect-1.0.8.tar.gz (981kB)\n",
            "\u001b[K     |████████████████████████████████| 983kB 59.6MB/s \n",
            "\u001b[?25hRequirement already satisfied, skipping upgrade: regex in /usr/local/lib/python3.6/dist-packages (from flair==0.6.0.post1) (2019.12.20)\n",
            "Requirement already satisfied, skipping upgrade: torch>=1.1.0 in /usr/local/lib/python3.6/dist-packages (from flair==0.6.0.post1) (1.6.0+cu101)\n",
            "Requirement already satisfied, skipping upgrade: hyperopt>=0.1.1 in /usr/local/lib/python3.6/dist-packages (from flair==0.6.0.post1) (0.1.2)\n",
            "Collecting ftfy\n",
            "\u001b[?25l  Downloading https://files.pythonhosted.org/packages/ff/e2/3b51c53dffb1e52d9210ebc01f1fb9f2f6eba9b3201fa971fd3946643c71/ftfy-5.8.tar.gz (64kB)\n",
            "\u001b[K     |████████████████████████████████| 71kB 9.2MB/s \n",
            "\u001b[?25hCollecting mpld3==0.3\n",
            "\u001b[?25l  Downloading https://files.pythonhosted.org/packages/91/95/a52d3a83d0a29ba0d6898f6727e9858fe7a43f6c2ce81a5fe7e05f0f4912/mpld3-0.3.tar.gz (788kB)\n",
            "\u001b[K     |████████████████████████████████| 798kB 55.1MB/s \n",
            "\u001b[?25hCollecting sqlitedict>=1.6.0\n",
            "  Downloading https://files.pythonhosted.org/packages/5c/2d/b1d99e9ad157dd7de9cd0d36a8a5876b13b55e4b75f7498bc96035fb4e96/sqlitedict-1.7.0.tar.gz\n",
            "Collecting deprecated>=1.2.4\n",
            "  Downloading https://files.pythonhosted.org/packages/76/a1/05d7f62f956d77b23a640efc650f80ce24483aa2f85a09c03fb64f49e879/Deprecated-1.2.10-py2.py3-none-any.whl\n",
            "Requirement already satisfied, skipping upgrade: scikit-learn>=0.21.3 in /usr/local/lib/python3.6/dist-packages (from flair==0.6.0.post1) (0.22.2.post1)\n",
            "Collecting sentencepiece!=0.1.92\n",
            "\u001b[?25l  Downloading https://files.pythonhosted.org/packages/d4/a4/d0a884c4300004a78cca907a6ff9a5e9fe4f090f5d95ab341c53d28cbc58/sentencepiece-0.1.91-cp36-cp36m-manylinux1_x86_64.whl (1.1MB)\n",
            "\u001b[K     |████████████████████████████████| 1.1MB 51.5MB/s \n",
            "\u001b[?25hRequirement already satisfied, skipping upgrade: more-itertools>=4.0.0 in /usr/local/lib/python3.6/dist-packages (from pytest>=5.3.2->flair==0.6.0.post1) (8.4.0)\n",
            "Requirement already satisfied, skipping upgrade: importlib-metadata>=0.12; python_version < \"3.8\" in /usr/local/lib/python3.6/dist-packages (from pytest>=5.3.2->flair==0.6.0.post1) (1.7.0)\n",
            "Requirement already satisfied, skipping upgrade: iniconfig in /usr/local/lib/python3.6/dist-packages (from pytest>=5.3.2->flair==0.6.0.post1) (1.0.1)\n",
            "Requirement already satisfied, skipping upgrade: packaging in /usr/local/lib/python3.6/dist-packages (from pytest>=5.3.2->flair==0.6.0.post1) (20.4)\n",
            "Requirement already satisfied, skipping upgrade: attrs>=17.4.0 in /usr/local/lib/python3.6/dist-packages (from pytest>=5.3.2->flair==0.6.0.post1) (20.1.0)\n",
            "Requirement already satisfied, skipping upgrade: toml in /usr/local/lib/python3.6/dist-packages (from pytest>=5.3.2->flair==0.6.0.post1) (0.10.1)\n",
            "Collecting pluggy<1.0,>=0.12\n",
            "  Downloading https://files.pythonhosted.org/packages/a0/28/85c7aa31b80d150b772fbe4a229487bc6644da9ccb7e427dd8cc60cb8a62/pluggy-0.13.1-py2.py3-none-any.whl\n",
            "Requirement already satisfied, skipping upgrade: py>=1.8.2 in /usr/local/lib/python3.6/dist-packages (from pytest>=5.3.2->flair==0.6.0.post1) (1.9.0)\n",
            "Requirement already satisfied, skipping upgrade: six>=1.5 in /usr/local/lib/python3.6/dist-packages (from python-dateutil>=2.6.1->flair==0.6.0.post1) (1.15.0)\n",
            "Requirement already satisfied, skipping upgrade: requests in /usr/local/lib/python3.6/dist-packages (from bpemb>=0.3.2->flair==0.6.0.post1) (2.23.0)\n",
            "Requirement already satisfied, skipping upgrade: numpy in /usr/local/lib/python3.6/dist-packages (from bpemb>=0.3.2->flair==0.6.0.post1) (1.18.5)\n",
            "Requirement already satisfied, skipping upgrade: pyparsing!=2.0.4,!=2.1.2,!=2.1.6,>=2.0.1 in /usr/local/lib/python3.6/dist-packages (from matplotlib>=2.2.3->flair==0.6.0.post1) (2.4.7)\n",
            "Requirement already satisfied, skipping upgrade: kiwisolver>=1.0.1 in /usr/local/lib/python3.6/dist-packages (from matplotlib>=2.2.3->flair==0.6.0.post1) (1.2.0)\n",
            "Requirement already satisfied, skipping upgrade: cycler>=0.10 in /usr/local/lib/python3.6/dist-packages (from matplotlib>=2.2.3->flair==0.6.0.post1) (0.10.0)\n",
            "Collecting overrides==3.0.0\n",
            "  Downloading https://files.pythonhosted.org/packages/42/8d/caa729f809ecdf8e76fac3c1ff7d3f0b72c398c9dd8a6919927a30a873b3/overrides-3.0.0.tar.gz\n",
            "Requirement already satisfied, skipping upgrade: scipy>=0.18.1 in /usr/local/lib/python3.6/dist-packages (from gensim>=3.4.0->flair==0.6.0.post1) (1.4.1)\n",
            "Requirement already satisfied, skipping upgrade: smart-open>=1.2.1 in /usr/local/lib/python3.6/dist-packages (from gensim>=3.4.0->flair==0.6.0.post1) (2.1.0)\n",
            "Requirement already satisfied, skipping upgrade: dataclasses; python_version < \"3.7\" in /usr/local/lib/python3.6/dist-packages (from transformers>=3.0.0->flair==0.6.0.post1) (0.7)\n",
            "Collecting sacremoses\n",
            "\u001b[?25l  Downloading https://files.pythonhosted.org/packages/7d/34/09d19aff26edcc8eb2a01bed8e98f13a1537005d31e95233fd48216eed10/sacremoses-0.0.43.tar.gz (883kB)\n",
            "\u001b[K     |████████████████████████████████| 890kB 47.6MB/s \n",
            "\u001b[?25hRequirement already satisfied, skipping upgrade: filelock in /usr/local/lib/python3.6/dist-packages (from transformers>=3.0.0->flair==0.6.0.post1) (3.0.12)\n",
            "Collecting tokenizers==0.8.1.rc2\n",
            "\u001b[?25l  Downloading https://files.pythonhosted.org/packages/80/83/8b9fccb9e48eeb575ee19179e2bdde0ee9a1904f97de5f02d19016b8804f/tokenizers-0.8.1rc2-cp36-cp36m-manylinux1_x86_64.whl (3.0MB)\n",
            "\u001b[K     |████████████████████████████████| 3.0MB 46.7MB/s \n",
            "\u001b[?25hRequirement already satisfied, skipping upgrade: future in /usr/local/lib/python3.6/dist-packages (from torch>=1.1.0->flair==0.6.0.post1) (0.16.0)\n",
            "Requirement already satisfied, skipping upgrade: networkx in /usr/local/lib/python3.6/dist-packages (from hyperopt>=0.1.1->flair==0.6.0.post1) (2.5)\n",
            "Requirement already satisfied, skipping upgrade: pymongo in /usr/local/lib/python3.6/dist-packages (from hyperopt>=0.1.1->flair==0.6.0.post1) (3.11.0)\n",
            "Requirement already satisfied, skipping upgrade: wcwidth in /usr/local/lib/python3.6/dist-packages (from ftfy->flair==0.6.0.post1) (0.2.5)\n",
            "Requirement already satisfied, skipping upgrade: wrapt<2,>=1.10 in /usr/local/lib/python3.6/dist-packages (from deprecated>=1.2.4->flair==0.6.0.post1) (1.12.1)\n",
            "Requirement already satisfied, skipping upgrade: joblib>=0.11 in /usr/local/lib/python3.6/dist-packages (from scikit-learn>=0.21.3->flair==0.6.0.post1) (0.16.0)\n",
            "Requirement already satisfied, skipping upgrade: zipp>=0.5 in /usr/local/lib/python3.6/dist-packages (from importlib-metadata>=0.12; python_version < \"3.8\"->pytest>=5.3.2->flair==0.6.0.post1) (3.1.0)\n",
            "Requirement already satisfied, skipping upgrade: urllib3!=1.25.0,!=1.25.1,<1.26,>=1.21.1 in /usr/local/lib/python3.6/dist-packages (from requests->bpemb>=0.3.2->flair==0.6.0.post1) (1.24.3)\n",
            "Requirement already satisfied, skipping upgrade: idna<3,>=2.5 in /usr/local/lib/python3.6/dist-packages (from requests->bpemb>=0.3.2->flair==0.6.0.post1) (2.10)\n",
            "Requirement already satisfied, skipping upgrade: chardet<4,>=3.0.2 in /usr/local/lib/python3.6/dist-packages (from requests->bpemb>=0.3.2->flair==0.6.0.post1) (3.0.4)\n",
            "Requirement already satisfied, skipping upgrade: certifi>=2017.4.17 in /usr/local/lib/python3.6/dist-packages (from requests->bpemb>=0.3.2->flair==0.6.0.post1) (2020.6.20)\n",
            "Requirement already satisfied, skipping upgrade: boto3 in /usr/local/lib/python3.6/dist-packages (from smart-open>=1.2.1->gensim>=3.4.0->flair==0.6.0.post1) (1.14.48)\n",
            "Requirement already satisfied, skipping upgrade: boto in /usr/local/lib/python3.6/dist-packages (from smart-open>=1.2.1->gensim>=3.4.0->flair==0.6.0.post1) (2.49.0)\n",
            "Requirement already satisfied, skipping upgrade: click in /usr/local/lib/python3.6/dist-packages (from sacremoses->transformers>=3.0.0->flair==0.6.0.post1) (7.1.2)\n",
            "Requirement already satisfied, skipping upgrade: decorator>=4.3.0 in /usr/local/lib/python3.6/dist-packages (from networkx->hyperopt>=0.1.1->flair==0.6.0.post1) (4.4.2)\n",
            "Requirement already satisfied, skipping upgrade: jmespath<1.0.0,>=0.7.1 in /usr/local/lib/python3.6/dist-packages (from boto3->smart-open>=1.2.1->gensim>=3.4.0->flair==0.6.0.post1) (0.10.0)\n",
            "Requirement already satisfied, skipping upgrade: botocore<1.18.0,>=1.17.48 in /usr/local/lib/python3.6/dist-packages (from boto3->smart-open>=1.2.1->gensim>=3.4.0->flair==0.6.0.post1) (1.17.48)\n",
            "Requirement already satisfied, skipping upgrade: s3transfer<0.4.0,>=0.3.0 in /usr/local/lib/python3.6/dist-packages (from boto3->smart-open>=1.2.1->gensim>=3.4.0->flair==0.6.0.post1) (0.3.3)\n",
            "Requirement already satisfied, skipping upgrade: docutils<0.16,>=0.10 in /usr/local/lib/python3.6/dist-packages (from botocore<1.18.0,>=1.17.48->boto3->smart-open>=1.2.1->gensim>=3.4.0->flair==0.6.0.post1) (0.15.2)\n",
            "Building wheels for collected packages: flair\n",
            "  Building wheel for flair (PEP 517) ... \u001b[?25l\u001b[?25hdone\n",
            "  Created wheel for flair: filename=flair-0.6.0.post1-cp36-none-any.whl size=188603 sha256=8ab3dc90371d97c4df07418f81da388c719b6831a1033108f13a08bad0e63fd6\n",
            "  Stored in directory: /tmp/pip-ephem-wheel-cache-g9b9482b/wheels/84/82/73/d2b3b59b7be74ea05f2c6d64132efe27df52daffb47d1dc7bb\n",
            "Successfully built flair\n",
            "Building wheels for collected packages: segtok, langdetect, ftfy, mpld3, sqlitedict, overrides, sacremoses\n",
            "  Building wheel for segtok (setup.py) ... \u001b[?25l\u001b[?25hdone\n",
            "  Created wheel for segtok: filename=segtok-1.5.10-cp36-none-any.whl size=25021 sha256=c79338244679010f3cacbbfc0ef3770308f2392789404a698e185a25a047d9e8\n",
            "  Stored in directory: /root/.cache/pip/wheels/b4/39/f6/9ca1c5cabde964d728023b5751c3a206a5c8cc40252321fb6b\n",
            "  Building wheel for langdetect (setup.py) ... \u001b[?25l\u001b[?25hdone\n",
            "  Created wheel for langdetect: filename=langdetect-1.0.8-cp36-none-any.whl size=993195 sha256=88405e4ad88c45da2ee4807ce494f7a3b092ecbdefd267f8ca2ee9b293a4db3d\n",
            "  Stored in directory: /root/.cache/pip/wheels/8d/b3/aa/6d99de9f3841d7d3d40a60ea06e6d669e8e5012e6c8b947a57\n",
            "  Building wheel for ftfy (setup.py) ... \u001b[?25l\u001b[?25hdone\n",
            "  Created wheel for ftfy: filename=ftfy-5.8-cp36-none-any.whl size=45612 sha256=36bf64414f7ca8de1e64e48437df82309c4936739de9f0c63e09185cf639df01\n",
            "  Stored in directory: /root/.cache/pip/wheels/ba/c0/ef/f28c4da5ac84a4e06ac256ca9182fc34fa57fefffdbc68425b\n",
            "  Building wheel for mpld3 (setup.py) ... \u001b[?25l\u001b[?25hdone\n",
            "  Created wheel for mpld3: filename=mpld3-0.3-cp36-none-any.whl size=116677 sha256=bc5d55eadb86396c354a0a989c8387b1320848dc3bfe2ffecef7d911d3ea0866\n",
            "  Stored in directory: /root/.cache/pip/wheels/c0/47/fb/8a64f89aecfe0059830479308ad42d62e898a3e3cefdf6ba28\n",
            "  Building wheel for sqlitedict (setup.py) ... \u001b[?25l\u001b[?25hdone\n",
            "  Created wheel for sqlitedict: filename=sqlitedict-1.7.0-cp36-none-any.whl size=14377 sha256=b7f961795c2baef7eb91bd28060fdfe6cfb3d65d7df4f87199053edff44a6d32\n",
            "  Stored in directory: /root/.cache/pip/wheels/cf/c6/4f/2c64a43f041415eb8b8740bd80e15e92f0d46c5e464d8e4b9b\n",
            "  Building wheel for overrides (setup.py) ... \u001b[?25l\u001b[?25hdone\n",
            "  Created wheel for overrides: filename=overrides-3.0.0-cp36-none-any.whl size=5669 sha256=7cf5031505518f6795f8962711b5e7031ba6cddf4315b7855c2079df683aeaf1\n",
            "  Stored in directory: /root/.cache/pip/wheels/6f/1b/ec/6c71a1eb823df7f850d956b2d8c50a6d49c191e1063d73b9be\n",
            "  Building wheel for sacremoses (setup.py) ... \u001b[?25l\u001b[?25hdone\n",
            "  Created wheel for sacremoses: filename=sacremoses-0.0.43-cp36-none-any.whl size=893257 sha256=b2d8126ce2e6c68a5a3b63fbdf33235e32e42a24f9553777c88462d89cfc2394\n",
            "  Stored in directory: /root/.cache/pip/wheels/29/3c/fd/7ce5c3f0666dab31a50123635e6fb5e19ceb42ce38d4e58f45\n",
            "Successfully built segtok langdetect ftfy mpld3 sqlitedict overrides sacremoses\n",
            "\u001b[31mERROR: datascience 0.10.6 has requirement folium==0.2.1, but you'll have folium 0.8.3 which is incompatible.\u001b[0m\n",
            "Installing collected packages: pluggy, pytest, segtok, sentencepiece, bpemb, overrides, konoha, sacremoses, tokenizers, transformers, janome, langdetect, ftfy, mpld3, sqlitedict, deprecated, flair\n",
            "  Found existing installation: pluggy 0.7.1\n",
            "    Uninstalling pluggy-0.7.1:\n",
            "      Successfully uninstalled pluggy-0.7.1\n",
            "  Found existing installation: pytest 3.6.4\n",
            "    Uninstalling pytest-3.6.4:\n",
            "      Successfully uninstalled pytest-3.6.4\n",
            "Successfully installed bpemb-0.3.2 deprecated-1.2.10 flair-0.6.0.post1 ftfy-5.8 janome-0.4.0 konoha-4.6.1 langdetect-1.0.8 mpld3-0.3 overrides-3.0.0 pluggy-0.13.1 pytest-6.0.1 sacremoses-0.0.43 segtok-1.5.10 sentencepiece-0.1.91 sqlitedict-1.7.0 tokenizers-0.8.1rc2 transformers-3.1.0\n",
            "Requirement already satisfied: textblob in /usr/local/lib/python3.6/dist-packages (0.15.3)\n",
            "Requirement already satisfied: nltk>=3.1 in /usr/local/lib/python3.6/dist-packages (from textblob) (3.2.5)\n",
            "Requirement already satisfied: six in /usr/local/lib/python3.6/dist-packages (from nltk>=3.1->textblob) (1.15.0)\n",
            "Collecting stanza\n",
            "\u001b[?25l  Downloading https://files.pythonhosted.org/packages/e7/8b/3a9e7a8d8cb14ad6afffc3983b7a7322a3a24d94ebc978a70746fcffc085/stanza-1.1.1-py3-none-any.whl (227kB)\n",
            "\u001b[K     |████████████████████████████████| 235kB 8.0MB/s \n",
            "\u001b[?25hRequirement already satisfied: torch>=1.3.0 in /usr/local/lib/python3.6/dist-packages (from stanza) (1.6.0+cu101)\n",
            "Requirement already satisfied: numpy in /usr/local/lib/python3.6/dist-packages (from stanza) (1.18.5)\n",
            "Requirement already satisfied: protobuf in /usr/local/lib/python3.6/dist-packages (from stanza) (3.12.4)\n",
            "Requirement already satisfied: requests in /usr/local/lib/python3.6/dist-packages (from stanza) (2.23.0)\n",
            "Requirement already satisfied: tqdm in /usr/local/lib/python3.6/dist-packages (from stanza) (4.41.1)\n",
            "Requirement already satisfied: future in /usr/local/lib/python3.6/dist-packages (from torch>=1.3.0->stanza) (0.16.0)\n",
            "Requirement already satisfied: setuptools in /usr/local/lib/python3.6/dist-packages (from protobuf->stanza) (49.6.0)\n",
            "Requirement already satisfied: six>=1.9 in /usr/local/lib/python3.6/dist-packages (from protobuf->stanza) (1.15.0)\n",
            "Requirement already satisfied: certifi>=2017.4.17 in /usr/local/lib/python3.6/dist-packages (from requests->stanza) (2020.6.20)\n",
            "Requirement already satisfied: urllib3!=1.25.0,!=1.25.1,<1.26,>=1.21.1 in /usr/local/lib/python3.6/dist-packages (from requests->stanza) (1.24.3)\n",
            "Requirement already satisfied: idna<3,>=2.5 in /usr/local/lib/python3.6/dist-packages (from requests->stanza) (2.10)\n",
            "Requirement already satisfied: chardet<4,>=3.0.2 in /usr/local/lib/python3.6/dist-packages (from requests->stanza) (3.0.4)\n",
            "Installing collected packages: stanza\n",
            "Successfully installed stanza-1.1.1\n",
            "Requirement already satisfied: spacy in /usr/local/lib/python3.6/dist-packages (2.2.4)\n",
            "Requirement already satisfied: tqdm<5.0.0,>=4.38.0 in /usr/local/lib/python3.6/dist-packages (from spacy) (4.41.1)\n",
            "Requirement already satisfied: murmurhash<1.1.0,>=0.28.0 in /usr/local/lib/python3.6/dist-packages (from spacy) (1.0.2)\n",
            "Requirement already satisfied: blis<0.5.0,>=0.4.0 in /usr/local/lib/python3.6/dist-packages (from spacy) (0.4.1)\n",
            "Requirement already satisfied: cymem<2.1.0,>=2.0.2 in /usr/local/lib/python3.6/dist-packages (from spacy) (2.0.3)\n",
            "Requirement already satisfied: srsly<1.1.0,>=1.0.2 in /usr/local/lib/python3.6/dist-packages (from spacy) (1.0.2)\n",
            "Requirement already satisfied: preshed<3.1.0,>=3.0.2 in /usr/local/lib/python3.6/dist-packages (from spacy) (3.0.2)\n",
            "Requirement already satisfied: numpy>=1.15.0 in /usr/local/lib/python3.6/dist-packages (from spacy) (1.18.5)\n",
            "Requirement already satisfied: wasabi<1.1.0,>=0.4.0 in /usr/local/lib/python3.6/dist-packages (from spacy) (0.7.1)\n",
            "Requirement already satisfied: thinc==7.4.0 in /usr/local/lib/python3.6/dist-packages (from spacy) (7.4.0)\n",
            "Requirement already satisfied: catalogue<1.1.0,>=0.0.7 in /usr/local/lib/python3.6/dist-packages (from spacy) (1.0.0)\n",
            "Requirement already satisfied: requests<3.0.0,>=2.13.0 in /usr/local/lib/python3.6/dist-packages (from spacy) (2.23.0)\n",
            "Requirement already satisfied: plac<1.2.0,>=0.9.6 in /usr/local/lib/python3.6/dist-packages (from spacy) (1.1.3)\n",
            "Requirement already satisfied: setuptools in /usr/local/lib/python3.6/dist-packages (from spacy) (49.6.0)\n",
            "Requirement already satisfied: importlib-metadata>=0.20; python_version < \"3.8\" in /usr/local/lib/python3.6/dist-packages (from catalogue<1.1.0,>=0.0.7->spacy) (1.7.0)\n",
            "Requirement already satisfied: idna<3,>=2.5 in /usr/local/lib/python3.6/dist-packages (from requests<3.0.0,>=2.13.0->spacy) (2.10)\n",
            "Requirement already satisfied: chardet<4,>=3.0.2 in /usr/local/lib/python3.6/dist-packages (from requests<3.0.0,>=2.13.0->spacy) (3.0.4)\n",
            "Requirement already satisfied: urllib3!=1.25.0,!=1.25.1,<1.26,>=1.21.1 in /usr/local/lib/python3.6/dist-packages (from requests<3.0.0,>=2.13.0->spacy) (1.24.3)\n",
            "Requirement already satisfied: certifi>=2017.4.17 in /usr/local/lib/python3.6/dist-packages (from requests<3.0.0,>=2.13.0->spacy) (2020.6.20)\n",
            "Requirement already satisfied: zipp>=0.5 in /usr/local/lib/python3.6/dist-packages (from importlib-metadata>=0.20; python_version < \"3.8\"->catalogue<1.1.0,>=0.0.7->spacy) (3.1.0)\n",
            "Requirement already satisfied: tqdm in /usr/local/lib/python3.6/dist-packages (4.41.1)\n"
          ],
          "name": "stdout"
        }
      ]
    },
    {
      "cell_type": "markdown",
      "metadata": {
        "id": "PkUNmwjYfj8n",
        "colab_type": "text"
      },
      "source": [
        "---\n",
        "# **2. Imports**\n",
        "---"
      ]
    },
    {
      "cell_type": "markdown",
      "metadata": {
        "id": "2UcFnP3qfssO",
        "colab_type": "text"
      },
      "source": [
        "### i. core"
      ]
    },
    {
      "cell_type": "code",
      "metadata": {
        "id": "HTS6dvWgjTRK",
        "colab_type": "code",
        "colab": {}
      },
      "source": [
        "import re\n",
        "import logging\n",
        "import numpy as np\n",
        "import pandas as pd\n",
        "pd.options.mode.chained_assignment = None # default='warn'\n",
        "import matplotlib.pyplot as plt\n",
        "from tqdm import tqdm\n",
        "from time import sleep"
      ],
      "execution_count": 2,
      "outputs": []
    },
    {
      "cell_type": "markdown",
      "metadata": {
        "id": "bAjiaWM-fr7F",
        "colab_type": "text"
      },
      "source": [
        "### ii. NLTK Vader Sentiment Intensity Analyzer"
      ]
    },
    {
      "cell_type": "code",
      "metadata": {
        "id": "jK5w_s6Kge2W",
        "colab_type": "code",
        "colab": {
          "base_uri": "https://localhost:8080/",
          "height": 92
        },
        "outputId": "d638791f-27a0-4bcb-a44d-9d43e6e37f1d"
      },
      "source": [
        "import nltk\n",
        "from nltk.sentiment.vader import SentimentIntensityAnalyzer\n",
        "nltk.download('vader_lexicon')\n",
        "SIA = SentimentIntensityAnalyzer()"
      ],
      "execution_count": 3,
      "outputs": [
        {
          "output_type": "stream",
          "text": [
            "[nltk_data] Downloading package vader_lexicon to /root/nltk_data...\n"
          ],
          "name": "stdout"
        },
        {
          "output_type": "stream",
          "text": [
            "/usr/local/lib/python3.6/dist-packages/nltk/twitter/__init__.py:20: UserWarning: The twython library has not been installed. Some functionality from the twitter package will not be available.\n",
            "  warnings.warn(\"The twython library has not been installed. \"\n"
          ],
          "name": "stderr"
        }
      ]
    },
    {
      "cell_type": "markdown",
      "metadata": {
        "id": "zftnZsPZf0iN",
        "colab_type": "text"
      },
      "source": [
        "### iii. Stanza"
      ]
    },
    {
      "cell_type": "code",
      "metadata": {
        "id": "plBOpEiwpmNp",
        "colab_type": "code",
        "colab": {
          "base_uri": "https://localhost:8080/",
          "height": 690
        },
        "outputId": "267a80db-60b4-49cf-dafb-ecc0f06a8864"
      },
      "source": [
        "import stanza\n",
        "stanza.download('en', package='ewt', processors='tokenize,sentiment', verbose=True)\n",
        "stanza.download('en', package='default', processors='tokenize,sentiment', verbose=True)\n",
        "stNLP = stanza.Pipeline(processors='tokenize,sentiment', lang='en', use_gpu=True)"
      ],
      "execution_count": 4,
      "outputs": [
        {
          "output_type": "stream",
          "text": [
            "Downloading https://raw.githubusercontent.com/stanfordnlp/stanza-resources/master/resources_1.1.0.json: 122kB [00:00, 28.9MB/s]                    \n",
            "2020-09-11 01:35:57 WARNING: Can not find sentiment: ewt from official model list. Ignoring it.\n",
            "2020-09-11 01:35:57 INFO: Downloading these customized packages for language: en (English)...\n",
            "=======================\n",
            "| Processor | Package |\n",
            "-----------------------\n",
            "| tokenize  | ewt     |\n",
            "=======================\n",
            "\n",
            "Downloading http://nlp.stanford.edu/software/stanza/1.1.0/en/tokenize/ewt.pt: 100%|██████████| 631k/631k [00:01<00:00, 346kB/s]\n",
            "2020-09-11 01:36:00 INFO: Finished downloading models and saved to /root/stanza_resources.\n",
            "Downloading https://raw.githubusercontent.com/stanfordnlp/stanza-resources/master/resources_1.1.0.json: 122kB [00:00, 31.3MB/s]                    \n",
            "2020-09-11 01:36:00 INFO: Downloading these customized packages for language: en (English)...\n",
            "=======================\n",
            "| Processor | Package |\n",
            "-----------------------\n",
            "| tokenize  | ewt     |\n",
            "| sentiment | sstplus |\n",
            "| pretrain  | ewt     |\n",
            "=======================\n",
            "\n",
            "2020-09-11 01:36:00 INFO: File exists: /root/stanza_resources/en/tokenize/ewt.pt.\n",
            "Downloading http://nlp.stanford.edu/software/stanza/1.1.0/en/sentiment/sstplus.pt: 100%|██████████| 27.5M/27.5M [00:07<00:00, 3.61MB/s]\n",
            "Downloading http://nlp.stanford.edu/software/stanza/1.1.0/en/pretrain/ewt.pt: 100%|██████████| 156M/156M [01:40<00:00, 1.55MB/s]\n",
            "2020-09-11 01:37:53 INFO: Finished downloading models and saved to /root/stanza_resources.\n",
            "2020-09-11 01:37:53 INFO: Loading these models for language: en (English):\n",
            "=======================\n",
            "| Processor | Package |\n",
            "-----------------------\n",
            "| tokenize  | ewt     |\n",
            "| sentiment | sstplus |\n",
            "=======================\n",
            "\n",
            "2020-09-11 01:37:53 INFO: Use device: gpu\n",
            "2020-09-11 01:37:53 INFO: Loading: tokenize\n",
            "2020-09-11 01:38:03 INFO: Loading: sentiment\n",
            "2020-09-11 01:38:05 INFO: Done loading processors!\n"
          ],
          "name": "stderr"
        }
      ]
    },
    {
      "cell_type": "markdown",
      "metadata": {
        "id": "68fKZ5sHf8_v",
        "colab_type": "text"
      },
      "source": [
        "### iv. Spacy Text Categorizer"
      ]
    },
    {
      "cell_type": "code",
      "metadata": {
        "id": "bXKsPUNj5ovs",
        "colab_type": "code",
        "colab": {
          "base_uri": "https://localhost:8080/",
          "height": 1000
        },
        "outputId": "8456c3ae-9945-4b5a-c297-d288531f4cbc"
      },
      "source": [
        "import random\n",
        "import spacy\n",
        "from spacy.util import minibatch, compounding\n",
        "from spacy.pipeline import TextCategorizer\n",
        "\n",
        "spacy.prefer_gpu()\n",
        "\n",
        "TRAIN_DATA = [\n",
        "    [\"My little kitty is so special\", {\"Cat\": True}],\n",
        "    [\"Dude, Totally, Yeah, Video Games\", {\"Cat\": False}],\n",
        "    [\"Should I pay $1,000 for the iPhone X?\", {\"Cat\": False}],\n",
        "    [\"The iPhone 8 reviews are here\", {\"Cat\": False}],\n",
        "    [\"Noa is a great cat name.\", {\"Cat\": True}],\n",
        "    [\"We got a new kitten!\", {\"Cat\": True}]\n",
        "]\n",
        "\n",
        "nlp = spacy.load(\"en_core_web_sm\")\n",
        "category = nlp.create_pipe(\"textcat\", config={\"exclusive_classes\": True})\n",
        "nlp.add_pipe(category)\n",
        "\n",
        "# add label to text classifier\n",
        "category.add_label(\"Cat\")\n",
        "category.add_label('False')\n",
        "\n",
        "optimizer = nlp.begin_training()\n",
        "losses = {}\n",
        "\n",
        "for i in range(100):\n",
        "    random.shuffle(TRAIN_DATA)\n",
        "\n",
        "    for batch in minibatch(TRAIN_DATA, size=8):\n",
        "        texts = [nlp(text) for text, entities in batch]\n",
        "        annotations = [{\"cats\": entities} for text, entities in batch]\n",
        "        nlp.update(texts, annotations, sgd=optimizer, losses=losses)\n",
        "    print(i, losses)"
      ],
      "execution_count": 5,
      "outputs": [
        {
          "output_type": "stream",
          "text": [
            "0 {'textcat': 0.006944445427507162, 'ner': 0.0, 'parser': 0.0, 'tagger': 0.4249247908592224}\n",
            "1 {'textcat': 0.013884779997169971, 'ner': 0.0, 'parser': 0.0, 'tagger': 0.42840095376595855}\n",
            "2 {'textcat': 0.020738163497298956, 'ner': 0.0, 'parser': 0.0, 'tagger': 0.4284796733991243}\n",
            "3 {'textcat': 0.02743456605821848, 'ner': 0.0, 'parser': 0.0, 'tagger': 0.4284865308291046}\n",
            "4 {'textcat': 0.033903070725500584, 'ner': 0.0, 'parser': 0.0, 'tagger': 0.428489804837227}\n",
            "5 {'textcat': 0.040078638587147, 'ner': 0.0, 'parser': 0.0, 'tagger': 0.42849279772053706}\n",
            "6 {'textcat': 0.0459209093824029, 'ner': 0.0, 'parser': 0.0, 'tagger': 0.4284954946324433}\n",
            "7 {'textcat': 0.0513830566778779, 'ner': 0.0, 'parser': 0.0, 'tagger': 0.42849746124306876}\n",
            "8 {'textcat': 0.05643745930865407, 'ner': 0.0, 'parser': 0.0, 'tagger': 0.4284986564729252}\n",
            "9 {'textcat': 0.061056784354150295, 'ner': 0.0, 'parser': 0.0, 'tagger': 0.42849931721104895}\n",
            "10 {'textcat': 0.0652352157048881, 'ner': 0.0, 'parser': 0.0, 'tagger': 0.42849967597521754}\n",
            "11 {'textcat': 0.06897107441909611, 'ner': 0.0, 'parser': 0.0, 'tagger': 0.4284998732651104}\n",
            "12 {'textcat': 0.0722780846990645, 'ner': 0.0, 'parser': 0.0, 'tagger': 0.42849998610846285}\n",
            "13 {'textcat': 0.07515630940906703, 'ner': 0.0, 'parser': 0.0, 'tagger': 0.42850005429786364}\n",
            "14 {'textcat': 0.07762045436538756, 'ner': 0.0, 'parser': 0.0, 'tagger': 0.4285000982758085}\n",
            "15 {'textcat': 0.07970196474343538, 'ner': 0.0, 'parser': 0.0, 'tagger': 0.4285001284144023}\n",
            "16 {'textcat': 0.08143372333142906, 'ner': 0.0, 'parser': 0.0, 'tagger': 0.4285001499689862}\n",
            "17 {'textcat': 0.08285264205187559, 'ner': 0.0, 'parser': 0.0, 'tagger': 0.4285001659893659}\n",
            "18 {'textcat': 0.08399469929281622, 'ner': 0.0, 'parser': 0.0, 'tagger': 0.4285001783284539}\n",
            "19 {'textcat': 0.08489757945062593, 'ner': 0.0, 'parser': 0.0, 'tagger': 0.4285001880591093}\n",
            "20 {'textcat': 0.08559949276968837, 'ner': 0.0, 'parser': 0.0, 'tagger': 0.4285001958973851}\n",
            "21 {'textcat': 0.086134823912289, 'ner': 0.0, 'parser': 0.0, 'tagger': 0.4285002023384754}\n",
            "22 {'textcat': 0.08653574780328199, 'ner': 0.0, 'parser': 0.0, 'tagger': 0.42850020769235275}\n",
            "23 {'textcat': 0.08683039966854267, 'ner': 0.0, 'parser': 0.0, 'tagger': 0.42850021220304235}\n",
            "24 {'textcat': 0.087043313702452, 'ner': 0.0, 'parser': 0.0, 'tagger': 0.42850021601414623}\n",
            "25 {'textcat': 0.08719445555470884, 'ner': 0.0, 'parser': 0.0, 'tagger': 0.4285002192865006}\n",
            "26 {'textcat': 0.08730026949342573, 'ner': 0.0, 'parser': 0.0, 'tagger': 0.42850022209978444}\n",
            "27 {'textcat': 0.08737311282311566, 'ner': 0.0, 'parser': 0.0, 'tagger': 0.42850022453770187}\n",
            "28 {'textcat': 0.0874226080304652, 'ner': 0.0, 'parser': 0.0, 'tagger': 0.4285002266722209}\n",
            "29 {'textcat': 0.0874558042451099, 'ner': 0.0, 'parser': 0.0, 'tagger': 0.42850022855472725}\n",
            "30 {'textcat': 0.08747779776786047, 'ner': 0.0, 'parser': 0.0, 'tagger': 0.4285002302042804}\n",
            "31 {'textcat': 0.08749225453448162, 'ner': 0.0, 'parser': 0.0, 'tagger': 0.428500231680501}\n",
            "32 {'textcat': 0.08750168963160831, 'ner': 0.0, 'parser': 0.0, 'tagger': 0.42850023299845386}\n",
            "33 {'textcat': 0.08750781299522714, 'ner': 0.0, 'parser': 0.0, 'tagger': 0.4285002341848697}\n",
            "34 {'textcat': 0.08751176559781015, 'ner': 0.0, 'parser': 0.0, 'tagger': 0.428500235262263}\n",
            "35 {'textcat': 0.08751430690722373, 'ner': 0.0, 'parser': 0.0, 'tagger': 0.4285002362376016}\n",
            "36 {'textcat': 0.087515941065476, 'ner': 0.0, 'parser': 0.0, 'tagger': 0.4285002371277046}\n",
            "37 {'textcat': 0.08751699639572053, 'ner': 0.0, 'parser': 0.0, 'tagger': 0.4285002379476965}\n",
            "38 {'textcat': 0.08751768362947132, 'ner': 0.0, 'parser': 0.0, 'tagger': 0.4285002386952258}\n",
            "39 {'textcat': 0.08751813604874314, 'ner': 0.0, 'parser': 0.0, 'tagger': 0.4285002393895694}\n",
            "40 {'textcat': 0.08751843838905415, 'ner': 0.0, 'parser': 0.0, 'tagger': 0.42850024003191456}\n",
            "41 {'textcat': 0.08751864374256968, 'ner': 0.0, 'parser': 0.0, 'tagger': 0.42850024062591974}\n",
            "42 {'textcat': 0.08751878568230609, 'ner': 0.0, 'parser': 0.0, 'tagger': 0.4285002411820016}\n",
            "43 {'textcat': 0.08751888554289167, 'ner': 0.0, 'parser': 0.0, 'tagger': 0.42850024170082}\n",
            "44 {'textcat': 0.08751895706087254, 'ner': 0.0, 'parser': 0.0, 'tagger': 0.42850024218755334}\n",
            "45 {'textcat': 0.08751900920893974, 'ner': 0.0, 'parser': 0.0, 'tagger': 0.42850024264733416}\n",
            "46 {'textcat': 0.08751904791256848, 'ner': 0.0, 'parser': 0.0, 'tagger': 0.4285002430815118}\n",
            "47 {'textcat': 0.08751907714280449, 'ner': 0.0, 'parser': 0.0, 'tagger': 0.428500243494816}\n",
            "48 {'textcat': 0.08751909959739201, 'ner': 0.0, 'parser': 0.0, 'tagger': 0.4285002438855145}\n",
            "49 {'textcat': 0.08751911713235927, 'ner': 0.0, 'parser': 0.0, 'tagger': 0.4285002442573408}\n",
            "50 {'textcat': 0.08751913104238707, 'ner': 0.0, 'parser': 0.0, 'tagger': 0.42850024461271785}\n",
            "51 {'textcat': 0.08751914224595136, 'ner': 0.0, 'parser': 0.0, 'tagger': 0.42850024495153716}\n",
            "52 {'textcat': 0.08751915139856692, 'ner': 0.0, 'parser': 0.0, 'tagger': 0.4285002452716508}\n",
            "53 {'textcat': 0.08751915897952767, 'ner': 0.0, 'parser': 0.0, 'tagger': 0.42850024557727995}\n",
            "54 {'textcat': 0.08751916533971871, 'ner': 0.0, 'parser': 0.0, 'tagger': 0.42850024587338065}\n",
            "55 {'textcat': 0.08751917073945492, 'ner': 0.0, 'parser': 0.0, 'tagger': 0.4285002461552046}\n",
            "56 {'textcat': 0.08751917537652787, 'ner': 0.0, 'parser': 0.0, 'tagger': 0.4285002464295782}\n",
            "57 {'textcat': 0.08751917940004006, 'ner': 0.0, 'parser': 0.0, 'tagger': 0.42850024669546194}\n",
            "58 {'textcat': 0.08751918292598693, 'ner': 0.0, 'parser': 0.0, 'tagger': 0.42850024695162875}\n",
            "59 {'textcat': 0.08751918604394437, 'ner': 0.0, 'parser': 0.0, 'tagger': 0.42850024719638524}\n",
            "60 {'textcat': 0.08751918882501997, 'ner': 0.0, 'parser': 0.0, 'tagger': 0.42850024743476706}\n",
            "61 {'textcat': 0.08751919132546004, 'ner': 0.0, 'parser': 0.0, 'tagger': 0.42850024766374717}\n",
            "62 {'textcat': 0.08751919358973947, 'ner': 0.0, 'parser': 0.0, 'tagger': 0.4285002478865774}\n",
            "63 {'textcat': 0.08751919565451338, 'ner': 0.0, 'parser': 0.0, 'tagger': 0.4285002481058121}\n",
            "64 {'textcat': 0.08751919754858184, 'ner': 0.0, 'parser': 0.0, 'tagger': 0.4285002483154498}\n",
            "65 {'textcat': 0.08751919929622476, 'ner': 0.0, 'parser': 0.0, 'tagger': 0.42850024851954027}\n",
            "66 {'textcat': 0.08751920091717669, 'ner': 0.0, 'parser': 0.0, 'tagger': 0.42850024871727843}\n",
            "67 {'textcat': 0.0875192024281436, 'ner': 0.0, 'parser': 0.0, 'tagger': 0.42850024890985183}\n",
            "68 {'textcat': 0.08751920384301615, 'ner': 0.0, 'parser': 0.0, 'tagger': 0.4285002490970035}\n",
            "69 {'textcat': 0.08751920517364153, 'ner': 0.0, 'parser': 0.0, 'tagger': 0.4285002492794354}\n",
            "70 {'textcat': 0.08751920642945599, 'ner': 0.0, 'parser': 0.0, 'tagger': 0.42850024945720244}\n",
            "71 {'textcat': 0.08751920761887555, 'ner': 0.0, 'parser': 0.0, 'tagger': 0.4285002496317748}\n",
            "72 {'textcat': 0.0875192087492811, 'ner': 0.0, 'parser': 0.0, 'tagger': 0.42850024980031154}\n",
            "73 {'textcat': 0.08751920982687234, 'ner': 0.0, 'parser': 0.0, 'tagger': 0.4285002499644989}\n",
            "74 {'textcat': 0.08751921085685876, 'ner': 0.0, 'parser': 0.0, 'tagger': 0.4285002501258212}\n",
            "75 {'textcat': 0.08751921184376898, 'ner': 0.0, 'parser': 0.0, 'tagger': 0.42850025028342664}\n",
            "76 {'textcat': 0.0875192127915363, 'ner': 0.0, 'parser': 0.0, 'tagger': 0.42850025043762474}\n",
            "77 {'textcat': 0.08751921370382104, 'ner': 0.0, 'parser': 0.0, 'tagger': 0.42850025058700136}\n",
            "78 {'textcat': 0.08751921458361522, 'ner': 0.0, 'parser': 0.0, 'tagger': 0.4285002507333088}\n",
            "79 {'textcat': 0.08751921543382796, 'ner': 0.0, 'parser': 0.0, 'tagger': 0.4285002508768183}\n",
            "80 {'textcat': 0.08751921625636394, 'ner': 0.0, 'parser': 0.0, 'tagger': 0.4285002510191632}\n",
            "81 {'textcat': 0.0875192170535723, 'ner': 0.0, 'parser': 0.0, 'tagger': 0.42850025115702794}\n",
            "82 {'textcat': 0.0875192178272527, 'ner': 0.0, 'parser': 0.0, 'tagger': 0.42850025129141533}\n",
            "83 {'textcat': 0.08751921857907369, 'ner': 0.0, 'parser': 0.0, 'tagger': 0.4285002514225875}\n",
            "84 {'textcat': 0.08751921931038803, 'ner': 0.0, 'parser': 0.0, 'tagger': 0.4285002515509036}\n",
            "85 {'textcat': 0.08751922002273466, 'ner': 0.0, 'parser': 0.0, 'tagger': 0.4285002516770198}\n",
            "86 {'textcat': 0.08751922071710394, 'ner': 0.0, 'parser': 0.0, 'tagger': 0.4285002518004962}\n",
            "87 {'textcat': 0.08751922139454132, 'ner': 0.0, 'parser': 0.0, 'tagger': 0.4285002519213039}\n",
            "88 {'textcat': 0.08751922205620777, 'ner': 0.0, 'parser': 0.0, 'tagger': 0.42850025203966824}\n",
            "89 {'textcat': 0.08751922270283125, 'ner': 0.0, 'parser': 0.0, 'tagger': 0.42850025215689314}\n",
            "90 {'textcat': 0.08751922333521583, 'ner': 0.0, 'parser': 0.0, 'tagger': 0.4285002522708707}\n",
            "91 {'textcat': 0.08751922395396594, 'ner': 0.0, 'parser': 0.0, 'tagger': 0.4285002523827887}\n",
            "92 {'textcat': 0.08751922455979433, 'ner': 0.0, 'parser': 0.0, 'tagger': 0.42850025249201523}\n",
            "93 {'textcat': 0.08751922515318233, 'ner': 0.0, 'parser': 0.0, 'tagger': 0.42850025259757624}\n",
            "94 {'textcat': 0.08751922573493875, 'ner': 0.0, 'parser': 0.0, 'tagger': 0.4285002527017513}\n",
            "95 {'textcat': 0.08751922630530534, 'ner': 0.0, 'parser': 0.0, 'tagger': 0.42850025280529824}\n",
            "96 {'textcat': 0.08751922686489039, 'ner': 0.0, 'parser': 0.0, 'tagger': 0.4285002529069133}\n",
            "97 {'textcat': 0.08751922741375551, 'ner': 0.0, 'parser': 0.0, 'tagger': 0.4285002530066991}\n",
            "98 {'textcat': 0.08751922795279665, 'ner': 0.0, 'parser': 0.0, 'tagger': 0.4285002531052689}\n",
            "99 {'textcat': 0.0875192284820524, 'ner': 0.0, 'parser': 0.0, 'tagger': 0.42850025320266677}\n"
          ],
          "name": "stdout"
        }
      ]
    },
    {
      "cell_type": "code",
      "metadata": {
        "id": "FD_B7ebv96TN",
        "colab_type": "code",
        "colab": {
          "base_uri": "https://localhost:8080/",
          "height": 35
        },
        "outputId": "9101b0e5-5186-4ee8-ce7a-103637517bbe"
      },
      "source": [
        "doc = nlp(u'This is my cat called kittens the kitty')\n",
        "print(doc.cats)"
      ],
      "execution_count": 6,
      "outputs": [
        {
          "output_type": "stream",
          "text": [
            "{'Cat': 0.99357008934021, 'False': 0.0064299581572413445}\n"
          ],
          "name": "stdout"
        }
      ]
    },
    {
      "cell_type": "code",
      "metadata": {
        "id": "mzdvGfbG-Ydh",
        "colab_type": "code",
        "colab": {}
      },
      "source": [
        "TRAIN_DATA = [\n",
        "    (\"beef\", {\"cats\": {\"POSITIVE\": 1.0, \"NEGATIVE\": 0.0}}),\n",
        "    (\"apple\", {\"cats\": {\"POSITIVE\": 0, \"NEGATIVE\": 1}})\n",
        "]"
      ],
      "execution_count": 7,
      "outputs": []
    },
    {
      "cell_type": "code",
      "metadata": {
        "id": "9nI8VZO49i9V",
        "colab_type": "code",
        "colab": {
          "base_uri": "https://localhost:8080/",
          "height": 35
        },
        "outputId": "4e7f79ce-c10a-48cb-afad-4ac4756a498b"
      },
      "source": [
        "otro = nlp(u\"Dude, Totally, Yeah, Video Games\")\n",
        "print(otro.cats)"
      ],
      "execution_count": 8,
      "outputs": [
        {
          "output_type": "stream",
          "text": [
            "{'Cat': 0.00012423779116943479, 'False': 0.9998757839202881}\n"
          ],
          "name": "stdout"
        }
      ]
    },
    {
      "cell_type": "markdown",
      "metadata": {
        "id": "wEBX9L0XgBv9",
        "colab_type": "text"
      },
      "source": [
        "### v. TextBlob"
      ]
    },
    {
      "cell_type": "code",
      "metadata": {
        "id": "ZIeEIxpagqkJ",
        "colab_type": "code",
        "colab": {}
      },
      "source": [
        "from textblob import TextBlob"
      ],
      "execution_count": 9,
      "outputs": []
    },
    {
      "cell_type": "markdown",
      "metadata": {
        "id": "Bi8mvbAAgFhg",
        "colab_type": "text"
      },
      "source": [
        "### vi. Flair"
      ]
    },
    {
      "cell_type": "code",
      "metadata": {
        "id": "G3bdliRrg2kw",
        "colab_type": "code",
        "colab": {
          "base_uri": "https://localhost:8080/",
          "height": 228,
          "referenced_widgets": [
            "e2adb4c682f244768263cb33b3fa1cb2",
            "dafa820dc2944fa29f267da99bd0094e",
            "ed86ffc4998646df8c2f13a196db0f8d",
            "e25090dbc11440f792dae9c4f5c2fa41",
            "32979d67ee384e8bb00019ec52d3f69a",
            "d9975f386f76452dbee1396a15b8bd2d",
            "c0472517595340c1ad0ff1c9475a9e15",
            "7949629c4c064f638b22d58b3484d217",
            "0b762d614add489799e3d25e039cfeca",
            "312d0724af404b85a33d7526ac59b807",
            "fb84a5e0a47c4a11bfdc04bdbf05e2d0",
            "a226a7ebcd4e4d01b6bf3796629e2a09",
            "72de72a29c374931b2234cf3a8417965",
            "70b83c5e4f8a40dc8bf0815b664da490",
            "652587a6ec8348e181620867d78190ce",
            "f814d5103dac4af09ae762c1526e85de"
          ]
        },
        "outputId": "453daf04-e366-4ae0-d914-9d2bf3a24c1b"
      },
      "source": [
        "import flair\n",
        "flair_sent = flair.models.TextClassifier.load('en-sentiment')"
      ],
      "execution_count": 10,
      "outputs": [
        {
          "output_type": "stream",
          "text": [
            "2020-09-11 01:38:48,159 https://nlp.informatik.hu-berlin.de/resources/models/sentiment-curated-distilbert/sentiment-en-mix-distillbert_3.1.pt not found in cache, downloading to /tmp/tmpcaibgjmy\n"
          ],
          "name": "stdout"
        },
        {
          "output_type": "stream",
          "text": [
            "100%|██████████| 266147697/266147697 [00:06<00:00, 39203331.22B/s]"
          ],
          "name": "stderr"
        },
        {
          "output_type": "stream",
          "text": [
            "2020-09-11 01:38:55,014 copying /tmp/tmpcaibgjmy to cache at /root/.flair/models/sentiment-en-mix-distillbert_3.1.pt\n"
          ],
          "name": "stdout"
        },
        {
          "output_type": "stream",
          "text": [
            "\n"
          ],
          "name": "stderr"
        },
        {
          "output_type": "stream",
          "text": [
            "2020-09-11 01:38:55,525 removing temp file /tmp/tmpcaibgjmy\n",
            "2020-09-11 01:38:55,553 loading file /root/.flair/models/sentiment-en-mix-distillbert_3.1.pt\n"
          ],
          "name": "stdout"
        },
        {
          "output_type": "display_data",
          "data": {
            "application/vnd.jupyter.widget-view+json": {
              "model_id": "e2adb4c682f244768263cb33b3fa1cb2",
              "version_minor": 0,
              "version_major": 2
            },
            "text/plain": [
              "HBox(children=(FloatProgress(value=0.0, description='Downloading', max=442.0, style=ProgressStyle(description_…"
            ]
          },
          "metadata": {
            "tags": []
          }
        },
        {
          "output_type": "stream",
          "text": [
            "\n"
          ],
          "name": "stdout"
        },
        {
          "output_type": "display_data",
          "data": {
            "application/vnd.jupyter.widget-view+json": {
              "model_id": "0b762d614add489799e3d25e039cfeca",
              "version_minor": 0,
              "version_major": 2
            },
            "text/plain": [
              "HBox(children=(FloatProgress(value=0.0, description='Downloading', max=231508.0, style=ProgressStyle(descripti…"
            ]
          },
          "metadata": {
            "tags": []
          }
        },
        {
          "output_type": "stream",
          "text": [
            "\n"
          ],
          "name": "stdout"
        }
      ]
    },
    {
      "cell_type": "markdown",
      "metadata": {
        "id": "IvieUPUdgIs1",
        "colab_type": "text"
      },
      "source": [
        "---\n",
        "# **3. Defining functions**\n",
        "---"
      ]
    },
    {
      "cell_type": "code",
      "metadata": {
        "id": "K-nxqDRugBpy",
        "colab_type": "code",
        "colab": {}
      },
      "source": [
        "def siaVader_compound(text):\n",
        "    scores = SIA.polarity_scores(text)\n",
        "    \n",
        "    comp_score = scores['compound']\n",
        "    if comp_score >= 0.05:\n",
        "        str_comp = 'pos'\n",
        "    elif comp_score <= -0.05:\n",
        "        str_comp = 'neg'\n",
        "    else: # (compound score > -0.05) and (compound score < 0.05)\n",
        "        str_comp = 'neu'\n",
        "    return str_comp\n",
        "\n",
        "def siaVader_maxScore(text):\n",
        "    scores = SIA.polarity_scores(text)\n",
        "    \n",
        "    del scores['compound']\n",
        "    index = np.argmax(list(scores.values()))\n",
        "    vader_MaxScore = list(scores.values())[index]\n",
        "    vader_label = list(scores)[index]\n",
        "    \n",
        "    return vader_label\n",
        "\n",
        "###\n",
        "def siaVader_byWord(text):\n",
        "    c = 0\n",
        "    for n, y in enumerate(text):\n",
        "        x = SIA.polarity_scores(y)\n",
        "        if x['compound'] != 0.0:\n",
        "            c += 1\n",
        "            # print('{}. {} {}'.format(c, x, y))\n",
        "            return 'pos' if x > 0.05 else 'neg'"
      ],
      "execution_count": 11,
      "outputs": []
    },
    {
      "cell_type": "code",
      "metadata": {
        "id": "Vfl3Mns-gtfK",
        "colab_type": "code",
        "colab": {}
      },
      "source": [
        "def text_blob_subjective(text):\n",
        "    return TextBlob(text).sentiment"
      ],
      "execution_count": 12,
      "outputs": []
    },
    {
      "cell_type": "code",
      "metadata": {
        "id": "gOyTlhydgI4k",
        "colab_type": "code",
        "colab": {}
      },
      "source": [
        "def flair_lstm(text):\n",
        "    x = flair.data.Sentence(text)\n",
        "    flair_sent.predict(sentences=x)\n",
        "    return x.labels"
      ],
      "execution_count": 13,
      "outputs": []
    },
    {
      "cell_type": "code",
      "metadata": {
        "id": "-fH81bgqHLEh",
        "colab_type": "code",
        "colab": {}
      },
      "source": [
        "def stanza_funct(text):\n",
        "    try:\n",
        "        data = stNLP(text)\n",
        "        for sentence in data.sentences:\n",
        "            return sentence.sentiment\n",
        "    except:\n",
        "        print('{...}', end='; ')"
      ],
      "execution_count": 14,
      "outputs": []
    },
    {
      "cell_type": "markdown",
      "metadata": {
        "id": "CShr2gm0iDS3",
        "colab_type": "text"
      },
      "source": [
        "---\n",
        "\n",
        "# **4. Comparing Sentiment Analyzers**\n",
        "\n",
        "---"
      ]
    },
    {
      "cell_type": "markdown",
      "metadata": {
        "id": "3swCgi6KijqN",
        "colab_type": "text"
      },
      "source": [
        "### **data (text)**"
      ]
    },
    {
      "cell_type": "code",
      "metadata": {
        "id": "2pT9-wk3T3lH",
        "colab_type": "code",
        "colab": {}
      },
      "source": [
        "data = [\n",
        "        'not confident',\n",
        "        'unsure',\n",
        "        'does not handles pressure',\n",
        "        'disordered',\n",
        "        'talks too much',\n",
        "        'uninsterested',\n",
        "        'sad',\n",
        "        'unfriendly',\n",
        "        \n",
        "        'confident',\n",
        "        'certain',\n",
        "        'handles pressure',\n",
        "        'organized',\n",
        "        'concise',\n",
        "        'interested',\n",
        "        'happy',\n",
        "        'friendly'\n",
        "        ]     "
      ],
      "execution_count": 15,
      "outputs": []
    },
    {
      "cell_type": "code",
      "metadata": {
        "id": "RKqOe6UOhb-Y",
        "colab_type": "code",
        "colab": {}
      },
      "source": [
        "#data = \"I'm confident of myself but sometimes I'm unsure and unfriendly however I'm concise when I'm interested in being someone organizated who handles pressure\"\n",
        "#data = data.split()"
      ],
      "execution_count": 16,
      "outputs": []
    },
    {
      "cell_type": "markdown",
      "metadata": {
        "id": "0s4rbwMraWhc",
        "colab_type": "text"
      },
      "source": [
        "### **NLTK Vader**\n",
        "* VADER, has different ratings depending on the form of the word and therefore the input should not be stemmed or lemmatized.\n",
        "\n",
        "* disadvantage of this approach is that Out of Vocab (OOV) words that the sentiment analysis tool has not seen before will not be classified as positive/negative (e.g. typos)."
      ]
    },
    {
      "cell_type": "code",
      "metadata": {
        "id": "PM_KBvUoiUPQ",
        "colab_type": "code",
        "colab": {
          "base_uri": "https://localhost:8080/",
          "height": 35
        },
        "outputId": "760152d0-6f40-4ee4-e96f-b2223f5e3b42"
      },
      "source": [
        "SIA.polarity_scores(' '.join(data))"
      ],
      "execution_count": 17,
      "outputs": [
        {
          "output_type": "execute_result",
          "data": {
            "text/plain": [
              "{'compound': 0.6553, 'neg': 0.271, 'neu': 0.299, 'pos': 0.43}"
            ]
          },
          "metadata": {
            "tags": []
          },
          "execution_count": 17
        }
      ]
    },
    {
      "cell_type": "code",
      "metadata": {
        "id": "RX554uoq2ywa",
        "colab_type": "code",
        "colab": {
          "base_uri": "https://localhost:8080/",
          "height": 74
        },
        "outputId": "76424e4a-3808-4d12-a769-ad41ce5f373a"
      },
      "source": [
        "print(data)\n",
        "print([(lambda x: SIA.polarity_scores(x)['compound'])(x) for x in data])"
      ],
      "execution_count": 18,
      "outputs": [
        {
          "output_type": "stream",
          "text": [
            "['not confident', 'unsure', 'does not handles pressure', 'disordered', 'talks too much', 'uninsterested', 'sad', 'unfriendly', 'confident', 'certain', 'handles pressure', 'organized', 'concise', 'interested', 'happy', 'friendly']\n",
            "[-0.3875, -0.25, 0.2235, 0.0, 0.0, 0.0, -0.4767, -0.3612, 0.4939, 0.2732, -0.296, 0.0, 0.0, 0.4019, 0.5719, 0.4939]\n"
          ],
          "name": "stdout"
        }
      ]
    },
    {
      "cell_type": "code",
      "metadata": {
        "id": "aXWDJN1uiZD1",
        "colab_type": "code",
        "colab": {
          "base_uri": "https://localhost:8080/",
          "height": 35
        },
        "outputId": "a5591654-489c-4b87-ffa3-a945c5cd3a10"
      },
      "source": [
        "siaVader_compound(' '.join(data))"
      ],
      "execution_count": 19,
      "outputs": [
        {
          "output_type": "execute_result",
          "data": {
            "application/vnd.google.colaboratory.intrinsic+json": {
              "type": "string"
            },
            "text/plain": [
              "'pos'"
            ]
          },
          "metadata": {
            "tags": []
          },
          "execution_count": 19
        }
      ]
    },
    {
      "cell_type": "code",
      "metadata": {
        "id": "5N_AoPwl21Ge",
        "colab_type": "code",
        "colab": {
          "base_uri": "https://localhost:8080/",
          "height": 74
        },
        "outputId": "0226b233-ca5e-4abb-8d56-2e5775cd062c"
      },
      "source": [
        "print(data)\n",
        "print([(lambda x: siaVader_compound(x))(x) for x in data])"
      ],
      "execution_count": 20,
      "outputs": [
        {
          "output_type": "stream",
          "text": [
            "['not confident', 'unsure', 'does not handles pressure', 'disordered', 'talks too much', 'uninsterested', 'sad', 'unfriendly', 'confident', 'certain', 'handles pressure', 'organized', 'concise', 'interested', 'happy', 'friendly']\n",
            "['neg', 'neg', 'pos', 'neu', 'neu', 'neu', 'neg', 'neg', 'pos', 'pos', 'neg', 'neu', 'neu', 'pos', 'pos', 'pos']\n"
          ],
          "name": "stdout"
        }
      ]
    },
    {
      "cell_type": "code",
      "metadata": {
        "id": "FE7Pctquifyg",
        "colab_type": "code",
        "colab": {
          "base_uri": "https://localhost:8080/",
          "height": 35
        },
        "outputId": "d20f8113-cf53-4b4d-f41c-4e5140c82c53"
      },
      "source": [
        "siaVader_maxScore(' '.join(data))"
      ],
      "execution_count": 21,
      "outputs": [
        {
          "output_type": "execute_result",
          "data": {
            "application/vnd.google.colaboratory.intrinsic+json": {
              "type": "string"
            },
            "text/plain": [
              "'pos'"
            ]
          },
          "metadata": {
            "tags": []
          },
          "execution_count": 21
        }
      ]
    },
    {
      "cell_type": "code",
      "metadata": {
        "id": "xG7sYB5A3BT4",
        "colab_type": "code",
        "colab": {
          "base_uri": "https://localhost:8080/",
          "height": 74
        },
        "outputId": "df18a003-e1dc-40a2-b8cf-be2daa8185cd"
      },
      "source": [
        "print(data)\n",
        "print([(lambda x: siaVader_maxScore(x))(x) for x in data])"
      ],
      "execution_count": 22,
      "outputs": [
        {
          "output_type": "stream",
          "text": [
            "['not confident', 'unsure', 'does not handles pressure', 'disordered', 'talks too much', 'uninsterested', 'sad', 'unfriendly', 'confident', 'certain', 'handles pressure', 'organized', 'concise', 'interested', 'happy', 'friendly']\n",
            "['neg', 'neg', 'neu', 'neu', 'neu', 'neu', 'neg', 'neg', 'pos', 'pos', 'neg', 'neu', 'neu', 'pos', 'pos', 'pos']\n"
          ],
          "name": "stdout"
        }
      ]
    },
    {
      "cell_type": "markdown",
      "metadata": {
        "id": "ytOKtne0ixoN",
        "colab_type": "text"
      },
      "source": [
        "## **TextBlob**\n",
        "* use a bag of words classifier, but the advantage is that it includes subjetivity analysis (factual/opinated)\n",
        "* it doesn't contain the heuristics that nltk has, it won't intensify or negate a sentence's sentiment\n",
        "\n",
        "* will return the subjectivity of the text"
      ]
    },
    {
      "cell_type": "code",
      "metadata": {
        "id": "yYHpCDQuiw6T",
        "colab_type": "code",
        "colab": {
          "base_uri": "https://localhost:8080/",
          "height": 35
        },
        "outputId": "5aed981c-093e-4776-9626-62e0311cc201"
      },
      "source": [
        "text_blob_subjective(' '.join(data))"
      ],
      "execution_count": 23,
      "outputs": [
        {
          "output_type": "execute_result",
          "data": {
            "text/plain": [
              "Sentiment(polarity=0.1876984126984127, subjectivity=0.6708994708994709)"
            ]
          },
          "metadata": {
            "tags": []
          },
          "execution_count": 23
        }
      ]
    },
    {
      "cell_type": "code",
      "metadata": {
        "id": "wUeSbMr_3KfD",
        "colab_type": "code",
        "colab": {
          "base_uri": "https://localhost:8080/",
          "height": 308
        },
        "outputId": "782730c0-6233-455c-f40a-8acbb1687ce8"
      },
      "source": [
        "[(lambda x: text_blob_subjective(x))(x) for x in data]"
      ],
      "execution_count": 24,
      "outputs": [
        {
          "output_type": "execute_result",
          "data": {
            "text/plain": [
              "[Sentiment(polarity=-0.25, subjectivity=0.8333333333333334),\n",
              " Sentiment(polarity=0.0, subjectivity=0.0),\n",
              " Sentiment(polarity=0.0, subjectivity=0.0),\n",
              " Sentiment(polarity=0.0, subjectivity=0.0),\n",
              " Sentiment(polarity=0.2, subjectivity=0.2),\n",
              " Sentiment(polarity=0.0, subjectivity=0.0),\n",
              " Sentiment(polarity=-0.5, subjectivity=1.0),\n",
              " Sentiment(polarity=0.0, subjectivity=0.0),\n",
              " Sentiment(polarity=0.5, subjectivity=0.8333333333333334),\n",
              " Sentiment(polarity=0.21428571428571427, subjectivity=0.5714285714285714),\n",
              " Sentiment(polarity=0.0, subjectivity=0.0),\n",
              " Sentiment(polarity=0.0, subjectivity=0.0),\n",
              " Sentiment(polarity=0.1, subjectivity=0.6),\n",
              " Sentiment(polarity=0.25, subjectivity=0.5),\n",
              " Sentiment(polarity=0.8, subjectivity=1.0),\n",
              " Sentiment(polarity=0.375, subjectivity=0.5)]"
            ]
          },
          "metadata": {
            "tags": []
          },
          "execution_count": 24
        }
      ]
    },
    {
      "cell_type": "markdown",
      "metadata": {
        "id": "lRwuAr8Ji4uV",
        "colab_type": "text"
      },
      "source": [
        "## **Flair LSTM**\n",
        "* classifier based on a character-leval LSTM. Takes a sequences of letters and words into account when predicting\n",
        "\n",
        "* one of its biggest advantages is that it can predict a sentiment for OOV words that it has never seen before too (such as typos)"
      ]
    },
    {
      "cell_type": "code",
      "metadata": {
        "id": "H-P28QfCiXJ2",
        "colab_type": "code",
        "colab": {
          "base_uri": "https://localhost:8080/",
          "height": 35
        },
        "outputId": "2525fee6-2ca7-4289-f627-68e085fee155"
      },
      "source": [
        "flair_lstm(' '.join(data))"
      ],
      "execution_count": 25,
      "outputs": [
        {
          "output_type": "execute_result",
          "data": {
            "text/plain": [
              "[NEGATIVE (0.9971)]"
            ]
          },
          "metadata": {
            "tags": []
          },
          "execution_count": 25
        }
      ]
    },
    {
      "cell_type": "code",
      "metadata": {
        "id": "bHGmli2_3Vlw",
        "colab_type": "code",
        "colab": {
          "base_uri": "https://localhost:8080/",
          "height": 346
        },
        "outputId": "dcf73acd-de23-4649-cf46-d3159e9bc132"
      },
      "source": [
        "print(data)\n",
        "[(lambda x: flair_lstm(x))(x) for x in data]"
      ],
      "execution_count": 26,
      "outputs": [
        {
          "output_type": "stream",
          "text": [
            "['not confident', 'unsure', 'does not handles pressure', 'disordered', 'talks too much', 'uninsterested', 'sad', 'unfriendly', 'confident', 'certain', 'handles pressure', 'organized', 'concise', 'interested', 'happy', 'friendly']\n"
          ],
          "name": "stdout"
        },
        {
          "output_type": "execute_result",
          "data": {
            "text/plain": [
              "[[NEGATIVE (0.9999)],\n",
              " [NEGATIVE (0.9923)],\n",
              " [NEGATIVE (0.9999)],\n",
              " [NEGATIVE (0.9998)],\n",
              " [NEGATIVE (0.9933)],\n",
              " [NEGATIVE (0.9997)],\n",
              " [NEGATIVE (0.9987)],\n",
              " [NEGATIVE (0.9985)],\n",
              " [POSITIVE (0.9971)],\n",
              " [POSITIVE (0.9888)],\n",
              " [POSITIVE (0.9928)],\n",
              " [POSITIVE (0.996)],\n",
              " [POSITIVE (0.9949)],\n",
              " [POSITIVE (0.9967)],\n",
              " [POSITIVE (0.9839)],\n",
              " [POSITIVE (0.9793)]]"
            ]
          },
          "metadata": {
            "tags": []
          },
          "execution_count": 26
        }
      ]
    },
    {
      "cell_type": "markdown",
      "metadata": {
        "id": "DF5Mt-wrR-Lj",
        "colab_type": "text"
      },
      "source": [
        "## **Stanza**\n",
        "* stanza pipeline by using a CNN classifier.\n",
        "* training this model on 2 class data using higher dimension word vectors achieves the 87 score reported in the original CNN classifier paper. On a three class projection of the SST test data, the model trained on multiple datasets gets 70.0%."
      ]
    },
    {
      "cell_type": "code",
      "metadata": {
        "id": "sgz86Y3FSFrY",
        "colab_type": "code",
        "colab": {
          "base_uri": "https://localhost:8080/",
          "height": 74
        },
        "outputId": "bcdb26c3-939d-4ec3-a33c-93f4aabe94d8"
      },
      "source": [
        "# 0 : neutral\n",
        "# 1 : negative\n",
        "# 2 : positive\n",
        "print(data)\n",
        "[(lambda x: stanza_funct(x))(x) for x in data]"
      ],
      "execution_count": 27,
      "outputs": [
        {
          "output_type": "stream",
          "text": [
            "['not confident', 'unsure', 'does not handles pressure', 'disordered', 'talks too much', 'uninsterested', 'sad', 'unfriendly', 'confident', 'certain', 'handles pressure', 'organized', 'concise', 'interested', 'happy', 'friendly']\n"
          ],
          "name": "stdout"
        },
        {
          "output_type": "execute_result",
          "data": {
            "text/plain": [
              "[0, 1, 0, 1, 0, 1, 0, 0, 2, 2, 1, 1, 1, 2, 2, 2]"
            ]
          },
          "metadata": {
            "tags": []
          },
          "execution_count": 27
        }
      ]
    },
    {
      "cell_type": "markdown",
      "metadata": {
        "id": "zzN_nUW_5zrF",
        "colab_type": "text"
      },
      "source": [
        "---\n",
        "# **5. Graphs**\n",
        "---"
      ]
    },
    {
      "cell_type": "markdown",
      "metadata": {
        "id": "vRcaz7LAdYbq",
        "colab_type": "text"
      },
      "source": [
        "### **X, Y**"
      ]
    },
    {
      "cell_type": "code",
      "metadata": {
        "id": "0N7dy2V-I1b7",
        "colab_type": "code",
        "colab": {}
      },
      "source": [
        "x_plots = data"
      ],
      "execution_count": 28,
      "outputs": []
    },
    {
      "cell_type": "code",
      "metadata": {
        "id": "4LfEOT_17r6s",
        "colab_type": "code",
        "colab": {}
      },
      "source": [
        "y_flair_scores = np.array([x for b in [list(map(lambda x: x.score, score)) for score in [(lambda x: flair_lstm(x))(x) for x in data]] for x in b])"
      ],
      "execution_count": 29,
      "outputs": []
    },
    {
      "cell_type": "code",
      "metadata": {
        "id": "2M62lkw-PXzt",
        "colab_type": "code",
        "colab": {}
      },
      "source": [
        "y_flair_values_aux = [x for b in [list(map(lambda x: x.value, value)) for value in [(lambda x: flair_lstm(x))(x) for x in data]] for x in b]\n",
        "y_flair_values = []\n",
        "for i in y_flair_values_aux:\n",
        "    if i == 'POSITIVE':\n",
        "        y_flair_values.append(1)\n",
        "    else:\n",
        "        y_flair_values.append(-1)\n",
        "y_flair_values = np.array(y_flair_values)"
      ],
      "execution_count": 30,
      "outputs": []
    },
    {
      "cell_type": "code",
      "metadata": {
        "id": "AggCuEG8Ftlp",
        "colab_type": "code",
        "colab": {}
      },
      "source": [
        "y_textblob_sentiment = np.array([(lambda x: text_blob_subjective(x)[0])(x) for x in data])\n",
        "y_textblob_subjectivity = np.array([(lambda x: text_blob_subjective(x)[1])(x) for x in data])"
      ],
      "execution_count": 31,
      "outputs": []
    },
    {
      "cell_type": "code",
      "metadata": {
        "id": "GzKPkYguIx_Y",
        "colab_type": "code",
        "colab": {}
      },
      "source": [
        "y_vader = [(lambda x: SIA.polarity_scores(x)['compound'])(x) for x in data]\n",
        "y_vader = np.array(y_vader)"
      ],
      "execution_count": 32,
      "outputs": []
    },
    {
      "cell_type": "code",
      "metadata": {
        "id": "uNKxjeo1S_9w",
        "colab_type": "code",
        "colab": {}
      },
      "source": [
        "y_stanza_1 = [(lambda x: stanza_funct(x))(x) for x in data]\n",
        "y_stanza = []\n",
        "for i in y_stanza_1:\n",
        "    if i == 2:\n",
        "        y_stanza.append(1)\n",
        "    elif i == 1:\n",
        "        y_stanza.append(0)\n",
        "    else:\n",
        "        y_stanza.append(-1)\n",
        "y_stanza = np.array(y_stanza)"
      ],
      "execution_count": 33,
      "outputs": []
    },
    {
      "cell_type": "markdown",
      "metadata": {
        "id": "TvSDx-PMccBh",
        "colab_type": "text"
      },
      "source": [
        "### **Numpy Array Results**"
      ]
    },
    {
      "cell_type": "code",
      "metadata": {
        "id": "zLOZRMWucl5S",
        "colab_type": "code",
        "colab": {
          "base_uri": "https://localhost:8080/",
          "height": 35
        },
        "outputId": "852f4abb-eefc-4e4c-a731-7ddd39ba528d"
      },
      "source": [
        "y_flair_values"
      ],
      "execution_count": 34,
      "outputs": [
        {
          "output_type": "execute_result",
          "data": {
            "text/plain": [
              "array([-1, -1, -1, -1, -1, -1, -1, -1,  1,  1,  1,  1,  1,  1,  1,  1])"
            ]
          },
          "metadata": {
            "tags": []
          },
          "execution_count": 34
        }
      ]
    },
    {
      "cell_type": "code",
      "metadata": {
        "id": "3G74wv0BVuW2",
        "colab_type": "code",
        "colab": {
          "base_uri": "https://localhost:8080/",
          "height": 90
        },
        "outputId": "8237fc61-b9a2-4cec-febe-08921026a9d6"
      },
      "source": [
        "y_flair_scores"
      ],
      "execution_count": 35,
      "outputs": [
        {
          "output_type": "execute_result",
          "data": {
            "text/plain": [
              "array([0.99985647, 0.99227095, 0.99994195, 0.99975961, 0.99328858,\n",
              "       0.9997341 , 0.99871314, 0.99850661, 0.99709618, 0.98880416,\n",
              "       0.99275267, 0.99604756, 0.99489635, 0.9967128 , 0.98393667,\n",
              "       0.97929859])"
            ]
          },
          "metadata": {
            "tags": []
          },
          "execution_count": 35
        }
      ]
    },
    {
      "cell_type": "code",
      "metadata": {
        "id": "Qt7fQ1JjcjAP",
        "colab_type": "code",
        "colab": {
          "base_uri": "https://localhost:8080/",
          "height": 90
        },
        "outputId": "ef1dbc7c-ae0d-48a8-df23-2b62104200d3"
      },
      "source": [
        "y_textblob_sentiment"
      ],
      "execution_count": 36,
      "outputs": [
        {
          "output_type": "execute_result",
          "data": {
            "text/plain": [
              "array([-0.25      ,  0.        ,  0.        ,  0.        ,  0.2       ,\n",
              "        0.        , -0.5       ,  0.        ,  0.5       ,  0.21428571,\n",
              "        0.        ,  0.        ,  0.1       ,  0.25      ,  0.8       ,\n",
              "        0.375     ])"
            ]
          },
          "metadata": {
            "tags": []
          },
          "execution_count": 36
        }
      ]
    },
    {
      "cell_type": "code",
      "metadata": {
        "id": "AyzffYWucggu",
        "colab_type": "code",
        "colab": {
          "base_uri": "https://localhost:8080/",
          "height": 90
        },
        "outputId": "a624a14f-1f04-40ce-a393-a49d05e9e7f7"
      },
      "source": [
        "y_textblob_subjectivity"
      ],
      "execution_count": 37,
      "outputs": [
        {
          "output_type": "execute_result",
          "data": {
            "text/plain": [
              "array([0.83333333, 0.        , 0.        , 0.        , 0.2       ,\n",
              "       0.        , 1.        , 0.        , 0.83333333, 0.57142857,\n",
              "       0.        , 0.        , 0.6       , 0.5       , 1.        ,\n",
              "       0.5       ])"
            ]
          },
          "metadata": {
            "tags": []
          },
          "execution_count": 37
        }
      ]
    },
    {
      "cell_type": "code",
      "metadata": {
        "id": "tkXXaJuCcnXV",
        "colab_type": "code",
        "colab": {
          "base_uri": "https://localhost:8080/",
          "height": 35
        },
        "outputId": "b335d115-0e46-4b3b-9d61-3e31b41c26ff"
      },
      "source": [
        "y_stanza"
      ],
      "execution_count": 38,
      "outputs": [
        {
          "output_type": "execute_result",
          "data": {
            "text/plain": [
              "array([-1,  0, -1,  0, -1,  0, -1, -1,  1,  1,  0,  0,  0,  1,  1,  1])"
            ]
          },
          "metadata": {
            "tags": []
          },
          "execution_count": 38
        }
      ]
    },
    {
      "cell_type": "markdown",
      "metadata": {
        "id": "-3OGWkqMCypV",
        "colab_type": "text"
      },
      "source": [
        "## **Plotting bars**"
      ]
    },
    {
      "cell_type": "code",
      "metadata": {
        "id": "QW48_H7-_v1H",
        "colab_type": "code",
        "colab": {}
      },
      "source": [
        "def plot_bar(p1y, p2y, p3y, p4y, p5y, x, size):\n",
        "    plt.figure(figsize=size)\n",
        "    plt.bar(x, p1y, label='Flair', color='red')\n",
        "    plt.bar(x, p2y, label='TextBlob', color='blue')\n",
        "    plt.bar(x, p3y, label='Subjectivity', color='purple')\n",
        "    plt.bar(x, p4y, label='Vader', color='green')\n",
        "    plt.bar(x, p5y, label='Stanza', color='grey')\n",
        "    plt.title('NLP SCORES PREDICTION vs WORDS')\n",
        "    plt.xlabel('SENTENCE')\n",
        "    plt.ylabel('SCORES')\n",
        "    plt.legend(loc='upper left')\n",
        "    plt.xticks(rotation='vertical')\n",
        "    plt.tight_layout()\n",
        "    plt.grid(True)\n",
        "\n",
        "    plt.show()"
      ],
      "execution_count": 39,
      "outputs": []
    },
    {
      "cell_type": "code",
      "metadata": {
        "id": "ZQGZL70JCxnD",
        "colab_type": "code",
        "colab": {
          "base_uri": "https://localhost:8080/",
          "height": 585
        },
        "outputId": "00d2a391-06dd-4087-9c68-08e6db6d8df7"
      },
      "source": [
        "plot_bar(\n",
        "    p1y=y_flair_values,\n",
        "    p2y=y_textblob_sentiment,\n",
        "    p3y=y_textblob_subjectivity,\n",
        "    p4y=y_vader,\n",
        "    p5y=y_stanza,\n",
        "    x=x_plots,\n",
        "    size=(16,  8)\n",
        ")"
      ],
      "execution_count": 40,
      "outputs": [
        {
          "output_type": "display_data",
          "data": {
            "image/png": "[encoded data removed]",
            "text/plain": [
              "<Figure size 1152x576 with 1 Axes>"
            ]
          },
          "metadata": {
            "tags": [],
            "needs_background": "light"
          }
        }
      ]
    },
    {
      "cell_type": "markdown",
      "metadata": {
        "id": "xIJE1JOgC4HR",
        "colab_type": "text"
      },
      "source": [
        "## **Plotting lines**"
      ]
    },
    {
      "cell_type": "code",
      "metadata": {
        "id": "YSQ9W6c6A-Fp",
        "colab_type": "code",
        "colab": {}
      },
      "source": [
        "def plot_lines(p1y, p2y, p3y, p4y, p5y, x, size):\n",
        "    plt.figure(figsize=size)\n",
        "    plt.plot(x, p1y, linestyle='solid', color='red', label='Flair')\n",
        "    plt.plot(x, p2y, linestyle='solid', color='blue', label='TextBlob')\n",
        "    plt.plot(x, p3y, linestyle='dashed', color='purple', label='Subjectivity')\n",
        "    plt.plot(x, p4y, linestyle='solid', color='green', label='Vader')\n",
        "    plt.plot(x, p5y, linestyle='solid', color='black', label='Stanza')\n",
        "    plt.title('NLP SCORES PREDICTION vs WORDS')\n",
        "    plt.xlabel('SENTENCE')\n",
        "    plt.ylabel('SCORES')\n",
        "    plt.legend()\n",
        "    plt.xticks(size=10, rotation='vertical')\n",
        "    plt.yticks(size=10)\n",
        "    plt.grid(True)\n",
        "    \n",
        "    plt.show()"
      ],
      "execution_count": 41,
      "outputs": []
    },
    {
      "cell_type": "code",
      "metadata": {
        "id": "rzZBWMa8CPga",
        "colab_type": "code",
        "colab": {
          "base_uri": "https://localhost:8080/",
          "height": 744
        },
        "outputId": "d0ebce19-008b-44a8-93a3-cea01fb2ef2b"
      },
      "source": [
        "plot_lines(\n",
        "    p1y=y_flair_values,\n",
        "    p2y=y_textblob_sentiment,\n",
        "    p3y=y_textblob_subjectivity,\n",
        "    p4y=y_vader,\n",
        "    p5y=y_stanza,\n",
        "    x=x_plots,\n",
        "    size=(20,  10)\n",
        ")"
      ],
      "execution_count": 42,
      "outputs": [
        {
          "output_type": "display_data",
          "data": {
            "image/png": "[encoded data removed]",
            "text/plain": [
              "<Figure size 1440x720 with 1 Axes>"
            ]
          },
          "metadata": {
            "tags": [],
            "needs_background": "light"
          }
        }
      ]
    },
    {
      "cell_type": "code",
      "metadata": {
        "id": "4QcrDh0gN8My",
        "colab_type": "code",
        "colab": {}
      },
      "source": [
        "def plot_flair(x, y):\n",
        "    plt.figure(figsize=(10, 8))\n",
        "    plt.plot(x, y, linestyle='solid', color='red', label='Flair')\n",
        "    plt.title('Flair LSTM accuracy')\n",
        "    plt.xlabel('SENTENCE')\n",
        "    plt.ylabel('ACCURACY')\n",
        "    plt.legend()\n",
        "    plt.xticks(size=10, rotation='vertical')\n",
        "    plt.yticks(size=10)\n",
        "    plt.grid(True)\n",
        "    \n",
        "    plt.show()"
      ],
      "execution_count": 43,
      "outputs": []
    },
    {
      "cell_type": "code",
      "metadata": {
        "id": "ep93M8Y6OLTc",
        "colab_type": "code",
        "colab": {
          "base_uri": "https://localhost:8080/",
          "height": 635
        },
        "outputId": "dd2239bb-5cb1-4ecd-c647-e439db2411ea"
      },
      "source": [
        "plot_flair(x_plots, y_flair_scores)"
      ],
      "execution_count": 44,
      "outputs": [
        {
          "output_type": "display_data",
          "data": {
            "image/png": "[encoded data removed]",
            "text/plain": [
              "<Figure size 720x576 with 1 Axes>"
            ]
          },
          "metadata": {
            "tags": [],
            "needs_background": "light"
          }
        }
      ]
    },
    {
      "cell_type": "markdown",
      "metadata": {
        "id": "PJ2Vnc03caRH",
        "colab_type": "text"
      },
      "source": [
        "---\n",
        "# **6. Brief positive conclusion**\n",
        "---\n",
        "\n",
        "1. **Flair** is great because the properties of the LSTM model: takes into account sequences of letters and words when predicting\n",
        "2. **TextBlob** subjectivity works great\n",
        "3. **Vader** & **Stanza (CNN)** are great to detect particular and intense positive or negative words\n",
        "\n",
        "---\n",
        "\n",
        "## To-do:\n",
        "* SpaCy categorization\n",
        "---"
      ]
    },
    {
      "cell_type": "markdown",
      "metadata": {
        "id": "KzioWbR7AUpS",
        "colab_type": "text"
      },
      "source": [
        "---\n",
        "# **7. Preprocessing with each word**\n",
        "---"
      ]
    },
    {
      "cell_type": "markdown",
      "metadata": {
        "id": "0NHiufg9du6z",
        "colab_type": "text"
      },
      "source": [
        "Words play a central role in language and thought. Several influential factor analysis studies have shown that\n",
        "the primary dimensions of word meaning are valence, arousal, and dominance (VAD).\n",
        "- valence is the positive--negative or pleasure--displeasure dimension; \n",
        "- arousal is the excited--calm or active--passive dimension; \n",
        "- dominance is the powerful--weak or 'have control'--'have no control' dimension."
      ]
    },
    {
      "cell_type": "markdown",
      "metadata": {
        "id": "3X5G5k2KCtG5",
        "colab_type": "text"
      },
      "source": [
        "\n",
        "\n",
        "```\n",
        "Each line has the following format:\n",
        "<AffectCategory><tab><term><tab><score>\n",
        "<AffectCategory> is one of eight emotions (anger, fear, anticipation, trust, surprise, sadness, joy, or disgust).\n",
        "<term> is a word for which emotion associations are provided.\n",
        "<score> is a value that indicates the strength of association between the <term> and the <AffectCategory>.\n",
        "The higher the value, the stronger is the association. Refer to the publications below for details on how the score is calculated.\n",
        "```\n",
        "\n"
      ]
    },
    {
      "cell_type": "markdown",
      "metadata": {
        "id": "6d6AwXxqC2my",
        "colab_type": "text"
      },
      "source": [
        "## Loading datasets lexicon"
      ]
    },
    {
      "cell_type": "code",
      "metadata": {
        "id": "9GEAyOd5AbQ5",
        "colab_type": "code",
        "colab": {}
      },
      "source": [
        "df_NRC_Hashtag = pd.read_csv('./datasets/NRC-Hashtag-Emotion-Lexicon-v0.2.csv', sep='\\t')"
      ],
      "execution_count": 45,
      "outputs": []
    },
    {
      "cell_type": "code",
      "metadata": {
        "id": "cXF0GuaRD6Ze",
        "colab_type": "code",
        "colab": {}
      },
      "source": [
        "df_NRC_Emotion_Intensity = pd.read_csv('./datasets/NRC-Emotion-Intensity-Lexicon-v1.csv', sep='\\t')"
      ],
      "execution_count": 46,
      "outputs": []
    },
    {
      "cell_type": "code",
      "metadata": {
        "id": "35Gnwnh0FcsW",
        "colab_type": "code",
        "colab": {}
      },
      "source": [
        "df_NRC_Emotion_Wordlevel = pd.read_csv('./datasets/NRC-Emotion-Lexicon-Wordlevel-v0.92.csv', sep='\\t')"
      ],
      "execution_count": 47,
      "outputs": []
    },
    {
      "cell_type": "code",
      "metadata": {
        "id": "Wyx1mLNZIonH",
        "colab_type": "code",
        "colab": {}
      },
      "source": [
        "# by sentece\n",
        "df_isear = pd.read_csv('./datasets/isear.csv', sep='|', error_bad_lines=False, usecols=['SIT', 'Field1'])"
      ],
      "execution_count": 48,
      "outputs": []
    },
    {
      "cell_type": "markdown",
      "metadata": {
        "id": "q41VXRC7jajt",
        "colab_type": "text"
      },
      "source": [
        "### Column names & merge (concatenate)"
      ]
    },
    {
      "cell_type": "code",
      "metadata": {
        "id": "xGysG-wPjHJA",
        "colab_type": "code",
        "colab": {}
      },
      "source": [
        "df_NRC_Hashtag.columns = ['category', 'word', 'score']\n",
        "df_NRC_Emotion_Intensity.columns = ['word', 'category', 'score']\n",
        "df_NRC_Emotion_Wordlevel.columns = ['word', 'category', 'score']\n",
        "df_isear.columns = ['category', 'sentence']"
      ],
      "execution_count": 49,
      "outputs": []
    },
    {
      "cell_type": "code",
      "metadata": {
        "id": "4md9q6gEjZp-",
        "colab_type": "code",
        "colab": {}
      },
      "source": [
        "df_concat = pd.concat(objs=[df_NRC_Hashtag, df_NRC_Emotion_Intensity, df_NRC_Emotion_Wordlevel], ignore_index=True)"
      ],
      "execution_count": 50,
      "outputs": []
    },
    {
      "cell_type": "markdown",
      "metadata": {
        "id": "PR3KvHPdldR8",
        "colab_type": "text"
      },
      "source": [
        "### Sorting concatenated dataset"
      ]
    },
    {
      "cell_type": "code",
      "metadata": {
        "id": "42KQW7b0mZwy",
        "colab_type": "code",
        "colab": {}
      },
      "source": [
        "df_concat = df_concat.sort_values(by=['category'], ascending=True, ignore_index=True)"
      ],
      "execution_count": 51,
      "outputs": []
    },
    {
      "cell_type": "markdown",
      "metadata": {
        "id": "Z43w3eZ8DYm_",
        "colab_type": "text"
      },
      "source": [
        "### Labels lexicon"
      ]
    },
    {
      "cell_type": "code",
      "metadata": {
        "id": "c-qfYSfEj-Uf",
        "colab_type": "code",
        "colab": {}
      },
      "source": [
        "df_concat_labels = list(set(df_concat.category))"
      ],
      "execution_count": 52,
      "outputs": []
    },
    {
      "cell_type": "code",
      "metadata": {
        "id": "H8d9G0WbDCOB",
        "colab_type": "code",
        "colab": {
          "base_uri": "https://localhost:8080/",
          "height": 163
        },
        "outputId": "7692148e-0607-40e0-9d8f-a55851ce7860"
      },
      "source": [
        "lexicon_labels = list(set(df_NRC_Hashtag.category))\n",
        "lexicon_labels"
      ],
      "execution_count": 53,
      "outputs": [
        {
          "output_type": "execute_result",
          "data": {
            "text/plain": [
              "['surprise',\n",
              " 'anger',\n",
              " 'anticipation',\n",
              " 'sadness',\n",
              " 'fear',\n",
              " 'trust',\n",
              " 'joy',\n",
              " 'disgust']"
            ]
          },
          "metadata": {
            "tags": []
          },
          "execution_count": 53
        }
      ]
    },
    {
      "cell_type": "code",
      "metadata": {
        "id": "VG76CucbLbAc",
        "colab_type": "code",
        "colab": {
          "base_uri": "https://localhost:8080/",
          "height": 35
        },
        "outputId": "5befd79d-21c2-4d9c-94c6-38f892b75511"
      },
      "source": [
        "lexicon_labels_isear = list(set(df_isear.category))\n",
        "lexicon_labels_isear"
      ],
      "execution_count": 54,
      "outputs": [
        {
          "output_type": "execute_result",
          "data": {
            "text/plain": [
              "['guilt', 'shame', 'anger', 'sadness', 'fear', 'joy', 'disgust']"
            ]
          },
          "metadata": {
            "tags": []
          },
          "execution_count": 54
        }
      ]
    },
    {
      "cell_type": "markdown",
      "metadata": {
        "id": "Xplz0LgYGXAw",
        "colab_type": "text"
      },
      "source": [
        "## Loading datasets Valence Arousal Dominance"
      ]
    },
    {
      "cell_type": "code",
      "metadata": {
        "id": "mAiy7liZGV87",
        "colab_type": "code",
        "colab": {}
      },
      "source": [
        "# by word\n",
        "df_NRC_VAD_Lexicon = pd.read_csv('./datasets/NRC-VAD-Lexicon.csv', sep='\\t')"
      ],
      "execution_count": 55,
      "outputs": []
    },
    {
      "cell_type": "code",
      "metadata": {
        "id": "1rU29vy7RggR",
        "colab_type": "code",
        "colab": {
          "base_uri": "https://localhost:8080/",
          "height": 78
        },
        "outputId": "377b447e-c18d-4650-9b77-57c39048995c"
      },
      "source": [
        "df_NRC_VAD_Lexicon[df_NRC_VAD_Lexicon['Word'].str.contains('extremely positive', na=False)]"
      ],
      "execution_count": 56,
      "outputs": [
        {
          "output_type": "execute_result",
          "data": {
            "text/html": [
              "<div>\n",
              "<style scoped>\n",
              "    .dataframe tbody tr th:only-of-type {\n",
              "        vertical-align: middle;\n",
              "    }\n",
              "\n",
              "    .dataframe tbody tr th {\n",
              "        vertical-align: top;\n",
              "    }\n",
              "\n",
              "    .dataframe thead th {\n",
              "        text-align: right;\n",
              "    }\n",
              "</style>\n",
              "<table border=\"1\" class=\"dataframe\">\n",
              "  <thead>\n",
              "    <tr style=\"text-align: right;\">\n",
              "      <th></th>\n",
              "      <th>Word</th>\n",
              "      <th>Valence</th>\n",
              "      <th>Arousal</th>\n",
              "      <th>Dominance</th>\n",
              "    </tr>\n",
              "  </thead>\n",
              "  <tbody>\n",
              "    <tr>\n",
              "      <th>6384</th>\n",
              "      <td>extremely positive</td>\n",
              "      <td>0.993</td>\n",
              "      <td>0.73</td>\n",
              "      <td>0.839</td>\n",
              "    </tr>\n",
              "  </tbody>\n",
              "</table>\n",
              "</div>"
            ],
            "text/plain": [
              "                    Word  Valence  Arousal  Dominance\n",
              "6384  extremely positive    0.993     0.73      0.839"
            ]
          },
          "metadata": {
            "tags": []
          },
          "execution_count": 56
        }
      ]
    },
    {
      "cell_type": "code",
      "metadata": {
        "id": "CoW58n78PiZU",
        "colab_type": "code",
        "colab": {
          "base_uri": "https://localhost:8080/",
          "height": 48
        },
        "outputId": "3c1d1ccb-e460-4436-9dad-d20356302de6"
      },
      "source": [
        "df_NRC_VAD_Lexicon[df_NRC_VAD_Lexicon['Word'].str.contains('extremely disgust', na=False)]"
      ],
      "execution_count": 57,
      "outputs": [
        {
          "output_type": "execute_result",
          "data": {
            "text/html": [
              "<div>\n",
              "<style scoped>\n",
              "    .dataframe tbody tr th:only-of-type {\n",
              "        vertical-align: middle;\n",
              "    }\n",
              "\n",
              "    .dataframe tbody tr th {\n",
              "        vertical-align: top;\n",
              "    }\n",
              "\n",
              "    .dataframe thead th {\n",
              "        text-align: right;\n",
              "    }\n",
              "</style>\n",
              "<table border=\"1\" class=\"dataframe\">\n",
              "  <thead>\n",
              "    <tr style=\"text-align: right;\">\n",
              "      <th></th>\n",
              "      <th>Word</th>\n",
              "      <th>Valence</th>\n",
              "      <th>Arousal</th>\n",
              "      <th>Dominance</th>\n",
              "    </tr>\n",
              "  </thead>\n",
              "  <tbody>\n",
              "  </tbody>\n",
              "</table>\n",
              "</div>"
            ],
            "text/plain": [
              "Empty DataFrame\n",
              "Columns: [Word, Valence, Arousal, Dominance]\n",
              "Index: []"
            ]
          },
          "metadata": {
            "tags": []
          },
          "execution_count": 57
        }
      ]
    },
    {
      "cell_type": "code",
      "metadata": {
        "id": "6t3zPaWaMN2c",
        "colab_type": "code",
        "colab": {}
      },
      "source": [
        "# by sentence \n",
        "df_emobank = pd.read_csv('./datasets/emobank.csv', sep=',', usecols=['split', 'text', 'V', 'A', 'D'])"
      ],
      "execution_count": 58,
      "outputs": []
    },
    {
      "cell_type": "code",
      "metadata": {
        "id": "ZcZVQMJ-fkzm",
        "colab_type": "code",
        "colab": {
          "base_uri": "https://localhost:8080/",
          "height": 407
        },
        "outputId": "4ebcafc2-6b1a-4237-90bd-5ddf2e3fc0fd"
      },
      "source": [
        "df_emobank"
      ],
      "execution_count": 59,
      "outputs": [
        {
          "output_type": "execute_result",
          "data": {
            "text/html": [
              "<div>\n",
              "<style scoped>\n",
              "    .dataframe tbody tr th:only-of-type {\n",
              "        vertical-align: middle;\n",
              "    }\n",
              "\n",
              "    .dataframe tbody tr th {\n",
              "        vertical-align: top;\n",
              "    }\n",
              "\n",
              "    .dataframe thead th {\n",
              "        text-align: right;\n",
              "    }\n",
              "</style>\n",
              "<table border=\"1\" class=\"dataframe\">\n",
              "  <thead>\n",
              "    <tr style=\"text-align: right;\">\n",
              "      <th></th>\n",
              "      <th>split</th>\n",
              "      <th>V</th>\n",
              "      <th>A</th>\n",
              "      <th>D</th>\n",
              "      <th>text</th>\n",
              "    </tr>\n",
              "  </thead>\n",
              "  <tbody>\n",
              "    <tr>\n",
              "      <th>0</th>\n",
              "      <td>train</td>\n",
              "      <td>3.00</td>\n",
              "      <td>3.00</td>\n",
              "      <td>3.20</td>\n",
              "      <td>Remember what she said in my last letter? \"</td>\n",
              "    </tr>\n",
              "    <tr>\n",
              "      <th>1</th>\n",
              "      <td>test</td>\n",
              "      <td>2.80</td>\n",
              "      <td>3.10</td>\n",
              "      <td>2.80</td>\n",
              "      <td>If I wasn't working here.</td>\n",
              "    </tr>\n",
              "    <tr>\n",
              "      <th>2</th>\n",
              "      <td>train</td>\n",
              "      <td>3.00</td>\n",
              "      <td>3.00</td>\n",
              "      <td>3.00</td>\n",
              "      <td>..\"</td>\n",
              "    </tr>\n",
              "    <tr>\n",
              "      <th>3</th>\n",
              "      <td>train</td>\n",
              "      <td>3.44</td>\n",
              "      <td>3.00</td>\n",
              "      <td>3.22</td>\n",
              "      <td>Goodwill helps people get off of public assist...</td>\n",
              "    </tr>\n",
              "    <tr>\n",
              "      <th>4</th>\n",
              "      <td>train</td>\n",
              "      <td>3.55</td>\n",
              "      <td>3.27</td>\n",
              "      <td>3.46</td>\n",
              "      <td>Sherry learned through our Future Works class ...</td>\n",
              "    </tr>\n",
              "    <tr>\n",
              "      <th>...</th>\n",
              "      <td>...</td>\n",
              "      <td>...</td>\n",
              "      <td>...</td>\n",
              "      <td>...</td>\n",
              "      <td>...</td>\n",
              "    </tr>\n",
              "    <tr>\n",
              "      <th>10057</th>\n",
              "      <td>train</td>\n",
              "      <td>3.00</td>\n",
              "      <td>3.50</td>\n",
              "      <td>3.00</td>\n",
              "      <td>Please let it be a constant reminder of all yo...</td>\n",
              "    </tr>\n",
              "    <tr>\n",
              "      <th>10058</th>\n",
              "      <td>train</td>\n",
              "      <td>3.80</td>\n",
              "      <td>3.40</td>\n",
              "      <td>3.60</td>\n",
              "      <td>That’s why I want to extend my appreciation fo...</td>\n",
              "    </tr>\n",
              "    <tr>\n",
              "      <th>10059</th>\n",
              "      <td>train</td>\n",
              "      <td>3.00</td>\n",
              "      <td>3.00</td>\n",
              "      <td>3.10</td>\n",
              "      <td>And why I’m writing you today to ask you to re...</td>\n",
              "    </tr>\n",
              "    <tr>\n",
              "      <th>10060</th>\n",
              "      <td>train</td>\n",
              "      <td>3.33</td>\n",
              "      <td>3.44</td>\n",
              "      <td>3.44</td>\n",
              "      <td>In fact, I want to urge you to strengthen your...</td>\n",
              "    </tr>\n",
              "    <tr>\n",
              "      <th>10061</th>\n",
              "      <td>train</td>\n",
              "      <td>3.43</td>\n",
              "      <td>3.71</td>\n",
              "      <td>3.29</td>\n",
              "      <td>With your increased commitment, we can move fo...</td>\n",
              "    </tr>\n",
              "  </tbody>\n",
              "</table>\n",
              "<p>10062 rows × 5 columns</p>\n",
              "</div>"
            ],
            "text/plain": [
              "       split     V  ...     D                                               text\n",
              "0      train  3.00  ...  3.20        Remember what she said in my last letter? \"\n",
              "1       test  2.80  ...  2.80                          If I wasn't working here.\n",
              "2      train  3.00  ...  3.00                                                ..\"\n",
              "3      train  3.44  ...  3.22  Goodwill helps people get off of public assist...\n",
              "4      train  3.55  ...  3.46  Sherry learned through our Future Works class ...\n",
              "...      ...   ...  ...   ...                                                ...\n",
              "10057  train  3.00  ...  3.00  Please let it be a constant reminder of all yo...\n",
              "10058  train  3.80  ...  3.60  That’s why I want to extend my appreciation fo...\n",
              "10059  train  3.00  ...  3.10  And why I’m writing you today to ask you to re...\n",
              "10060  train  3.33  ...  3.44  In fact, I want to urge you to strengthen your...\n",
              "10061  train  3.43  ...  3.29  With your increased commitment, we can move fo...\n",
              "\n",
              "[10062 rows x 5 columns]"
            ]
          },
          "metadata": {
            "tags": []
          },
          "execution_count": 59
        }
      ]
    },
    {
      "cell_type": "markdown",
      "metadata": {
        "id": "UPoSp8f6nsJu",
        "colab_type": "text"
      },
      "source": [
        "### Column names"
      ]
    },
    {
      "cell_type": "code",
      "metadata": {
        "id": "4BcHH38Gnb0c",
        "colab_type": "code",
        "colab": {}
      },
      "source": [
        "df_NRC_VAD_Lexicon.columns = ['word', 'Valence', 'Arousal', 'Dominance']\n",
        "df_emobank.columns = ['split', 'Valence', 'Arousal', 'Dominance', 'sentece']"
      ],
      "execution_count": 60,
      "outputs": []
    },
    {
      "cell_type": "markdown",
      "metadata": {
        "id": "9xCKFAquoPo5",
        "colab_type": "text"
      },
      "source": [
        "## Graphs about categories (simple plot & bar)"
      ]
    },
    {
      "cell_type": "code",
      "metadata": {
        "id": "-378GqCBVXSU",
        "colab_type": "code",
        "colab": {}
      },
      "source": [
        "x = ['not confident',\n",
        " 'unsure',\n",
        " \"can't handle pressure\", # have not control\n",
        " 'disordered',\n",
        " 'talks to much',\n",
        " 'uninsterested',\n",
        " 'sad',\n",
        " 'unfriendly',\n",
        " 'confident',\n",
        " 'certain',\n",
        " 'can handles pressure', # have control\n",
        " 'organized',\n",
        " 'concise',\n",
        " 'interested',\n",
        " 'happy',\n",
        " 'friendly']\n",
        "xlst = [(lambda i: SIA.polarity_scores(i)['compound'])(i) for i in x]"
      ],
      "execution_count": 61,
      "outputs": []
    },
    {
      "cell_type": "code",
      "metadata": {
        "id": "IzY-Zn-lVkkM",
        "colab_type": "code",
        "colab": {}
      },
      "source": [
        "def simple_plot(x, y):\n",
        "    plt.figure(figsize=(16, 8))\n",
        "    plt.plot(x, y, linestyle='solid', color='red')\n",
        "    plt.xlabel('labels')\n",
        "    plt.ylabel('scores')\n",
        "    plt.legend(loc='upper left')\n",
        "    plt.xticks(size=10, rotation='vertical')\n",
        "    plt.yticks(size=10)\n",
        "    plt.grid(b=True)\n",
        "\n",
        "    plt.show()\n",
        "\n",
        "def simple_bar(x, y, size):\n",
        "    plt.figure(figsize=size)\n",
        "    plt.bar(x, y, linestyle='solid', color='red')\n",
        "    plt.xlabel('labels')\n",
        "    plt.ylabel('scores')\n",
        "    plt.legend(loc='upper left')\n",
        "    plt.xticks(size=10, rotation='vertical')\n",
        "    plt.yticks(size=10)\n",
        "    plt.grid(b=True)\n",
        "\n",
        "    plt.show()"
      ],
      "execution_count": 62,
      "outputs": []
    },
    {
      "cell_type": "code",
      "metadata": {
        "id": "SZTgGQerKtiL",
        "colab_type": "code",
        "colab": {
          "base_uri": "https://localhost:8080/",
          "height": 613
        },
        "outputId": "6fb1da3f-3609-4983-b174-bfaa9be07856"
      },
      "source": [
        "simple_plot(x, xlst)"
      ],
      "execution_count": 63,
      "outputs": [
        {
          "output_type": "stream",
          "text": [
            "No handles with labels found to put in legend.\n"
          ],
          "name": "stderr"
        },
        {
          "output_type": "display_data",
          "data": {
            "image/png": "[encoded data removed]",
            "text/plain": [
              "<Figure size 1152x576 with 1 Axes>"
            ]
          },
          "metadata": {
            "tags": [],
            "needs_background": "light"
          }
        }
      ]
    },
    {
      "cell_type": "code",
      "metadata": {
        "id": "imYzewAkW37a",
        "colab_type": "code",
        "colab": {
          "base_uri": "https://localhost:8080/",
          "height": 35
        },
        "outputId": "6a5fab27-89ee-4832-cd6d-84ebf601bf64"
      },
      "source": [
        "print(xlst, end=', ')"
      ],
      "execution_count": 64,
      "outputs": [
        {
          "output_type": "stream",
          "text": [
            "[-0.3875, -0.25, 0.2235, 0.0, 0.0, 0.0, -0.4767, -0.3612, 0.4939, 0.2732, -0.296, 0.0, 0.0, 0.4019, 0.5719, 0.4939], "
          ],
          "name": "stdout"
        }
      ]
    },
    {
      "cell_type": "markdown",
      "metadata": {
        "id": "Z0V0kPjDGcoI",
        "colab_type": "text"
      },
      "source": [
        "---\n",
        "# **8. Preprocessing dataframe concatenated**\n",
        "---"
      ]
    },
    {
      "cell_type": "code",
      "metadata": {
        "id": "qJ0DzxU5FlxX",
        "colab_type": "code",
        "colab": {}
      },
      "source": [
        "def preprocessing_characteres(df, c):\n",
        "    df[c] = df[c].apply(lambda x: re.sub(\"[^a-zA-Z]\", \" \", str(x)))\n",
        "    df[c] = df[c].str.lower()\n",
        "    df[c] = df[c].apply(lambda x: re.sub(r'(@[A-Za-z0-9]+)|([^0-9A-Za-zÁ-Úá-ú \\t])|(\\w+:\\/\\/\\S+)|^rt|http.+?%', '', x))\n",
        "\n",
        "    return df"
      ],
      "execution_count": 65,
      "outputs": []
    },
    {
      "cell_type": "code",
      "metadata": {
        "id": "HaC2Ywz8GOQx",
        "colab_type": "code",
        "colab": {}
      },
      "source": [
        "df = preprocessing_characteres(df_concat, 'word')"
      ],
      "execution_count": 66,
      "outputs": []
    },
    {
      "cell_type": "markdown",
      "metadata": {
        "id": "hUYTYffBGYW5",
        "colab_type": "text"
      },
      "source": [
        "## **NLP applying**"
      ]
    },
    {
      "cell_type": "code",
      "metadata": {
        "id": "e3ruz9CabuEX",
        "colab_type": "code",
        "colab": {}
      },
      "source": [
        "def drop_empty_string(df):\n",
        "    # Warning: An empty Sentence was created!\n",
        "    # Are there empty strings in your dataset?\n",
        "    print('\\nremoving empty values...\\n')\n",
        "    nan_value = float('NaN')\n",
        "    df.replace('', nan_value, inplace=True)\n",
        "    df.replace(' ', nan_value, inplace=True)\n",
        "    df.replace('  ', nan_value, inplace=True)\n",
        "    df.dropna(inplace=True)\n",
        "\n",
        "    return df"
      ],
      "execution_count": 67,
      "outputs": []
    },
    {
      "cell_type": "code",
      "metadata": {
        "id": "Z843yKrOomPy",
        "colab_type": "code",
        "colab": {}
      },
      "source": [
        "def preprocessing_lexicon(df, c1, c2):\n",
        "    print('\\nRemoving scores equal to 0 & empty or space values\\n')\n",
        "    df.drop(df[df[c1] == 0]. index, inplace=True)\n",
        "    df.drop(df[df[c2] == float]. index, inplace=True)\n",
        "    df = drop_empty_string(df)\n",
        "    \n",
        "    print('Strip spaces both sides\\n')\n",
        "    df[c2] = df[c2].str.strip()\n",
        "\n",
        "    return df"
      ],
      "execution_count": 68,
      "outputs": []
    },
    {
      "cell_type": "code",
      "metadata": {
        "id": "_0T3Rq7dGba2",
        "colab_type": "code",
        "colab": {}
      },
      "source": [
        "def nlp_apply(df, c):\n",
        "    print('Vader\\n')\n",
        "    df['Compound'] = df[c].apply(lambda x: SIA.polarity_scores(text=x)['compound'])\n",
        "    \n",
        "    print('TextBlob')\n",
        "    df['Subjectivity'] = df[c].apply(lambda x: text_blob_subjective(text=x)[1])\n",
        "    \n",
        "    df = drop_empty_string(df)\n",
        "\n",
        "    print('Stanza')\n",
        "    df['Stanza'] = df[c].apply(lambda x: stanza_funct(text=x))\n",
        "\n",
        "    df = drop_empty_string(df)\n",
        "\n",
        "    print('Flair\\n')\n",
        "    df['Flair'] = df[c].apply(lambda x: ''.join([i.value for i in flair_lstm(text=x)]))\n",
        "\n",
        "    df = preprocessing_lexicon(df, 'score', 'word')\n",
        "\n",
        "    return df"
      ],
      "execution_count": 69,
      "outputs": []
    },
    {
      "cell_type": "code",
      "metadata": {
        "id": "GoyFPvyhHJgl",
        "colab_type": "code",
        "colab": {
          "base_uri": "https://localhost:8080/",
          "height": 377
        },
        "outputId": "e9751c75-97d9-47f9-e04d-5ffb43b71483"
      },
      "source": [
        "df = nlp_apply(df, 'word')"
      ],
      "execution_count": 70,
      "outputs": [
        {
          "output_type": "stream",
          "text": [
            "Vader\n",
            "\n",
            "TextBlob\n",
            "\n",
            "removing empty values...\n",
            "\n",
            "Stanza\n",
            "{...}; {...}; {...}; {...}; {...}; {...}; {...}; {...}; {...}; {...}; {...}; {...}; {...}; {...}; {...}; {...}; {...}; {...}; {...}; {...}; {...}; {...}; {...}; {...}; {...}; {...}; {...}; {...}; {...}; {...}; {...}; {...}; {...}; {...}; {...}; {...}; {...}; {...}; {...}; {...}; {...}; {...}; {...}; {...}; {...}; {...}; {...}; {...}; {...}; {...}; {...}; {...}; {...}; {...}; {...}; {...}; {...}; {...}; {...}; {...}; {...}; {...}; {...}; {...}; {...}; {...}; {...}; {...}; {...}; {...}; {...}; {...}; {...}; {...}; {...}; {...}; {...}; {...}; {...}; {...}; {...}; {...}; {...}; {...}; {...}; {...}; {...}; {...}; {...}; {...}; {...}; {...}; {...}; {...}; {...}; {...}; {...}; {...}; {...}; {...}; {...}; {...}; {...}; {...}; {...}; {...}; {...}; {...}; {...}; {...}; {...}; {...}; {...}; {...}; {...}; {...}; {...}; {...}; {...}; {...}; {...}; {...}; {...}; {...}; {...}; {...}; {...}; {...}; {...}; {...}; {...}; {...}; {...}; {...}; {...}; {...}; {...}; {...}; {...}; {...}; {...}; {...}; {...}; {...}; {...}; {...}; {...}; {...}; {...}; {...}; {...}; {...}; {...}; {...}; {...}; {...}; {...}; {...}; {...}; {...}; {...}; {...}; {...}; {...}; {...}; {...}; {...}; {...}; {...}; {...}; {...}; {...}; {...}; {...}; {...}; {...}; {...}; {...}; {...}; {...}; {...}; {...}; {...}; {...}; {...}; {...}; {...}; {...}; {...}; {...}; {...}; {...}; {...}; {...}; {...}; {...}; {...}; {...}; {...}; {...}; {...}; {...}; {...}; {...}; {...}; {...}; {...}; {...}; {...}; {...}; {...}; {...}; {...}; {...}; {...}; {...}; {...}; {...}; {...}; {...}; {...}; {...}; {...}; {...}; {...}; {...}; \n",
            "removing empty values...\n",
            "\n",
            "Flair\n",
            "\n",
            "\n",
            "Removing scores equal to 0 & empty or space values\n",
            "\n",
            "\n",
            "removing empty values...\n",
            "\n",
            "Strip spaces both sides\n",
            "\n"
          ],
          "name": "stdout"
        }
      ]
    },
    {
      "cell_type": "code",
      "metadata": {
        "id": "RfaKxdugXxgq",
        "colab_type": "code",
        "colab": {}
      },
      "source": [
        "# Checkpoint\n",
        "df.to_csv('checkpoint-bywords.csv', encoding='utf-8', index=False)"
      ],
      "execution_count": 71,
      "outputs": []
    },
    {
      "cell_type": "markdown",
      "metadata": {
        "id": "Gg-JJmnYSAwk",
        "colab_type": "text"
      },
      "source": [
        "---\n",
        "# **9. Preprocessing VAD datasets**\n",
        "---"
      ]
    },
    {
      "cell_type": "markdown",
      "metadata": {
        "id": "3TrYtMl9g6wk",
        "colab_type": "text"
      },
      "source": [
        "### Grouping categories dataset by column value"
      ]
    },
    {
      "cell_type": "code",
      "metadata": {
        "id": "Mph9poM0gj9r",
        "colab_type": "code",
        "colab": {}
      },
      "source": [
        "group = df.groupby(df.category)"
      ],
      "execution_count": 189,
      "outputs": []
    },
    {
      "cell_type": "code",
      "metadata": {
        "id": "2YnQ7AE0gmQx",
        "colab_type": "code",
        "colab": {}
      },
      "source": [
        "positive = group.get_group('positive')\n",
        "negative = group.get_group('negative')\n",
        "sadness = group.get_group('sadness')\n",
        "joy = group.get_group('joy')\n",
        "trust = group.get_group('trust')\n",
        "anticipation = group.get_group('anticipation')\n",
        "anger = group.get_group('anger')\n",
        "surprise = group.get_group('surprise')\n",
        "fear = group.get_group('fear')\n",
        "disgust = group.get_group('disgust')"
      ],
      "execution_count": 190,
      "outputs": []
    },
    {
      "cell_type": "markdown",
      "metadata": {
        "id": "KiPg51WkgqlV",
        "colab_type": "text"
      },
      "source": [
        "### Adding VAD columns & filling them with VAD values\n",
        "http://saifmohammad.com/WebPages/nrc-vad.html"
      ]
    },
    {
      "cell_type": "code",
      "metadata": {
        "id": "nKHIXFzsgvPP",
        "colab_type": "code",
        "colab": {}
      },
      "source": [
        "def fill_VAD(df, VAD):\n",
        "    df.loc[:, 'Valence'] = VAD[0]\n",
        "    df.loc[:, 'Arousal'] = VAD[1]\n",
        "    df.loc[:, 'Dominance'] = VAD[2]  \n",
        "    return  df"
      ],
      "execution_count": 74,
      "outputs": []
    },
    {
      "cell_type": "code",
      "metadata": {
        "id": "Uw9RFuoAgxy4",
        "colab_type": "code",
        "colab": {}
      },
      "source": [
        "sadness = fill_VAD(df=sadness, VAD=[0.0520, 0.2880, 0.1640])\n",
        "joy = fill_VAD(df=joy, VAD=[0.9800, 0.8240, 0.7949])\n",
        "trust = fill_VAD(df=trust, VAD=[0.8880, 0.5470, 0.7410])\n",
        "anticipation = fill_VAD(df=anticipation, VAD=[0.6980, 0.5390, 0.7110])\n",
        "anger = fill_VAD(df=anger, VAD=[0.1670, 0.8650, 0.6570])\n",
        "surprise = fill_VAD(df=surprise, VAD=[0.8750, 0.8750, 0.5620])\n",
        "fear = fill_VAD(df=fear, VAD=[0.0730, 0.8400, 0.2930])\n",
        "disgust = fill_VAD(df=disgust, VAD=[0.0520, 0.7750, 0.3170])"
      ],
      "execution_count": 75,
      "outputs": []
    },
    {
      "cell_type": "markdown",
      "metadata": {
        "id": "zwGcxJVMhAp1",
        "colab_type": "text"
      },
      "source": [
        "### Concatenating & sorting datasets: Categories with Quadrants"
      ]
    },
    {
      "cell_type": "code",
      "metadata": {
        "id": "zdTys-AIhn_s",
        "colab_type": "code",
        "colab": {}
      },
      "source": [
        "def concat(lst):\n",
        "    df = pd.concat(objs=lst, ignore_index=True)\n",
        "    return df"
      ],
      "execution_count": 197,
      "outputs": []
    },
    {
      "cell_type": "code",
      "metadata": {
        "id": "cgaldWzYbIaj",
        "colab_type": "code",
        "colab": {}
      },
      "source": [
        "df_VAD = df_NRC_VAD_Lexicon"
      ],
      "execution_count": 198,
      "outputs": []
    },
    {
      "cell_type": "code",
      "metadata": {
        "id": "hbP8QXVohOXc",
        "colab_type": "code",
        "colab": {}
      },
      "source": [
        "df_VAD = concat([df_VAD, sadness])\n",
        "df_VAD = concat([df_VAD, joy])\n",
        "df_VAD = concat([df_VAD, trust])\n",
        "df_VAD = concat([df_VAD, anticipation])\n",
        "df_VAD = concat([df_VAD, anger])\n",
        "df_VAD = concat([df_VAD, surprise])\n",
        "df_VAD = concat([df_VAD, fear])\n",
        "df_VAD = concat([df_VAD, disgust])"
      ],
      "execution_count": 199,
      "outputs": []
    },
    {
      "cell_type": "markdown",
      "metadata": {
        "id": "iybwMbiTlKgY",
        "colab_type": "text"
      },
      "source": [
        "### Delete duplicates & replace NaN with empty"
      ]
    },
    {
      "cell_type": "code",
      "metadata": {
        "id": "ZMSkFbKwlQNg",
        "colab_type": "code",
        "colab": {}
      },
      "source": [
        "#df_VAD = df_VAD.drop_duplicates(subset=['word'], keep=False)"
      ],
      "execution_count": 79,
      "outputs": []
    },
    {
      "cell_type": "code",
      "metadata": {
        "id": "rxEQDZT7iG60",
        "colab_type": "code",
        "colab": {}
      },
      "source": [
        "df_VAD.replace(float('NaN'), '--', inplace=True)"
      ],
      "execution_count": 117,
      "outputs": []
    },
    {
      "cell_type": "markdown",
      "metadata": {
        "id": "K9F-0hM1wM-_",
        "colab_type": "text"
      },
      "source": [
        "### Applying NLP to VAD dataset"
      ]
    },
    {
      "cell_type": "code",
      "metadata": {
        "id": "HHplpP9OwKT4",
        "colab_type": "code",
        "colab": {
          "base_uri": "https://localhost:8080/",
          "height": 357
        },
        "outputId": "4fd4524a-8b2b-4880-e692-ccecc5af056b"
      },
      "source": [
        "df_VAD = nlp_apply(df_VAD, 'word')"
      ],
      "execution_count": 81,
      "outputs": [
        {
          "output_type": "stream",
          "text": [
            "Vader\n",
            "\n",
            "TextBlob\n",
            "\n",
            "removing empty values...\n",
            "\n",
            "Stanza\n",
            "\n",
            "removing empty values...\n",
            "\n",
            "Flair\n",
            "\n",
            "\n",
            "Removing scores equal to 0 & empty or space values\n",
            "\n",
            "\n",
            "removing empty values...\n",
            "\n",
            "Strip spaces both sides\n",
            "\n"
          ],
          "name": "stdout"
        }
      ]
    },
    {
      "cell_type": "code",
      "metadata": {
        "id": "F6KXUFFTwRVz",
        "colab_type": "code",
        "colab": {}
      },
      "source": [
        "#df_VAD = preprocessing_characteres(df_VAD, 'word')\n",
        "#df_VAD['word'] = df_VAD['word'].str.strip()\n",
        "#df_VAD = df_VAD.dropna()"
      ],
      "execution_count": 82,
      "outputs": []
    },
    {
      "cell_type": "markdown",
      "metadata": {
        "id": "_EIZqYv8j0Q7",
        "colab_type": "text"
      },
      "source": [
        "### Minimum & max value with middle point"
      ]
    },
    {
      "cell_type": "code",
      "metadata": {
        "id": "pZ-Hh9K1jqdL",
        "colab_type": "code",
        "colab": {}
      },
      "source": [
        "def min_max_value(df, c):\n",
        "    return df[c].min(), df[c].max()"
      ],
      "execution_count": 83,
      "outputs": []
    },
    {
      "cell_type": "code",
      "metadata": {
        "id": "pB27zNAhjr-R",
        "colab_type": "code",
        "colab": {}
      },
      "source": [
        "def middle_point(df, c):\n",
        "    '''Compute medium point from dataframe'''\n",
        "    x1, x2 = min_max_value(df, c)\n",
        "    return x2 - x1 / 2"
      ],
      "execution_count": 84,
      "outputs": []
    },
    {
      "cell_type": "code",
      "metadata": {
        "id": "9zq6Vsn0jxNz",
        "colab_type": "code",
        "colab": {}
      },
      "source": [
        "df_VAD = preprocessing_characteres(df_VAD, 'word')\n",
        "df_VAD['word'] = df_VAD['word'].str.strip()\n",
        "df_VAD = df_VAD.dropna()"
      ],
      "execution_count": 85,
      "outputs": []
    },
    {
      "cell_type": "code",
      "metadata": {
        "id": "2fF6zXLIsFNU",
        "colab_type": "code",
        "colab": {
          "base_uri": "https://localhost:8080/",
          "height": 419
        },
        "outputId": "dbc2283b-2620-4f24-96a2-2b52dd0b3d23"
      },
      "source": [
        "df_VAD"
      ],
      "execution_count": 86,
      "outputs": [
        {
          "output_type": "execute_result",
          "data": {
            "text/html": [
              "<div>\n",
              "<style scoped>\n",
              "    .dataframe tbody tr th:only-of-type {\n",
              "        vertical-align: middle;\n",
              "    }\n",
              "\n",
              "    .dataframe tbody tr th {\n",
              "        vertical-align: top;\n",
              "    }\n",
              "\n",
              "    .dataframe thead th {\n",
              "        text-align: right;\n",
              "    }\n",
              "</style>\n",
              "<table border=\"1\" class=\"dataframe\">\n",
              "  <thead>\n",
              "    <tr style=\"text-align: right;\">\n",
              "      <th></th>\n",
              "      <th>word</th>\n",
              "      <th>Valence</th>\n",
              "      <th>Arousal</th>\n",
              "      <th>Dominance</th>\n",
              "      <th>category</th>\n",
              "      <th>score</th>\n",
              "      <th>Compound</th>\n",
              "      <th>Subjectivity</th>\n",
              "      <th>Stanza</th>\n",
              "      <th>Flair</th>\n",
              "    </tr>\n",
              "  </thead>\n",
              "  <tbody>\n",
              "    <tr>\n",
              "      <th>0</th>\n",
              "      <td>aaaaaaah</td>\n",
              "      <td>0.479</td>\n",
              "      <td>0.606</td>\n",
              "      <td>0.291</td>\n",
              "      <td>empty</td>\n",
              "      <td>empty</td>\n",
              "      <td>0.0000</td>\n",
              "      <td>0.0</td>\n",
              "      <td>1</td>\n",
              "      <td>POSITIVE</td>\n",
              "    </tr>\n",
              "    <tr>\n",
              "      <th>1</th>\n",
              "      <td>aaaah</td>\n",
              "      <td>0.520</td>\n",
              "      <td>0.636</td>\n",
              "      <td>0.282</td>\n",
              "      <td>empty</td>\n",
              "      <td>empty</td>\n",
              "      <td>0.0000</td>\n",
              "      <td>0.0</td>\n",
              "      <td>1</td>\n",
              "      <td>POSITIVE</td>\n",
              "    </tr>\n",
              "    <tr>\n",
              "      <th>2</th>\n",
              "      <td>aardvark</td>\n",
              "      <td>0.427</td>\n",
              "      <td>0.490</td>\n",
              "      <td>0.437</td>\n",
              "      <td>empty</td>\n",
              "      <td>empty</td>\n",
              "      <td>0.0000</td>\n",
              "      <td>0.0</td>\n",
              "      <td>1</td>\n",
              "      <td>POSITIVE</td>\n",
              "    </tr>\n",
              "    <tr>\n",
              "      <th>3</th>\n",
              "      <td>aback</td>\n",
              "      <td>0.385</td>\n",
              "      <td>0.407</td>\n",
              "      <td>0.288</td>\n",
              "      <td>empty</td>\n",
              "      <td>empty</td>\n",
              "      <td>0.0000</td>\n",
              "      <td>0.0</td>\n",
              "      <td>1</td>\n",
              "      <td>POSITIVE</td>\n",
              "    </tr>\n",
              "    <tr>\n",
              "      <th>4</th>\n",
              "      <td>abacus</td>\n",
              "      <td>0.510</td>\n",
              "      <td>0.276</td>\n",
              "      <td>0.485</td>\n",
              "      <td>empty</td>\n",
              "      <td>empty</td>\n",
              "      <td>0.0000</td>\n",
              "      <td>0.0</td>\n",
              "      <td>1</td>\n",
              "      <td>NEGATIVE</td>\n",
              "    </tr>\n",
              "    <tr>\n",
              "      <th>...</th>\n",
              "      <td>...</td>\n",
              "      <td>...</td>\n",
              "      <td>...</td>\n",
              "      <td>...</td>\n",
              "      <td>...</td>\n",
              "      <td>...</td>\n",
              "      <td>...</td>\n",
              "      <td>...</td>\n",
              "      <td>...</td>\n",
              "      <td>...</td>\n",
              "    </tr>\n",
              "    <tr>\n",
              "      <th>70067</th>\n",
              "      <td>disappoint</td>\n",
              "      <td>0.052</td>\n",
              "      <td>0.775</td>\n",
              "      <td>0.317</td>\n",
              "      <td>disgust</td>\n",
              "      <td>0.383</td>\n",
              "      <td>-0.4019</td>\n",
              "      <td>0.0</td>\n",
              "      <td>0</td>\n",
              "      <td>NEGATIVE</td>\n",
              "    </tr>\n",
              "    <tr>\n",
              "      <th>70068</th>\n",
              "      <td>mention</td>\n",
              "      <td>0.052</td>\n",
              "      <td>0.775</td>\n",
              "      <td>0.317</td>\n",
              "      <td>disgust</td>\n",
              "      <td>0.0863629</td>\n",
              "      <td>0.0000</td>\n",
              "      <td>0.0</td>\n",
              "      <td>1</td>\n",
              "      <td>POSITIVE</td>\n",
              "    </tr>\n",
              "    <tr>\n",
              "      <th>70069</th>\n",
              "      <td>fugitive</td>\n",
              "      <td>0.052</td>\n",
              "      <td>0.775</td>\n",
              "      <td>0.317</td>\n",
              "      <td>disgust</td>\n",
              "      <td>0.383</td>\n",
              "      <td>0.0000</td>\n",
              "      <td>0.0</td>\n",
              "      <td>1</td>\n",
              "      <td>NEGATIVE</td>\n",
              "    </tr>\n",
              "    <tr>\n",
              "      <th>70070</th>\n",
              "      <td>affront</td>\n",
              "      <td>0.052</td>\n",
              "      <td>0.775</td>\n",
              "      <td>0.317</td>\n",
              "      <td>disgust</td>\n",
              "      <td>0.422</td>\n",
              "      <td>0.0000</td>\n",
              "      <td>0.0</td>\n",
              "      <td>1</td>\n",
              "      <td>NEGATIVE</td>\n",
              "    </tr>\n",
              "    <tr>\n",
              "      <th>70071</th>\n",
              "      <td>ridicule</td>\n",
              "      <td>0.052</td>\n",
              "      <td>0.775</td>\n",
              "      <td>0.317</td>\n",
              "      <td>disgust</td>\n",
              "      <td>0.555</td>\n",
              "      <td>-0.4588</td>\n",
              "      <td>0.0</td>\n",
              "      <td>1</td>\n",
              "      <td>NEGATIVE</td>\n",
              "    </tr>\n",
              "  </tbody>\n",
              "</table>\n",
              "<p>70072 rows × 10 columns</p>\n",
              "</div>"
            ],
            "text/plain": [
              "             word  Valence  Arousal  ...  Subjectivity Stanza     Flair\n",
              "0        aaaaaaah    0.479    0.606  ...           0.0      1  POSITIVE\n",
              "1           aaaah    0.520    0.636  ...           0.0      1  POSITIVE\n",
              "2        aardvark    0.427    0.490  ...           0.0      1  POSITIVE\n",
              "3           aback    0.385    0.407  ...           0.0      1  POSITIVE\n",
              "4          abacus    0.510    0.276  ...           0.0      1  NEGATIVE\n",
              "...           ...      ...      ...  ...           ...    ...       ...\n",
              "70067  disappoint    0.052    0.775  ...           0.0      0  NEGATIVE\n",
              "70068     mention    0.052    0.775  ...           0.0      1  POSITIVE\n",
              "70069    fugitive    0.052    0.775  ...           0.0      1  NEGATIVE\n",
              "70070     affront    0.052    0.775  ...           0.0      1  NEGATIVE\n",
              "70071    ridicule    0.052    0.775  ...           0.0      1  NEGATIVE\n",
              "\n",
              "[70072 rows x 10 columns]"
            ]
          },
          "metadata": {
            "tags": []
          },
          "execution_count": 86
        }
      ]
    },
    {
      "cell_type": "code",
      "metadata": {
        "id": "1UETsGe4jxVF",
        "colab_type": "code",
        "colab": {}
      },
      "source": [
        "# COLUMNS: word, Arousal, Valence, Dominance\n",
        "arousal_mp = middle_point(df_VAD, 'Arousal')\n",
        "valence_mp = middle_point(df_VAD, 'Valence')\n",
        "dominance_mp = middle_point(df_VAD, 'Dominance')"
      ],
      "execution_count": 87,
      "outputs": []
    },
    {
      "cell_type": "code",
      "metadata": {
        "id": "t8m1u-K5jqy6",
        "colab_type": "code",
        "colab": {
          "base_uri": "https://localhost:8080/",
          "height": 170
        },
        "outputId": "1d65ef3d-046a-4268-a442-293bda20cea4"
      },
      "source": [
        "print('Min, Max')\n",
        "print('Arousal: {}\\nValence: {}\\nDominance {}\\n'.format(min_max_value(df_VAD, 'Arousal'), min_max_value(df_VAD, 'Valence'), min_max_value(df_VAD, 'Dominance')))\n",
        "\n",
        "print('Medium point')\n",
        "print('Arousal: {}\\nValence: {}\\nDominance {}'.format(arousal_mp, valence_mp, dominance_mp))"
      ],
      "execution_count": 88,
      "outputs": [
        {
          "output_type": "stream",
          "text": [
            "Min, Max\n",
            "Arousal: (0.046, 0.99)\n",
            "Valence: (0.0, 1.0)\n",
            "Dominance (0.045, 0.991)\n",
            "\n",
            "Medium point\n",
            "Arousal: 0.967\n",
            "Valence: 1.0\n",
            "Dominance 0.9685\n"
          ],
          "name": "stdout"
        }
      ]
    },
    {
      "cell_type": "markdown",
      "metadata": {
        "id": "1wIedMlRit-I",
        "colab_type": "text"
      },
      "source": [
        "---\n",
        "# **10. Quadrants**\n",
        "---"
      ]
    },
    {
      "cell_type": "markdown",
      "metadata": {
        "id": "KinvSgfbBmGd",
        "colab_type": "text"
      },
      "source": [
        "since the drop function is used, the inequalities are inverse"
      ]
    },
    {
      "cell_type": "markdown",
      "metadata": {
        "id": "Mz36MBvISGmy",
        "colab_type": "text"
      },
      "source": [
        "### I. High Arousal, Positive Valence"
      ]
    },
    {
      "cell_type": "code",
      "metadata": {
        "id": "RJlH1MH3SF7I",
        "colab_type": "code",
        "colab": {}
      },
      "source": [
        "first_quad =  df_VAD.drop(df_VAD[(df_VAD['Arousal'] < arousal_mp) & (df_VAD['Valence'] < valence_mp)].index)"
      ],
      "execution_count": 89,
      "outputs": []
    },
    {
      "cell_type": "markdown",
      "metadata": {
        "id": "TjbFP93icing",
        "colab_type": "text"
      },
      "source": [
        "### II. High Arousal, Negative Valance"
      ]
    },
    {
      "cell_type": "code",
      "metadata": {
        "id": "IxLHapeXcuCS",
        "colab_type": "code",
        "colab": {}
      },
      "source": [
        "second_quad = df_VAD.drop(df_VAD[(df_VAD['Arousal'] < arousal_mp) & (df_VAD['Valence'] > valence_mp)].index)"
      ],
      "execution_count": 90,
      "outputs": []
    },
    {
      "cell_type": "markdown",
      "metadata": {
        "id": "N7qcgrbqdLTX",
        "colab_type": "text"
      },
      "source": [
        "### III. Low Arousal, Negative Valance"
      ]
    },
    {
      "cell_type": "code",
      "metadata": {
        "id": "rWiPmfQAdKuj",
        "colab_type": "code",
        "colab": {}
      },
      "source": [
        "third_quad = df_VAD.drop(df_VAD[(df_VAD['Arousal'] > arousal_mp) & (df_VAD['Valence'] > valence_mp)].index)"
      ],
      "execution_count": 91,
      "outputs": []
    },
    {
      "cell_type": "markdown",
      "metadata": {
        "id": "IhfI6hc9d7E3",
        "colab_type": "text"
      },
      "source": [
        "### IV. Low Arousal, Positive Valance"
      ]
    },
    {
      "cell_type": "code",
      "metadata": {
        "id": "GbmnY1Y4eAmP",
        "colab_type": "code",
        "colab": {}
      },
      "source": [
        "fourth_quad = df_VAD.drop(df_VAD[(df_VAD['Arousal'] > arousal_mp) & (df_VAD['Valence'] < valence_mp)].index)"
      ],
      "execution_count": 92,
      "outputs": []
    },
    {
      "cell_type": "markdown",
      "metadata": {
        "id": "-NBgAGTkf9iD",
        "colab_type": "text"
      },
      "source": [
        "### PLOT VAD"
      ]
    },
    {
      "cell_type": "code",
      "metadata": {
        "id": "h3BMIq2x6Exp",
        "colab_type": "code",
        "colab": {
          "base_uri": "https://localhost:8080/",
          "height": 339
        },
        "outputId": "8541327b-0424-4f75-f527-17de362bc2d2"
      },
      "source": [
        "y_quad = list(map(len, [first_quad, second_quad, third_quad, fourth_quad]))\n",
        "\n",
        "print(y_quad)\n",
        "simple_bar(['first', 'second', 'third', 'fourth'], y_quad, size=(8, 4))"
      ],
      "execution_count": 99,
      "outputs": [
        {
          "output_type": "stream",
          "text": [
            "No handles with labels found to put in legend.\n"
          ],
          "name": "stderr"
        },
        {
          "output_type": "stream",
          "text": [
            "[19, 70072, 70072, 70060]\n"
          ],
          "name": "stdout"
        },
        {
          "output_type": "display_data",
          "data": {
            "image/png": "[encoded data removed]",
            "text/plain": [
              "<Figure size 576x288 with 1 Axes>"
            ]
          },
          "metadata": {
            "tags": [],
            "needs_background": "light"
          }
        }
      ]
    },
    {
      "cell_type": "markdown",
      "metadata": {
        "id": "6GeIpeDjOhi7",
        "colab_type": "text"
      },
      "source": [
        "---\n",
        "# **11. CATEGORIES**\n",
        "---\n",
        "There are four quadrants plus 3D called dominance (README.md)"
      ]
    },
    {
      "cell_type": "code",
      "metadata": {
        "id": "pwoMjPW-DS-c",
        "colab_type": "code",
        "colab": {}
      },
      "source": [
        "def find_word(word, df, c='word'):\n",
        "    return df[df[c].str.contains(word)]"
      ],
      "execution_count": 179,
      "outputs": []
    },
    {
      "cell_type": "markdown",
      "metadata": {
        "id": "VHslHWjtQHYr",
        "colab_type": "text"
      },
      "source": [
        "### Confident\n",
        "- confident -> trust\n",
        "- unconfident -> disgust"
      ]
    },
    {
      "cell_type": "code",
      "metadata": {
        "id": "4RAJX0HxOBYN",
        "colab_type": "code",
        "colab": {}
      },
      "source": [
        "confident = group.get_group('trust') \n",
        "unconfident = group.get_group('disgust')"
      ],
      "execution_count": 172,
      "outputs": []
    },
    {
      "cell_type": "code",
      "metadata": {
        "id": "6v7BV1-DB4lT",
        "colab_type": "code",
        "colab": {}
      },
      "source": [
        "confident['category'] = 'confident'\n",
        "unconfident['category'] = 'unconfident'\n",
        "\n",
        "# NOTE\n",
        "# this where just based on the Wheel of emotions (R. Plutchik)\n",
        "# as trust and disgust where opposites"
      ],
      "execution_count": 173,
      "outputs": []
    },
    {
      "cell_type": "markdown",
      "metadata": {
        "id": "dgkr7KDuQXDG",
        "colab_type": "text"
      },
      "source": [
        "### Handles pressure\n",
        "In the positive side is included patience, focus and calm\n",
        "- POS : dominance strong + low arousal + positive valence\n",
        "- NEG : dominance weak + high arousal + negative valence"
      ]
    },
    {
      "cell_type": "code",
      "metadata": {
        "id": "0oG2W3xLO7Ut",
        "colab_type": "code",
        "colab": {}
      },
      "source": [
        "# Dominance: drop every weak feature\n",
        "pos_hp = fourth_quad\n",
        "dominance_mp_can_hp = middle_point(pos_hp, 'Dominance')\n",
        "pos_hp = pos_hp.drop(pos_hp[(pos_hp['Dominance'] < dominance_mp_can_hp)].index)\n",
        "pos_hp['category'] = 'pos hp'\n",
        "\n",
        "# NOTE\n",
        "# add more IV words, related to: calm, content, relaxed, focused"
      ],
      "execution_count": 183,
      "outputs": []
    },
    {
      "cell_type": "code",
      "metadata": {
        "id": "pY27vv3O_JaN",
        "colab_type": "code",
        "colab": {}
      },
      "source": [
        "# opposite quadrante (opposite to IV -> II)\n",
        "neg_hp = second_quad\n",
        "dominance_mp_neg_hp = middle_point(neg_hp, 'Dominance')\n",
        "neg_hp = neg_hp.drop(neg_hp[(neg_hp['Dominance'] > dominance_mp_neg_hp)].index)\n",
        "neg_hp['category'] = 'neg hp'\n",
        "\n",
        "# NOTE\n",
        "# analyze positive words and drop them, they don't belong to negative valence\n",
        "# maybe tranfer them to pos_hp"
      ],
      "execution_count": 175,
      "outputs": []
    },
    {
      "cell_type": "markdown",
      "metadata": {
        "id": "2FQEgQdl9CJn",
        "colab_type": "text"
      },
      "source": [
        "### Organized\n",
        "- POS : anticipation + high arousal + positive valence   \n",
        "- NEG : surprise + low arousal + negative valence"
      ]
    },
    {
      "cell_type": "code",
      "metadata": {
        "id": "OltxBhGiPFrj",
        "colab_type": "code",
        "colab": {}
      },
      "source": [
        "organized = ''"
      ],
      "execution_count": null,
      "outputs": []
    },
    {
      "cell_type": "code",
      "metadata": {
        "id": "XyjYS3wE8_mb",
        "colab_type": "code",
        "colab": {}
      },
      "source": [
        "unorganized = ''"
      ],
      "execution_count": null,
      "outputs": []
    },
    {
      "cell_type": "markdown",
      "metadata": {
        "id": "0GvAZu5v9iS2",
        "colab_type": "text"
      },
      "source": [
        "### Interested\n",
        "- POS : [anticipation] + high arousal + positive valence\n",
        "- NEG : [surprise] + low arousal + negative valence"
      ]
    },
    {
      "cell_type": "code",
      "metadata": {
        "id": "pie0txda9wdQ",
        "colab_type": "code",
        "colab": {}
      },
      "source": [
        "interested = anticipation\n",
        "\n",
        "# NOTE\n",
        "# this where just based on the Wheel of emotions (R. Plutchik)\n",
        "# as anticipation and surprise where opposites.\n",
        "# And each events are: \n",
        "# vigilance --> anticipation --> [interest]\n",
        "# amazement --> surprise --> [distraction]"
      ],
      "execution_count": 209,
      "outputs": []
    },
    {
      "cell_type": "code",
      "metadata": {
        "id": "3c76ISGa9x7g",
        "colab_type": "code",
        "colab": {}
      },
      "source": [
        "uninterested = surprise"
      ],
      "execution_count": 211,
      "outputs": []
    },
    {
      "cell_type": "markdown",
      "metadata": {
        "id": "Zsi0I-V19z7V",
        "colab_type": "text"
      },
      "source": [
        "### Happy\n",
        "- POS : joy + high arousal + positive valence\n",
        "- NEG : sadness + low arousal + negative valence"
      ]
    },
    {
      "cell_type": "code",
      "metadata": {
        "id": "fMySJL6NPL3c",
        "colab_type": "code",
        "colab": {}
      },
      "source": [
        "happy = joy"
      ],
      "execution_count": 206,
      "outputs": []
    },
    {
      "cell_type": "code",
      "metadata": {
        "id": "reWqSuSe9_7-",
        "colab_type": "code",
        "colab": {}
      },
      "source": [
        "unhappy = sadness"
      ],
      "execution_count": 207,
      "outputs": []
    },
    {
      "cell_type": "markdown",
      "metadata": {
        "id": "_o4xGNOB-Al2",
        "colab_type": "text"
      },
      "source": [
        "### Friendly\n",
        "- POS : high arousal + positive valence + (positive) + (joy + trust)\n",
        "- NEG : anger + high arousal + negative valence"
      ]
    },
    {
      "cell_type": "code",
      "metadata": {
        "id": "LbJk2hjgPPJu",
        "colab_type": "code",
        "colab": {}
      },
      "source": [
        "friendly = concat([joy, trust, positive])"
      ],
      "execution_count": 204,
      "outputs": []
    },
    {
      "cell_type": "code",
      "metadata": {
        "id": "Aey7v5jE-Qy-",
        "colab_type": "code",
        "colab": {}
      },
      "source": [
        "unfriendly = concat([anger, disgust, negative])"
      ],
      "execution_count": 205,
      "outputs": []
    },
    {
      "cell_type": "markdown",
      "metadata": {
        "id": "Jf88nuWNGxsp",
        "colab_type": "text"
      },
      "source": [
        "### PLOT Categories"
      ]
    },
    {
      "cell_type": "markdown",
      "metadata": {
        "id": "d34WzI--IAg8",
        "colab_type": "text"
      },
      "source": [
        "#### POS"
      ]
    },
    {
      "cell_type": "code",
      "metadata": {
        "id": "d3zsQVTLG1Et",
        "colab_type": "code",
        "colab": {
          "base_uri": "https://localhost:8080/",
          "height": 447
        },
        "outputId": "f95ce9e2-3881-4ad0-9860-69ddece15803"
      },
      "source": [
        "simple_bar(\n",
        "    x=['confident', 'can hp', 'interested', 'happy', 'friendly'],\n",
        "    y=list(map(len, [confident, pos_hp, interested, happy, friendly])),\n",
        "    size=(10, 6)\n",
        ")"
      ],
      "execution_count": 219,
      "outputs": [
        {
          "output_type": "stream",
          "text": [
            "No handles with labels found to put in legend.\n"
          ],
          "name": "stderr"
        },
        {
          "output_type": "display_data",
          "data": {
            "image/png": "[encoded data removed]",
            "text/plain": [
              "<Figure size 720x432 with 1 Axes>"
            ]
          },
          "metadata": {
            "tags": [],
            "needs_background": "light"
          }
        }
      ]
    },
    {
      "cell_type": "markdown",
      "metadata": {
        "id": "rM6h_alTICpG",
        "colab_type": "text"
      },
      "source": [
        "#### NEG"
      ]
    },
    {
      "cell_type": "code",
      "metadata": {
        "id": "jUgbbnV8IFST",
        "colab_type": "code",
        "colab": {
          "base_uri": "https://localhost:8080/",
          "height": 459
        },
        "outputId": "d57eb333-5e3d-4115-8c2e-28824a4d748e"
      },
      "source": [
        "simple_bar(\n",
        "    x=['unconfident', 'cant hp', 'uninterested', 'unhappy', 'unfriendly'],\n",
        "    y=list(map(len, [unconfident, neg_hp, uninterested, unhappy, unfriendly])),\n",
        "    size=(10, 6)\n",
        ")"
      ],
      "execution_count": 222,
      "outputs": [
        {
          "output_type": "stream",
          "text": [
            "No handles with labels found to put in legend.\n"
          ],
          "name": "stderr"
        },
        {
          "output_type": "display_data",
          "data": {
            "image/png": "[encoded data removed]",
            "text/plain": [
              "<Figure size 720x432 with 1 Axes>"
            ]
          },
          "metadata": {
            "tags": [],
            "needs_background": "light"
          }
        }
      ]
    },
    {
      "cell_type": "markdown",
      "metadata": {
        "id": "9XS-K0VHu71s",
        "colab_type": "text"
      },
      "source": [
        "# **10. Test training SpaCy**"
      ]
    },
    {
      "cell_type": "code",
      "metadata": {
        "id": "2b-yDnmyQJl4",
        "colab_type": "code",
        "colab": {}
      },
      "source": [
        "# flair can complement stanza values\n",
        "# if stanza value == 0, then assign the prediction from flair\n",
        "# flair should be a different tokens by predicction\n",
        "# e.g.: does not handles pressure \n",
        "# stanza == 0\n",
        "# flair == -1\n",
        "# flair == 0.98 == > -0.98 --> will mean the label {does not handles pressure}"
      ],
      "execution_count": null,
      "outputs": []
    },
    {
      "cell_type": "code",
      "metadata": {
        "id": "HLFAbVmDxLYu",
        "colab_type": "code",
        "colab": {}
      },
      "source": [
        "def cat_dict_funct(cat_dict, lst, n):\n",
        "    for i in range(len(lst)):\n",
        "        if i == n:\n",
        "            cat_dict[lst[i]] = 1\n",
        "        else:\n",
        "            cat_dict[lst[i]] = 0"
      ],
      "execution_count": null,
      "outputs": []
    },
    {
      "cell_type": "code",
      "metadata": {
        "id": "uAGo8o5dzOdy",
        "colab_type": "code",
        "colab": {}
      },
      "source": [
        "df = pd.read_csv('checkpoint-bywords.csv', encoding='utf-8', sep=',')"
      ],
      "execution_count": null,
      "outputs": []
    },
    {
      "cell_type": "code",
      "metadata": {
        "id": "p9I2SiJqcBM1",
        "colab_type": "code",
        "colab": {}
      },
      "source": [
        "list(set(df.category))"
      ],
      "execution_count": null,
      "outputs": []
    },
    {
      "cell_type": "code",
      "metadata": {
        "id": "pFoXSgm4Txgj",
        "colab_type": "code",
        "colab": {}
      },
      "source": [
        "train_data = df\n",
        "train_labels = list(set(df.category))\n",
        "train_texts = train_data['word'].tolist()\n",
        "train_cats = train_data['category'].tolist()\n",
        "\n",
        "final_train_cats, cat_dict = [], {}\n",
        "\n",
        "for cat in train_cats:\n",
        "    if cat == 'anger':\n",
        "        cat_dict_funct(cat_dict, train_labels, 0)\n",
        "    elif cat == 'fear':\n",
        "        cat_dict_funct(cat_dict, train_labels, 1)\n",
        "    elif cat == 'disgust':\n",
        "        cat_dict_funct(cat_dict, train_labels, 2)\n",
        "    elif cat == 'positive':\n",
        "        cat_dict_funct(cat_dict, train_labels, 3)\n",
        "    elif cat == 'sadness':\n",
        "        cat_dict_funct(cat_dict, train_labels, 4)\n",
        "    elif cat == 'anticipation':\n",
        "        cat_dict_funct(cat_dict, train_labels, 5)\n",
        "    elif cat == 'joy':\n",
        "        cat_dict_funct(cat_dict, train_labels, 6)\n",
        "    elif cat == 'negative':\n",
        "        cat_dict_funct(cat_dict, train_labels, 7)\n",
        "    elif cat == 'surprise':\n",
        "        cat_dict_funct(cat_dict, train_labels, 8)\n",
        "    elif cat == 'trust':\n",
        "        cat_dict_funct(cat_dict, train_labels, 9)\n",
        "    final_train_cats.append(cat_dict)"
      ],
      "execution_count": null,
      "outputs": []
    },
    {
      "cell_type": "code",
      "metadata": {
        "id": "tKiVNh43Wp4W",
        "colab_type": "code",
        "colab": {}
      },
      "source": [
        "TRAIN_DATA = list(zip(train_texts, [{\"cats\": cats} for cats in final_train_cats]))\n",
        "# msg = ''.join(str(v) for v in TRAIN_DATA)"
      ],
      "execution_count": null,
      "outputs": []
    },
    {
      "cell_type": "code",
      "metadata": {
        "id": "2BOvV7Z-Zcw4",
        "colab_type": "code",
        "colab": {}
      },
      "source": [
        "TRAIN_DATA[:2]"
      ],
      "execution_count": null,
      "outputs": []
    },
    {
      "cell_type": "code",
      "metadata": {
        "id": "PvPaeGf9cC7j",
        "colab_type": "code",
        "colab": {}
      },
      "source": [
        "nlp = spacy.load(\"en_core_web_sm\")\n",
        "category = nlp.create_pipe(\"textcat\", config={\"exclusive_classes\": True})\n",
        "nlp.add_pipe(category)\n",
        "\n",
        "# add label to text classifier\n",
        "category.add_label(\"trust\")\n",
        "category.add_label(\"fear\")\n",
        "category.add_label(\"disgust\")\n",
        "category.add_label(\"surprise\")\n",
        "category.add_label(\"anticipation\")\n",
        "category.add_label(\"anger\")\n",
        "category.add_label(\"joy\")"
      ],
      "execution_count": null,
      "outputs": []
    },
    {
      "cell_type": "code",
      "metadata": {
        "id": "ueRy8DzvyXTY",
        "colab_type": "code",
        "colab": {}
      },
      "source": [
        "# get names of other pipes to disable them during training\n",
        "n_iter = 10\n",
        "pipe_exceptions = [\"textcat\", \"trf_wordpiecer\", \"trf_tok2vec\"]\n",
        "other_pipes = [pipe for pipe in nlp.pipe_names if pipe not in pipe_exceptions]\n",
        "with nlp.disable_pipes(*other_pipes):  # only train textcat\n",
        "    optimizer = nlp.begin_training()\n",
        "    \n",
        "    for i in tqdm(range(n_iter)):\n",
        "        losses = {}\n",
        "        random.shuffle(TRAIN_DATA)\n",
        "    \n",
        "        for batch in tqdm(minibatch(TRAIN_DATA, size=50)):\n",
        "            #texts = [nlp(text) for text, entities in batch]\n",
        "            #annotations = [{\"cats\": entities} for text, entities in batch]\n",
        "            texts, annotations = zip(*batch)\n",
        "            try:\n",
        "                nlp.update(texts, annotations, sgd=optimizer, losses=losses)\n",
        "            except:\n",
        "                pass\n",
        "        print('\\n{}. Losses: {}'.format(i, losses))"
      ],
      "execution_count": null,
      "outputs": []
    },
    {
      "cell_type": "code",
      "metadata": {
        "id": "RES6aZkXckEA",
        "colab_type": "code",
        "colab": {}
      },
      "source": [
        "def spacy_prediction(text):\n",
        "    doc = nlp(u'{}'.format(text))  \n",
        "    result = doc.cats\n",
        "    index = np.argmax(result.values())\n",
        "    res_value = list(result.values())[index] * 100\n",
        "    res_label = list(result)[index]\n",
        "    print('Prediction: {}, Value: {} %'.format(res_label, round(res_value)))"
      ],
      "execution_count": null,
      "outputs": []
    },
    {
      "cell_type": "code",
      "metadata": {
        "id": "c53EmE-BdH_3",
        "colab_type": "code",
        "colab": {}
      },
      "source": [
        "spacy_prediction('joy')"
      ],
      "execution_count": null,
      "outputs": []
    },
    {
      "cell_type": "markdown",
      "metadata": {
        "id": "3CN1CDYzE2Ly",
        "colab_type": "text"
      },
      "source": [
        "## **Dropping unnecessary scores**"
      ]
    },
    {
      "cell_type": "code",
      "metadata": {
        "id": "XL7tBcsFEjPH",
        "colab_type": "code",
        "colab": {}
      },
      "source": [
        "sadness.drop(sadness[sadness.score == 0.000000]. index, inplace=True)\n",
        "joy.drop(joy[joy.score == 0.000000]. index, inplace=True)\n",
        "trust.drop(trust[trust.score == 0.000000]. index, inplace=True)\n",
        "anticipation.drop(anticipation[anticipation.score == 0.000000]. index, inplace=True)\n",
        "anger.drop(anger[anger.score == 0.000000]. index, inplace=True)\n",
        "surprise.drop(surprise[surprise.score == 0.000000]. index, inplace=True)\n",
        "fear.drop(fear[fear.score == 0.000000]. index, inplace=True)\n",
        "disgust.drop(disgust[disgust.score == 0.000000]. index, inplace=True)"
      ],
      "execution_count": null,
      "outputs": []
    },
    {
      "cell_type": "code",
      "metadata": {
        "id": "SB7JVJnmI8Hc",
        "colab_type": "code",
        "colab": {}
      },
      "source": [
        "version = '2'\n",
        "df.to_csv('result' + version + '.csv', encoding='utf-8', index=False)"
      ],
      "execution_count": null,
      "outputs": []
    }
  ]
}